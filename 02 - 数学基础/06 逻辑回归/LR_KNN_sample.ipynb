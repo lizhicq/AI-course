{
 "cells": [
  {
   "cell_type": "code",
   "execution_count": 2,
   "metadata": {
    "collapsed": true
   },
   "outputs": [],
   "source": [
    "import pandas as pd\n",
    "import numpy as np\n",
    "import seaborn as sns\n",
    "%matplotlib inline\n",
    "import matplotlib.pyplot as plt\n",
    "from numpy import arange"
   ]
  },
  {
   "cell_type": "code",
   "execution_count": 3,
   "metadata": {
    "collapsed": true
   },
   "outputs": [],
   "source": [
    "# 样本生成模块\n",
    "from sklearn.datasets.samples_generator import make_classification"
   ]
  },
  {
   "cell_type": "markdown",
   "metadata": {},
   "source": [
    "# 随机生成分类数据"
   ]
  },
  {
   "cell_type": "code",
   "execution_count": 4,
   "metadata": {
    "collapsed": false
   },
   "outputs": [],
   "source": [
    "X,labels=make_classification(n_samples=800,n_features=2,n_redundant=0,n_informative=2,\n",
    "                             random_state=2,n_clusters_per_class=2)"
   ]
  },
  {
   "cell_type": "code",
   "execution_count": 5,
   "metadata": {
    "collapsed": false
   },
   "outputs": [
    {
     "data": {
      "text/plain": [
       "(800,)"
      ]
     },
     "execution_count": 5,
     "metadata": {},
     "output_type": "execute_result"
    }
   ],
   "source": [
    "labels.shape"
   ]
  },
  {
   "cell_type": "code",
   "execution_count": 6,
   "metadata": {
    "collapsed": false
   },
   "outputs": [
    {
     "data": {
      "text/plain": [
       "(800, 2)"
      ]
     },
     "execution_count": 6,
     "metadata": {},
     "output_type": "execute_result"
    }
   ],
   "source": [
    "X.shape"
   ]
  },
  {
   "cell_type": "markdown",
   "metadata": {},
   "source": [
    "# 数据做成dataframe"
   ]
  },
  {
   "cell_type": "code",
   "execution_count": 9,
   "metadata": {
    "collapsed": false
   },
   "outputs": [],
   "source": [
    "data_df=pd.DataFrame()\n",
    "data_df['x1']=X[:,0]\n",
    "data_df['x2']=X[:,1]\n",
    "data_df['y']=labels"
   ]
  },
  {
   "cell_type": "code",
   "execution_count": 10,
   "metadata": {
    "collapsed": false
   },
   "outputs": [
    {
     "data": {
      "text/html": [
       "<div>\n",
       "<table border=\"1\" class=\"dataframe\">\n",
       "  <thead>\n",
       "    <tr style=\"text-align: right;\">\n",
       "      <th></th>\n",
       "      <th>x1</th>\n",
       "      <th>x2</th>\n",
       "      <th>y</th>\n",
       "    </tr>\n",
       "  </thead>\n",
       "  <tbody>\n",
       "    <tr>\n",
       "      <th>0</th>\n",
       "      <td>1.063051</td>\n",
       "      <td>-1.021122</td>\n",
       "      <td>1</td>\n",
       "    </tr>\n",
       "    <tr>\n",
       "      <th>1</th>\n",
       "      <td>-0.655795</td>\n",
       "      <td>1.021788</td>\n",
       "      <td>0</td>\n",
       "    </tr>\n",
       "    <tr>\n",
       "      <th>2</th>\n",
       "      <td>0.666927</td>\n",
       "      <td>0.974413</td>\n",
       "      <td>1</td>\n",
       "    </tr>\n",
       "    <tr>\n",
       "      <th>3</th>\n",
       "      <td>-0.534940</td>\n",
       "      <td>1.236946</td>\n",
       "      <td>0</td>\n",
       "    </tr>\n",
       "    <tr>\n",
       "      <th>4</th>\n",
       "      <td>0.810504</td>\n",
       "      <td>0.998536</td>\n",
       "      <td>1</td>\n",
       "    </tr>\n",
       "  </tbody>\n",
       "</table>\n",
       "</div>"
      ],
      "text/plain": [
       "         x1        x2  y\n",
       "0  1.063051 -1.021122  1\n",
       "1 -0.655795  1.021788  0\n",
       "2  0.666927  0.974413  1\n",
       "3 -0.534940  1.236946  0\n",
       "4  0.810504  0.998536  1"
      ]
     },
     "execution_count": 10,
     "metadata": {},
     "output_type": "execute_result"
    }
   ],
   "source": [
    "data_df.head()"
   ]
  },
  {
   "cell_type": "markdown",
   "metadata": {},
   "source": [
    "# 1. 查看数据分布"
   ]
  },
  {
   "cell_type": "code",
   "execution_count": 56,
   "metadata": {
    "collapsed": false
   },
   "outputs": [
    {
     "data": {
      "image/png": "[encoded data removed]",
      "text/plain": [
       "<matplotlib.figure.Figure at 0x10b095eb8>"
      ]
     },
     "metadata": {},
     "output_type": "display_data"
    }
   ],
   "source": [
    "sns.FacetGrid(data_df, hue=\"y\",size=6).map(plt.scatter, 'x1', 'x2').add_legend()\n",
    "plt.show()"
   ]
  },
  {
   "cell_type": "markdown",
   "metadata": {},
   "source": [
    "# 2.划分测试训练集"
   ]
  },
  {
   "cell_type": "code",
   "execution_count": 11,
   "metadata": {
    "collapsed": false
   },
   "outputs": [],
   "source": [
    "# 导入测试集训练集模块\n",
    "from sklearn.model_selection import train_test_split  "
   ]
  },
  {
   "cell_type": "code",
   "execution_count": 12,
   "metadata": {
    "collapsed": false
   },
   "outputs": [
    {
     "name": "stdout",
     "output_type": "stream",
     "text": [
      "(560, 2)\n",
      "(240, 2)\n",
      "(560, 1)\n",
      "(240, 1)\n"
     ]
    }
   ],
   "source": [
    "x_train, x_test, y_train, y_test = train_test_split(data_df.iloc[:,0:2],data_df.iloc[:,2:], test_size = 0.3)  \n",
    "print(x_train.shape)\n",
    "print(x_test.shape)\n",
    "print(y_train.shape)\n",
    "print(y_test.shape)"
   ]
  },
  {
   "cell_type": "code",
   "execution_count": 13,
   "metadata": {
    "collapsed": false
   },
   "outputs": [
    {
     "data": {
      "image/png": "[encoded data removed]",
      "text/plain": [
       "<matplotlib.figure.Figure at 0x109bc3c88>"
      ]
     },
     "metadata": {},
     "output_type": "display_data"
    }
   ],
   "source": [
    "sns.FacetGrid(pd.concat([x_train,y_train],axis=1), hue=\"y\",size=4).map(plt.scatter, 'x1', 'x2').add_legend()\n",
    "plt.show()"
   ]
  },
  {
   "cell_type": "code",
   "execution_count": 14,
   "metadata": {
    "collapsed": true
   },
   "outputs": [],
   "source": [
    "def plot_traintest(x_train, x_test, y_train, y_test):\n",
    "    plt.figure(figsize=(8,6))\n",
    "    neg_train=y_train==0\n",
    "    pos_train=y_train==1\n",
    "    neg_test=y_test==0\n",
    "    pos_test=y_test==1\n",
    "    plt.scatter(x_train[neg_train['y']].ix[:,0].values,x_train[neg_train['y']].ix[:,1].values,c='r')\n",
    "    plt.scatter(x_train[pos_train['y']].ix[:,0].values,x_train[pos_train['y']].ix[:,1].values,c='b')\n",
    "    plt.scatter(x_test[neg_test['y']].ix[:,0].values,x_test[neg_test['y']].ix[:,1].values,c='m',marker='+')\n",
    "    plt.scatter(x_test[pos_test['y']].ix[:,0].values,x_test[pos_test['y']].ix[:,1].values,c='y',marker='^')\n",
    "    plt.show()"
   ]
  },
  {
   "cell_type": "code",
   "execution_count": 15,
   "metadata": {
    "collapsed": false
   },
   "outputs": [
    {
     "data": {
      "image/png": "[encoded data removed]",
      "text/plain": [
       "<matplotlib.figure.Figure at 0x109ce49e8>"
      ]
     },
     "metadata": {},
     "output_type": "display_data"
    }
   ],
   "source": [
    "plot_traintest(x_train, x_test, y_train, y_test)"
   ]
  },
  {
   "cell_type": "code",
   "execution_count": 20,
   "metadata": {
    "collapsed": false
   },
   "outputs": [
    {
     "name": "stderr",
     "output_type": "stream",
     "text": [
      "/Library/Frameworks/Python.framework/Versions/3.4/lib/python3.4/site-packages/sklearn/utils/validation.py:526: DataConversionWarning: A column-vector y was passed when a 1d array was expected. Please change the shape of y to (n_samples, ), for example using ravel().\n",
      "  y = column_or_1d(y, warn=True)\n"
     ]
    }
   ],
   "source": [
    "# LR 预测\n",
    "from sklearn.linear_model.logistic import  LogisticRegression  \n",
    "LR = LogisticRegression()\n",
    "LR.fit(x_train,y_train) ### theta\n",
    "predictions_LR = LR.predict(x_test)  \n",
    "prob_LR=LR.predict_proba(x_test)"
   ]
  },
  {
   "cell_type": "code",
   "execution_count": 21,
   "metadata": {
    "collapsed": false
   },
   "outputs": [
    {
     "data": {
      "text/plain": [
       "array([1, 0, 0, 0, 1, 0, 1, 1, 1, 1, 0, 1, 1, 1, 1, 0, 1, 1, 1, 1, 1, 0, 1,\n",
       "       0, 0, 0, 1, 1, 0, 1, 1, 0, 1, 0, 1, 0, 1, 0, 0, 0, 0, 1, 1, 0, 1, 0,\n",
       "       1, 0, 0, 1, 1, 1, 1, 0, 0, 1, 1, 1, 1, 1, 0, 1, 0, 0, 1, 1, 0, 0, 1,\n",
       "       1, 1, 1, 0, 0, 1, 1, 1, 0, 0, 1, 1, 1, 0, 1, 1, 0, 1, 1, 1, 1, 1, 0,\n",
       "       0, 1, 0, 1, 0, 1, 1, 1, 1, 0, 0, 0, 0, 0, 0, 1, 1, 0, 0, 0, 0, 1, 0,\n",
       "       0, 0, 1, 0, 0, 1, 0, 1, 1, 1, 1, 1, 1, 0, 1, 0, 1, 0, 1, 1, 1, 0, 1,\n",
       "       0, 1, 1, 1, 0, 1, 0, 1, 1, 1, 1, 0, 0, 0, 0, 0, 1, 1, 1, 1, 1, 1, 0,\n",
       "       1, 1, 1, 0, 0, 0, 1, 1, 0, 0, 0, 0, 1, 1, 1, 0, 1, 0, 0, 1, 0, 0, 1,\n",
       "       1, 1, 0, 1, 1, 0, 1, 0, 0, 0, 1, 0, 0, 0, 1, 0, 0, 1, 0, 1, 1, 0, 1,\n",
       "       1, 0, 1, 0, 1, 1, 1, 0, 1, 1, 0, 1, 0, 0, 1, 1, 0, 1, 0, 0, 1, 1, 0,\n",
       "       0, 1, 0, 0, 1, 0, 1, 0, 0, 0])"
      ]
     },
     "execution_count": 21,
     "metadata": {},
     "output_type": "execute_result"
    }
   ],
   "source": [
    "predictions_LR"
   ]
  },
  {
   "cell_type": "code",
   "execution_count": 22,
   "metadata": {
    "collapsed": false
   },
   "outputs": [
    {
     "data": {
      "text/plain": [
       "array([[  9.70148943e-03,   9.90298511e-01],\n",
       "       [  9.97271738e-01,   2.72826172e-03],\n",
       "       [  9.97004289e-01,   2.99571081e-03],\n",
       "       [  9.98950567e-01,   1.04943343e-03],\n",
       "       [  3.27426627e-04,   9.99672573e-01],\n",
       "       [  9.99498685e-01,   5.01315234e-04],\n",
       "       [  2.39198343e-02,   9.76080166e-01],\n",
       "       [  3.92498255e-02,   9.60750174e-01],\n",
       "       [  7.51052090e-02,   9.24894791e-01],\n",
       "       [  1.09584142e-02,   9.89041586e-01],\n",
       "       [  9.98238931e-01,   1.76106865e-03],\n",
       "       [  2.49293857e-02,   9.75070614e-01],\n",
       "       [  1.22894108e-02,   9.87710589e-01],\n",
       "       [  2.04696074e-02,   9.79530393e-01],\n",
       "       [  4.33334336e-02,   9.56666566e-01],\n",
       "       [  8.16976876e-01,   1.83023124e-01],\n",
       "       [  1.99151149e-02,   9.80084885e-01],\n",
       "       [  5.38670433e-02,   9.46132957e-01],\n",
       "       [  4.89795386e-02,   9.51020461e-01],\n",
       "       [  9.59609098e-03,   9.90403909e-01],\n",
       "       [  1.23620927e-02,   9.87637907e-01],\n",
       "       [  9.81286644e-01,   1.87133558e-02],\n",
       "       [  7.03900869e-02,   9.29609913e-01],\n",
       "       [  9.84213610e-01,   1.57863897e-02],\n",
       "       [  9.69939964e-01,   3.00600357e-02],\n",
       "       [  9.99977146e-01,   2.28537481e-05],\n",
       "       [  3.86857651e-02,   9.61314235e-01],\n",
       "       [  1.61702795e-02,   9.83829720e-01],\n",
       "       [  9.64545898e-01,   3.54541018e-02],\n",
       "       [  2.24953238e-01,   7.75046762e-01],\n",
       "       [  7.96426252e-02,   9.20357375e-01],\n",
       "       [  9.85737089e-01,   1.42629107e-02],\n",
       "       [  4.41822468e-02,   9.55817753e-01],\n",
       "       [  9.97504916e-01,   2.49508436e-03],\n",
       "       [  2.43831092e-01,   7.56168908e-01],\n",
       "       [  9.69063834e-01,   3.09361662e-02],\n",
       "       [  2.81035619e-02,   9.71896438e-01],\n",
       "       [  5.09161728e-01,   4.90838272e-01],\n",
       "       [  9.88343407e-01,   1.16565934e-02],\n",
       "       [  9.84317651e-01,   1.56823490e-02],\n",
       "       [  9.49350119e-01,   5.06498812e-02],\n",
       "       [  1.34117819e-03,   9.98658822e-01],\n",
       "       [  3.46401318e-02,   9.65359868e-01],\n",
       "       [  9.70802961e-01,   2.91970393e-02],\n",
       "       [  1.89092323e-01,   8.10907677e-01],\n",
       "       [  9.80684065e-01,   1.93159348e-02],\n",
       "       [  6.88607859e-02,   9.31139214e-01],\n",
       "       [  9.92815627e-01,   7.18437341e-03],\n",
       "       [  9.81052455e-01,   1.89475447e-02],\n",
       "       [  4.20271235e-01,   5.79728765e-01],\n",
       "       [  6.59663359e-03,   9.93403366e-01],\n",
       "       [  2.78970060e-02,   9.72102994e-01],\n",
       "       [  1.37390165e-02,   9.86260983e-01],\n",
       "       [  9.76883547e-01,   2.31164535e-02],\n",
       "       [  9.95288214e-01,   4.71178618e-03],\n",
       "       [  3.98464680e-02,   9.60153532e-01],\n",
       "       [  1.62568328e-02,   9.83743167e-01],\n",
       "       [  2.83667158e-02,   9.71633284e-01],\n",
       "       [  2.05727369e-01,   7.94272631e-01],\n",
       "       [  4.26243767e-01,   5.73756233e-01],\n",
       "       [  9.90050298e-01,   9.94970218e-03],\n",
       "       [  5.55673537e-02,   9.44432646e-01],\n",
       "       [  9.57764461e-01,   4.22355386e-02],\n",
       "       [  7.22822895e-01,   2.77177105e-01],\n",
       "       [  6.37293057e-02,   9.36270694e-01],\n",
       "       [  1.70658420e-02,   9.82934158e-01],\n",
       "       [  8.68173444e-01,   1.31826556e-01],\n",
       "       [  9.99562576e-01,   4.37423547e-04],\n",
       "       [  1.17864357e-01,   8.82135643e-01],\n",
       "       [  4.86909088e-02,   9.51309091e-01],\n",
       "       [  7.41293613e-02,   9.25870639e-01],\n",
       "       [  2.22390280e-02,   9.77760972e-01],\n",
       "       [  9.77567812e-01,   2.24321883e-02],\n",
       "       [  6.27681292e-01,   3.72318708e-01],\n",
       "       [  1.05424657e-01,   8.94575343e-01],\n",
       "       [  4.14330250e-02,   9.58566975e-01],\n",
       "       [  4.46349747e-02,   9.55365025e-01],\n",
       "       [  9.65501423e-01,   3.44985768e-02],\n",
       "       [  9.23849407e-01,   7.61505928e-02],\n",
       "       [  9.31683804e-03,   9.90683162e-01],\n",
       "       [  5.88587942e-02,   9.41141206e-01],\n",
       "       [  2.92219582e-02,   9.70778042e-01],\n",
       "       [  9.21755189e-01,   7.82448112e-02],\n",
       "       [  1.03419590e-02,   9.89658041e-01],\n",
       "       [  3.58065612e-02,   9.64193439e-01],\n",
       "       [  9.80862490e-01,   1.91375095e-02],\n",
       "       [  9.51572718e-02,   9.04842728e-01],\n",
       "       [  4.21415145e-02,   9.57858485e-01],\n",
       "       [  6.70684402e-02,   9.32931560e-01],\n",
       "       [  5.62456441e-02,   9.43754356e-01],\n",
       "       [  3.97440679e-02,   9.60255932e-01],\n",
       "       [  6.02771550e-01,   3.97228450e-01],\n",
       "       [  5.95980454e-01,   4.04019546e-01],\n",
       "       [  3.38371146e-03,   9.96616289e-01],\n",
       "       [  9.83837737e-01,   1.61622635e-02],\n",
       "       [  8.22516582e-02,   9.17748342e-01],\n",
       "       [  9.40730934e-01,   5.92690656e-02],\n",
       "       [  5.80161275e-02,   9.41983873e-01],\n",
       "       [  2.06395384e-02,   9.79360462e-01],\n",
       "       [  3.50213403e-02,   9.64978660e-01],\n",
       "       [  1.27810906e-02,   9.87218909e-01],\n",
       "       [  6.65927757e-01,   3.34072243e-01],\n",
       "       [  9.88888064e-01,   1.11119362e-02],\n",
       "       [  8.09676058e-01,   1.90323942e-01],\n",
       "       [  9.81183873e-01,   1.88161268e-02],\n",
       "       [  9.99994743e-01,   5.25700001e-06],\n",
       "       [  7.02782673e-01,   2.97217327e-01],\n",
       "       [  7.12142995e-02,   9.28785700e-01],\n",
       "       [  1.41574484e-01,   8.58425516e-01],\n",
       "       [  9.96086518e-01,   3.91348158e-03],\n",
       "       [  9.71021837e-01,   2.89781626e-02],\n",
       "       [  9.91300141e-01,   8.69985920e-03],\n",
       "       [  8.26000315e-01,   1.73999685e-01],\n",
       "       [  1.37507692e-01,   8.62492308e-01],\n",
       "       [  9.49998939e-01,   5.00010613e-02],\n",
       "       [  9.97338905e-01,   2.66109477e-03],\n",
       "       [  9.74605447e-01,   2.53945526e-02],\n",
       "       [  6.10512482e-02,   9.38948752e-01],\n",
       "       [  9.78237916e-01,   2.17620841e-02],\n",
       "       [  9.86467398e-01,   1.35326020e-02],\n",
       "       [  9.27309085e-02,   9.07269091e-01],\n",
       "       [  9.79282513e-01,   2.07174870e-02],\n",
       "       [  4.01791743e-03,   9.95982083e-01],\n",
       "       [  4.49186207e-03,   9.95508138e-01],\n",
       "       [  6.65677689e-03,   9.93343223e-01],\n",
       "       [  5.14619729e-02,   9.48538027e-01],\n",
       "       [  2.34382167e-02,   9.76561783e-01],\n",
       "       [  3.29934834e-02,   9.67006517e-01],\n",
       "       [  9.95152717e-01,   4.84728277e-03],\n",
       "       [  1.40660039e-01,   8.59339961e-01],\n",
       "       [  9.99348065e-01,   6.51934832e-04],\n",
       "       [  3.54452731e-02,   9.64554727e-01],\n",
       "       [  9.93306145e-01,   6.69385504e-03],\n",
       "       [  6.57697672e-04,   9.99342302e-01],\n",
       "       [  8.96633457e-04,   9.99103367e-01],\n",
       "       [  2.50270925e-02,   9.74972907e-01],\n",
       "       [  9.99887460e-01,   1.12539808e-04],\n",
       "       [  5.19151176e-02,   9.48084882e-01],\n",
       "       [  9.83643888e-01,   1.63561123e-02],\n",
       "       [  2.25067138e-02,   9.77493286e-01],\n",
       "       [  5.55994860e-03,   9.94440051e-01],\n",
       "       [  1.57729345e-02,   9.84227065e-01],\n",
       "       [  9.88720085e-01,   1.12799149e-02],\n",
       "       [  2.35233066e-02,   9.76476693e-01],\n",
       "       [  9.82166262e-01,   1.78337385e-02],\n",
       "       [  2.17053018e-02,   9.78294698e-01],\n",
       "       [  1.94095721e-02,   9.80590428e-01],\n",
       "       [  4.62495680e-02,   9.53750432e-01],\n",
       "       [  3.35209666e-02,   9.66479033e-01],\n",
       "       [  9.86413799e-01,   1.35862011e-02],\n",
       "       [  9.82902503e-01,   1.70974971e-02],\n",
       "       [  8.34708803e-01,   1.65291197e-01],\n",
       "       [  9.69198713e-01,   3.08012869e-02],\n",
       "       [  5.98977771e-01,   4.01022229e-01],\n",
       "       [  2.24202668e-02,   9.77579733e-01],\n",
       "       [  8.79910970e-03,   9.91200890e-01],\n",
       "       [  7.69804197e-02,   9.23019580e-01],\n",
       "       [  5.47892173e-02,   9.45210783e-01],\n",
       "       [  1.02563496e-02,   9.89743650e-01],\n",
       "       [  5.10907478e-02,   9.48909252e-01],\n",
       "       [  9.81425905e-01,   1.85740951e-02],\n",
       "       [  1.68902523e-02,   9.83109748e-01],\n",
       "       [  5.46690986e-02,   9.45330901e-01],\n",
       "       [  2.16652226e-02,   9.78334777e-01],\n",
       "       [  9.83072651e-01,   1.69273487e-02],\n",
       "       [  9.73465623e-01,   2.65343767e-02],\n",
       "       [  8.45069123e-01,   1.54930877e-01],\n",
       "       [  1.82134549e-02,   9.81786545e-01],\n",
       "       [  6.79220428e-02,   9.32077957e-01],\n",
       "       [  9.99513238e-01,   4.86761538e-04],\n",
       "       [  9.96486376e-01,   3.51362391e-03],\n",
       "       [  9.88373332e-01,   1.16266685e-02],\n",
       "       [  5.72326764e-01,   4.27673236e-01],\n",
       "       [  2.53595907e-02,   9.74640409e-01],\n",
       "       [  4.65579447e-02,   9.53442055e-01],\n",
       "       [  4.67815823e-02,   9.53218418e-01],\n",
       "       [  8.04769093e-01,   1.95230907e-01],\n",
       "       [  1.39331397e-02,   9.86066860e-01],\n",
       "       [  9.70222888e-01,   2.97771120e-02],\n",
       "       [  9.80392643e-01,   1.96073573e-02],\n",
       "       [  4.70721616e-01,   5.29278384e-01],\n",
       "       [  8.49268240e-01,   1.50731760e-01],\n",
       "       [  5.93280324e-01,   4.06719676e-01],\n",
       "       [  2.69953498e-02,   9.73004650e-01],\n",
       "       [  8.18383122e-02,   9.18161688e-01],\n",
       "       [  4.50164894e-02,   9.54983511e-01],\n",
       "       [  9.87174723e-01,   1.28252766e-02],\n",
       "       [  4.22218946e-02,   9.57778105e-01],\n",
       "       [  2.32359705e-02,   9.76764030e-01],\n",
       "       [  9.77430118e-01,   2.25698823e-02],\n",
       "       [  6.73168626e-02,   9.32683137e-01],\n",
       "       [  9.95758726e-01,   4.24127401e-03],\n",
       "       [  9.95126105e-01,   4.87389543e-03],\n",
       "       [  9.68267081e-01,   3.17329185e-02],\n",
       "       [  1.32370990e-01,   8.67629010e-01],\n",
       "       [  9.84465155e-01,   1.55348452e-02],\n",
       "       [  9.91441949e-01,   8.55805123e-03],\n",
       "       [  9.58209990e-01,   4.17900098e-02],\n",
       "       [  1.68680774e-04,   9.99831319e-01],\n",
       "       [  9.78566028e-01,   2.14339717e-02],\n",
       "       [  9.86443666e-01,   1.35563344e-02],\n",
       "       [  2.14330818e-01,   7.85669182e-01],\n",
       "       [  9.84477255e-01,   1.55227449e-02],\n",
       "       [  1.79114311e-01,   8.20885689e-01],\n",
       "       [  2.12325787e-02,   9.78767421e-01],\n",
       "       [  9.86238677e-01,   1.37613231e-02],\n",
       "       [  2.83677002e-02,   9.71632300e-01],\n",
       "       [  2.69415512e-01,   7.30584488e-01],\n",
       "       [  7.94077090e-01,   2.05922910e-01],\n",
       "       [  1.30550804e-02,   9.86944920e-01],\n",
       "       [  9.75954292e-01,   2.40457075e-02],\n",
       "       [  1.81442746e-02,   9.81855725e-01],\n",
       "       [  1.21216261e-02,   9.87878374e-01],\n",
       "       [  1.75694639e-02,   9.82430536e-01],\n",
       "       [  9.61761623e-01,   3.82383773e-02],\n",
       "       [  3.37880715e-02,   9.66211928e-01],\n",
       "       [  1.24069068e-02,   9.87593093e-01],\n",
       "       [  9.86350833e-01,   1.36491671e-02],\n",
       "       [  2.66908639e-01,   7.33091361e-01],\n",
       "       [  8.14070049e-01,   1.85929951e-01],\n",
       "       [  9.99877655e-01,   1.22345056e-04],\n",
       "       [  1.37876957e-01,   8.62123043e-01],\n",
       "       [  3.25722538e-02,   9.67427746e-01],\n",
       "       [  9.70353022e-01,   2.96469776e-02],\n",
       "       [  5.42796305e-03,   9.94572037e-01],\n",
       "       [  9.83108059e-01,   1.68919408e-02],\n",
       "       [  9.80986004e-01,   1.90139961e-02],\n",
       "       [  1.99492529e-02,   9.80050747e-01],\n",
       "       [  5.86913080e-03,   9.94130869e-01],\n",
       "       [  5.09586437e-01,   4.90413563e-01],\n",
       "       [  9.97413951e-01,   2.58604941e-03],\n",
       "       [  7.67656299e-03,   9.92323437e-01],\n",
       "       [  7.37778506e-01,   2.62221494e-01],\n",
       "       [  9.92025659e-01,   7.97434146e-03],\n",
       "       [  1.61004362e-02,   9.83899564e-01],\n",
       "       [  9.56545246e-01,   4.34547538e-02],\n",
       "       [  3.39301841e-02,   9.66069816e-01],\n",
       "       [  6.37848279e-01,   3.62151721e-01],\n",
       "       [  9.89203203e-01,   1.07967967e-02],\n",
       "       [  9.86209278e-01,   1.37907216e-02]])"
      ]
     },
     "execution_count": 22,
     "metadata": {},
     "output_type": "execute_result"
    }
   ],
   "source": [
    "prob_LR"
   ]
  },
  {
   "cell_type": "code",
   "execution_count": 64,
   "metadata": {
    "collapsed": false
   },
   "outputs": [
    {
     "data": {
      "text/plain": [
       "array([1, 0, 0, 1, 1, 0, 1, 0, 1, 1, 0, 1, 1, 0, 1, 0, 0, 0, 0, 0, 0, 1, 1,\n",
       "       1, 1, 1, 0, 1, 1, 1, 0, 1, 1, 1, 1, 1, 1, 0, 1, 1, 0, 1, 1, 1, 1, 0,\n",
       "       0, 1, 1, 1, 1, 1, 1, 0, 0, 1, 0, 0, 0, 0, 1, 0, 1, 0, 1, 1, 1, 1, 1,\n",
       "       0, 1, 1, 1, 0, 1, 0, 0, 0, 1, 0, 1, 1, 1, 0, 1, 1, 0, 0, 1, 0, 1, 0,\n",
       "       1, 1, 1, 0, 0, 0, 0, 0, 0, 0, 1, 0, 0, 1, 0, 1, 1, 0, 1, 1, 0, 0, 1,\n",
       "       1, 1, 0, 0, 1, 1, 1, 1, 0, 0, 1, 0, 0, 1, 0, 0, 1, 0, 1, 0, 0, 1, 1,\n",
       "       0, 1, 1, 0, 0, 0, 1, 0, 1, 0, 1, 1, 0, 1, 1, 0, 0, 1, 0, 1, 0, 1, 0,\n",
       "       0, 0, 1, 1, 0, 1, 1, 0, 0, 1, 0, 0, 1, 0, 1, 1, 1, 0, 0, 1, 1, 0, 0,\n",
       "       1, 0, 0, 0, 1, 1, 0, 0, 0, 1, 1, 0, 0, 0, 1, 1, 0, 0, 0, 1, 1, 1, 1,\n",
       "       1, 0, 1, 1, 0, 0, 1, 0, 1, 1, 0, 1, 1, 1, 0, 1, 0, 1, 1, 1, 0, 0, 0,\n",
       "       0, 0, 0, 1, 1, 0, 1, 0, 0, 1])"
      ]
     },
     "execution_count": 64,
     "metadata": {},
     "output_type": "execute_result"
    }
   ],
   "source": [
    "predictions_LR"
   ]
  },
  {
   "cell_type": "code",
   "execution_count": 65,
   "metadata": {
    "collapsed": false
   },
   "outputs": [
    {
     "data": {
      "text/plain": [
       "array([[  1.03164078e-02,   9.89683592e-01],\n",
       "       [  6.84153679e-01,   3.15846321e-01],\n",
       "       [  9.63229582e-01,   3.67704184e-02],\n",
       "       [  2.82486897e-01,   7.17513103e-01],\n",
       "       [  5.92038415e-02,   9.40796158e-01],\n",
       "       [  9.85185220e-01,   1.48147804e-02],\n",
       "       [  6.65263099e-02,   9.33473690e-01],\n",
       "       [  9.76443829e-01,   2.35561712e-02],\n",
       "       [  1.86207805e-02,   9.81379220e-01],\n",
       "       [  6.07424855e-02,   9.39257515e-01],\n",
       "       [  9.87298923e-01,   1.27010769e-02],\n",
       "       [  7.57282879e-02,   9.24271712e-01],\n",
       "       [  1.92037341e-02,   9.80796266e-01],\n",
       "       [  5.35224576e-01,   4.64775424e-01],\n",
       "       [  2.46194265e-02,   9.75380573e-01],\n",
       "       [  9.67639306e-01,   3.23606940e-02],\n",
       "       [  7.92492561e-01,   2.07507439e-01],\n",
       "       [  9.97377298e-01,   2.62270217e-03],\n",
       "       [  9.82466277e-01,   1.75337232e-02],\n",
       "       [  9.92050954e-01,   7.94904636e-03],\n",
       "       [  9.92167479e-01,   7.83252149e-03],\n",
       "       [  9.92876605e-03,   9.90071234e-01],\n",
       "       [  3.69626577e-02,   9.63037342e-01],\n",
       "       [  1.28190100e-02,   9.87180990e-01],\n",
       "       [  3.79761130e-02,   9.62023887e-01],\n",
       "       [  6.40147744e-03,   9.93598523e-01],\n",
       "       [  9.91269666e-01,   8.73033368e-03],\n",
       "       [  3.21808430e-02,   9.67819157e-01],\n",
       "       [  1.04257832e-02,   9.89574217e-01],\n",
       "       [  4.41761217e-02,   9.55823878e-01],\n",
       "       [  9.89072212e-01,   1.09277884e-02],\n",
       "       [  1.12800271e-02,   9.88719973e-01],\n",
       "       [  3.27053625e-02,   9.67294638e-01],\n",
       "       [  1.15691816e-02,   9.88430818e-01],\n",
       "       [  8.19438136e-03,   9.91805619e-01],\n",
       "       [  2.72940419e-02,   9.72705958e-01],\n",
       "       [  8.65685240e-03,   9.91343148e-01],\n",
       "       [  9.87615555e-01,   1.23844450e-02],\n",
       "       [  1.24116175e-02,   9.87588383e-01],\n",
       "       [  1.04099305e-01,   8.95900695e-01],\n",
       "       [  8.67575515e-01,   1.32424485e-01],\n",
       "       [  4.88459875e-02,   9.51154013e-01],\n",
       "       [  2.20087901e-02,   9.77991210e-01],\n",
       "       [  8.94989455e-02,   9.10501055e-01],\n",
       "       [  2.34341733e-01,   7.65658267e-01],\n",
       "       [  9.75329833e-01,   2.46701670e-02],\n",
       "       [  9.84919493e-01,   1.50805068e-02],\n",
       "       [  1.45578695e-03,   9.98544213e-01],\n",
       "       [  3.33389024e-02,   9.66661098e-01],\n",
       "       [  2.43308480e-02,   9.75669152e-01],\n",
       "       [  1.42276896e-02,   9.85772310e-01],\n",
       "       [  1.63250353e-03,   9.98367496e-01],\n",
       "       [  1.11754939e-02,   9.88824506e-01],\n",
       "       [  9.99944404e-01,   5.55959271e-05],\n",
       "       [  9.99987117e-01,   1.28831829e-05],\n",
       "       [  3.39263192e-01,   6.60736808e-01],\n",
       "       [  9.69423903e-01,   3.05760966e-02],\n",
       "       [  8.95865704e-01,   1.04134296e-01],\n",
       "       [  9.98851572e-01,   1.14842777e-03],\n",
       "       [  9.89514396e-01,   1.04856038e-02],\n",
       "       [  2.87008162e-02,   9.71299184e-01],\n",
       "       [  9.92775601e-01,   7.22439870e-03],\n",
       "       [  1.47839852e-01,   8.52160148e-01],\n",
       "       [  9.93128514e-01,   6.87148636e-03],\n",
       "       [  4.16351089e-02,   9.58364891e-01],\n",
       "       [  7.87491014e-03,   9.92125090e-01],\n",
       "       [  1.18743074e-02,   9.88125693e-01],\n",
       "       [  9.66275640e-03,   9.90337244e-01],\n",
       "       [  5.37152056e-02,   9.46284794e-01],\n",
       "       [  9.89202972e-01,   1.07970278e-02],\n",
       "       [  1.31243052e-01,   8.68756948e-01],\n",
       "       [  2.22407828e-02,   9.77759217e-01],\n",
       "       [  5.69386382e-03,   9.94306136e-01],\n",
       "       [  9.90169632e-01,   9.83036837e-03],\n",
       "       [  2.15794425e-02,   9.78420557e-01],\n",
       "       [  9.92662631e-01,   7.33736862e-03],\n",
       "       [  9.94883652e-01,   5.11634779e-03],\n",
       "       [  7.05179386e-01,   2.94820614e-01],\n",
       "       [  7.79031130e-02,   9.22096887e-01],\n",
       "       [  9.86541242e-01,   1.34587578e-02],\n",
       "       [  7.24359192e-02,   9.27564081e-01],\n",
       "       [  2.46090896e-02,   9.75390910e-01],\n",
       "       [  2.30741907e-02,   9.76925809e-01],\n",
       "       [  8.12412460e-01,   1.87587540e-01],\n",
       "       [  6.49010032e-04,   9.99350990e-01],\n",
       "       [  1.47228732e-02,   9.85277127e-01],\n",
       "       [  7.15878495e-01,   2.84121505e-01],\n",
       "       [  9.95920630e-01,   4.07936988e-03],\n",
       "       [  1.03830555e-01,   8.96169445e-01],\n",
       "       [  9.95558819e-01,   4.44118090e-03],\n",
       "       [  1.95453984e-02,   9.80454602e-01],\n",
       "       [  9.94852704e-01,   5.14729645e-03],\n",
       "       [  5.80306290e-02,   9.41969371e-01],\n",
       "       [  7.73033670e-02,   9.22696633e-01],\n",
       "       [  1.98407468e-01,   8.01592532e-01],\n",
       "       [  7.13037869e-01,   2.86962131e-01],\n",
       "       [  9.82472176e-01,   1.75278241e-02],\n",
       "       [  9.86419598e-01,   1.35804025e-02],\n",
       "       [  7.05284987e-01,   2.94715013e-01],\n",
       "       [  9.94702631e-01,   5.29736943e-03],\n",
       "       [  9.92822276e-01,   7.17772440e-03],\n",
       "       [  9.89901529e-01,   1.00984707e-02],\n",
       "       [  8.48221062e-03,   9.91517789e-01],\n",
       "       [  9.53903505e-01,   4.60964946e-02],\n",
       "       [  9.97000051e-01,   2.99994905e-03],\n",
       "       [  1.34578081e-02,   9.86542192e-01],\n",
       "       [  9.89689506e-01,   1.03104939e-02],\n",
       "       [  1.21730551e-01,   8.78269449e-01],\n",
       "       [  5.01826572e-03,   9.94981734e-01],\n",
       "       [  9.88795129e-01,   1.12048715e-02],\n",
       "       [  8.85018913e-02,   9.11498109e-01],\n",
       "       [  5.29981241e-02,   9.47001876e-01],\n",
       "       [  9.94417665e-01,   5.58233474e-03],\n",
       "       [  9.84962880e-01,   1.50371204e-02],\n",
       "       [  2.32592770e-02,   9.76740723e-01],\n",
       "       [  3.23208309e-02,   9.67679169e-01],\n",
       "       [  1.18816222e-01,   8.81183778e-01],\n",
       "       [  9.40838123e-01,   5.91618772e-02],\n",
       "       [  9.87067143e-01,   1.29328573e-02],\n",
       "       [  1.82796161e-02,   9.81720384e-01],\n",
       "       [  1.43134264e-02,   9.85686574e-01],\n",
       "       [  6.64959441e-03,   9.93350406e-01],\n",
       "       [  3.90910861e-02,   9.60908914e-01],\n",
       "       [  9.92431814e-01,   7.56818640e-03],\n",
       "       [  9.87252762e-01,   1.27472377e-02],\n",
       "       [  1.78175075e-02,   9.82182492e-01],\n",
       "       [  9.37592673e-01,   6.24073270e-02],\n",
       "       [  9.94361008e-01,   5.63899227e-03],\n",
       "       [  1.83956741e-01,   8.16043259e-01],\n",
       "       [  9.84154696e-01,   1.58453041e-02],\n",
       "       [  9.79487162e-01,   2.05128379e-02],\n",
       "       [  1.23839219e-02,   9.87616078e-01],\n",
       "       [  9.89714451e-01,   1.02855489e-02],\n",
       "       [  8.08496505e-02,   9.19150350e-01],\n",
       "       [  9.94305749e-01,   5.69425103e-03],\n",
       "       [  9.92244523e-01,   7.75547743e-03],\n",
       "       [  2.08861283e-02,   9.79113872e-01],\n",
       "       [  4.96893377e-01,   5.03106623e-01],\n",
       "       [  9.74842305e-01,   2.51576952e-02],\n",
       "       [  1.52784576e-02,   9.84721542e-01],\n",
       "       [  3.02976014e-03,   9.96970240e-01],\n",
       "       [  9.91504865e-01,   8.49513460e-03],\n",
       "       [  9.87613652e-01,   1.23863483e-02],\n",
       "       [  9.99989810e-01,   1.01897853e-05],\n",
       "       [  3.73745195e-02,   9.62625480e-01],\n",
       "       [  9.94737242e-01,   5.26275796e-03],\n",
       "       [  3.19649550e-02,   9.68035045e-01],\n",
       "       [  9.84199657e-01,   1.58003427e-02],\n",
       "       [  3.07353172e-02,   9.69264683e-01],\n",
       "       [  4.39720173e-02,   9.56027983e-01],\n",
       "       [  9.70290516e-01,   2.97094837e-02],\n",
       "       [  1.33562300e-02,   9.86643770e-01],\n",
       "       [  4.06344242e-02,   9.59365576e-01],\n",
       "       [  8.27304425e-01,   1.72695575e-01],\n",
       "       [  9.87800780e-01,   1.21992199e-02],\n",
       "       [  4.12574365e-02,   9.58742563e-01],\n",
       "       [  9.88146831e-01,   1.18531691e-02],\n",
       "       [  1.15584531e-01,   8.84415469e-01],\n",
       "       [  9.86153231e-01,   1.38467687e-02],\n",
       "       [  2.09322001e-01,   7.90677999e-01],\n",
       "       [  9.89472792e-01,   1.05272080e-02],\n",
       "       [  9.80023247e-01,   1.99767535e-02],\n",
       "       [  9.70099277e-01,   2.99007228e-02],\n",
       "       [  4.66320384e-02,   9.53367962e-01],\n",
       "       [  1.47944564e-02,   9.85205544e-01],\n",
       "       [  9.89648925e-01,   1.03510753e-02],\n",
       "       [  2.40432630e-01,   7.59567370e-01],\n",
       "       [  3.07447657e-02,   9.69255234e-01],\n",
       "       [  8.81959302e-01,   1.18040698e-01],\n",
       "       [  9.96035919e-01,   3.96408115e-03],\n",
       "       [  4.04399975e-02,   9.59560003e-01],\n",
       "       [  9.94076284e-01,   5.92371633e-03],\n",
       "       [  9.92099004e-01,   7.90099555e-03],\n",
       "       [  1.06808872e-02,   9.89319113e-01],\n",
       "       [  9.75104599e-01,   2.48954010e-02],\n",
       "       [  2.62712570e-02,   9.73728743e-01],\n",
       "       [  1.34455374e-02,   9.86554463e-01],\n",
       "       [  1.65543339e-01,   8.34456661e-01],\n",
       "       [  9.86100434e-01,   1.38995662e-02],\n",
       "       [  9.84058662e-01,   1.59413384e-02],\n",
       "       [  4.86957229e-02,   9.51304277e-01],\n",
       "       [  3.61539353e-03,   9.96384606e-01],\n",
       "       [  9.70218524e-01,   2.97814762e-02],\n",
       "       [  9.93016695e-01,   6.98330456e-03],\n",
       "       [  2.65802723e-02,   9.73419728e-01],\n",
       "       [  9.30334979e-01,   6.96650215e-02],\n",
       "       [  9.92867775e-01,   7.13222461e-03],\n",
       "       [  9.89557502e-01,   1.04424982e-02],\n",
       "       [  2.25436952e-02,   9.77456305e-01],\n",
       "       [  2.13405542e-02,   9.78659446e-01],\n",
       "       [  9.84769614e-01,   1.52303864e-02],\n",
       "       [  9.89558239e-01,   1.04417614e-02],\n",
       "       [  9.91385686e-01,   8.61431382e-03],\n",
       "       [  1.52731137e-02,   9.84726886e-01],\n",
       "       [  1.59557607e-02,   9.84044239e-01],\n",
       "       [  9.92431549e-01,   7.56845133e-03],\n",
       "       [  9.91271586e-01,   8.72841414e-03],\n",
       "       [  9.95786964e-01,   4.21303609e-03],\n",
       "       [  1.72000653e-02,   9.82799935e-01],\n",
       "       [  1.71040170e-02,   9.82895983e-01],\n",
       "       [  9.94281228e-01,   5.71877169e-03],\n",
       "       [  9.83005579e-01,   1.69944205e-02],\n",
       "       [  9.96556048e-01,   3.44395157e-03],\n",
       "       [  7.04835820e-03,   9.92951642e-01],\n",
       "       [  5.70824239e-02,   9.42917576e-01],\n",
       "       [  7.98146260e-03,   9.92018537e-01],\n",
       "       [  1.18135244e-02,   9.88186476e-01],\n",
       "       [  2.37755872e-02,   9.76224413e-01],\n",
       "       [  9.95102359e-01,   4.89764114e-03],\n",
       "       [  5.64608289e-04,   9.99435392e-01],\n",
       "       [  1.71660975e-02,   9.82833902e-01],\n",
       "       [  9.91808957e-01,   8.19104282e-03],\n",
       "       [  9.77821946e-01,   2.21780542e-02],\n",
       "       [  2.01844461e-02,   9.79815554e-01],\n",
       "       [  7.42289997e-01,   2.57710003e-01],\n",
       "       [  2.80188136e-02,   9.71981186e-01],\n",
       "       [  2.03378040e-02,   9.79662196e-01],\n",
       "       [  9.93716454e-01,   6.28354570e-03],\n",
       "       [  1.13678285e-01,   8.86321715e-01],\n",
       "       [  2.94251231e-02,   9.70574877e-01],\n",
       "       [  2.24788295e-01,   7.75211705e-01],\n",
       "       [  9.68045707e-01,   3.19542933e-02],\n",
       "       [  5.78450620e-02,   9.42154938e-01],\n",
       "       [  9.92723247e-01,   7.27675252e-03],\n",
       "       [  1.83257506e-02,   9.81674249e-01],\n",
       "       [  1.66675188e-01,   8.33324812e-01],\n",
       "       [  4.45555010e-02,   9.55444499e-01],\n",
       "       [  9.90970876e-01,   9.02912426e-03],\n",
       "       [  9.98816163e-01,   1.18383656e-03],\n",
       "       [  9.91671101e-01,   8.32889924e-03],\n",
       "       [  9.91733076e-01,   8.26692429e-03],\n",
       "       [  9.86882525e-01,   1.31174753e-02],\n",
       "       [  9.91339194e-01,   8.66080580e-03],\n",
       "       [  1.08975984e-02,   9.89102402e-01],\n",
       "       [  1.75453722e-02,   9.82454628e-01],\n",
       "       [  9.81741684e-01,   1.82583162e-02],\n",
       "       [  9.94937502e-03,   9.90050625e-01],\n",
       "       [  9.90750150e-01,   9.24985001e-03],\n",
       "       [  9.92728160e-01,   7.27184016e-03],\n",
       "       [  2.48497162e-02,   9.75150284e-01]])"
      ]
     },
     "execution_count": 65,
     "metadata": {},
     "output_type": "execute_result"
    }
   ],
   "source": [
    "prob_LR"
   ]
  },
  {
   "cell_type": "code",
   "execution_count": 23,
   "metadata": {
    "collapsed": false
   },
   "outputs": [
    {
     "name": "stderr",
     "output_type": "stream",
     "text": [
      "/Library/Frameworks/Python.framework/Versions/3.4/lib/python3.4/site-packages/ipykernel/__main__.py:4: DataConversionWarning: A column-vector y was passed when a 1d array was expected. Please change the shape of y to (n_samples, ), for example using ravel().\n"
     ]
    }
   ],
   "source": [
    "# KNN 预测\n",
    "from sklearn.neighbors import KNeighborsClassifier \n",
    "KNN = KNeighborsClassifier()\n",
    "KNN.fit(x_train,y_train)\n",
    "predictions_KNN = KNN.predict(x_test)  \n",
    "prob_KNN=KNN.predict_proba(x_test)"
   ]
  },
  {
   "cell_type": "code",
   "execution_count": 24,
   "metadata": {
    "collapsed": true
   },
   "outputs": [],
   "source": [
    "KNN?"
   ]
  },
  {
   "cell_type": "code",
   "execution_count": 25,
   "metadata": {
    "collapsed": false
   },
   "outputs": [
    {
     "name": "stdout",
     "output_type": "stream",
     "text": [
      "0.989571746385\n",
      "0.978830645161\n"
     ]
    }
   ],
   "source": [
    "# 评估曲线\n",
    "from sklearn.metrics import roc_curve, auc  \n",
    "fpr_LR, tpr_LR, thresholds = roc_curve(y_test, prob_LR[:, 1])  \n",
    "roc_auc_LR = auc(fpr_LR, tpr_LR) \n",
    "print(roc_auc_LR)\n",
    "fpr_KNN, tpr_KNN, thresholds = roc_curve(y_test, prob_KNN[:, 1])  \n",
    "roc_auc_KNN = auc(fpr_KNN, tpr_KNN) \n",
    "print(roc_auc_KNN)"
   ]
  },
  {
   "cell_type": "code",
   "execution_count": 26,
   "metadata": {
    "collapsed": false
   },
   "outputs": [
    {
     "data": {
      "image/png": "[encoded data removed]",
      "text/plain": [
       "<matplotlib.figure.Figure at 0x103f94f98>"
      ]
     },
     "metadata": {},
     "output_type": "display_data"
    }
   ],
   "source": [
    "plt.figure(figsize=(8,6))\n",
    "plt.title('Receiver Operating Characteristic')  \n",
    "plt.plot(fpr_LR, tpr_LR, 'b',  label='LR_AUC = %0.2f'% roc_auc_LR) \n",
    "plt.plot(fpr_KNN, tpr_KNN, 'y',  label='KNN_AUC = %0.2f'% roc_auc_KNN) \n",
    "plt.legend(loc='lower right')  \n",
    "plt.plot([0,1],[0,1],'r--')  \n",
    "plt.xlim([-0.1,1.2])  \n",
    "plt.ylim([-0.1,1.2])  \n",
    "plt.ylabel('True Positive Rate')  \n",
    "plt.xlabel('False Positive Rate')  \n",
    "plt.show() "
   ]
  },
  {
   "cell_type": "markdown",
   "metadata": {
    "collapsed": true
   },
   "source": [
    "# 步骤\n",
    "# 1. 数据清洗：缺失值、异常值\n",
    "# 2. 数据归一化，标准化\n",
    "# 3. 构造特征\n",
    "# 4. 划分训练测试\n",
    "# 5. 训练---调参\n",
    "# 6. 模型评估"
   ]
  },
  {
   "cell_type": "code",
   "execution_count": 35,
   "metadata": {
    "collapsed": true
   },
   "outputs": [],
   "source": [
    "x1=np.array([1,2,3])\n",
    "x2=np.array([4,5,6])"
   ]
  },
  {
   "cell_type": "code",
   "execution_count": 36,
   "metadata": {
    "collapsed": false
   },
   "outputs": [],
   "source": [
    "x3=x1*x2.T"
   ]
  },
  {
   "cell_type": "code",
   "execution_count": 20,
   "metadata": {
    "collapsed": false
   },
   "outputs": [
    {
     "data": {
      "text/plain": [
       "array([ 0. ,  0.1,  0.2,  0.3,  0.4,  0.5,  0.6,  0.7,  0.8,  0.9,  1. ,\n",
       "        1.1,  1.2,  1.3,  1.4,  1.5,  1.6,  1.7,  1.8,  1.9,  2. ,  2.1,\n",
       "        2.2,  2.3,  2.4,  2.5,  2.6,  2.7,  2.8,  2.9,  3. ,  3.1,  3.2,\n",
       "        3.3,  3.4,  3.5,  3.6,  3.7,  3.8,  3.9])"
      ]
     },
     "execution_count": 20,
     "metadata": {},
     "output_type": "execute_result"
    }
   ],
   "source": [
    "arange(0.0,4.0,0.1)"
   ]
  },
  {
   "cell_type": "code",
   "execution_count": 38,
   "metadata": {
    "collapsed": false
   },
   "outputs": [
    {
     "data": {
      "text/plain": [
       "array([[ 0.32994132,  1.17982526],\n",
       "       [-0.78906143, -2.63136666],\n",
       "       [ 0.86019074,  0.9477931 ],\n",
       "       ..., \n",
       "       [ 1.15158684, -2.26999776],\n",
       "       [ 1.13519015,  0.84038931],\n",
       "       [-0.96333476, -1.72941035]])"
      ]
     },
     "execution_count": 38,
     "metadata": {},
     "output_type": "execute_result"
    }
   ],
   "source": [
    "np.array(x_train)"
   ]
  },
  {
   "cell_type": "code",
   "execution_count": 34,
   "metadata": {
    "collapsed": false
   },
   "outputs": [
    {
     "data": {
      "text/html": [
       "<div>\n",
       "<table border=\"1\" class=\"dataframe\">\n",
       "  <thead>\n",
       "    <tr style=\"text-align: right;\">\n",
       "      <th></th>\n",
       "      <th>y</th>\n",
       "    </tr>\n",
       "  </thead>\n",
       "  <tbody>\n",
       "    <tr>\n",
       "      <th>780</th>\n",
       "      <td>1</td>\n",
       "    </tr>\n",
       "    <tr>\n",
       "      <th>351</th>\n",
       "      <td>0</td>\n",
       "    </tr>\n",
       "    <tr>\n",
       "      <th>720</th>\n",
       "      <td>1</td>\n",
       "    </tr>\n",
       "    <tr>\n",
       "      <th>392</th>\n",
       "      <td>0</td>\n",
       "    </tr>\n",
       "    <tr>\n",
       "      <th>718</th>\n",
       "      <td>0</td>\n",
       "    </tr>\n",
       "    <tr>\n",
       "      <th>743</th>\n",
       "      <td>0</td>\n",
       "    </tr>\n",
       "    <tr>\n",
       "      <th>329</th>\n",
       "      <td>0</td>\n",
       "    </tr>\n",
       "    <tr>\n",
       "      <th>701</th>\n",
       "      <td>1</td>\n",
       "    </tr>\n",
       "    <tr>\n",
       "      <th>257</th>\n",
       "      <td>1</td>\n",
       "    </tr>\n",
       "    <tr>\n",
       "      <th>135</th>\n",
       "      <td>1</td>\n",
       "    </tr>\n",
       "    <tr>\n",
       "      <th>797</th>\n",
       "      <td>1</td>\n",
       "    </tr>\n",
       "    <tr>\n",
       "      <th>224</th>\n",
       "      <td>1</td>\n",
       "    </tr>\n",
       "    <tr>\n",
       "      <th>190</th>\n",
       "      <td>1</td>\n",
       "    </tr>\n",
       "    <tr>\n",
       "      <th>362</th>\n",
       "      <td>1</td>\n",
       "    </tr>\n",
       "    <tr>\n",
       "      <th>104</th>\n",
       "      <td>0</td>\n",
       "    </tr>\n",
       "    <tr>\n",
       "      <th>377</th>\n",
       "      <td>1</td>\n",
       "    </tr>\n",
       "    <tr>\n",
       "      <th>287</th>\n",
       "      <td>0</td>\n",
       "    </tr>\n",
       "    <tr>\n",
       "      <th>685</th>\n",
       "      <td>1</td>\n",
       "    </tr>\n",
       "    <tr>\n",
       "      <th>610</th>\n",
       "      <td>0</td>\n",
       "    </tr>\n",
       "    <tr>\n",
       "      <th>532</th>\n",
       "      <td>0</td>\n",
       "    </tr>\n",
       "    <tr>\n",
       "      <th>343</th>\n",
       "      <td>0</td>\n",
       "    </tr>\n",
       "    <tr>\n",
       "      <th>469</th>\n",
       "      <td>0</td>\n",
       "    </tr>\n",
       "    <tr>\n",
       "      <th>624</th>\n",
       "      <td>0</td>\n",
       "    </tr>\n",
       "    <tr>\n",
       "      <th>709</th>\n",
       "      <td>1</td>\n",
       "    </tr>\n",
       "    <tr>\n",
       "      <th>337</th>\n",
       "      <td>1</td>\n",
       "    </tr>\n",
       "    <tr>\n",
       "      <th>279</th>\n",
       "      <td>0</td>\n",
       "    </tr>\n",
       "    <tr>\n",
       "      <th>423</th>\n",
       "      <td>0</td>\n",
       "    </tr>\n",
       "    <tr>\n",
       "      <th>491</th>\n",
       "      <td>1</td>\n",
       "    </tr>\n",
       "    <tr>\n",
       "      <th>689</th>\n",
       "      <td>0</td>\n",
       "    </tr>\n",
       "    <tr>\n",
       "      <th>647</th>\n",
       "      <td>0</td>\n",
       "    </tr>\n",
       "    <tr>\n",
       "      <th>...</th>\n",
       "      <td>...</td>\n",
       "    </tr>\n",
       "    <tr>\n",
       "      <th>798</th>\n",
       "      <td>0</td>\n",
       "    </tr>\n",
       "    <tr>\n",
       "      <th>520</th>\n",
       "      <td>1</td>\n",
       "    </tr>\n",
       "    <tr>\n",
       "      <th>109</th>\n",
       "      <td>1</td>\n",
       "    </tr>\n",
       "    <tr>\n",
       "      <th>733</th>\n",
       "      <td>0</td>\n",
       "    </tr>\n",
       "    <tr>\n",
       "      <th>497</th>\n",
       "      <td>1</td>\n",
       "    </tr>\n",
       "    <tr>\n",
       "      <th>230</th>\n",
       "      <td>1</td>\n",
       "    </tr>\n",
       "    <tr>\n",
       "      <th>332</th>\n",
       "      <td>1</td>\n",
       "    </tr>\n",
       "    <tr>\n",
       "      <th>122</th>\n",
       "      <td>1</td>\n",
       "    </tr>\n",
       "    <tr>\n",
       "      <th>270</th>\n",
       "      <td>0</td>\n",
       "    </tr>\n",
       "    <tr>\n",
       "      <th>645</th>\n",
       "      <td>0</td>\n",
       "    </tr>\n",
       "    <tr>\n",
       "      <th>737</th>\n",
       "      <td>1</td>\n",
       "    </tr>\n",
       "    <tr>\n",
       "      <th>41</th>\n",
       "      <td>1</td>\n",
       "    </tr>\n",
       "    <tr>\n",
       "      <th>584</th>\n",
       "      <td>1</td>\n",
       "    </tr>\n",
       "    <tr>\n",
       "      <th>502</th>\n",
       "      <td>0</td>\n",
       "    </tr>\n",
       "    <tr>\n",
       "      <th>628</th>\n",
       "      <td>0</td>\n",
       "    </tr>\n",
       "    <tr>\n",
       "      <th>150</th>\n",
       "      <td>1</td>\n",
       "    </tr>\n",
       "    <tr>\n",
       "      <th>70</th>\n",
       "      <td>0</td>\n",
       "    </tr>\n",
       "    <tr>\n",
       "      <th>454</th>\n",
       "      <td>1</td>\n",
       "    </tr>\n",
       "    <tr>\n",
       "      <th>136</th>\n",
       "      <td>1</td>\n",
       "    </tr>\n",
       "    <tr>\n",
       "      <th>551</th>\n",
       "      <td>0</td>\n",
       "    </tr>\n",
       "    <tr>\n",
       "      <th>464</th>\n",
       "      <td>1</td>\n",
       "    </tr>\n",
       "    <tr>\n",
       "      <th>273</th>\n",
       "      <td>1</td>\n",
       "    </tr>\n",
       "    <tr>\n",
       "      <th>796</th>\n",
       "      <td>1</td>\n",
       "    </tr>\n",
       "    <tr>\n",
       "      <th>227</th>\n",
       "      <td>1</td>\n",
       "    </tr>\n",
       "    <tr>\n",
       "      <th>408</th>\n",
       "      <td>0</td>\n",
       "    </tr>\n",
       "    <tr>\n",
       "      <th>124</th>\n",
       "      <td>1</td>\n",
       "    </tr>\n",
       "    <tr>\n",
       "      <th>694</th>\n",
       "      <td>1</td>\n",
       "    </tr>\n",
       "    <tr>\n",
       "      <th>140</th>\n",
       "      <td>1</td>\n",
       "    </tr>\n",
       "    <tr>\n",
       "      <th>105</th>\n",
       "      <td>1</td>\n",
       "    </tr>\n",
       "    <tr>\n",
       "      <th>299</th>\n",
       "      <td>0</td>\n",
       "    </tr>\n",
       "  </tbody>\n",
       "</table>\n",
       "<p>560 rows × 1 columns</p>\n",
       "</div>"
      ],
      "text/plain": [
       "     y\n",
       "780  1\n",
       "351  0\n",
       "720  1\n",
       "392  0\n",
       "718  0\n",
       "743  0\n",
       "329  0\n",
       "701  1\n",
       "257  1\n",
       "135  1\n",
       "797  1\n",
       "224  1\n",
       "190  1\n",
       "362  1\n",
       "104  0\n",
       "377  1\n",
       "287  0\n",
       "685  1\n",
       "610  0\n",
       "532  0\n",
       "343  0\n",
       "469  0\n",
       "624  0\n",
       "709  1\n",
       "337  1\n",
       "279  0\n",
       "423  0\n",
       "491  1\n",
       "689  0\n",
       "647  0\n",
       "..  ..\n",
       "798  0\n",
       "520  1\n",
       "109  1\n",
       "733  0\n",
       "497  1\n",
       "230  1\n",
       "332  1\n",
       "122  1\n",
       "270  0\n",
       "645  0\n",
       "737  1\n",
       "41   1\n",
       "584  1\n",
       "502  0\n",
       "628  0\n",
       "150  1\n",
       "70   0\n",
       "454  1\n",
       "136  1\n",
       "551  0\n",
       "464  1\n",
       "273  1\n",
       "796  1\n",
       "227  1\n",
       "408  0\n",
       "124  1\n",
       "694  1\n",
       "140  1\n",
       "105  1\n",
       "299  0\n",
       "\n",
       "[560 rows x 1 columns]"
      ]
     },
     "execution_count": 34,
     "metadata": {},
     "output_type": "execute_result"
    }
   ],
   "source": [
    "y_train"
   ]
  },
  {
   "cell_type": "code",
   "execution_count": null,
   "metadata": {
    "collapsed": true
   },
   "outputs": [],
   "source": []
  }
 ],
 "metadata": {
  "anaconda-cloud": {},
  "kernelspec": {
   "display_name": "Python 3",
   "language": "python",
   "name": "python3"
  },
  "language_info": {
   "codemirror_mode": {
    "name": "ipython",
    "version": 3
   },
   "file_extension": ".py",
   "mimetype": "text/x-python",
   "name": "python",
   "nbconvert_exporter": "python",
   "pygments_lexer": "ipython3",
   "version": "3.4.3"
  }
 },
 "nbformat": 4,
 "nbformat_minor": 2
}
