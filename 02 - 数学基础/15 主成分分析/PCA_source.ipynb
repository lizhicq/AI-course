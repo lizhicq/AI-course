{
 "cells": [
  {
   "cell_type": "code",
   "execution_count": 1,
   "metadata": {
    "collapsed": true
   },
   "outputs": [],
   "source": [
    "import pandas as pd\n",
    "import numpy as np\n",
    "from sklearn.datasets import make_regression\n",
    "import matplotlib.pylab as plt"
   ]
  },
  {
   "cell_type": "code",
   "execution_count": 2,
   "metadata": {
    "collapsed": false
   },
   "outputs": [],
   "source": [
    "x,y=make_regression(n_samples=20,n_features=1,noise=50,bias=2)\n",
    "y=y/100"
   ]
  },
  {
   "cell_type": "code",
   "execution_count": 3,
   "metadata": {
    "collapsed": false
   },
   "outputs": [
    {
     "data": {
      "image/png": "[encoded data removed]",
      "text/plain": [
       "<matplotlib.figure.Figure at 0x108a60ba8>"
      ]
     },
     "metadata": {},
     "output_type": "display_data"
    }
   ],
   "source": [
    "plt.scatter(x,y)\n",
    "plt.show()"
   ]
  },
  {
   "cell_type": "code",
   "execution_count": 4,
   "metadata": {
    "collapsed": true
   },
   "outputs": [],
   "source": [
    "## mean\n",
    "x_new=x-x.mean()\n",
    "y_new=y-y.mean()"
   ]
  },
  {
   "cell_type": "code",
   "execution_count": 5,
   "metadata": {
    "collapsed": false
   },
   "outputs": [],
   "source": [
    "## cov\n",
    "cov_matrix = np.cov(np.stack((x_new[:,0],y_new)))"
   ]
  },
  {
   "cell_type": "code",
   "execution_count": 6,
   "metadata": {
    "collapsed": false
   },
   "outputs": [
    {
     "data": {
      "text/plain": [
       "array([[ 0.68987485,  0.54157886],\n",
       "       [ 0.54157886,  0.64964811]])"
      ]
     },
     "execution_count": 6,
     "metadata": {},
     "output_type": "execute_result"
    }
   ],
   "source": [
    "cov_matrix"
   ]
  },
  {
   "cell_type": "code",
   "execution_count": 7,
   "metadata": {
    "collapsed": false
   },
   "outputs": [],
   "source": [
    "## eigvalue and eigvector\n",
    "eig_val, eig_vec=np.linalg.eig(cov_matrix)"
   ]
  },
  {
   "cell_type": "code",
   "execution_count": 8,
   "metadata": {
    "collapsed": false
   },
   "outputs": [
    {
     "data": {
      "text/plain": [
       "array([ 1.2117137 ,  0.12780925])"
      ]
     },
     "execution_count": 8,
     "metadata": {},
     "output_type": "execute_result"
    }
   ],
   "source": [
    "eig_val"
   ]
  },
  {
   "cell_type": "code",
   "execution_count": 9,
   "metadata": {
    "collapsed": false
   },
   "outputs": [
    {
     "data": {
      "text/plain": [
       "array([[ 0.72010861, -0.69386137],\n",
       "       [ 0.69386137,  0.72010861]])"
      ]
     },
     "execution_count": 9,
     "metadata": {},
     "output_type": "execute_result"
    }
   ],
   "source": [
    "eig_vec"
   ]
  },
  {
   "cell_type": "code",
   "execution_count": 10,
   "metadata": {
    "collapsed": false
   },
   "outputs": [
    {
     "data": {
      "image/png": "[encoded data removed]",
      "text/plain": [
       "<matplotlib.figure.Figure at 0x10616f1d0>"
      ]
     },
     "metadata": {},
     "output_type": "display_data"
    }
   ],
   "source": [
    "plt.plot(x_new,y_new,'o')\n",
    "plt.plot([eig_vec[:,0][0],0],[eig_vec[:,0][1],0],color='r')\n",
    "plt.plot([eig_vec[:,1][0],0],[eig_vec[:,1][1],0],color='g')\n",
    "plt.axis('equal')\n",
    "plt.show()"
   ]
  },
  {
   "cell_type": "code",
   "execution_count": 11,
   "metadata": {
    "collapsed": false
   },
   "outputs": [],
   "source": [
    "new_axis_data=np.dot(np.transpose(np.stack((x_new[:,0],y_new))),eig_vec)"
   ]
  },
  {
   "cell_type": "code",
   "execution_count": 14,
   "metadata": {
    "collapsed": false
   },
   "outputs": [
    {
     "data": {
      "image/png": "[encoded data removed]",
      "text/plain": [
       "<matplotlib.figure.Figure at 0x10985d0f0>"
      ]
     },
     "metadata": {},
     "output_type": "display_data"
    }
   ],
   "source": [
    "plt.scatter(np.transpose(np.stack((x_new[:,0],y_new)))[:,0],np.transpose(np.stack((x_new[:,0],y_new)))[:,1],c='r')\n",
    "plt.scatter(new_axis_data[:,0],new_axis_data[:,1],c='g')\n",
    "plt.show()"
   ]
  },
  {
   "cell_type": "code",
   "execution_count": 15,
   "metadata": {
    "collapsed": true
   },
   "outputs": [],
   "source": [
    "pca_one=np.dot(np.transpose(np.stack((x_new[:,0],y_new))),eig_vec[:,0])"
   ]
  },
  {
   "cell_type": "code",
   "execution_count": 16,
   "metadata": {
    "collapsed": false
   },
   "outputs": [
    {
     "data": {
      "image/png": "[encoded data removed]",
      "text/plain": [
       "<matplotlib.figure.Figure at 0x1097c0e48>"
      ]
     },
     "metadata": {},
     "output_type": "display_data"
    }
   ],
   "source": [
    "plt.scatter(pca_one,np.zeros((pca_one.shape)))\n",
    "plt.show()"
   ]
  },
  {
   "cell_type": "code",
   "execution_count": 17,
   "metadata": {
    "collapsed": true
   },
   "outputs": [],
   "source": [
    "pca_two=np.dot(np.transpose(np.stack((x_new[:,0],y_new))),eig_vec[:,1])"
   ]
  },
  {
   "cell_type": "code",
   "execution_count": 18,
   "metadata": {
    "collapsed": false
   },
   "outputs": [
    {
     "data": {
      "text/plain": [
       "array([-2.0092986 ,  1.43621164, -0.49366437, -0.64295387,  0.13299383,\n",
       "        1.1510518 ,  1.03533259, -2.16151861, -0.99663793,  0.83979774,\n",
       "       -0.67871233,  0.38007845,  0.52873144,  0.13545859, -0.45550836,\n",
       "        0.02711225, -1.27983591,  1.41850154, -0.01596664,  1.64882674])"
      ]
     },
     "execution_count": 18,
     "metadata": {},
     "output_type": "execute_result"
    }
   ],
   "source": [
    "pca_one"
   ]
  },
  {
   "cell_type": "code",
   "execution_count": 19,
   "metadata": {
    "collapsed": false
   },
   "outputs": [
    {
     "data": {
      "text/plain": [
       "array([ 0.02882963, -0.94540149, -0.10275331, -0.52572019, -0.04837721,\n",
       "        0.3789528 , -0.234691  ,  0.00934682, -0.23096494,  0.31698845,\n",
       "        0.26038302,  0.29720736,  0.13022974,  0.17774399,  0.40826031,\n",
       "       -0.5804778 ,  0.14486886,  0.38904308,  0.02314366,  0.10338822])"
      ]
     },
     "execution_count": 19,
     "metadata": {},
     "output_type": "execute_result"
    }
   ],
   "source": [
    "pca_two"
   ]
  },
  {
   "cell_type": "code",
   "execution_count": null,
   "metadata": {
    "collapsed": true
   },
   "outputs": [],
   "source": []
  },
  {
   "cell_type": "code",
   "execution_count": null,
   "metadata": {
    "collapsed": true
   },
   "outputs": [],
   "source": []
  },
  {
   "cell_type": "code",
   "execution_count": 374,
   "metadata": {
    "collapsed": true
   },
   "outputs": [],
   "source": [
    "########### SKLEARN PCA ##############"
   ]
  },
  {
   "cell_type": "code",
   "execution_count": 20,
   "metadata": {
    "collapsed": true
   },
   "outputs": [],
   "source": [
    "from sklearn.decomposition import PCA\n",
    "pca=PCA()"
   ]
  },
  {
   "cell_type": "code",
   "execution_count": 21,
   "metadata": {
    "collapsed": false
   },
   "outputs": [
    {
     "data": {
      "text/plain": [
       "PCA(copy=True, iterated_power='auto', n_components=None, random_state=None,\n",
       "  svd_solver='auto', tol=0.0, whiten=False)"
      ]
     },
     "execution_count": 21,
     "metadata": {},
     "output_type": "execute_result"
    }
   ],
   "source": [
    "data=np.stack((x[:,0],y)).T\n",
    "pca.fit(data)"
   ]
  },
  {
   "cell_type": "code",
   "execution_count": 22,
   "metadata": {
    "collapsed": false
   },
   "outputs": [
    {
     "data": {
      "text/plain": [
       "(array([[ 2.0092986 , -0.02882963],\n",
       "        [-1.43621164,  0.94540149],\n",
       "        [ 0.49366437,  0.10275331],\n",
       "        [ 0.64295387,  0.52572019],\n",
       "        [-0.13299383,  0.04837721],\n",
       "        [-1.1510518 , -0.3789528 ],\n",
       "        [-1.03533259,  0.234691  ],\n",
       "        [ 2.16151861, -0.00934682],\n",
       "        [ 0.99663793,  0.23096494],\n",
       "        [-0.83979774, -0.31698845],\n",
       "        [ 0.67871233, -0.26038302],\n",
       "        [-0.38007845, -0.29720736],\n",
       "        [-0.52873144, -0.13022974],\n",
       "        [-0.13545859, -0.17774399],\n",
       "        [ 0.45550836, -0.40826031],\n",
       "        [-0.02711225,  0.5804778 ],\n",
       "        [ 1.27983591, -0.14486886],\n",
       "        [-1.41850154, -0.38904308],\n",
       "        [ 0.01596664, -0.02314366],\n",
       "        [-1.64882674, -0.10338822]]),\n",
       " array([-2.0092986 ,  1.43621164, -0.49366437, -0.64295387,  0.13299383,\n",
       "         1.1510518 ,  1.03533259, -2.16151861, -0.99663793,  0.83979774,\n",
       "        -0.67871233,  0.38007845,  0.52873144,  0.13545859, -0.45550836,\n",
       "         0.02711225, -1.27983591,  1.41850154, -0.01596664,  1.64882674]),\n",
       " array([ 0.02882963, -0.94540149, -0.10275331, -0.52572019, -0.04837721,\n",
       "         0.3789528 , -0.234691  ,  0.00934682, -0.23096494,  0.31698845,\n",
       "         0.26038302,  0.29720736,  0.13022974,  0.17774399,  0.40826031,\n",
       "        -0.5804778 ,  0.14486886,  0.38904308,  0.02314366,  0.10338822]))"
      ]
     },
     "execution_count": 22,
     "metadata": {},
     "output_type": "execute_result"
    }
   ],
   "source": [
    "pca.transform(data),pca_one,pca_two"
   ]
  },
  {
   "cell_type": "code",
   "execution_count": 388,
   "metadata": {
    "collapsed": true
   },
   "outputs": [],
   "source": [
    "?PCA"
   ]
  },
  {
   "cell_type": "code",
   "execution_count": null,
   "metadata": {
    "collapsed": true
   },
   "outputs": [],
   "source": []
  }
 ],
 "metadata": {
  "anaconda-cloud": {},
  "kernelspec": {
   "display_name": "Python 3",
   "language": "python",
   "name": "python3"
  },
  "language_info": {
   "codemirror_mode": {
    "name": "ipython",
    "version": 3
   },
   "file_extension": ".py",
   "mimetype": "text/x-python",
   "name": "python",
   "nbconvert_exporter": "python",
   "pygments_lexer": "ipython3",
   "version": "3.4.3"
  }
 },
 "nbformat": 4,
 "nbformat_minor": 2
}
