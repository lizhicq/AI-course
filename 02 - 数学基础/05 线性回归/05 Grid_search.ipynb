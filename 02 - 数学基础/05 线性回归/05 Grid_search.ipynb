{
 "cells": [
  {
   "cell_type": "code",
   "execution_count": 31,
   "metadata": {
    "collapsed": false
   },
   "outputs": [],
   "source": [
    "from sklearn.linear_model import Ridge\n",
    "from sklearn.linear_model import Lasso\n",
    "import numpy as np\n",
    "from numpy import arange\n",
    "X=np.array([[0.01],[1.01],[2.02],[3.98]])\n",
    "y=np.array([-5,-0.5,4,13])"
   ]
  },
  {
   "cell_type": "markdown",
   "metadata": {},
   "source": [
    " # 岭回归"
   ]
  },
  {
   "cell_type": "code",
   "execution_count": 36,
   "metadata": {
    "collapsed": false
   },
   "outputs": [
    {
     "data": {
      "text/plain": [
       "Ridge(alpha=0.1, copy_X=True, fit_intercept=True, max_iter=None,\n",
       "   normalize=False, random_state=None, solver='auto', tol=0.001)"
      ]
     },
     "execution_count": 36,
     "metadata": {},
     "output_type": "execute_result"
    }
   ],
   "source": [
    "Ridgeclf = Ridge(alpha=0.1)\n",
    "Ridgeclf.fit(X, y)"
   ]
  },
  {
   "cell_type": "code",
   "execution_count": 37,
   "metadata": {
    "collapsed": false
   },
   "outputs": [
    {
     "data": {
      "text/plain": [
       "array([ 4.48147554])"
      ]
     },
     "execution_count": 37,
     "metadata": {},
     "output_type": "execute_result"
    }
   ],
   "source": [
    "Ridgeclf.coef_"
   ]
  },
  {
   "cell_type": "code",
   "execution_count": 38,
   "metadata": {
    "collapsed": false
   },
   "outputs": [
    {
     "data": {
      "text/plain": [
       "-4.989989565297158"
      ]
     },
     "execution_count": 38,
     "metadata": {},
     "output_type": "execute_result"
    }
   ],
   "source": [
    "Ridgeclf.intercept_"
   ]
  },
  {
   "cell_type": "code",
   "execution_count": 39,
   "metadata": {
    "collapsed": false
   },
   "outputs": [
    {
     "data": {
      "text/plain": [
       "0.99982013361538236"
      ]
     },
     "execution_count": 39,
     "metadata": {},
     "output_type": "execute_result"
    }
   ],
   "source": [
    "Ridgeclf.score(X,y)"
   ]
  },
  {
   "cell_type": "markdown",
   "metadata": {},
   "source": [
    "# LASSO"
   ]
  },
  {
   "cell_type": "code",
   "execution_count": 40,
   "metadata": {
    "collapsed": false
   },
   "outputs": [
    {
     "name": "stderr",
     "output_type": "stream",
     "text": [
      "/Library/Frameworks/Python.framework/Versions/3.4/lib/python3.4/site-packages/ipykernel/__main__.py:2: UserWarning: With alpha=0, this algorithm does not converge well. You are advised to use the LinearRegression estimator\n",
      "  from ipykernel import kernelapp as app\n",
      "/Library/Frameworks/Python.framework/Versions/3.4/lib/python3.4/site-packages/sklearn/linear_model/coordinate_descent.py:470: UserWarning: Coordinate descent with alpha=0 may lead to unexpected results and is discouraged.\n",
      "  positive)\n"
     ]
    },
    {
     "data": {
      "text/plain": [
       "Lasso(alpha=0.0, copy_X=True, fit_intercept=True, max_iter=1000,\n",
       "   normalize=False, positive=False, precompute=False, random_state=None,\n",
       "   selection='cyclic', tol=0.0001, warm_start=False)"
      ]
     },
     "execution_count": 40,
     "metadata": {},
     "output_type": "execute_result"
    }
   ],
   "source": [
    "Lassoclf = Lasso(alpha=0.0)\n",
    "Lassoclf.fit(X, y)"
   ]
  },
  {
   "cell_type": "code",
   "execution_count": 41,
   "metadata": {
    "collapsed": false
   },
   "outputs": [
    {
     "data": {
      "text/plain": [
       "array([ 4.53345938])"
      ]
     },
     "execution_count": 41,
     "metadata": {},
     "output_type": "execute_result"
    }
   ],
   "source": [
    "Lassoclf.coef_"
   ]
  },
  {
   "cell_type": "code",
   "execution_count": 42,
   "metadata": {
    "collapsed": false
   },
   "outputs": [
    {
     "data": {
      "text/plain": [
       "-5.0812212182022742"
      ]
     },
     "execution_count": 42,
     "metadata": {},
     "output_type": "execute_result"
    }
   ],
   "source": [
    "Lassoclf.intercept_"
   ]
  },
  {
   "cell_type": "code",
   "execution_count": 43,
   "metadata": {
    "collapsed": false
   },
   "outputs": [
    {
     "data": {
      "text/plain": [
       "0.99995161260922372"
      ]
     },
     "execution_count": 43,
     "metadata": {},
     "output_type": "execute_result"
    }
   ],
   "source": [
    "Lassoclf.score(X,y)"
   ]
  },
  {
   "cell_type": "code",
   "execution_count": 22,
   "metadata": {
    "collapsed": true
   },
   "outputs": [],
   "source": [
    "## 构造回归数据 ##\n",
    "from sklearn.datasets import make_regression\n",
    "X, y = make_regression(n_samples=1000, n_features=600, n_informative=2, noise=5)"
   ]
  },
  {
   "cell_type": "code",
   "execution_count": 26,
   "metadata": {
    "collapsed": false
   },
   "outputs": [],
   "source": [
    "from sklearn.model_selection import GridSearchCV  \n",
    "param_test1 ={'alpha':arange(0.0,4.0,0.1)}"
   ]
  },
  {
   "cell_type": "code",
   "execution_count": 24,
   "metadata": {
    "collapsed": false
   },
   "outputs": [
    {
     "data": {
      "text/plain": [
       "array([ 0.  ,  0.05,  0.1 ,  0.15,  0.2 ,  0.25,  0.3 ,  0.35,  0.4 ,\n",
       "        0.45,  0.5 ,  0.55,  0.6 ,  0.65,  0.7 ,  0.75,  0.8 ,  0.85,\n",
       "        0.9 ,  0.95,  1.  ,  1.05,  1.1 ,  1.15,  1.2 ,  1.25,  1.3 ,\n",
       "        1.35,  1.4 ,  1.45,  1.5 ,  1.55,  1.6 ,  1.65,  1.7 ,  1.75,\n",
       "        1.8 ,  1.85,  1.9 ,  1.95])"
      ]
     },
     "execution_count": 24,
     "metadata": {},
     "output_type": "execute_result"
    }
   ],
   "source": [
    "arange(0.0,2.0,0.05)"
   ]
  },
  {
   "cell_type": "code",
   "execution_count": 27,
   "metadata": {
    "collapsed": false
   },
   "outputs": [
    {
     "name": "stderr",
     "output_type": "stream",
     "text": [
      "/Library/Frameworks/Python.framework/Versions/3.4/lib/python3.4/site-packages/sklearn/model_selection/_search.py:667: DeprecationWarning: The grid_scores_ attribute was deprecated in version 0.18 in favor of the more elaborate cv_results_ attribute. The grid_scores_ attribute will not be available from 0.20\n",
      "  DeprecationWarning)\n"
     ]
    },
    {
     "data": {
      "text/plain": [
       "([mean: 0.98402, std: 0.00085, params: {'alpha': 0.0},\n",
       "  mean: 0.98407, std: 0.00083, params: {'alpha': 0.10000000000000001},\n",
       "  mean: 0.98411, std: 0.00082, params: {'alpha': 0.20000000000000001},\n",
       "  mean: 0.98416, std: 0.00080, params: {'alpha': 0.30000000000000004},\n",
       "  mean: 0.98420, std: 0.00078, params: {'alpha': 0.40000000000000002},\n",
       "  mean: 0.98423, std: 0.00077, params: {'alpha': 0.5},\n",
       "  mean: 0.98427, std: 0.00075, params: {'alpha': 0.60000000000000009},\n",
       "  mean: 0.98430, std: 0.00074, params: {'alpha': 0.70000000000000007},\n",
       "  mean: 0.98433, std: 0.00073, params: {'alpha': 0.80000000000000004},\n",
       "  mean: 0.98436, std: 0.00072, params: {'alpha': 0.90000000000000002},\n",
       "  mean: 0.98438, std: 0.00071, params: {'alpha': 1.0},\n",
       "  mean: 0.98441, std: 0.00070, params: {'alpha': 1.1000000000000001},\n",
       "  mean: 0.98443, std: 0.00069, params: {'alpha': 1.2000000000000002},\n",
       "  mean: 0.98445, std: 0.00068, params: {'alpha': 1.3},\n",
       "  mean: 0.98446, std: 0.00067, params: {'alpha': 1.4000000000000001},\n",
       "  mean: 0.98448, std: 0.00067, params: {'alpha': 1.5},\n",
       "  mean: 0.98449, std: 0.00066, params: {'alpha': 1.6000000000000001},\n",
       "  mean: 0.98450, std: 0.00065, params: {'alpha': 1.7000000000000002},\n",
       "  mean: 0.98451, std: 0.00065, params: {'alpha': 1.8},\n",
       "  mean: 0.98452, std: 0.00065, params: {'alpha': 1.9000000000000001},\n",
       "  mean: 0.98452, std: 0.00064, params: {'alpha': 2.0},\n",
       "  mean: 0.98452, std: 0.00064, params: {'alpha': 2.1000000000000001},\n",
       "  mean: 0.98453, std: 0.00064, params: {'alpha': 2.2000000000000002},\n",
       "  mean: 0.98453, std: 0.00064, params: {'alpha': 2.3000000000000003},\n",
       "  mean: 0.98452, std: 0.00064, params: {'alpha': 2.4000000000000004},\n",
       "  mean: 0.98452, std: 0.00064, params: {'alpha': 2.5},\n",
       "  mean: 0.98452, std: 0.00064, params: {'alpha': 2.6000000000000001},\n",
       "  mean: 0.98451, std: 0.00064, params: {'alpha': 2.7000000000000002},\n",
       "  mean: 0.98450, std: 0.00064, params: {'alpha': 2.8000000000000003},\n",
       "  mean: 0.98449, std: 0.00064, params: {'alpha': 2.9000000000000004},\n",
       "  mean: 0.98448, std: 0.00064, params: {'alpha': 3.0},\n",
       "  mean: 0.98446, std: 0.00064, params: {'alpha': 3.1000000000000001},\n",
       "  mean: 0.98445, std: 0.00065, params: {'alpha': 3.2000000000000002},\n",
       "  mean: 0.98443, std: 0.00065, params: {'alpha': 3.3000000000000003},\n",
       "  mean: 0.98442, std: 0.00065, params: {'alpha': 3.4000000000000004},\n",
       "  mean: 0.98440, std: 0.00066, params: {'alpha': 3.5},\n",
       "  mean: 0.98438, std: 0.00066, params: {'alpha': 3.6000000000000001},\n",
       "  mean: 0.98436, std: 0.00066, params: {'alpha': 3.7000000000000002},\n",
       "  mean: 0.98433, std: 0.00067, params: {'alpha': 3.8000000000000003},\n",
       "  mean: 0.98431, std: 0.00067, params: {'alpha': 3.9000000000000004}],\n",
       " {'alpha': 2.2000000000000002},\n",
       " 0.98452618502326705)"
      ]
     },
     "execution_count": 27,
     "metadata": {},
     "output_type": "execute_result"
    }
   ],
   "source": [
    "gsearch0=GridSearchCV(Ridge(),param_grid =param_test1,cv=5)\n",
    "gsearch0.fit(X,y)  \n",
    "gsearch0.grid_scores_,gsearch0.best_params_, gsearch0.best_score_"
   ]
  },
  {
   "cell_type": "markdown",
   "metadata": {},
   "source": [
    "# LASSO"
   ]
  },
  {
   "cell_type": "code",
   "execution_count": 28,
   "metadata": {
    "collapsed": false
   },
   "outputs": [
    {
     "name": "stderr",
     "output_type": "stream",
     "text": [
      "/Library/Frameworks/Python.framework/Versions/3.4/lib/python3.4/site-packages/sklearn/model_selection/_validation.py:238: UserWarning: With alpha=0, this algorithm does not converge well. You are advised to use the LinearRegression estimator\n",
      "  estimator.fit(X_train, y_train, **fit_params)\n",
      "/Library/Frameworks/Python.framework/Versions/3.4/lib/python3.4/site-packages/sklearn/linear_model/coordinate_descent.py:470: UserWarning: Coordinate descent with alpha=0 may lead to unexpected results and is discouraged.\n",
      "  positive)\n",
      "/Library/Frameworks/Python.framework/Versions/3.4/lib/python3.4/site-packages/sklearn/linear_model/coordinate_descent.py:484: ConvergenceWarning: Objective did not converge. You might want to increase the number of iterations. Fitting data with very small alpha may cause precision problems.\n",
      "  ConvergenceWarning)\n",
      "/Library/Frameworks/Python.framework/Versions/3.4/lib/python3.4/site-packages/sklearn/model_selection/_validation.py:238: UserWarning: With alpha=0, this algorithm does not converge well. You are advised to use the LinearRegression estimator\n",
      "  estimator.fit(X_train, y_train, **fit_params)\n",
      "/Library/Frameworks/Python.framework/Versions/3.4/lib/python3.4/site-packages/sklearn/linear_model/coordinate_descent.py:470: UserWarning: Coordinate descent with alpha=0 may lead to unexpected results and is discouraged.\n",
      "  positive)\n",
      "/Library/Frameworks/Python.framework/Versions/3.4/lib/python3.4/site-packages/sklearn/linear_model/coordinate_descent.py:484: ConvergenceWarning: Objective did not converge. You might want to increase the number of iterations. Fitting data with very small alpha may cause precision problems.\n",
      "  ConvergenceWarning)\n",
      "/Library/Frameworks/Python.framework/Versions/3.4/lib/python3.4/site-packages/sklearn/model_selection/_validation.py:238: UserWarning: With alpha=0, this algorithm does not converge well. You are advised to use the LinearRegression estimator\n",
      "  estimator.fit(X_train, y_train, **fit_params)\n",
      "/Library/Frameworks/Python.framework/Versions/3.4/lib/python3.4/site-packages/sklearn/linear_model/coordinate_descent.py:470: UserWarning: Coordinate descent with alpha=0 may lead to unexpected results and is discouraged.\n",
      "  positive)\n",
      "/Library/Frameworks/Python.framework/Versions/3.4/lib/python3.4/site-packages/sklearn/linear_model/coordinate_descent.py:484: ConvergenceWarning: Objective did not converge. You might want to increase the number of iterations. Fitting data with very small alpha may cause precision problems.\n",
      "  ConvergenceWarning)\n",
      "/Library/Frameworks/Python.framework/Versions/3.4/lib/python3.4/site-packages/sklearn/model_selection/_search.py:667: DeprecationWarning: The grid_scores_ attribute was deprecated in version 0.18 in favor of the more elaborate cv_results_ attribute. The grid_scores_ attribute will not be available from 0.20\n",
      "  DeprecationWarning)\n"
     ]
    },
    {
     "data": {
      "text/plain": [
       "([mean: 0.96377, std: 0.00267, params: {'alpha': 0.0},\n",
       "  mean: 0.99485, std: 0.00054, params: {'alpha': 0.10000000000000001},\n",
       "  mean: 0.99552, std: 0.00052, params: {'alpha': 0.20000000000000001},\n",
       "  mean: 0.99570, std: 0.00050, params: {'alpha': 0.30000000000000004},\n",
       "  mean: 0.99575, std: 0.00048, params: {'alpha': 0.40000000000000002},\n",
       "  mean: 0.99574, std: 0.00047, params: {'alpha': 0.5},\n",
       "  mean: 0.99571, std: 0.00045, params: {'alpha': 0.60000000000000009},\n",
       "  mean: 0.99567, std: 0.00044, params: {'alpha': 0.70000000000000007},\n",
       "  mean: 0.99562, std: 0.00044, params: {'alpha': 0.80000000000000004},\n",
       "  mean: 0.99556, std: 0.00043, params: {'alpha': 0.90000000000000002},\n",
       "  mean: 0.99549, std: 0.00043, params: {'alpha': 1.0},\n",
       "  mean: 0.99541, std: 0.00042, params: {'alpha': 1.1000000000000001},\n",
       "  mean: 0.99532, std: 0.00042, params: {'alpha': 1.2000000000000002},\n",
       "  mean: 0.99523, std: 0.00041, params: {'alpha': 1.3},\n",
       "  mean: 0.99513, std: 0.00040, params: {'alpha': 1.4000000000000001},\n",
       "  mean: 0.99502, std: 0.00040, params: {'alpha': 1.5},\n",
       "  mean: 0.99490, std: 0.00039, params: {'alpha': 1.6000000000000001},\n",
       "  mean: 0.99478, std: 0.00038, params: {'alpha': 1.7000000000000002},\n",
       "  mean: 0.99465, std: 0.00038, params: {'alpha': 1.8},\n",
       "  mean: 0.99451, std: 0.00037, params: {'alpha': 1.9000000000000001},\n",
       "  mean: 0.99437, std: 0.00036, params: {'alpha': 2.0},\n",
       "  mean: 0.99422, std: 0.00035, params: {'alpha': 2.1000000000000001},\n",
       "  mean: 0.99406, std: 0.00035, params: {'alpha': 2.2000000000000002},\n",
       "  mean: 0.99389, std: 0.00034, params: {'alpha': 2.3000000000000003},\n",
       "  mean: 0.99371, std: 0.00033, params: {'alpha': 2.4000000000000004},\n",
       "  mean: 0.99353, std: 0.00033, params: {'alpha': 2.5},\n",
       "  mean: 0.99334, std: 0.00032, params: {'alpha': 2.6000000000000001},\n",
       "  mean: 0.99314, std: 0.00032, params: {'alpha': 2.7000000000000002},\n",
       "  mean: 0.99294, std: 0.00031, params: {'alpha': 2.8000000000000003},\n",
       "  mean: 0.99273, std: 0.00031, params: {'alpha': 2.9000000000000004},\n",
       "  mean: 0.99251, std: 0.00031, params: {'alpha': 3.0},\n",
       "  mean: 0.99228, std: 0.00031, params: {'alpha': 3.1000000000000001},\n",
       "  mean: 0.99205, std: 0.00031, params: {'alpha': 3.2000000000000002},\n",
       "  mean: 0.99180, std: 0.00031, params: {'alpha': 3.3000000000000003},\n",
       "  mean: 0.99155, std: 0.00032, params: {'alpha': 3.4000000000000004},\n",
       "  mean: 0.99130, std: 0.00032, params: {'alpha': 3.5},\n",
       "  mean: 0.99103, std: 0.00033, params: {'alpha': 3.6000000000000001},\n",
       "  mean: 0.99076, std: 0.00034, params: {'alpha': 3.7000000000000002},\n",
       "  mean: 0.99048, std: 0.00036, params: {'alpha': 3.8000000000000003},\n",
       "  mean: 0.99020, std: 0.00037, params: {'alpha': 3.9000000000000004}],\n",
       " {'alpha': 0.40000000000000002},\n",
       " 0.99575113231388301)"
      ]
     },
     "execution_count": 28,
     "metadata": {},
     "output_type": "execute_result"
    }
   ],
   "source": [
    "gsearch1=GridSearchCV(Lasso(),param_grid =param_test1,cv=3)\n",
    "gsearch1.fit(X,y)\n",
    "gsearch1.grid_scores_,gsearch1.best_params_, gsearch1.best_score_"
   ]
  },
  {
   "cell_type": "code",
   "execution_count": 44,
   "metadata": {
    "collapsed": true
   },
   "outputs": [],
   "source": [
    "?np.corrcoef"
   ]
  },
  {
   "cell_type": "code",
   "execution_count": 46,
   "metadata": {
    "collapsed": false
   },
   "outputs": [
    {
     "data": {
      "text/plain": [
       "[0, 1, 2, 3, 4, 5, 6, 7, 8, 9]"
      ]
     },
     "execution_count": 46,
     "metadata": {},
     "output_type": "execute_result"
    }
   ],
   "source": [
    "[i for i in range(10)]"
   ]
  },
  {
   "cell_type": "code",
   "execution_count": null,
   "metadata": {
    "collapsed": true
   },
   "outputs": [],
   "source": []
  }
 ],
 "metadata": {
  "anaconda-cloud": {},
  "kernelspec": {
   "display_name": "Python 3",
   "language": "python",
   "name": "python3"
  },
  "language_info": {
   "codemirror_mode": {
    "name": "ipython",
    "version": 3
   },
   "file_extension": ".py",
   "mimetype": "text/x-python",
   "name": "python",
   "nbconvert_exporter": "python",
   "pygments_lexer": "ipython3",
   "version": "3.4.3"
  }
 },
 "nbformat": 4,
 "nbformat_minor": 2
}
