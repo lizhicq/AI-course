{
 "cells": [
  {
   "cell_type": "code",
   "execution_count": 4,
   "metadata": {
    "collapsed": true
   },
   "outputs": [],
   "source": [
    "import pandas as pd\n",
    "import numpy as np\n",
    "import matplotlib.pyplot as plt"
   ]
  },
  {
   "cell_type": "code",
   "execution_count": 5,
   "metadata": {
    "collapsed": true
   },
   "outputs": [],
   "source": [
    "## 构造回归数据 ##\n",
    "from sklearn.datasets import make_regression\n",
    "reg_data, reg_target = make_regression(n_samples=10, n_features=1, n_informative=2, noise=5)"
   ]
  },
  {
   "cell_type": "code",
   "execution_count": 6,
   "metadata": {
    "collapsed": true
   },
   "outputs": [],
   "source": [
    "def plot_lines(a,b,rangea,color):\n",
    "    # plot y=ax+b\n",
    "    x=np.array(rangea)\n",
    "    y=a*x+b\n",
    "    plt.plot(x,y,color)\n",
    "    return a,b"
   ]
  },
  {
   "cell_type": "code",
   "execution_count": 11,
   "metadata": {
    "collapsed": false
   },
   "outputs": [
    {
     "data": {
      "image/png": "[encoded data removed]",
      "text/plain": [
       "<matplotlib.figure.Figure at 0x109932dd8>"
      ]
     },
     "metadata": {},
     "output_type": "display_data"
    }
   ],
   "source": [
    "from sklearn.linear_model import Lasso\n",
    "from sklearn.linear_model import Ridge\n",
    "ridge=Ridge(alpha=0)\n",
    "ridge.fit(reg_data[:,0:1],reg_target)\n",
    "plt.scatter(reg_data[:,0:1],reg_target,c='b')\n",
    "a=ridge.coef_\n",
    "b=ridge.intercept_\n",
    "rangea=[min(reg_data[:,0]),max(reg_data[:,0])]\n",
    "plot_lines(a,b,rangea,'r-')\n",
    "\n",
    "ridge=Ridge(alpha=3)\n",
    "ridge.fit(reg_data[:,0:1],reg_target)\n",
    "a=ridge.coef_\n",
    "b=ridge.intercept_\n",
    "rangea=[min(reg_data[:,0]),max(reg_data[:,0])]\n",
    "plot_lines(a,b,rangea,'g-')\n",
    "\n",
    "\n",
    "lasso=Lasso(alpha=3)\n",
    "lasso.fit(reg_data[:,0:1],reg_target)\n",
    "a=lasso.coef_\n",
    "b=lasso.intercept_\n",
    "rangea=[min(reg_data[:,0]),max(reg_data[:,0])]\n",
    "plot_lines(a,b,rangea,'y-')\n",
    "\n",
    "plt.show()\n"
   ]
  },
  {
   "cell_type": "code",
   "execution_count": 9,
   "metadata": {
    "collapsed": true
   },
   "outputs": [],
   "source": [
    "## 重新构造多维数据 ##\n",
    "from sklearn.datasets import make_regression\n",
    "reg_data, reg_target = make_regression(n_samples=10, n_features=20, n_informative=2, noise=200)"
   ]
  },
  {
   "cell_type": "code",
   "execution_count": 12,
   "metadata": {
    "collapsed": false
   },
   "outputs": [
    {
     "name": "stdout",
     "output_type": "stream",
     "text": [
      "[  6.64333389  21.7660136   17.00692542 -13.88468192  -5.3311579\n",
      " -28.72298378 -16.33677074  38.00864395 -27.32307629 -10.81850597\n",
      "   4.18152285  18.79644022  50.32921994  -1.29869047 -21.41717881\n",
      "  10.20094904  14.62489937  59.99097768  10.0048909    4.99566542]\n",
      "59.9909776847 -28.7229837842\n"
     ]
    },
    {
     "name": "stderr",
     "output_type": "stream",
     "text": [
      "/Library/Frameworks/Python.framework/Versions/3.4/lib/python3.4/site-packages/scipy/linalg/basic.py:223: RuntimeWarning: scipy.linalg.solve\n",
      "Ill-conditioned matrix detected. Result is not guaranteed to be accurate.\n",
      "Reciprocal condition number: 5.351358686175843e-18\n",
      "  ' condition number: {}'.format(rcond), RuntimeWarning)\n"
     ]
    }
   ],
   "source": [
    "ridge=Ridge(alpha=0)\n",
    "ridge.fit(reg_data,reg_target)\n",
    "a=ridge.coef_\n",
    "b=ridge.intercept_\n",
    "print(a)\n",
    "\n",
    "print(max(a),min(a))"
   ]
  },
  {
   "cell_type": "code",
   "execution_count": 13,
   "metadata": {
    "collapsed": false
   },
   "outputs": [
    {
     "name": "stdout",
     "output_type": "stream",
     "text": [
      "[  5.79552312  17.15856282  13.81597875 -10.17815072  -3.08126627\n",
      " -24.30062435 -12.89089992  29.7596106  -21.42075302  -9.96204033\n",
      "   4.18356512  14.25875417  41.09983269  -1.09712932 -17.64010842\n",
      "   8.95628186  13.64753343  49.36720202   8.1041702    3.62775399]\n",
      "49.3672020199 -24.3006243532\n"
     ]
    }
   ],
   "source": [
    "ridge=Ridge(alpha=3)\n",
    "ridge.fit(reg_data,reg_target)\n",
    "a=ridge.coef_\n",
    "b=ridge.intercept_\n",
    "print(a)\n",
    "print(max(a),min(a))"
   ]
  },
  {
   "cell_type": "code",
   "execution_count": 14,
   "metadata": {
    "collapsed": false
   },
   "outputs": [
    {
     "name": "stdout",
     "output_type": "stream",
     "text": [
      "[  0.          -0.           0.          -0.          -0.         -15.99953162\n",
      "  -0.          41.91225372 -44.6994985   -0.           0.           0.36739033\n",
      "  38.91727724  -0.         -24.21473903  12.41825368   0.          88.28652875\n",
      "   0.           0.        ]\n",
      "88.2865287456 -44.6994985006\n"
     ]
    }
   ],
   "source": [
    "lasso=Lasso(alpha=3)\n",
    "lasso.fit(reg_data,reg_target)\n",
    "a=lasso.coef_\n",
    "b=lasso.intercept_\n",
    "print(a)\n",
    "print(max(a),min(a))"
   ]
  },
  {
   "cell_type": "code",
   "execution_count": null,
   "metadata": {
    "collapsed": true
   },
   "outputs": [],
   "source": []
  }
 ],
 "metadata": {
  "anaconda-cloud": {},
  "kernelspec": {
   "display_name": "Python 3",
   "language": "python",
   "name": "python3"
  },
  "language_info": {
   "codemirror_mode": {
    "name": "ipython",
    "version": 3
   },
   "file_extension": ".py",
   "mimetype": "text/x-python",
   "name": "python",
   "nbconvert_exporter": "python",
   "pygments_lexer": "ipython3",
   "version": "3.4.3"
  }
 },
 "nbformat": 4,
 "nbformat_minor": 2
}
