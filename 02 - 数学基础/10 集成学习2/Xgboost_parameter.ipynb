{
 "cells": [
  {
   "cell_type": "code",
   "execution_count": 8,
   "metadata": {
    "collapsed": true
   },
   "outputs": [],
   "source": [
    "import pandas as pd\n",
    "import numpy as np  \n",
    "import xgboost as xgb #原生的模块 \n",
    "from xgboost.sklearn import XGBClassifier # 封装到sklearn\n",
    "from sklearn.datasets import make_classification\n",
    "from sklearn.model_selection import train_test_split\n",
    "from sklearn.metrics import roc_auc_score\n",
    "from sklearn.model_selection import GridSearchCV\n",
    "\n",
    "X, y = make_classification(n_samples=800)\n",
    "X_train, X_test, y_train, y_test = train_test_split(X, y, test_size=0.4)"
   ]
  },
  {
   "cell_type": "code",
   "execution_count": 9,
   "metadata": {
    "collapsed": true
   },
   "outputs": [],
   "source": [
    "de_param={\n",
    "'n_estimators':100,\n",
    "'max_depth':10,\n",
    "'min_child_weight':5,\n",
    "'gamma':0,\n",
    "'subsample':0.2,\n",
    "'colsample_bytree':0.3,\n",
    "'reg_alpha':0,\n",
    "'learning_rate':0.1,\n",
    "'random_state':10}"
   ]
  },
  {
   "cell_type": "code",
   "execution_count": 12,
   "metadata": {
    "collapsed": false
   },
   "outputs": [
    {
     "name": "stdout",
     "output_type": "stream",
     "text": [
      "AUC Score (Train): 0.983556\n",
      "AUC Score (Test): 0.953148\n"
     ]
    }
   ],
   "source": [
    "rf0 = xgb.XGBClassifier(**de_param) #注意两个**加上de_param,否则报错\n",
    "rf0.fit(X_train,y_train)\n",
    "y_trainprob = rf0.predict_proba(X_train)[:,1]\n",
    "y_testprob = rf0.predict_proba(X_test)[:,1]\n",
    "print (\"AUC Score (Train): %f\" % roc_auc_score(y_train, y_trainprob))\n",
    "print (\"AUC Score (Test): %f\" % roc_auc_score(y_test, y_testprob))"
   ]
  },
  {
   "cell_type": "code",
   "execution_count": 42,
   "metadata": {
    "collapsed": true
   },
   "outputs": [],
   "source": [
    "# n_estimators=100,\n",
    "# max_depth=3,\n",
    "# gamma=0,\n",
    "# subsample=0.8,\n",
    "# colsample_bytree=0.9,\n",
    "# reg_alpha=0,\n",
    "# learning_rate =0.1,\n",
    "# random_state=10"
   ]
  },
  {
   "cell_type": "code",
   "execution_count": 13,
   "metadata": {
    "collapsed": false
   },
   "outputs": [
    {
     "name": "stderr",
     "output_type": "stream",
     "text": [
      "/Library/Frameworks/Python.framework/Versions/3.4/lib/python3.4/site-packages/sklearn/model_selection/_search.py:667: DeprecationWarning: The grid_scores_ attribute was deprecated in version 0.18 in favor of the more elaborate cv_results_ attribute. The grid_scores_ attribute will not be available from 0.20\n",
      "  DeprecationWarning)\n"
     ]
    },
    {
     "data": {
      "text/plain": [
       "([mean: 0.96921, std: 0.00681, params: {'n_estimators': 10},\n",
       "  mean: 0.97546, std: 0.00362, params: {'n_estimators': 30},\n",
       "  mean: 0.97344, std: 0.00407, params: {'n_estimators': 50},\n",
       "  mean: 0.97211, std: 0.00444, params: {'n_estimators': 70},\n",
       "  mean: 0.97205, std: 0.00453, params: {'n_estimators': 90},\n",
       "  mean: 0.97241, std: 0.00432, params: {'n_estimators': 110},\n",
       "  mean: 0.97233, std: 0.00395, params: {'n_estimators': 130},\n",
       "  mean: 0.97207, std: 0.00380, params: {'n_estimators': 150},\n",
       "  mean: 0.97237, std: 0.00372, params: {'n_estimators': 170},\n",
       "  mean: 0.97247, std: 0.00406, params: {'n_estimators': 190},\n",
       "  mean: 0.97201, std: 0.00411, params: {'n_estimators': 210},\n",
       "  mean: 0.97164, std: 0.00407, params: {'n_estimators': 230},\n",
       "  mean: 0.97132, std: 0.00395, params: {'n_estimators': 250},\n",
       "  mean: 0.97153, std: 0.00391, params: {'n_estimators': 270},\n",
       "  mean: 0.97153, std: 0.00391, params: {'n_estimators': 290}],\n",
       " {'n_estimators': 30},\n",
       " 0.97545842217484013)"
      ]
     },
     "execution_count": 13,
     "metadata": {},
     "output_type": "execute_result"
    }
   ],
   "source": [
    "param_test1 = {'n_estimators':range(10,300,20)} # 调节n_estimators参数\n",
    "model=xgb.XGBClassifier(**de_param)\n",
    "gsearch1 = GridSearchCV(estimator = model,param_grid = param_test1, scoring='roc_auc',cv=3)\n",
    "gsearch1.fit(X,y)\n",
    "gsearch1.grid_scores_, gsearch1.best_params_, gsearch1.best_score_"
   ]
  },
  {
   "cell_type": "code",
   "execution_count": 19,
   "metadata": {
    "collapsed": true
   },
   "outputs": [],
   "source": [
    "de_param['n_estimators']=30"
   ]
  },
  {
   "cell_type": "code",
   "execution_count": 20,
   "metadata": {
    "collapsed": false
   },
   "outputs": [
    {
     "name": "stdout",
     "output_type": "stream",
     "text": [
      "AUC Score (Train): 0.982775\n",
      "AUC Score (Test): 0.951858\n"
     ]
    }
   ],
   "source": [
    "rf0 = xgb.XGBClassifier(**de_param)\n",
    "rf0.fit(X_train,y_train)\n",
    "y_trainprob = rf0.predict_proba(X_train)[:,1]\n",
    "y_testprob = rf0.predict_proba(X_test)[:,1]\n",
    "print (\"AUC Score (Train): %f\" % roc_auc_score(y_train, y_trainprob))\n",
    "print (\"AUC Score (Test): %f\" % roc_auc_score(y_test, y_testprob))"
   ]
  },
  {
   "cell_type": "code",
   "execution_count": 21,
   "metadata": {
    "collapsed": false
   },
   "outputs": [
    {
     "name": "stderr",
     "output_type": "stream",
     "text": [
      "/Library/Frameworks/Python.framework/Versions/3.4/lib/python3.4/site-packages/sklearn/model_selection/_search.py:667: DeprecationWarning: The grid_scores_ attribute was deprecated in version 0.18 in favor of the more elaborate cv_results_ attribute. The grid_scores_ attribute will not be available from 0.20\n",
      "  DeprecationWarning)\n"
     ]
    },
    {
     "data": {
      "text/plain": [
       "([mean: 0.97268, std: 0.00404, params: {'max_depth': 1},\n",
       "  mean: 0.97535, std: 0.00339, params: {'max_depth': 2},\n",
       "  mean: 0.97546, std: 0.00362, params: {'max_depth': 3},\n",
       "  mean: 0.97546, std: 0.00362, params: {'max_depth': 4},\n",
       "  mean: 0.97546, std: 0.00362, params: {'max_depth': 5},\n",
       "  mean: 0.97546, std: 0.00362, params: {'max_depth': 6}],\n",
       " {'max_depth': 3},\n",
       " 0.97545842217484013)"
      ]
     },
     "execution_count": 21,
     "metadata": {},
     "output_type": "execute_result"
    }
   ],
   "source": [
    "param_test1 = {'max_depth':range(1,7,1)} #树最大深度，不能太深，太深的话，存在过拟合的风险\n",
    "model=xgb.XGBClassifier(**de_param)\n",
    "gsearch1 = GridSearchCV(estimator = model,param_grid = param_test1, scoring='roc_auc',cv=3)\n",
    "\n",
    "gsearch1.fit(X,y)\n",
    "gsearch1.grid_scores_, gsearch1.best_params_, gsearch1.best_score_"
   ]
  },
  {
   "cell_type": "code",
   "execution_count": 17,
   "metadata": {
    "collapsed": true
   },
   "outputs": [],
   "source": [
    "de_param['max_depth']=3"
   ]
  },
  {
   "cell_type": "code",
   "execution_count": 18,
   "metadata": {
    "collapsed": false
   },
   "outputs": [
    {
     "name": "stdout",
     "output_type": "stream",
     "text": [
      "AUC Score (Train): 0.982775\n",
      "AUC Score (Test): 0.951858\n"
     ]
    }
   ],
   "source": [
    "rf0 = xgb.XGBClassifier(**de_param)\n",
    "rf0.fit(X_train,y_train)\n",
    "y_trainprob = rf0.predict_proba(X_train)[:,1]\n",
    "y_testprob = rf0.predict_proba(X_test)[:,1]\n",
    "print (\"AUC Score (Train): %f\" % roc_auc_score(y_train, y_trainprob))\n",
    "print (\"AUC Score (Test): %f\" % roc_auc_score(y_test, y_testprob))"
   ]
  },
  {
   "cell_type": "code",
   "execution_count": 23,
   "metadata": {
    "collapsed": false
   },
   "outputs": [
    {
     "name": "stderr",
     "output_type": "stream",
     "text": [
      "/Library/Frameworks/Python.framework/Versions/3.4/lib/python3.4/site-packages/sklearn/model_selection/_search.py:667: DeprecationWarning: The grid_scores_ attribute was deprecated in version 0.18 in favor of the more elaborate cv_results_ attribute. The grid_scores_ attribute will not be available from 0.20\n",
      "  DeprecationWarning)\n"
     ]
    },
    {
     "data": {
      "text/plain": [
       "([mean: 0.97546, std: 0.00362, params: {'gamma': 0},\n",
       "  mean: 0.97546, std: 0.00362, params: {'gamma': 0.01},\n",
       "  mean: 0.97546, std: 0.00362, params: {'gamma': 0.1},\n",
       "  mean: 0.97188, std: 0.00552, params: {'gamma': 10}],\n",
       " {'gamma': 0},\n",
       " 0.97545842217484013)"
      ]
     },
     "execution_count": 23,
     "metadata": {},
     "output_type": "execute_result"
    }
   ],
   "source": [
    "param_test1 = {'gamma':[0,0.01,0.1,10]} # 正则化系数，叶子节点数量的正则化系数\n",
    "model=xgb.XGBClassifier(**de_param)\n",
    "gsearch1 = GridSearchCV(estimator = model,param_grid = param_test1, scoring='roc_auc',cv=3)\n",
    "\n",
    "gsearch1.fit(X,y)\n",
    "gsearch1.grid_scores_, gsearch1.best_params_, gsearch1.best_score_"
   ]
  },
  {
   "cell_type": "code",
   "execution_count": 24,
   "metadata": {
    "collapsed": true
   },
   "outputs": [],
   "source": [
    "de_param['gamma']=0"
   ]
  },
  {
   "cell_type": "code",
   "execution_count": 25,
   "metadata": {
    "collapsed": false
   },
   "outputs": [
    {
     "name": "stdout",
     "output_type": "stream",
     "text": [
      "AUC Score (Train): 0.982775\n",
      "AUC Score (Test): 0.951858\n"
     ]
    }
   ],
   "source": [
    "rf0 = xgb.XGBClassifier(**de_param)\n",
    "rf0.fit(X_train,y_train)\n",
    "y_trainprob = rf0.predict_proba(X_train)[:,1]\n",
    "y_testprob = rf0.predict_proba(X_test)[:,1]\n",
    "print (\"AUC Score (Train): %f\" % roc_auc_score(y_train, y_trainprob))\n",
    "print (\"AUC Score (Test): %f\" % roc_auc_score(y_test, y_testprob))"
   ]
  },
  {
   "cell_type": "code",
   "execution_count": 26,
   "metadata": {
    "collapsed": false
   },
   "outputs": [
    {
     "name": "stderr",
     "output_type": "stream",
     "text": [
      "/Library/Frameworks/Python.framework/Versions/3.4/lib/python3.4/site-packages/sklearn/model_selection/_search.py:667: DeprecationWarning: The grid_scores_ attribute was deprecated in version 0.18 in favor of the more elaborate cv_results_ attribute. The grid_scores_ attribute will not be available from 0.20\n",
      "  DeprecationWarning)\n"
     ]
    },
    {
     "data": {
      "text/plain": [
       "([mean: 0.97546, std: 0.00362, params: {'subsample': 0.2},\n",
       "  mean: 0.97881, std: 0.00683, params: {'subsample': 0.4},\n",
       "  mean: 0.98486, std: 0.00657, params: {'subsample': 0.8},\n",
       "  mean: 0.98325, std: 0.00408, params: {'subsample': 1.0}],\n",
       " {'subsample': 0.8},\n",
       " 0.98485986421277061)"
      ]
     },
     "execution_count": 26,
     "metadata": {},
     "output_type": "execute_result"
    }
   ],
   "source": [
    "param_test1 = {'subsample':[0.2,0.4,0.8,1.0]} #调节子样本的比率\n",
    "model=xgb.XGBClassifier(**de_param)\n",
    "gsearch1 = GridSearchCV(estimator = model,param_grid = param_test1, scoring='roc_auc',cv=3)\n",
    "\n",
    "gsearch1.fit(X,y)\n",
    "gsearch1.grid_scores_, gsearch1.best_params_, gsearch1.best_score_"
   ]
  },
  {
   "cell_type": "code",
   "execution_count": 27,
   "metadata": {
    "collapsed": true
   },
   "outputs": [],
   "source": [
    "de_param['subsample']=0.8"
   ]
  },
  {
   "cell_type": "code",
   "execution_count": 19,
   "metadata": {
    "collapsed": false
   },
   "outputs": [
    {
     "name": "stdout",
     "output_type": "stream",
     "text": [
      "AUC Score (Train): 0.999443\n",
      "AUC Score (Test): 0.980300\n"
     ]
    }
   ],
   "source": [
    "rf0 = xgb.XGBClassifier(**de_param)\n",
    "rf0.fit(X_train,y_train)\n",
    "y_trainprob = rf0.predict_proba(X_train)[:,1]\n",
    "y_testprob = rf0.predict_proba(X_test)[:,1]\n",
    "print (\"AUC Score (Train): %f\" % roc_auc_score(y_train, y_trainprob))\n",
    "print (\"AUC Score (Test): %f\" % roc_auc_score(y_test, y_testprob))"
   ]
  },
  {
   "cell_type": "code",
   "execution_count": 28,
   "metadata": {
    "collapsed": false
   },
   "outputs": [
    {
     "name": "stderr",
     "output_type": "stream",
     "text": [
      "/Library/Frameworks/Python.framework/Versions/3.4/lib/python3.4/site-packages/sklearn/model_selection/_search.py:667: DeprecationWarning: The grid_scores_ attribute was deprecated in version 0.18 in favor of the more elaborate cv_results_ attribute. The grid_scores_ attribute will not be available from 0.20\n",
      "  DeprecationWarning)\n"
     ]
    },
    {
     "data": {
      "text/plain": [
       "([mean: 0.98222, std: 0.00338, params: {'colsample_bytree': 0.2},\n",
       "  mean: 0.98491, std: 0.00554, params: {'colsample_bytree': 0.4},\n",
       "  mean: 0.98503, std: 0.00757, params: {'colsample_bytree': 0.8},\n",
       "  mean: 0.98505, std: 0.00672, params: {'colsample_bytree': 0.9},\n",
       "  mean: 0.98588, std: 0.00602, params: {'colsample_bytree': 0.95},\n",
       "  mean: 0.98625, std: 0.00593, params: {'colsample_bytree': 1.0}],\n",
       " {'colsample_bytree': 1.0},\n",
       " 0.9862494388957469)"
      ]
     },
     "execution_count": 28,
     "metadata": {},
     "output_type": "execute_result"
    }
   ],
   "source": [
    "param_test1 = {'colsample_bytree':[0.2,0.4,0.8,0.9,0.95,1.0]} # 列抽样的比率\n",
    "model=xgb.XGBClassifier(**de_param)\n",
    "gsearch1 = GridSearchCV(estimator = model,param_grid = param_test1, scoring='roc_auc',cv=3)\n",
    "\n",
    "gsearch1.fit(X,y)\n",
    "gsearch1.grid_scores_, gsearch1.best_params_, gsearch1.best_score_"
   ]
  },
  {
   "cell_type": "code",
   "execution_count": 29,
   "metadata": {
    "collapsed": true
   },
   "outputs": [],
   "source": [
    "de_param['colsample_bytree']=1.0"
   ]
  },
  {
   "cell_type": "code",
   "execution_count": 20,
   "metadata": {
    "collapsed": false
   },
   "outputs": [
    {
     "name": "stderr",
     "output_type": "stream",
     "text": [
      "/Library/Frameworks/Python.framework/Versions/3.4/lib/python3.4/site-packages/sklearn/model_selection/_search.py:667: DeprecationWarning: The grid_scores_ attribute was deprecated in version 0.18 in favor of the more elaborate cv_results_ attribute. The grid_scores_ attribute will not be available from 0.20\n",
      "  DeprecationWarning)\n"
     ]
    },
    {
     "data": {
      "text/plain": [
       "([mean: 0.97447, std: 0.01118, params: {'reg_alpha': 0},\n",
       "  mean: 0.97435, std: 0.01083, params: {'reg_alpha': 0.2},\n",
       "  mean: 0.97436, std: 0.01164, params: {'reg_alpha': 0.4},\n",
       "  mean: 0.97472, std: 0.01192, params: {'reg_alpha': 0.8},\n",
       "  mean: 0.97489, std: 0.01102, params: {'reg_alpha': 1.0}],\n",
       " {'reg_alpha': 1.0},\n",
       " 0.97488874877813414)"
      ]
     },
     "execution_count": 20,
     "metadata": {},
     "output_type": "execute_result"
    }
   ],
   "source": [
    "param_test1 = {'reg_alpha':[0,0.2,0.4,0.8,1.0]}\n",
    "model=xgb.XGBClassifier(**de_param)\n",
    "gsearch1 = GridSearchCV(estimator = model,param_grid = param_test1, scoring='roc_auc',cv=3)\n",
    "\n",
    "gsearch1.fit(X,y)\n",
    "gsearch1.grid_scores_, gsearch1.best_params_, gsearch1.best_score_"
   ]
  },
  {
   "cell_type": "code",
   "execution_count": 31,
   "metadata": {
    "collapsed": true
   },
   "outputs": [],
   "source": [
    "de_param['reg_alpha']=0"
   ]
  },
  {
   "cell_type": "code",
   "execution_count": 32,
   "metadata": {
    "collapsed": false
   },
   "outputs": [
    {
     "name": "stderr",
     "output_type": "stream",
     "text": [
      "/Library/Frameworks/Python.framework/Versions/3.4/lib/python3.4/site-packages/sklearn/model_selection/_search.py:667: DeprecationWarning: The grid_scores_ attribute was deprecated in version 0.18 in favor of the more elaborate cv_results_ attribute. The grid_scores_ attribute will not be available from 0.20\n",
      "  DeprecationWarning)\n"
     ]
    },
    {
     "data": {
      "text/plain": [
       "([mean: 0.50000, std: 0.00000, params: {'learning_rate': 0},\n",
       "  mean: 0.97178, std: 0.00696, params: {'learning_rate': 0.01},\n",
       "  mean: 0.98186, std: 0.00650, params: {'learning_rate': 0.05},\n",
       "  mean: 0.98625, std: 0.00593, params: {'learning_rate': 0.1}],\n",
       " {'learning_rate': 0.1},\n",
       " 0.9862494388957469)"
      ]
     },
     "execution_count": 32,
     "metadata": {},
     "output_type": "execute_result"
    }
   ],
   "source": [
    "param_test1 = {'learning_rate':[0,0.01,0.05,0.1]} # 学习率的调节，防止过拟合风险的参数\n",
    "model=xgb.XGBClassifier(**de_param)\n",
    "gsearch1 = GridSearchCV(estimator = model,param_grid = param_test1, scoring='roc_auc',cv=3)\n",
    "\n",
    "gsearch1.fit(X,y)\n",
    "gsearch1.grid_scores_, gsearch1.best_params_, gsearch1.best_score_"
   ]
  },
  {
   "cell_type": "code",
   "execution_count": 22,
   "metadata": {
    "collapsed": false
   },
   "outputs": [
    {
     "name": "stdout",
     "output_type": "stream",
     "text": [
      "AUC Score (Train): 0.999443\n",
      "AUC Score (Test): 0.980300\n"
     ]
    }
   ],
   "source": [
    "rf0 = xgb.XGBClassifier(**de_param)\n",
    "rf0.fit(X_train,y_train)\n",
    "y_trainprob = rf0.predict_proba(X_train)[:,1]\n",
    "y_testprob = rf0.predict_proba(X_test)[:,1]\n",
    "print (\"AUC Score (Train): %f\" % roc_auc_score(y_train, y_trainprob))\n",
    "print (\"AUC Score (Test): %f\" % roc_auc_score(y_test, y_testprob))"
   ]
  },
  {
   "cell_type": "code",
   "execution_count": 23,
   "metadata": {
    "collapsed": true
   },
   "outputs": [],
   "source": [
    "de_param['learning_rate']=0.01"
   ]
  },
  {
   "cell_type": "code",
   "execution_count": 24,
   "metadata": {
    "collapsed": false
   },
   "outputs": [
    {
     "name": "stdout",
     "output_type": "stream",
     "text": [
      "AUC Score (Train): 0.990817\n",
      "AUC Score (Test): 0.980771\n"
     ]
    }
   ],
   "source": [
    "rf0 = xgb.XGBClassifier(**de_param)\n",
    "rf0.fit(X_train,y_train)\n",
    "y_trainprob = rf0.predict_proba(X_train)[:,1]\n",
    "y_testprob = rf0.predict_proba(X_test)[:,1]\n",
    "print (\"AUC Score (Train): %f\" % roc_auc_score(y_train, y_trainprob))\n",
    "print (\"AUC Score (Test): %f\" % roc_auc_score(y_test, y_testprob))"
   ]
  },
  {
   "cell_type": "code",
   "execution_count": 25,
   "metadata": {
    "collapsed": false
   },
   "outputs": [
    {
     "data": {
      "text/plain": [
       "<bound method XGBClassifier.get_params of XGBClassifier(base_score=0.5, booster='gbtree', colsample_bylevel=1,\n",
       "       colsample_bytree=0.95, gamma=0, learning_rate=0.01,\n",
       "       max_delta_step=0, max_depth=3, min_child_weight=5, missing=None,\n",
       "       n_estimators=230, n_jobs=1, nthread=None,\n",
       "       objective='binary:logistic', random_state=10, reg_alpha=0,\n",
       "       reg_lambda=1, scale_pos_weight=1, seed=None, silent=True,\n",
       "       subsample=0.8)>"
      ]
     },
     "execution_count": 25,
     "metadata": {},
     "output_type": "execute_result"
    }
   ],
   "source": [
    "rf0.get_params"
   ]
  },
  {
   "cell_type": "code",
   "execution_count": null,
   "metadata": {
    "collapsed": true
   },
   "outputs": [],
   "source": []
  }
 ],
 "metadata": {
  "anaconda-cloud": {},
  "kernelspec": {
   "display_name": "Python 3",
   "language": "python",
   "name": "python3"
  },
  "language_info": {
   "codemirror_mode": {
    "name": "ipython",
    "version": 3
   },
   "file_extension": ".py",
   "mimetype": "text/x-python",
   "name": "python",
   "nbconvert_exporter": "python",
   "pygments_lexer": "ipython3",
   "version": "3.4.3"
  }
 },
 "nbformat": 4,
 "nbformat_minor": 2
}
