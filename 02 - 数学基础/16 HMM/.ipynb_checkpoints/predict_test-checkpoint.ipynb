{
 "cells": [
  {
   "cell_type": "code",
   "execution_count": 8,
   "metadata": {
    "collapsed": true
   },
   "outputs": [],
   "source": [
    "import os\n",
    "import sys\n",
    "import json\n",
    "import pdb"
   ]
  },
  {
   "cell_type": "code",
   "execution_count": 9,
   "metadata": {
    "collapsed": true
   },
   "outputs": [],
   "source": [
    "def load_model(f_name):\n",
    "    ifp = json.load(open(f_name))\n",
    "    return ifp"
   ]
  },
  {
   "cell_type": "code",
   "execution_count": 10,
   "metadata": {
    "collapsed": true
   },
   "outputs": [],
   "source": [
    "prob_start = load_model(\"prob_start.pd\")\n",
    "prob_trans = load_model(\"prob_trans.pd\")\n",
    "prob_emit = load_model(\"prob_emit.pd\")"
   ]
  },
  {
   "cell_type": "code",
   "execution_count": 11,
   "metadata": {
    "collapsed": false
   },
   "outputs": [],
   "source": [
    "def viterbi(obs, states, start_p, trans_p, emit_p):\n",
    "    V = [{}] #tabular\n",
    "    path = {}\n",
    "    for y in states: #init\n",
    "        V[0][y] = start_p[y] * emit_p[y].get(obs[0],0)\n",
    "        path[y] = [y]\n",
    "    for t in range(1,len(obs)):\n",
    "        V.append({})\n",
    "        newpath = {}\n",
    "        for y in states:\n",
    "            (prob,state ) = max([(V[t-1][y0] * trans_p[y0].get(y,0) * emit_p[y].get(obs[t],0) ,y0) for y0 in states if V[t-1][y0]>0])\n",
    "            V[t][y] =prob\n",
    "            newpath[y] = path[state] + [y]\n",
    "        path = newpath\n",
    "    (prob, state) = max([(V[len(obs) - 1][y], y) for y in states])\n",
    "    return (prob, path[state])\n",
    "\n",
    "def cut(sentence):\n",
    "    #pdb.set_trace()\n",
    "    prob, pos_list =  viterbi(sentence,('B','M','E','S'), prob_start, prob_trans, prob_emit)\n",
    "    return (prob,pos_list)\n",
    "    \n",
    "def cut_list(pos_list):\n",
    "    cut_output=[]\n",
    "    i=0\n",
    "    for itag in pos_list:\n",
    "        if itag=='B':\n",
    "            word=test_str[i]\n",
    "        elif itag=='M':\n",
    "            word+=test_str[i]\n",
    "        elif itag=='E':\n",
    "            word+=test_str[i]\n",
    "            cut_output.append(word)\n",
    "        else:\n",
    "            word=test_str[i]\n",
    "            cut_output.append(word)\n",
    "        i+=1\n",
    "    return cut_output\n"
   ]
  },
  {
   "cell_type": "code",
   "execution_count": 12,
   "metadata": {
    "collapsed": false
   },
   "outputs": [
    {
     "name": "stdout",
     "output_type": "stream",
     "text": [
      "我研究机器学习。\n",
      "['S', 'B', 'E', 'B', 'E', 'B', 'E', 'S']\n",
      "['我', '研究', '机器', '学习', '。']\n"
     ]
    }
   ],
   "source": [
    "test_str = \"我研究机器学习。\"\n",
    "prob,pos_list = cut(test_str)\n",
    "cut_output = cut_list(pos_list)\n",
    "print (test_str)\n",
    "print (pos_list)\n",
    "print (cut_output)\n"
   ]
  },
  {
   "cell_type": "code",
   "execution_count": 13,
   "metadata": {
    "collapsed": false
   },
   "outputs": [
    {
     "data": {
      "text/plain": [
       "['S', 'B', 'E', 'B', 'E', 'B', 'E', 'S']"
      ]
     },
     "execution_count": 13,
     "metadata": {},
     "output_type": "execute_result"
    }
   ],
   "source": [
    "pos_list"
   ]
  },
  {
   "cell_type": "code",
   "execution_count": 15,
   "metadata": {
    "collapsed": false
   },
   "outputs": [
    {
     "data": {
      "text/plain": [
       "['我', '研', '究', '机', '器', '学', '习', '。']"
      ]
     },
     "execution_count": 15,
     "metadata": {},
     "output_type": "execute_result"
    }
   ],
   "source": [
    "list(test_str)"
   ]
  },
  {
   "cell_type": "code",
   "execution_count": 16,
   "metadata": {
    "collapsed": false
   },
   "outputs": [
    {
     "ename": "SyntaxError",
     "evalue": "invalid syntax (<ipython-input-16-26dbccc77c5b>, line 1)",
     "output_type": "error",
     "traceback": [
      "\u001b[0;36m  File \u001b[0;32m\"<ipython-input-16-26dbccc77c5b>\"\u001b[0;36m, line \u001b[0;32m1\u001b[0m\n\u001b[0;31m    这 是 建国 以来 稳步 发展 持续 时间 最 长 的 时期 。\u001b[0m\n\u001b[0m      ^\u001b[0m\n\u001b[0;31mSyntaxError\u001b[0m\u001b[0;31m:\u001b[0m invalid syntax\n"
     ]
    }
   ],
   "source": [
    "这 是 建国 以来 稳步 发展 持续 时间 最 长 的 时期 。\n",
    "S S B E B E B E B E B E B E B E S S S B E"
   ]
  },
  {
   "cell_type": "code",
   "execution_count": null,
   "metadata": {
    "collapsed": true
   },
   "outputs": [],
   "source": [
    "我研究机器学习\n",
    "B M M E"
   ]
  },
  {
   "cell_type": "code",
   "execution_count": null,
   "metadata": {
    "collapsed": true
   },
   "outputs": [],
   "source": [
    "飞机"
   ]
  }
 ],
 "metadata": {
  "anaconda-cloud": {},
  "kernelspec": {
   "display_name": "Python 3",
   "language": "python",
   "name": "python3"
  },
  "language_info": {
   "codemirror_mode": {
    "name": "ipython",
    "version": 3
   },
   "file_extension": ".py",
   "mimetype": "text/x-python",
   "name": "python",
   "nbconvert_exporter": "python",
   "pygments_lexer": "ipython3",
   "version": "3.4.3"
  }
 },
 "nbformat": 4,
 "nbformat_minor": 2
}
