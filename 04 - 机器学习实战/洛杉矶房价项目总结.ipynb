{
 "cells": [
  {
   "cell_type": "markdown",
   "metadata": {},
   "source": [
    "# 洛杉矶房价预测项目总结"
   ]
  },
  {
   "cell_type": "markdown",
   "metadata": {},
   "source": [
    "# 1 引言\n",
    "## 1.1\t项目背景\n",
    "> 练习相关各类回归，决策树，xgboost，神经网络等机器学习技术\n",
    "## 1.2\t参考文档\n",
    "> 课堂课件\n",
    "\n",
    "# 2 项目完成情况总结\n",
    "## 2.1\t最开始获取过程\n",
    "> 老师引导\n",
    "## 2.2\t复习过程\n",
    "> 运行课堂上实况编写的代码\n",
    "## 2.3\t学过什么\n",
    "> Linear Regression, Decision Tree, Xgboost, Neural Network\n",
    "## 2.4\t怎么把项目进行下来\n",
    "> 坚持开发, 坚持上课\n",
    "\n"
   ]
  },
  {
   "cell_type": "markdown",
   "metadata": {},
   "source": [
    "# 3\t开发工作总结\n",
    "## 3.1\t在开发过程中学到什么\n",
    "> Linear Regression, Decision Tree, Xgboost, Neural Network\n",
    "## 3.2\t希望在未来的开发过程中学到什么\n",
    "> 希望能够实践更多的项目，跟着做一个kaggle中等规模以上的项目，取得银牌以上的成绩\n",
    "## 3.3\t开发学习过程中优点和缺点\n",
    "> 跟敲代码这个过程很好，但是后续神经网络等训练时间比较长的模型，参数比较复杂的模型，上课节奏不太好。\n",
    "> 比较熟悉的模型，比如回归和决策树，敲代码的过程中学到很多，对于算法进行了代码级别的掌握\n",
    "> 比较不熟悉的模型，比如神经网络，跟课过程中有些吃力，当然，主要是自己的时间安排上没有合理抽出足够时间预习和复习。\n",
    "## 3.4\t还希望开发过程中在哪方便做更多尝试\n",
    "> 希望能够跟着做一个kaggle中等规模以上的项目，取得银牌以上的成绩\n",
    "# 4\t经验和教训\n",
    "## 4.1\t项目中习得经验\n",
    "> 对于xgboost，seaborn等常用库熟悉，面试经验讲解。\n",
    "## 4.2\t项目中习得教训\n",
    "> 缺掉的课不能拖，要尽快上完补完\n",
    "# 5\t建议和展望\n",
    "## 5.1\t对于今后项目开发工作的建议\n",
    "> 主要还是多上机，各种知识点，尽量代码级别掌握\n",
    "## 5.2\t其他建议\n",
    "> 可以多研究一些实践方面的东西，比如面试，招人，当前就业形势，未来行业发展趋势\n",
    "## 5.3\t展望\n",
    "> 补充机器学习方面的知识到自己的技术栈，努力跟上时代发展"
   ]
  },
  {
   "cell_type": "code",
   "execution_count": 72,
   "metadata": {},
   "outputs": [
    {
     "data": {
      "text/plain": [
       "array([[ 1.        , -0.49410763],\n",
       "       [-0.49410763,  1.        ]])"
      ]
     },
     "execution_count": 72,
     "metadata": {},
     "output_type": "execute_result"
    }
   ],
   "source": [
    "x1 = [1,2,3,-4,5,8,-7,-8]\n",
    "x2 = [-1,2,3,4,-5,-6,7,-4]\n",
    "np.dot(x1, x2)\n",
    "np.corrcoef(x1, x2)"
   ]
  },
  {
   "cell_type": "code",
   "execution_count": 82,
   "metadata": {},
   "outputs": [
    {
     "name": "stdout",
     "output_type": "stream",
     "text": [
      "1.2\n"
     ]
    },
    {
     "data": {
      "text/plain": [
       "array([[1.       , 0.2773501],\n",
       "       [0.2773501, 1.       ]])"
      ]
     },
     "execution_count": 82,
     "metadata": {},
     "output_type": "execute_result"
    }
   ],
   "source": [
    "x1 = [1, 0, 0]\n",
    "x2 = [1.2, 1.6, 0]\n",
    "print(np.dot(x1, x2))\n",
    "np.corrcoef(x1, x2)"
   ]
  },
  {
   "cell_type": "code",
   "execution_count": 69,
   "metadata": {},
   "outputs": [
    {
     "data": {
      "text/plain": [
       "0.0"
      ]
     },
     "execution_count": 69,
     "metadata": {},
     "output_type": "execute_result"
    }
   ],
   "source": [
    "np.average(x1)"
   ]
  }
 ],
 "metadata": {
  "kernelspec": {
   "display_name": "py36",
   "language": "python",
   "name": "py36"
  },
  "language_info": {
   "codemirror_mode": {
    "name": "ipython",
    "version": 3
   },
   "file_extension": ".py",
   "mimetype": "text/x-python",
   "name": "python",
   "nbconvert_exporter": "python",
   "pygments_lexer": "ipython3",
   "version": "3.6.8"
  },
  "toc": {
   "base_numbering": "0",
   "nav_menu": {},
   "number_sections": false,
   "sideBar": true,
   "skip_h1_title": false,
   "title_cell": "Table of Contents",
   "title_sidebar": "Contents",
   "toc_cell": false,
   "toc_position": {},
   "toc_section_display": true,
   "toc_window_display": false
  }
 },
 "nbformat": 4,
 "nbformat_minor": 2
}
