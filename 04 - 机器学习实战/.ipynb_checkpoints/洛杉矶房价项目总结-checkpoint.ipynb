{
 "cells": [
  {
   "cell_type": "markdown",
   "metadata": {},
   "source": [
    "# 洛杉矶房价预测项目总结"
   ]
  },
  {
   "cell_type": "code",
   "execution_count": null,
   "metadata": {},
   "outputs": [],
   "source": []
  },
  {
   "cell_type": "code",
   "execution_count": null,
   "metadata": {},
   "outputs": [],
   "source": []
  },
  {
   "cell_type": "markdown",
   "metadata": {},
   "source": [
    "\n",
    "1\t引言\n",
    "1.1\t项目背景\n",
    "1.2\t参考文档\n",
    "2\t项目完成情况总结\n",
    "2.1\t最开始获取过程\n",
    "2.2\t复习过程\n",
    "2.3\t学过什么\n",
    "2.4\t怎么把项目进行下来\n",
    "3\t开发工作总结\n",
    "3.1\t在开发过程中学到什么\n",
    "3.2\t希望在未来的开发过程中学到什么\n",
    "3.3\t开发学习过程中优点和缺点\n",
    "3.4\t还希望开发过程中在哪方便做更多尝试\n",
    "4\t经验和教训\n",
    "4.1\t项目中习得经验\n",
    "4.2\t项目中习得教训\n",
    "5\t建议和展望\n",
    "5.1\t对于今后项目开发工作的建议\n",
    "5.2\t其他建议\n",
    "5.3\t展望\n"
   ]
  }
 ],
 "metadata": {
  "kernelspec": {
   "display_name": "py36",
   "language": "python",
   "name": "py36"
  },
  "language_info": {
   "codemirror_mode": {
    "name": "ipython",
    "version": 3
   },
   "file_extension": ".py",
   "mimetype": "text/x-python",
   "name": "python",
   "nbconvert_exporter": "python",
   "pygments_lexer": "ipython3",
   "version": "3.6.8"
  },
  "toc": {
   "base_numbering": "0",
   "nav_menu": {},
   "number_sections": true,
   "sideBar": true,
   "skip_h1_title": false,
   "title_cell": "Table of Contents",
   "title_sidebar": "Contents",
   "toc_cell": false,
   "toc_position": {},
   "toc_section_display": true,
   "toc_window_display": true
  }
 },
 "nbformat": 4,
 "nbformat_minor": 2
}
