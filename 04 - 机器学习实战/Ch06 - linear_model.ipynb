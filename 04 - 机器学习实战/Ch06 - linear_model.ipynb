{
 "cells": [
  {
   "cell_type": "markdown",
   "metadata": {
    "colab_type": "text",
    "id": "view-in-github"
   },
   "source": [
    "<a href=\"https://colab.research.google.com/github/lizhicq/AI-course/blob/master/Ch06%20-%20linear_model.ipynb\" target=\"_parent\"><img src=\"https://colab.research.google.com/assets/colab-badge.svg\" alt=\"Open In Colab\"/></a>"
   ]
  },
  {
   "cell_type": "markdown",
   "metadata": {
    "colab_type": "text",
    "id": "RFqSA1sANfvn"
   },
   "source": [
    "# Mount Google Drive\n",
    "from google.colab import drive\n",
    "drive.mount('/content/drive')\n",
    "root = \"/content/drive/My Drive/Aache/MLCC/\""
   ]
  },
  {
   "cell_type": "code",
   "execution_count": 1,
   "metadata": {
    "colab": {},
    "colab_type": "code",
    "id": "LnzkhVPGNbjD"
   },
   "outputs": [],
   "source": [
    "import numpy as np \n",
    "import math \n",
    "from sklearn.metrics import mean_squared_error"
   ]
  },
  {
   "cell_type": "markdown",
   "metadata": {
    "colab_type": "text",
    "id": "_iviKjJdNbjG"
   },
   "source": [
    "### 数据准备部分"
   ]
  },
  {
   "cell_type": "code",
   "execution_count": 52,
   "metadata": {
    "colab": {},
    "colab_type": "code",
    "id": "zPWKCOL7NbjH"
   },
   "outputs": [
    {
     "name": "stdout",
     "output_type": "stream",
     "text": [
      "<class 'numpy.ndarray'>\n"
     ]
    },
    {
     "data": {
      "text/plain": [
       "[<matplotlib.lines.Line2D at 0x2097b32efd0>]"
      ]
     },
     "execution_count": 52,
     "metadata": {},
     "output_type": "execute_result"
    },
    {
     "data": {
      "image/png": "[encoded data removed]",
      "text/plain": [
       "<Figure size 432x288 with 1 Axes>"
      ]
     },
     "metadata": {
      "needs_background": "light"
     },
     "output_type": "display_data"
    }
   ],
   "source": [
    "def shuffle_data(X,y,seed=None):\n",
    "    \"将X和y的数据进行随机排序/乱序化\"\n",
    "    if seed:\n",
    "        np.random.seed(seed)\n",
    "    idx=np.arange(X.shape[0])\n",
    "    print(type(idx))\n",
    "    np.random.shuffle(idx)\n",
    "    return X[idx],y[idx] #对于np.array，idx作为index数组可以改变array的顺序\n",
    "\n",
    "def train_test_split(X,y,test_size=0.5,shuffle=True,seed=None):\n",
    "    '将数据集根据test_size分成训练集和测试集，可以指定是否随机洗牌'\n",
    "    if shuffle:\n",
    "        X,y=shuffle_data(X,y,seed)\n",
    "    split_i=len(y)-int(len(y)//(1/test_size))\n",
    "    #split_i=len(y)-int(len(y)*test_size)\n",
    "    X_train,X_test=X[:split_i],X[split_i:]\n",
    "    y_train,y_test=y[:split_i],y[split_i:]\n",
    "    \n",
    "    return X_train,X_test,y_train,y_test\n",
    "\n",
    "from sklearn.datasets import make_regression\n",
    "import matplotlib.pyplot as plt\n",
    "\n",
    "X,y=make_regression(n_samples=100,n_features=1,noise=20, random_state=None)\n",
    "X_train,X_test,y_train,y_test=train_test_split(X,y,test_size=0.2)\n",
    "\n",
    "plt.plot(X,y,'b.')\n",
    "#因为使用make_regression函数使得X乱序，在绘制matplot的图像时会有问题，所以对于X进行排序\n",
    "\n",
    "s=sorted([(X_test[i][0],y_test[i]) for i in range(len(X_test))], key=lambda j:j[0])\n",
    "X_test=np.array([[j[0]] for j in s])\n",
    "y_test=np.array([j[1] for j in s])\n",
    "plt.plot(X_test, y_test, 'k-') "
   ]
  },
  {
   "cell_type": "markdown",
   "metadata": {
    "colab_type": "text",
    "id": "9popqtLuNbjg"
   },
   "source": [
    "# 线性回归"
   ]
  },
  {
   "cell_type": "code",
   "execution_count": 16,
   "metadata": {
    "colab": {
     "base_uri": "https://localhost:8080/",
     "height": 393
    },
    "colab_type": "code",
    "id": "bqxsM0A8Nbjh",
    "outputId": "21bffb75-8c8b-4b81-a60d-030cab716e5d"
   },
   "outputs": [
    {
     "name": "stdout",
     "output_type": "stream",
     "text": [
      "[ 0.13974073 34.84184521]\n"
     ]
    },
    {
     "data": {
      "image/png": "[encoded data removed]",
      "text/plain": [
       "<Figure size 432x288 with 1 Axes>"
      ]
     },
     "metadata": {
      "needs_background": "light"
     },
     "output_type": "display_data"
    }
   ],
   "source": [
    "class Regression(object):\n",
    "    \n",
    "    \"\"\"\n",
    "        基础线性回归模型，使用输入的X和y进行参数回归\n",
    "        超参：\n",
    "        n_iterations:int 训练的步数\n",
    "        learning_rate:float 学习率\n",
    "        内部函数:\n",
    "        initialize_weights:初始化参数\n",
    "        fit:开始训练\n",
    "        predict:预测\n",
    "        内部的数据:\n",
    "        n_iterations\n",
    "        learning_rate\n",
    "        regularization:正则化参数\n",
    "        regularization.grad:正则化的梯度函数\n",
    "    \"\"\"\n",
    "    \n",
    "    def __init__(self,n_iterations,learning_rate):\n",
    "        self.n_iterations=n_iterations\n",
    "        self.learning_rate=learning_rate\n",
    "        self.regularization=lambda x:0\n",
    "        self.regularization.grad=lambda x:0\n",
    "    \n",
    "    def initialize_weights(self,n_features):\n",
    "        \"\"\"初始化系数，输入是feature的个数，输出是一个随机初始化好的参数矩阵,[-1/sqrt(N),1/sqrt(N)]\"\"\"\n",
    "        limit=1/math.sqrt(n_features)\n",
    "        self.w=np.random.uniform(-limit,limit,(n_features,))\n",
    "    \n",
    "    def fit(self,X,y):\n",
    "        #插入偏置列1到X中\n",
    "        X=np.insert(X,0,1,axis=1)#给每一行的第0列增加一个1\n",
    "        self.training_errors=[]#保存每一次步长的训练Loss\n",
    "        self.initialize_weights(n_features=X.shape[1])#初始化参数w\n",
    "        \n",
    "        #Gradient Decendent\n",
    "        for i in range(self.n_iterations):\n",
    "            y_pred=X.dot(self.w)#进行预测\n",
    "            #计算Loss\n",
    "            mse=np.mean(0.5*(y-y_pred)**2+self.regularization(self.w))\n",
    "            self.training_errors.append(mse)#将Loss加入到training_errors的数组中\n",
    "            #计算带有正则化项的梯度\n",
    "            g_w=-(y-y_pred).T.dot(X)/len(X)+self.regularization.grad(self.w)\n",
    "            #根据梯度下降的算法更新参数\n",
    "            self.w-=self.learning_rate*g_w\n",
    "            \n",
    "    def predict(self,X):\n",
    "        #通过输入X预测一个样本\n",
    "        X=np.insert(X,0,1,axis=1)\n",
    "        pred=X.dot(self.w)\n",
    "        return pred\n",
    "    \n",
    "model=Regression(n_iterations=1000,learning_rate=0.01)\n",
    "model.fit(X_train,y_train)\n",
    "training,=plt.plot(range(len(model.training_errors)),model.training_errors,label=\"Training Error\")\n",
    "plt.title(\"Linear Regression Training Error\")\n",
    "plt.ylabel(\"Train-Loss\")\n",
    "plt.xlabel(\"Steps\")\n",
    "print(model.w)"
   ]
  },
  {
   "cell_type": "markdown",
   "metadata": {
    "colab_type": "text",
    "id": "W2dQHpjqNbjw"
   },
   "source": [
    "### 评价模型"
   ]
  },
  {
   "cell_type": "code",
   "execution_count": 19,
   "metadata": {
    "colab": {
     "base_uri": "https://localhost:8080/",
     "height": 381
    },
    "colab_type": "code",
    "id": "cIpCayBSNbjx",
    "outputId": "ec9720cb-c6c4-415c-9cb8-e9b3b83feb6b"
   },
   "outputs": [
    {
     "name": "stdout",
     "output_type": "stream",
     "text": [
      "87.5851061425784\n"
     ]
    },
    {
     "data": {
      "text/plain": [
       "[<matplotlib.lines.Line2D at 0x2097b21c748>]"
      ]
     },
     "execution_count": 19,
     "metadata": {},
     "output_type": "execute_result"
    },
    {
     "data": {
      "image/png": "[encoded data removed]",
      "text/plain": [
       "<Figure size 432x288 with 1 Axes>"
      ]
     },
     "metadata": {
      "needs_background": "light"
     },
     "output_type": "display_data"
    }
   ],
   "source": [
    "y_pred=model.predict(X_test)\n",
    "mse=mean_squared_error(y_pred,y_test)\n",
    "print(mse)\n",
    "plt.plot(X_test,y_test,'k.')\n",
    "plt.plot(X_test,y_pred,'Y')"
   ]
  },
  {
   "cell_type": "markdown",
   "metadata": {
    "colab_type": "text",
    "id": "BQ-1m8GCNbj-"
   },
   "source": [
    "### 带有最小二乘法的线性回归"
   ]
  },
  {
   "cell_type": "code",
   "execution_count": 20,
   "metadata": {
    "colab": {
     "base_uri": "https://localhost:8080/",
     "height": 34
    },
    "colab_type": "code",
    "id": "HGzQJPVxNbj-",
    "outputId": "347cccc4-3fe1-4706-cb31-1d7d53bf486a"
   },
   "outputs": [
    {
     "name": "stdout",
     "output_type": "stream",
     "text": [
      "[ 0.14024649 34.84227422]\n"
     ]
    }
   ],
   "source": [
    "def lsm_function(X,y):\n",
    "    G=np.mat(np.insert(X,0,1,axis=1))\n",
    "    return np.squeeze(np.asarray((G.T.dot(G)).I.dot(G.T).dot(y)))\n",
    "lsm_function(X_train,y_train)\n",
    "class LinearRegression(Regression):\n",
    "    \"\"\"带有最小二乘法的线性回归\n",
    "    参数:\n",
    "    -------------\n",
    "    n_iterations\n",
    "    \n",
    "    learning_rate\n",
    "    \n",
    "    gradient_descent:bool \n",
    "        决定是否使用梯度下降法，如果是True则使用梯度下降，False使用最小二乘\n",
    "    \"\"\"\n",
    "    def __init__(self,n_iterations=500,learning_rate=0.1,gradient_descent=True):\n",
    "        self.gradient_descent=gradient_descent\n",
    "        self.regularization=lambda x:0\n",
    "        self.regularization.grad=lambda x:0\n",
    "        super(LinearRegression,self).__init__(n_iterations=n_iterations,learning_rate=learning_rate)\n",
    "    \n",
    "    def fit(self,X,y):\n",
    "        if not self.gradient_descent:\n",
    "            self.w=lsm_function(X,y)\n",
    "        else:\n",
    "            super(LinearRegression,self).fit(X,y)\n",
    "    \n",
    "    def predict(self,X):\n",
    "        return super(LinearRegression,self).predict(X)\n",
    "        \n",
    "model=LinearRegression(n_iterations=1000,learning_rate=0.1,gradient_descent=False)\n",
    "model.fit(X_train,y_train)\n",
    "print(model.w)"
   ]
  },
  {
   "cell_type": "code",
   "execution_count": 21,
   "metadata": {
    "colab": {
     "base_uri": "https://localhost:8080/",
     "height": 364
    },
    "colab_type": "code",
    "id": "BbesP50yNbkO",
    "outputId": "a73ca213-a84b-45b1-b73b-3c35acdfc216"
   },
   "outputs": [
    {
     "name": "stdout",
     "output_type": "stream",
     "text": [
      "方差: 87.59119389190161\n"
     ]
    },
    {
     "data": {
      "image/png": "[encoded data removed]",
      "text/plain": [
       "<Figure size 432x288 with 1 Axes>"
      ]
     },
     "metadata": {
      "needs_background": "light"
     },
     "output_type": "display_data"
    }
   ],
   "source": [
    "def test_and_draw(model):\n",
    "    y_pred=model.predict(X_test)\n",
    "    mse=mean_squared_error(y_test,y_pred)\n",
    "    print(\"方差:\",mse)\n",
    "    plt.plot(X_test,y_test,'k.')\n",
    "    plt.plot(X_test,y_pred,'Y')\n",
    "test_and_draw(model)"
   ]
  },
  {
   "cell_type": "markdown",
   "metadata": {
    "colab_type": "text",
    "id": "tBhNBoCmNbkT"
   },
   "source": [
    "# 正则化回归"
   ]
  },
  {
   "cell_type": "code",
   "execution_count": 22,
   "metadata": {
    "colab": {},
    "colab_type": "code",
    "id": "qHzvQUouNbkU"
   },
   "outputs": [
    {
     "name": "stdout",
     "output_type": "stream",
     "text": [
      "0.07\n",
      "[-0.01  0.01  0.  ]\n"
     ]
    }
   ],
   "source": [
    "class l1_regularization():\n",
    "    \"\"\"L1正则化类/函数\n",
    "    参数:\n",
    "    \n",
    "    alpha--L1正则化系数\n",
    "    \"\"\"\n",
    "    def __init__(self,alpha):\n",
    "        self.alpha=alpha\n",
    "    def __call__(self,w):\n",
    "        return self.alpha*np.linalg.norm(w,ord=1)\n",
    "    def grad(self,w):\n",
    "        #w>0->w`=1;w<0->w`=0;w==0->w`=0\n",
    "        return self.alpha*np.sign(w)\n",
    "\n",
    "l1=l1_regularization(alpha=0.01)\n",
    "print(l1([-3,4]))\n",
    "print(l1.grad([-3,4,0]))"
   ]
  },
  {
   "cell_type": "markdown",
   "metadata": {
    "colab_type": "text",
    "id": "QVuq_JQ6Nbke"
   },
   "source": [
    "### L2正则化参数"
   ]
  },
  {
   "cell_type": "code",
   "execution_count": 23,
   "metadata": {
    "colab": {},
    "colab_type": "code",
    "id": "Jjpjy__fNbkf"
   },
   "outputs": [],
   "source": [
    "class l2_regularization():\n",
    "    \"\"\"L2正则化参数\n",
    "    参数：\n",
    "    \n",
    "    alpha 正则化系数\n",
    "    \"\"\"\n",
    "    def __init__(self,alpha):\n",
    "        self.alpha=alpha\n",
    "    \n",
    "    def __call__(self,w):\n",
    "        return self.alpha*0.5*w.T.dot(w)\n",
    "    \n",
    "    def grad(self,w):\n",
    "        return self.alpha*w"
   ]
  },
  {
   "cell_type": "markdown",
   "metadata": {
    "colab_type": "text",
    "id": "TbyfUV_OPP-R"
   },
   "source": [
    "## Lasso"
   ]
  },
  {
   "cell_type": "code",
   "execution_count": 26,
   "metadata": {
    "colab": {},
    "colab_type": "code",
    "id": "3EC1nHsuNbkh"
   },
   "outputs": [
    {
     "name": "stdout",
     "output_type": "stream",
     "text": [
      "[ 0.14024649 34.84227422]\n",
      "方差: 87.59119389190121\n"
     ]
    },
    {
     "data": {
      "image/png": "[encoded data removed]",
      "text/plain": [
       "<Figure size 432x288 with 1 Axes>"
      ]
     },
     "metadata": {
      "needs_background": "light"
     },
     "output_type": "display_data"
    }
   ],
   "source": [
    "class LassoLinearRegression(Regression):\n",
    "    def __init__(self,alpha,n_iterations=1000,learning_rate=0.01):\n",
    "        self.regularization=l1_regularization(alpha=alpha)\n",
    "        super(LassoLinearRegression,self).__init__(n_iterations,learning_rate)\n",
    "        \n",
    "    def fit(self,X,y):\n",
    "        super(LassoLinearRegression,self).fit(X,y)\n",
    "    def predict(self,X):\n",
    "        return super(LassoLinearRegression,self).predict(X)\n",
    "\n",
    "model=LassoLinearRegression(alpha=120,n_iterations=1000,learning_rate=0.1)\n",
    "model.fit(X_train,y_train)\n",
    "print(model.w)\n",
    "test_and_draw(model)"
   ]
  },
  {
   "cell_type": "markdown",
   "metadata": {
    "colab_type": "text",
    "id": "7C7nrCQkPhB-"
   },
   "source": [
    "## Ridged Reression "
   ]
  },
  {
   "cell_type": "code",
   "execution_count": 27,
   "metadata": {
    "colab": {
     "base_uri": "https://localhost:8080/",
     "height": 381
    },
    "colab_type": "code",
    "id": "z8Qg8_WmPXw0",
    "outputId": "a34b58c7-94bf-4c03-9515-eaa36b7a685c"
   },
   "outputs": [
    {
     "name": "stdout",
     "output_type": "stream",
     "text": [
      "[ 0.14024649 34.84227422]\n",
      "方差: 87.59119389190121\n"
     ]
    },
    {
     "data": {
      "image/png": "[encoded data removed]",
      "text/plain": [
       "<Figure size 432x288 with 1 Axes>"
      ]
     },
     "metadata": {
      "needs_background": "light"
     },
     "output_type": "display_data"
    }
   ],
   "source": [
    "class RidgeLinearRegression(Regression):\n",
    "    def __init__(self,alpha,n_iterations=1000,learning_rate=0.01):\n",
    "        self.regularization=l2_regularization(alpha=alpha)\n",
    "        super(RidgeLinearRegression,self).__init__(n_iterations,learning_rate)\n",
    "        \n",
    "    def fit(self,X,y):\n",
    "        super(RidgeLinearRegression,self).fit(X,y)\n",
    "    def predict(self,X):\n",
    "        return super(RidgeLinearRegression,self).predict(X)\n",
    "\n",
    "model = RidgeLinearRegression(alpha=120, n_iterations=1000, learning_rate=0.1)\n",
    "model.fit(X_train, y_train)\n",
    "print(model.w)\n",
    "test_and_draw(model)"
   ]
  },
  {
   "cell_type": "markdown",
   "metadata": {
    "colab_type": "text",
    "id": "iI5YgBdN0xDa"
   },
   "source": [
    "## L1, L2 调和的正则化\n",
    "\n",
    "在调和的正则化中，\n",
    "\n",
    "l1_ratio:调和时，L1正则化的值所占的百分比[0,1]\n",
    "\n",
    "_l2_ratio=1-l1_ratio(事实上在算法中也找不到l2_ratio)\n",
    "\n",
    "alpha:全局的整体的正则化权重\n",
    "\n",
    "$Loss = mse + \\alpha(l1\\_ratio \\times L1Loss + (1-l1\\_ratio) \\times L2Loss)$"
   ]
  },
  {
   "cell_type": "code",
   "execution_count": 29,
   "metadata": {
    "colab": {
     "base_uri": "https://localhost:8080/",
     "height": 67
    },
    "colab_type": "code",
    "id": "wgU8ePHrPYOl",
    "outputId": "e7d9c08d-d4d3-4eee-c86c-7e2f78295198"
   },
   "outputs": [
    {
     "name": "stdout",
     "output_type": "stream",
     "text": [
      "0.9750000000000001\n",
      "[0.2  0.25]\n",
      "[0.5 0.5]\n",
      "[1.5 2. ]\n"
     ]
    }
   ],
   "source": [
    "class l1_l2_regularization():\n",
    "    \"\"\"使用在ElasticNet中的正则化\"\"\"\n",
    "    \n",
    "    def __init__(self,alpha,l1_ratio=0.5):\n",
    "        self.alpha=alpha\n",
    "        self.l1_ratio=l1_ratio\n",
    "    \n",
    "    def __call__(self,w):\n",
    "        l1_loss=self.l1_ratio*np.linalg.norm(w,ord=1)\n",
    "        l2_loss=(1-self.l1_ratio)*0.5*w.T.dot(w) #np.linalg.norm(w,ord=2)**2\n",
    "        return self.alpha*(l1_loss+l2_loss)\n",
    "    \n",
    "    def grad(self,w):\n",
    "        l1_grad=self.l1_ratio*np.sign(w)\n",
    "        l2_grad=(1-self.l1_ratio)*w\n",
    "        return self.alpha*(l1_grad+l2_grad)\n",
    "l1_l2 = l1_l2_regularization(alpha=0.1)\n",
    "print(l1_l2(np.array([3,4])))\n",
    "print(l1_l2.grad(np.array([3,4])))\n",
    "print(0.5 * np.sign(np.array([3,4])))\n",
    "print(0.5 * np.array([3,4]))"
   ]
  },
  {
   "cell_type": "markdown",
   "metadata": {
    "colab_type": "text",
    "id": "Vilvm6Wx5Ual"
   },
   "source": [
    "## ElasticNetLinearRegression"
   ]
  },
  {
   "cell_type": "code",
   "execution_count": 30,
   "metadata": {
    "colab": {
     "base_uri": "https://localhost:8080/",
     "height": 364
    },
    "colab_type": "code",
    "id": "CtrnxD0GPYLt",
    "outputId": "f30f171f-f4ab-4f59-bffd-b8d5cd15b0f6"
   },
   "outputs": [
    {
     "name": "stdout",
     "output_type": "stream",
     "text": [
      "方差: 87.59119389189104\n"
     ]
    },
    {
     "data": {
      "image/png": "[encoded data removed]",
      "text/plain": [
       "<Figure size 432x288 with 1 Axes>"
      ]
     },
     "metadata": {
      "needs_background": "light"
     },
     "output_type": "display_data"
    }
   ],
   "source": [
    "class ElasticNetLinearRegression(Regression):\n",
    "    \"\"\"\n",
    "    ElasticNet线性回归算法\n",
    "    ----------------------\n",
    "    alpha:全局正则化参数\n",
    "    l1_ratio:L1正则化参数比例\n",
    "    n_iterations\n",
    "    learning_rate\n",
    "    \"\"\"\n",
    "    def __init__(self,alpha=0.05,l1_ratio=0.5,n_iterations=3000,learning_rate=0.01):\n",
    "        self.regularization=l1_l2_regularization(alpha=alpha,l1_ratio=l1_ratio)\n",
    "        super(ElasticNetLinearRegression,self).__init__(n_iterations,learning_rate)\n",
    "    def fit(self,X,y):\n",
    "        super(ElasticNetLinearRegression,self).fit(X,y)\n",
    "    def predict(self,X):\n",
    "        return super(ElasticNetLinearRegression,self).predict(X)\n",
    "    \n",
    "model=ElasticNetLinearRegression(l1_ratio=0.5,alpha=1.2)\n",
    "model.fit(X_train,y_train)\n",
    "test_and_draw(model)\n"
   ]
  },
  {
   "cell_type": "markdown",
   "metadata": {
    "colab_type": "text",
    "id": "YsBW-YKs5krp"
   },
   "source": [
    "# 多项式回归\n",
    "\n",
    "一阶多项式:$x,y,z,x_2,x_3,x_4....$\n",
    "\n",
    "二阶多项式:$x_1^2,x_2^2,x_3^2,x_1x_2,x_1x_3,x_2x_3$\n",
    "\n",
    "三阶多项式:$x_1^3,x_1x_1x_2,x_1x_2x_3....$"
   ]
  },
  {
   "cell_type": "code",
   "execution_count": 67,
   "metadata": {
    "colab": {
     "base_uri": "https://localhost:8080/",
     "height": 34
    },
    "colab_type": "code",
    "id": "-RaEwPhxPYJv",
    "outputId": "8568bde5-b175-4655-848b-b80f3d0cc0d9"
   },
   "outputs": [
    {
     "name": "stdout",
     "output_type": "stream",
     "text": [
      "Feature 列的排列组合:-> [(), (0,), (1,), (0, 0), (0, 1), (1, 1), (0, 0, 0), (0, 0, 1), (0, 1, 1), (1, 1, 1)]\n",
      "[[  1.   1.   2.   1.   2.   4.   1.   2.   4.   8.]\n",
      " [  1.   4.   5.  16.  20.  25.  64.  80. 100. 125.]]\n",
      "test () [] [1 1]\n",
      "test (0,) [[1]\n",
      " [4]] [1 4]\n",
      "test (1,) [[2]\n",
      " [5]] [2 5]\n",
      "test (0, 0) [[1 1]\n",
      " [4 4]] [ 1 16]\n",
      "test (0, 1) [[1 2]\n",
      " [4 5]] [ 2 20]\n",
      "test (1, 1) [[2 2]\n",
      " [5 5]] [ 4 25]\n",
      "test (0, 0, 0) [[1 1 1]\n",
      " [4 4 4]] [ 1 64]\n",
      "test (0, 0, 1) [[1 1 2]\n",
      " [4 4 5]] [ 2 80]\n",
      "test (0, 1, 1) [[1 2 2]\n",
      " [4 5 5]] [  4 100]\n",
      "test (1, 1, 1) [[2 2 2]\n",
      " [5 5 5]] [  8 125]\n",
      "[[  1.   1.   2.   1.   2.   4.   1.   2.   4.   8.]\n",
      " [  1.   4.   5.  16.  20.  25.  64.  80. 100. 125.]]\n"
     ]
    }
   ],
   "source": [
    "from itertools import combinations_with_replacement\n",
    "\n",
    "def polynomial_features(X,degree):\n",
    "    n_samples,n_features=np.shape(X)\n",
    "    ##对于每一行的Feature构造排列组合，根据排列组合进行特征的乘积，形成新的X`\n",
    "    \n",
    "    def index_combinations():\n",
    "        combs=[combinations_with_replacement(range(n_features),i) for i in range(0,degree+1)]\n",
    "        new_combs=[item for sub in combs for item in sub]\n",
    "        return new_combs\n",
    "    \n",
    "    print(\"Feature 列的排列组合:->\",[x for x in index_combinations()])\n",
    "    #(0,0,1) ->(x0*x0*x1)\n",
    "    comb=index_combinations()\n",
    "    feature_length=len(comb)\n",
    "    #print(n_samples, feature_length)\n",
    "    output=np.empty((n_samples,feature_length)) # 初始化2*10，随机给值\n",
    "    \n",
    "    print(output)\n",
    "    \n",
    "    for i,index_combs in enumerate(comb):\n",
    "        print('test', index_combs, X[:,index_combs], np.prod(X[:, index_combs], axis=1))\n",
    "        output[:,i] = np.prod(X[:, index_combs], axis=1)\n",
    "    \n",
    "    return output\n",
    "\n",
    "print(polynomial_features(np.array([[1,2],[4,5]]),degree=3))\n",
    "\n",
    "### combinations_with_replacement\n",
    "#for x in combinations_with_replacement([0,1], 1):\n",
    "#    print(x)"
   ]
  },
  {
   "cell_type": "code",
   "execution_count": 65,
   "metadata": {},
   "outputs": [],
   "source": [
    "X = np.array([[1,2],[4,5]])"
   ]
  },
  {
   "cell_type": "code",
   "execution_count": 66,
   "metadata": {},
   "outputs": [
    {
     "data": {
      "text/plain": [
       "array([1, 1])"
      ]
     },
     "execution_count": 66,
     "metadata": {},
     "output_type": "execute_result"
    }
   ],
   "source": [
    "np.prod(X[:, ()], axis=1)"
   ]
  },
  {
   "cell_type": "code",
   "execution_count": 52,
   "metadata": {},
   "outputs": [
    {
     "data": {
      "text/plain": [
       "array([[  1.,   1.,   2.,   1.,   2.,   4.,   1.,   2.,   4.,   8.],\n",
       "       [  1.,   4.,   5.,  16.,  20.,  25.,  64.,  80., 100., 125.]])"
      ]
     },
     "execution_count": 52,
     "metadata": {},
     "output_type": "execute_result"
    }
   ],
   "source": [
    "np.empty((2,10))"
   ]
  },
  {
   "cell_type": "code",
   "execution_count": 35,
   "metadata": {
    "colab": {},
    "colab_type": "code",
    "id": "Ma5MmoslPYIs"
   },
   "outputs": [
    {
     "name": "stdout",
     "output_type": "stream",
     "text": [
      "Feature 列的排列组合:-> [(), (0,), (0, 0), (0, 0, 0), (0, 0, 0, 0)]\n",
      "[[-0.45374806 -0.2481847  -2.41757475  0.31104706 -0.59376509]\n",
      " [-0.74364053 -0.55803572  0.20427912  0.2115846   2.21188336]\n",
      " [-0.068613    0.07559053  0.31117574  0.64939584  1.06022505]\n",
      " [-1.0686561   1.40744354  1.86379303 -1.40602051  1.41342556]\n",
      " [-0.53822314  0.36023058 -1.62197273 -0.01232203 -1.45462313]\n",
      " [-0.15798183 -0.61235863 -1.84139151 -0.00467353 -0.76697728]\n",
      " [-1.00647697  0.14061215  0.60917843  0.6003495   0.80703273]\n",
      " [ 0.31742729  2.5049592   0.23936454 -0.55911799  0.08598312]\n",
      " [-0.68892891 -0.64249719  0.44097927  0.42185953 -0.68689137]\n",
      " [-0.69993405  1.17944322 -0.61932503 -0.14738764 -0.25118201]\n",
      " [-1.83359086  0.15107124 -0.84444365  2.05497295 -0.74592749]\n",
      " [-0.91252772 -0.40693379  2.64119266 -1.45144159  0.87375005]\n",
      " [ 0.83522586 -0.44068258  0.22124868  0.42835049  0.95838232]\n",
      " [ 0.80763516  0.24842425  1.60412469  1.94734527 -0.36201114]\n",
      " [ 0.14230593  0.3345693   0.57720865  1.82011897 -0.34757857]\n",
      " [-1.65785675 -1.26568888  0.76541997 -0.96538871 -0.91079016]\n",
      " [-0.45374806 -0.2481847  -2.41757475  0.31104706 -0.59376509]\n",
      " [-0.74364053 -0.55803572  0.20427912  0.2115846   2.21188336]\n",
      " [-0.068613    0.07559053  0.31117574  0.64939584  1.06022505]\n",
      " [-1.0686561   1.40744354  1.86379303 -1.40602051  1.41342556]\n",
      " [-0.53822314  0.36023058 -1.62197273 -0.01232203 -1.45462313]\n",
      " [-0.15798183 -0.61235863 -1.84139151 -0.00467353 -0.76697728]\n",
      " [-1.00647697  0.14061215  0.60917843  0.6003495   0.80703273]\n",
      " [ 0.31742729  2.5049592   0.23936454 -0.55911799  0.08598312]\n",
      " [-0.68892891 -0.64249719  0.44097927  0.42185953 -0.68689137]\n",
      " [-0.69993405  1.17944322 -0.61932503 -0.14738764 -0.25118201]\n",
      " [-1.83359086  0.15107124 -0.84444365  2.05497295 -0.74592749]\n",
      " [-0.91252772 -0.40693379  2.64119266 -1.45144159  0.87375005]\n",
      " [ 0.83522586 -0.44068258  0.22124868  0.42835049  0.95838232]\n",
      " [ 0.80763516  0.24842425  1.60412469  1.94734527 -0.36201114]\n",
      " [ 0.14230593  0.3345693   0.57720865  1.82011897 -0.34757857]\n",
      " [-1.65785675 -1.26568888  0.76541997 -0.96538871 -0.91079016]\n",
      " [-0.45374806 -0.2481847  -2.41757475  0.31104706 -0.59376509]\n",
      " [-0.74364053 -0.55803572  0.20427912  0.2115846   2.21188336]\n",
      " [-0.068613    0.07559053  0.31117574  0.64939584  1.06022505]\n",
      " [-1.0686561   1.40744354  1.86379303 -1.40602051  1.41342556]\n",
      " [-0.53822314  0.36023058 -1.62197273 -0.01232203 -1.45462313]\n",
      " [-0.15798183 -0.61235863 -1.84139151 -0.00467353 -0.76697728]\n",
      " [-1.00647697  0.14061215  0.60917843  0.6003495   0.80703273]\n",
      " [ 0.31742729  2.5049592   0.23936454 -0.55911799  0.08598312]\n",
      " [-0.68892891 -0.64249719  0.44097927  0.42185953 -0.68689137]\n",
      " [-0.69993405  1.17944322 -0.61932503 -0.14738764 -0.25118201]\n",
      " [-1.83359086  0.15107124 -0.84444365  2.05497295 -0.74592749]\n",
      " [-0.91252772 -0.40693379  2.64119266 -1.45144159  0.87375005]\n",
      " [ 0.83522586 -0.44068258  0.22124868  0.42835049  0.95838232]\n",
      " [ 0.80763516  0.24842425  1.60412469  1.94734527 -0.36201114]\n",
      " [ 0.14230593  0.3345693   0.57720865  1.82011897 -0.34757857]\n",
      " [-1.65785675 -1.26568888  0.76541997 -0.96538871 -0.91079016]\n",
      " [-0.45374806 -0.2481847  -2.41757475  0.31104706 -0.59376509]\n",
      " [-0.74364053 -0.55803572  0.20427912  0.2115846   2.21188336]\n",
      " [-0.068613    0.07559053  0.31117574  0.64939584  1.06022505]\n",
      " [-1.0686561   1.40744354  1.86379303 -1.40602051  1.41342556]\n",
      " [-0.53822314  0.36023058 -1.62197273 -0.01232203 -1.45462313]\n",
      " [-0.15798183 -0.61235863 -1.84139151 -0.00467353 -0.76697728]\n",
      " [-1.00647697  0.14061215  0.60917843  0.6003495   0.80703273]\n",
      " [ 0.31742729  2.5049592   0.23936454 -0.55911799  0.08598312]\n",
      " [-0.68892891 -0.64249719  0.44097927  0.42185953 -0.68689137]\n",
      " [-0.69993405  1.17944322 -0.61932503 -0.14738764 -0.25118201]\n",
      " [-1.83359086  0.15107124 -0.84444365  2.05497295 -0.74592749]\n",
      " [-0.91252772 -0.40693379  2.64119266 -1.45144159  0.87375005]\n",
      " [ 0.83522586 -0.44068258  0.22124868  0.42835049  0.95838232]\n",
      " [ 0.80763516  0.24842425  1.60412469  1.94734527 -0.36201114]\n",
      " [ 0.14230593  0.3345693   0.57720865  1.82011897 -0.34757857]\n",
      " [-1.65785675 -1.26568888  0.76541997 -0.96538871 -0.91079016]\n",
      " [-0.45374806 -0.2481847  -2.41757475  0.31104706 -0.59376509]\n",
      " [-0.74364053 -0.55803572  0.20427912  0.2115846   2.21188336]\n",
      " [-0.068613    0.07559053  0.31117574  0.64939584  1.06022505]\n",
      " [-1.0686561   1.40744354  1.86379303 -1.40602051  1.41342556]\n",
      " [-0.53822314  0.36023058 -1.62197273 -0.01232203 -1.45462313]\n",
      " [-0.15798183 -0.61235863 -1.84139151 -0.00467353 -0.76697728]\n",
      " [-1.00647697  0.14061215  0.60917843  0.6003495   0.80703273]\n",
      " [ 0.31742729  2.5049592   0.23936454 -0.55911799  0.08598312]\n",
      " [-0.68892891 -0.64249719  0.44097927  0.42185953 -0.68689137]\n",
      " [-0.69993405  1.17944322 -0.61932503 -0.14738764 -0.25118201]\n",
      " [-1.83359086  0.15107124 -0.84444365  2.05497295 -0.74592749]\n",
      " [-0.91252772 -0.40693379  2.64119266 -1.45144159  0.87375005]\n",
      " [ 0.83522586 -0.44068258  0.22124868  0.42835049  0.95838232]\n",
      " [ 0.80763516  0.24842425  1.60412469  1.94734527 -0.36201114]\n",
      " [ 0.14230593  0.3345693   0.57720865  1.82011897 -0.34757857]\n",
      " [-1.65785675 -1.26568888  0.76541997 -0.96538871 -0.91079016]]\n",
      "(80, 5)\n",
      "Feature 列的排列组合:-> [(), (0,), (0, 0), (0, 0, 0), (0, 0, 0, 0)]\n",
      "[[-2.16832033 -1.89449821 -1.38393922 -1.35203415 -1.34568798]\n",
      " [-0.97103773 -0.88020746 -0.75259298 -0.7319812  -0.4438135 ]\n",
      " [-0.35319603 -0.19531273 -0.13716815 -0.06127784  0.10150507]\n",
      " [ 0.90898115  0.98962587  1.7426714   1.98021459  3.09563315]\n",
      " [-2.16832033 -1.89449821 -1.38393922 -1.35203415 -1.34568798]\n",
      " [-0.97103773 -0.88020746 -0.75259298 -0.7319812  -0.4438135 ]\n",
      " [-0.35319603 -0.19531273 -0.13716815 -0.06127784  0.10150507]\n",
      " [ 0.90898115  0.98962587  1.7426714   1.98021459  3.09563315]\n",
      " [-2.16832033 -1.89449821 -1.38393922 -1.35203415 -1.34568798]\n",
      " [-0.97103773 -0.88020746 -0.75259298 -0.7319812  -0.4438135 ]\n",
      " [-0.35319603 -0.19531273 -0.13716815 -0.06127784  0.10150507]\n",
      " [ 0.90898115  0.98962587  1.7426714   1.98021459  3.09563315]\n",
      " [-2.16832033 -1.89449821 -1.38393922 -1.35203415 -1.34568798]\n",
      " [-0.97103773 -0.88020746 -0.75259298 -0.7319812  -0.4438135 ]\n",
      " [-0.35319603 -0.19531273 -0.13716815 -0.06127784  0.10150507]\n",
      " [ 0.90898115  0.98962587  1.7426714   1.98021459  3.09563315]\n",
      " [-2.16832033 -1.89449821 -1.38393922 -1.35203415 -1.34568798]\n",
      " [-0.97103773 -0.88020746 -0.75259298 -0.7319812  -0.4438135 ]\n",
      " [-0.35319603 -0.19531273 -0.13716815 -0.06127784  0.10150507]\n",
      " [ 0.90898115  0.98962587  1.7426714   1.98021459  3.09563315]]\n",
      "(20, 5)\n",
      "方差: 41011.99581750542\n"
     ]
    },
    {
     "data": {
      "image/png": "[encoded data removed]",
      "text/plain": [
       "<Figure size 432x288 with 1 Axes>"
      ]
     },
     "metadata": {
      "needs_background": "light"
     },
     "output_type": "display_data"
    }
   ],
   "source": [
    "class PolyRegression(Regression):\n",
    "    \"\"\"多项式回归就是将原来的feature转化成多阶的新feature，之后进行线性回归:\n",
    "    \n",
    "    ------------------------------------------\n",
    "    \n",
    "    degree:最大的阶数\n",
    "    \n",
    "    n_iterations:float\n",
    "    \n",
    "    learning_rate:float\n",
    "    \n",
    "    \"\"\"\n",
    "    def __init__(self,degree,n_iterations=3000,learning_rate=0.01):\n",
    "        \n",
    "        self.degree=degree\n",
    "        \n",
    "        self.regularization=lambda x:0\n",
    "        \n",
    "        self.regularization.grad=lambda x:0\n",
    "        \n",
    "        super(PolyRegression,self).__init__(n_iterations=n_iterations,learning_rate=learning_rate)\n",
    "        \n",
    "    def fit(self,X,y):\n",
    "        \n",
    "        X=polynomial_features(X,degree=self.degree)\n",
    "        \n",
    "        super(PolyRegression,self).fit(X,y)\n",
    "        \n",
    "    def predict(self,X):\n",
    "        \n",
    "        X=polynomial_features(X,degree=self.degree)\n",
    "        \n",
    "        return super(PolyRegression,self).predict(X)\n",
    "\n",
    "\n",
    "model=PolyRegression(degree=4)\n",
    "model.fit(X_train,y_train)\n",
    "test_and_draw(model)"
   ]
  },
  {
   "cell_type": "code",
   "execution_count": 57,
   "metadata": {
    "colab": {},
    "colab_type": "code",
    "id": "J_Gppcd7PYE-"
   },
   "outputs": [
    {
     "data": {
      "text/plain": [
       "array([nan, nan, nan, nan, nan, nan, nan])"
      ]
     },
     "execution_count": 57,
     "metadata": {},
     "output_type": "execute_result"
    }
   ],
   "source": [
    "model.w"
   ]
  },
  {
   "cell_type": "code",
   "execution_count": null,
   "metadata": {
    "colab": {},
    "colab_type": "code",
    "id": "6enqdF1wPYEC"
   },
   "outputs": [],
   "source": []
  },
  {
   "cell_type": "code",
   "execution_count": null,
   "metadata": {
    "colab": {},
    "colab_type": "code",
    "id": "pnZ4v4LMPYDI"
   },
   "outputs": [],
   "source": []
  },
  {
   "cell_type": "code",
   "execution_count": null,
   "metadata": {
    "colab": {},
    "colab_type": "code",
    "id": "gTHQT0WvPYCL"
   },
   "outputs": [],
   "source": []
  },
  {
   "cell_type": "code",
   "execution_count": null,
   "metadata": {
    "colab": {},
    "colab_type": "code",
    "id": "0DEZkDlyPYBQ"
   },
   "outputs": [],
   "source": []
  },
  {
   "cell_type": "code",
   "execution_count": null,
   "metadata": {
    "colab": {},
    "colab_type": "code",
    "id": "djs0ZPasPYAW"
   },
   "outputs": [],
   "source": []
  },
  {
   "cell_type": "code",
   "execution_count": null,
   "metadata": {
    "colab": {},
    "colab_type": "code",
    "id": "Y3V3UldYPX_a"
   },
   "outputs": [],
   "source": []
  },
  {
   "cell_type": "code",
   "execution_count": null,
   "metadata": {
    "colab": {},
    "colab_type": "code",
    "id": "IbahoUDfPX-h"
   },
   "outputs": [],
   "source": []
  },
  {
   "cell_type": "code",
   "execution_count": null,
   "metadata": {
    "colab": {},
    "colab_type": "code",
    "id": "0ciWM0JjPX9h"
   },
   "outputs": [],
   "source": []
  },
  {
   "cell_type": "code",
   "execution_count": null,
   "metadata": {
    "colab": {},
    "colab_type": "code",
    "id": "cApZ77ojPX8o"
   },
   "outputs": [],
   "source": []
  },
  {
   "cell_type": "code",
   "execution_count": null,
   "metadata": {
    "colab": {},
    "colab_type": "code",
    "id": "aqIHAl6GPX7q"
   },
   "outputs": [],
   "source": []
  },
  {
   "cell_type": "code",
   "execution_count": null,
   "metadata": {
    "colab": {},
    "colab_type": "code",
    "id": "mqvjC6qcPX6p"
   },
   "outputs": [],
   "source": []
  },
  {
   "cell_type": "code",
   "execution_count": null,
   "metadata": {
    "colab": {},
    "colab_type": "code",
    "id": "FKUmztSdPX5m"
   },
   "outputs": [],
   "source": []
  },
  {
   "cell_type": "code",
   "execution_count": null,
   "metadata": {
    "colab": {},
    "colab_type": "code",
    "id": "vqnMjjk2PX4p"
   },
   "outputs": [],
   "source": []
  }
 ],
 "metadata": {
  "colab": {
   "collapsed_sections": [],
   "include_colab_link": true,
   "name": "linear_model.ipynb",
   "provenance": [],
   "toc_visible": true,
   "version": "0.3.2"
  },
  "kernelspec": {
   "display_name": "py36",
   "language": "python",
   "name": "py36"
  },
  "language_info": {
   "codemirror_mode": {
    "name": "ipython",
    "version": 3
   },
   "file_extension": ".py",
   "mimetype": "text/x-python",
   "name": "python",
   "nbconvert_exporter": "python",
   "pygments_lexer": "ipython3",
   "version": "3.6.7"
  }
 },
 "nbformat": 4,
 "nbformat_minor": 1
}
