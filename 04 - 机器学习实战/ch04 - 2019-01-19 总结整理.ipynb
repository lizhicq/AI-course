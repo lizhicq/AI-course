{
 "cells": [
  {
   "cell_type": "markdown",
   "metadata": {},
   "source": [
    "## Pre-request"
   ]
  },
  {
   "cell_type": "code",
   "execution_count": 2,
   "metadata": {},
   "outputs": [],
   "source": [
    "import numpy as np\n",
    "import pandas as pd\n",
    "import xgboost as xgb\n",
    "from sklearn.model_selection import train_test_split\n",
    "from sklearn.metrics import mean_squared_error\n",
    "from sklearn.linear_model import LinearRegression\n",
    "from sklearn.metrics import mean_squared_error\n",
    "import matplotlib.pyplot as plt\n",
    "import seaborn as sns\n",
    "import warnings\n",
    "warnings.filterwarnings('ignore')\n",
    "%matplotlib inline\n",
    "train = pd.read_csv('./data/data.csv')"
   ]
  },
  {
   "cell_type": "markdown",
   "metadata": {},
   "source": [
    "## 简单空值填充"
   ]
  },
  {
   "cell_type": "code",
   "execution_count": 4,
   "metadata": {},
   "outputs": [
    {
     "name": "stdout",
     "output_type": "stream",
     "text": [
      "train set is filled with mean/none, sum NA= 0\n",
      "set is splited into train, test: (1168, 303) (292, 303)\n",
      "rmse: 24348.483575624807 logrmse: 0.11327867840739252\n"
     ]
    }
   ],
   "source": [
    "# clean data\n",
    "train = pd.read_csv('./data/data.csv') # 训练集的读取\n",
    "train1 = train\n",
    "train1=train1.fillna(train1.mean())\n",
    "train1=train1.fillna('None') \n",
    "print('train set is filled with mean/none, sum NA=', sum(train1.isnull().sum()))\n",
    "\n",
    "# build train set\n",
    "y = train1['SalePrice']\n",
    "train1 = train1.drop(['Id', 'SalePrice'], axis=1)\n",
    "X=pd.get_dummies(train1) # Convert categorical variable into dummy/indicator variables\n",
    "\n",
    "# train the model \n",
    "X_train, X_test, y_train, y_test = train_test_split(X,y,test_size=0.2,random_state=123)\n",
    "print('set is splited into train, test:', X_train.shape, X_test.shape)\n",
    "xg_reg = xgb.XGBRegressor(objective='reg:linear',\n",
    "                          colsample_bytree=0.6,\n",
    "                          learning_rate=0.01,\n",
    "                          max_depth=8,\n",
    "                          alpha=10,\n",
    "                          n_estimators=700,\n",
    "                          subsample=0.7,\n",
    "                          random_state=123)\n",
    "xg_reg.fit(X_train,y_train)\n",
    "\n",
    "# model valuation \n",
    "pred = xg_reg.predict(X_test)\n",
    "rmse = np.sqrt(mean_squared_error(y_test,pred))\n",
    "logrmse = np.sqrt(mean_squared_error(np.log(y_test),np.log(pred)))\n",
    "print('rmse:', rmse, 'logrmse:', logrmse)"
   ]
  },
  {
   "cell_type": "markdown",
   "metadata": {},
   "source": [
    "## XGB交叉验证\n",
    "\n",
    "1.数据有限->发挥数据本来的效率\n",
    "\n",
    "2.数据的训练集和评测集的矛盾\n",
    "\n",
    "    如果用更多的数据去训练，那么就会有更少的数据来评测->失去了对于真实泛化能力的考量\n",
    "    \n",
    "    如果用更少的数据来训练，很大可能造成欠拟合，在评测集上表现就一定不好\n",
    "    \n",
    "解决方法：\n",
    "\n",
    "1.将数据集拆成K份->(首先进行shuffle)\n",
    "\n",
    "2.规定k-1份进行训练，剩下的1份进行评测，总共训练k次，轮流每个子数据集作为评测集\n",
    "\n",
    "    数据集被分成K份，1......K\n",
    "    \n",
    "    第一次训练使用第1份数据集作为评测集，剩余的k-1份作为训练集\n",
    "    \n",
    "    第i次训练使用第i份数据集作为评测集，剩余的k-1份作为训练集\n",
    "    \n",
    "    做k次训练\n",
    "    \n",
    "3.k次训练之后，评测的分值=k次评测结果的平均\n",
    "\n",
    "4.不同的模型会提供不同的子模型的合并方法，会将所有的k个子模型进行合并\n",
    "\n"
   ]
  },
  {
   "cell_type": "code",
   "execution_count": 8,
   "metadata": {},
   "outputs": [
    {
     "name": "stdout",
     "output_type": "stream",
     "text": [
      "[09:25:46] C:\\Users\\Administrator\\Desktop\\xgboost\\src\\tree\\updater_prune.cc:74: tree pruning end, 1 roots, 34 extra nodes, 0 pruned nodes, max_depth=5\n",
      "[09:25:46] C:\\Users\\Administrator\\Desktop\\xgboost\\src\\tree\\updater_prune.cc:74: tree pruning end, 1 roots, 32 extra nodes, 0 pruned nodes, max_depth=5\n",
      "[09:25:46] C:\\Users\\Administrator\\Desktop\\xgboost\\src\\tree\\updater_prune.cc:74: tree pruning end, 1 roots, 30 extra nodes, 0 pruned nodes, max_depth=5\n",
      "[09:25:46] C:\\Users\\Administrator\\Desktop\\xgboost\\src\\tree\\updater_prune.cc:74: tree pruning end, 1 roots, 34 extra nodes, 0 pruned nodes, max_depth=5\n",
      "[09:25:46] C:\\Users\\Administrator\\Desktop\\xgboost\\src\\tree\\updater_prune.cc:74: tree pruning end, 1 roots, 38 extra nodes, 0 pruned nodes, max_depth=5\n"
     ]
    }
   ],
   "source": [
    "params = {\"objective\":\"reg:linear\",\n",
    "          'colsample_bytree': 0.7,\n",
    "          'learning_rate': 0.1,\n",
    "          'max_depth': 5, \n",
    "          'alpha': 10}\n",
    "\n",
    "train = pd.read_csv('./data/data.csv') # 训练集的读取\n",
    "train1 = train\n",
    "\n",
    "y = train1['SalePrice']\n",
    "X=pd.get_dummies(train1.drop(['Id', 'SalePrice'], axis=1)) # Convert categorical variable into dummy/indicator variables\n",
    "matrix=xgb.DMatrix(data=X,label=y)\n",
    "\n",
    "cv_results = xgb.cv(dtrain=matrix, params=params,\n",
    "                    nfold = 5,  \n",
    "                    num_boost_round=1, \n",
    "                    metrics = 'rmse',\n",
    "                    as_pandas=True)"
   ]
  },
  {
   "cell_type": "code",
   "execution_count": 9,
   "metadata": {},
   "outputs": [],
   "source": [
    "def getnullcount():\n",
    "    x=train.isnull().sum()\n",
    "    print(x[x>0])\n",
    "    x[x>0].sort_values().plot.bar()"
   ]
  },
  {
   "cell_type": "markdown",
   "metadata": {},
   "source": [
    "## EDA 与空值填充"
   ]
  },
  {
   "cell_type": "code",
   "execution_count": 5,
   "metadata": {},
   "outputs": [],
   "source": [
    "train = pd.read_csv('./data/data.csv') # 训练集的读取\n",
    "train1 = train\n",
    "\n",
    "train['SqrtLotArea']=np.sqrt(train['LotArea'])\n",
    "filter=train['LotFrontage'].isnull()\n",
    "train.LotFrontage[filter]=0.6*train.SqrtLotArea[filter]\n",
    "\n",
    "filter=train['MasVnrArea'].isnull()\n",
    "train.MasVnrArea[filter]=0.0\n",
    "\n",
    "filter=train['MasVnrType'].isnull()\n",
    "train.MasVnrType[filter]='None'\n",
    "\n",
    "filter=train['Electrical'].isnull()\n",
    "train['Electrical'][filter]='SBrkr'\n",
    "\n",
    "train['Alley']=train['Alley'].fillna('None')\n",
    "\n",
    "basement_cols=['BsmtQual','BsmtCond','BsmtExposure','BsmtFinType1','BsmtFinType2','BsmtFinSF1','BsmtFinSF2']\n",
    "train[train.BsmtCond=='NA']\n",
    "for col in basement_cols:\n",
    "    if 'FinSF' not in col:\n",
    "        train[col]=train[col].fillna('None')\n",
    "#getnullcount()\n",
    "\n",
    "train['FireplaceQu']=train['FireplaceQu'].fillna('None')\n",
    "garage_cols=['GarageType','GarageQual','GarageCond','GarageYrBlt','GarageFinish','GarageCars','GarageArea']        \n",
    "        \n",
    "for col in garage_cols:\n",
    "    if train[col].dtype==np.object:\n",
    "        train[col]=train[col].fillna('None')\n",
    "    else:\n",
    "        train[col]=train[col].fillna(0)        \n",
    "\n",
    "\n",
    "        \n",
    "train.PoolQC=train.PoolQC.fillna('None')\n",
    "train['Fence']=train['Fence'].fillna('None')\n",
    "train['MiscFeature']=train['MiscFeature'].fillna('None')\n",
    "\n",
    "train.to_csv('./data/train_1.csv')"
   ]
  },
  {
   "cell_type": "markdown",
   "metadata": {},
   "source": [
    "## 数据集的准备"
   ]
  },
  {
   "cell_type": "code",
   "execution_count": 10,
   "metadata": {},
   "outputs": [
    {
     "name": "stdout",
     "output_type": "stream",
     "text": [
      "0.12618361140972376\n",
      "24966.33741019887\n",
      "0.12618361140972376\n",
      "0.12618361140972376\n"
     ]
    }
   ],
   "source": [
    "train = pd.read_csv('./data/train_1.csv')\n",
    "train1 = train.drop(['Id','SalePrice'], axis=1)\n",
    "\n",
    "X = pd.get_dummies(train1).reset_index(drop=True)\n",
    "#X = X.drop('Unnamed: 0', axis=1)\n",
    "X_train, X_test, y_train, y_test = train_test_split(X,y,test_size=0.2,random_state=123)\n",
    "\n",
    "\n",
    "\n",
    "lm = LinearRegression()\n",
    "p = lm.fit(X_train, y_train)\n",
    "pred = p.predict(X_test)\n",
    "print(np.sqrt(mean_squared_error(np.log(y_test), np.log(pred))))\n",
    "print(np.sqrt(mean_squared_error(y_test,pred)))\n",
    "\n",
    "def benchmark(model):\n",
    "    pred=model.predict(X_test)\n",
    "    logrmse=np.sqrt(mean_squared_error(np.log(y_test),np.log(pred)))\n",
    "    return logrmse\n",
    "\n",
    "print(benchmark(p))\n",
    "print(benchmark(lm))"
   ]
  },
  {
   "cell_type": "markdown",
   "metadata": {},
   "source": [
    "## 数据预处理"
   ]
  },
  {
   "cell_type": "code",
   "execution_count": 11,
   "metadata": {},
   "outputs": [
    {
     "data": {
      "text/plain": [
       "0.12618361141005513"
      ]
     },
     "execution_count": 11,
     "metadata": {},
     "output_type": "execute_result"
    }
   ],
   "source": [
    "from sklearn.pipeline import make_pipeline\n",
    "from sklearn.preprocessing import RobustScaler\n",
    "\n",
    "lm_model=make_pipeline(RobustScaler(),LinearRegression())\n",
    "lm_model.fit(X_train, y_train)\n",
    "benchmark(lm_model)"
   ]
  },
  {
   "cell_type": "markdown",
   "metadata": {},
   "source": [
    "## 朴素的Ridge回归"
   ]
  },
  {
   "cell_type": "code",
   "execution_count": 12,
   "metadata": {},
   "outputs": [
    {
     "data": {
      "text/plain": [
       "0.12655652003733184"
      ]
     },
     "execution_count": 12,
     "metadata": {},
     "output_type": "execute_result"
    }
   ],
   "source": [
    "from sklearn.linear_model import Ridge\n",
    "ridge_model=Ridge(alpha=0.1)\n",
    "ridge_model.fit(X_train,y_train)\n",
    "benchmark(ridge_model)"
   ]
  },
  {
   "cell_type": "markdown",
   "metadata": {},
   "source": [
    "## 带有RobustScaler的回归"
   ]
  },
  {
   "cell_type": "code",
   "execution_count": 13,
   "metadata": {},
   "outputs": [
    {
     "data": {
      "text/plain": [
       "0.12655937132758469"
      ]
     },
     "execution_count": 13,
     "metadata": {},
     "output_type": "execute_result"
    }
   ],
   "source": [
    "ridge_model_pipe=make_pipeline(RobustScaler(),Ridge(alpha=0.1))\n",
    "ridge_model_pipe.fit(X_train,y_train)\n",
    "benchmark(ridge_model_pipe)"
   ]
  },
  {
   "cell_type": "code",
   "execution_count": 14,
   "metadata": {},
   "outputs": [],
   "source": [
    "def benchmark1(model,testset,label):\n",
    "    pred=model.predict(testset)\n",
    "    if pred[pred<0].shape[0]>0:\n",
    "        print('Neg Value')\n",
    "    rmse=np.sqrt(mean_squared_error(label,pred))\n",
    "    lrmse=np.sqrt(mean_squared_error(np.log(label),np.log(pred)))\n",
    "\n",
    "    print('RMSE:',rmse)\n",
    "    print('LRMSE:',lrmse)\n",
    "    return lrmse"
   ]
  },
  {
   "cell_type": "markdown",
   "metadata": {},
   "source": [
    "## 带有CV的回归"
   ]
  },
  {
   "cell_type": "code",
   "execution_count": 15,
   "metadata": {},
   "outputs": [
    {
     "name": "stdout",
     "output_type": "stream",
     "text": [
      "RMSE: 26917.457956049773\n",
      "LRMSE: 0.12438552197375949\n"
     ]
    },
    {
     "data": {
      "text/plain": [
       "0.12438552197375949"
      ]
     },
     "execution_count": 15,
     "metadata": {},
     "output_type": "execute_result"
    }
   ],
   "source": [
    "from sklearn.model_selection import KFold\n",
    "from sklearn.linear_model import RidgeCV\n",
    "\n",
    "kfolds=KFold(n_splits=10,shuffle=True,random_state=123)\n",
    "\n",
    "r_alphas=[0.01,0.1,1,3,5,7,10,100]\n",
    "\n",
    "ridge_model_cv=make_pipeline(RobustScaler(),RidgeCV(alphas=r_alphas,cv=kfolds))\n",
    "\n",
    "ridge_model_cv.fit(X_train,y_train)\n",
    "\n",
    "benchmark1(ridge_model_cv,X_test,y_test)\n",
    "benchmark(ridge_model_cv)"
   ]
  },
  {
   "cell_type": "code",
   "execution_count": 16,
   "metadata": {},
   "outputs": [
    {
     "name": "stdout",
     "output_type": "stream",
     "text": [
      "RMSE: 24966.403023810835\n",
      "LRMSE: 0.12618468133670982\n",
      "RMSE: 24966.53404954252\n",
      "LRMSE: 0.1261867913113952\n",
      "RMSE: 24966.664817098845\n",
      "LRMSE: 0.12618886217756062\n",
      "RMSE: 24966.795339861255\n",
      "LRMSE: 0.12619089480008305\n",
      "RMSE: 24966.925630911246\n",
      "LRMSE: 0.12619289002273504\n",
      "RMSE: 24972.8159840826\n",
      "LRMSE: 0.12625505551667465\n",
      "RMSE: 25007.89344047134\n",
      "LRMSE: 0.12636426623739028\n",
      "RMSE: 25070.76049543444\n",
      "LRMSE: 0.12655937132758469\n",
      "RMSE: 25331.38136595076\n",
      "LRMSE: 0.12765621823283277\n",
      "RMSE: 25785.94019059844\n",
      "LRMSE: 0.13005002719016284\n",
      "RMSE: 26033.309156661962\n",
      "LRMSE: 0.13164569772057483\n",
      "RMSE: 26021.284156113048\n",
      "LRMSE: 0.13150831954283526\n",
      "RMSE: 25912.00595901413\n",
      "LRMSE: 0.13040651460413383\n",
      "RMSE: 25851.247191696217\n",
      "LRMSE: 0.12942505856751366\n",
      "RMSE: 25837.650296852426\n",
      "LRMSE: 0.12863398298618772\n",
      "RMSE: 25894.21580406474\n",
      "LRMSE: 0.12743758025937751\n",
      "RMSE: 26148.05400132308\n",
      "LRMSE: 0.12591254743971553\n",
      "RMSE: 26299.322251440422\n",
      "LRMSE: 0.12541103327969808\n",
      "RMSE: 26454.855374654264\n",
      "LRMSE: 0.12502851180211794\n",
      "RMSE: 26610.9108937612\n",
      "LRMSE: 0.12474104547998531\n"
     ]
    },
    {
     "data": {
      "text/plain": [
       "[<matplotlib.lines.Line2D at 0x18424bb8f28>]"
      ]
     },
     "execution_count": 16,
     "metadata": {},
     "output_type": "execute_result"
    },
    {
     "data": {
      "image/png": "[encoded data removed]",
      "text/plain": [
       "<Figure size 432x288 with 1 Axes>"
      ]
     },
     "metadata": {
      "needs_background": "light"
     },
     "output_type": "display_data"
    }
   ],
   "source": [
    "r_alphas=[.0001, .0003, .0005, .0007, .0009, \n",
    "          .01, 0.05, 0.1, 0.3, 1, 3, 5, 10, 15, 20, 30, 50, 60, 70, 80]\n",
    "\n",
    "def ridge_train_test(alpha):\n",
    "    m=make_pipeline(RobustScaler(),RidgeCV(alphas=[alpha],cv=kfolds))\n",
    "    m.fit(X_train,y_train)\n",
    "    return benchmark1(m,X_test,y_test)\n",
    "\n",
    "scores=[]\n",
    "for k in r_alphas:\n",
    "    scores.append(ridge_train_test(k))\n",
    "plt.plot(r_alphas,scores)"
   ]
  },
  {
   "cell_type": "markdown",
   "metadata": {},
   "source": [
    "## RidgeCV auto para"
   ]
  },
  {
   "cell_type": "code",
   "execution_count": 18,
   "metadata": {},
   "outputs": [
    {
     "name": "stdout",
     "output_type": "stream",
     "text": [
      "RMSE: 24966.400666099904\n",
      "LRMSE: 0.12618312233416196\n",
      "RMSE: 24966.276391249932\n",
      "LRMSE: 0.1261831107270082\n",
      "RMSE: 24966.325034912807\n",
      "LRMSE: 0.12618320052533316\n",
      "RMSE: 24966.331413531432\n",
      "LRMSE: 0.12618324359264724\n",
      "RMSE: 24966.40255322959\n",
      "LRMSE: 0.12618336271348538\n",
      "RMSE: 24966.306447375267\n",
      "LRMSE: 0.12618328732467674\n",
      "RMSE: 24966.325240241313\n",
      "LRMSE: 0.12618341417353712\n",
      "RMSE: 24966.31559921163\n",
      "LRMSE: 0.1261833945817627\n",
      "RMSE: 24966.312927640578\n",
      "LRMSE: 0.1261835387118518\n",
      "RMSE: 24966.334929598415\n",
      "LRMSE: 0.12618350906772563\n",
      "RMSE: 24966.353640288984\n",
      "LRMSE: 0.1261835841786236\n",
      "RMSE: 24966.353408838946\n",
      "LRMSE: 0.12618358861623327\n",
      "RMSE: 24966.343335249927\n",
      "LRMSE: 0.12618356247054366\n",
      "RMSE: 24966.33931380858\n",
      "LRMSE: 0.1261835698371184\n",
      "RMSE: 24966.339406031424\n",
      "LRMSE: 0.12618356641885334\n",
      "RMSE: 24966.323971758142\n",
      "LRMSE: 0.12618353974037824\n",
      "RMSE: 24966.331786706825\n",
      "LRMSE: 0.1261835696007906\n",
      "RMSE: 24966.333910392983\n",
      "LRMSE: 0.12618359224300887\n",
      "RMSE: 24966.337386016447\n",
      "LRMSE: 0.1261835902173875\n",
      "RMSE: 24966.33409966918\n",
      "LRMSE: 0.12618359275513968\n",
      "RMSE: 24966.336884381446\n",
      "LRMSE: 0.12618359457882916\n",
      "RMSE: 24966.335511521298\n",
      "LRMSE: 0.1261835954763689\n",
      "RMSE: 24966.336850671876\n",
      "LRMSE: 0.12618360164305265\n",
      "RMSE: 24966.33812335369\n",
      "LRMSE: 0.1261836081297787\n",
      "RMSE: 24966.337081440095\n",
      "LRMSE: 0.12618360767876582\n",
      "RMSE: 24966.337466138077\n",
      "LRMSE: 0.12618360756727734\n",
      "RMSE: 24966.337530504174\n",
      "LRMSE: 0.12618360918510904\n",
      "RMSE: 24966.337521472207\n",
      "LRMSE: 0.12618360887232816\n",
      "RMSE: 24966.338118297368\n",
      "LRMSE: 0.12618361056724803\n",
      "RMSE: 24966.337542895722\n",
      "LRMSE: 0.12618361045478302\n",
      "RMSE: 24966.337231162623\n",
      "LRMSE: 0.12618360931037062\n",
      "RMSE: 24966.337541913854\n",
      "LRMSE: 0.12618361067789774\n",
      "RMSE: 24966.337198113353\n",
      "LRMSE: 0.126183610811153\n",
      "RMSE: 24966.33721410459\n",
      "LRMSE: 0.12618361048439358\n",
      "RMSE: 24966.337530497214\n",
      "LRMSE: 0.1261836113226479\n",
      "RMSE: 24966.337493415784\n",
      "LRMSE: 0.1261836116871798\n",
      "RMSE: 24966.337462692583\n",
      "LRMSE: 0.12618361203743725\n",
      "RMSE: 24966.337362604936\n",
      "LRMSE: 0.12618361231176814\n",
      "RMSE: 24966.337445892626\n",
      "LRMSE: 0.12618361278628296\n",
      "RMSE: 24966.337543247766\n",
      "LRMSE: 0.1261836136245956\n",
      "RMSE: 24966.337595644472\n",
      "LRMSE: 0.1261836142037668\n",
      "RMSE: 24966.33762303377\n",
      "LRMSE: 0.12618361473307121\n",
      "RMSE: 24966.337642525417\n",
      "LRMSE: 0.12618361551081114\n",
      "RMSE: 24966.33769205596\n",
      "LRMSE: 0.12618361648951226\n",
      "RMSE: 24966.337807931206\n",
      "LRMSE: 0.12618361781085766\n",
      "RMSE: 24966.337896632973\n",
      "LRMSE: 0.1261836192281\n",
      "RMSE: 24966.338015796384\n",
      "LRMSE: 0.12618362098833824\n",
      "RMSE: 24966.33813609536\n",
      "LRMSE: 0.12618362307757677\n",
      "RMSE: 24966.3382818993\n",
      "LRMSE: 0.1261836256574419\n",
      "RMSE: 24966.338468415037\n",
      "LRMSE: 0.12618362876511863\n",
      "RMSE: 24966.338699425414\n",
      "LRMSE: 0.12618363258916762\n",
      "RMSE: 24966.338987705454\n",
      "LRMSE: 0.1261836372435521\n",
      "RMSE: 24966.339336849665\n",
      "LRMSE: 0.12618364291008477\n",
      "RMSE: 24966.339750633\n",
      "LRMSE: 0.12618364978983285\n",
      "RMSE: 24966.340267608153\n",
      "LRMSE: 0.12618365817941832\n",
      "RMSE: 24966.34089536819\n",
      "LRMSE: 0.1261836684345684\n",
      "RMSE: 24966.341654497082\n",
      "LRMSE: 0.1261836809032159\n",
      "RMSE: 24966.34258445186\n",
      "LRMSE: 0.1261836961033434\n",
      "RMSE: 24966.343717291147\n",
      "LRMSE: 0.12618371462482658\n",
      "RMSE: 24966.345095730507\n",
      "LRMSE: 0.12618373718774092\n",
      "RMSE: 24966.346776471204\n",
      "LRMSE: 0.126183764679176\n",
      "RMSE: 24966.34882397535\n",
      "LRMSE: 0.12618379817449857\n",
      "RMSE: 24966.351321409693\n",
      "LRMSE: 0.12618383898896188\n",
      "RMSE: 24966.354363359773\n",
      "LRMSE: 0.12618388870654343\n",
      "RMSE: 24966.358070494454\n",
      "LRMSE: 0.12618394926861076\n",
      "RMSE: 24966.36258809284\n",
      "LRMSE: 0.12618402303338924\n",
      "RMSE: 24966.368094339174\n",
      "LRMSE: 0.126184112871281\n",
      "RMSE: 24966.374803805607\n",
      "LRMSE: 0.1261842222611919\n",
      "RMSE: 24966.382979874033\n",
      "LRMSE: 0.12618435543501347\n",
      "RMSE: 24966.39294258245\n",
      "LRMSE: 0.12618451752641666\n",
      "RMSE: 24966.40508223096\n",
      "LRMSE: 0.12618471475922932\n",
      "RMSE: 24966.41987440777\n",
      "LRMSE: 0.1261849546696781\n",
      "RMSE: 24966.437897129254\n",
      "LRMSE: 0.12618524636829806\n",
      "RMSE: 24966.459855077403\n",
      "LRMSE: 0.12618560085383573\n",
      "RMSE: 24966.486605705013\n",
      "LRMSE: 0.12618603137209766\n",
      "RMSE: 24966.51919273587\n",
      "LRMSE: 0.12618655383422858\n",
      "RMSE: 24966.558885523802\n",
      "LRMSE: 0.12618718729157577\n",
      "RMSE: 24966.60722845167\n",
      "LRMSE: 0.12618795446279796\n",
      "RMSE: 24966.66609897434\n",
      "LRMSE: 0.126188882305542\n",
      "RMSE: 24966.737778981085\n",
      "LRMSE: 0.12619000261110971\n",
      "RMSE: 24966.82504075433\n",
      "LRMSE: 0.12619135258194833\n",
      "RMSE: 24966.931250929814\n",
      "LRMSE: 0.12619297533283866\n",
      "RMSE: 24967.060496995393\n",
      "LRMSE: 0.12619492022158327\n",
      "RMSE: 24967.217740653752\n",
      "LRMSE: 0.1261972428702144\n",
      "RMSE: 24967.409006146314\n",
      "LRMSE: 0.12620000469102127\n",
      "RMSE: 24967.641613140502\n",
      "LRMSE: 0.12620327167068873\n",
      "RMSE: 24967.92446972442\n",
      "LRMSE: 0.12620711211550553\n",
      "RMSE: 24968.268450259093\n",
      "LRMSE: 0.1262115930402738\n",
      "RMSE: 24968.686896878677\n",
      "LRMSE: 0.12621677492688957\n",
      "RMSE: 24969.19630970325\n",
      "LRMSE: 0.12622270476082245\n",
      "RMSE: 24969.817331152666\n",
      "LRMSE: 0.12622940765454588\n",
      "RMSE: 24970.57619343963\n",
      "LRMSE: 0.12623687810409068\n",
      "RMSE: 24971.506891321325\n",
      "LRMSE: 0.12624507309487254\n",
      "RMSE: 24972.654466550626\n",
      "LRMSE: 0.12625391091306837\n",
      "RMSE: 24974.07993672678\n",
      "LRMSE: 0.12626328150257488\n",
      "RMSE: 24975.867536360827\n",
      "LRMSE: 0.12627307613814273\n",
      "RMSE: 24978.134994307624\n",
      "LRMSE: 0.1262832453111658\n",
      "RMSE: 24981.04744238065\n",
      "LRMSE: 0.1262938929735373\n",
      "RMSE: 24984.835100091073\n",
      "LRMSE: 0.1263054114834032\n",
      "RMSE: 24989.81398502387\n",
      "LRMSE: 0.12631865389620503\n",
      "RMSE: 24996.407502472364\n",
      "LRMSE: 0.12633512864769594\n",
      "RMSE: 25005.164962547835\n",
      "LRMSE: 0.12635718749365785\n",
      "RMSE: 25016.77116538624\n",
      "LRMSE: 0.12638816365628724\n",
      "RMSE: 25032.039749594438\n",
      "LRMSE: 0.12643240782141713\n",
      "RMSE: 25051.8828161332\n",
      "LRMSE: 0.12649517034558994\n",
      "RMSE: 25077.25130760378\n",
      "LRMSE: 0.12658229413969624\n",
      "RMSE: 25109.045376504975\n",
      "LRMSE: 0.12669971724248963\n",
      "RMSE: 25148.00136538378\n",
      "LRMSE: 0.12685283427618899\n",
      "RMSE: 25194.57057180475\n",
      "LRMSE: 0.1270458196523919\n",
      "RMSE: 25248.811755741284\n",
      "LRMSE: 0.12728105076425508\n",
      "RMSE: 25310.32076083133\n",
      "LRMSE: 0.12755876136828337\n",
      "RMSE: 25378.21416179078\n",
      "LRMSE: 0.1278769894434043\n",
      "RMSE: 25451.17018085067\n",
      "LRMSE: 0.1282317719287815\n",
      "RMSE: 25527.513918591852\n",
      "LRMSE: 0.12861742533105258\n",
      "RMSE: 25605.32234900739\n",
      "LRMSE: 0.12902669959953952\n",
      "RMSE: 25682.523460077868\n",
      "LRMSE: 0.129450652822514\n",
      "RMSE: 25756.97445559875\n",
      "LRMSE: 0.12987826689720613\n",
      "RMSE: 25826.5210891508\n",
      "LRMSE: 0.13029604319049684\n",
      "RMSE: 25889.05517199081\n",
      "LRMSE: 0.13068796657901122\n",
      "RMSE: 25942.592085550044\n",
      "LRMSE: 0.1310361955251952\n",
      "RMSE: 25985.382057875704\n",
      "LRMSE: 0.13132259155240195\n",
      "RMSE: 26016.05235784909\n",
      "LRMSE: 0.1315308325141399\n",
      "RMSE: 26033.761304221734\n",
      "LRMSE: 0.13164854418783334\n",
      "RMSE: 26038.337254527596\n",
      "LRMSE: 0.1316688093600046\n",
      "RMSE: 26030.37934205047\n",
      "LRMSE: 0.13159062422392706\n",
      "RMSE: 26011.308107790504\n",
      "LRMSE: 0.13141825824133765\n",
      "RMSE: 25983.366361802007\n",
      "LRMSE: 0.13115983706026027\n",
      "RMSE: 25949.577733872087\n",
      "LRMSE: 0.13082564843041058\n",
      "RMSE: 25913.67072088243\n",
      "LRMSE: 0.13042662970139315\n",
      "RMSE: 25879.972197388335\n",
      "LRMSE: 0.1299733086753578\n",
      "RMSE: 25853.270974641742\n",
      "LRMSE: 0.12947526084997654\n",
      "RMSE: 25838.65272854869\n",
      "LRMSE: 0.12894101538893898\n",
      "RMSE: 25841.312982934924\n",
      "LRMSE: 0.12837832592665\n",
      "RMSE: 25866.362079026447\n",
      "LRMSE: 0.12779478779380746\n",
      "RMSE: 25918.641127863604\n",
      "LRMSE: 0.12719884990350777\n",
      "RMSE: 26002.568196719018\n",
      "LRMSE: 0.12660125085842472\n",
      "RMSE: 26122.02967463616\n",
      "LRMSE: 0.1260167630806158\n",
      "RMSE: 26280.325139681736\n",
      "LRMSE: 0.12546589647787743\n",
      "RMSE: 26480.167207288137\n",
      "LRMSE: 0.12497601494483464\n",
      "RMSE: 26723.731628656504\n",
      "LRMSE: 0.1245813002758173\n",
      "RMSE: 27012.74784744997\n",
      "LRMSE: 0.124321241229586\n",
      "RMSE: 27348.617860573584\n",
      "LRMSE: 0.12423778410814254\n",
      "RMSE: 27732.55377297224\n",
      "LRMSE: 0.12437178903268284\n",
      "RMSE: 28165.73249697292\n",
      "LRMSE: 0.1247597909045978\n",
      "RMSE: 28649.476743721232\n",
      "LRMSE: 0.12543212730507108\n",
      "RMSE: 29185.47909910705\n",
      "LRMSE: 0.1264132436146757\n",
      "RMSE: 29776.085093062786\n",
      "LRMSE: 0.1277244969185115\n",
      "RMSE: 30424.639395691418\n",
      "LRMSE: 0.12938918768712526\n",
      "RMSE: 31135.87784255279\n",
      "LRMSE: 0.1314389865698605\n",
      "RMSE: 31916.31980055551\n",
      "LRMSE: 0.1339204870049095\n"
     ]
    },
    {
     "data": {
      "text/plain": [
       "[<matplotlib.lines.Line2D at 0x184250fb128>]"
      ]
     },
     "execution_count": 18,
     "metadata": {},
     "output_type": "execute_result"
    },
    {
     "data": {
      "image/png": "[encoded data removed]",
      "text/plain": [
       "<Figure size 432x288 with 1 Axes>"
      ]
     },
     "metadata": {
      "needs_background": "light"
     },
     "output_type": "display_data"
    }
   ],
   "source": [
    "r_alpha2 = np.logspace(-10, 2.8, 150) # 10^-10 ~ 2 \n",
    "\n",
    "scores = [] \n",
    "for k in r_alpha2:\n",
    "    scores.append(ridge_train_test(k))\n",
    "plt.plot(r_alpha2, scores)"
   ]
  },
  {
   "cell_type": "markdown",
   "metadata": {},
   "source": [
    "we can use auto scanning for best alpha"
   ]
  },
  {
   "cell_type": "code",
   "execution_count": 17,
   "metadata": {},
   "outputs": [
    {
     "ename": "NameError",
     "evalue": "name 'r_alpha2' is not defined",
     "output_type": "error",
     "traceback": [
      "\u001b[1;31m---------------------------------------------------------------------------\u001b[0m",
      "\u001b[1;31mNameError\u001b[0m                                 Traceback (most recent call last)",
      "\u001b[1;32m<ipython-input-17-442c04a00aae>\u001b[0m in \u001b[0;36m<module>\u001b[1;34m\u001b[0m\n\u001b[0;32m      1\u001b[0m ridge_model2 = make_pipeline(RobustScaler(), RidgeCV(\n\u001b[1;32m----> 2\u001b[1;33m                 alphas=r_alpha2, cv=kfolds)).fit(X_train, y_train)\n\u001b[0m",
      "\u001b[1;31mNameError\u001b[0m: name 'r_alpha2' is not defined"
     ]
    }
   ],
   "source": [
    "ridge_model2 = make_pipeline(RobustScaler(), RidgeCV(\n",
    "                alphas=r_alpha2, cv=kfolds)).fit(X_train, y_train)"
   ]
  },
  {
   "cell_type": "code",
   "execution_count": 23,
   "metadata": {
    "scrolled": false
   },
   "outputs": [
    {
     "name": "stdout",
     "output_type": "stream",
     "text": [
      "RMSE: 26002.568196719014\n",
      "LRMSE: 0.12660125085842486\n"
     ]
    },
    {
     "data": {
      "text/plain": [
       "0.12660125085842486"
      ]
     },
     "execution_count": 23,
     "metadata": {},
     "output_type": "execute_result"
    }
   ],
   "source": [
    "benchmark1(ridge_model2, X_test, y_test)\n",
    "\n",
    "# best alpha\n",
    "ridge_model2.steps[1][1].alpha_"
   ]
  },
  {
   "cell_type": "markdown",
   "metadata": {},
   "source": [
    "## Lasso"
   ]
  },
  {
   "cell_type": "code",
   "execution_count": 20,
   "metadata": {},
   "outputs": [],
   "source": [
    "from sklearn.linear_model import LassoCV"
   ]
  },
  {
   "cell_type": "code",
   "execution_count": 22,
   "metadata": {},
   "outputs": [
    {
     "name": "stdout",
     "output_type": "stream",
     "text": [
      "Alpha: 1e-10\n",
      "RMSE: 24903.67416108695\n",
      "LRMSE: 0.1266018506534091\n",
      "Alpha: 1.2187258987140784e-10\n",
      "RMSE: 24903.67416148097\n",
      "LRMSE: 0.12660185065387594\n",
      "Alpha: 1.4852928161964384e-10\n",
      "RMSE: 24903.674161961204\n",
      "LRMSE: 0.12660185065444526\n",
      "Alpha: 1.810164822272569e-10\n",
      "RMSE: 24903.67416254646\n",
      "LRMSE: 0.12660185065513913\n",
      "Alpha: 2.206094749844747e-10\n",
      "RMSE: 24903.6741632597\n",
      "LRMSE: 0.12660185065598456\n",
      "Alpha: 2.6886248066529384e-10\n",
      "RMSE: 24903.674164128963\n",
      "LRMSE: 0.12660185065701476\n",
      "Alpha: 3.2766966837930683e-10\n",
      "RMSE: 24903.674165188386\n",
      "LRMSE: 0.1266018506582705\n",
      "Alpha: 3.993395110769148e-10\n",
      "RMSE: 24903.674166479497\n",
      "LRMSE: 0.12660185065980104\n",
      "Alpha: 4.866854045292537e-10\n",
      "RMSE: 24903.674168053032\n",
      "LRMSE: 0.1266018506616664\n",
      "Alpha: 5.931361070259395e-10\n",
      "RMSE: 24903.67416997074\n",
      "LRMSE: 0.12660185066393959\n",
      "Alpha: 7.22870335094958e-10\n",
      "RMSE: 24903.674172307914\n",
      "LRMSE: 0.12660185066670998\n",
      "Alpha: 8.809807987923498e-10\n",
      "RMSE: 24903.674175156266\n",
      "LRMSE: 0.12660185067008645\n",
      "Alpha: 1.0736741157580489e-09\n",
      "RMSE: 24903.674178627592\n",
      "LRMSE: 0.12660185067420118\n",
      "Alpha: 1.3085144516532719e-09\n",
      "RMSE: 24903.674182858245\n",
      "LRMSE: 0.1266018506792163\n",
      "Alpha: 1.5947204510714934e-09\n",
      "RMSE: 24903.67418801423\n",
      "LRMSE: 0.12660185068532798\n",
      "Alpha: 1.9435271149298264e-09\n",
      "RMSE: 24903.674194297942\n",
      "LRMSE: 0.12660185069277655\n",
      "Alpha: 2.3686268298180327e-09\n",
      "RMSE: 24903.674201956095\n",
      "LRMSE: 0.12660185070185434\n",
      "Alpha: 2.886706861888261e-09\n",
      "RMSE: 24903.674211289268\n",
      "LRMSE: 0.12660185071291735\n",
      "Alpha: 3.5181044145788683e-09\n",
      "RMSE: 24903.674222663874\n",
      "LRMSE: 0.12660185072640096\n",
      "Alpha: 4.287604964427598e-09\n",
      "RMSE: 24903.674236526396\n",
      "LRMSE: 0.12660185074283306\n",
      "Alpha: 5.225415213602969e-09\n",
      "RMSE: 24903.67425342096\n",
      "LRMSE: 0.12660185076285954\n",
      "Alpha: 6.368348852352471e-09\n",
      "RMSE: 24903.674274010842\n",
      "LRMSE: 0.12660185078726613\n",
      "Alpha: 7.761271678408036e-09\n",
      "RMSE: 24903.674299104267\n",
      "LRMSE: 0.12660185081701159\n",
      "Alpha: 9.458862801431959e-09\n",
      "RMSE: 24903.67432968627\n",
      "LRMSE: 0.1266018508532628\n",
      "Alpha: 1.152776106848833e-08\n",
      "RMSE: 24903.67436695734\n",
      "LRMSE: 0.12660185089744325\n",
      "Alpha: 1.4049180968354606e-08\n",
      "RMSE: 24903.6744123806\n",
      "LRMSE: 0.126601850951287\n",
      "Alpha: 1.7122100701854695e-08\n",
      "RMSE: 24903.674467739027\n",
      "LRMSE: 0.1266018510169074\n",
      "Alpha: 2.0867147565740775e-08\n",
      "RMSE: 24903.674535205853\n",
      "LRMSE: 0.12660185109688113\n",
      "Alpha: 2.5431333170656722e-08\n",
      "RMSE: 24903.67461742937\n",
      "LRMSE: 0.1266018511943471\n",
      "Alpha: 3.099382437390577e-08\n",
      "RMSE: 24903.674717637317\n",
      "LRMSE: 0.12660185131313137\n",
      "Alpha: 3.777297646467455e-08\n",
      "RMSE: 24903.674839763382\n",
      "LRMSE: 0.1266018514578971\n",
      "Alpha: 4.603490468901622e-08\n",
      "RMSE: 24903.674988601542\n",
      "LRMSE: 0.1266018516343265\n",
      "Alpha: 5.610393058933824e-08\n",
      "RMSE: 24903.675169994487\n",
      "LRMSE: 0.12660185184934555\n",
      "Alpha: 6.837531322888353e-08\n",
      "RMSE: 24903.675391062847\n",
      "LRMSE: 0.12660185211139516\n",
      "Alpha: 8.33307650647277e-08\n",
      "RMSE: 24903.675660484536\n",
      "LRMSE: 0.12660185243076189\n",
      "Alpha: 1.0155736154404181e-07\n",
      "RMSE: 24903.675988835814\n",
      "LRMSE: 0.12660185281998249\n",
      "Alpha: 1.2377058671879294e-07\n",
      "RMSE: 24903.676389006097\n",
      "LRMSE: 0.1266018532943357\n",
      "Alpha: 1.5084241953322972e-07\n",
      "RMSE: 24903.67687670408\n",
      "LRMSE: 0.1266018538724426\n",
      "Alpha: 1.838355633098411e-07\n",
      "RMSE: 24903.677471074392\n",
      "LRMSE: 0.12660185457699677\n",
      "Alpha: 2.2404516211039497e-07\n",
      "RMSE: 24903.678195449145\n",
      "LRMSE: 0.1266018554356556\n",
      "Alpha: 2.730496415455325e-07\n",
      "RMSE: 24903.679078263765\n",
      "LRMSE: 0.1266018564821262\n",
      "Alpha: 3.327726697861361e-07\n",
      "RMSE: 24903.680154173333\n",
      "LRMSE: 0.12660185775748814\n",
      "Alpha: 4.0555867105259205e-07\n",
      "RMSE: 24903.681465413007\n",
      "LRMSE: 0.12660185931180654\n",
      "Alpha: 4.942648558598566e-07\n",
      "RMSE: 24903.6830634559\n",
      "LRMSE: 0.12660186120609704\n",
      "Alpha: 6.023733806605881e-07\n",
      "RMSE: 24903.68501103389\n",
      "LRMSE: 0.1266018635147216\n",
      "Alpha: 7.341280397070131e-07\n",
      "RMSE: 24903.687384600253\n",
      "LRMSE: 0.12660186632830783\n",
      "Alpha: 8.947008549631324e-07\n",
      "RMSE: 24903.69027733086\n",
      "LRMSE: 0.1266018697573063\n",
      "Alpha: 1.090395103545198e-06\n",
      "RMSE: 24903.69380278227\n",
      "LRMSE: 0.12660187393632719\n",
      "Alpha: 1.3288927525215521e-06\n",
      "RMSE: 24903.698099349644\n",
      "LRMSE: 0.12660187902942682\n",
      "Alpha: 1.619556014111454e-06\n",
      "RMSE: 24903.703335700127\n",
      "LRMSE: 0.12660188523654536\n",
      "Alpha: 1.9737948588157726e-06\n",
      "RMSE: 24903.709717394733\n",
      "LRMSE: 0.12660189280136105\n",
      "Alpha: 2.4055149131874754e-06\n",
      "RMSE: 24903.717494958997\n",
      "LRMSE: 0.12660190202085694\n",
      "Alpha: 2.9316633244445248e-06\n",
      "RMSE: 24903.726973719065\n",
      "LRMSE: 0.12660191325698258\n",
      "Alpha: 3.5728940198107564e-06\n",
      "RMSE: 24903.738525790628\n",
      "LRMSE: 0.12660192695086991\n",
      "Alpha: 4.354378475304012e-06\n",
      "RMSE: 24903.75260469024\n",
      "LRMSE: 0.12660194364015812\n",
      "Alpha: 5.306793820656121e-06\n",
      "RMSE: 24903.769763144646\n",
      "LRMSE: 0.12660196398011173\n",
      "Alpha: 6.467527068369449e-06\n",
      "RMSE: 24903.790674797747\n",
      "LRMSE: 0.12660198876936607\n",
      "Alpha: 7.882142738856188e-06\n",
      "RMSE: 24903.81616066836\n",
      "LRMSE: 0.12660201898130244\n",
      "Alpha: 9.606171493205154e-06\n",
      "RMSE: 24903.84722140087\n",
      "LRMSE: 0.1266020558023112\n",
      "Alpha: 1.170728998625799e-05\n",
      "RMSE: 24903.885076576375\n",
      "LRMSE: 0.12660210067842212\n",
      "Alpha: 1.4267977510008602e-05\n",
      "RMSE: 24903.931212633932\n",
      "LRMSE: 0.12660215537217082\n",
      "Alpha: 1.7388753713717493e-05\n",
      "RMSE: 24903.987441290148\n",
      "LRMSE: 0.12660222203193497\n",
      "Alpha: 2.119212449726808e-05\n",
      "RMSE: 24904.055970759284\n",
      "LRMSE: 0.126602303276468\n",
      "Alpha: 2.5827390973593678e-05\n",
      "RMSE: 24904.139492593273\n",
      "LRMSE: 0.12660240229808437\n",
      "Alpha: 3.1476510275732836e-05\n",
      "RMSE: 24904.241287559496\n",
      "LRMSE: 0.1266025229883675\n",
      "Alpha: 3.836123827417543e-05\n",
      "RMSE: 24904.365354767695\n",
      "LRMSE: 0.12660267009171094\n",
      "Alpha: 4.6751834591479355e-05\n",
      "RMSE: 24904.516620578837\n",
      "LRMSE: 0.12660285173639893\n",
      "Alpha: 5.697767162903251e-05\n",
      "RMSE: 24904.700824587693\n",
      "LRMSE: 0.12660307422704153\n",
      "Alpha: 6.94401640627283e-05\n",
      "RMSE: 24904.92544156431\n",
      "LRMSE: 0.12660334196531658\n",
      "Alpha: 8.46285263542016e-05\n",
      "RMSE: 24905.19922057176\n",
      "LRMSE: 0.12660366831051664\n",
      "Alpha: 0.00010313897683787222\n",
      "RMSE: 24905.5329329596\n",
      "LRMSE: 0.12660406614252695\n",
      "Alpha: 0.00012569814223918635\n",
      "RMSE: 24905.939712343315\n",
      "LRMSE: 0.1266045511486\n",
      "Alpha: 0.00015319158136714245\n",
      "RMSE: 24906.43557715039\n",
      "LRMSE: 0.1266051424753801\n",
      "Alpha: 0.00018669854767710157\n",
      "RMSE: 24907.040067250324\n",
      "LRMSE: 0.12660586349519554\n",
      "Alpha: 0.00022753435530638885\n",
      "RMSE: 24907.03087983805\n",
      "LRMSE: 0.12660574906354316\n",
      "Alpha: 0.00027730201165910667\n",
      "RMSE: 24907.003266632644\n",
      "LRMSE: 0.12660558677928463\n",
      "Alpha: 0.0003379551433744666\n",
      "RMSE: 24906.971358102943\n",
      "LRMSE: 0.12660539138179427\n",
      "Alpha: 0.0004118746858340921\n",
      "RMSE: 24906.934422427566\n",
      "LRMSE: 0.12660515582265497\n",
      "Alpha: 0.0005019623466507317\n",
      "RMSE: 24906.8916341229\n",
      "LRMSE: 0.12660487166407555\n",
      "Alpha: 0.0006117545120425407\n",
      "RMSE: 24906.84206466461\n",
      "LRMSE: 0.1266045288091629\n",
      "Alpha: 0.000745561067481438\n",
      "RMSE: 24906.78466217228\n",
      "LRMSE: 0.12660411498216606\n",
      "Alpha: 0.0009086345820125434\n",
      "RMSE: 24906.71685700419\n",
      "LRMSE: 0.12660361349976398\n",
      "Alpha: 0.0011073764975659279\n",
      "RMSE: 24906.63391956508\n",
      "LRMSE: 0.12660300200556604\n",
      "Alpha: 0.0013495884172108814\n",
      "RMSE: 24906.532903654515\n",
      "LRMSE: 0.12660225683126192\n",
      "Alpha: 0.0016447783566594422\n",
      "RMSE: 24906.409888851118\n",
      "LRMSE: 0.12660134887566143\n",
      "Alpha: 0.002004533980905244\n",
      "RMSE: 24906.263963068996\n",
      "LRMSE: 0.12660023165008613\n",
      "Alpha: 0.002442977477381648\n",
      "RMSE: 24906.081927295483\n",
      "LRMSE: 0.1265988796355333\n",
      "Alpha: 0.0029773199216602013\n",
      "RMSE: 24905.88768398749\n",
      "LRMSE: 0.1265971180083795\n",
      "Alpha: 0.003628536897284659\n",
      "RMSE: 24905.67258993784\n",
      "LRMSE: 0.12659497416599277\n",
      "Alpha: 0.0044221918911604395\n",
      "RMSE: 24905.415580648256\n",
      "LRMSE: 0.12659243591822741\n",
      "Alpha: 0.005389439786840617\n",
      "RMSE: 24905.105942583\n",
      "LRMSE: 0.1265893517984362\n",
      "Alpha: 0.006568249847782729\n",
      "RMSE: 24904.722571570794\n",
      "LRMSE: 0.12658562512274826\n",
      "Alpha: 0.008004896198717616\n",
      "RMSE: 24904.25810815307\n",
      "LRMSE: 0.12658104996250155\n",
      "Alpha: 0.009755774313895038\n",
      "RMSE: 24903.693501013142\n",
      "LRMSE: 0.126575480168213\n",
      "Alpha: 0.01188961481835343\n",
      "RMSE: 24903.00668625058\n",
      "LRMSE: 0.12656855096098182\n",
      "Alpha: 0.01449018150486201\n",
      "RMSE: 24901.54946622573\n",
      "LRMSE: 0.12655910924524472\n",
      "Alpha: 0.01765955947704307\n",
      "RMSE: 24899.62170267399\n",
      "LRMSE: 0.1265473646762062\n",
      "Alpha: 0.021522162494554038\n",
      "RMSE: 24897.27132199213\n",
      "LRMSE: 0.12653336898020418\n",
      "Alpha: 0.026229616828445806\n",
      "RMSE: 24894.854575924386\n",
      "LRMSE: 0.12651725949166368\n",
      "Alpha: 0.03196671334217353\n",
      "RMSE: 24892.100662005694\n",
      "LRMSE: 0.1264971148449231\n",
      "Alpha: 0.038958661446875764\n",
      "RMSE: 24888.789704586696\n",
      "LRMSE: 0.1264729130884799\n",
      "Alpha: 0.04747992968454099\n",
      "RMSE: 24884.76202802496\n",
      "LRMSE: 0.12644358745505524\n",
      "Alpha: 0.057865019975673476\n"
     ]
    },
    {
     "name": "stdout",
     "output_type": "stream",
     "text": [
      "RMSE: 24879.822731776723\n",
      "LRMSE: 0.12640505071568056\n",
      "Alpha: 0.07052159847396076\n",
      "RMSE: 24873.935625104623\n",
      "LRMSE: 0.12636368606451517\n",
      "Alpha: 0.08594649847893122\n",
      "RMSE: 24866.502421138222\n",
      "LRMSE: 0.12630915716993407\n",
      "Alpha: 0.10474522360006364\n",
      "RMSE: 24857.502012760608\n",
      "LRMSE: 0.12624520275462495\n",
      "Alpha: 0.12765571676799467\n",
      "RMSE: 24846.528552704283\n",
      "LRMSE: 0.12616987355034356\n",
      "Alpha: 0.15557732814406416\n",
      "RMSE: 24833.422787385127\n",
      "LRMSE: 0.12606066989193118\n",
      "Alpha: 0.1896061190619089\n",
      "RMSE: 24822.70671726137\n",
      "LRMSE: 0.12597391712539543\n",
      "Alpha: 0.23107788785541353\n",
      "RMSE: 24815.056947512774\n",
      "LRMSE: 0.12591309797664424\n",
      "Alpha: 0.2816206065495399\n",
      "RMSE: 24813.01765902975\n",
      "LRMSE: 0.12588767502445217\n",
      "Alpha: 0.3432183268134919\n",
      "RMSE: 24810.81192942417\n",
      "LRMSE: 0.12585259350290368\n",
      "Alpha: 0.4182890638009153\n",
      "RMSE: 24807.609702080983\n",
      "LRMSE: 0.12582893088724115\n",
      "Alpha: 0.509779715203041\n",
      "RMSE: 24805.024226877147\n",
      "LRMSE: 0.12580453496256655\n",
      "Alpha: 0.6212817415570331\n",
      "RMSE: 24802.251860401324\n",
      "LRMSE: 0.1257846814296391\n",
      "Alpha: 0.7571721488337431\n",
      "RMSE: 24798.244075201805\n",
      "LRMSE: 0.12576310869263121\n",
      "Alpha: 0.9227853075686736\n",
      "RMSE: 24791.6564274932\n",
      "LRMSE: 0.12573881010902693\n",
      "Alpha: 1.1246223532867745\n",
      "RMSE: 24783.18008045831\n",
      "LRMSE: 0.12571064119644726\n",
      "Alpha: 1.3706063882233661\n",
      "RMSE: 24764.28499694947\n",
      "LRMSE: 0.1256845849791388\n",
      "Alpha: 1.6703935022707792\n",
      "RMSE: 24753.42686943372\n",
      "LRMSE: 0.1256703874926662\n",
      "Alpha: 2.0357518222611124\n",
      "RMSE: 24741.562174056504\n",
      "LRMSE: 0.1256201529020249\n",
      "Alpha: 2.4810234691439974\n",
      "RMSE: 24730.619796779938\n",
      "LRMSE: 0.12552339025423806\n",
      "Alpha: 3.023687557163239\n",
      "RMSE: 24719.542229643906\n",
      "LRMSE: 0.12512980486602415\n",
      "Alpha: 3.685046335534345\n",
      "RMSE: 24708.136508349067\n",
      "LRMSE: 0.12468707984420749\n",
      "Alpha: 4.491061407077098\n",
      "RMSE: 24696.999160329044\n",
      "LRMSE: 0.1242234970888602\n",
      "Alpha: 5.473372849520151\n",
      "RMSE: 24695.817100095017\n",
      "LRMSE: 0.12372281788927024\n",
      "Alpha: 6.670541245028683\n",
      "RMSE: 24699.564430892133\n",
      "LRMSE: 0.12315743468507102\n",
      "Alpha: 8.129561373756909\n",
      "RMSE: 24708.873350158967\n",
      "LRMSE: 0.12252167652407815\n",
      "Alpha: 9.907706991383149\n",
      "RMSE: 24706.820414600283\n",
      "LRMSE: 0.12176164228511352\n",
      "Alpha: 12.074779107269187\n",
      "RMSE: 24685.561783275858\n",
      "LRMSE: 0.120757251285782\n",
      "Alpha: 14.715846019280619\n",
      "RMSE: 24660.200196581914\n",
      "LRMSE: 0.11955282125176184\n",
      "Alpha: 17.934582665185765\n",
      "RMSE: 24625.12270575671\n",
      "LRMSE: 0.11847705669213282\n",
      "Alpha: 21.857340376690455\n",
      "RMSE: 24585.328534667507\n",
      "LRMSE: 0.11738319740965178\n",
      "Alpha: 26.638106794081484\n",
      "RMSE: 24572.34428075202\n",
      "LRMSE: 0.11667473945477647\n",
      "Alpha: 32.46455064265856\n",
      "RMSE: 24556.220275855976\n",
      "LRMSE: 0.11625220610879651\n",
      "Alpha: 39.56538865832277\n",
      "RMSE: 24568.856990359924\n",
      "LRMSE: 0.11600049328552196\n",
      "Alpha: 48.21936385058622\n",
      "RMSE: 24596.731469876937\n",
      "LRMSE: 0.11580551984038166\n",
      "Alpha: 58.766187544226845\n",
      "RMSE: 24648.998313520297\n",
      "LRMSE: 0.11591097714870427\n",
      "Alpha: 71.61987472883794\n",
      "RMSE: 24709.694920303573\n",
      "LRMSE: 0.11605187005518736\n",
      "Alpha: 87.28499619469275\n",
      "RMSE: 24775.164924750927\n",
      "LRMSE: 0.11629084879800801\n",
      "Alpha: 106.37648543163141\n",
      "RMSE: 24868.57806927047\n",
      "LRMSE: 0.11675372382246904\n",
      "Alpha: 129.6437778097101\n",
      "RMSE: 24994.98075504607\n",
      "LRMSE: 0.11768370440389692\n",
      "Alpha: 158.0002296238272\n",
      "RMSE: 25179.860785265955\n",
      "LRMSE: 0.1193183617787008\n",
      "Alpha: 192.5589718453296\n",
      "RMSE: 25439.746569821076\n",
      "LRMSE: 0.12228974592716883\n",
      "Alpha: 234.67660601765826\n",
      "RMSE: 25788.35608865909\n",
      "LRMSE: 0.12680292577656105\n",
      "Alpha: 286.0064575760403\n",
      "RMSE: 26161.765791223253\n",
      "LRMSE: 0.13330266324288825\n",
      "Alpha: 348.5634770473897\n",
      "RMSE: 26386.922662757177\n",
      "LRMSE: 0.13761933853907626\n",
      "Alpha: 424.8033368234841\n",
      "RMSE: 26574.325079232854\n",
      "LRMSE: 0.13648084141458114\n",
      "Alpha: 517.71882844694\n",
      "RMSE: 26897.46468309163\n",
      "LRMSE: 0.13453717544580082\n",
      "Alpha: 630.957344480193\n",
      "RMSE: 27319.410254002592\n",
      "LRMSE: 0.13346282614418395\n",
      "RMSE: 24605.58985079601\n",
      "LRMSE: 0.11581401793926535\n"
     ]
    },
    {
     "data": {
      "text/plain": [
       "[<matplotlib.lines.Line2D at 0x1842515f240>]"
      ]
     },
     "execution_count": 22,
     "metadata": {},
     "output_type": "execute_result"
    },
    {
     "data": {
      "image/png": "[encoded data removed]",
      "text/plain": [
       "<Figure size 432x288 with 1 Axes>"
      ]
     },
     "metadata": {
      "needs_background": "light"
     },
     "output_type": "display_data"
    }
   ],
   "source": [
    "l_alphas = np.logspace(-10, 2.8, 150)\n",
    "\n",
    "def lasso_train_test(alpha):\n",
    "    lasso_model = make_pipeline(RobustScaler(), LassoCV(alphas=[alpha], cv=kfolds))\n",
    "    lasso_model.fit(X_train, y_train)\n",
    "    lrmse=benchmark1(lasso_model, X_test, y_test)\n",
    "    return lrmse\n",
    "\n",
    "scores = [] \n",
    "\n",
    "for k in l_alphas:\n",
    "    print('Alpha:', k)\n",
    "    scores.append(lasso_train_test(k))\n",
    "\n",
    "lasso_train_test(50)\n",
    "plt.plot(l_alphas, scores)"
   ]
  },
  {
   "cell_type": "code",
   "execution_count": 23,
   "metadata": {},
   "outputs": [
    {
     "name": "stdout",
     "output_type": "stream",
     "text": [
      "RMSE: 25439.746569821076\n",
      "LRMSE: 0.12228974592716883\n"
     ]
    },
    {
     "data": {
      "text/plain": [
       "192.5589718453296"
      ]
     },
     "execution_count": 23,
     "metadata": {},
     "output_type": "execute_result"
    }
   ],
   "source": [
    "lasso_model2 = make_pipeline(RobustScaler(), LassoCV(\n",
    "    alphas=l_alphas, cv=kfolds)).fit(X_train, y_train)\n",
    "\n",
    "benchmark1(lasso_model2, X_test, y_test)\n",
    "lasso_model2.steps[1][1].alpha_"
   ]
  },
  {
   "cell_type": "markdown",
   "metadata": {},
   "source": [
    "## ElasticNet\n",
    "\n",
    "$1 / (2 * n_samples) * ||y - Xw||^2_2\n",
    "+ alpha * l1_ratio * ||w||_1\n",
    "+ 0.5 * alpha * (1 - l1_ratio) * ||w||^2_2$"
   ]
  },
  {
   "cell_type": "code",
   "execution_count": 24,
   "metadata": {},
   "outputs": [
    {
     "name": "stdout",
     "output_type": "stream",
     "text": [
      "RMSE: 64802.77270461465\n",
      "LRMSE: 0.3056722083417286\n"
     ]
    },
    {
     "data": {
      "text/plain": [
       "0.3056722083417286"
      ]
     },
     "execution_count": 24,
     "metadata": {},
     "output_type": "execute_result"
    }
   ],
   "source": [
    "from sklearn.linear_model import ElasticNetCV\n",
    "l1ratio=[.1,.2,.3,.4,.5,.6,.7,.8,.85,.9,.95,1]\n",
    "e_alphas = l_alphas\n",
    "\n",
    "def elastic_train_test(alpha, l1ratio):\n",
    "    e_model = make_pipeline(RobustScaler(), ElasticNetCV(\n",
    "    alphas=[alpha], l1_ratio=[l1ratio]))\n",
    "    e_model.fit(X_train, y_train)\n",
    "    lrmse = benchmark1(e_model, X_test, y_test)\n",
    "    return lrmse\n",
    "\n",
    "elastic_train_test(50, .5)\n",
    "\n",
    "elastic_model3 = make_pipeline(RobustScaler(), ElasticNetCV(\n",
    "    alphas=e_alphas, l1_ratio=l1ratio)).fit(X_test, y_test)\n",
    "\n",
    "benchmark1(elastic_model3, X_test, y_test)\n",
    "\n",
    "elastic_model3.steps[1][1].alpha_\n",
    "\n",
    "elastic_model3.steps[1][1].l1_ratio_"
   ]
  },
  {
   "cell_type": "code",
   "execution_count": 29,
   "metadata": {},
   "outputs": [],
   "source": [
    "from numpy import *"
   ]
  },
  {
   "cell_type": "code",
   "execution_count": 30,
   "metadata": {},
   "outputs": [],
   "source": [
    "v1 = mat([12,34,5,6,17,8])\n",
    "v2 = mat([21,3,114,12,4,5])"
   ]
  },
  {
   "cell_type": "code",
   "execution_count": 39,
   "metadata": {},
   "outputs": [
    {
     "name": "stdout",
     "output_type": "stream",
     "text": [
      "Euclid: [[40.79215611]]\n",
      "abs: 48\n",
      "Cos dis: [[1.]]\n"
     ]
    }
   ],
   "source": [
    "v1 = mat([2,10])\n",
    "v2 = mat([10, 50])\n",
    "\n",
    "print('Euclid:', sqrt((v1-v2)*(v1-v2).T))\n",
    "\n",
    "print('abs:', sum(abs(v1-v2)))\n",
    "\n",
    "print('Cos dis:', dot(v1,v2.T) / (linalg.norm(v1) * linalg.norm(v2)))"
   ]
  },
  {
   "cell_type": "code",
   "execution_count": 3,
   "metadata": {},
   "outputs": [
    {
     "ename": "LinAlgError",
     "evalue": "Singular matrix",
     "output_type": "error",
     "traceback": [
      "\u001b[1;31m---------------------------------------------------------------------------\u001b[0m",
      "\u001b[1;31mLinAlgError\u001b[0m                               Traceback (most recent call last)",
      "\u001b[1;32m<ipython-input-3-e2c307e644fa>\u001b[0m in \u001b[0;36m<module>\u001b[1;34m\u001b[0m\n\u001b[0;32m      3\u001b[0m \u001b[0ma\u001b[0m\u001b[1;33m=\u001b[0m\u001b[0mnp\u001b[0m\u001b[1;33m.\u001b[0m\u001b[0mmat\u001b[0m\u001b[1;33m(\u001b[0m\u001b[1;33m[\u001b[0m\u001b[1;33m[\u001b[0m\u001b[1;36m1\u001b[0m\u001b[1;33m,\u001b[0m\u001b[1;36m1\u001b[0m\u001b[1;33m,\u001b[0m\u001b[1;36m2\u001b[0m\u001b[1;33m]\u001b[0m\u001b[1;33m,\u001b[0m \u001b[1;33m[\u001b[0m\u001b[1;36m2\u001b[0m\u001b[1;33m,\u001b[0m\u001b[1;36m1\u001b[0m\u001b[1;33m,\u001b[0m\u001b[1;36m3\u001b[0m\u001b[1;33m]\u001b[0m\u001b[1;33m,\u001b[0m\u001b[1;33m[\u001b[0m\u001b[1;36m1\u001b[0m\u001b[1;33m,\u001b[0m\u001b[1;36m2\u001b[0m\u001b[1;33m,\u001b[0m\u001b[1;36m3\u001b[0m\u001b[1;33m]\u001b[0m\u001b[1;33m]\u001b[0m\u001b[1;33m)\u001b[0m\u001b[1;31m#系数矩阵\u001b[0m\u001b[1;33m\u001b[0m\u001b[1;33m\u001b[0m\u001b[0m\n\u001b[0;32m      4\u001b[0m \u001b[0mb\u001b[0m\u001b[1;33m=\u001b[0m\u001b[0mnp\u001b[0m\u001b[1;33m.\u001b[0m\u001b[0mmat\u001b[0m\u001b[1;33m(\u001b[0m\u001b[1;33m[\u001b[0m\u001b[1;36m9\u001b[0m\u001b[1;33m,\u001b[0m\u001b[1;36m13\u001b[0m\u001b[1;33m,\u001b[0m\u001b[1;36m20\u001b[0m\u001b[1;33m]\u001b[0m\u001b[1;33m)\u001b[0m\u001b[1;33m.\u001b[0m\u001b[0mT\u001b[0m    \u001b[1;31m#常数项列矩阵\u001b[0m\u001b[1;33m\u001b[0m\u001b[1;33m\u001b[0m\u001b[0m\n\u001b[1;32m----> 5\u001b[1;33m \u001b[0mx\u001b[0m\u001b[1;33m=\u001b[0m\u001b[0msolve\u001b[0m\u001b[1;33m(\u001b[0m\u001b[0ma\u001b[0m\u001b[1;33m,\u001b[0m\u001b[0mb\u001b[0m\u001b[1;33m)\u001b[0m        \u001b[1;31m#方程组的解\u001b[0m\u001b[1;33m\u001b[0m\u001b[1;33m\u001b[0m\u001b[0m\n\u001b[0m\u001b[0;32m      6\u001b[0m \u001b[0mprint\u001b[0m\u001b[1;33m(\u001b[0m\u001b[0mx\u001b[0m\u001b[1;33m)\u001b[0m\u001b[1;33m\u001b[0m\u001b[1;33m\u001b[0m\u001b[0m\n",
      "\u001b[1;32m~\\Anaconda2\\envs\\py36\\lib\\site-packages\\numpy\\linalg\\linalg.py\u001b[0m in \u001b[0;36msolve\u001b[1;34m(a, b)\u001b[0m\n\u001b[0;32m    392\u001b[0m     \u001b[0msignature\u001b[0m \u001b[1;33m=\u001b[0m \u001b[1;34m'DD->D'\u001b[0m \u001b[1;32mif\u001b[0m \u001b[0misComplexType\u001b[0m\u001b[1;33m(\u001b[0m\u001b[0mt\u001b[0m\u001b[1;33m)\u001b[0m \u001b[1;32melse\u001b[0m \u001b[1;34m'dd->d'\u001b[0m\u001b[1;33m\u001b[0m\u001b[1;33m\u001b[0m\u001b[0m\n\u001b[0;32m    393\u001b[0m     \u001b[0mextobj\u001b[0m \u001b[1;33m=\u001b[0m \u001b[0mget_linalg_error_extobj\u001b[0m\u001b[1;33m(\u001b[0m\u001b[0m_raise_linalgerror_singular\u001b[0m\u001b[1;33m)\u001b[0m\u001b[1;33m\u001b[0m\u001b[1;33m\u001b[0m\u001b[0m\n\u001b[1;32m--> 394\u001b[1;33m     \u001b[0mr\u001b[0m \u001b[1;33m=\u001b[0m \u001b[0mgufunc\u001b[0m\u001b[1;33m(\u001b[0m\u001b[0ma\u001b[0m\u001b[1;33m,\u001b[0m \u001b[0mb\u001b[0m\u001b[1;33m,\u001b[0m \u001b[0msignature\u001b[0m\u001b[1;33m=\u001b[0m\u001b[0msignature\u001b[0m\u001b[1;33m,\u001b[0m \u001b[0mextobj\u001b[0m\u001b[1;33m=\u001b[0m\u001b[0mextobj\u001b[0m\u001b[1;33m)\u001b[0m\u001b[1;33m\u001b[0m\u001b[1;33m\u001b[0m\u001b[0m\n\u001b[0m\u001b[0;32m    395\u001b[0m \u001b[1;33m\u001b[0m\u001b[0m\n\u001b[0;32m    396\u001b[0m     \u001b[1;32mreturn\u001b[0m \u001b[0mwrap\u001b[0m\u001b[1;33m(\u001b[0m\u001b[0mr\u001b[0m\u001b[1;33m.\u001b[0m\u001b[0mastype\u001b[0m\u001b[1;33m(\u001b[0m\u001b[0mresult_t\u001b[0m\u001b[1;33m,\u001b[0m \u001b[0mcopy\u001b[0m\u001b[1;33m=\u001b[0m\u001b[1;32mFalse\u001b[0m\u001b[1;33m)\u001b[0m\u001b[1;33m)\u001b[0m\u001b[1;33m\u001b[0m\u001b[1;33m\u001b[0m\u001b[0m\n",
      "\u001b[1;32m~\\Anaconda2\\envs\\py36\\lib\\site-packages\\numpy\\linalg\\linalg.py\u001b[0m in \u001b[0;36m_raise_linalgerror_singular\u001b[1;34m(err, flag)\u001b[0m\n\u001b[0;32m     87\u001b[0m \u001b[1;33m\u001b[0m\u001b[0m\n\u001b[0;32m     88\u001b[0m \u001b[1;32mdef\u001b[0m \u001b[0m_raise_linalgerror_singular\u001b[0m\u001b[1;33m(\u001b[0m\u001b[0merr\u001b[0m\u001b[1;33m,\u001b[0m \u001b[0mflag\u001b[0m\u001b[1;33m)\u001b[0m\u001b[1;33m:\u001b[0m\u001b[1;33m\u001b[0m\u001b[1;33m\u001b[0m\u001b[0m\n\u001b[1;32m---> 89\u001b[1;33m     \u001b[1;32mraise\u001b[0m \u001b[0mLinAlgError\u001b[0m\u001b[1;33m(\u001b[0m\u001b[1;34m\"Singular matrix\"\u001b[0m\u001b[1;33m)\u001b[0m\u001b[1;33m\u001b[0m\u001b[1;33m\u001b[0m\u001b[0m\n\u001b[0m\u001b[0;32m     90\u001b[0m \u001b[1;33m\u001b[0m\u001b[0m\n\u001b[0;32m     91\u001b[0m \u001b[1;32mdef\u001b[0m \u001b[0m_raise_linalgerror_nonposdef\u001b[0m\u001b[1;33m(\u001b[0m\u001b[0merr\u001b[0m\u001b[1;33m,\u001b[0m \u001b[0mflag\u001b[0m\u001b[1;33m)\u001b[0m\u001b[1;33m:\u001b[0m\u001b[1;33m\u001b[0m\u001b[1;33m\u001b[0m\u001b[0m\n",
      "\u001b[1;31mLinAlgError\u001b[0m: Singular matrix"
     ]
    }
   ],
   "source": [
    "import numpy as np\n",
    "from numpy.linalg import solve\n",
    "a=np.mat([[1,1,2], [2,1,3],[1,2,3]])#系数矩阵\n",
    "b=np.mat([9,13,20]).T    #常数项列矩阵\n",
    "x=solve(a,b)        #方程组的解\n",
    "print(x)"
   ]
  },
  {
   "cell_type": "code",
   "execution_count": null,
   "metadata": {},
   "outputs": [],
   "source": []
  },
  {
   "cell_type": "code",
   "execution_count": null,
   "metadata": {},
   "outputs": [],
   "source": []
  },
  {
   "cell_type": "code",
   "execution_count": null,
   "metadata": {},
   "outputs": [],
   "source": []
  },
  {
   "cell_type": "code",
   "execution_count": null,
   "metadata": {},
   "outputs": [],
   "source": []
  },
  {
   "cell_type": "code",
   "execution_count": null,
   "metadata": {},
   "outputs": [],
   "source": []
  },
  {
   "cell_type": "code",
   "execution_count": null,
   "metadata": {},
   "outputs": [],
   "source": []
  },
  {
   "cell_type": "code",
   "execution_count": null,
   "metadata": {},
   "outputs": [],
   "source": []
  },
  {
   "cell_type": "code",
   "execution_count": null,
   "metadata": {},
   "outputs": [],
   "source": []
  },
  {
   "cell_type": "code",
   "execution_count": null,
   "metadata": {},
   "outputs": [],
   "source": []
  },
  {
   "cell_type": "code",
   "execution_count": null,
   "metadata": {},
   "outputs": [],
   "source": []
  },
  {
   "cell_type": "code",
   "execution_count": null,
   "metadata": {},
   "outputs": [],
   "source": []
  },
  {
   "cell_type": "code",
   "execution_count": null,
   "metadata": {},
   "outputs": [],
   "source": []
  },
  {
   "cell_type": "code",
   "execution_count": null,
   "metadata": {},
   "outputs": [],
   "source": []
  },
  {
   "cell_type": "code",
   "execution_count": null,
   "metadata": {},
   "outputs": [],
   "source": []
  }
 ],
 "metadata": {
  "kernelspec": {
   "display_name": "py36",
   "language": "python",
   "name": "py36"
  },
  "language_info": {
   "codemirror_mode": {
    "name": "ipython",
    "version": 3
   },
   "file_extension": ".py",
   "mimetype": "text/x-python",
   "name": "python",
   "nbconvert_exporter": "python",
   "pygments_lexer": "ipython3",
   "version": "3.6.7"
  }
 },
 "nbformat": 4,
 "nbformat_minor": 2
}
