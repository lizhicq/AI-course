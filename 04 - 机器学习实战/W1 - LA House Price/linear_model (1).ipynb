{
 "cells": [
  {
   "cell_type": "code",
   "execution_count": null,
   "metadata": {},
   "outputs": [],
   "source": []
  },
  {
   "cell_type": "code",
   "execution_count": 1,
   "metadata": {},
   "outputs": [],
   "source": [
    "import numpy as np \n",
    "import math \n",
    "from sklearn.metrics import mean_squared_error"
   ]
  },
  {
   "cell_type": "markdown",
   "metadata": {},
   "source": [
    "### 数据准备部分"
   ]
  },
  {
   "cell_type": "code",
   "execution_count": 14,
   "metadata": {},
   "outputs": [],
   "source": [
    "def shuffle_data(X,y,seed=None):\n",
    "    \"将X和y的数据进行随机排序/乱序化\"\n",
    "    if seed:\n",
    "        np.random.seed(seed)\n",
    "    idx=np.arange(X.shape[0])\n",
    "    print(type(idx))\n",
    "    np.random.shuffle(idx)\n",
    "    return X[idx],y[idx] #对于np.array，idx作为index数组可以改变array的顺序"
   ]
  },
  {
   "cell_type": "code",
   "execution_count": 15,
   "metadata": {},
   "outputs": [],
   "source": [
    "def train_test_split(X,y,test_size=0.5,shuffle=True,seed=None):\n",
    "    '将数据集根据test_size分成训练集和测试集，可以指定是否随机洗牌'\n",
    "    if shuffle:\n",
    "        X,y=shuffle_data(X,y,seed)\n",
    "    split_i=len(y)-int(len(y)//(1/test_size))\n",
    "    #split_i=len(y)-int(len(y)*test_size)\n",
    "    X_train,X_test=X[:split_i],X[split_i:]\n",
    "    y_train,y_test=y[:split_i],y[split_i:]\n",
    "    \n",
    "    return X_train,X_test,y_train,y_test"
   ]
  },
  {
   "cell_type": "code",
   "execution_count": 16,
   "metadata": {},
   "outputs": [],
   "source": [
    "from sklearn.datasets import make_regression\n",
    "import matplotlib.pylab as plt"
   ]
  },
  {
   "cell_type": "code",
   "execution_count": 17,
   "metadata": {},
   "outputs": [],
   "source": [
    "X,y=make_regression(n_samples=100,n_features=1,noise=20)"
   ]
  },
  {
   "cell_type": "code",
   "execution_count": 22,
   "metadata": {},
   "outputs": [
    {
     "name": "stdout",
     "output_type": "stream",
     "text": [
      "<class 'numpy.ndarray'>\n"
     ]
    }
   ],
   "source": [
    "X_train,X_test,y_train,y_test=train_test_split(X,y,test_size=0.2)"
   ]
  },
  {
   "cell_type": "markdown",
   "metadata": {},
   "source": [
    "因为使用make_regression函数使得X乱序，在绘制matplot的图像时会有问题，所以对于X进行排序"
   ]
  },
  {
   "cell_type": "code",
   "execution_count": 26,
   "metadata": {},
   "outputs": [],
   "source": [
    "s=sorted([(X_test[i][0],y_test[i]) for i in range(len(X_test))],key=lambda j:j[0])"
   ]
  },
  {
   "cell_type": "code",
   "execution_count": 27,
   "metadata": {},
   "outputs": [
    {
     "data": {
      "text/plain": [
       "[(-2.777652516411223, -63.86341947854863),\n",
       " (-2.4393605237626743, -81.54845980690718),\n",
       " (-1.4272894937453167, 0.2503467371642145),\n",
       " (-1.4251206924621043, -52.215035509139994),\n",
       " (-1.3990066304728683, -58.92671225045021),\n",
       " (-1.3289354587644633, -31.61776999822829),\n",
       " (-0.9916739834275302, -54.95996364941544),\n",
       " (-0.7433926516988061, -33.637429795883705),\n",
       " (-0.5566291992559254, -17.514649891105208),\n",
       " (-0.5252389068323705, -8.71962622092439),\n",
       " (-0.49362480700596745, -12.331797315811652),\n",
       " (-0.485939964206811, -23.31824326865616),\n",
       " (-0.05569337760819045, 7.440033770223184),\n",
       " (0.12145256130655382, 9.196244393726104),\n",
       " (0.3693226749639103, 46.367660596661096),\n",
       " (0.5704677598621049, 12.055197437483585),\n",
       " (0.8924830023639687, 34.598934824723415),\n",
       " (0.9165758454215892, 14.698024903042832),\n",
       " (1.376867420498199, 45.39815189751524),\n",
       " (1.7778482214656204, 39.58238718307592)]"
      ]
     },
     "execution_count": 27,
     "metadata": {},
     "output_type": "execute_result"
    }
   ],
   "source": [
    "s"
   ]
  },
  {
   "cell_type": "code",
   "execution_count": 28,
   "metadata": {},
   "outputs": [],
   "source": [
    "X_test=np.array([[j[0]] for j in s])\n",
    "y_test=np.array([j[1] for j in s])"
   ]
  },
  {
   "cell_type": "code",
   "execution_count": 31,
   "metadata": {},
   "outputs": [],
   "source": [
    "#y_test"
   ]
  },
  {
   "cell_type": "markdown",
   "metadata": {},
   "source": [
    "## 线性回归"
   ]
  },
  {
   "cell_type": "code",
   "execution_count": 37,
   "metadata": {},
   "outputs": [],
   "source": [
    "class Regression(object):\n",
    "    \n",
    "    \"\"\"\n",
    "        基础线性回归模型，使用输入的X和y进行参数回归\n",
    "        超参：\n",
    "        n_iterations:int 训练的步数\n",
    "        learning_rate:float 学习率\n",
    "        内部函数:\n",
    "        initialize_weights:初始化参数\n",
    "        fit:开始训练\n",
    "        predict:预测\n",
    "        内部的数据:\n",
    "        n_iterations\n",
    "        learning_rate\n",
    "        regularization:正则化参数\n",
    "        regularization.grad:正则化的梯度函数\n",
    "    \"\"\"\n",
    "    \n",
    "    def __init__(self,n_iterations,learning_rate):\n",
    "        self.n_iterations=n_iterations\n",
    "        self.learning_rate=learning_rate\n",
    "        self.regularization=lambda x:0\n",
    "        self.regularization.grad=lambda x:0\n",
    "    \n",
    "    def initialize_weights(self,n_features):\n",
    "        \"\"\"初始化系数，输入是feature的个数，输出是一个随机初始化好的参数矩阵,[-1/sqrt(N),1/sqrt(N)]\"\"\"\n",
    "        limit=1/math.sqrt(n_features)\n",
    "        self.w=np.random.uniform(-limit,limit,(n_features,))\n",
    "        #Uniform Distribution/Xavier/MSRA/Gaussian\n",
    "        \n",
    "    def fit(self,X,y):\n",
    "        #插入偏置列1到X中\n",
    "        X=np.insert(X,0,1,axis=1)#给每一行的第0列增加一个1\n",
    "        self.training_errors=[]#保存每一次步长的训练Loss\n",
    "        self.initialize_weights(n_features=X.shape[1])#初始化参数w\n",
    "        \n",
    "        #进行梯度下降迭代\n",
    "        for i in range(self.n_iterations):\n",
    "            y_pred=X.dot(self.w)#进行预测\n",
    "            #计算Loss\n",
    "            mse=np.mean(0.5*(y-y_pred)**2+self.regularization(self.w))\n",
    "            self.training_errors.append(mse)#将Loss加入到training_errors的数组中\n",
    "            #计算带有正则化项的梯度\n",
    "            g_w=-(y-y_pred).T.dot(X)/len(X)+self.regularization.grad(self.w)\n",
    "            #根据梯度下降的算法更新参数\n",
    "            self.w-=self.learning_rate*g_w\n",
    "            \n",
    "    def predict(self,X):\n",
    "        #通过输入X预测一个样本\n",
    "        X=np.insert(X,0,1,axis=1)\n",
    "        pred=X.dot(self.w)\n",
    "        return pred\n",
    "    "
   ]
  },
  {
   "cell_type": "code",
   "execution_count": 38,
   "metadata": {},
   "outputs": [],
   "source": [
    "model=Regression(n_iterations=1000,learning_rate=0.01)"
   ]
  },
  {
   "cell_type": "code",
   "execution_count": 39,
   "metadata": {},
   "outputs": [],
   "source": [
    "model.fit(X_train,y_train)"
   ]
  },
  {
   "cell_type": "code",
   "execution_count": 41,
   "metadata": {},
   "outputs": [
    {
     "data": {
      "text/plain": [
       "Text(0.5, 0, 'Steps')"
      ]
     },
     "execution_count": 41,
     "metadata": {},
     "output_type": "execute_result"
    },
    {
     "data": {
      "image/png": "[encoded data removed]",
      "text/plain": [
       "<Figure size 432x288 with 1 Axes>"
      ]
     },
     "metadata": {
      "needs_background": "light"
     },
     "output_type": "display_data"
    }
   ],
   "source": [
    "training,=plt.plot(range(len(model.training_errors)),model.training_errors,label=\"Training Error\")\n",
    "plt.title(\"Linear Regression Training Error\")\n",
    "plt.ylabel(\"Train-Loss\")\n",
    "plt.xlabel(\"Steps\")"
   ]
  },
  {
   "cell_type": "code",
   "execution_count": 42,
   "metadata": {},
   "outputs": [
    {
     "data": {
      "text/plain": [
       "array([ 1.76820979, 28.95236682])"
      ]
     },
     "execution_count": 42,
     "metadata": {},
     "output_type": "execute_result"
    }
   ],
   "source": [
    "model.w"
   ]
  },
  {
   "cell_type": "markdown",
   "metadata": {},
   "source": [
    "### 评价模型"
   ]
  },
  {
   "cell_type": "code",
   "execution_count": 43,
   "metadata": {},
   "outputs": [],
   "source": [
    "y_pred=model.predict(X_test)"
   ]
  },
  {
   "cell_type": "code",
   "execution_count": 44,
   "metadata": {},
   "outputs": [],
   "source": [
    "mse=mean_squared_error(y_pred,y_test)"
   ]
  },
  {
   "cell_type": "code",
   "execution_count": 45,
   "metadata": {},
   "outputs": [
    {
     "data": {
      "text/plain": [
       "269.1331957102554"
      ]
     },
     "execution_count": 45,
     "metadata": {},
     "output_type": "execute_result"
    }
   ],
   "source": [
    "mse"
   ]
  },
  {
   "cell_type": "code",
   "execution_count": 47,
   "metadata": {},
   "outputs": [
    {
     "data": {
      "text/plain": [
       "[<matplotlib.lines.Line2D at 0x1a156d6cc0>]"
      ]
     },
     "execution_count": 47,
     "metadata": {},
     "output_type": "execute_result"
    },
    {
     "data": {
      "image/png": "[encoded data removed]",
      "text/plain": [
       "<Figure size 432x288 with 1 Axes>"
      ]
     },
     "metadata": {
      "needs_background": "light"
     },
     "output_type": "display_data"
    }
   ],
   "source": [
    "plt.plot(X_test,y_test,'k.')\n",
    "plt.plot(X_test,y_pred,'Y')"
   ]
  },
  {
   "cell_type": "markdown",
   "metadata": {},
   "source": [
    "### 带有最小二乘法的线性回归"
   ]
  },
  {
   "cell_type": "code",
   "execution_count": 53,
   "metadata": {},
   "outputs": [],
   "source": [
    "def lsm_function(X,y):\n",
    "    G=np.mat(np.insert(X,0,1,axis=1))\n",
    "    return np.squeeze(np.asarray((G.T.dot(G)).I.dot(G.T).dot(y)))"
   ]
  },
  {
   "cell_type": "code",
   "execution_count": 54,
   "metadata": {},
   "outputs": [
    {
     "data": {
      "text/plain": [
       "array([ 1.76645796, 28.96240671])"
      ]
     },
     "execution_count": 54,
     "metadata": {},
     "output_type": "execute_result"
    }
   ],
   "source": [
    "lsm_function(X_train,y_train)"
   ]
  },
  {
   "cell_type": "code",
   "execution_count": 55,
   "metadata": {},
   "outputs": [],
   "source": [
    "class LinearRegression(Regression):\n",
    "    \"\"\"带有最小二乘法的线性回归\n",
    "    参数:\n",
    "    -------------\n",
    "    n_iterations\n",
    "    \n",
    "    learning_rate\n",
    "    \n",
    "    gradient_descent:bool \n",
    "        决定是否使用梯度下降法，如果是True则使用梯度下降，False使用最小二乘\n",
    "    \"\"\"\n",
    "    def __init__(self,n_iterations=500,learning_rate=0.1,gradient_descent=True):\n",
    "        self.gradient_descent=gradient_descent\n",
    "        self.regularization=lambda x:0\n",
    "        self.regularization.grad=lambda x:0\n",
    "        super(LinearRegression,self).__init__(n_iterations=n_iterations,learning_rate=learning_rate)\n",
    "    \n",
    "    def fit(self,X,y):\n",
    "        if not self.gradient_descent:\n",
    "            self.w=lsm_function(X,y)\n",
    "        else:\n",
    "            super(LinearRegression,self).fit(X,y)\n",
    "    \n",
    "    def predict(self,X):\n",
    "        return super(LinearRegression,self).predict(X)\n",
    "        "
   ]
  },
  {
   "cell_type": "code",
   "execution_count": 56,
   "metadata": {},
   "outputs": [],
   "source": [
    "model=LinearRegression(n_iterations=1000,learning_rate=0.1,gradient_descent=False)"
   ]
  },
  {
   "cell_type": "code",
   "execution_count": 57,
   "metadata": {},
   "outputs": [],
   "source": [
    "model.fit(X_train,y_train)"
   ]
  },
  {
   "cell_type": "code",
   "execution_count": 58,
   "metadata": {},
   "outputs": [
    {
     "data": {
      "text/plain": [
       "array([ 1.76645796, 28.96240671])"
      ]
     },
     "execution_count": 58,
     "metadata": {},
     "output_type": "execute_result"
    }
   ],
   "source": [
    "model.w"
   ]
  },
  {
   "cell_type": "code",
   "execution_count": 59,
   "metadata": {},
   "outputs": [],
   "source": [
    "def test_and_draw(model):\n",
    "    y_pred=model.predict(X_test)\n",
    "    mse=mean_squared_error(y_test,y_pred)\n",
    "    print(\"方差:\",mse)\n",
    "    plt.plot(X_test,y_test,'k.')\n",
    "    plt.plot(X_test,y_pred,'Y')"
   ]
  },
  {
   "cell_type": "code",
   "execution_count": 60,
   "metadata": {},
   "outputs": [
    {
     "name": "stdout",
     "output_type": "stream",
     "text": [
      "方差: 269.13175647924027\n"
     ]
    },
    {
     "data": {
      "image/png": "[encoded data removed]",
      "text/plain": [
       "<Figure size 432x288 with 1 Axes>"
      ]
     },
     "metadata": {
      "needs_background": "light"
     },
     "output_type": "display_data"
    }
   ],
   "source": [
    "test_and_draw(model)"
   ]
  },
  {
   "cell_type": "markdown",
   "metadata": {},
   "source": [
    "## 正则化回归\n",
    "\n",
    "### L1正则化参数"
   ]
  },
  {
   "cell_type": "code",
   "execution_count": 71,
   "metadata": {},
   "outputs": [],
   "source": [
    "class l1_regularization():\n",
    "    \"\"\"L1正则化类/函数\n",
    "    参数:\n",
    "    \n",
    "    alpha--L1正则化系数\n",
    "    \"\"\"\n",
    "    def __init__(self,alpha):\n",
    "        self.alpha=alpha\n",
    "    def __call__(self,w):\n",
    "        return self.alpha*np.linalg.norm(w,ord=1)\n",
    "    def grad(self,w):\n",
    "        #w>0->w`=1;w<0->w`=0;w==0->w`=0\n",
    "        return self.alpha*np.sign(w)"
   ]
  },
  {
   "cell_type": "code",
   "execution_count": 72,
   "metadata": {},
   "outputs": [],
   "source": [
    "l1=l1_regularization(alpha=0.01)"
   ]
  },
  {
   "cell_type": "code",
   "execution_count": 73,
   "metadata": {},
   "outputs": [
    {
     "data": {
      "text/plain": [
       "0.07"
      ]
     },
     "execution_count": 73,
     "metadata": {},
     "output_type": "execute_result"
    }
   ],
   "source": [
    "l1([-3,4])"
   ]
  },
  {
   "cell_type": "code",
   "execution_count": 75,
   "metadata": {},
   "outputs": [
    {
     "data": {
      "text/plain": [
       "array([-0.01,  0.01,  0.  ])"
      ]
     },
     "execution_count": 75,
     "metadata": {},
     "output_type": "execute_result"
    }
   ],
   "source": [
    "l1.grad([-3,4,0])"
   ]
  },
  {
   "cell_type": "markdown",
   "metadata": {},
   "source": [
    "### L2正则化参数"
   ]
  },
  {
   "cell_type": "code",
   "execution_count": 76,
   "metadata": {},
   "outputs": [],
   "source": [
    "class l2_regularization():\n",
    "    \"\"\"L2正则化参数\n",
    "    参数：\n",
    "    \n",
    "    alpha 正则化系数\n",
    "    \"\"\"\n",
    "    def __init__(self,alpha):\n",
    "        self.alpha=alpha\n",
    "    \n",
    "    def __call__(self,w):\n",
    "        return self.alpha*0.5*w.T.dot(w)\n",
    "    \n",
    "    def grad(self,w):\n",
    "        return self.alpha*w"
   ]
  },
  {
   "cell_type": "markdown",
   "metadata": {},
   "source": [
    "### Lasso线性回归"
   ]
  },
  {
   "cell_type": "code",
   "execution_count": 83,
   "metadata": {},
   "outputs": [],
   "source": [
    "class LassoLinearRegression(Regression):\n",
    "    def __init__(self,alpha,n_iterations=1000,learning_rate=0.01):\n",
    "        self.regularization=l1_regularization(alpha=alpha)\n",
    "        super(LassoLinearRegression,self).__init__(n_iterations,learning_rate)\n",
    "        \n",
    "    def fit(self,X,y):\n",
    "        super(LassoLinearRegression,self).fit(X,y)\n",
    "    def predict(self,X):\n",
    "        return super(LassoLinearRegression,self).predict(X)"
   ]
  },
  {
   "cell_type": "code",
   "execution_count": 91,
   "metadata": {},
   "outputs": [],
   "source": [
    "model=LassoLinearRegression(alpha=120,n_iterations=1000,learning_rate=0.1)"
   ]
  },
  {
   "cell_type": "code",
   "execution_count": 92,
   "metadata": {},
   "outputs": [],
   "source": [
    "model.fit(X_train,y_train)"
   ]
  },
  {
   "cell_type": "code",
   "execution_count": 93,
   "metadata": {},
   "outputs": [
    {
     "data": {
      "text/plain": [
       "array([ 1.76645796, 28.96240671])"
      ]
     },
     "execution_count": 93,
     "metadata": {},
     "output_type": "execute_result"
    }
   ],
   "source": [
    "model.w"
   ]
  },
  {
   "cell_type": "code",
   "execution_count": 87,
   "metadata": {},
   "outputs": [
    {
     "name": "stdout",
     "output_type": "stream",
     "text": [
      "方差: 269.1317564792403\n"
     ]
    },
    {
     "data": {
      "image/png": "[encoded data removed]",
      "text/plain": [
       "<Figure size 432x288 with 1 Axes>"
      ]
     },
     "metadata": {
      "needs_background": "light"
     },
     "output_type": "display_data"
    }
   ],
   "source": [
    "test_and_draw(model)"
   ]
  },
  {
   "cell_type": "markdown",
   "metadata": {},
   "source": [
    "### Ridge线性回归"
   ]
  },
  {
   "cell_type": "code",
   "execution_count": 103,
   "metadata": {},
   "outputs": [],
   "source": [
    "class RidgeLinearRegression(Regression):\n",
    "    def __init__(self,alpha,n_iterations=1000,learning_rate=0.01):\n",
    "        self.regularization=l2_regularization(alpha=alpha)\n",
    "        super(RidgeLinearRegression,self).__init__(n_iterations,learning_rate)\n",
    "        \n",
    "    def fit(self,X,y):\n",
    "        super(RidgeLinearRegression,self).fit(X,y)\n",
    "    def predict(self,X):\n",
    "        return super(RidgeLinearRegression,self).predict(X)"
   ]
  },
  {
   "cell_type": "code",
   "execution_count": 104,
   "metadata": {},
   "outputs": [],
   "source": [
    "model=RidgeLinearRegression(alpha=120,n_iterations=1000,learning_rate=0.1)"
   ]
  },
  {
   "cell_type": "code",
   "execution_count": 105,
   "metadata": {},
   "outputs": [],
   "source": [
    "model.fit(X_train,y_train)"
   ]
  },
  {
   "cell_type": "code",
   "execution_count": 106,
   "metadata": {},
   "outputs": [
    {
     "data": {
      "text/plain": [
       "array([ 1.76645796, 28.96240671])"
      ]
     },
     "execution_count": 106,
     "metadata": {},
     "output_type": "execute_result"
    }
   ],
   "source": [
    "model.w"
   ]
  },
  {
   "cell_type": "code",
   "execution_count": 107,
   "metadata": {},
   "outputs": [
    {
     "name": "stdout",
     "output_type": "stream",
     "text": [
      "方差: 269.1317564792403\n"
     ]
    },
    {
     "data": {
      "image/png": "[encoded data removed]",
      "text/plain": [
       "<Figure size 432x288 with 1 Axes>"
      ]
     },
     "metadata": {
      "needs_background": "light"
     },
     "output_type": "display_data"
    }
   ],
   "source": [
    "test_and_draw(model)"
   ]
  },
  {
   "cell_type": "markdown",
   "metadata": {},
   "source": [
    "### L1，L2调和的正则化\n",
    "\n",
    "在调和的正则化中，\n",
    "\n",
    "l1_ratio:调和时，L1正则化的值所占的百分比[0,1]\n",
    "\n",
    "_l2_ratio=1-l1_ratio(事实上在算法中也找不到l2_ratio)\n",
    "\n",
    "alpha:全局的整体的正则化权重\n",
    "\n",
    "#### $Loss = mse + \\alpha(l1\\_ratio * L1Loss + (1-l1\\_ratio) * L2Loss)$"
   ]
  },
  {
   "cell_type": "code",
   "execution_count": 108,
   "metadata": {},
   "outputs": [],
   "source": [
    "class l1_l2_regularization():\n",
    "    \"\"\"使用在ElasticNet中的正则化\"\"\"\n",
    "    \n",
    "    def __init__(self,alpha,l1_ratio=0.5):\n",
    "        self.alpha=alpha\n",
    "        self.l1_ratio=l1_ratio\n",
    "    \n",
    "    def __call__(self,w):\n",
    "        l1_loss=self.l1_ratio*np.linalg.norm(w,ord=1)\n",
    "        l2_loss=(1-self.l1_ratio)*0.5*w.T.dot(w)#np.linalg.norm(w,ord=2)**2\n",
    "        return self.alpha*(l1_loss+l2_loss)\n",
    "    def grad(self,w):\n",
    "        l1_grad=self.l1_ratio*np.sign(w)\n",
    "        l2_grad=(1-self.l1_ratio)*w\n",
    "        return self.alpha*(l1_grad+l2_grad)\n",
    "        "
   ]
  },
  {
   "cell_type": "code",
   "execution_count": 109,
   "metadata": {},
   "outputs": [],
   "source": [
    "l1_l2=l1_l2_regularization(alpha=0.1)"
   ]
  },
  {
   "cell_type": "code",
   "execution_count": 110,
   "metadata": {},
   "outputs": [
    {
     "data": {
      "text/plain": [
       "0.9750000000000001"
      ]
     },
     "execution_count": 110,
     "metadata": {},
     "output_type": "execute_result"
    }
   ],
   "source": [
    "l1_l2(np.array([3,4]))"
   ]
  },
  {
   "cell_type": "code",
   "execution_count": 111,
   "metadata": {},
   "outputs": [
    {
     "data": {
      "text/plain": [
       "array([0.2 , 0.25])"
      ]
     },
     "execution_count": 111,
     "metadata": {},
     "output_type": "execute_result"
    }
   ],
   "source": [
    "l1_l2.grad(np.array([3,4]))"
   ]
  },
  {
   "cell_type": "code",
   "execution_count": 113,
   "metadata": {},
   "outputs": [
    {
     "data": {
      "text/plain": [
       "array([0.5, 0.5])"
      ]
     },
     "execution_count": 113,
     "metadata": {},
     "output_type": "execute_result"
    }
   ],
   "source": [
    "0.5*np.sign(np.array([3,4]))"
   ]
  },
  {
   "cell_type": "code",
   "execution_count": 114,
   "metadata": {},
   "outputs": [
    {
     "data": {
      "text/plain": [
       "array([1.5, 2. ])"
      ]
     },
     "execution_count": 114,
     "metadata": {},
     "output_type": "execute_result"
    }
   ],
   "source": [
    "0.5*np.array([3,4])"
   ]
  },
  {
   "cell_type": "markdown",
   "metadata": {},
   "source": [
    "### ElasticNetLinearRegression"
   ]
  },
  {
   "cell_type": "code",
   "execution_count": 117,
   "metadata": {},
   "outputs": [],
   "source": [
    "class ElasticNetLinearRegression(Regression):\n",
    "    \"\"\"\n",
    "    ElasticNet线性回归算法\n",
    "    ----------------------\n",
    "    alpha:全局正则化参数\n",
    "    l1_ratio:L1正则化参数比例\n",
    "    n_iterations\n",
    "    learning_rate\n",
    "    \"\"\"\n",
    "    def __init__(self,alpha=0.05,l1_ratio=0.5,n_iterations=3000,learning_rate=0.01):\n",
    "        self.regularization=l1_l2_regularization(alpha=alpha,l1_ratio=l1_ratio)\n",
    "        super(ElasticNetLinearRegression,self).__init__(n_iterations,learning_rate)\n",
    "    def fit(self,X,y):\n",
    "        super(ElasticNetLinearRegression,self).fit(X,y)\n",
    "    def predict(self,X):\n",
    "        return super(ElasticNetLinearRegression,self).predict(X)"
   ]
  },
  {
   "cell_type": "code",
   "execution_count": 118,
   "metadata": {},
   "outputs": [],
   "source": [
    "model=ElasticNetLinearRegression(l1_ratio=0.5,alpha=1.2)"
   ]
  },
  {
   "cell_type": "code",
   "execution_count": 119,
   "metadata": {},
   "outputs": [],
   "source": [
    "model.fit(X_train,y_train)"
   ]
  },
  {
   "cell_type": "code",
   "execution_count": 120,
   "metadata": {},
   "outputs": [
    {
     "name": "stdout",
     "output_type": "stream",
     "text": [
      "方差: 269.13175647947133\n"
     ]
    },
    {
     "data": {
      "image/png": "[encoded data removed]",
      "text/plain": [
       "<Figure size 432x288 with 1 Axes>"
      ]
     },
     "metadata": {
      "needs_background": "light"
     },
     "output_type": "display_data"
    }
   ],
   "source": [
    "test_and_draw(model)"
   ]
  },
  {
   "cell_type": "markdown",
   "metadata": {},
   "source": [
    "## 多项式回归\n",
    "\n",
    "一阶多项式:x,y,z,x2,x3,x4....\n",
    "\n",
    "二阶多项式:x1^2,x2^2,x3^2,x1x2,x1x3,x2x3\n",
    "\n",
    "三阶多项式:x1^3,x1x1x2,x1x2x3...."
   ]
  },
  {
   "cell_type": "markdown",
   "metadata": {},
   "source": [
    "### 构造多项式特征"
   ]
  },
  {
   "cell_type": "code",
   "execution_count": 270,
   "metadata": {},
   "outputs": [],
   "source": [
    "from itertools import combinations_with_replacement\n",
    "\n",
    "def polynomial_features(X,degree):\n",
    "    n_samples,n_features=np.shape(X)\n",
    "    ##对于每一行的Feature构造排列组合，根据排列组合进行特征的乘积，形成新的X`\n",
    "    \n",
    "    def index_combinations():\n",
    "        combs=[combinations_with_replacement(range(n_features),i) for i in range(0,degree+1)]\n",
    "        new_combs=[item for sub in combs for item in sub]\n",
    "        return new_combs\n",
    "    #print(\"Feature 列的排列组合:->\",[x for x in index_combinations()])\n",
    "    comb=index_combinations()\n",
    "    feature_length=len(comb)\n",
    "    output=np.empty((n_samples,feature_length))\n",
    "    #print(output.shape)\n",
    "    for i,index_combs in enumerate(comb):\n",
    "        output[:,i]=np.prod(X[:, index_combs], axis=1)\n",
    "    return output "
   ]
  },
  {
   "cell_type": "code",
   "execution_count": 271,
   "metadata": {},
   "outputs": [
    {
     "data": {
      "text/plain": [
       "array([[  1.,   1.,   2.,   1.,   2.,   4.,   1.,   2.,   4.,   8.],\n",
       "       [  1.,   4.,   5.,  16.,  20.,  25.,  64.,  80., 100., 125.]])"
      ]
     },
     "execution_count": 271,
     "metadata": {},
     "output_type": "execute_result"
    }
   ],
   "source": [
    "polynomial_features(np.array([[1,2],[4,5]]),degree=3)"
   ]
  },
  {
   "cell_type": "code",
   "execution_count": 165,
   "metadata": {},
   "outputs": [],
   "source": [
    "### combinations_with_replacement"
   ]
  },
  {
   "cell_type": "code",
   "execution_count": 169,
   "metadata": {},
   "outputs": [
    {
     "name": "stdout",
     "output_type": "stream",
     "text": [
      "()\n"
     ]
    }
   ],
   "source": [
    "for x in combinations_with_replacement([0,1],0):print(x)"
   ]
  },
  {
   "cell_type": "code",
   "execution_count": 174,
   "metadata": {},
   "outputs": [],
   "source": [
    "class PolyRegression(Regression):\n",
    "    \"\"\"多项式回归就是将原来的feature转化成多阶的新feature，之后进行线性回归:\n",
    "    \n",
    "    ------------------------------------------\n",
    "    \n",
    "    degree:最大的阶数\n",
    "    \n",
    "    n_iterations:float\n",
    "    \n",
    "    learning_rate:float\n",
    "    \n",
    "    \"\"\"\n",
    "    def __init__(self,degree,n_iterations=3000,learning_rate=0.01):\n",
    "        \n",
    "        self.degree=degree\n",
    "        \n",
    "        self.regularization=lambda x:0\n",
    "        \n",
    "        self.regularization.grad=lambda x:0\n",
    "        \n",
    "        super(PolyRegression,self).__init__(n_iterations=n_iterations,learning_rate=learning_rate)\n",
    "        \n",
    "    def fit(self,X,y):\n",
    "        \n",
    "        X=polynomial_features(X,degree=self.degree)\n",
    "        \n",
    "        super(PolyRegression,self).fit(X,y)\n",
    "        \n",
    "    def predict(self,X):\n",
    "        \n",
    "        X=polynomial_features(X,degree=self.degree)\n",
    "        \n",
    "        return super(PolyRegression,self).predict(X)"
   ]
  },
  {
   "cell_type": "code",
   "execution_count": 183,
   "metadata": {},
   "outputs": [],
   "source": [
    "model=PolyRegression(degree=5)"
   ]
  },
  {
   "cell_type": "code",
   "execution_count": 184,
   "metadata": {},
   "outputs": [
    {
     "name": "stdout",
     "output_type": "stream",
     "text": [
      "Feature 列的排列组合:-> [(), (0,), (0, 0), (0, 0, 0), (0, 0, 0, 0), (0, 0, 0, 0, 0)]\n",
      "(80, 6)\n"
     ]
    }
   ],
   "source": [
    "model.fit(X_train,y_train)"
   ]
  },
  {
   "cell_type": "code",
   "execution_count": 185,
   "metadata": {},
   "outputs": [
    {
     "name": "stdout",
     "output_type": "stream",
     "text": [
      "Feature 列的排列组合:-> [(), (0,), (0, 0), (0, 0, 0), (0, 0, 0, 0), (0, 0, 0, 0, 0)]\n",
      "(20, 6)\n",
      "方差: 460.77098778997527\n"
     ]
    },
    {
     "data": {
      "image/png": "[encoded data removed]",
      "text/plain": [
       "<Figure size 432x288 with 1 Axes>"
      ]
     },
     "metadata": {
      "needs_background": "light"
     },
     "output_type": "display_data"
    }
   ],
   "source": [
    "test_and_draw(model)"
   ]
  },
  {
   "cell_type": "markdown",
   "metadata": {},
   "source": [
    "### 数据的Normalize变换(归一化操作)\n",
    "\n",
    "行归一化"
   ]
  },
  {
   "cell_type": "code",
   "execution_count": 194,
   "metadata": {},
   "outputs": [],
   "source": [
    "def normalize(X,axis=-1,order=2):\n",
    "    \"将数据集的每一行进行列的归一化--每一行的向量的L2范数归一\"\n",
    "    L2=np.linalg.norm(X,order,axis)\n",
    "    L2[L2==0]=1#为了滤掉为0的L2距离，在归一化的时候会出现除零问题\n",
    "    return X/np.expand_dims(L2,axis)"
   ]
  },
  {
   "cell_type": "code",
   "execution_count": 195,
   "metadata": {},
   "outputs": [
    {
     "data": {
      "text/plain": [
       "array([[0.4472136 , 0.89442719],\n",
       "       [0.6       , 0.8       ]])"
      ]
     },
     "execution_count": 195,
     "metadata": {},
     "output_type": "execute_result"
    }
   ],
   "source": [
    "normalize([[1,2],[3,4]],order=2,axis=-1)"
   ]
  },
  {
   "cell_type": "code",
   "execution_count": 198,
   "metadata": {},
   "outputs": [],
   "source": [
    "class LassoRegression(Regression):\n",
    "    \"\"\"带有L1范数的Lasso多项式回归\n",
    "    ---------------------------\n",
    "    degree:多项式的最高阶\n",
    "    \n",
    "    alpha:L1的系数\n",
    "    \n",
    "    n_iteration:float\n",
    "    \n",
    "    learning_rate:int\n",
    "    \n",
    "    normailzed:bool\n",
    "    \n",
    "    \"\"\"\n",
    "    \n",
    "    def __init__(self,degree,alpha,n_iterations=3000,learning_rate=0.01,normalized=True):\n",
    "        self.degree=degree\n",
    "        self.regularization=l1_regularization(alpha=alpha)\n",
    "        self.normalized=normalized\n",
    "        super(LassoRegression,self).__init__(n_iterations,learning_rate)\n",
    "        \n",
    "    def fit(self,X,y):\n",
    "        X=polynomial_features(X,degree=self.degree)\n",
    "        if self.normalized:\n",
    "            X=normalize(X)\n",
    "        super(LassoRegression,self).fit(X,y)\n",
    "    def predict(self,X):\n",
    "        X=polynomial_features(X,degree=self.degree)\n",
    "        if self.normalized:\n",
    "            X=normalize(X)\n",
    "        return super(LassoRegression,self).predict(X)"
   ]
  },
  {
   "cell_type": "code",
   "execution_count": 218,
   "metadata": {},
   "outputs": [],
   "source": [
    "model=LassoRegression(degree=5,alpha=1000,n_iterations=2000,learning_rate=0.1)"
   ]
  },
  {
   "cell_type": "code",
   "execution_count": 219,
   "metadata": {},
   "outputs": [
    {
     "name": "stdout",
     "output_type": "stream",
     "text": [
      "Feature 列的排列组合:-> [(), (0,), (0, 0), (0, 0, 0), (0, 0, 0, 0), (0, 0, 0, 0, 0)]\n",
      "(80, 6)\n"
     ]
    }
   ],
   "source": [
    "model.fit(X_train,y_train)"
   ]
  },
  {
   "cell_type": "code",
   "execution_count": 220,
   "metadata": {},
   "outputs": [
    {
     "data": {
      "text/plain": [
       "array([ -2.35512636,   8.62687535,  29.29644466, -17.86443356,\n",
       "       -24.78060442,  12.30679766,  67.06180973])"
      ]
     },
     "execution_count": 220,
     "metadata": {},
     "output_type": "execute_result"
    }
   ],
   "source": [
    "model.w"
   ]
  },
  {
   "cell_type": "code",
   "execution_count": 221,
   "metadata": {},
   "outputs": [
    {
     "name": "stdout",
     "output_type": "stream",
     "text": [
      "Feature 列的排列组合:-> [(), (0,), (0, 0), (0, 0, 0), (0, 0, 0, 0), (0, 0, 0, 0, 0)]\n",
      "(20, 6)\n",
      "方差: 280.3909676219628\n"
     ]
    },
    {
     "data": {
      "image/png": "[encoded data removed]",
      "text/plain": [
       "<Figure size 432x288 with 1 Axes>"
      ]
     },
     "metadata": {
      "needs_background": "light"
     },
     "output_type": "display_data"
    }
   ],
   "source": [
    "test_and_draw(model)"
   ]
  },
  {
   "cell_type": "markdown",
   "metadata": {},
   "source": [
    "### 带有多项式的Ridge 回归"
   ]
  },
  {
   "cell_type": "code",
   "execution_count": 235,
   "metadata": {},
   "outputs": [],
   "source": [
    "class RidgeRegression(Regression):\n",
    "    \"\"\"带有多项式和归一化的Ridge回归\n",
    "    -----------------------------\n",
    "    degree:最大阶数\n",
    "    alpha:正则化系数\n",
    "    n_iterations:步数\n",
    "    learning_rate:步长\n",
    "    normalized\n",
    "    \"\"\"\n",
    "    def __init__(self,degree,alpha,n_iterations=3000,learning_rate=0.01,normailzed=True):\n",
    "        self.degree=degree\n",
    "        self.regularization=l2_regularization(alpha=alpha)\n",
    "        self.normalized=normailzed\n",
    "        super(RidgeRegression,self).__init__(n_iterations,learning_rate)\n",
    "        \n",
    "    def fit(self,X,y):\n",
    "        X=polynomial_features(X,degree=self.degree)\n",
    "        if self.normalized:\n",
    "            X=normalize(X)\n",
    "        super(RidgeRegression,self).fit(X,y)\n",
    "    \n",
    "    def predict(self,X):\n",
    "        X=polynomial_features(X,degree=self.degree)\n",
    "        if self.normalized:\n",
    "            X=normalize(X)\n",
    "        return super(RidgeRegression,self).predict(X)\n",
    "    "
   ]
  },
  {
   "cell_type": "code",
   "execution_count": 236,
   "metadata": {},
   "outputs": [],
   "source": [
    "model=RidgeRegression(degree=3,alpha=100,n_iterations=1000,learning_rate=1)"
   ]
  },
  {
   "cell_type": "code",
   "execution_count": 237,
   "metadata": {},
   "outputs": [
    {
     "name": "stdout",
     "output_type": "stream",
     "text": [
      "Feature 列的排列组合:-> [(), (0,), (0, 0), (0, 0, 0)]\n",
      "(80, 4)\n"
     ]
    }
   ],
   "source": [
    "model.fit(X_train,y_train)"
   ]
  },
  {
   "cell_type": "code",
   "execution_count": 238,
   "metadata": {},
   "outputs": [],
   "source": [
    "#model.normalized"
   ]
  },
  {
   "cell_type": "code",
   "execution_count": 239,
   "metadata": {},
   "outputs": [],
   "source": [
    "def test_and_draw2(model):\n",
    "    y_pred=model.predict(X_test)\n",
    "    print(y_pred)\n",
    "    mse=mean_squared_error(y_test,y_pred)\n",
    "    print(\"方差:\",mse)\n",
    "    plt.plot(X_test,y_test,'k.')\n",
    "    plt.plot(X_test,y_pred,'Y')"
   ]
  },
  {
   "cell_type": "code",
   "execution_count": 240,
   "metadata": {},
   "outputs": [
    {
     "name": "stdout",
     "output_type": "stream",
     "text": [
      "Feature 列的排列组合:-> [(), (0,), (0, 0), (0, 0, 0)]\n",
      "(20, 4)\n",
      "[-52.49802522 -52.08217519 -45.40447721 -45.36676225 -44.89673496\n",
      " -43.47880232 -32.41844679 -19.37556709  -8.97843431  -7.39855678\n",
      "  -5.88678031  -5.53231985   5.30039917   6.33997925   8.79050984\n",
      "  13.83826359  26.7832637   27.79740523  42.93566464  49.82890323]\n",
      "方差: 319.0960887831242\n"
     ]
    },
    {
     "data": {
      "image/png": "[encoded data removed]",
      "text/plain": [
       "<Figure size 432x288 with 1 Axes>"
      ]
     },
     "metadata": {
      "needs_background": "light"
     },
     "output_type": "display_data"
    }
   ],
   "source": [
    "test_and_draw2(model)"
   ]
  },
  {
   "cell_type": "code",
   "execution_count": 245,
   "metadata": {},
   "outputs": [],
   "source": [
    "class ElasticNetRegression(Regression):\n",
    "    \"\"\"\n",
    "    带有L1L2调和的线性回归\n",
    "    \n",
    "    -----------------\n",
    "    degree\n",
    "    \n",
    "    alpha\n",
    "    \n",
    "    l1_ratio\n",
    "    \n",
    "    n_iterations\n",
    "    \n",
    "    learning_rate\n",
    "    \n",
    "    normalized\n",
    "    \"\"\"\n",
    "    def __init__(self,degree,alpha=0.5,l1_ratio=0.5,n_iterations=3000,learning_rate=0.01,normalized=True):\n",
    "        self.degree=degree\n",
    "        self.regularization=l1_l2_regularization(alpha=alpha,l1_ratio=l1_ratio)\n",
    "        self.normalized=normalized\n",
    "        super(ElasticNetRegression,self).__init__(n_iterations,learning_rate)\n",
    "        \n",
    "    def fit(self,X,y):\n",
    "        X=polynomial_features(X,degree=self.degree)\n",
    "        if self.normalized:\n",
    "            X=normalize(X)\n",
    "        super(ElasticNetRegression,self).fit(X,y)\n",
    "    \n",
    "    def predict(self,X):\n",
    "        X=polynomial_features(X,degree=self.degree)\n",
    "        if self.normalized:\n",
    "            X=normalize(X)\n",
    "        return super(ElasticNetRegression,self).predict(X)\n",
    "    "
   ]
  },
  {
   "cell_type": "code",
   "execution_count": 255,
   "metadata": {},
   "outputs": [],
   "source": [
    "model=ElasticNetRegression(degree=4,alpha=2000,l1_ratio=0.8,n_iterations=1000,learning_rate=0.01)"
   ]
  },
  {
   "cell_type": "code",
   "execution_count": 256,
   "metadata": {},
   "outputs": [
    {
     "name": "stdout",
     "output_type": "stream",
     "text": [
      "Feature 列的排列组合:-> [(), (0,), (0, 0), (0, 0, 0), (0, 0, 0, 0)]\n",
      "(80, 5)\n"
     ]
    }
   ],
   "source": [
    "model.fit(X_train,y_train)"
   ]
  },
  {
   "cell_type": "code",
   "execution_count": 257,
   "metadata": {},
   "outputs": [
    {
     "name": "stdout",
     "output_type": "stream",
     "text": [
      "Feature 列的排列组合:-> [(), (0,), (0, 0), (0, 0, 0), (0, 0, 0, 0)]\n",
      "(20, 5)\n",
      "方差: 649.4717468844752\n"
     ]
    },
    {
     "data": {
      "image/png": "[encoded data removed]",
      "text/plain": [
       "<Figure size 432x288 with 1 Axes>"
      ]
     },
     "metadata": {
      "needs_background": "light"
     },
     "output_type": "display_data"
    }
   ],
   "source": [
    "test_and_draw(model)"
   ]
  },
  {
   "cell_type": "markdown",
   "metadata": {},
   "source": [
    "## 读入真实的数据"
   ]
  },
  {
   "cell_type": "code",
   "execution_count": 258,
   "metadata": {},
   "outputs": [
    {
     "name": "stderr",
     "output_type": "stream",
     "text": [
      "/Users/deepglint/miniconda2/envs/python3/lib/python3.6/importlib/_bootstrap.py:219: RuntimeWarning: numpy.dtype size changed, may indicate binary incompatibility. Expected 96, got 88\n",
      "  return f(*args, **kwds)\n"
     ]
    }
   ],
   "source": [
    "import pandas as pd "
   ]
  },
  {
   "cell_type": "code",
   "execution_count": 260,
   "metadata": {},
   "outputs": [],
   "source": [
    "train=pd.read_csv('./data/train_1.csv')"
   ]
  },
  {
   "cell_type": "code",
   "execution_count": 263,
   "metadata": {},
   "outputs": [],
   "source": [
    "y=np.asarray(train['SalePrice'])"
   ]
  },
  {
   "cell_type": "code",
   "execution_count": 264,
   "metadata": {},
   "outputs": [],
   "source": [
    "train1=train.drop(['Id','SalePrice'],axis=1)"
   ]
  },
  {
   "cell_type": "code",
   "execution_count": 265,
   "metadata": {},
   "outputs": [],
   "source": [
    "X=np.asarray(pd.get_dummies(train1).reset_index(drop=True))"
   ]
  },
  {
   "cell_type": "code",
   "execution_count": 266,
   "metadata": {},
   "outputs": [
    {
     "name": "stdout",
     "output_type": "stream",
     "text": [
      "<class 'numpy.ndarray'>\n"
     ]
    }
   ],
   "source": [
    "X_train,X_test,y_train,y_test=train_test_split(X,y,test_size=0.2)"
   ]
  },
  {
   "cell_type": "code",
   "execution_count": 300,
   "metadata": {},
   "outputs": [],
   "source": [
    "model=ElasticNetRegression(degree=1,alpha=1000,l1_ratio=0.5,n_iterations=80000,learning_rate=0.001)"
   ]
  },
  {
   "cell_type": "code",
   "execution_count": 312,
   "metadata": {},
   "outputs": [],
   "source": [
    "model.fit(X_train,y_train)"
   ]
  },
  {
   "cell_type": "code",
   "execution_count": 302,
   "metadata": {},
   "outputs": [],
   "source": [
    "pred=model.predict(X_test)"
   ]
  },
  {
   "cell_type": "code",
   "execution_count": 303,
   "metadata": {},
   "outputs": [],
   "source": [
    "logrmse=np.sqrt(mean_squared_error(np.log(abs(y_test)),np.log(abs(pred))))"
   ]
  },
  {
   "cell_type": "code",
   "execution_count": 304,
   "metadata": {},
   "outputs": [
    {
     "data": {
      "text/plain": [
       "0.36038501662814537"
      ]
     },
     "execution_count": 304,
     "metadata": {},
     "output_type": "execute_result"
    }
   ],
   "source": [
    "logrmse"
   ]
  },
  {
   "cell_type": "code",
   "execution_count": 305,
   "metadata": {},
   "outputs": [
    {
     "data": {
      "image/png": "[encoded data removed]",
      "text/plain": [
       "<Figure size 432x288 with 1 Axes>"
      ]
     },
     "metadata": {
      "needs_background": "light"
     },
     "output_type": "display_data"
    }
   ],
   "source": [
    "n=len(model.training_errors)\n",
    "training=plt.plot(range(n),model.training_errors,label=\"Training Error\")\n",
    "#plt.legend(handles=[training])\n",
    "plt.title(\"Error Plot\")\n",
    "plt.ylabel('MSE')\n",
    "plt.xlabel('Iterations')\n",
    "plt.show()"
   ]
  },
  {
   "cell_type": "code",
   "execution_count": 306,
   "metadata": {},
   "outputs": [],
   "source": [
    "from sklearn.pipeline import make_pipeline\n",
    "from sklearn.preprocessing import RobustScaler"
   ]
  },
  {
   "cell_type": "code",
   "execution_count": 311,
   "metadata": {},
   "outputs": [],
   "source": [
    "def benchmark(model,testset,label):\n",
    "    pred=model.predict(testset)\n",
    "    print(pred)\n",
    "    if pred[pred<0].shape[0]>0:\n",
    "        print(\"Neg Value\")\n",
    "        return -1\n",
    "    rmse=np.sqrt(mean_squared_error(label,pred))\n",
    "    lrmse=np.sqrt(mean_squared_error(np.log(label),np.log(abs(pred))))\n",
    "    print(\"RMSE:\",rmse)\n",
    "    print(\"LRMSE:\",lrmse)\n",
    "    return lrmse"
   ]
  },
  {
   "cell_type": "code",
   "execution_count": 308,
   "metadata": {},
   "outputs": [],
   "source": [
    "def train_test():\n",
    "    model=make_pipeline(RobustScaler(),ElasticNetRegression(degree=1,alpha=1000,l1_ratio=0.5,n_iterations=80000,learning_rate=0.001))\n",
    "    model.fit(X_train,y_train)\n",
    "    lrmse=benchmark(model,X_test,y_test)\n",
    "    "
   ]
  },
  {
   "cell_type": "code",
   "execution_count": 309,
   "metadata": {},
   "outputs": [
    {
     "name": "stdout",
     "output_type": "stream",
     "text": [
      "[155697.30075533 171404.40302134 117785.99385461 120079.62323039\n",
      " 152453.87583249 118628.20056575 107347.45571122 152974.69620733\n",
      " 191220.04000648 172365.94459564 131365.51428616 144732.31842538\n",
      " 184230.83987507 109096.68479109 183184.82626866 223725.41490536\n",
      " 280363.15588922 153569.08490955 143913.44029696 127703.25076787\n",
      " 209574.37381697 187451.8850328  160094.36733431 110559.71207879\n",
      " 261596.34059617  97276.47016152 303889.75688662 118620.4102683\n",
      " 171382.92068565 110185.1654419  154584.54095715 154340.20995287\n",
      " 193984.92201809 206342.14452684 137033.76596012 157332.33534967\n",
      " 147781.48179258 143114.18391995 151287.69986877 270424.30881518\n",
      " 178937.29859366 156168.30037589 292843.96723478 157116.89554019\n",
      " 216169.13481731 231675.8721586  151254.0360897  168945.84877464\n",
      " 150861.5746712  147989.50175559 165456.76294319 171735.76045344\n",
      " 171974.21853124 119249.05183723 199595.11265914 215833.66615194\n",
      " 162350.85785938 173304.86986122 141471.66167389 202157.59275927\n",
      " 210236.39381224 171829.17716207 202551.91130859 145593.59439564\n",
      " 164249.21401783 151968.81259247  94070.34188263 305490.62434656\n",
      " 202823.19470926 177790.94522467 169223.63302648 193292.39210812\n",
      " 172003.79678853 291211.32122389 118043.34363183 236139.46645838\n",
      " 146687.51047677 144875.30856041 120903.0455524  166392.81329442\n",
      " 109793.21065807 287609.77444467 185409.81161928 231619.03842401\n",
      " 147832.36729329 252330.94866823 204982.2648127  122862.35606784\n",
      " 125765.4830374  208365.05373278 347282.809933   164487.17465779\n",
      " 106239.1198077  150844.27180182 133489.34759503 178114.58874797\n",
      "  75806.03377424 166746.83007641 233017.86058356 155246.82137325\n",
      " 136863.30540777 131069.33244671 184436.54753306 235951.90645364\n",
      " 247131.09643095 261148.4023118  226047.32609213 152941.46783219\n",
      " 236782.15979676 174568.12539074 104082.57866291 146287.77446123\n",
      " 110565.84394133 215123.2718394  198585.14967856 267192.04273605\n",
      " 199839.92292061 148125.93650421 148155.82080252 152129.42179544\n",
      " 169349.49130236 119443.17454532 172439.23168326 144722.98300739\n",
      " 114531.73574522 137573.07312218  92069.83086239 201267.43783803\n",
      "  45136.40991631 154188.33786817 140106.28918474 207599.2914854\n",
      " 172489.26945291 180646.60029261 173677.6903918   98831.87587473\n",
      " 159901.69292036 194088.9924374   71318.16815596 287736.73934977\n",
      " 166913.93179405 205600.70998687 174902.9311472  197469.89447459\n",
      " 172008.1863681  221697.8538583  140168.37089469 146176.88846348\n",
      " 242264.01777325 331448.15364766 253809.21086097 142663.22873645\n",
      "  92540.94325274 115537.45208459 174429.49878414 158510.53953297\n",
      " 146970.30827497 245994.25869647 218623.44329351 201327.97463674\n",
      " 129716.78673413 261981.17473734 156387.66465239 156502.19020917\n",
      " 339003.84494063 204416.1381568  185689.84314595 218240.12855233\n",
      " 108735.77676158 161503.93452706 219302.96224783 168320.38620604\n",
      " 172677.45272237 105793.6218652   97707.68983563 104349.30247724\n",
      " 178697.9860881  140453.64928039 136865.36801112 190117.6362106\n",
      " 110868.30181885  86294.46497307 258752.18385051 134711.90266669\n",
      "  77380.1113494  184107.7564624  156214.67546377 212209.43484083\n",
      " 174041.44931889 305131.98444224 196680.49242731 146548.78539289\n",
      " 117813.80010302 177753.36745102 181097.65755374 149507.52878149\n",
      " 189641.20381878  53221.51105602 179107.71397031  99410.66450559\n",
      " 201025.92614705 194118.46631652 226151.9008822  284326.6032012\n",
      " 280158.7639038  172426.51645721  98963.06672652 203807.26529187\n",
      " 273611.05284459 165770.94185971 296822.43708481 152204.73258957\n",
      " 137988.83632733 286853.56735677 238044.53760943 103088.23117124\n",
      " 293661.61112203 114811.96115823 157314.454642    91518.47315014\n",
      " 173593.60558367 146385.98764352 118670.70696808 269748.68968627\n",
      " 256739.243333   172899.00787863 186810.79814061 132070.26889381\n",
      " 324987.3588045  146188.68688384 249778.38052374 287104.53148581\n",
      " 147521.21248875 133415.3276529  270123.66990232 146566.70953393\n",
      " 120889.46640015 202552.00187703 112676.10238599 157448.58451971\n",
      " 110356.55984626 101866.99803621 342055.57160069 165412.88614924\n",
      " 165846.87894736 327227.3225719  238006.76735761 208635.57124548\n",
      " 165553.03422026 190162.85254424 199354.31301278 165857.10155487\n",
      " 338791.92247841 319579.88992971 221195.9962442  148346.25470494\n",
      " 145627.41681502 162969.38718597 105794.07926776 202042.3876272\n",
      " 161625.72657584 328439.27171349 126603.82743529 167532.11069802\n",
      " 130528.79007901 164101.20331452 297311.2860539  143602.64539127\n",
      " 205090.88573254 203941.08159812  86619.30392926 173235.25001278\n",
      " 101999.9795622   98483.90499759 157836.78021308 253968.62076632\n",
      " 168943.25429524 201544.54234838 107133.94266658 169979.21861672\n",
      " 260969.25271464 125017.67835294 285872.27174023 136948.58412864\n",
      " 126990.63323923 185540.51856283 187443.01561675 145486.24585581\n",
      " 227955.96583288 194356.15547098 212542.71506222 210271.99180645]\n",
      "RMSE: 44966.03354704837\n",
      "LRMSE: 0.2499616530355093\n"
     ]
    }
   ],
   "source": [
    "train_test()"
   ]
  },
  {
   "cell_type": "markdown",
   "metadata": {},
   "source": [
    "作业：\n",
    "\n",
    "大家使用我们自己的模型，回归房价数据，并得到最优解"
   ]
  },
  {
   "cell_type": "code",
   "execution_count": null,
   "metadata": {},
   "outputs": [],
   "source": []
  }
 ],
 "metadata": {
  "kernelspec": {
   "display_name": "Python 3",
   "language": "python",
   "name": "python3"
  },
  "language_info": {
   "codemirror_mode": {
    "name": "ipython",
    "version": 3
   },
   "file_extension": ".py",
   "mimetype": "text/x-python",
   "name": "python",
   "nbconvert_exporter": "python",
   "pygments_lexer": "ipython3",
   "version": "3.6.7"
  }
 },
 "nbformat": 4,
 "nbformat_minor": 2
}
