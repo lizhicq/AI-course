{
 "cells": [
  {
   "cell_type": "markdown",
   "metadata": {},
   "source": [
    "## Pre-request"
   ]
  },
  {
   "cell_type": "code",
   "execution_count": 60,
   "metadata": {},
   "outputs": [],
   "source": [
    "import numpy as np\n",
    "import pandas as pd\n",
    "import xgboost as xgb\n",
    "from sklearn.model_selection import train_test_split\n",
    "from sklearn.metrics import mean_squared_error\n",
    "from sklearn.linear_model import LinearRegression\n",
    "from sklearn.metrics import mean_squared_error\n",
    "import matplotlib.pyplot as plt\n",
    "import seaborn as sns\n",
    "import warnings\n",
    "warnings.filterwarnings('ignore')\n",
    "%matplotlib inline\n",
    "train = pd.read_csv('./data/data.csv')"
   ]
  },
  {
   "cell_type": "markdown",
   "metadata": {},
   "source": [
    "## 简单空值填充"
   ]
  },
  {
   "cell_type": "code",
   "execution_count": 8,
   "metadata": {},
   "outputs": [
    {
     "name": "stdout",
     "output_type": "stream",
     "text": [
      "train set is filled with mean/none, sum NA= 0\n",
      "set is splited into train, test: (1168, 303) (292, 303)\n",
      "rmse: 24397.005804359607 logrmse: 0.11291591685262999\n"
     ]
    }
   ],
   "source": [
    "# clean data\n",
    "train = pd.read_csv('./data/data.csv') # 训练集的读取\n",
    "train1 = train\n",
    "train1=train1.fillna(train1.mean())\n",
    "train1=train1.fillna('None') \n",
    "print('train set is filled with mean/none, sum NA=', sum(train1.isnull().sum()))\n",
    "\n",
    "# build train set\n",
    "y = train1['SalePrice']\n",
    "train1 = train1.drop(['Id', 'SalePrice'], axis=1)\n",
    "X=pd.get_dummies(train1) # Convert categorical variable into dummy/indicator variables\n",
    "\n",
    "# train the model \n",
    "X_train, X_test, y_train, y_test = train_test_split(X,y,test_size=0.2,random_state=123)\n",
    "print('set is splited into train, test:', X_train.shape, X_test.shape)\n",
    "xg_reg = xgb.XGBRegressor(objective='reg:linear',\n",
    "                          colsample_bytree=0.6,\n",
    "                          learning_rate=0.01,\n",
    "                          max_depth=8,\n",
    "                          alpha=10,\n",
    "                          n_estimators=700,\n",
    "                          subsample=0.7,\n",
    "                          random_state=123)\n",
    "xg_reg.fit(X_train,y_train)\n",
    "\n",
    "# model valuation \n",
    "pred = xg_reg.predict(X_test)\n",
    "rmse = np.sqrt(mean_squared_error(y_test,pred))\n",
    "logrmse = np.sqrt(mean_squared_error(np.log(y_test),np.log(pred)))\n",
    "print('rmse:', rmse, 'logrmse:', logrmse)"
   ]
  },
  {
   "cell_type": "markdown",
   "metadata": {},
   "source": [
    "## XGB交叉验证\n",
    "\n",
    "1.数据有限->发挥数据本来的效率\n",
    "\n",
    "2.数据的训练集和评测集的矛盾\n",
    "\n",
    "    如果用更多的数据去训练，那么就会有更少的数据来评测->失去了对于真实泛化能力的考量\n",
    "    \n",
    "    如果用更少的数据来训练，很大可能造成欠拟合，在评测集上表现就一定不好\n",
    "    \n",
    "解决方法：\n",
    "\n",
    "1.将数据集拆成K份->(首先进行shuffle)\n",
    "\n",
    "2.规定k-1份进行训练，剩下的1份进行评测，总共训练k次，轮流每个子数据集作为评测集\n",
    "\n",
    "    数据集被分成K份，1......K\n",
    "    \n",
    "    第一次训练使用第1份数据集作为评测集，剩余的k-1份作为训练集\n",
    "    \n",
    "    第i次训练使用第i份数据集作为评测集，剩余的k-1份作为训练集\n",
    "    \n",
    "    做k次训练\n",
    "    \n",
    "3.k次训练之后，评测的分值=k次评测结果的平均\n",
    "\n",
    "4.不同的模型会提供不同的子模型的合并方法，会将所有的k个子模型进行合并\n",
    "\n"
   ]
  },
  {
   "cell_type": "code",
   "execution_count": 23,
   "metadata": {},
   "outputs": [
    {
     "name": "stdout",
     "output_type": "stream",
     "text": [
      "[17:59:06] C:\\Users\\Administrator\\Desktop\\xgboost\\src\\tree\\updater_prune.cc:74: tree pruning end, 1 roots, 34 extra nodes, 0 pruned nodes, max_depth=5\n",
      "[17:59:06] C:\\Users\\Administrator\\Desktop\\xgboost\\src\\tree\\updater_prune.cc:74: tree pruning end, 1 roots, 32 extra nodes, 0 pruned nodes, max_depth=5\n",
      "[17:59:06] C:\\Users\\Administrator\\Desktop\\xgboost\\src\\tree\\updater_prune.cc:74: tree pruning end, 1 roots, 30 extra nodes, 0 pruned nodes, max_depth=5\n",
      "[17:59:06] C:\\Users\\Administrator\\Desktop\\xgboost\\src\\tree\\updater_prune.cc:74: tree pruning end, 1 roots, 34 extra nodes, 0 pruned nodes, max_depth=5\n",
      "[17:59:06] C:\\Users\\Administrator\\Desktop\\xgboost\\src\\tree\\updater_prune.cc:74: tree pruning end, 1 roots, 38 extra nodes, 0 pruned nodes, max_depth=5\n"
     ]
    }
   ],
   "source": [
    "params = {\"objective\":\"reg:linear\",\n",
    "          'colsample_bytree': 0.7,\n",
    "          'learning_rate': 0.1,\n",
    "          'max_depth': 5, \n",
    "          'alpha': 10}\n",
    "\n",
    "train = pd.read_csv('./data/data.csv') # 训练集的读取\n",
    "train1 = train\n",
    "\n",
    "y = train1['SalePrice']\n",
    "X=pd.get_dummies(train1.drop(['Id', 'SalePrice'], axis=1)) # Convert categorical variable into dummy/indicator variables\n",
    "matrix=xgb.DMatrix(data=X,label=y)\n",
    "\n",
    "cv_results = xgb.cv(dtrain=matrix, params=params,\n",
    "                    nfold = 5,  \n",
    "                    num_boost_round=1, \n",
    "                    metrics = 'rmse',\n",
    "                    as_pandas=True)"
   ]
  },
  {
   "cell_type": "code",
   "execution_count": 36,
   "metadata": {},
   "outputs": [],
   "source": [
    "def getnullcount():\n",
    "    x=train.isnull().sum()\n",
    "    print(x[x>0])\n",
    "    x[x>0].sort_values().plot.bar()"
   ]
  },
  {
   "cell_type": "markdown",
   "metadata": {},
   "source": [
    "## EDA 与空值填充"
   ]
  },
  {
   "cell_type": "code",
   "execution_count": 100,
   "metadata": {},
   "outputs": [],
   "source": [
    "train = pd.read_csv('./data/data.csv') # 训练集的读取\n",
    "train1 = train\n",
    "\n",
    "train['SqrtLotArea']=np.sqrt(train['LotArea'])\n",
    "filter=train['LotFrontage'].isnull()\n",
    "train.LotFrontage[filter]=0.6*train.SqrtLotArea[filter]\n",
    "\n",
    "filter=train['MasVnrArea'].isnull()\n",
    "train.MasVnrArea[filter]=0.0\n",
    "\n",
    "filter=train['MasVnrType'].isnull()\n",
    "train.MasVnrType[filter]='None'\n",
    "\n",
    "filter=train['Electrical'].isnull()\n",
    "train['Electrical'][filter]='SBrkr'\n",
    "\n",
    "train['Alley']=train['Alley'].fillna('None')\n",
    "\n",
    "basement_cols=['BsmtQual','BsmtCond','BsmtExposure','BsmtFinType1','BsmtFinType2','BsmtFinSF1','BsmtFinSF2']\n",
    "train[train.BsmtCond=='NA']\n",
    "for col in basement_cols:\n",
    "    if 'FinSF' not in col:\n",
    "        train[col]=train[col].fillna('None')\n",
    "#getnullcount()\n",
    "\n",
    "train['FireplaceQu']=train['FireplaceQu'].fillna('None')\n",
    "garage_cols=['GarageType','GarageQual','GarageCond','GarageYrBlt','GarageFinish','GarageCars','GarageArea']        \n",
    "        \n",
    "for col in garage_cols:\n",
    "    if train[col].dtype==np.object:\n",
    "        train[col]=train[col].fillna('None')\n",
    "    else:\n",
    "        train[col]=train[col].fillna(0)        \n",
    "\n",
    "\n",
    "        \n",
    "train.PoolQC=train.PoolQC.fillna('None')\n",
    "train['Fence']=train['Fence'].fillna('None')\n",
    "train['MiscFeature']=train['MiscFeature'].fillna('None')\n",
    "\n",
    "train.to_csv('./data/train_1.csv')"
   ]
  },
  {
   "cell_type": "markdown",
   "metadata": {},
   "source": [
    "## 数据集的准备"
   ]
  },
  {
   "cell_type": "code",
   "execution_count": 115,
   "metadata": {},
   "outputs": [
    {
     "name": "stdout",
     "output_type": "stream",
     "text": [
      "0.12618361140972376\n",
      "24966.33741019887\n",
      "0.12618361140972376\n",
      "0.12618361140972376\n"
     ]
    }
   ],
   "source": [
    "train = pd.read_csv('./data/train_1.csv')\n",
    "train1 = train.drop(['Id','SalePrice'], axis=1)\n",
    "\n",
    "X = pd.get_dummies(train1).reset_index(drop=True)\n",
    "#X = X.drop('Unnamed: 0', axis=1)\n",
    "X_train, X_test, y_train, y_test = train_test_split(X,y,test_size=0.2,random_state=123)\n",
    "\n",
    "\n",
    "\n",
    "lm = LinearRegression()\n",
    "p = lm.fit(X_train, y_train)\n",
    "pred = p.predict(X_test)\n",
    "print(np.sqrt(mean_squared_error(np.log(y_test), np.log(pred))))\n",
    "print(np.sqrt(mean_squared_error(y_test,pred)))\n",
    "\n",
    "def benchmark(model):\n",
    "    pred=model.predict(X_test)\n",
    "    logrmse=np.sqrt(mean_squared_error(np.log(y_test),np.log(pred)))\n",
    "    return logrmse\n",
    "\n",
    "print(benchmark(p))\n",
    "print(benchmark(lm))"
   ]
  },
  {
   "cell_type": "markdown",
   "metadata": {},
   "source": [
    "## 数据预处理"
   ]
  },
  {
   "cell_type": "code",
   "execution_count": 117,
   "metadata": {},
   "outputs": [
    {
     "data": {
      "text/plain": [
       "0.12618361141005513"
      ]
     },
     "execution_count": 117,
     "metadata": {},
     "output_type": "execute_result"
    }
   ],
   "source": [
    "from sklearn.pipeline import make_pipeline\n",
    "from sklearn.preprocessing import RobustScaler\n",
    "\n",
    "lm_model=make_pipeline(RobustScaler(),LinearRegression())\n",
    "lm_model.fit(X_train, y_train)\n",
    "benchmark(lm_model)"
   ]
  },
  {
   "cell_type": "markdown",
   "metadata": {},
   "source": [
    "## 朴素的Ridge回归"
   ]
  },
  {
   "cell_type": "code",
   "execution_count": 124,
   "metadata": {},
   "outputs": [
    {
     "data": {
      "text/plain": [
       "0.12655652003733184"
      ]
     },
     "execution_count": 124,
     "metadata": {},
     "output_type": "execute_result"
    }
   ],
   "source": [
    "from sklearn.linear_model import Ridge\n",
    "ridge_model=Ridge(alpha=0.1)\n",
    "ridge_model.fit(X_train,y_train)\n",
    "benchmark(ridge_model)"
   ]
  },
  {
   "cell_type": "markdown",
   "metadata": {},
   "source": [
    "## 带有RobustScaler的回归"
   ]
  },
  {
   "cell_type": "code",
   "execution_count": 125,
   "metadata": {},
   "outputs": [
    {
     "data": {
      "text/plain": [
       "0.12655937132758469"
      ]
     },
     "execution_count": 125,
     "metadata": {},
     "output_type": "execute_result"
    }
   ],
   "source": [
    "ridge_model_pipe=make_pipeline(RobustScaler(),Ridge(alpha=0.1))\n",
    "ridge_model_pipe.fit(X_train,y_train)\n",
    "benchmark(ridge_model_pipe)"
   ]
  },
  {
   "cell_type": "code",
   "execution_count": 130,
   "metadata": {},
   "outputs": [],
   "source": [
    "def benchmark1(model,testset,label):\n",
    "    pred=model.predict(testset)\n",
    "    if pred[pred<0].shape[0]>0:\n",
    "        print('Neg Value')\n",
    "    rmse=np.sqrt(mean_squared_error(label,pred))\n",
    "    lrmse=np.sqrt(mean_squared_error(np.log(label),np.log(pred)))\n",
    "\n",
    "    print('RMSE:',rmse)\n",
    "    print('LRMSE:',lrmse)\n",
    "    return lrmse"
   ]
  },
  {
   "cell_type": "markdown",
   "metadata": {},
   "source": [
    "## 带有CV的回归"
   ]
  },
  {
   "cell_type": "code",
   "execution_count": 131,
   "metadata": {},
   "outputs": [
    {
     "name": "stdout",
     "output_type": "stream",
     "text": [
      "RMSE: 26917.457956049773\n",
      "LRMSE: 0.12438552197375949\n"
     ]
    },
    {
     "data": {
      "text/plain": [
       "0.12438552197375949"
      ]
     },
     "execution_count": 131,
     "metadata": {},
     "output_type": "execute_result"
    }
   ],
   "source": [
    "from sklearn.model_selection import KFold\n",
    "from sklearn.linear_model import RidgeCV\n",
    "\n",
    "kfolds=KFold(n_splits=10,shuffle=True,random_state=123)\n",
    "\n",
    "r_alphas=[0.01,0.1,1,3,5,7,10,100]\n",
    "\n",
    "ridge_model_cv=make_pipeline(RobustScaler(),RidgeCV(alphas=r_alphas,cv=kfolds))\n",
    "\n",
    "ridge_model_cv.fit(X_train,y_train)\n",
    "\n",
    "benchmark1(ridge_model_cv,X_test,y_test)\n",
    "benchmark(ridge_model_cv)"
   ]
  },
  {
   "cell_type": "code",
   "execution_count": 134,
   "metadata": {},
   "outputs": [
    {
     "name": "stdout",
     "output_type": "stream",
     "text": [
      "RMSE: 24966.403023810835\n",
      "LRMSE: 0.12618468133670982\n",
      "RMSE: 24966.53404954252\n",
      "LRMSE: 0.1261867913113952\n",
      "RMSE: 24966.664817098845\n",
      "LRMSE: 0.12618886217756062\n",
      "RMSE: 24966.795339861255\n",
      "LRMSE: 0.12619089480008305\n",
      "RMSE: 24966.925630911246\n",
      "LRMSE: 0.12619289002273504\n",
      "RMSE: 24972.8159840826\n",
      "LRMSE: 0.12625505551667465\n",
      "RMSE: 25007.89344047134\n",
      "LRMSE: 0.12636426623739028\n",
      "RMSE: 25070.76049543444\n",
      "LRMSE: 0.12655937132758469\n",
      "RMSE: 25331.38136595076\n",
      "LRMSE: 0.12765621823283277\n",
      "RMSE: 25785.94019059844\n",
      "LRMSE: 0.13005002719016284\n",
      "RMSE: 26033.309156661962\n",
      "LRMSE: 0.13164569772057483\n",
      "RMSE: 26021.284156113048\n",
      "LRMSE: 0.13150831954283526\n",
      "RMSE: 25912.00595901413\n",
      "LRMSE: 0.13040651460413383\n",
      "RMSE: 25851.247191696217\n",
      "LRMSE: 0.12942505856751366\n",
      "RMSE: 25837.650296852426\n",
      "LRMSE: 0.12863398298618772\n",
      "RMSE: 25894.21580406474\n",
      "LRMSE: 0.12743758025937751\n",
      "RMSE: 26148.05400132308\n",
      "LRMSE: 0.12591254743971553\n",
      "RMSE: 26299.322251440422\n",
      "LRMSE: 0.12541103327969808\n",
      "RMSE: 26454.855374654264\n",
      "LRMSE: 0.12502851180211794\n",
      "RMSE: 26610.9108937612\n",
      "LRMSE: 0.12474104547998531\n"
     ]
    },
    {
     "data": {
      "text/plain": [
       "[<matplotlib.lines.Line2D at 0x1cb43d427b8>]"
      ]
     },
     "execution_count": 134,
     "metadata": {},
     "output_type": "execute_result"
    },
    {
     "data": {
      "image/png": "[encoded data removed]",
      "text/plain": [
       "<Figure size 432x288 with 1 Axes>"
      ]
     },
     "metadata": {
      "needs_background": "light"
     },
     "output_type": "display_data"
    }
   ],
   "source": [
    "r_alphas=[.0001, .0003, .0005, .0007, .0009, \n",
    "          .01, 0.05, 0.1, 0.3, 1, 3, 5, 10, 15, 20, 30, 50, 60, 70, 80]\n",
    "\n",
    "def ridge_train_test(alpha):\n",
    "    m=make_pipeline(RobustScaler(),RidgeCV(alphas=[alpha],cv=kfolds))\n",
    "    m.fit(X_train,y_train)\n",
    "    return benchmark1(m,X_test,y_test)\n",
    "\n",
    "scores=[]\n",
    "for k in r_alphas:\n",
    "    scores.append(ridge_train_test(k))\n",
    "plt.plot(r_alphas,scores)"
   ]
  },
  {
   "cell_type": "code",
   "execution_count": null,
   "metadata": {},
   "outputs": [],
   "source": []
  },
  {
   "cell_type": "code",
   "execution_count": null,
   "metadata": {},
   "outputs": [],
   "source": []
  },
  {
   "cell_type": "code",
   "execution_count": null,
   "metadata": {},
   "outputs": [],
   "source": []
  },
  {
   "cell_type": "code",
   "execution_count": null,
   "metadata": {},
   "outputs": [],
   "source": []
  },
  {
   "cell_type": "code",
   "execution_count": null,
   "metadata": {},
   "outputs": [],
   "source": []
  },
  {
   "cell_type": "code",
   "execution_count": null,
   "metadata": {},
   "outputs": [],
   "source": []
  },
  {
   "cell_type": "code",
   "execution_count": null,
   "metadata": {},
   "outputs": [],
   "source": []
  },
  {
   "cell_type": "code",
   "execution_count": null,
   "metadata": {},
   "outputs": [],
   "source": []
  },
  {
   "cell_type": "code",
   "execution_count": null,
   "metadata": {},
   "outputs": [],
   "source": []
  },
  {
   "cell_type": "code",
   "execution_count": null,
   "metadata": {},
   "outputs": [],
   "source": []
  },
  {
   "cell_type": "code",
   "execution_count": null,
   "metadata": {},
   "outputs": [],
   "source": []
  },
  {
   "cell_type": "code",
   "execution_count": null,
   "metadata": {},
   "outputs": [],
   "source": []
  },
  {
   "cell_type": "code",
   "execution_count": null,
   "metadata": {},
   "outputs": [],
   "source": []
  }
 ],
 "metadata": {
  "kernelspec": {
   "display_name": "py36",
   "language": "python",
   "name": "py36"
  },
  "language_info": {
   "codemirror_mode": {
    "name": "ipython",
    "version": 3
   },
   "file_extension": ".py",
   "mimetype": "text/x-python",
   "name": "python",
   "nbconvert_exporter": "python",
   "pygments_lexer": "ipython3",
   "version": "3.6.7"
  }
 },
 "nbformat": 4,
 "nbformat_minor": 2
}
