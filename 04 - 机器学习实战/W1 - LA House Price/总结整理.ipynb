{
 "cells": [
  {
   "cell_type": "markdown",
   "metadata": {},
   "source": [
    "## Pre-request"
   ]
  },
  {
   "cell_type": "code",
   "execution_count": 6,
   "metadata": {},
   "outputs": [],
   "source": [
    "import numpy as np\n",
    "import pandas as pd\n",
    "import xgboost as xgb\n",
    "from sklearn.model_selection import train_test_split\n",
    "from sklearn.metrics import mean_squared_error\n",
    "import matplotlib.pyplot as plt\n",
    "import seaborn as sns\n",
    "%matplotlib inline\n",
    "train = pd.read_csv('./data/data.csv')"
   ]
  },
  {
   "cell_type": "markdown",
   "metadata": {},
   "source": [
    "## 简单空值填充"
   ]
  },
  {
   "cell_type": "code",
   "execution_count": 8,
   "metadata": {},
   "outputs": [
    {
     "name": "stdout",
     "output_type": "stream",
     "text": [
      "train set is filled with mean/none, sum NA= 0\n",
      "set is splited into train, test: (1168, 303) (292, 303)\n",
      "rmse: 24397.005804359607 logrmse: 0.11291591685262999\n"
     ]
    }
   ],
   "source": [
    "# clean data\n",
    "train = pd.read_csv('./data/data.csv') # 训练集的读取\n",
    "train1 = train\n",
    "train1=train1.fillna(train1.mean())\n",
    "train1=train1.fillna('None') \n",
    "print('train set is filled with mean/none, sum NA=', sum(train1.isnull().sum()))\n",
    "\n",
    "# build train set\n",
    "y = train1['SalePrice']\n",
    "train1 = train1.drop(['Id', 'SalePrice'], axis=1)\n",
    "X=pd.get_dummies(train1) # Convert categorical variable into dummy/indicator variables\n",
    "\n",
    "# train the model \n",
    "X_train, X_test, y_train, y_test = train_test_split(X,y,test_size=0.2,random_state=123)\n",
    "print('set is splited into train, test:', X_train.shape, X_test.shape)\n",
    "xg_reg = xgb.XGBRegressor(objective='reg:linear',\n",
    "                          colsample_bytree=0.6,\n",
    "                          learning_rate=0.01,\n",
    "                          max_depth=8,\n",
    "                          alpha=10,\n",
    "                          n_estimators=700,\n",
    "                          subsample=0.7,\n",
    "                          random_state=123)\n",
    "xg_reg.fit(X_train,y_train)\n",
    "\n",
    "# model valuation \n",
    "pred = xg_reg.predict(X_test)\n",
    "rmse = np.sqrt(mean_squared_error(y_test,pred))\n",
    "logrmse = np.sqrt(mean_squared_error(np.log(y_test),np.log(pred)))\n",
    "print('rmse:', rmse, 'logrmse:', logrmse)"
   ]
  },
  {
   "cell_type": "markdown",
   "metadata": {},
   "source": [
    "## 交叉验证\n",
    "\n",
    "1.数据有限->发挥数据本来的效率\n",
    "\n",
    "2.数据的训练集和评测集的矛盾\n",
    "\n",
    "    如果用更多的数据去训练，那么就会有更少的数据来评测->失去了对于真实泛化能力的考量\n",
    "    \n",
    "    如果用更少的数据来训练，很大可能造成欠拟合，在评测集上表现就一定不好\n",
    "    \n",
    "解决方法：\n",
    "\n",
    "1.将数据集拆成K份->(首先进行shuffle)\n",
    "\n",
    "2.规定k-1份进行训练，剩下的1份进行评测，总共训练k次，轮流每个子数据集作为评测集\n",
    "\n",
    "    数据集被分成K份，1......K\n",
    "    \n",
    "    第一次训练使用第1份数据集作为评测集，剩余的k-1份作为训练集\n",
    "    \n",
    "    第i次训练使用第i份数据集作为评测集，剩余的k-1份作为训练集\n",
    "    \n",
    "    做k次训练\n",
    "    \n",
    "3.k次训练之后，评测的分值=k次评测结果的平均\n",
    "\n",
    "4.不同的模型会提供不同的子模型的合并方法，会将所有的k个子模型进行合并\n",
    "\n"
   ]
  },
  {
   "cell_type": "code",
   "execution_count": 23,
   "metadata": {},
   "outputs": [
    {
     "name": "stdout",
     "output_type": "stream",
     "text": [
      "[17:59:06] C:\\Users\\Administrator\\Desktop\\xgboost\\src\\tree\\updater_prune.cc:74: tree pruning end, 1 roots, 34 extra nodes, 0 pruned nodes, max_depth=5\n",
      "[17:59:06] C:\\Users\\Administrator\\Desktop\\xgboost\\src\\tree\\updater_prune.cc:74: tree pruning end, 1 roots, 32 extra nodes, 0 pruned nodes, max_depth=5\n",
      "[17:59:06] C:\\Users\\Administrator\\Desktop\\xgboost\\src\\tree\\updater_prune.cc:74: tree pruning end, 1 roots, 30 extra nodes, 0 pruned nodes, max_depth=5\n",
      "[17:59:06] C:\\Users\\Administrator\\Desktop\\xgboost\\src\\tree\\updater_prune.cc:74: tree pruning end, 1 roots, 34 extra nodes, 0 pruned nodes, max_depth=5\n",
      "[17:59:06] C:\\Users\\Administrator\\Desktop\\xgboost\\src\\tree\\updater_prune.cc:74: tree pruning end, 1 roots, 38 extra nodes, 0 pruned nodes, max_depth=5\n"
     ]
    }
   ],
   "source": [
    "params = {\"objective\":\"reg:linear\",\n",
    "          'colsample_bytree': 0.7,\n",
    "          'learning_rate': 0.1,\n",
    "          'max_depth': 5, \n",
    "          'alpha': 10}\n",
    "\n",
    "train = pd.read_csv('./data/data.csv') # 训练集的读取\n",
    "train1 = train\n",
    "\n",
    "y = train1['SalePrice']\n",
    "X=pd.get_dummies(train1.drop(['Id', 'SalePrice'], axis=1)) # Convert categorical variable into dummy/indicator variables\n",
    "matrix=xgb.DMatrix(data=X,label=y)\n",
    "\n",
    "cv_results = xgb.cv(dtrain=matrix, params=params,\n",
    "                    nfold = 5,  \n",
    "                    num_boost_round=1, \n",
    "                    metrics = 'rmse',\n",
    "                    as_pandas=True)"
   ]
  },
  {
   "cell_type": "code",
   "execution_count": 15,
   "metadata": {},
   "outputs": [
    {
     "ename": "TypeError",
     "evalue": "cv() got an unexpected keyword argument 'verbose'",
     "output_type": "error",
     "traceback": [
      "\u001b[1;31m---------------------------------------------------------------------------\u001b[0m",
      "\u001b[1;31mTypeError\u001b[0m                                 Traceback (most recent call last)",
      "\u001b[1;32m<ipython-input-15-f1271acef0c9>\u001b[0m in \u001b[0;36m<module>\u001b[1;34m\u001b[0m\n\u001b[1;32m----> 1\u001b[1;33m \u001b[0mcv_results\u001b[0m\u001b[1;33m=\u001b[0m\u001b[0mxgb\u001b[0m\u001b[1;33m.\u001b[0m\u001b[0mcv\u001b[0m\u001b[1;33m(\u001b[0m\u001b[0mdtrain\u001b[0m\u001b[1;33m=\u001b[0m\u001b[0mmatrix\u001b[0m\u001b[1;33m,\u001b[0m\u001b[0mparams\u001b[0m\u001b[1;33m=\u001b[0m\u001b[0mparams\u001b[0m\u001b[1;33m,\u001b[0m\u001b[0mnfold\u001b[0m\u001b[1;33m=\u001b[0m\u001b[1;36m10\u001b[0m\u001b[1;33m,\u001b[0m\u001b[0mnum_boost_round\u001b[0m\u001b[1;33m=\u001b[0m\u001b[1;36m500\u001b[0m\u001b[1;33m,\u001b[0m\u001b[0mmetrics\u001b[0m\u001b[1;33m=\u001b[0m\u001b[1;34m'rmse'\u001b[0m\u001b[1;33m,\u001b[0m\u001b[0mas_pandas\u001b[0m\u001b[1;33m=\u001b[0m\u001b[1;32mTrue\u001b[0m\u001b[1;33m,\u001b[0m\u001b[0mverbose\u001b[0m\u001b[1;33m=\u001b[0m\u001b[1;32mFalse\u001b[0m\u001b[1;33m)\u001b[0m\u001b[1;33m\u001b[0m\u001b[1;33m\u001b[0m\u001b[0m\n\u001b[0m",
      "\u001b[1;31mTypeError\u001b[0m: cv() got an unexpected keyword argument 'verbose'"
     ]
    }
   ],
   "source": [
    "cv_results=xgb.cv(dtrain=matrix,params=params,nfold=10,num_boost_round=500,metrics='rmse',as_pandas=True,verbose=False)\n"
   ]
  },
  {
   "cell_type": "code",
   "execution_count": null,
   "metadata": {},
   "outputs": [],
   "source": []
  },
  {
   "cell_type": "code",
   "execution_count": null,
   "metadata": {},
   "outputs": [],
   "source": []
  },
  {
   "cell_type": "code",
   "execution_count": null,
   "metadata": {},
   "outputs": [],
   "source": []
  },
  {
   "cell_type": "code",
   "execution_count": null,
   "metadata": {},
   "outputs": [],
   "source": []
  },
  {
   "cell_type": "code",
   "execution_count": null,
   "metadata": {},
   "outputs": [],
   "source": []
  },
  {
   "cell_type": "code",
   "execution_count": null,
   "metadata": {},
   "outputs": [],
   "source": []
  }
 ],
 "metadata": {
  "kernelspec": {
   "display_name": "py36",
   "language": "python",
   "name": "py36"
  },
  "language_info": {
   "codemirror_mode": {
    "name": "ipython",
    "version": 3
   },
   "file_extension": ".py",
   "mimetype": "text/x-python",
   "name": "python",
   "nbconvert_exporter": "python",
   "pygments_lexer": "ipython3",
   "version": "3.6.7"
  }
 },
 "nbformat": 4,
 "nbformat_minor": 2
}
