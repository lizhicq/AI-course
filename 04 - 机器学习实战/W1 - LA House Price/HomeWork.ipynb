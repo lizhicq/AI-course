{
 "cells": [
  {
   "cell_type": "code",
   "execution_count": 1,
   "metadata": {},
   "outputs": [],
   "source": [
    "import pandas as pd\n",
    "import numpy as np\n",
    "import xgboost as xgb\n",
    "from sklearn.model_selection import train_test_split\n",
    "from sklearn.metrics import mean_squared_error\n",
    "import matplotlib.pyplot as plt\n",
    "%matplotlib inline"
   ]
  },
  {
   "cell_type": "markdown",
   "metadata": {},
   "source": [
    "# Mean Fill"
   ]
  },
  {
   "cell_type": "code",
   "execution_count": 2,
   "metadata": {},
   "outputs": [
    {
     "name": "stdout",
     "output_type": "stream",
     "text": [
      "train set is filled with mean/none, sum NA= 0\n",
      "set is splited into train, test: (1168, 303) (292, 303)\n",
      "rmse: 24397.005804359607 logrmse: 0.11291591685262999\n"
     ]
    }
   ],
   "source": [
    "# clean data\n",
    "train = pd.read_csv('./data.csv') # 训练集的读取\n",
    "train1 = train\n",
    "train1=train1.fillna(train1.mean())\n",
    "train1=train1.fillna('None') \n",
    "print('train set is filled with mean/none, sum NA=', sum(train1.isnull().sum()))\n",
    "\n",
    "# build train set\n",
    "y = train1['SalePrice']\n",
    "train1 = train1.drop(['Id', 'SalePrice'], axis=1)\n",
    "X=pd.get_dummies(train1) # Convert categorical variable into dummy/indicator variables\n",
    "\n",
    "# train the model \n",
    "X_train, X_test, y_train, y_test = train_test_split(X,y,test_size=0.2,random_state=123)\n",
    "print('set is splited into train, test:', X_train.shape, X_test.shape)\n",
    "xg_reg = xgb.XGBRegressor(objective='reg:linear',\n",
    "                          colsample_bytree=0.6,\n",
    "                          learning_rate=0.01,\n",
    "                          max_depth=8,\n",
    "                          alpha=10,\n",
    "                          n_estimators=700,\n",
    "                          subsample=0.7,\n",
    "                          random_state=123)\n",
    "xg_reg.fit(X_train,y_train)\n",
    "\n",
    "# model valuation \n",
    "pred = xg_reg.predict(X_test)\n",
    "rmse = np.sqrt(mean_squared_error(y_test,pred))\n",
    "logrmse = np.sqrt(mean_squared_error(np.log(y_test),np.log(pred)))\n",
    "print('rmse:', rmse, 'logrmse:', logrmse)"
   ]
  },
  {
   "cell_type": "markdown",
   "metadata": {},
   "source": [
    "# Median Fill py27"
   ]
  },
  {
   "cell_type": "code",
   "execution_count": 32,
   "metadata": {},
   "outputs": [
    {
     "name": "stdout",
     "output_type": "stream",
     "text": [
      "train set is filled with mean/none, sum NA= 0\n",
      "set is splited into train, test: (1168, 303) (292, 303)\n",
      "rmse: 24377.995089907552 logrmse: 0.1129396317760244\n"
     ]
    }
   ],
   "source": [
    "# clean data\n",
    "train = pd.read_csv('./data.csv') # 训练集的读取\n",
    "train1 = train\n",
    "train1=train1.fillna(train1.median())\n",
    "train1=train1.fillna('None') \n",
    "print('train set is filled with mean/none, sum NA=', sum(train1.isnull().sum()))\n",
    "\n",
    "# build train set\n",
    "y = train1['SalePrice']\n",
    "train1 = train1.drop(['Id', 'SalePrice'], axis=1)\n",
    "X=pd.get_dummies(train1) # Convert categorical variable into dummy/indicator variables\n",
    "#默认情况只对category and ojbect 进行 onehot 编码\n",
    "# train the model \n",
    "X_train, X_test, y_train, y_test = train_test_split(X,y,test_size=0.2,random_state=123)\n",
    "print('set is splited into train, test:', X_train.shape, X_test.shape)\n",
    "xg_reg = xgb.XGBRegressor(objective='reg:linear',\n",
    "                          colsample_bytree=0.6,\n",
    "                          learning_rate=0.01,\n",
    "                          max_depth=8,\n",
    "                          alpha=10,\n",
    "                          n_estimators=700,\n",
    "                          subsample=0.7,\n",
    "                          random_state=123)\n",
    "xg_reg.fit(X_train,y_train)\n",
    "\n",
    "# model valuation \n",
    "pred = xg_reg.predict(X_test)\n",
    "rmse = np.sqrt(mean_squared_error(y_test,pred))\n",
    "logrmse = np.sqrt(mean_squared_error(np.log(y_test),np.log(pred)))\n",
    "print('rmse:', rmse, 'logrmse:', logrmse)"
   ]
  },
  {
   "cell_type": "code",
   "execution_count": 4,
   "metadata": {},
   "outputs": [
    {
     "name": "stdout",
     "output_type": "stream",
     "text": [
      "(1460, 79) (1168, 303) (292, 303)\n"
     ]
    }
   ],
   "source": [
    "print(train1.shape, X_train.shape, X_test.shape)"
   ]
  },
  {
   "cell_type": "markdown",
   "metadata": {},
   "source": [
    "# Correlation EDA"
   ]
  },
  {
   "cell_type": "code",
   "execution_count": 33,
   "metadata": {},
   "outputs": [
    {
     "name": "stdout",
     "output_type": "stream",
     "text": [
      "train set is filled with mean/none, sum NA= 0\n"
     ]
    },
    {
     "data": {
      "text/plain": [
       "OverallQual     0.790982\n",
       "YearBuilt       0.522897\n",
       "YearRemodAdd    0.507101\n",
       "TotalBsmtSF     0.613581\n",
       "1stFlrSF        0.605852\n",
       "GrLivArea       0.708624\n",
       "FullBath        0.560664\n",
       "TotRmsAbvGrd    0.533723\n",
       "GarageCars      0.640409\n",
       "GarageArea      0.623431\n",
       "SalePrice       1.000000\n",
       "Name: SalePrice, dtype: float64"
      ]
     },
     "execution_count": 33,
     "metadata": {},
     "output_type": "execute_result"
    }
   ],
   "source": [
    "# 选择大于0.5的中度相关feature\n",
    "# clean data\n",
    "train = pd.read_csv('./data.csv') # 训练集的读取\n",
    "train1 = train\n",
    "train1=train1.fillna(train1.median())\n",
    "train1=train1.fillna('None') \n",
    "print('train set is filled with mean/none, sum NA=', sum(train1.isnull().sum()))\n",
    "\n",
    "\n",
    "top_corr_feature = train1.corr()['SalePrice']\n",
    "top_corr_feature[abs(top_corr_feature)>0.5]"
   ]
  },
  {
   "cell_type": "markdown",
   "metadata": {},
   "source": [
    "> **可以看到一共有10个feature > 0.5, 这里也应该考略中度负相关, 但实际上没有小于-0.5的feature，因此忽略不计**"
   ]
  },
  {
   "cell_type": "code",
   "execution_count": 30,
   "metadata": {},
   "outputs": [
    {
     "data": {
      "text/plain": [
       "Id              -0.021917\n",
       "MSSubClass      -0.084284\n",
       "LotFrontage      0.339782\n",
       "LotArea          0.263843\n",
       "OverallQual      0.790982\n",
       "OverallCond     -0.077856\n",
       "YearBuilt        0.522897\n",
       "YearRemodAdd     0.507101\n",
       "MasVnrArea       0.477493\n",
       "BsmtFinSF1       0.386420\n",
       "BsmtFinSF2      -0.011378\n",
       "BsmtUnfSF        0.214479\n",
       "TotalBsmtSF      0.613581\n",
       "1stFlrSF         0.605852\n",
       "2ndFlrSF         0.319334\n",
       "LowQualFinSF    -0.025606\n",
       "GrLivArea        0.708624\n",
       "BsmtFullBath     0.227122\n",
       "BsmtHalfBath    -0.016844\n",
       "FullBath         0.560664\n",
       "HalfBath         0.284108\n",
       "BedroomAbvGr     0.168213\n",
       "KitchenAbvGr    -0.135907\n",
       "TotRmsAbvGrd     0.533723\n",
       "Fireplaces       0.466929\n",
       "GarageYrBlt      0.486362\n",
       "GarageCars       0.640409\n",
       "GarageArea       0.623431\n",
       "WoodDeckSF       0.324413\n",
       "OpenPorchSF      0.315856\n",
       "EnclosedPorch   -0.128578\n",
       "3SsnPorch        0.044584\n",
       "ScreenPorch      0.111447\n",
       "PoolArea         0.092404\n",
       "MiscVal         -0.021190\n",
       "MoSold           0.046432\n",
       "YrSold          -0.028923\n",
       "SalePrice        1.000000\n",
       "SqrtLotArea      0.366675\n",
       "Name: SalePrice, dtype: float64"
      ]
     },
     "execution_count": 30,
     "metadata": {},
     "output_type": "execute_result"
    }
   ],
   "source": [
    "top_corr_feature"
   ]
  },
  {
   "cell_type": "code",
   "execution_count": null,
   "metadata": {},
   "outputs": [],
   "source": []
  },
  {
   "cell_type": "code",
   "execution_count": null,
   "metadata": {},
   "outputs": [],
   "source": []
  },
  {
   "cell_type": "code",
   "execution_count": null,
   "metadata": {},
   "outputs": [],
   "source": []
  },
  {
   "cell_type": "code",
   "execution_count": null,
   "metadata": {},
   "outputs": [],
   "source": []
  },
  {
   "cell_type": "code",
   "execution_count": null,
   "metadata": {},
   "outputs": [],
   "source": []
  },
  {
   "cell_type": "code",
   "execution_count": null,
   "metadata": {},
   "outputs": [],
   "source": []
  },
  {
   "cell_type": "code",
   "execution_count": null,
   "metadata": {},
   "outputs": [],
   "source": []
  }
 ],
 "metadata": {
  "kernelspec": {
   "display_name": "py36",
   "language": "python",
   "name": "py36"
  },
  "language_info": {
   "codemirror_mode": {
    "name": "ipython",
    "version": 3
   },
   "file_extension": ".py",
   "mimetype": "text/x-python",
   "name": "python",
   "nbconvert_exporter": "python",
   "pygments_lexer": "ipython3",
   "version": "3.6.7"
  }
 },
 "nbformat": 4,
 "nbformat_minor": 2
}
