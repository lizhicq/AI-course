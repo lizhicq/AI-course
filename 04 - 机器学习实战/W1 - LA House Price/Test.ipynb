{
 "cells": [
  {
   "cell_type": "code",
   "execution_count": 1,
   "metadata": {},
   "outputs": [],
   "source": [
    "import pandas as pd\n",
    "import numpy as np\n",
    "import xgboost as xgb\n",
    "from sklearn.model_selection import train_test_split\n",
    "from sklearn.metrics import mean_squared_error\n",
    "import matplotlib.pyplot as plt\n",
    "%matplotlib inline"
   ]
  },
  {
   "cell_type": "markdown",
   "metadata": {},
   "source": [
    "# Mean Fill"
   ]
  },
  {
   "cell_type": "code",
   "execution_count": 2,
   "metadata": {},
   "outputs": [
    {
     "name": "stdout",
     "output_type": "stream",
     "text": [
      "train set is filled with mean/none, sum NA= 0\n",
      "set is splited into train, test: (1168, 303) (292, 303)\n",
      "rmse: 24397.005804359607 logrmse: 0.11291591685262999\n"
     ]
    }
   ],
   "source": [
    "# clean data\n",
    "train = pd.read_csv('./data.csv') # 训练集的读取\n",
    "train1 = train\n",
    "train1=train1.fillna(train1.mean())\n",
    "train1=train1.fillna('None') \n",
    "print('train set is filled with mean/none, sum NA=', sum(train1.isnull().sum()))\n",
    "\n",
    "# build train set\n",
    "y = train1['SalePrice']\n",
    "train1 = train1.drop(['Id', 'SalePrice'], axis=1)\n",
    "X=pd.get_dummies(train1) # Convert categorical variable into dummy/indicator variables\n",
    "\n",
    "# train the model \n",
    "X_train, X_test, y_train, y_test = train_test_split(X,y,test_size=0.2,random_state=123)\n",
    "print('set is splited into train, test:', X_train.shape, X_test.shape)\n",
    "xg_reg = xgb.XGBRegressor(objective='reg:linear',\n",
    "                          colsample_bytree=0.6,\n",
    "                          learning_rate=0.01,\n",
    "                          max_depth=8,\n",
    "                          alpha=10,\n",
    "                          n_estimators=700,\n",
    "                          subsample=0.7,\n",
    "                          random_state=123)\n",
    "xg_reg.fit(X_train,y_train)\n",
    "\n",
    "# model valuation \n",
    "pred = xg_reg.predict(X_test)\n",
    "rmse = np.sqrt(mean_squared_error(y_test,pred))\n",
    "logrmse = np.sqrt(mean_squared_error(np.log(y_test),np.log(pred)))\n",
    "print('rmse:', rmse, 'logrmse:', logrmse)"
   ]
  },
  {
   "cell_type": "markdown",
   "metadata": {},
   "source": [
    "# Median Fill py27"
   ]
  },
  {
   "cell_type": "code",
   "execution_count": 3,
   "metadata": {},
   "outputs": [
    {
     "name": "stdout",
     "output_type": "stream",
     "text": [
      "train set is filled with mean/none, sum NA= 0\n",
      "set is splited into train, test: (1168, 303) (292, 303)\n",
      "rmse: 24377.995089907552 logrmse: 0.1129396317760244\n"
     ]
    }
   ],
   "source": [
    "# clean data\n",
    "train = pd.read_csv('./data.csv') # 训练集的读取\n",
    "train1 = train\n",
    "train1=train1.fillna(train1.median())\n",
    "train1=train1.fillna('None') \n",
    "print('train set is filled with mean/none, sum NA=', sum(train1.isnull().sum()))\n",
    "\n",
    "# build train set\n",
    "y = train1['SalePrice']\n",
    "train1 = train1.drop(['Id', 'SalePrice'], axis=1)\n",
    "X=pd.get_dummies(train1) # Convert categorical variable into dummy/indicator variables\n",
    "#默认情况只对category and ojbect 进行 onehot 编码\n",
    "# train the model \n",
    "X_train, X_test, y_train, y_test = train_test_split(X,y,test_size=0.2,random_state=123)\n",
    "print('set is splited into train, test:', X_train.shape, X_test.shape)\n",
    "xg_reg = xgb.XGBRegressor(objective='reg:linear',\n",
    "                          colsample_bytree=0.6,\n",
    "                          learning_rate=0.01,\n",
    "                          max_depth=8,\n",
    "                          alpha=10,\n",
    "                          n_estimators=700,\n",
    "                          subsample=0.7,\n",
    "                          random_state=123)\n",
    "xg_reg.fit(X_train,y_train)\n",
    "\n",
    "# model valuation \n",
    "pred = xg_reg.predict(X_test)\n",
    "rmse = np.sqrt(mean_squared_error(y_test,pred))\n",
    "logrmse = np.sqrt(mean_squared_error(np.log(y_test),np.log(pred)))\n",
    "print('rmse:', rmse, 'logrmse:', logrmse)"
   ]
  },
  {
   "cell_type": "markdown",
   "metadata": {},
   "source": [
    "### Grid Search"
   ]
  },
  {
   "cell_type": "code",
   "execution_count": 4,
   "metadata": {},
   "outputs": [
    {
     "ename": "NameError",
     "evalue": "name 'GridSearch' is not defined",
     "output_type": "error",
     "traceback": [
      "\u001b[1;31m---------------------------------------------------------------------------\u001b[0m",
      "\u001b[1;31mNameError\u001b[0m                                 Traceback (most recent call last)",
      "\u001b[1;32m<ipython-input-4-120cf6fe899b>\u001b[0m in \u001b[0;36m<module>\u001b[1;34m\u001b[0m\n\u001b[1;32m----> 1\u001b[1;33m gs = GridSearch(xg_reg, {\n\u001b[0m\u001b[0;32m      2\u001b[0m     \u001b[1;34m\"n_estimators:\"\u001b[0m\u001b[1;33m:\u001b[0m\u001b[1;33m[\u001b[0m\u001b[1;36m100\u001b[0m\u001b[1;33m,\u001b[0m \u001b[1;36m500\u001b[0m\u001b[1;33m,\u001b[0m \u001b[1;36m1000\u001b[0m\u001b[1;33m,\u001b[0m \u001b[1;36m3000\u001b[0m\u001b[1;33m]\u001b[0m\u001b[1;33m,\u001b[0m\u001b[1;33m\u001b[0m\u001b[1;33m\u001b[0m\u001b[0m\n\u001b[0;32m      3\u001b[0m     \u001b[1;34m\"alpha:\"\u001b[0m\u001b[1;33m:\u001b[0m\u001b[1;33m[\u001b[0m\u001b[1;36m0.01\u001b[0m\u001b[1;33m,\u001b[0m \u001b[1;36m0.1\u001b[0m\u001b[1;33m,\u001b[0m \u001b[1;36m1.0\u001b[0m\u001b[1;33m,\u001b[0m \u001b[1;36m10\u001b[0m\u001b[1;33m]\u001b[0m\u001b[1;33m,\u001b[0m\u001b[1;33m\u001b[0m\u001b[1;33m\u001b[0m\u001b[0m\n\u001b[0;32m      4\u001b[0m     \u001b[1;34m\"lambda\"\u001b[0m\u001b[1;33m:\u001b[0m\u001b[1;33m[\u001b[0m\u001b[1;33m...\u001b[0m\u001b[1;33m]\u001b[0m\u001b[1;33m\u001b[0m\u001b[1;33m\u001b[0m\u001b[0m\n\u001b[0;32m      5\u001b[0m })\n",
      "\u001b[1;31mNameError\u001b[0m: name 'GridSearch' is not defined"
     ]
    }
   ],
   "source": [
    "gs = GridSearch(xg_reg, {\n",
    "    \"n_estimators:\":[100, 500, 1000, 3000],\n",
    "    \"alpha:\":[0.01, 0.1, 1.0, 10],\n",
    "    \"lambda\":[...]\n",
    "})\n",
    "# 可能重复搜索"
   ]
  },
  {
   "cell_type": "markdown",
   "metadata": {},
   "source": [
    "### Randomized Search "
   ]
  },
  {
   "cell_type": "code",
   "execution_count": null,
   "metadata": {},
   "outputs": [],
   "source": [
    "gs = RandomizedSearch(xg_reg, {\n",
    "    \"n_estimators:\":[100, 500, 1000, 3000],\n",
    "    \"alpha:\":np.norm(1.0, 0.7),\n",
    "    \"lambda\":[...]\n",
    "})"
   ]
  },
  {
   "cell_type": "code",
   "execution_count": null,
   "metadata": {},
   "outputs": [],
   "source": [
    "print(train1.shape, X_train.shape, X_test.shape)"
   ]
  },
  {
   "cell_type": "markdown",
   "metadata": {},
   "source": [
    "## 交叉验证\n",
    "\n",
    "1. 数据有限 ->发挥数据本来的效率\n",
    "\n",
    "2. 数据的训练集和评测集的矛盾\n",
    "      \n",
    "      * 如果用更多的数据去训练，那么就会有更少的数据来评测->失去了对于真实泛化能力的考量\n",
    "      * 如果用胜少的数据来训练，很大可能造成欠拟合，在评测集上表现就一定不好\n",
    "\n",
    "解决办法：\n",
    "1. 将数据集拆成k份->(首先进行shuffle)\n",
    "2. 规定k-1份进行训练，剩下1份进行评测，总共训练k次，轮流每个子数据集作为评测集\n",
    "    数据集被分成k份， 1....k\n",
    "    第1次训练使用第1份数据作为评测集，剩余的k-1份作为训练集\n",
    "    第i次训练使用第i份数据作为评测集，剩余的k-1份作为训练集\n",
    "    做k次训练\n",
    "\n",
    "3. k次训练之后，评测的分值=k次评测结果的平均\n",
    "4. 不同的模型会提供不同的子模型合并方法，会将所有k个子模型进行合并"
   ]
  },
  {
   "cell_type": "code",
   "execution_count": null,
   "metadata": {},
   "outputs": [],
   "source": [
    "params = {\"objective\":\"reg:linear\",\n",
    "          \"cosample_bytree\":0.7,\n",
    "         'learning_rate':0.1,\n",
    "         'max_depth':10,\n",
    "         'alpha':10}"
   ]
  },
  {
   "cell_type": "code",
   "execution_count": null,
   "metadata": {},
   "outputs": [],
   "source": [
    "matrix = xgb.DMatrix(data=X, label=y)#xgboost 可以接受的Data的一种压缩后的数据结构. lmdb/.h5"
   ]
  },
  {
   "cell_type": "code",
   "execution_count": null,
   "metadata": {},
   "outputs": [],
   "source": [
    "cv_results = xgb.cv(params=params, \n",
    "       nfold=10, \n",
    "       num_boost_round=500, \n",
    "       metrics='rmse',\n",
    "       as_pandas=True,\n",
    "       dtrain = matrix)\n",
    "#决策树的学习过程分为两个阶段，分裂和剪枝(前剪枝和后见剪枝)\n",
    "cv_results.iloc[:,-2]"
   ]
  },
  {
   "cell_type": "markdown",
   "metadata": {},
   "source": [
    "## 数据的EDA入门\n",
    "\n",
    "1. 数据属性分布分析(概率密度分析/是否呈现正态分布)\n",
    "2. 数据属性与Target之间的相关性\n",
    "3. 缺失属性相关性分析--进行合理的填充\n",
    "4. 构造属性和构造属性的相关性分析"
   ]
  },
  {
   "cell_type": "markdown",
   "metadata": {},
   "source": [
    "## 相关性分析\n",
    "[-1, +1]\n",
    "\n",
    "|r| > 0.95 显著关系\n",
    "\n",
    "|r| >=0.8 强相关\n",
    "\n",
    "|r| >=0.5 中度相关\n",
    "\n",
    "0.5 >= |r| >= 0.3 弱相关（待挖掘，可以尝试去掉) 部分数据与该特征可能存在较强相关性。(楼房屋顶和顶楼的成交价格)\n",
    "\n",
    "|r| < 0.3 极弱相关"
   ]
  },
  {
   "cell_type": "code",
   "execution_count": null,
   "metadata": {},
   "outputs": [],
   "source": [
    "corr = train.corr()['SalePrice']"
   ]
  },
  {
   "cell_type": "code",
   "execution_count": null,
   "metadata": {},
   "outputs": [],
   "source": [
    "corr = train.corr()['SalePrice']\n",
    "corr[(corr>0.5) | (corr < -.5)].sort_values()"
   ]
  },
  {
   "cell_type": "code",
   "execution_count": null,
   "metadata": {},
   "outputs": [],
   "source": [
    "corr[corr>0.5]"
   ]
  },
  {
   "cell_type": "code",
   "execution_count": null,
   "metadata": {},
   "outputs": [],
   "source": [
    "import seaborn as sns\n",
    "import matplotlib.pyplot as plt\n",
    "%matplotlib inline"
   ]
  },
  {
   "cell_type": "code",
   "execution_count": null,
   "metadata": {},
   "outputs": [],
   "source": [
    "plt.figure(figsize=(30,30))\n",
    "sns.heatmap(train.corr(), linewidth=-.01, square=True, cmap='viridis', annot=True)"
   ]
  },
  {
   "cell_type": "code",
   "execution_count": null,
   "metadata": {},
   "outputs": [],
   "source": [
    "plt.figure(figsize=(30,30))\n",
    "sns.heatmap(train.corr(), linewidth=-.01, square=True, cmap='viridis', annot=True)"
   ]
  },
  {
   "cell_type": "markdown",
   "metadata": {},
   "source": [
    "## 特征观察\n",
    "\n",
    "观察特征与目标值之间的关系（使用统计图来进行观察)"
   ]
  },
  {
   "cell_type": "code",
   "execution_count": null,
   "metadata": {},
   "outputs": [],
   "source": [
    "corr = train.corr()['SalePrice']\n",
    "corr[corr>0.5].sort_values()"
   ]
  },
  {
   "cell_type": "code",
   "execution_count": null,
   "metadata": {},
   "outputs": [],
   "source": [
    "train[['OverallQual','SalePrice']].groupby(['OverallQual']).mean().plot.bar()"
   ]
  },
  {
   "cell_type": "markdown",
   "metadata": {},
   "source": [
    "### 'GarageCars' 与 ‘SalePrice' 之间的关系"
   ]
  },
  {
   "cell_type": "code",
   "execution_count": null,
   "metadata": {},
   "outputs": [],
   "source": [
    "train[['GarageCars', 'SalePrice']].groupby(['GarageCars']).mean().plot.bar()"
   ]
  },
  {
   "cell_type": "code",
   "execution_count": null,
   "metadata": {},
   "outputs": [],
   "source": [
    "train[['GarageArea', 'SalePrice']].groupby(['GarageArea']).mean().plot.bar()\n",
    "#不要将连续的数据进行groupby 这样没有意义， 如果想要对连续型数据进行grouby，需要对该数据进行分段。\n",
    "\n"
   ]
  },
  {
   "cell_type": "code",
   "execution_count": 6,
   "metadata": {},
   "outputs": [],
   "source": [
    "# 正相关数据分析\n",
    "import numpy as np\n",
    "import pandas as pd \n",
    "import matplotlib.pyplot as plt\n",
    "import seaborn as sns\n"
   ]
  },
  {
   "cell_type": "markdown",
   "metadata": {},
   "source": [
    "# OerallQual 与 SalePrice 的相关性分析"
   ]
  },
  {
   "cell_type": "code",
   "execution_count": 7,
   "metadata": {},
   "outputs": [
    {
     "data": {
      "text/plain": [
       "<matplotlib.axes._subplots.AxesSubplot at 0x1e950d56908>"
      ]
     },
     "execution_count": 7,
     "metadata": {},
     "output_type": "execute_result"
    },
    {
     "data": {
      "image/png": "[encoded data removed]",
      "text/plain": [
       "<Figure size 432x288 with 1 Axes>"
      ]
     },
     "metadata": {
      "needs_background": "light"
     },
     "output_type": "display_data"
    }
   ],
   "source": [
    "sns.stripplot('OverallQual', 'SalePrice',data=train)"
   ]
  },
  {
   "cell_type": "code",
   "execution_count": 8,
   "metadata": {},
   "outputs": [
    {
     "data": {
      "text/plain": [
       "<matplotlib.axes._subplots.AxesSubplot at 0x1e950e42240>"
      ]
     },
     "execution_count": 8,
     "metadata": {},
     "output_type": "execute_result"
    },
    {
     "data": {
      "image/png": "[encoded data removed]",
      "text/plain": [
       "<Figure size 432x288 with 1 Axes>"
      ]
     },
     "metadata": {
      "needs_background": "light"
     },
     "output_type": "display_data"
    }
   ],
   "source": [
    "sns.boxplot('OverallQual', 'SalePrice',data=train)"
   ]
  },
  {
   "cell_type": "markdown",
   "metadata": {},
   "source": [
    "#### 作业： 分析 SalePrice 与 corr>0.5 的变量的关系，以及corr< 0的变量的关系，请说明分析理由。\n",
    "\n",
    "scatter, jointplot"
   ]
  },
  {
   "cell_type": "markdown",
   "metadata": {},
   "source": [
    "### 新一轮空值填充"
   ]
  },
  {
   "cell_type": "code",
   "execution_count": 9,
   "metadata": {},
   "outputs": [
    {
     "data": {
      "text/plain": [
       "<matplotlib.axes._subplots.AxesSubplot at 0x1e9512487f0>"
      ]
     },
     "execution_count": 9,
     "metadata": {},
     "output_type": "execute_result"
    },
    {
     "data": {
      "image/png": "[encoded data removed]",
      "text/plain": [
       "<Figure size 432x288 with 1 Axes>"
      ]
     },
     "metadata": {
      "needs_background": "light"
     },
     "output_type": "display_data"
    }
   ],
   "source": [
    "x = train.isnull().sum()\n",
    "x[x>0].sort_values().plot.bar(color='y')"
   ]
  },
  {
   "cell_type": "code",
   "execution_count": null,
   "metadata": {},
   "outputs": [],
   "source": [
    "### LotFrontage 的填充\n",
    "思路1：去不同的Neighborhood的均值和中位数"
   ]
  },
  {
   "cell_type": "code",
   "execution_count": 10,
   "metadata": {},
   "outputs": [
    {
     "name": "stderr",
     "output_type": "stream",
     "text": [
      "C:\\Users\\lizhi\\Anaconda2\\envs\\py36\\lib\\site-packages\\scipy\\stats\\stats.py:1713: FutureWarning: Using a non-tuple sequence for multidimensional indexing is deprecated; use `arr[tuple(seq)]` instead of `arr[seq]`. In the future this will be interpreted as an array index, `arr[np.array(seq)]`, which will result either in an error or a different result.\n",
      "  return np.add.reduce(sorted[indexer] * weights, axis=axis) / sumval\n"
     ]
    },
    {
     "data": {
      "text/plain": [
       "<matplotlib.axes._subplots.AxesSubplot at 0x1e9512de940>"
      ]
     },
     "execution_count": 10,
     "metadata": {},
     "output_type": "execute_result"
    },
    {
     "data": {
      "image/png": "[encoded data removed]",
      "text/plain": [
       "<Figure size 432x288 with 1 Axes>"
      ]
     },
     "metadata": {
      "needs_background": "light"
     },
     "output_type": "display_data"
    }
   ],
   "source": [
    "sns.violinplot(train['LotFrontage'], train['Neighborhood'])"
   ]
  },
  {
   "cell_type": "code",
   "execution_count": 13,
   "metadata": {},
   "outputs": [
    {
     "data": {
      "text/plain": [
       "Neighborhood\n",
       "Blmngtn    47.142857\n",
       "Blueste    24.000000\n",
       "BrDale     21.562500\n",
       "BrkSide    57.509804\n",
       "ClearCr    83.461538\n",
       "CollgCr    71.682540\n",
       "Crawfor    71.804878\n",
       "Edwards    68.217391\n",
       "Gilbert    79.877551\n",
       "IDOTRR     62.500000\n",
       "MeadowV    27.800000\n",
       "Mitchel    70.083333\n",
       "NAmes      76.462366\n",
       "NPkVill    32.285714\n",
       "NWAmes     81.288889\n",
       "NoRidge    91.878788\n",
       "NridgHt    81.881579\n",
       "OldTown    62.788991\n",
       "SWISU      58.913043\n",
       "Sawyer     74.437500\n",
       "SawyerW    71.500000\n",
       "Somerst    64.666667\n",
       "StoneBr    62.700000\n",
       "Timber     80.133333\n",
       "Veenker    59.714286\n",
       "Name: LotFrontage, dtype: float64"
      ]
     },
     "execution_count": 13,
     "metadata": {},
     "output_type": "execute_result"
    }
   ],
   "source": [
    "neighborhood_group=train.groupby('Neighborhood')\n",
    "lot_medians=neighborhood_group['LotFrontage'].median()\n",
    "lot_means =neighborhood_group['LotFrontage'].mean()\n",
    "lot_means"
   ]
  },
  {
   "cell_type": "code",
   "execution_count": 14,
   "metadata": {},
   "outputs": [
    {
     "data": {
      "text/plain": [
       "7        NWAmes\n",
       "12       Sawyer\n",
       "14        NAmes\n",
       "16        NAmes\n",
       "24       Sawyer\n",
       "31       Sawyer\n",
       "42      SawyerW\n",
       "43      CollgCr\n",
       "50      Gilbert\n",
       "64      CollgCr\n",
       "66        NAmes\n",
       "76        NAmes\n",
       "84      Gilbert\n",
       "95      Gilbert\n",
       "100      NWAmes\n",
       "104      IDOTRR\n",
       "111     Gilbert\n",
       "113     Crawfor\n",
       "116      Sawyer\n",
       "120     ClearCr\n",
       "126     NPkVill\n",
       "131     Gilbert\n",
       "133      Timber\n",
       "136       NAmes\n",
       "147     Gilbert\n",
       "149     BrkSide\n",
       "152      NWAmes\n",
       "153     ClearCr\n",
       "160     Veenker\n",
       "166     ClearCr\n",
       "         ...   \n",
       "1300    Gilbert\n",
       "1301    Crawfor\n",
       "1309    SawyerW\n",
       "1312    NoRidge\n",
       "1318    CollgCr\n",
       "1321    BrkSide\n",
       "1342    CollgCr\n",
       "1346     NWAmes\n",
       "1348    SawyerW\n",
       "1354    CollgCr\n",
       "1356      NAmes\n",
       "1357      NAmes\n",
       "1358    Somerst\n",
       "1362      NAmes\n",
       "1365    Somerst\n",
       "1368    CollgCr\n",
       "1373    NoRidge\n",
       "1381      NAmes\n",
       "1383     Sawyer\n",
       "1396     Timber\n",
       "1407    Mitchel\n",
       "1417    NoRidge\n",
       "1419    Crawfor\n",
       "1423    Edwards\n",
       "1424      NAmes\n",
       "1429     NWAmes\n",
       "1431    NPkVill\n",
       "1441    CollgCr\n",
       "1443    BrkSide\n",
       "1446    Mitchel\n",
       "Name: Neighborhood, Length: 259, dtype: object"
      ]
     },
     "execution_count": 14,
     "metadata": {},
     "output_type": "execute_result"
    }
   ],
   "source": [
    "train[train['LotFrontage'].isnull()]['Neighborhood']"
   ]
  },
  {
   "cell_type": "markdown",
   "metadata": {},
   "source": [
    "## 思路二\n",
    "通过LotArea进行填充"
   ]
  },
  {
   "cell_type": "code",
   "execution_count": 15,
   "metadata": {},
   "outputs": [
    {
     "data": {
      "text/plain": [
       "0.4260950187718077"
      ]
     },
     "execution_count": 15,
     "metadata": {},
     "output_type": "execute_result"
    }
   ],
   "source": [
    "train['LotFrontage'].corr(train['LotArea'])"
   ]
  },
  {
   "cell_type": "code",
   "execution_count": 24,
   "metadata": {},
   "outputs": [
    {
     "data": {
      "text/plain": [
       "0.602002216793936"
      ]
     },
     "execution_count": 24,
     "metadata": {},
     "output_type": "execute_result"
    }
   ],
   "source": [
    "train['LotFrontage'].corr(np.sqrt(train['LotArea']))"
   ]
  },
  {
   "cell_type": "code",
   "execution_count": 26,
   "metadata": {},
   "outputs": [],
   "source": [
    "train['SqrtLotArea']=np.sqrt(train['LotArea'])"
   ]
  },
  {
   "cell_type": "code",
   "execution_count": 27,
   "metadata": {},
   "outputs": [
    {
     "data": {
      "text/html": [
       "<div>\n",
       "<style scoped>\n",
       "    .dataframe tbody tr th:only-of-type {\n",
       "        vertical-align: middle;\n",
       "    }\n",
       "\n",
       "    .dataframe tbody tr th {\n",
       "        vertical-align: top;\n",
       "    }\n",
       "\n",
       "    .dataframe thead th {\n",
       "        text-align: right;\n",
       "    }\n",
       "</style>\n",
       "<table border=\"1\" class=\"dataframe\">\n",
       "  <thead>\n",
       "    <tr style=\"text-align: right;\">\n",
       "      <th></th>\n",
       "      <th>Id</th>\n",
       "      <th>MSSubClass</th>\n",
       "      <th>MSZoning</th>\n",
       "      <th>LotFrontage</th>\n",
       "      <th>LotArea</th>\n",
       "      <th>Street</th>\n",
       "      <th>Alley</th>\n",
       "      <th>LotShape</th>\n",
       "      <th>LandContour</th>\n",
       "      <th>Utilities</th>\n",
       "      <th>...</th>\n",
       "      <th>PoolQC</th>\n",
       "      <th>Fence</th>\n",
       "      <th>MiscFeature</th>\n",
       "      <th>MiscVal</th>\n",
       "      <th>MoSold</th>\n",
       "      <th>YrSold</th>\n",
       "      <th>SaleType</th>\n",
       "      <th>SaleCondition</th>\n",
       "      <th>SalePrice</th>\n",
       "      <th>SqrtLotArea</th>\n",
       "    </tr>\n",
       "  </thead>\n",
       "  <tbody>\n",
       "    <tr>\n",
       "      <th>0</th>\n",
       "      <td>1</td>\n",
       "      <td>60</td>\n",
       "      <td>RL</td>\n",
       "      <td>65.0</td>\n",
       "      <td>8450</td>\n",
       "      <td>Pave</td>\n",
       "      <td>NaN</td>\n",
       "      <td>Reg</td>\n",
       "      <td>Lvl</td>\n",
       "      <td>AllPub</td>\n",
       "      <td>...</td>\n",
       "      <td>NaN</td>\n",
       "      <td>NaN</td>\n",
       "      <td>NaN</td>\n",
       "      <td>0</td>\n",
       "      <td>2</td>\n",
       "      <td>2008</td>\n",
       "      <td>WD</td>\n",
       "      <td>Normal</td>\n",
       "      <td>208500</td>\n",
       "      <td>91.923882</td>\n",
       "    </tr>\n",
       "    <tr>\n",
       "      <th>1</th>\n",
       "      <td>2</td>\n",
       "      <td>20</td>\n",
       "      <td>RL</td>\n",
       "      <td>80.0</td>\n",
       "      <td>9600</td>\n",
       "      <td>Pave</td>\n",
       "      <td>NaN</td>\n",
       "      <td>Reg</td>\n",
       "      <td>Lvl</td>\n",
       "      <td>AllPub</td>\n",
       "      <td>...</td>\n",
       "      <td>NaN</td>\n",
       "      <td>NaN</td>\n",
       "      <td>NaN</td>\n",
       "      <td>0</td>\n",
       "      <td>5</td>\n",
       "      <td>2007</td>\n",
       "      <td>WD</td>\n",
       "      <td>Normal</td>\n",
       "      <td>181500</td>\n",
       "      <td>97.979590</td>\n",
       "    </tr>\n",
       "    <tr>\n",
       "      <th>2</th>\n",
       "      <td>3</td>\n",
       "      <td>60</td>\n",
       "      <td>RL</td>\n",
       "      <td>68.0</td>\n",
       "      <td>11250</td>\n",
       "      <td>Pave</td>\n",
       "      <td>NaN</td>\n",
       "      <td>IR1</td>\n",
       "      <td>Lvl</td>\n",
       "      <td>AllPub</td>\n",
       "      <td>...</td>\n",
       "      <td>NaN</td>\n",
       "      <td>NaN</td>\n",
       "      <td>NaN</td>\n",
       "      <td>0</td>\n",
       "      <td>9</td>\n",
       "      <td>2008</td>\n",
       "      <td>WD</td>\n",
       "      <td>Normal</td>\n",
       "      <td>223500</td>\n",
       "      <td>106.066017</td>\n",
       "    </tr>\n",
       "    <tr>\n",
       "      <th>3</th>\n",
       "      <td>4</td>\n",
       "      <td>70</td>\n",
       "      <td>RL</td>\n",
       "      <td>60.0</td>\n",
       "      <td>9550</td>\n",
       "      <td>Pave</td>\n",
       "      <td>NaN</td>\n",
       "      <td>IR1</td>\n",
       "      <td>Lvl</td>\n",
       "      <td>AllPub</td>\n",
       "      <td>...</td>\n",
       "      <td>NaN</td>\n",
       "      <td>NaN</td>\n",
       "      <td>NaN</td>\n",
       "      <td>0</td>\n",
       "      <td>2</td>\n",
       "      <td>2006</td>\n",
       "      <td>WD</td>\n",
       "      <td>Abnorml</td>\n",
       "      <td>140000</td>\n",
       "      <td>97.724101</td>\n",
       "    </tr>\n",
       "    <tr>\n",
       "      <th>4</th>\n",
       "      <td>5</td>\n",
       "      <td>60</td>\n",
       "      <td>RL</td>\n",
       "      <td>84.0</td>\n",
       "      <td>14260</td>\n",
       "      <td>Pave</td>\n",
       "      <td>NaN</td>\n",
       "      <td>IR1</td>\n",
       "      <td>Lvl</td>\n",
       "      <td>AllPub</td>\n",
       "      <td>...</td>\n",
       "      <td>NaN</td>\n",
       "      <td>NaN</td>\n",
       "      <td>NaN</td>\n",
       "      <td>0</td>\n",
       "      <td>12</td>\n",
       "      <td>2008</td>\n",
       "      <td>WD</td>\n",
       "      <td>Normal</td>\n",
       "      <td>250000</td>\n",
       "      <td>119.415242</td>\n",
       "    </tr>\n",
       "  </tbody>\n",
       "</table>\n",
       "<p>5 rows × 82 columns</p>\n",
       "</div>"
      ],
      "text/plain": [
       "   Id  MSSubClass MSZoning  LotFrontage  LotArea Street Alley LotShape  \\\n",
       "0   1          60       RL         65.0     8450   Pave   NaN      Reg   \n",
       "1   2          20       RL         80.0     9600   Pave   NaN      Reg   \n",
       "2   3          60       RL         68.0    11250   Pave   NaN      IR1   \n",
       "3   4          70       RL         60.0     9550   Pave   NaN      IR1   \n",
       "4   5          60       RL         84.0    14260   Pave   NaN      IR1   \n",
       "\n",
       "  LandContour Utilities     ...      PoolQC Fence MiscFeature MiscVal MoSold  \\\n",
       "0         Lvl    AllPub     ...         NaN   NaN         NaN       0      2   \n",
       "1         Lvl    AllPub     ...         NaN   NaN         NaN       0      5   \n",
       "2         Lvl    AllPub     ...         NaN   NaN         NaN       0      9   \n",
       "3         Lvl    AllPub     ...         NaN   NaN         NaN       0      2   \n",
       "4         Lvl    AllPub     ...         NaN   NaN         NaN       0     12   \n",
       "\n",
       "  YrSold SaleType  SaleCondition  SalePrice  SqrtLotArea  \n",
       "0   2008       WD         Normal     208500    91.923882  \n",
       "1   2007       WD         Normal     181500    97.979590  \n",
       "2   2008       WD         Normal     223500   106.066017  \n",
       "3   2006       WD        Abnorml     140000    97.724101  \n",
       "4   2008       WD         Normal     250000   119.415242  \n",
       "\n",
       "[5 rows x 82 columns]"
      ]
     },
     "execution_count": 27,
     "metadata": {},
     "output_type": "execute_result"
    }
   ],
   "source": [
    "train.head()"
   ]
  },
  {
   "cell_type": "code",
   "execution_count": 28,
   "metadata": {},
   "outputs": [
    {
     "name": "stderr",
     "output_type": "stream",
     "text": [
      "C:\\Users\\lizhi\\Anaconda2\\envs\\py36\\lib\\site-packages\\scipy\\stats\\stats.py:1713: FutureWarning: Using a non-tuple sequence for multidimensional indexing is deprecated; use `arr[tuple(seq)]` instead of `arr[seq]`. In the future this will be interpreted as an array index, `arr[np.array(seq)]`, which will result either in an error or a different result.\n",
      "  return np.add.reduce(sorted[indexer] * weights, axis=axis) / sumval\n"
     ]
    },
    {
     "data": {
      "text/plain": [
       "<seaborn.axisgrid.FacetGrid at 0x1e9516f2dd8>"
      ]
     },
     "execution_count": 28,
     "metadata": {},
     "output_type": "execute_result"
    },
    {
     "data": {
      "image/png": "[encoded data removed]",
      "text/plain": [
       "<Figure size 360x360 with 1 Axes>"
      ]
     },
     "metadata": {
      "needs_background": "light"
     },
     "output_type": "display_data"
    }
   ],
   "source": [
    "sns.lmplot('SqrtLotArea', 'LotFrontage', data=train)"
   ]
  },
  {
   "cell_type": "code",
   "execution_count": 29,
   "metadata": {},
   "outputs": [
    {
     "name": "stderr",
     "output_type": "stream",
     "text": [
      "C:\\Users\\lizhi\\Anaconda2\\envs\\py36\\lib\\site-packages\\scipy\\stats\\stats.py:1713: FutureWarning: Using a non-tuple sequence for multidimensional indexing is deprecated; use `arr[tuple(seq)]` instead of `arr[seq]`. In the future this will be interpreted as an array index, `arr[np.array(seq)]`, which will result either in an error or a different result.\n",
      "  return np.add.reduce(sorted[indexer] * weights, axis=axis) / sumval\n"
     ]
    },
    {
     "data": {
      "text/plain": [
       "<seaborn.axisgrid.JointGrid at 0x1e9517b9ac8>"
      ]
     },
     "execution_count": 29,
     "metadata": {},
     "output_type": "execute_result"
    },
    {
     "data": {
      "image/png": "[encoded data removed]",
      "text/plain": [
       "<Figure size 432x432 with 3 Axes>"
      ]
     },
     "metadata": {
      "needs_background": "light"
     },
     "output_type": "display_data"
    }
   ],
   "source": [
    "sns.jointplot('SqrtLotArea', 'LotFrontage', data=train)"
   ]
  },
  {
   "cell_type": "code",
   "execution_count": 30,
   "metadata": {},
   "outputs": [
    {
     "name": "stderr",
     "output_type": "stream",
     "text": [
      "C:\\Users\\lizhi\\Anaconda2\\envs\\py36\\lib\\site-packages\\ipykernel_launcher.py:2: SettingWithCopyWarning: \n",
      "A value is trying to be set on a copy of a slice from a DataFrame\n",
      "\n",
      "See the caveats in the documentation: http://pandas.pydata.org/pandas-docs/stable/indexing.html#indexing-view-versus-copy\n",
      "  \n"
     ]
    }
   ],
   "source": [
    "filter = train['LotFrontage'].isnull()\n",
    "train.LotFrontage[filter]=0.6 * train.SqrtLotArea[filter]"
   ]
  },
  {
   "cell_type": "code",
   "execution_count": 31,
   "metadata": {},
   "outputs": [
    {
     "data": {
      "text/plain": [
       "0       False\n",
       "1       False\n",
       "2       False\n",
       "3       False\n",
       "4       False\n",
       "5       False\n",
       "6       False\n",
       "7       False\n",
       "8       False\n",
       "9       False\n",
       "10      False\n",
       "11      False\n",
       "12      False\n",
       "13      False\n",
       "14      False\n",
       "15      False\n",
       "16      False\n",
       "17      False\n",
       "18      False\n",
       "19      False\n",
       "20      False\n",
       "21      False\n",
       "22      False\n",
       "23      False\n",
       "24      False\n",
       "25      False\n",
       "26      False\n",
       "27      False\n",
       "28      False\n",
       "29      False\n",
       "        ...  \n",
       "1430    False\n",
       "1431    False\n",
       "1432    False\n",
       "1433    False\n",
       "1434    False\n",
       "1435    False\n",
       "1436    False\n",
       "1437    False\n",
       "1438    False\n",
       "1439    False\n",
       "1440    False\n",
       "1441    False\n",
       "1442    False\n",
       "1443    False\n",
       "1444    False\n",
       "1445    False\n",
       "1446    False\n",
       "1447    False\n",
       "1448    False\n",
       "1449    False\n",
       "1450    False\n",
       "1451    False\n",
       "1452    False\n",
       "1453    False\n",
       "1454    False\n",
       "1455    False\n",
       "1456    False\n",
       "1457    False\n",
       "1458    False\n",
       "1459    False\n",
       "Name: LotFrontage, Length: 1460, dtype: bool"
      ]
     },
     "execution_count": 31,
     "metadata": {},
     "output_type": "execute_result"
    }
   ],
   "source": [
    "filter = train['LotFrontage'].isnull()\n",
    "filter"
   ]
  },
  {
   "cell_type": "code",
   "execution_count": null,
   "metadata": {},
   "outputs": [],
   "source": []
  },
  {
   "cell_type": "code",
   "execution_count": null,
   "metadata": {},
   "outputs": [],
   "source": []
  },
  {
   "cell_type": "code",
   "execution_count": null,
   "metadata": {},
   "outputs": [],
   "source": []
  },
  {
   "cell_type": "code",
   "execution_count": null,
   "metadata": {},
   "outputs": [],
   "source": []
  },
  {
   "cell_type": "code",
   "execution_count": null,
   "metadata": {},
   "outputs": [],
   "source": []
  },
  {
   "cell_type": "code",
   "execution_count": null,
   "metadata": {},
   "outputs": [],
   "source": []
  },
  {
   "cell_type": "code",
   "execution_count": null,
   "metadata": {},
   "outputs": [],
   "source": []
  },
  {
   "cell_type": "code",
   "execution_count": null,
   "metadata": {},
   "outputs": [],
   "source": []
  }
 ],
 "metadata": {
  "kernelspec": {
   "display_name": "py36",
   "language": "python",
   "name": "py36"
  },
  "language_info": {
   "codemirror_mode": {
    "name": "ipython",
    "version": 3
   },
   "file_extension": ".py",
   "mimetype": "text/x-python",
   "name": "python",
   "nbconvert_exporter": "python",
   "pygments_lexer": "ipython3",
   "version": "3.6.7"
  }
 },
 "nbformat": 4,
 "nbformat_minor": 2
}
