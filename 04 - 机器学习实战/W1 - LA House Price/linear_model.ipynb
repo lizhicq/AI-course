{
 "cells": [
  {
   "cell_type": "code",
   "execution_count": 8,
   "metadata": {},
   "outputs": [],
   "source": [
    "import numpy as np \n",
    "import math \n",
    "from sklearn.metrics import mean_squared_error"
   ]
  },
  {
   "cell_type": "markdown",
   "metadata": {},
   "source": [
    "### 数据准备部分"
   ]
  },
  {
   "cell_type": "code",
   "execution_count": 9,
   "metadata": {},
   "outputs": [
    {
     "name": "stdout",
     "output_type": "stream",
     "text": [
      "<class 'numpy.ndarray'>\n"
     ]
    }
   ],
   "source": [
    "def shuffle_data(X,y,seed=None):\n",
    "    \"将X和y的数据进行随机排序/乱序化\"\n",
    "    if seed:\n",
    "        np.random.seed(seed)\n",
    "    idx=np.arange(X.shape[0])\n",
    "    print(type(idx))\n",
    "    np.random.shuffle(idx)\n",
    "    return X[idx],y[idx] #对于np.array，idx作为index数组可以改变array的顺序\n",
    "\n",
    "def train_test_split(X,y,test_size=0.5,shuffle=True,seed=None):\n",
    "    '将数据集根据test_size分成训练集和测试集，可以指定是否随机洗牌'\n",
    "    if shuffle:\n",
    "        X,y=shuffle_data(X,y,seed)\n",
    "    split_i=len(y)-int(len(y)//(1/test_size))\n",
    "    #split_i=len(y)-int(len(y)*test_size)\n",
    "    X_train,X_test=X[:split_i],X[split_i:]\n",
    "    y_train,y_test=y[:split_i],y[split_i:]\n",
    "    \n",
    "    return X_train,X_test,y_train,y_test\n",
    "\n",
    "from sklearn.datasets import make_regression\n",
    "import matplotlib.pylab as plt\n",
    "\n",
    "X,y=make_regression(n_samples=100,n_features=1,noise=20)\n",
    "\n",
    "X_train,X_test,y_train,y_test=train_test_split(X,y,test_size=0.2)"
   ]
  },
  {
   "cell_type": "markdown",
   "metadata": {},
   "source": [
    "因为使用make_regression函数使得X乱序，在绘制matplot的图像时会有问题，所以对于X进行排序"
   ]
  },
  {
   "cell_type": "code",
   "execution_count": 10,
   "metadata": {},
   "outputs": [],
   "source": [
    "s=sorted([(X_test[i][0],y_test[i]) for i in range(len(X_test))],key=lambda j:j[0])\n",
    "\n",
    "X_test=np.array([[j[0]] for j in s])\n",
    "y_test=np.array([j[1] for j in s])"
   ]
  },
  {
   "cell_type": "markdown",
   "metadata": {},
   "source": [
    "## 线性回归"
   ]
  },
  {
   "cell_type": "code",
   "execution_count": 11,
   "metadata": {},
   "outputs": [],
   "source": [
    "class Regression(object):\n",
    "    \n",
    "    \"\"\"\n",
    "        基础线性回归模型，使用输入的X和y进行参数回归\n",
    "        超参：\n",
    "        n_iterations:int 训练的步数\n",
    "        learning_rate:float 学习率\n",
    "        内部函数:\n",
    "        initialize_weights:初始化参数\n",
    "        fit:开始训练\n",
    "        predict:预测\n",
    "        内部的数据:\n",
    "        n_iterations\n",
    "        learning_rate\n",
    "        regularization:正则化参数\n",
    "        regularization.grad:正则化的梯度函数\n",
    "    \"\"\"\n",
    "    \n",
    "    def __init__(self,n_iterations,learning_rate):\n",
    "        self.n_iterations=n_iterations\n",
    "        self.learning_rate=learning_rate\n",
    "        self.regularization=lambda x:0\n",
    "        self.regularization.grad=lambda x:0\n",
    "    \n",
    "    def initialize_weights(self,n_features):\n",
    "        \"\"\"初始化系数，输入是feature的个数，输出是一个随机初始化好的参数矩阵,[-1/sqrt(N),1/sqrt(N)]\"\"\"\n",
    "        limit=1/math.sqrt(n_features)\n",
    "        self.w=np.random.uniform(-limit,limit,(n_features,))\n",
    "        # Uniform Distribution/Xavier/MSRA\n",
    "        \n",
    "        \n",
    "    def fit(self,X,y):\n",
    "        #插入偏置列1到X中\n",
    "        X=np.insert(X,0,1,axis=1)#给每一行的第0列增加一个1\n",
    "        self.training_errors=[]#保存每一次步长的训练Loss\n",
    "        self.initialize_weights(n_features=X.shape[1])#初始化参数w\n",
    "        \n",
    "        #进行梯度下降迭代\n",
    "        for i in range(self.n_iterations):\n",
    "            y_pred=X.dot(self.w)#进行预测\n",
    "            #计算Loss\n",
    "            mse=np.mean(0.5*(y-y_pred)**2+self.regularization(self.w))\n",
    "            self.training_errors.append(mse)#将Loss加入到training_errors的数组中\n",
    "            #计算带有正则化项的梯度\n",
    "            g_w=-(y-y_pred).T.dot(X)/len(X)+self.regularization.grad(self.w)\n",
    "            #根据梯度下降的算法更新参数\n",
    "            self.w-=self.learning_rate*g_w\n",
    "            \n",
    "    def predict(self,X):\n",
    "        #通过输入X预测一个样本\n",
    "        X=np.insert(X,0,1,axis=1)\n",
    "        pred=X.dot(self.w)\n",
    "        return pred\n",
    "    "
   ]
  },
  {
   "cell_type": "code",
   "execution_count": 12,
   "metadata": {},
   "outputs": [
    {
     "data": {
      "text/plain": [
       "array([ 3.04901402, 66.95531265])"
      ]
     },
     "execution_count": 12,
     "metadata": {},
     "output_type": "execute_result"
    },
    {
     "data": {
      "image/png": "[encoded data removed]",
      "text/plain": [
       "<Figure size 432x288 with 1 Axes>"
      ]
     },
     "metadata": {
      "needs_background": "light"
     },
     "output_type": "display_data"
    }
   ],
   "source": [
    "model=Regression(n_iterations=1000,learning_rate=0.01)\n",
    "\n",
    "model.fit(X_train,y_train)\n",
    "\n",
    "training,=plt.plot(range(len(model.training_errors)),model.training_errors,label=\"Training Error\")\n",
    "plt.title(\"Linear Regression Training Error\")\n",
    "plt.ylabel(\"Train-Loss\")\n",
    "plt.xlabel(\"Steps\")\n",
    "\n",
    "model.w"
   ]
  },
  {
   "cell_type": "markdown",
   "metadata": {},
   "source": [
    "### 评价模型"
   ]
  },
  {
   "cell_type": "code",
   "execution_count": 13,
   "metadata": {},
   "outputs": [
    {
     "data": {
      "text/plain": [
       "[<matplotlib.lines.Line2D at 0x20d3a493e10>]"
      ]
     },
     "execution_count": 13,
     "metadata": {},
     "output_type": "execute_result"
    },
    {
     "data": {
      "image/png": "[encoded data removed]",
      "text/plain": [
       "<Figure size 432x288 with 1 Axes>"
      ]
     },
     "metadata": {
      "needs_background": "light"
     },
     "output_type": "display_data"
    }
   ],
   "source": [
    "y_pred=model.predict(X_test)\n",
    "\n",
    "mse=mean_squared_error(y_pred,y_test)\n",
    "\n",
    "mse\n",
    "\n",
    "plt.plot(X_test,y_test,'k.')\n",
    "plt.plot(X_test,y_pred,'Y')"
   ]
  },
  {
   "cell_type": "markdown",
   "metadata": {},
   "source": [
    "### 带有最小二乘法的线性回归"
   ]
  },
  {
   "cell_type": "code",
   "execution_count": 53,
   "metadata": {},
   "outputs": [],
   "source": [
    "def lsm_function(X,y):\n",
    "    G=np.mat(np.insert(X,0,1,axis=1))\n",
    "    return np.squeeze(np.asarray((G.T.dot(G)).I.dot(G.T).dot(y)))"
   ]
  },
  {
   "cell_type": "code",
   "execution_count": 54,
   "metadata": {},
   "outputs": [
    {
     "data": {
      "text/plain": [
       "array([ 1.76645796, 28.96240671])"
      ]
     },
     "execution_count": 54,
     "metadata": {},
     "output_type": "execute_result"
    }
   ],
   "source": [
    "lsm_function(X_train,y_train)"
   ]
  },
  {
   "cell_type": "code",
   "execution_count": 55,
   "metadata": {},
   "outputs": [],
   "source": [
    "class LinearRegression(Regression):\n",
    "    \"\"\"带有最小二乘法的线性回归\n",
    "    参数:\n",
    "    -------------\n",
    "    n_iterations\n",
    "    \n",
    "    learning_rate\n",
    "    \n",
    "    gradient_descent:bool \n",
    "        决定是否使用梯度下降法，如果是True则使用梯度下降，False使用最小二乘\n",
    "    \"\"\"\n",
    "    def __init__(self,n_iterations=500,learning_rate=0.1,gradient_descent=True):\n",
    "        self.gradient_descent=gradient_descent\n",
    "        self.regularization=lambda x:0\n",
    "        self.regularization.grad=lambda x:0\n",
    "        super(LinearRegression,self).__init__(n_iterations=n_iterations,learning_rate=learning_rate)\n",
    "    \n",
    "    def fit(self,X,y):\n",
    "        if not self.gradient_descent:\n",
    "            self.w=lsm_function(X,y)\n",
    "        else:\n",
    "            super(LinearRegression,self).fit(X,y)\n",
    "    \n",
    "    def predict(self,X):\n",
    "        return super(LinearRegression,self).predict(X)\n",
    "        "
   ]
  },
  {
   "cell_type": "code",
   "execution_count": 56,
   "metadata": {},
   "outputs": [],
   "source": [
    "model=LinearRegression(n_iterations=1000,learning_rate=0.1,gradient_descent=False)"
   ]
  },
  {
   "cell_type": "code",
   "execution_count": 57,
   "metadata": {},
   "outputs": [],
   "source": [
    "model.fit(X_train,y_train)"
   ]
  },
  {
   "cell_type": "code",
   "execution_count": 58,
   "metadata": {},
   "outputs": [
    {
     "data": {
      "text/plain": [
       "array([ 1.76645796, 28.96240671])"
      ]
     },
     "execution_count": 58,
     "metadata": {},
     "output_type": "execute_result"
    }
   ],
   "source": [
    "model.w"
   ]
  },
  {
   "cell_type": "code",
   "execution_count": 59,
   "metadata": {},
   "outputs": [],
   "source": [
    "def test_and_draw(model):\n",
    "    y_pred=model.predict(X_test)\n",
    "    mse=mean_squared_error(y_test,y_pred)\n",
    "    print(\"方差:\",mse)\n",
    "    plt.plot(X_test,y_test,'k.')\n",
    "    plt.plot(X_test,y_pred,'Y')"
   ]
  },
  {
   "cell_type": "code",
   "execution_count": 60,
   "metadata": {},
   "outputs": [
    {
     "name": "stdout",
     "output_type": "stream",
     "text": [
      "方差: 269.13175647924027\n"
     ]
    },
    {
     "data": {
      "image/png": "[encoded data removed]",
      "text/plain": [
       "<Figure size 432x288 with 1 Axes>"
      ]
     },
     "metadata": {
      "needs_background": "light"
     },
     "output_type": "display_data"
    }
   ],
   "source": [
    "test_and_draw(model)"
   ]
  },
  {
   "cell_type": "markdown",
   "metadata": {},
   "source": [
    "## 正则化回归"
   ]
  },
  {
   "cell_type": "code",
   "execution_count": 4,
   "metadata": {},
   "outputs": [],
   "source": [
    "class l1_regularization():\n",
    "    \"\"\"L1正则化类/函数\n",
    "    参数:\n",
    "    \n",
    "    alpha--L1正则化系数\n",
    "    \"\"\"\n",
    "    def __init__(self,alpha):\n",
    "        self.alpha=alpha\n",
    "    def __call__(self,w):\n",
    "        return self.alpha*np.linalg.norm(w,ord=1)\n",
    "    def grad(self,w):\n",
    "        #w>0->w`=1;w<0->w`=0;w==0->w`=0\n",
    "        return self.alpha*np.sign(w)"
   ]
  },
  {
   "cell_type": "code",
   "execution_count": 72,
   "metadata": {},
   "outputs": [],
   "source": [
    "l1=l1_regularization(alpha=0.01)"
   ]
  },
  {
   "cell_type": "code",
   "execution_count": 73,
   "metadata": {},
   "outputs": [
    {
     "data": {
      "text/plain": [
       "0.07"
      ]
     },
     "execution_count": 73,
     "metadata": {},
     "output_type": "execute_result"
    }
   ],
   "source": [
    "l1([-3,4])"
   ]
  },
  {
   "cell_type": "code",
   "execution_count": 75,
   "metadata": {},
   "outputs": [
    {
     "data": {
      "text/plain": [
       "array([-0.01,  0.01,  0.  ])"
      ]
     },
     "execution_count": 75,
     "metadata": {},
     "output_type": "execute_result"
    }
   ],
   "source": [
    "l1.grad([-3,4,0])"
   ]
  },
  {
   "cell_type": "markdown",
   "metadata": {},
   "source": [
    "### L2正则化参数"
   ]
  },
  {
   "cell_type": "code",
   "execution_count": 5,
   "metadata": {},
   "outputs": [
    {
     "ename": "NameError",
     "evalue": "name 'X_train' is not defined",
     "output_type": "error",
     "traceback": [
      "\u001b[1;31m---------------------------------------------------------------------------\u001b[0m",
      "\u001b[1;31mNameError\u001b[0m                                 Traceback (most recent call last)",
      "\u001b[1;32m<ipython-input-5-acc3f155fd64>\u001b[0m in \u001b[0;36m<module>\u001b[1;34m\u001b[0m\n\u001b[0;32m     26\u001b[0m \u001b[0mmodel\u001b[0m\u001b[1;33m=\u001b[0m\u001b[0mLassoLinearRegression\u001b[0m\u001b[1;33m(\u001b[0m\u001b[0malpha\u001b[0m\u001b[1;33m=\u001b[0m\u001b[1;36m120\u001b[0m\u001b[1;33m,\u001b[0m\u001b[0mn_iterations\u001b[0m\u001b[1;33m=\u001b[0m\u001b[1;36m1000\u001b[0m\u001b[1;33m,\u001b[0m\u001b[0mlearning_rate\u001b[0m\u001b[1;33m=\u001b[0m\u001b[1;36m0.1\u001b[0m\u001b[1;33m)\u001b[0m\u001b[1;33m\u001b[0m\u001b[1;33m\u001b[0m\u001b[0m\n\u001b[0;32m     27\u001b[0m \u001b[1;33m\u001b[0m\u001b[0m\n\u001b[1;32m---> 28\u001b[1;33m \u001b[0mmodel\u001b[0m\u001b[1;33m.\u001b[0m\u001b[0mfit\u001b[0m\u001b[1;33m(\u001b[0m\u001b[0mX_train\u001b[0m\u001b[1;33m,\u001b[0m\u001b[0my_train\u001b[0m\u001b[1;33m)\u001b[0m\u001b[1;33m\u001b[0m\u001b[1;33m\u001b[0m\u001b[0m\n\u001b[0m\u001b[0;32m     29\u001b[0m \u001b[1;33m\u001b[0m\u001b[0m\n\u001b[0;32m     30\u001b[0m \u001b[0mmodel\u001b[0m\u001b[1;33m.\u001b[0m\u001b[0mw\u001b[0m\u001b[1;33m\u001b[0m\u001b[1;33m\u001b[0m\u001b[0m\n",
      "\u001b[1;31mNameError\u001b[0m: name 'X_train' is not defined"
     ]
    }
   ],
   "source": [
    "class l2_regularization():\n",
    "    \"\"\"L2正则化参数\n",
    "    参数：\n",
    "    \n",
    "    alpha 正则化系数\n",
    "    \"\"\"\n",
    "    def __init__(self,alpha):\n",
    "        self.alpha=alpha\n",
    "    \n",
    "    def __call__(self,w):\n",
    "        return self.alpha*0.5*w.T.dot(w)\n",
    "    \n",
    "    def grad(self,w):\n",
    "        return self.alpha*w\n",
    "\n",
    "class LassoLinearRegression(Regression):\n",
    "    def __init__(self,alpha,n_iterations=1000,learning_rate=0.01):\n",
    "        self.regularization=l1_regularization(alpha=alpha)\n",
    "        super(LassoLinearRegression,self).__init__(n_iterations,learning_rate)\n",
    "        \n",
    "    def fit(self,X,y):\n",
    "        super(LassoLinearRegression,self).fit(X,y)\n",
    "    def predict(self,X):\n",
    "        return super(LassoLinearRegression,self).predict(X)\n",
    "\n",
    "model=LassoLinearRegression(alpha=120,n_iterations=1000,learning_rate=0.1)\n",
    "\n",
    "model.fit(X_train,y_train)\n",
    "\n",
    "model.w\n",
    "\n",
    "test_and_draw(model)"
   ]
  },
  {
   "cell_type": "code",
   "execution_count": null,
   "metadata": {},
   "outputs": [],
   "source": []
  }
 ],
 "metadata": {
  "kernelspec": {
   "display_name": "py36",
   "language": "python",
   "name": "py36"
  },
  "language_info": {
   "codemirror_mode": {
    "name": "ipython",
    "version": 3
   },
   "file_extension": ".py",
   "mimetype": "text/x-python",
   "name": "python",
   "nbconvert_exporter": "python",
   "pygments_lexer": "ipython3",
   "version": "3.6.7"
  }
 },
 "nbformat": 4,
 "nbformat_minor": 2
}
