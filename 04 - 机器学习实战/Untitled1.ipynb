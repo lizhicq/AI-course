{
 "cells": [
  {
   "cell_type": "code",
   "execution_count": 17,
   "metadata": {},
   "outputs": [],
   "source": [
    "import xgboost as xgb\n",
    "import pandas as pd\n",
    "import numpy as np \n",
    "from sklearn.model_selection import train_test_split\n",
    "from sklearn.metrics import mean_squared_error\n",
    "train=pd.read_csv('./data/train_1.csv')\n",
    "\n",
    "def benchmark1(model,testset,label):\n",
    "    pred=model.predict(testset)\n",
    "    if pred[pred<0].shape[0]>0:\n",
    "        print('Neg Value')\n",
    "    rmse=np.sqrt(mean_squared_error(label,pred))\n",
    "    lrmse=np.sqrt(mean_squared_error(np.log(label),np.log(pred)))\n",
    "\n",
    "    print('RMSE:',rmse)\n",
    "    print('LRMSE:',lrmse)\n",
    "    return lrmse"
   ]
  },
  {
   "cell_type": "code",
   "execution_count": 21,
   "metadata": {},
   "outputs": [
    {
     "name": "stdout",
     "output_type": "stream",
     "text": [
      "RMSE: 26569.99850416466\n",
      "LRMSE: 0.11250405472198952\n"
     ]
    }
   ],
   "source": [
    "def TestDataSet(train):\n",
    "    y = train['SalePrice']\n",
    "    train2 = train.drop(['SalePrice'], axis=1)\n",
    "    X = pd.get_dummies(train2)\n",
    "    X_train, X_test, y_train, y_test = train_test_split(X, y, test_size=.2, random_state=123)\n",
    "    xg_reg = xgb.XGBRegressor(objective='reg:linear',colsample_bytree=0.7,learning_rate=0.2)\n",
    "    xg_reg.fit(X_train, y_train)\n",
    "    benchmark1(xg_reg, X_test, y_test)\n",
    "\n",
    "TestDataSet(train)"
   ]
  },
  {
   "cell_type": "code",
   "execution_count": 11,
   "metadata": {},
   "outputs": [],
   "source": [
    "x = train.corr()['SalePrice']"
   ]
  },
  {
   "cell_type": "markdown",
   "metadata": {},
   "source": [
    "## 去掉极弱相关(|corr| < 0.3)"
   ]
  },
  {
   "cell_type": "code",
   "execution_count": null,
   "metadata": {},
   "outputs": [],
   "source": [
    "TestDataSet(train.drop(x[abs(x)<0.3].index.tolist(), axis=1))"
   ]
  },
  {
   "cell_type": "code",
   "execution_count": 1,
   "metadata": {},
   "outputs": [],
   "source": [
    "#scale_pos_weight=1, 用来调整正负样本的不平衡, 改变的是learning_rate"
   ]
  },
  {
   "cell_type": "code",
   "execution_count": 24,
   "metadata": {},
   "outputs": [
    {
     "name": "stdout",
     "output_type": "stream",
     "text": [
      "RMSE: 0.10668233675396087\n",
      "LRMSE: 0.008955873161179177\n"
     ]
    }
   ],
   "source": [
    "#使用降次函数\n",
    "def TestDataSet2(train):\n",
    "    y = np.log(train['SalePrice'])\n",
    "    train2 = train.drop(['Id','SalePrice'], axis=1)\n",
    "    X = pd.get_dummies(train2)\n",
    "    X_train, X_test, y_train, y_test = train_test_split(X, y, test_size=.2, random_state=123)\n",
    "    xg_reg = xgb.XGBRegressor(objective='reg:linear',colsample_bytree=0.7,learning_rate=0.01, max_depth=3, n_estimators=3000)\n",
    "    xg_reg.fit(X_train, y_train)\n",
    "    benchmark1(xg_reg, X_test, y_test)\n",
    "\n",
    "TestDataSet2(train)"
   ]
  },
  {
   "cell_type": "code",
   "execution_count": 27,
   "metadata": {},
   "outputs": [
    {
     "name": "stdout",
     "output_type": "stream",
     "text": [
      "0.10727280106367015\n"
     ]
    }
   ],
   "source": [
    "#使用降次函数\n",
    "def TestDataSet3(train):\n",
    "    y = np.sqrt(train['SalePrice'])\n",
    "    train2 = train.drop(['Id','SalePrice'], axis=1)\n",
    "    X = pd.get_dummies(train2)\n",
    "    X_train, X_test, y_train, y_test = train_test_split(X, y, test_size=0.2, random_state=123)\n",
    "    xg_reg = xgb.XGBRegressor(objective='reg:linear',colsample_bytree=0.7,learning_rate=0.01, max_depth=3, n_estimators=3000)\n",
    "    xg_reg.fit(X_train, y_train)\n",
    "    #benchmark1(xg_reg, X_test, y_test)\n",
    "    pred = xg_reg.predict(X_test)\n",
    "    pred = pred**2\n",
    "    y_test = y_test**2\n",
    "    print(np.sqrt(mean_squared_error(np.log(pred), np.log(y_test))))\n",
    "TestDataSet3(train)"
   ]
  },
  {
   "cell_type": "code",
   "execution_count": 28,
   "metadata": {},
   "outputs": [
    {
     "name": "stdout",
     "output_type": "stream",
     "text": [
      "0.1068914479257738\n"
     ]
    }
   ],
   "source": [
    "TestDataSet3(train.drop(x[(x<0.1) & (x>0)].index.to_list(), axis=1))"
   ]
  },
  {
   "cell_type": "markdown",
   "metadata": {},
   "source": [
    "## 小结\n",
    "1. 适当去掉低相关的列，可能会提升预测的分数--因为去掉噪声；然而也可以去掉更多的信息量\n",
    "2. 适当变换最终目标的偏态形式，可能回提升预测的分数；然而如果调整的幅度过大，过滤掉更多的信息量\n",
    "3. "
   ]
  },
  {
   "cell_type": "code",
   "execution_count": null,
   "metadata": {},
   "outputs": [],
   "source": []
  },
  {
   "cell_type": "code",
   "execution_count": null,
   "metadata": {},
   "outputs": [],
   "source": []
  },
  {
   "cell_type": "code",
   "execution_count": null,
   "metadata": {},
   "outputs": [],
   "source": []
  },
  {
   "cell_type": "code",
   "execution_count": null,
   "metadata": {},
   "outputs": [],
   "source": []
  },
  {
   "cell_type": "code",
   "execution_count": null,
   "metadata": {},
   "outputs": [],
   "source": []
  },
  {
   "cell_type": "code",
   "execution_count": null,
   "metadata": {},
   "outputs": [],
   "source": []
  },
  {
   "cell_type": "code",
   "execution_count": null,
   "metadata": {},
   "outputs": [],
   "source": []
  },
  {
   "cell_type": "code",
   "execution_count": null,
   "metadata": {},
   "outputs": [],
   "source": []
  },
  {
   "cell_type": "code",
   "execution_count": null,
   "metadata": {},
   "outputs": [],
   "source": []
  },
  {
   "cell_type": "code",
   "execution_count": null,
   "metadata": {},
   "outputs": [],
   "source": []
  },
  {
   "cell_type": "code",
   "execution_count": null,
   "metadata": {},
   "outputs": [],
   "source": []
  },
  {
   "cell_type": "code",
   "execution_count": null,
   "metadata": {},
   "outputs": [],
   "source": []
  },
  {
   "cell_type": "code",
   "execution_count": null,
   "metadata": {},
   "outputs": [],
   "source": []
  },
  {
   "cell_type": "code",
   "execution_count": null,
   "metadata": {},
   "outputs": [],
   "source": []
  },
  {
   "cell_type": "code",
   "execution_count": null,
   "metadata": {},
   "outputs": [],
   "source": []
  },
  {
   "cell_type": "code",
   "execution_count": null,
   "metadata": {},
   "outputs": [],
   "source": []
  },
  {
   "cell_type": "code",
   "execution_count": null,
   "metadata": {},
   "outputs": [],
   "source": []
  },
  {
   "cell_type": "code",
   "execution_count": null,
   "metadata": {},
   "outputs": [],
   "source": []
  }
 ],
 "metadata": {
  "kernelspec": {
   "display_name": "py37",
   "language": "python",
   "name": "python3"
  },
  "language_info": {
   "codemirror_mode": {
    "name": "ipython",
    "version": 3
   },
   "file_extension": ".py",
   "mimetype": "text/x-python",
   "name": "python",
   "nbconvert_exporter": "python",
   "pygments_lexer": "ipython3",
   "version": "3.7.1"
  }
 },
 "nbformat": 4,
 "nbformat_minor": 2
}
