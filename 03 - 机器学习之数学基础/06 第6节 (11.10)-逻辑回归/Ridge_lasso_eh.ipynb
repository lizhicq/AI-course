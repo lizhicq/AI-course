{
 "cells": [
  {
   "cell_type": "code",
   "execution_count": 1,
   "metadata": {
    "collapsed": true
   },
   "outputs": [],
   "source": [
    "import pandas as pd\n",
    "import numpy as np\n",
    "from random import choice  \n",
    "import matplotlib.pyplot as plt\n",
    "from sklearn.preprocessing import PolynomialFeatures\n",
    "from sklearn.linear_model import LinearRegression, Ridge, Lasso, ElasticNet"
   ]
  },
  {
   "cell_type": "code",
   "execution_count": 2,
   "metadata": {
    "collapsed": false
   },
   "outputs": [],
   "source": [
    "def create_points():\n",
    "    n=5\n",
    "    x = np.linspace(0,9,n)\n",
    "    y2 = x*x - 10*x+2 + np.random.randn(n)# 构造函数\n",
    "    return x,y2"
   ]
  },
  {
   "cell_type": "code",
   "execution_count": 3,
   "metadata": {
    "collapsed": true
   },
   "outputs": [],
   "source": [
    "def create_test():\n",
    "    n=150\n",
    "    xtest = np.linspace(0,9,n)\n",
    "    ytest = xtest*xtest - 10*xtest + 2 + np.random.randn(n)# x^2 + x +2 \n",
    "    return xtest,ytest"
   ]
  },
  {
   "cell_type": "code",
   "execution_count": 4,
   "metadata": {
    "collapsed": true
   },
   "outputs": [],
   "source": [
    "def ploy_info():\n",
    "    poly1 = PolynomialFeatures(1)\n",
    "    poly2 = PolynomialFeatures(2)\n",
    "    polym = PolynomialFeatures(7)\n",
    "    return poly1,poly2,polym"
   ]
  },
  {
   "cell_type": "code",
   "execution_count": null,
   "metadata": {
    "collapsed": true
   },
   "outputs": [],
   "source": [
    "[x1,x2] -> [1,x1,x2,x1^2,x1*x2,x2^2]"
   ]
  },
  {
   "cell_type": "code",
   "execution_count": 8,
   "metadata": {
    "collapsed": true
   },
   "outputs": [],
   "source": [
    "xtrain,ytrain=create_points()\n",
    "xtest,ytest = create_test()"
   ]
  },
  {
   "cell_type": "code",
   "execution_count": 9,
   "metadata": {
    "collapsed": false
   },
   "outputs": [],
   "source": [
    "poly1,poly2,polym = ploy_info()"
   ]
  },
  {
   "cell_type": "code",
   "execution_count": 11,
   "metadata": {
    "collapsed": false
   },
   "outputs": [],
   "source": [
    "## 一阶\n",
    "xtrain_ploy1 = poly1.fit_transform(xtrain.reshape(-1,1))\n",
    "\n",
    "linemodel_ploy1 = LinearRegression()\n",
    "\n",
    "linemodel_ploy1.fit(xtrain_ploy1,ytrain) # train\n",
    "\n",
    "ploy1_pred = linemodel_ploy1.predict(poly1.transform(xtest.reshape(-1,1)))"
   ]
  },
  {
   "cell_type": "code",
   "execution_count": 12,
   "metadata": {
    "collapsed": false
   },
   "outputs": [],
   "source": [
    "# 二阶\n",
    "xtrain_ploy2 = poly2.fit_transform(xtrain.reshape(-1,1))\n",
    "\n",
    "linemodel_ploy2 = LinearRegression()\n",
    "\n",
    "linemodel_ploy2.fit(xtrain_ploy2,ytrain)\n",
    "\n",
    "ploy2_pred = linemodel_ploy2.predict(poly2.transform(xtest.reshape(-1,1)))"
   ]
  },
  {
   "cell_type": "code",
   "execution_count": 13,
   "metadata": {
    "collapsed": false
   },
   "outputs": [],
   "source": [
    "# 多阶\n",
    "xtrain_polym = polym.fit_transform(xtrain.reshape(-1,1))\n",
    "\n",
    "linemodel_polym = LinearRegression()\n",
    "\n",
    "linemodel_polym.fit(xtrain_polym,ytrain)\n",
    "\n",
    "polym_pred = linemodel_polym.predict(polym.transform(xtest.reshape(-1,1)))"
   ]
  },
  {
   "cell_type": "code",
   "execution_count": 14,
   "metadata": {
    "collapsed": false
   },
   "outputs": [
    {
     "data": {
      "image/png": "[encoded data removed]",
      "text/plain": [
       "<matplotlib.figure.Figure at 0x10a27c400>"
      ]
     },
     "metadata": {},
     "output_type": "display_data"
    }
   ],
   "source": [
    "plt0,  = plt.plot(xtrain,ytrain,'ko',label=\"true value\")\n",
    "plt1,  = plt.plot(xtest,ploy1_pred,'r',label=\"D1\")\n",
    "plt2,  = plt.plot(xtest,ploy2_pred,'b',label=\"D2\")\n",
    "plt3,  = plt.plot(xtest,polym_pred,'g',label=\"D8\")\n",
    "\n",
    "\n",
    "plt.legend(handles=[plt0, plt1, plt2, plt3])\n",
    "plt.axis([0, 10, -80, 40])\n",
    "plt.show()"
   ]
  },
  {
   "cell_type": "code",
   "execution_count": null,
   "metadata": {
    "collapsed": true
   },
   "outputs": [],
   "source": []
  },
  {
   "cell_type": "code",
   "execution_count": 35,
   "metadata": {
    "collapsed": true
   },
   "outputs": [],
   "source": [
    "## 正则化效果"
   ]
  },
  {
   "cell_type": "code",
   "execution_count": 17,
   "metadata": {
    "collapsed": true
   },
   "outputs": [],
   "source": [
    "alpha=500\n",
    "max_iter=40000"
   ]
  },
  {
   "cell_type": "code",
   "execution_count": 18,
   "metadata": {
    "collapsed": false
   },
   "outputs": [],
   "source": [
    "# Ridge\n",
    "xtrain_polym = polym.fit_transform(xtrain.reshape(-1,1))\n",
    "\n",
    "Ridge_polym = Ridge(alpha=alpha,max_iter=max_iter)\n",
    "\n",
    "Ridge_polym.fit(xtrain_polym,ytrain)\n",
    "\n",
    "Ridge_pred = Ridge_polym.predict(polym.transform(xtest.reshape(-1,1)))"
   ]
  },
  {
   "cell_type": "code",
   "execution_count": 19,
   "metadata": {
    "collapsed": false
   },
   "outputs": [],
   "source": [
    "# LASSO\n",
    "xtrain_polym = polym.fit_transform(xtrain.reshape(-1,1))\n",
    "\n",
    "Lasso_polym = Lasso(alpha=alpha,max_iter=max_iter)\n",
    "\n",
    "Lasso_polym.fit(xtrain_polym,ytrain)\n",
    "\n",
    "Lasso_pred = Lasso_polym.predict(polym.transform(xtest.reshape(-1,1)))"
   ]
  },
  {
   "cell_type": "code",
   "execution_count": 20,
   "metadata": {
    "collapsed": false
   },
   "outputs": [
    {
     "name": "stderr",
     "output_type": "stream",
     "text": [
      "/Library/Frameworks/Python.framework/Versions/3.4/lib/python3.4/site-packages/sklearn/linear_model/coordinate_descent.py:484: ConvergenceWarning: Objective did not converge. You might want to increase the number of iterations. Fitting data with very small alpha may cause precision problems.\n",
      "  ConvergenceWarning)\n"
     ]
    }
   ],
   "source": [
    "# ElasticNet\n",
    "xtrain_polym = polym.fit_transform(xtrain.reshape(-1,1))\n",
    "\n",
    "ElasticNet_polym = ElasticNet(alpha=alpha,max_iter=max_iter,l1_ratio=0.2)\n",
    "\n",
    "ElasticNet_polym.fit(xtrain_polym,ytrain)\n",
    "\n",
    "ElasticNet_pred = ElasticNet_polym.predict(polym.transform(xtest.reshape(-1,1)))"
   ]
  },
  {
   "cell_type": "code",
   "execution_count": 21,
   "metadata": {
    "collapsed": false
   },
   "outputs": [
    {
     "data": {
      "image/png": "[encoded data removed]",
      "text/plain": [
       "<matplotlib.figure.Figure at 0x10a72b6d8>"
      ]
     },
     "metadata": {},
     "output_type": "display_data"
    }
   ],
   "source": [
    "plt0,  = plt.plot(xtest,ploy2_pred,'k--',label=\"true value\")\n",
    "plt1,  = plt.plot(xtest,Ridge_pred,'r',label=\"Ridge_pred\")\n",
    "plt2,  = plt.plot(xtest,Lasso_pred,'b',label=\"Lasso_pred\")\n",
    "plt3,  = plt.plot(xtest,ElasticNet_pred,'y',label=\"ElasticNet_pred\")\n",
    "plt4,  = plt.plot(xtest,polym_pred,'g',label=\"D8\")\n",
    "\n",
    "plt.legend(handles=[plt0, plt1, plt2, plt3, plt4])\n",
    "plt.axis([0, 10, -40, 20])\n",
    "plt.show()"
   ]
  },
  {
   "cell_type": "code",
   "execution_count": 24,
   "metadata": {
    "collapsed": true
   },
   "outputs": [],
   "source": [
    "LinearRegression?"
   ]
  },
  {
   "cell_type": "code",
   "execution_count": null,
   "metadata": {
    "collapsed": true
   },
   "outputs": [],
   "source": []
  }
 ],
 "metadata": {
  "anaconda-cloud": {},
  "kernelspec": {
   "display_name": "Python 3",
   "language": "python",
   "name": "python3"
  },
  "language_info": {
   "codemirror_mode": {
    "name": "ipython",
    "version": 3
   },
   "file_extension": ".py",
   "mimetype": "text/x-python",
   "name": "python",
   "nbconvert_exporter": "python",
   "pygments_lexer": "ipython3",
   "version": "3.4.3"
  }
 },
 "nbformat": 4,
 "nbformat_minor": 2
}
