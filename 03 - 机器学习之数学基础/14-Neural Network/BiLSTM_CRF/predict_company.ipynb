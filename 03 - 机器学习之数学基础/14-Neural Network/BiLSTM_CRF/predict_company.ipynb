{
 "cells": [
  {
   "cell_type": "code",
   "execution_count": 1,
   "metadata": {},
   "outputs": [
    {
     "name": "stderr",
     "output_type": "stream",
     "text": [
      "Using TensorFlow backend.\n"
     ]
    }
   ],
   "source": [
    "from keras.models import Sequential\n",
    "from keras.layers import Embedding, Bidirectional, LSTM\n",
    "from keras_contrib.layers import CRF\n",
    "import pickle\n",
    "from keras.preprocessing.sequence import pad_sequences\n",
    "import numpy as np"
   ]
  },
  {
   "cell_type": "code",
   "execution_count": 8,
   "metadata": {},
   "outputs": [],
   "source": [
    "def loadmodel():\n",
    "    # load model 通过load_weightes导入权重\n",
    "    EMBED_DIM = 20\n",
    "    BiRNN_UNITS = 100\n",
    "\n",
    "    with open('model/config.pkl', 'rb') as inp:\n",
    "        (vocab, chunk_tags) = pickle.load(inp)\n",
    "\n",
    "    model = Sequential()\n",
    "    model.add(Embedding(len(vocab), EMBED_DIM, mask_zero=True))  # Random embedding\n",
    "    model.add(Bidirectional(LSTM(BiRNN_UNITS, return_sequences=True)))\n",
    "    crf = CRF(len(chunk_tags), sparse_target=True)\n",
    "    model.add(crf)\n",
    "    model.summary()\n",
    "    model.compile('adam', loss=crf.loss_function, metrics=[crf.accuracy])\n",
    "    model.load_weights('model/crf_company.h5')\n",
    "    return model"
   ]
  },
  {
   "cell_type": "code",
   "execution_count": 9,
   "metadata": {},
   "outputs": [],
   "source": [
    "def process_data(data, vocab, word2idx, maxlen=100):\n",
    "    x = [word2idx.get(w[0].lower(), 1) for w in data]\n",
    "    length = len(x)\n",
    "    x = pad_sequences([x], maxlen)  # left padding\n",
    "    return x, length"
   ]
  },
  {
   "cell_type": "code",
   "execution_count": 10,
   "metadata": {},
   "outputs": [],
   "source": [
    "def predicttext(vocab,word2idx,model,predict_text):\n",
    "    xdata, length = process_data(str(predict_text), vocab, word2idx)\n",
    "    raw = model.predict(xdata)[0][-length:]\n",
    "    result = [np.argmax(row) for row in raw]\n",
    "    result_tags = [chunk_tags[i] for i in result]\n",
    "    keyword = ''.join([predict_text[i] for i in range(len(predict_text)) if result_tags[i]!='O']) \n",
    "    return keyword"
   ]
  },
  {
   "cell_type": "code",
   "execution_count": 11,
   "metadata": {},
   "outputs": [
    {
     "name": "stdout",
     "output_type": "stream",
     "text": [
      "_________________________________________________________________\n",
      "Layer (type)                 Output Shape              Param #   \n",
      "=================================================================\n",
      "embedding_2 (Embedding)      (None, None, 20)          13300     \n",
      "_________________________________________________________________\n",
      "bidirectional_2 (Bidirection (None, None, 200)         96800     \n",
      "_________________________________________________________________\n",
      "crf_2 (CRF)                  (None, None, 4)           828       \n",
      "=================================================================\n",
      "Total params: 110,928\n",
      "Trainable params: 110,928\n",
      "Non-trainable params: 0\n",
      "_________________________________________________________________\n"
     ]
    }
   ],
   "source": [
    "with open('model/config.pkl', 'rb') as inp:\n",
    "    (vocab, chunk_tags) = pickle.load(inp)\n",
    "word2idx = dict((w, i) for i, w in enumerate(vocab))\n",
    "model = loadmodel()"
   ]
  },
  {
   "cell_type": "code",
   "execution_count": 12,
   "metadata": {},
   "outputs": [],
   "source": [
    "predict_text = '北京人寿保险公司'\n",
    "keyword = predicttext(vocab,word2idx,model,predict_text)"
   ]
  },
  {
   "cell_type": "code",
   "execution_count": 13,
   "metadata": {},
   "outputs": [
    {
     "data": {
      "text/plain": [
       "'北京人寿'"
      ]
     },
     "execution_count": 13,
     "metadata": {},
     "output_type": "execute_result"
    }
   ],
   "source": [
    "keyword"
   ]
  },
  {
   "cell_type": "code",
   "execution_count": null,
   "metadata": {},
   "outputs": [],
   "source": []
  },
  {
   "cell_type": "code",
   "execution_count": null,
   "metadata": {},
   "outputs": [],
   "source": []
  }
 ],
 "metadata": {
  "kernelspec": {
   "display_name": "Python 3",
   "language": "python",
   "name": "python3"
  },
  "language_info": {
   "codemirror_mode": {
    "name": "ipython",
    "version": 3
   },
   "file_extension": ".py",
   "mimetype": "text/x-python",
   "name": "python",
   "nbconvert_exporter": "python",
   "pygments_lexer": "ipython3",
   "version": "3.4.3"
  }
 },
 "nbformat": 4,
 "nbformat_minor": 2
}
