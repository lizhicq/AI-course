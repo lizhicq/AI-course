{
 "cells": [
  {
   "cell_type": "code",
   "execution_count": 1,
   "metadata": {
    "collapsed": false
   },
   "outputs": [],
   "source": [
    "import numpy as np\n",
    "import pandas as pd\n",
    "np.random.seed(10)\n",
    "import matplotlib.pyplot as plt\n",
    "from sklearn.datasets import make_classification\n",
    "from sklearn.model_selection import train_test_split\n",
    "from sklearn.ensemble import RandomForestClassifier\n",
    "from sklearn.metrics import roc_auc_score\n",
    "from sklearn.model_selection import GridSearchCV\n",
    "\n",
    "X, y = make_classification(n_samples=800)\n",
    "X_train, X_test, y_train, y_test = train_test_split(X, y, test_size=0.4)"
   ]
  },
  {
   "cell_type": "code",
   "execution_count": 3,
   "metadata": {
    "collapsed": false
   },
   "outputs": [
    {
     "data": {
      "text/plain": [
       "((800, 20), (800,))"
      ]
     },
     "execution_count": 3,
     "metadata": {},
     "output_type": "execute_result"
    }
   ],
   "source": [
    "X.shape,y.shape"
   ]
  },
  {
   "cell_type": "markdown",
   "metadata": {},
   "source": [
    "### 采用默认参数"
   ]
  },
  {
   "cell_type": "code",
   "execution_count": 5,
   "metadata": {
    "collapsed": false
   },
   "outputs": [
    {
     "name": "stdout",
     "output_type": "stream",
     "text": [
      "AUC Score (Train): 0.999931\n",
      "AUC Score (Test): 0.973297\n"
     ]
    }
   ],
   "source": [
    "rf0 = RandomForestClassifier(random_state=10)\n",
    "rf0.fit(X_train,y_train)\n",
    "y_trainprob = rf0.predict_proba(X_train)[:,1]\n",
    "y_testprob = rf0.predict_proba(X_test)[:,1]\n",
    "print (\"AUC Score (Train): %f\" % roc_auc_score(y_train, y_trainprob))\n",
    "print (\"AUC Score (Test): %f\" % roc_auc_score(y_test, y_testprob))"
   ]
  },
  {
   "cell_type": "code",
   "execution_count": 6,
   "metadata": {
    "collapsed": false
   },
   "outputs": [
    {
     "data": {
      "text/plain": [
       "<bound method RandomForestClassifier.get_params of RandomForestClassifier(bootstrap=True, class_weight=None, criterion='gini',\n",
       "            max_depth=None, max_features='auto', max_leaf_nodes=None,\n",
       "            min_impurity_split=1e-07, min_samples_leaf=1,\n",
       "            min_samples_split=2, min_weight_fraction_leaf=0.0,\n",
       "            n_estimators=10, n_jobs=1, oob_score=False, random_state=10,\n",
       "            verbose=0, warm_start=False)>"
      ]
     },
     "execution_count": 6,
     "metadata": {},
     "output_type": "execute_result"
    }
   ],
   "source": [
    "rf0.get_params"
   ]
  },
  {
   "cell_type": "code",
   "execution_count": 218,
   "metadata": {
    "collapsed": true
   },
   "outputs": [],
   "source": [
    "##  n_estimators：10， max_depth：None， min_samples_split， min_samples_leaf， max_features：\n",
    "\n",
    "# The number of features to consider when looking for the best split:\n",
    "# If int, then consider max_features features at each split.\n",
    "# If float, then max_features is a percentage and int(max_features * n_features) features are considered at each split.\n",
    "# If “auto”, then max_features=sqrt(n_features).\n",
    "# If “sqrt”, then max_features=sqrt(n_features) (same as “auto”).\n",
    "# If “log2”, then max_features=log2(n_features).\n",
    "# If None, then max_features=n_features."
   ]
  },
  {
   "cell_type": "code",
   "execution_count": 8,
   "metadata": {
    "collapsed": true
   },
   "outputs": [],
   "source": [
    "n_estimators=10\n",
    "max_depth=None\n",
    "min_samples_split=2\n",
    "min_samples_leaf=1\n",
    "max_features='auto'"
   ]
  },
  {
   "cell_type": "code",
   "execution_count": 11,
   "metadata": {
    "collapsed": false
   },
   "outputs": [],
   "source": [
    "param_test1 = {'n_estimators':range(10,101,10)}\n",
    "gsearch1 = GridSearchCV(estimator = RandomForestClassifier(min_samples_split=min_samples_split,\n",
    "                                  min_samples_leaf=min_samples_leaf,max_depth=max_depth,\n",
    "                                    max_features=max_features,random_state=10),\n",
    "                                    param_grid = param_test1, scoring='roc_auc',cv=3)"
   ]
  },
  {
   "cell_type": "code",
   "execution_count": 12,
   "metadata": {
    "collapsed": false
   },
   "outputs": [
    {
     "name": "stderr",
     "output_type": "stream",
     "text": [
      "/Users/macbook/anaconda2/lib/python2.7/site-packages/sklearn/model_selection/_search.py:667: DeprecationWarning: The grid_scores_ attribute was deprecated in version 0.18 in favor of the more elaborate cv_results_ attribute. The grid_scores_ attribute will not be available from 0.20\n",
      "  DeprecationWarning)\n"
     ]
    },
    {
     "data": {
      "text/plain": [
       "([mean: 0.96902, std: 0.00832, params: {'n_estimators': 10},\n",
       "  mean: 0.97642, std: 0.00934, params: {'n_estimators': 20},\n",
       "  mean: 0.97686, std: 0.01098, params: {'n_estimators': 30},\n",
       "  mean: 0.97807, std: 0.00981, params: {'n_estimators': 40},\n",
       "  mean: 0.97849, std: 0.01029, params: {'n_estimators': 50},\n",
       "  mean: 0.97841, std: 0.00988, params: {'n_estimators': 60},\n",
       "  mean: 0.97884, std: 0.00989, params: {'n_estimators': 70},\n",
       "  mean: 0.97861, std: 0.01010, params: {'n_estimators': 80},\n",
       "  mean: 0.97821, std: 0.00931, params: {'n_estimators': 90},\n",
       "  mean: 0.97771, std: 0.01030, params: {'n_estimators': 100}],\n",
       " {'n_estimators': 70},\n",
       " 0.9788427926158679)"
      ]
     },
     "execution_count": 12,
     "metadata": {},
     "output_type": "execute_result"
    }
   ],
   "source": [
    "gsearch1.fit(X,y)\n",
    "gsearch1.grid_scores_, gsearch1.best_params_, gsearch1.best_score_"
   ]
  },
  {
   "cell_type": "code",
   "execution_count": 13,
   "metadata": {
    "collapsed": true
   },
   "outputs": [],
   "source": [
    "n_estimators=70"
   ]
  },
  {
   "cell_type": "markdown",
   "metadata": {},
   "source": [
    "# n_estimators 查看"
   ]
  },
  {
   "cell_type": "code",
   "execution_count": 14,
   "metadata": {
    "collapsed": false
   },
   "outputs": [
    {
     "name": "stdout",
     "output_type": "stream",
     "text": [
      "AUC Score (Train): 1.000000\n",
      "AUC Score (Test): 0.983611\n"
     ]
    }
   ],
   "source": [
    "rf0 = RandomForestClassifier(n_estimators=n_estimators,random_state=10)\n",
    "rf0.fit(X_train,y_train)\n",
    "y_trainprob = rf0.predict_proba(X_train)[:,1]\n",
    "y_testprob = rf0.predict_proba(X_test)[:,1]\n",
    "print (\"AUC Score (Train): %f\" % roc_auc_score(y_train, y_trainprob))\n",
    "print (\"AUC Score (Test): %f\" % roc_auc_score(y_test, y_testprob))"
   ]
  },
  {
   "cell_type": "markdown",
   "metadata": {},
   "source": [
    "# max_depth , min_samples_split 查看"
   ]
  },
  {
   "cell_type": "code",
   "execution_count": 15,
   "metadata": {
    "collapsed": true
   },
   "outputs": [],
   "source": [
    "param_test1 = {'max_depth':range(10,41,10),'min_samples_split':range(2,11,2)}\n",
    "gsearch1 = GridSearchCV(estimator = RandomForestClassifier(\n",
    "                                  min_samples_leaf=min_samples_leaf,n_estimators=n_estimators,max_features=max_features,random_state=10),\n",
    "                                    param_grid = param_test1, scoring='roc_auc',cv=3)"
   ]
  },
  {
   "cell_type": "code",
   "execution_count": 16,
   "metadata": {
    "collapsed": false
   },
   "outputs": [
    {
     "name": "stderr",
     "output_type": "stream",
     "text": [
      "/Users/macbook/anaconda2/lib/python2.7/site-packages/sklearn/model_selection/_search.py:667: DeprecationWarning: The grid_scores_ attribute was deprecated in version 0.18 in favor of the more elaborate cv_results_ attribute. The grid_scores_ attribute will not be available from 0.20\n",
      "  DeprecationWarning)\n"
     ]
    },
    {
     "data": {
      "text/plain": [
       "([mean: 0.97886, std: 0.00932, params: {'min_samples_split': 2, 'max_depth': 10},\n",
       "  mean: 0.97910, std: 0.01029, params: {'min_samples_split': 4, 'max_depth': 10},\n",
       "  mean: 0.97987, std: 0.01060, params: {'min_samples_split': 6, 'max_depth': 10},\n",
       "  mean: 0.97970, std: 0.01209, params: {'min_samples_split': 8, 'max_depth': 10},\n",
       "  mean: 0.97838, std: 0.01280, params: {'min_samples_split': 10, 'max_depth': 10},\n",
       "  mean: 0.97884, std: 0.00989, params: {'min_samples_split': 2, 'max_depth': 20},\n",
       "  mean: 0.97967, std: 0.01005, params: {'min_samples_split': 4, 'max_depth': 20},\n",
       "  mean: 0.98015, std: 0.01082, params: {'min_samples_split': 6, 'max_depth': 20},\n",
       "  mean: 0.97945, std: 0.01215, params: {'min_samples_split': 8, 'max_depth': 20},\n",
       "  mean: 0.97843, std: 0.01256, params: {'min_samples_split': 10, 'max_depth': 20},\n",
       "  mean: 0.97884, std: 0.00989, params: {'min_samples_split': 2, 'max_depth': 30},\n",
       "  mean: 0.97967, std: 0.01005, params: {'min_samples_split': 4, 'max_depth': 30},\n",
       "  mean: 0.98015, std: 0.01082, params: {'min_samples_split': 6, 'max_depth': 30},\n",
       "  mean: 0.97945, std: 0.01215, params: {'min_samples_split': 8, 'max_depth': 30},\n",
       "  mean: 0.97843, std: 0.01256, params: {'min_samples_split': 10, 'max_depth': 30},\n",
       "  mean: 0.97884, std: 0.00989, params: {'min_samples_split': 2, 'max_depth': 40},\n",
       "  mean: 0.97967, std: 0.01005, params: {'min_samples_split': 4, 'max_depth': 40},\n",
       "  mean: 0.98015, std: 0.01082, params: {'min_samples_split': 6, 'max_depth': 40},\n",
       "  mean: 0.97945, std: 0.01215, params: {'min_samples_split': 8, 'max_depth': 40},\n",
       "  mean: 0.97843, std: 0.01256, params: {'min_samples_split': 10, 'max_depth': 40}],\n",
       " {'max_depth': 20, 'min_samples_split': 6},\n",
       " 0.9801527606329256)"
      ]
     },
     "execution_count": 16,
     "metadata": {},
     "output_type": "execute_result"
    }
   ],
   "source": [
    "gsearch1.fit(X,y)\n",
    "gsearch1.grid_scores_, gsearch1.best_params_, gsearch1.best_score_"
   ]
  },
  {
   "cell_type": "code",
   "execution_count": 17,
   "metadata": {
    "collapsed": true
   },
   "outputs": [],
   "source": [
    "max_depth=20\n",
    "min_samples_split=6"
   ]
  },
  {
   "cell_type": "code",
   "execution_count": 19,
   "metadata": {
    "collapsed": false
   },
   "outputs": [
    {
     "name": "stdout",
     "output_type": "stream",
     "text": [
      "AUC Score (Train): 0.999931\n",
      "AUC Score (Test): 0.979762\n"
     ]
    }
   ],
   "source": [
    "rf0 = RandomForestClassifier(n_estimators=n_estimators,max_depth=max_depth,\n",
    "                             min_samples_split=min_samples_split,random_state=10)\n",
    "rf0.fit(X_train,y_train)\n",
    "y_trainprob = rf0.predict_proba(X_train)[:,1]\n",
    "y_testprob = rf0.predict_proba(X_test)[:,1]\n",
    "print (\"AUC Score (Train): %f\" % roc_auc_score(y_train, y_trainprob))\n",
    "print (\"AUC Score (Test): %f\" % roc_auc_score(y_test, y_testprob))"
   ]
  },
  {
   "cell_type": "markdown",
   "metadata": {},
   "source": [
    "# min_samples_leaf "
   ]
  },
  {
   "cell_type": "code",
   "execution_count": 20,
   "metadata": {
    "collapsed": true
   },
   "outputs": [],
   "source": [
    "param_test1 = {'min_samples_leaf':range(1,5,1)}\n",
    "gsearch1 = GridSearchCV(estimator = RandomForestClassifier(max_depth=max_depth,min_samples_split=min_samples_split,\n",
    "                                  n_estimators=n_estimators,max_features=max_features,random_state=10),\n",
    "                                    param_grid = param_test1, scoring='roc_auc',cv=3)"
   ]
  },
  {
   "cell_type": "code",
   "execution_count": 21,
   "metadata": {
    "collapsed": false
   },
   "outputs": [
    {
     "name": "stderr",
     "output_type": "stream",
     "text": [
      "/Users/macbook/anaconda2/lib/python2.7/site-packages/sklearn/model_selection/_search.py:667: DeprecationWarning: The grid_scores_ attribute was deprecated in version 0.18 in favor of the more elaborate cv_results_ attribute. The grid_scores_ attribute will not be available from 0.20\n",
      "  DeprecationWarning)\n"
     ]
    },
    {
     "data": {
      "text/plain": [
       "([mean: 0.98015, std: 0.01082, params: {'min_samples_leaf': 1},\n",
       "  mean: 0.97903, std: 0.01132, params: {'min_samples_leaf': 2},\n",
       "  mean: 0.97603, std: 0.01211, params: {'min_samples_leaf': 3},\n",
       "  mean: 0.97607, std: 0.01161, params: {'min_samples_leaf': 4}],\n",
       " {'min_samples_leaf': 1},\n",
       " 0.9801527606329256)"
      ]
     },
     "execution_count": 21,
     "metadata": {},
     "output_type": "execute_result"
    }
   ],
   "source": [
    "gsearch1.fit(X,y)\n",
    "gsearch1.grid_scores_, gsearch1.best_params_, gsearch1.best_score_"
   ]
  },
  {
   "cell_type": "code",
   "execution_count": 22,
   "metadata": {
    "collapsed": true
   },
   "outputs": [],
   "source": [
    "min_samples_leaf=1"
   ]
  },
  {
   "cell_type": "code",
   "execution_count": 23,
   "metadata": {
    "collapsed": false
   },
   "outputs": [
    {
     "name": "stdout",
     "output_type": "stream",
     "text": [
      "AUC Score (Train): 0.999931\n",
      "AUC Score (Test): 0.979762\n"
     ]
    }
   ],
   "source": [
    "rf0 = RandomForestClassifier(n_estimators=n_estimators,max_depth=max_depth,min_samples_split=min_samples_split,min_samples_leaf=min_samples_leaf,random_state=10)\n",
    "rf0.fit(X_train,y_train)\n",
    "y_trainprob = rf0.predict_proba(X_train)[:,1]\n",
    "y_testprob = rf0.predict_proba(X_test)[:,1]\n",
    "print (\"AUC Score (Train): %f\" % roc_auc_score(y_train, y_trainprob))\n",
    "print (\"AUC Score (Test): %f\" % roc_auc_score(y_test, y_testprob))"
   ]
  },
  {
   "cell_type": "markdown",
   "metadata": {},
   "source": [
    "# max_features"
   ]
  },
  {
   "cell_type": "code",
   "execution_count": 24,
   "metadata": {
    "collapsed": false
   },
   "outputs": [],
   "source": [
    "param_test1 = {'max_features':[3,4,5,6]}\n",
    "gsearch1 = GridSearchCV(estimator = RandomForestClassifier(max_depth=max_depth,min_samples_split=min_samples_split,\n",
    "                                  n_estimators=n_estimators,min_samples_leaf=min_samples_leaf,random_state=10),\n",
    "                                    param_grid = param_test1, scoring='roc_auc',cv=3)"
   ]
  },
  {
   "cell_type": "code",
   "execution_count": 25,
   "metadata": {
    "collapsed": false
   },
   "outputs": [
    {
     "name": "stderr",
     "output_type": "stream",
     "text": [
      "/Users/macbook/anaconda2/lib/python2.7/site-packages/sklearn/model_selection/_search.py:667: DeprecationWarning: The grid_scores_ attribute was deprecated in version 0.18 in favor of the more elaborate cv_results_ attribute. The grid_scores_ attribute will not be available from 0.20\n",
      "  DeprecationWarning)\n"
     ]
    },
    {
     "data": {
      "text/plain": [
       "([mean: 0.97921, std: 0.00900, params: {'max_features': 3},\n",
       "  mean: 0.98015, std: 0.01082, params: {'max_features': 4},\n",
       "  mean: 0.97905, std: 0.01231, params: {'max_features': 5},\n",
       "  mean: 0.97781, std: 0.01277, params: {'max_features': 6}],\n",
       " {'max_features': 4},\n",
       " 0.9801527606329256)"
      ]
     },
     "execution_count": 25,
     "metadata": {},
     "output_type": "execute_result"
    }
   ],
   "source": [
    "gsearch1.fit(X,y)\n",
    "gsearch1.grid_scores_, gsearch1.best_params_, gsearch1.best_score_"
   ]
  },
  {
   "cell_type": "code",
   "execution_count": 26,
   "metadata": {
    "collapsed": true
   },
   "outputs": [],
   "source": [
    "max_features=4"
   ]
  },
  {
   "cell_type": "code",
   "execution_count": 27,
   "metadata": {
    "collapsed": false
   },
   "outputs": [
    {
     "name": "stdout",
     "output_type": "stream",
     "text": [
      "AUC Score (Train): 0.999931\n",
      "AUC Score (Test): 0.979762\n"
     ]
    }
   ],
   "source": [
    "rf0 = RandomForestClassifier(n_estimators=n_estimators,max_depth=max_depth,min_samples_split=min_samples_split,\n",
    "                             min_samples_leaf=min_samples_leaf,max_features=max_features,random_state=10)\n",
    "rf0.fit(X_train,y_train)\n",
    "y_trainprob = rf0.predict_proba(X_train)[:,1]\n",
    "y_testprob = rf0.predict_proba(X_test)[:,1]\n",
    "print (\"AUC Score (Train): %f\" % roc_auc_score(y_train, y_trainprob))\n",
    "print (\"AUC Score (Test): %f\" % roc_auc_score(y_test, y_testprob))"
   ]
  },
  {
   "cell_type": "code",
   "execution_count": 28,
   "metadata": {
    "collapsed": false
   },
   "outputs": [
    {
     "name": "stdout",
     "output_type": "stream",
     "text": [
      "('n_estimators:', 70)\n",
      "('max_depth:', 20)\n",
      "('min_samples_split:', 6)\n",
      "('min_samples_leaf:', 1)\n",
      "('max_features:', 4)\n"
     ]
    }
   ],
   "source": [
    "print(\"n_estimators:\",n_estimators)\n",
    "print(\"max_depth:\",max_depth)\n",
    "print(\"min_samples_split:\",min_samples_split)\n",
    "print(\"min_samples_leaf:\",min_samples_leaf)\n",
    "print(\"max_features:\",max_features)"
   ]
  },
  {
   "cell_type": "code",
   "execution_count": 29,
   "metadata": {
    "collapsed": false
   },
   "outputs": [
    {
     "data": {
      "text/plain": [
       "<bound method RandomForestClassifier.get_params of RandomForestClassifier(bootstrap=True, class_weight=None, criterion='gini',\n",
       "            max_depth=20, max_features=4, max_leaf_nodes=None,\n",
       "            min_impurity_split=1e-07, min_samples_leaf=1,\n",
       "            min_samples_split=6, min_weight_fraction_leaf=0.0,\n",
       "            n_estimators=70, n_jobs=1, oob_score=False, random_state=10,\n",
       "            verbose=0, warm_start=False)>"
      ]
     },
     "execution_count": 29,
     "metadata": {},
     "output_type": "execute_result"
    }
   ],
   "source": [
    "rf0.get_params"
   ]
  },
  {
   "cell_type": "code",
   "execution_count": null,
   "metadata": {
    "collapsed": true
   },
   "outputs": [],
   "source": []
  }
 ],
 "metadata": {
  "anaconda-cloud": {},
  "kernelspec": {
   "display_name": "Python [default]",
   "language": "python",
   "name": "python2"
  },
  "language_info": {
   "codemirror_mode": {
    "name": "ipython",
    "version": 2
   },
   "file_extension": ".py",
   "mimetype": "text/x-python",
   "name": "python",
   "nbconvert_exporter": "python",
   "pygments_lexer": "ipython2",
   "version": "2.7.12"
  }
 },
 "nbformat": 4,
 "nbformat_minor": 2
}
