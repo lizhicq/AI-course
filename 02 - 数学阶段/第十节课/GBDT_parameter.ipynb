{
 "cells": [
  {
   "cell_type": "code",
   "execution_count": 6,
   "metadata": {
    "collapsed": false
   },
   "outputs": [],
   "source": [
    "import numpy as np\n",
    "import pandas as pd\n",
    "np.random.seed(10)\n",
    "import matplotlib.pyplot as plt\n",
    "from sklearn.datasets import make_classification\n",
    "from sklearn.model_selection import train_test_split\n",
    "from sklearn.ensemble import GradientBoostingClassifier\n",
    "from sklearn.metrics import roc_auc_score\n",
    "from sklearn.model_selection import GridSearchCV\n",
    "\n",
    "X, y = make_classification(n_samples=800)\n",
    "X_train, X_test, y_train, y_test = train_test_split(X, y, test_size=0.4)"
   ]
  },
  {
   "cell_type": "code",
   "execution_count": 7,
   "metadata": {
    "collapsed": false
   },
   "outputs": [
    {
     "name": "stdout",
     "output_type": "stream",
     "text": [
      "AUC Score (Train): 1.000000\n",
      "AUC Score (Test): 0.984412\n"
     ]
    }
   ],
   "source": [
    "rf0 = GradientBoostingClassifier(random_state=10)\n",
    "rf0.fit(X_train,y_train)\n",
    "y_trainprob = rf0.predict_proba(X_train)[:,1]\n",
    "y_testprob = rf0.predict_proba(X_test)[:,1]\n",
    "print (\"AUC Score (Train): %f\" % roc_auc_score(y_train, y_trainprob))\n",
    "print (\"AUC Score (Test): %f\" % roc_auc_score(y_test, y_testprob))"
   ]
  },
  {
   "cell_type": "code",
   "execution_count": 8,
   "metadata": {
    "collapsed": false
   },
   "outputs": [
    {
     "data": {
      "text/plain": [
       "<bound method GradientBoostingClassifier.get_params of GradientBoostingClassifier(criterion='friedman_mse', init=None,\n",
       "              learning_rate=0.1, loss='deviance', max_depth=3,\n",
       "              max_features=None, max_leaf_nodes=None,\n",
       "              min_impurity_split=1e-07, min_samples_leaf=1,\n",
       "              min_samples_split=2, min_weight_fraction_leaf=0.0,\n",
       "              n_estimators=100, presort='auto', random_state=10,\n",
       "              subsample=1.0, verbose=0, warm_start=False)>"
      ]
     },
     "execution_count": 8,
     "metadata": {},
     "output_type": "execute_result"
    }
   ],
   "source": [
    "rf0.get_params"
   ]
  },
  {
   "cell_type": "code",
   "execution_count": 9,
   "metadata": {
    "collapsed": true
   },
   "outputs": [],
   "source": [
    "rf0?"
   ]
  },
  {
   "cell_type": "code",
   "execution_count": 10,
   "metadata": {
    "collapsed": true
   },
   "outputs": [],
   "source": [
    "n_estimators=100\n",
    "max_depth=3\n",
    "min_samples_leaf=1\n",
    "min_samples_split=2\n",
    "max_features=None\n",
    "subsample=1"
   ]
  },
  {
   "cell_type": "code",
   "execution_count": 11,
   "metadata": {
    "collapsed": true
   },
   "outputs": [],
   "source": [
    "param_test1 = {'n_estimators':range(10,600,40)}\n",
    "gsearch1 = GridSearchCV(estimator = GradientBoostingClassifier(min_samples_split=min_samples_split,subsample=subsample,\n",
    "                                  min_samples_leaf=min_samples_leaf,max_depth=max_depth,max_features=max_features,random_state=10),\n",
    "                                    param_grid = param_test1, scoring='roc_auc',cv=3)"
   ]
  },
  {
   "cell_type": "code",
   "execution_count": 28,
   "metadata": {
    "collapsed": true
   },
   "outputs": [],
   "source": [
    "# gsearch1 = GridSearchCV(estimator = GradientBoostingClassifier(min_samples_split=min_samples_split,subsample=subsample,\n",
    "#                                   min_samples_leaf=min_samples_leaf,max_depth=max_depth,n_estimators=n_estimators,\n",
    "#                                   max_features=max_features,random_state=10),\n",
    "#                                     param_grid = param_test1, scoring='roc_auc',cv=3)"
   ]
  },
  {
   "cell_type": "code",
   "execution_count": 12,
   "metadata": {
    "collapsed": false
   },
   "outputs": [
    {
     "name": "stderr",
     "output_type": "stream",
     "text": [
      "/Library/Frameworks/Python.framework/Versions/3.4/lib/python3.4/site-packages/sklearn/model_selection/_search.py:667: DeprecationWarning: The grid_scores_ attribute was deprecated in version 0.18 in favor of the more elaborate cv_results_ attribute. The grid_scores_ attribute will not be available from 0.20\n",
      "  DeprecationWarning)\n"
     ]
    },
    {
     "data": {
      "text/plain": [
       "([mean: 0.96681, std: 0.01611, params: {'n_estimators': 10},\n",
       "  mean: 0.98368, std: 0.01211, params: {'n_estimators': 50},\n",
       "  mean: 0.98567, std: 0.01095, params: {'n_estimators': 90},\n",
       "  mean: 0.98616, std: 0.01076, params: {'n_estimators': 130},\n",
       "  mean: 0.98610, std: 0.01147, params: {'n_estimators': 170},\n",
       "  mean: 0.98644, std: 0.01096, params: {'n_estimators': 210},\n",
       "  mean: 0.98611, std: 0.01109, params: {'n_estimators': 250},\n",
       "  mean: 0.98669, std: 0.01029, params: {'n_estimators': 290},\n",
       "  mean: 0.98654, std: 0.01022, params: {'n_estimators': 330},\n",
       "  mean: 0.98629, std: 0.01004, params: {'n_estimators': 370},\n",
       "  mean: 0.98609, std: 0.01018, params: {'n_estimators': 410},\n",
       "  mean: 0.98607, std: 0.01016, params: {'n_estimators': 450},\n",
       "  mean: 0.98592, std: 0.01006, params: {'n_estimators': 490},\n",
       "  mean: 0.98592, std: 0.01006, params: {'n_estimators': 530},\n",
       "  mean: 0.98592, std: 0.01006, params: {'n_estimators': 570}],\n",
       " {'n_estimators': 290},\n",
       " 0.98668808214566273)"
      ]
     },
     "execution_count": 12,
     "metadata": {},
     "output_type": "execute_result"
    }
   ],
   "source": [
    "gsearch1.fit(X,y)\n",
    "gsearch1.grid_scores_, gsearch1.best_params_, gsearch1.best_score_"
   ]
  },
  {
   "cell_type": "code",
   "execution_count": 13,
   "metadata": {
    "collapsed": true
   },
   "outputs": [],
   "source": [
    "n_estimators=290"
   ]
  },
  {
   "cell_type": "code",
   "execution_count": 19,
   "metadata": {
    "collapsed": false
   },
   "outputs": [
    {
     "name": "stdout",
     "output_type": "stream",
     "text": [
      "AUC Score (Train): 1.000000\n",
      "AUC Score (Test): 0.984646\n"
     ]
    }
   ],
   "source": [
    "rf0 = GradientBoostingClassifier(random_state=10,min_samples_split=min_samples_split,subsample=subsample,\n",
    "                                  min_samples_leaf=min_samples_leaf,max_depth=max_depth,\n",
    "                                 max_features=max_features,n_estimators=n_estimators)\n",
    "rf0.fit(X_train,y_train)\n",
    "y_trainprob = rf0.predict_proba(X_train)[:,1]\n",
    "y_testprob = rf0.predict_proba(X_test)[:,1]\n",
    "print (\"AUC Score (Train): %f\" % roc_auc_score(y_train, y_trainprob))\n",
    "print (\"AUC Score (Test): %f\" % roc_auc_score(y_test, y_testprob))"
   ]
  },
  {
   "cell_type": "code",
   "execution_count": 15,
   "metadata": {
    "collapsed": true
   },
   "outputs": [],
   "source": [
    "param_test1 = {'min_samples_leaf':range(1,8,1),'min_samples_split':range(2,8,2)}\n",
    "gsearch1 = GridSearchCV(estimator = GradientBoostingClassifier(subsample=subsample,n_estimators=n_estimators,\n",
    "                                  max_depth=max_depth,max_features=max_features,random_state=10),\n",
    "                                    param_grid = param_test1, scoring='roc_auc',cv=3)"
   ]
  },
  {
   "cell_type": "code",
   "execution_count": 20,
   "metadata": {
    "collapsed": false
   },
   "outputs": [
    {
     "name": "stderr",
     "output_type": "stream",
     "text": [
      "/Library/Frameworks/Python.framework/Versions/3.4/lib/python3.4/site-packages/sklearn/model_selection/_search.py:667: DeprecationWarning: The grid_scores_ attribute was deprecated in version 0.18 in favor of the more elaborate cv_results_ attribute. The grid_scores_ attribute will not be available from 0.20\n",
      "  DeprecationWarning)\n"
     ]
    },
    {
     "data": {
      "text/plain": [
       "([mean: 0.98669, std: 0.01029, params: {'min_samples_leaf': 1, 'min_samples_split': 2},\n",
       "  mean: 0.98673, std: 0.00997, params: {'min_samples_leaf': 1, 'min_samples_split': 4},\n",
       "  mean: 0.98680, std: 0.00983, params: {'min_samples_leaf': 1, 'min_samples_split': 6},\n",
       "  mean: 0.98693, std: 0.01001, params: {'min_samples_leaf': 2, 'min_samples_split': 2},\n",
       "  mean: 0.98693, std: 0.01001, params: {'min_samples_leaf': 2, 'min_samples_split': 4},\n",
       "  mean: 0.98678, std: 0.01083, params: {'min_samples_leaf': 2, 'min_samples_split': 6},\n",
       "  mean: 0.98733, std: 0.00990, params: {'min_samples_leaf': 3, 'min_samples_split': 2},\n",
       "  mean: 0.98733, std: 0.00990, params: {'min_samples_leaf': 3, 'min_samples_split': 4},\n",
       "  mean: 0.98733, std: 0.00990, params: {'min_samples_leaf': 3, 'min_samples_split': 6},\n",
       "  mean: 0.98675, std: 0.00922, params: {'min_samples_leaf': 4, 'min_samples_split': 2},\n",
       "  mean: 0.98675, std: 0.00922, params: {'min_samples_leaf': 4, 'min_samples_split': 4},\n",
       "  mean: 0.98675, std: 0.00922, params: {'min_samples_leaf': 4, 'min_samples_split': 6},\n",
       "  mean: 0.98728, std: 0.00704, params: {'min_samples_leaf': 5, 'min_samples_split': 2},\n",
       "  mean: 0.98728, std: 0.00704, params: {'min_samples_leaf': 5, 'min_samples_split': 4},\n",
       "  mean: 0.98728, std: 0.00704, params: {'min_samples_leaf': 5, 'min_samples_split': 6},\n",
       "  mean: 0.98780, std: 0.00761, params: {'min_samples_leaf': 6, 'min_samples_split': 2},\n",
       "  mean: 0.98780, std: 0.00761, params: {'min_samples_leaf': 6, 'min_samples_split': 4},\n",
       "  mean: 0.98780, std: 0.00761, params: {'min_samples_leaf': 6, 'min_samples_split': 6},\n",
       "  mean: 0.98819, std: 0.00824, params: {'min_samples_leaf': 7, 'min_samples_split': 2},\n",
       "  mean: 0.98819, std: 0.00824, params: {'min_samples_leaf': 7, 'min_samples_split': 4},\n",
       "  mean: 0.98819, std: 0.00824, params: {'min_samples_leaf': 7, 'min_samples_split': 6}],\n",
       " {'min_samples_leaf': 7, 'min_samples_split': 2},\n",
       " 0.98819198182022205)"
      ]
     },
     "execution_count": 20,
     "metadata": {},
     "output_type": "execute_result"
    }
   ],
   "source": [
    "gsearch1.fit(X,y)\n",
    "gsearch1.grid_scores_, gsearch1.best_params_, gsearch1.best_score_"
   ]
  },
  {
   "cell_type": "code",
   "execution_count": 18,
   "metadata": {
    "collapsed": true
   },
   "outputs": [],
   "source": [
    "min_samples_leaf=7\n",
    "min_samples_split=2"
   ]
  },
  {
   "cell_type": "code",
   "execution_count": 25,
   "metadata": {
    "collapsed": false
   },
   "outputs": [
    {
     "name": "stdout",
     "output_type": "stream",
     "text": [
      "AUC Score (Train): 1.000000\n",
      "AUC Score (Test): 0.985427\n"
     ]
    }
   ],
   "source": [
    "rf0 = GradientBoostingClassifier(random_state=10,min_samples_split=min_samples_split,subsample=subsample,\n",
    "                                  min_samples_leaf=min_samples_leaf,max_depth=max_depth,\n",
    "                                 max_features=max_features,n_estimators=n_estimators)\n",
    "rf0.fit(X_train,y_train)\n",
    "y_trainprob = rf0.predict_proba(X_train)[:,1]\n",
    "y_testprob = rf0.predict_proba(X_test)[:,1]\n",
    "print (\"AUC Score (Train): %f\" % roc_auc_score(y_train, y_trainprob))\n",
    "print (\"AUC Score (Test): %f\" % roc_auc_score(y_test, y_testprob))"
   ]
  },
  {
   "cell_type": "code",
   "execution_count": 20,
   "metadata": {
    "collapsed": true
   },
   "outputs": [],
   "source": [
    "param_test1 = {'max_features':range(3,20,2)}\n",
    "gsearch1 = GridSearchCV(estimator = GradientBoostingClassifier(min_samples_split=min_samples_split,subsample=subsample,\n",
    "                                  min_samples_leaf=min_samples_leaf,max_depth=max_depth,n_estimators=n_estimators,\n",
    "                                  random_state=10),\n",
    "                                    param_grid = param_test1, scoring='roc_auc',cv=3)"
   ]
  },
  {
   "cell_type": "code",
   "execution_count": 22,
   "metadata": {
    "collapsed": false
   },
   "outputs": [
    {
     "name": "stderr",
     "output_type": "stream",
     "text": [
      "/Library/Frameworks/Python.framework/Versions/3.4/lib/python3.4/site-packages/sklearn/model_selection/_search.py:667: DeprecationWarning: The grid_scores_ attribute was deprecated in version 0.18 in favor of the more elaborate cv_results_ attribute. The grid_scores_ attribute will not be available from 0.20\n",
      "  DeprecationWarning)\n"
     ]
    },
    {
     "data": {
      "text/plain": [
       "([mean: 0.98647, std: 0.00763, params: {'max_features': 3},\n",
       "  mean: 0.98759, std: 0.00834, params: {'max_features': 5},\n",
       "  mean: 0.98846, std: 0.00757, params: {'max_features': 7},\n",
       "  mean: 0.98799, std: 0.00714, params: {'max_features': 9},\n",
       "  mean: 0.98849, std: 0.00786, params: {'max_features': 11},\n",
       "  mean: 0.98832, std: 0.00810, params: {'max_features': 13},\n",
       "  mean: 0.98829, std: 0.00842, params: {'max_features': 15},\n",
       "  mean: 0.98836, std: 0.00774, params: {'max_features': 17},\n",
       "  mean: 0.98870, std: 0.00808, params: {'max_features': 19}],\n",
       " {'max_features': 19},\n",
       " 0.98869844854674005)"
      ]
     },
     "execution_count": 22,
     "metadata": {},
     "output_type": "execute_result"
    }
   ],
   "source": [
    "gsearch1.fit(X,y)\n",
    "gsearch1.grid_scores_, gsearch1.best_params_, gsearch1.best_score_"
   ]
  },
  {
   "cell_type": "code",
   "execution_count": 21,
   "metadata": {
    "collapsed": true
   },
   "outputs": [],
   "source": [
    "max_features=19"
   ]
  },
  {
   "cell_type": "code",
   "execution_count": 22,
   "metadata": {
    "collapsed": false
   },
   "outputs": [
    {
     "name": "stdout",
     "output_type": "stream",
     "text": [
      "AUC Score (Train): 1.000000\n",
      "AUC Score (Test): 0.985427\n"
     ]
    }
   ],
   "source": [
    "rf0 = GradientBoostingClassifier(random_state=10,min_samples_split=min_samples_split,subsample=subsample,\n",
    "                                  min_samples_leaf=min_samples_leaf,max_depth=max_depth,\n",
    "                                 max_features=max_features,n_estimators=n_estimators)\n",
    "rf0.fit(X_train,y_train)\n",
    "y_trainprob = rf0.predict_proba(X_train)[:,1]\n",
    "y_testprob = rf0.predict_proba(X_test)[:,1]\n",
    "print (\"AUC Score (Train): %f\" % roc_auc_score(y_train, y_trainprob))\n",
    "print (\"AUC Score (Test): %f\" % roc_auc_score(y_test, y_testprob))"
   ]
  },
  {
   "cell_type": "code",
   "execution_count": 23,
   "metadata": {
    "collapsed": true
   },
   "outputs": [],
   "source": [
    "param_test1 = {'subsample':[0.4,0.5,0.6,0.7,0.8,0.9,1.0]}\n",
    "gsearch1 = GridSearchCV(estimator = GradientBoostingClassifier(min_samples_split=min_samples_split,\n",
    "                                  min_samples_leaf=min_samples_leaf,max_depth=max_depth,n_estimators=n_estimators,\n",
    "                                  max_features=max_features,random_state=10),\n",
    "                                    param_grid = param_test1, scoring='roc_auc',cv=3)"
   ]
  },
  {
   "cell_type": "code",
   "execution_count": 24,
   "metadata": {
    "collapsed": false
   },
   "outputs": [
    {
     "name": "stderr",
     "output_type": "stream",
     "text": [
      "/Library/Frameworks/Python.framework/Versions/3.4/lib/python3.4/site-packages/sklearn/model_selection/_search.py:667: DeprecationWarning: The grid_scores_ attribute was deprecated in version 0.18 in favor of the more elaborate cv_results_ attribute. The grid_scores_ attribute will not be available from 0.20\n",
      "  DeprecationWarning)\n"
     ]
    },
    {
     "data": {
      "text/plain": [
       "([mean: 0.98363, std: 0.01069, params: {'subsample': 0.4},\n",
       "  mean: 0.98574, std: 0.00873, params: {'subsample': 0.5},\n",
       "  mean: 0.98654, std: 0.00841, params: {'subsample': 0.6},\n",
       "  mean: 0.98710, std: 0.00881, params: {'subsample': 0.7},\n",
       "  mean: 0.98806, std: 0.00746, params: {'subsample': 0.8},\n",
       "  mean: 0.98780, std: 0.00776, params: {'subsample': 0.9},\n",
       "  mean: 0.98870, std: 0.00808, params: {'subsample': 1.0}],\n",
       " {'subsample': 1.0},\n",
       " 0.98869844854674005)"
      ]
     },
     "execution_count": 24,
     "metadata": {},
     "output_type": "execute_result"
    }
   ],
   "source": [
    "gsearch1.fit(X,y)\n",
    "gsearch1.grid_scores_, gsearch1.best_params_, gsearch1.best_score_"
   ]
  },
  {
   "cell_type": "code",
   "execution_count": 28,
   "metadata": {
    "collapsed": true
   },
   "outputs": [],
   "source": [
    "subsample=1"
   ]
  },
  {
   "cell_type": "code",
   "execution_count": 29,
   "metadata": {
    "collapsed": false
   },
   "outputs": [
    {
     "name": "stdout",
     "output_type": "stream",
     "text": [
      "AUC Score (Train): 1.000000\n",
      "AUC Score (Test): 0.985427\n"
     ]
    }
   ],
   "source": [
    "rf0 = GradientBoostingClassifier(random_state=10,min_samples_split=min_samples_split,subsample=subsample,\n",
    "                                  min_samples_leaf=min_samples_leaf,max_depth=max_depth,\n",
    "                                 max_features=max_features,n_estimators=n_estimators)\n",
    "rf0.fit(X_train,y_train)\n",
    "y_trainprob = rf0.predict_proba(X_train)[:,1]\n",
    "y_testprob = rf0.predict_proba(X_test)[:,1]\n",
    "print (\"AUC Score (Train): %f\" % roc_auc_score(y_train, y_trainprob))\n",
    "print (\"AUC Score (Test): %f\" % roc_auc_score(y_test, y_testprob))"
   ]
  },
  {
   "cell_type": "code",
   "execution_count": 30,
   "metadata": {
    "collapsed": false
   },
   "outputs": [
    {
     "data": {
      "text/plain": [
       "<bound method GradientBoostingClassifier.get_params of GradientBoostingClassifier(criterion='friedman_mse', init=None,\n",
       "              learning_rate=0.1, loss='deviance', max_depth=3,\n",
       "              max_features=19, max_leaf_nodes=None,\n",
       "              min_impurity_split=1e-07, min_samples_leaf=7,\n",
       "              min_samples_split=2, min_weight_fraction_leaf=0.0,\n",
       "              n_estimators=290, presort='auto', random_state=10,\n",
       "              subsample=1, verbose=0, warm_start=False)>"
      ]
     },
     "execution_count": 30,
     "metadata": {},
     "output_type": "execute_result"
    }
   ],
   "source": [
    "rf0.get_params"
   ]
  },
  {
   "cell_type": "code",
   "execution_count": null,
   "metadata": {
    "collapsed": true
   },
   "outputs": [],
   "source": []
  }
 ],
 "metadata": {
  "anaconda-cloud": {},
  "kernelspec": {
   "display_name": "Python 3",
   "language": "python",
   "name": "python3"
  },
  "language_info": {
   "codemirror_mode": {
    "name": "ipython",
    "version": 3
   },
   "file_extension": ".py",
   "mimetype": "text/x-python",
   "name": "python",
   "nbconvert_exporter": "python",
   "pygments_lexer": "ipython3",
   "version": "3.4.3"
  }
 },
 "nbformat": 4,
 "nbformat_minor": 2
}
