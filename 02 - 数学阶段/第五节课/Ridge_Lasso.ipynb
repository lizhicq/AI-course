{
 "cells": [
  {
   "cell_type": "code",
   "execution_count": 1,
   "metadata": {
    "collapsed": true
   },
   "outputs": [],
   "source": [
    "import pandas as pd\n",
    "import numpy as np\n",
    "import matplotlib.pyplot as plt"
   ]
  },
  {
   "cell_type": "code",
   "execution_count": 2,
   "metadata": {
    "collapsed": true
   },
   "outputs": [],
   "source": [
    "## 构造回归数据 ##\n",
    "from sklearn.datasets import make_regression\n",
    "reg_data, reg_target = make_regression(n_samples=10, n_features=1, n_informative=2, noise=5)"
   ]
  },
  {
   "cell_type": "code",
   "execution_count": 3,
   "metadata": {
    "collapsed": true
   },
   "outputs": [],
   "source": [
    "def plot_lines(a,b,rangea,color):\n",
    "    # plot y=ax+b\n",
    "    x=np.array(rangea)\n",
    "    y=a*x+b\n",
    "    plt.plot(x,y,color)\n",
    "    return a,b"
   ]
  },
  {
   "cell_type": "code",
   "execution_count": 4,
   "metadata": {
    "collapsed": false
   },
   "outputs": [
    {
     "data": {
      "image/png": "[encoded data removed]",
      "text/plain": [
       "<matplotlib.figure.Figure at 0x1073805f8>"
      ]
     },
     "metadata": {},
     "output_type": "display_data"
    }
   ],
   "source": [
    "from sklearn.linear_model import Lasso\n",
    "from sklearn.linear_model import Ridge\n",
    "ridge=Ridge(alpha=0)\n",
    "ridge.fit(reg_data[:,0:1],reg_target)\n",
    "plt.scatter(reg_data[:,0:1],reg_target,c='b')\n",
    "a=ridge.coef_\n",
    "b=ridge.intercept_\n",
    "rangea=[min(reg_data[:,0]),max(reg_data[:,0])]\n",
    "plot_lines(a,b,rangea,'r-')\n",
    "\n",
    "ridge=Ridge(alpha=3)\n",
    "ridge.fit(reg_data[:,0:1],reg_target)\n",
    "a=ridge.coef_\n",
    "b=ridge.intercept_\n",
    "rangea=[min(reg_data[:,0]),max(reg_data[:,0])]\n",
    "plot_lines(a,b,rangea,'g-')\n",
    "\n",
    "\n",
    "lasso=Lasso(alpha=3)\n",
    "lasso.fit(reg_data[:,0:1],reg_target)\n",
    "a=lasso.coef_\n",
    "b=lasso.intercept_\n",
    "rangea=[min(reg_data[:,0]),max(reg_data[:,0])]\n",
    "plot_lines(a,b,rangea,'y-')\n",
    "\n",
    "plt.show()\n"
   ]
  },
  {
   "cell_type": "code",
   "execution_count": 9,
   "metadata": {
    "collapsed": true
   },
   "outputs": [],
   "source": [
    "## 重新构造多维数据 ##\n",
    "from sklearn.datasets import make_regression\n",
    "reg_data, reg_target = make_regression(n_samples=10, n_features=20, n_informative=2, noise=200)"
   ]
  },
  {
   "cell_type": "code",
   "execution_count": 10,
   "metadata": {
    "collapsed": false
   },
   "outputs": [
    {
     "name": "stdout",
     "output_type": "stream",
     "text": [
      "[-13.30445277   4.86252396  51.30330381 -50.3086507    2.61617203\n",
      "  24.92971665 -34.4204827  -59.72945985  26.70659346  -5.27046209\n",
      "  40.33408275 -29.95708832 -31.08289103  66.64993407 -38.037035\n",
      "  22.23136831  66.5893903   24.94420353  -9.03320008  43.0538841 ]\n",
      "66.6499340701 -59.7294598547\n"
     ]
    },
    {
     "name": "stderr",
     "output_type": "stream",
     "text": [
      "/Library/Frameworks/Python.framework/Versions/3.4/lib/python3.4/site-packages/scipy/linalg/basic.py:223: RuntimeWarning: scipy.linalg.solve\n",
      "Ill-conditioned matrix detected. Result is not guaranteed to be accurate.\n",
      "Reciprocal condition number: 1.289214588990387e-17\n",
      "  ' condition number: {}'.format(rcond), RuntimeWarning)\n"
     ]
    }
   ],
   "source": [
    "ridge=Ridge(alpha=0)\n",
    "ridge.fit(reg_data,reg_target)\n",
    "a=ridge.coef_\n",
    "b=ridge.intercept_\n",
    "print(a)\n",
    "\n",
    "print(max(a),min(a))"
   ]
  },
  {
   "cell_type": "code",
   "execution_count": 14,
   "metadata": {
    "collapsed": false
   },
   "outputs": [
    {
     "name": "stdout",
     "output_type": "stream",
     "text": [
      "[ -2.5601674    3.27027826  37.21903434 -31.5904447    3.38725114\n",
      "   9.95747332 -23.01903673 -38.02937153   7.60111648  -1.50087121\n",
      "  33.29457403 -10.15843499 -25.8566517   41.744048   -20.87260667\n",
      "  15.52336384  34.36805219  21.32784635  -5.76631356  26.63730942]\n",
      "41.7440480014 -38.0293715258\n"
     ]
    }
   ],
   "source": [
    "ridge=Ridge(alpha=3)\n",
    "ridge.fit(reg_data,reg_target)\n",
    "a=ridge.coef_\n",
    "b=ridge.intercept_\n",
    "print(a)\n",
    "print(max(a),min(a))"
   ]
  },
  {
   "cell_type": "code",
   "execution_count": 15,
   "metadata": {
    "collapsed": false
   },
   "outputs": [
    {
     "name": "stdout",
     "output_type": "stream",
     "text": [
      "[ -22.48622389    0.           36.04337484  -26.19661109   -0.\n",
      "   16.67992232   -0.          -46.35945045    1.91094778    0.\n",
      "   37.42989031  -41.15106933  -25.67841759  157.9555379    -0.            0.\n",
      "   70.57002985   30.25064903   -0.           46.48200137]\n",
      "157.955537904 -46.3594504531\n"
     ]
    },
    {
     "name": "stderr",
     "output_type": "stream",
     "text": [
      "/Library/Frameworks/Python.framework/Versions/3.4/lib/python3.4/site-packages/sklearn/linear_model/coordinate_descent.py:484: ConvergenceWarning: Objective did not converge. You might want to increase the number of iterations. Fitting data with very small alpha may cause precision problems.\n",
      "  ConvergenceWarning)\n"
     ]
    }
   ],
   "source": [
    "lasso=Lasso(alpha=0.1)\n",
    "lasso.fit(reg_data,reg_target)\n",
    "a=lasso.coef_\n",
    "b=lasso.intercept_\n",
    "print(a)\n",
    "print(max(a),min(a))"
   ]
  },
  {
   "cell_type": "code",
   "execution_count": null,
   "metadata": {
    "collapsed": true
   },
   "outputs": [],
   "source": []
  }
 ],
 "metadata": {
  "anaconda-cloud": {},
  "kernelspec": {
   "display_name": "Python 3",
   "language": "python",
   "name": "python3"
  },
  "language_info": {
   "codemirror_mode": {
    "name": "ipython",
    "version": 3
   },
   "file_extension": ".py",
   "mimetype": "text/x-python",
   "name": "python",
   "nbconvert_exporter": "python",
   "pygments_lexer": "ipython3",
   "version": "3.4.3"
  }
 },
 "nbformat": 4,
 "nbformat_minor": 2
}
