{
 "cells": [
  {
   "cell_type": "code",
   "execution_count": 12,
   "metadata": {
    "collapsed": false
   },
   "outputs": [
    {
     "name": "stdout",
     "output_type": "stream",
     "text": [
      "到达容忍度阈值\n",
      "0.796764412213 0.51962816459\n"
     ]
    }
   ],
   "source": [
    "from scipy.special import comb, perm\n",
    "\n",
    "def get_theta(p1,p2,unum):\n",
    "    theta1=comb(10,unum)*p1**unum*(1-p1)**(10-unum)\n",
    "    theta2=comb(10,unum)*p2**unum*(1-p2)**(10-unum)\n",
    "    theta=theta1/(theta1+theta2)\n",
    "    HA=unum*theta\n",
    "    TA=(10-unum)*theta\n",
    "    HB=unum*(1-theta)\n",
    "    TB=(10-unum)*(1-theta)\n",
    "    return theta,1-theta,HA,TA,HB,TB\n",
    "\n",
    "p1=0.81\n",
    "p2=0.8\n",
    "i=0\n",
    "while True:\n",
    "    i=i+1\n",
    "    unumlist=[5,9,8,4,7]\n",
    "    HA_T=0\n",
    "    TA_T=0\n",
    "    HB_T=0\n",
    "    TB_T=0\n",
    "    for unum in unumlist:\n",
    "        theta1,theta2,HA,TA,HB,TB=get_theta(p1,p2,unum)\n",
    "        HA_T=HA_T+HA\n",
    "        TA_T=TA_T+TA\n",
    "        HB_T=HB_T+HB\n",
    "        TB_T=TB_T+TB\n",
    "#         print(theta1,theta2,HA,TA,HB,TB)\n",
    "\n",
    "    p1_new=HA_T/(HA_T+TA_T)\n",
    "    p2_new=HB_T/(HB_T+TB_T)\n",
    "\n",
    "    delta_1=abs(p1_new-p1)\n",
    "    delta_2=abs(p2_new-p2)\n",
    "    \n",
    "    p1=p1_new\n",
    "    p2=p2_new\n",
    "\n",
    "    if (delta_1<0.0001) & (delta_2<0.0001):\n",
    "        print('到达容忍度阈值')\n",
    "        print(p1_new,p2_new)\n",
    "        break\n",
    "    if i>50:\n",
    "        print('到达最大迭代次数')\n",
    "        print (p1_new,p2_new)\n",
    "        break\n"
   ]
  },
  {
   "cell_type": "code",
   "execution_count": null,
   "metadata": {
    "collapsed": true
   },
   "outputs": [],
   "source": []
  }
 ],
 "metadata": {
  "anaconda-cloud": {},
  "kernelspec": {
   "display_name": "Python 3",
   "language": "python",
   "name": "python3"
  },
  "language_info": {
   "codemirror_mode": {
    "name": "ipython",
    "version": 3
   },
   "file_extension": ".py",
   "mimetype": "text/x-python",
   "name": "python",
   "nbconvert_exporter": "python",
   "pygments_lexer": "ipython3",
   "version": "3.4.3"
  }
 },
 "nbformat": 4,
 "nbformat_minor": 2
}
