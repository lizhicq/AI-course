{
 "cells": [
  {
   "cell_type": "code",
   "execution_count": 1,
   "metadata": {
    "collapsed": false
   },
   "outputs": [
    {
     "name": "stdout",
     "output_type": "stream",
     "text": [
      "换门次数: 200275\n",
      "换门后得到汽车: 133699 66.76%\n",
      "不换门: 199725\n",
      "不换门后得到汽车: 67020 33.56%\n"
     ]
    }
   ],
   "source": [
    "from random import choice\n",
    "\n",
    "def stay():\n",
    "    doors = ['car','goat','goat']       #设置三扇门，其中两扇门后面是山羊，一扇门后是汽车\n",
    "    choose = choice(doors)              #随机选择一扇门\n",
    "    if choose == 'car':                 #不换门则直接判断\n",
    "        return 'win'\n",
    "    else:\n",
    "        return 'lose'\n",
    "\n",
    "def switch():\n",
    "    doors = ['car', 'goat', 'goat']\n",
    "    choose = choice(doors)\n",
    "    doors.remove(choose)               #选择的门放一边\n",
    "    doors.remove('goat')               #剩下的门，去掉一只山羊\n",
    "    if doors == ['car']:               #换门\n",
    "        return 'win'\n",
    "    else:\n",
    "        return 'lose'\n",
    "\n",
    "\n",
    "\n",
    "if __name__ == '__main__':\n",
    "    total = 400000\n",
    "    count_switch = 0\n",
    "    win_switch = 0\n",
    "    count_stay = 0\n",
    "    win_stay = 0\n",
    "    for i in range(total):\n",
    "        choose = choice([1,2])          #随机选择换门还是不换门\n",
    "        if choose == 1:\n",
    "            count_switch += 1\n",
    "            if switch() == 'win':\n",
    "                win_switch += 1\n",
    "        else:\n",
    "            count_stay += 1\n",
    "            if stay() == 'win':\n",
    "                win_stay += 1\n",
    "\n",
    "    print('换门次数:',count_switch)\n",
    "    print('换门后得到汽车:',win_switch,'%.2f%%'%(100*win_switch/count_switch))\n",
    "    print('不换门:',count_stay)\n",
    "    print('不换门后得到汽车:',win_stay,'%.2f%%'%(100*win_stay/count_stay)) \n"
   ]
  },
  {
   "cell_type": "code",
   "execution_count": null,
   "metadata": {
    "collapsed": true
   },
   "outputs": [],
   "source": []
  }
 ],
 "metadata": {
  "anaconda-cloud": {},
  "kernelspec": {
   "display_name": "Python 3",
   "language": "python",
   "name": "python3"
  },
  "language_info": {
   "codemirror_mode": {
    "name": "ipython",
    "version": 3
   },
   "file_extension": ".py",
   "mimetype": "text/x-python",
   "name": "python",
   "nbconvert_exporter": "python",
   "pygments_lexer": "ipython3",
   "version": "3.4.3"
  }
 },
 "nbformat": 4,
 "nbformat_minor": 2
}
