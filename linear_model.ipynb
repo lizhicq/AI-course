{
  "nbformat": 4,
  "nbformat_minor": 0,
  "metadata": {
    "colab": {
      "name": "linear_model.ipynb",
      "version": "0.3.2",
      "provenance": [],
      "toc_visible": true,
      "include_colab_link": true
    },
    "kernelspec": {
      "display_name": "Python 3",
      "language": "python",
      "name": "python3"
    }
  },
  "cells": [
    {
      "cell_type": "markdown",
      "metadata": {
        "id": "view-in-github",
        "colab_type": "text"
      },
      "source": [
        "<a href=\"https://colab.research.google.com/github/lizhicq/AI-course/blob/master/linear_model.ipynb\" target=\"_parent\"><img src=\"https://colab.research.google.com/assets/colab-badge.svg\" alt=\"Open In Colab\"/></a>"
      ]
    },
    {
      "metadata": {
        "id": "RFqSA1sANfvn",
        "colab_type": "code",
        "colab": {
          "base_uri": "https://localhost:8080/",
          "height": 124
        },
        "outputId": "bacf3e7f-4f43-4af7-8de5-549748bc7d79"
      },
      "cell_type": "code",
      "source": [
        "# Mount Google Drive\n",
        "from google.colab import drive\n",
        "drive.mount('/content/drive')\n",
        "root = \"/content/drive/My Drive/Aache/MLCC/\""
      ],
      "execution_count": 1,
      "outputs": [
        {
          "output_type": "stream",
          "text": [
            "Go to this URL in a browser: https://accounts.google.com/o/oauth2/auth?client_id=947318989803-6bn6qk8qdgf4n4g3pfee6491hc0brc4i.apps.googleusercontent.com&redirect_uri=urn%3Aietf%3Awg%3Aoauth%3A2.0%3Aoob&scope=email%20https%3A%2F%2Fwww.googleapis.com%2Fauth%2Fdocs.test%20https%3A%2F%2Fwww.googleapis.com%2Fauth%2Fdrive%20https%3A%2F%2Fwww.googleapis.com%2Fauth%2Fdrive.photos.readonly%20https%3A%2F%2Fwww.googleapis.com%2Fauth%2Fpeopleapi.readonly&response_type=code\n",
            "\n",
            "Enter your authorization code:\n",
            "··········\n",
            "Mounted at /content/drive\n"
          ],
          "name": "stdout"
        }
      ]
    },
    {
      "metadata": {
        "id": "LnzkhVPGNbjD",
        "colab_type": "code",
        "colab": {}
      },
      "cell_type": "code",
      "source": [
        "import numpy as np \n",
        "import math \n",
        "from sklearn.metrics import mean_squared_error"
      ],
      "execution_count": 0,
      "outputs": []
    },
    {
      "metadata": {
        "id": "_iviKjJdNbjG",
        "colab_type": "text"
      },
      "cell_type": "markdown",
      "source": [
        "### 数据准备部分"
      ]
    },
    {
      "metadata": {
        "id": "zPWKCOL7NbjH",
        "colab_type": "code",
        "colab": {}
      },
      "cell_type": "code",
      "source": [
        "def shuffle_data(X,y,seed=None):\n",
        "    \"将X和y的数据进行随机排序/乱序化\"\n",
        "    if seed:\n",
        "        np.random.seed(seed)\n",
        "    idx=np.arange(X.shape[0])\n",
        "    print(type(idx))\n",
        "    np.random.shuffle(idx)\n",
        "    return X[idx],y[idx] #对于np.array，idx作为index数组可以改变array的顺序"
      ],
      "execution_count": 0,
      "outputs": []
    },
    {
      "metadata": {
        "id": "Jf2rkQefNbjK",
        "colab_type": "code",
        "colab": {
          "base_uri": "https://localhost:8080/",
          "height": 35
        },
        "outputId": "837cd725-7ece-4366-bf79-a1eb04034c0f"
      },
      "cell_type": "code",
      "source": [
        "def train_test_split(X,y,test_size=0.5,shuffle=True,seed=None):\n",
        "    '将数据集根据test_size分成训练集和测试集，可以指定是否随机洗牌'\n",
        "    if shuffle:\n",
        "        X,y=shuffle_data(X,y,seed)\n",
        "    split_i=len(y)-int(len(y)//(1/test_size))\n",
        "    #split_i=len(y)-int(len(y)*test_size)\n",
        "    X_train,X_test=X[:split_i],X[split_i:]\n",
        "    y_train,y_test=y[:split_i],y[split_i:]\n",
        "    \n",
        "    return X_train,X_test,y_train,y_test\n",
        "\n",
        "from sklearn.datasets import make_regression\n",
        "import matplotlib.pylab as plt\n",
        "X,y=make_regression(n_samples=100,n_features=1,noise=20)\n",
        "X_train,X_test,y_train,y_test=train_test_split(X,y,test_size=0.2)"
      ],
      "execution_count": 9,
      "outputs": [
        {
          "output_type": "stream",
          "text": [
            "<class 'numpy.ndarray'>\n"
          ],
          "name": "stdout"
        }
      ]
    },
    {
      "metadata": {
        "id": "dcQ5cyieNbjV",
        "colab_type": "text"
      },
      "cell_type": "markdown",
      "source": [
        "因为使用make_regression函数使得X乱序，在绘制matplot的图像时会有问题，所以对于X进行排序"
      ]
    },
    {
      "metadata": {
        "id": "thwHkyorNbjW",
        "colab_type": "code",
        "colab": {}
      },
      "cell_type": "code",
      "source": [
        "s=sorted([(X_test[i][0],y_test[i]) for i in range(len(X_test))],key=lambda j:j[0])\n",
        "X_test=np.array([[j[0]] for j in s])\n",
        "y_test=np.array([j[1] for j in s])\n",
        "#y_test"
      ],
      "execution_count": 0,
      "outputs": []
    },
    {
      "metadata": {
        "id": "9popqtLuNbjg",
        "colab_type": "text"
      },
      "cell_type": "markdown",
      "source": [
        "## 线性回归"
      ]
    },
    {
      "metadata": {
        "id": "bqxsM0A8Nbjh",
        "colab_type": "code",
        "colab": {
          "base_uri": "https://localhost:8080/",
          "height": 394
        },
        "outputId": "5742592b-11a7-473d-82db-8db9999ee29d"
      },
      "cell_type": "code",
      "source": [
        "class Regression(object):\n",
        "    \n",
        "    \"\"\"\n",
        "        基础线性回归模型，使用输入的X和y进行参数回归\n",
        "        超参：\n",
        "        n_iterations:int 训练的步数\n",
        "        learning_rate:float 学习率\n",
        "        内部函数:\n",
        "        initialize_weights:初始化参数\n",
        "        fit:开始训练\n",
        "        predict:预测\n",
        "        内部的数据:\n",
        "        n_iterations\n",
        "        learning_rate\n",
        "        regularization:正则化参数\n",
        "        regularization.grad:正则化的梯度函数\n",
        "    \"\"\"\n",
        "    \n",
        "    def __init__(self,n_iterations,learning_rate):\n",
        "        self.n_iterations=n_iterations\n",
        "        self.learning_rate=learning_rate\n",
        "        self.regularization=lambda x:0\n",
        "        self.regularization.grad=lambda x:0\n",
        "    \n",
        "    def initialize_weights(self,n_features):\n",
        "        \"\"\"初始化系数，输入是feature的个数，输出是一个随机初始化好的参数矩阵,[-1/sqrt(N),1/sqrt(N)]\"\"\"\n",
        "        limit=1/math.sqrt(n_features)\n",
        "        self.w=np.random.uniform(-limit,limit,(n_features,))\n",
        "    \n",
        "    def fit(self,X,y):\n",
        "        #插入偏置列1到X中\n",
        "        X=np.insert(X,0,1,axis=1)#给每一行的第0列增加一个1\n",
        "        self.training_errors=[]#保存每一次步长的训练Loss\n",
        "        self.initialize_weights(n_features=X.shape[1])#初始化参数w\n",
        "        \n",
        "        #进行梯度下降迭代\n",
        "        for i in range(self.n_iterations):\n",
        "            y_pred=X.dot(self.w)#进行预测\n",
        "            #计算Loss\n",
        "            mse=np.mean(0.5*(y-y_pred)**2+self.regularization(self.w))\n",
        "            self.training_errors.append(mse)#将Loss加入到training_errors的数组中\n",
        "            #计算带有正则化项的梯度\n",
        "            g_w=-(y-y_pred).T.dot(X)/len(X)+self.regularization.grad(self.w)\n",
        "            #根据梯度下降的算法更新参数\n",
        "            self.w-=self.learning_rate*g_w\n",
        "            \n",
        "    def predict(self,X):\n",
        "        #通过输入X预测一个样本\n",
        "        X=np.insert(X,0,1,axis=1)\n",
        "        pred=X.dot(self.w)\n",
        "        return pred\n",
        "    \n",
        "model=Regression(n_iterations=1000,learning_rate=0.01)\n",
        "model.fit(X_train,y_train)\n",
        "training,=plt.plot(range(len(model.training_errors)),model.training_errors,label=\"Training Error\")\n",
        "plt.title(\"Linear Regression Training Error\")\n",
        "plt.ylabel(\"Train-Loss\")\n",
        "plt.xlabel(\"Steps\")\n",
        "\n",
        "print(model.w)"
      ],
      "execution_count": 14,
      "outputs": [
        {
          "output_type": "stream",
          "text": [
            "[-4.04899959 37.12107268]\n"
          ],
          "name": "stdout"
        },
        {
          "output_type": "display_data",
          "data": {
            "image/png": "[encoded data removed]",
            "text/plain": [
              "<Figure size 576x396 with 1 Axes>"
            ]
          },
          "metadata": {
            "tags": []
          }
        }
      ]
    },
    {
      "metadata": {
        "id": "W2dQHpjqNbjw",
        "colab_type": "text"
      },
      "cell_type": "markdown",
      "source": [
        "### 评价模型"
      ]
    },
    {
      "metadata": {
        "id": "cIpCayBSNbjx",
        "colab_type": "code",
        "colab": {
          "base_uri": "https://localhost:8080/",
          "height": 382
        },
        "outputId": "f824ae83-ec96-49a0-c91a-76190ee8f717"
      },
      "cell_type": "code",
      "source": [
        "y_pred=model.predict(X_test)\n",
        "mse=mean_squared_error(y_pred,y_test)\n",
        "print(mse)\n",
        "plt.plot(X_test,y_test,'k.')\n",
        "plt.plot(X_test,y_pred,'Y')"
      ],
      "execution_count": 16,
      "outputs": [
        {
          "output_type": "stream",
          "text": [
            "227.53526860380552\n"
          ],
          "name": "stdout"
        },
        {
          "output_type": "execute_result",
          "data": {
            "text/plain": [
              "[<matplotlib.lines.Line2D at 0x7f3d2d99e0b8>]"
            ]
          },
          "metadata": {
            "tags": []
          },
          "execution_count": 16
        },
        {
          "output_type": "display_data",
          "data": {
            "image/png": "[encoded data removed]",
            "text/plain": [
              "<Figure size 576x396 with 1 Axes>"
            ]
          },
          "metadata": {
            "tags": []
          }
        }
      ]
    },
    {
      "metadata": {
        "id": "BQ-1m8GCNbj-",
        "colab_type": "text"
      },
      "cell_type": "markdown",
      "source": [
        "### 带有最小二乘法的线性回归"
      ]
    },
    {
      "metadata": {
        "id": "HGzQJPVxNbj-",
        "colab_type": "code",
        "colab": {
          "base_uri": "https://localhost:8080/",
          "height": 35
        },
        "outputId": "8832ad3c-9d3a-461e-a6ba-fd0726ee635a"
      },
      "cell_type": "code",
      "source": [
        "def lsm_function(X,y):\n",
        "    G=np.mat(np.insert(X,0,1,axis=1))\n",
        "    return np.squeeze(np.asarray((G.T.dot(G)).I.dot(G.T).dot(y)))\n",
        "lsm_function(X_train,y_train)\n",
        "class LinearRegression(Regression):\n",
        "    \"\"\"带有最小二乘法的线性回归\n",
        "    参数:\n",
        "    -------------\n",
        "    n_iterations\n",
        "    \n",
        "    learning_rate\n",
        "    \n",
        "    gradient_descent:bool \n",
        "        决定是否使用梯度下降法，如果是True则使用梯度下降，False使用最小二乘\n",
        "    \"\"\"\n",
        "    def __init__(self,n_iterations=500,learning_rate=0.1,gradient_descent=True):\n",
        "        self.gradient_descent=gradient_descent\n",
        "        self.regularization=lambda x:0\n",
        "        self.regularization.grad=lambda x:0\n",
        "        super(LinearRegression,self).__init__(n_iterations=n_iterations,learning_rate=learning_rate)\n",
        "    \n",
        "    def fit(self,X,y):\n",
        "        if not self.gradient_descent:\n",
        "            self.w=lsm_function(X,y)\n",
        "        else:\n",
        "            super(LinearRegression,self).fit(X,y)\n",
        "    \n",
        "    def predict(self,X):\n",
        "        return super(LinearRegression,self).predict(X)\n",
        "        \n",
        "model=LinearRegression(n_iterations=1000,learning_rate=0.1,gradient_descent=False)\n",
        "model.fit(X_train,y_train)\n",
        "print(model.w)"
      ],
      "execution_count": 17,
      "outputs": [
        {
          "output_type": "stream",
          "text": [
            "[-4.04856971 37.12131852]\n"
          ],
          "name": "stdout"
        }
      ]
    },
    {
      "metadata": {
        "id": "BbesP50yNbkO",
        "colab_type": "code",
        "colab": {
          "base_uri": "https://localhost:8080/",
          "height": 365
        },
        "outputId": "67ae6b65-10e6-4714-d5a1-0cef6d270d0a"
      },
      "cell_type": "code",
      "source": [
        "def test_and_draw(model):\n",
        "    y_pred=model.predict(X_test)\n",
        "    mse=mean_squared_error(y_test,y_pred)\n",
        "    print(\"方差:\",mse)\n",
        "    plt.plot(X_test,y_test,'k.')\n",
        "    plt.plot(X_test,y_pred,'Y')\n",
        "test_and_draw(model)"
      ],
      "execution_count": 18,
      "outputs": [
        {
          "output_type": "stream",
          "text": [
            "方差: 227.53301996470137\n"
          ],
          "name": "stdout"
        },
        {
          "output_type": "display_data",
          "data": {
            "image/png": "[encoded data removed]",
            "text/plain": [
              "<Figure size 576x396 with 1 Axes>"
            ]
          },
          "metadata": {
            "tags": []
          }
        }
      ]
    },
    {
      "metadata": {
        "id": "tBhNBoCmNbkT",
        "colab_type": "text"
      },
      "cell_type": "markdown",
      "source": [
        "# 正则化回归"
      ]
    },
    {
      "metadata": {
        "id": "qHzvQUouNbkU",
        "colab_type": "code",
        "colab": {}
      },
      "cell_type": "code",
      "source": [
        "class l1_regularization():\n",
        "    \"\"\"L1正则化类/函数\n",
        "    参数:\n",
        "    \n",
        "    alpha--L1正则化系数\n",
        "    \"\"\"\n",
        "    def __init__(self,alpha):\n",
        "        self.alpha=alpha\n",
        "    def __call__(self,w):\n",
        "        return self.alpha*np.linalg.norm(w,ord=1)\n",
        "    def grad(self,w):\n",
        "        #w>0->w`=1;w<0->w`=0;w==0->w`=0\n",
        "        return self.alpha*np.sign(w)"
      ],
      "execution_count": 0,
      "outputs": []
    },
    {
      "metadata": {
        "id": "nH8GU7lwNbkY",
        "colab_type": "code",
        "colab": {}
      },
      "cell_type": "code",
      "source": [
        "l1=l1_regularization(alpha=0.01)"
      ],
      "execution_count": 0,
      "outputs": []
    },
    {
      "metadata": {
        "id": "Fa8Nq4zVNbkY",
        "colab_type": "code",
        "colab": {},
        "outputId": "a68b5aa5-60b2-4fe8-b62c-1d2fd76cb75d"
      },
      "cell_type": "code",
      "source": [
        "l1([-3,4])"
      ],
      "execution_count": 0,
      "outputs": [
        {
          "output_type": "execute_result",
          "data": {
            "text/plain": [
              "0.07"
            ]
          },
          "metadata": {
            "tags": []
          },
          "execution_count": 73
        }
      ]
    },
    {
      "metadata": {
        "id": "XURVKdUxNbkc",
        "colab_type": "code",
        "colab": {},
        "outputId": "2af42e2b-7461-4f30-a152-aa44dbdc936c"
      },
      "cell_type": "code",
      "source": [
        "l1.grad([-3,4,0])"
      ],
      "execution_count": 0,
      "outputs": [
        {
          "output_type": "execute_result",
          "data": {
            "text/plain": [
              "array([-0.01,  0.01,  0.  ])"
            ]
          },
          "metadata": {
            "tags": []
          },
          "execution_count": 75
        }
      ]
    },
    {
      "metadata": {
        "id": "QVuq_JQ6Nbke",
        "colab_type": "text"
      },
      "cell_type": "markdown",
      "source": [
        "### L2正则化参数"
      ]
    },
    {
      "metadata": {
        "id": "Jjpjy__fNbkf",
        "colab_type": "code",
        "colab": {}
      },
      "cell_type": "code",
      "source": [
        "class l2_regularization():\n",
        "    \"\"\"L2正则化参数\n",
        "    参数：\n",
        "    \n",
        "    alpha 正则化系数\n",
        "    \"\"\"\n",
        "    def __init__(self,alpha):\n",
        "        self.alpha=alpha\n",
        "    \n",
        "    def __call__(self,w):\n",
        "        return self.alpha*0.5*w.T.dot(w)\n",
        "    \n",
        "    def grad(self,w):\n",
        "        return self.alpha*w"
      ],
      "execution_count": 0,
      "outputs": []
    },
    {
      "metadata": {
        "id": "3EC1nHsuNbkh",
        "colab_type": "code",
        "colab": {}
      },
      "cell_type": "code",
      "source": [
        "class LassoLinearRegression(Regression):\n",
        "    def __init__(self,alpha,n_iterations=1000,learning_rate=0.01):\n",
        "        self.regularization=l1_regularization(alpha=alpha)\n",
        "        super(LassoLinearRegression,self).__init__(n_iterations,learning_rate)\n",
        "        \n",
        "    def fit(self,X,y):\n",
        "        super(LassoLinearRegression,self).fit(X,y)\n",
        "    def predict(self,X):\n",
        "        return super(LassoLinearRegression,self).predict(X)"
      ],
      "execution_count": 0,
      "outputs": []
    },
    {
      "metadata": {
        "id": "RNml2jJNNbki",
        "colab_type": "code",
        "colab": {}
      },
      "cell_type": "code",
      "source": [
        "model=LassoLinearRegression(alpha=120,n_iterations=1000,learning_rate=0.1)"
      ],
      "execution_count": 0,
      "outputs": []
    },
    {
      "metadata": {
        "id": "5qoxrKCtNbkj",
        "colab_type": "code",
        "colab": {}
      },
      "cell_type": "code",
      "source": [
        "model.fit(X_train,y_train)"
      ],
      "execution_count": 0,
      "outputs": []
    },
    {
      "metadata": {
        "id": "ypMvdpOfNbkl",
        "colab_type": "code",
        "colab": {},
        "outputId": "54e61bb2-4b81-41f8-bd99-1be106f6243c"
      },
      "cell_type": "code",
      "source": [
        "model.w"
      ],
      "execution_count": 0,
      "outputs": [
        {
          "output_type": "execute_result",
          "data": {
            "text/plain": [
              "array([ 1.76645796, 28.96240671])"
            ]
          },
          "metadata": {
            "tags": []
          },
          "execution_count": 93
        }
      ]
    },
    {
      "metadata": {
        "id": "RGD7N0OMNbko",
        "colab_type": "code",
        "colab": {},
        "outputId": "9c6aaf60-7db3-42c3-963d-d794a8100048"
      },
      "cell_type": "code",
      "source": [
        "test_and_draw(model)"
      ],
      "execution_count": 0,
      "outputs": [
        {
          "output_type": "stream",
          "text": [
            "方差: 269.1317564792403\n"
          ],
          "name": "stdout"
        },
        {
          "output_type": "display_data",
          "data": {
            "image/png": "[encoded data removed]",
            "text/plain": [
              "<Figure size 432x288 with 1 Axes>"
            ]
          },
          "metadata": {
            "tags": [],
            "needs_background": "light"
          }
        }
      ]
    },
    {
      "metadata": {
        "id": "AFq0SXA0Nbkv",
        "colab_type": "code",
        "colab": {}
      },
      "cell_type": "code",
      "source": [
        ""
      ],
      "execution_count": 0,
      "outputs": []
    }
  ]
}