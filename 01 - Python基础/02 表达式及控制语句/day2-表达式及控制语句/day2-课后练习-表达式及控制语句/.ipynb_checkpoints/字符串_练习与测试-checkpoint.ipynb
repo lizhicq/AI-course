{
 "cells": [
  {
   "cell_type": "markdown",
   "metadata": {},
   "source": [
    "# Python字符串\n",
    "\n",
    "字符串是 Python 中最常用的数据类型。我们可以使用引号('或\")来创建字符串。\n",
    "\n",
    "创建字符串很简单，只要为变量分配一个值即可。例如：\n",
    "\n",
    "var1 = 'Hello World!'\n",
    "\n",
    "var2 = \"Python Runoob\"\n",
    "\n"
   ]
  },
  {
   "cell_type": "markdown",
   "metadata": {},
   "source": [
    "## 1 Python访问字符串中的值\n",
    "\n",
    "\n",
    "Python不支持单字符类型，单字符也在Python也是作为一个字符串使用，\n",
    "\n",
    "Python访问子字符串，可以使用python切片（方括号）来截取字符串。\n",
    "\n"
   ]
  },
  {
   "cell_type": "markdown",
   "metadata": {},
   "source": [
    "### 练习1 \n",
    "\n",
    "请分别输出下列第一个字符串的第一个字符，与第二个字符串的第二到第五个字符：\n",
    "\n",
    "输出样式如下:\n",
    "\n",
    "var1[0]:  H\n",
    "\n",
    "var2[1:5]:  ytho"
   ]
  },
  {
   "cell_type": "code",
   "execution_count": 1,
   "metadata": {},
   "outputs": [
    {
     "name": "stdout",
     "output_type": "stream",
     "text": [
      "var1[0]:  H\n",
      "var2[1:5]:  ytho\n"
     ]
    }
   ],
   "source": [
    "var1 = 'Hello World!'\n",
    "var2 = \"Python Runoob\"\n",
    "#please input your code here\n",
    "\n",
    "\n"
   ]
  },
  {
   "cell_type": "markdown",
   "metadata": {},
   "source": [
    "## 2 Python字符串运算符\n",
    "\n",
    "\n",
    "下列练习题目中变量 a 值为字符串 \"Hello\"，b 变量值为 \"Python\"：\n",
    "\n",
    "   \\+              字符串连接           \n",
    " \n",
    "   \\*              重复输出字符串        \n",
    " \n",
    "  [ ]              通过索引获取字符串中字符  \n",
    "  \n",
    "[ : ]              截取字符串中的一部分     \n",
    " \n",
    " in                成员运算符 - 如果字符串中包含给定的字符返回 True  \n",
    " \n",
    "not in             成员运算符 - 如果字符串中不包含给定的字符返回 True \n",
    " \n",
    "r/R                原始字符串 - 原始字符串：所有的字符串都是直接按照字面的意思来使用，没有转义特殊或不能打印的字符,原始字符串除在字符串的\n",
    "                   第一个引号前加上字母\"r\"（可以大小写）以外，与普通字符串有着几乎完全相同的语法。\n",
    "\n"
   ]
  },
  {
   "cell_type": "markdown",
   "metadata": {},
   "source": [
    "### 练习2 Python字符串更新\n",
    "\n",
    "对已存在的字符串进行修改，并赋值给另一个变量，请将\n",
    "\n",
    "字符串 'Hello World!' 更改为 'Hello BUAA!' :\n",
    "\n",
    "(提示：可使用 var1[:6] + 'BUAA!')\n"
   ]
  },
  {
   "cell_type": "code",
   "execution_count": 4,
   "metadata": {},
   "outputs": [
    {
     "name": "stdout",
     "output_type": "stream",
     "text": [
      "更新字符串 :  Hello BUAA!\n"
     ]
    }
   ],
   "source": [
    "var1 = 'Hello World!'\n",
    "#please input your code here\n",
    "\n",
    "\n"
   ]
  },
  {
   "cell_type": "markdown",
   "metadata": {
    "collapsed": true
   },
   "source": [
    "### 练习3\n",
    "\n",
    "请在下面编写代码：实现依次输出 a+b, a*2, a[1], a[1:4],以及输出 H, M 在不在变量a中的判断，另外再输出两个换行符。"
   ]
  },
  {
   "cell_type": "code",
   "execution_count": 5,
   "metadata": {},
   "outputs": [
    {
     "name": "stdout",
     "output_type": "stream",
     "text": [
      "a + b 输出结果： HelloPython\n",
      "a * 2 输出结果： HelloHello\n",
      "a[1] 输出结果： e\n",
      "a[1:4] 输出结果： ell\n",
      "H 在变量 a 中\n",
      "M 不在变量 a 中\n",
      "\\n\n",
      "\\n\n"
     ]
    }
   ],
   "source": [
    "a = \"Hello\"\n",
    "b = \"Python\"\n",
    "#please input your code here\n",
    "\n",
    "\n",
    "\n",
    "\n",
    "\n",
    "\n",
    "\n",
    "\n",
    "\n",
    "\n"
   ]
  },
  {
   "cell_type": "markdown",
   "metadata": {},
   "source": [
    "## 3 Python 字符串格式化\n",
    "\n",
    "\n",
    "Python 支持格式化字符串的输出。尽管这样可能会用到非常复杂的表达式，但最基本的用法是将一个值插入到一个有字符串格式符 %s 的字符串中。\n",
    "\n",
    "在 Python 中，字符串格式化使用与 我们通常接触的 C 语言中 sprintf 函数一样的语法。\n",
    "\n",
    "%c  格式化字符及其ASCII码 \n",
    "\n",
    "%s  格式化字符串 \n",
    "\n",
    "%d  格式化整数 \n",
    "\n",
    "%u  格式化无符号整型 \n",
    "\n",
    "%o  格式化无符号八进制数 \n",
    "\n",
    "%x  格式化无符号十六进制数 \n",
    "\n",
    "%X  格式化无符号十六进制数（大写）\n",
    "\n",
    "%f  格式化浮点数字，可指定小数点后的精度 \n",
    "\n",
    "%e  用科学计数法格式化浮点数 \n",
    "\n",
    "%E  作用同%e，用科学计数法格式化浮点数 \n",
    "\n",
    "%g  %f和%e的简写 \n",
    "\n",
    "%G  %f 和 %E 的简写 \n",
    "\n",
    "%p  用十六进制数格式化变量的地址 \n"
   ]
  },
  {
   "cell_type": "markdown",
   "metadata": {
    "collapsed": true
   },
   "source": [
    "### 练习4\n",
    "\n",
    "小明的成绩从去年的72分提升到了今年的85分，请计算小明成绩提升的百分点，并用字符串格式化显示出'xx.x%'，只保留小数点后1位，请用代码实现："
   ]
  },
  {
   "cell_type": "code",
   "execution_count": 6,
   "metadata": {},
   "outputs": [
    {
     "name": "stdout",
     "output_type": "stream",
     "text": [
      "Please enter last year's Score: 72\n",
      "Please enter this year's Score: 85\n",
      "increasing rate =  18.1 %\n"
     ]
    }
   ],
   "source": [
    "#please input your code here\n",
    "\n",
    "\n",
    "\n"
   ]
  },
  {
   "cell_type": "markdown",
   "metadata": {},
   "source": [
    "## 4  Python三引号（triple quotes） \n",
    "\n",
    "\n",
    "python中三引号可以将复杂的字符串进行复制:\n",
    "\n",
    "python三引号允许一个字符串跨多行，字符串中可以包含换行符、制表符以及其他特殊字符。\n",
    "\n",
    "三引号的语法是一对连续的单引号或者双引号（通常都是成对的用）。\n",
    "\n",
    "\n",
    "\n"
   ]
  },
  {
   "cell_type": "markdown",
   "metadata": {},
   "source": [
    "### 练习5\n",
    "\n",
    "请编写代码，执行代码输出下列格式的字符：\n",
    "\n",
    "|--- 新建用户：N/n ---|\n",
    "\n",
    "|--- 登录账号：E/e ---|\n",
    "\n",
    "|--- 退出登录：Q/q ---|\n"
   ]
  },
  {
   "cell_type": "code",
   "execution_count": 7,
   "metadata": {},
   "outputs": [
    {
     "name": "stdout",
     "output_type": "stream",
     "text": [
      "\n",
      "|--- 新建用户：N/n ---|\n",
      "|--- 登录账号：E/e ---|\n",
      "|--- 退出登录：Q/q ---|\n",
      "\n"
     ]
    }
   ],
   "source": [
    "#please input your code here\n",
    "\n",
    "\n",
    "\n",
    "\n"
   ]
  },
  {
   "cell_type": "code",
   "execution_count": null,
   "metadata": {
    "collapsed": true
   },
   "outputs": [],
   "source": [
    "注：三引号让程序员从引号和特殊字符串的泥潭里面解脱出来，自始至终保持一小块字符串的格式是所谓的WYSIWYG（所见即所得）格式的。"
   ]
  },
  {
   "cell_type": "markdown",
   "metadata": {},
   "source": [
    "## 参考文献：\n",
    "\n",
    "1.http://www.runoob.com/python3/python3-tutorial.html      python菜鸟教程\n",
    "2.https://www.liaoxuefeng.com/wiki/0014316089557264a6b348958f449949df42a6d3a2e542c000    廖雪峰python教程"
   ]
  },
  {
   "cell_type": "code",
   "execution_count": null,
   "metadata": {
    "collapsed": true
   },
   "outputs": [],
   "source": []
  }
 ],
 "metadata": {
  "kernelspec": {
   "display_name": "Python 3",
   "language": "python",
   "name": "python3"
  },
  "language_info": {
   "codemirror_mode": {
    "name": "ipython",
    "version": 3
   },
   "file_extension": ".py",
   "mimetype": "text/x-python",
   "name": "python",
   "nbconvert_exporter": "python",
   "pygments_lexer": "ipython3",
   "version": "3.6.3"
  },
  "toc": {
   "base_numbering": 1,
   "nav_menu": {},
   "number_sections": true,
   "sideBar": true,
   "skip_h1_title": false,
   "title_cell": "Table of Contents",
   "title_sidebar": "Contents",
   "toc_cell": false,
   "toc_position": {},
   "toc_section_display": true,
   "toc_window_display": false
  }
 },
 "nbformat": 4,
 "nbformat_minor": 2
}
