{
 "cells": [
  {
   "cell_type": "markdown",
   "metadata": {},
   "source": [
    "## 筛选让你心动的电影"
   ]
  },
  {
   "cell_type": "code",
   "execution_count": null,
   "metadata": {
    "scrolled": true
   },
   "outputs": [],
   "source": [
    "import pandas as pd\n",
    "from datetime import datetime as dt\n",
    "df = pd.read_csv('douban_movie.csv', header = 0, sep = '\\t')\n",
    "df.head()"
   ]
  },
  {
   "cell_type": "code",
   "execution_count": null,
   "metadata": {
    "collapsed": true
   },
   "outputs": [],
   "source": [
    "df.info()"
   ]
  },
  {
   "cell_type": "code",
   "execution_count": null,
   "metadata": {
    "collapsed": true
   },
   "outputs": [],
   "source": [
    "df.describe()"
   ]
  },
  {
   "cell_type": "markdown",
   "metadata": {},
   "source": [
    "按行索引进行选取loc[]函数"
   ]
  },
  {
   "cell_type": "code",
   "execution_count": null,
   "metadata": {
    "collapsed": true,
    "scrolled": true
   },
   "outputs": [],
   "source": [
    "df.loc[range(4)]"
   ]
  },
  {
   "cell_type": "code",
   "execution_count": null,
   "metadata": {
    "collapsed": true,
    "scrolled": true
   },
   "outputs": [],
   "source": [
    "df.loc[[1,5,6]]"
   ]
  },
  {
   "cell_type": "markdown",
   "metadata": {},
   "source": [
    "按一列或多列筛选"
   ]
  },
  {
   "cell_type": "code",
   "execution_count": null,
   "metadata": {
    "collapsed": true,
    "scrolled": true
   },
   "outputs": [],
   "source": [
    "print(df['title'])\n",
    "print(df[['title','actors']])"
   ]
  },
  {
   "cell_type": "markdown",
   "metadata": {},
   "source": [
    "按一行一列或多行多列同时筛选"
   ]
  },
  {
   "cell_type": "code",
   "execution_count": null,
   "metadata": {
    "collapsed": true
   },
   "outputs": [],
   "source": [
    "df.loc[5, 'actors'] #索引值是 5 的行，且列名是 actors 的列"
   ]
  },
  {
   "cell_type": "code",
   "execution_count": null,
   "metadata": {
    "collapsed": true
   },
   "outputs": [],
   "source": [
    "df.loc[[1, 5, 8], ['title', 'actors'] ]#索引值是 1、5、8 的行，且列名是 title 和 actors 的列。"
   ]
  },
  {
   "cell_type": "code",
   "execution_count": null,
   "metadata": {
    "collapsed": true
   },
   "outputs": [],
   "source": [
    "df.tail()#后5行"
   ]
  },
  {
   "cell_type": "markdown",
   "metadata": {
    "collapsed": true
   },
   "source": [
    "查看df的数据类型,index 索引、columns 列名 、values 值"
   ]
  },
  {
   "cell_type": "code",
   "execution_count": null,
   "metadata": {
    "collapsed": true
   },
   "outputs": [],
   "source": [
    "type(df)#Pandas 的基本数据结构是 DataFrame"
   ]
  },
  {
   "cell_type": "code",
   "execution_count": null,
   "metadata": {
    "collapsed": true
   },
   "outputs": [],
   "source": [
    "df.index"
   ]
  },
  {
   "cell_type": "code",
   "execution_count": null,
   "metadata": {
    "collapsed": true
   },
   "outputs": [],
   "source": [
    "df.columns"
   ]
  },
  {
   "cell_type": "code",
   "execution_count": null,
   "metadata": {
    "collapsed": true
   },
   "outputs": [],
   "source": [
    "df.values"
   ]
  },
  {
   "cell_type": "markdown",
   "metadata": {},
   "source": [
    "带有一个中括号的类型是 Series，带有两个中括号的类型是 DataFrame。"
   ]
  },
  {
   "cell_type": "code",
   "execution_count": null,
   "metadata": {
    "collapsed": true
   },
   "outputs": [],
   "source": [
    "type(df['title'])"
   ]
  },
  {
   "cell_type": "code",
   "execution_count": null,
   "metadata": {
    "collapsed": true
   },
   "outputs": [],
   "source": [
    "df['title']"
   ]
  },
  {
   "cell_type": "code",
   "execution_count": null,
   "metadata": {
    "collapsed": true
   },
   "outputs": [],
   "source": [
    "type(df[['title']])"
   ]
  },
  {
   "cell_type": "markdown",
   "metadata": {},
   "source": [
    "除了按行或按列筛选，还可以按照一个或多个条件对数据进行筛选"
   ]
  },
  {
   "cell_type": "code",
   "execution_count": null,
   "metadata": {
    "collapsed": true
   },
   "outputs": [],
   "source": [
    "# 筛选电影类型是剧情的 title 和 score 两列\n",
    "#df[ df['category'] == '剧情' ]['title']\n",
    "df[ df['category'] == '剧情' ][['title', 'score']]"
   ]
  },
  {
   "cell_type": "code",
   "execution_count": null,
   "metadata": {
    "collapsed": true
   },
   "outputs": [],
   "source": [
    "# 筛选电影排名小于等于 5 且评分高于 9.0 的 title 一列\n",
    "df[ (df['rank'] <=5) & (df['score'] > 9.0) ][['title']]"
   ]
  },
  {
   "cell_type": "code",
   "execution_count": null,
   "metadata": {
    "collapsed": true,
    "scrolled": true
   },
   "outputs": [],
   "source": [
    "# 筛选电影发布日期大于 2010-01-01 或 评论数超过 50万 的title列\n",
    "df[ (df['release_date'] > '2010-01-01') | (df['vote_count'] > 500000) ][['title']].head()"
   ]
  },
  {
   "cell_type": "code",
   "execution_count": null,
   "metadata": {
    "collapsed": true
   },
   "outputs": [],
   "source": [
    "df[ (df['release_date'] > '2010-01-01') | (df['vote_count'] > 500000) ]['title'].head()"
   ]
  },
  {
   "cell_type": "markdown",
   "metadata": {},
   "source": [
    "借助一些函数进行筛选，比如：\n",
    "\n",
    "isnull ( ) 函数：筛选空值\n",
    "\n",
    "notnull ( ) 函数：筛选非空值\n",
    "\n",
    "isin( ) 函数：筛选某个字段的值在给定列表中"
   ]
  },
  {
   "cell_type": "code",
   "execution_count": null,
   "metadata": {
    "collapsed": true
   },
   "outputs": [],
   "source": [
    "df['url'].isnull()"
   ]
  },
  {
   "cell_type": "code",
   "execution_count": null,
   "metadata": {
    "collapsed": true
   },
   "outputs": [],
   "source": [
    "df[df['regions'].notnull()][['title']].size"
   ]
  },
  {
   "cell_type": "code",
   "execution_count": null,
   "metadata": {
    "collapsed": true
   },
   "outputs": [],
   "source": [
    "df[df['score'].isin([8.0, 9.0, 9.5])][['title']].size"
   ]
  },
  {
   "cell_type": "code",
   "execution_count": null,
   "metadata": {
    "collapsed": true
   },
   "outputs": [],
   "source": [
    "df[df['score'].isin([8.0, 9.0, 9.5])][['title']].head()"
   ]
  },
  {
   "cell_type": "markdown",
   "metadata": {},
   "source": [
    "Pandas 教程——电影数据是干净的吗(1)"
   ]
  },
  {
   "cell_type": "code",
   "execution_count": null,
   "metadata": {
    "collapsed": true
   },
   "outputs": [],
   "source": [
    "df[['id', 'types']][1000:1006]"
   ]
  },
  {
   "cell_type": "code",
   "execution_count": null,
   "metadata": {
    "collapsed": true
   },
   "outputs": [],
   "source": [
    "df[ df['id'] == 10455077 ][['types','category', 'rank']]"
   ]
  },
  {
   "cell_type": "markdown",
   "metadata": {},
   "source": [
    "按列删除，需要设置 axis 值为 1"
   ]
  },
  {
   "cell_type": "code",
   "execution_count": null,
   "metadata": {
    "collapsed": true
   },
   "outputs": [],
   "source": [
    "df.drop(['category', 'rank'], axis = 1)"
   ]
  },
  {
   "cell_type": "markdown",
   "metadata": {},
   "source": [
    "按行删除：一般先获取到需要删除数据的索引，然后根据索引删除"
   ]
  },
  {
   "cell_type": "code",
   "execution_count": null,
   "metadata": {
    "collapsed": true
   },
   "outputs": [],
   "source": [
    "drop_indexes = df[ df['regions'] == '[意大利]' ].index\n",
    "drop_indexes"
   ]
  },
  {
   "cell_type": "code",
   "execution_count": null,
   "metadata": {
    "collapsed": true
   },
   "outputs": [],
   "source": [
    "df.loc[175]"
   ]
  },
  {
   "cell_type": "code",
   "execution_count": null,
   "metadata": {
    "collapsed": true
   },
   "outputs": [],
   "source": [
    "df.drop(drop_indexes)#axis ＝0 为默认值，表示按行删除，不需要赋值。"
   ]
  },
  {
   "cell_type": "markdown",
   "metadata": {},
   "source": [
    "Pandas 中去重使用 drop_duplicates( ) 函数"
   ]
  },
  {
   "cell_type": "code",
   "execution_count": null,
   "metadata": {
    "collapsed": true
   },
   "outputs": [],
   "source": [
    "new_movie_pd = df.drop(['category', 'rank'], axis = 1)\n",
    "print(new_movie_pd.head(1))\n",
    "new_movie_pd = df.drop_duplicates() #去除特定列下面的重复行。返回DataFrame格式的数据"
   ]
  },
  {
   "cell_type": "code",
   "execution_count": null,
   "metadata": {
    "collapsed": true
   },
   "outputs": [],
   "source": [
    "len(new_movie_pd)"
   ]
  },
  {
   "cell_type": "code",
   "execution_count": null,
   "metadata": {
    "collapsed": true
   },
   "outputs": [],
   "source": [
    "print(new_movie_pd['id'].unique()) #返回去重后id数组\n",
    "print(new_movie_pd['id'].nunique())#nunique( ) 函数直接返回 id 去重后的个数\n"
   ]
  },
  {
   "cell_type": "code",
   "execution_count": null,
   "metadata": {
    "collapsed": true
   },
   "outputs": [],
   "source": [
    "# 一个GroupBy对象，它实际上还没有进行任何计算，只是含有一些有关分组键的中间数据而已，\n",
    "# 然后我们可以调用GroupBy的响应方法来计算分组平均值\n",
    "movie_count = new_movie_pd.groupby('id')\n",
    "print(movie_count)\n",
    "movie_count = new_movie_pd.groupby('id').size().reset_index(name='count')\n",
    "movie_count.head()"
   ]
  },
  {
   "cell_type": "code",
   "execution_count": null,
   "metadata": {
    "collapsed": true
   },
   "outputs": [],
   "source": [
    "movie_count[ movie_count['count'] > 1 ].head()"
   ]
  },
  {
   "cell_type": "markdown",
   "metadata": {},
   "source": [
    "Pandas 教程——电影数据是干净的吗(2)\n",
    "\n",
    "map( ) : 参数可以传入字典 或 使用 lambda 表达式\n",
    "\n",
    "to_datetime( )：将 字符串类型 转化为 日期类型\n",
    "\n",
    "cut( ) : 对数值型变量划分区间"
   ]
  },
  {
   "cell_type": "markdown",
   "metadata": {},
   "source": [
    "比如需要根据电影的评分增加电影评分等级 movie_level 新列 ，评分小于 7.5 分的等级是 B，7.5 到 9.0 之间的是 A，9.0 以上的是 S"
   ]
  },
  {
   "cell_type": "code",
   "execution_count": null,
   "metadata": {
    "collapsed": true
   },
   "outputs": [],
   "source": [
    "movie_pd = pd.read_csv('douban_movie.csv', header=0, sep='\\t')\n",
    "movie_level_list = list()\n",
    "for i in movie_pd.index:\n",
    "\tscore = movie_pd.loc[i, 'score'] # 行，列\n",
    "\tif score < 7.5:\n",
    "\t\tmovie_level = 'B'\n",
    "\telif 7.5 <= score < 9.0:\n",
    "\t\tmovie_level = 'A'\n",
    "\telse:\n",
    "\t\tmovie_level = 'S'\n",
    "\tmovie_level_list.append(movie_level)\n",
    "movie_pd['movie_level'] = pd.Series(movie_level_list)\n",
    "movie_pd[['score', 'movie_level']].head()"
   ]
  },
  {
   "cell_type": "markdown",
   "metadata": {},
   "source": [
    "map( ) 函数：参数中可以传入字典，也可以使用 lambda 表达式,用来增加新列\n",
    "\n",
    "如 is_playable 字段在 Pandas 中的值是 True/False\n",
    "\n",
    "增加一列中文的新列，True 对应的值为 可以播放，False 对应的值为 不能播放，写法如下\n"
   ]
  },
  {
   "cell_type": "code",
   "execution_count": null,
   "metadata": {
    "collapsed": true
   },
   "outputs": [],
   "source": [
    "movie_pd['playable_ch'] = movie_pd['is_playable'].map({True: '可以播放', False: '不能播放'})"
   ]
  },
  {
   "cell_type": "code",
   "execution_count": null,
   "metadata": {
    "collapsed": true
   },
   "outputs": [],
   "source": [
    "movie_pd[['score','playable_ch','is_playable']].head()"
   ]
  },
  {
   "cell_type": "markdown",
   "metadata": {},
   "source": [
    "又比如电影评分 9.0 以上才我想看的，增加一列 want_watch，1 表示想看，0 表示不想看\n",
    "\n",
    "使用 lambda 表达式，其中的 x 就相当于 for 循环时每次的 score 值。"
   ]
  },
  {
   "cell_type": "code",
   "execution_count": null,
   "metadata": {
    "collapsed": true
   },
   "outputs": [],
   "source": [
    "movie_pd['want_watch'] = movie_pd['score'].map(lambda x: 1 if x >= 9.0 else 0)"
   ]
  },
  {
   "cell_type": "code",
   "execution_count": null,
   "metadata": {
    "collapsed": true
   },
   "outputs": [],
   "source": [
    "movie_pd[['score','want_watch','title']].head()"
   ]
  },
  {
   "cell_type": "markdown",
   "metadata": {},
   "source": [
    "根据电影的上映日期 release_date 和 评论人数 vote_count，计算每部电影每天的平均评价人数\n",
    "\n",
    "首先，使用 to_datetime( ) 函数将 字符串类型 转化为日期；\n",
    "\n",
    "然后使用 map( ) 函数计算电影上映日期距离现在的时间差，并转化为天数；\n",
    "\n",
    "最后，vote_count 和 total_day 两列直接相除得到 每部电影每天的平均评价人数。"
   ]
  },
  {
   "cell_type": "code",
   "execution_count": null,
   "metadata": {
    "collapsed": true
   },
   "outputs": [],
   "source": [
    "movie_pd['release_date'] = pd.to_datetime(movie_pd['release_date'])\n",
    "movie_pd['total_day'] = movie_pd['release_date'].map(lambda x: (dt.now() - x).total_seconds() / (3600 * 24))\n",
    "movie_pd['daily_vote'] = movie_pd['vote_count'] / movie_pd['total_day']\n",
    "movie_pd[['release_date', 'total_day', 'vote_count', 'daily_vote']].head()"
   ]
  },
  {
   "cell_type": "markdown",
   "metadata": {},
   "source": [
    "cut( ) 函数：完美解决根据变量值划分区间的问题\n",
    "\n",
    "bins 参数为一个列表，表示划分区间的临界值，labels 为不同区间对应的值，right = False 表示前必后开，默认为 前开后必，所以最终的区间为：[0, 7.5) 对应值为 B，[7.5,9.0) 对应值为 A，9.0 及以上对应值为 S，float('Inf') 表示正无穷大。\n",
    "\n",
    "刚开始对电影评级的问题，现在可以这么写："
   ]
  },
  {
   "cell_type": "code",
   "execution_count": null,
   "metadata": {
    "collapsed": true
   },
   "outputs": [],
   "source": [
    "movie_pd['movie_level'] =  pd.cut(movie_pd['score'], bins = [0, 7.5, 9.0, float('Inf')], labels = ['B', 'A', 'S'], right = False)"
   ]
  },
  {
   "cell_type": "code",
   "execution_count": null,
   "metadata": {
    "collapsed": true
   },
   "outputs": [],
   "source": [
    "movie_pd[['score', 'movie_level']].head()"
   ]
  },
  {
   "cell_type": "markdown",
   "metadata": {},
   "source": [
    "Pandas 教程——不同类型电影的比较(1)"
   ]
  },
  {
   "cell_type": "code",
   "execution_count": null,
   "metadata": {
    "collapsed": true
   },
   "outputs": [],
   "source": [
    "movie_pd[ movie_pd['url'].isnull() ].head(10)# 筛选电影链接为空的前 10 条"
   ]
  },
  {
   "cell_type": "markdown",
   "metadata": {},
   "source": [
    "按照电影类型 category 分组计算每个类型的电影个数"
   ]
  },
  {
   "cell_type": "code",
   "execution_count": null,
   "metadata": {
    "collapsed": true
   },
   "outputs": [],
   "source": [
    "import pandas as pd\n",
    "import numpy as np\n",
    "\n",
    "movie_pd = pd.read_csv('douban_movie.csv', header=0, sep='\\t')\n",
    "movie_pd.groupby('category').size()"
   ]
  },
  {
   "cell_type": "markdown",
   "metadata": {},
   "source": [
    "其类型为 Series，如果想要转化为 DataFrame 格式，同时给电影个数那一列添加列名 num，可以使用 reset_index( ) 函数，写法如下"
   ]
  },
  {
   "cell_type": "code",
   "execution_count": null,
   "metadata": {
    "collapsed": true
   },
   "outputs": [],
   "source": [
    "movie_pd.groupby('category').size().reset_index(name = 'num')"
   ]
  },
  {
   "cell_type": "markdown",
   "metadata": {},
   "source": [
    "SQL 中还会涉及到 count ( distinct movie_id ) 的去重计数操作，这个时候把 size( ) 函数替换为 nunique( ) 函数\n",
    "\n",
    "即可，如下："
   ]
  },
  {
   "cell_type": "code",
   "execution_count": null,
   "metadata": {
    "collapsed": true
   },
   "outputs": [],
   "source": [
    "movie_pd.groupby('category')['id'].nunique().reset_index(name='num')"
   ]
  },
  {
   "cell_type": "code",
   "execution_count": null,
   "metadata": {
    "collapsed": true
   },
   "outputs": [],
   "source": [
    "movie_pd.columns"
   ]
  },
  {
   "cell_type": "markdown",
   "metadata": {},
   "source": [
    "agg：辅助分组的函数\n",
    "有时候按照某个字段分组以后，需要计算多个字段的值，这个时候就可以借助 agg 函数来实现。\n",
    "\n",
    "pandas引入了agg函数，它提供基于列的聚合操作。而groupby可以看做是基于行，或者说index的聚合操作。"
   ]
  },
  {
   "cell_type": "code",
   "execution_count": null,
   "metadata": {
    "collapsed": true
   },
   "outputs": [],
   "source": [
    "agg_pd = movie_pd.groupby('id').agg({\n",
    "\t'score': [ np.max, np.min ], 'vote_count': np.mean}).reset_index()\n",
    "\n",
    "agg_pd.head()"
   ]
  },
  {
   "cell_type": "code",
   "execution_count": null,
   "metadata": {
    "collapsed": true
   },
   "outputs": [],
   "source": [
    "agg_pd.columns"
   ]
  },
  {
   "cell_type": "code",
   "execution_count": null,
   "metadata": {
    "collapsed": true
   },
   "outputs": [],
   "source": [
    "for temp in agg_pd.columns:\n",
    "\tprint(temp)"
   ]
  },
  {
   "cell_type": "markdown",
   "metadata": {},
   "source": [
    "实现多字段分组"
   ]
  },
  {
   "cell_type": "code",
   "execution_count": null,
   "metadata": {
    "collapsed": true
   },
   "outputs": [],
   "source": [
    "movie_pd.groupby(['category', 'id']).agg({\n",
    "\t'score': np.mean, 'vote_count': np.max}).reset_index()"
   ]
  },
  {
   "cell_type": "markdown",
   "metadata": {},
   "source": [
    "如果需要对分组结果进行排序的话，使用 sort_values( ) 函数\n",
    "\n",
    "比如按照 score 降序排列，可以写成："
   ]
  },
  {
   "cell_type": "code",
   "execution_count": null,
   "metadata": {
    "collapsed": true
   },
   "outputs": [],
   "source": [
    "movie_pd.groupby(['category', 'id']).agg({\n",
    "\t'score': np.mean, 'vote_count': np.mean\n",
    "}).reset_index().sort_values('score', ascending = False)"
   ]
  },
  {
   "cell_type": "markdown",
   "metadata": {},
   "source": [
    "Pandas 教程——不同类型电影的比较(2)\n",
    "\n",
    "除了 常见的分组操作，另一个比较重要的是多个 DataFrame 之间的连接操作 和 合并操作，在 MySQL 中相对应的就是 join 和 union 关键字。\n",
    "\n",
    "merge ( ) 函数"
   ]
  },
  {
   "cell_type": "code",
   "execution_count": null,
   "metadata": {
    "collapsed": true
   },
   "outputs": [],
   "source": [
    "merge_pd = pd.merge(movie_pd_1, movie_pd_2, on = 'movie_id')"
   ]
  },
  {
   "cell_type": "markdown",
   "metadata": {},
   "source": [
    "如果需要实现类似于 MySQL 中的 left / right join 操作，只需要加入参数 how = 'left' 或者how = 'right' 即可，如下："
   ]
  },
  {
   "cell_type": "code",
   "execution_count": null,
   "metadata": {
    "collapsed": true
   },
   "outputs": [],
   "source": [
    "merge_pd = pd.merge(movie_pd_1, movie_pd_2, on = 'movie_id', how = 'left')"
   ]
  },
  {
   "cell_type": "markdown",
   "metadata": {},
   "source": [
    "concat ( ) 函数对应\n",
    "MySQL 中合并两个表："
   ]
  },
  {
   "cell_type": "code",
   "execution_count": null,
   "metadata": {
    "collapsed": true
   },
   "outputs": [],
   "source": [
    "union_pd = pd.concat([movie_pd_1, movie_pd_2], ignore_index = True)\n",
    "#ignore_index 参数表示 union 时忽略两个 DataFrame 的索引，同时会建新的索引。"
   ]
  },
  {
   "cell_type": "markdown",
   "metadata": {},
   "source": [
    "如果想要实现 union 操作的话，concat 完成后去重即可，如下："
   ]
  },
  {
   "cell_type": "code",
   "execution_count": null,
   "metadata": {
    "collapsed": true
   },
   "outputs": [],
   "source": [
    "union_pd = pd.concat([movie_pd_1, movie_pd_2], ignore_index = True).drop_duplicates()"
   ]
  },
  {
   "cell_type": "code",
   "execution_count": null,
   "metadata": {
    "collapsed": true
   },
   "outputs": [],
   "source": []
  }
 ],
 "metadata": {
  "kernelspec": {
   "display_name": "Python 3",
   "language": "python",
   "name": "python3"
  },
  "language_info": {
   "codemirror_mode": {
    "name": "ipython",
    "version": 3
   },
   "file_extension": ".py",
   "mimetype": "text/x-python",
   "name": "python",
   "nbconvert_exporter": "python",
   "pygments_lexer": "ipython3",
   "version": "3.6.3"
  },
  "toc": {
   "base_numbering": 1,
   "nav_menu": {},
   "number_sections": true,
   "sideBar": true,
   "skip_h1_title": false,
   "title_cell": "Table of Contents",
   "title_sidebar": "Contents",
   "toc_cell": false,
   "toc_position": {
    "height": "calc(100% - 180px)",
    "left": "10px",
    "top": "150px",
    "width": "203px"
   },
   "toc_section_display": true,
   "toc_window_display": true
  }
 },
 "nbformat": 4,
 "nbformat_minor": 2
}
