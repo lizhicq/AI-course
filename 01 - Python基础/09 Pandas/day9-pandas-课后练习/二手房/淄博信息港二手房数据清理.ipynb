{
 "cells": [
  {
   "cell_type": "markdown",
   "metadata": {},
   "source": [
    "### 导入必要的库，简单设置"
   ]
  },
  {
   "cell_type": "code",
   "execution_count": null,
   "metadata": {
    "collapsed": true
   },
   "outputs": [],
   "source": [
    "import pandas as pd\n",
    "\n",
    "import numpy as np\n",
    "import matplotlib.pyplot as plt\n",
    "import seaborn as sns\n",
    "pd.options.display.max_columns=99\n",
    "sns.set(font='Microsoft YaHei Mono')\n",
    "%matplotlib inline\n",
    "import warnings\n",
    "warnings.filterwarnings('ignore')"
   ]
  },
  {
   "cell_type": "markdown",
   "metadata": {},
   "source": [
    "### 读取要处理的数据"
   ]
  },
  {
   "cell_type": "code",
   "execution_count": null,
   "metadata": {
    "collapsed": true
   },
   "outputs": [],
   "source": [
    "??pd.read_csv"
   ]
  },
  {
   "cell_type": "code",
   "execution_count": null,
   "metadata": {
    "collapsed": true
   },
   "outputs": [],
   "source": [
    "df = pd.read_csv('淄博信息港二手房详情20160110.csv', engine='python', encoding='utf8')\n"
   ]
  },
  {
   "cell_type": "markdown",
   "metadata": {},
   "source": [
    "### 原始数据需要处理的问题\n",
    "- 部分列存储了多列信息\n",
    "    比如my_column_5列中的一个数据：户型：3室 2厅 1卫 楼层：18 /22，我们希望处理成：\n",
    "   \n",
    "| 室 | 厅 | 卫 | 所在层 | 总楼层 |\n",
    "| :-: | :-: | :-: | :-: | :-: |\n",
    "| 3 | 2 | 1 | 18 | 22 |\n",
    "\n",
    "- 大部分列包含了不需要的字符：~~朝向：~~东、~~装修：~~毛坯……\n",
    "- 处理完成之后需要做格式转换，发布时间应该是日期，价格、面积、室厅卫数量应该是数值……\n",
    "- 需要计算出一些辅助信息，比如说根据建造年代生成房龄。"
   ]
  },
  {
   "cell_type": "markdown",
   "metadata": {},
   "source": [
    "#### 由简至繁，先处理只需要剔除冗余字符的列。"
   ]
  },
  {
   "cell_type": "code",
   "execution_count": null,
   "metadata": {},
   "outputs": [],
   "source": [
    "df.head()"
   ]
  },
  {
   "cell_type": "code",
   "execution_count": null,
   "metadata": {},
   "outputs": [],
   "source": [
    "new_df[\"区县\"]= df['my_column'].str.replace(\"二手房\",\"\")  #新增一列\n",
    "new_df[\"区县\"].value_counts()"
   ]
  },
  {
   "cell_type": "code",
   "execution_count": null,
   "metadata": {
    "scrolled": true
   },
   "outputs": [],
   "source": []
  },
  {
   "cell_type": "markdown",
   "metadata": {},
   "source": [
    "*貌似只有张店人在用淄博信息港。*"
   ]
  },
  {
   "cell_type": "code",
   "execution_count": null,
   "metadata": {},
   "outputs": [],
   "source": []
  },
  {
   "cell_type": "code",
   "execution_count": null,
   "metadata": {},
   "outputs": [],
   "source": []
  },
  {
   "cell_type": "markdown",
   "metadata": {},
   "source": [
    "*小区名称还需要整理，为了简化，可以舍弃名称不对的数据*"
   ]
  },
  {
   "cell_type": "code",
   "execution_count": null,
   "metadata": {
    "collapsed": true
   },
   "outputs": [],
   "source": []
  },
  {
   "cell_type": "markdown",
   "metadata": {},
   "source": [
    "类型：住宅 =>  新增列名 类型，值为 住宅"
   ]
  },
  {
   "cell_type": "code",
   "execution_count": null,
   "metadata": {},
   "outputs": [],
   "source": [
    "new_df[\"类型\"]= df['my_column_8'].str.replace(\"类型：\",\"\")\n",
    "new_df[\"类型\"].value_counts()"
   ]
  },
  {
   "cell_type": "code",
   "execution_count": null,
   "metadata": {},
   "outputs": [],
   "source": [
    "new_df.head(3)"
   ]
  },
  {
   "cell_type": "markdown",
   "metadata": {},
   "source": [
    "同理：建造年代：1997 年  ， 提取出建造的年份，列名为 “建造年代”"
   ]
  },
  {
   "cell_type": "code",
   "execution_count": null,
   "metadata": {},
   "outputs": [],
   "source": []
  },
  {
   "cell_type": "code",
   "execution_count": null,
   "metadata": {},
   "outputs": [],
   "source": []
  },
  {
   "cell_type": "markdown",
   "metadata": {},
   "source": [
    "*2010年是盖房子高潮？*"
   ]
  },
  {
   "cell_type": "code",
   "execution_count": null,
   "metadata": {},
   "outputs": [],
   "source": [
    "新增“装修”一列装修，内容为装修的类型如毛坯等"
   ]
  },
  {
   "cell_type": "code",
   "execution_count": null,
   "metadata": {},
   "outputs": [],
   "source": []
  },
  {
   "cell_type": "code",
   "execution_count": null,
   "metadata": {
    "collapsed": true
   },
   "outputs": [],
   "source": [
    "新增“朝向”一列"
   ]
  },
  {
   "cell_type": "code",
   "execution_count": null,
   "metadata": {},
   "outputs": [],
   "source": []
  },
  {
   "cell_type": "markdown",
   "metadata": {},
   "source": [
    "*南北和南有什么区别？东西和东有什么区别？*"
   ]
  },
  {
   "cell_type": "markdown",
   "metadata": {},
   "source": [
    "“发布时间”"
   ]
  },
  {
   "cell_type": "code",
   "execution_count": null,
   "metadata": {
    "collapsed": true
   },
   "outputs": [],
   "source": []
  },
  {
   "cell_type": "code",
   "execution_count": null,
   "metadata": {
    "collapsed": true
   },
   "outputs": [],
   "source": [
    "“价格”"
   ]
  },
  {
   "cell_type": "code",
   "execution_count": null,
   "metadata": {},
   "outputs": [],
   "source": []
  },
  {
   "cell_type": "code",
   "execution_count": null,
   "metadata": {},
   "outputs": [],
   "source": []
  },
  {
   "cell_type": "markdown",
   "metadata": {},
   "source": [
    "#### 接下来处理稍微复杂些的，需要拆分的列"
   ]
  },
  {
   "cell_type": "markdown",
   "metadata": {},
   "source": [
    "**面积** \n",
    "- 面积：120㎡ 车:15㎡\n",
    "- 面积：130㎡ 储:17㎡\n",
    "- ……"
   ]
  },
  {
   "cell_type": "code",
   "execution_count": null,
   "metadata": {},
   "outputs": [],
   "source": [
    "df.head(1)"
   ]
  },
  {
   "cell_type": "code",
   "execution_count": null,
   "metadata": {},
   "outputs": [],
   "source": [
    "s1=\"面积：120㎡ 车:15㎡\"\n",
    "s2=\"面积：130㎡ 储:17㎡\"\n",
    "\n",
    "def deal_str(s,k):\n",
    "    d={\"面积\":np.nan,\"车\":np.nan,\"储\":np.nan}\n",
    "    if type(s)==type(\"\"):# pandas 中的Nan值是flaot类型的，如果出现缺失值，当成字符处理就会出错。\n",
    "        s=s.replace(\"㎡\",\"\").replace(\"：\",\":\")\n",
    "        l=s.split(\" \")\n",
    "        #print('l-->', l)\n",
    "        for i in l:\n",
    "            tmpl=i.split(\":\")\n",
    "            #print('tmp->', tmpl)\n",
    "            d[tmpl[0]]=tmpl[1]\n",
    "    return d[k]\n",
    "\n",
    "def get_area(s):\n",
    "    return deal_str(s,k=\"面积\")\n",
    "def get_car(s):\n",
    "    return deal_str(s,k=\"车\")\n",
    "def get_store(s):\n",
    "    return deal_str(s,k=\"储\")\n",
    "    \n",
    "        \n",
    "get_area(s1),get_area(s2)"
   ]
  },
  {
   "cell_type": "code",
   "execution_count": null,
   "metadata": {},
   "outputs": [],
   "source": [
    "new_df[\"面积\"]=df[\"my_column_4\"].map(get_area)\n",
    "new_df[\"车库\"]=df[\"my_column_4\"].map(get_car)\n",
    "new_df[\"储藏室\"]=df[\"my_column_4\"].map(get_store)\n",
    "new_df.head()"
   ]
  },
  {
   "cell_type": "markdown",
   "metadata": {},
   "source": [
    "**户型和楼层** \n",
    "- 户型：2室 2厅 1卫 楼层：4 /5 \n",
    "- ……"
   ]
  },
  {
   "cell_type": "code",
   "execution_count": null,
   "metadata": {
    "collapsed": true
   },
   "outputs": [],
   "source": [
    "import re"
   ]
  },
  {
   "cell_type": "code",
   "execution_count": null,
   "metadata": {},
   "outputs": [],
   "source": []
  },
  {
   "cell_type": "code",
   "execution_count": null,
   "metadata": {},
   "outputs": [],
   "source": []
  },
  {
   "cell_type": "code",
   "execution_count": null,
   "metadata": {},
   "outputs": [],
   "source": []
  },
  {
   "cell_type": "code",
   "execution_count": null,
   "metadata": {},
   "outputs": [],
   "source": []
  },
  {
   "cell_type": "code",
   "execution_count": null,
   "metadata": {},
   "outputs": [],
   "source": []
  },
  {
   "cell_type": "code",
   "execution_count": null,
   "metadata": {},
   "outputs": [],
   "source": []
  },
  {
   "cell_type": "code",
   "execution_count": null,
   "metadata": {},
   "outputs": [],
   "source": []
  },
  {
   "cell_type": "code",
   "execution_count": null,
   "metadata": {},
   "outputs": [],
   "source": []
  },
  {
   "cell_type": "code",
   "execution_count": null,
   "metadata": {
    "collapsed": true
   },
   "outputs": [],
   "source": []
  },
  {
   "cell_type": "code",
   "execution_count": null,
   "metadata": {
    "collapsed": true
   },
   "outputs": [],
   "source": []
  },
  {
   "cell_type": "markdown",
   "metadata": {},
   "source": [
    "将结果写入文件"
   ]
  },
  {
   "cell_type": "code",
   "execution_count": null,
   "metadata": {
    "collapsed": true
   },
   "outputs": [],
   "source": [
    "new_df.to_excel(\"淄博信息港二手房信息20160110my.xlsx\")"
   ]
  },
  {
   "cell_type": "code",
   "execution_count": null,
   "metadata": {
    "collapsed": true
   },
   "outputs": [],
   "source": []
  }
 ],
 "metadata": {
  "kernelspec": {
   "display_name": "Python 3",
   "language": "python",
   "name": "python3"
  },
  "language_info": {
   "codemirror_mode": {
    "name": "ipython",
    "version": 3
   },
   "file_extension": ".py",
   "mimetype": "text/x-python",
   "name": "python",
   "nbconvert_exporter": "python",
   "pygments_lexer": "ipython3",
   "version": "3.6.3"
  },
  "toc": {
   "base_numbering": 1,
   "nav_menu": {},
   "number_sections": true,
   "sideBar": true,
   "skip_h1_title": false,
   "title_cell": "Table of Contents",
   "title_sidebar": "Contents",
   "toc_cell": false,
   "toc_position": {},
   "toc_section_display": true,
   "toc_window_display": false
  }
 },
 "nbformat": 4,
 "nbformat_minor": 1
}
