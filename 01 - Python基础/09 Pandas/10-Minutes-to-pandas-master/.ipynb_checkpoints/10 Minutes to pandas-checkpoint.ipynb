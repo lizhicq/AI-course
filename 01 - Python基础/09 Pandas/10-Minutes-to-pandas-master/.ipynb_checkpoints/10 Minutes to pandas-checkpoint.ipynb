{
 "cells": [
  {
   "cell_type": "code",
   "execution_count": 2,
   "metadata": {
    "collapsed": true
   },
   "outputs": [],
   "source": [
    "#coding:utf8\n",
    "%matplotlib inline"
   ]
  },
  {
   "cell_type": "code",
   "execution_count": 3,
   "metadata": {},
   "outputs": [
    {
     "data": {
      "text/html": [
       "<style>body {\n",
       "    margin: 0;\n",
       "    font-family: Helvetica;\n",
       "}\n",
       "table.dataframe {\n",
       "    border-collapse: collapse;\n",
       "    border: none;\n",
       "}\n",
       "table.dataframe tr {\n",
       "    border: none;\n",
       "}\n",
       "table.dataframe td, table.dataframe th {\n",
       "    margin: 0;\n",
       "    border: 1px solid white;\n",
       "    padding-left: 0.25em;\n",
       "    padding-right: 0.25em;\n",
       "}\n",
       "table.dataframe th:not(:empty) {\n",
       "    background-color: #fec;\n",
       "    text-align: left;\n",
       "    font-weight: normal;\n",
       "}\n",
       "table.dataframe tr:nth-child(2) th:empty {\n",
       "    border-left: none;\n",
       "    border-right: 1px dashed #888;\n",
       "}\n",
       "table.dataframe td {\n",
       "    border: 2px solid #ccf;\n",
       "    background-color: #f4f4ff;\n",
       "}\n",
       "h1 {\n",
       "    color: white;\n",
       "    background-color: black;\n",
       "    padding: 0.5em;   \n",
       "    font-size: 12pt\n",
       "}\n",
       "h2 {\n",
       "    color: white;\n",
       "    background-color: black;\n",
       "    padding: 0.5em;   \n",
       "    font-size:8pt\n",
       "}\n",
       "div.text_cell_render{\n",
       "    background-color:gray;\n",
       "}\n",
       "</style>"
      ],
      "text/plain": [
       "<IPython.core.display.HTML object>"
      ]
     },
     "execution_count": 3,
     "metadata": {},
     "output_type": "execute_result"
    }
   ],
   "source": [
    "from IPython.core.display import HTML\n",
    "css = open('style-table.css').read() + open('style-notebook.css').read()\n",
    "HTML('<style>{}</style>'.format(css))"
   ]
  },
  {
   "cell_type": "markdown",
   "metadata": {},
   "source": [
    "这个一篇针对pandas新手的简短入门，想要了解更多复杂的内容，参阅[*Cookbook*](http://pandas.pydata.org/pandas-docs/stable/cookbook.html#cookbook)"
   ]
  },
  {
   "cell_type": "markdown",
   "metadata": {},
   "source": [
    "通常，我们首先要导入以下几个库："
   ]
  },
  {
   "cell_type": "code",
   "execution_count": 4,
   "metadata": {
    "collapsed": true
   },
   "outputs": [],
   "source": [
    "import pandas as pd\n",
    "import numpy as np\n",
    "import matplotlib.pyplot as plt"
   ]
  },
  {
   "cell_type": "markdown",
   "metadata": {},
   "source": [
    "# 创建对象"
   ]
  },
  {
   "cell_type": "markdown",
   "metadata": {},
   "source": [
    "通过传递一个list来创建**Series**，pandas会默认创建整型索引："
   ]
  },
  {
   "cell_type": "code",
   "execution_count": 4,
   "metadata": {},
   "outputs": [
    {
     "data": {
      "text/plain": [
       "0     1\n",
       "1     3\n",
       "2     5\n",
       "3   NaN\n",
       "4     6\n",
       "5     8\n",
       "dtype: float64"
      ]
     },
     "execution_count": 4,
     "metadata": {},
     "output_type": "execute_result"
    }
   ],
   "source": [
    "s = pd.Series([1,3,5,np.nan,6,8])\n",
    "s"
   ]
  },
  {
   "cell_type": "markdown",
   "metadata": {},
   "source": [
    "通过传递一个numpy array，日期索引以及列标签来创建一个**DataFrame**："
   ]
  },
  {
   "cell_type": "code",
   "execution_count": 5,
   "metadata": {},
   "outputs": [
    {
     "data": {
      "text/plain": [
       "DatetimeIndex(['2018-04-01', '2018-04-02', '2018-04-03', '2018-04-04',\n",
       "               '2018-04-05', '2018-04-06'],\n",
       "              dtype='datetime64[ns]', freq='D')"
      ]
     },
     "execution_count": 5,
     "metadata": {},
     "output_type": "execute_result"
    }
   ],
   "source": [
    "dates = pd.date_range('20180401', periods=6)\n",
    "dates"
   ]
  },
  {
   "cell_type": "code",
   "execution_count": 9,
   "metadata": {},
   "outputs": [
    {
     "data": {
      "text/html": [
       "<div>\n",
       "<style>\n",
       "    .dataframe thead tr:only-child th {\n",
       "        text-align: right;\n",
       "    }\n",
       "\n",
       "    .dataframe thead th {\n",
       "        text-align: left;\n",
       "    }\n",
       "\n",
       "    .dataframe tbody tr th {\n",
       "        vertical-align: top;\n",
       "    }\n",
       "</style>\n",
       "<table border=\"1\" class=\"dataframe\">\n",
       "  <thead>\n",
       "    <tr style=\"text-align: right;\">\n",
       "      <th></th>\n",
       "      <th>A</th>\n",
       "      <th>B</th>\n",
       "      <th>C</th>\n",
       "      <th>D</th>\n",
       "    </tr>\n",
       "  </thead>\n",
       "  <tbody>\n",
       "    <tr>\n",
       "      <th>2018-04-01</th>\n",
       "      <td>2.420255</td>\n",
       "      <td>1.445292</td>\n",
       "      <td>-0.245844</td>\n",
       "      <td>0.046493</td>\n",
       "    </tr>\n",
       "    <tr>\n",
       "      <th>2018-04-02</th>\n",
       "      <td>-0.124341</td>\n",
       "      <td>-0.968569</td>\n",
       "      <td>0.127922</td>\n",
       "      <td>-0.828133</td>\n",
       "    </tr>\n",
       "    <tr>\n",
       "      <th>2018-04-03</th>\n",
       "      <td>-1.378899</td>\n",
       "      <td>-0.875539</td>\n",
       "      <td>-0.286990</td>\n",
       "      <td>-1.246508</td>\n",
       "    </tr>\n",
       "    <tr>\n",
       "      <th>2018-04-04</th>\n",
       "      <td>-0.804304</td>\n",
       "      <td>-1.342883</td>\n",
       "      <td>-0.273744</td>\n",
       "      <td>-0.463993</td>\n",
       "    </tr>\n",
       "    <tr>\n",
       "      <th>2018-04-05</th>\n",
       "      <td>0.026397</td>\n",
       "      <td>-0.509180</td>\n",
       "      <td>0.188580</td>\n",
       "      <td>0.229223</td>\n",
       "    </tr>\n",
       "    <tr>\n",
       "      <th>2018-04-06</th>\n",
       "      <td>1.375437</td>\n",
       "      <td>-2.400504</td>\n",
       "      <td>-0.506746</td>\n",
       "      <td>-0.241345</td>\n",
       "    </tr>\n",
       "  </tbody>\n",
       "</table>\n",
       "</div>"
      ],
      "text/plain": [
       "                   A         B         C         D\n",
       "2018-04-01  2.420255  1.445292 -0.245844  0.046493\n",
       "2018-04-02 -0.124341 -0.968569  0.127922 -0.828133\n",
       "2018-04-03 -1.378899 -0.875539 -0.286990 -1.246508\n",
       "2018-04-04 -0.804304 -1.342883 -0.273744 -0.463993\n",
       "2018-04-05  0.026397 -0.509180  0.188580  0.229223\n",
       "2018-04-06  1.375437 -2.400504 -0.506746 -0.241345"
      ]
     },
     "execution_count": 9,
     "metadata": {},
     "output_type": "execute_result"
    }
   ],
   "source": [
    "df = pd.DataFrame(np.random.randn(6,4), index=dates, columns=list('ABCD'))\n",
    "df"
   ]
  },
  {
   "cell_type": "markdown",
   "metadata": {},
   "source": [
    "通过传递一个能够被转换为类似series的dict对象来创建一个**DataFrame**:"
   ]
  },
  {
   "cell_type": "code",
   "execution_count": 6,
   "metadata": {},
   "outputs": [
    {
     "data": {
      "text/html": [
       "<div>\n",
       "<style>\n",
       "    .dataframe thead tr:only-child th {\n",
       "        text-align: right;\n",
       "    }\n",
       "\n",
       "    .dataframe thead th {\n",
       "        text-align: left;\n",
       "    }\n",
       "\n",
       "    .dataframe tbody tr th {\n",
       "        vertical-align: top;\n",
       "    }\n",
       "</style>\n",
       "<table border=\"1\" class=\"dataframe\">\n",
       "  <thead>\n",
       "    <tr style=\"text-align: right;\">\n",
       "      <th></th>\n",
       "      <th>A</th>\n",
       "      <th>B</th>\n",
       "      <th>C</th>\n",
       "      <th>D</th>\n",
       "      <th>E</th>\n",
       "      <th>F</th>\n",
       "    </tr>\n",
       "  </thead>\n",
       "  <tbody>\n",
       "    <tr>\n",
       "      <th>0</th>\n",
       "      <td>1.0</td>\n",
       "      <td>2018-01-01</td>\n",
       "      <td>1.0</td>\n",
       "      <td>3</td>\n",
       "      <td>test</td>\n",
       "      <td>foo</td>\n",
       "    </tr>\n",
       "    <tr>\n",
       "      <th>1</th>\n",
       "      <td>1.0</td>\n",
       "      <td>2018-01-01</td>\n",
       "      <td>1.0</td>\n",
       "      <td>3</td>\n",
       "      <td>train</td>\n",
       "      <td>foo</td>\n",
       "    </tr>\n",
       "    <tr>\n",
       "      <th>2</th>\n",
       "      <td>1.0</td>\n",
       "      <td>2018-01-01</td>\n",
       "      <td>1.0</td>\n",
       "      <td>3</td>\n",
       "      <td>test</td>\n",
       "      <td>foo</td>\n",
       "    </tr>\n",
       "    <tr>\n",
       "      <th>3</th>\n",
       "      <td>1.0</td>\n",
       "      <td>2018-01-01</td>\n",
       "      <td>1.0</td>\n",
       "      <td>3</td>\n",
       "      <td>train</td>\n",
       "      <td>foo</td>\n",
       "    </tr>\n",
       "  </tbody>\n",
       "</table>\n",
       "</div>"
      ],
      "text/plain": [
       "     A          B    C  D      E    F\n",
       "0  1.0 2018-01-01  1.0  3   test  foo\n",
       "1  1.0 2018-01-01  1.0  3  train  foo\n",
       "2  1.0 2018-01-01  1.0  3   test  foo\n",
       "3  1.0 2018-01-01  1.0  3  train  foo"
      ]
     },
     "execution_count": 6,
     "metadata": {},
     "output_type": "execute_result"
    }
   ],
   "source": [
    "df2 = pd.DataFrame({ 'A' : 1.,\n",
    "                     'B' : pd.Timestamp('20180101'),\n",
    "                     'C' : pd.Series(1,index=list(range(4)),dtype='float32'),\n",
    "                     'D' : np.array([3]*4,dtype='int32'),\n",
    "                     'E' : pd.Categorical([\"test\",\"train\",\"test\",\"train\"]),\n",
    "                     'F' : 'foo' })\n",
    "df2"
   ]
  },
  {
   "cell_type": "markdown",
   "metadata": {},
   "source": [
    "可以看到各列的数据类型为："
   ]
  },
  {
   "cell_type": "code",
   "execution_count": 7,
   "metadata": {},
   "outputs": [
    {
     "data": {
      "text/plain": [
       "A           float64\n",
       "B    datetime64[ns]\n",
       "C           float32\n",
       "D             int32\n",
       "E          category\n",
       "F            object\n",
       "dtype: object"
      ]
     },
     "execution_count": 7,
     "metadata": {},
     "output_type": "execute_result"
    }
   ],
   "source": [
    "df2.dtypes"
   ]
  },
  {
   "cell_type": "markdown",
   "metadata": {},
   "source": [
    "# 查看数据"
   ]
  },
  {
   "cell_type": "markdown",
   "metadata": {},
   "source": [
    "查看frame中头部和尾部的几行："
   ]
  },
  {
   "cell_type": "code",
   "execution_count": 10,
   "metadata": {},
   "outputs": [
    {
     "data": {
      "text/html": [
       "<div>\n",
       "<style>\n",
       "    .dataframe thead tr:only-child th {\n",
       "        text-align: right;\n",
       "    }\n",
       "\n",
       "    .dataframe thead th {\n",
       "        text-align: left;\n",
       "    }\n",
       "\n",
       "    .dataframe tbody tr th {\n",
       "        vertical-align: top;\n",
       "    }\n",
       "</style>\n",
       "<table border=\"1\" class=\"dataframe\">\n",
       "  <thead>\n",
       "    <tr style=\"text-align: right;\">\n",
       "      <th></th>\n",
       "      <th>A</th>\n",
       "      <th>B</th>\n",
       "      <th>C</th>\n",
       "      <th>D</th>\n",
       "    </tr>\n",
       "  </thead>\n",
       "  <tbody>\n",
       "    <tr>\n",
       "      <th>2018-04-01</th>\n",
       "      <td>2.420255</td>\n",
       "      <td>1.445292</td>\n",
       "      <td>-0.245844</td>\n",
       "      <td>0.046493</td>\n",
       "    </tr>\n",
       "    <tr>\n",
       "      <th>2018-04-02</th>\n",
       "      <td>-0.124341</td>\n",
       "      <td>-0.968569</td>\n",
       "      <td>0.127922</td>\n",
       "      <td>-0.828133</td>\n",
       "    </tr>\n",
       "    <tr>\n",
       "      <th>2018-04-03</th>\n",
       "      <td>-1.378899</td>\n",
       "      <td>-0.875539</td>\n",
       "      <td>-0.286990</td>\n",
       "      <td>-1.246508</td>\n",
       "    </tr>\n",
       "  </tbody>\n",
       "</table>\n",
       "</div>"
      ],
      "text/plain": [
       "                   A         B         C         D\n",
       "2018-04-01  2.420255  1.445292 -0.245844  0.046493\n",
       "2018-04-02 -0.124341 -0.968569  0.127922 -0.828133\n",
       "2018-04-03 -1.378899 -0.875539 -0.286990 -1.246508"
      ]
     },
     "execution_count": 10,
     "metadata": {},
     "output_type": "execute_result"
    }
   ],
   "source": [
    "df.head(3)"
   ]
  },
  {
   "cell_type": "code",
   "execution_count": 11,
   "metadata": {},
   "outputs": [
    {
     "data": {
      "text/html": [
       "<div>\n",
       "<style>\n",
       "    .dataframe thead tr:only-child th {\n",
       "        text-align: right;\n",
       "    }\n",
       "\n",
       "    .dataframe thead th {\n",
       "        text-align: left;\n",
       "    }\n",
       "\n",
       "    .dataframe tbody tr th {\n",
       "        vertical-align: top;\n",
       "    }\n",
       "</style>\n",
       "<table border=\"1\" class=\"dataframe\">\n",
       "  <thead>\n",
       "    <tr style=\"text-align: right;\">\n",
       "      <th></th>\n",
       "      <th>A</th>\n",
       "      <th>B</th>\n",
       "      <th>C</th>\n",
       "      <th>D</th>\n",
       "    </tr>\n",
       "  </thead>\n",
       "  <tbody>\n",
       "    <tr>\n",
       "      <th>2018-04-04</th>\n",
       "      <td>-0.804304</td>\n",
       "      <td>-1.342883</td>\n",
       "      <td>-0.273744</td>\n",
       "      <td>-0.463993</td>\n",
       "    </tr>\n",
       "    <tr>\n",
       "      <th>2018-04-05</th>\n",
       "      <td>0.026397</td>\n",
       "      <td>-0.509180</td>\n",
       "      <td>0.188580</td>\n",
       "      <td>0.229223</td>\n",
       "    </tr>\n",
       "    <tr>\n",
       "      <th>2018-04-06</th>\n",
       "      <td>1.375437</td>\n",
       "      <td>-2.400504</td>\n",
       "      <td>-0.506746</td>\n",
       "      <td>-0.241345</td>\n",
       "    </tr>\n",
       "  </tbody>\n",
       "</table>\n",
       "</div>"
      ],
      "text/plain": [
       "                   A         B         C         D\n",
       "2018-04-04 -0.804304 -1.342883 -0.273744 -0.463993\n",
       "2018-04-05  0.026397 -0.509180  0.188580  0.229223\n",
       "2018-04-06  1.375437 -2.400504 -0.506746 -0.241345"
      ]
     },
     "execution_count": 11,
     "metadata": {},
     "output_type": "execute_result"
    }
   ],
   "source": [
    "df.tail(3)"
   ]
  },
  {
   "cell_type": "markdown",
   "metadata": {},
   "source": [
    "显示索引、列名以及底层的numpy数据"
   ]
  },
  {
   "cell_type": "code",
   "execution_count": 12,
   "metadata": {},
   "outputs": [
    {
     "data": {
      "text/plain": [
       "DatetimeIndex(['2018-04-01', '2018-04-02', '2018-04-03', '2018-04-04',\n",
       "               '2018-04-05', '2018-04-06'],\n",
       "              dtype='datetime64[ns]', freq='D')"
      ]
     },
     "execution_count": 12,
     "metadata": {},
     "output_type": "execute_result"
    }
   ],
   "source": [
    "df.index"
   ]
  },
  {
   "cell_type": "code",
   "execution_count": 13,
   "metadata": {},
   "outputs": [
    {
     "data": {
      "text/plain": [
       "Index(['A', 'B', 'C', 'D'], dtype='object')"
      ]
     },
     "execution_count": 13,
     "metadata": {},
     "output_type": "execute_result"
    }
   ],
   "source": [
    "df.columns"
   ]
  },
  {
   "cell_type": "code",
   "execution_count": 14,
   "metadata": {},
   "outputs": [
    {
     "data": {
      "text/plain": [
       "array([[ 2.42025464,  1.44529159, -0.24584385,  0.04649285],\n",
       "       [-0.12434103, -0.96856872,  0.12792213, -0.8281332 ],\n",
       "       [-1.37889901, -0.87553947, -0.28699   , -1.24650773],\n",
       "       [-0.80430367, -1.342883  , -0.27374374, -0.46399278],\n",
       "       [ 0.02639724, -0.50918049,  0.18857979,  0.22922345],\n",
       "       [ 1.37543653, -2.40050363, -0.50674607, -0.24134513]])"
      ]
     },
     "execution_count": 14,
     "metadata": {},
     "output_type": "execute_result"
    }
   ],
   "source": [
    "df.values"
   ]
  },
  {
   "cell_type": "markdown",
   "metadata": {},
   "source": [
    "describe()能对数据做一个快速统计汇总"
   ]
  },
  {
   "cell_type": "code",
   "execution_count": 15,
   "metadata": {},
   "outputs": [
    {
     "data": {
      "text/html": [
       "<div>\n",
       "<style>\n",
       "    .dataframe thead tr:only-child th {\n",
       "        text-align: right;\n",
       "    }\n",
       "\n",
       "    .dataframe thead th {\n",
       "        text-align: left;\n",
       "    }\n",
       "\n",
       "    .dataframe tbody tr th {\n",
       "        vertical-align: top;\n",
       "    }\n",
       "</style>\n",
       "<table border=\"1\" class=\"dataframe\">\n",
       "  <thead>\n",
       "    <tr style=\"text-align: right;\">\n",
       "      <th></th>\n",
       "      <th>A</th>\n",
       "      <th>B</th>\n",
       "      <th>C</th>\n",
       "      <th>D</th>\n",
       "    </tr>\n",
       "  </thead>\n",
       "  <tbody>\n",
       "    <tr>\n",
       "      <th>count</th>\n",
       "      <td>6.000000</td>\n",
       "      <td>6.000000</td>\n",
       "      <td>6.000000</td>\n",
       "      <td>6.000000</td>\n",
       "    </tr>\n",
       "    <tr>\n",
       "      <th>mean</th>\n",
       "      <td>0.252424</td>\n",
       "      <td>-0.775231</td>\n",
       "      <td>-0.166137</td>\n",
       "      <td>-0.417377</td>\n",
       "    </tr>\n",
       "    <tr>\n",
       "      <th>std</th>\n",
       "      <td>1.409367</td>\n",
       "      <td>1.265913</td>\n",
       "      <td>0.268644</td>\n",
       "      <td>0.551834</td>\n",
       "    </tr>\n",
       "    <tr>\n",
       "      <th>min</th>\n",
       "      <td>-1.378899</td>\n",
       "      <td>-2.400504</td>\n",
       "      <td>-0.506746</td>\n",
       "      <td>-1.246508</td>\n",
       "    </tr>\n",
       "    <tr>\n",
       "      <th>25%</th>\n",
       "      <td>-0.634313</td>\n",
       "      <td>-1.249304</td>\n",
       "      <td>-0.283678</td>\n",
       "      <td>-0.737098</td>\n",
       "    </tr>\n",
       "    <tr>\n",
       "      <th>50%</th>\n",
       "      <td>-0.048972</td>\n",
       "      <td>-0.922054</td>\n",
       "      <td>-0.259794</td>\n",
       "      <td>-0.352669</td>\n",
       "    </tr>\n",
       "    <tr>\n",
       "      <th>75%</th>\n",
       "      <td>1.038177</td>\n",
       "      <td>-0.600770</td>\n",
       "      <td>0.034481</td>\n",
       "      <td>-0.025467</td>\n",
       "    </tr>\n",
       "    <tr>\n",
       "      <th>max</th>\n",
       "      <td>2.420255</td>\n",
       "      <td>1.445292</td>\n",
       "      <td>0.188580</td>\n",
       "      <td>0.229223</td>\n",
       "    </tr>\n",
       "  </tbody>\n",
       "</table>\n",
       "</div>"
      ],
      "text/plain": [
       "              A         B         C         D\n",
       "count  6.000000  6.000000  6.000000  6.000000\n",
       "mean   0.252424 -0.775231 -0.166137 -0.417377\n",
       "std    1.409367  1.265913  0.268644  0.551834\n",
       "min   -1.378899 -2.400504 -0.506746 -1.246508\n",
       "25%   -0.634313 -1.249304 -0.283678 -0.737098\n",
       "50%   -0.048972 -0.922054 -0.259794 -0.352669\n",
       "75%    1.038177 -0.600770  0.034481 -0.025467\n",
       "max    2.420255  1.445292  0.188580  0.229223"
      ]
     },
     "execution_count": 15,
     "metadata": {},
     "output_type": "execute_result"
    }
   ],
   "source": [
    "df.describe()"
   ]
  },
  {
   "cell_type": "markdown",
   "metadata": {},
   "source": [
    "对数据做转置："
   ]
  },
  {
   "cell_type": "code",
   "execution_count": 16,
   "metadata": {},
   "outputs": [
    {
     "data": {
      "text/html": [
       "<div>\n",
       "<style>\n",
       "    .dataframe thead tr:only-child th {\n",
       "        text-align: right;\n",
       "    }\n",
       "\n",
       "    .dataframe thead th {\n",
       "        text-align: left;\n",
       "    }\n",
       "\n",
       "    .dataframe tbody tr th {\n",
       "        vertical-align: top;\n",
       "    }\n",
       "</style>\n",
       "<table border=\"1\" class=\"dataframe\">\n",
       "  <thead>\n",
       "    <tr style=\"text-align: right;\">\n",
       "      <th></th>\n",
       "      <th>2018-04-01 00:00:00</th>\n",
       "      <th>2018-04-02 00:00:00</th>\n",
       "      <th>2018-04-03 00:00:00</th>\n",
       "      <th>2018-04-04 00:00:00</th>\n",
       "      <th>2018-04-05 00:00:00</th>\n",
       "      <th>2018-04-06 00:00:00</th>\n",
       "    </tr>\n",
       "  </thead>\n",
       "  <tbody>\n",
       "    <tr>\n",
       "      <th>A</th>\n",
       "      <td>2.420255</td>\n",
       "      <td>-0.124341</td>\n",
       "      <td>-1.378899</td>\n",
       "      <td>-0.804304</td>\n",
       "      <td>0.026397</td>\n",
       "      <td>1.375437</td>\n",
       "    </tr>\n",
       "    <tr>\n",
       "      <th>B</th>\n",
       "      <td>1.445292</td>\n",
       "      <td>-0.968569</td>\n",
       "      <td>-0.875539</td>\n",
       "      <td>-1.342883</td>\n",
       "      <td>-0.509180</td>\n",
       "      <td>-2.400504</td>\n",
       "    </tr>\n",
       "    <tr>\n",
       "      <th>C</th>\n",
       "      <td>-0.245844</td>\n",
       "      <td>0.127922</td>\n",
       "      <td>-0.286990</td>\n",
       "      <td>-0.273744</td>\n",
       "      <td>0.188580</td>\n",
       "      <td>-0.506746</td>\n",
       "    </tr>\n",
       "    <tr>\n",
       "      <th>D</th>\n",
       "      <td>0.046493</td>\n",
       "      <td>-0.828133</td>\n",
       "      <td>-1.246508</td>\n",
       "      <td>-0.463993</td>\n",
       "      <td>0.229223</td>\n",
       "      <td>-0.241345</td>\n",
       "    </tr>\n",
       "  </tbody>\n",
       "</table>\n",
       "</div>"
      ],
      "text/plain": [
       "   2018-04-01  2018-04-02  2018-04-03  2018-04-04  2018-04-05  2018-04-06\n",
       "A    2.420255   -0.124341   -1.378899   -0.804304    0.026397    1.375437\n",
       "B    1.445292   -0.968569   -0.875539   -1.342883   -0.509180   -2.400504\n",
       "C   -0.245844    0.127922   -0.286990   -0.273744    0.188580   -0.506746\n",
       "D    0.046493   -0.828133   -1.246508   -0.463993    0.229223   -0.241345"
      ]
     },
     "execution_count": 16,
     "metadata": {},
     "output_type": "execute_result"
    }
   ],
   "source": [
    "df.T"
   ]
  },
  {
   "cell_type": "markdown",
   "metadata": {},
   "source": [
    "按轴进行排序："
   ]
  },
  {
   "cell_type": "code",
   "execution_count": 17,
   "metadata": {},
   "outputs": [
    {
     "data": {
      "text/html": [
       "<div>\n",
       "<style>\n",
       "    .dataframe thead tr:only-child th {\n",
       "        text-align: right;\n",
       "    }\n",
       "\n",
       "    .dataframe thead th {\n",
       "        text-align: left;\n",
       "    }\n",
       "\n",
       "    .dataframe tbody tr th {\n",
       "        vertical-align: top;\n",
       "    }\n",
       "</style>\n",
       "<table border=\"1\" class=\"dataframe\">\n",
       "  <thead>\n",
       "    <tr style=\"text-align: right;\">\n",
       "      <th></th>\n",
       "      <th>D</th>\n",
       "      <th>C</th>\n",
       "      <th>B</th>\n",
       "      <th>A</th>\n",
       "    </tr>\n",
       "  </thead>\n",
       "  <tbody>\n",
       "    <tr>\n",
       "      <th>2018-04-01</th>\n",
       "      <td>0.046493</td>\n",
       "      <td>-0.245844</td>\n",
       "      <td>1.445292</td>\n",
       "      <td>2.420255</td>\n",
       "    </tr>\n",
       "    <tr>\n",
       "      <th>2018-04-02</th>\n",
       "      <td>-0.828133</td>\n",
       "      <td>0.127922</td>\n",
       "      <td>-0.968569</td>\n",
       "      <td>-0.124341</td>\n",
       "    </tr>\n",
       "    <tr>\n",
       "      <th>2018-04-03</th>\n",
       "      <td>-1.246508</td>\n",
       "      <td>-0.286990</td>\n",
       "      <td>-0.875539</td>\n",
       "      <td>-1.378899</td>\n",
       "    </tr>\n",
       "    <tr>\n",
       "      <th>2018-04-04</th>\n",
       "      <td>-0.463993</td>\n",
       "      <td>-0.273744</td>\n",
       "      <td>-1.342883</td>\n",
       "      <td>-0.804304</td>\n",
       "    </tr>\n",
       "    <tr>\n",
       "      <th>2018-04-05</th>\n",
       "      <td>0.229223</td>\n",
       "      <td>0.188580</td>\n",
       "      <td>-0.509180</td>\n",
       "      <td>0.026397</td>\n",
       "    </tr>\n",
       "    <tr>\n",
       "      <th>2018-04-06</th>\n",
       "      <td>-0.241345</td>\n",
       "      <td>-0.506746</td>\n",
       "      <td>-2.400504</td>\n",
       "      <td>1.375437</td>\n",
       "    </tr>\n",
       "  </tbody>\n",
       "</table>\n",
       "</div>"
      ],
      "text/plain": [
       "                   D         C         B         A\n",
       "2018-04-01  0.046493 -0.245844  1.445292  2.420255\n",
       "2018-04-02 -0.828133  0.127922 -0.968569 -0.124341\n",
       "2018-04-03 -1.246508 -0.286990 -0.875539 -1.378899\n",
       "2018-04-04 -0.463993 -0.273744 -1.342883 -0.804304\n",
       "2018-04-05  0.229223  0.188580 -0.509180  0.026397\n",
       "2018-04-06 -0.241345 -0.506746 -2.400504  1.375437"
      ]
     },
     "execution_count": 17,
     "metadata": {},
     "output_type": "execute_result"
    }
   ],
   "source": [
    "df.sort_index(axis=1, ascending=False)"
   ]
  },
  {
   "cell_type": "markdown",
   "metadata": {},
   "source": [
    "按值进行排序 :"
   ]
  },
  {
   "cell_type": "code",
   "execution_count": 18,
   "metadata": {},
   "outputs": [
    {
     "data": {
      "text/html": [
       "<div>\n",
       "<style>\n",
       "    .dataframe thead tr:only-child th {\n",
       "        text-align: right;\n",
       "    }\n",
       "\n",
       "    .dataframe thead th {\n",
       "        text-align: left;\n",
       "    }\n",
       "\n",
       "    .dataframe tbody tr th {\n",
       "        vertical-align: top;\n",
       "    }\n",
       "</style>\n",
       "<table border=\"1\" class=\"dataframe\">\n",
       "  <thead>\n",
       "    <tr style=\"text-align: right;\">\n",
       "      <th></th>\n",
       "      <th>A</th>\n",
       "      <th>B</th>\n",
       "      <th>C</th>\n",
       "      <th>D</th>\n",
       "    </tr>\n",
       "  </thead>\n",
       "  <tbody>\n",
       "    <tr>\n",
       "      <th>2018-04-06</th>\n",
       "      <td>1.375437</td>\n",
       "      <td>-2.400504</td>\n",
       "      <td>-0.506746</td>\n",
       "      <td>-0.241345</td>\n",
       "    </tr>\n",
       "    <tr>\n",
       "      <th>2018-04-04</th>\n",
       "      <td>-0.804304</td>\n",
       "      <td>-1.342883</td>\n",
       "      <td>-0.273744</td>\n",
       "      <td>-0.463993</td>\n",
       "    </tr>\n",
       "    <tr>\n",
       "      <th>2018-04-02</th>\n",
       "      <td>-0.124341</td>\n",
       "      <td>-0.968569</td>\n",
       "      <td>0.127922</td>\n",
       "      <td>-0.828133</td>\n",
       "    </tr>\n",
       "    <tr>\n",
       "      <th>2018-04-03</th>\n",
       "      <td>-1.378899</td>\n",
       "      <td>-0.875539</td>\n",
       "      <td>-0.286990</td>\n",
       "      <td>-1.246508</td>\n",
       "    </tr>\n",
       "    <tr>\n",
       "      <th>2018-04-05</th>\n",
       "      <td>0.026397</td>\n",
       "      <td>-0.509180</td>\n",
       "      <td>0.188580</td>\n",
       "      <td>0.229223</td>\n",
       "    </tr>\n",
       "    <tr>\n",
       "      <th>2018-04-01</th>\n",
       "      <td>2.420255</td>\n",
       "      <td>1.445292</td>\n",
       "      <td>-0.245844</td>\n",
       "      <td>0.046493</td>\n",
       "    </tr>\n",
       "  </tbody>\n",
       "</table>\n",
       "</div>"
      ],
      "text/plain": [
       "                   A         B         C         D\n",
       "2018-04-06  1.375437 -2.400504 -0.506746 -0.241345\n",
       "2018-04-04 -0.804304 -1.342883 -0.273744 -0.463993\n",
       "2018-04-02 -0.124341 -0.968569  0.127922 -0.828133\n",
       "2018-04-03 -1.378899 -0.875539 -0.286990 -1.246508\n",
       "2018-04-05  0.026397 -0.509180  0.188580  0.229223\n",
       "2018-04-01  2.420255  1.445292 -0.245844  0.046493"
      ]
     },
     "execution_count": 18,
     "metadata": {},
     "output_type": "execute_result"
    }
   ],
   "source": [
    "df.sort_values(by='B')"
   ]
  },
  {
   "cell_type": "markdown",
   "metadata": {},
   "source": [
    "# 数据选择"
   ]
  },
  {
   "cell_type": "markdown",
   "metadata": {},
   "source": [
    "注意：虽然标准的Python/Numpy的表达式能完成选择与赋值等功能，但我们仍推荐使用优化过的pandas数据访问方法：.at，.iat，.loc，.iloc和.ix"
   ]
  },
  {
   "cell_type": "markdown",
   "metadata": {},
   "source": [
    "## 选取"
   ]
  },
  {
   "cell_type": "markdown",
   "metadata": {},
   "source": [
    "选择某一列数据，它会返回一个**Series**，等同于**df.A**："
   ]
  },
  {
   "cell_type": "code",
   "execution_count": 19,
   "metadata": {},
   "outputs": [
    {
     "data": {
      "text/plain": [
       "2018-04-01    2.420255\n",
       "2018-04-02   -0.124341\n",
       "2018-04-03   -1.378899\n",
       "2018-04-04   -0.804304\n",
       "2018-04-05    0.026397\n",
       "2018-04-06    1.375437\n",
       "Freq: D, Name: A, dtype: float64"
      ]
     },
     "execution_count": 19,
     "metadata": {},
     "output_type": "execute_result"
    }
   ],
   "source": [
    "df['A']"
   ]
  },
  {
   "cell_type": "markdown",
   "metadata": {},
   "source": [
    "通过使用**[ ]**进行切片选取："
   ]
  },
  {
   "cell_type": "code",
   "execution_count": 20,
   "metadata": {},
   "outputs": [
    {
     "data": {
      "text/html": [
       "<div>\n",
       "<style>\n",
       "    .dataframe thead tr:only-child th {\n",
       "        text-align: right;\n",
       "    }\n",
       "\n",
       "    .dataframe thead th {\n",
       "        text-align: left;\n",
       "    }\n",
       "\n",
       "    .dataframe tbody tr th {\n",
       "        vertical-align: top;\n",
       "    }\n",
       "</style>\n",
       "<table border=\"1\" class=\"dataframe\">\n",
       "  <thead>\n",
       "    <tr style=\"text-align: right;\">\n",
       "      <th></th>\n",
       "      <th>A</th>\n",
       "      <th>B</th>\n",
       "      <th>C</th>\n",
       "      <th>D</th>\n",
       "    </tr>\n",
       "  </thead>\n",
       "  <tbody>\n",
       "    <tr>\n",
       "      <th>2018-04-01</th>\n",
       "      <td>2.420255</td>\n",
       "      <td>1.445292</td>\n",
       "      <td>-0.245844</td>\n",
       "      <td>0.046493</td>\n",
       "    </tr>\n",
       "    <tr>\n",
       "      <th>2018-04-02</th>\n",
       "      <td>-0.124341</td>\n",
       "      <td>-0.968569</td>\n",
       "      <td>0.127922</td>\n",
       "      <td>-0.828133</td>\n",
       "    </tr>\n",
       "    <tr>\n",
       "      <th>2018-04-03</th>\n",
       "      <td>-1.378899</td>\n",
       "      <td>-0.875539</td>\n",
       "      <td>-0.286990</td>\n",
       "      <td>-1.246508</td>\n",
       "    </tr>\n",
       "  </tbody>\n",
       "</table>\n",
       "</div>"
      ],
      "text/plain": [
       "                   A         B         C         D\n",
       "2018-04-01  2.420255  1.445292 -0.245844  0.046493\n",
       "2018-04-02 -0.124341 -0.968569  0.127922 -0.828133\n",
       "2018-04-03 -1.378899 -0.875539 -0.286990 -1.246508"
      ]
     },
     "execution_count": 20,
     "metadata": {},
     "output_type": "execute_result"
    }
   ],
   "source": [
    "df[0:3]"
   ]
  },
  {
   "cell_type": "code",
   "execution_count": 23,
   "metadata": {},
   "outputs": [
    {
     "data": {
      "text/html": [
       "<div>\n",
       "<style>\n",
       "    .dataframe thead tr:only-child th {\n",
       "        text-align: right;\n",
       "    }\n",
       "\n",
       "    .dataframe thead th {\n",
       "        text-align: left;\n",
       "    }\n",
       "\n",
       "    .dataframe tbody tr th {\n",
       "        vertical-align: top;\n",
       "    }\n",
       "</style>\n",
       "<table border=\"1\" class=\"dataframe\">\n",
       "  <thead>\n",
       "    <tr style=\"text-align: right;\">\n",
       "      <th></th>\n",
       "      <th>A</th>\n",
       "      <th>B</th>\n",
       "      <th>C</th>\n",
       "      <th>D</th>\n",
       "    </tr>\n",
       "  </thead>\n",
       "  <tbody>\n",
       "    <tr>\n",
       "      <th>2018-04-01</th>\n",
       "      <td>2.420255</td>\n",
       "      <td>1.445292</td>\n",
       "      <td>-0.245844</td>\n",
       "      <td>0.046493</td>\n",
       "    </tr>\n",
       "    <tr>\n",
       "      <th>2018-04-02</th>\n",
       "      <td>-0.124341</td>\n",
       "      <td>-0.968569</td>\n",
       "      <td>0.127922</td>\n",
       "      <td>-0.828133</td>\n",
       "    </tr>\n",
       "    <tr>\n",
       "      <th>2018-04-03</th>\n",
       "      <td>-1.378899</td>\n",
       "      <td>-0.875539</td>\n",
       "      <td>-0.286990</td>\n",
       "      <td>-1.246508</td>\n",
       "    </tr>\n",
       "    <tr>\n",
       "      <th>2018-04-04</th>\n",
       "      <td>-0.804304</td>\n",
       "      <td>-1.342883</td>\n",
       "      <td>-0.273744</td>\n",
       "      <td>-0.463993</td>\n",
       "    </tr>\n",
       "  </tbody>\n",
       "</table>\n",
       "</div>"
      ],
      "text/plain": [
       "                   A         B         C         D\n",
       "2018-04-01  2.420255  1.445292 -0.245844  0.046493\n",
       "2018-04-02 -0.124341 -0.968569  0.127922 -0.828133\n",
       "2018-04-03 -1.378899 -0.875539 -0.286990 -1.246508\n",
       "2018-04-04 -0.804304 -1.342883 -0.273744 -0.463993"
      ]
     },
     "execution_count": 23,
     "metadata": {},
     "output_type": "execute_result"
    }
   ],
   "source": [
    "df['20180401':'20180404']"
   ]
  },
  {
   "cell_type": "markdown",
   "metadata": {},
   "source": [
    "## 通过标签选取"
   ]
  },
  {
   "cell_type": "markdown",
   "metadata": {},
   "source": [
    "通过标签进行交叉选取："
   ]
  },
  {
   "cell_type": "code",
   "execution_count": 25,
   "metadata": {},
   "outputs": [
    {
     "data": {
      "text/plain": [
       "DatetimeIndex(['2018-04-01', '2018-04-02', '2018-04-03', '2018-04-04',\n",
       "               '2018-04-05', '2018-04-06'],\n",
       "              dtype='datetime64[ns]', freq='D')"
      ]
     },
     "execution_count": 25,
     "metadata": {},
     "output_type": "execute_result"
    }
   ],
   "source": [
    "dates"
   ]
  },
  {
   "cell_type": "code",
   "execution_count": 26,
   "metadata": {},
   "outputs": [
    {
     "data": {
      "text/html": [
       "<div>\n",
       "<style>\n",
       "    .dataframe thead tr:only-child th {\n",
       "        text-align: right;\n",
       "    }\n",
       "\n",
       "    .dataframe thead th {\n",
       "        text-align: left;\n",
       "    }\n",
       "\n",
       "    .dataframe tbody tr th {\n",
       "        vertical-align: top;\n",
       "    }\n",
       "</style>\n",
       "<table border=\"1\" class=\"dataframe\">\n",
       "  <thead>\n",
       "    <tr style=\"text-align: right;\">\n",
       "      <th></th>\n",
       "      <th>A</th>\n",
       "      <th>B</th>\n",
       "      <th>C</th>\n",
       "      <th>D</th>\n",
       "    </tr>\n",
       "  </thead>\n",
       "  <tbody>\n",
       "    <tr>\n",
       "      <th>2018-04-01</th>\n",
       "      <td>2.420255</td>\n",
       "      <td>1.445292</td>\n",
       "      <td>-0.245844</td>\n",
       "      <td>0.046493</td>\n",
       "    </tr>\n",
       "    <tr>\n",
       "      <th>2018-04-02</th>\n",
       "      <td>-0.124341</td>\n",
       "      <td>-0.968569</td>\n",
       "      <td>0.127922</td>\n",
       "      <td>-0.828133</td>\n",
       "    </tr>\n",
       "    <tr>\n",
       "      <th>2018-04-03</th>\n",
       "      <td>-1.378899</td>\n",
       "      <td>-0.875539</td>\n",
       "      <td>-0.286990</td>\n",
       "      <td>-1.246508</td>\n",
       "    </tr>\n",
       "    <tr>\n",
       "      <th>2018-04-04</th>\n",
       "      <td>-0.804304</td>\n",
       "      <td>-1.342883</td>\n",
       "      <td>-0.273744</td>\n",
       "      <td>-0.463993</td>\n",
       "    </tr>\n",
       "    <tr>\n",
       "      <th>2018-04-05</th>\n",
       "      <td>0.026397</td>\n",
       "      <td>-0.509180</td>\n",
       "      <td>0.188580</td>\n",
       "      <td>0.229223</td>\n",
       "    </tr>\n",
       "    <tr>\n",
       "      <th>2018-04-06</th>\n",
       "      <td>1.375437</td>\n",
       "      <td>-2.400504</td>\n",
       "      <td>-0.506746</td>\n",
       "      <td>-0.241345</td>\n",
       "    </tr>\n",
       "  </tbody>\n",
       "</table>\n",
       "</div>"
      ],
      "text/plain": [
       "                   A         B         C         D\n",
       "2018-04-01  2.420255  1.445292 -0.245844  0.046493\n",
       "2018-04-02 -0.124341 -0.968569  0.127922 -0.828133\n",
       "2018-04-03 -1.378899 -0.875539 -0.286990 -1.246508\n",
       "2018-04-04 -0.804304 -1.342883 -0.273744 -0.463993\n",
       "2018-04-05  0.026397 -0.509180  0.188580  0.229223\n",
       "2018-04-06  1.375437 -2.400504 -0.506746 -0.241345"
      ]
     },
     "execution_count": 26,
     "metadata": {},
     "output_type": "execute_result"
    }
   ],
   "source": [
    "df"
   ]
  },
  {
   "cell_type": "code",
   "execution_count": 24,
   "metadata": {},
   "outputs": [
    {
     "data": {
      "text/plain": [
       "A    2.420255\n",
       "B    1.445292\n",
       "C   -0.245844\n",
       "D    0.046493\n",
       "Name: 2018-04-01 00:00:00, dtype: float64"
      ]
     },
     "execution_count": 24,
     "metadata": {},
     "output_type": "execute_result"
    }
   ],
   "source": [
    "df.loc[dates[0]]"
   ]
  },
  {
   "cell_type": "markdown",
   "metadata": {},
   "source": [
    "使用标签对多个轴进行选取"
   ]
  },
  {
   "cell_type": "code",
   "execution_count": 27,
   "metadata": {},
   "outputs": [
    {
     "data": {
      "text/html": [
       "<div>\n",
       "<style>\n",
       "    .dataframe thead tr:only-child th {\n",
       "        text-align: right;\n",
       "    }\n",
       "\n",
       "    .dataframe thead th {\n",
       "        text-align: left;\n",
       "    }\n",
       "\n",
       "    .dataframe tbody tr th {\n",
       "        vertical-align: top;\n",
       "    }\n",
       "</style>\n",
       "<table border=\"1\" class=\"dataframe\">\n",
       "  <thead>\n",
       "    <tr style=\"text-align: right;\">\n",
       "      <th></th>\n",
       "      <th>A</th>\n",
       "      <th>B</th>\n",
       "    </tr>\n",
       "  </thead>\n",
       "  <tbody>\n",
       "    <tr>\n",
       "      <th>2018-04-01</th>\n",
       "      <td>2.420255</td>\n",
       "      <td>1.445292</td>\n",
       "    </tr>\n",
       "    <tr>\n",
       "      <th>2018-04-02</th>\n",
       "      <td>-0.124341</td>\n",
       "      <td>-0.968569</td>\n",
       "    </tr>\n",
       "    <tr>\n",
       "      <th>2018-04-03</th>\n",
       "      <td>-1.378899</td>\n",
       "      <td>-0.875539</td>\n",
       "    </tr>\n",
       "    <tr>\n",
       "      <th>2018-04-04</th>\n",
       "      <td>-0.804304</td>\n",
       "      <td>-1.342883</td>\n",
       "    </tr>\n",
       "    <tr>\n",
       "      <th>2018-04-05</th>\n",
       "      <td>0.026397</td>\n",
       "      <td>-0.509180</td>\n",
       "    </tr>\n",
       "    <tr>\n",
       "      <th>2018-04-06</th>\n",
       "      <td>1.375437</td>\n",
       "      <td>-2.400504</td>\n",
       "    </tr>\n",
       "  </tbody>\n",
       "</table>\n",
       "</div>"
      ],
      "text/plain": [
       "                   A         B\n",
       "2018-04-01  2.420255  1.445292\n",
       "2018-04-02 -0.124341 -0.968569\n",
       "2018-04-03 -1.378899 -0.875539\n",
       "2018-04-04 -0.804304 -1.342883\n",
       "2018-04-05  0.026397 -0.509180\n",
       "2018-04-06  1.375437 -2.400504"
      ]
     },
     "execution_count": 27,
     "metadata": {},
     "output_type": "execute_result"
    }
   ],
   "source": [
    "df.loc[:,['A','B']]"
   ]
  },
  {
   "cell_type": "markdown",
   "metadata": {},
   "source": [
    "进行标签切片，包含两个端点"
   ]
  },
  {
   "cell_type": "code",
   "execution_count": 28,
   "metadata": {},
   "outputs": [
    {
     "data": {
      "text/html": [
       "<div>\n",
       "<style>\n",
       "    .dataframe thead tr:only-child th {\n",
       "        text-align: right;\n",
       "    }\n",
       "\n",
       "    .dataframe thead th {\n",
       "        text-align: left;\n",
       "    }\n",
       "\n",
       "    .dataframe tbody tr th {\n",
       "        vertical-align: top;\n",
       "    }\n",
       "</style>\n",
       "<table border=\"1\" class=\"dataframe\">\n",
       "  <thead>\n",
       "    <tr style=\"text-align: right;\">\n",
       "      <th></th>\n",
       "      <th>A</th>\n",
       "      <th>B</th>\n",
       "    </tr>\n",
       "  </thead>\n",
       "  <tbody>\n",
       "    <tr>\n",
       "      <th>2018-04-02</th>\n",
       "      <td>-0.124341</td>\n",
       "      <td>-0.968569</td>\n",
       "    </tr>\n",
       "    <tr>\n",
       "      <th>2018-04-03</th>\n",
       "      <td>-1.378899</td>\n",
       "      <td>-0.875539</td>\n",
       "    </tr>\n",
       "    <tr>\n",
       "      <th>2018-04-04</th>\n",
       "      <td>-0.804304</td>\n",
       "      <td>-1.342883</td>\n",
       "    </tr>\n",
       "  </tbody>\n",
       "</table>\n",
       "</div>"
      ],
      "text/plain": [
       "                   A         B\n",
       "2018-04-02 -0.124341 -0.968569\n",
       "2018-04-03 -1.378899 -0.875539\n",
       "2018-04-04 -0.804304 -1.342883"
      ]
     },
     "execution_count": 28,
     "metadata": {},
     "output_type": "execute_result"
    }
   ],
   "source": [
    "df.loc['20180402':'20180404',['A','B']]"
   ]
  },
  {
   "cell_type": "markdown",
   "metadata": {},
   "source": [
    "对于返回的对象进行降维处理"
   ]
  },
  {
   "cell_type": "code",
   "execution_count": 24,
   "metadata": {},
   "outputs": [
    {
     "data": {
      "text/plain": [
       "A    2.570323\n",
       "B    0.269388\n",
       "Name: 2013-01-02 00:00:00, dtype: float64"
      ]
     },
     "execution_count": 24,
     "metadata": {},
     "output_type": "execute_result"
    }
   ],
   "source": [
    "df.loc['20130102',['A','B']]"
   ]
  },
  {
   "cell_type": "markdown",
   "metadata": {},
   "source": [
    "获取一个标量"
   ]
  },
  {
   "cell_type": "code",
   "execution_count": 25,
   "metadata": {},
   "outputs": [
    {
     "data": {
      "text/plain": [
       "-0.79728972181227264"
      ]
     },
     "execution_count": 25,
     "metadata": {},
     "output_type": "execute_result"
    }
   ],
   "source": [
    "df.loc[dates[0],'A']"
   ]
  },
  {
   "cell_type": "markdown",
   "metadata": {},
   "source": [
    "快速获取标量（与上面的方法等价）"
   ]
  },
  {
   "cell_type": "code",
   "execution_count": 26,
   "metadata": {},
   "outputs": [
    {
     "data": {
      "text/plain": [
       "-0.79728972181227264"
      ]
     },
     "execution_count": 26,
     "metadata": {},
     "output_type": "execute_result"
    }
   ],
   "source": [
    "df.at[dates[0],'A']"
   ]
  },
  {
   "cell_type": "markdown",
   "metadata": {},
   "source": [
    "## 通过位置选取"
   ]
  },
  {
   "cell_type": "markdown",
   "metadata": {},
   "source": [
    "通过传递整型的位置进行选取"
   ]
  },
  {
   "cell_type": "code",
   "execution_count": 29,
   "metadata": {},
   "outputs": [
    {
     "data": {
      "text/plain": [
       "A   -0.804304\n",
       "B   -1.342883\n",
       "C   -0.273744\n",
       "D   -0.463993\n",
       "Name: 2018-04-04 00:00:00, dtype: float64"
      ]
     },
     "execution_count": 29,
     "metadata": {},
     "output_type": "execute_result"
    }
   ],
   "source": [
    "df.iloc[3]"
   ]
  },
  {
   "cell_type": "markdown",
   "metadata": {},
   "source": [
    "通过整型的位置切片进行选取，与python/numpy形式相同"
   ]
  },
  {
   "cell_type": "code",
   "execution_count": 30,
   "metadata": {},
   "outputs": [
    {
     "data": {
      "text/html": [
       "<div>\n",
       "<style>\n",
       "    .dataframe thead tr:only-child th {\n",
       "        text-align: right;\n",
       "    }\n",
       "\n",
       "    .dataframe thead th {\n",
       "        text-align: left;\n",
       "    }\n",
       "\n",
       "    .dataframe tbody tr th {\n",
       "        vertical-align: top;\n",
       "    }\n",
       "</style>\n",
       "<table border=\"1\" class=\"dataframe\">\n",
       "  <thead>\n",
       "    <tr style=\"text-align: right;\">\n",
       "      <th></th>\n",
       "      <th>A</th>\n",
       "      <th>B</th>\n",
       "    </tr>\n",
       "  </thead>\n",
       "  <tbody>\n",
       "    <tr>\n",
       "      <th>2018-04-04</th>\n",
       "      <td>-0.804304</td>\n",
       "      <td>-1.342883</td>\n",
       "    </tr>\n",
       "    <tr>\n",
       "      <th>2018-04-05</th>\n",
       "      <td>0.026397</td>\n",
       "      <td>-0.509180</td>\n",
       "    </tr>\n",
       "  </tbody>\n",
       "</table>\n",
       "</div>"
      ],
      "text/plain": [
       "                   A         B\n",
       "2018-04-04 -0.804304 -1.342883\n",
       "2018-04-05  0.026397 -0.509180"
      ]
     },
     "execution_count": 30,
     "metadata": {},
     "output_type": "execute_result"
    }
   ],
   "source": [
    "df.iloc[3:5,0:2]"
   ]
  },
  {
   "cell_type": "markdown",
   "metadata": {},
   "source": [
    "只对行进行切片"
   ]
  },
  {
   "cell_type": "code",
   "execution_count": 29,
   "metadata": {},
   "outputs": [
    {
     "data": {
      "text/html": [
       "<div>\n",
       "<table border=\"1\" class=\"dataframe\">\n",
       "  <thead>\n",
       "    <tr style=\"text-align: right;\">\n",
       "      <th></th>\n",
       "      <th>A</th>\n",
       "      <th>B</th>\n",
       "      <th>C</th>\n",
       "      <th>D</th>\n",
       "    </tr>\n",
       "  </thead>\n",
       "  <tbody>\n",
       "    <tr>\n",
       "      <th>2013-01-02</th>\n",
       "      <td>2.570323</td>\n",
       "      <td>0.269388</td>\n",
       "      <td>0.560123</td>\n",
       "      <td>1.017688</td>\n",
       "    </tr>\n",
       "    <tr>\n",
       "      <th>2013-01-03</th>\n",
       "      <td>0.512782</td>\n",
       "      <td>1.312247</td>\n",
       "      <td>0.651444</td>\n",
       "      <td>1.158869</td>\n",
       "    </tr>\n",
       "  </tbody>\n",
       "</table>\n",
       "</div>"
      ],
      "text/plain": [
       "                   A         B         C         D\n",
       "2013-01-02  2.570323  0.269388  0.560123  1.017688\n",
       "2013-01-03  0.512782  1.312247  0.651444  1.158869"
      ]
     },
     "execution_count": 29,
     "metadata": {},
     "output_type": "execute_result"
    }
   ],
   "source": [
    "df.iloc[1:3,:]"
   ]
  },
  {
   "cell_type": "markdown",
   "metadata": {},
   "source": [
    "只对列进行切片"
   ]
  },
  {
   "cell_type": "code",
   "execution_count": 30,
   "metadata": {},
   "outputs": [
    {
     "data": {
      "text/html": [
       "<div>\n",
       "<table border=\"1\" class=\"dataframe\">\n",
       "  <thead>\n",
       "    <tr style=\"text-align: right;\">\n",
       "      <th></th>\n",
       "      <th>B</th>\n",
       "      <th>C</th>\n",
       "    </tr>\n",
       "  </thead>\n",
       "  <tbody>\n",
       "    <tr>\n",
       "      <th>2013-01-01</th>\n",
       "      <td>-0.251394</td>\n",
       "      <td>-0.479293</td>\n",
       "    </tr>\n",
       "    <tr>\n",
       "      <th>2013-01-02</th>\n",
       "      <td>0.269388</td>\n",
       "      <td>0.560123</td>\n",
       "    </tr>\n",
       "    <tr>\n",
       "      <th>2013-01-03</th>\n",
       "      <td>1.312247</td>\n",
       "      <td>0.651444</td>\n",
       "    </tr>\n",
       "    <tr>\n",
       "      <th>2013-01-04</th>\n",
       "      <td>-1.906938</td>\n",
       "      <td>-1.895192</td>\n",
       "    </tr>\n",
       "    <tr>\n",
       "      <th>2013-01-05</th>\n",
       "      <td>0.204613</td>\n",
       "      <td>-0.581628</td>\n",
       "    </tr>\n",
       "    <tr>\n",
       "      <th>2013-01-06</th>\n",
       "      <td>0.803676</td>\n",
       "      <td>-0.986617</td>\n",
       "    </tr>\n",
       "  </tbody>\n",
       "</table>\n",
       "</div>"
      ],
      "text/plain": [
       "                   B         C\n",
       "2013-01-01 -0.251394 -0.479293\n",
       "2013-01-02  0.269388  0.560123\n",
       "2013-01-03  1.312247  0.651444\n",
       "2013-01-04 -1.906938 -1.895192\n",
       "2013-01-05  0.204613 -0.581628\n",
       "2013-01-06  0.803676 -0.986617"
      ]
     },
     "execution_count": 30,
     "metadata": {},
     "output_type": "execute_result"
    }
   ],
   "source": [
    "df.iloc[:,1:3]"
   ]
  },
  {
   "cell_type": "markdown",
   "metadata": {},
   "source": [
    "只获取某个值"
   ]
  },
  {
   "cell_type": "code",
   "execution_count": 31,
   "metadata": {},
   "outputs": [
    {
     "data": {
      "text/plain": [
       "0.26938806116429348"
      ]
     },
     "execution_count": 31,
     "metadata": {},
     "output_type": "execute_result"
    }
   ],
   "source": [
    "df.iloc[1,1]"
   ]
  },
  {
   "cell_type": "markdown",
   "metadata": {},
   "source": [
    "快速获取某个值（与上面的方法等价）"
   ]
  },
  {
   "cell_type": "code",
   "execution_count": 32,
   "metadata": {},
   "outputs": [
    {
     "data": {
      "text/plain": [
       "0.26938806116429348"
      ]
     },
     "execution_count": 32,
     "metadata": {},
     "output_type": "execute_result"
    }
   ],
   "source": [
    "df.iat[1,1]"
   ]
  },
  {
   "cell_type": "markdown",
   "metadata": {},
   "source": [
    "## 布尔索引"
   ]
  },
  {
   "cell_type": "markdown",
   "metadata": {},
   "source": [
    "用某列的值来选取数据"
   ]
  },
  {
   "cell_type": "code",
   "execution_count": 32,
   "metadata": {},
   "outputs": [
    {
     "data": {
      "text/html": [
       "<div>\n",
       "<style>\n",
       "    .dataframe thead tr:only-child th {\n",
       "        text-align: right;\n",
       "    }\n",
       "\n",
       "    .dataframe thead th {\n",
       "        text-align: left;\n",
       "    }\n",
       "\n",
       "    .dataframe tbody tr th {\n",
       "        vertical-align: top;\n",
       "    }\n",
       "</style>\n",
       "<table border=\"1\" class=\"dataframe\">\n",
       "  <thead>\n",
       "    <tr style=\"text-align: right;\">\n",
       "      <th></th>\n",
       "      <th>A</th>\n",
       "      <th>B</th>\n",
       "      <th>C</th>\n",
       "      <th>D</th>\n",
       "    </tr>\n",
       "  </thead>\n",
       "  <tbody>\n",
       "    <tr>\n",
       "      <th>2018-04-01</th>\n",
       "      <td>2.420255</td>\n",
       "      <td>1.445292</td>\n",
       "      <td>-0.245844</td>\n",
       "      <td>0.046493</td>\n",
       "    </tr>\n",
       "    <tr>\n",
       "      <th>2018-04-02</th>\n",
       "      <td>-0.124341</td>\n",
       "      <td>-0.968569</td>\n",
       "      <td>0.127922</td>\n",
       "      <td>-0.828133</td>\n",
       "    </tr>\n",
       "    <tr>\n",
       "      <th>2018-04-03</th>\n",
       "      <td>-1.378899</td>\n",
       "      <td>-0.875539</td>\n",
       "      <td>-0.286990</td>\n",
       "      <td>-1.246508</td>\n",
       "    </tr>\n",
       "    <tr>\n",
       "      <th>2018-04-04</th>\n",
       "      <td>-0.804304</td>\n",
       "      <td>-1.342883</td>\n",
       "      <td>-0.273744</td>\n",
       "      <td>-0.463993</td>\n",
       "    </tr>\n",
       "    <tr>\n",
       "      <th>2018-04-05</th>\n",
       "      <td>0.026397</td>\n",
       "      <td>-0.509180</td>\n",
       "      <td>0.188580</td>\n",
       "      <td>0.229223</td>\n",
       "    </tr>\n",
       "    <tr>\n",
       "      <th>2018-04-06</th>\n",
       "      <td>1.375437</td>\n",
       "      <td>-2.400504</td>\n",
       "      <td>-0.506746</td>\n",
       "      <td>-0.241345</td>\n",
       "    </tr>\n",
       "  </tbody>\n",
       "</table>\n",
       "</div>"
      ],
      "text/plain": [
       "                   A         B         C         D\n",
       "2018-04-01  2.420255  1.445292 -0.245844  0.046493\n",
       "2018-04-02 -0.124341 -0.968569  0.127922 -0.828133\n",
       "2018-04-03 -1.378899 -0.875539 -0.286990 -1.246508\n",
       "2018-04-04 -0.804304 -1.342883 -0.273744 -0.463993\n",
       "2018-04-05  0.026397 -0.509180  0.188580  0.229223\n",
       "2018-04-06  1.375437 -2.400504 -0.506746 -0.241345"
      ]
     },
     "execution_count": 32,
     "metadata": {},
     "output_type": "execute_result"
    }
   ],
   "source": [
    "df"
   ]
  },
  {
   "cell_type": "code",
   "execution_count": 31,
   "metadata": {},
   "outputs": [
    {
     "data": {
      "text/html": [
       "<div>\n",
       "<style>\n",
       "    .dataframe thead tr:only-child th {\n",
       "        text-align: right;\n",
       "    }\n",
       "\n",
       "    .dataframe thead th {\n",
       "        text-align: left;\n",
       "    }\n",
       "\n",
       "    .dataframe tbody tr th {\n",
       "        vertical-align: top;\n",
       "    }\n",
       "</style>\n",
       "<table border=\"1\" class=\"dataframe\">\n",
       "  <thead>\n",
       "    <tr style=\"text-align: right;\">\n",
       "      <th></th>\n",
       "      <th>A</th>\n",
       "      <th>B</th>\n",
       "      <th>C</th>\n",
       "      <th>D</th>\n",
       "    </tr>\n",
       "  </thead>\n",
       "  <tbody>\n",
       "    <tr>\n",
       "      <th>2018-04-01</th>\n",
       "      <td>2.420255</td>\n",
       "      <td>1.445292</td>\n",
       "      <td>-0.245844</td>\n",
       "      <td>0.046493</td>\n",
       "    </tr>\n",
       "    <tr>\n",
       "      <th>2018-04-05</th>\n",
       "      <td>0.026397</td>\n",
       "      <td>-0.509180</td>\n",
       "      <td>0.188580</td>\n",
       "      <td>0.229223</td>\n",
       "    </tr>\n",
       "    <tr>\n",
       "      <th>2018-04-06</th>\n",
       "      <td>1.375437</td>\n",
       "      <td>-2.400504</td>\n",
       "      <td>-0.506746</td>\n",
       "      <td>-0.241345</td>\n",
       "    </tr>\n",
       "  </tbody>\n",
       "</table>\n",
       "</div>"
      ],
      "text/plain": [
       "                   A         B         C         D\n",
       "2018-04-01  2.420255  1.445292 -0.245844  0.046493\n",
       "2018-04-05  0.026397 -0.509180  0.188580  0.229223\n",
       "2018-04-06  1.375437 -2.400504 -0.506746 -0.241345"
      ]
     },
     "execution_count": 31,
     "metadata": {},
     "output_type": "execute_result"
    }
   ],
   "source": [
    "df[df.A > 0]  #过滤掉 A列为负数的哪些行"
   ]
  },
  {
   "cell_type": "markdown",
   "metadata": {},
   "source": [
    "用**where**操作来选取数据"
   ]
  },
  {
   "cell_type": "code",
   "execution_count": 33,
   "metadata": {},
   "outputs": [
    {
     "data": {
      "text/html": [
       "<div>\n",
       "<style>\n",
       "    .dataframe thead tr:only-child th {\n",
       "        text-align: right;\n",
       "    }\n",
       "\n",
       "    .dataframe thead th {\n",
       "        text-align: left;\n",
       "    }\n",
       "\n",
       "    .dataframe tbody tr th {\n",
       "        vertical-align: top;\n",
       "    }\n",
       "</style>\n",
       "<table border=\"1\" class=\"dataframe\">\n",
       "  <thead>\n",
       "    <tr style=\"text-align: right;\">\n",
       "      <th></th>\n",
       "      <th>A</th>\n",
       "      <th>B</th>\n",
       "      <th>C</th>\n",
       "      <th>D</th>\n",
       "    </tr>\n",
       "  </thead>\n",
       "  <tbody>\n",
       "    <tr>\n",
       "      <th>2018-04-01</th>\n",
       "      <td>2.420255</td>\n",
       "      <td>1.445292</td>\n",
       "      <td>NaN</td>\n",
       "      <td>0.046493</td>\n",
       "    </tr>\n",
       "    <tr>\n",
       "      <th>2018-04-02</th>\n",
       "      <td>NaN</td>\n",
       "      <td>NaN</td>\n",
       "      <td>0.127922</td>\n",
       "      <td>NaN</td>\n",
       "    </tr>\n",
       "    <tr>\n",
       "      <th>2018-04-03</th>\n",
       "      <td>NaN</td>\n",
       "      <td>NaN</td>\n",
       "      <td>NaN</td>\n",
       "      <td>NaN</td>\n",
       "    </tr>\n",
       "    <tr>\n",
       "      <th>2018-04-04</th>\n",
       "      <td>NaN</td>\n",
       "      <td>NaN</td>\n",
       "      <td>NaN</td>\n",
       "      <td>NaN</td>\n",
       "    </tr>\n",
       "    <tr>\n",
       "      <th>2018-04-05</th>\n",
       "      <td>0.026397</td>\n",
       "      <td>NaN</td>\n",
       "      <td>0.188580</td>\n",
       "      <td>0.229223</td>\n",
       "    </tr>\n",
       "    <tr>\n",
       "      <th>2018-04-06</th>\n",
       "      <td>1.375437</td>\n",
       "      <td>NaN</td>\n",
       "      <td>NaN</td>\n",
       "      <td>NaN</td>\n",
       "    </tr>\n",
       "  </tbody>\n",
       "</table>\n",
       "</div>"
      ],
      "text/plain": [
       "                   A         B         C         D\n",
       "2018-04-01  2.420255  1.445292       NaN  0.046493\n",
       "2018-04-02       NaN       NaN  0.127922       NaN\n",
       "2018-04-03       NaN       NaN       NaN       NaN\n",
       "2018-04-04       NaN       NaN       NaN       NaN\n",
       "2018-04-05  0.026397       NaN  0.188580  0.229223\n",
       "2018-04-06  1.375437       NaN       NaN       NaN"
      ]
     },
     "execution_count": 33,
     "metadata": {},
     "output_type": "execute_result"
    }
   ],
   "source": [
    "df[df > 0]"
   ]
  },
  {
   "cell_type": "markdown",
   "metadata": {},
   "source": [
    "用**isin()**方法来过滤数据"
   ]
  },
  {
   "cell_type": "code",
   "execution_count": 34,
   "metadata": {
    "collapsed": true
   },
   "outputs": [],
   "source": [
    "df2 = df.copy()"
   ]
  },
  {
   "cell_type": "code",
   "execution_count": 35,
   "metadata": {},
   "outputs": [
    {
     "data": {
      "text/html": [
       "<div>\n",
       "<style>\n",
       "    .dataframe thead tr:only-child th {\n",
       "        text-align: right;\n",
       "    }\n",
       "\n",
       "    .dataframe thead th {\n",
       "        text-align: left;\n",
       "    }\n",
       "\n",
       "    .dataframe tbody tr th {\n",
       "        vertical-align: top;\n",
       "    }\n",
       "</style>\n",
       "<table border=\"1\" class=\"dataframe\">\n",
       "  <thead>\n",
       "    <tr style=\"text-align: right;\">\n",
       "      <th></th>\n",
       "      <th>A</th>\n",
       "      <th>B</th>\n",
       "      <th>C</th>\n",
       "      <th>D</th>\n",
       "      <th>E</th>\n",
       "    </tr>\n",
       "  </thead>\n",
       "  <tbody>\n",
       "    <tr>\n",
       "      <th>2018-04-01</th>\n",
       "      <td>2.420255</td>\n",
       "      <td>1.445292</td>\n",
       "      <td>-0.245844</td>\n",
       "      <td>0.046493</td>\n",
       "      <td>one</td>\n",
       "    </tr>\n",
       "    <tr>\n",
       "      <th>2018-04-02</th>\n",
       "      <td>-0.124341</td>\n",
       "      <td>-0.968569</td>\n",
       "      <td>0.127922</td>\n",
       "      <td>-0.828133</td>\n",
       "      <td>one</td>\n",
       "    </tr>\n",
       "    <tr>\n",
       "      <th>2018-04-03</th>\n",
       "      <td>-1.378899</td>\n",
       "      <td>-0.875539</td>\n",
       "      <td>-0.286990</td>\n",
       "      <td>-1.246508</td>\n",
       "      <td>two</td>\n",
       "    </tr>\n",
       "    <tr>\n",
       "      <th>2018-04-04</th>\n",
       "      <td>-0.804304</td>\n",
       "      <td>-1.342883</td>\n",
       "      <td>-0.273744</td>\n",
       "      <td>-0.463993</td>\n",
       "      <td>three</td>\n",
       "    </tr>\n",
       "    <tr>\n",
       "      <th>2018-04-05</th>\n",
       "      <td>0.026397</td>\n",
       "      <td>-0.509180</td>\n",
       "      <td>0.188580</td>\n",
       "      <td>0.229223</td>\n",
       "      <td>four</td>\n",
       "    </tr>\n",
       "    <tr>\n",
       "      <th>2018-04-06</th>\n",
       "      <td>1.375437</td>\n",
       "      <td>-2.400504</td>\n",
       "      <td>-0.506746</td>\n",
       "      <td>-0.241345</td>\n",
       "      <td>three</td>\n",
       "    </tr>\n",
       "  </tbody>\n",
       "</table>\n",
       "</div>"
      ],
      "text/plain": [
       "                   A         B         C         D      E\n",
       "2018-04-01  2.420255  1.445292 -0.245844  0.046493    one\n",
       "2018-04-02 -0.124341 -0.968569  0.127922 -0.828133    one\n",
       "2018-04-03 -1.378899 -0.875539 -0.286990 -1.246508    two\n",
       "2018-04-04 -0.804304 -1.342883 -0.273744 -0.463993  three\n",
       "2018-04-05  0.026397 -0.509180  0.188580  0.229223   four\n",
       "2018-04-06  1.375437 -2.400504 -0.506746 -0.241345  three"
      ]
     },
     "execution_count": 35,
     "metadata": {},
     "output_type": "execute_result"
    }
   ],
   "source": [
    "df2['E'] = ['one', 'one', 'two', 'three', 'four', 'three']  #新增一列\n",
    "df2"
   ]
  },
  {
   "cell_type": "code",
   "execution_count": 37,
   "metadata": {},
   "outputs": [
    {
     "data": {
      "text/html": [
       "<div>\n",
       "<style>\n",
       "    .dataframe thead tr:only-child th {\n",
       "        text-align: right;\n",
       "    }\n",
       "\n",
       "    .dataframe thead th {\n",
       "        text-align: left;\n",
       "    }\n",
       "\n",
       "    .dataframe tbody tr th {\n",
       "        vertical-align: top;\n",
       "    }\n",
       "</style>\n",
       "<table border=\"1\" class=\"dataframe\">\n",
       "  <thead>\n",
       "    <tr style=\"text-align: right;\">\n",
       "      <th></th>\n",
       "      <th>A</th>\n",
       "      <th>B</th>\n",
       "      <th>C</th>\n",
       "      <th>D</th>\n",
       "      <th>E</th>\n",
       "    </tr>\n",
       "  </thead>\n",
       "  <tbody>\n",
       "    <tr>\n",
       "      <th>2018-04-01</th>\n",
       "      <td>2.420255</td>\n",
       "      <td>1.445292</td>\n",
       "      <td>-0.245844</td>\n",
       "      <td>0.046493</td>\n",
       "      <td>one</td>\n",
       "    </tr>\n",
       "    <tr>\n",
       "      <th>2018-04-02</th>\n",
       "      <td>-0.124341</td>\n",
       "      <td>-0.968569</td>\n",
       "      <td>0.127922</td>\n",
       "      <td>-0.828133</td>\n",
       "      <td>one</td>\n",
       "    </tr>\n",
       "    <tr>\n",
       "      <th>2018-04-05</th>\n",
       "      <td>0.026397</td>\n",
       "      <td>-0.509180</td>\n",
       "      <td>0.188580</td>\n",
       "      <td>0.229223</td>\n",
       "      <td>four</td>\n",
       "    </tr>\n",
       "  </tbody>\n",
       "</table>\n",
       "</div>"
      ],
      "text/plain": [
       "                   A         B         C         D     E\n",
       "2018-04-01  2.420255  1.445292 -0.245844  0.046493   one\n",
       "2018-04-02 -0.124341 -0.968569  0.127922 -0.828133   one\n",
       "2018-04-05  0.026397 -0.509180  0.188580  0.229223  four"
      ]
     },
     "execution_count": 37,
     "metadata": {},
     "output_type": "execute_result"
    }
   ],
   "source": [
    "df2[df2['E'].isin(['one', 'four'])]"
   ]
  },
  {
   "cell_type": "markdown",
   "metadata": {},
   "source": [
    "## 赋值"
   ]
  },
  {
   "cell_type": "markdown",
   "metadata": {},
   "source": [
    "赋值一个新的列，通过索引来自动对齐数据"
   ]
  },
  {
   "cell_type": "code",
   "execution_count": 38,
   "metadata": {},
   "outputs": [
    {
     "data": {
      "text/plain": [
       "2013-01-02    1\n",
       "2013-01-03    2\n",
       "2013-01-04    3\n",
       "2013-01-05    4\n",
       "2013-01-06    5\n",
       "2013-01-07    6\n",
       "Freq: D, dtype: int64"
      ]
     },
     "execution_count": 38,
     "metadata": {},
     "output_type": "execute_result"
    }
   ],
   "source": [
    "s1 = pd.Series([1,2,3,4,5,6], index=pd.date_range('20130102',periods=6))\n",
    "s1"
   ]
  },
  {
   "cell_type": "code",
   "execution_count": 39,
   "metadata": {},
   "outputs": [
    {
     "data": {
      "text/html": [
       "<div>\n",
       "<table border=\"1\" class=\"dataframe\">\n",
       "  <thead>\n",
       "    <tr style=\"text-align: right;\">\n",
       "      <th></th>\n",
       "      <th>A</th>\n",
       "      <th>B</th>\n",
       "      <th>C</th>\n",
       "      <th>D</th>\n",
       "      <th>F</th>\n",
       "    </tr>\n",
       "  </thead>\n",
       "  <tbody>\n",
       "    <tr>\n",
       "      <th>2013-01-01</th>\n",
       "      <td>-0.797290</td>\n",
       "      <td>-0.251394</td>\n",
       "      <td>-0.479293</td>\n",
       "      <td>-1.258262</td>\n",
       "      <td>NaN</td>\n",
       "    </tr>\n",
       "    <tr>\n",
       "      <th>2013-01-02</th>\n",
       "      <td>2.570323</td>\n",
       "      <td>0.269388</td>\n",
       "      <td>0.560123</td>\n",
       "      <td>1.017688</td>\n",
       "      <td>1</td>\n",
       "    </tr>\n",
       "    <tr>\n",
       "      <th>2013-01-03</th>\n",
       "      <td>0.512782</td>\n",
       "      <td>1.312247</td>\n",
       "      <td>0.651444</td>\n",
       "      <td>1.158869</td>\n",
       "      <td>2</td>\n",
       "    </tr>\n",
       "    <tr>\n",
       "      <th>2013-01-04</th>\n",
       "      <td>-0.687212</td>\n",
       "      <td>-1.906938</td>\n",
       "      <td>-1.895192</td>\n",
       "      <td>1.460285</td>\n",
       "      <td>3</td>\n",
       "    </tr>\n",
       "    <tr>\n",
       "      <th>2013-01-05</th>\n",
       "      <td>0.490081</td>\n",
       "      <td>0.204613</td>\n",
       "      <td>-0.581628</td>\n",
       "      <td>-0.232023</td>\n",
       "      <td>4</td>\n",
       "    </tr>\n",
       "    <tr>\n",
       "      <th>2013-01-06</th>\n",
       "      <td>0.889528</td>\n",
       "      <td>0.803676</td>\n",
       "      <td>-0.986617</td>\n",
       "      <td>0.256299</td>\n",
       "      <td>5</td>\n",
       "    </tr>\n",
       "  </tbody>\n",
       "</table>\n",
       "</div>"
      ],
      "text/plain": [
       "                   A         B         C         D   F\n",
       "2013-01-01 -0.797290 -0.251394 -0.479293 -1.258262 NaN\n",
       "2013-01-02  2.570323  0.269388  0.560123  1.017688   1\n",
       "2013-01-03  0.512782  1.312247  0.651444  1.158869   2\n",
       "2013-01-04 -0.687212 -1.906938 -1.895192  1.460285   3\n",
       "2013-01-05  0.490081  0.204613 -0.581628 -0.232023   4\n",
       "2013-01-06  0.889528  0.803676 -0.986617  0.256299   5"
      ]
     },
     "execution_count": 39,
     "metadata": {},
     "output_type": "execute_result"
    }
   ],
   "source": [
    "df['F'] = s1\n",
    "df"
   ]
  },
  {
   "cell_type": "markdown",
   "metadata": {},
   "source": [
    "通过标签赋值"
   ]
  },
  {
   "cell_type": "code",
   "execution_count": 40,
   "metadata": {},
   "outputs": [
    {
     "data": {
      "text/html": [
       "<div>\n",
       "<table border=\"1\" class=\"dataframe\">\n",
       "  <thead>\n",
       "    <tr style=\"text-align: right;\">\n",
       "      <th></th>\n",
       "      <th>A</th>\n",
       "      <th>B</th>\n",
       "      <th>C</th>\n",
       "      <th>D</th>\n",
       "      <th>F</th>\n",
       "    </tr>\n",
       "  </thead>\n",
       "  <tbody>\n",
       "    <tr>\n",
       "      <th>2013-01-01</th>\n",
       "      <td>0.000000</td>\n",
       "      <td>-0.251394</td>\n",
       "      <td>-0.479293</td>\n",
       "      <td>-1.258262</td>\n",
       "      <td>NaN</td>\n",
       "    </tr>\n",
       "    <tr>\n",
       "      <th>2013-01-02</th>\n",
       "      <td>2.570323</td>\n",
       "      <td>0.269388</td>\n",
       "      <td>0.560123</td>\n",
       "      <td>1.017688</td>\n",
       "      <td>1</td>\n",
       "    </tr>\n",
       "    <tr>\n",
       "      <th>2013-01-03</th>\n",
       "      <td>0.512782</td>\n",
       "      <td>1.312247</td>\n",
       "      <td>0.651444</td>\n",
       "      <td>1.158869</td>\n",
       "      <td>2</td>\n",
       "    </tr>\n",
       "    <tr>\n",
       "      <th>2013-01-04</th>\n",
       "      <td>-0.687212</td>\n",
       "      <td>-1.906938</td>\n",
       "      <td>-1.895192</td>\n",
       "      <td>1.460285</td>\n",
       "      <td>3</td>\n",
       "    </tr>\n",
       "    <tr>\n",
       "      <th>2013-01-05</th>\n",
       "      <td>0.490081</td>\n",
       "      <td>0.204613</td>\n",
       "      <td>-0.581628</td>\n",
       "      <td>-0.232023</td>\n",
       "      <td>4</td>\n",
       "    </tr>\n",
       "    <tr>\n",
       "      <th>2013-01-06</th>\n",
       "      <td>0.889528</td>\n",
       "      <td>0.803676</td>\n",
       "      <td>-0.986617</td>\n",
       "      <td>0.256299</td>\n",
       "      <td>5</td>\n",
       "    </tr>\n",
       "  </tbody>\n",
       "</table>\n",
       "</div>"
      ],
      "text/plain": [
       "                   A         B         C         D   F\n",
       "2013-01-01  0.000000 -0.251394 -0.479293 -1.258262 NaN\n",
       "2013-01-02  2.570323  0.269388  0.560123  1.017688   1\n",
       "2013-01-03  0.512782  1.312247  0.651444  1.158869   2\n",
       "2013-01-04 -0.687212 -1.906938 -1.895192  1.460285   3\n",
       "2013-01-05  0.490081  0.204613 -0.581628 -0.232023   4\n",
       "2013-01-06  0.889528  0.803676 -0.986617  0.256299   5"
      ]
     },
     "execution_count": 40,
     "metadata": {},
     "output_type": "execute_result"
    }
   ],
   "source": [
    "df.at[dates[0], 'A'] = 0\n",
    "df"
   ]
  },
  {
   "cell_type": "markdown",
   "metadata": {},
   "source": [
    "通过位置赋值"
   ]
  },
  {
   "cell_type": "code",
   "execution_count": 41,
   "metadata": {},
   "outputs": [
    {
     "data": {
      "text/html": [
       "<div>\n",
       "<table border=\"1\" class=\"dataframe\">\n",
       "  <thead>\n",
       "    <tr style=\"text-align: right;\">\n",
       "      <th></th>\n",
       "      <th>A</th>\n",
       "      <th>B</th>\n",
       "      <th>C</th>\n",
       "      <th>D</th>\n",
       "      <th>F</th>\n",
       "    </tr>\n",
       "  </thead>\n",
       "  <tbody>\n",
       "    <tr>\n",
       "      <th>2013-01-01</th>\n",
       "      <td>0.000000</td>\n",
       "      <td>0.000000</td>\n",
       "      <td>-0.479293</td>\n",
       "      <td>-1.258262</td>\n",
       "      <td>NaN</td>\n",
       "    </tr>\n",
       "    <tr>\n",
       "      <th>2013-01-02</th>\n",
       "      <td>2.570323</td>\n",
       "      <td>0.269388</td>\n",
       "      <td>0.560123</td>\n",
       "      <td>1.017688</td>\n",
       "      <td>1</td>\n",
       "    </tr>\n",
       "    <tr>\n",
       "      <th>2013-01-03</th>\n",
       "      <td>0.512782</td>\n",
       "      <td>1.312247</td>\n",
       "      <td>0.651444</td>\n",
       "      <td>1.158869</td>\n",
       "      <td>2</td>\n",
       "    </tr>\n",
       "    <tr>\n",
       "      <th>2013-01-04</th>\n",
       "      <td>-0.687212</td>\n",
       "      <td>-1.906938</td>\n",
       "      <td>-1.895192</td>\n",
       "      <td>1.460285</td>\n",
       "      <td>3</td>\n",
       "    </tr>\n",
       "    <tr>\n",
       "      <th>2013-01-05</th>\n",
       "      <td>0.490081</td>\n",
       "      <td>0.204613</td>\n",
       "      <td>-0.581628</td>\n",
       "      <td>-0.232023</td>\n",
       "      <td>4</td>\n",
       "    </tr>\n",
       "    <tr>\n",
       "      <th>2013-01-06</th>\n",
       "      <td>0.889528</td>\n",
       "      <td>0.803676</td>\n",
       "      <td>-0.986617</td>\n",
       "      <td>0.256299</td>\n",
       "      <td>5</td>\n",
       "    </tr>\n",
       "  </tbody>\n",
       "</table>\n",
       "</div>"
      ],
      "text/plain": [
       "                   A         B         C         D   F\n",
       "2013-01-01  0.000000  0.000000 -0.479293 -1.258262 NaN\n",
       "2013-01-02  2.570323  0.269388  0.560123  1.017688   1\n",
       "2013-01-03  0.512782  1.312247  0.651444  1.158869   2\n",
       "2013-01-04 -0.687212 -1.906938 -1.895192  1.460285   3\n",
       "2013-01-05  0.490081  0.204613 -0.581628 -0.232023   4\n",
       "2013-01-06  0.889528  0.803676 -0.986617  0.256299   5"
      ]
     },
     "execution_count": 41,
     "metadata": {},
     "output_type": "execute_result"
    }
   ],
   "source": [
    "df.iat[0,1] = 0\n",
    "df"
   ]
  },
  {
   "cell_type": "markdown",
   "metadata": {},
   "source": [
    "通过传递numpy array赋值"
   ]
  },
  {
   "cell_type": "code",
   "execution_count": 42,
   "metadata": {},
   "outputs": [
    {
     "data": {
      "text/html": [
       "<div>\n",
       "<table border=\"1\" class=\"dataframe\">\n",
       "  <thead>\n",
       "    <tr style=\"text-align: right;\">\n",
       "      <th></th>\n",
       "      <th>A</th>\n",
       "      <th>B</th>\n",
       "      <th>C</th>\n",
       "      <th>D</th>\n",
       "      <th>F</th>\n",
       "    </tr>\n",
       "  </thead>\n",
       "  <tbody>\n",
       "    <tr>\n",
       "      <th>2013-01-01</th>\n",
       "      <td>0.000000</td>\n",
       "      <td>0.000000</td>\n",
       "      <td>-0.479293</td>\n",
       "      <td>5</td>\n",
       "      <td>NaN</td>\n",
       "    </tr>\n",
       "    <tr>\n",
       "      <th>2013-01-02</th>\n",
       "      <td>2.570323</td>\n",
       "      <td>0.269388</td>\n",
       "      <td>0.560123</td>\n",
       "      <td>5</td>\n",
       "      <td>1</td>\n",
       "    </tr>\n",
       "    <tr>\n",
       "      <th>2013-01-03</th>\n",
       "      <td>0.512782</td>\n",
       "      <td>1.312247</td>\n",
       "      <td>0.651444</td>\n",
       "      <td>5</td>\n",
       "      <td>2</td>\n",
       "    </tr>\n",
       "    <tr>\n",
       "      <th>2013-01-04</th>\n",
       "      <td>-0.687212</td>\n",
       "      <td>-1.906938</td>\n",
       "      <td>-1.895192</td>\n",
       "      <td>5</td>\n",
       "      <td>3</td>\n",
       "    </tr>\n",
       "    <tr>\n",
       "      <th>2013-01-05</th>\n",
       "      <td>0.490081</td>\n",
       "      <td>0.204613</td>\n",
       "      <td>-0.581628</td>\n",
       "      <td>5</td>\n",
       "      <td>4</td>\n",
       "    </tr>\n",
       "    <tr>\n",
       "      <th>2013-01-06</th>\n",
       "      <td>0.889528</td>\n",
       "      <td>0.803676</td>\n",
       "      <td>-0.986617</td>\n",
       "      <td>5</td>\n",
       "      <td>5</td>\n",
       "    </tr>\n",
       "  </tbody>\n",
       "</table>\n",
       "</div>"
      ],
      "text/plain": [
       "                   A         B         C  D   F\n",
       "2013-01-01  0.000000  0.000000 -0.479293  5 NaN\n",
       "2013-01-02  2.570323  0.269388  0.560123  5   1\n",
       "2013-01-03  0.512782  1.312247  0.651444  5   2\n",
       "2013-01-04 -0.687212 -1.906938 -1.895192  5   3\n",
       "2013-01-05  0.490081  0.204613 -0.581628  5   4\n",
       "2013-01-06  0.889528  0.803676 -0.986617  5   5"
      ]
     },
     "execution_count": 42,
     "metadata": {},
     "output_type": "execute_result"
    }
   ],
   "source": [
    "df.loc[:,'D'] = np.array([5] * len(df))\n",
    "df"
   ]
  },
  {
   "cell_type": "markdown",
   "metadata": {},
   "source": [
    "通过**where**操作来赋值"
   ]
  },
  {
   "cell_type": "code",
   "execution_count": 43,
   "metadata": {},
   "outputs": [
    {
     "data": {
      "text/html": [
       "<div>\n",
       "<table border=\"1\" class=\"dataframe\">\n",
       "  <thead>\n",
       "    <tr style=\"text-align: right;\">\n",
       "      <th></th>\n",
       "      <th>A</th>\n",
       "      <th>B</th>\n",
       "      <th>C</th>\n",
       "      <th>D</th>\n",
       "      <th>F</th>\n",
       "    </tr>\n",
       "  </thead>\n",
       "  <tbody>\n",
       "    <tr>\n",
       "      <th>2013-01-01</th>\n",
       "      <td>0.000000</td>\n",
       "      <td>0.000000</td>\n",
       "      <td>-0.479293</td>\n",
       "      <td>-5</td>\n",
       "      <td>NaN</td>\n",
       "    </tr>\n",
       "    <tr>\n",
       "      <th>2013-01-02</th>\n",
       "      <td>-2.570323</td>\n",
       "      <td>-0.269388</td>\n",
       "      <td>-0.560123</td>\n",
       "      <td>-5</td>\n",
       "      <td>-1</td>\n",
       "    </tr>\n",
       "    <tr>\n",
       "      <th>2013-01-03</th>\n",
       "      <td>-0.512782</td>\n",
       "      <td>-1.312247</td>\n",
       "      <td>-0.651444</td>\n",
       "      <td>-5</td>\n",
       "      <td>-2</td>\n",
       "    </tr>\n",
       "    <tr>\n",
       "      <th>2013-01-04</th>\n",
       "      <td>-0.687212</td>\n",
       "      <td>-1.906938</td>\n",
       "      <td>-1.895192</td>\n",
       "      <td>-5</td>\n",
       "      <td>-3</td>\n",
       "    </tr>\n",
       "    <tr>\n",
       "      <th>2013-01-05</th>\n",
       "      <td>-0.490081</td>\n",
       "      <td>-0.204613</td>\n",
       "      <td>-0.581628</td>\n",
       "      <td>-5</td>\n",
       "      <td>-4</td>\n",
       "    </tr>\n",
       "    <tr>\n",
       "      <th>2013-01-06</th>\n",
       "      <td>-0.889528</td>\n",
       "      <td>-0.803676</td>\n",
       "      <td>-0.986617</td>\n",
       "      <td>-5</td>\n",
       "      <td>-5</td>\n",
       "    </tr>\n",
       "  </tbody>\n",
       "</table>\n",
       "</div>"
      ],
      "text/plain": [
       "                   A         B         C  D   F\n",
       "2013-01-01  0.000000  0.000000 -0.479293 -5 NaN\n",
       "2013-01-02 -2.570323 -0.269388 -0.560123 -5  -1\n",
       "2013-01-03 -0.512782 -1.312247 -0.651444 -5  -2\n",
       "2013-01-04 -0.687212 -1.906938 -1.895192 -5  -3\n",
       "2013-01-05 -0.490081 -0.204613 -0.581628 -5  -4\n",
       "2013-01-06 -0.889528 -0.803676 -0.986617 -5  -5"
      ]
     },
     "execution_count": 43,
     "metadata": {},
     "output_type": "execute_result"
    }
   ],
   "source": [
    "df2 = df.copy()\n",
    "df2[df2 > 0] = -df2\n",
    "df2"
   ]
  },
  {
   "cell_type": "markdown",
   "metadata": {},
   "source": [
    "# 缺失值处理"
   ]
  },
  {
   "cell_type": "markdown",
   "metadata": {},
   "source": [
    "在pandas中，用**np.nan**来代表缺失值，这些值默认不会参与运算。\n",
    "\n",
    "reindex()允许你修改、增加、删除指定轴上的索引，并返回一个数据副本。"
   ]
  },
  {
   "cell_type": "code",
   "execution_count": 38,
   "metadata": {},
   "outputs": [
    {
     "data": {
      "text/html": [
       "<div>\n",
       "<style>\n",
       "    .dataframe thead tr:only-child th {\n",
       "        text-align: right;\n",
       "    }\n",
       "\n",
       "    .dataframe thead th {\n",
       "        text-align: left;\n",
       "    }\n",
       "\n",
       "    .dataframe tbody tr th {\n",
       "        vertical-align: top;\n",
       "    }\n",
       "</style>\n",
       "<table border=\"1\" class=\"dataframe\">\n",
       "  <thead>\n",
       "    <tr style=\"text-align: right;\">\n",
       "      <th></th>\n",
       "      <th>A</th>\n",
       "      <th>B</th>\n",
       "      <th>C</th>\n",
       "      <th>D</th>\n",
       "      <th>E</th>\n",
       "    </tr>\n",
       "  </thead>\n",
       "  <tbody>\n",
       "    <tr>\n",
       "      <th>2018-04-01</th>\n",
       "      <td>2.420255</td>\n",
       "      <td>1.445292</td>\n",
       "      <td>-0.245844</td>\n",
       "      <td>0.046493</td>\n",
       "      <td>1.0</td>\n",
       "    </tr>\n",
       "    <tr>\n",
       "      <th>2018-04-02</th>\n",
       "      <td>-0.124341</td>\n",
       "      <td>-0.968569</td>\n",
       "      <td>0.127922</td>\n",
       "      <td>-0.828133</td>\n",
       "      <td>1.0</td>\n",
       "    </tr>\n",
       "    <tr>\n",
       "      <th>2018-04-03</th>\n",
       "      <td>-1.378899</td>\n",
       "      <td>-0.875539</td>\n",
       "      <td>-0.286990</td>\n",
       "      <td>-1.246508</td>\n",
       "      <td>NaN</td>\n",
       "    </tr>\n",
       "    <tr>\n",
       "      <th>2018-04-04</th>\n",
       "      <td>-0.804304</td>\n",
       "      <td>-1.342883</td>\n",
       "      <td>-0.273744</td>\n",
       "      <td>-0.463993</td>\n",
       "      <td>NaN</td>\n",
       "    </tr>\n",
       "  </tbody>\n",
       "</table>\n",
       "</div>"
      ],
      "text/plain": [
       "                   A         B         C         D    E\n",
       "2018-04-01  2.420255  1.445292 -0.245844  0.046493  1.0\n",
       "2018-04-02 -0.124341 -0.968569  0.127922 -0.828133  1.0\n",
       "2018-04-03 -1.378899 -0.875539 -0.286990 -1.246508  NaN\n",
       "2018-04-04 -0.804304 -1.342883 -0.273744 -0.463993  NaN"
      ]
     },
     "execution_count": 38,
     "metadata": {},
     "output_type": "execute_result"
    }
   ],
   "source": [
    "df1 = df.reindex(index=dates[0:4], columns=list(df.columns)+['E'])\n",
    "df1.loc[dates[0]:dates[1],'E'] = 1\n",
    "df1"
   ]
  },
  {
   "cell_type": "markdown",
   "metadata": {},
   "source": [
    "剔除所有包含缺失值的行数据"
   ]
  },
  {
   "cell_type": "code",
   "execution_count": 44,
   "metadata": {},
   "outputs": [
    {
     "data": {
      "text/html": [
       "<div>\n",
       "<style>\n",
       "    .dataframe thead tr:only-child th {\n",
       "        text-align: right;\n",
       "    }\n",
       "\n",
       "    .dataframe thead th {\n",
       "        text-align: left;\n",
       "    }\n",
       "\n",
       "    .dataframe tbody tr th {\n",
       "        vertical-align: top;\n",
       "    }\n",
       "</style>\n",
       "<table border=\"1\" class=\"dataframe\">\n",
       "  <thead>\n",
       "    <tr style=\"text-align: right;\">\n",
       "      <th></th>\n",
       "      <th>A</th>\n",
       "      <th>B</th>\n",
       "      <th>C</th>\n",
       "      <th>D</th>\n",
       "      <th>E</th>\n",
       "    </tr>\n",
       "  </thead>\n",
       "  <tbody>\n",
       "    <tr>\n",
       "      <th>2018-04-01</th>\n",
       "      <td>2.420255</td>\n",
       "      <td>1.445292</td>\n",
       "      <td>-0.245844</td>\n",
       "      <td>0.046493</td>\n",
       "      <td>1.0</td>\n",
       "    </tr>\n",
       "    <tr>\n",
       "      <th>2018-04-02</th>\n",
       "      <td>-0.124341</td>\n",
       "      <td>-0.968569</td>\n",
       "      <td>0.127922</td>\n",
       "      <td>-0.828133</td>\n",
       "      <td>1.0</td>\n",
       "    </tr>\n",
       "    <tr>\n",
       "      <th>2018-04-03</th>\n",
       "      <td>-1.378899</td>\n",
       "      <td>-0.875539</td>\n",
       "      <td>-0.286990</td>\n",
       "      <td>-1.246508</td>\n",
       "      <td>NaN</td>\n",
       "    </tr>\n",
       "    <tr>\n",
       "      <th>2018-04-04</th>\n",
       "      <td>-0.804304</td>\n",
       "      <td>-1.342883</td>\n",
       "      <td>-0.273744</td>\n",
       "      <td>-0.463993</td>\n",
       "      <td>NaN</td>\n",
       "    </tr>\n",
       "  </tbody>\n",
       "</table>\n",
       "</div>"
      ],
      "text/plain": [
       "                   A         B         C         D    E\n",
       "2018-04-01  2.420255  1.445292 -0.245844  0.046493  1.0\n",
       "2018-04-02 -0.124341 -0.968569  0.127922 -0.828133  1.0\n",
       "2018-04-03 -1.378899 -0.875539 -0.286990 -1.246508  NaN\n",
       "2018-04-04 -0.804304 -1.342883 -0.273744 -0.463993  NaN"
      ]
     },
     "execution_count": 44,
     "metadata": {},
     "output_type": "execute_result"
    }
   ],
   "source": [
    "df1.dropna(how='all')  # any"
   ]
  },
  {
   "cell_type": "markdown",
   "metadata": {},
   "source": [
    "填充缺失值"
   ]
  },
  {
   "cell_type": "code",
   "execution_count": 45,
   "metadata": {
    "scrolled": true
   },
   "outputs": [
    {
     "data": {
      "text/html": [
       "<div>\n",
       "<style>\n",
       "    .dataframe thead tr:only-child th {\n",
       "        text-align: right;\n",
       "    }\n",
       "\n",
       "    .dataframe thead th {\n",
       "        text-align: left;\n",
       "    }\n",
       "\n",
       "    .dataframe tbody tr th {\n",
       "        vertical-align: top;\n",
       "    }\n",
       "</style>\n",
       "<table border=\"1\" class=\"dataframe\">\n",
       "  <thead>\n",
       "    <tr style=\"text-align: right;\">\n",
       "      <th></th>\n",
       "      <th>A</th>\n",
       "      <th>B</th>\n",
       "      <th>C</th>\n",
       "      <th>D</th>\n",
       "      <th>E</th>\n",
       "    </tr>\n",
       "  </thead>\n",
       "  <tbody>\n",
       "    <tr>\n",
       "      <th>2018-04-01</th>\n",
       "      <td>2.420255</td>\n",
       "      <td>1.445292</td>\n",
       "      <td>-0.245844</td>\n",
       "      <td>0.046493</td>\n",
       "      <td>1.0</td>\n",
       "    </tr>\n",
       "    <tr>\n",
       "      <th>2018-04-02</th>\n",
       "      <td>-0.124341</td>\n",
       "      <td>-0.968569</td>\n",
       "      <td>0.127922</td>\n",
       "      <td>-0.828133</td>\n",
       "      <td>1.0</td>\n",
       "    </tr>\n",
       "    <tr>\n",
       "      <th>2018-04-03</th>\n",
       "      <td>-1.378899</td>\n",
       "      <td>-0.875539</td>\n",
       "      <td>-0.286990</td>\n",
       "      <td>-1.246508</td>\n",
       "      <td>5.0</td>\n",
       "    </tr>\n",
       "    <tr>\n",
       "      <th>2018-04-04</th>\n",
       "      <td>-0.804304</td>\n",
       "      <td>-1.342883</td>\n",
       "      <td>-0.273744</td>\n",
       "      <td>-0.463993</td>\n",
       "      <td>5.0</td>\n",
       "    </tr>\n",
       "  </tbody>\n",
       "</table>\n",
       "</div>"
      ],
      "text/plain": [
       "                   A         B         C         D    E\n",
       "2018-04-01  2.420255  1.445292 -0.245844  0.046493  1.0\n",
       "2018-04-02 -0.124341 -0.968569  0.127922 -0.828133  1.0\n",
       "2018-04-03 -1.378899 -0.875539 -0.286990 -1.246508  5.0\n",
       "2018-04-04 -0.804304 -1.342883 -0.273744 -0.463993  5.0"
      ]
     },
     "execution_count": 45,
     "metadata": {},
     "output_type": "execute_result"
    }
   ],
   "source": [
    "df1.fillna(value=5)"
   ]
  },
  {
   "cell_type": "markdown",
   "metadata": {},
   "source": [
    "获取值是否为**nan**的布尔标记"
   ]
  },
  {
   "cell_type": "code",
   "execution_count": 46,
   "metadata": {},
   "outputs": [
    {
     "data": {
      "text/html": [
       "<div>\n",
       "<style>\n",
       "    .dataframe thead tr:only-child th {\n",
       "        text-align: right;\n",
       "    }\n",
       "\n",
       "    .dataframe thead th {\n",
       "        text-align: left;\n",
       "    }\n",
       "\n",
       "    .dataframe tbody tr th {\n",
       "        vertical-align: top;\n",
       "    }\n",
       "</style>\n",
       "<table border=\"1\" class=\"dataframe\">\n",
       "  <thead>\n",
       "    <tr style=\"text-align: right;\">\n",
       "      <th></th>\n",
       "      <th>A</th>\n",
       "      <th>B</th>\n",
       "      <th>C</th>\n",
       "      <th>D</th>\n",
       "      <th>E</th>\n",
       "    </tr>\n",
       "  </thead>\n",
       "  <tbody>\n",
       "    <tr>\n",
       "      <th>2018-04-01</th>\n",
       "      <td>False</td>\n",
       "      <td>False</td>\n",
       "      <td>False</td>\n",
       "      <td>False</td>\n",
       "      <td>False</td>\n",
       "    </tr>\n",
       "    <tr>\n",
       "      <th>2018-04-02</th>\n",
       "      <td>False</td>\n",
       "      <td>False</td>\n",
       "      <td>False</td>\n",
       "      <td>False</td>\n",
       "      <td>False</td>\n",
       "    </tr>\n",
       "    <tr>\n",
       "      <th>2018-04-03</th>\n",
       "      <td>False</td>\n",
       "      <td>False</td>\n",
       "      <td>False</td>\n",
       "      <td>False</td>\n",
       "      <td>True</td>\n",
       "    </tr>\n",
       "    <tr>\n",
       "      <th>2018-04-04</th>\n",
       "      <td>False</td>\n",
       "      <td>False</td>\n",
       "      <td>False</td>\n",
       "      <td>False</td>\n",
       "      <td>True</td>\n",
       "    </tr>\n",
       "  </tbody>\n",
       "</table>\n",
       "</div>"
      ],
      "text/plain": [
       "                A      B      C      D      E\n",
       "2018-04-01  False  False  False  False  False\n",
       "2018-04-02  False  False  False  False  False\n",
       "2018-04-03  False  False  False  False   True\n",
       "2018-04-04  False  False  False  False   True"
      ]
     },
     "execution_count": 46,
     "metadata": {},
     "output_type": "execute_result"
    }
   ],
   "source": [
    "pd.isnull(df1)"
   ]
  },
  {
   "cell_type": "markdown",
   "metadata": {},
   "source": [
    "# 运算"
   ]
  },
  {
   "cell_type": "markdown",
   "metadata": {},
   "source": [
    "## 统计"
   ]
  },
  {
   "cell_type": "markdown",
   "metadata": {},
   "source": [
    "运算过程中，通常不包含缺失值。"
   ]
  },
  {
   "cell_type": "markdown",
   "metadata": {},
   "source": [
    "进行描述性统计"
   ]
  },
  {
   "cell_type": "code",
   "execution_count": 47,
   "metadata": {},
   "outputs": [
    {
     "data": {
      "text/plain": [
       "A    0.252424\n",
       "B   -0.775231\n",
       "C   -0.166137\n",
       "D   -0.417377\n",
       "dtype: float64"
      ]
     },
     "execution_count": 47,
     "metadata": {},
     "output_type": "execute_result"
    }
   ],
   "source": [
    "df.mean()"
   ]
  },
  {
   "cell_type": "markdown",
   "metadata": {},
   "source": [
    "对其他轴进行同样的运算"
   ]
  },
  {
   "cell_type": "code",
   "execution_count": 48,
   "metadata": {
    "scrolled": true
   },
   "outputs": [
    {
     "data": {
      "text/plain": [
       "2018-04-01    0.916549\n",
       "2018-04-02   -0.448280\n",
       "2018-04-03   -0.946984\n",
       "2018-04-04   -0.721231\n",
       "2018-04-05   -0.016245\n",
       "2018-04-06   -0.443290\n",
       "Freq: D, dtype: float64"
      ]
     },
     "execution_count": 48,
     "metadata": {},
     "output_type": "execute_result"
    }
   ],
   "source": [
    "df.mean(1)"
   ]
  },
  {
   "cell_type": "markdown",
   "metadata": {},
   "source": [
    "对于拥有不同维度的对象进行运算时需要对齐。除此之外，pandas会自动沿着指定维度计算。"
   ]
  },
  {
   "cell_type": "code",
   "execution_count": 50,
   "metadata": {},
   "outputs": [
    {
     "data": {
      "text/plain": [
       "2013-01-01   NaN\n",
       "2013-01-02   NaN\n",
       "2013-01-03     1\n",
       "2013-01-04     3\n",
       "2013-01-05     5\n",
       "2013-01-06   NaN\n",
       "Freq: D, dtype: float64"
      ]
     },
     "execution_count": 50,
     "metadata": {},
     "output_type": "execute_result"
    }
   ],
   "source": [
    "s = pd.Series([1,3,5,np.nan,6,8], index=dates).shift(2)\n",
    "s"
   ]
  },
  {
   "cell_type": "code",
   "execution_count": 51,
   "metadata": {},
   "outputs": [
    {
     "data": {
      "text/html": [
       "<div>\n",
       "<table border=\"1\" class=\"dataframe\">\n",
       "  <thead>\n",
       "    <tr style=\"text-align: right;\">\n",
       "      <th></th>\n",
       "      <th>A</th>\n",
       "      <th>B</th>\n",
       "      <th>C</th>\n",
       "      <th>D</th>\n",
       "      <th>F</th>\n",
       "    </tr>\n",
       "  </thead>\n",
       "  <tbody>\n",
       "    <tr>\n",
       "      <th>2013-01-01</th>\n",
       "      <td>NaN</td>\n",
       "      <td>NaN</td>\n",
       "      <td>NaN</td>\n",
       "      <td>NaN</td>\n",
       "      <td>NaN</td>\n",
       "    </tr>\n",
       "    <tr>\n",
       "      <th>2013-01-02</th>\n",
       "      <td>NaN</td>\n",
       "      <td>NaN</td>\n",
       "      <td>NaN</td>\n",
       "      <td>NaN</td>\n",
       "      <td>NaN</td>\n",
       "    </tr>\n",
       "    <tr>\n",
       "      <th>2013-01-03</th>\n",
       "      <td>-0.487218</td>\n",
       "      <td>0.312247</td>\n",
       "      <td>-0.348556</td>\n",
       "      <td>4</td>\n",
       "      <td>1</td>\n",
       "    </tr>\n",
       "    <tr>\n",
       "      <th>2013-01-04</th>\n",
       "      <td>-3.687212</td>\n",
       "      <td>-4.906938</td>\n",
       "      <td>-4.895192</td>\n",
       "      <td>2</td>\n",
       "      <td>0</td>\n",
       "    </tr>\n",
       "    <tr>\n",
       "      <th>2013-01-05</th>\n",
       "      <td>-4.509919</td>\n",
       "      <td>-4.795387</td>\n",
       "      <td>-5.581628</td>\n",
       "      <td>0</td>\n",
       "      <td>-1</td>\n",
       "    </tr>\n",
       "    <tr>\n",
       "      <th>2013-01-06</th>\n",
       "      <td>NaN</td>\n",
       "      <td>NaN</td>\n",
       "      <td>NaN</td>\n",
       "      <td>NaN</td>\n",
       "      <td>NaN</td>\n",
       "    </tr>\n",
       "  </tbody>\n",
       "</table>\n",
       "</div>"
      ],
      "text/plain": [
       "                   A         B         C   D   F\n",
       "2013-01-01       NaN       NaN       NaN NaN NaN\n",
       "2013-01-02       NaN       NaN       NaN NaN NaN\n",
       "2013-01-03 -0.487218  0.312247 -0.348556   4   1\n",
       "2013-01-04 -3.687212 -4.906938 -4.895192   2   0\n",
       "2013-01-05 -4.509919 -4.795387 -5.581628   0  -1\n",
       "2013-01-06       NaN       NaN       NaN NaN NaN"
      ]
     },
     "execution_count": 51,
     "metadata": {},
     "output_type": "execute_result"
    }
   ],
   "source": [
    "df.sub(s, axis='index')"
   ]
  },
  {
   "cell_type": "markdown",
   "metadata": {},
   "source": [
    "## Apply 函数作用"
   ]
  },
  {
   "cell_type": "markdown",
   "metadata": {},
   "source": [
    "通过apply()对函数作用"
   ]
  },
  {
   "cell_type": "code",
   "execution_count": 49,
   "metadata": {},
   "outputs": [
    {
     "data": {
      "text/html": [
       "<div>\n",
       "<style>\n",
       "    .dataframe thead tr:only-child th {\n",
       "        text-align: right;\n",
       "    }\n",
       "\n",
       "    .dataframe thead th {\n",
       "        text-align: left;\n",
       "    }\n",
       "\n",
       "    .dataframe tbody tr th {\n",
       "        vertical-align: top;\n",
       "    }\n",
       "</style>\n",
       "<table border=\"1\" class=\"dataframe\">\n",
       "  <thead>\n",
       "    <tr style=\"text-align: right;\">\n",
       "      <th></th>\n",
       "      <th>A</th>\n",
       "      <th>B</th>\n",
       "      <th>C</th>\n",
       "      <th>D</th>\n",
       "    </tr>\n",
       "  </thead>\n",
       "  <tbody>\n",
       "    <tr>\n",
       "      <th>2018-04-01</th>\n",
       "      <td>2.420255</td>\n",
       "      <td>1.445292</td>\n",
       "      <td>-0.245844</td>\n",
       "      <td>0.046493</td>\n",
       "    </tr>\n",
       "    <tr>\n",
       "      <th>2018-04-02</th>\n",
       "      <td>2.295914</td>\n",
       "      <td>0.476723</td>\n",
       "      <td>-0.117922</td>\n",
       "      <td>-0.781640</td>\n",
       "    </tr>\n",
       "    <tr>\n",
       "      <th>2018-04-03</th>\n",
       "      <td>0.917015</td>\n",
       "      <td>-0.398817</td>\n",
       "      <td>-0.404912</td>\n",
       "      <td>-2.028148</td>\n",
       "    </tr>\n",
       "    <tr>\n",
       "      <th>2018-04-04</th>\n",
       "      <td>0.112711</td>\n",
       "      <td>-1.741700</td>\n",
       "      <td>-0.678655</td>\n",
       "      <td>-2.492141</td>\n",
       "    </tr>\n",
       "    <tr>\n",
       "      <th>2018-04-05</th>\n",
       "      <td>0.139108</td>\n",
       "      <td>-2.250880</td>\n",
       "      <td>-0.490076</td>\n",
       "      <td>-2.262917</td>\n",
       "    </tr>\n",
       "    <tr>\n",
       "      <th>2018-04-06</th>\n",
       "      <td>1.514545</td>\n",
       "      <td>-4.651384</td>\n",
       "      <td>-0.996822</td>\n",
       "      <td>-2.504263</td>\n",
       "    </tr>\n",
       "  </tbody>\n",
       "</table>\n",
       "</div>"
      ],
      "text/plain": [
       "                   A         B         C         D\n",
       "2018-04-01  2.420255  1.445292 -0.245844  0.046493\n",
       "2018-04-02  2.295914  0.476723 -0.117922 -0.781640\n",
       "2018-04-03  0.917015 -0.398817 -0.404912 -2.028148\n",
       "2018-04-04  0.112711 -1.741700 -0.678655 -2.492141\n",
       "2018-04-05  0.139108 -2.250880 -0.490076 -2.262917\n",
       "2018-04-06  1.514545 -4.651384 -0.996822 -2.504263"
      ]
     },
     "execution_count": 49,
     "metadata": {},
     "output_type": "execute_result"
    }
   ],
   "source": [
    "df.apply(np.cumsum)"
   ]
  },
  {
   "cell_type": "code",
   "execution_count": 50,
   "metadata": {},
   "outputs": [
    {
     "data": {
      "text/plain": [
       "A    3.799154\n",
       "B    3.845795\n",
       "C    0.695326\n",
       "D    1.475731\n",
       "dtype: float64"
      ]
     },
     "execution_count": 50,
     "metadata": {},
     "output_type": "execute_result"
    }
   ],
   "source": [
    "df.apply(lambda x:x.max()-x.min())  # x 列， 求 改列最大值最小值  之差"
   ]
  },
  {
   "cell_type": "markdown",
   "metadata": {},
   "source": [
    "## 频数统计"
   ]
  },
  {
   "cell_type": "code",
   "execution_count": 51,
   "metadata": {},
   "outputs": [
    {
     "data": {
      "text/plain": [
       "0    5\n",
       "1    6\n",
       "2    3\n",
       "3    2\n",
       "4    0\n",
       "5    6\n",
       "6    3\n",
       "7    0\n",
       "8    6\n",
       "9    6\n",
       "dtype: int32"
      ]
     },
     "execution_count": 51,
     "metadata": {},
     "output_type": "execute_result"
    }
   ],
   "source": [
    "s = pd.Series(np.random.randint(0, 7, size=10))\n",
    "s"
   ]
  },
  {
   "cell_type": "code",
   "execution_count": 52,
   "metadata": {},
   "outputs": [
    {
     "data": {
      "text/plain": [
       "6    4\n",
       "3    2\n",
       "0    2\n",
       "5    1\n",
       "2    1\n",
       "dtype: int64"
      ]
     },
     "execution_count": 52,
     "metadata": {},
     "output_type": "execute_result"
    }
   ],
   "source": [
    "s.value_counts()"
   ]
  },
  {
   "cell_type": "markdown",
   "metadata": {},
   "source": [
    "## 字符串方法"
   ]
  },
  {
   "cell_type": "markdown",
   "metadata": {},
   "source": [
    "对于Series对象，在其str属性中有着一系列的字符串处理方法。就如同下段代码一样，能很方便的对array中各个元素进行运算。值得注意的是，在str属性中的模式匹配默认使用正则表达式。"
   ]
  },
  {
   "cell_type": "code",
   "execution_count": 56,
   "metadata": {},
   "outputs": [
    {
     "data": {
      "text/plain": [
       "0       a\n",
       "1       b\n",
       "2       c\n",
       "3    aaba\n",
       "4    baca\n",
       "5     NaN\n",
       "6    caba\n",
       "7     dog\n",
       "8     cat\n",
       "dtype: object"
      ]
     },
     "execution_count": 56,
     "metadata": {},
     "output_type": "execute_result"
    }
   ],
   "source": [
    "s = pd.Series(['A', 'B', 'C', 'Aaba', 'Baca', np.nan, 'CABA', 'dog', 'cat'])\n",
    "s.str.lower()"
   ]
  },
  {
   "cell_type": "markdown",
   "metadata": {},
   "source": [
    "# 合并"
   ]
  },
  {
   "cell_type": "markdown",
   "metadata": {},
   "source": [
    "## Concat 连接"
   ]
  },
  {
   "cell_type": "markdown",
   "metadata": {},
   "source": [
    "pandas中提供了大量的方法能够轻松对Series，DataFrame和Panel对象进行不同满足逻辑关系的合并操作"
   ]
  },
  {
   "cell_type": "markdown",
   "metadata": {},
   "source": [
    "通过**concat()**来连接pandas对象"
   ]
  },
  {
   "cell_type": "code",
   "execution_count": 55,
   "metadata": {
    "scrolled": true
   },
   "outputs": [
    {
     "data": {
      "text/html": [
       "<div>\n",
       "<style>\n",
       "    .dataframe thead tr:only-child th {\n",
       "        text-align: right;\n",
       "    }\n",
       "\n",
       "    .dataframe thead th {\n",
       "        text-align: left;\n",
       "    }\n",
       "\n",
       "    .dataframe tbody tr th {\n",
       "        vertical-align: top;\n",
       "    }\n",
       "</style>\n",
       "<table border=\"1\" class=\"dataframe\">\n",
       "  <thead>\n",
       "    <tr style=\"text-align: right;\">\n",
       "      <th></th>\n",
       "      <th>0</th>\n",
       "      <th>1</th>\n",
       "      <th>2</th>\n",
       "      <th>3</th>\n",
       "    </tr>\n",
       "  </thead>\n",
       "  <tbody>\n",
       "    <tr>\n",
       "      <th>0</th>\n",
       "      <td>-0.849711</td>\n",
       "      <td>0.494378</td>\n",
       "      <td>-1.591898</td>\n",
       "      <td>-1.897721</td>\n",
       "    </tr>\n",
       "    <tr>\n",
       "      <th>1</th>\n",
       "      <td>-0.324744</td>\n",
       "      <td>-0.161055</td>\n",
       "      <td>-1.299020</td>\n",
       "      <td>-0.484651</td>\n",
       "    </tr>\n",
       "    <tr>\n",
       "      <th>2</th>\n",
       "      <td>1.350383</td>\n",
       "      <td>-0.945984</td>\n",
       "      <td>-0.573939</td>\n",
       "      <td>-0.013145</td>\n",
       "    </tr>\n",
       "    <tr>\n",
       "      <th>3</th>\n",
       "      <td>-0.808722</td>\n",
       "      <td>-2.473701</td>\n",
       "      <td>-0.341977</td>\n",
       "      <td>0.354072</td>\n",
       "    </tr>\n",
       "    <tr>\n",
       "      <th>4</th>\n",
       "      <td>-0.474852</td>\n",
       "      <td>-0.639975</td>\n",
       "      <td>1.122441</td>\n",
       "      <td>1.205440</td>\n",
       "    </tr>\n",
       "    <tr>\n",
       "      <th>5</th>\n",
       "      <td>0.946897</td>\n",
       "      <td>-0.144109</td>\n",
       "      <td>0.622400</td>\n",
       "      <td>0.011545</td>\n",
       "    </tr>\n",
       "    <tr>\n",
       "      <th>6</th>\n",
       "      <td>0.295664</td>\n",
       "      <td>1.267691</td>\n",
       "      <td>1.357862</td>\n",
       "      <td>-0.017585</td>\n",
       "    </tr>\n",
       "    <tr>\n",
       "      <th>7</th>\n",
       "      <td>-0.168558</td>\n",
       "      <td>-0.883049</td>\n",
       "      <td>0.244617</td>\n",
       "      <td>-1.432655</td>\n",
       "    </tr>\n",
       "    <tr>\n",
       "      <th>8</th>\n",
       "      <td>0.156968</td>\n",
       "      <td>-0.237633</td>\n",
       "      <td>0.680445</td>\n",
       "      <td>2.338436</td>\n",
       "    </tr>\n",
       "    <tr>\n",
       "      <th>9</th>\n",
       "      <td>0.332033</td>\n",
       "      <td>-0.330800</td>\n",
       "      <td>1.812512</td>\n",
       "      <td>-0.584753</td>\n",
       "    </tr>\n",
       "  </tbody>\n",
       "</table>\n",
       "</div>"
      ],
      "text/plain": [
       "          0         1         2         3\n",
       "0 -0.849711  0.494378 -1.591898 -1.897721\n",
       "1 -0.324744 -0.161055 -1.299020 -0.484651\n",
       "2  1.350383 -0.945984 -0.573939 -0.013145\n",
       "3 -0.808722 -2.473701 -0.341977  0.354072\n",
       "4 -0.474852 -0.639975  1.122441  1.205440\n",
       "5  0.946897 -0.144109  0.622400  0.011545\n",
       "6  0.295664  1.267691  1.357862 -0.017585\n",
       "7 -0.168558 -0.883049  0.244617 -1.432655\n",
       "8  0.156968 -0.237633  0.680445  2.338436\n",
       "9  0.332033 -0.330800  1.812512 -0.584753"
      ]
     },
     "execution_count": 55,
     "metadata": {},
     "output_type": "execute_result"
    }
   ],
   "source": [
    "df = pd.DataFrame(np.random.randn(10,4))\n",
    "df"
   ]
  },
  {
   "cell_type": "code",
   "execution_count": 56,
   "metadata": {},
   "outputs": [
    {
     "data": {
      "text/plain": [
       "[          0         1         2         3\n",
       " 0 -0.849711  0.494378 -1.591898 -1.897721\n",
       " 1 -0.324744 -0.161055 -1.299020 -0.484651\n",
       " 2  1.350383 -0.945984 -0.573939 -0.013145,\n",
       "           0         1         2         3\n",
       " 3 -0.808722 -2.473701 -0.341977  0.354072\n",
       " 4 -0.474852 -0.639975  1.122441  1.205440\n",
       " 5  0.946897 -0.144109  0.622400  0.011545\n",
       " 6  0.295664  1.267691  1.357862 -0.017585,\n",
       "           0         1         2         3\n",
       " 7 -0.168558 -0.883049  0.244617 -1.432655\n",
       " 8  0.156968 -0.237633  0.680445  2.338436\n",
       " 9  0.332033 -0.330800  1.812512 -0.584753]"
      ]
     },
     "execution_count": 56,
     "metadata": {},
     "output_type": "execute_result"
    }
   ],
   "source": [
    "#break it into pieces\n",
    "pieces = [df[:3], df[3:7], df[7:]]\n",
    "pieces"
   ]
  },
  {
   "cell_type": "code",
   "execution_count": 57,
   "metadata": {},
   "outputs": [
    {
     "data": {
      "text/html": [
       "<div>\n",
       "<style>\n",
       "    .dataframe thead tr:only-child th {\n",
       "        text-align: right;\n",
       "    }\n",
       "\n",
       "    .dataframe thead th {\n",
       "        text-align: left;\n",
       "    }\n",
       "\n",
       "    .dataframe tbody tr th {\n",
       "        vertical-align: top;\n",
       "    }\n",
       "</style>\n",
       "<table border=\"1\" class=\"dataframe\">\n",
       "  <thead>\n",
       "    <tr style=\"text-align: right;\">\n",
       "      <th></th>\n",
       "      <th>0</th>\n",
       "      <th>1</th>\n",
       "      <th>2</th>\n",
       "      <th>3</th>\n",
       "    </tr>\n",
       "  </thead>\n",
       "  <tbody>\n",
       "    <tr>\n",
       "      <th>0</th>\n",
       "      <td>-0.849711</td>\n",
       "      <td>0.494378</td>\n",
       "      <td>-1.591898</td>\n",
       "      <td>-1.897721</td>\n",
       "    </tr>\n",
       "    <tr>\n",
       "      <th>1</th>\n",
       "      <td>-0.324744</td>\n",
       "      <td>-0.161055</td>\n",
       "      <td>-1.299020</td>\n",
       "      <td>-0.484651</td>\n",
       "    </tr>\n",
       "    <tr>\n",
       "      <th>2</th>\n",
       "      <td>1.350383</td>\n",
       "      <td>-0.945984</td>\n",
       "      <td>-0.573939</td>\n",
       "      <td>-0.013145</td>\n",
       "    </tr>\n",
       "    <tr>\n",
       "      <th>3</th>\n",
       "      <td>-0.808722</td>\n",
       "      <td>-2.473701</td>\n",
       "      <td>-0.341977</td>\n",
       "      <td>0.354072</td>\n",
       "    </tr>\n",
       "    <tr>\n",
       "      <th>4</th>\n",
       "      <td>-0.474852</td>\n",
       "      <td>-0.639975</td>\n",
       "      <td>1.122441</td>\n",
       "      <td>1.205440</td>\n",
       "    </tr>\n",
       "    <tr>\n",
       "      <th>5</th>\n",
       "      <td>0.946897</td>\n",
       "      <td>-0.144109</td>\n",
       "      <td>0.622400</td>\n",
       "      <td>0.011545</td>\n",
       "    </tr>\n",
       "    <tr>\n",
       "      <th>6</th>\n",
       "      <td>0.295664</td>\n",
       "      <td>1.267691</td>\n",
       "      <td>1.357862</td>\n",
       "      <td>-0.017585</td>\n",
       "    </tr>\n",
       "    <tr>\n",
       "      <th>7</th>\n",
       "      <td>-0.168558</td>\n",
       "      <td>-0.883049</td>\n",
       "      <td>0.244617</td>\n",
       "      <td>-1.432655</td>\n",
       "    </tr>\n",
       "    <tr>\n",
       "      <th>8</th>\n",
       "      <td>0.156968</td>\n",
       "      <td>-0.237633</td>\n",
       "      <td>0.680445</td>\n",
       "      <td>2.338436</td>\n",
       "    </tr>\n",
       "    <tr>\n",
       "      <th>9</th>\n",
       "      <td>0.332033</td>\n",
       "      <td>-0.330800</td>\n",
       "      <td>1.812512</td>\n",
       "      <td>-0.584753</td>\n",
       "    </tr>\n",
       "  </tbody>\n",
       "</table>\n",
       "</div>"
      ],
      "text/plain": [
       "          0         1         2         3\n",
       "0 -0.849711  0.494378 -1.591898 -1.897721\n",
       "1 -0.324744 -0.161055 -1.299020 -0.484651\n",
       "2  1.350383 -0.945984 -0.573939 -0.013145\n",
       "3 -0.808722 -2.473701 -0.341977  0.354072\n",
       "4 -0.474852 -0.639975  1.122441  1.205440\n",
       "5  0.946897 -0.144109  0.622400  0.011545\n",
       "6  0.295664  1.267691  1.357862 -0.017585\n",
       "7 -0.168558 -0.883049  0.244617 -1.432655\n",
       "8  0.156968 -0.237633  0.680445  2.338436\n",
       "9  0.332033 -0.330800  1.812512 -0.584753"
      ]
     },
     "execution_count": 57,
     "metadata": {},
     "output_type": "execute_result"
    }
   ],
   "source": [
    "pd.concat(pieces)"
   ]
  },
  {
   "cell_type": "markdown",
   "metadata": {},
   "source": [
    "## Join 合并"
   ]
  },
  {
   "cell_type": "markdown",
   "metadata": {},
   "source": [
    "类似于SQL中的合并(merge)"
   ]
  },
  {
   "cell_type": "code",
   "execution_count": 58,
   "metadata": {},
   "outputs": [
    {
     "data": {
      "text/html": [
       "<div>\n",
       "<style>\n",
       "    .dataframe thead tr:only-child th {\n",
       "        text-align: right;\n",
       "    }\n",
       "\n",
       "    .dataframe thead th {\n",
       "        text-align: left;\n",
       "    }\n",
       "\n",
       "    .dataframe tbody tr th {\n",
       "        vertical-align: top;\n",
       "    }\n",
       "</style>\n",
       "<table border=\"1\" class=\"dataframe\">\n",
       "  <thead>\n",
       "    <tr style=\"text-align: right;\">\n",
       "      <th></th>\n",
       "      <th>key</th>\n",
       "      <th>lval</th>\n",
       "    </tr>\n",
       "  </thead>\n",
       "  <tbody>\n",
       "    <tr>\n",
       "      <th>0</th>\n",
       "      <td>foo</td>\n",
       "      <td>1</td>\n",
       "    </tr>\n",
       "    <tr>\n",
       "      <th>1</th>\n",
       "      <td>foo</td>\n",
       "      <td>2</td>\n",
       "    </tr>\n",
       "  </tbody>\n",
       "</table>\n",
       "</div>"
      ],
      "text/plain": [
       "   key  lval\n",
       "0  foo     1\n",
       "1  foo     2"
      ]
     },
     "execution_count": 58,
     "metadata": {},
     "output_type": "execute_result"
    }
   ],
   "source": [
    "left = pd.DataFrame({'key':['foo', 'foo'], 'lval':[1,2]})\n",
    "left"
   ]
  },
  {
   "cell_type": "code",
   "execution_count": 59,
   "metadata": {},
   "outputs": [
    {
     "data": {
      "text/html": [
       "<div>\n",
       "<style>\n",
       "    .dataframe thead tr:only-child th {\n",
       "        text-align: right;\n",
       "    }\n",
       "\n",
       "    .dataframe thead th {\n",
       "        text-align: left;\n",
       "    }\n",
       "\n",
       "    .dataframe tbody tr th {\n",
       "        vertical-align: top;\n",
       "    }\n",
       "</style>\n",
       "<table border=\"1\" class=\"dataframe\">\n",
       "  <thead>\n",
       "    <tr style=\"text-align: right;\">\n",
       "      <th></th>\n",
       "      <th>key</th>\n",
       "      <th>lval</th>\n",
       "    </tr>\n",
       "  </thead>\n",
       "  <tbody>\n",
       "    <tr>\n",
       "      <th>0</th>\n",
       "      <td>foo</td>\n",
       "      <td>4</td>\n",
       "    </tr>\n",
       "    <tr>\n",
       "      <th>1</th>\n",
       "      <td>foo</td>\n",
       "      <td>5</td>\n",
       "    </tr>\n",
       "  </tbody>\n",
       "</table>\n",
       "</div>"
      ],
      "text/plain": [
       "   key  lval\n",
       "0  foo     4\n",
       "1  foo     5"
      ]
     },
     "execution_count": 59,
     "metadata": {},
     "output_type": "execute_result"
    }
   ],
   "source": [
    "right = pd.DataFrame({'key':['foo', 'foo'], 'lval':[4,5]})\n",
    "right"
   ]
  },
  {
   "cell_type": "code",
   "execution_count": 60,
   "metadata": {
    "scrolled": true
   },
   "outputs": [
    {
     "data": {
      "text/html": [
       "<div>\n",
       "<style>\n",
       "    .dataframe thead tr:only-child th {\n",
       "        text-align: right;\n",
       "    }\n",
       "\n",
       "    .dataframe thead th {\n",
       "        text-align: left;\n",
       "    }\n",
       "\n",
       "    .dataframe tbody tr th {\n",
       "        vertical-align: top;\n",
       "    }\n",
       "</style>\n",
       "<table border=\"1\" class=\"dataframe\">\n",
       "  <thead>\n",
       "    <tr style=\"text-align: right;\">\n",
       "      <th></th>\n",
       "      <th>key</th>\n",
       "      <th>lval_x</th>\n",
       "      <th>lval_y</th>\n",
       "    </tr>\n",
       "  </thead>\n",
       "  <tbody>\n",
       "    <tr>\n",
       "      <th>0</th>\n",
       "      <td>foo</td>\n",
       "      <td>1</td>\n",
       "      <td>4</td>\n",
       "    </tr>\n",
       "    <tr>\n",
       "      <th>1</th>\n",
       "      <td>foo</td>\n",
       "      <td>1</td>\n",
       "      <td>5</td>\n",
       "    </tr>\n",
       "    <tr>\n",
       "      <th>2</th>\n",
       "      <td>foo</td>\n",
       "      <td>2</td>\n",
       "      <td>4</td>\n",
       "    </tr>\n",
       "    <tr>\n",
       "      <th>3</th>\n",
       "      <td>foo</td>\n",
       "      <td>2</td>\n",
       "      <td>5</td>\n",
       "    </tr>\n",
       "  </tbody>\n",
       "</table>\n",
       "</div>"
      ],
      "text/plain": [
       "   key  lval_x  lval_y\n",
       "0  foo       1       4\n",
       "1  foo       1       5\n",
       "2  foo       2       4\n",
       "3  foo       2       5"
      ]
     },
     "execution_count": 60,
     "metadata": {},
     "output_type": "execute_result"
    }
   ],
   "source": [
    "pd.merge(left, right, on='key')"
   ]
  },
  {
   "cell_type": "markdown",
   "metadata": {},
   "source": [
    "## Append 添加"
   ]
  },
  {
   "cell_type": "markdown",
   "metadata": {},
   "source": [
    "将若干行添加到dataFrame后面"
   ]
  },
  {
   "cell_type": "code",
   "execution_count": 63,
   "metadata": {},
   "outputs": [
    {
     "data": {
      "text/html": [
       "<div>\n",
       "<table border=\"1\" class=\"dataframe\">\n",
       "  <thead>\n",
       "    <tr style=\"text-align: right;\">\n",
       "      <th></th>\n",
       "      <th>A</th>\n",
       "      <th>B</th>\n",
       "      <th>C</th>\n",
       "      <th>D</th>\n",
       "    </tr>\n",
       "  </thead>\n",
       "  <tbody>\n",
       "    <tr>\n",
       "      <th>0</th>\n",
       "      <td>-0.547356</td>\n",
       "      <td>-0.885905</td>\n",
       "      <td>-1.791742</td>\n",
       "      <td>1.908368</td>\n",
       "    </tr>\n",
       "    <tr>\n",
       "      <th>1</th>\n",
       "      <td>0.961259</td>\n",
       "      <td>0.825907</td>\n",
       "      <td>1.074854</td>\n",
       "      <td>0.093868</td>\n",
       "    </tr>\n",
       "    <tr>\n",
       "      <th>2</th>\n",
       "      <td>0.782033</td>\n",
       "      <td>-0.914023</td>\n",
       "      <td>1.559572</td>\n",
       "      <td>0.616944</td>\n",
       "    </tr>\n",
       "    <tr>\n",
       "      <th>3</th>\n",
       "      <td>0.353374</td>\n",
       "      <td>-0.484523</td>\n",
       "      <td>-1.730823</td>\n",
       "      <td>2.503638</td>\n",
       "    </tr>\n",
       "    <tr>\n",
       "      <th>4</th>\n",
       "      <td>0.495378</td>\n",
       "      <td>-0.664738</td>\n",
       "      <td>1.192463</td>\n",
       "      <td>-0.900465</td>\n",
       "    </tr>\n",
       "    <tr>\n",
       "      <th>5</th>\n",
       "      <td>0.446744</td>\n",
       "      <td>-0.456149</td>\n",
       "      <td>-0.088171</td>\n",
       "      <td>1.450870</td>\n",
       "    </tr>\n",
       "    <tr>\n",
       "      <th>6</th>\n",
       "      <td>0.422372</td>\n",
       "      <td>-2.207023</td>\n",
       "      <td>-1.007185</td>\n",
       "      <td>-0.304415</td>\n",
       "    </tr>\n",
       "    <tr>\n",
       "      <th>7</th>\n",
       "      <td>2.183043</td>\n",
       "      <td>0.069862</td>\n",
       "      <td>-0.376567</td>\n",
       "      <td>1.403847</td>\n",
       "    </tr>\n",
       "  </tbody>\n",
       "</table>\n",
       "</div>"
      ],
      "text/plain": [
       "          A         B         C         D\n",
       "0 -0.547356 -0.885905 -1.791742  1.908368\n",
       "1  0.961259  0.825907  1.074854  0.093868\n",
       "2  0.782033 -0.914023  1.559572  0.616944\n",
       "3  0.353374 -0.484523 -1.730823  2.503638\n",
       "4  0.495378 -0.664738  1.192463 -0.900465\n",
       "5  0.446744 -0.456149 -0.088171  1.450870\n",
       "6  0.422372 -2.207023 -1.007185 -0.304415\n",
       "7  2.183043  0.069862 -0.376567  1.403847"
      ]
     },
     "execution_count": 63,
     "metadata": {},
     "output_type": "execute_result"
    }
   ],
   "source": [
    "df = pd.DataFrame(np.random.randn(8, 4), columns=['A', 'B', 'C', 'D'])\n",
    "df"
   ]
  },
  {
   "cell_type": "code",
   "execution_count": 64,
   "metadata": {},
   "outputs": [
    {
     "data": {
      "text/plain": [
       "A    0.353374\n",
       "B   -0.484523\n",
       "C   -1.730823\n",
       "D    2.503638\n",
       "Name: 3, dtype: float64"
      ]
     },
     "execution_count": 64,
     "metadata": {},
     "output_type": "execute_result"
    }
   ],
   "source": [
    "s = df.iloc[3]\n",
    "s"
   ]
  },
  {
   "cell_type": "code",
   "execution_count": 65,
   "metadata": {},
   "outputs": [
    {
     "data": {
      "text/html": [
       "<div>\n",
       "<table border=\"1\" class=\"dataframe\">\n",
       "  <thead>\n",
       "    <tr style=\"text-align: right;\">\n",
       "      <th></th>\n",
       "      <th>A</th>\n",
       "      <th>B</th>\n",
       "      <th>C</th>\n",
       "      <th>D</th>\n",
       "    </tr>\n",
       "  </thead>\n",
       "  <tbody>\n",
       "    <tr>\n",
       "      <th>0</th>\n",
       "      <td>-0.547356</td>\n",
       "      <td>-0.885905</td>\n",
       "      <td>-1.791742</td>\n",
       "      <td>1.908368</td>\n",
       "    </tr>\n",
       "    <tr>\n",
       "      <th>1</th>\n",
       "      <td>0.961259</td>\n",
       "      <td>0.825907</td>\n",
       "      <td>1.074854</td>\n",
       "      <td>0.093868</td>\n",
       "    </tr>\n",
       "    <tr>\n",
       "      <th>2</th>\n",
       "      <td>0.782033</td>\n",
       "      <td>-0.914023</td>\n",
       "      <td>1.559572</td>\n",
       "      <td>0.616944</td>\n",
       "    </tr>\n",
       "    <tr>\n",
       "      <th>3</th>\n",
       "      <td>0.353374</td>\n",
       "      <td>-0.484523</td>\n",
       "      <td>-1.730823</td>\n",
       "      <td>2.503638</td>\n",
       "    </tr>\n",
       "    <tr>\n",
       "      <th>4</th>\n",
       "      <td>0.495378</td>\n",
       "      <td>-0.664738</td>\n",
       "      <td>1.192463</td>\n",
       "      <td>-0.900465</td>\n",
       "    </tr>\n",
       "    <tr>\n",
       "      <th>5</th>\n",
       "      <td>0.446744</td>\n",
       "      <td>-0.456149</td>\n",
       "      <td>-0.088171</td>\n",
       "      <td>1.450870</td>\n",
       "    </tr>\n",
       "    <tr>\n",
       "      <th>6</th>\n",
       "      <td>0.422372</td>\n",
       "      <td>-2.207023</td>\n",
       "      <td>-1.007185</td>\n",
       "      <td>-0.304415</td>\n",
       "    </tr>\n",
       "    <tr>\n",
       "      <th>7</th>\n",
       "      <td>2.183043</td>\n",
       "      <td>0.069862</td>\n",
       "      <td>-0.376567</td>\n",
       "      <td>1.403847</td>\n",
       "    </tr>\n",
       "    <tr>\n",
       "      <th>8</th>\n",
       "      <td>0.353374</td>\n",
       "      <td>-0.484523</td>\n",
       "      <td>-1.730823</td>\n",
       "      <td>2.503638</td>\n",
       "    </tr>\n",
       "  </tbody>\n",
       "</table>\n",
       "</div>"
      ],
      "text/plain": [
       "          A         B         C         D\n",
       "0 -0.547356 -0.885905 -1.791742  1.908368\n",
       "1  0.961259  0.825907  1.074854  0.093868\n",
       "2  0.782033 -0.914023  1.559572  0.616944\n",
       "3  0.353374 -0.484523 -1.730823  2.503638\n",
       "4  0.495378 -0.664738  1.192463 -0.900465\n",
       "5  0.446744 -0.456149 -0.088171  1.450870\n",
       "6  0.422372 -2.207023 -1.007185 -0.304415\n",
       "7  2.183043  0.069862 -0.376567  1.403847\n",
       "8  0.353374 -0.484523 -1.730823  2.503638"
      ]
     },
     "execution_count": 65,
     "metadata": {},
     "output_type": "execute_result"
    }
   ],
   "source": [
    "df.append(s, ignore_index=True)"
   ]
  },
  {
   "cell_type": "markdown",
   "metadata": {},
   "source": [
    "# 分组"
   ]
  },
  {
   "cell_type": "markdown",
   "metadata": {},
   "source": [
    "对于“group by”操作，我们通常是指以下一个或几个步骤：\n",
    "* **划分** 按照某些标准将数据分为不同的组\n",
    "* **应用** 对每组数据分别执行一个函数\n",
    "* **组合** 将结果组合到一个数据结构"
   ]
  },
  {
   "cell_type": "code",
   "execution_count": 61,
   "metadata": {},
   "outputs": [
    {
     "data": {
      "text/html": [
       "<div>\n",
       "<style>\n",
       "    .dataframe thead tr:only-child th {\n",
       "        text-align: right;\n",
       "    }\n",
       "\n",
       "    .dataframe thead th {\n",
       "        text-align: left;\n",
       "    }\n",
       "\n",
       "    .dataframe tbody tr th {\n",
       "        vertical-align: top;\n",
       "    }\n",
       "</style>\n",
       "<table border=\"1\" class=\"dataframe\">\n",
       "  <thead>\n",
       "    <tr style=\"text-align: right;\">\n",
       "      <th></th>\n",
       "      <th>A</th>\n",
       "      <th>B</th>\n",
       "      <th>C</th>\n",
       "      <th>D</th>\n",
       "    </tr>\n",
       "  </thead>\n",
       "  <tbody>\n",
       "    <tr>\n",
       "      <th>0</th>\n",
       "      <td>foo</td>\n",
       "      <td>one</td>\n",
       "      <td>0.552941</td>\n",
       "      <td>-1.169499</td>\n",
       "    </tr>\n",
       "    <tr>\n",
       "      <th>1</th>\n",
       "      <td>bar</td>\n",
       "      <td>one</td>\n",
       "      <td>-0.603772</td>\n",
       "      <td>1.397996</td>\n",
       "    </tr>\n",
       "    <tr>\n",
       "      <th>2</th>\n",
       "      <td>foo</td>\n",
       "      <td>two</td>\n",
       "      <td>-0.540431</td>\n",
       "      <td>1.666115</td>\n",
       "    </tr>\n",
       "    <tr>\n",
       "      <th>3</th>\n",
       "      <td>bar</td>\n",
       "      <td>three</td>\n",
       "      <td>0.025852</td>\n",
       "      <td>-0.645185</td>\n",
       "    </tr>\n",
       "    <tr>\n",
       "      <th>4</th>\n",
       "      <td>foo</td>\n",
       "      <td>two</td>\n",
       "      <td>-0.760415</td>\n",
       "      <td>0.733709</td>\n",
       "    </tr>\n",
       "    <tr>\n",
       "      <th>5</th>\n",
       "      <td>bar</td>\n",
       "      <td>two</td>\n",
       "      <td>0.567096</td>\n",
       "      <td>-0.198531</td>\n",
       "    </tr>\n",
       "    <tr>\n",
       "      <th>6</th>\n",
       "      <td>foo</td>\n",
       "      <td>one</td>\n",
       "      <td>-0.729636</td>\n",
       "      <td>0.326395</td>\n",
       "    </tr>\n",
       "    <tr>\n",
       "      <th>7</th>\n",
       "      <td>bar</td>\n",
       "      <td>three</td>\n",
       "      <td>-0.616235</td>\n",
       "      <td>-0.264754</td>\n",
       "    </tr>\n",
       "  </tbody>\n",
       "</table>\n",
       "</div>"
      ],
      "text/plain": [
       "     A      B         C         D\n",
       "0  foo    one  0.552941 -1.169499\n",
       "1  bar    one -0.603772  1.397996\n",
       "2  foo    two -0.540431  1.666115\n",
       "3  bar  three  0.025852 -0.645185\n",
       "4  foo    two -0.760415  0.733709\n",
       "5  bar    two  0.567096 -0.198531\n",
       "6  foo    one -0.729636  0.326395\n",
       "7  bar  three -0.616235 -0.264754"
      ]
     },
     "execution_count": 61,
     "metadata": {},
     "output_type": "execute_result"
    }
   ],
   "source": [
    "df = pd.DataFrame({'A' : ['foo', 'bar', 'foo', 'bar', \n",
    "                          'foo', 'bar', 'foo', 'bar'],\n",
    "                   'B' : ['one', 'one', 'two', 'three', \n",
    "                          'two', 'two', 'one', 'three'],\n",
    "                   'C' : np.random.randn(8),\n",
    "                   'D' : np.random.randn(8)})\n",
    "df"
   ]
  },
  {
   "cell_type": "markdown",
   "metadata": {},
   "source": [
    "分组并对每个分组应用sum函数"
   ]
  },
  {
   "cell_type": "code",
   "execution_count": 62,
   "metadata": {},
   "outputs": [
    {
     "data": {
      "text/html": [
       "<div>\n",
       "<style>\n",
       "    .dataframe thead tr:only-child th {\n",
       "        text-align: right;\n",
       "    }\n",
       "\n",
       "    .dataframe thead th {\n",
       "        text-align: left;\n",
       "    }\n",
       "\n",
       "    .dataframe tbody tr th {\n",
       "        vertical-align: top;\n",
       "    }\n",
       "</style>\n",
       "<table border=\"1\" class=\"dataframe\">\n",
       "  <thead>\n",
       "    <tr style=\"text-align: right;\">\n",
       "      <th></th>\n",
       "      <th>C</th>\n",
       "      <th>D</th>\n",
       "    </tr>\n",
       "    <tr>\n",
       "      <th>B</th>\n",
       "      <th></th>\n",
       "      <th></th>\n",
       "    </tr>\n",
       "  </thead>\n",
       "  <tbody>\n",
       "    <tr>\n",
       "      <th>one</th>\n",
       "      <td>-0.780467</td>\n",
       "      <td>0.554892</td>\n",
       "    </tr>\n",
       "    <tr>\n",
       "      <th>three</th>\n",
       "      <td>-0.590383</td>\n",
       "      <td>-0.909939</td>\n",
       "    </tr>\n",
       "    <tr>\n",
       "      <th>two</th>\n",
       "      <td>-0.733750</td>\n",
       "      <td>2.201293</td>\n",
       "    </tr>\n",
       "  </tbody>\n",
       "</table>\n",
       "</div>"
      ],
      "text/plain": [
       "              C         D\n",
       "B                        \n",
       "one   -0.780467  0.554892\n",
       "three -0.590383 -0.909939\n",
       "two   -0.733750  2.201293"
      ]
     },
     "execution_count": 62,
     "metadata": {},
     "output_type": "execute_result"
    }
   ],
   "source": [
    "df.groupby('B').sum()"
   ]
  },
  {
   "cell_type": "markdown",
   "metadata": {},
   "source": [
    "按多个列分组形成层级索引，然后应用函数"
   ]
  },
  {
   "cell_type": "code",
   "execution_count": 63,
   "metadata": {},
   "outputs": [
    {
     "data": {
      "text/html": [
       "<div>\n",
       "<style>\n",
       "    .dataframe thead tr:only-child th {\n",
       "        text-align: right;\n",
       "    }\n",
       "\n",
       "    .dataframe thead th {\n",
       "        text-align: left;\n",
       "    }\n",
       "\n",
       "    .dataframe tbody tr th {\n",
       "        vertical-align: top;\n",
       "    }\n",
       "</style>\n",
       "<table border=\"1\" class=\"dataframe\">\n",
       "  <thead>\n",
       "    <tr style=\"text-align: right;\">\n",
       "      <th></th>\n",
       "      <th></th>\n",
       "      <th>C</th>\n",
       "      <th>D</th>\n",
       "    </tr>\n",
       "    <tr>\n",
       "      <th>A</th>\n",
       "      <th>B</th>\n",
       "      <th></th>\n",
       "      <th></th>\n",
       "    </tr>\n",
       "  </thead>\n",
       "  <tbody>\n",
       "    <tr>\n",
       "      <th rowspan=\"3\" valign=\"top\">bar</th>\n",
       "      <th>one</th>\n",
       "      <td>-0.603772</td>\n",
       "      <td>1.397996</td>\n",
       "    </tr>\n",
       "    <tr>\n",
       "      <th>three</th>\n",
       "      <td>-0.590383</td>\n",
       "      <td>-0.909939</td>\n",
       "    </tr>\n",
       "    <tr>\n",
       "      <th>two</th>\n",
       "      <td>0.567096</td>\n",
       "      <td>-0.198531</td>\n",
       "    </tr>\n",
       "    <tr>\n",
       "      <th rowspan=\"2\" valign=\"top\">foo</th>\n",
       "      <th>one</th>\n",
       "      <td>-0.176694</td>\n",
       "      <td>-0.843104</td>\n",
       "    </tr>\n",
       "    <tr>\n",
       "      <th>two</th>\n",
       "      <td>-1.300846</td>\n",
       "      <td>2.399824</td>\n",
       "    </tr>\n",
       "  </tbody>\n",
       "</table>\n",
       "</div>"
      ],
      "text/plain": [
       "                  C         D\n",
       "A   B                        \n",
       "bar one   -0.603772  1.397996\n",
       "    three -0.590383 -0.909939\n",
       "    two    0.567096 -0.198531\n",
       "foo one   -0.176694 -0.843104\n",
       "    two   -1.300846  2.399824"
      ]
     },
     "execution_count": 63,
     "metadata": {},
     "output_type": "execute_result"
    }
   ],
   "source": [
    "df.groupby(['A','B']).sum()"
   ]
  },
  {
   "cell_type": "markdown",
   "metadata": {},
   "source": [
    "# 变形"
   ]
  },
  {
   "cell_type": "markdown",
   "metadata": {},
   "source": [
    "## 堆叠"
   ]
  },
  {
   "cell_type": "code",
   "execution_count": 69,
   "metadata": {
    "collapsed": true
   },
   "outputs": [],
   "source": [
    "tuples = list(zip(*[['bar', 'bar', 'baz', 'baz',\n",
    "                     'foo', 'foo', 'qux', 'qux'],\n",
    "                    ['one', 'two', 'one', 'two',\n",
    "                     'one', 'two', 'one', 'two']]))"
   ]
  },
  {
   "cell_type": "code",
   "execution_count": 70,
   "metadata": {
    "collapsed": true
   },
   "outputs": [],
   "source": [
    "index = pd.MultiIndex.from_tuples(tuples, names=['first', 'second'])"
   ]
  },
  {
   "cell_type": "code",
   "execution_count": 71,
   "metadata": {
    "collapsed": true
   },
   "outputs": [],
   "source": [
    "df = pd.DataFrame(np.random.randn(8, 2), index=index, columns=['A', 'B'])"
   ]
  },
  {
   "cell_type": "code",
   "execution_count": 72,
   "metadata": {},
   "outputs": [
    {
     "data": {
      "text/html": [
       "<div>\n",
       "<table border=\"1\" class=\"dataframe\">\n",
       "  <thead>\n",
       "    <tr style=\"text-align: right;\">\n",
       "      <th></th>\n",
       "      <th></th>\n",
       "      <th>A</th>\n",
       "      <th>B</th>\n",
       "    </tr>\n",
       "    <tr>\n",
       "      <th>first</th>\n",
       "      <th>second</th>\n",
       "      <th></th>\n",
       "      <th></th>\n",
       "    </tr>\n",
       "  </thead>\n",
       "  <tbody>\n",
       "    <tr>\n",
       "      <th rowspan=\"2\" valign=\"top\">bar</th>\n",
       "      <th>one</th>\n",
       "      <td>-0.305811</td>\n",
       "      <td>-0.539703</td>\n",
       "    </tr>\n",
       "    <tr>\n",
       "      <th>two</th>\n",
       "      <td>0.214511</td>\n",
       "      <td>0.514641</td>\n",
       "    </tr>\n",
       "    <tr>\n",
       "      <th rowspan=\"2\" valign=\"top\">baz</th>\n",
       "      <th>one</th>\n",
       "      <td>-0.208686</td>\n",
       "      <td>-0.686508</td>\n",
       "    </tr>\n",
       "    <tr>\n",
       "      <th>two</th>\n",
       "      <td>-0.565780</td>\n",
       "      <td>0.945584</td>\n",
       "    </tr>\n",
       "  </tbody>\n",
       "</table>\n",
       "</div>"
      ],
      "text/plain": [
       "                     A         B\n",
       "first second                    \n",
       "bar   one    -0.305811 -0.539703\n",
       "      two     0.214511  0.514641\n",
       "baz   one    -0.208686 -0.686508\n",
       "      two    -0.565780  0.945584"
      ]
     },
     "execution_count": 72,
     "metadata": {},
     "output_type": "execute_result"
    }
   ],
   "source": [
    "df2 = df[:4]\n",
    "df2"
   ]
  },
  {
   "cell_type": "markdown",
   "metadata": {},
   "source": [
    "**stack()**方法对DataFrame的列“压缩”一个层级"
   ]
  },
  {
   "cell_type": "code",
   "execution_count": 73,
   "metadata": {},
   "outputs": [
    {
     "data": {
      "text/plain": [
       "first  second   \n",
       "bar    one     A   -0.305811\n",
       "               B   -0.539703\n",
       "       two     A    0.214511\n",
       "               B    0.514641\n",
       "baz    one     A   -0.208686\n",
       "               B   -0.686508\n",
       "       two     A   -0.565780\n",
       "               B    0.945584\n",
       "dtype: float64"
      ]
     },
     "execution_count": 73,
     "metadata": {},
     "output_type": "execute_result"
    }
   ],
   "source": [
    "stacked = df2.stack()\n",
    "stacked"
   ]
  },
  {
   "cell_type": "markdown",
   "metadata": {},
   "source": [
    "对于一个“堆叠过的”DataFrame或者Series（拥有MultiIndex作为索引），**stack()**的逆操作是**unstack()**，默认反堆叠到上一个层级"
   ]
  },
  {
   "cell_type": "code",
   "execution_count": 74,
   "metadata": {},
   "outputs": [
    {
     "data": {
      "text/html": [
       "<div>\n",
       "<table border=\"1\" class=\"dataframe\">\n",
       "  <thead>\n",
       "    <tr style=\"text-align: right;\">\n",
       "      <th></th>\n",
       "      <th></th>\n",
       "      <th>A</th>\n",
       "      <th>B</th>\n",
       "    </tr>\n",
       "    <tr>\n",
       "      <th>first</th>\n",
       "      <th>second</th>\n",
       "      <th></th>\n",
       "      <th></th>\n",
       "    </tr>\n",
       "  </thead>\n",
       "  <tbody>\n",
       "    <tr>\n",
       "      <th rowspan=\"2\" valign=\"top\">bar</th>\n",
       "      <th>one</th>\n",
       "      <td>-0.305811</td>\n",
       "      <td>-0.539703</td>\n",
       "    </tr>\n",
       "    <tr>\n",
       "      <th>two</th>\n",
       "      <td>0.214511</td>\n",
       "      <td>0.514641</td>\n",
       "    </tr>\n",
       "    <tr>\n",
       "      <th rowspan=\"2\" valign=\"top\">baz</th>\n",
       "      <th>one</th>\n",
       "      <td>-0.208686</td>\n",
       "      <td>-0.686508</td>\n",
       "    </tr>\n",
       "    <tr>\n",
       "      <th>two</th>\n",
       "      <td>-0.565780</td>\n",
       "      <td>0.945584</td>\n",
       "    </tr>\n",
       "  </tbody>\n",
       "</table>\n",
       "</div>"
      ],
      "text/plain": [
       "                     A         B\n",
       "first second                    \n",
       "bar   one    -0.305811 -0.539703\n",
       "      two     0.214511  0.514641\n",
       "baz   one    -0.208686 -0.686508\n",
       "      two    -0.565780  0.945584"
      ]
     },
     "execution_count": 74,
     "metadata": {},
     "output_type": "execute_result"
    }
   ],
   "source": [
    "stacked.unstack()"
   ]
  },
  {
   "cell_type": "code",
   "execution_count": 75,
   "metadata": {},
   "outputs": [
    {
     "data": {
      "text/html": [
       "<div>\n",
       "<table border=\"1\" class=\"dataframe\">\n",
       "  <thead>\n",
       "    <tr style=\"text-align: right;\">\n",
       "      <th></th>\n",
       "      <th>second</th>\n",
       "      <th>one</th>\n",
       "      <th>two</th>\n",
       "    </tr>\n",
       "    <tr>\n",
       "      <th>first</th>\n",
       "      <th></th>\n",
       "      <th></th>\n",
       "      <th></th>\n",
       "    </tr>\n",
       "  </thead>\n",
       "  <tbody>\n",
       "    <tr>\n",
       "      <th rowspan=\"2\" valign=\"top\">bar</th>\n",
       "      <th>A</th>\n",
       "      <td>-0.305811</td>\n",
       "      <td>0.214511</td>\n",
       "    </tr>\n",
       "    <tr>\n",
       "      <th>B</th>\n",
       "      <td>-0.539703</td>\n",
       "      <td>0.514641</td>\n",
       "    </tr>\n",
       "    <tr>\n",
       "      <th rowspan=\"2\" valign=\"top\">baz</th>\n",
       "      <th>A</th>\n",
       "      <td>-0.208686</td>\n",
       "      <td>-0.565780</td>\n",
       "    </tr>\n",
       "    <tr>\n",
       "      <th>B</th>\n",
       "      <td>-0.686508</td>\n",
       "      <td>0.945584</td>\n",
       "    </tr>\n",
       "  </tbody>\n",
       "</table>\n",
       "</div>"
      ],
      "text/plain": [
       "second        one       two\n",
       "first                      \n",
       "bar   A -0.305811  0.214511\n",
       "      B -0.539703  0.514641\n",
       "baz   A -0.208686 -0.565780\n",
       "      B -0.686508  0.945584"
      ]
     },
     "execution_count": 75,
     "metadata": {},
     "output_type": "execute_result"
    }
   ],
   "source": [
    "stacked.unstack(1)"
   ]
  },
  {
   "cell_type": "code",
   "execution_count": 76,
   "metadata": {},
   "outputs": [
    {
     "data": {
      "text/html": [
       "<div>\n",
       "<table border=\"1\" class=\"dataframe\">\n",
       "  <thead>\n",
       "    <tr style=\"text-align: right;\">\n",
       "      <th></th>\n",
       "      <th>first</th>\n",
       "      <th>bar</th>\n",
       "      <th>baz</th>\n",
       "    </tr>\n",
       "    <tr>\n",
       "      <th>second</th>\n",
       "      <th></th>\n",
       "      <th></th>\n",
       "      <th></th>\n",
       "    </tr>\n",
       "  </thead>\n",
       "  <tbody>\n",
       "    <tr>\n",
       "      <th rowspan=\"2\" valign=\"top\">one</th>\n",
       "      <th>A</th>\n",
       "      <td>-0.305811</td>\n",
       "      <td>-0.208686</td>\n",
       "    </tr>\n",
       "    <tr>\n",
       "      <th>B</th>\n",
       "      <td>-0.539703</td>\n",
       "      <td>-0.686508</td>\n",
       "    </tr>\n",
       "    <tr>\n",
       "      <th rowspan=\"2\" valign=\"top\">two</th>\n",
       "      <th>A</th>\n",
       "      <td>0.214511</td>\n",
       "      <td>-0.565780</td>\n",
       "    </tr>\n",
       "    <tr>\n",
       "      <th>B</th>\n",
       "      <td>0.514641</td>\n",
       "      <td>0.945584</td>\n",
       "    </tr>\n",
       "  </tbody>\n",
       "</table>\n",
       "</div>"
      ],
      "text/plain": [
       "first          bar       baz\n",
       "second                      \n",
       "one    A -0.305811 -0.208686\n",
       "       B -0.539703 -0.686508\n",
       "two    A  0.214511 -0.565780\n",
       "       B  0.514641  0.945584"
      ]
     },
     "execution_count": 76,
     "metadata": {},
     "output_type": "execute_result"
    }
   ],
   "source": [
    "stacked.unstack(0)"
   ]
  },
  {
   "cell_type": "markdown",
   "metadata": {},
   "source": [
    "## 数据透视表"
   ]
  },
  {
   "cell_type": "code",
   "execution_count": 77,
   "metadata": {},
   "outputs": [
    {
     "data": {
      "text/html": [
       "<div>\n",
       "<table border=\"1\" class=\"dataframe\">\n",
       "  <thead>\n",
       "    <tr style=\"text-align: right;\">\n",
       "      <th></th>\n",
       "      <th>A</th>\n",
       "      <th>B</th>\n",
       "      <th>C</th>\n",
       "      <th>D</th>\n",
       "      <th>E</th>\n",
       "    </tr>\n",
       "  </thead>\n",
       "  <tbody>\n",
       "    <tr>\n",
       "      <th>0</th>\n",
       "      <td>one</td>\n",
       "      <td>A</td>\n",
       "      <td>foo</td>\n",
       "      <td>-0.560128</td>\n",
       "      <td>0.607515</td>\n",
       "    </tr>\n",
       "    <tr>\n",
       "      <th>1</th>\n",
       "      <td>one</td>\n",
       "      <td>B</td>\n",
       "      <td>foo</td>\n",
       "      <td>0.749692</td>\n",
       "      <td>-0.470557</td>\n",
       "    </tr>\n",
       "    <tr>\n",
       "      <th>2</th>\n",
       "      <td>two</td>\n",
       "      <td>C</td>\n",
       "      <td>foo</td>\n",
       "      <td>1.239602</td>\n",
       "      <td>1.378625</td>\n",
       "    </tr>\n",
       "    <tr>\n",
       "      <th>3</th>\n",
       "      <td>three</td>\n",
       "      <td>A</td>\n",
       "      <td>bar</td>\n",
       "      <td>0.706071</td>\n",
       "      <td>-0.614495</td>\n",
       "    </tr>\n",
       "    <tr>\n",
       "      <th>4</th>\n",
       "      <td>one</td>\n",
       "      <td>B</td>\n",
       "      <td>bar</td>\n",
       "      <td>1.304376</td>\n",
       "      <td>-1.128074</td>\n",
       "    </tr>\n",
       "    <tr>\n",
       "      <th>5</th>\n",
       "      <td>one</td>\n",
       "      <td>C</td>\n",
       "      <td>bar</td>\n",
       "      <td>-0.901451</td>\n",
       "      <td>-0.220037</td>\n",
       "    </tr>\n",
       "    <tr>\n",
       "      <th>6</th>\n",
       "      <td>two</td>\n",
       "      <td>A</td>\n",
       "      <td>foo</td>\n",
       "      <td>-0.685465</td>\n",
       "      <td>-0.174906</td>\n",
       "    </tr>\n",
       "    <tr>\n",
       "      <th>7</th>\n",
       "      <td>three</td>\n",
       "      <td>B</td>\n",
       "      <td>foo</td>\n",
       "      <td>-0.224895</td>\n",
       "      <td>0.156997</td>\n",
       "    </tr>\n",
       "    <tr>\n",
       "      <th>8</th>\n",
       "      <td>one</td>\n",
       "      <td>C</td>\n",
       "      <td>foo</td>\n",
       "      <td>-1.722116</td>\n",
       "      <td>0.761828</td>\n",
       "    </tr>\n",
       "    <tr>\n",
       "      <th>9</th>\n",
       "      <td>one</td>\n",
       "      <td>A</td>\n",
       "      <td>bar</td>\n",
       "      <td>-0.337629</td>\n",
       "      <td>1.093555</td>\n",
       "    </tr>\n",
       "    <tr>\n",
       "      <th>10</th>\n",
       "      <td>two</td>\n",
       "      <td>B</td>\n",
       "      <td>bar</td>\n",
       "      <td>-1.343353</td>\n",
       "      <td>0.797256</td>\n",
       "    </tr>\n",
       "    <tr>\n",
       "      <th>11</th>\n",
       "      <td>three</td>\n",
       "      <td>C</td>\n",
       "      <td>bar</td>\n",
       "      <td>0.573971</td>\n",
       "      <td>-0.930710</td>\n",
       "    </tr>\n",
       "  </tbody>\n",
       "</table>\n",
       "</div>"
      ],
      "text/plain": [
       "        A  B    C         D         E\n",
       "0     one  A  foo -0.560128  0.607515\n",
       "1     one  B  foo  0.749692 -0.470557\n",
       "2     two  C  foo  1.239602  1.378625\n",
       "3   three  A  bar  0.706071 -0.614495\n",
       "4     one  B  bar  1.304376 -1.128074\n",
       "5     one  C  bar -0.901451 -0.220037\n",
       "6     two  A  foo -0.685465 -0.174906\n",
       "7   three  B  foo -0.224895  0.156997\n",
       "8     one  C  foo -1.722116  0.761828\n",
       "9     one  A  bar -0.337629  1.093555\n",
       "10    two  B  bar -1.343353  0.797256\n",
       "11  three  C  bar  0.573971 -0.930710"
      ]
     },
     "execution_count": 77,
     "metadata": {},
     "output_type": "execute_result"
    }
   ],
   "source": [
    "df = pd.DataFrame({'A' : ['one', 'one', 'two', 'three'] * 3,\n",
    "                   'B' : ['A', 'B', 'C'] * 4,\n",
    "                   'C' : ['foo', 'foo', 'foo', 'bar', 'bar', 'bar'] * 2,\n",
    "                   'D' : np.random.randn(12),\n",
    "                   'E' : np.random.randn(12)})\n",
    "df"
   ]
  },
  {
   "cell_type": "markdown",
   "metadata": {},
   "source": [
    " 我们可以轻松地从这个数据得到透视表"
   ]
  },
  {
   "cell_type": "code",
   "execution_count": 78,
   "metadata": {},
   "outputs": [
    {
     "data": {
      "text/html": [
       "<div>\n",
       "<table border=\"1\" class=\"dataframe\">\n",
       "  <thead>\n",
       "    <tr style=\"text-align: right;\">\n",
       "      <th></th>\n",
       "      <th>C</th>\n",
       "      <th>bar</th>\n",
       "      <th>foo</th>\n",
       "    </tr>\n",
       "    <tr>\n",
       "      <th>A</th>\n",
       "      <th>B</th>\n",
       "      <th></th>\n",
       "      <th></th>\n",
       "    </tr>\n",
       "  </thead>\n",
       "  <tbody>\n",
       "    <tr>\n",
       "      <th rowspan=\"3\" valign=\"top\">one</th>\n",
       "      <th>A</th>\n",
       "      <td>-0.337629</td>\n",
       "      <td>-0.560128</td>\n",
       "    </tr>\n",
       "    <tr>\n",
       "      <th>B</th>\n",
       "      <td>1.304376</td>\n",
       "      <td>0.749692</td>\n",
       "    </tr>\n",
       "    <tr>\n",
       "      <th>C</th>\n",
       "      <td>-0.901451</td>\n",
       "      <td>-1.722116</td>\n",
       "    </tr>\n",
       "    <tr>\n",
       "      <th rowspan=\"3\" valign=\"top\">three</th>\n",
       "      <th>A</th>\n",
       "      <td>0.706071</td>\n",
       "      <td>NaN</td>\n",
       "    </tr>\n",
       "    <tr>\n",
       "      <th>B</th>\n",
       "      <td>NaN</td>\n",
       "      <td>-0.224895</td>\n",
       "    </tr>\n",
       "    <tr>\n",
       "      <th>C</th>\n",
       "      <td>0.573971</td>\n",
       "      <td>NaN</td>\n",
       "    </tr>\n",
       "    <tr>\n",
       "      <th rowspan=\"3\" valign=\"top\">two</th>\n",
       "      <th>A</th>\n",
       "      <td>NaN</td>\n",
       "      <td>-0.685465</td>\n",
       "    </tr>\n",
       "    <tr>\n",
       "      <th>B</th>\n",
       "      <td>-1.343353</td>\n",
       "      <td>NaN</td>\n",
       "    </tr>\n",
       "    <tr>\n",
       "      <th>C</th>\n",
       "      <td>NaN</td>\n",
       "      <td>1.239602</td>\n",
       "    </tr>\n",
       "  </tbody>\n",
       "</table>\n",
       "</div>"
      ],
      "text/plain": [
       "C             bar       foo\n",
       "A     B                    \n",
       "one   A -0.337629 -0.560128\n",
       "      B  1.304376  0.749692\n",
       "      C -0.901451 -1.722116\n",
       "three A  0.706071       NaN\n",
       "      B       NaN -0.224895\n",
       "      C  0.573971       NaN\n",
       "two   A       NaN -0.685465\n",
       "      B -1.343353       NaN\n",
       "      C       NaN  1.239602"
      ]
     },
     "execution_count": 78,
     "metadata": {},
     "output_type": "execute_result"
    }
   ],
   "source": [
    "pd.pivot_table(df, values='D', index=['A', 'B'], columns=['C'])"
   ]
  },
  {
   "cell_type": "markdown",
   "metadata": {},
   "source": [
    "# 时间序列"
   ]
  },
  {
   "cell_type": "markdown",
   "metadata": {},
   "source": [
    "pandas在对频率转换进行重新采样时拥有着简单，强大而且高效的功能（例如把按秒采样的数据转换为按5分钟采样的数据）。这在金融领域很常见，但又不限于此。"
   ]
  },
  {
   "cell_type": "code",
   "execution_count": 79,
   "metadata": {},
   "outputs": [
    {
     "data": {
      "text/plain": [
       "DatetimeIndex(['2012-01-01 00:00:00', '2012-01-01 00:00:01',\n",
       "               '2012-01-01 00:00:02', '2012-01-01 00:00:03',\n",
       "               '2012-01-01 00:00:04', '2012-01-01 00:00:05',\n",
       "               '2012-01-01 00:00:06', '2012-01-01 00:00:07',\n",
       "               '2012-01-01 00:00:08', '2012-01-01 00:00:09',\n",
       "               '2012-01-01 00:00:10', '2012-01-01 00:00:11',\n",
       "               '2012-01-01 00:00:12', '2012-01-01 00:00:13',\n",
       "               '2012-01-01 00:00:14', '2012-01-01 00:00:15',\n",
       "               '2012-01-01 00:00:16', '2012-01-01 00:00:17',\n",
       "               '2012-01-01 00:00:18', '2012-01-01 00:00:19',\n",
       "               '2012-01-01 00:00:20', '2012-01-01 00:00:21',\n",
       "               '2012-01-01 00:00:22', '2012-01-01 00:00:23',\n",
       "               '2012-01-01 00:00:24', '2012-01-01 00:00:25',\n",
       "               '2012-01-01 00:00:26', '2012-01-01 00:00:27',\n",
       "               '2012-01-01 00:00:28', '2012-01-01 00:00:29',\n",
       "               '2012-01-01 00:00:30', '2012-01-01 00:00:31',\n",
       "               '2012-01-01 00:00:32', '2012-01-01 00:00:33',\n",
       "               '2012-01-01 00:00:34', '2012-01-01 00:00:35',\n",
       "               '2012-01-01 00:00:36', '2012-01-01 00:00:37',\n",
       "               '2012-01-01 00:00:38', '2012-01-01 00:00:39',\n",
       "               '2012-01-01 00:00:40', '2012-01-01 00:00:41',\n",
       "               '2012-01-01 00:00:42', '2012-01-01 00:00:43',\n",
       "               '2012-01-01 00:00:44', '2012-01-01 00:00:45',\n",
       "               '2012-01-01 00:00:46', '2012-01-01 00:00:47',\n",
       "               '2012-01-01 00:00:48', '2012-01-01 00:00:49',\n",
       "               '2012-01-01 00:00:50', '2012-01-01 00:00:51',\n",
       "               '2012-01-01 00:00:52', '2012-01-01 00:00:53',\n",
       "               '2012-01-01 00:00:54', '2012-01-01 00:00:55',\n",
       "               '2012-01-01 00:00:56', '2012-01-01 00:00:57',\n",
       "               '2012-01-01 00:00:58', '2012-01-01 00:00:59',\n",
       "               '2012-01-01 00:01:00', '2012-01-01 00:01:01',\n",
       "               '2012-01-01 00:01:02', '2012-01-01 00:01:03',\n",
       "               '2012-01-01 00:01:04', '2012-01-01 00:01:05',\n",
       "               '2012-01-01 00:01:06', '2012-01-01 00:01:07',\n",
       "               '2012-01-01 00:01:08', '2012-01-01 00:01:09',\n",
       "               '2012-01-01 00:01:10', '2012-01-01 00:01:11',\n",
       "               '2012-01-01 00:01:12', '2012-01-01 00:01:13',\n",
       "               '2012-01-01 00:01:14', '2012-01-01 00:01:15',\n",
       "               '2012-01-01 00:01:16', '2012-01-01 00:01:17',\n",
       "               '2012-01-01 00:01:18', '2012-01-01 00:01:19',\n",
       "               '2012-01-01 00:01:20', '2012-01-01 00:01:21',\n",
       "               '2012-01-01 00:01:22', '2012-01-01 00:01:23',\n",
       "               '2012-01-01 00:01:24', '2012-01-01 00:01:25',\n",
       "               '2012-01-01 00:01:26', '2012-01-01 00:01:27',\n",
       "               '2012-01-01 00:01:28', '2012-01-01 00:01:29',\n",
       "               '2012-01-01 00:01:30', '2012-01-01 00:01:31',\n",
       "               '2012-01-01 00:01:32', '2012-01-01 00:01:33',\n",
       "               '2012-01-01 00:01:34', '2012-01-01 00:01:35',\n",
       "               '2012-01-01 00:01:36', '2012-01-01 00:01:37',\n",
       "               '2012-01-01 00:01:38', '2012-01-01 00:01:39'],\n",
       "              dtype='datetime64[ns]', freq='S')"
      ]
     },
     "execution_count": 79,
     "metadata": {},
     "output_type": "execute_result"
    }
   ],
   "source": [
    "rng = pd.date_range('1/1/2012', periods=100, freq='S')\n",
    "rng"
   ]
  },
  {
   "cell_type": "code",
   "execution_count": 80,
   "metadata": {},
   "outputs": [
    {
     "data": {
      "text/plain": [
       "2012-01-01 00:00:00    292\n",
       "2012-01-01 00:00:01     28\n",
       "2012-01-01 00:00:02    195\n",
       "2012-01-01 00:00:03    340\n",
       "2012-01-01 00:00:04    256\n",
       "2012-01-01 00:00:05    169\n",
       "2012-01-01 00:00:06    362\n",
       "2012-01-01 00:00:07    197\n",
       "2012-01-01 00:00:08    164\n",
       "2012-01-01 00:00:09    437\n",
       "2012-01-01 00:00:10    467\n",
       "2012-01-01 00:00:11     16\n",
       "2012-01-01 00:00:12      2\n",
       "2012-01-01 00:00:13     36\n",
       "2012-01-01 00:00:14    127\n",
       "2012-01-01 00:00:15    171\n",
       "2012-01-01 00:00:16    208\n",
       "2012-01-01 00:00:17    216\n",
       "2012-01-01 00:00:18    487\n",
       "2012-01-01 00:00:19    377\n",
       "2012-01-01 00:00:20     13\n",
       "2012-01-01 00:00:21    444\n",
       "2012-01-01 00:00:22    180\n",
       "2012-01-01 00:00:23    262\n",
       "2012-01-01 00:00:24    422\n",
       "2012-01-01 00:00:25    297\n",
       "2012-01-01 00:00:26    234\n",
       "2012-01-01 00:00:27    252\n",
       "2012-01-01 00:00:28     31\n",
       "2012-01-01 00:00:29    303\n",
       "                      ... \n",
       "2012-01-01 00:01:10    483\n",
       "2012-01-01 00:01:11    410\n",
       "2012-01-01 00:01:12    254\n",
       "2012-01-01 00:01:13    357\n",
       "2012-01-01 00:01:14    468\n",
       "2012-01-01 00:01:15    243\n",
       "2012-01-01 00:01:16    458\n",
       "2012-01-01 00:01:17    446\n",
       "2012-01-01 00:01:18    310\n",
       "2012-01-01 00:01:19    276\n",
       "2012-01-01 00:01:20    223\n",
       "2012-01-01 00:01:21    231\n",
       "2012-01-01 00:01:22    340\n",
       "2012-01-01 00:01:23    355\n",
       "2012-01-01 00:01:24    227\n",
       "2012-01-01 00:01:25    172\n",
       "2012-01-01 00:01:26    111\n",
       "2012-01-01 00:01:27     33\n",
       "2012-01-01 00:01:28    138\n",
       "2012-01-01 00:01:29    150\n",
       "2012-01-01 00:01:30    313\n",
       "2012-01-01 00:01:31    278\n",
       "2012-01-01 00:01:32    126\n",
       "2012-01-01 00:01:33    119\n",
       "2012-01-01 00:01:34    409\n",
       "2012-01-01 00:01:35      5\n",
       "2012-01-01 00:01:36    307\n",
       "2012-01-01 00:01:37    397\n",
       "2012-01-01 00:01:38    142\n",
       "2012-01-01 00:01:39    236\n",
       "Freq: S, dtype: int32"
      ]
     },
     "execution_count": 80,
     "metadata": {},
     "output_type": "execute_result"
    }
   ],
   "source": [
    "ts = pd.Series(np.random.randint(0,500,len(rng)), index=rng)\n",
    "ts"
   ]
  },
  {
   "cell_type": "code",
   "execution_count": 81,
   "metadata": {},
   "outputs": [
    {
     "data": {
      "text/plain": [
       "2012-01-01    25778\n",
       "Freq: 5T, dtype: int32"
      ]
     },
     "execution_count": 81,
     "metadata": {},
     "output_type": "execute_result"
    }
   ],
   "source": [
    "ts.resample('5Min', how='sum')"
   ]
  },
  {
   "cell_type": "markdown",
   "metadata": {},
   "source": [
    "时区表示"
   ]
  },
  {
   "cell_type": "code",
   "execution_count": 82,
   "metadata": {},
   "outputs": [
    {
     "data": {
      "text/plain": [
       "DatetimeIndex(['2012-03-06', '2012-03-07', '2012-03-08', '2012-03-09',\n",
       "               '2012-03-10'],\n",
       "              dtype='datetime64[ns]', freq='D')"
      ]
     },
     "execution_count": 82,
     "metadata": {},
     "output_type": "execute_result"
    }
   ],
   "source": [
    "rng = pd.date_range('3/6/2012', periods=5, freq='D')\n",
    "rng"
   ]
  },
  {
   "cell_type": "code",
   "execution_count": 83,
   "metadata": {},
   "outputs": [
    {
     "data": {
      "text/plain": [
       "2012-03-06    1.883053\n",
       "2012-03-07    1.657763\n",
       "2012-03-08    0.676596\n",
       "2012-03-09    0.477890\n",
       "2012-03-10   -0.566615\n",
       "Freq: D, dtype: float64"
      ]
     },
     "execution_count": 83,
     "metadata": {},
     "output_type": "execute_result"
    }
   ],
   "source": [
    "ts = pd.Series(np.random.randn(len(rng)), index=rng)\n",
    "ts"
   ]
  },
  {
   "cell_type": "code",
   "execution_count": 84,
   "metadata": {},
   "outputs": [
    {
     "data": {
      "text/plain": [
       "2012-03-06 00:00:00+00:00    1.883053\n",
       "2012-03-07 00:00:00+00:00    1.657763\n",
       "2012-03-08 00:00:00+00:00    0.676596\n",
       "2012-03-09 00:00:00+00:00    0.477890\n",
       "2012-03-10 00:00:00+00:00   -0.566615\n",
       "Freq: D, dtype: float64"
      ]
     },
     "execution_count": 84,
     "metadata": {},
     "output_type": "execute_result"
    }
   ],
   "source": [
    "ts_utc = ts.tz_localize('UTC')\n",
    "ts_utc"
   ]
  },
  {
   "cell_type": "markdown",
   "metadata": {},
   "source": [
    "时区转换"
   ]
  },
  {
   "cell_type": "code",
   "execution_count": 85,
   "metadata": {},
   "outputs": [
    {
     "data": {
      "text/plain": [
       "2012-03-05 19:00:00-05:00    1.883053\n",
       "2012-03-06 19:00:00-05:00    1.657763\n",
       "2012-03-07 19:00:00-05:00    0.676596\n",
       "2012-03-08 19:00:00-05:00    0.477890\n",
       "2012-03-09 19:00:00-05:00   -0.566615\n",
       "Freq: D, dtype: float64"
      ]
     },
     "execution_count": 85,
     "metadata": {},
     "output_type": "execute_result"
    }
   ],
   "source": [
    "ts_utc.tz_convert('US/Eastern')"
   ]
  },
  {
   "cell_type": "markdown",
   "metadata": {},
   "source": [
    "时间跨度转换"
   ]
  },
  {
   "cell_type": "code",
   "execution_count": 86,
   "metadata": {},
   "outputs": [
    {
     "data": {
      "text/plain": [
       "DatetimeIndex(['2012-01-31', '2012-02-29', '2012-03-31', '2012-04-30',\n",
       "               '2012-05-31'],\n",
       "              dtype='datetime64[ns]', freq='M')"
      ]
     },
     "execution_count": 86,
     "metadata": {},
     "output_type": "execute_result"
    }
   ],
   "source": [
    "rng = pd.date_range('1/1/2012', periods=5, freq='M')\n",
    "rng"
   ]
  },
  {
   "cell_type": "code",
   "execution_count": 87,
   "metadata": {},
   "outputs": [
    {
     "data": {
      "text/plain": [
       "2012-01-31    0.569720\n",
       "2012-02-29    2.055821\n",
       "2012-03-31   -0.850667\n",
       "2012-04-30    1.895128\n",
       "2012-05-31    2.204973\n",
       "Freq: M, dtype: float64"
      ]
     },
     "execution_count": 87,
     "metadata": {},
     "output_type": "execute_result"
    }
   ],
   "source": [
    "ts = pd.Series(np.random.randn(len(rng)), index=rng)\n",
    "ts"
   ]
  },
  {
   "cell_type": "code",
   "execution_count": 88,
   "metadata": {},
   "outputs": [
    {
     "data": {
      "text/plain": [
       "2012-01    0.569720\n",
       "2012-02    2.055821\n",
       "2012-03   -0.850667\n",
       "2012-04    1.895128\n",
       "2012-05    2.204973\n",
       "Freq: M, dtype: float64"
      ]
     },
     "execution_count": 88,
     "metadata": {},
     "output_type": "execute_result"
    }
   ],
   "source": [
    "ps = ts.to_period()\n",
    "ps"
   ]
  },
  {
   "cell_type": "code",
   "execution_count": 89,
   "metadata": {},
   "outputs": [
    {
     "data": {
      "text/plain": [
       "2012-01-01    0.569720\n",
       "2012-02-01    2.055821\n",
       "2012-03-01   -0.850667\n",
       "2012-04-01    1.895128\n",
       "2012-05-01    2.204973\n",
       "Freq: MS, dtype: float64"
      ]
     },
     "execution_count": 89,
     "metadata": {},
     "output_type": "execute_result"
    }
   ],
   "source": [
    "ps.to_timestamp()"
   ]
  },
  {
   "cell_type": "markdown",
   "metadata": {
    "collapsed": true
   },
   "source": [
    "日期与时间戳之间的转换使得可以使用一些方便的算术函数。例如，我们把以11月为年底的季度数据转换为当前季度末月底为始的数据"
   ]
  },
  {
   "cell_type": "code",
   "execution_count": 90,
   "metadata": {},
   "outputs": [
    {
     "data": {
      "text/plain": [
       "PeriodIndex(['1990Q1', '1990Q2', '1990Q3', '1990Q4', '1991Q1', '1991Q2',\n",
       "             '1991Q3', '1991Q4', '1992Q1', '1992Q2', '1992Q3', '1992Q4',\n",
       "             '1993Q1', '1993Q2', '1993Q3', '1993Q4', '1994Q1', '1994Q2',\n",
       "             '1994Q3', '1994Q4', '1995Q1', '1995Q2', '1995Q3', '1995Q4',\n",
       "             '1996Q1', '1996Q2', '1996Q3', '1996Q4', '1997Q1', '1997Q2',\n",
       "             '1997Q3', '1997Q4', '1998Q1', '1998Q2', '1998Q3', '1998Q4',\n",
       "             '1999Q1', '1999Q2', '1999Q3', '1999Q4', '2000Q1', '2000Q2',\n",
       "             '2000Q3', '2000Q4'],\n",
       "            dtype='int64', freq='Q-NOV')"
      ]
     },
     "execution_count": 90,
     "metadata": {},
     "output_type": "execute_result"
    }
   ],
   "source": [
    "prng = pd.period_range('1990Q1', '2000Q4', freq='Q-NOV')\n",
    "prng"
   ]
  },
  {
   "cell_type": "code",
   "execution_count": 91,
   "metadata": {},
   "outputs": [
    {
     "data": {
      "text/plain": [
       "1990Q1    1.219483\n",
       "1990Q2    0.295619\n",
       "1990Q3    2.177954\n",
       "1990Q4    0.437791\n",
       "1991Q1   -1.150226\n",
       "1991Q2   -0.155793\n",
       "1991Q3   -0.899163\n",
       "1991Q4    1.108673\n",
       "1992Q1   -0.189505\n",
       "1992Q2   -0.919934\n",
       "1992Q3   -2.593031\n",
       "1992Q4    0.184326\n",
       "1993Q1    0.822122\n",
       "1993Q2   -2.534715\n",
       "1993Q3   -0.482651\n",
       "1993Q4    0.234846\n",
       "1994Q1   -1.038624\n",
       "1994Q2   -1.985862\n",
       "1994Q3    1.445492\n",
       "1994Q4    1.325495\n",
       "1995Q1   -0.823989\n",
       "1995Q2   -0.633812\n",
       "1995Q3   -0.572880\n",
       "1995Q4    0.426740\n",
       "1996Q1    0.411217\n",
       "1996Q2   -0.676600\n",
       "1996Q3   -1.350879\n",
       "1996Q4   -1.557402\n",
       "1997Q1   -0.302270\n",
       "1997Q2    1.077077\n",
       "1997Q3   -0.187689\n",
       "1997Q4   -0.102634\n",
       "1998Q1    0.038094\n",
       "1998Q2   -1.321694\n",
       "1998Q3   -2.049545\n",
       "1998Q4    0.205804\n",
       "1999Q1    0.627608\n",
       "1999Q2    2.099334\n",
       "1999Q3    1.490896\n",
       "1999Q4   -0.652193\n",
       "2000Q1    0.408912\n",
       "2000Q2   -1.426349\n",
       "2000Q3    0.038938\n",
       "2000Q4   -1.118917\n",
       "Freq: Q-NOV, dtype: float64"
      ]
     },
     "execution_count": 91,
     "metadata": {},
     "output_type": "execute_result"
    }
   ],
   "source": [
    "ts = pd.Series(np.random.randn(len(prng)), index = prng)\n",
    "ts"
   ]
  },
  {
   "cell_type": "code",
   "execution_count": 92,
   "metadata": {},
   "outputs": [
    {
     "data": {
      "text/plain": [
       "1990-02-01 09:00    1.219483\n",
       "1990-05-01 09:00    0.295619\n",
       "1990-08-01 09:00    2.177954\n",
       "1990-11-01 09:00    0.437791\n",
       "1991-02-01 09:00   -1.150226\n",
       "1991-05-01 09:00   -0.155793\n",
       "1991-08-01 09:00   -0.899163\n",
       "1991-11-01 09:00    1.108673\n",
       "1992-02-01 09:00   -0.189505\n",
       "1992-05-01 09:00   -0.919934\n",
       "1992-08-01 09:00   -2.593031\n",
       "1992-11-01 09:00    0.184326\n",
       "1993-02-01 09:00    0.822122\n",
       "1993-05-01 09:00   -2.534715\n",
       "1993-08-01 09:00   -0.482651\n",
       "1993-11-01 09:00    0.234846\n",
       "1994-02-01 09:00   -1.038624\n",
       "1994-05-01 09:00   -1.985862\n",
       "1994-08-01 09:00    1.445492\n",
       "1994-11-01 09:00    1.325495\n",
       "1995-02-01 09:00   -0.823989\n",
       "1995-05-01 09:00   -0.633812\n",
       "1995-08-01 09:00   -0.572880\n",
       "1995-11-01 09:00    0.426740\n",
       "1996-02-01 09:00    0.411217\n",
       "1996-05-01 09:00   -0.676600\n",
       "1996-08-01 09:00   -1.350879\n",
       "1996-11-01 09:00   -1.557402\n",
       "1997-02-01 09:00   -0.302270\n",
       "1997-05-01 09:00    1.077077\n",
       "1997-08-01 09:00   -0.187689\n",
       "1997-11-01 09:00   -0.102634\n",
       "1998-02-01 09:00    0.038094\n",
       "1998-05-01 09:00   -1.321694\n",
       "1998-08-01 09:00   -2.049545\n",
       "1998-11-01 09:00    0.205804\n",
       "1999-02-01 09:00    0.627608\n",
       "1999-05-01 09:00    2.099334\n",
       "1999-08-01 09:00    1.490896\n",
       "1999-11-01 09:00   -0.652193\n",
       "2000-02-01 09:00    0.408912\n",
       "2000-05-01 09:00   -1.426349\n",
       "2000-08-01 09:00    0.038938\n",
       "2000-11-01 09:00   -1.118917\n",
       "Freq: H, dtype: float64"
      ]
     },
     "execution_count": 92,
     "metadata": {},
     "output_type": "execute_result"
    }
   ],
   "source": [
    "ts.index = (prng.asfreq('M', 'end') ) .asfreq('H', 'start') +9\n",
    "ts"
   ]
  },
  {
   "cell_type": "markdown",
   "metadata": {},
   "source": [
    "# 分类"
   ]
  },
  {
   "cell_type": "markdown",
   "metadata": {},
   "source": [
    "从版本0.15开始，pandas在**DataFrame**中开始包括分类数据。"
   ]
  },
  {
   "cell_type": "code",
   "execution_count": 93,
   "metadata": {},
   "outputs": [
    {
     "data": {
      "text/html": [
       "<div>\n",
       "<table border=\"1\" class=\"dataframe\">\n",
       "  <thead>\n",
       "    <tr style=\"text-align: right;\">\n",
       "      <th></th>\n",
       "      <th>id</th>\n",
       "      <th>raw_grade</th>\n",
       "    </tr>\n",
       "  </thead>\n",
       "  <tbody>\n",
       "    <tr>\n",
       "      <th>0</th>\n",
       "      <td>1</td>\n",
       "      <td>a</td>\n",
       "    </tr>\n",
       "    <tr>\n",
       "      <th>1</th>\n",
       "      <td>2</td>\n",
       "      <td>b</td>\n",
       "    </tr>\n",
       "    <tr>\n",
       "      <th>2</th>\n",
       "      <td>3</td>\n",
       "      <td>b</td>\n",
       "    </tr>\n",
       "    <tr>\n",
       "      <th>3</th>\n",
       "      <td>4</td>\n",
       "      <td>a</td>\n",
       "    </tr>\n",
       "    <tr>\n",
       "      <th>4</th>\n",
       "      <td>5</td>\n",
       "      <td>e</td>\n",
       "    </tr>\n",
       "    <tr>\n",
       "      <th>5</th>\n",
       "      <td>6</td>\n",
       "      <td>e</td>\n",
       "    </tr>\n",
       "  </tbody>\n",
       "</table>\n",
       "</div>"
      ],
      "text/plain": [
       "   id raw_grade\n",
       "0   1         a\n",
       "1   2         b\n",
       "2   3         b\n",
       "3   4         a\n",
       "4   5         e\n",
       "5   6         e"
      ]
     },
     "execution_count": 93,
     "metadata": {},
     "output_type": "execute_result"
    }
   ],
   "source": [
    "df = pd.DataFrame({\"id\":[1,2,3,4,5,6], \"raw_grade\":['a', 'b', 'b', 'a', 'e', 'e']})\n",
    "df"
   ]
  },
  {
   "cell_type": "markdown",
   "metadata": {},
   "source": [
    "把raw_grade转换为分类类型"
   ]
  },
  {
   "cell_type": "code",
   "execution_count": 94,
   "metadata": {},
   "outputs": [
    {
     "data": {
      "text/plain": [
       "0    a\n",
       "1    b\n",
       "2    b\n",
       "3    a\n",
       "4    e\n",
       "5    e\n",
       "Name: grade, dtype: category\n",
       "Categories (3, object): [a, b, e]"
      ]
     },
     "execution_count": 94,
     "metadata": {},
     "output_type": "execute_result"
    }
   ],
   "source": [
    "df[\"grade\"] = df[\"raw_grade\"].astype(\"category\")\n",
    "df[\"grade\"]"
   ]
  },
  {
   "cell_type": "markdown",
   "metadata": {},
   "source": [
    "重命名类别名为更有意义的名称"
   ]
  },
  {
   "cell_type": "code",
   "execution_count": 95,
   "metadata": {
    "collapsed": true
   },
   "outputs": [],
   "source": [
    "df[\"grade\"].cat.categories = [\"very good\", \"good\", \"very bad\"]"
   ]
  },
  {
   "cell_type": "markdown",
   "metadata": {},
   "source": [
    "对分类重新排序，并添加缺失的分类"
   ]
  },
  {
   "cell_type": "code",
   "execution_count": 96,
   "metadata": {},
   "outputs": [
    {
     "data": {
      "text/plain": [
       "0    very good\n",
       "1         good\n",
       "2         good\n",
       "3    very good\n",
       "4     very bad\n",
       "5     very bad\n",
       "Name: grade, dtype: category\n",
       "Categories (5, object): [very bad, bad, medium, good, very good]"
      ]
     },
     "execution_count": 96,
     "metadata": {},
     "output_type": "execute_result"
    }
   ],
   "source": [
    "df[\"grade\"] = df[\"grade\"].cat.set_categories([\"very bad\", \"bad\", \"medium\", \"good\", \"very good\"])\n",
    "df[\"grade\"]"
   ]
  },
  {
   "cell_type": "markdown",
   "metadata": {},
   "source": [
    "排序是按照分类的顺序进行的，而不是字典序"
   ]
  },
  {
   "cell_type": "code",
   "execution_count": 97,
   "metadata": {},
   "outputs": [
    {
     "data": {
      "text/html": [
       "<div>\n",
       "<table border=\"1\" class=\"dataframe\">\n",
       "  <thead>\n",
       "    <tr style=\"text-align: right;\">\n",
       "      <th></th>\n",
       "      <th>id</th>\n",
       "      <th>raw_grade</th>\n",
       "      <th>grade</th>\n",
       "    </tr>\n",
       "  </thead>\n",
       "  <tbody>\n",
       "    <tr>\n",
       "      <th>4</th>\n",
       "      <td>5</td>\n",
       "      <td>e</td>\n",
       "      <td>very bad</td>\n",
       "    </tr>\n",
       "    <tr>\n",
       "      <th>5</th>\n",
       "      <td>6</td>\n",
       "      <td>e</td>\n",
       "      <td>very bad</td>\n",
       "    </tr>\n",
       "    <tr>\n",
       "      <th>1</th>\n",
       "      <td>2</td>\n",
       "      <td>b</td>\n",
       "      <td>good</td>\n",
       "    </tr>\n",
       "    <tr>\n",
       "      <th>2</th>\n",
       "      <td>3</td>\n",
       "      <td>b</td>\n",
       "      <td>good</td>\n",
       "    </tr>\n",
       "    <tr>\n",
       "      <th>0</th>\n",
       "      <td>1</td>\n",
       "      <td>a</td>\n",
       "      <td>very good</td>\n",
       "    </tr>\n",
       "    <tr>\n",
       "      <th>3</th>\n",
       "      <td>4</td>\n",
       "      <td>a</td>\n",
       "      <td>very good</td>\n",
       "    </tr>\n",
       "  </tbody>\n",
       "</table>\n",
       "</div>"
      ],
      "text/plain": [
       "   id raw_grade      grade\n",
       "4   5         e   very bad\n",
       "5   6         e   very bad\n",
       "1   2         b       good\n",
       "2   3         b       good\n",
       "0   1         a  very good\n",
       "3   4         a  very good"
      ]
     },
     "execution_count": 97,
     "metadata": {},
     "output_type": "execute_result"
    }
   ],
   "source": [
    "df.sort_values(by=\"grade\")"
   ]
  },
  {
   "cell_type": "markdown",
   "metadata": {},
   "source": [
    "按分类分组时，也会显示空的分类"
   ]
  },
  {
   "cell_type": "code",
   "execution_count": 98,
   "metadata": {},
   "outputs": [
    {
     "data": {
      "text/plain": [
       "grade\n",
       "very bad     2\n",
       "bad          0\n",
       "medium       0\n",
       "good         2\n",
       "very good    2\n",
       "dtype: int64"
      ]
     },
     "execution_count": 98,
     "metadata": {},
     "output_type": "execute_result"
    }
   ],
   "source": [
    "df.groupby(\"grade\").size()"
   ]
  },
  {
   "cell_type": "markdown",
   "metadata": {},
   "source": [
    "# 绘图"
   ]
  },
  {
   "cell_type": "code",
   "execution_count": 99,
   "metadata": {},
   "outputs": [
    {
     "data": {
      "text/plain": [
       "<matplotlib.axes._subplots.AxesSubplot at 0x734a170>"
      ]
     },
     "execution_count": 99,
     "metadata": {},
     "output_type": "execute_result"
    },
    {
     "data": {
      "image/png": "[encoded data removed]",
      "text/plain": [
       "<matplotlib.figure.Figure at 0x734a550>"
      ]
     },
     "metadata": {},
     "output_type": "display_data"
    }
   ],
   "source": [
    "ts = pd.Series(np.random.randn(1000), index=pd.date_range('1/1/2000', periods=1000))\n",
    "ts = ts.cumsum()\n",
    "ts.plot()"
   ]
  },
  {
   "cell_type": "markdown",
   "metadata": {},
   "source": [
    "对于DataFrame类型，**plot()**能很方便地画出所有列及其标签"
   ]
  },
  {
   "cell_type": "code",
   "execution_count": 100,
   "metadata": {},
   "outputs": [
    {
     "data": {
      "text/plain": [
       "<matplotlib.legend.Legend at 0x7449b30>"
      ]
     },
     "execution_count": 100,
     "metadata": {},
     "output_type": "execute_result"
    },
    {
     "data": {
      "text/plain": [
       "<matplotlib.figure.Figure at 0x7470990>"
      ]
     },
     "metadata": {},
     "output_type": "display_data"
    },
    {
     "data": {
      "image/png": "[encoded data removed]",
      "text/plain": [
       "<matplotlib.figure.Figure at 0x74499b0>"
      ]
     },
     "metadata": {},
     "output_type": "display_data"
    }
   ],
   "source": [
    "df = pd.DataFrame(np.random.randn(1000, 4), index=ts.index, columns=['A', 'B', 'C', 'D'])\n",
    "df = df.cumsum()\n",
    "plt.figure(); df.plot(); plt.legend(loc='best')"
   ]
  },
  {
   "cell_type": "markdown",
   "metadata": {},
   "source": [
    "# 获取数据的I/O"
   ]
  },
  {
   "cell_type": "markdown",
   "metadata": {},
   "source": [
    "## CSV"
   ]
  },
  {
   "cell_type": "markdown",
   "metadata": {},
   "source": [
    "写入一个csv文件"
   ]
  },
  {
   "cell_type": "code",
   "execution_count": 101,
   "metadata": {
    "collapsed": true
   },
   "outputs": [],
   "source": [
    "df.to_csv('foo.csv')"
   ]
  },
  {
   "cell_type": "markdown",
   "metadata": {},
   "source": [
    "从一个csv文件读入"
   ]
  },
  {
   "cell_type": "code",
   "execution_count": 102,
   "metadata": {
    "scrolled": true
   },
   "outputs": [
    {
     "data": {
      "text/html": [
       "<div>\n",
       "<table border=\"1\" class=\"dataframe\">\n",
       "  <thead>\n",
       "    <tr style=\"text-align: right;\">\n",
       "      <th></th>\n",
       "      <th>Unnamed: 0</th>\n",
       "      <th>A</th>\n",
       "      <th>B</th>\n",
       "      <th>C</th>\n",
       "      <th>D</th>\n",
       "    </tr>\n",
       "  </thead>\n",
       "  <tbody>\n",
       "    <tr>\n",
       "      <th>0</th>\n",
       "      <td>2000-01-01</td>\n",
       "      <td>-0.871715</td>\n",
       "      <td>0.889797</td>\n",
       "      <td>-0.452757</td>\n",
       "      <td>-0.065875</td>\n",
       "    </tr>\n",
       "    <tr>\n",
       "      <th>1</th>\n",
       "      <td>2000-01-02</td>\n",
       "      <td>1.030719</td>\n",
       "      <td>0.982527</td>\n",
       "      <td>-0.632324</td>\n",
       "      <td>0.453500</td>\n",
       "    </tr>\n",
       "    <tr>\n",
       "      <th>2</th>\n",
       "      <td>2000-01-03</td>\n",
       "      <td>0.634178</td>\n",
       "      <td>1.389564</td>\n",
       "      <td>-0.497967</td>\n",
       "      <td>-0.269316</td>\n",
       "    </tr>\n",
       "    <tr>\n",
       "      <th>3</th>\n",
       "      <td>2000-01-04</td>\n",
       "      <td>1.018194</td>\n",
       "      <td>1.176338</td>\n",
       "      <td>-0.024616</td>\n",
       "      <td>0.013515</td>\n",
       "    </tr>\n",
       "    <tr>\n",
       "      <th>4</th>\n",
       "      <td>2000-01-05</td>\n",
       "      <td>-0.137956</td>\n",
       "      <td>1.385163</td>\n",
       "      <td>0.930470</td>\n",
       "      <td>-0.698086</td>\n",
       "    </tr>\n",
       "    <tr>\n",
       "      <th>5</th>\n",
       "      <td>2000-01-06</td>\n",
       "      <td>0.632541</td>\n",
       "      <td>3.757807</td>\n",
       "      <td>1.680543</td>\n",
       "      <td>1.157284</td>\n",
       "    </tr>\n",
       "    <tr>\n",
       "      <th>6</th>\n",
       "      <td>2000-01-07</td>\n",
       "      <td>-1.037892</td>\n",
       "      <td>5.667231</td>\n",
       "      <td>2.364400</td>\n",
       "      <td>2.170764</td>\n",
       "    </tr>\n",
       "    <tr>\n",
       "      <th>7</th>\n",
       "      <td>2000-01-08</td>\n",
       "      <td>-1.375110</td>\n",
       "      <td>4.580663</td>\n",
       "      <td>2.251072</td>\n",
       "      <td>3.029680</td>\n",
       "    </tr>\n",
       "    <tr>\n",
       "      <th>8</th>\n",
       "      <td>2000-01-09</td>\n",
       "      <td>-1.619662</td>\n",
       "      <td>2.636465</td>\n",
       "      <td>3.044900</td>\n",
       "      <td>2.165869</td>\n",
       "    </tr>\n",
       "    <tr>\n",
       "      <th>9</th>\n",
       "      <td>2000-01-10</td>\n",
       "      <td>-1.454407</td>\n",
       "      <td>1.728391</td>\n",
       "      <td>2.388801</td>\n",
       "      <td>1.033930</td>\n",
       "    </tr>\n",
       "    <tr>\n",
       "      <th>10</th>\n",
       "      <td>2000-01-11</td>\n",
       "      <td>-1.278744</td>\n",
       "      <td>2.636628</td>\n",
       "      <td>2.462172</td>\n",
       "      <td>-1.182419</td>\n",
       "    </tr>\n",
       "    <tr>\n",
       "      <th>11</th>\n",
       "      <td>2000-01-12</td>\n",
       "      <td>-0.749159</td>\n",
       "      <td>2.373619</td>\n",
       "      <td>0.369816</td>\n",
       "      <td>-1.098857</td>\n",
       "    </tr>\n",
       "    <tr>\n",
       "      <th>12</th>\n",
       "      <td>2000-01-13</td>\n",
       "      <td>-2.861463</td>\n",
       "      <td>2.486702</td>\n",
       "      <td>-1.175913</td>\n",
       "      <td>-0.933334</td>\n",
       "    </tr>\n",
       "    <tr>\n",
       "      <th>13</th>\n",
       "      <td>2000-01-14</td>\n",
       "      <td>-3.016526</td>\n",
       "      <td>2.839986</td>\n",
       "      <td>-1.220834</td>\n",
       "      <td>-0.309324</td>\n",
       "    </tr>\n",
       "    <tr>\n",
       "      <th>14</th>\n",
       "      <td>2000-01-15</td>\n",
       "      <td>-5.812431</td>\n",
       "      <td>2.166957</td>\n",
       "      <td>-3.024841</td>\n",
       "      <td>-1.995853</td>\n",
       "    </tr>\n",
       "    <tr>\n",
       "      <th>15</th>\n",
       "      <td>2000-01-16</td>\n",
       "      <td>-4.130502</td>\n",
       "      <td>1.058692</td>\n",
       "      <td>-3.025683</td>\n",
       "      <td>-3.285472</td>\n",
       "    </tr>\n",
       "    <tr>\n",
       "      <th>16</th>\n",
       "      <td>2000-01-17</td>\n",
       "      <td>-4.263827</td>\n",
       "      <td>2.202905</td>\n",
       "      <td>-4.321207</td>\n",
       "      <td>-2.821168</td>\n",
       "    </tr>\n",
       "    <tr>\n",
       "      <th>17</th>\n",
       "      <td>2000-01-18</td>\n",
       "      <td>-4.419713</td>\n",
       "      <td>2.277186</td>\n",
       "      <td>-4.174866</td>\n",
       "      <td>-2.442312</td>\n",
       "    </tr>\n",
       "    <tr>\n",
       "      <th>18</th>\n",
       "      <td>2000-01-19</td>\n",
       "      <td>-5.394437</td>\n",
       "      <td>3.308024</td>\n",
       "      <td>-4.956483</td>\n",
       "      <td>-1.923371</td>\n",
       "    </tr>\n",
       "    <tr>\n",
       "      <th>19</th>\n",
       "      <td>2000-01-20</td>\n",
       "      <td>-5.518434</td>\n",
       "      <td>1.931813</td>\n",
       "      <td>-4.448700</td>\n",
       "      <td>-1.844738</td>\n",
       "    </tr>\n",
       "    <tr>\n",
       "      <th>20</th>\n",
       "      <td>2000-01-21</td>\n",
       "      <td>-5.176009</td>\n",
       "      <td>2.196225</td>\n",
       "      <td>-4.239499</td>\n",
       "      <td>-1.049110</td>\n",
       "    </tr>\n",
       "    <tr>\n",
       "      <th>21</th>\n",
       "      <td>2000-01-22</td>\n",
       "      <td>-4.250908</td>\n",
       "      <td>2.425685</td>\n",
       "      <td>-3.327828</td>\n",
       "      <td>-0.440797</td>\n",
       "    </tr>\n",
       "    <tr>\n",
       "      <th>22</th>\n",
       "      <td>2000-01-23</td>\n",
       "      <td>-4.945975</td>\n",
       "      <td>2.891497</td>\n",
       "      <td>-3.385393</td>\n",
       "      <td>-0.999570</td>\n",
       "    </tr>\n",
       "    <tr>\n",
       "      <th>23</th>\n",
       "      <td>2000-01-24</td>\n",
       "      <td>-4.716341</td>\n",
       "      <td>2.962450</td>\n",
       "      <td>-3.716062</td>\n",
       "      <td>-2.122873</td>\n",
       "    </tr>\n",
       "    <tr>\n",
       "      <th>24</th>\n",
       "      <td>2000-01-25</td>\n",
       "      <td>-4.176120</td>\n",
       "      <td>2.519948</td>\n",
       "      <td>-4.070270</td>\n",
       "      <td>-1.461157</td>\n",
       "    </tr>\n",
       "    <tr>\n",
       "      <th>25</th>\n",
       "      <td>2000-01-26</td>\n",
       "      <td>-4.448476</td>\n",
       "      <td>4.094472</td>\n",
       "      <td>-4.534445</td>\n",
       "      <td>-2.317750</td>\n",
       "    </tr>\n",
       "    <tr>\n",
       "      <th>26</th>\n",
       "      <td>2000-01-27</td>\n",
       "      <td>-4.628580</td>\n",
       "      <td>3.880345</td>\n",
       "      <td>-4.375836</td>\n",
       "      <td>-3.585863</td>\n",
       "    </tr>\n",
       "    <tr>\n",
       "      <th>27</th>\n",
       "      <td>2000-01-28</td>\n",
       "      <td>-4.436221</td>\n",
       "      <td>4.510596</td>\n",
       "      <td>-5.566178</td>\n",
       "      <td>-3.192768</td>\n",
       "    </tr>\n",
       "    <tr>\n",
       "      <th>28</th>\n",
       "      <td>2000-01-29</td>\n",
       "      <td>-4.538204</td>\n",
       "      <td>5.071906</td>\n",
       "      <td>-5.719714</td>\n",
       "      <td>-3.775576</td>\n",
       "    </tr>\n",
       "    <tr>\n",
       "      <th>29</th>\n",
       "      <td>2000-01-30</td>\n",
       "      <td>-3.961343</td>\n",
       "      <td>5.942862</td>\n",
       "      <td>-5.084055</td>\n",
       "      <td>-2.717804</td>\n",
       "    </tr>\n",
       "    <tr>\n",
       "      <th>...</th>\n",
       "      <td>...</td>\n",
       "      <td>...</td>\n",
       "      <td>...</td>\n",
       "      <td>...</td>\n",
       "      <td>...</td>\n",
       "    </tr>\n",
       "    <tr>\n",
       "      <th>970</th>\n",
       "      <td>2002-08-28</td>\n",
       "      <td>-22.141846</td>\n",
       "      <td>-21.854787</td>\n",
       "      <td>-9.483933</td>\n",
       "      <td>-14.804906</td>\n",
       "    </tr>\n",
       "    <tr>\n",
       "      <th>971</th>\n",
       "      <td>2002-08-29</td>\n",
       "      <td>-22.185204</td>\n",
       "      <td>-21.512387</td>\n",
       "      <td>-9.119370</td>\n",
       "      <td>-13.923381</td>\n",
       "    </tr>\n",
       "    <tr>\n",
       "      <th>972</th>\n",
       "      <td>2002-08-30</td>\n",
       "      <td>-22.527292</td>\n",
       "      <td>-24.563961</td>\n",
       "      <td>-10.784790</td>\n",
       "      <td>-12.652051</td>\n",
       "    </tr>\n",
       "    <tr>\n",
       "      <th>973</th>\n",
       "      <td>2002-08-31</td>\n",
       "      <td>-21.959430</td>\n",
       "      <td>-24.551227</td>\n",
       "      <td>-11.284436</td>\n",
       "      <td>-13.109942</td>\n",
       "    </tr>\n",
       "    <tr>\n",
       "      <th>974</th>\n",
       "      <td>2002-09-01</td>\n",
       "      <td>-21.625881</td>\n",
       "      <td>-23.555066</td>\n",
       "      <td>-11.086579</td>\n",
       "      <td>-13.345760</td>\n",
       "    </tr>\n",
       "    <tr>\n",
       "      <th>975</th>\n",
       "      <td>2002-09-02</td>\n",
       "      <td>-20.256898</td>\n",
       "      <td>-23.482735</td>\n",
       "      <td>-11.263625</td>\n",
       "      <td>-11.804981</td>\n",
       "    </tr>\n",
       "    <tr>\n",
       "      <th>976</th>\n",
       "      <td>2002-09-03</td>\n",
       "      <td>-20.869041</td>\n",
       "      <td>-22.453604</td>\n",
       "      <td>-12.320104</td>\n",
       "      <td>-12.070209</td>\n",
       "    </tr>\n",
       "    <tr>\n",
       "      <th>977</th>\n",
       "      <td>2002-09-04</td>\n",
       "      <td>-21.374708</td>\n",
       "      <td>-23.486186</td>\n",
       "      <td>-9.588075</td>\n",
       "      <td>-10.431600</td>\n",
       "    </tr>\n",
       "    <tr>\n",
       "      <th>978</th>\n",
       "      <td>2002-09-05</td>\n",
       "      <td>-22.691639</td>\n",
       "      <td>-24.170321</td>\n",
       "      <td>-8.605713</td>\n",
       "      <td>-9.875439</td>\n",
       "    </tr>\n",
       "    <tr>\n",
       "      <th>979</th>\n",
       "      <td>2002-09-06</td>\n",
       "      <td>-22.813804</td>\n",
       "      <td>-22.178215</td>\n",
       "      <td>-8.280569</td>\n",
       "      <td>-10.305069</td>\n",
       "    </tr>\n",
       "    <tr>\n",
       "      <th>980</th>\n",
       "      <td>2002-09-07</td>\n",
       "      <td>-23.016447</td>\n",
       "      <td>-21.328598</td>\n",
       "      <td>-9.360692</td>\n",
       "      <td>-9.642332</td>\n",
       "    </tr>\n",
       "    <tr>\n",
       "      <th>981</th>\n",
       "      <td>2002-09-08</td>\n",
       "      <td>-22.677555</td>\n",
       "      <td>-21.222574</td>\n",
       "      <td>-10.244785</td>\n",
       "      <td>-8.622022</td>\n",
       "    </tr>\n",
       "    <tr>\n",
       "      <th>982</th>\n",
       "      <td>2002-09-09</td>\n",
       "      <td>-23.511102</td>\n",
       "      <td>-22.179863</td>\n",
       "      <td>-10.482032</td>\n",
       "      <td>-7.145644</td>\n",
       "    </tr>\n",
       "    <tr>\n",
       "      <th>983</th>\n",
       "      <td>2002-09-10</td>\n",
       "      <td>-21.250224</td>\n",
       "      <td>-23.011550</td>\n",
       "      <td>-10.611333</td>\n",
       "      <td>-7.890854</td>\n",
       "    </tr>\n",
       "    <tr>\n",
       "      <th>984</th>\n",
       "      <td>2002-09-11</td>\n",
       "      <td>-20.204129</td>\n",
       "      <td>-22.284909</td>\n",
       "      <td>-10.698640</td>\n",
       "      <td>-7.722051</td>\n",
       "    </tr>\n",
       "    <tr>\n",
       "      <th>985</th>\n",
       "      <td>2002-09-12</td>\n",
       "      <td>-21.606134</td>\n",
       "      <td>-22.570158</td>\n",
       "      <td>-10.936326</td>\n",
       "      <td>-7.168786</td>\n",
       "    </tr>\n",
       "    <tr>\n",
       "      <th>986</th>\n",
       "      <td>2002-09-13</td>\n",
       "      <td>-21.336733</td>\n",
       "      <td>-24.603869</td>\n",
       "      <td>-10.134803</td>\n",
       "      <td>-8.312152</td>\n",
       "    </tr>\n",
       "    <tr>\n",
       "      <th>987</th>\n",
       "      <td>2002-09-14</td>\n",
       "      <td>-22.253331</td>\n",
       "      <td>-25.016824</td>\n",
       "      <td>-10.627166</td>\n",
       "      <td>-7.513619</td>\n",
       "    </tr>\n",
       "    <tr>\n",
       "      <th>988</th>\n",
       "      <td>2002-09-15</td>\n",
       "      <td>-20.523770</td>\n",
       "      <td>-23.781222</td>\n",
       "      <td>-12.410802</td>\n",
       "      <td>-8.281121</td>\n",
       "    </tr>\n",
       "    <tr>\n",
       "      <th>989</th>\n",
       "      <td>2002-09-16</td>\n",
       "      <td>-21.869984</td>\n",
       "      <td>-24.817785</td>\n",
       "      <td>-12.844630</td>\n",
       "      <td>-7.699183</td>\n",
       "    </tr>\n",
       "    <tr>\n",
       "      <th>990</th>\n",
       "      <td>2002-09-17</td>\n",
       "      <td>-21.912426</td>\n",
       "      <td>-25.057542</td>\n",
       "      <td>-11.951892</td>\n",
       "      <td>-8.486812</td>\n",
       "    </tr>\n",
       "    <tr>\n",
       "      <th>991</th>\n",
       "      <td>2002-09-18</td>\n",
       "      <td>-21.722546</td>\n",
       "      <td>-25.881762</td>\n",
       "      <td>-11.320068</td>\n",
       "      <td>-8.623145</td>\n",
       "    </tr>\n",
       "    <tr>\n",
       "      <th>992</th>\n",
       "      <td>2002-09-19</td>\n",
       "      <td>-20.474366</td>\n",
       "      <td>-24.137588</td>\n",
       "      <td>-12.151461</td>\n",
       "      <td>-9.625507</td>\n",
       "    </tr>\n",
       "    <tr>\n",
       "      <th>993</th>\n",
       "      <td>2002-09-20</td>\n",
       "      <td>-22.934832</td>\n",
       "      <td>-25.287777</td>\n",
       "      <td>-11.061323</td>\n",
       "      <td>-11.695006</td>\n",
       "    </tr>\n",
       "    <tr>\n",
       "      <th>994</th>\n",
       "      <td>2002-09-21</td>\n",
       "      <td>-24.508572</td>\n",
       "      <td>-23.934989</td>\n",
       "      <td>-10.424987</td>\n",
       "      <td>-13.079831</td>\n",
       "    </tr>\n",
       "    <tr>\n",
       "      <th>995</th>\n",
       "      <td>2002-09-22</td>\n",
       "      <td>-26.130471</td>\n",
       "      <td>-24.324060</td>\n",
       "      <td>-11.265862</td>\n",
       "      <td>-11.324558</td>\n",
       "    </tr>\n",
       "    <tr>\n",
       "      <th>996</th>\n",
       "      <td>2002-09-23</td>\n",
       "      <td>-25.928044</td>\n",
       "      <td>-24.035055</td>\n",
       "      <td>-10.924533</td>\n",
       "      <td>-11.071177</td>\n",
       "    </tr>\n",
       "    <tr>\n",
       "      <th>997</th>\n",
       "      <td>2002-09-24</td>\n",
       "      <td>-26.898126</td>\n",
       "      <td>-24.828889</td>\n",
       "      <td>-10.825060</td>\n",
       "      <td>-9.877738</td>\n",
       "    </tr>\n",
       "    <tr>\n",
       "      <th>998</th>\n",
       "      <td>2002-09-25</td>\n",
       "      <td>-27.718151</td>\n",
       "      <td>-24.975646</td>\n",
       "      <td>-10.535565</td>\n",
       "      <td>-9.166899</td>\n",
       "    </tr>\n",
       "    <tr>\n",
       "      <th>999</th>\n",
       "      <td>2002-09-26</td>\n",
       "      <td>-28.606014</td>\n",
       "      <td>-24.223275</td>\n",
       "      <td>-10.279136</td>\n",
       "      <td>-10.275953</td>\n",
       "    </tr>\n",
       "  </tbody>\n",
       "</table>\n",
       "<p>1000 rows × 5 columns</p>\n",
       "</div>"
      ],
      "text/plain": [
       "     Unnamed: 0          A          B          C          D\n",
       "0    2000-01-01  -0.871715   0.889797  -0.452757  -0.065875\n",
       "1    2000-01-02   1.030719   0.982527  -0.632324   0.453500\n",
       "2    2000-01-03   0.634178   1.389564  -0.497967  -0.269316\n",
       "3    2000-01-04   1.018194   1.176338  -0.024616   0.013515\n",
       "4    2000-01-05  -0.137956   1.385163   0.930470  -0.698086\n",
       "5    2000-01-06   0.632541   3.757807   1.680543   1.157284\n",
       "6    2000-01-07  -1.037892   5.667231   2.364400   2.170764\n",
       "7    2000-01-08  -1.375110   4.580663   2.251072   3.029680\n",
       "8    2000-01-09  -1.619662   2.636465   3.044900   2.165869\n",
       "9    2000-01-10  -1.454407   1.728391   2.388801   1.033930\n",
       "10   2000-01-11  -1.278744   2.636628   2.462172  -1.182419\n",
       "11   2000-01-12  -0.749159   2.373619   0.369816  -1.098857\n",
       "12   2000-01-13  -2.861463   2.486702  -1.175913  -0.933334\n",
       "13   2000-01-14  -3.016526   2.839986  -1.220834  -0.309324\n",
       "14   2000-01-15  -5.812431   2.166957  -3.024841  -1.995853\n",
       "15   2000-01-16  -4.130502   1.058692  -3.025683  -3.285472\n",
       "16   2000-01-17  -4.263827   2.202905  -4.321207  -2.821168\n",
       "17   2000-01-18  -4.419713   2.277186  -4.174866  -2.442312\n",
       "18   2000-01-19  -5.394437   3.308024  -4.956483  -1.923371\n",
       "19   2000-01-20  -5.518434   1.931813  -4.448700  -1.844738\n",
       "20   2000-01-21  -5.176009   2.196225  -4.239499  -1.049110\n",
       "21   2000-01-22  -4.250908   2.425685  -3.327828  -0.440797\n",
       "22   2000-01-23  -4.945975   2.891497  -3.385393  -0.999570\n",
       "23   2000-01-24  -4.716341   2.962450  -3.716062  -2.122873\n",
       "24   2000-01-25  -4.176120   2.519948  -4.070270  -1.461157\n",
       "25   2000-01-26  -4.448476   4.094472  -4.534445  -2.317750\n",
       "26   2000-01-27  -4.628580   3.880345  -4.375836  -3.585863\n",
       "27   2000-01-28  -4.436221   4.510596  -5.566178  -3.192768\n",
       "28   2000-01-29  -4.538204   5.071906  -5.719714  -3.775576\n",
       "29   2000-01-30  -3.961343   5.942862  -5.084055  -2.717804\n",
       "..          ...        ...        ...        ...        ...\n",
       "970  2002-08-28 -22.141846 -21.854787  -9.483933 -14.804906\n",
       "971  2002-08-29 -22.185204 -21.512387  -9.119370 -13.923381\n",
       "972  2002-08-30 -22.527292 -24.563961 -10.784790 -12.652051\n",
       "973  2002-08-31 -21.959430 -24.551227 -11.284436 -13.109942\n",
       "974  2002-09-01 -21.625881 -23.555066 -11.086579 -13.345760\n",
       "975  2002-09-02 -20.256898 -23.482735 -11.263625 -11.804981\n",
       "976  2002-09-03 -20.869041 -22.453604 -12.320104 -12.070209\n",
       "977  2002-09-04 -21.374708 -23.486186  -9.588075 -10.431600\n",
       "978  2002-09-05 -22.691639 -24.170321  -8.605713  -9.875439\n",
       "979  2002-09-06 -22.813804 -22.178215  -8.280569 -10.305069\n",
       "980  2002-09-07 -23.016447 -21.328598  -9.360692  -9.642332\n",
       "981  2002-09-08 -22.677555 -21.222574 -10.244785  -8.622022\n",
       "982  2002-09-09 -23.511102 -22.179863 -10.482032  -7.145644\n",
       "983  2002-09-10 -21.250224 -23.011550 -10.611333  -7.890854\n",
       "984  2002-09-11 -20.204129 -22.284909 -10.698640  -7.722051\n",
       "985  2002-09-12 -21.606134 -22.570158 -10.936326  -7.168786\n",
       "986  2002-09-13 -21.336733 -24.603869 -10.134803  -8.312152\n",
       "987  2002-09-14 -22.253331 -25.016824 -10.627166  -7.513619\n",
       "988  2002-09-15 -20.523770 -23.781222 -12.410802  -8.281121\n",
       "989  2002-09-16 -21.869984 -24.817785 -12.844630  -7.699183\n",
       "990  2002-09-17 -21.912426 -25.057542 -11.951892  -8.486812\n",
       "991  2002-09-18 -21.722546 -25.881762 -11.320068  -8.623145\n",
       "992  2002-09-19 -20.474366 -24.137588 -12.151461  -9.625507\n",
       "993  2002-09-20 -22.934832 -25.287777 -11.061323 -11.695006\n",
       "994  2002-09-21 -24.508572 -23.934989 -10.424987 -13.079831\n",
       "995  2002-09-22 -26.130471 -24.324060 -11.265862 -11.324558\n",
       "996  2002-09-23 -25.928044 -24.035055 -10.924533 -11.071177\n",
       "997  2002-09-24 -26.898126 -24.828889 -10.825060  -9.877738\n",
       "998  2002-09-25 -27.718151 -24.975646 -10.535565  -9.166899\n",
       "999  2002-09-26 -28.606014 -24.223275 -10.279136 -10.275953\n",
       "\n",
       "[1000 rows x 5 columns]"
      ]
     },
     "execution_count": 102,
     "metadata": {},
     "output_type": "execute_result"
    }
   ],
   "source": [
    "pd.read_csv('foo.csv')"
   ]
  },
  {
   "cell_type": "markdown",
   "metadata": {},
   "source": [
    "## HDF5"
   ]
  },
  {
   "cell_type": "markdown",
   "metadata": {},
   "source": [
    "HDFStores的读写"
   ]
  },
  {
   "cell_type": "markdown",
   "metadata": {},
   "source": [
    "写入一个HDF5 Store"
   ]
  },
  {
   "cell_type": "code",
   "execution_count": 103,
   "metadata": {
    "collapsed": true
   },
   "outputs": [],
   "source": [
    "df.to_hdf('foo.h5', 'df')"
   ]
  },
  {
   "cell_type": "markdown",
   "metadata": {},
   "source": [
    "从一个HDF5 Store读入"
   ]
  },
  {
   "cell_type": "code",
   "execution_count": 104,
   "metadata": {},
   "outputs": [
    {
     "data": {
      "text/html": [
       "<div>\n",
       "<table border=\"1\" class=\"dataframe\">\n",
       "  <thead>\n",
       "    <tr style=\"text-align: right;\">\n",
       "      <th></th>\n",
       "      <th>A</th>\n",
       "      <th>B</th>\n",
       "      <th>C</th>\n",
       "      <th>D</th>\n",
       "    </tr>\n",
       "  </thead>\n",
       "  <tbody>\n",
       "    <tr>\n",
       "      <th>2000-01-01</th>\n",
       "      <td>-0.871715</td>\n",
       "      <td>0.889797</td>\n",
       "      <td>-0.452757</td>\n",
       "      <td>-0.065875</td>\n",
       "    </tr>\n",
       "    <tr>\n",
       "      <th>2000-01-02</th>\n",
       "      <td>1.030719</td>\n",
       "      <td>0.982527</td>\n",
       "      <td>-0.632324</td>\n",
       "      <td>0.453500</td>\n",
       "    </tr>\n",
       "    <tr>\n",
       "      <th>2000-01-03</th>\n",
       "      <td>0.634178</td>\n",
       "      <td>1.389564</td>\n",
       "      <td>-0.497967</td>\n",
       "      <td>-0.269316</td>\n",
       "    </tr>\n",
       "    <tr>\n",
       "      <th>2000-01-04</th>\n",
       "      <td>1.018194</td>\n",
       "      <td>1.176338</td>\n",
       "      <td>-0.024616</td>\n",
       "      <td>0.013515</td>\n",
       "    </tr>\n",
       "    <tr>\n",
       "      <th>2000-01-05</th>\n",
       "      <td>-0.137956</td>\n",
       "      <td>1.385163</td>\n",
       "      <td>0.930470</td>\n",
       "      <td>-0.698086</td>\n",
       "    </tr>\n",
       "    <tr>\n",
       "      <th>2000-01-06</th>\n",
       "      <td>0.632541</td>\n",
       "      <td>3.757807</td>\n",
       "      <td>1.680543</td>\n",
       "      <td>1.157284</td>\n",
       "    </tr>\n",
       "    <tr>\n",
       "      <th>2000-01-07</th>\n",
       "      <td>-1.037892</td>\n",
       "      <td>5.667231</td>\n",
       "      <td>2.364400</td>\n",
       "      <td>2.170764</td>\n",
       "    </tr>\n",
       "    <tr>\n",
       "      <th>2000-01-08</th>\n",
       "      <td>-1.375110</td>\n",
       "      <td>4.580663</td>\n",
       "      <td>2.251072</td>\n",
       "      <td>3.029680</td>\n",
       "    </tr>\n",
       "    <tr>\n",
       "      <th>2000-01-09</th>\n",
       "      <td>-1.619662</td>\n",
       "      <td>2.636465</td>\n",
       "      <td>3.044900</td>\n",
       "      <td>2.165869</td>\n",
       "    </tr>\n",
       "    <tr>\n",
       "      <th>2000-01-10</th>\n",
       "      <td>-1.454407</td>\n",
       "      <td>1.728391</td>\n",
       "      <td>2.388801</td>\n",
       "      <td>1.033930</td>\n",
       "    </tr>\n",
       "    <tr>\n",
       "      <th>2000-01-11</th>\n",
       "      <td>-1.278744</td>\n",
       "      <td>2.636628</td>\n",
       "      <td>2.462172</td>\n",
       "      <td>-1.182419</td>\n",
       "    </tr>\n",
       "    <tr>\n",
       "      <th>2000-01-12</th>\n",
       "      <td>-0.749159</td>\n",
       "      <td>2.373619</td>\n",
       "      <td>0.369816</td>\n",
       "      <td>-1.098857</td>\n",
       "    </tr>\n",
       "    <tr>\n",
       "      <th>2000-01-13</th>\n",
       "      <td>-2.861463</td>\n",
       "      <td>2.486702</td>\n",
       "      <td>-1.175913</td>\n",
       "      <td>-0.933334</td>\n",
       "    </tr>\n",
       "    <tr>\n",
       "      <th>2000-01-14</th>\n",
       "      <td>-3.016526</td>\n",
       "      <td>2.839986</td>\n",
       "      <td>-1.220834</td>\n",
       "      <td>-0.309324</td>\n",
       "    </tr>\n",
       "    <tr>\n",
       "      <th>2000-01-15</th>\n",
       "      <td>-5.812431</td>\n",
       "      <td>2.166957</td>\n",
       "      <td>-3.024841</td>\n",
       "      <td>-1.995853</td>\n",
       "    </tr>\n",
       "    <tr>\n",
       "      <th>2000-01-16</th>\n",
       "      <td>-4.130502</td>\n",
       "      <td>1.058692</td>\n",
       "      <td>-3.025683</td>\n",
       "      <td>-3.285472</td>\n",
       "    </tr>\n",
       "    <tr>\n",
       "      <th>2000-01-17</th>\n",
       "      <td>-4.263827</td>\n",
       "      <td>2.202905</td>\n",
       "      <td>-4.321207</td>\n",
       "      <td>-2.821168</td>\n",
       "    </tr>\n",
       "    <tr>\n",
       "      <th>2000-01-18</th>\n",
       "      <td>-4.419713</td>\n",
       "      <td>2.277186</td>\n",
       "      <td>-4.174866</td>\n",
       "      <td>-2.442312</td>\n",
       "    </tr>\n",
       "    <tr>\n",
       "      <th>2000-01-19</th>\n",
       "      <td>-5.394437</td>\n",
       "      <td>3.308024</td>\n",
       "      <td>-4.956483</td>\n",
       "      <td>-1.923371</td>\n",
       "    </tr>\n",
       "    <tr>\n",
       "      <th>2000-01-20</th>\n",
       "      <td>-5.518434</td>\n",
       "      <td>1.931813</td>\n",
       "      <td>-4.448700</td>\n",
       "      <td>-1.844738</td>\n",
       "    </tr>\n",
       "    <tr>\n",
       "      <th>2000-01-21</th>\n",
       "      <td>-5.176009</td>\n",
       "      <td>2.196225</td>\n",
       "      <td>-4.239499</td>\n",
       "      <td>-1.049110</td>\n",
       "    </tr>\n",
       "    <tr>\n",
       "      <th>2000-01-22</th>\n",
       "      <td>-4.250908</td>\n",
       "      <td>2.425685</td>\n",
       "      <td>-3.327828</td>\n",
       "      <td>-0.440797</td>\n",
       "    </tr>\n",
       "    <tr>\n",
       "      <th>2000-01-23</th>\n",
       "      <td>-4.945975</td>\n",
       "      <td>2.891497</td>\n",
       "      <td>-3.385393</td>\n",
       "      <td>-0.999570</td>\n",
       "    </tr>\n",
       "    <tr>\n",
       "      <th>2000-01-24</th>\n",
       "      <td>-4.716341</td>\n",
       "      <td>2.962450</td>\n",
       "      <td>-3.716062</td>\n",
       "      <td>-2.122873</td>\n",
       "    </tr>\n",
       "    <tr>\n",
       "      <th>2000-01-25</th>\n",
       "      <td>-4.176120</td>\n",
       "      <td>2.519948</td>\n",
       "      <td>-4.070270</td>\n",
       "      <td>-1.461157</td>\n",
       "    </tr>\n",
       "    <tr>\n",
       "      <th>2000-01-26</th>\n",
       "      <td>-4.448476</td>\n",
       "      <td>4.094472</td>\n",
       "      <td>-4.534445</td>\n",
       "      <td>-2.317750</td>\n",
       "    </tr>\n",
       "    <tr>\n",
       "      <th>2000-01-27</th>\n",
       "      <td>-4.628580</td>\n",
       "      <td>3.880345</td>\n",
       "      <td>-4.375836</td>\n",
       "      <td>-3.585863</td>\n",
       "    </tr>\n",
       "    <tr>\n",
       "      <th>2000-01-28</th>\n",
       "      <td>-4.436221</td>\n",
       "      <td>4.510596</td>\n",
       "      <td>-5.566178</td>\n",
       "      <td>-3.192768</td>\n",
       "    </tr>\n",
       "    <tr>\n",
       "      <th>2000-01-29</th>\n",
       "      <td>-4.538204</td>\n",
       "      <td>5.071906</td>\n",
       "      <td>-5.719714</td>\n",
       "      <td>-3.775576</td>\n",
       "    </tr>\n",
       "    <tr>\n",
       "      <th>2000-01-30</th>\n",
       "      <td>-3.961343</td>\n",
       "      <td>5.942862</td>\n",
       "      <td>-5.084055</td>\n",
       "      <td>-2.717804</td>\n",
       "    </tr>\n",
       "    <tr>\n",
       "      <th>...</th>\n",
       "      <td>...</td>\n",
       "      <td>...</td>\n",
       "      <td>...</td>\n",
       "      <td>...</td>\n",
       "    </tr>\n",
       "    <tr>\n",
       "      <th>2002-08-28</th>\n",
       "      <td>-22.141846</td>\n",
       "      <td>-21.854787</td>\n",
       "      <td>-9.483933</td>\n",
       "      <td>-14.804906</td>\n",
       "    </tr>\n",
       "    <tr>\n",
       "      <th>2002-08-29</th>\n",
       "      <td>-22.185204</td>\n",
       "      <td>-21.512387</td>\n",
       "      <td>-9.119370</td>\n",
       "      <td>-13.923381</td>\n",
       "    </tr>\n",
       "    <tr>\n",
       "      <th>2002-08-30</th>\n",
       "      <td>-22.527292</td>\n",
       "      <td>-24.563961</td>\n",
       "      <td>-10.784790</td>\n",
       "      <td>-12.652051</td>\n",
       "    </tr>\n",
       "    <tr>\n",
       "      <th>2002-08-31</th>\n",
       "      <td>-21.959430</td>\n",
       "      <td>-24.551227</td>\n",
       "      <td>-11.284436</td>\n",
       "      <td>-13.109942</td>\n",
       "    </tr>\n",
       "    <tr>\n",
       "      <th>2002-09-01</th>\n",
       "      <td>-21.625881</td>\n",
       "      <td>-23.555066</td>\n",
       "      <td>-11.086579</td>\n",
       "      <td>-13.345760</td>\n",
       "    </tr>\n",
       "    <tr>\n",
       "      <th>2002-09-02</th>\n",
       "      <td>-20.256898</td>\n",
       "      <td>-23.482735</td>\n",
       "      <td>-11.263625</td>\n",
       "      <td>-11.804981</td>\n",
       "    </tr>\n",
       "    <tr>\n",
       "      <th>2002-09-03</th>\n",
       "      <td>-20.869041</td>\n",
       "      <td>-22.453604</td>\n",
       "      <td>-12.320104</td>\n",
       "      <td>-12.070209</td>\n",
       "    </tr>\n",
       "    <tr>\n",
       "      <th>2002-09-04</th>\n",
       "      <td>-21.374708</td>\n",
       "      <td>-23.486186</td>\n",
       "      <td>-9.588075</td>\n",
       "      <td>-10.431600</td>\n",
       "    </tr>\n",
       "    <tr>\n",
       "      <th>2002-09-05</th>\n",
       "      <td>-22.691639</td>\n",
       "      <td>-24.170321</td>\n",
       "      <td>-8.605713</td>\n",
       "      <td>-9.875439</td>\n",
       "    </tr>\n",
       "    <tr>\n",
       "      <th>2002-09-06</th>\n",
       "      <td>-22.813804</td>\n",
       "      <td>-22.178215</td>\n",
       "      <td>-8.280569</td>\n",
       "      <td>-10.305069</td>\n",
       "    </tr>\n",
       "    <tr>\n",
       "      <th>2002-09-07</th>\n",
       "      <td>-23.016447</td>\n",
       "      <td>-21.328598</td>\n",
       "      <td>-9.360692</td>\n",
       "      <td>-9.642332</td>\n",
       "    </tr>\n",
       "    <tr>\n",
       "      <th>2002-09-08</th>\n",
       "      <td>-22.677555</td>\n",
       "      <td>-21.222574</td>\n",
       "      <td>-10.244785</td>\n",
       "      <td>-8.622022</td>\n",
       "    </tr>\n",
       "    <tr>\n",
       "      <th>2002-09-09</th>\n",
       "      <td>-23.511102</td>\n",
       "      <td>-22.179863</td>\n",
       "      <td>-10.482032</td>\n",
       "      <td>-7.145644</td>\n",
       "    </tr>\n",
       "    <tr>\n",
       "      <th>2002-09-10</th>\n",
       "      <td>-21.250224</td>\n",
       "      <td>-23.011550</td>\n",
       "      <td>-10.611333</td>\n",
       "      <td>-7.890854</td>\n",
       "    </tr>\n",
       "    <tr>\n",
       "      <th>2002-09-11</th>\n",
       "      <td>-20.204129</td>\n",
       "      <td>-22.284909</td>\n",
       "      <td>-10.698640</td>\n",
       "      <td>-7.722051</td>\n",
       "    </tr>\n",
       "    <tr>\n",
       "      <th>2002-09-12</th>\n",
       "      <td>-21.606134</td>\n",
       "      <td>-22.570158</td>\n",
       "      <td>-10.936326</td>\n",
       "      <td>-7.168786</td>\n",
       "    </tr>\n",
       "    <tr>\n",
       "      <th>2002-09-13</th>\n",
       "      <td>-21.336733</td>\n",
       "      <td>-24.603869</td>\n",
       "      <td>-10.134803</td>\n",
       "      <td>-8.312152</td>\n",
       "    </tr>\n",
       "    <tr>\n",
       "      <th>2002-09-14</th>\n",
       "      <td>-22.253331</td>\n",
       "      <td>-25.016824</td>\n",
       "      <td>-10.627166</td>\n",
       "      <td>-7.513619</td>\n",
       "    </tr>\n",
       "    <tr>\n",
       "      <th>2002-09-15</th>\n",
       "      <td>-20.523770</td>\n",
       "      <td>-23.781222</td>\n",
       "      <td>-12.410802</td>\n",
       "      <td>-8.281121</td>\n",
       "    </tr>\n",
       "    <tr>\n",
       "      <th>2002-09-16</th>\n",
       "      <td>-21.869984</td>\n",
       "      <td>-24.817785</td>\n",
       "      <td>-12.844630</td>\n",
       "      <td>-7.699183</td>\n",
       "    </tr>\n",
       "    <tr>\n",
       "      <th>2002-09-17</th>\n",
       "      <td>-21.912426</td>\n",
       "      <td>-25.057542</td>\n",
       "      <td>-11.951892</td>\n",
       "      <td>-8.486812</td>\n",
       "    </tr>\n",
       "    <tr>\n",
       "      <th>2002-09-18</th>\n",
       "      <td>-21.722546</td>\n",
       "      <td>-25.881762</td>\n",
       "      <td>-11.320068</td>\n",
       "      <td>-8.623145</td>\n",
       "    </tr>\n",
       "    <tr>\n",
       "      <th>2002-09-19</th>\n",
       "      <td>-20.474366</td>\n",
       "      <td>-24.137588</td>\n",
       "      <td>-12.151461</td>\n",
       "      <td>-9.625507</td>\n",
       "    </tr>\n",
       "    <tr>\n",
       "      <th>2002-09-20</th>\n",
       "      <td>-22.934832</td>\n",
       "      <td>-25.287777</td>\n",
       "      <td>-11.061323</td>\n",
       "      <td>-11.695006</td>\n",
       "    </tr>\n",
       "    <tr>\n",
       "      <th>2002-09-21</th>\n",
       "      <td>-24.508572</td>\n",
       "      <td>-23.934989</td>\n",
       "      <td>-10.424987</td>\n",
       "      <td>-13.079831</td>\n",
       "    </tr>\n",
       "    <tr>\n",
       "      <th>2002-09-22</th>\n",
       "      <td>-26.130471</td>\n",
       "      <td>-24.324060</td>\n",
       "      <td>-11.265862</td>\n",
       "      <td>-11.324558</td>\n",
       "    </tr>\n",
       "    <tr>\n",
       "      <th>2002-09-23</th>\n",
       "      <td>-25.928044</td>\n",
       "      <td>-24.035055</td>\n",
       "      <td>-10.924533</td>\n",
       "      <td>-11.071177</td>\n",
       "    </tr>\n",
       "    <tr>\n",
       "      <th>2002-09-24</th>\n",
       "      <td>-26.898126</td>\n",
       "      <td>-24.828889</td>\n",
       "      <td>-10.825060</td>\n",
       "      <td>-9.877738</td>\n",
       "    </tr>\n",
       "    <tr>\n",
       "      <th>2002-09-25</th>\n",
       "      <td>-27.718151</td>\n",
       "      <td>-24.975646</td>\n",
       "      <td>-10.535565</td>\n",
       "      <td>-9.166899</td>\n",
       "    </tr>\n",
       "    <tr>\n",
       "      <th>2002-09-26</th>\n",
       "      <td>-28.606014</td>\n",
       "      <td>-24.223275</td>\n",
       "      <td>-10.279136</td>\n",
       "      <td>-10.275953</td>\n",
       "    </tr>\n",
       "  </tbody>\n",
       "</table>\n",
       "<p>1000 rows × 4 columns</p>\n",
       "</div>"
      ],
      "text/plain": [
       "                    A          B          C          D\n",
       "2000-01-01  -0.871715   0.889797  -0.452757  -0.065875\n",
       "2000-01-02   1.030719   0.982527  -0.632324   0.453500\n",
       "2000-01-03   0.634178   1.389564  -0.497967  -0.269316\n",
       "2000-01-04   1.018194   1.176338  -0.024616   0.013515\n",
       "2000-01-05  -0.137956   1.385163   0.930470  -0.698086\n",
       "2000-01-06   0.632541   3.757807   1.680543   1.157284\n",
       "2000-01-07  -1.037892   5.667231   2.364400   2.170764\n",
       "2000-01-08  -1.375110   4.580663   2.251072   3.029680\n",
       "2000-01-09  -1.619662   2.636465   3.044900   2.165869\n",
       "2000-01-10  -1.454407   1.728391   2.388801   1.033930\n",
       "2000-01-11  -1.278744   2.636628   2.462172  -1.182419\n",
       "2000-01-12  -0.749159   2.373619   0.369816  -1.098857\n",
       "2000-01-13  -2.861463   2.486702  -1.175913  -0.933334\n",
       "2000-01-14  -3.016526   2.839986  -1.220834  -0.309324\n",
       "2000-01-15  -5.812431   2.166957  -3.024841  -1.995853\n",
       "2000-01-16  -4.130502   1.058692  -3.025683  -3.285472\n",
       "2000-01-17  -4.263827   2.202905  -4.321207  -2.821168\n",
       "2000-01-18  -4.419713   2.277186  -4.174866  -2.442312\n",
       "2000-01-19  -5.394437   3.308024  -4.956483  -1.923371\n",
       "2000-01-20  -5.518434   1.931813  -4.448700  -1.844738\n",
       "2000-01-21  -5.176009   2.196225  -4.239499  -1.049110\n",
       "2000-01-22  -4.250908   2.425685  -3.327828  -0.440797\n",
       "2000-01-23  -4.945975   2.891497  -3.385393  -0.999570\n",
       "2000-01-24  -4.716341   2.962450  -3.716062  -2.122873\n",
       "2000-01-25  -4.176120   2.519948  -4.070270  -1.461157\n",
       "2000-01-26  -4.448476   4.094472  -4.534445  -2.317750\n",
       "2000-01-27  -4.628580   3.880345  -4.375836  -3.585863\n",
       "2000-01-28  -4.436221   4.510596  -5.566178  -3.192768\n",
       "2000-01-29  -4.538204   5.071906  -5.719714  -3.775576\n",
       "2000-01-30  -3.961343   5.942862  -5.084055  -2.717804\n",
       "...               ...        ...        ...        ...\n",
       "2002-08-28 -22.141846 -21.854787  -9.483933 -14.804906\n",
       "2002-08-29 -22.185204 -21.512387  -9.119370 -13.923381\n",
       "2002-08-30 -22.527292 -24.563961 -10.784790 -12.652051\n",
       "2002-08-31 -21.959430 -24.551227 -11.284436 -13.109942\n",
       "2002-09-01 -21.625881 -23.555066 -11.086579 -13.345760\n",
       "2002-09-02 -20.256898 -23.482735 -11.263625 -11.804981\n",
       "2002-09-03 -20.869041 -22.453604 -12.320104 -12.070209\n",
       "2002-09-04 -21.374708 -23.486186  -9.588075 -10.431600\n",
       "2002-09-05 -22.691639 -24.170321  -8.605713  -9.875439\n",
       "2002-09-06 -22.813804 -22.178215  -8.280569 -10.305069\n",
       "2002-09-07 -23.016447 -21.328598  -9.360692  -9.642332\n",
       "2002-09-08 -22.677555 -21.222574 -10.244785  -8.622022\n",
       "2002-09-09 -23.511102 -22.179863 -10.482032  -7.145644\n",
       "2002-09-10 -21.250224 -23.011550 -10.611333  -7.890854\n",
       "2002-09-11 -20.204129 -22.284909 -10.698640  -7.722051\n",
       "2002-09-12 -21.606134 -22.570158 -10.936326  -7.168786\n",
       "2002-09-13 -21.336733 -24.603869 -10.134803  -8.312152\n",
       "2002-09-14 -22.253331 -25.016824 -10.627166  -7.513619\n",
       "2002-09-15 -20.523770 -23.781222 -12.410802  -8.281121\n",
       "2002-09-16 -21.869984 -24.817785 -12.844630  -7.699183\n",
       "2002-09-17 -21.912426 -25.057542 -11.951892  -8.486812\n",
       "2002-09-18 -21.722546 -25.881762 -11.320068  -8.623145\n",
       "2002-09-19 -20.474366 -24.137588 -12.151461  -9.625507\n",
       "2002-09-20 -22.934832 -25.287777 -11.061323 -11.695006\n",
       "2002-09-21 -24.508572 -23.934989 -10.424987 -13.079831\n",
       "2002-09-22 -26.130471 -24.324060 -11.265862 -11.324558\n",
       "2002-09-23 -25.928044 -24.035055 -10.924533 -11.071177\n",
       "2002-09-24 -26.898126 -24.828889 -10.825060  -9.877738\n",
       "2002-09-25 -27.718151 -24.975646 -10.535565  -9.166899\n",
       "2002-09-26 -28.606014 -24.223275 -10.279136 -10.275953\n",
       "\n",
       "[1000 rows x 4 columns]"
      ]
     },
     "execution_count": 104,
     "metadata": {},
     "output_type": "execute_result"
    }
   ],
   "source": [
    "pd.read_hdf('foo.h5', 'df')"
   ]
  },
  {
   "cell_type": "markdown",
   "metadata": {},
   "source": [
    "## Excel"
   ]
  },
  {
   "cell_type": "markdown",
   "metadata": {},
   "source": [
    "MS Excel的读写"
   ]
  },
  {
   "cell_type": "markdown",
   "metadata": {},
   "source": [
    "写入一个Excel文件"
   ]
  },
  {
   "cell_type": "code",
   "execution_count": 105,
   "metadata": {
    "collapsed": true
   },
   "outputs": [],
   "source": [
    "df.to_excel('foo.xlsx', sheet_name='Sheet1')"
   ]
  },
  {
   "cell_type": "markdown",
   "metadata": {},
   "source": [
    "从一个excel文件读入"
   ]
  },
  {
   "cell_type": "code",
   "execution_count": 106,
   "metadata": {},
   "outputs": [
    {
     "data": {
      "text/html": [
       "<div>\n",
       "<table border=\"1\" class=\"dataframe\">\n",
       "  <thead>\n",
       "    <tr style=\"text-align: right;\">\n",
       "      <th></th>\n",
       "      <th>A</th>\n",
       "      <th>B</th>\n",
       "      <th>C</th>\n",
       "      <th>D</th>\n",
       "    </tr>\n",
       "  </thead>\n",
       "  <tbody>\n",
       "    <tr>\n",
       "      <th>2000-01-01</th>\n",
       "      <td>-0.871715</td>\n",
       "      <td>0.889797</td>\n",
       "      <td>-0.452757</td>\n",
       "      <td>-0.065875</td>\n",
       "    </tr>\n",
       "    <tr>\n",
       "      <th>2000-01-02</th>\n",
       "      <td>1.030719</td>\n",
       "      <td>0.982527</td>\n",
       "      <td>-0.632324</td>\n",
       "      <td>0.453500</td>\n",
       "    </tr>\n",
       "    <tr>\n",
       "      <th>2000-01-03</th>\n",
       "      <td>0.634178</td>\n",
       "      <td>1.389564</td>\n",
       "      <td>-0.497967</td>\n",
       "      <td>-0.269316</td>\n",
       "    </tr>\n",
       "    <tr>\n",
       "      <th>2000-01-04</th>\n",
       "      <td>1.018194</td>\n",
       "      <td>1.176338</td>\n",
       "      <td>-0.024616</td>\n",
       "      <td>0.013515</td>\n",
       "    </tr>\n",
       "    <tr>\n",
       "      <th>2000-01-05</th>\n",
       "      <td>-0.137956</td>\n",
       "      <td>1.385163</td>\n",
       "      <td>0.930470</td>\n",
       "      <td>-0.698086</td>\n",
       "    </tr>\n",
       "    <tr>\n",
       "      <th>2000-01-06</th>\n",
       "      <td>0.632541</td>\n",
       "      <td>3.757807</td>\n",
       "      <td>1.680543</td>\n",
       "      <td>1.157284</td>\n",
       "    </tr>\n",
       "    <tr>\n",
       "      <th>2000-01-07</th>\n",
       "      <td>-1.037892</td>\n",
       "      <td>5.667231</td>\n",
       "      <td>2.364400</td>\n",
       "      <td>2.170764</td>\n",
       "    </tr>\n",
       "    <tr>\n",
       "      <th>2000-01-08</th>\n",
       "      <td>-1.375110</td>\n",
       "      <td>4.580663</td>\n",
       "      <td>2.251072</td>\n",
       "      <td>3.029680</td>\n",
       "    </tr>\n",
       "    <tr>\n",
       "      <th>2000-01-09</th>\n",
       "      <td>-1.619662</td>\n",
       "      <td>2.636465</td>\n",
       "      <td>3.044900</td>\n",
       "      <td>2.165869</td>\n",
       "    </tr>\n",
       "    <tr>\n",
       "      <th>2000-01-10</th>\n",
       "      <td>-1.454407</td>\n",
       "      <td>1.728391</td>\n",
       "      <td>2.388801</td>\n",
       "      <td>1.033930</td>\n",
       "    </tr>\n",
       "    <tr>\n",
       "      <th>2000-01-11</th>\n",
       "      <td>-1.278744</td>\n",
       "      <td>2.636628</td>\n",
       "      <td>2.462172</td>\n",
       "      <td>-1.182419</td>\n",
       "    </tr>\n",
       "    <tr>\n",
       "      <th>2000-01-12</th>\n",
       "      <td>-0.749159</td>\n",
       "      <td>2.373619</td>\n",
       "      <td>0.369816</td>\n",
       "      <td>-1.098857</td>\n",
       "    </tr>\n",
       "    <tr>\n",
       "      <th>2000-01-13</th>\n",
       "      <td>-2.861463</td>\n",
       "      <td>2.486702</td>\n",
       "      <td>-1.175913</td>\n",
       "      <td>-0.933334</td>\n",
       "    </tr>\n",
       "    <tr>\n",
       "      <th>2000-01-14</th>\n",
       "      <td>-3.016526</td>\n",
       "      <td>2.839986</td>\n",
       "      <td>-1.220834</td>\n",
       "      <td>-0.309324</td>\n",
       "    </tr>\n",
       "    <tr>\n",
       "      <th>2000-01-15</th>\n",
       "      <td>-5.812431</td>\n",
       "      <td>2.166957</td>\n",
       "      <td>-3.024841</td>\n",
       "      <td>-1.995853</td>\n",
       "    </tr>\n",
       "    <tr>\n",
       "      <th>2000-01-16</th>\n",
       "      <td>-4.130502</td>\n",
       "      <td>1.058692</td>\n",
       "      <td>-3.025683</td>\n",
       "      <td>-3.285472</td>\n",
       "    </tr>\n",
       "    <tr>\n",
       "      <th>2000-01-17</th>\n",
       "      <td>-4.263827</td>\n",
       "      <td>2.202905</td>\n",
       "      <td>-4.321207</td>\n",
       "      <td>-2.821168</td>\n",
       "    </tr>\n",
       "    <tr>\n",
       "      <th>2000-01-18</th>\n",
       "      <td>-4.419713</td>\n",
       "      <td>2.277186</td>\n",
       "      <td>-4.174866</td>\n",
       "      <td>-2.442312</td>\n",
       "    </tr>\n",
       "    <tr>\n",
       "      <th>2000-01-19</th>\n",
       "      <td>-5.394437</td>\n",
       "      <td>3.308024</td>\n",
       "      <td>-4.956483</td>\n",
       "      <td>-1.923371</td>\n",
       "    </tr>\n",
       "    <tr>\n",
       "      <th>2000-01-20</th>\n",
       "      <td>-5.518434</td>\n",
       "      <td>1.931813</td>\n",
       "      <td>-4.448700</td>\n",
       "      <td>-1.844738</td>\n",
       "    </tr>\n",
       "    <tr>\n",
       "      <th>2000-01-21</th>\n",
       "      <td>-5.176009</td>\n",
       "      <td>2.196225</td>\n",
       "      <td>-4.239499</td>\n",
       "      <td>-1.049110</td>\n",
       "    </tr>\n",
       "    <tr>\n",
       "      <th>2000-01-22</th>\n",
       "      <td>-4.250908</td>\n",
       "      <td>2.425685</td>\n",
       "      <td>-3.327828</td>\n",
       "      <td>-0.440797</td>\n",
       "    </tr>\n",
       "    <tr>\n",
       "      <th>2000-01-23</th>\n",
       "      <td>-4.945975</td>\n",
       "      <td>2.891497</td>\n",
       "      <td>-3.385393</td>\n",
       "      <td>-0.999570</td>\n",
       "    </tr>\n",
       "    <tr>\n",
       "      <th>2000-01-24</th>\n",
       "      <td>-4.716341</td>\n",
       "      <td>2.962450</td>\n",
       "      <td>-3.716062</td>\n",
       "      <td>-2.122873</td>\n",
       "    </tr>\n",
       "    <tr>\n",
       "      <th>2000-01-25</th>\n",
       "      <td>-4.176120</td>\n",
       "      <td>2.519948</td>\n",
       "      <td>-4.070270</td>\n",
       "      <td>-1.461157</td>\n",
       "    </tr>\n",
       "    <tr>\n",
       "      <th>2000-01-26</th>\n",
       "      <td>-4.448476</td>\n",
       "      <td>4.094472</td>\n",
       "      <td>-4.534445</td>\n",
       "      <td>-2.317750</td>\n",
       "    </tr>\n",
       "    <tr>\n",
       "      <th>2000-01-27</th>\n",
       "      <td>-4.628580</td>\n",
       "      <td>3.880345</td>\n",
       "      <td>-4.375836</td>\n",
       "      <td>-3.585863</td>\n",
       "    </tr>\n",
       "    <tr>\n",
       "      <th>2000-01-28</th>\n",
       "      <td>-4.436221</td>\n",
       "      <td>4.510596</td>\n",
       "      <td>-5.566178</td>\n",
       "      <td>-3.192768</td>\n",
       "    </tr>\n",
       "    <tr>\n",
       "      <th>2000-01-29</th>\n",
       "      <td>-4.538204</td>\n",
       "      <td>5.071906</td>\n",
       "      <td>-5.719714</td>\n",
       "      <td>-3.775576</td>\n",
       "    </tr>\n",
       "    <tr>\n",
       "      <th>2000-01-30</th>\n",
       "      <td>-3.961343</td>\n",
       "      <td>5.942862</td>\n",
       "      <td>-5.084055</td>\n",
       "      <td>-2.717804</td>\n",
       "    </tr>\n",
       "    <tr>\n",
       "      <th>...</th>\n",
       "      <td>...</td>\n",
       "      <td>...</td>\n",
       "      <td>...</td>\n",
       "      <td>...</td>\n",
       "    </tr>\n",
       "    <tr>\n",
       "      <th>2002-08-28</th>\n",
       "      <td>-22.141846</td>\n",
       "      <td>-21.854787</td>\n",
       "      <td>-9.483933</td>\n",
       "      <td>-14.804906</td>\n",
       "    </tr>\n",
       "    <tr>\n",
       "      <th>2002-08-29</th>\n",
       "      <td>-22.185204</td>\n",
       "      <td>-21.512387</td>\n",
       "      <td>-9.119370</td>\n",
       "      <td>-13.923381</td>\n",
       "    </tr>\n",
       "    <tr>\n",
       "      <th>2002-08-30</th>\n",
       "      <td>-22.527292</td>\n",
       "      <td>-24.563961</td>\n",
       "      <td>-10.784790</td>\n",
       "      <td>-12.652051</td>\n",
       "    </tr>\n",
       "    <tr>\n",
       "      <th>2002-08-31</th>\n",
       "      <td>-21.959430</td>\n",
       "      <td>-24.551227</td>\n",
       "      <td>-11.284436</td>\n",
       "      <td>-13.109942</td>\n",
       "    </tr>\n",
       "    <tr>\n",
       "      <th>2002-09-01</th>\n",
       "      <td>-21.625881</td>\n",
       "      <td>-23.555066</td>\n",
       "      <td>-11.086579</td>\n",
       "      <td>-13.345760</td>\n",
       "    </tr>\n",
       "    <tr>\n",
       "      <th>2002-09-02</th>\n",
       "      <td>-20.256898</td>\n",
       "      <td>-23.482735</td>\n",
       "      <td>-11.263625</td>\n",
       "      <td>-11.804981</td>\n",
       "    </tr>\n",
       "    <tr>\n",
       "      <th>2002-09-03</th>\n",
       "      <td>-20.869041</td>\n",
       "      <td>-22.453604</td>\n",
       "      <td>-12.320104</td>\n",
       "      <td>-12.070209</td>\n",
       "    </tr>\n",
       "    <tr>\n",
       "      <th>2002-09-04</th>\n",
       "      <td>-21.374708</td>\n",
       "      <td>-23.486186</td>\n",
       "      <td>-9.588075</td>\n",
       "      <td>-10.431600</td>\n",
       "    </tr>\n",
       "    <tr>\n",
       "      <th>2002-09-05</th>\n",
       "      <td>-22.691639</td>\n",
       "      <td>-24.170321</td>\n",
       "      <td>-8.605713</td>\n",
       "      <td>-9.875439</td>\n",
       "    </tr>\n",
       "    <tr>\n",
       "      <th>2002-09-06</th>\n",
       "      <td>-22.813804</td>\n",
       "      <td>-22.178215</td>\n",
       "      <td>-8.280569</td>\n",
       "      <td>-10.305069</td>\n",
       "    </tr>\n",
       "    <tr>\n",
       "      <th>2002-09-07</th>\n",
       "      <td>-23.016447</td>\n",
       "      <td>-21.328598</td>\n",
       "      <td>-9.360692</td>\n",
       "      <td>-9.642332</td>\n",
       "    </tr>\n",
       "    <tr>\n",
       "      <th>2002-09-08</th>\n",
       "      <td>-22.677555</td>\n",
       "      <td>-21.222574</td>\n",
       "      <td>-10.244785</td>\n",
       "      <td>-8.622022</td>\n",
       "    </tr>\n",
       "    <tr>\n",
       "      <th>2002-09-09</th>\n",
       "      <td>-23.511102</td>\n",
       "      <td>-22.179863</td>\n",
       "      <td>-10.482032</td>\n",
       "      <td>-7.145644</td>\n",
       "    </tr>\n",
       "    <tr>\n",
       "      <th>2002-09-10</th>\n",
       "      <td>-21.250224</td>\n",
       "      <td>-23.011550</td>\n",
       "      <td>-10.611333</td>\n",
       "      <td>-7.890854</td>\n",
       "    </tr>\n",
       "    <tr>\n",
       "      <th>2002-09-11</th>\n",
       "      <td>-20.204129</td>\n",
       "      <td>-22.284909</td>\n",
       "      <td>-10.698640</td>\n",
       "      <td>-7.722051</td>\n",
       "    </tr>\n",
       "    <tr>\n",
       "      <th>2002-09-12</th>\n",
       "      <td>-21.606134</td>\n",
       "      <td>-22.570158</td>\n",
       "      <td>-10.936326</td>\n",
       "      <td>-7.168786</td>\n",
       "    </tr>\n",
       "    <tr>\n",
       "      <th>2002-09-13</th>\n",
       "      <td>-21.336733</td>\n",
       "      <td>-24.603869</td>\n",
       "      <td>-10.134803</td>\n",
       "      <td>-8.312152</td>\n",
       "    </tr>\n",
       "    <tr>\n",
       "      <th>2002-09-14</th>\n",
       "      <td>-22.253331</td>\n",
       "      <td>-25.016824</td>\n",
       "      <td>-10.627166</td>\n",
       "      <td>-7.513619</td>\n",
       "    </tr>\n",
       "    <tr>\n",
       "      <th>2002-09-15</th>\n",
       "      <td>-20.523770</td>\n",
       "      <td>-23.781222</td>\n",
       "      <td>-12.410802</td>\n",
       "      <td>-8.281121</td>\n",
       "    </tr>\n",
       "    <tr>\n",
       "      <th>2002-09-16</th>\n",
       "      <td>-21.869984</td>\n",
       "      <td>-24.817785</td>\n",
       "      <td>-12.844630</td>\n",
       "      <td>-7.699183</td>\n",
       "    </tr>\n",
       "    <tr>\n",
       "      <th>2002-09-17</th>\n",
       "      <td>-21.912426</td>\n",
       "      <td>-25.057542</td>\n",
       "      <td>-11.951892</td>\n",
       "      <td>-8.486812</td>\n",
       "    </tr>\n",
       "    <tr>\n",
       "      <th>2002-09-18</th>\n",
       "      <td>-21.722546</td>\n",
       "      <td>-25.881762</td>\n",
       "      <td>-11.320068</td>\n",
       "      <td>-8.623145</td>\n",
       "    </tr>\n",
       "    <tr>\n",
       "      <th>2002-09-19</th>\n",
       "      <td>-20.474366</td>\n",
       "      <td>-24.137588</td>\n",
       "      <td>-12.151461</td>\n",
       "      <td>-9.625507</td>\n",
       "    </tr>\n",
       "    <tr>\n",
       "      <th>2002-09-20</th>\n",
       "      <td>-22.934832</td>\n",
       "      <td>-25.287777</td>\n",
       "      <td>-11.061323</td>\n",
       "      <td>-11.695006</td>\n",
       "    </tr>\n",
       "    <tr>\n",
       "      <th>2002-09-21</th>\n",
       "      <td>-24.508572</td>\n",
       "      <td>-23.934989</td>\n",
       "      <td>-10.424987</td>\n",
       "      <td>-13.079831</td>\n",
       "    </tr>\n",
       "    <tr>\n",
       "      <th>2002-09-22</th>\n",
       "      <td>-26.130471</td>\n",
       "      <td>-24.324060</td>\n",
       "      <td>-11.265862</td>\n",
       "      <td>-11.324558</td>\n",
       "    </tr>\n",
       "    <tr>\n",
       "      <th>2002-09-23</th>\n",
       "      <td>-25.928044</td>\n",
       "      <td>-24.035055</td>\n",
       "      <td>-10.924533</td>\n",
       "      <td>-11.071177</td>\n",
       "    </tr>\n",
       "    <tr>\n",
       "      <th>2002-09-24</th>\n",
       "      <td>-26.898126</td>\n",
       "      <td>-24.828889</td>\n",
       "      <td>-10.825060</td>\n",
       "      <td>-9.877738</td>\n",
       "    </tr>\n",
       "    <tr>\n",
       "      <th>2002-09-25</th>\n",
       "      <td>-27.718151</td>\n",
       "      <td>-24.975646</td>\n",
       "      <td>-10.535565</td>\n",
       "      <td>-9.166899</td>\n",
       "    </tr>\n",
       "    <tr>\n",
       "      <th>2002-09-26</th>\n",
       "      <td>-28.606014</td>\n",
       "      <td>-24.223275</td>\n",
       "      <td>-10.279136</td>\n",
       "      <td>-10.275953</td>\n",
       "    </tr>\n",
       "  </tbody>\n",
       "</table>\n",
       "<p>1000 rows × 4 columns</p>\n",
       "</div>"
      ],
      "text/plain": [
       "                    A          B          C          D\n",
       "2000-01-01  -0.871715   0.889797  -0.452757  -0.065875\n",
       "2000-01-02   1.030719   0.982527  -0.632324   0.453500\n",
       "2000-01-03   0.634178   1.389564  -0.497967  -0.269316\n",
       "2000-01-04   1.018194   1.176338  -0.024616   0.013515\n",
       "2000-01-05  -0.137956   1.385163   0.930470  -0.698086\n",
       "2000-01-06   0.632541   3.757807   1.680543   1.157284\n",
       "2000-01-07  -1.037892   5.667231   2.364400   2.170764\n",
       "2000-01-08  -1.375110   4.580663   2.251072   3.029680\n",
       "2000-01-09  -1.619662   2.636465   3.044900   2.165869\n",
       "2000-01-10  -1.454407   1.728391   2.388801   1.033930\n",
       "2000-01-11  -1.278744   2.636628   2.462172  -1.182419\n",
       "2000-01-12  -0.749159   2.373619   0.369816  -1.098857\n",
       "2000-01-13  -2.861463   2.486702  -1.175913  -0.933334\n",
       "2000-01-14  -3.016526   2.839986  -1.220834  -0.309324\n",
       "2000-01-15  -5.812431   2.166957  -3.024841  -1.995853\n",
       "2000-01-16  -4.130502   1.058692  -3.025683  -3.285472\n",
       "2000-01-17  -4.263827   2.202905  -4.321207  -2.821168\n",
       "2000-01-18  -4.419713   2.277186  -4.174866  -2.442312\n",
       "2000-01-19  -5.394437   3.308024  -4.956483  -1.923371\n",
       "2000-01-20  -5.518434   1.931813  -4.448700  -1.844738\n",
       "2000-01-21  -5.176009   2.196225  -4.239499  -1.049110\n",
       "2000-01-22  -4.250908   2.425685  -3.327828  -0.440797\n",
       "2000-01-23  -4.945975   2.891497  -3.385393  -0.999570\n",
       "2000-01-24  -4.716341   2.962450  -3.716062  -2.122873\n",
       "2000-01-25  -4.176120   2.519948  -4.070270  -1.461157\n",
       "2000-01-26  -4.448476   4.094472  -4.534445  -2.317750\n",
       "2000-01-27  -4.628580   3.880345  -4.375836  -3.585863\n",
       "2000-01-28  -4.436221   4.510596  -5.566178  -3.192768\n",
       "2000-01-29  -4.538204   5.071906  -5.719714  -3.775576\n",
       "2000-01-30  -3.961343   5.942862  -5.084055  -2.717804\n",
       "...               ...        ...        ...        ...\n",
       "2002-08-28 -22.141846 -21.854787  -9.483933 -14.804906\n",
       "2002-08-29 -22.185204 -21.512387  -9.119370 -13.923381\n",
       "2002-08-30 -22.527292 -24.563961 -10.784790 -12.652051\n",
       "2002-08-31 -21.959430 -24.551227 -11.284436 -13.109942\n",
       "2002-09-01 -21.625881 -23.555066 -11.086579 -13.345760\n",
       "2002-09-02 -20.256898 -23.482735 -11.263625 -11.804981\n",
       "2002-09-03 -20.869041 -22.453604 -12.320104 -12.070209\n",
       "2002-09-04 -21.374708 -23.486186  -9.588075 -10.431600\n",
       "2002-09-05 -22.691639 -24.170321  -8.605713  -9.875439\n",
       "2002-09-06 -22.813804 -22.178215  -8.280569 -10.305069\n",
       "2002-09-07 -23.016447 -21.328598  -9.360692  -9.642332\n",
       "2002-09-08 -22.677555 -21.222574 -10.244785  -8.622022\n",
       "2002-09-09 -23.511102 -22.179863 -10.482032  -7.145644\n",
       "2002-09-10 -21.250224 -23.011550 -10.611333  -7.890854\n",
       "2002-09-11 -20.204129 -22.284909 -10.698640  -7.722051\n",
       "2002-09-12 -21.606134 -22.570158 -10.936326  -7.168786\n",
       "2002-09-13 -21.336733 -24.603869 -10.134803  -8.312152\n",
       "2002-09-14 -22.253331 -25.016824 -10.627166  -7.513619\n",
       "2002-09-15 -20.523770 -23.781222 -12.410802  -8.281121\n",
       "2002-09-16 -21.869984 -24.817785 -12.844630  -7.699183\n",
       "2002-09-17 -21.912426 -25.057542 -11.951892  -8.486812\n",
       "2002-09-18 -21.722546 -25.881762 -11.320068  -8.623145\n",
       "2002-09-19 -20.474366 -24.137588 -12.151461  -9.625507\n",
       "2002-09-20 -22.934832 -25.287777 -11.061323 -11.695006\n",
       "2002-09-21 -24.508572 -23.934989 -10.424987 -13.079831\n",
       "2002-09-22 -26.130471 -24.324060 -11.265862 -11.324558\n",
       "2002-09-23 -25.928044 -24.035055 -10.924533 -11.071177\n",
       "2002-09-24 -26.898126 -24.828889 -10.825060  -9.877738\n",
       "2002-09-25 -27.718151 -24.975646 -10.535565  -9.166899\n",
       "2002-09-26 -28.606014 -24.223275 -10.279136 -10.275953\n",
       "\n",
       "[1000 rows x 4 columns]"
      ]
     },
     "execution_count": 106,
     "metadata": {},
     "output_type": "execute_result"
    }
   ],
   "source": [
    "pd.read_excel('foo.xlsx', 'Sheet1', index_col=None, na_values=['NA'])"
   ]
  }
 ],
 "metadata": {
  "kernelspec": {
   "display_name": "Python 3",
   "language": "python",
   "name": "python3"
  },
  "language_info": {
   "codemirror_mode": {
    "name": "ipython",
    "version": 3
   },
   "file_extension": ".py",
   "mimetype": "text/x-python",
   "name": "python",
   "nbconvert_exporter": "python",
   "pygments_lexer": "ipython3",
   "version": "3.6.3"
  },
  "toc": {
   "base_numbering": 1,
   "nav_menu": {},
   "number_sections": true,
   "sideBar": true,
   "skip_h1_title": false,
   "title_cell": "Table of Contents",
   "title_sidebar": "Contents",
   "toc_cell": false,
   "toc_position": {
    "height": "calc(100% - 180px)",
    "left": "10px",
    "top": "150px",
    "width": "165px"
   },
   "toc_section_display": true,
   "toc_window_display": true
  }
 },
 "nbformat": 4,
 "nbformat_minor": 1
}
