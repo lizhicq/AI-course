{
 "cells": [
  {
   "cell_type": "markdown",
   "metadata": {},
   "source": [
    "# 3. 装饰器"
   ]
  },
  {
   "cell_type": "markdown",
   "metadata": {},
   "source": [
    "类似于程序设计语义学中所说的前键 与后键 的概念(Eiffel中的@pre 与@post )。当然你可以在装饰器中做比前键与后键更多的事，如：引入日志、增加计时逻辑来检测性能、给函数增加事务的能力。\n",
    "\n",
    " \n",
    "其实总体说起来，装饰器其实也就是一个函数，一个用来包装函数的函数，返回一个修改之后的函数对象，被装饰函数感受不到装饰器的存在.\n",
    "\n",
    "**原则：** \n",
    "\n",
    "    不能修改被装饰的函数的源代码（比如线上环境）\n",
    "    不能修改被装饰的函数的调用方式 \n",
    "    \n",
    "**功能**\n",
    "\n",
    "    装饰其他函数，就是为其他函数添加附加功能   "
   ]
  },
  {
   "cell_type": "markdown",
   "metadata": {},
   "source": [
    "## 3.1 实现装饰器知识储备： \n",
    "\n",
    "    函数即是“变量”\n",
    "    高阶函数\n",
    "    嵌套函数\n",
    "    \n",
    "    高阶函数+嵌套函数=>装饰器"
   ]
  },
  {
   "cell_type": "markdown",
   "metadata": {},
   "source": [
    "先分析以下两段代码能不能运行？"
   ]
  },
  {
   "cell_type": "code",
   "execution_count": null,
   "metadata": {
    "collapsed": true
   },
   "outputs": [],
   "source": [
    "def foo1():\n",
    "    print(\"in the foo\")\n",
    "    bar1()\n",
    "    \n",
    "def bar1():\n",
    "    print(\"in the bar\")\n",
    "\n",
    "foo1()"
   ]
  },
  {
   "cell_type": "code",
   "execution_count": null,
   "metadata": {
    "collapsed": true
   },
   "outputs": [],
   "source": [
    "def foo2():\n",
    "    print(\"in the foo\")\n",
    "    bar2()\n",
    "\n",
    "foo2()\n",
    "def bar2():\n",
    "    print(\"in the bar\")"
   ]
  },
  {
   "cell_type": "markdown",
   "metadata": {},
   "source": [
    "第二段代码报错：\n",
    "\n",
    "    NameError: name 'bar2' is not defined"
   ]
  },
  {
   "cell_type": "markdown",
   "metadata": {},
   "source": [
    "**定义变量：**\n",
    "\n",
    "如：定义变量：x=1,会在内存中找块内存空间把“1”存进去，把“1”的内存地址给x \n",
    "\n",
    "**函数即变量**"
   ]
  },
  {
   "cell_type": "code",
   "execution_count": null,
   "metadata": {
    "collapsed": true
   },
   "outputs": [],
   "source": [
    "# 定义函数\n",
    "def test():\n",
    "    pass\n",
    "\n",
    "# 就相当于把函数体赋值给test变量\n",
    "test = '函数体'  # 函数体就是一堆字符串而已\n",
    "# 只不过函数调用要加上小括号调用\n",
    "test()"
   ]
  },
  {
   "cell_type": "markdown",
   "metadata": {},
   "source": [
    "**python内存回收机制**"
   ]
  },
  {
   "cell_type": "markdown",
   "metadata": {},
   "source": [
    "    解释器到底怎么去回收这个变量？ \n",
    "    python解释器当中有种概念叫做引用计数。什么叫引用计数呢？ \n",
    "    比如：定义x=1，之后又定义了y=1或y=x，实际上又把内存空间“1”的内存地址赋值给y \n",
    "    这里x代表一次引用，y代表一次引用。加起来两次引用。 \n",
    "    python什么时候会把“1”这个内存空间清空呢？会回收内存呢？ \n",
    "    当x这个变量没有了，y这个变量也没有了，便会把“1”这个内存空间清掉\n",
    "\n",
    "    del x  # 删的只是变量名，内存中的值是解释器回收"
   ]
  },
  {
   "cell_type": "markdown",
   "metadata": {},
   "source": [
    "**匿名函数**"
   ]
  },
  {
   "cell_type": "code",
   "execution_count": null,
   "metadata": {
    "collapsed": true
   },
   "outputs": [],
   "source": [
    "\n",
    "lambda x:x*x\n",
    "\n",
    "匿名函数没有函数名，没有引用，所以会被垃圾回收机制立马回收掉。 \n",
    "所以匿名函数要赋值给变量，把函数体赋值给变量名\n",
    "\n",
    "calc = lambda x:x*x\n",
    "print(calc(4))\n",
    "\n",
    "现在可以再理解下最开始两段代码能不能运行的原因。 "
   ]
  },
  {
   "cell_type": "markdown",
   "metadata": {},
   "source": [
    "### 3.1.1 高阶函数(装饰器前奏) \n",
    "\n",
    "什么叫高阶函数呢：\n",
    "\n",
    "    把一个函数名当做形实传给另外一个函数\n",
    "    返回值中包含函数名"
   ]
  },
  {
   "cell_type": "code",
   "execution_count": 19,
   "metadata": {},
   "outputs": [
    {
     "name": "stdout",
     "output_type": "stream",
     "text": [
      "<function f1 at 0x000001AA1ACA4158>\n"
     ]
    }
   ],
   "source": [
    "def f1():\n",
    "    print(\"in the func1\")\n",
    "\n",
    "def test1(func):\n",
    "    print(func)\n",
    "\n",
    "test1(f1)  # 运行结果(打印内存地址)"
   ]
  },
  {
   "cell_type": "code",
   "execution_count": 20,
   "metadata": {},
   "outputs": [
    {
     "name": "stdout",
     "output_type": "stream",
     "text": [
      "<function f1 at 0x000001AA1ACA4400>\n",
      "in the func1\n"
     ]
    }
   ],
   "source": [
    "# 如下代码，能不能运行：\n",
    "def f1():\n",
    "    print(\"in the func1\")\n",
    "\n",
    "def test1(func):\n",
    "    print(func)\n",
    "    func()\n",
    "\n",
    "test1(f1)"
   ]
  },
  {
   "cell_type": "markdown",
   "metadata": {},
   "source": [
    "函数即变量，像“x=1,y=x”，同样f是一个是一个函数，可不可以像一个变量一样来回赋值呢？"
   ]
  },
  {
   "cell_type": "code",
   "execution_count": 21,
   "metadata": {},
   "outputs": [
    {
     "name": "stdout",
     "output_type": "stream",
     "text": [
      "in the func1\n",
      "the func run time is 1.0006282329559326\n"
     ]
    }
   ],
   "source": [
    "import time\n",
    "def func1():\n",
    "    print(\"in the func1\")\n",
    "    time.sleep(1)\n",
    "    \n",
    "def test1(func):\n",
    "    start_time = time.time()\n",
    "    func()\n",
    "    stop_time = time.time()\n",
    "    print(\"the func run time is %s\" %(stop_time-start_time))\n",
    "\n",
    "test1(func1)"
   ]
  },
  {
   "cell_type": "markdown",
   "metadata": {},
   "source": [
    "    到这里，貌似实现了装饰函数的功能。 \n",
    "    看上面装饰器的原则： \n",
    "    这里：没有修改func1的源代码，但是调用方式改变了。现在是test1(func1)，之前是func1() \n",
    "    现在能做到哪一点呢？ \n",
    "    \n",
    "    把一个函数名当做实参传给另外一个函数（不修改被装饰的函数源代码的情况下为其添加功能）"
   ]
  },
  {
   "cell_type": "markdown",
   "metadata": {},
   "source": [
    "下面用第二个条件（返回值中包含函数名），做另外一个高阶函数"
   ]
  },
  {
   "cell_type": "code",
   "execution_count": 22,
   "metadata": {},
   "outputs": [
    {
     "name": "stdout",
     "output_type": "stream",
     "text": [
      "<function func2 at 0x000001AA1ABC7950>\n",
      "<function func2 at 0x000001AA1ABC7950>\n"
     ]
    }
   ],
   "source": [
    "import time\n",
    "\n",
    "def func2():\n",
    "    time.sleep(1)\n",
    "    print(\"in the func2\")\n",
    "def test2(func):\n",
    "    print(func)\n",
    "    return(func)\n",
    "\n",
    "print(test2(func2))"
   ]
  },
  {
   "cell_type": "markdown",
   "metadata": {},
   "source": [
    "把函数内存地址都打印出来了，看到这么多内存地址，有什么想法？ \n",
    "\n",
    "加上小括号就能运行。 \n",
    "\n",
    "上面代码“test2(func2())”和“test2(func2)”有什么区别？加上小括号是函数返回结果，不加是函数内存地址。所以加上小括号就不符合高阶函数定义了。 \n",
    "\n",
    "既然以后有了函数的内存地址，是不是可以赋值给其他变量？"
   ]
  },
  {
   "cell_type": "code",
   "execution_count": 24,
   "metadata": {},
   "outputs": [
    {
     "name": "stdout",
     "output_type": "stream",
     "text": [
      "<function func2 at 0x000001AA1ACBCD90>\n",
      "in the func2\n"
     ]
    }
   ],
   "source": [
    "import time\n",
    "\n",
    "def func2():\n",
    "    print(\"in the func2\")\n",
    "    time.sleep(1)\n",
    "    \n",
    "def test2(func):\n",
    "    print(func)\n",
    "    return(func)\n",
    "\n",
    "func2 = (test2(func2))\n",
    "func2()"
   ]
  },
  {
   "cell_type": "markdown",
   "metadata": {},
   "source": [
    "这就是高阶函数的第二个好处：返回值中包含函数名（不修改函数的调用方式）"
   ]
  },
  {
   "cell_type": "markdown",
   "metadata": {},
   "source": [
    "### 3.1.2 嵌套函数（装饰器前戏）"
   ]
  },
  {
   "cell_type": "markdown",
   "metadata": {},
   "source": [
    "嵌套函数：在一个函数体内，用def去声明一个函数"
   ]
  },
  {
   "cell_type": "code",
   "execution_count": 25,
   "metadata": {},
   "outputs": [
    {
     "name": "stdout",
     "output_type": "stream",
     "text": [
      "in the foo\n",
      "in the bar\n"
     ]
    }
   ],
   "source": [
    "def foo():\n",
    "    print(\"in the foo\")\n",
    "    def bar():\n",
    "        print(\"in the bar\")\n",
    "    bar()\n",
    "\n",
    "foo()"
   ]
  },
  {
   "cell_type": "code",
   "execution_count": null,
   "metadata": {
    "collapsed": true
   },
   "outputs": [],
   "source": [
    "注意 函数嵌套和函数调用是不同的"
   ]
  },
  {
   "cell_type": "code",
   "execution_count": null,
   "metadata": {
    "collapsed": true
   },
   "outputs": [],
   "source": [
    "def foo():\n",
    "    print(\"in the foo\")\n",
    "def bar():\n",
    "    foo()\n",
    "\n",
    "bar()"
   ]
  },
  {
   "cell_type": "code",
   "execution_count": null,
   "metadata": {
    "collapsed": true
   },
   "outputs": [],
   "source": [
    "局部作用域和全局作用域的访问顺序："
   ]
  },
  {
   "cell_type": "code",
   "execution_count": 26,
   "metadata": {},
   "outputs": [
    {
     "name": "stdout",
     "output_type": "stream",
     "text": [
      "3\n"
     ]
    }
   ],
   "source": [
    "x = 0\n",
    "def grandpa():\n",
    "    # x = 1\n",
    "    def dad():\n",
    "        x = 2\n",
    "        def son():\n",
    "            x = 3\n",
    "            print(x)\n",
    "        son()\n",
    "    dad()\n",
    "    \n",
    "grandpa()"
   ]
  },
  {
   "cell_type": "markdown",
   "metadata": {},
   "source": [
    "## 3.2 装饰器实例"
   ]
  },
  {
   "cell_type": "code",
   "execution_count": 29,
   "metadata": {},
   "outputs": [
    {
     "name": "stdout",
     "output_type": "stream",
     "text": [
      "in the test1\n",
      "the func tun time is 1.000476360321045\n",
      "in the test2\n",
      "the func tun time is 1.000396728515625\n"
     ]
    }
   ],
   "source": [
    "import time\n",
    "\n",
    "def deco(func):\n",
    "    start_time = time.time()\n",
    "    func()\n",
    "    stop_time = time.time()\n",
    "    print(\"the func tun time is %s\" %(stop_time-start_time))\n",
    "    \n",
    "def test1():\n",
    "    time.sleep(1)\n",
    "    print(\"in the test1\")\n",
    "          \n",
    "def test2():\n",
    "    time.sleep(1)\n",
    "    print(\"in the test2\")\n",
    "\n",
    "          \n",
    "deco(test1)\n",
    "deco(test2)"
   ]
  },
  {
   "cell_type": "code",
   "execution_count": null,
   "metadata": {
    "collapsed": true
   },
   "outputs": [],
   "source": [
    "按照上面说的，如何实现不改变调用方式？直接“test1 = deco(test1)”和“test2 = deco(test2)”吗？ \n",
    "别忘记了，第二种方式，高阶函数要加上return，如下"
   ]
  },
  {
   "cell_type": "code",
   "execution_count": 2,
   "metadata": {},
   "outputs": [
    {
     "name": "stdout",
     "output_type": "stream",
     "text": [
      "in the test1\n",
      "in the test2\n"
     ]
    },
    {
     "ename": "TypeError",
     "evalue": "'NoneType' object is not callable",
     "output_type": "error",
     "traceback": [
      "\u001b[0;31m---------------------------------------------------------------------------\u001b[0m",
      "\u001b[0;31mTypeError\u001b[0m                                 Traceback (most recent call last)",
      "\u001b[0;32m<ipython-input-2-0882f13a4a9f>\u001b[0m in \u001b[0;36m<module>\u001b[0;34m()\u001b[0m\n\u001b[1;32m     19\u001b[0m \u001b[0mtest2\u001b[0m \u001b[0;34m=\u001b[0m \u001b[0mdeco\u001b[0m\u001b[0;34m(\u001b[0m\u001b[0mtest2\u001b[0m\u001b[0;34m)\u001b[0m\u001b[0;34m\u001b[0m\u001b[0m\n\u001b[1;32m     20\u001b[0m \u001b[0;34m\u001b[0m\u001b[0m\n\u001b[0;32m---> 21\u001b[0;31m \u001b[0mdeco\u001b[0m\u001b[0;34m(\u001b[0m\u001b[0mtest1\u001b[0m\u001b[0;34m)\u001b[0m\u001b[0;34m\u001b[0m\u001b[0m\n\u001b[0m\u001b[1;32m     22\u001b[0m \u001b[0mdeco\u001b[0m\u001b[0;34m(\u001b[0m\u001b[0mtest2\u001b[0m\u001b[0;34m)\u001b[0m\u001b[0;34m\u001b[0m\u001b[0m\n",
      "\u001b[0;32m<ipython-input-2-0882f13a4a9f>\u001b[0m in \u001b[0;36mdeco\u001b[0;34m(func)\u001b[0m\n\u001b[1;32m      3\u001b[0m \u001b[0;32mdef\u001b[0m \u001b[0mdeco\u001b[0m\u001b[0;34m(\u001b[0m\u001b[0mfunc\u001b[0m\u001b[0;34m)\u001b[0m\u001b[0;34m:\u001b[0m\u001b[0;34m\u001b[0m\u001b[0m\n\u001b[1;32m      4\u001b[0m     \u001b[0mstart_time\u001b[0m \u001b[0;34m=\u001b[0m \u001b[0mtime\u001b[0m\u001b[0;34m.\u001b[0m\u001b[0mtime\u001b[0m\u001b[0;34m(\u001b[0m\u001b[0;34m)\u001b[0m\u001b[0;34m\u001b[0m\u001b[0m\n\u001b[0;32m----> 5\u001b[0;31m     \u001b[0;32mreturn\u001b[0m \u001b[0mfunc\u001b[0m\u001b[0;34m(\u001b[0m\u001b[0;34m)\u001b[0m\u001b[0;34m\u001b[0m\u001b[0m\n\u001b[0m\u001b[1;32m      6\u001b[0m     \u001b[0mstop_time\u001b[0m \u001b[0;34m=\u001b[0m \u001b[0mtime\u001b[0m\u001b[0;34m.\u001b[0m\u001b[0mtime\u001b[0m\u001b[0;34m(\u001b[0m\u001b[0;34m)\u001b[0m\u001b[0;34m\u001b[0m\u001b[0m\n\u001b[1;32m      7\u001b[0m     \u001b[0mprint\u001b[0m\u001b[0;34m(\u001b[0m\u001b[0;34m\"the func tun time is %s\"\u001b[0m \u001b[0;34m%\u001b[0m\u001b[0;34m(\u001b[0m\u001b[0mstop_time\u001b[0m\u001b[0;34m-\u001b[0m\u001b[0mstart_time\u001b[0m\u001b[0;34m)\u001b[0m\u001b[0;34m)\u001b[0m\u001b[0;34m\u001b[0m\u001b[0m\n",
      "\u001b[0;31mTypeError\u001b[0m: 'NoneType' object is not callable"
     ]
    }
   ],
   "source": [
    "import time\n",
    "\n",
    "def deco(func):\n",
    "    start_time = time.time()\n",
    "    return func()\n",
    "    stop_time = time.time()\n",
    "    print(\"the func tun time is %s\" %(stop_time-start_time))\n",
    "    \n",
    "def test1():\n",
    "    time.sleep(1)\n",
    "    print(\"in the test1\")\n",
    "    \n",
    "def test2():\n",
    "    time.sleep(1)\n",
    "    print(\"in the test2\")\n",
    "\n",
    "    \n",
    "test1 = deco(test1)\n",
    "test2 = deco(test2)\n",
    "\n",
    "deco(test1)\n",
    "deco(test2)"
   ]
  },
  {
   "cell_type": "markdown",
   "metadata": {},
   "source": [
    "虽然没有修改源代码和调用方式，但是函数加上return，函数就结束了，然并卵。怎么实现呢？ \n",
    "前面一直在用高阶函数，还没有用嵌套函数，加上嵌套函数能不能实现呢？看一下"
   ]
  },
  {
   "cell_type": "code",
   "execution_count": 5,
   "metadata": {},
   "outputs": [
    {
     "name": "stdout",
     "output_type": "stream",
     "text": [
      "<function timer.<locals>.deco at 0x105ee4b70>\n",
      "in the test1\n",
      "the func tun time is 1.0053858757019043\n",
      "in the test2\n",
      "the func tun time is 1.0036380290985107\n"
     ]
    }
   ],
   "source": [
    "import time\n",
    "\n",
    "def timer(func):  # timer(test1)  func=test1\n",
    "    def deco():\n",
    "        start_time = time.time()\n",
    "        func()\n",
    "        stop_time = time.time()\n",
    "        print(\"the func tun time is %s\" %(stop_time-start_time))\n",
    "    return deco  # 返回deco的内存地址\n",
    "\n",
    "def test1():\n",
    "    time.sleep(1)\n",
    "    print(\"in the test1\")\n",
    "    \n",
    "def test2():\n",
    "    time.sleep(1)\n",
    "    print(\"in the test2\")\n",
    "\n",
    "print(timer(test1))  # 可见：返回deco的内存地址\n",
    "test1 = timer(test1)\n",
    "test1()\n",
    "timer(test2)()"
   ]
  },
  {
   "cell_type": "markdown",
   "metadata": {},
   "source": [
    "到此，完成实现了装饰器的功能。但是还是有点麻烦，如何能不要“test1 = timer(test1)”， \n",
    "python解释器提供了语法糖“@”符合，给哪个函数新增功能，就加在哪个函数头部"
   ]
  },
  {
   "cell_type": "code",
   "execution_count": 32,
   "metadata": {},
   "outputs": [
    {
     "name": "stdout",
     "output_type": "stream",
     "text": [
      "in the test1\n",
      "the func tun time is 1.0004403591156006\n",
      "in the test2\n",
      "the func tun time is 1.0002806186676025\n"
     ]
    }
   ],
   "source": [
    "import time\n",
    "\n",
    "def timer(func):  # timer(test1)  func=test1\n",
    "    def deco():\n",
    "        start_time = time.time()\n",
    "        func()\n",
    "        stop_time = time.time()\n",
    "        print(\"the func tun time is %s\" %(stop_time-start_time))\n",
    "    return deco  # 返回deco的内存地址\n",
    "\n",
    "@timer\n",
    "def test1():\n",
    "    time.sleep(1)\n",
    "    print(\"in the test1\")\n",
    "    \n",
    "@timer\n",
    "def test2():\n",
    "    time.sleep(1)\n",
    "    print(\"in the test2\")\n",
    "\n",
    "test1()\n",
    "test2()"
   ]
  },
  {
   "cell_type": "markdown",
   "metadata": {},
   "source": [
    "## 3.3 装饰器语法"
   ]
  },
  {
   "cell_type": "markdown",
   "metadata": {},
   "source": [
    "### 3.1.1 无参数装饰器"
   ]
  },
  {
   "cell_type": "code",
   "execution_count": 6,
   "metadata": {},
   "outputs": [
    {
     "name": "stdout",
     "output_type": "stream",
     "text": [
      "<function foo at 0x105e52bf8>\n"
     ]
    }
   ],
   "source": [
    "def deco(func):  \n",
    "    print(func)  \n",
    "    return(func)  \n",
    "\n",
    "@deco  \n",
    "def foo():\n",
    "    pass\n",
    "\n",
    "foo()  "
   ]
  },
  {
   "cell_type": "markdown",
   "metadata": {},
   "source": [
    "第一个函数deco是装饰函数，它的参数就是被装饰的函数对象。我们可以在deco函数内对传入的函数对象做一番“装饰”，然后返回这个对象（记住一定要返回 ，不然外面调用foo的地方将会无函数可用。实际上此时foo=deco(foo)）"
   ]
  },
  {
   "cell_type": "markdown",
   "metadata": {},
   "source": [
    "### 3.1.2 写了个小例子，检查函数有没有说明文档："
   ]
  },
  {
   "cell_type": "code",
   "execution_count": 7,
   "metadata": {},
   "outputs": [
    {
     "name": "stdout",
     "output_type": "stream",
     "text": [
      "<function f at 0x105ee81e0> has no __doc__, it's a bad habit.\n",
      "<function g at 0x105ee88c8> : I have a __doc__ .\n",
      "f() Do something\n",
      "g() Do something\n"
     ]
    }
   ],
   "source": [
    "def deco_functionNeedDoc(func):  \n",
    "    if func.__doc__ == None :  \n",
    "        print(func, \"has no __doc__, it's a bad habit.\")\n",
    "    else:  \n",
    "        print(func, ':', func.__doc__, '.')  \n",
    "    return func  \n",
    "\n",
    "@deco_functionNeedDoc  \n",
    "def f():  \n",
    "    print('f() Do something')\n",
    "    \n",
    "@deco_functionNeedDoc  \n",
    "def g():  \n",
    "    'I have a __doc__'  \n",
    "    print('g() Do something')\n",
    "    \n",
    "\n",
    "f()  \n",
    "g()  "
   ]
  },
  {
   "cell_type": "markdown",
   "metadata": {},
   "source": [
    "## 3.3.3 有参数装饰器\n",
    "\n",
    "前面实现了装饰器的功能，但是如果函数有参数，能不能也能运行呢"
   ]
  },
  {
   "cell_type": "code",
   "execution_count": 9,
   "metadata": {},
   "outputs": [
    {
     "name": "stdout",
     "output_type": "stream",
     "text": [
      "python <function foo at 0x105ef98c8>\n"
     ]
    },
    {
     "data": {
      "text/plain": [
       "'python'"
      ]
     },
     "execution_count": 9,
     "metadata": {},
     "output_type": "execute_result"
    }
   ],
   "source": [
    "def decomaker(arg):  \n",
    "    '通常对arg会有一定的要求'  \n",
    "    \"\"\"由于有参数的decorator函数在调用时只会使用应用时的参数  \n",
    "       而不接收被装饰的函数做为参数，所以必须在其内部再创建  \n",
    "       一个函数  \n",
    "    \"\"\"  \n",
    "    def newDeco(func):    #定义一个新的decorator函数  \n",
    "        print(func, arg)  \n",
    "        return(func)  \n",
    "    return newDeco  \n",
    "\n",
    "@decomaker\n",
    "def foo(name):\n",
    "    pass\n",
    "\n",
    "foo(\"python\")"
   ]
  },
  {
   "cell_type": "markdown",
   "metadata": {},
   "source": [
    "第一个函数decomaker是装饰函数，它的参数是用来加强“加强装饰”的。由于此函数并非被装饰的函数对象，所以在内部必须至少创建一个接受被装饰函数的函数，然后返回这个对象（实际上此时foo=decomaker(arg)(foo)）"
   ]
  },
  {
   "cell_type": "markdown",
   "metadata": {},
   "source": [
    "一个错误的例子"
   ]
  },
  {
   "cell_type": "code",
   "execution_count": 8,
   "metadata": {},
   "outputs": [
    {
     "name": "stdout",
     "output_type": "stream",
     "text": [
      "in the test1\n",
      "the func tun time is 1.0035510063171387\n"
     ]
    },
    {
     "ename": "TypeError",
     "evalue": "deco() takes 0 positional arguments but 1 was given",
     "output_type": "error",
     "traceback": [
      "\u001b[0;31m---------------------------------------------------------------------------\u001b[0m",
      "\u001b[0;31mTypeError\u001b[0m                                 Traceback (most recent call last)",
      "\u001b[0;32m<ipython-input-8-b685222a715b>\u001b[0m in \u001b[0;36m<module>\u001b[0;34m()\u001b[0m\n\u001b[1;32m     19\u001b[0m \u001b[0;34m\u001b[0m\u001b[0m\n\u001b[1;32m     20\u001b[0m \u001b[0mtest1\u001b[0m\u001b[0;34m(\u001b[0m\u001b[0;34m)\u001b[0m\u001b[0;34m\u001b[0m\u001b[0m\n\u001b[0;32m---> 21\u001b[0;31m \u001b[0mtest2\u001b[0m\u001b[0;34m(\u001b[0m\u001b[0;34m'python'\u001b[0m\u001b[0;34m)\u001b[0m\u001b[0;34m\u001b[0m\u001b[0m\n\u001b[0m",
      "\u001b[0;31mTypeError\u001b[0m: deco() takes 0 positional arguments but 1 was given"
     ]
    }
   ],
   "source": [
    "import time\n",
    "def timer(func):  # timer(test1)  func=test1\n",
    "    def deco():\n",
    "        start_time = time.time()\n",
    "        func()\n",
    "        stop_time = time.time()\n",
    "        print(\"the func tun time is %s\" %(stop_time-start_time))\n",
    "    return deco  # 返回deco的内存地址\n",
    "\n",
    "@timer\n",
    "def test1():\n",
    "    time.sleep(1)\n",
    "    print(\"in the test1\")\n",
    "    \n",
    "@timer\n",
    "def test2(name):\n",
    "    time.sleep(1)\n",
    "    print(\"in the test2\",name)\n",
    "\n",
    "test1()\n",
    "test2('python')"
   ]
  },
  {
   "cell_type": "markdown",
   "metadata": {},
   "source": [
    "修改代码 \n",
    "\n",
    "    @timer 相当于 test2=timer(test2) =deco \n",
    "    test2() 相当于运行deco()，所以没指定参数，报错。 \n",
    "    如何传参数呢？为了适应各种不同参数的函数"
   ]
  },
  {
   "cell_type": "code",
   "execution_count": 40,
   "metadata": {
    "scrolled": true
   },
   "outputs": [
    {
     "name": "stdout",
     "output_type": "stream",
     "text": [
      "in the test1\n",
      "the func tun time is 1.0002033710479736\n",
      "in the test2 fgf\n",
      "the func tun time is 1.0015861988067627\n"
     ]
    }
   ],
   "source": [
    "import time\n",
    "def timer(func):  # timer(test1)  func=test1\n",
    "    def deco(*args,**kwargs):\n",
    "        start_time = time.time()\n",
    "        func(*args,**kwargs)\n",
    "        stop_time = time.time()\n",
    "        print(\"the func tun time is %s\" %(stop_time-start_time))\n",
    "    return deco  # 返回deco的内存地址\n",
    "\n",
    "@timer\n",
    "def test1():\n",
    "    time.sleep(1)\n",
    "    print(\"in the test1\")\n",
    "    \n",
    "@timer\n",
    "def test2(name):\n",
    "    time.sleep(1)\n",
    "    print(\"in the test2\",name)\n",
    "\n",
    "test1()\n",
    "test2(\"fgf\")"
   ]
  },
  {
   "cell_type": "markdown",
   "metadata": {},
   "source": [
    "## 3.4 终极装饰器\n",
    "\n",
    "注意，上面的例子中还没有涉及返回值，看下面的例子可以体会一下 \n",
    "假设：公司网站需要验证登录，有不同的验证方式：本地认证、LDAP认证等"
   ]
  },
  {
   "cell_type": "code",
   "execution_count": null,
   "metadata": {},
   "outputs": [],
   "source": []
  },
  {
   "cell_type": "code",
   "execution_count": 43,
   "metadata": {
    "scrolled": true
   },
   "outputs": [
    {
     "name": "stdout",
     "output_type": "stream",
     "text": [
      "welcome to index page\n",
      "wrapper func args:\n",
      "Username:ddd\n",
      "Password:fefew\n",
      "\u001b[31;1mInvalid username or password\u001b[0m\n",
      "None\n"
     ]
    }
   ],
   "source": [
    "#/usr/bin/env python\n",
    "# -*- coding: UTF-8 -*-\n",
    "\n",
    "import time\n",
    "user,passwd = 'fgf','abc123'\n",
    "def auth(auth_type):  #装饰器参数\n",
    "    #print(\"auth func:\",auth_type)\n",
    "    def outer_wrapper(func):  #被装饰的函数\n",
    "        def wrapper(*args, **kwargs):\n",
    "            print(\"wrapper func args:\", *args, **kwargs) #函数参数，无\n",
    "            if auth_type == \"local\":\n",
    "                username = input(\"Username:\").strip()\n",
    "                password = input(\"Password:\").strip()\n",
    "                if user == username and passwd == password:\n",
    "                    print(\"\\033[32;1mUser has passed authentication\\033[0m\")\n",
    "                    res = func(*args, **kwargs)  # from home\n",
    "                    print(\"---after authenticaion \")\n",
    "                    return res\n",
    "                else:\n",
    "                    print(\"\\033[31;1mInvalid username or password\\033[0m\")\n",
    "                    exit(\"\\033[31;1mInvalid username or password\\033[0m\")\n",
    "            elif auth_type == \"ldap\":\n",
    "                print(\"搞毛线ldap,不会。。。。\")\n",
    "\n",
    "        return wrapper\n",
    "    return outer_wrapper\n",
    "\n",
    "def index():\n",
    "    print(\"welcome to index page\")\n",
    "    \n",
    "@auth(auth_type=\"local\") # home = wrapper()\n",
    "def home():\n",
    "    print(\"welcome to home  page\")\n",
    "    return \"from home\"\n",
    "\n",
    "@auth(auth_type=\"ldap\")\n",
    "def bbs():\n",
    "    print(\"welcome to bbs  page\")\n",
    "\n",
    "index()\n",
    "print(home()) #wrapper()\n",
    "#bbs()"
   ]
  },
  {
   "cell_type": "markdown",
   "metadata": {},
   "source": [
    "最简单的模板是这样的"
   ]
  },
  {
   "cell_type": "code",
   "execution_count": 26,
   "metadata": {
    "scrolled": true
   },
   "outputs": [
    {
     "name": "stdout",
     "output_type": "stream",
     "text": [
      "before\n",
      "test\n",
      "after\n"
     ]
    }
   ],
   "source": [
    "#-*-coding:utf-8-*-\n",
    "\n",
    "def outer(func):\n",
    "    def inner():\n",
    "        print('before')\n",
    "        func()\n",
    "        print('after')\n",
    "        # return r\n",
    "    return inner\n",
    "'''\n",
    "def outer_1(func):\n",
    "    def inner():\n",
    "        print 'before 11'\n",
    "        func()\n",
    "        print 'after 22'\n",
    "        # return r\n",
    "    return inner\n",
    "\n",
    "@outer_1\n",
    "'''\n",
    "@outer\n",
    "def F1():\n",
    "    print('test')\n",
    "\n",
    "\n",
    "F1()\n"
   ]
  },
  {
   "cell_type": "markdown",
   "metadata": {},
   "source": [
    "函数带多个参数，装饰器对应修改以适合多种情"
   ]
  },
  {
   "cell_type": "code",
   "execution_count": 28,
   "metadata": {},
   "outputs": [
    {
     "name": "stdout",
     "output_type": "stream",
     "text": [
      "[Sat Apr 21 23:17:29 2018] foo() called\n",
      "()\n",
      "{}\n",
      "[Sat Apr 21 23:17:29 2018] foo() called\n",
      "(1,)\n",
      "{}\n",
      "[Sat Apr 21 23:17:29 2018] foo() called\n",
      "(1, 2)\n",
      "{}\n",
      "[Sat Apr 21 23:17:29 2018] foo() called\n",
      "(1, 2, 3)\n",
      "{}\n",
      "[Sat Apr 21 23:17:29 2018] foo() called\n",
      "(1, 2, 3)\n",
      "{'name': 'alam', 'age': 12}\n"
     ]
    }
   ],
   "source": [
    "# -*- coding: utf-8 -*-\n",
    "\n",
    "from time import ctime\n",
    "from time import sleep\n",
    "\n",
    "def ftfunc(func):\n",
    "    def timef(*s,**gs):\n",
    "        print(\"[%s] %s() called\" % (ctime(),func.__name__))\n",
    "        return func(*s,**gs)\n",
    "    return timef\n",
    "\n",
    "@ftfunc\n",
    "def foo(*s,**gs):\n",
    "    print(s)\n",
    "    print(gs)\n",
    "\n",
    "if __name__ == '__main__':\n",
    "    foo()\n",
    "    foo(1)\n",
    "    foo(1,2)\n",
    "    foo(1,2,3)\n",
    "    stu = {'name' : 'alam' ,'age' :12}\n",
    "    foo(1,2,3,**stu)\n"
   ]
  },
  {
   "cell_type": "markdown",
   "metadata": {},
   "source": [
    "函数带多个参数，装饰器也带多个参数"
   ]
  },
  {
   "cell_type": "code",
   "execution_count": 37,
   "metadata": {},
   "outputs": [
    {
     "name": "stdout",
     "output_type": "stream",
     "text": [
      "decrator param: (1,) {'a': 2}\n"
     ]
    }
   ],
   "source": [
    "# -*- coding: utf-8 -*-\n",
    "\n",
    "def decrator(*dargs, **dkargs):   #装饰器参数\n",
    "    print(\"decrator param:\", dargs, dkargs)  \n",
    "    def wrapper(func):\n",
    "        def _wrapper(*args, **kargs):\n",
    "            print(\"decrator param:\", dargs, dkargs) \n",
    "            print(\"function param:\", args, kargs)\n",
    "            return func(*args, **kargs)\n",
    "        return _wrapper\n",
    "    return wrapper\n",
    "\n",
    "@decrator(1, a=2)  #执行装饰器， 此时 func为None\n",
    "def foo(x, y=0):\n",
    "    print(\"foo\", x, y)\n"
   ]
  },
  {
   "cell_type": "code",
   "execution_count": 38,
   "metadata": {
    "scrolled": true
   },
   "outputs": [
    {
     "name": "stdout",
     "output_type": "stream",
     "text": [
      "decrator param: (1,) {'a': 2}\n",
      "function param: (3,) {'y': 4}\n",
      "foo 3 4\n"
     ]
    }
   ],
   "source": [
    "foo(3, y=4)"
   ]
  },
  {
   "cell_type": "markdown",
   "metadata": {},
   "source": [
    "函数带多个参数，装饰器能转换参数类型"
   ]
  },
  {
   "cell_type": "code",
   "execution_count": 41,
   "metadata": {},
   "outputs": [
    {
     "name": "stdout",
     "output_type": "stream",
     "text": [
      "v {'x': <class 'int'>, 'y': <class 'float'>, 'z': <class 'float'>}\n",
      "k {'x': '1', 'y': '0.2', 'z': '0.3'}\n",
      "move 1 (0.20, 0.30)\n"
     ]
    }
   ],
   "source": [
    "# -*- coding: utf-8 -*-\n",
    "\n",
    "def validate(**vkargs): #  装饰器参数\n",
    "    def decorator(func): #   被装饰的函数\n",
    "        def wrapper(**kargs): #函数参数\n",
    "            print('v', vkargs)\n",
    "            print('k', kargs)\n",
    "            for key in vkargs: \n",
    "                # 根据vkargs中的参数的类型对kargs的参数进行类型转换\n",
    "                kargs[key] = vkargs[key](kargs[key])\n",
    "            return func(**kargs)\n",
    "        return wrapper\n",
    "    return decorator\n",
    "\n",
    "\n",
    "@validate(x=int, y=float, z=float)\n",
    "def move(x, y, z):\n",
    "    print(\"move %d (%0.2f, %0.2f)\"%(x, y, z))\n",
    "\n",
    "\n",
    "\n",
    "if __name__ == '__main__':\n",
    "    move(x=\"1\", y=\"0.2\", z=\"0.3\")"
   ]
  }
 ],
 "metadata": {
  "kernelspec": {
   "display_name": "Python 3",
   "language": "python",
   "name": "python3"
  },
  "language_info": {
   "codemirror_mode": {
    "name": "ipython",
    "version": 3
   },
   "file_extension": ".py",
   "mimetype": "text/x-python",
   "name": "python",
   "nbconvert_exporter": "python",
   "pygments_lexer": "ipython3",
   "version": "3.6.4"
  },
  "toc": {
   "nav_menu": {},
   "number_sections": false,
   "sideBar": true,
   "skip_h1_title": false,
   "title_cell": "Table of Contents",
   "title_sidebar": "Contents",
   "toc_cell": false,
   "toc_position": {},
   "toc_section_display": true,
   "toc_window_display": false
  }
 },
 "nbformat": 4,
 "nbformat_minor": 2
}
