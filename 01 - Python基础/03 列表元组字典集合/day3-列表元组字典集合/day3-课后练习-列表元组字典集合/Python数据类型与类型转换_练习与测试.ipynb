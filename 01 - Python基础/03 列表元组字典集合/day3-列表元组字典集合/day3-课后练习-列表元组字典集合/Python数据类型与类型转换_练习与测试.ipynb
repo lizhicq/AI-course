{
 "cells": [
  {
   "cell_type": "markdown",
   "metadata": {},
   "source": [
    "# Python 数据类型与类型转换\n",
    "\n",
    "在内存中存储的数据可以有多种类型。\n",
    "例如，一个人的年龄可以用数字来存储，他的名字可以用字符来存储。\n",
    "Python 定义了一些标准类型，用于存储各种类型的数据。\n",
    "Python有五个标准的数据类型：\n",
    "(数据类型 分为数字型和非数字型。数字型包括整型，长整型，浮点型，复数型；非数字型包括字符串，列表，元组和字典；)\n",
    "Numbers（数字）\n",
    "String（字符串）\n",
    "List（列表）\n",
    "Tuple（元组）\n",
    "Dictionary（字典）\n"
   ]
  },
  {
   "cell_type": "markdown",
   "metadata": {},
   "source": [
    "## 1 变量赋值\n",
    "\n",
    "Python 中的变量赋值不需要类型声明。每个变量在内存中创建，都包括变量的标识，名称和数据这些信息。每个变量在使用前都必须赋值，变量赋值以后该变量\n",
    "\n",
    "才会被创建。等号（=）用来给变量赋值。等号（=）运算符左边是一个变量名,等号（=）运算符右边是存储在变量中的值。\n",
    "\n"
   ]
  },
  {
   "cell_type": "markdown",
   "metadata": {},
   "source": [
    "### 练习1：\n",
    "\n",
    "在下列练习中，100，1000.0和\"John\"分别赋值给counter，miles，name变量，其中100同时赋值给buy,将17.0赋值给age。\n",
    "按照下列所给代码，依次输出，运行并观察，了解如何给变量赋值。\n",
    "\n",
    "代码如下：\n",
    "\n",
    "counter =buy = 100 # 赋值整型变量\n",
    "\n",
    "miles = 1000.0 # 浮点型\n",
    "\n",
    "name , age = \"John\",17.0 # 字符串与浮点型"
   ]
  },
  {
   "cell_type": "code",
   "execution_count": 3,
   "metadata": {},
   "outputs": [
    {
     "name": "stdout",
     "output_type": "stream",
     "text": [
      "100\n",
      "100\n",
      "1000.0\n",
      "John\n",
      "17.0\n"
     ]
    }
   ],
   "source": [
    "#please input your code here\n",
    "\n",
    "\n",
    "\n",
    "\n",
    " \n",
    "print (counter)\n",
    "print (buy)\n",
    "print (miles)\n",
    "print (name)\n",
    "print (age)"
   ]
  },
  {
   "cell_type": "markdown",
   "metadata": {
    "collapsed": true
   },
   "source": [
    "注：\n",
    "\n",
    "观察练习1，我们发现可以还同时给多个变量如 counter 与 buy 赋值，还可以对多个变量 name , age 同时赋不同类型的值。\n",
    "\n",
    "另外，值得补充的一点是：\n",
    "\n",
    "在Python中，等号=是赋值语句，可以把任意数据类型赋值给变量，同一个变量可以反复赋值，而且可以是不同类型的变量。大家可以自己尝试一下。"
   ]
  },
  {
   "cell_type": "markdown",
   "metadata": {},
   "source": [
    "## 2 Python数据类型转换\n",
    "\n",
    "有时候，我们需要对数据内置的类型进行转换，数据类型的转换，你只需要将数据类型作为函数名即可。\n",
    "以下几个内置的函数可以执行数据类型之间的转换。这些函数返回一个新的对象，表示转换的值。\n",
    "函数\t                                描述\n",
    "int(x [,base])                    将x转换为一个整数\n",
    "\n",
    "long(x [,base] )                  将x转换为一个长整数\n",
    "\n",
    "float(x)                          将x转换到一个浮点数\n",
    "\n",
    "complex(real [,imag])             创建一个复数\n",
    "\n",
    "str(x)                            将对象 x 转换为字符串\n",
    "\n",
    "repr(x)                           将对象 x 转换为表达式字符串\n",
    "\n",
    "eval(str)                         用来计算在字符串中的有效Python表达式,并返回一个对象\n",
    "\n",
    "tuple(s)                          将序列 s 转换为一个元组\n",
    "\n",
    "list(s)                           将序列 s 转换为一个列表\n",
    "\n",
    "set(s)                            转换为可变集合\n",
    "\n",
    "dict(d)                           创建一个字典。d 必须是一个序列 (key,value)元组。\n",
    "\n",
    "frozenset(s)                      转换为不可变集合\n",
    "\n",
    "chr(x)                            将一个整数转换为一个字符\n",
    "\n",
    "unichr(x)                         将一个整数转换为Unicode字符\n",
    "\n",
    "ord(x)                            将一个字符转换为它的整数值\n",
    "\n",
    "hex(x)                            将一个整数转换为一个十六进制字符串\n",
    "\n",
    "oct(x)                            将一个整数转换为一个八进制字符串\n",
    "\n",
    "\n",
    "下面撷取几个典型实例，练习探索一下。"
   ]
  },
  {
   "cell_type": "markdown",
   "metadata": {},
   "source": [
    "### 练习2.1 \n",
    "\n",
    "用代码实现分别输出数字5，10,32,7的二进制，八进制，十六进制表示：\n",
    "\n",
    "输出结果如下所示：\n",
    "\n",
    "5 : 0b101 0o5 0x5\n",
    "\n",
    "10 : 0b1010 0o12 0xa\n",
    "\n",
    "32 : 0b100000 0o40 0x20\n",
    "\n",
    "7 : 0b111 0o7 0x7"
   ]
  },
  {
   "cell_type": "code",
   "execution_count": 3,
   "metadata": {},
   "outputs": [
    {
     "name": "stdout",
     "output_type": "stream",
     "text": [
      "5 : 0b101 0o5 0x5\n",
      "10 : 0b1010 0o12 0xa\n",
      "32 : 0b100000 0o40 0x20\n",
      "7 : 0b111 0o7 0x7\n"
     ]
    }
   ],
   "source": [
    "#please input your code here\n",
    "\n",
    "\n",
    "\n",
    "\n"
   ]
  },
  {
   "cell_type": "markdown",
   "metadata": {
    "collapsed": true
   },
   "source": [
    "### 练习2.2\n",
    "\n",
    "请用代码实现下列转换：\n",
    "\n",
    "a. 将字符串 s=\"alex\" 转换成列表\n",
    "\n",
    "b. 将字符串 s=\"alex\" 转换成元祖"
   ]
  },
  {
   "cell_type": "code",
   "execution_count": null,
   "metadata": {
    "collapsed": true
   },
   "outputs": [],
   "source": [
    "#please input your code here\n",
    "\n",
    "\n",
    "\n",
    "\n",
    "\n"
   ]
  },
  {
   "cell_type": "markdown",
   "metadata": {},
   "source": [
    "### 练习2.3\n",
    "\n",
    "b. 将列表 li=[\"alex\",\"seven\"] 转换成元组\n",
    "\n",
    "c. 将元组 tu=('Alex',\"seven\") 转换成列表"
   ]
  },
  {
   "cell_type": "code",
   "execution_count": null,
   "metadata": {
    "collapsed": true
   },
   "outputs": [],
   "source": [
    "#please input your code here\n",
    "\n",
    "\n",
    "\n",
    "\n",
    "\n"
   ]
  },
  {
   "cell_type": "markdown",
   "metadata": {},
   "source": [
    "### 练习2.4\n",
    "\n",
    "现有\n",
    "\n",
    "a = [['1','2','5','6','8'],['4', '5', '8', '5', '8']]\n",
    "\n",
    "怎么可以使得string型的元素变成float型或者int型？\n"
   ]
  },
  {
   "cell_type": "code",
   "execution_count": 7,
   "metadata": {},
   "outputs": [
    {
     "name": "stdout",
     "output_type": "stream",
     "text": [
      "[[1.0, 2.0, 5.0, 6.0, 8.0], [4.0, 5.0, 8.0, 5.0, 8.0]]\n"
     ]
    }
   ],
   "source": [
    "#please input your code here\n",
    "#将string型的元素变成float型\n",
    "\n",
    "\n",
    "\n",
    "\n"
   ]
  },
  {
   "cell_type": "code",
   "execution_count": 8,
   "metadata": {},
   "outputs": [
    {
     "name": "stdout",
     "output_type": "stream",
     "text": [
      "[[1, 2, 5, 6, 8], [4, 5, 8, 5, 8]]\n"
     ]
    }
   ],
   "source": [
    "#please input your code here\n",
    "#将string型的元素变成int型\n",
    "\n",
    "\n",
    "\n"
   ]
  },
  {
   "cell_type": "markdown",
   "metadata": {
    "collapsed": true
   },
   "source": [
    "## 测试题1：\n",
    "\n",
    "请用encode 与 decode 实现下列转码：\n",
    "\n",
    "\n",
    "n=\"老男孩\"\n",
    "\n",
    "a. 将字符串转换成 utf-8 编码的字节，并输出，然后将该字节再转换成 utf-8 编码字符串，再输出;\n",
    "\n",
    "\n",
    "b. 将字符串转换成 gbk 编码的字节，并输出，然后将该字节再转换成 gbk 编码字符串，再输出:\n",
    "\n"
   ]
  },
  {
   "cell_type": "markdown",
   "metadata": {
    "collapsed": true
   },
   "source": [
    "encode与decode相关知识补充:\n",
    "\n",
    "\n",
    "函数示例1：\n",
    "\n",
    "'中文'.encode('utf-8')\n",
    "\n",
    "b'\\xe4\\xb8\\xad\\xe6\\x96\\x87'\n",
    "\n",
    "\n",
    "\n",
    "函数示例2：\n",
    "\n",
    "b'\\xe4\\xb8\\xad\\xe6\\x96\\x87'.decode('utf-8')\n",
    "\n",
    "'中文'\n"
   ]
  },
  {
   "cell_type": "code",
   "execution_count": null,
   "metadata": {
    "collapsed": true
   },
   "outputs": [],
   "source": [
    "#测试题1.a\n",
    "#please input your code here\n",
    "\n",
    "\n",
    "\n",
    "\n"
   ]
  },
  {
   "cell_type": "code",
   "execution_count": null,
   "metadata": {
    "collapsed": true
   },
   "outputs": [],
   "source": [
    "#测试题1.b\n",
    "#please input your code here\n",
    "\n",
    "\n",
    "\n",
    "\n"
   ]
  },
  {
   "cell_type": "markdown",
   "metadata": {},
   "source": [
    "## 参考文献：\n",
    "\n",
    "1.http://www.runoob.com/python3/python3-tutorial.html      python菜鸟教程\n",
    "2.https://www.liaoxuefeng.com/wiki/0014316089557264a6b348958f449949df42a6d3a2e542c000    廖雪峰python教程"
   ]
  },
  {
   "cell_type": "code",
   "execution_count": null,
   "metadata": {
    "collapsed": true
   },
   "outputs": [],
   "source": []
  }
 ],
 "metadata": {
  "kernelspec": {
   "display_name": "Python 3",
   "language": "python",
   "name": "python3"
  },
  "language_info": {
   "codemirror_mode": {
    "name": "ipython",
    "version": 3
   },
   "file_extension": ".py",
   "mimetype": "text/x-python",
   "name": "python",
   "nbconvert_exporter": "python",
   "pygments_lexer": "ipython3",
   "version": "3.6.3"
  }
 },
 "nbformat": 4,
 "nbformat_minor": 2
}
