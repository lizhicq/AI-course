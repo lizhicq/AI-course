{
 "cells": [
  {
   "cell_type": "markdown",
   "metadata": {},
   "source": [
    "## 练习1 - 按照要求实现每一个功能"
   ]
  },
  {
   "cell_type": "code",
   "execution_count": 1,
   "metadata": {},
   "outputs": [],
   "source": [
    "li = ['alex','eric','rain']"
   ]
  },
  {
   "cell_type": "code",
   "execution_count": 2,
   "metadata": {},
   "outputs": [
    {
     "data": {
      "text/plain": [
       "3"
      ]
     },
     "execution_count": 2,
     "metadata": {},
     "output_type": "execute_result"
    }
   ],
   "source": [
    "# a.计算列表长度并输出\n",
    "len(li)"
   ]
  },
  {
   "cell_type": "code",
   "execution_count": null,
   "metadata": {
    "collapsed": true
   },
   "outputs": [],
   "source": [
    "# b.列表中追加元素 “seven”，并输出添加后的列表"
   ]
  },
  {
   "cell_type": "code",
   "execution_count": 3,
   "metadata": {},
   "outputs": [],
   "source": [
    "li.append(\"seven\")"
   ]
  },
  {
   "cell_type": "code",
   "execution_count": 4,
   "metadata": {},
   "outputs": [
    {
     "data": {
      "text/plain": [
       "['alex', 'eric', 'rain', 'seven']"
      ]
     },
     "execution_count": 4,
     "metadata": {},
     "output_type": "execute_result"
    }
   ],
   "source": [
    "li"
   ]
  },
  {
   "cell_type": "code",
   "execution_count": 5,
   "metadata": {},
   "outputs": [],
   "source": [
    "li.append([1,2]) \n",
    "#li.extend()"
   ]
  },
  {
   "cell_type": "code",
   "execution_count": 6,
   "metadata": {},
   "outputs": [
    {
     "data": {
      "text/plain": [
       "['alex', 'eric', 'rain', 'seven', [1, 2]]"
      ]
     },
     "execution_count": 6,
     "metadata": {},
     "output_type": "execute_result"
    }
   ],
   "source": [
    "li"
   ]
  },
  {
   "cell_type": "code",
   "execution_count": 7,
   "metadata": {},
   "outputs": [],
   "source": [
    "# c.请在列表的第1个位置插入元素 “Tony”，并输出添加后的列表\n",
    "li.insert(0, \"Tony\")"
   ]
  },
  {
   "cell_type": "code",
   "execution_count": null,
   "metadata": {},
   "outputs": [],
   "source": [
    "# d.请修改列表第2个位置的元素为 “Kelly”，并输出修改后的列表\n",
    "li[1] = \"Kelly\""
   ]
  },
  {
   "cell_type": "code",
   "execution_count": null,
   "metadata": {},
   "outputs": [],
   "source": [
    "# e.请删除列表中的元素 “eric”，并输出修改后的列表\n",
    "li = ['alex','eric','rain']\n",
    "del li[1]"
   ]
  },
  {
   "cell_type": "code",
   "execution_count": null,
   "metadata": {},
   "outputs": [],
   "source": [
    "# e.请删除列表中的元素 “eric”，并输出修改后的列表\n",
    "li = ['alex','eric','rain']\n",
    "li.remove(\"eric\")"
   ]
  },
  {
   "cell_type": "code",
   "execution_count": null,
   "metadata": {
    "scrolled": true
   },
   "outputs": [],
   "source": [
    "# f.请删除列表中的第1至3个元素并输出删除元素后的列表\n",
    "del li[0:3]"
   ]
  },
  {
   "cell_type": "code",
   "execution_count": null,
   "metadata": {
    "collapsed": true
   },
   "outputs": [],
   "source": [
    "# g.使用 for、len、range 输出列表的索引"
   ]
  },
  {
   "cell_type": "code",
   "execution_count": 10,
   "metadata": {},
   "outputs": [],
   "source": [
    "li = ['alex','eric','rain']"
   ]
  },
  {
   "cell_type": "code",
   "execution_count": 11,
   "metadata": {
    "scrolled": false
   },
   "outputs": [
    {
     "name": "stdout",
     "output_type": "stream",
     "text": [
      "alex 0\n",
      "eric 1\n",
      "rain 2\n"
     ]
    }
   ],
   "source": [
    "for i in li:\n",
    "    #print(i)\n",
    "    print(i, li.index(i))"
   ]
  },
  {
   "cell_type": "code",
   "execution_count": 12,
   "metadata": {},
   "outputs": [
    {
     "name": "stdout",
     "output_type": "stream",
     "text": [
      "alex 0\n",
      "eric 1\n",
      "rain 2\n"
     ]
    }
   ],
   "source": [
    "for i in range(len(li)):\n",
    "    print(li[i], i)"
   ]
  },
  {
   "cell_type": "code",
   "execution_count": 13,
   "metadata": {},
   "outputs": [
    {
     "name": "stdout",
     "output_type": "stream",
     "text": [
      "0 alex\n",
      "1 eric\n",
      "2 rain\n"
     ]
    }
   ],
   "source": [
    "# h.使用 enumrate 输出列表元素和序号（序号从 100 开始）\n",
    "for  index ,i in enumerate(li):\n",
    "    print(index, i)"
   ]
  },
  {
   "cell_type": "markdown",
   "metadata": {},
   "source": [
    "## 练习2 - 斐波拉契数列"
   ]
  },
  {
   "cell_type": "code",
   "execution_count": null,
   "metadata": {
    "collapsed": true,
    "scrolled": true
   },
   "outputs": [],
   "source": [
    "\n",
    "# 1     0\n",
    "# 1     1\n",
    "# 2     1\n",
    "# 3     2\n",
    "# 5     3\n",
    "# 8     5\n",
    "#[1, 1, 2, 3, 5, 8, 13, 21, ...]\n",
    "# 黄金分割就是从这里来的"
   ]
  },
  {
   "cell_type": "code",
   "execution_count": 14,
   "metadata": {},
   "outputs": [
    {
     "name": "stdout",
     "output_type": "stream",
     "text": [
      "2\n",
      "3\n",
      "5\n",
      "8\n",
      "13\n",
      "21\n",
      "34\n",
      "55\n",
      "89\n",
      "144\n",
      "233\n",
      "377\n",
      "610\n",
      "987\n",
      "1597\n",
      "2584\n",
      "4181\n",
      "6765\n"
     ]
    }
   ],
   "source": [
    "a = 1\n",
    "b = 1\n",
    "for index in range(2, 20):\n",
    "    print(a+b)\n",
    "    a, b = b, a+b"
   ]
  },
  {
   "cell_type": "code",
   "execution_count": 15,
   "metadata": {},
   "outputs": [
    {
     "name": "stdout",
     "output_type": "stream",
     "text": [
      "[1, 1, 2, 3, 5, 8, 13, 21, 34, 55, 89, 144, 233, 377, 610, 987, 1597, 2584, 4181, 6765]\n"
     ]
    }
   ],
   "source": [
    "f = [1, 1]\n",
    "for index in range(2,20):\n",
    "    var = f[index-1] + f[index-2]\n",
    "    f.append(var)\n",
    "print(f)"
   ]
  },
  {
   "cell_type": "markdown",
   "metadata": {
    "collapsed": true
   },
   "source": [
    "## 练习3 - 二维数组操作"
   ]
  },
  {
   "cell_type": "code",
   "execution_count": null,
   "metadata": {
    "collapsed": true
   },
   "outputs": [],
   "source": [
    "\n"
   ]
  },
  {
   "cell_type": "code",
   "execution_count": null,
   "metadata": {},
   "outputs": [],
   "source": []
  },
  {
   "cell_type": "code",
   "execution_count": null,
   "metadata": {},
   "outputs": [],
   "source": []
  },
  {
   "cell_type": "code",
   "execution_count": null,
   "metadata": {},
   "outputs": [],
   "source": []
  },
  {
   "cell_type": "code",
   "execution_count": null,
   "metadata": {
    "scrolled": true
   },
   "outputs": [],
   "source": []
  },
  {
   "cell_type": "code",
   "execution_count": null,
   "metadata": {},
   "outputs": [],
   "source": []
  },
  {
   "cell_type": "code",
   "execution_count": null,
   "metadata": {},
   "outputs": [],
   "source": []
  },
  {
   "cell_type": "markdown",
   "metadata": {
    "scrolled": false
   },
   "source": [
    "## 练习4 - 螺旋矩阵"
   ]
  },
  {
   "cell_type": "markdown",
   "metadata": {},
   "source": [
    "\"\"\"\n",
    "螺旋填数\n",
    "\n",
    "从键盘输入一个整数（1~20）\n",
    "\n",
    "则以该数字为矩阵的大小，把1,2,3…n*n 的数字按照顺时针螺旋的形式填入其中。例如：\n",
    "\n",
    "输入数字2，则程序输出：\n",
    "\n",
    "1 2\n",
    "\n",
    "4 3\n",
    "\n",
    "输入数字3，则程序输出：\n",
    "\n",
    "1 2 3\n",
    "\n",
    "8 9 4\n",
    "\n",
    "7 6 5\n",
    "\n",
    "\n",
    "输入数字4，则程序输出：\n",
    "\n",
    "```\n",
    "1   2    3   4\n",
    "\n",
    "12  13  14   5\n",
    "\n",
    "11  16  15   6\n",
    "\n",
    "10   9  8    7\n",
    "```"
   ]
  },
  {
   "cell_type": "code",
   "execution_count": 32,
   "metadata": {
    "scrolled": true
   },
   "outputs": [
    {
     "name": "stdout",
     "output_type": "stream",
     "text": [
      "[[0, 0, 0, 0, 0], [0, 0, 0, 0, 0], [0, 0, 0, 0, 0], [0, 0, 0, 0, 0], [0, 0, 0, 0, 0]]\n",
      "[[1, 2, 3, 4, 5], [16, 17, 18, 19, 6], [15, 24, 25, 20, 7], [14, 23, 22, 21, 8], [13, 12, 11, 10, 9]]\n"
     ]
    }
   ],
   "source": [
    "n = 5\n",
    "matrix = []\n",
    "count = 1\n",
    "for _ in range(n):\n",
    "    matrix.append([0]*n)\n",
    "\n",
    "print(matrix)\n",
    "\n",
    "\n",
    "for i in range(n//2 + 1):\n",
    "    \n",
    "    for j in range(i, n-i):\n",
    "        matrix[i][j] = count\n",
    "        count += 1\n",
    "    \n",
    "    for j in range(i+1, n-i-1):\n",
    "        matrix[j][n-i-1] = count\n",
    "        count += 1\n",
    "    \n",
    "    for j in list(range(i+1, n-i))[::-1]:\n",
    "        matrix[n-i-1][j] = count\n",
    "        count += 1\n",
    "    \n",
    "    for j in list(range(i+1, n-i))[::-1]:\n",
    "        matrix[j][i] = count\n",
    "        count += 1\n",
    "        \n",
    "print(matrix)"
   ]
  },
  {
   "cell_type": "markdown",
   "metadata": {},
   "source": [
    "## 练习5 -  元素分类\n",
    "\n",
    "    有如下值集合 [11,22,33,44,55,66,77,88,99,90]，\n",
    "    将所有大于66的值保存至字典的第一个 key中，\n",
    "    将小于66的值保存至第二个 key 的值中。\n",
    "\n",
    "    即：{'k1':大于 66 的所有值,'k2':小于66 的所有值}"
   ]
  },
  {
   "cell_type": "code",
   "execution_count": 20,
   "metadata": {},
   "outputs": [
    {
     "name": "stdout",
     "output_type": "stream",
     "text": [
      "{'k1': [66, 99, 77, 88, 90], 'k2': [33, 11, 44, 22, 55]}\n"
     ]
    }
   ],
   "source": [
    "dic = {\"k1\":[],\n",
    "       \"k2\":[]}\n",
    "aa = set([11,22,33,44,55,66,77,88,99,90])\n",
    "\n",
    "for i in aa:\n",
    "    if i>=66:\n",
    "        dic['k1'].append(i)\n",
    "    else:\n",
    "        dic['k2'].append(i)\n",
    "\n",
    "print(dic)\n"
   ]
  },
  {
   "cell_type": "markdown",
   "metadata": {},
   "source": [
    "## 练习6 - 读入一个字符串，内容为英文文章，输入其中出现最多的单词（仅输入单词，不计算标点符号，同一个单词的大小写形式合并计数），统一以小写输出。"
   ]
  },
  {
   "cell_type": "code",
   "execution_count": 26,
   "metadata": {},
   "outputs": [
    {
     "name": "stdout",
     "output_type": "stream",
     "text": [
      "['this', 'is', 'a', 'python', 'and', 'python']\n",
      "{'this': 1, 'is': 1, 'a': 1, 'python': 2, 'and': 1}\n"
     ]
    },
    {
     "data": {
      "text/plain": [
       "[('this', 1), ('is', 1), ('a', 1), ('python', 2), ('and', 1)]"
      ]
     },
     "execution_count": 26,
     "metadata": {},
     "output_type": "execute_result"
    }
   ],
   "source": [
    "def dict2list(dic):\n",
    "    keys = dic.keys()\n",
    "    vals = dic.values()\n",
    "    lst = [ (key, val)  for key, val in zip(keys, vals)]\n",
    "    return lst\n",
    "\n",
    "g=\"this is a python and Python\"\n",
    "g = g.lower()\n",
    "cs = {} # \n",
    "g_list = g.split()\n",
    "print(g_list)\n",
    "for k in g_list:\n",
    "    if k in cs:\n",
    "        cs[k] = cs[k]  + 1\n",
    "    else:\n",
    "        cs[k] = 1\n",
    "        \n",
    "print(cs)\n",
    "res = dict2list(cs)\n",
    "res"
   ]
  },
  {
   "cell_type": "code",
   "execution_count": 29,
   "metadata": {
    "scrolled": true
   },
   "outputs": [
    {
     "data": {
      "text/plain": [
       "[('python', 2), ('this', 1), ('is', 1), ('a', 1), ('and', 1)]"
      ]
     },
     "execution_count": 29,
     "metadata": {},
     "output_type": "execute_result"
    }
   ],
   "source": [
    "sorted(res, key=lambda x:x[1], reverse=True)"
   ]
  },
  {
   "cell_type": "code",
   "execution_count": 27,
   "metadata": {},
   "outputs": [],
   "source": [
    "??sorted"
   ]
  },
  {
   "cell_type": "code",
   "execution_count": 31,
   "metadata": {
    "scrolled": true
   },
   "outputs": [
    {
     "data": {
      "text/plain": [
       "'python'"
      ]
     },
     "execution_count": 31,
     "metadata": {},
     "output_type": "execute_result"
    }
   ],
   "source": [
    "sorted(res, key=lambda x:x[1], reverse=True)[0][0]"
   ]
  }
 ],
 "metadata": {
  "kernelspec": {
   "display_name": "Python 3",
   "language": "python",
   "name": "python3"
  },
  "language_info": {
   "codemirror_mode": {
    "name": "ipython",
    "version": 3
   },
   "file_extension": ".py",
   "mimetype": "text/x-python",
   "name": "python",
   "nbconvert_exporter": "python",
   "pygments_lexer": "ipython3",
   "version": "3.6.4"
  },
  "toc": {
   "nav_menu": {},
   "number_sections": false,
   "sideBar": true,
   "skip_h1_title": false,
   "title_cell": "Table of Contents",
   "title_sidebar": "Contents",
   "toc_cell": false,
   "toc_position": {},
   "toc_section_display": true,
   "toc_window_display": true
  }
 },
 "nbformat": 4,
 "nbformat_minor": 2
}
