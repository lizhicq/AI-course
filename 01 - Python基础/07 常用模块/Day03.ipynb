{
 "cells": [
  {
   "cell_type": "markdown",
   "metadata": {},
   "source": [
    "## 练习1 - 按照要求实现每一个功能"
   ]
  },
  {
   "cell_type": "code",
   "execution_count": 12,
   "metadata": {
    "collapsed": true
   },
   "outputs": [],
   "source": [
    "li = ['alex','eric','rain']"
   ]
  },
  {
   "cell_type": "code",
   "execution_count": 13,
   "metadata": {},
   "outputs": [
    {
     "name": "stdout",
     "output_type": "stream",
     "text": [
      "3\n"
     ]
    }
   ],
   "source": [
    "# a.计算列表长度并输出\n",
    "print(len(li))"
   ]
  },
  {
   "cell_type": "code",
   "execution_count": null,
   "metadata": {
    "collapsed": true
   },
   "outputs": [],
   "source": [
    "# b.列表中追加元素 “seven”，并输出添加后的列表"
   ]
  },
  {
   "cell_type": "code",
   "execution_count": 14,
   "metadata": {},
   "outputs": [
    {
     "name": "stdout",
     "output_type": "stream",
     "text": [
      "['alex', 'eric', 'rain', 'seven']\n"
     ]
    }
   ],
   "source": [
    "li.append(\"seven\")\n",
    "print(li)"
   ]
  },
  {
   "cell_type": "code",
   "execution_count": 10,
   "metadata": {
    "collapsed": true
   },
   "outputs": [],
   "source": [
    "#li += \"abc\"\n",
    "# li"
   ]
  },
  {
   "cell_type": "code",
   "execution_count": 15,
   "metadata": {},
   "outputs": [
    {
     "name": "stdout",
     "output_type": "stream",
     "text": [
      "['Tony', 'alex', 'eric', 'rain', 'seven']\n"
     ]
    }
   ],
   "source": [
    "# c.请在列表的第1个位置插入元素 “Tony”，并输出添加后的列表\n",
    "li.insert(0,\"Tony\")\n",
    "print(li)"
   ]
  },
  {
   "cell_type": "code",
   "execution_count": 16,
   "metadata": {},
   "outputs": [
    {
     "name": "stdout",
     "output_type": "stream",
     "text": [
      "['Tony', 'Kelly', 'eric', 'rain', 'seven']\n"
     ]
    }
   ],
   "source": [
    "# d.请修改列表第2个位置的元素为 “Kelly”，并输出修改后的列表\n",
    "li[1] = \"Kelly\"\n",
    "print(li)"
   ]
  },
  {
   "cell_type": "code",
   "execution_count": 21,
   "metadata": {},
   "outputs": [
    {
     "data": {
      "text/plain": [
       "['alex', 'rain']"
      ]
     },
     "execution_count": 21,
     "metadata": {},
     "output_type": "execute_result"
    }
   ],
   "source": [
    "# e.请删除列表中的元素 “eric”，并输出修改后的列表\n",
    "li = ['alex','eric','rain']\n",
    "del li[1]\n",
    "li"
   ]
  },
  {
   "cell_type": "code",
   "execution_count": 23,
   "metadata": {},
   "outputs": [
    {
     "data": {
      "text/plain": [
       "['alex', 'rain']"
      ]
     },
     "execution_count": 23,
     "metadata": {},
     "output_type": "execute_result"
    }
   ],
   "source": [
    "# e.请删除列表中的元素 “eric”，并输出修改后的列表\n",
    "li = ['alex','eric','rain']\n",
    "#li.pop(1)\n",
    "li.remove(\"eric\")\n",
    "li"
   ]
  },
  {
   "cell_type": "code",
   "execution_count": 24,
   "metadata": {
    "scrolled": true
   },
   "outputs": [
    {
     "data": {
      "text/plain": [
       "[]"
      ]
     },
     "execution_count": 24,
     "metadata": {},
     "output_type": "execute_result"
    }
   ],
   "source": [
    "# f.请删除列表中的第1至3个元素并输出删除元素后的列表\n",
    "li = ['alex','eric','rain']\n",
    "del li[0:3]\n",
    "li"
   ]
  },
  {
   "cell_type": "code",
   "execution_count": null,
   "metadata": {
    "collapsed": true
   },
   "outputs": [],
   "source": [
    "# g.使用 for、len、range 输出列表的索引"
   ]
  },
  {
   "cell_type": "code",
   "execution_count": 26,
   "metadata": {},
   "outputs": [
    {
     "name": "stdout",
     "output_type": "stream",
     "text": [
      "0 alex\n",
      "1 eric\n",
      "2 rain\n"
     ]
    }
   ],
   "source": [
    "li = ['alex','eric','rain']\n",
    "for i in li:\n",
    "    #list.index()列表有相同元素的,只是的获取（相同元素中的第一个元素）的索引\n",
    "    print(li.index(i),i)  #如果列表内有相同的元素，不建议使用此方法"
   ]
  },
  {
   "cell_type": "code",
   "execution_count": 27,
   "metadata": {
    "scrolled": false
   },
   "outputs": [
    {
     "name": "stdout",
     "output_type": "stream",
     "text": [
      "0 alex\n",
      "1 eric\n",
      "2 rain\n"
     ]
    }
   ],
   "source": [
    "for i in range(len(li)):\n",
    "    print(i,li[i])"
   ]
  },
  {
   "cell_type": "code",
   "execution_count": 28,
   "metadata": {},
   "outputs": [
    {
     "name": "stdout",
     "output_type": "stream",
     "text": [
      "100 alex\n",
      "101 eric\n",
      "102 rain\n"
     ]
    }
   ],
   "source": [
    "# h.使用 enumrate 输出列表元素和序号（序号从 100 开始）\n",
    "for index,i in enumerate(li,start=100):\n",
    "    print(index,i)"
   ]
  },
  {
   "cell_type": "markdown",
   "metadata": {},
   "source": [
    "## 练习2 - 斐波拉契数列"
   ]
  },
  {
   "cell_type": "code",
   "execution_count": null,
   "metadata": {
    "collapsed": true,
    "scrolled": true
   },
   "outputs": [],
   "source": [
    "\n",
    "# 1     0\n",
    "# 1     1\n",
    "# 2     1\n",
    "# 3     2\n",
    "# 5     3\n",
    "# 8     5\n",
    "#[1, 1, 2, 3, 5, 8, 13, 21, ...]\n",
    "# 黄金分割就是从这里来的"
   ]
  },
  {
   "cell_type": "code",
   "execution_count": 2,
   "metadata": {},
   "outputs": [
    {
     "name": "stdout",
     "output_type": "stream",
     "text": [
      "2\n",
      "3\n",
      "5\n",
      "8\n",
      "13\n",
      "21\n",
      "34\n",
      "55\n",
      "89\n",
      "144\n",
      "233\n",
      "377\n",
      "610\n",
      "987\n",
      "1597\n",
      "2584\n",
      "4181\n",
      "6765\n"
     ]
    }
   ],
   "source": [
    "a = 1\n",
    "b = 1\n",
    "for index in range(2,20):\n",
    "    print(a+b)\n",
    "    a,b = b, a+b"
   ]
  },
  {
   "cell_type": "code",
   "execution_count": 26,
   "metadata": {},
   "outputs": [
    {
     "name": "stdout",
     "output_type": "stream",
     "text": [
      "[1, 1]\n",
      "[1, 1, 2]\n",
      "[1, 1, 2, 3]\n",
      "[1, 1, 2, 3, 5]\n",
      "[1, 1, 2, 3, 5, 8]\n",
      "[1, 1, 2, 3, 5, 8, 13]\n",
      "[1, 1, 2, 3, 5, 8, 13, 21]\n",
      "[1, 1, 2, 3, 5, 8, 13, 21, 34]\n",
      "[1, 1, 2, 3, 5, 8, 13, 21, 34, 55]\n",
      "[1, 1, 2, 3, 5, 8, 13, 21, 34, 55, 89]\n",
      "[1, 1, 2, 3, 5, 8, 13, 21, 34, 55, 89, 144]\n",
      "[1, 1, 2, 3, 5, 8, 13, 21, 34, 55, 89, 144, 233]\n",
      "[1, 1, 2, 3, 5, 8, 13, 21, 34, 55, 89, 144, 233, 377]\n",
      "[1, 1, 2, 3, 5, 8, 13, 21, 34, 55, 89, 144, 233, 377, 610]\n",
      "[1, 1, 2, 3, 5, 8, 13, 21, 34, 55, 89, 144, 233, 377, 610, 987]\n",
      "[1, 1, 2, 3, 5, 8, 13, 21, 34, 55, 89, 144, 233, 377, 610, 987, 1597]\n",
      "[1, 1, 2, 3, 5, 8, 13, 21, 34, 55, 89, 144, 233, 377, 610, 987, 1597, 2584]\n",
      "[1, 1, 2, 3, 5, 8, 13, 21, 34, 55, 89, 144, 233, 377, 610, 987, 1597, 2584, 4181]\n",
      "[1, 1, 2, 3, 5, 8, 13, 21, 34, 55, 89, 144, 233, 377, 610, 987, 1597, 2584, 4181, 6765]\n",
      "[1, 1, 2, 3, 5, 8, 13, 21, 34, 55, 89, 144, 233, 377, 610, 987, 1597, 2584, 4181, 6765]\n",
      "0.6180339985218034\n",
      "0.6180339985218034\n",
      "[4181, 6765]\n",
      "[6765, 4181, 2584, 1597, 987, 610, 377, 233, 144, 89, 55, 34, 21, 13, 8, 5, 3, 2, 1, 1]\n",
      "[6765, 4181, 2584, 1597, 987, 610, 377, 233, 144, 89, 55, 34, 21, 13, 8, 5, 3, 2, 1, 1]\n"
     ]
    }
   ],
   "source": [
    "# 前两个数是指定的\n",
    "f = [1, 1]\n",
    "print(f)\n",
    "for index in range(2, 20):\n",
    "    var = f[index -1] + f[index - 2]\n",
    "    f.append(var)\n",
    "    print(f)\n",
    "    \n",
    "print(f)\n",
    "print(f[18] / f[19])  # 黄金分割点\n",
    "f2 = f[18:]  # 列表切片， 把索引为18的后面元素都取出来，为f[18],f[19]\n",
    "print(f2[0] / f2[1])\n",
    "print(f2)\n",
    "# 列表切片做反转运算\n",
    "f3 = f[::-1]  # 第一个冒号前面：为开始索引，第二个冒号前面：为结束索引，-1为步长\n",
    "print(f3)\n",
    "f.reverse()  # 彻底把原来的反转\n",
    "print(f)"
   ]
  },
  {
   "cell_type": "markdown",
   "metadata": {
    "collapsed": true
   },
   "source": [
    "## 练习3 - 二维数组操作"
   ]
  },
  {
   "cell_type": "code",
   "execution_count": 5,
   "metadata": {
    "collapsed": true
   },
   "outputs": [],
   "source": [
    "\n",
    "\n",
    "def init(row, line):\n",
    "    #生成数组\n",
    "    if  0<= row <=9 and 0<= line <= 9:\n",
    "        arr = [[i for i in range(line)] for j in range(row)]\n",
    "        print(0)\n",
    "        return arr\n",
    "    else:\n",
    "        print(-1)\n",
    "\n",
    "\n",
    "def insert_line(arr, ins_line):\n",
    "    #数组插入行操作\n",
    "    if 0 <= ins_line < len(arr):\n",
    "        arr.insert(ins_line, [0 for i in range(len(arr[0]))])\n",
    "        # for i in a:\n",
    "        #     print i\n",
    "        return 0\n",
    "    else:\n",
    "        return -1\n",
    "\n",
    "def insert_column(arr, ins_col):\n",
    "    if 0<=ins_col<len(arr[0]):\n",
    "        for i in range(len(arr)):\n",
    "            arr[i].insert(ins_col,0)\n",
    "        # for i in a:\n",
    "        #     print i\n",
    "        return 0\n",
    "    else:\n",
    "        return -1\n"
   ]
  },
  {
   "cell_type": "code",
   "execution_count": 6,
   "metadata": {},
   "outputs": [
    {
     "name": "stdout",
     "output_type": "stream",
     "text": [
      "0\n"
     ]
    }
   ],
   "source": [
    "a = init(5,5)"
   ]
  },
  {
   "cell_type": "code",
   "execution_count": 7,
   "metadata": {},
   "outputs": [
    {
     "name": "stdout",
     "output_type": "stream",
     "text": [
      "[[0, 1, 2, 3, 4], [0, 1, 2, 3, 4], [0, 1, 2, 3, 4], [0, 1, 2, 3, 4], [0, 1, 2, 3, 4]]\n"
     ]
    }
   ],
   "source": [
    "print(a)"
   ]
  },
  {
   "cell_type": "code",
   "execution_count": 9,
   "metadata": {},
   "outputs": [
    {
     "data": {
      "text/plain": [
       "0"
      ]
     },
     "execution_count": 9,
     "metadata": {},
     "output_type": "execute_result"
    }
   ],
   "source": [
    "insert_line(a, 4)"
   ]
  },
  {
   "cell_type": "code",
   "execution_count": 10,
   "metadata": {
    "scrolled": true
   },
   "outputs": [
    {
     "name": "stdout",
     "output_type": "stream",
     "text": [
      "[[0, 1, 2, 3, 4], [0, 1, 2, 3, 4], [0, 1, 2, 3, 4], [0, 1, 2, 3, 4], [0, 0, 0, 0, 0], [0, 1, 2, 3, 4]]\n"
     ]
    }
   ],
   "source": [
    "print(a)"
   ]
  },
  {
   "cell_type": "code",
   "execution_count": 12,
   "metadata": {},
   "outputs": [
    {
     "data": {
      "text/plain": [
       "0"
      ]
     },
     "execution_count": 12,
     "metadata": {},
     "output_type": "execute_result"
    }
   ],
   "source": [
    "insert_column(a, 1)"
   ]
  },
  {
   "cell_type": "code",
   "execution_count": 13,
   "metadata": {},
   "outputs": [
    {
     "name": "stdout",
     "output_type": "stream",
     "text": [
      "[[0, 0, 1, 2, 3, 4], [0, 0, 1, 2, 3, 4], [0, 0, 1, 2, 3, 4], [0, 0, 1, 2, 3, 4], [0, 0, 0, 0, 0, 0], [0, 0, 1, 2, 3, 4]]\n"
     ]
    }
   ],
   "source": [
    "print(a)"
   ]
  },
  {
   "cell_type": "markdown",
   "metadata": {
    "scrolled": false
   },
   "source": [
    "## 练习4 - 螺旋矩阵"
   ]
  },
  {
   "cell_type": "markdown",
   "metadata": {},
   "source": [
    "\"\"\"\n",
    "螺旋填数\n",
    "\n",
    "从键盘输入一个整数（1~20）\n",
    "\n",
    "则以该数字为矩阵的大小，把1,2,3…n*n 的数字按照顺时针螺旋的形式填入其中。例如：\n",
    "\n",
    "输入数字2，则程序输出：\n",
    "\n",
    "1 2\n",
    "\n",
    "4 3\n",
    "\n",
    "输入数字3，则程序输出：\n",
    "\n",
    "1 2 3\n",
    "\n",
    "8 9 4\n",
    "\n",
    "7 6 5\n",
    "\n",
    "输入数字4，则程序输出：\n",
    "\n",
    "1  2   3   4\n",
    "\n",
    "12  13  14  5\n",
    "\n",
    "11  16  15  6\n",
    "\n",
    "10   9  8   7\n",
    "\"\"\""
   ]
  },
  {
   "cell_type": "code",
   "execution_count": 3,
   "metadata": {
    "scrolled": true
   },
   "outputs": [
    {
     "name": "stdout",
     "output_type": "stream",
     "text": [
      "[1, 2, 3, 4, 5]\n",
      "[16, 17, 18, 19, 6]\n",
      "[15, 24, 25, 20, 7]\n",
      "[14, 23, 22, 21, 8]\n",
      "[13, 12, 11, 10, 9]\n"
     ]
    }
   ],
   "source": [
    "def getMatrix(n):\n",
    "\n",
    "\tmatrix = []\n",
    "\tfor _ in range(n):\n",
    "\t\tmatrix.append([0] * n)\n",
    "\n",
    "\tcount = 1\n",
    "\tfor i in range(n//2 + 1):\n",
    "\n",
    "\t\tfor j in range(i, n-i):  # 上方行\n",
    "\t\t\tmatrix[i][j] = count\n",
    "\t\t\tcount += 1\n",
    "\n",
    "\t\tfor j in range(i+1, n-i-1):  # 右侧列\n",
    "\t\t\tmatrix[j][n-i-1] = count\n",
    "\t\t\tcount += 1\n",
    "\n",
    "\t\tfor j in list(range(i+1, n-i))[::-1]:  # 下方行\n",
    "\t\t\tmatrix[n-i-1][j] = count\n",
    "\t\t\tcount += 1\n",
    "\n",
    "\t\tfor j in list(range(i+1, n-i))[::-1]: # 左侧列\n",
    "\t\t\tmatrix[j][i] = count\n",
    "\t\t\tcount += 1\n",
    "\n",
    "\n",
    "\tfor each in matrix:\n",
    "\t\tprint(each)\n",
    "\n",
    "\n",
    "getMatrix(5)\n"
   ]
  },
  {
   "cell_type": "markdown",
   "metadata": {},
   "source": [
    "## 练习5 -  元素分类\n",
    "\n",
    "    有如下值集合 [11,22,33,44,55,66,77,88,99,90]，\n",
    "    将所有大于66的值保存至字典的第一个 key中，\n",
    "    将小于66的值保存至第二个 key 的值中。\n",
    "\n",
    "    即：{'k1':大于 66 的所有值,'k2':小于66 的所有值}"
   ]
  },
  {
   "cell_type": "code",
   "execution_count": 29,
   "metadata": {},
   "outputs": [
    {
     "name": "stdout",
     "output_type": "stream",
     "text": [
      "{'k1': [66, 99, 77, 88, 90], 'k2': [33, 11, 44, 22, 55]}\n"
     ]
    }
   ],
   "source": [
    "dic = {\"k1\":[],\n",
    "       \"k2\":[]}\n",
    "aa = set([11,22,33,44,55,66,77,88,99,90])\n",
    "for i in aa:\n",
    "    if i>= 66:\n",
    "        dic[\"k1\"].append(i)\n",
    "    else:\n",
    "        dic[\"k2\"].append(i)\n",
    "print(dic)"
   ]
  },
  {
   "cell_type": "code",
   "execution_count": 1,
   "metadata": {},
   "outputs": [
    {
     "ename": "AttributeError",
     "evalue": "'set' object has no attribute 'sort'",
     "output_type": "error",
     "traceback": [
      "\u001b[1;31m---------------------------------------------------------------------------\u001b[0m",
      "\u001b[1;31mAttributeError\u001b[0m                            Traceback (most recent call last)",
      "\u001b[1;32m<ipython-input-1-b4981ca964b8>\u001b[0m in \u001b[0;36m<module>\u001b[1;34m()\u001b[0m\n\u001b[0;32m      1\u001b[0m \u001b[0ma\u001b[0m \u001b[1;33m=\u001b[0m \u001b[1;33m{\u001b[0m\u001b[1;36m1\u001b[0m\u001b[1;33m,\u001b[0m\u001b[1;36m3\u001b[0m\u001b[1;33m,\u001b[0m\u001b[1;36m5\u001b[0m\u001b[1;33m}\u001b[0m\u001b[1;33m\u001b[0m\u001b[0m\n\u001b[1;32m----> 2\u001b[1;33m \u001b[0ma\u001b[0m\u001b[1;33m.\u001b[0m\u001b[0msort\u001b[0m\u001b[1;33m(\u001b[0m\u001b[1;33m)\u001b[0m\u001b[1;33m\u001b[0m\u001b[0m\n\u001b[0m",
      "\u001b[1;31mAttributeError\u001b[0m: 'set' object has no attribute 'sort'"
     ]
    }
   ],
   "source": [
    "a = {1,3,5}\n",
    "a.sort()"
   ]
  },
  {
   "cell_type": "markdown",
   "metadata": {},
   "source": [
    "## 练习6 - 读入一个字符串，内容为英文文章，输入其中出现最多的单词（仅输入单词，不计算标点符号，同一个单词的大小写形式合并计数），统一以小写输出。"
   ]
  },
  {
   "cell_type": "code",
   "execution_count": 20,
   "metadata": {},
   "outputs": [
    {
     "name": "stdout",
     "output_type": "stream",
     "text": [
      "{'this': 1, 'is': 1, 'a': 1, 'python': 2, 'and': 1}\n"
     ]
    },
    {
     "data": {
      "text/plain": [
       "[('this', 1), ('python', 2), ('is', 1), ('and', 1), ('a', 1)]"
      ]
     },
     "execution_count": 20,
     "metadata": {},
     "output_type": "execute_result"
    }
   ],
   "source": [
    "def dict2list(dic:dict):\n",
    "    ''' 将字典转化为列表 '''\n",
    "    keys = dic.keys()\n",
    "    vals = dic.values()\n",
    "    lst = [(key, val) for key, val in zip(keys, vals)]\n",
    "    return lst\n",
    "\n",
    "\n",
    "\n",
    "g=\"this is a python and Python\"\n",
    "g=g.lower()\n",
    "cs={}\n",
    "g_list=g.split(' ')\n",
    "for k in g_list:\n",
    "    if k in cs:\n",
    "        cs[k]=cs[k]+1\n",
    "    else:\n",
    "        cs[k]=1\n",
    "items=cs.items()\n",
    "print(cs)\n",
    "sorted(dict2list(cs), key=lambda x:x[0], reverse=True) # 按照第0个元素降序排列\n",
    "\n",
    "#print(items)\n",
    "\n"
   ]
  },
  {
   "cell_type": "code",
   "execution_count": 21,
   "metadata": {
    "scrolled": true
   },
   "outputs": [
    {
     "data": {
      "text/plain": [
       "[('a', 1), ('and', 1), ('is', 1), ('python', 2), ('this', 1)]"
      ]
     },
     "execution_count": 21,
     "metadata": {},
     "output_type": "execute_result"
    }
   ],
   "source": [
    "sorted(dict2list(cs), key=lambda x:x[0], reverse=False) # 按照第0个元素升序排列"
   ]
  },
  {
   "cell_type": "code",
   "execution_count": 24,
   "metadata": {},
   "outputs": [
    {
     "name": "stdout",
     "output_type": "stream",
     "text": [
      "单词出现最多是： python 出现的次数为： 2\n"
     ]
    }
   ],
   "source": [
    "items = sorted(dict2list(cs), key=lambda x:x[1], reverse=True) # 按照第1个元素降序排列\n",
    "word,count=items[0]\n",
    "print(\"单词出现最多是： \"+str(word)+\" 出现的次数为： \"+str(count))"
   ]
  },
  {
   "cell_type": "code",
   "execution_count": 23,
   "metadata": {
    "scrolled": true
   },
   "outputs": [
    {
     "data": {
      "text/plain": [
       "[('this', 1), ('is', 1), ('a', 1), ('and', 1), ('python', 2)]"
      ]
     },
     "execution_count": 23,
     "metadata": {},
     "output_type": "execute_result"
    }
   ],
   "source": [
    "sorted(dict2list(cs), key=lambda x:x[1], reverse=False) # 按照第1个元素降序排列"
   ]
  }
 ],
 "metadata": {
  "kernelspec": {
   "display_name": "Python 3",
   "language": "python",
   "name": "python3"
  },
  "language_info": {
   "codemirror_mode": {
    "name": "ipython",
    "version": 3
   },
   "file_extension": ".py",
   "mimetype": "text/x-python",
   "name": "python",
   "nbconvert_exporter": "python",
   "pygments_lexer": "ipython3",
   "version": "3.6.3"
  },
  "toc": {
   "base_numbering": 1,
   "nav_menu": {},
   "number_sections": false,
   "sideBar": true,
   "skip_h1_title": false,
   "title_cell": "Table of Contents",
   "title_sidebar": "Contents",
   "toc_cell": false,
   "toc_position": {},
   "toc_section_display": true,
   "toc_window_display": true
  }
 },
 "nbformat": 4,
 "nbformat_minor": 2
}
