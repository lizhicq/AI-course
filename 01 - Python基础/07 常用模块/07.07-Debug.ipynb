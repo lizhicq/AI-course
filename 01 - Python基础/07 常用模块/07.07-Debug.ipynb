{
 "cells": [
  {
   "cell_type": "markdown",
   "metadata": {},
   "source": [
    "# 7.1 程序调试\n",
    "\n",
    "程序能一次写完并正常运行的概率很小，基本不超过1%。总会有各种各样的bug需要修正，有的bug很简单，看看错误信息就知道，有的bug很复杂，我们需要知道出错时，哪些变量的值是正确的，哪些变量的值是错误的，因此，需要一整套调试程序的手段来修复bug。"
   ]
  },
  {
   "cell_type": "markdown",
   "metadata": {},
   "source": [
    "## 7.1 print\n",
    "\n",
    "第一种方法简单直接粗暴有效，就是用print把可能有问题的变量打印出来看看："
   ]
  },
  {
   "cell_type": "code",
   "execution_count": 1,
   "metadata": {},
   "outputs": [
    {
     "name": "stdout",
     "output_type": "stream",
     "text": [
      ">>> n = 0\n"
     ]
    },
    {
     "ename": "ZeroDivisionError",
     "evalue": "division by zero",
     "output_type": "error",
     "traceback": [
      "\u001b[1;31m---------------------------------------------------------------------------\u001b[0m",
      "\u001b[1;31mZeroDivisionError\u001b[0m                         Traceback (most recent call last)",
      "\u001b[1;32m<ipython-input-1-140341fe7ece>\u001b[0m in \u001b[0;36m<module>\u001b[1;34m()\u001b[0m\n\u001b[0;32m      8\u001b[0m   \u001b[0mfoo\u001b[0m\u001b[1;33m(\u001b[0m\u001b[1;34m'0'\u001b[0m\u001b[1;33m)\u001b[0m\u001b[1;33m\u001b[0m\u001b[0m\n\u001b[0;32m      9\u001b[0m \u001b[1;33m\u001b[0m\u001b[0m\n\u001b[1;32m---> 10\u001b[1;33m \u001b[0mmain\u001b[0m\u001b[1;33m(\u001b[0m\u001b[1;33m)\u001b[0m\u001b[1;33m\u001b[0m\u001b[0m\n\u001b[0m",
      "\u001b[1;32m<ipython-input-1-140341fe7ece>\u001b[0m in \u001b[0;36mmain\u001b[1;34m()\u001b[0m\n\u001b[0;32m      6\u001b[0m \u001b[1;33m\u001b[0m\u001b[0m\n\u001b[0;32m      7\u001b[0m \u001b[1;32mdef\u001b[0m \u001b[0mmain\u001b[0m\u001b[1;33m(\u001b[0m\u001b[1;33m)\u001b[0m\u001b[1;33m:\u001b[0m\u001b[1;33m\u001b[0m\u001b[0m\n\u001b[1;32m----> 8\u001b[1;33m   \u001b[0mfoo\u001b[0m\u001b[1;33m(\u001b[0m\u001b[1;34m'0'\u001b[0m\u001b[1;33m)\u001b[0m\u001b[1;33m\u001b[0m\u001b[0m\n\u001b[0m\u001b[0;32m      9\u001b[0m \u001b[1;33m\u001b[0m\u001b[0m\n\u001b[0;32m     10\u001b[0m \u001b[0mmain\u001b[0m\u001b[1;33m(\u001b[0m\u001b[1;33m)\u001b[0m\u001b[1;33m\u001b[0m\u001b[0m\n",
      "\u001b[1;32m<ipython-input-1-140341fe7ece>\u001b[0m in \u001b[0;36mfoo\u001b[1;34m(s)\u001b[0m\n\u001b[0;32m      3\u001b[0m   \u001b[0mn\u001b[0m \u001b[1;33m=\u001b[0m \u001b[0mint\u001b[0m\u001b[1;33m(\u001b[0m\u001b[0ms\u001b[0m\u001b[1;33m)\u001b[0m\u001b[1;33m\u001b[0m\u001b[0m\n\u001b[0;32m      4\u001b[0m   \u001b[0mprint\u001b[0m\u001b[1;33m(\u001b[0m\u001b[1;34m'>>> n = %d'\u001b[0m \u001b[1;33m%\u001b[0m \u001b[0mn\u001b[0m\u001b[1;33m)\u001b[0m\u001b[1;33m\u001b[0m\u001b[0m\n\u001b[1;32m----> 5\u001b[1;33m   \u001b[1;32mreturn\u001b[0m \u001b[1;36m10\u001b[0m \u001b[1;33m/\u001b[0m \u001b[0mn\u001b[0m\u001b[1;33m\u001b[0m\u001b[0m\n\u001b[0m\u001b[0;32m      6\u001b[0m \u001b[1;33m\u001b[0m\u001b[0m\n\u001b[0;32m      7\u001b[0m \u001b[1;32mdef\u001b[0m \u001b[0mmain\u001b[0m\u001b[1;33m(\u001b[0m\u001b[1;33m)\u001b[0m\u001b[1;33m:\u001b[0m\u001b[1;33m\u001b[0m\u001b[0m\n",
      "\u001b[1;31mZeroDivisionError\u001b[0m: division by zero"
     ]
    }
   ],
   "source": [
    "# err.py\n",
    "def foo(s):\n",
    "  n = int(s)\n",
    "  print('>>> n = %d' % n)\n",
    "  return 10 / n\n",
    " \n",
    "def main():\n",
    "  foo('0')\n",
    " \n",
    "main()"
   ]
  },
  {
   "cell_type": "markdown",
   "metadata": {},
   "source": [
    "执行后在输出中查找打印的变量值：\n",
    "   \n",
    "    >>> n = 0"
   ]
  },
  {
   "cell_type": "markdown",
   "metadata": {},
   "source": [
    "## 7.2 断言 assert\n",
    "\n",
    "凡是用print来辅助查看的地方，都可以用断言（assert）来替代："
   ]
  },
  {
   "cell_type": "code",
   "execution_count": 3,
   "metadata": {},
   "outputs": [
    {
     "name": "stderr",
     "output_type": "stream",
     "text": [
      "<ipython-input-3-31b241b88f37>:4: SyntaxWarning: assertion is always true, perhaps remove parentheses?\n",
      "  assert(n != 0, 'n is zero!')\n"
     ]
    }
   ],
   "source": [
    "# err.py\n",
    "def foo(s):\n",
    "  n = int(s)\n",
    "  assert(n != 0, 'n is zero!')\n",
    "  return 10 / n\n",
    " \n",
    "def main():\n",
    "  foo('0')"
   ]
  },
  {
   "cell_type": "markdown",
   "metadata": {},
   "source": [
    "assert的意思是，表达式n != 0应该是True，否则，后面的代码就会出错。\n",
    "\n",
    "如果断言失败，assert语句本身就会抛出AssertionError"
   ]
  },
  {
   "cell_type": "markdown",
   "metadata": {},
   "source": [
    "程序中如果到处充斥着assert，和print相比也好不到哪去。不过，启动Python解释器时可以用-O参数来关闭assert\n",
    "\n",
    "python -O err.py"
   ]
  },
  {
   "cell_type": "code",
   "execution_count": 6,
   "metadata": {
    "scrolled": true
   },
   "outputs": [
    {
     "name": "stdout",
     "output_type": "stream",
     "text": [
      "Writing err.py\n"
     ]
    }
   ],
   "source": [
    "%%writefile err.py\n",
    "def foo(s):\n",
    "  n = int(s)\n",
    "  assert(n != 0, 'n is zero!')\n",
    "  return 10 / n\n",
    " \n",
    "def main():\n",
    "  foo('0')"
   ]
  },
  {
   "cell_type": "markdown",
   "metadata": {},
   "source": [
    "## 7.3 logging\n",
    "\n",
    "把print替换为logging是第3种方式，和assert比，logging不会抛出错误，而且可以输出到文件："
   ]
  },
  {
   "cell_type": "markdown",
   "metadata": {},
   "source": [
    "### 7.3.1 简单将日志打印到屏幕"
   ]
  },
  {
   "cell_type": "code",
   "execution_count": 15,
   "metadata": {
    "scrolled": true
   },
   "outputs": [
    {
     "name": "stderr",
     "output_type": "stream",
     "text": [
      "WARNING:root:warning message\n",
      "ERROR:root:error message\n",
      "CRITICAL:root:critical message\n"
     ]
    }
   ],
   "source": [
    "import logging  \n",
    "\n",
    "logging.debug('debug message')  \n",
    "logging.info('info message')  \n",
    "logging.warning('warning message')  \n",
    "logging.error('error message')  \n",
    "logging.critical('critical message')  "
   ]
  },
  {
   "cell_type": "markdown",
   "metadata": {},
   "source": [
    "可见，默认情况下python的logging模块将日志打印到了标准输出中，且只显示了大于等于WARNING级别的日志，\n",
    "\n",
    "这说明默认的日志级别设置为WARNING（日志级别等级CRITICAL > ERROR > WARNING > INFO > DEBUG > NOTSET）\n",
    "\n",
    "默认的日志格式为:\n",
    "    \n",
    "     日志级别：Logger名称：用户输出消息。"
   ]
  },
  {
   "cell_type": "markdown",
   "metadata": {},
   "source": [
    "### 7.3.2 灵活配置日志级别，日志格式，输出位置"
   ]
  },
  {
   "cell_type": "code",
   "execution_count": 23,
   "metadata": {},
   "outputs": [
    {
     "name": "stdout",
     "output_type": "stream",
     "text": [
      "Overwriting err.py\n"
     ]
    }
   ],
   "source": [
    "%%writefile err.py\n",
    "import logging  \n",
    "logging.basicConfig(level=logging.DEBUG,  \n",
    "                    format='%(asctime)s %(filename)s[line:%(lineno)d] %(levelname)s %(message)s',  \n",
    "                    datefmt='%a, %d %b %Y %H:%M:%S',  \n",
    "                    filename='test.log',  \n",
    "                    filemode='w')  \n",
    "  \n",
    "logging.debug('debug message')  \n",
    "logging.info('info message')  \n",
    "logging.warning('warning message')  \n",
    "logging.error('error message')  \n",
    "logging.critical('critical message')  "
   ]
  },
  {
   "cell_type": "code",
   "execution_count": 24,
   "metadata": {
    "scrolled": true
   },
   "outputs": [
    {
     "name": "stderr",
     "output_type": "stream",
     "text": [
      "WARNING:root:warning message\n",
      "ERROR:root:error message\n",
      "CRITICAL:root:critical message\n"
     ]
    }
   ],
   "source": [
    "%run err.py  # 在终端运行"
   ]
  },
  {
   "cell_type": "code",
   "execution_count": 13,
   "metadata": {},
   "outputs": [
    {
     "name": "stdout",
     "output_type": "stream",
     "text": [
      "Overwriting err.py\n"
     ]
    }
   ],
   "source": [
    "%%writefile err.py\n",
    "# err.py\n",
    "import logging\n",
    "logging.basicConfig(level=logging.INFO)\n",
    "\n",
    "s = '0'\n",
    "n = int(s)\n",
    "logging.info('n = %d' % n)\n",
    "print(10 / n)"
   ]
  },
  {
   "cell_type": "markdown",
   "metadata": {},
   "source": [
    "    在logging.basicConfig()函数中可通过具体参数来更改logging模块默认行为，可用参数有\n",
    "    filename：用指定的文件名创建FiledHandler（后边会具体讲解handler的概念），这样日志会被存储在指定的文件中。\n",
    "    filemode：文件打开方式，在指定了filename时使用这个参数，默认值为“a”还可指定为“w”。\n",
    "    format：指定handler使用的日志显示格式。 \n",
    "    datefmt：指定日期时间格式。 \n",
    "    level：设置rootlogger（后边会讲解具体概念）的日志级别 \n",
    "    stream：用指定的stream创建StreamHandler。可以指定输出到sys.stderr,sys.stdout或者文件，默认为sys.stderr。若同时列出了filename和stream两个参数，则stream参数会被忽略。\n",
    "\n",
    "    format参数中可能用到的格式化串：\n",
    "    %(name)s Logger的名字\n",
    "    %(levelno)s 数字形式的日志级别\n",
    "    %(levelname)s 文本形式的日志级别\n",
    "    %(pathname)s 调用日志输出函数的模块的完整路径名，可能没有\n",
    "    %(filename)s 调用日志输出函数的模块的文件名\n",
    "    %(module)s 调用日志输出函数的模块名\n",
    "    %(funcName)s 调用日志输出函数的函数名\n",
    "    %(lineno)d 调用日志输出函数的语句所在的代码行\n",
    "    %(created)f 当前时间，用UNIX标准的表示时间的浮 点数表示\n",
    "    %(relativeCreated)d 输出日志信息时的，自Logger创建以 来的毫秒数\n",
    "    %(asctime)s 字符串形式的当前时间。默认格式是 “2003-07-08 16:49:45,896”。逗号后面的是毫秒\n",
    "    %(thread)d 线程ID。可能没有\n",
    "    %(threadName)s 线程名。可能没有\n",
    "    %(process)d 进程ID。可能没有\n",
    "    %(message)s用户输出的消息"
   ]
  },
  {
   "cell_type": "markdown",
   "metadata": {},
   "source": [
    "## 7.4 pdb"
   ]
  },
  {
   "cell_type": "markdown",
   "metadata": {},
   "source": [
    "第4种方式是启动Python的调试器pdb，让程序以单步方式运行，可以随时查看运行状态。我们先准备好程序"
   ]
  },
  {
   "cell_type": "code",
   "execution_count": 26,
   "metadata": {},
   "outputs": [
    {
     "name": "stdout",
     "output_type": "stream",
     "text": [
      "Overwriting err.py\n"
     ]
    }
   ],
   "source": [
    "%%writefile err.py\n",
    "# err.py\n",
    "s = '0'\n",
    "n = int(s)\n",
    "print(10 / n)"
   ]
  },
  {
   "cell_type": "markdown",
   "metadata": {
    "collapsed": true
   },
   "source": [
    "然后在终端启动\n",
    "\n",
    "    python -m pdb err.py\n",
    "\n",
    "以参数-m pdb启动后，pdb定位到下一步要执行的代码-> s = '0'。输入命令l来查看代码：\n",
    "\n",
    "    (Pdb) l\n",
    "     1   # err.py\n",
    "     2 -> s = '0'\n",
    "     3   n = int(s)\n",
    "     4   print 10 / n\n",
    "    [EOF]\n",
    "    \n",
    "输入命令n可以单步执行代码：\n",
    "\n",
    "    (Pdb) n\n",
    "    \n",
    "任何时候都可以输入命令p 变量名来查看变量：\n",
    "    \n",
    "    (Pdb) p s\n",
    "    '0'\n",
    "    (Pdb) p n\n",
    "    0\n",
    "    \n",
    "输入命令q结束调试，退出程序：    \n",
    "    \n",
    "    (Pdb) q"
   ]
  },
  {
   "cell_type": "markdown",
   "metadata": {},
   "source": [
    "这种通过pdb在命令行调试的方法理论上是万能的，但实在是太麻烦了，如果有一千行代码，要运行到第999行得敲多少命令啊。还好，我们还有另一种调试方法。"
   ]
  },
  {
   "cell_type": "markdown",
   "metadata": {},
   "source": [
    "**pdb.set_trace()**\n",
    "\n",
    "这个方法也是用pdb，但是不需要单步执行，我们只需要import pdb，然后，在可能出错的地方放一个pdb.set_trace()，就可以设置一个断点："
   ]
  },
  {
   "cell_type": "code",
   "execution_count": 2,
   "metadata": {},
   "outputs": [
    {
     "name": "stdout",
     "output_type": "stream",
     "text": [
      "Overwriting err.py\n"
     ]
    }
   ],
   "source": [
    "%%writefile err.py\n",
    "#encoding=utf-8\n",
    "#err.py\n",
    "import pdb\n",
    " \n",
    "s = '0'\n",
    "n = int(s)\n",
    "pdb.set_trace() # 运行到这里会自动暂停\n",
    "print(10 / n)"
   ]
  },
  {
   "cell_type": "markdown",
   "metadata": {},
   "source": [
    "在终端运行代码，程序会自动在pdb.set_trace()暂停并进入pdb调试环境，可以用命令p查看变量，或者用命令c继续运行\n",
    "\n",
    "    python err.py \n",
    "    \n",
    "这个方式比直接启动pdb单步调试效率要高很多，但也高不到哪去。"
   ]
  },
  {
   "cell_type": "markdown",
   "metadata": {},
   "source": [
    "运行脚本后执行响应的命令进行调试:\n",
    "\n",
    "    Documented commands (type help <topic>):\n",
    "    ========================================\n",
    "    !: 后接语句可以直接改变变量的值\n",
    "\n",
    "    a/args: 打印当前函数的参数\n",
    "\n",
    "    alias: 给一段执行程序取别名(alias [name [command]])\n",
    "\n",
    "    b/break: 设置断点(b [([filename:]lineno | function) [, condition]])\n",
    "\n",
    "    c/cont/continue:  继续执行脚本\n",
    "\n",
    "    cl/clear: 清除断点(cl [filename:lineno | bpnumber [bpnumber ...]])\n",
    "\n",
    "    commands:\n",
    "\n",
    "    disable: 禁用启用的断点(disable [bpnumber [bpnumber ...]])\n",
    "\n",
    "    d/down: 移动到下一层堆栈(d [count])\n",
    "\n",
    "    debug:\n",
    "\n",
    "    display:\n",
    "\n",
    "    enable: 启用禁用的断点(enable [bpnumber [bpnumber ...]])\n",
    "\n",
    "    h/?/help: 打印帮助信息(h [command])\n",
    "\n",
    "    ignore:\n",
    "\n",
    "    interact:\n",
    "\n",
    "    j/jump: 跳转到指定行\n",
    "\n",
    "    l/list: 查看当前代码块\n",
    "\n",
    "    ll: 查看完整源代码\n",
    "\n",
    "    longlist:\n",
    "\n",
    "    n/next: 执行下一行代码\n",
    "\n",
    "    p/pp: 打印变量或表达式\n",
    "\n",
    "    q/quit/exit:  终止执行并退出调试\n",
    "\n",
    "    r/return: 执行脚本直到从当前函数返回\n",
    "\n",
    "    run/restart:  重新开始调试\n",
    "\n",
    "    rv/retval:\n",
    "\n",
    "    s/step: 进入函数\n",
    "\n",
    "    source:\n",
    "\n",
    "    u/up: 移动到上一层堆栈(u [count])\n",
    "\n",
    "    undisplay:\n",
    "\n",
    "    unalias: 删除别名(unalias name)\n",
    "\n",
    "    unt/until:\n",
    "\n",
    "    w/bt/where:  打印堆栈轨迹\n",
    "\n",
    "    whatis:\n",
    "\n",
    "    Miscellaneous help topics:\n",
    "    ==========================\n",
    "    exec  pdb\n",
    "\n",
    "\n",
    "\n",
    "更具体的信息可通过官方文档进行查看: [pdb文档](https://docs.python.org/3/library/pdb.html)"
   ]
  },
  {
   "cell_type": "markdown",
   "metadata": {},
   "source": [
    "## 7.5 IDE\n",
    "\n",
    "如果要比较爽地设置断点、单步执行，就需要一个支持调试功能的IDE。目前比较好的Python IDE有PyCharm：\n",
    "\n",
    "http://www.jetbrains.com/pycharm/\n",
    "\n",
    "另外，Eclipse加上pydev插件也可以调试Python程序。"
   ]
  },
  {
   "cell_type": "code",
   "execution_count": null,
   "metadata": {
    "collapsed": true
   },
   "outputs": [],
   "source": []
  }
 ],
 "metadata": {
  "kernelspec": {
   "display_name": "Python 3",
   "language": "python",
   "name": "python3"
  },
  "language_info": {
   "codemirror_mode": {
    "name": "ipython",
    "version": 3
   },
   "file_extension": ".py",
   "mimetype": "text/x-python",
   "name": "python",
   "nbconvert_exporter": "python",
   "pygments_lexer": "ipython3",
   "version": "3.6.3"
  },
  "toc": {
   "base_numbering": 1,
   "nav_menu": {},
   "number_sections": false,
   "sideBar": true,
   "skip_h1_title": false,
   "title_cell": "Table of Contents",
   "title_sidebar": "Contents",
   "toc_cell": false,
   "toc_position": {},
   "toc_section_display": true,
   "toc_window_display": false
  }
 },
 "nbformat": 4,
 "nbformat_minor": 2
}
