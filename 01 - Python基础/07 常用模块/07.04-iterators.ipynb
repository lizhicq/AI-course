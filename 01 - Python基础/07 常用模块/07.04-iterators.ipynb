{
 "cells": [
  {
   "cell_type": "markdown",
   "metadata": {},
   "source": [
    "# 4.迭代，可迭代的和迭代器"
   ]
  },
  {
   "cell_type": "markdown",
   "metadata": {},
   "source": [
    "开始本篇之前，我们先来了解几个单词\n",
    "\n",
    "    迭代：iteration\n",
    "\n",
    "    可迭代的：Iterable\n",
    "\n",
    "    迭代器：iterator\n",
    "\n",
    "    - 从单词我们可以看出来差异，可迭代的一看就是状态词，我们不做多说，下面会再讲，而我们发现迭代和迭代器都是一个名词表示，只不过迭代相比较迭代器更加抽象，\n",
    "    - 这就好比，我们遍历一个字典dict，用到for...in...的操作，我们称之为在 迭代，而这种能遍历的行为或者能迭代的行为我们称之为可迭代的，\n",
    "    - 而迭代器是具体到迭代行为的操作者或者说是实行者（感觉被赋予了生命一样），在Python中有个函数专门返回的就是迭代器对象，而这个对象可以通过next的属性对dict同样进行遍历，\n",
    "    - 我们又称这种现象为迭代器，如果你还是比较抽象的话，下面我就开始，直观清晰的展现这三者之间的联系："
   ]
  },
  {
   "cell_type": "markdown",
   "metadata": {},
   "source": [
    "## 4.1 迭代（iteration）"
   ]
  },
  {
   "cell_type": "markdown",
   "metadata": {},
   "source": [
    "如果给定一个list或tuple，我们要想访问其中的某个元素，我们可以通过下标来，如果我们想要访问所有的元素，那我们可以用for循环来遍历这个list或者tuple，而这种遍历我们就叫做迭代。\n",
    "\n",
    "在Python中，迭代通过for..in..来完成，而其他大部分语言比如c和java，都是通过下标完成的。"
   ]
  },
  {
   "cell_type": "code",
   "execution_count": null,
   "metadata": {},
   "outputs": [],
   "source": [
    "#!/usr/bin/env python3  \n",
    "# -*- encoding:utf-8 -*-  \n",
    "#迭代字典dict  \n",
    "\n",
    "d={'name':'appleyk','age':26,'gender':'F','job':'coder'}  \n",
    "  \n",
    "print(d)#首先输出dict  \n",
    "print(\"迭代key\")  \n",
    "for s in d:   \n",
    "    print(s)  \n",
    "  \n",
    "print(\"迭代value\")  \n",
    "for value in d.values():  \n",
    "    print(value)  \n",
    "    \n",
    "print('迭代key和value')  \n",
    "for k,v in d.items():  \n",
    "    print('key:%s,value:%s' %(k,v))  \n"
   ]
  },
  {
   "cell_type": "markdown",
   "metadata": {},
   "source": [
    "事实上，字符串也可以进行迭代，迭代出每个字符："
   ]
  },
  {
   "cell_type": "code",
   "execution_count": 3,
   "metadata": {
    "scrolled": true
   },
   "outputs": [
    {
     "name": "stdout",
     "output_type": "stream",
     "text": [
      "Hello World\n",
      "Done!\n"
     ]
    }
   ],
   "source": [
    "#!/usr/bin/env python3  \n",
    "# -*- encoding:utf-8 -*-  \n",
    "#迭代字典dict  \n",
    "''''' \n",
    "d={'name':'appleyk','age':26,'gender':'F','job':'coder'} \n",
    " \n",
    "print(d)#首先输出dict \n",
    "print(\"迭代key\") \n",
    "for s in d: #迭代key \n",
    "    print(s) \n",
    " \n",
    "print(\"迭代value\") \n",
    "for value in d.values():#迭代值value \n",
    "    print(value) \n",
    "print('迭代key和value') \n",
    "for k,v in d.items():#迭代key和value \n",
    "    print('key:%s,value:%s' %(k,v)) \n",
    "''' #多行注释用 三个单引号  \n",
    "  \n",
    "from __future__ import print_function #如果让print输出的内容不自动换行，我们可以导入这个文件  \n",
    "  \n",
    "for ch in 'Hello World':  \n",
    "    print(ch,end='') #这样的话，我们就可以原封不动的输出Hello World 了  \n",
    "print(\"\\nDone!\")  "
   ]
  },
  {
   "cell_type": "markdown",
   "metadata": {},
   "source": [
    "## 4.2 可迭代的（Iterable）"
   ]
  },
  {
   "cell_type": "markdown",
   "metadata": {},
   "source": [
    "如果一个list、tuple或者一个字符串可以遍历，也就是有迭代的行为，我们称之为是可以迭代的\n",
    "\n",
    "比如，我们判断一下，字符串\"ABC\"是否是可迭代的，我们可以这样做:"
   ]
  },
  {
   "cell_type": "code",
   "execution_count": 5,
   "metadata": {
    "scrolled": true
   },
   "outputs": [
    {
     "name": "stdout",
     "output_type": "stream",
     "text": [
      "判断'ABC'是否属于可迭代的对象  : True\n",
      "判断123是否属于可迭代的对象    : False\n",
      "判断list是否属于可迭代的对象   : True\n",
      "判断tuple是否属于可迭代的对象  : True\n",
      "判断dict是否属于可迭代的对象   : True\n",
      "判断set是否属于可迭代的对象    : True\n"
     ]
    }
   ],
   "source": [
    "#判断str是否可迭代  \n",
    "from collections import Iterable #如何判断一个对象是否可迭代，通过collections模块的Iterable类型判断  \n",
    "  \n",
    "print('判断\\'ABC\\'是否属于可迭代的对象  :',isinstance('ABC',Iterable))  \n",
    "print('判断123是否属于可迭代的对象    :',isinstance(123,Iterable))  # 一个int类型的数字是否是可迭代的\n",
    "\n",
    "L = {1,2,3,4}  \n",
    "T = ('A','B','C','D')  \n",
    "D = {1:'A',2:'B',3:'C',4:'D'}  \n",
    "S = {\"name\",\"age\",\"sex\",\"adress\"}  \n",
    "\n",
    "print('判断list是否属于可迭代的对象   :' ,isinstance(L,Iterable))  \n",
    "print('判断tuple是否属于可迭代的对象  :',isinstance(T,Iterable))  \n",
    "print('判断dict是否属于可迭代的对象   :' ,isinstance(D,Iterable))  \n",
    "print('判断set是否属于可迭代的对象    :' ,isinstance(S,Iterable))  "
   ]
  },
  {
   "cell_type": "markdown",
   "metadata": {},
   "source": [
    "显然，不是所有类型的对象都是可迭代的。\n",
    "\n",
    "下面插播两条知识点：\n",
    "\n",
    "A、Python内置的enumerate函数可以把一个list变成 索引-元素对，这样就可以在for循环中同时迭代索引(下标)和元素（key）本身"
   ]
  },
  {
   "cell_type": "code",
   "execution_count": 8,
   "metadata": {},
   "outputs": [
    {
     "name": "stdout",
     "output_type": "stream",
     "text": [
      "0 : first\n",
      "1 : second\n",
      "2 : third\n",
      "上面是list，下面是dict\n",
      "0 : first\n",
      "1 : second\n",
      "2 : third\n"
     ]
    },
    {
     "data": {
      "text/plain": [
       "'\\'\\' \\nfor index,value in enumerate((\\'first\\',\\'second\\',\\'third\\')): \\n    print(index,\":\",value) \\n'"
      ]
     },
     "execution_count": 8,
     "metadata": {},
     "output_type": "execute_result"
    }
   ],
   "source": [
    "#!/usr/bin/env python3  \n",
    "# -*- encoding:utf-8 -*-  \n",
    "  \n",
    "for index,value in enumerate(['first','second','third']):  \n",
    "    print(index,\":\",value)  \n",
    "    \n",
    "print(\"上面是list，下面是dict\")  \n",
    "\n",
    "for index,key in enumerate({'first':1,'second':2,'third':3}):  \n",
    "    print(index,\":\",key)  \n",
    "    \n",
    "''''' \n",
    "for index,value in enumerate(('first','second','third')): \n",
    "    print(index,\":\",value) \n",
    "'''#当然tuple，字符串等都是可以的，只要满足可迭代，就可以这样写 "
   ]
  },
  {
   "cell_type": "markdown",
   "metadata": {},
   "source": [
    "B、对于迭代的对象是嵌套型的，我们也可以通过for..in..循环的方式取出每一个元素\n",
    "\n",
    "比如，迭代的对象实际上是一个list，然而这个list的每一个元素竟然又是一个tuple，且每个tuple对象有N个元素，这样的话，我们就不能单单通过 for x in list：的方式来取了，你可以大胆猜测一下，应该可以这样写，for N1,N2,N3...in list:，如果成立，则再次证明了我们的Python实在是简单暴力又一次啊！，不多说，看demo："
   ]
  },
  {
   "cell_type": "code",
   "execution_count": 10,
   "metadata": {},
   "outputs": [
    {
     "name": "stdout",
     "output_type": "stream",
     "text": [
      "1 2 3\n",
      "4 5 6\n",
      "7 8 9\n"
     ]
    }
   ],
   "source": [
    "#!/usr/bin/env python3  \n",
    "# -*- encoding:utf-8 -*-  \n",
    "  \n",
    "for x,y,z in [(1,2,3),(4,5,6,),(7,8,9)]:  \n",
    "    print(x,y,z)  # 如果，我们写代码的时候不写z会是什么情况？"
   ]
  },
  {
   "cell_type": "markdown",
   "metadata": {},
   "source": [
    "## 4.3 迭代器(Iterator)"
   ]
  },
  {
   "cell_type": "markdown",
   "metadata": {},
   "source": [
    "最开始说了什么是迭代器，一种更具体的手段，通过next来访问元素。\n",
    "\n",
    "例子A：\n",
    "\n",
    "我们定义一个list，并通过iter获得list的迭代器对象"
   ]
  },
  {
   "cell_type": "code",
   "execution_count": 11,
   "metadata": {},
   "outputs": [
    {
     "name": "stdout",
     "output_type": "stream",
     "text": [
      "appleyk\n",
      "F\n",
      "26\n",
      "Python3\n"
     ]
    },
    {
     "name": "stderr",
     "output_type": "stream",
     "text": [
      "系统找不到指定的路径。\n"
     ]
    },
    {
     "ename": "StopIteration",
     "evalue": "",
     "output_type": "error",
     "traceback": [
      "\u001b[1;31m---------------------------------------------------------------------------\u001b[0m",
      "\u001b[1;31mStopIteration\u001b[0m                             Traceback (most recent call last)",
      "\u001b[1;32m<ipython-input-11-11319679cf35>\u001b[0m in \u001b[0;36m<module>\u001b[1;34m()\u001b[0m\n\u001b[0;32m     10\u001b[0m \u001b[0mit\u001b[0m \u001b[1;33m=\u001b[0m \u001b[0miter\u001b[0m\u001b[1;33m(\u001b[0m\u001b[0mL\u001b[0m\u001b[1;33m)\u001b[0m \u001b[1;31m#获得list的迭代器对象\u001b[0m\u001b[1;33m\u001b[0m\u001b[0m\n\u001b[0;32m     11\u001b[0m \u001b[1;32mwhile\u001b[0m \u001b[1;32mTrue\u001b[0m\u001b[1;33m:\u001b[0m\u001b[1;33m\u001b[0m\u001b[0m\n\u001b[1;32m---> 12\u001b[1;33m     \u001b[0mx\u001b[0m\u001b[1;33m=\u001b[0m\u001b[0mnext\u001b[0m\u001b[1;33m(\u001b[0m\u001b[0mit\u001b[0m\u001b[1;33m)\u001b[0m\u001b[1;31m#然后我们用next对这个对象进行遍历\u001b[0m\u001b[1;33m\u001b[0m\u001b[0m\n\u001b[0m\u001b[0;32m     13\u001b[0m     \u001b[0mprint\u001b[0m\u001b[1;33m(\u001b[0m\u001b[0mx\u001b[0m\u001b[1;33m)\u001b[0m\u001b[1;33m\u001b[0m\u001b[0m\n\u001b[0;32m     14\u001b[0m     \u001b[1;31m#next会不会溢出呢？它会一直访问停不下来吗？\u001b[0m\u001b[1;33m\u001b[0m\u001b[1;33m\u001b[0m\u001b[0m\n",
      "\u001b[1;31mStopIteration\u001b[0m: "
     ]
    }
   ],
   "source": [
    "!/usr/bin/env python3  \n",
    "# -*- encoding:utf-8 -*-  \n",
    "  \n",
    "#摘要:  \n",
    "#任何可迭代的对象 都可以使用for循环打印，包括我们自定义的类型，只要符合迭代条件，就可以用for循环  \n",
    "#另外 注意 iterator 是迭代器的意思，而Iterable 是一个类型  \n",
    "#为什么这么说呢，迭代器 可以通过next来访问元素，因为它不知道对象里面有多少个元素  \n",
    "\n",
    "L = ['appleyk','F',26,'Python3']  \n",
    "it = iter(L) #获得list的迭代器对象  \n",
    "while True:  \n",
    "    x=next(it)#然后我们用next对这个对象进行遍历  \n",
    "    print(x)  \n",
    "    #next会不会溢出呢？它会一直访问停不下来吗？  "
   ]
  },
  {
   "cell_type": "markdown",
   "metadata": {},
   "source": [
    "为避免这种尴尬，我们让next不到元素的时候，循环终止，这样的话，我们就看不到异常信息的出现了，我们改下demo："
   ]
  },
  {
   "cell_type": "code",
   "execution_count": 12,
   "metadata": {
    "scrolled": true
   },
   "outputs": [
    {
     "name": "stdout",
     "output_type": "stream",
     "text": [
      "appleyk\n",
      "F\n",
      "26\n",
      "Python3\n"
     ]
    }
   ],
   "source": [
    "#!/usr/bin/env python3  \n",
    "# -*- encoding:utf-8 -*-  \n",
    "  \n",
    "#摘要:  \n",
    "#任何可迭代的对象 都可以使用for循环打印，包括我们自定义的类型，只要符合迭代条件，就可以用for循环  \n",
    "#另外 注意 iterator 是迭代器的意思，而Iterable 是一个类型  \n",
    "#为什么这么说呢，迭代器 可以通过next来访问元素，因为它不知道对象里面有多少个元素  \n",
    "\n",
    "L = ['appleyk','F',26,'Python3']  \n",
    "it = iter(L) #获得list的迭代器对象  \n",
    "while True:  \n",
    "    try:#try 试图捕获异常  \n",
    "        x=next(it)  \n",
    "        print(x)  \n",
    "    except StopIteration:#当捕获到迭代行为终止的时候，也就是无元素可以在next的时候，我们终止循环  \n",
    "        break  "
   ]
  },
  {
   "cell_type": "markdown",
   "metadata": {},
   "source": [
    "样，我们就可以成功的跳过next的bug行为（其实也不怨它，只能说明它埋头苦干，太敬业了）了"
   ]
  },
  {
   "cell_type": "markdown",
   "metadata": {},
   "source": [
    "## 4.4 迭代器对象必须实现 `__iter__` 方法："
   ]
  },
  {
   "cell_type": "code",
   "execution_count": 13,
   "metadata": {},
   "outputs": [
    {
     "name": "stdout",
     "output_type": "stream",
     "text": [
      "<list_iterator object at 0x000001D9F25C7080>\n"
     ]
    }
   ],
   "source": [
    "x = [2, 4, 6]\n",
    "i = x.__iter__()\n",
    "print(i)"
   ]
  },
  {
   "cell_type": "markdown",
   "metadata": {},
   "source": [
    "`__iter__()` 返回的对象支持 `next` 方法，返回迭代器中的下一个元素："
   ]
  },
  {
   "cell_type": "code",
   "execution_count": 15,
   "metadata": {},
   "outputs": [
    {
     "name": "stdout",
     "output_type": "stream",
     "text": [
      "2\n"
     ]
    }
   ],
   "source": [
    "print(next(i))"
   ]
  },
  {
   "cell_type": "markdown",
   "metadata": {},
   "source": [
    "当下一个元素不存在时，会 `raise` 一个 `StopIteration` 错误："
   ]
  },
  {
   "cell_type": "code",
   "execution_count": 16,
   "metadata": {},
   "outputs": [
    {
     "name": "stdout",
     "output_type": "stream",
     "text": [
      "4\n",
      "6\n"
     ]
    }
   ],
   "source": [
    "print(next(i))\n",
    "print(next(i))"
   ]
  },
  {
   "cell_type": "code",
   "execution_count": 17,
   "metadata": {},
   "outputs": [
    {
     "ename": "StopIteration",
     "evalue": "",
     "output_type": "error",
     "traceback": [
      "\u001b[1;31m---------------------------------------------------------------------------\u001b[0m",
      "\u001b[1;31mStopIteration\u001b[0m                             Traceback (most recent call last)",
      "\u001b[1;32m<ipython-input-17-bed2471d02c1>\u001b[0m in \u001b[0;36m<module>\u001b[1;34m()\u001b[0m\n\u001b[1;32m----> 1\u001b[1;33m \u001b[0mnext\u001b[0m\u001b[1;33m(\u001b[0m\u001b[0mi\u001b[0m\u001b[1;33m)\u001b[0m\u001b[1;33m\u001b[0m\u001b[0m\n\u001b[0m",
      "\u001b[1;31mStopIteration\u001b[0m: "
     ]
    }
   ],
   "source": [
    "next(i)"
   ]
  },
  {
   "cell_type": "markdown",
   "metadata": {},
   "source": [
    "很多标准库函数返回的是迭代器："
   ]
  },
  {
   "cell_type": "code",
   "execution_count": 18,
   "metadata": {},
   "outputs": [
    {
     "name": "stdout",
     "output_type": "stream",
     "text": [
      "<list_reverseiterator object at 0x000001D9F25EBFD0>\n"
     ]
    }
   ],
   "source": [
    "r = reversed(x)\n",
    "print(r)"
   ]
  },
  {
   "cell_type": "markdown",
   "metadata": {},
   "source": [
    "调用它的 `next()` 方法："
   ]
  },
  {
   "cell_type": "code",
   "execution_count": 19,
   "metadata": {
    "scrolled": false
   },
   "outputs": [
    {
     "name": "stdout",
     "output_type": "stream",
     "text": [
      "6\n",
      "4\n",
      "2\n"
     ]
    }
   ],
   "source": [
    "print(next(r))\n",
    "print(next(r))\n",
    "print(next(r))"
   ]
  },
  {
   "cell_type": "markdown",
   "metadata": {},
   "source": [
    "Python3字典只有一个视图版本的keys、values、items方法。"
   ]
  },
  {
   "cell_type": "code",
   "execution_count": 21,
   "metadata": {
    "scrolled": true
   },
   "outputs": [
    {
     "name": "stdout",
     "output_type": "stream",
     "text": [
      "dict_items([('a', 1), ('b', 2), ('c', 3)])\n"
     ]
    }
   ],
   "source": [
    "x = {'a':1, 'b':2, 'c':3}\n",
    "i = x.items()  # 返回的是列表对象\n",
    "print(i)"
   ]
  },
  {
   "cell_type": "markdown",
   "metadata": {},
   "source": [
    "## 4.5 自定义迭代器"
   ]
  },
  {
   "cell_type": "markdown",
   "metadata": {},
   "source": [
    "1、迭代器基于下面两个个方法：\n",
    "\n",
    "（1）`__next__` 返回容器的下一个项目\n",
    "\n",
    "（2）`__iter__` 返回迭代器本身\n",
    "\n",
    "2、当序列遍历完时，将抛出StopIteration异常，所以通过捕获这个异常来停止循环"
   ]
  },
  {
   "cell_type": "code",
   "execution_count": 27,
   "metadata": {},
   "outputs": [
    {
     "name": "stdout",
     "output_type": "stream",
     "text": [
      "5\n",
      "4\n",
      "3\n",
      "2\n",
      "1\n",
      "0\n"
     ]
    }
   ],
   "source": [
    "#encoding:UTF-8  \n",
    "class MyIterator(object):  \n",
    "    def __init__(self,step):  \n",
    "        self.step=step  \n",
    "      \n",
    "    def __next__(self):  \n",
    "        if self.step==0:  \n",
    "            raise StopIteration  \n",
    "        self.step-=1  \n",
    "        return self.step  \n",
    "      \n",
    "    def __iter__(self):  \n",
    "        return self  \n",
    "      \n",
    "for i in MyIterator(6):  \n",
    "    print(i)  "
   ]
  },
  {
   "cell_type": "markdown",
   "metadata": {},
   "source": [
    "定义一个list取反迭代器"
   ]
  },
  {
   "cell_type": "code",
   "execution_count": 29,
   "metadata": {
    "collapsed": true
   },
   "outputs": [],
   "source": [
    "class ReverseListIterator(object):\n",
    "    \n",
    "    def __init__(self, list):\n",
    "        self.list = list\n",
    "        self.index = len(list)\n",
    "        \n",
    "    def __iter__(self):\n",
    "        return self\n",
    "    \n",
    "    def __next__(self):\n",
    "        self.index -= 1\n",
    "        if self.index >= 0:\n",
    "            return self.list[self.index]\n",
    "        else:\n",
    "            raise StopIteration"
   ]
  },
  {
   "cell_type": "code",
   "execution_count": 31,
   "metadata": {},
   "outputs": [
    {
     "name": "stdout",
     "output_type": "stream",
     "text": [
      "9\n",
      "8\n",
      "7\n",
      "6\n",
      "5\n",
      "4\n",
      "3\n",
      "2\n",
      "1\n",
      "0\n"
     ]
    }
   ],
   "source": [
    "x = range(10)\n",
    "#print(x)\n",
    "for i in ReverseListIterator(x):\n",
    "    print(i)"
   ]
  },
  {
   "cell_type": "markdown",
   "metadata": {},
   "source": [
    "只要我们定义了这三个方法，我们可以返回任意迭代值："
   ]
  },
  {
   "cell_type": "code",
   "execution_count": 32,
   "metadata": {
    "collapsed": true
   },
   "outputs": [],
   "source": [
    "class Collatz(object):\n",
    "    \n",
    "    def __init__(self, start):\n",
    "        self.value = start\n",
    "        \n",
    "    def __iter__(self):\n",
    "        return self\n",
    "    \n",
    "    def __next__(self):\n",
    "        if self.value == 1:\n",
    "            raise StopIteration\n",
    "        elif self.value % 2 == 0:\n",
    "            self.value = self.value / 2\n",
    "        else:\n",
    "            self.value = 3 * self.value + 1\n",
    "        return self.value"
   ]
  },
  {
   "cell_type": "markdown",
   "metadata": {},
   "source": [
    "这里我们实现 [Collatz 猜想](http://baike.baidu.com/view/736196.htm)：\n",
    "\n",
    "- 奇数 n：返回 3n + 1\n",
    "- 偶数 n：返回 n / 2\n",
    "\n",
    "直到 n 为 1 为止："
   ]
  },
  {
   "cell_type": "code",
   "execution_count": 34,
   "metadata": {},
   "outputs": [
    {
     "name": "stdout",
     "output_type": "stream",
     "text": [
      "22\n",
      "11.0\n",
      "34.0\n",
      "17.0\n",
      "52.0\n",
      "26.0\n",
      "13.0\n",
      "40.0\n",
      "20.0\n",
      "10.0\n",
      "5.0\n",
      "16.0\n",
      "8.0\n",
      "4.0\n",
      "2.0\n",
      "1.0\n"
     ]
    }
   ],
   "source": [
    "for x in Collatz(7):\n",
    "    print(x)"
   ]
  },
  {
   "cell_type": "markdown",
   "metadata": {},
   "source": [
    "不过迭代器对象存在状态，会出现这样的问题："
   ]
  },
  {
   "cell_type": "code",
   "execution_count": 35,
   "metadata": {},
   "outputs": [
    {
     "name": "stdout",
     "output_type": "stream",
     "text": [
      "22 11.0\n",
      "34.0 17.0\n",
      "52.0 26.0\n",
      "13.0 40.0\n",
      "20.0 10.0\n",
      "5.0 16.0\n",
      "8.0 4.0\n",
      "2.0 1.0\n"
     ]
    }
   ],
   "source": [
    "i = Collatz(7)\n",
    "for x, y in zip(i, i):\n",
    "    print(x, y)"
   ]
  },
  {
   "cell_type": "markdown",
   "metadata": {},
   "source": [
    "一个比较好的解决方法是将迭代器和可迭代对象分开处理，这里提供了一个二分树的中序遍历实现："
   ]
  },
  {
   "cell_type": "code",
   "execution_count": 17,
   "metadata": {
    "collapsed": true
   },
   "outputs": [],
   "source": [
    "class BinaryTree(object):\n",
    "    def __init__(self, value, left=None, right=None):\n",
    "        self.value = value\n",
    "        self.left = left\n",
    "        self.right = right\n",
    "\n",
    "    def __iter__(self):\n",
    "        return InorderIterator(self)"
   ]
  },
  {
   "cell_type": "code",
   "execution_count": 18,
   "metadata": {
    "collapsed": true
   },
   "outputs": [],
   "source": [
    "class InorderIterator(object):\n",
    "    \n",
    "    def __init__(self, node):\n",
    "        self.node = node\n",
    "        self.stack = []\n",
    "    \n",
    "    def next(self):\n",
    "        if len(self.stack) > 0 or self.node is not None:\n",
    "            while self.node is not None:\n",
    "                self.stack.append(self.node)\n",
    "                self.node = self.node.left\n",
    "            node = self.stack.pop()\n",
    "            self.node = node.right\n",
    "            return node.value\n",
    "        else:\n",
    "            raise StopIteration()"
   ]
  },
  {
   "cell_type": "code",
   "execution_count": 19,
   "metadata": {
    "collapsed": true
   },
   "outputs": [],
   "source": [
    "tree = BinaryTree(\n",
    "    left=BinaryTree(\n",
    "        left=BinaryTree(1),\n",
    "        value=2,\n",
    "        right=BinaryTree(\n",
    "            left=BinaryTree(3),\n",
    "            value=4,\n",
    "            right=BinaryTree(5)\n",
    "        ),\n",
    "    ),\n",
    "    value=6,\n",
    "    right=BinaryTree(\n",
    "        value=7,\n",
    "        right=BinaryTree(8)\n",
    "    )\n",
    ")"
   ]
  },
  {
   "cell_type": "code",
   "execution_count": 20,
   "metadata": {},
   "outputs": [
    {
     "name": "stdout",
     "output_type": "stream",
     "text": [
      "1 2 3 4 5 6 7 8\n"
     ]
    }
   ],
   "source": [
    "for value in tree:\n",
    "    print value,"
   ]
  },
  {
   "cell_type": "markdown",
   "metadata": {},
   "source": [
    "不会出现之前的问题："
   ]
  },
  {
   "cell_type": "code",
   "execution_count": 21,
   "metadata": {},
   "outputs": [
    {
     "name": "stdout",
     "output_type": "stream",
     "text": [
      "1 1\n",
      "2 2\n",
      "3 3\n",
      "4 4\n",
      "5 5\n",
      "6 6\n",
      "7 7\n",
      "8 8\n"
     ]
    }
   ],
   "source": [
    "for x,y in zip(tree, tree):\n",
    "    print x, y"
   ]
  }
 ],
 "metadata": {
  "kernelspec": {
   "display_name": "Python 3",
   "language": "python",
   "name": "python3"
  },
  "language_info": {
   "codemirror_mode": {
    "name": "ipython",
    "version": 3
   },
   "file_extension": ".py",
   "mimetype": "text/x-python",
   "name": "python",
   "nbconvert_exporter": "python",
   "pygments_lexer": "ipython3",
   "version": "3.6.3"
  },
  "toc": {
   "base_numbering": 1,
   "nav_menu": {},
   "number_sections": false,
   "sideBar": true,
   "skip_h1_title": false,
   "title_cell": "Table of Contents",
   "title_sidebar": "Contents",
   "toc_cell": false,
   "toc_position": {
    "height": "calc(100% - 180px)",
    "left": "10px",
    "top": "150px",
    "width": "165px"
   },
   "toc_section_display": true,
   "toc_window_display": true
  }
 },
 "nbformat": 4,
 "nbformat_minor": 1
}
