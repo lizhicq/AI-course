{
 "cells": [
  {
   "cell_type": "markdown",
   "metadata": {},
   "source": [
    "## 练习1 - 运算符"
   ]
  },
  {
   "cell_type": "markdown",
   "metadata": {},
   "source": [
    "### 身份运算符\n",
    "\n",
    "    身份运算符用来判断两个变量的引用对象是否指向同一个内存对象，即id(varibale1) ?= id(variable2)。 \n",
    "    is：判断两个标识符是不是引用自一个对象 \n",
    "    is not：判断两个标识符是不是引用自不同对象 \n",
    "    而 == 则是判断两个变量引用的对象的值是否一致\n",
    "    需要注意的是： is 和 == 的意义并不相同"
   ]
  },
  {
   "cell_type": "code",
   "execution_count": null,
   "metadata": {
    "collapsed": true
   },
   "outputs": [],
   "source": [
    "[] == []"
   ]
  },
  {
   "cell_type": "code",
   "execution_count": null,
   "metadata": {
    "collapsed": true
   },
   "outputs": [],
   "source": [
    "[] is []"
   ]
  },
  {
   "cell_type": "code",
   "execution_count": null,
   "metadata": {
    "collapsed": true
   },
   "outputs": [],
   "source": [
    "a = 1"
   ]
  },
  {
   "cell_type": "code",
   "execution_count": null,
   "metadata": {
    "collapsed": true
   },
   "outputs": [],
   "source": [
    "b = 1"
   ]
  },
  {
   "cell_type": "code",
   "execution_count": null,
   "metadata": {
    "collapsed": true
   },
   "outputs": [],
   "source": [
    "a == b"
   ]
  },
  {
   "cell_type": "code",
   "execution_count": null,
   "metadata": {
    "collapsed": true
   },
   "outputs": [],
   "source": [
    "a is b"
   ]
  },
  {
   "cell_type": "markdown",
   "metadata": {},
   "source": [
    "    Python对象的三要素：id、type、value \n",
    "    id：是对象的唯一标识，是对象在内存中的存储地址。 \n",
    "    type：是对象的数据类型 \n",
    "    value：是对象的值，是对象在内存中存放的数据。 \n",
    "    其中is的判断依据是对象的id，== 的判断依据是对象value"
   ]
  },
  {
   "cell_type": "code",
   "execution_count": null,
   "metadata": {
    "collapsed": true
   },
   "outputs": [],
   "source": [
    "name1 = {'fan':'jmilk'}"
   ]
  },
  {
   "cell_type": "code",
   "execution_count": null,
   "metadata": {
    "collapsed": true
   },
   "outputs": [],
   "source": [
    "name2 = name1.copy() #name2是name1调用copy( )函数后返回的一个新的对象，所以两者的id( )不相等，而两个变量在内存和中的vale却是相等的。"
   ]
  },
  {
   "cell_type": "code",
   "execution_count": null,
   "metadata": {
    "collapsed": true
   },
   "outputs": [],
   "source": [
    "name1 == name2"
   ]
  },
  {
   "cell_type": "code",
   "execution_count": null,
   "metadata": {
    "collapsed": true,
    "scrolled": true
   },
   "outputs": [],
   "source": [
    "name1 is name2"
   ]
  },
  {
   "cell_type": "code",
   "execution_count": null,
   "metadata": {
    "collapsed": true
   },
   "outputs": [],
   "source": [
    "i=1"
   ]
  },
  {
   "cell_type": "markdown",
   "metadata": {},
   "source": [
    "### 成员关系运算符\n",
    "\n",
    "成员运算符能够判断一个指定对象是否是作为一个容器中的元素，由此来判断两个对象间的关系。 \n",
    "容器：包含了其他对象的引用的数据类型。\n",
    "\n",
    "    in\t当一个对象存在一个容器中时为Ture\n",
    "    not in\t当一个对象不在一个容器中时为True"
   ]
  },
  {
   "cell_type": "code",
   "execution_count": null,
   "metadata": {
    "collapsed": true
   },
   "outputs": [],
   "source": [
    "'a'  in 'abc'"
   ]
  },
  {
   "cell_type": "code",
   "execution_count": null,
   "metadata": {
    "collapsed": true
   },
   "outputs": [],
   "source": [
    "'ab' in 'abc'"
   ]
  },
  {
   "cell_type": "code",
   "execution_count": null,
   "metadata": {
    "collapsed": true
   },
   "outputs": [],
   "source": [
    "'a' not in \"abc\""
   ]
  },
  {
   "cell_type": "code",
   "execution_count": null,
   "metadata": {
    "collapsed": true
   },
   "outputs": [],
   "source": [
    "alist = [1,2,3,\"ab\", 1.1]"
   ]
  },
  {
   "cell_type": "code",
   "execution_count": null,
   "metadata": {
    "collapsed": true
   },
   "outputs": [],
   "source": [
    "1 in alist"
   ]
  },
  {
   "cell_type": "code",
   "execution_count": null,
   "metadata": {
    "collapsed": true,
    "scrolled": true
   },
   "outputs": [],
   "source": [
    "\"ab\" not in alist"
   ]
  },
  {
   "cell_type": "markdown",
   "metadata": {},
   "source": [
    "### Python真值表"
   ]
  },
  {
   "cell_type": "code",
   "execution_count": null,
   "metadata": {
    "collapsed": true
   },
   "outputs": [],
   "source": [
    "if 0:\n",
    "    print(\"True\")\n",
    "else:\n",
    "    print(\"False\")"
   ]
  },
  {
   "cell_type": "code",
   "execution_count": null,
   "metadata": {
    "collapsed": true
   },
   "outputs": [],
   "source": [
    "if \"\":\n",
    "    print(\"True\")\n",
    "else:\n",
    "    print(\"False\")"
   ]
  },
  {
   "cell_type": "code",
   "execution_count": null,
   "metadata": {
    "collapsed": true
   },
   "outputs": [],
   "source": [
    "if \"str\":\n",
    "    print(\"True\")\n",
    "else:\n",
    "    print(\"False\")"
   ]
  },
  {
   "cell_type": "code",
   "execution_count": null,
   "metadata": {
    "collapsed": true
   },
   "outputs": [],
   "source": [
    "a = None\n",
    "b = ()\n",
    "c = {}\n",
    "d = []"
   ]
  },
  {
   "cell_type": "code",
   "execution_count": null,
   "metadata": {
    "collapsed": true
   },
   "outputs": [],
   "source": [
    "if a:\n",
    "    print(\"True\")\n",
    "else:\n",
    "    print(\"False\")"
   ]
  },
  {
   "cell_type": "code",
   "execution_count": null,
   "metadata": {
    "collapsed": true
   },
   "outputs": [],
   "source": []
  },
  {
   "cell_type": "code",
   "execution_count": null,
   "metadata": {
    "collapsed": true
   },
   "outputs": [],
   "source": []
  },
  {
   "cell_type": "code",
   "execution_count": null,
   "metadata": {
    "collapsed": true
   },
   "outputs": [],
   "source": []
  },
  {
   "cell_type": "markdown",
   "metadata": {
    "collapsed": true
   },
   "source": [
    "## 练习2 - 判断大写字母个数"
   ]
  },
  {
   "cell_type": "code",
   "execution_count": null,
   "metadata": {
    "collapsed": true,
    "scrolled": true
   },
   "outputs": [],
   "source": [
    "while True:\n",
    "    try:\n",
    "        string = input()\n",
    "        num = 0\n",
    "        for s in string:\n",
    "            if 'A' <= s <= 'Z':\n",
    "                num += 1\n",
    "        print(num)\n",
    "    except:\n",
    "        break"
   ]
  },
  {
   "cell_type": "markdown",
   "metadata": {},
   "source": [
    "##  练习3 - 计算日期到天数的转换"
   ]
  },
  {
   "cell_type": "code",
   "execution_count": null,
   "metadata": {
    "collapsed": true,
    "scrolled": false
   },
   "outputs": [],
   "source": [
    "\n",
    "\n",
    "while True:\n",
    "    try:\n",
    "        year, month, day = input().split()\n",
    "        year = int(year)\n",
    "        month = int(month)\n",
    "        day = int(day)\n",
    "        day_number = 0\n",
    "        arr1 = [31, 28, 31, 30, 31, 30, 31, 31, 30, 31, 30, 31]\n",
    "        arr2 = [31, 29, 31, 30, 31, 30, 31, 31, 30, 31, 30, 31]\n",
    "        if  (year%4==0 and year%100!=0) or year%400==0:\n",
    "            for i in range(month-1) :\n",
    "                day_number += arr2[i]\n",
    "            day_number += day\n",
    "        else:\n",
    "            for i in range(month-1):\n",
    "                day_number += arr1[i]\n",
    "            day_number += day\n",
    "        print(day_number)\n",
    "    except:\n",
    "        break"
   ]
  },
  {
   "cell_type": "markdown",
   "metadata": {},
   "source": [
    "## 练习4 - 验证尼科彻斯定理\n",
    "\n",
    "    即：任何一个整数m的立方都可以写成m个连续奇数之和\n",
    "    首项是n*n -n+1\n",
    "    长度为n的等差数列"
   ]
  },
  {
   "cell_type": "code",
   "execution_count": null,
   "metadata": {
    "collapsed": true,
    "scrolled": true
   },
   "outputs": [],
   "source": [
    "\n",
    "while True:\n",
    "    try:\n",
    "        m = int(input())\n",
    "        num = m**2 - m + 1\n",
    "        string = str(num)\n",
    "        for i in range(1,m):\n",
    "            num = num + 2\n",
    "            string = string + '+' + str(num)\n",
    "        print(string)\n",
    "    except:\n",
    "        break"
   ]
  },
  {
   "cell_type": "markdown",
   "metadata": {},
   "source": [
    "## 练习5 - 冒泡排序\n",
    "<img src = images/bubble.jpg>"
   ]
  },
  {
   "cell_type": "code",
   "execution_count": 1,
   "metadata": {
    "scrolled": true
   },
   "outputs": [
    {
     "name": "stdout",
     "output_type": "stream",
     "text": [
      "0.5081466856191056\n"
     ]
    }
   ],
   "source": [
    "from random import *\n",
    "import random\n",
    "\n",
    "print(random.random())\n",
    "\n"
   ]
  },
  {
   "cell_type": "code",
   "execution_count": null,
   "metadata": {
    "collapsed": true
   },
   "outputs": [],
   "source": [
    "help(randint)  #帮助文档使用"
   ]
  },
  {
   "cell_type": "code",
   "execution_count": null,
   "metadata": {
    "collapsed": true
   },
   "outputs": [],
   "source": [
    "help(random.uniform)"
   ]
  },
  {
   "cell_type": "code",
   "execution_count": 2,
   "metadata": {
    "collapsed": true
   },
   "outputs": [],
   "source": [
    "randint??"
   ]
  },
  {
   "cell_type": "code",
   "execution_count": null,
   "metadata": {
    "collapsed": true
   },
   "outputs": [],
   "source": [
    "randint(5, 10)"
   ]
  },
  {
   "cell_type": "code",
   "execution_count": null,
   "metadata": {
    "collapsed": true,
    "scrolled": true
   },
   "outputs": [],
   "source": [
    "import random\n",
    "\n",
    "arr = []\n",
    "\n",
    "length = 50\n",
    "\n",
    "for _ in range(50):\n",
    "    arr.append(randint(0,100))\n",
    "    \n",
    "print(\"src:\")\n",
    "print(arr)\n",
    "    \n",
    "\"\"\"\n",
    "冒泡排序\n",
    "\"\"\"\n",
    "\n",
    "while length > 0:\n",
    "    length -= 1\n",
    "\n",
    "    for i in range(length):\n",
    "        if arr[i] > arr[i+1]:\n",
    "            arr[i], arr[i+1] = arr[i+1], arr[i]\n",
    "\n",
    "\n",
    "print(\"sort:\")\n",
    "print(arr)"
   ]
  },
  {
   "cell_type": "markdown",
   "metadata": {},
   "source": [
    "## 练习6 - 选择排序\n",
    "<img src = images/select.jpg>"
   ]
  },
  {
   "cell_type": "code",
   "execution_count": null,
   "metadata": {
    "collapsed": true,
    "scrolled": true
   },
   "outputs": [],
   "source": [
    "import random\n",
    "\n",
    "arr = []\n",
    "\n",
    "length = 50\n",
    "\n",
    "for _ in range(50):\n",
    "    arr.append(randint(0,100))\n",
    "    \n",
    "print(\"src:\")\n",
    "print(arr)\n",
    "    \n",
    "\"\"\"\n",
    "选择排序\n",
    "\"\"\"\n",
    "\n",
    "for i in range(length-1):\n",
    "    min_i = i\n",
    "    for j in range(i+1, length):\n",
    "        \n",
    "        if arr[min_i] > arr[j]:\n",
    "            min_i = j\n",
    "            \n",
    "        arr[i], arr[min_i] = arr[min_i], arr[i]\n",
    "\n",
    "\n",
    "print(\"sort:\")\n",
    "print(arr)"
   ]
  },
  {
   "cell_type": "code",
   "execution_count": null,
   "metadata": {
    "collapsed": true
   },
   "outputs": [],
   "source": [
    "i = 1\n",
    "j = 1\n",
    "while True:\n",
    "    if i is j:\n",
    "        i += 1\n",
    "        j += 1\n",
    "    else:\n",
    "        print(i,j)\n",
    "        break"
   ]
  },
  {
   "cell_type": "markdown",
   "metadata": {},
   "source": [
    "## 练习7 - 字符串"
   ]
  },
  {
   "cell_type": "markdown",
   "metadata": {},
   "source": [
    "单引号('')- 用单引号括起来表示字符串"
   ]
  },
  {
   "cell_type": "code",
   "execution_count": null,
   "metadata": {
    "collapsed": true
   },
   "outputs": [],
   "source": [
    "str1='this is string'"
   ]
  },
  {
   "cell_type": "markdown",
   "metadata": {},
   "source": [
    "双引号(\"\") - 引号中的字符串与单引号中的字符串用法完全相同"
   ]
  },
  {
   "cell_type": "code",
   "execution_count": null,
   "metadata": {
    "collapsed": true
   },
   "outputs": [],
   "source": [
    "str2=\"this is string\""
   ]
  },
  {
   "cell_type": "markdown",
   "metadata": {},
   "source": [
    "三引号( '''''')"
   ]
  },
  {
   "cell_type": "code",
   "execution_count": null,
   "metadata": {
    "collapsed": true
   },
   "outputs": [],
   "source": [
    "str3 = '''this is string\n",
    "\n",
    " this is pythod string\n",
    "\n",
    " this is string'''"
   ]
  },
  {
   "cell_type": "code",
   "execution_count": null,
   "metadata": {
    "collapsed": true
   },
   "outputs": [],
   "source": [
    "in方法："
   ]
  },
  {
   "cell_type": "code",
   "execution_count": null,
   "metadata": {
    "collapsed": true,
    "scrolled": true
   },
   "outputs": [],
   "source": [
    "\"this\" in str1"
   ]
  },
  {
   "cell_type": "code",
   "execution_count": null,
   "metadata": {
    "collapsed": true
   },
   "outputs": [],
   "source": [
    "not方法："
   ]
  },
  {
   "cell_type": "code",
   "execution_count": null,
   "metadata": {
    "collapsed": true
   },
   "outputs": [],
   "source": [
    "\"these\" in str2"
   ]
  },
  {
   "cell_type": "code",
   "execution_count": null,
   "metadata": {
    "collapsed": true
   },
   "outputs": [],
   "source": [
    "is方法："
   ]
  },
  {
   "cell_type": "code",
   "execution_count": null,
   "metadata": {
    "collapsed": true
   },
   "outputs": [],
   "source": [
    "str1 is str2"
   ]
  },
  {
   "cell_type": "code",
   "execution_count": null,
   "metadata": {
    "collapsed": true
   },
   "outputs": [],
   "source": [
    "str1 == str2"
   ]
  },
  {
   "cell_type": "markdown",
   "metadata": {},
   "source": [
    "字符串取值方法：\n",
    "\n",
    "    1.可以通过下标进行取值，切片，顾头不含尾\n",
    "\n",
    "    2.通过for循环取值，循环的是循环对象(str)里面的每一个元素\n",
    "\n",
    "    3.循环str的长度，进行取值，k的值是数字，相当于字符串的下标"
   ]
  },
  {
   "cell_type": "code",
   "execution_count": null,
   "metadata": {
    "collapsed": true
   },
   "outputs": [],
   "source": [
    "str1[0:10]"
   ]
  },
  {
   "cell_type": "code",
   "execution_count": null,
   "metadata": {
    "collapsed": true
   },
   "outputs": [],
   "source": [
    "for  st in str2:\n",
    "    print(st)"
   ]
  },
  {
   "cell_type": "code",
   "execution_count": null,
   "metadata": {
    "collapsed": true
   },
   "outputs": [],
   "source": [
    "for k in range(len(str1)):\n",
    "    print(str1[k])"
   ]
  },
  {
   "cell_type": "markdown",
   "metadata": {},
   "source": [
    "字符串的endswith、startswith、isalnum、isalpha、isdigit方法"
   ]
  },
  {
   "cell_type": "code",
   "execution_count": 70,
   "metadata": {},
   "outputs": [
    {
     "name": "stdout",
     "output_type": "stream",
     "text": [
      "True\n"
     ]
    }
   ],
   "source": [
    "#判断是否以d结尾,执行结果为布尔值  ld  d \n",
    "name = 'hello world is world'  \n",
    "print(name.endswith('ld')) "
   ]
  },
  {
   "cell_type": "code",
   "execution_count": 72,
   "metadata": {},
   "outputs": [
    {
     "data": {
      "text/plain": [
       "False"
      ]
     },
     "execution_count": 72,
     "metadata": {},
     "output_type": "execute_result"
    }
   ],
   "source": [
    "#判断是否以u结尾,执行结果为布尔值\n",
    "name.startswith('d')"
   ]
  },
  {
   "cell_type": "code",
   "execution_count": 76,
   "metadata": {},
   "outputs": [
    {
     "name": "stdout",
     "output_type": "stream",
     "text": [
      "True\n"
     ]
    }
   ],
   "source": [
    "# 判断输入的字符串是否包含数字和字母，判断密码是否包含数字和字母时，可以使用，返回结果为布尔值 \n",
    "\n",
    "print('ab123'.isalnum())"
   ]
  },
  {
   "cell_type": "code",
   "execution_count": 74,
   "metadata": {},
   "outputs": [
    {
     "name": "stdout",
     "output_type": "stream",
     "text": [
      "True\n"
     ]
    }
   ],
   "source": [
    "#判断输入的字符串是否是英文字母，返回结果为布尔值\n",
    "print('abcdA'.isalpha()) "
   ]
  },
  {
   "cell_type": "code",
   "execution_count": 77,
   "metadata": {},
   "outputs": [
    {
     "name": "stdout",
     "output_type": "stream",
     "text": [
      "True\n"
     ]
    }
   ],
   "source": [
    "#判断输入的字符串是否为数字\n",
    "\n",
    "print('123'.isdigit())"
   ]
  },
  {
   "cell_type": "markdown",
   "metadata": {},
   "source": [
    "去除字符串的空格"
   ]
  },
  {
   "cell_type": "code",
   "execution_count": 78,
   "metadata": {},
   "outputs": [
    {
     "name": "stdout",
     "output_type": "stream",
     "text": [
      "ab fs\n",
      "hello\n",
      "mysql abcd\n",
      "ysqlmy\n"
     ]
    }
   ],
   "source": [
    "print('  ab fs'.lstrip())   #默认去掉字符串左边的空格和换行,执行结果：ab fs  \n",
    "print('hello  '.rstrip())   #默认去掉字符串右边的空格和换行，执行结果：hello  \n",
    "print('\\nmysql abcd'.strip()) #默认去掉两边的空格和换行,执行结果：mysql abcd，中间的空格不可去除  \n",
    "print('mysqlmy'.strip('m'))  #去除指定的字符串，例如：去除两边的m元素,执行结果：ysqlmy  "
   ]
  },
  {
   "cell_type": "code",
   "execution_count": null,
   "metadata": {
    "collapsed": true
   },
   "outputs": [],
   "source": [
    "字符串的join方法\n",
    "\n",
    "join是用来通过 某个字符串 拼接 一个可迭代对象的每个元素--->join(可迭代对象参数类型)  "
   ]
  },
  {
   "cell_type": "code",
   "execution_count": 80,
   "metadata": {
    "collapsed": true
   },
   "outputs": [],
   "source": [
    "name = ' abcdERF123'"
   ]
  },
  {
   "cell_type": "code",
   "execution_count": 81,
   "metadata": {
    "scrolled": true
   },
   "outputs": [
    {
     "name": "stdout",
     "output_type": "stream",
     "text": [
      " *a*b*c*d*E*R*F*1*2*3\n"
     ]
    }
   ],
   "source": [
    "print('*'.join(name))  #  #将字符串中的每个元素都使用*号连接，执行结果：a*b*c*d*E*R*F*1*2*3，返回一个新的变量值"
   ]
  },
  {
   "cell_type": "code",
   "execution_count": 82,
   "metadata": {},
   "outputs": [
    {
     "name": "stdout",
     "output_type": "stream",
     "text": [
      "使用*号拼接后的name值：  abcdERF123\n"
     ]
    }
   ],
   "source": [
    "print('使用*号拼接后的name值：', name) #name字符串的内容未进行更改，执行结果：abcdERF123 "
   ]
  },
  {
   "cell_type": "code",
   "execution_count": 83,
   "metadata": {},
   "outputs": [
    {
     "name": "stdout",
     "output_type": "stream",
     "text": [
      "ybq，lhl，lsh\n"
     ]
    }
   ],
   "source": [
    "nums = ['ybq', 'lhl', 'lsh']  \n",
    "print('，'.join(nums))   #将列表转换为字符串，每个元素之间使用逗号连接，执行结果为：ybq，lhl，lsh "
   ]
  },
  {
   "cell_type": "code",
   "execution_count": 84,
   "metadata": {},
   "outputs": [
    {
     "name": "stdout",
     "output_type": "stream",
     "text": [
      "ybq,lhl,lsh\n"
     ]
    }
   ],
   "source": [
    "#另一种方法将列表转换为字符串  \n",
    "nums = ['ybq', 'lhl', 'lsh']  \n",
    "temp = ''  \n",
    "for i in nums:\n",
    "    temp = temp+i+','   #列表转换为字符串，强制类型转换，执行结果为：ybq，lhl，lsh  \n",
    "print(temp.strip(','))"
   ]
  },
  {
   "cell_type": "code",
   "execution_count": null,
   "metadata": {
    "collapsed": true
   },
   "outputs": [],
   "source": [
    "替换replace字符串"
   ]
  },
  {
   "cell_type": "code",
   "execution_count": 85,
   "metadata": {
    "scrolled": true
   },
   "outputs": [
    {
     "name": "stdout",
     "output_type": "stream",
     "text": [
      "oracle is db oracle oracle oracle\n",
      "oracle is db mysql mysql mysql\n"
     ]
    }
   ],
   "source": [
    "st = 'mysql is db mysql mysql mysql'  \n",
    "print(st.replace('mysql', 'oracle'))  #将字符串中的mysql替换为oracle  \n",
    "print(st.replace('mysql', 'oracle', 1))  #替换的元素存在较多时，可以输入想替换的次数 "
   ]
  },
  {
   "cell_type": "markdown",
   "metadata": {},
   "source": [
    "查找find，index字符串"
   ]
  },
  {
   "cell_type": "code",
   "execution_count": 90,
   "metadata": {},
   "outputs": [
    {
     "name": "stdout",
     "output_type": "stream",
     "text": [
      "6\n",
      "-1\n",
      "-1\n",
      "15\n",
      "l\n",
      "4\n"
     ]
    }
   ],
   "source": [
    "name = 'hello world is world'  \n",
    "print(name.find('world'))  #查找字符串的索引  \n",
    "print(name.find('world', 3, 10)) #可以指定查找字符串的范围，3，15 是开始、结束的下标值,下标值顾头不顾尾  \n",
    "print(name.find('xxx')) #查找的字符串不存在时，返回结果为-1  \n",
    "print(name.rfind('world')) #查找字符串，从后往前查找，执行结果为：15  \n",
    "print(name[2])#按照索引查找，索引从0开始，执行结果为：'o'  \n",
    "print(name.index('o')) #按值查找，执行结果：4  "
   ]
  },
  {
   "cell_type": "code",
   "execution_count": 89,
   "metadata": {},
   "outputs": [
    {
     "name": "stdout",
     "output_type": "stream",
     "text": [
      "4\n"
     ]
    }
   ],
   "source": [
    "切割字符串spilt,返回结果类型为list"
   ]
  },
  {
   "cell_type": "code",
   "execution_count": 96,
   "metadata": {},
   "outputs": [
    {
     "name": "stdout",
     "output_type": "stream",
     "text": [
      "['zcl', 'py', 'zyz', 'ywq']\n",
      "['zcl,py,zyz,ywq']\n",
      "['zcl,py,zyz,ywq']\n"
     ]
    }
   ],
   "source": [
    "#切割字符串,返回的类型是list  \n",
    "name1 = 'zcl,py,zyz,ywq' #将字符串切割成list  \n",
    "name1_list = name1.split(',') #按照逗号分割字符串，返回结果为list，name1的值未改变  \n",
    "print(name1_list)   #执行结果为list类型：['zcl', 'py', 'zyz', 'ywq']  \n",
    "print(name1.split()) #按照空格分割字符串，返回结果是list，只有一个元素，执行结果：['zcl,py,zyz,ywq']  \n",
    "print(name1.split('\\n'))#按照换行符分割字符串  \n",
    "    "
   ]
  },
  {
   "cell_type": "code",
   "execution_count": null,
   "metadata": {
    "collapsed": true
   },
   "outputs": [],
   "source": [
    "实现用户输入用户名和密码，当用户名为 seven且密码为 123 时，\n",
    "\n",
    "显示登陆成功，否则登陆失败，失败时允许重复输入三次"
   ]
  },
  {
   "cell_type": "code",
   "execution_count": null,
   "metadata": {
    "collapsed": true
   },
   "outputs": [],
   "source": [
    "user  =  \"seven\"\n",
    "passwd =  123\n",
    "for i in range(3):\n",
    "    username = input(\"please the enter user:\")\n",
    "    password = input(\"please the enter passwd:\")\n",
    "    if password.isdigit():\n",
    "        password = int(password)\n",
    "        if username == user and passwd == password:\n",
    "            print(\"logon successfull\")\n",
    "            break\n",
    "        else:\n",
    "            print(\"logon failed\")\n",
    "    else:\n",
    "        print(\"logon failed\")"
   ]
  }
 ],
 "metadata": {
  "kernelspec": {
   "display_name": "Python 3",
   "language": "python",
   "name": "python3"
  },
  "language_info": {
   "codemirror_mode": {
    "name": "ipython",
    "version": 3
   },
   "file_extension": ".py",
   "mimetype": "text/x-python",
   "name": "python",
   "nbconvert_exporter": "python",
   "pygments_lexer": "ipython3",
   "version": "3.6.3"
  },
  "toc": {
   "base_numbering": 1,
   "nav_menu": {},
   "number_sections": false,
   "sideBar": true,
   "skip_h1_title": false,
   "title_cell": "Table of Contents",
   "title_sidebar": "Contents",
   "toc_cell": false,
   "toc_position": {
    "height": "calc(100% - 180px)",
    "left": "10px",
    "top": "150px",
    "width": "188px"
   },
   "toc_section_display": true,
   "toc_window_display": false
  }
 },
 "nbformat": 4,
 "nbformat_minor": 2
}
