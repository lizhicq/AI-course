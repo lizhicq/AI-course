{
 "cells": [
  {
   "cell_type": "markdown",
   "metadata": {},
   "source": [
    "# 吊死鬼游戏"
   ]
  },
  {
   "cell_type": "markdown",
   "metadata": {},
   "source": [
    "## 游戏介绍："
   ]
  },
  {
   "cell_type": "markdown",
   "metadata": {},
   "source": [
    "“吊死鬼”其实是一个猜字谜的游戏，一般都是用纸和笔玩。游戏规则：一位玩家先选择一个单词，然后对应着单词的每个字母按照字母的个数画几条线，然后轮到其他玩家来猜这个词。玩家每次可以猜一个字母或者根据显示的线的个数猜测整个单词,如果猜的字母不在谜底的单词里，就会失去一些生命，“吊死鬼的一个部位就要被挂在绞刑架上，如果猜的字母在单词里，那么就需要把猜到的字母写在刚才画的线上，连位置也需要表示出来。\n",
    "当然，下面的程序中不会画吊死鬼，只会告诉你还剩多少生命。"
   ]
  },
  {
   "cell_type": "markdown",
   "metadata": {},
   "source": [
    "## 思路："
   ]
  },
  {
   "cell_type": "markdown",
   "metadata": {},
   "source": [
    "1. 系统随机从词库中选择一个单词\n",
    "2. 玩家猜词\n",
    "3. 判断猜词是否完成，若没有返回2，若完成，结束猜词。\n",
    "4. 判断剩余生命值是否为0，若是，结束猜词，若否，继续猜词。"
   ]
  },
  {
   "cell_type": "markdown",
   "metadata": {},
   "source": [
    "## 程序："
   ]
  },
  {
   "cell_type": "markdown",
   "metadata": {},
   "source": [
    "注：以主函数为主线，注意每个调用的子函数完成的功能以及返回值类型，对理清程序逻辑很有帮助。"
   ]
  },
  {
   "cell_type": "code",
   "execution_count": 10,
   "metadata": {},
   "outputs": [
    {
     "name": "stdout",
     "output_type": "stream",
     "text": [
      "___\n",
      "Lives Remaining:14\n",
      "Guess a letter or whole word?d\n",
      "d__\n",
      "Lives Remaining:14\n",
      "Guess a letter or whole word?g\n",
      "d_g\n",
      "Lives Remaining:14\n",
      "Guess a letter or whole word?h\n",
      "d_g\n",
      "Lives Remaining:13\n",
      "Guess a letter or whole word?h\n",
      "d_g\n",
      "Lives Remaining:12\n",
      "Guess a letter or whole word?o\n",
      "You win! Well done!\n"
     ]
    }
   ],
   "source": [
    "import random\n",
    "\n",
    "# 初始化数据变量\n",
    "words = ['chicken','dog','cat','mouse','frog'] ## 建立单词库\n",
    "lives_remaining = 14 ## 初始化玩家生命值\n",
    "guessed_letters = '' ##将玩家猜过的字母放在一个变量里\n",
    "\n",
    "# 游戏主函数（游戏过程由一系列其他子函数构成）\n",
    "def play():\n",
    "    word = pick_a_word() ## 系统选词\n",
    "    while True:\n",
    "        guess = get_guess(word) ## 玩家猜词\n",
    "        if process_guess(guess,word): ## 判断猜词是否完成\n",
    "            print('You win! Well done!')\n",
    "            break\n",
    "        if lives_remaining == 0: ## 判断剩余生命值\n",
    "            print('You are Hung!')\n",
    "            print('The word was:'+ word)\n",
    "            break\n",
    "\n",
    "# 选词函数\n",
    "def pick_a_word():\n",
    "    word_position = random.randint(0,len(words) - 1)\n",
    "    return words[word_position]\n",
    "\n",
    "# 猜词函数（显示词语已猜出的部分以及继续猜词）\n",
    "def get_guess(word):\n",
    "    print_word_with_blanks(word) ## 显示词语已经猜出的部分，调用显示函数\n",
    "    print('Lives Remaining:' + str(lives_remaining)) ## 显示剩余生命值\n",
    "    guess = input('Guess a letter or whole word?')\n",
    "    return guess\n",
    "\n",
    "# 显示函数\n",
    "def print_word_with_blanks(word):\n",
    "    display_word = '' ## 定义显示变量\n",
    "    for letter in word:\n",
    "        if guessed_letters.find(letter) > -1: ## 如果已猜字母中包含要猜单词中的字母，则在对应的位置添加字母\n",
    "            display_word = display_word + letter\n",
    "        else:\n",
    "            display_word = display_word + '_' ## 如果已猜字母中不包含要猜单词中的字母，则在对应位置添加横线\n",
    "    print(display_word)\n",
    "\n",
    "# 猜词进程函数\n",
    "def process_guess(guess,word):\n",
    "    if len(guess) > 1: ## 判断玩家猜的是单个字母还是整个单词\n",
    "        return whole_word_guess(guess,word) ## 调用猜整个单词的函数\n",
    "    else:\n",
    "        return single_letter_guess(guess,word) ##调用猜单个字母的函数\n",
    "\n",
    "# 猜整个单词的判断函数，返回猜词是否成功\n",
    "def whole_word_guess(guess,word):\n",
    "    global lives_remaining \n",
    "    if guess == word:\n",
    "        return True\n",
    "    else:\n",
    "        lives_remaining = lives_remaining - 1\n",
    "        return False\n",
    "\n",
    "# 猜整个单词的判断函数，返回值为猜词是否成功\n",
    "def single_letter_guess(guess,word):\n",
    "    global lives_remaining\n",
    "    global guessed_letters\n",
    "    if word.find(guess) == -1: ## 利用find()函数来判断所猜字母是否包含在单词里\n",
    "        lives_remaining = lives_remaining - 1\n",
    "    guessed_letters = guessed_letters + guess\n",
    "    if all_letters_guessed(word): ## 调用下面的函数判断已猜字母是否已经包含要猜单词的全部字母，来决定此猜词函数返回成功与否\n",
    "        return True\n",
    "    return False\n",
    "\n",
    "# 此函数用来判断已猜字母是否已经包含要猜单词的全部字母，并返回判断结果\n",
    "def all_letters_guessed(word):\n",
    "    for letter in word:\n",
    "        if guessed_letters.find(letter) == -1:\n",
    "            return False\n",
    "    return True\n",
    "\n",
    "# 调用游戏主函数运行游戏\n",
    "play() "
   ]
  }
 ],
 "metadata": {
  "kernelspec": {
   "display_name": "Python 3",
   "language": "python",
   "name": "python3"
  },
  "language_info": {
   "codemirror_mode": {
    "name": "ipython",
    "version": 3
   },
   "file_extension": ".py",
   "mimetype": "text/x-python",
   "name": "python",
   "nbconvert_exporter": "python",
   "pygments_lexer": "ipython3",
   "version": "3.6.2"
  }
 },
 "nbformat": 4,
 "nbformat_minor": 2
}
