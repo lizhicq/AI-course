{
 "cells": [
  {
   "cell_type": "markdown",
   "metadata": {},
   "source": [
    "# python应用实例2"
   ]
  },
  {
   "cell_type": "markdown",
   "metadata": {},
   "source": [
    "## 函数的定义使用以及循环结构\n"
   ]
  },
  {
   "cell_type": "markdown",
   "metadata": {},
   "source": [
    "1979年，李政道博士给中国科技大学少年班出过一道智力趣味题：5只猴子分一堆桃子，怎么也分不成5等分，只好先去睡觉，准备第二天分。夜里1只猴子偷偷爬起来，\n",
    "\n",
    "先吃掉一个桃子，然后将其分为5等份，藏起自己的一份就去睡觉了；第二只猴子又爬起来，吃掉一个桃子后，也将桃子分成5等份，藏起自己的一份睡觉去了；\n",
    "\n",
    "以后的3只猴子都先后照此办理。\n",
    "\n",
    "问最初有多少个桃子(求出最小整数解即可）？\n",
    "          \n",
    "请编写程序求解总数，以及每次被猴子偷吃后的数量情况。\n"
   ]
  },
  {
   "cell_type": "code",
   "execution_count": 3,
   "metadata": {},
   "outputs": [
    {
     "name": "stdout",
     "output_type": "stream",
     "text": [
      "3121.0\n",
      "1. 总数3121个, 第1只猴吃一个, 拿走624.0个。\n",
      "2. 总数2496个, 第2只猴吃一个, 拿走499.0个。\n",
      "3. 总数1996个, 第3只猴吃一个, 拿走399.0个。\n",
      "4. 总数1596个, 第4只猴吃一个, 拿走319.0个。\n",
      "5. 总数1276个, 第5只猴吃一个, 拿走255.0个。\n"
     ]
    }
   ],
   "source": [
    "def show(n):                  #定义函数show()\n",
    "    for i in range(1,6):\n",
    "        t = (n - 1) / 5\n",
    "        print ('%d. 总数%d个, 第%i只猴吃一个, 拿走%s个。' % (i, n, i, t))  #格式化输出\n",
    "        n = 4 * t             #某只猴子偷吃并拿走自己的一份后的剩余量\n",
    " \n",
    "def fun():                    #定义函数fun()\n",
    "    k = 1\n",
    "    while True:\n",
    "        t = k\n",
    "        #当前猴子拿走tc，吃拿之前总量应为 5 * tc + 1\n",
    "        #前个猴子拿走tp，则有 4 * tp = 5 * tc + 1 \n",
    "        for i in range(4):\n",
    "            t = 5 * t + 1\n",
    "            if t % 4: break   \n",
    "            t /= 4\n",
    "        else:\n",
    "             print( 5 * t + 1)\n",
    "             show(5 * t + 1)\n",
    "             # 我们只找最小整数解\n",
    "             break\n",
    "        k += 1\n",
    "fun()"
   ]
  },
  {
   "cell_type": "code",
   "execution_count": null,
   "metadata": {},
   "outputs": [],
   "source": []
  }
 ],
 "metadata": {
  "kernelspec": {
   "display_name": "Python 3",
   "language": "python",
   "name": "python3"
  },
  "language_info": {
   "codemirror_mode": {
    "name": "ipython",
    "version": 3
   },
   "file_extension": ".py",
   "mimetype": "text/x-python",
   "name": "python",
   "nbconvert_exporter": "python",
   "pygments_lexer": "ipython3",
   "version": "3.6.2"
  }
 },
 "nbformat": 4,
 "nbformat_minor": 2
}
