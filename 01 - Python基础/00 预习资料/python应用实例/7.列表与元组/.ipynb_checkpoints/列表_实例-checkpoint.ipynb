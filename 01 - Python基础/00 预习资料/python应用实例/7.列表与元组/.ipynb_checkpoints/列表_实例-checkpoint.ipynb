{
 "cells": [
  {
   "cell_type": "markdown",
   "metadata": {},
   "source": [
    "# 扑克牌游戏—抽乌龟"
   ]
  },
  {
   "cell_type": "markdown",
   "metadata": {},
   "source": [
    "## 游戏规则："
   ]
  },
  {
   "cell_type": "markdown",
   "metadata": {},
   "source": [
    "一副52张的扑克牌（去掉大小鬼），平均分给两个人，每人26张，猜拳决定其中一个人从其26张牌中随机取出一张放在一旁（取牌是随机的且两个人都不能事先看取出的牌是什么），然后两个人把自己手中大小一样的牌凑对放在一边，剩下的牌两人互抽，不断与自己手中的牌进行凑对并放在一边，先放完手中的牌的人获得胜利。"
   ]
  },
  {
   "cell_type": "markdown",
   "metadata": {},
   "source": [
    "## 程序："
   ]
  },
  {
   "cell_type": "markdown",
   "metadata": {},
   "source": [
    "### 1.创建一副扑克牌（创建列表）"
   ]
  },
  {
   "cell_type": "code",
   "execution_count": 1,
   "metadata": {
    "collapsed": true
   },
   "outputs": [],
   "source": [
    "# 花色创建\n",
    "SUITS = ['Clubs','Diamonds','Hearts','Spades']\n",
    "# 牌值创建\n",
    "RANKS = ['2','3','4','5','6','7','8','9','10','Jack','Queen','King','Ace']\n",
    "# 创建一副52张的扑克牌\n",
    "deck = []\n",
    "for rank in RANKS:\n",
    "    for suit in SUITS:\n",
    "        card = rank + ' of ' +suit\n",
    "        deck = deck + [card]## 将52张牌存储到deck列表中"
   ]
  },
  {
   "cell_type": "markdown",
   "metadata": {},
   "source": [
    "### 2.查看扑克牌（访问列表）"
   ]
  },
  {
   "cell_type": "code",
   "execution_count": 2,
   "metadata": {
    "scrolled": false
   },
   "outputs": [
    {
     "name": "stdout",
     "output_type": "stream",
     "text": [
      "2 of Clubs\n",
      "2 of Diamonds\n",
      "2 of Hearts\n",
      "2 of Spades\n",
      "3 of Clubs\n",
      "3 of Diamonds\n",
      "3 of Hearts\n",
      "3 of Spades\n",
      "4 of Clubs\n",
      "4 of Diamonds\n",
      "4 of Hearts\n",
      "4 of Spades\n",
      "5 of Clubs\n",
      "5 of Diamonds\n",
      "5 of Hearts\n",
      "5 of Spades\n",
      "6 of Clubs\n",
      "6 of Diamonds\n",
      "6 of Hearts\n",
      "6 of Spades\n",
      "7 of Clubs\n",
      "7 of Diamonds\n",
      "7 of Hearts\n",
      "7 of Spades\n",
      "8 of Clubs\n",
      "8 of Diamonds\n",
      "8 of Hearts\n",
      "8 of Spades\n",
      "9 of Clubs\n",
      "9 of Diamonds\n",
      "9 of Hearts\n",
      "9 of Spades\n",
      "10 of Clubs\n",
      "10 of Diamonds\n",
      "10 of Hearts\n",
      "10 of Spades\n",
      "Jack of Clubs\n",
      "Jack of Diamonds\n",
      "Jack of Hearts\n",
      "Jack of Spades\n",
      "Queen of Clubs\n",
      "Queen of Diamonds\n",
      "Queen of Hearts\n",
      "Queen of Spades\n",
      "King of Clubs\n",
      "King of Diamonds\n",
      "King of Hearts\n",
      "King of Spades\n",
      "Ace of Clubs\n",
      "Ace of Diamonds\n",
      "Ace of Hearts\n",
      "Ace of Spades\n"
     ]
    }
   ],
   "source": [
    "n = len(deck) ## len()函数用来获取列表的长度\n",
    "for i in range(n):\n",
    "    print(deck[i])## 按索引访问列表并打印出每张牌"
   ]
  },
  {
   "cell_type": "markdown",
   "metadata": {},
   "source": [
    "### 3.洗牌（更新列表）"
   ]
  },
  {
   "cell_type": "code",
   "execution_count": 3,
   "metadata": {},
   "outputs": [
    {
     "name": "stdout",
     "output_type": "stream",
     "text": [
      "Ace of Spades\n",
      "2 of Spades\n",
      "7 of Hearts\n",
      "8 of Spades\n",
      "Jack of Diamonds\n",
      "Queen of Spades\n",
      "Jack of Spades\n",
      "6 of Diamonds\n",
      "8 of Diamonds\n",
      "King of Spades\n",
      "3 of Spades\n",
      "8 of Hearts\n",
      "2 of Clubs\n",
      "8 of Clubs\n",
      "3 of Clubs\n",
      "9 of Spades\n",
      "6 of Hearts\n",
      "9 of Diamonds\n",
      "4 of Spades\n",
      "5 of Clubs\n",
      "Jack of Clubs\n",
      "6 of Clubs\n",
      "10 of Diamonds\n",
      "Ace of Hearts\n",
      "King of Diamonds\n",
      "5 of Hearts\n",
      "King of Hearts\n",
      "Ace of Diamonds\n",
      "9 of Clubs\n",
      "7 of Diamonds\n",
      "10 of Hearts\n",
      "3 of Hearts\n",
      "9 of Hearts\n",
      "Jack of Hearts\n",
      "4 of Hearts\n",
      "Queen of Diamonds\n",
      "3 of Diamonds\n",
      "Queen of Clubs\n",
      "Queen of Hearts\n",
      "2 of Diamonds\n",
      "King of Clubs\n",
      "Ace of Clubs\n",
      "10 of Spades\n",
      "5 of Diamonds\n",
      "7 of Clubs\n",
      "4 of Clubs\n",
      "4 of Diamonds\n",
      "2 of Hearts\n",
      "5 of Spades\n",
      "7 of Spades\n",
      "6 of Spades\n",
      "10 of Clubs\n"
     ]
    }
   ],
   "source": [
    "import random\n",
    "for i in range(n):\n",
    "    r = random.randrange(i,n)\n",
    "    temp = deck[r]\n",
    "    deck[r] = deck[i]\n",
    "    deck[i] = temp\n",
    "for i in range(n):\n",
    "    print(deck[i])##打印洗好的牌"
   ]
  },
  {
   "cell_type": "markdown",
   "metadata": {},
   "source": [
    "### 4.定义两个玩家（创建嵌套列表）"
   ]
  },
  {
   "cell_type": "code",
   "execution_count": 4,
   "metadata": {
    "collapsed": true
   },
   "outputs": [],
   "source": [
    "#创建玩家列表\n",
    "player = [[],[]]"
   ]
  },
  {
   "cell_type": "markdown",
   "metadata": {},
   "source": [
    "### 5.发牌（列表的截取）"
   ]
  },
  {
   "cell_type": "code",
   "execution_count": 5,
   "metadata": {
    "scrolled": false
   },
   "outputs": [
    {
     "name": "stdout",
     "output_type": "stream",
     "text": [
      "玩家 0 : ['Ace of Spades', '2 of Spades', '7 of Hearts', '8 of Spades', 'Jack of Diamonds', 'Queen of Spades', 'Jack of Spades', '6 of Diamonds', '8 of Diamonds', 'King of Spades', '3 of Spades', '8 of Hearts', '2 of Clubs', '8 of Clubs', '3 of Clubs', '9 of Spades', '6 of Hearts', '9 of Diamonds', '4 of Spades', '5 of Clubs', 'Jack of Clubs', '6 of Clubs', '10 of Diamonds', 'Ace of Hearts', 'King of Diamonds', '5 of Hearts']\n",
      "玩家 1 : ['King of Hearts', 'Ace of Diamonds', '9 of Clubs', '7 of Diamonds', '10 of Hearts', '3 of Hearts', '9 of Hearts', 'Jack of Hearts', '4 of Hearts', 'Queen of Diamonds', '3 of Diamonds', 'Queen of Clubs', 'Queen of Hearts', '2 of Diamonds', 'King of Clubs', 'Ace of Clubs', '10 of Spades', '5 of Diamonds', '7 of Clubs', '4 of Clubs', '4 of Diamonds', '2 of Hearts', '5 of Spades', '7 of Spades', '6 of Spades', '10 of Clubs']\n"
     ]
    }
   ],
   "source": [
    "# 将52张牌分发给两个玩家\n",
    "for i in range(2):\n",
    "    player[i] = deck[26*i:26*i+26]## 截取前26张发给玩家0，后26张发给玩家1\n",
    "    print('玩家',i,':',player[i])## 打印两个玩家分到的牌"
   ]
  },
  {
   "cell_type": "code",
   "execution_count": 6,
   "metadata": {},
   "outputs": [
    {
     "name": "stdout",
     "output_type": "stream",
     "text": [
      "['A', '2', '7', '8', 'J', 'Q', 'J', '6', '8', 'K', '3', '8', '2', '8', '3', '9', '6', '9', '4', '5', 'J', '6', '1', 'A', 'K', '5']\n",
      "['K', 'A', '9', '7', '1', '3', '9', 'J', '4', 'Q', '3', 'Q', 'Q', '2', 'K', 'A', '1', '5', '7', '4', '4', '2', '5', '7', '6', '1']\n"
     ]
    }
   ],
   "source": [
    "# 为了后面抽乌龟过程删除与添加时判断的方便，我们将每张牌的第一个字符代表本张牌，刷新四个人的牌的列表\n",
    "player_sim = [[],[]] ## 创建两个简化的玩家名称\n",
    "for j in range(2):\n",
    "    for k in range(26):\n",
    "        player_sim[j].append(player[j][k][0])##将之前创建的每个玩家中的每张牌用第一个字符代替\n",
    "    print(player_sim[j])## 打印出新的玩家的牌的列表"
   ]
  },
  {
   "cell_type": "markdown",
   "metadata": {},
   "source": [
    "### 6.去牌（列表的删除与添加）"
   ]
  },
  {
   "cell_type": "code",
   "execution_count": 7,
   "metadata": {},
   "outputs": [
    {
     "data": {
      "text/plain": [
       "'J'"
      ]
     },
     "execution_count": 7,
     "metadata": {},
     "output_type": "execute_result"
    }
   ],
   "source": [
    "# 随机抽取一名玩家，并随机去掉一张手中的牌\n",
    "a = random.randrange(0,2)\n",
    "b = random.randrange(0,26)\n",
    "player_sim[a].pop(b)## 显示去除的牌"
   ]
  },
  {
   "cell_type": "code",
   "execution_count": 8,
   "metadata": {},
   "outputs": [
    {
     "name": "stdout",
     "output_type": "stream",
     "text": [
      "['A', '2', '7', '8', 'J', 'Q', 'J', '6', '8', 'K', '3', '8', '2', '8', '3', '9', '6', '9', '4', '5', 'J', '6', '1', 'A', 'K', '5']\n",
      "['K', 'A', '9', '7', '1', '3', '9', '4', 'Q', '3', 'Q', 'Q', '2', 'K', 'A', '1', '5', '7', '4', '4', '2', '5', '7', '6', '1']\n"
     ]
    }
   ],
   "source": [
    "for j in range(2):\n",
    "    print(player_sim[j])"
   ]
  },
  {
   "cell_type": "code",
   "execution_count": 9,
   "metadata": {},
   "outputs": [
    {
     "name": "stdout",
     "output_type": "stream",
     "text": [
      "['7', 'Q', '4', 'J', '6', '1']\n",
      "['Q', '4', '7', '6', '1']\n"
     ]
    }
   ],
   "source": [
    "# 去掉两个玩家手中已有的成对的牌\n",
    "player1 = [[],[]]##采用向两个新的列表中添加的思路来去除成对的牌\n",
    "for m in range(2):\n",
    "    for x in player_sim[m]:\n",
    "        if x in player1[m]:## 用x in list脚本操作符来去除重复的牌\n",
    "            player1[m].pop(player1[m].index(x))\n",
    "        else:\n",
    "            player1[m].append(x)## 添加不成对的牌\n",
    "    print(player1[m])"
   ]
  },
  {
   "cell_type": "markdown",
   "metadata": {},
   "source": [
    "### 7.游戏抽取开始（列表的删除与添加的循环过程）"
   ]
  },
  {
   "cell_type": "code",
   "execution_count": 10,
   "metadata": {},
   "outputs": [
    {
     "name": "stdout",
     "output_type": "stream",
     "text": [
      "玩家0win\n",
      "玩家0： []\n",
      "玩家1： ['J']\n"
     ]
    }
   ],
   "source": [
    "# 游戏抽取环节开始\n",
    "while True:\n",
    "# 玩家0抽取玩家1的牌    \n",
    "    if player1[1][0] in player1[0]:\n",
    "        player1[0].pop(player1[0].index(player1[1][0]))##如果玩家0抽取的玩家1的牌与自己的牌凑成对，则将这一对牌放在一边\n",
    "        player1[1].pop(0)## 同时玩家1被抽取了一张牌，去掉一张\n",
    "    else:\n",
    "        player1[0].append(player1[1][0])## 如果玩家0抽取的玩家1的牌不能与自己的牌凑对，则将其拿在手中\n",
    "        player1[1].pop(0)## 玩家1由于被抽取了一张，仍然减去一张牌\n",
    "#判断两个玩家手中牌的数量，如果有一方已经没有了牌，则退出抽取的循环，并宣布获胜者及失败者手中剩的牌\n",
    "    if len(player1[0]) == 0:\n",
    "        print('玩家0win')\n",
    "        print('玩家0：',player1[0])\n",
    "        print('玩家1：',player1[1])\n",
    "        break\n",
    "    if len(player1[1]) == 0:\n",
    "        print('玩家1win')\n",
    "        print('玩家0：',player1[0])\n",
    "        print('玩家1：',player1[1])\n",
    "        break\n",
    "\n",
    "#玩家1抽取玩家0的牌       \n",
    "    if player1[0][0] in player1[1]:\n",
    "        player1[1].pop(player1[1].index(player1[0][0]))\n",
    "        player1[0].pop(0)\n",
    "    else:\n",
    "        player1[1].append(player1[0][0])\n",
    "        player1[0].pop(0)\n",
    "    if len(player1[0]) == 0:\n",
    "        print('玩家0win')\n",
    "        print('玩家0：',player1[0])\n",
    "        print('玩家1：',player1[1])\n",
    "        break\n",
    "    if len(player1[1]) == 0:\n",
    "        print('玩家1win')\n",
    "        print('玩家0：',player1[0])\n",
    "        print('玩家1：',player1[1])\n",
    "        break"
   ]
  }
 ],
 "metadata": {
  "kernelspec": {
   "display_name": "Python 3",
   "language": "python",
   "name": "python3"
  },
  "language_info": {
   "codemirror_mode": {
    "name": "ipython",
    "version": 3
   },
   "file_extension": ".py",
   "mimetype": "text/x-python",
   "name": "python",
   "nbconvert_exporter": "python",
   "pygments_lexer": "ipython3",
   "version": "3.6.3"
  },
  "toc": {
   "base_numbering": 1,
   "nav_menu": {},
   "number_sections": true,
   "sideBar": true,
   "skip_h1_title": false,
   "title_cell": "Table of Contents",
   "title_sidebar": "Contents",
   "toc_cell": false,
   "toc_position": {},
   "toc_section_display": true,
   "toc_window_display": false
  }
 },
 "nbformat": 4,
 "nbformat_minor": 2
}
