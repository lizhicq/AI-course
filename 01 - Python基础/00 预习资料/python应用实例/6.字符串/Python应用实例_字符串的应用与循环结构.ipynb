{
 "cells": [
  {
   "cell_type": "markdown",
   "metadata": {},
   "source": [
    "# Python应用实例_字符串的应用与循环结构"
   ]
  },
  {
   "cell_type": "markdown",
   "metadata": {},
   "source": [
    "## 创建一个工资查询系统：\n",
    "\n",
    "   \n",
    "   \n"
   ]
  },
  {
   "cell_type": "markdown",
   "metadata": {},
   "source": [
    "### 要求：\n",
    "\n",
    "   该司用户输入用户名、密码、工作时间、月薪，即可查询总工资。\n",
    "   \n",
    "   查询时，若用户名或密码为空，或者工作的月数不为整数，或者月工资不为整数，则重新输入。\n",
    "   \n",
    "   每一步都有指令提示。"
   ]
  },
  {
   "cell_type": "markdown",
   "metadata": {},
   "source": [
    "### 解决思路：\n",
    "\n",
    "1.两层while循环，外层的while循环，让用户输入用户名、密码、工作了几个月、每月的工资（整数），\n",
    "\n",
    "用户名或密码为空，或者工作的月数不为整数，或者月工资不为整数，则重新输入\n",
    "\n",
    "2.认证成功，进入下一层while循环，打印命令提示，有查询总工资，查询用户身份\n",
    "\n",
    "（如果用户名为alex则打印super user，如果用户名为yuanhao或者wupeiqi\n",
    "\n",
    "则打印normal user，其余情况均打印unkown user），退出功能\n",
    "\n",
    "3.要求用户输入退出，则退出所有循环（使用tag的方式）"
   ]
  },
  {
   "cell_type": "code",
   "execution_count": null,
   "metadata": {
    "collapsed": true
   },
   "outputs": [],
   "source": [
    "tag = True\n",
    "while tag:\n",
    "    while tag:\n",
    "        user = input(\"Please input your username: \")#解决问题：输入用户名必须非空格和回车！！！\n",
    "        \n",
    "        if len(user) != 0 and not user.isspace():   #Python的 isspace()方法用来检测字符串是否只由空格组成。\n",
    "            break\n",
    "    while tag:\n",
    "        password = input(\"Please input your password: \")\n",
    "        if len(password) != 0 and not password.isspace():\n",
    "            break\n",
    "    workhours = input(\"Please input your work hours: \")\n",
    "    salary_m = input(\"Please input your monthly salary: \")\n",
    "    tag = workhours.isdigit() and salary_m.isdigit()  #Python的isdigit() 方法检测字符串是否只由数字组成。\n",
    "    while tag:\n",
    "        print(\"         1、查询总工资\")\n",
    "        print(\"         2、查询用户身份\")\n",
    "        print(\"         3、退出登录\")\n",
    "        order = input(\"Please input your choose number: \")\n",
    "        #while order == \"1\" or \"2\" or \"3\":\n",
    "        if order == \"1\":    #如果不按照惯性输入，怎么办？？\n",
    "            print(\"总工资是： \",int(workhours)*int(salary_m))    #对输入数字取整数！！！\n",
    "        elif order == \"2\":\n",
    "            if user == \"alex\":\n",
    "                print(\"*******Super user*******\")\n",
    "            elif user == \"yuanhao\" or \"wupeiqi\":\n",
    "                print(\"*******Normal user*******\")\n",
    "            else:\n",
    "                print(\"*******Unknown user*******\")\n",
    "        elif order == \"3\":\n",
    "            print(\"*******用户已退出！*******\")\n",
    "            tag = False                                       #退出所有循环，并退出程序\n"
   ]
  },
  {
   "cell_type": "markdown",
   "metadata": {},
   "source": [
    "## 参考文献：\n",
    "\n",
    "https://www.cnblogs.com/LiChaoAI/p/6959607.html#_label00"
   ]
  },
  {
   "cell_type": "code",
   "execution_count": null,
   "metadata": {
    "collapsed": true
   },
   "outputs": [],
   "source": []
  }
 ],
 "metadata": {
  "kernelspec": {
   "display_name": "Python 3",
   "language": "python",
   "name": "python3"
  },
  "language_info": {
   "codemirror_mode": {
    "name": "ipython",
    "version": 3
   },
   "file_extension": ".py",
   "mimetype": "text/x-python",
   "name": "python",
   "nbconvert_exporter": "python",
   "pygments_lexer": "ipython3",
   "version": "3.6.2"
  }
 },
 "nbformat": 4,
 "nbformat_minor": 2
}
