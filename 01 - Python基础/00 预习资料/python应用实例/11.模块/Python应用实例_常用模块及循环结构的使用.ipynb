{
 "cells": [
  {
   "cell_type": "markdown",
   "metadata": {},
   "source": [
    "# Python应用实例_常用模块及循环结构的使用"
   ]
  },
  {
   "cell_type": "markdown",
   "metadata": {},
   "source": [
    "## “你来比划我来猜”游戏的实现:"
   ]
  },
  {
   "cell_type": "markdown",
   "metadata": {
    "collapsed": true
   },
   "source": [
    "电视节目中的”你来比划我来猜“大家应该都看过，而且很多人也玩过，规则就是一个人看词语比划相应动作和说一些提示，另一个人看不到词语要通过比划的动作\n",
    "猜出来，猜的过程中主持人判断是否符合规则。\n",
    "\n",
    "某一组玩家猜词语的算法设计为：\n",
    "\n",
    "1.开始计时--->\n",
    "\n",
    "2.猜词语--->\n",
    "\n",
    "3.答对则正确数加1并回到2，要跳过或犯规了则直接回到2，超时了直接跳到3--->3.循环10次后或时间结束后统计答对的题数\n",
    "有num组玩家就进行以上流程的num次循环，当然也要准备x组词语，因为每组玩家猜的词语是不同的。\n",
    "\n"
   ]
  },
  {
   "cell_type": "markdown",
   "metadata": {
    "collapsed": true
   },
   "source": [
    "## 知识补充：\n",
    "\n",
    "实验中计时是必须的，而time模块的函数 time.time()：可以返回当前时间的时间戳。在其他需要计时的场景我们也可以使用。\n"
   ]
  },
  {
   "cell_type": "code",
   "execution_count": 6,
   "metadata": {},
   "outputs": [
    {
     "data": {
      "text/plain": [
       "1512186251.5958228"
      ]
     },
     "execution_count": 6,
     "metadata": {},
     "output_type": "execute_result"
    }
   ],
   "source": [
    "#time.time函数使用示例：\n",
    "import time\n",
    "time.time()"
   ]
  },
  {
   "cell_type": "markdown",
   "metadata": {},
   "source": [
    "## 代码如下所示："
   ]
  },
  {
   "cell_type": "code",
   "execution_count": 1,
   "metadata": {},
   "outputs": [
    {
     "name": "stdout",
     "output_type": "stream",
     "text": [
      "有多少组玩家\n",
      "2\n",
      "1.东山再起\n",
      "请答题,答对请输入y,跳过请输入任意键\n",
      "2.多事之秋\n",
      "请答题,答对请输入y,跳过请输入任意键\n",
      "3.上下其手\n",
      "请答题,答对请输入y,跳过请输入任意键\n",
      "4.顾影自怜\n",
      "请答题,答对请输入y,跳过请输入任意键\n",
      "5.沉鱼落雁\n",
      "请答题,答对请输入y,跳过请输入任意键\n",
      "6.摩羯座\n",
      "请答题,答对请输入y,跳过请输入任意键y\n",
      "7.万里无云\n",
      "请答题,答对请输入y,跳过请输入任意键y\n",
      "8.王者荣耀\n",
      "请答题,答对请输入y,跳过请输入任意键y\n",
      "9.可乐\n",
      "请答题,答对请输入y,跳过请输入任意键\n",
      "10.百度\n",
      "请答题,答对请输入y,跳过请输入任意键\n",
      "第1组答对数目:3\n",
      "1.眉飞色舞\n",
      "请答题,答对请输入y,跳过请输入任意键\n",
      "2.英雄联盟\n",
      "请答题,答对请输入y,跳过请输入任意键\n",
      "3.扭秧歌\n",
      "请答题,答对请输入y,跳过请输入任意键\n",
      "4.偷看美女\n",
      "请答题,答对请输入y,跳过请输入任意键\n",
      "5.大摇大摆\n",
      "请答题,答对请输入y,跳过请输入任意键\n",
      "6.回眸一笑\n",
      "请答题,答对请输入y,跳过请输入任意键\n",
      "7.市场营销\n",
      "请答题,答对请输入y,跳过请输入任意键\n",
      "8.大眼瞪小眼\n",
      "请答题,答对请输入y,跳过请输入任意键\n",
      "9.自恋\n",
      "请答题,答对请输入y,跳过请输入任意键\n",
      "10.处女座\n",
      "请答题,答对请输入y,跳过请输入任意键\n",
      "第2组答对数目:0\n"
     ]
    }
   ],
   "source": [
    "#导入time模块\n",
    "import time  \n",
    "num = int(input('有多少组玩家\\n'))  \n",
    "guessWord = []  \n",
    "correct = []  \n",
    "#定义列表，num+10是不想让guessWord下标不合法  \n",
    "for i in range(0,num+10):  \n",
    "    guessWord.append(0)  \n",
    "    correct.append(0)  \n",
    "wordNum=10  \n",
    "guessWord[0] = ['东山再起','多事之秋','上下其手','顾影自怜','沉鱼落雁','摩羯座','万里无云','王者荣耀','可乐','百度']   \n",
    "guessWord[1] = ['眉飞色舞','英雄联盟','扭秧歌','偷看美女','大摇大摆','回眸一笑','市场营销','大眼瞪小眼','自恋','处女座']  \n",
    "guessWord[2] = ['狗急跳墙','捧腹大笑','目不转睛','愁眉苦脸','左顾右盼','宫保鸡丁','升国旗','暗恋','臭袜子','趁火打劫'] \n",
    "guessWord[3] = ['打情骂俏','海绵宝宝','娇媚','金鸡独立','狼吞虎咽','睡眼朦胧','鹤立鸡群','手舞足蹈','卓别林','穿越火线'] \n",
    "\n",
    "flag='n'  \n",
    "  \n",
    "for i in range(0,num):  \n",
    "    start = time.time()                  #计时开始，并记录当前时间戳\n",
    "    for k in range(0,wordNum):  \n",
    "        #显示词语  \n",
    "        print (('%d.%s')%(k+1,guessWord[i][k]))  \n",
    "      \n",
    "        flag = input('请答题,答对请输入y,跳过请输入任意键')  \n",
    "        end = time.time()                #计时结束，并记录当前时间戳\n",
    "        sec = end-start  \n",
    "        #统计用时  \n",
    "        if (110<=sec<=120):  \n",
    "            print ('还有10秒钟')  \n",
    "        if (sec>=120):  \n",
    "            print ('时间到！游戏结束')  \n",
    "            break  \n",
    "          \n",
    "        if (flag=='y'):  \n",
    "            correct[i]=correct[i]+1  \n",
    "            continue  \n",
    "        else:  \n",
    "            continue  \n",
    "    str_temp=('第%d组答对数目:%d') % (i+1,correct[i])   \n",
    "    print (str_temp)  "
   ]
  },
  {
   "cell_type": "markdown",
   "metadata": {},
   "source": [
    "## 参考文献：\n",
    "\n",
    "1.https://www.cnblogs.com/qq78292959/archive/2013/03/22/2975786.html\n",
    "\n",
    "2.http://blog.csdn.net/buptlrw/article/details/41924849\n"
   ]
  },
  {
   "cell_type": "code",
   "execution_count": null,
   "metadata": {
    "collapsed": true
   },
   "outputs": [],
   "source": []
  },
  {
   "cell_type": "code",
   "execution_count": null,
   "metadata": {
    "collapsed": true
   },
   "outputs": [],
   "source": []
  }
 ],
 "metadata": {
  "kernelspec": {
   "display_name": "Python 3",
   "language": "python",
   "name": "python3"
  },
  "language_info": {
   "codemirror_mode": {
    "name": "ipython",
    "version": 3
   },
   "file_extension": ".py",
   "mimetype": "text/x-python",
   "name": "python",
   "nbconvert_exporter": "python",
   "pygments_lexer": "ipython3",
   "version": "3.6.2"
  }
 },
 "nbformat": 4,
 "nbformat_minor": 2
}
