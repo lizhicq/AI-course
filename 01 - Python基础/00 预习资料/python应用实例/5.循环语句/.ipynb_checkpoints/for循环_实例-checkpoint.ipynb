{
 "cells": [
  {
   "cell_type": "markdown",
   "metadata": {},
   "source": [
    "# 游戏-谁是卧底\n",
    "## 游戏介绍："
   ]
  },
  {
   "cell_type": "markdown",
   "metadata": {},
   "source": [
    "谁是卧底也是深受很多人喜欢的游戏，起码要三人以上才能玩，大致分为几个阶段：\n",
    "1. 分配平民词语和卧底词语\n",
    "2. 玩家依次发言\n",
    "3. 根据发言投票认为谁是卧底\n",
    "4. 得到票数最多的玩家出局\n",
    "5. 出局玩家刚好是卧底则平民胜利，如果出局玩家是平民则被冤死并继续第2步，当剩下的平民只有1个时卧底胜利。"
   ]
  },
  {
   "cell_type": "markdown",
   "metadata": {},
   "source": [
    "## 程序："
   ]
  },
  {
   "cell_type": "code",
   "execution_count": 19,
   "metadata": {},
   "outputs": [
    {
     "name": "stdout",
     "output_type": "stream",
     "text": [
      "输入玩家个数（至少为3）:\n",
      "4\n",
      "各个玩家分到的词语如下:\n",
      "玩家 0 : 火车\n",
      "玩家 1 : 火车\n",
      "玩家 2 : 火车\n",
      "玩家 3 : 高铁\n"
     ]
    }
   ],
   "source": [
    "import random  \n",
    "num = int(input('输入玩家个数（至少为3）:\\n'))\n",
    "\n",
    "#产生卧底玩家  \n",
    "spy = random.randint(0,num-1)  \n",
    "  \n",
    "#产生平民和卧底玩家词语 定义词语列表 计算玩家票数的列表 统计死亡玩家的列表  \n",
    "list = ['火车','高铁'] \n",
    "word = []  \n",
    "cnt = []  \n",
    "dead = []  \n",
    "  \n",
    "#给列表赋初始值  \n",
    "for i in range(0,num):  \n",
    "    word.append('a')  \n",
    "    cnt.append(0)   \n",
    "\n",
    "#给玩家分配词语\n",
    "for i in range(0,num):  \n",
    "    if i == spy:  \n",
    "        word[i] = str(list[1])  \n",
    "    else:  \n",
    "        word[i] = str(list[0])\n",
    "\n",
    "#查看各个玩家分到的词语\n",
    "print('各个玩家分到的词语如下:')\n",
    "for i in range(0,num):\n",
    "    print ('玩家',i,':',word[i])  "
   ]
  },
  {
   "cell_type": "code",
   "execution_count": 20,
   "metadata": {},
   "outputs": [
    {
     "name": "stdout",
     "output_type": "stream",
     "text": [
      "请0号玩家发言:\n",
      "请1号玩家发言:\n",
      "请2号玩家发言:\n",
      "请3号玩家发言:\n",
      "发言结束\n",
      "请0号玩家投票:1\n",
      "请1号玩家投票:3\n",
      "请2号玩家投票:1\n",
      "请3号玩家投票:1\n",
      "1 号玩家被冤死!\n",
      "请0号玩家投票:3\n",
      "请2号玩家投票:3\n",
      "请3号玩家投票:0\n",
      "卧底票数最高，找到卧底，平民胜利！\n"
     ]
    }
   ],
   "source": [
    "# 游戏开始\n",
    "x = 0 ##定义冤死玩家个数并赋初值\n",
    "\n",
    "# 玩家轮流发言\n",
    "for i in range(num):\n",
    "    if not i in dead:\n",
    "        speech = input('请%d号玩家发言:'%i)\n",
    "print('发言结束')\n",
    "\n",
    "# 开始投票\n",
    "\n",
    "# 此层for循环为游戏进行的轮数，由于最后剩下两个人时卧底胜利，所以游戏最多循环num-2次\n",
    "for i in (range(num-2)):\n",
    "    \n",
    "    ## 每轮开始初始化各个玩家的票数\n",
    "    for i in range(num):\n",
    "        cnt[i] = 0\n",
    "    \n",
    "    ## 开始对每个玩家投票并记录票数（已经出局的玩家不再参与投票）\n",
    "    for i in range(num):\n",
    "        if not i in dead:\n",
    "            vote = int(input('请%d号玩家投票:'%i))\n",
    "            cnt[vote] = cnt[vote]+1\n",
    "    \n",
    "    ## 找到票数最多的玩家\n",
    "    y = max(cnt)\n",
    "    y1 = cnt.index(y)\n",
    "    \n",
    "    ## 如果票数最高的恰好为卧底，则平民胜利，退出循环\n",
    "    if y1 == spy:\n",
    "        print('卧底票数最高，找到卧底，平民胜利！')\n",
    "        break\n",
    "    \n",
    "    ## 若不是卧底，则将其归入冤死玩家列表\n",
    "    else:\n",
    "        print(y1,'号玩家被冤死!')\n",
    "        dead.append(y1)\n",
    "        x = x+1\n",
    "        \n",
    "        ## 检查剩余玩家个数\n",
    "        if num-x == 2:\n",
    "            print('目前只剩两名玩家，且卧底还没被找到，卧底胜利！')\n",
    "            break"
   ]
  }
 ],
 "metadata": {
  "kernelspec": {
   "display_name": "Python 3",
   "language": "python",
   "name": "python3"
  },
  "language_info": {
   "codemirror_mode": {
    "name": "ipython",
    "version": 3
   },
   "file_extension": ".py",
   "mimetype": "text/x-python",
   "name": "python",
   "nbconvert_exporter": "python",
   "pygments_lexer": "ipython3",
   "version": "3.6.3"
  },
  "toc": {
   "base_numbering": 1,
   "nav_menu": {},
   "number_sections": true,
   "sideBar": true,
   "skip_h1_title": false,
   "title_cell": "Table of Contents",
   "title_sidebar": "Contents",
   "toc_cell": false,
   "toc_position": {},
   "toc_section_display": true,
   "toc_window_display": false
  }
 },
 "nbformat": 4,
 "nbformat_minor": 2
}
