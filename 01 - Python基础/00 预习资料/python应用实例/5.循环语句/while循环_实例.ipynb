{
 "cells": [
  {
   "cell_type": "markdown",
   "metadata": {},
   "source": [
    "# 题目：编写登陆接口\n",
    "## 要求："
   ]
  },
  {
   "cell_type": "markdown",
   "metadata": {
    "collapsed": true
   },
   "source": [
    "1. 输入用户名和密码\n",
    "2. 认证成功后显示欢迎信息\n",
    "3. 用户名输错，提示用户不存在，重新输入(5次错误，提示尝试次数过多，退出程序) \n",
    "4. 用户名正确,密码错误，提示密码错误，重新输入。(密码错误3次,锁定用户名并提示，退出程序)"
   ]
  },
  {
   "cell_type": "markdown",
   "metadata": {},
   "source": [
    "## 程序："
   ]
  },
  {
   "cell_type": "code",
   "execution_count": 10,
   "metadata": {
    "scrolled": true
   },
   "outputs": [
    {
     "name": "stdout",
     "output_type": "stream",
     "text": [
      "Please input your acount:Daisy\n",
      "Please input your password:654321\n",
      "Welcome， Daisy !\n"
     ]
    }
   ],
   "source": [
    "# 创建一个包含账户和对应密码的字典\n",
    "dict = {'Micheal':'123456','Daisy':'654321','Sara':'162534','Carl':'456123'}\n",
    "# 定义循环变量\n",
    "i = 5 ## 账户循环变量\n",
    "j = 3 ## 密码循环变量\n",
    "while i > 0:\n",
    "    acount = input('Please input your acount:')\n",
    "    \n",
    "    \n",
    "# 如果账户输入错误，则可输入次数会逐渐减少，并且会重新回到输入账户输入界面，直到 i > 0 不满足，直接跳到最后一行提示‘已经尝试太多次’，结束程序  \n",
    "    if not acount in dict:\n",
    "        i = i - 1\n",
    "        if i > 1:\n",
    "            print('Wrong acount，you have',i,'chances left')\n",
    "        else:\n",
    "            print('Wrong acount，you have',i,'chance left')\n",
    "    \n",
    "# 如果账户输入正确，则会进入密码输入界面\n",
    "    else:\n",
    "        while j > 0:\n",
    "            password = input('Please input your password:')\n",
    "            \n",
    "            \n",
    "# 如果密码输入错误，则可输入次数会逐渐减少，并且会重新回到输入密码输入界面，直到 j > 0 不满足，直接跳到倒数第二个else语句提示账户被锁定，结束程序            \n",
    "            if password != dict[acount]:\n",
    "                j = j - 1\n",
    "                if j > 1:\n",
    "                    print('Wrong password，you have',j,'chances left')\n",
    "                else:\n",
    "                    print('Wrong password，you have',j,'chance left')\n",
    "            \n",
    "            \n",
    "# 如果密码输入正确，则会显示欢迎信息，并推出内层循环，然后执行倒数第一个break语句结束外层循环，程序结束            \n",
    "            else:\n",
    "                print('Welcome，',acount,'!')\n",
    "                break ##跳出内层循环\n",
    "        \n",
    "        \n",
    "        else:\n",
    "            print('You have tried too many times and your acount has been locked!')\n",
    "            break ## 密码输入错误的情况下跳出外层循环\n",
    "        \n",
    "        \n",
    "        break ## 密码输入正确的情况下跳出外层循环\n",
    "\n",
    "\n",
    "else:\n",
    "    print('You have tried too many times!')"
   ]
  }
 ],
 "metadata": {
  "kernelspec": {
   "display_name": "Python 3",
   "language": "python",
   "name": "python3"
  },
  "language_info": {
   "codemirror_mode": {
    "name": "ipython",
    "version": 3
   },
   "file_extension": ".py",
   "mimetype": "text/x-python",
   "name": "python",
   "nbconvert_exporter": "python",
   "pygments_lexer": "ipython3",
   "version": "3.6.3"
  },
  "toc": {
   "base_numbering": 1,
   "nav_menu": {},
   "number_sections": true,
   "sideBar": true,
   "skip_h1_title": false,
   "title_cell": "Table of Contents",
   "title_sidebar": "Contents",
   "toc_cell": false,
   "toc_position": {},
   "toc_section_display": true,
   "toc_window_display": false
  }
 },
 "nbformat": 4,
 "nbformat_minor": 2
}
