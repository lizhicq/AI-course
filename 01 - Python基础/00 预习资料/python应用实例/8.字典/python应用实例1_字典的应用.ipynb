{
 "cells": [
  {
   "cell_type": "markdown",
   "metadata": {},
   "source": [
    "# python应用实例1\n"
   ]
  },
  {
   "cell_type": "markdown",
   "metadata": {
    "collapsed": true
   },
   "source": [
    "## 用python字典相关操作实现简单的通讯录   \n",
    " "
   ]
  },
  {
   "cell_type": "markdown",
   "metadata": {},
   "source": [
    "### 要求：\n",
    "\n",
    "1.在用户输入指令前，先提供操作提示；\n",
    "\n",
    "2.能查找联系人；\n",
    "\n",
    "3.能添加/修改联系人；\n",
    "\n",
    "4.能删除联系人；\n",
    "\n",
    "5.用户能顺利退出程序。"
   ]
  },
  {
   "cell_type": "markdown",
   "metadata": {},
   "source": [
    "### 实现过程：\n",
    "\n",
    "在用户输入指令前，先通过操作提示："
   ]
  },
  {
   "cell_type": "code",
   "execution_count": 3,
   "metadata": {},
   "outputs": [
    {
     "name": "stdout",
     "output_type": "stream",
     "text": [
      "|---欢迎进入通讯录程序---|\n",
      "|---1：查询联系人资料 ---|\n",
      "|---2：插入新的联系人 ---|\n",
      "|---3：删除已有联系人 ---|\n",
      "|---4：退出通讯录程序 ---|\n",
      "\n"
     ]
    }
   ],
   "source": [
    "print(\"|---欢迎进入通讯录程序---|\")\n",
    "print(\"|---1：查询联系人资料 ---|\")\n",
    "print(\"|---2：插入新的联系人 ---|\")\n",
    "print(\"|---3：删除已有联系人 ---|\")\n",
    "print(\"|---4：退出通讯录程序 ---|\")           #对用户提供的操作提示\n",
    "print(\"\")\n"
   ]
  },
  {
   "cell_type": "code",
   "execution_count": 4,
   "metadata": {},
   "outputs": [
    {
     "name": "stdout",
     "output_type": "stream",
     "text": [
      "请根据您的需求输入相关的指令代码: 4\n",
      "|---感谢使用通讯录程序---|\n",
      "\n"
     ]
    }
   ],
   "source": [
    "dict1={}                                   #创建字典，且字典dict1每一个键值对对应一个联系人的姓名与联系方式\n",
    "while(1):\n",
    "    n=input(\"请根据您的需求输入相关的指令代码: \")\n",
    "    if(n=='1'):\n",
    "        key=input(\"请输入联系人姓名： \")\n",
    "        if (key in dict1):\n",
    "            print(key+\":\"+dict1[key])       #实现字符串的串联\n",
    "        else:\n",
    "            print(\"没有此人\") \n",
    "    elif(n=='2'):\n",
    "        key=input(\"请输入联系人姓名： \")\n",
    "        if(key in dict1):\n",
    "            print(\"您输入的姓名在通讯录中已存在\"+\"-->>\"+key+\":\"+dict1[key])\n",
    "            iis=input(\"是否修改用户资料(YES/NO)\")\n",
    "            if iis==\"YES\":\n",
    "                value=input(\"请输入用户联系电话： \")\n",
    "                dict1[key]=value\n",
    "        else:\n",
    "            value=input(\"请输入用户联系电话： \")  #添加键值对\n",
    "            dict1[key]=value\n",
    "        print(\"\")\n",
    "        \n",
    "    elif(n=='3'):\n",
    "        key=input(\"请输入联系人姓名： \")\n",
    "        value=dict1.pop(key)\n",
    "        print(\"已删除\"+key+value)              #删除键值对\n",
    "        print(\"\")\n",
    "\n",
    "    elif(n=='4'):\n",
    "        print(\"|---感谢使用通讯录程序---|\")\n",
    "        print(\"\")\n",
    "        break                                #中断循环,结束程序运行"
   ]
  },
  {
   "cell_type": "code",
   "execution_count": null,
   "metadata": {
    "collapsed": true
   },
   "outputs": [],
   "source": []
  }
 ],
 "metadata": {
  "kernelspec": {
   "display_name": "Python 3",
   "language": "python",
   "name": "python3"
  },
  "language_info": {
   "codemirror_mode": {
    "name": "ipython",
    "version": 3
   },
   "file_extension": ".py",
   "mimetype": "text/x-python",
   "name": "python",
   "nbconvert_exporter": "python",
   "pygments_lexer": "ipython3",
   "version": "3.6.2"
  }
 },
 "nbformat": 4,
 "nbformat_minor": 2
}
