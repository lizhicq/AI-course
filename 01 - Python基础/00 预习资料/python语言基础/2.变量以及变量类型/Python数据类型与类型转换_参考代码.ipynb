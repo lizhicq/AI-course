{
 "cells": [
  {
   "cell_type": "markdown",
   "metadata": {},
   "source": [
    "# 练习1"
   ]
  },
  {
   "cell_type": "code",
   "execution_count": 4,
   "metadata": {},
   "outputs": [
    {
     "name": "stdout",
     "output_type": "stream",
     "text": [
      "100\n",
      "100\n",
      "1000.0\n",
      "John\n",
      "17.0\n"
     ]
    }
   ],
   "source": [
    "\n",
    "\n",
    "counter =buy = 100 # 赋值整型变量\n",
    "miles = 1000.0 # 浮点型\n",
    "name , age = \"John\",17.0 # 字符串与浮点型\n",
    " \n",
    "print (counter)\n",
    "print (buy)\n",
    "print (miles)\n",
    "print (name)\n",
    "print (age)"
   ]
  },
  {
   "cell_type": "markdown",
   "metadata": {},
   "source": [
    "# 练习2.1"
   ]
  },
  {
   "cell_type": "code",
   "execution_count": 3,
   "metadata": {},
   "outputs": [
    {
     "name": "stdout",
     "output_type": "stream",
     "text": [
      "5 : 0b101 0o5 0x5\n",
      "10 : 0b1010 0o12 0xa\n",
      "32 : 0b100000 0o40 0x20\n",
      "7 : 0b111 0o7 0x7\n"
     ]
    }
   ],
   "source": [
    "\n",
    "a = [5,10,32,7]\n",
    "for i in a:\n",
    "     print(i,\":\",bin(i), oct(i), hex(i))\n",
    "\n"
   ]
  },
  {
   "cell_type": "markdown",
   "metadata": {},
   "source": [
    "# 练习2.2"
   ]
  },
  {
   "cell_type": "code",
   "execution_count": 1,
   "metadata": {},
   "outputs": [
    {
     "data": {
      "text/plain": [
       "['a', 'l', 'e', 'x']"
      ]
     },
     "execution_count": 1,
     "metadata": {},
     "output_type": "execute_result"
    }
   ],
   "source": [
    "s = \"alex\"\n",
    "list(s)"
   ]
  },
  {
   "cell_type": "code",
   "execution_count": 2,
   "metadata": {},
   "outputs": [
    {
     "data": {
      "text/plain": [
       "('a', 'l', 'e', 'x')"
      ]
     },
     "execution_count": 2,
     "metadata": {},
     "output_type": "execute_result"
    }
   ],
   "source": [
    "tuple(s)"
   ]
  },
  {
   "cell_type": "markdown",
   "metadata": {},
   "source": [
    "# 练习2.3"
   ]
  },
  {
   "cell_type": "code",
   "execution_count": 16,
   "metadata": {},
   "outputs": [
    {
     "data": {
      "text/plain": [
       "('alex', 'seven')"
      ]
     },
     "execution_count": 16,
     "metadata": {},
     "output_type": "execute_result"
    }
   ],
   "source": [
    "\n",
    "li=[\"alex\",\"seven\"]\n",
    "tuple(li)\n",
    "\n"
   ]
  },
  {
   "cell_type": "code",
   "execution_count": 17,
   "metadata": {},
   "outputs": [
    {
     "data": {
      "text/plain": [
       "['Alex', 'seven']"
      ]
     },
     "execution_count": 17,
     "metadata": {},
     "output_type": "execute_result"
    }
   ],
   "source": [
    "tu=('Alex',\"seven\")\n",
    "list(tu)\n"
   ]
  },
  {
   "cell_type": "markdown",
   "metadata": {},
   "source": [
    "# 练习2.4"
   ]
  },
  {
   "cell_type": "code",
   "execution_count": 8,
   "metadata": {},
   "outputs": [
    {
     "name": "stdout",
     "output_type": "stream",
     "text": [
      "[[1.0, 2.0, 5.0, 6.0, 8.0], [4.0, 5.0, 8.0, 5.0, 8.0]]\n"
     ]
    }
   ],
   "source": [
    "##将string型的元素变成float型\n",
    "a = [['1','2','5','6','8'],['4', '5', '8', '5', '8']]\n",
    "b = [[float(x) for x in inner] for inner in a]\n",
    "print (b)"
   ]
  },
  {
   "cell_type": "code",
   "execution_count": 4,
   "metadata": {},
   "outputs": [
    {
     "name": "stdout",
     "output_type": "stream",
     "text": [
      "[[1, 2, 5, 6, 8], [4, 5, 8, 5, 8]]\n"
     ]
    }
   ],
   "source": [
    "#将string型的元素变成int型\n",
    "a = [['1','2','5','6','8'],['4', '5', '8', '5', '8']]\n",
    "c = [[int(x) for x in inner] for inner in a]\n",
    "print (c)\n"
   ]
  },
  {
   "cell_type": "markdown",
   "metadata": {},
   "source": [
    "# 测试题1"
   ]
  },
  {
   "cell_type": "code",
   "execution_count": 14,
   "metadata": {},
   "outputs": [
    {
     "name": "stdout",
     "output_type": "stream",
     "text": [
      "b'\\xe8\\x80\\x81\\xe7\\x94\\xb7\\xe5\\xad\\xa9'\n",
      "老男孩\n"
     ]
    }
   ],
   "source": [
    "#测试题1.a\n",
    "\n",
    "n = \"老男孩\"\n",
    "print(n.encode(\"utf-8\"))\n",
    "print(n.encode().decode(\"utf-8\"))"
   ]
  },
  {
   "cell_type": "code",
   "execution_count": 15,
   "metadata": {},
   "outputs": [
    {
     "name": "stdout",
     "output_type": "stream",
     "text": [
      "b'\\xc0\\xcf\\xc4\\xd0\\xba\\xa2'\n",
      "老男孩\n"
     ]
    }
   ],
   "source": [
    "#测试题1.b\n",
    "\n",
    "n = \"老男孩\"\n",
    "print (n.encode('gbk'))\n",
    "print (n.encode('gbk').decode('gbk'))\n"
   ]
  },
  {
   "cell_type": "code",
   "execution_count": null,
   "metadata": {
    "collapsed": true
   },
   "outputs": [],
   "source": []
  }
 ],
 "metadata": {
  "kernelspec": {
   "display_name": "Python 3",
   "language": "python",
   "name": "python3"
  },
  "language_info": {
   "codemirror_mode": {
    "name": "ipython",
    "version": 3
   },
   "file_extension": ".py",
   "mimetype": "text/x-python",
   "name": "python",
   "nbconvert_exporter": "python",
   "pygments_lexer": "ipython3",
   "version": "3.6.2"
  }
 },
 "nbformat": 4,
 "nbformat_minor": 2
}
