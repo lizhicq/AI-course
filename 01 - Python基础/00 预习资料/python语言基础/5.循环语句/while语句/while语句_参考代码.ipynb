{
 "cells": [
  {
   "cell_type": "markdown",
   "metadata": {},
   "source": [
    "# 练习1"
   ]
  },
  {
   "cell_type": "code",
   "execution_count": 1,
   "metadata": {},
   "outputs": [
    {
     "data": {
      "text/plain": [
       "5050"
      ]
     },
     "execution_count": 1,
     "metadata": {},
     "output_type": "execute_result"
    }
   ],
   "source": [
    "sum = 0 \n",
    "n = 1\n",
    "while n <= 100:\n",
    "    sum = sum + n\n",
    "    n = n + 1\n",
    "sum"
   ]
  },
  {
   "cell_type": "markdown",
   "metadata": {},
   "source": [
    "# 练习2"
   ]
  },
  {
   "cell_type": "markdown",
   "metadata": {},
   "source": [
    "程序1"
   ]
  },
  {
   "cell_type": "code",
   "execution_count": 2,
   "metadata": {},
   "outputs": [
    {
     "name": "stdout",
     "output_type": "stream",
     "text": [
      "2\n",
      "4\n",
      "6\n",
      "8\n",
      "10\n"
     ]
    }
   ],
   "source": [
    "i = 1\n",
    "while i < 10:\n",
    "    i = i + 1\n",
    "    if i % 2 > 0:\n",
    "        continue\n",
    "    print(i)"
   ]
  },
  {
   "cell_type": "markdown",
   "metadata": {},
   "source": [
    "程序2"
   ]
  },
  {
   "cell_type": "code",
   "execution_count": 3,
   "metadata": {},
   "outputs": [
    {
     "name": "stdout",
     "output_type": "stream",
     "text": [
      "1\n",
      "2\n",
      "3\n",
      "4\n",
      "5\n"
     ]
    }
   ],
   "source": [
    "i = 1\n",
    "while 1:\n",
    "    print(i)\n",
    "    i = i + 1\n",
    "    if i > 5:\n",
    "        break"
   ]
  },
  {
   "cell_type": "markdown",
   "metadata": {},
   "source": [
    "# 练习3"
   ]
  },
  {
   "cell_type": "code",
   "execution_count": 4,
   "metadata": {},
   "outputs": [
    {
     "name": "stdout",
     "output_type": "stream",
     "text": [
      "请输入一个数字：7\n"
     ]
    }
   ],
   "source": [
    "i = input('请输入一个数字：')"
   ]
  },
  {
   "cell_type": "code",
   "execution_count": 5,
   "metadata": {},
   "outputs": [
    {
     "name": "stdout",
     "output_type": "stream",
     "text": [
      "7 是奇数\n"
     ]
    }
   ],
   "source": [
    "a = int(i)\n",
    "while a % 2 == 0:\n",
    "    print(i,'是偶数')\n",
    "else:\n",
    "    print(i,'是奇数')"
   ]
  },
  {
   "cell_type": "markdown",
   "metadata": {},
   "source": [
    "# 练习4"
   ]
  },
  {
   "cell_type": "code",
   "execution_count": 6,
   "metadata": {},
   "outputs": [
    {
     "name": "stdout",
     "output_type": "stream",
     "text": [
      "2 是素数\n",
      "3 是素数\n",
      "5 是素数\n",
      "7 是素数\n",
      "11 是素数\n",
      "13 是素数\n",
      "17 是素数\n",
      "19 是素数\n",
      "23 是素数\n",
      "29 是素数\n",
      "31 是素数\n",
      "37 是素数\n",
      "41 是素数\n",
      "43 是素数\n",
      "47 是素数\n",
      "53 是素数\n",
      "59 是素数\n",
      "61 是素数\n",
      "67 是素数\n",
      "71 是素数\n",
      "73 是素数\n",
      "79 是素数\n",
      "83 是素数\n",
      "89 是素数\n",
      "97 是素数\n"
     ]
    }
   ],
   "source": [
    "i = 2\n",
    "while i < 100:\n",
    "    j = 2\n",
    "    while(j <= (i / j)):\n",
    "        if not(i % j): break\n",
    "        j = j + 1\n",
    "    if (j > i / j):\n",
    "        print(i,'是素数')\n",
    "    i = i + 1"
   ]
  },
  {
   "cell_type": "markdown",
   "metadata": {},
   "source": [
    "# 测试1"
   ]
  },
  {
   "cell_type": "code",
   "execution_count": 7,
   "metadata": {},
   "outputs": [
    {
     "name": "stdout",
     "output_type": "stream",
     "text": [
      "1 x 1 = 1 \t\n",
      "1 x 2 = 2 \t2 x 2 = 4 \t\n",
      "1 x 3 = 3 \t2 x 3 = 6 \t3 x 3 = 9 \t\n",
      "1 x 4 = 4 \t2 x 4 = 8 \t3 x 4 = 12 \t4 x 4 = 16 \t\n",
      "1 x 5 = 5 \t2 x 5 = 10 \t3 x 5 = 15 \t4 x 5 = 20 \t5 x 5 = 25 \t\n",
      "1 x 6 = 6 \t2 x 6 = 12 \t3 x 6 = 18 \t4 x 6 = 24 \t5 x 6 = 30 \t6 x 6 = 36 \t\n",
      "1 x 7 = 7 \t2 x 7 = 14 \t3 x 7 = 21 \t4 x 7 = 28 \t5 x 7 = 35 \t6 x 7 = 42 \t7 x 7 = 49 \t\n",
      "1 x 8 = 8 \t2 x 8 = 16 \t3 x 8 = 24 \t4 x 8 = 32 \t5 x 8 = 40 \t6 x 8 = 48 \t7 x 8 = 56 \t8 x 8 = 64 \t\n",
      "1 x 9 = 9 \t2 x 9 = 18 \t3 x 9 = 27 \t4 x 9 = 36 \t5 x 9 = 45 \t6 x 9 = 54 \t7 x 9 = 63 \t8 x 9 = 72 \t9 x 9 = 81 \t\n"
     ]
    }
   ],
   "source": [
    "i=0\n",
    "j=0\n",
    "while i <9:\n",
    "    i+=1\n",
    "    while j <9:\n",
    "        j += 1\n",
    "        print(j, \"x\", i, \"=\", i * j, \"\\t\", end=\"\")\n",
    "        if i==j:\n",
    "            print(\"\")\n",
    "            j=0\n",
    "            break"
   ]
  },
  {
   "cell_type": "markdown",
   "metadata": {},
   "source": [
    "# 测试2"
   ]
  },
  {
   "cell_type": "code",
   "execution_count": 10,
   "metadata": {
    "scrolled": true
   },
   "outputs": [
    {
     "name": "stdout",
     "output_type": "stream",
     "text": [
      "1 6\n",
      "5 4\n",
      "4 6\n",
      "4 4\n",
      "4 2\n",
      "6 6\n",
      "Double Six thrown\n"
     ]
    }
   ],
   "source": [
    "import random\n",
    "while True:\n",
    "    throw_1 = random.randint(1,6)\n",
    "    throw_2 = random.randint(1,6)\n",
    "    print(throw_1,throw_2)\n",
    "    if throw_1 == 6 and throw_2 == 6:\n",
    "        break\n",
    "print('Double Six thrown')"
   ]
  },
  {
   "cell_type": "raw",
   "metadata": {},
   "source": [
    "参考文献：\n",
    "1.练习1—3：自己编写\n",
    "2.练习4：https://segmentfault.com/q/1010000004226392\n",
    "3.测试题1：http://www.cnblogs.com/xuyuanyuan123/p/6684814.html\n",
    "4.测试2：自己编写"
   ]
  }
 ],
 "metadata": {
  "kernelspec": {
   "display_name": "Python 3",
   "language": "python",
   "name": "python3"
  },
  "language_info": {
   "codemirror_mode": {
    "name": "ipython",
    "version": 3
   },
   "file_extension": ".py",
   "mimetype": "text/x-python",
   "name": "python",
   "nbconvert_exporter": "python",
   "pygments_lexer": "ipython3",
   "version": "3.6.2"
  }
 },
 "nbformat": 4,
 "nbformat_minor": 2
}
