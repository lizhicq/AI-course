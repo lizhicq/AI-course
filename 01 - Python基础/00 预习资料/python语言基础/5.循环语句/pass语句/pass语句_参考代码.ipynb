{
 "cells": [
  {
   "cell_type": "markdown",
   "metadata": {},
   "source": [
    "# 练习1"
   ]
  },
  {
   "cell_type": "code",
   "execution_count": 1,
   "metadata": {},
   "outputs": [
    {
     "name": "stdout",
     "output_type": "stream",
     "text": [
      "interest一词中字母e的个数为： 3\n"
     ]
    }
   ],
   "source": [
    "n = 0\n",
    "for letter in 'interested':\n",
    "    if letter == 'e':\n",
    "        n = n + 1\n",
    "    else:\n",
    "        pass\n",
    "print('interest一词中字母e的个数为：',n)"
   ]
  },
  {
   "cell_type": "markdown",
   "metadata": {},
   "source": [
    "# 练习2"
   ]
  },
  {
   "cell_type": "code",
   "execution_count": 2,
   "metadata": {},
   "outputs": [
    {
     "name": "stdout",
     "output_type": "stream",
     "text": [
      "2\n",
      "4\n",
      "6\n",
      "8\n",
      "10\n"
     ]
    }
   ],
   "source": [
    "n = 1\n",
    "while n <= 10:\n",
    "    if n % 2 == 0:\n",
    "        print(n)\n",
    "    else:\n",
    "        pass\n",
    "    n=n+1"
   ]
  },
  {
   "cell_type": "raw",
   "metadata": {},
   "source": [
    "参考文献：\n",
    "1.练习1—2：自己编写"
   ]
  }
 ],
 "metadata": {
  "kernelspec": {
   "display_name": "Python 3",
   "language": "python",
   "name": "python3"
  },
  "language_info": {
   "codemirror_mode": {
    "name": "ipython",
    "version": 3
   },
   "file_extension": ".py",
   "mimetype": "text/x-python",
   "name": "python",
   "nbconvert_exporter": "python",
   "pygments_lexer": "ipython3",
   "version": "3.6.2"
  }
 },
 "nbformat": 4,
 "nbformat_minor": 2
}
