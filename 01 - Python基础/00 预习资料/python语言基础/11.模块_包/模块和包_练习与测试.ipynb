{
 "cells": [
  {
   "cell_type": "markdown",
   "metadata": {},
   "source": [
    "# 模块和包(未出测试题）"
   ]
  },
  {
   "cell_type": "markdown",
   "metadata": {},
   "source": [
    "## 1.模块（Module）\n",
    "\n",
    "为了编写可维护的代码，我们把很多函数分组，分别放到不同的文件里，这样，每个文件包含的代码就相对较少，很多编程语言都采用这种组织代码的方式。\n",
    "在Python中，一个.py文件就称之为一个模块（Module）。\n",
    "\n",
    "其最大的好处是大大提高了代码的可维护性。其次，编写代码不必从零开始。当一个模块编写完毕，就可以被其他地方引用。我们在编写程序的时候，也经常引用\n",
    "其他模块，包括Python内置的模块和来自第三方的模块。\n",
    "\n",
    "使用模块还可以避免函数名和变量名冲突。相同名字的函数和变量完全可以分别存在不同的模块中，因此，我们自己在编写模块时，不必考虑名字会与其他模块\n",
    "冲突。但是也要注意，尽量不要与内置函数名字冲突。\n"
   ]
  },
  {
   "cell_type": "code",
   "execution_count": 1,
   "metadata": {
    "collapsed": true
   },
   "outputs": [],
   "source": [
    "#一个简单的模块示例：\n",
    "def print_func( par ):\n",
    "   print (\"Hello : \", par)\n",
    "   return"
   ]
  },
  {
   "cell_type": "markdown",
   "metadata": {},
   "source": [
    "### 1.1 模块的引入\n",
    "\n",
    "\n",
    "模块定义好后，我们可以使用 import 语句来引入模块，语法如下：\n",
    "\n",
    "import module1[, module2[,... moduleN]\n",
    "\n",
    "比如要引用模块 math，就可以在文件最开始的地方用 import math 来引入。在调用 math 模块中的函数时，必须这样引用：\n",
    "\n",
    "模块名.函数名\n"
   ]
  },
  {
   "cell_type": "markdown",
   "metadata": {
    "collapsed": true
   },
   "source": [
    "#### 练习1：\n",
    "\n",
    "已知Python中的random模块用于生成随机数。下面介绍一下random模块中常用的几个函数。\n",
    "\n",
    "① random.random()用于生成一个0到1的随机符点数: 0 <= n < 1.0\n",
    "\n",
    "② random.uniform的函数原型为：random.uniform(a, b)，用于生成一个指定范围内的随机浮点数，两个参数其中一个是上限，一个是下限。\n",
    "\n",
    "   如果a > b，则生成的随机数n: a <= n <= b。如果 a <b， 则 b <= n <= a。\n",
    "请实现以下要求：\n",
    "\n",
    "    请通过引入random模块，并使用上述介绍的函数，实现在10-100之间取一随机浮点数。\n",
    "\n"
   ]
  },
  {
   "cell_type": "code",
   "execution_count": 16,
   "metadata": {},
   "outputs": [
    {
     "name": "stdout",
     "output_type": "stream",
     "text": [
      "25.908544516081555\n",
      "36.57369031958878\n"
     ]
    }
   ],
   "source": [
    "#代码参考\n",
    "import \n",
    "# 导入模块\n",
    "print   \n",
    "print   \n",
    "#---- 结果（不同机器上的结果不一样）\n"
   ]
  },
  {
   "cell_type": "markdown",
   "metadata": {},
   "source": [
    "注：\n",
    "1.有些情况下，我们可能只需要从模块中导入一个指定的部分到当前命名空间中。\n",
    "语法如下：\n",
    "\n",
    "        from modname import name1[, name2[, ... nameN]]  \n",
    "        \n",
    "例如，要导入模块 fib 的 fibonacci 函数，使用如下语句：\n",
    "\n",
    "        from fib import fibonacci \n",
    "        \n",
    "    这个声明不会把整个 fib 模块导入到当前的命名空间中，它只会将 fib 里的 fibonacci 单个引入到执行这个声明的模块的全局符号表。\n",
    "\n",
    "\n",
    "2.把一个模块的所有内容全都导入到当前的命名空间也是可行的，只需使用如下声明：\n",
    "\n",
    "        from modname import *\n",
    "        \n",
    "    例如我们想一次性引入 math 模块中所有的东西，语句如下：\n",
    "    \n",
    "        from math import *\n",
    "\n"
   ]
  },
  {
   "cell_type": "markdown",
   "metadata": {
    "collapsed": true
   },
   "source": [
    "#### 练习2：\n",
    "\n",
    "已知random 函数中定义有 random .shuffle 函数，random.shuffle的函数原型为：\n",
    "\n",
    "random.shuffle(x[, random])，用于将一个列表中的元素打乱。\n",
    "\n",
    "\n",
    "请在下面编写代码，实现导入模块random，并对p = [\"Python\", \"is\", \"powerful\", \"simple\", \"and so on...\"] 实现洗牌操作。\n",
    "\n"
   ]
  },
  {
   "cell_type": "code",
   "execution_count": 10,
   "metadata": {},
   "outputs": [
    {
     "name": "stdout",
     "output_type": "stream",
     "text": [
      "['and so on...', 'simple', 'Python', 'powerful', 'is']\n"
     ]
    }
   ],
   "source": [
    "#导入random模块\n",
    "#please input your code here\n",
    "import \n",
    "p = [\"Python\", \"is\", \"powerful\", \"simple\", \"and so on...\"]  \n",
    "  \n",
    "print  \n"
   ]
  },
  {
   "cell_type": "markdown",
   "metadata": {},
   "source": [
    "####  练习3\n",
    "\n",
    "内置的函数 dir() 可以找到模块内定义的所有名称,使用方式为 dir (模块名)\n",
    "\n",
    "然后以一个字符串列表的形式返回。\n",
    "\n",
    "根据上述介绍，请用代码实现找出sys模块中定义的所有名称，并输出：\n"
   ]
  },
  {
   "cell_type": "code",
   "execution_count": 12,
   "metadata": {},
   "outputs": [
    {
     "name": "stdout",
     "output_type": "stream",
     "text": [
      "['__displayhook__', '__doc__', '__excepthook__', '__interactivehook__', '__loader__', '__name__', '__package__', '__spec__', '__stderr__', '__stdin__', '__stdout__', '_clear_type_cache', '_current_frames', '_debugmallocstats', '_enablelegacywindowsfsencoding', '_getframe', '_git', '_home', '_xoptions', 'api_version', 'argv', 'base_exec_prefix', 'base_prefix', 'builtin_module_names', 'byteorder', 'call_tracing', 'callstats', 'copyright', 'displayhook', 'dllhandle', 'dont_write_bytecode', 'exc_info', 'excepthook', 'exec_prefix', 'executable', 'exit', 'flags', 'float_info', 'float_repr_style', 'get_asyncgen_hooks', 'get_coroutine_wrapper', 'getallocatedblocks', 'getcheckinterval', 'getdefaultencoding', 'getfilesystemencodeerrors', 'getfilesystemencoding', 'getprofile', 'getrecursionlimit', 'getrefcount', 'getsizeof', 'getswitchinterval', 'gettrace', 'getwindowsversion', 'hash_info', 'hexversion', 'implementation', 'int_info', 'intern', 'is_finalizing', 'last_traceback', 'last_type', 'last_value', 'maxsize', 'maxunicode', 'meta_path', 'modules', 'path', 'path_hooks', 'path_importer_cache', 'platform', 'prefix', 'ps1', 'ps2', 'ps3', 'set_asyncgen_hooks', 'set_coroutine_wrapper', 'setcheckinterval', 'setprofile', 'setrecursionlimit', 'setswitchinterval', 'settrace', 'stderr', 'stdin', 'stdout', 'thread_info', 'version', 'version_info', 'warnoptions', 'winver']\n"
     ]
    }
   ],
   "source": [
    "#导入模块\n",
    "import \n",
    "print  "
   ]
  },
  {
   "cell_type": "markdown",
   "metadata": {},
   "source": [
    "### 1.2  \\__name\\__属性\n",
    "\n",
    "一个模块被另一个程序第一次引入时，其主程序将运行。如果我们想在模块被引入时，模块中的某一程序块不执行，我们可以用\\__name__属性来使该程序块\n",
    "仅在该模块自身运行时执行。\n",
    "\n",
    "每个模块都有一个\\__name\\__属性，当其值是\\__main__时，表明该模块自身在运行，否则是被引入。 \n",
    "\n",
    "利用\\__name__属性，我们可以让同一个程序在不同的场合（单独执行或被导入)具有不同的行为.\n",
    "\n"
   ]
  },
  {
   "cell_type": "markdown",
   "metadata": {},
   "source": [
    "#### 练习4 \n",
    "\n",
    "请运用\\__name\\__属性，编写代码实现判断程序是否是自身在运行："
   ]
  },
  {
   "cell_type": "code",
   "execution_count": 18,
   "metadata": {},
   "outputs": [
    {
     "name": "stdout",
     "output_type": "stream",
     "text": [
      "程序自身在运行\n"
     ]
    }
   ],
   "source": [
    "#判断条件\n",
    "if \n",
    "   print('程序自身在运行')\n",
    "\n",
    "   print('我来自另一模块')\n"
   ]
  },
  {
   "cell_type": "markdown",
   "metadata": {
    "collapsed": true
   },
   "source": [
    "注：每个模块都有一个\\__name\\__属性，当其值是\\__main\\__时，表明该模块自身在运行，否则是被引入。"
   ]
  },
  {
   "cell_type": "markdown",
   "metadata": {},
   "source": [
    "## 2.包\n",
    "\n",
    "包是一种管理 Python 模块命名空间的形式，采用\"点模块名称\"。\n",
    "\n",
    "比如一个模块的名称是 A.B， 那么他表示一个包 A中的子模块 B 。\n",
    "\n",
    "就好像使用模块的时候，你不用担心不同模块之间的全局变量相互影响一样，采用点模块名称这种形式也不用担心不同库之间的模块重名的情况。\n",
    "\n",
    "\n",
    "包是一个有层次的文件目录结构，它定义了由n个模块或n个子包组成的python应用程序执行环境。\n",
    "\n",
    "通俗一点：包是一个包含__init__.py 文件的目录，该目录下一定得有这个__init__.py文件和其它模块或子包。"
   ]
  },
  {
   "cell_type": "markdown",
   "metadata": {},
   "source": [
    "### 2.1 包的结构\n",
    "\n",
    "为了组织好模块，将多个模块分为一个包。包是python模块文件所在的目录，且该目录下必须存在__init__.py文件。常见的包结构如下："
   ]
  },
  {
   "cell_type": "markdown",
   "metadata": {
    "collapsed": true
   },
   "source": [
    "\n",
    "package_a\n",
    "├── __init__.py\n",
    "├── module_a1.py\n",
    "└── module_a2.py\n",
    "package_b\n",
    "├── __init__.py\n",
    "├── module_b1.py\n",
    "└── module_b2.py\n",
    "\n"
   ]
  },
  {
   "cell_type": "markdown",
   "metadata": {
    "collapsed": true
   },
   "source": [
    "#### 练习5 \n",
    "\n",
    "假设你想设计一套统一处理声音文件和数据的模块（或者称之为一个\"包\"）。\n",
    "\n",
    "现存很多种不同的音频文件格式（基本上都是通过后缀名区分的，例如： .wav，:file:.aiff，:file:.au，），所以你需要有一组不断增加的模块，用来\n",
    "在不同的格式之间转换。并且针对这些音频数据，还有很多不同的操作（比如混音，添加回声，增加均衡器功能，创建人造立体声效果），所你还需要一组怎么\n",
    "也写不完的模块来处理这些操作。\n",
    "\n",
    "这里给出了一种可能的包结构（在分层的文件系统中），请阅读下列代码，并熟悉包的结构: \n"
   ]
  },
  {
   "cell_type": "code",
   "execution_count": null,
   "metadata": {
    "collapsed": true
   },
   "outputs": [],
   "source": [
    "sound/                          #顶层包\n",
    "      __init__.py               #初始化 sound 包\n",
    "      formats/                  #文件格式转换子包\n",
    "              __init__.py\n",
    "              wavread.py\n",
    "              wavwrite.py\n",
    "              aiffread.py\n",
    "              aiffwrite.py\n",
    "              auread.py\n",
    "              auwrite.py\n",
    "              ...\n",
    "      effects/                  #声音效果子包\n",
    "              __init__.py\n",
    "              echo.py\n",
    "              surround.py\n",
    "              reverse.py\n",
    "              ...\n",
    "      filters/                  #filters 子包\n",
    "              __init__.py\n",
    "              equalizer.py\n",
    "              vocoder.py\n",
    "              karaoke.py\n",
    "              ..."
   ]
  },
  {
   "cell_type": "markdown",
   "metadata": {},
   "source": [
    "### 2.2 导入包\n",
    "\n",
    "在导入一个包的时候，Python 会根据 sys.path 中的目录来寻找这个包中包含的子目录。 "
   ]
  },
  {
   "cell_type": "markdown",
   "metadata": {
    "collapsed": true
   },
   "source": [
    "目录只有包含一个叫做 \\__init\\__.py 的文件才会被认作是一个包，主要是为了避免一些滥俗的名字（比如叫做 string）不小心的影响搜索路径中的有效模块。\n",
    "\n",
    "最简单的情况，放一个空的 :file:\\__init\\__.py就可以了。当然这个文件中也可以包含一些初始化代码或者为（将在后面介绍的） \\__all\\__变量赋值。\n",
    "        \n",
    "        "
   ]
  },
  {
   "cell_type": "markdown",
   "metadata": {
    "collapsed": true
   },
   "source": [
    "#### 2.2.1 导入方法1：\n",
    "\n",
    "用户可以每次只导入一个包里面的特定模块，比如:     \n",
    "import sound.effects.echo\n",
    "\n",
    "\n",
    "这将会导入子模块:sound.effects.echo。 他必须使用全名去访问: \n",
    "sound.effects.echo.echofilter(input, output, delay=0.7, atten=4)\n",
    "\n"
   ]
  },
  {
   "cell_type": "markdown",
   "metadata": {
    "collapsed": true
   },
   "source": [
    "#### 2.2.2 导入方法2：\n",
    "\n",
    "另一种导入包里面子模块的方法：\n",
    "from sound.effects import echo\n",
    "\n",
    "\n",
    "这同样会导入子模块: echo，并且他不需要那些冗长的前缀，所以他可以这样使用: \n",
    "echo.echofilter(input, output, delay=0.7, atten=4)\n"
   ]
  },
  {
   "cell_type": "markdown",
   "metadata": {
    "collapsed": true
   },
   "source": [
    "#### 2.2.3 导入方法3：\n",
    "\n",
    "还有一种变化就是直接导入一个函数或者变量: \n",
    "from sound.effects.echo import echofilter\n",
    "\n",
    "\n",
    "同样的，这种方法会导入子模块: echo，并且可以直接使用他的 echofilter() 函数: \n",
    "echofilter(input, output, delay=0.7, atten=4) \n"
   ]
  },
  {
   "cell_type": "markdown",
   "metadata": {
    "collapsed": true
   },
   "source": [
    "注：\n",
    "\n",
    "注意当使用from package import item这种形式的时候，对应的item既可以是包里面的子模块（子包），或者包里面定义的其他名称，比如函数，类\n",
    "或者变量。\n",
    "\n",
    "import语法会首先把item当作一个包定义的名称，如果没找到，再试图按照一个模块去导入。\n",
    "\n",
    "如果还没找到，恭喜，一个:exc:ImportError 异常被抛出了。 \n",
    "\n",
    "反之，如果使用形如import item.subitem.subsubitem这种导入形式，除了最后一项，都必须是包，而最后一项则可以是模块或者是包，但是不可以是类，\n",
    "函数或者变量的名字。 \n"
   ]
  },
  {
   "cell_type": "code",
   "execution_count": null,
   "metadata": {
    "collapsed": true
   },
   "outputs": [],
   "source": []
  },
  {
   "cell_type": "markdown",
   "metadata": {
    "collapsed": true
   },
   "source": [
    "## 参考文献：\n",
    "\n",
    "1.http://www.runoob.com/python3/python3-tutorial.html      python菜鸟教程\n",
    "2.https://www.liaoxuefeng.com/wiki/0014316089557264a6b348958f449949df42a6d3a2e542c000    廖雪峰python教程"
   ]
  },
  {
   "cell_type": "code",
   "execution_count": null,
   "metadata": {
    "collapsed": true
   },
   "outputs": [],
   "source": []
  }
 ],
 "metadata": {
  "kernelspec": {
   "display_name": "Python 3",
   "language": "python",
   "name": "python3"
  },
  "language_info": {
   "codemirror_mode": {
    "name": "ipython",
    "version": 3
   },
   "file_extension": ".py",
   "mimetype": "text/x-python",
   "name": "python",
   "nbconvert_exporter": "python",
   "pygments_lexer": "ipython3",
   "version": "3.6.2"
  }
 },
 "nbformat": 4,
 "nbformat_minor": 2
}
