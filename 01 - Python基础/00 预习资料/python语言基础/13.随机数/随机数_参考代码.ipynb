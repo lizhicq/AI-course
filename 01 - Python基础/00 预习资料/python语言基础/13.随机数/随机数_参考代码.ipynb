{
 "cells": [
  {
   "cell_type": "markdown",
   "metadata": {},
   "source": [
    "# 练习1"
   ]
  },
  {
   "cell_type": "code",
   "execution_count": 4,
   "metadata": {
    "scrolled": false
   },
   "outputs": [
    {
     "name": "stdout",
     "output_type": "stream",
     "text": [
      "1000= 10 × 10 × 10\n"
     ]
    }
   ],
   "source": [
    "import random\n",
    "while True:\n",
    "    a = random.randint(0,10)\n",
    "    b = random.randint(0,10)\n",
    "    c = random.randint(0,10)\n",
    "    if a * b * c == 1000:\n",
    "        break\n",
    "print('1000=',a,'×',b,'×',c)"
   ]
  },
  {
   "cell_type": "markdown",
   "metadata": {
    "collapsed": true
   },
   "source": [
    "# 练习2"
   ]
  },
  {
   "cell_type": "code",
   "execution_count": 69,
   "metadata": {},
   "outputs": [
    {
     "name": "stdout",
     "output_type": "stream",
     "text": [
      "[1, 2, 3, 4, 5, 6, 7, 8, 9, 10]\n"
     ]
    }
   ],
   "source": [
    "import random\n",
    "list = []\n",
    "while len(list) < 10:\n",
    "    a = random.randrange(1,11,1)\n",
    "    b = a in list\n",
    "    if b == False:\n",
    "        list.append(a)\n",
    "list.sort()\n",
    "print(list)"
   ]
  },
  {
   "cell_type": "markdown",
   "metadata": {},
   "source": [
    "# 练习3"
   ]
  },
  {
   "cell_type": "code",
   "execution_count": 13,
   "metadata": {},
   "outputs": [
    {
     "name": "stdout",
     "output_type": "stream",
     "text": [
      "抽到数字1的概率是: 0.10045\n"
     ]
    }
   ],
   "source": [
    "count = 0\n",
    "i = 0\n",
    "s = list(range(1,11))\n",
    "while i <= 100000:#100000是自行设定的抽取次数，次数设定越大，结构越准确\n",
    "    num = random.choice(s)\n",
    "    if num == 1:\n",
    "        count =count + 1\n",
    "    i = i + 1\n",
    "print('抽到数字1的概率是:',count/100000)"
   ]
  },
  {
   "cell_type": "markdown",
   "metadata": {},
   "source": [
    "# 练习4"
   ]
  },
  {
   "cell_type": "code",
   "execution_count": 73,
   "metadata": {},
   "outputs": [
    {
     "name": "stdout",
     "output_type": "stream",
     "text": [
      "[1, 3, 4, 2, 5]\n"
     ]
    }
   ],
   "source": [
    "list = [1,2,3,4,5]\n",
    "list1 = [1,3,4,2,5]\n",
    "while True:\n",
    "    random.shuffle(list)\n",
    "    if list[0] == list1[0] and list[1] == list1[1] and list[2] == list1[2] and list[3] == list1[3] and list[4] == list1[4]:\n",
    "        break\n",
    "print(list)"
   ]
  },
  {
   "cell_type": "markdown",
   "metadata": {},
   "source": [
    "# 练习5"
   ]
  },
  {
   "cell_type": "code",
   "execution_count": 111,
   "metadata": {},
   "outputs": [
    {
     "name": "stdout",
     "output_type": "stream",
     "text": [
      "共有 10 种组合，分别是：\n",
      "[4, 5]\n",
      "[5, 2]\n",
      "[1, 5]\n",
      "[1, 4]\n",
      "[3, 2]\n",
      "[1, 3]\n",
      "[4, 3]\n",
      "[4, 2]\n",
      "[3, 5]\n",
      "[1, 2]\n"
     ]
    }
   ],
   "source": [
    "s = []\n",
    "i = 0\n",
    "while i < 1000:\n",
    "    a = random.sample([1,2,3,4,5],2)\n",
    "    b = a in s\n",
    "    a.reverse()\n",
    "    d = a in s\n",
    "    if b == False and d == False:\n",
    "        s.append(a)\n",
    "    i = i + 1\n",
    "print('共有',len(s),'种组合，分别是：')\n",
    "for x in s:\n",
    "    print(x)"
   ]
  },
  {
   "cell_type": "markdown",
   "metadata": {},
   "source": [
    "# 测试题"
   ]
  },
  {
   "cell_type": "code",
   "execution_count": 5,
   "metadata": {},
   "outputs": [
    {
     "name": "stdout",
     "output_type": "stream",
     "text": [
      "面积是： 3.4098\n"
     ]
    }
   ],
   "source": [
    "import random\n",
    "count = 0\n",
    "for i in range(1000000):\n",
    "    x = random.uniform(0,5)\n",
    "    y = random.uniform(0,5)\n",
    "    if (x**2 + y**2) > 25 and (y < 0.5 * x + 2.5):\n",
    "        count = count + 1\n",
    "result = (count / 1000000.0) * 25\n",
    "print('面积是：',result)"
   ]
  },
  {
   "cell_type": "raw",
   "metadata": {
    "collapsed": true
   },
   "source": [
    "参考文献：\n",
    "1.练习1-练习5：自己编写的题\n",
    "2.测试题：http://blog.csdn.net/qxconverse/article/details/52077830"
   ]
  }
 ],
 "metadata": {
  "kernelspec": {
   "display_name": "Python 3",
   "language": "python",
   "name": "python3"
  },
  "language_info": {
   "codemirror_mode": {
    "name": "ipython",
    "version": 3
   },
   "file_extension": ".py",
   "mimetype": "text/x-python",
   "name": "python",
   "nbconvert_exporter": "python",
   "pygments_lexer": "ipython3",
   "version": "3.6.2"
  }
 },
 "nbformat": 4,
 "nbformat_minor": 2
}
