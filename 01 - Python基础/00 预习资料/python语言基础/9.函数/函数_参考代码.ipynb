{
 "cells": [
  {
   "cell_type": "markdown",
   "metadata": {},
   "source": [
    "# 练习1"
   ]
  },
  {
   "cell_type": "code",
   "execution_count": 4,
   "metadata": {
    "collapsed": true
   },
   "outputs": [],
   "source": [
    "def Sum(v):\n",
    "    a = list(range(1,101))\n",
    "    s = 0\n",
    "    for i in a:\n",
    "        s = s + i\n",
    "    return s"
   ]
  },
  {
   "cell_type": "code",
   "execution_count": 5,
   "metadata": {},
   "outputs": [
    {
     "data": {
      "text/plain": [
       "5050"
      ]
     },
     "execution_count": 5,
     "metadata": {},
     "output_type": "execute_result"
    }
   ],
   "source": [
    "Sum(100)"
   ]
  },
  {
   "cell_type": "markdown",
   "metadata": {},
   "source": [
    "# 练习2"
   ]
  },
  {
   "cell_type": "code",
   "execution_count": 8,
   "metadata": {
    "collapsed": true
   },
   "outputs": [],
   "source": [
    "def func(n):# n 为调用时你设置的序列上限\n",
    "    a = 0\n",
    "    b = 1\n",
    "    while b < n:\n",
    "        print(b)\n",
    "        a,b = b,a + b"
   ]
  },
  {
   "cell_type": "code",
   "execution_count": 10,
   "metadata": {},
   "outputs": [
    {
     "name": "stdout",
     "output_type": "stream",
     "text": [
      "1\n",
      "1\n",
      "2\n",
      "3\n",
      "5\n",
      "8\n",
      "13\n",
      "21\n",
      "34\n",
      "55\n",
      "89\n",
      "144\n",
      "233\n",
      "377\n",
      "610\n",
      "987\n"
     ]
    }
   ],
   "source": [
    "func(1000)"
   ]
  },
  {
   "cell_type": "markdown",
   "metadata": {},
   "source": [
    "# 练习3"
   ]
  },
  {
   "cell_type": "markdown",
   "metadata": {},
   "source": [
    "A选项错误，因为调用时并未给出参数\n",
    "B选项正确，执行结果为1.4\n",
    "C选项错误，调用时参数个数错误，abs 函数参数只有一个\n",
    "D选项错误，调用参数类型错误，abs 函数参数类型为实数"
   ]
  },
  {
   "cell_type": "markdown",
   "metadata": {},
   "source": [
    "# 练习4"
   ]
  },
  {
   "cell_type": "code",
   "execution_count": 1,
   "metadata": {},
   "outputs": [
    {
     "name": "stdout",
     "output_type": "stream",
     "text": [
      "hello, Michael 先生, welcome to python world!\n"
     ]
    }
   ],
   "source": [
    "def print_hello(name,sex):\n",
    "    sex_dict = {1: u'先生', 2: u'女士'}\n",
    "    print('hello, %s %s, welcome to python world!' %(name, sex_dict.get(sex, u'先生')))\n",
    "print_hello('Michael',1)"
   ]
  },
  {
   "cell_type": "markdown",
   "metadata": {},
   "source": [
    "# 练习5"
   ]
  },
  {
   "cell_type": "code",
   "execution_count": 2,
   "metadata": {},
   "outputs": [
    {
     "name": "stdout",
     "output_type": "stream",
     "text": [
      "hello, Michael 先生, welcome to python world!\n"
     ]
    }
   ],
   "source": [
    "def print_hello(name,sex = 1):\n",
    "    sex_dict = {1: u'先生', 2: u'女士'}\n",
    "    print('hello, %s %s, welcome to python world!' %(name, sex_dict.get(sex, u'先生')))\n",
    "print_hello('Michael')"
   ]
  },
  {
   "cell_type": "markdown",
   "metadata": {},
   "source": [
    "# 练习6"
   ]
  },
  {
   "cell_type": "code",
   "execution_count": 17,
   "metadata": {},
   "outputs": [
    {
     "data": {
      "text/plain": [
       "15"
      ]
     },
     "execution_count": 17,
     "metadata": {},
     "output_type": "execute_result"
    }
   ],
   "source": [
    "def sumofdigits(*args):\n",
    "    x = 0\n",
    "    for i in args:\n",
    "        x += i\n",
    "    return x\n",
    "sumofdigits(1,2,3,4,5)"
   ]
  },
  {
   "cell_type": "markdown",
   "metadata": {},
   "source": [
    "# 练习7"
   ]
  },
  {
   "cell_type": "code",
   "execution_count": 6,
   "metadata": {},
   "outputs": [
    {
     "name": "stdout",
     "output_type": "stream",
     "text": [
      "name: Michael age: 22 others: {'city': 'Newyork'}\n",
      "name: Sara age: 21 others: {'city': 'Beijing', 'Major': 'Machenical'}\n",
      "name: Daisy age: 23 others: {'city': 'Changsha', 'Major': 'Software', 'Hobby': 'Music'}\n"
     ]
    }
   ],
   "source": [
    "def my_cv(name,age,**kw):\n",
    "    print('name:',name,'age:',age,'others:',kw)\n",
    "my_cv('Michael',22,city = 'Newyork')\n",
    "my_cv('Sara',21,city = 'Beijing',Major = 'Machenical' )\n",
    "my_cv('Daisy',23,city = 'Changsha',Major = 'Software',Hobby = 'Music')"
   ]
  },
  {
   "cell_type": "markdown",
   "metadata": {
    "collapsed": true
   },
   "source": [
    "# 练习8"
   ]
  },
  {
   "cell_type": "code",
   "execution_count": 11,
   "metadata": {
    "collapsed": true
   },
   "outputs": [],
   "source": [
    "def f1(a = 0, b = 0, c = 0, *args, **kw):\n",
    "    print('a =', a, 'b =', b, 'c =', c, 'args =', args, 'kw =', kw)\n",
    "\n",
    "def f2(a = 0, b = 0, c = 0, *, d, **kw):\n",
    "    print('a =', a, 'b =', b, 'c =', c, 'd =', d, 'kw =', kw)"
   ]
  },
  {
   "cell_type": "code",
   "execution_count": 12,
   "metadata": {},
   "outputs": [
    {
     "name": "stdout",
     "output_type": "stream",
     "text": [
      "a = 1 b = 2 c = 0 args = () kw = {}\n"
     ]
    }
   ],
   "source": [
    "f1(1,2)"
   ]
  },
  {
   "cell_type": "code",
   "execution_count": 13,
   "metadata": {},
   "outputs": [
    {
     "name": "stdout",
     "output_type": "stream",
     "text": [
      "a = 1 b = 2 c = 3 args = () kw = {}\n"
     ]
    }
   ],
   "source": [
    "f1(1, 2, c=3)"
   ]
  },
  {
   "cell_type": "code",
   "execution_count": 14,
   "metadata": {},
   "outputs": [
    {
     "name": "stdout",
     "output_type": "stream",
     "text": [
      "a = 1 b = 2 c = 3 args = ('a', 'b') kw = {}\n"
     ]
    }
   ],
   "source": [
    "f1(1, 2, 3, 'a', 'b')"
   ]
  },
  {
   "cell_type": "code",
   "execution_count": 15,
   "metadata": {},
   "outputs": [
    {
     "name": "stdout",
     "output_type": "stream",
     "text": [
      "a = 1 b = 2 c = 3 args = ('a', 'b') kw = {'x': 99}\n"
     ]
    }
   ],
   "source": [
    "f1(1, 2, 3, 'a', 'b', x=99)"
   ]
  },
  {
   "cell_type": "code",
   "execution_count": 16,
   "metadata": {},
   "outputs": [
    {
     "name": "stdout",
     "output_type": "stream",
     "text": [
      "a = 1 b = 2 c = 0 d = 99 kw = {'ext': None}\n"
     ]
    }
   ],
   "source": [
    "f2(1, 2, d=99, ext=None)"
   ]
  },
  {
   "cell_type": "markdown",
   "metadata": {},
   "source": [
    "# 测试题1"
   ]
  },
  {
   "cell_type": "code",
   "execution_count": 19,
   "metadata": {},
   "outputs": [
    {
     "name": "stdout",
     "output_type": "stream",
     "text": [
      "input a number:\n",
      "5\n",
      "1.5333333333333332\n"
     ]
    }
   ],
   "source": [
    "def peven(n):\n",
    "    i = 0\n",
    "    s = 0.0\n",
    "    for i in range(2,n + 1,2):\n",
    "        s += 1.0 / i   \n",
    "    return s\n",
    " \n",
    "def podd(n):\n",
    "    s = 0.0\n",
    "    for i in range(1, n + 1,2):\n",
    "        s += 1.0 / i\n",
    "    return s\n",
    " \n",
    "def dcall(fp,n):\n",
    "    s = fp(n)\n",
    "    return s\n",
    " \n",
    "if __name__ == '__main__':\n",
    "    n = int(input('input a number:\\n'))\n",
    "    if n % 2 == 0:\n",
    "        sum = dcall(peven,n)\n",
    "    else:\n",
    "        sum = dcall(podd,n)\n",
    "    print(sum)"
   ]
  },
  {
   "cell_type": "markdown",
   "metadata": {},
   "source": [
    "# 测试题2"
   ]
  },
  {
   "cell_type": "code",
   "execution_count": 20,
   "metadata": {},
   "outputs": [
    {
     "name": "stdout",
     "output_type": "stream",
     "text": [
      "(-0.5, -1.0)\n",
      "(1.0, -4.0)\n"
     ]
    }
   ],
   "source": [
    "import math\n",
    "def quadratic(a,b,c):\n",
    "    if not isinstance(a,(int,float)):#用来判断a,b,c是不是实数\n",
    "        raise TypeError('a is not a number')\n",
    "    if not isinstance(b,(int,float)):\n",
    "        raise TypeError('b is not a number')\n",
    "    if not isinstance(c,(int,float)):\n",
    "        raise TypeError('c is not a number')\n",
    "    d = b * b - 4 * a * c\n",
    "    if a == 0:\n",
    "        if b == 0:\n",
    "            if c == 0:\n",
    "                return '方程根为全体实数'\n",
    "            else:\n",
    "                return '方程无根'\n",
    "        else:\n",
    "            x1 = -c/b\n",
    "            x2 = x1\n",
    "            return x1,x2\n",
    "    else:\n",
    "        if d < 0:\n",
    "            return '方程无根'\n",
    "        else:\n",
    "            x1 = (-b + math.sqrt(d))/2/a \n",
    "            x2 = (-b - math.sqrt(d))/2/a\n",
    "            return x1,x2        \n",
    "print(quadratic(2,3,1))\n",
    "print(quadratic(1,3,-4))"
   ]
  },
  {
   "cell_type": "raw",
   "metadata": {},
   "source": [
    "参考文献：\n",
    "\n",
    "1.练习1：自己编写\n",
    "2.练习2：http://www.jobui.com/mianshiti/it/python/3758/\n",
    "3.练习3：自己编写\n",
    "4.练习4-练习5：http://www.cnblogs.com/bingabcd/p/6671368.html\n",
    "5.练习6：http://www.cnblogs.com/xinguichun/p/6005000.html\n",
    "6.练习7：自己编写\n",
    "7.练习8：\n",
    "https://www.liaoxuefeng.com/wiki/0014316089557264a6b348958f449949df42a6d3a2e542c000/001431752945034eb82ac80a3e64b9bb4929b16eeed1eb9000\n",
    "8.测试题1：http://www.runoob.com/python/python-exercise-example76.html\n",
    "9.测试题2：http://blog.csdn.net/zmy_3/article/details/51164347"
   ]
  }
 ],
 "metadata": {
  "kernelspec": {
   "display_name": "Python 3",
   "language": "python",
   "name": "python3"
  },
  "language_info": {
   "codemirror_mode": {
    "name": "ipython",
    "version": 3
   },
   "file_extension": ".py",
   "mimetype": "text/x-python",
   "name": "python",
   "nbconvert_exporter": "python",
   "pygments_lexer": "ipython3",
   "version": "3.6.2"
  }
 },
 "nbformat": 4,
 "nbformat_minor": 2
}
