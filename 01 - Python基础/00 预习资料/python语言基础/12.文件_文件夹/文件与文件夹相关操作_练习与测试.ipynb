{
 "cells": [
  {
   "cell_type": "markdown",
   "metadata": {},
   "source": [
    "# 文件与文件夹相关操作\n",
    "\n"
   ]
  },
  {
   "cell_type": "markdown",
   "metadata": {},
   "source": [
    "## 1 flie对象常用的函数\n",
    "\n",
    "\n",
    "file 对象使用 open 函数来创建，下面列出了 file 对象的常用的函数，并对其功能进行了介绍： \n",
    "\n",
    "\n",
    "1 \n",
    "file.close()\n",
    "\n",
    "关闭文件。关闭后文件不能再进行读写操作。\n",
    " \n",
    "2 \n",
    "file.flush()\n",
    "\n",
    "刷新文件内部缓冲，直接把内部缓冲区的数据立刻写入文件, 而不是被动的等待输出缓冲区写入。\n",
    " \n",
    "3 \n",
    "file.fileno()\n",
    "\n",
    "返回一个整型的文件描述符(file descriptor FD 整型), 可以用在如os模块的read方法等一些底层操作上。\n",
    " \n",
    "4 \n",
    "file.isatty()\n",
    "\n",
    "如果文件连接到一个终端设备返回 True，否则返回 False。\n",
    " \n",
    "5 \n",
    "file.next()\n",
    "\n",
    "返回文件下一行。\n",
    " \n",
    "6 \n",
    "file.read([size])\n",
    "\n",
    "从文件读取指定的字节数，如果未给定或为负则读取所有。\n",
    " \n",
    "7 \n",
    "file.readline([size])\n",
    "\n",
    "读取整行，包括 \"\\n\" 字符。\n",
    " \n",
    "8 \n",
    "file.readlines([sizeint])\n",
    "\n",
    "读取所有行并返回列表，若给定sizeint>0，返回总和大约为sizeint字节的行, 实际读取值可能比 sizeint 较大, 因为需要填充缓冲区。\n",
    " \n",
    "9 \n",
    "file.seek(offset[, whence])\n",
    "\n",
    "设置文件当前位置\n",
    " \n",
    "10 \n",
    "file.tell()\n",
    "\n",
    "返回文件当前位置。\n",
    " \n",
    "11 \n",
    "file.truncate([size])\n",
    "\n",
    "从文件的首行首字符开始截断，截断文件为 size 个字符，无 size 表示从当前位置截断；截断之后 V 后面的所有字符被删除，其中 Widnows 系统下的换行代表2个字符大小。 \n",
    " \n",
    "12 \n",
    "file.write(str)\n",
    "\n",
    "将字符串写入文件，没有返回值。\n",
    " \n",
    "13 \n",
    "file.writelines(sequence)\n",
    "\n",
    "向文件写入一个序列字符串列表，如果需要换行则要自己加入每行的换行符。\n",
    " \n"
   ]
  },
  {
   "cell_type": "markdown",
   "metadata": {},
   "source": [
    "### 练习1 "
   ]
  },
  {
   "cell_type": "markdown",
   "metadata": {
    "collapsed": true
   },
   "source": [
    "要以读文件的模式打开一个文件对象，使用Python内置的open()函数，传入文件名和标示符。\n",
    "\n",
    "open()函数使用方式如下：\n",
    "\n",
    "open('file名','r')\n",
    "\n",
    "\n",
    "分析以下三个小题目：\n",
    "\n",
    "以下建立文本文件file1，内容为：\n",
    " \n",
    "1 一张褪色的照片，\n",
    "\n",
    "2 好像带给我一点点怀念。\n",
    "\n",
    "3 巷尾老爷爷卖的热汤面，\n",
    "\n",
    "4 味道弥漫过旧旧的后院；\n",
    "\n",
    "5 流浪猫睡熟在摇晃秋千，\n",
    "\n",
    "6 夕阳照了一遍他咪着眼；\n",
    "\n",
    "7 那张同桌寄的明信片，\n",
    "\n",
    "8 安静的躺在课桌的里面。\n",
    " \n",
    "根据注释，熟悉几个读文件的函数的使用方法：\n"
   ]
  },
  {
   "cell_type": "markdown",
   "metadata": {},
   "source": [
    "#### 练习1.1 \n",
    "\n",
    "请打开file1 文件，并逐字符读取所有文件内容并输出，然后关闭文件file1:"
   ]
  },
  {
   "cell_type": "code",
   "execution_count": null,
   "metadata": {
    "collapsed": true
   },
   "outputs": [],
   "source": [
    "#please input your code here\n",
    "f = open('file1','r')\n",
    "f_read =             #read是逐字符地读取,read可以指定参数，设定需要读取多少字符，无论一个英文字母还是一个汉字都是一个字符。\n",
    "\n",
    "\n",
    "f.close()           #调用close()方法关闭文件，文件使用完毕后必须关闭，否则占用操作系统资源。\n",
    "\n"
   ]
  },
  {
   "cell_type": "markdown",
   "metadata": {},
   "source": [
    "#### 练习1.2\n",
    "\n",
    "请打开file1 文件，并读取文件第一行内容并输出，然后关闭文件file1:\n"
   ]
  },
  {
   "cell_type": "code",
   "execution_count": null,
   "metadata": {
    "collapsed": true
   },
   "outputs": [],
   "source": [
    "#please input your code here\n",
    "f = open('file1','r')\n",
    "                   #readline只能读取第一行代码，原理是读取到第一个换行符就停止。\n",
    "\n",
    "                   #调用close()方法关闭文件，文件使用完毕后必须关闭，否则占用操作系统资源。\n"
   ]
  },
  {
   "cell_type": "markdown",
   "metadata": {},
   "source": [
    "#### 练习1.3\n",
    "\n",
    "请打开file1 文件，并读取所有行并以列表形式输出，然后关闭文件file1:\n"
   ]
  },
  {
   "cell_type": "code",
   "execution_count": null,
   "metadata": {
    "collapsed": true
   },
   "outputs": [],
   "source": [
    "#please input your code here \n",
    "f = open('file1','r')\n",
    "                  #readlines会把内容以列表的形式输出。\n",
    "\n",
    "                  #调用close()方法关闭文件，文件使用完毕后必须关闭，否则占用操作系统资源。\n",
    " "
   ]
  },
  {
   "cell_type": "markdown",
   "metadata": {},
   "source": [
    "## 2 os模块的使用\n",
    "\n",
    "如果我们要操作文件、目录，可以在命令行下面输入操作系统提供的各种命令来完成。比如dir、cp等命令。\n",
    "\n",
    "如果要在Python程序中执行这些目录和文件的操作怎么办？其实操作系统提供的命令只是简单地调用了操作系统提供的接口函数，Python内置的os模块也\n",
    "可以直接调用操作系统提供的接口函数。\n",
    "\n",
    "使用前需要导入os模块，导入的方法是:\n",
    "\n",
    "import os\n",
    "    \n"
   ]
  },
  {
   "cell_type": "markdown",
   "metadata": {
    "collapsed": true
   },
   "source": [
    "### os模块使用示例\n",
    "\n",
    "\n",
    "取得当前目录s = os.getcwd()   #s中保存的是当前目录(即文件夹)  \n",
    "\n",
    "比如运行abc.py，那么输入该命令就会返回abc所在的文件夹位置。\n",
    "\n",
    "举个简单例子，我们将abc.py放入A文件夹，并且希望不管将A文件夹放在硬盘的哪个位置，都可以在A文件夹内生成一个新文件夹，且文件夹的名字根据时间\n",
    "自动生成，代码如下：\n",
    "\n",
    "import os\n",
    "\n",
    "import time\n",
    "\n",
    "folder = time.strftime(r\"%Y-%m-%d_%H-%M-%S\",time.localtime())\n",
    "\n",
    "os.makedirs(r'%s/%s'%(os.getcwd(),folder))\n",
    "\n"
   ]
  },
  {
   "cell_type": "markdown",
   "metadata": {
    "collapsed": true
   },
   "source": [
    "### 练习2：\n",
    "\n",
    "已知 os.chdir(path) 方法用于改变当前工作目录到指定的路径。path 指要切换到的新路径。\n",
    "\n",
    "如 os.chdir( \"C:\\\\123\")      #将当前目录设为\"C:\\123\", \n",
    "请注意一点：\n",
    " \n",
    "            #说明：当指定的目录不存在时，引发异常。\n",
    "            #异常类型： WindowsError，系统找不到指定的文件\n",
    "\n",
    "请先获取当前目录，并尝试更改操作，切换到\"/tmp\"，观察执行结果：\n"
   ]
  },
  {
   "cell_type": "code",
   "execution_count": null,
   "metadata": {
    "collapsed": true
   },
   "outputs": [],
   "source": [
    "import os, sys\n",
    "\n",
    "path = \"/tmp\"\n",
    "\n",
    "# 查看当前工作目录\n",
    "#please input your code here\n",
    "\n",
    "\n",
    "\n",
    "# 修改当前工作目录\n",
    "  \n",
    "    \n",
    "\n",
    "# 查看修改后的工作目录\n",
    "\n",
    "\n",
    "\n"
   ]
  },
  {
   "cell_type": "markdown",
   "metadata": {
    "collapsed": true
   },
   "source": [
    "### 练习3：\n",
    "\n",
    "\n",
    "将一个路径名分解为目录名和文件名两部分 fpath , fname = os.path.split( \"你要分解的路径\")\n",
    "\n",
    " \n",
    "请拟定一个包含在二级目录的文件test.txt，其完整路径为c:\\\\123\\\\456\\\\test.txt，并实现将其路径名分解为目录名和文件名两部分的操作："
   ]
  },
  {
   "cell_type": "code",
   "execution_count": 5,
   "metadata": {},
   "outputs": [
    {
     "name": "stdout",
     "output_type": "stream",
     "text": [
      "c:\\123\\456\n",
      "test.txt\n"
     ]
    }
   ],
   "source": [
    "#分解 c:\\123\\456\\test.txt\n",
    "#please input your code here\n",
    "\n",
    "\n",
    "\n",
    "a, b = \n",
    "print ()\n",
    "print ()"
   ]
  },
  {
   "cell_type": "markdown",
   "metadata": {
    "collapsed": true
   },
   "source": [
    "### 练习4：\n",
    "\n",
    "分解文件名的扩展名 fpathandname , fext = os.path.splitext( \"你要分解的路径\")\n",
    "\n",
    "\n",
    "请拟定一个包含在二级目录的文件test.txt，其完整路径为c:\\\\123\\\\456\\\\test.txt，并实现将其路径名分解为文件名和扩展名两部分的操作："
   ]
  },
  {
   "cell_type": "code",
   "execution_count": 8,
   "metadata": {},
   "outputs": [
    {
     "name": "stdout",
     "output_type": "stream",
     "text": [
      "c:\\123\\456\\test\n",
      ".txt\n"
     ]
    }
   ],
   "source": [
    "#分解 c:\\123\\456\\test.txt\n",
    "#please input your code here\n",
    "\n",
    "\n",
    "\n",
    "a, b = \n",
    "print ( )\n",
    "print ( )"
   ]
  },
  {
   "cell_type": "markdown",
   "metadata": {
    "collapsed": true
   },
   "source": [
    "### 练习5：\n",
    "\n",
    "判断一个路径（目录或文件）是否存在  b = os.path.exists( \"你要判断的路径\")\n",
    "若要判断的路径存在，则b的值为 True ,否则b的值为 Flase 。\n",
    "\n",
    "\n",
    "请拟定路径如c:\\\\123\\\\456\\\\test.txt样式，并实现判断拟定的路径是否存在的操作：\n"
   ]
  },
  {
   "cell_type": "code",
   "execution_count": 7,
   "metadata": {},
   "outputs": [
    {
     "name": "stdout",
     "output_type": "stream",
     "text": [
      "False\n",
      "True\n"
     ]
    }
   ],
   "source": [
    "#please input your code here\n",
    "\n",
    "\n",
    "\n",
    "\n",
    "a = \n",
    "b = \n",
    "print \n",
    "print "
   ]
  },
  {
   "cell_type": "markdown",
   "metadata": {
    "collapsed": true
   },
   "source": [
    "# 练习6：\n",
    "\n",
    "判断一个路径是否是文件  b = os.path.isfile( \"你要判断的路径\")\n",
    "\n",
    "判断一个路径是否是目录  b = os.path.isdir( \"你要判断的路径\")\n",
    "\n",
    "根据判断结果正确与否，分别返回True 和 Flase。\n",
    "\n",
    "\n",
    "请分别拟定路径c:\\windows与c:\\123\\456\\test.txt，并分别实现判断路径是否是文件或目录的操作：\n"
   ]
  },
  {
   "cell_type": "code",
   "execution_count": 5,
   "metadata": {},
   "outputs": [
    {
     "name": "stdout",
     "output_type": "stream",
     "text": [
      "False False False True\n"
     ]
    }
   ],
   "source": [
    "#please input your code here\n",
    "\n",
    "\n",
    "\n",
    "\n",
    "\n",
    "a = \n",
    "b = \n",
    "c = \n",
    "d = \n",
    "\n",
    "print ()"
   ]
  },
  {
   "cell_type": "markdown",
   "metadata": {
    "collapsed": true
   },
   "source": [
    "# 练习7：\n",
    "\n",
    "获取某目录中的文件及子目录的列表  \n",
    "\n",
    "L = os.listdir( \"你要判断的路径\")\n",
    "\n",
    "\n",
    "请实现获取C 盘根目录下文件及子目录列表：\n"
   ]
  },
  {
   "cell_type": "code",
   "execution_count": 9,
   "metadata": {},
   "outputs": [
    {
     "name": "stdout",
     "output_type": "stream",
     "text": [
      "['$Recycle.Bin', '$Windows.~WS', '8d54886ad089b3275da45b6a6587c777', 'Documents and Settings', 'hiberfil.sys', 'Intel', 'MiFlashvcom.ini', 'pagefile.sys', 'PerfLogs', 'Program Files', 'Program Files (x86)', 'ProgramData', 'Recovery', 'swapfile.sys', 'System Volume Information', 'Users', 'Windows', 'XiaoMi', 'XMPCache', '迅雷下载']\n"
     ]
    }
   ],
   "source": [
    "#获取C 盘根目录下文件及子目录列表\n",
    "#please input your code here\n",
    "\n",
    "\n"
   ]
  },
  {
   "cell_type": "markdown",
   "metadata": {
    "collapsed": true
   },
   "source": [
    "# 练习8\n",
    "\n",
    "创建子目录：\n",
    "\n",
    "os.makedirs( path )    # path 是\"要创建的子目录\"\n",
    "\n",
    "请尝试创建一个二级子目录\"d:\\\\123\\\\456\\\\789\"。\n"
   ]
  },
  {
   "cell_type": "code",
   "execution_count": 26,
   "metadata": {
    "collapsed": true
   },
   "outputs": [],
   "source": [
    "#创建一个二级子目录\"d:\\123\\456\\789\n",
    "#please input your code here\n",
    "\n",
    "\n",
    "\n"
   ]
  },
  {
   "cell_type": "markdown",
   "metadata": {
    "collapsed": true
   },
   "source": [
    "注：\n",
    "\n",
    "创建子目录可能失败，原因分别是：\n",
    "\n",
    "(1) path 已存在时(不管是文件还是文件夹)\n",
    "\n",
    "(2) 驱动器不存在\n",
    "\n",
    "(3) 磁盘已满\n",
    "\n",
    "(4)磁盘是只读的或没有写权限\n"
   ]
  },
  {
   "cell_type": "markdown",
   "metadata": {
    "collapsed": true
   },
   "source": [
    "# 练习9\n",
    "\n",
    "删除子目录：\n",
    "\n",
    "os.rmdir( path ) # path: \"要删除的子目录\"\n",
    "\n",
    "请尝试删除练习8中创建的子目录全部删掉。\n"
   ]
  },
  {
   "cell_type": "code",
   "execution_count": 25,
   "metadata": {
    "collapsed": true
   },
   "outputs": [],
   "source": [
    "#please input your code here\n",
    "\n",
    "os.rmdir( \"d:\\\\123\\\\456\\\\789\") #若执行 os.rmdir( \"d:\\\\123\\\\456\\\\789\")，发现只删除了789文件夹。\n",
    "os.rmdir( \"d:    )\n",
    "os.rmdir( \"d:    ) \n",
    "         "
   ]
  },
  {
   "cell_type": "markdown",
   "metadata": {
    "collapsed": true
   },
   "source": [
    "注：\n",
    "\n",
    "产生异常的可能原因:\n",
    "(1) path 不存在\n",
    "(2) path 子目录中有文件或下级子目录\n",
    "(3) 没有操作权限或只读\n"
   ]
  },
  {
   "cell_type": "markdown",
   "metadata": {},
   "source": [
    "# 练习10\n",
    "\n",
    "文件改名\n",
    "os.rename( oldfileName, newFilename)\n",
    "\n",
    "请先执行练习8，将练习8中创建的文件夹名:\"d:\\\\123\"改名为\"d:\\\\321\"。"
   ]
  },
  {
   "cell_type": "code",
   "execution_count": 28,
   "metadata": {
    "collapsed": true
   },
   "outputs": [],
   "source": [
    "#please input your code here       \n",
    "    \n"
   ]
  },
  {
   "cell_type": "markdown",
   "metadata": {},
   "source": [
    "# 测试题1\n",
    "\n",
    "编程，请输入一个文件路径名或文件名如：c:\\\\123\\\\456\\\\test.txt，查看该文件是否存在，\n",
    "\n",
    "如存在，打开文件并在屏幕上输出该文件内容；\n",
    "\n",
    "如不存在，显示“输入的文件未找到！”并要求重新输入；\n",
    "\n",
    "如文件存在但在读文件过程中发生异常，则显示“文件无法正常读出！”并要求重新输入。\n",
    "\n",
    "（提示：请使用异常处理。“文件未找到”对应的异常名为：FileNotFoundError，其他异常直接用except匹配）\n"
   ]
  },
  {
   "cell_type": "code",
   "execution_count": null,
   "metadata": {
    "collapsed": true
   },
   "outputs": [],
   "source": [
    "#please input your code here\n",
    "\n",
    "\n",
    "\n",
    "\n",
    "\n",
    "\n",
    "\n"
   ]
  },
  {
   "cell_type": "markdown",
   "metadata": {},
   "source": [
    "参考文献：\n",
    "\n",
    "1.http://www.runoob.com/python3/python3-tutorial.html      python菜鸟教程\n",
    "2.https://www.liaoxuefeng.com/wiki/0014316089557264a6b348958f449949df42a6d3a2e542c000    廖雪峰python教程\n",
    "3.https://wenku.baidu.com/view/e98d3ea3ad02de80d5d840be.html     python文件与文件夹的操作\n",
    "4.https://wenku.baidu.com/view/7da2ddb384254b35effd340b.html?from=search      python习题选编"
   ]
  }
 ],
 "metadata": {
  "kernelspec": {
   "display_name": "Python 3",
   "language": "python",
   "name": "python3"
  },
  "language_info": {
   "codemirror_mode": {
    "name": "ipython",
    "version": 3
   },
   "file_extension": ".py",
   "mimetype": "text/x-python",
   "name": "python",
   "nbconvert_exporter": "python",
   "pygments_lexer": "ipython3",
   "version": "3.6.2"
  }
 },
 "nbformat": 4,
 "nbformat_minor": 2
}
