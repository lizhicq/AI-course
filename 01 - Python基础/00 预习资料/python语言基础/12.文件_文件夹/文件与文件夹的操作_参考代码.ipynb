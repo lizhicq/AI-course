{
 "cells": [
  {
   "cell_type": "markdown",
   "metadata": {},
   "source": [
    "# 文件与文件夹的操作参考代码"
   ]
  },
  {
   "cell_type": "markdown",
   "metadata": {},
   "source": [
    "# 练习1.1"
   ]
  },
  {
   "cell_type": "code",
   "execution_count": null,
   "metadata": {
    "collapsed": true
   },
   "outputs": [],
   "source": [
    "f = open('file1','r')\n",
    "f_read = f.read()   #read是逐字符地读取,read可以指定参数，设定需要读取多少字符，无论一个英文字母还是一个汉字都是一个字符。\n",
    "print(f_read)\n",
    "f.close()           #调用close()方法关闭文件，文件使用完毕后必须关闭，否则占用操作系统资源。"
   ]
  },
  {
   "cell_type": "markdown",
   "metadata": {},
   "source": [
    "# 练习1.2"
   ]
  },
  {
   "cell_type": "code",
   "execution_count": null,
   "metadata": {
    "collapsed": true
   },
   "outputs": [],
   "source": [
    "f = open('file1','r')\n",
    "f_read = f.readline() #readline只能读取第一行代码，原理是读取到第一个换行符就停止。\n",
    "print(f_read)\n",
    "f.close()         #调用close()方法关闭文件，文件使用完毕后必须关闭，否则占用操作系统资源。"
   ]
  },
  {
   "cell_type": "markdown",
   "metadata": {},
   "source": [
    "# 练习1.3"
   ]
  },
  {
   "cell_type": "code",
   "execution_count": null,
   "metadata": {
    "collapsed": true
   },
   "outputs": [],
   "source": [
    "f = open('file1','r')\n",
    "f_read = f.readlines() #readlines会把内容以列表的形式输出。\n",
    "print(f_read)\n",
    "f.close()        #调用close()方法关闭文件，文件使用完毕后必须关闭，否则占用操作系统资源。\n",
    " "
   ]
  },
  {
   "cell_type": "markdown",
   "metadata": {},
   "source": [
    "# 练习2"
   ]
  },
  {
   "cell_type": "code",
   "execution_count": 5,
   "metadata": {},
   "outputs": [
    {
     "name": "stdout",
     "output_type": "stream",
     "text": [
      "当前工作目录为 C:\\Users\\YangNing\n"
     ]
    },
    {
     "ename": "FileNotFoundError",
     "evalue": "[WinError 2] 系统找不到指定的文件。: '/tmp'",
     "output_type": "error",
     "traceback": [
      "\u001b[1;31m---------------------------------------------------------------------------\u001b[0m",
      "\u001b[1;31mFileNotFoundError\u001b[0m                         Traceback (most recent call last)",
      "\u001b[1;32m<ipython-input-5-454c5615a54f>\u001b[0m in \u001b[0;36m<module>\u001b[1;34m()\u001b[0m\n\u001b[0;32m      8\u001b[0m \u001b[1;33m\u001b[0m\u001b[0m\n\u001b[0;32m      9\u001b[0m \u001b[1;31m# 修改当前工作目录\u001b[0m\u001b[1;33m\u001b[0m\u001b[1;33m\u001b[0m\u001b[0m\n\u001b[1;32m---> 10\u001b[1;33m \u001b[0mos\u001b[0m\u001b[1;33m.\u001b[0m\u001b[0mchdir\u001b[0m\u001b[1;33m(\u001b[0m \u001b[0mpath\u001b[0m \u001b[1;33m)\u001b[0m\u001b[1;33m\u001b[0m\u001b[0m\n\u001b[0m\u001b[0;32m     11\u001b[0m \u001b[1;33m\u001b[0m\u001b[0m\n\u001b[0;32m     12\u001b[0m \u001b[1;31m# 查看修改后的工作目录\u001b[0m\u001b[1;33m\u001b[0m\u001b[1;33m\u001b[0m\u001b[0m\n",
      "\u001b[1;31mFileNotFoundError\u001b[0m: [WinError 2] 系统找不到指定的文件。: '/tmp'"
     ]
    }
   ],
   "source": [
    "import os, sys\n",
    "\n",
    "path = \"/tmp\"\n",
    "\n",
    "# 查看当前工作目录\n",
    "retval = os.getcwd()\n",
    "print (\"当前工作目录为 %s\" % retval)\n",
    "\n",
    "# 修改当前工作目录\n",
    "os.chdir( path )\n",
    "\n",
    "# 查看修改后的工作目录\n",
    "retval = os.getcwd()\n",
    "\n",
    "print (\"目录修改成功 %s\" % retval)"
   ]
  },
  {
   "cell_type": "markdown",
   "metadata": {},
   "source": [
    "# 练习3"
   ]
  },
  {
   "cell_type": "code",
   "execution_count": 7,
   "metadata": {},
   "outputs": [
    {
     "name": "stdout",
     "output_type": "stream",
     "text": [
      "c:\\123\\456\n",
      "test.txt\n"
     ]
    }
   ],
   "source": [
    "#分解 c:\\123\\456\\test.txt\n",
    "\n",
    "a, b = os.path.split( \"c:\\\\123\\\\456\\\\test.txt\" )\n",
    "print (a)\n",
    "print (b)"
   ]
  },
  {
   "cell_type": "markdown",
   "metadata": {},
   "source": [
    "# 练习4"
   ]
  },
  {
   "cell_type": "code",
   "execution_count": null,
   "metadata": {
    "collapsed": true
   },
   "outputs": [],
   "source": [
    "#分解 c:\\123\\456\\test.txt\n",
    "\n",
    "a, b = os.path.splitext( \"c:\\\\123\\\\456\\\\test.txt\" )\n",
    "print (a)\n",
    "print (b)"
   ]
  },
  {
   "cell_type": "markdown",
   "metadata": {},
   "source": [
    "# 练习5"
   ]
  },
  {
   "cell_type": "code",
   "execution_count": 8,
   "metadata": {},
   "outputs": [
    {
     "name": "stdout",
     "output_type": "stream",
     "text": [
      "False\n",
      "True\n"
     ]
    }
   ],
   "source": [
    "\n",
    "a = os.path.exists( \"c:\\\\123\")\n",
    "b = os.path.exists( \"c:\\\\windows\")\n",
    "print (a)\n",
    "print (b)"
   ]
  },
  {
   "cell_type": "markdown",
   "metadata": {},
   "source": [
    "# 练习6"
   ]
  },
  {
   "cell_type": "code",
   "execution_count": 9,
   "metadata": {},
   "outputs": [
    {
     "name": "stdout",
     "output_type": "stream",
     "text": [
      "False False False True\n"
     ]
    }
   ],
   "source": [
    "\n",
    "a = os.path.isfile( \"c:\\\\123\\\\456\\\\tset.txt\")\n",
    "b = os.path.isfile( \"c:\\\\windows\")\n",
    "c = os.path.isdir( \"c:\\\\123\\\\456\\\\tset.txt\")\n",
    "d = os.path.isdir( \"c:\\\\windows\")\n",
    "\n",
    "print (a , b , c , d)"
   ]
  },
  {
   "cell_type": "markdown",
   "metadata": {},
   "source": [
    "# 练习7"
   ]
  },
  {
   "cell_type": "code",
   "execution_count": null,
   "metadata": {
    "collapsed": true
   },
   "outputs": [],
   "source": [
    "\n",
    "L = os.listdir(\"c:\\\\\")\n",
    "\n",
    "print (L)"
   ]
  },
  {
   "cell_type": "markdown",
   "metadata": {},
   "source": [
    "# 练习8"
   ]
  },
  {
   "cell_type": "code",
   "execution_count": null,
   "metadata": {
    "collapsed": true
   },
   "outputs": [],
   "source": [
    "\n",
    "os.makedirs( \"d:\\\\123\\\\456\\\\789\")"
   ]
  },
  {
   "cell_type": "markdown",
   "metadata": {},
   "source": [
    "# 练习9"
   ]
  },
  {
   "cell_type": "code",
   "execution_count": null,
   "metadata": {
    "collapsed": true
   },
   "outputs": [],
   "source": [
    "\n",
    "os.rmdir( \"d:\\\\123\\\\456\\\\789\") #若执行 os.rmdir( \"d:\\\\123\\\\456\\\\789\")，发现只删除了789文件夹。\n",
    "os.rmdir( \"d:\\\\123\\\\456\") \n",
    "os.rmdir( \"d:\\\\123\") "
   ]
  },
  {
   "cell_type": "markdown",
   "metadata": {},
   "source": [
    "# 练习10"
   ]
  },
  {
   "cell_type": "code",
   "execution_count": null,
   "metadata": {
    "collapsed": true
   },
   "outputs": [],
   "source": [
    "\n",
    "os.rename (\"d:\\\\123 \", \"d:\\\\321\")"
   ]
  },
  {
   "cell_type": "markdown",
   "metadata": {},
   "source": [
    "# 测试题1"
   ]
  },
  {
   "cell_type": "code",
   "execution_count": null,
   "metadata": {
    "collapsed": true
   },
   "outputs": [],
   "source": [
    "\n",
    "while True: \n",
    "    try:  \n",
    "        filename=input('请输入文件路径名或文件名：') \n",
    "        f=open(filename.strip()) \n",
    "        print(f.read())  \n",
    "    except FileNotFoundError:  \n",
    "        print(\"输入的文件未找到！\") \n",
    "    except:  \n",
    "        print(\"文件无法正常读出！\") \n",
    "    else:  \n",
    "        break \n",
    "f.close() "
   ]
  },
  {
   "cell_type": "code",
   "execution_count": null,
   "metadata": {},
   "outputs": [],
   "source": []
  },
  {
   "cell_type": "code",
   "execution_count": null,
   "metadata": {
    "collapsed": true
   },
   "outputs": [],
   "source": []
  }
 ],
 "metadata": {
  "kernelspec": {
   "display_name": "Python 3",
   "language": "python",
   "name": "python3"
  },
  "language_info": {
   "codemirror_mode": {
    "name": "ipython",
    "version": 3
   },
   "file_extension": ".py",
   "mimetype": "text/x-python",
   "name": "python",
   "nbconvert_exporter": "python",
   "pygments_lexer": "ipython3",
   "version": "3.6.2"
  }
 },
 "nbformat": 4,
 "nbformat_minor": 2
}
