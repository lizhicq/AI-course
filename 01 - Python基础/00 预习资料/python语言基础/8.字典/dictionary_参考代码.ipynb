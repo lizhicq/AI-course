{
 "cells": [
  {
   "cell_type": "markdown",
   "metadata": {},
   "source": [
    "# 练习1"
   ]
  },
  {
   "cell_type": "code",
   "execution_count": 1,
   "metadata": {},
   "outputs": [
    {
     "name": "stdout",
     "output_type": "stream",
     "text": [
      "dict['Name']:  Zara\n",
      "dict['Age']:  7\n"
     ]
    }
   ],
   "source": [
    "\n",
    "dict = {'Name': 'Zara', 'Age': 7, 'Class': 'First'}\n",
    "print ( \"dict['Name']: \", dict['Name'])\n",
    "print (\"dict['Age']: \", dict['Age'])"
   ]
  },
  {
   "cell_type": "markdown",
   "metadata": {},
   "source": [
    "# 练习2"
   ]
  },
  {
   "cell_type": "code",
   "execution_count": 2,
   "metadata": {},
   "outputs": [
    {
     "name": "stdout",
     "output_type": "stream",
     "text": [
      "dict['Age']:  8\n",
      "dict['School']:  DPS School\n"
     ]
    }
   ],
   "source": [
    "\n",
    "dict = {'Name': 'Zara', 'Age': 7, 'Class': 'First'}\n",
    "dict['Age'] = 8  # update existing entry\n",
    "dict['School'] = \"DPS School\" # Add new entry\n",
    "print (\"dict['Age']: \", dict['Age'])\n",
    "print (\"dict['School']: \", dict['School'])"
   ]
  },
  {
   "cell_type": "markdown",
   "metadata": {},
   "source": [
    "# 练习3"
   ]
  },
  {
   "cell_type": "code",
   "execution_count": null,
   "metadata": {
    "collapsed": true
   },
   "outputs": [],
   "source": [
    "\n",
    "dict = {'Name': 'Zara', 'Age': 7, 'Class': 'First'}\n",
    " \n",
    "del dict['Name'] # 测试 删除键是'Name'的条目\n",
    "dict.clear()    # 测试 清空词典所有条目\n",
    "del dict        # 测试 删除词典\n",
    " \n",
    "print (\"dict['Age']: \", dict['Age'])\n",
    "print (\"dict['School']: \", dict['School'])"
   ]
  },
  {
   "cell_type": "markdown",
   "metadata": {},
   "source": [
    "# 练习4.1"
   ]
  },
  {
   "cell_type": "code",
   "execution_count": 3,
   "metadata": {},
   "outputs": [
    {
     "name": "stdout",
     "output_type": "stream",
     "text": [
      "dict['Name']:  Manni\n"
     ]
    }
   ],
   "source": [
    "\n",
    "\n",
    "dict = {'Name': 'Zara', 'Age': 7, 'Name': 'Manni'}\n",
    " \n",
    "print (\"dict['Name']: \", dict['Name'])"
   ]
  },
  {
   "cell_type": "markdown",
   "metadata": {},
   "source": [
    "# 练习4.2（题目设计不能正确输出）"
   ]
  },
  {
   "cell_type": "code",
   "execution_count": 5,
   "metadata": {
    "collapsed": true
   },
   "outputs": [],
   "source": [
    "\n",
    "dict = {['Name']: 'Zara', 'Age': 7}\n",
    "print (\"dict['Name']: \", dict['Name'])"
   ]
  },
  {
   "cell_type": "markdown",
   "metadata": {},
   "source": [
    "# 测试题1"
   ]
  },
  {
   "cell_type": "code",
   "execution_count": 6,
   "metadata": {},
   "outputs": [
    {
     "name": "stdout",
     "output_type": "stream",
     "text": [
      "一天花费小计：  55\n"
     ]
    }
   ],
   "source": [
    "\n",
    "dict={}\n",
    "dict[\"早餐\"]=10\n",
    "dict[\"中餐\"]=22\n",
    "dict[\"晚餐\"]=23\n",
    "#函数\n",
    "def output(k,v=\" lists\"):\n",
    "    print ( k,v)\n",
    "\n",
    "#生活计算器\n",
    "sum = 0\n",
    "for k,v in dict.items():\n",
    "    sum = sum+v\n",
    "print (\"一天花费小计： \",sum )"
   ]
  },
  {
   "cell_type": "markdown",
   "metadata": {},
   "source": [
    "# 测试题2"
   ]
  },
  {
   "cell_type": "code",
   "execution_count": 7,
   "metadata": {},
   "outputs": [
    {
     "name": "stdout",
     "output_type": "stream",
     "text": [
      "\n",
      "|--- 新建用户：N/n ---|\n",
      "|--- 登录账号：E/e ---|\n",
      "|--- 退出登录：Q/q ---|\n",
      "\n",
      "请输入指令代码：n\n",
      "请输入用户名：buaa\n",
      "请输入密码：buaa\n",
      "\n",
      "请输入指令代码：e\n",
      "请输入用户名：buaa\n",
      "请输入密码：buaa\n",
      "欢迎欢迎，热烈欢迎！\n",
      "\n",
      "请输入指令代码：q\n",
      "程序退出了，再见~\n",
      "\n"
     ]
    }
   ],
   "source": [
    "\n",
    "print(\"\"\"\n",
    "|--- 新建用户：N/n ---|\n",
    "|--- 登录账号：E/e ---|\n",
    "|--- 退出登录：Q/q ---|\n",
    "\"\"\")\n",
    "\n",
    "message = {}\n",
    "flag = 1\n",
    "while flag:\n",
    "    order = input(\"请输入指令代码：\")\n",
    "    if order == 'N' or order == 'n':\n",
    "        name = input(\"请输入用户名：\")\n",
    "        while 1:\n",
    "            # 如果有此人的信息\n",
    "            if name in message:\n",
    "                name = input(\"此用户已被使用，请重新输入：\")\n",
    "\n",
    "            # 没有此人的信息\n",
    "            if name not in message:\n",
    "                pw = input(\"请输入密码：\")\n",
    "                message[name] = [pw]\n",
    "                break\n",
    "\n",
    "    elif order == 'E' or order == 'e':\n",
    "        name = input(\"请输入用户名：\")\n",
    "        while 1:\n",
    "            # 输入的用户不存在\n",
    "            if name not in message:\n",
    "                name = input(\"输入的用户名不存在，请重新输入：\")\n",
    "\n",
    "            # 存在此用户\n",
    "            if name in message:\n",
    "                pw = input(\"请输入密码：\")\n",
    "                while 1:\n",
    "                    pw = [pw]\n",
    "                    if message[name] == pw:\n",
    "                        print('欢迎欢迎，热烈欢迎！')\n",
    "                        break\n",
    "                    else:\n",
    "                        pw = input(\"密码错误重新输入：\")\n",
    "                break\n",
    "\n",
    "    elif order == 'Q' or order == 'q':\n",
    "        print(\"程序退出了，再见~\")\n",
    "        flag = 0\n",
    "\n",
    "    else:\n",
    "        print(\"指令错误，请重新输入吧！\")\n",
    "    print()   # 主要目的是换行，让最后的显示好看一点"
   ]
  },
  {
   "cell_type": "code",
   "execution_count": null,
   "metadata": {
    "collapsed": true
   },
   "outputs": [],
   "source": []
  }
 ],
 "metadata": {
  "kernelspec": {
   "display_name": "Python 3",
   "language": "python",
   "name": "python3"
  },
  "language_info": {
   "codemirror_mode": {
    "name": "ipython",
    "version": 3
   },
   "file_extension": ".py",
   "mimetype": "text/x-python",
   "name": "python",
   "nbconvert_exporter": "python",
   "pygments_lexer": "ipython3",
   "version": "3.6.2"
  }
 },
 "nbformat": 4,
 "nbformat_minor": 2
}
