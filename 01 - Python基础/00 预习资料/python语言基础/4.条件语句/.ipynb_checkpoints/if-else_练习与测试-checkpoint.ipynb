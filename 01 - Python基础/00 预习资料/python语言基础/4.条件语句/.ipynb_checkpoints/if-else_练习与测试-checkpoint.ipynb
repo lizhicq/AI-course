{
 "cells": [
  {
   "cell_type": "markdown",
   "metadata": {},
   "source": [
    "# 条件判断 if else\n",
    "\n",
    "计算机之所以能做很多自动化的任务，因为它可以自己做条件判断，本次练习与测试题目旨在熟悉掌握在Python程序里if else 的使用。\n"
   ]
  },
  {
   "cell_type": "markdown",
   "metadata": {},
   "source": [
    "## 示例\n",
    "\n",
    "比如，判断成绩是否合格，根据分数打印不同的内容，在Python程序中，用 if...else 语句实现："
   ]
  },
  {
   "cell_type": "code",
   "execution_count": 10,
   "metadata": {},
   "outputs": [
    {
     "name": "stdout",
     "output_type": "stream",
     "text": [
      "sorry，your age not passed, for your 59\n"
     ]
    }
   ],
   "source": [
    "grade = 59\n",
    "if grade < 60:\n",
    "    print('sorry，your age not passed, for your', grade)\n",
    "else:\n",
    "    print('pass')"
   ]
  },
  {
   "cell_type": "markdown",
   "metadata": {},
   "source": [
    "## 练习1 \n",
    "\n",
    "编写代码，使用 if...elif...else 语句判断输入的一个数字是正数、负数或零："
   ]
  },
  {
   "cell_type": "code",
   "execution_count": null,
   "metadata": {
    "collapsed": true
   },
   "outputs": [],
   "source": [
    "num = float(input(\"输入一个数字: \"))\n",
    "\n",
    "\n",
    "\n",
    "\n",
    "\n"
   ]
  },
  {
   "cell_type": "markdown",
   "metadata": {},
   "source": [
    "注：\n",
    "\n",
    "根据Python的缩进规则，如果if语句判断是True，就把缩进的print语句执行了，否则，什么也不做。\n",
    "也可以给if添加一个else语句，意思是，如果if判断是False，不要执行if的内容，去把else执行了：\n"
   ]
  },
  {
   "cell_type": "markdown",
   "metadata": {},
   "source": [
    "## 练习2：\n",
    "\n",
    "根据输入年龄，对其称谓进行归类：\n",
    "大于18岁，输出 adult，小于18岁，输出teenager。\n",
    "\n",
    "编写代码，使输出结果为：\n",
    "\n",
    "your age is 3\n",
    "\n",
    "teenager\n"
   ]
  },
  {
   "cell_type": "code",
   "execution_count": null,
   "metadata": {
    "collapsed": true
   },
   "outputs": [],
   "source": [
    "#please input your code here \n",
    "age = 3\n",
    "if \n",
    "\n",
    "\n",
    "\n",
    "\n",
    "\n",
    "\n"
   ]
  },
  {
   "cell_type": "markdown",
   "metadata": {
    "collapsed": true
   },
   "source": [
    "注：\n",
    "\n",
    "当然上面的判断是很粗略的，完全可以用elif做更细致的判断，如下面练习3：\n"
   ]
  },
  {
   "cell_type": "markdown",
   "metadata": {
    "collapsed": true
   },
   "source": [
    "## 练习3：\n",
    "\n",
    "根据输入年龄，对称谓进行细致的分类：\n",
    "\n",
    "大于18岁，输出 adult，小于18岁大于6岁，输出teenager，小于6岁，输出kid。\n",
    "\n",
    "输出结果样例为：\n",
    "\n",
    "your age is 3\n",
    "\n",
    "kid\n"
   ]
  },
  {
   "cell_type": "code",
   "execution_count": null,
   "metadata": {
    "collapsed": true
   },
   "outputs": [],
   "source": [
    "#please input your code here\n",
    "age = 3\n",
    "if \n",
    "\n",
    "elif \n",
    "\n",
    "else\n",
    "\n",
    "\n",
    "\n",
    "\n"
   ]
  },
  {
   "cell_type": "markdown",
   "metadata": {
    "collapsed": true
   },
   "source": [
    "## 练习4：\n",
    "\n",
    "小明身高1.75，体重80.5kg。请根据BMI公式（体重除以身高的平方）帮小明计算他的BMI指数，并根据BMI指数：\n",
    "\n",
    "低于18.5：过轻\n",
    "    18.5-25：正常\n",
    "    25-28：过重\n",
    "    28-32：肥胖\n",
    "    高于32：严重肥胖\n",
    "    \n",
    "请用代码实现它,并实现输出结果为：\n",
    "\n",
    "your bmi is: 26.285714285714285\n",
    "\n",
    "过重\n"
   ]
  },
  {
   "cell_type": "code",
   "execution_count": null,
   "metadata": {
    "collapsed": true
   },
   "outputs": [],
   "source": [
    "#please input your code here\n",
    "height=1.75\n",
    "weight=80.5\n",
    "bmi=weight/(height*height)\n",
    "\n",
    "\n",
    "\n",
    "\n",
    "\n",
    "\n"
   ]
  },
  {
   "cell_type": "markdown",
   "metadata": {},
   "source": [
    "## 练习5：\n",
    "\n",
    "将上述练习4程序改编，实现身高height与体重weight的动态输入。\n",
    "\n",
    "实现输出结果样式如下：\n",
    "\n",
    "input your height：1.77\n",
    "\n",
    "input your weight：65.1\n",
    "\n",
    "your bmi is: 20.779469501101214\n",
    "\n",
    "正常\n",
    "\n"
   ]
  },
  {
   "cell_type": "code",
   "execution_count": null,
   "metadata": {
    "collapsed": true
   },
   "outputs": [],
   "source": [
    "#please input your code here\n",
    "height = \n",
    "weight = \n",
    "\n",
    "\n",
    "\n",
    "\n",
    "\n",
    "\n"
   ]
  },
  {
   "cell_type": "markdown",
   "metadata": {},
   "source": [
    "## 测试题目1：\n",
    "\n",
    "1000元以下商品打9.5折,1000-5000元之间的商品打9折，其他情况打8.5折。\n",
    "\n",
    "请编写程序代码:\n",
    "    \n",
    "实现对任意输入一件商品售价，能够输出其优惠价格与最终价格。\n",
    "\n",
    "并实现输出结果为：\n",
    "\n",
    "Enter amount: 960\n",
    "\n",
    "Discount 48.0\n",
    "\n",
    "Net payable: 912.0\n"
   ]
  },
  {
   "cell_type": "code",
   "execution_count": null,
   "metadata": {
    "collapsed": true
   },
   "outputs": [],
   "source": [
    "#please input your code here\n",
    "amount = int(input(\"Enter amount: \"))\n",
    "\n",
    "\n",
    "\n",
    "\n"
   ]
  },
  {
   "cell_type": "markdown",
   "metadata": {},
   "source": [
    "## 测试题目2：\n",
    "\n",
    "请使用 if else 语句编写一个程序，程序要求如下：\n",
    "\n",
    "对任意输入正整数a和b，若a的平方加上b的平方的和大于100，则输出两数平方和的百位以上的数字（包含百位），否则输出两者较大数减去较小数的差。"
   ]
  },
  {
   "cell_type": "code",
   "execution_count": null,
   "metadata": {
    "collapsed": true
   },
   "outputs": [],
   "source": [
    "#please input your code here\n",
    "a = int(input(\"输入一个数字a: \"))\n",
    "b = int(input(\"输入一个数字b：\"))\n",
    "def \n",
    "\n",
    "\n",
    "\n"
   ]
  },
  {
   "cell_type": "markdown",
   "metadata": {
    "collapsed": true
   },
   "source": [
    "## 参考文献：\n",
    "\n",
    "1.http://www.runoob.com/python3/python3-tutorial.html      python菜鸟教程\n",
    "2.https://www.liaoxuefeng.com/wiki/0014316089557264a6b348958f449949df42a6d3a2e542c000    廖雪峰python教程"
   ]
  },
  {
   "cell_type": "code",
   "execution_count": null,
   "metadata": {
    "collapsed": true
   },
   "outputs": [],
   "source": []
  }
 ],
 "metadata": {
  "kernelspec": {
   "display_name": "Python 3",
   "language": "python",
   "name": "python3"
  },
  "language_info": {
   "codemirror_mode": {
    "name": "ipython",
    "version": 3
   },
   "file_extension": ".py",
   "mimetype": "text/x-python",
   "name": "python",
   "nbconvert_exporter": "python",
   "pygments_lexer": "ipython3",
   "version": "3.6.3"
  }
 },
 "nbformat": 4,
 "nbformat_minor": 2
}
