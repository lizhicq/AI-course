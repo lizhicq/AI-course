{
 "cells": [
  {
   "cell_type": "code",
   "execution_count": 3,
   "metadata": {},
   "outputs": [
    {
     "name": "stdout",
     "output_type": "stream",
     "text": [
      "输入一个数字: 6\n",
      "正数\n"
     ]
    }
   ],
   "source": [
    "#练习1：\n",
    "\n",
    "num = float(input(\"输入一个数字: \"))\n",
    "if num > 0:\n",
    "   print(\"正数\")\n",
    "elif num == 0:\n",
    "   print(\"零\")\n",
    "else:\n",
    "   print(\"负数\")\n"
   ]
  },
  {
   "cell_type": "code",
   "execution_count": 2,
   "metadata": {},
   "outputs": [
    {
     "name": "stdout",
     "output_type": "stream",
     "text": [
      "your age is 3\n",
      "teenager\n"
     ]
    }
   ],
   "source": [
    "#练习2：\n",
    "\n",
    "age = 3\n",
    "if age >= 18:\n",
    "    print('your age is', age)\n",
    "    print('adult')\n",
    "else:\n",
    "    print('your age is', age)\n",
    "    print('teenager')"
   ]
  },
  {
   "cell_type": "code",
   "execution_count": 4,
   "metadata": {},
   "outputs": [
    {
     "name": "stdout",
     "output_type": "stream",
     "text": [
      "your age is 3\n",
      "kid\n"
     ]
    }
   ],
   "source": [
    "#练习3\n",
    "\n",
    "age = 3\n",
    "if age >= 18:\n",
    "    print('your age is', age)\n",
    "    print('adult')\n",
    "elif age >= 6:\n",
    "    print('your age is', age)\n",
    "    print('teenager')\n",
    "else:\n",
    "    print('your age is', age)\n",
    "    print('kid')"
   ]
  },
  {
   "cell_type": "code",
   "execution_count": 5,
   "metadata": {},
   "outputs": [
    {
     "name": "stdout",
     "output_type": "stream",
     "text": [
      "your bmi is: 26.285714285714285\n",
      "过重\n"
     ]
    }
   ],
   "source": [
    "#练习4\n",
    "\n",
    "height=1.75\n",
    "weight=80.5\n",
    "bmi=weight/(height*height)\n",
    "print('your bmi is:', bmi)\n",
    "if bmi>=32:\n",
    "    print(\"严重肥胖\")\n",
    "elif bmi>=28:\n",
    "    print(\"肥胖\")\n",
    "elif bmi>=25:\n",
    "    print(\"过重\")\n",
    "elif bmi>=18.5:\n",
    "    print(\"正常\")\n",
    "else: \n",
    "    print(\"过轻\")"
   ]
  },
  {
   "cell_type": "code",
   "execution_count": 6,
   "metadata": {},
   "outputs": [
    {
     "name": "stdout",
     "output_type": "stream",
     "text": [
      "input your height：1.78\n",
      "input your weight：65\n",
      "your bmi is: 20.515086478979924\n",
      "正常\n"
     ]
    }
   ],
   "source": [
    "#练习5\n",
    "\n",
    "height = float(input('input your height：'))\n",
    "weight = float(input('input your weight：'))\n",
    "bmi = weight/(height*height)\n",
    "print('your bmi is:', bmi)\n",
    "if bmi>=32:\n",
    "    print(\"严重肥胖\")\n",
    "elif bmi>=28:\n",
    "    print(\"肥胖\")\n",
    "elif bmi>=25:\n",
    "    print(\"过重\")\n",
    "elif bmi>=18.5:\n",
    "    print(\"正常\")\n",
    "else: \n",
    "    print(\"过轻\")"
   ]
  },
  {
   "cell_type": "code",
   "execution_count": 7,
   "metadata": {},
   "outputs": [
    {
     "name": "stdout",
     "output_type": "stream",
     "text": [
      "Enter amount: 900\n",
      "Discount 45.0\n",
      "Net payable: 855.0\n"
     ]
    }
   ],
   "source": [
    "#测试题目1\n",
    "\n",
    "amount = int(input(\"Enter amount: \"))\n",
    "\n",
    "if amount < 1000:\n",
    "   discount = amount*0.05\n",
    "   print (\"Discount\",discount)\n",
    "elif amount < 5000:\n",
    "   discount = amount*0.10\n",
    "   print (\"Discount\",discount)\n",
    "else:\n",
    "   discount = amount*0.15\n",
    "   print (\"Discount\",discount)\n",
    "\n",
    "print (\"Net payable:\",amount-discount)\n"
   ]
  },
  {
   "cell_type": "code",
   "execution_count": 8,
   "metadata": {},
   "outputs": [
    {
     "name": "stdout",
     "output_type": "stream",
     "text": [
      "输入一个数字a: 5\n",
      "输入一个数字b：6\n",
      "1\n"
     ]
    }
   ],
   "source": [
    "#测试题目2\n",
    "\n",
    "a = int(input(\"输入一个数字a: \"))\n",
    "b = int(input(\"输入一个数字b：\"))\n",
    "def pfh(a,b):\n",
    "    return a**2+b**2\n",
    "if pfh(a,b) < 100:\n",
    "       print(abs(a-b))\n",
    "else:\n",
    "       print(int(pfh(a,b)/100))"
   ]
  },
  {
   "cell_type": "code",
   "execution_count": null,
   "metadata": {
    "collapsed": true
   },
   "outputs": [],
   "source": []
  }
 ],
 "metadata": {
  "kernelspec": {
   "display_name": "Python 3",
   "language": "python",
   "name": "python3"
  },
  "language_info": {
   "codemirror_mode": {
    "name": "ipython",
    "version": 3
   },
   "file_extension": ".py",
   "mimetype": "text/x-python",
   "name": "python",
   "nbconvert_exporter": "python",
   "pygments_lexer": "ipython3",
   "version": "3.6.3"
  },
  "toc": {
   "base_numbering": 1,
   "nav_menu": {},
   "number_sections": true,
   "sideBar": true,
   "skip_h1_title": false,
   "title_cell": "Table of Contents",
   "title_sidebar": "Contents",
   "toc_cell": false,
   "toc_position": {},
   "toc_section_display": true,
   "toc_window_display": false
  }
 },
 "nbformat": 4,
 "nbformat_minor": 2
}
