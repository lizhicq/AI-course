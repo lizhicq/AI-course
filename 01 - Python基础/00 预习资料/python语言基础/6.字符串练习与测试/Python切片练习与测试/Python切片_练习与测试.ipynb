{
 "cells": [
  {
   "cell_type": "markdown",
   "metadata": {},
   "source": [
    "# 切片\n"
   ]
  },
  {
   "cell_type": "markdown",
   "metadata": {},
   "source": [
    "## 示例：\n",
    "\n",
    "取一个list或tuple的部分元素是非常常见的操作。\n",
    "\n",
    "比如，一个list如下：\n",
    "\n",
    "L = ['Michael', 'Sarah', 'Tracy', 'Bob', 'Jack']\n",
    "\n",
    "取前3个元素，应该怎么做？"
   ]
  },
  {
   "cell_type": "code",
   "execution_count": 1,
   "metadata": {
    "collapsed": true
   },
   "outputs": [],
   "source": [
    "L = ['Michael', 'Sarah', 'Tracy', 'Bob', 'Jack']\n",
    "\n",
    "#取前3个元素，应该怎么做？我们通常会想到这种笨办法：\n"
   ]
  },
  {
   "cell_type": "code",
   "execution_count": 2,
   "metadata": {},
   "outputs": [
    {
     "data": {
      "text/plain": [
       "['Michael', 'Sarah', 'Tracy']"
      ]
     },
     "execution_count": 2,
     "metadata": {},
     "output_type": "execute_result"
    }
   ],
   "source": [
    "[L[0], L[1], L[2]]\n",
    "['Michael', 'Sarah', 'Tracy']\n"
   ]
  },
  {
   "cell_type": "markdown",
   "metadata": {},
   "source": [
    "注：\n",
    "\n",
    "之所以是笨办法是因为扩展一下，取前N个元素就没辙了。下面会讲解如何解决这种问题：\n",
    "\n",
    "\n",
    "\n"
   ]
  },
  {
   "cell_type": "markdown",
   "metadata": {
    "collapsed": true
   },
   "source": [
    "\n",
    "\n",
    "\n",
    "\n",
    "\n",
    "取前N个元素，也就是索引为0-(N-1)的元素，可以用循环：\n",
    "\n",
    "\n",
    "但是对这种经常取指定索引范围的操作，用循环十分繁琐，因此，Python提供了切片（Slice）操作符，能大大简化这种操作。"
   ]
  },
  {
   "cell_type": "markdown",
   "metadata": {},
   "source": [
    "## 1 切片操作："
   ]
  },
  {
   "cell_type": "markdown",
   "metadata": {
    "collapsed": true
   },
   "source": [
    "\n",
    "\n",
    "对应上面的问题,L = ['Michael', 'Sarah', 'Tracy', 'Bob', 'Jack']\n",
    "\n",
    "取前3个元素，用一行代码就可以完成切片，完成操作如下：\n",
    "\n",
    "注：L[0:3]表示，从索引0开始取，直到索引3为止，但不包括索引3。即索引0，1，2，正好是3个元素。\n",
    "\n"
   ]
  },
  {
   "cell_type": "code",
   "execution_count": 18,
   "metadata": {},
   "outputs": [
    {
     "data": {
      "text/plain": [
       "['Michael', 'Sarah', 'Tracy']"
      ]
     },
     "execution_count": 18,
     "metadata": {},
     "output_type": "execute_result"
    }
   ],
   "source": [
    "#取前三个元素\n",
    "\n",
    "L = ['Michael', 'Sarah', 'Tracy', 'Bob', 'Jack']\n",
    "\n",
    "L[0:3]"
   ]
  },
  {
   "cell_type": "markdown",
   "metadata": {
    "collapsed": true
   },
   "source": [
    "### 练习1.1 \n",
    "\n",
    "如果第一个索引是0，L[0:n]中的0还可以省略。\n",
    "\n",
    "请实现取上述列表L = ['Michael', 'Sarah', 'Tracy', 'Bob', 'Jack']的前三个元素："
   ]
  },
  {
   "cell_type": "code",
   "execution_count": 19,
   "metadata": {},
   "outputs": [
    {
     "data": {
      "text/plain": [
       "['Michael', 'Sarah', 'Tracy']"
      ]
     },
     "execution_count": 19,
     "metadata": {},
     "output_type": "execute_result"
    }
   ],
   "source": [
    "#取前三个元素\n",
    "#please input your code here\n",
    "\n",
    "\n",
    "\n",
    "\n",
    "\n",
    "\n",
    "\n"
   ]
  },
  {
   "cell_type": "markdown",
   "metadata": {
    "collapsed": true
   },
   "source": [
    "### 练习1.2 \n",
    "\n",
    "\n",
    "请实现对上述列表L = ['Michael', 'Sarah', 'Tracy', 'Bob', 'Jack']从索引1开始，取出2个元素出来："
   ]
  },
  {
   "cell_type": "code",
   "execution_count": 20,
   "metadata": {},
   "outputs": [
    {
     "data": {
      "text/plain": [
       "['Sarah', 'Tracy']"
      ]
     },
     "execution_count": 20,
     "metadata": {},
     "output_type": "execute_result"
    }
   ],
   "source": [
    "#从索引1开始，取出两个元素\n",
    "#please input your code here\n",
    "\n",
    "\n",
    "\n",
    "\n"
   ]
  },
  {
   "cell_type": "markdown",
   "metadata": {
    "collapsed": true
   },
   "source": [
    "### 练习1.3 \n",
    "\n",
    "类似的，我们知道Python支持L[-1]取倒数第一个元素。\n",
    "\n",
    "那么它同样支持倒数切片，请分别取上述列表的倒数后两个元素，取上述列表的倒数第二个元素："
   ]
  },
  {
   "cell_type": "code",
   "execution_count": 9,
   "metadata": {},
   "outputs": [
    {
     "data": {
      "text/plain": [
       "['Bob', 'Jack']"
      ]
     },
     "execution_count": 9,
     "metadata": {},
     "output_type": "execute_result"
    }
   ],
   "source": [
    "#取倒数后两个元素\n",
    "#please input your code here\n",
    "\n",
    "\n",
    "\n",
    "\n",
    "\n",
    "\n",
    "\n"
   ]
  },
  {
   "cell_type": "code",
   "execution_count": 8,
   "metadata": {},
   "outputs": [
    {
     "data": {
      "text/plain": [
       "['Bob']"
      ]
     },
     "execution_count": 8,
     "metadata": {},
     "output_type": "execute_result"
    }
   ],
   "source": [
    "#取倒数第二个元素\n",
    "#please input your code here\n",
    "\n",
    "\n",
    "\n",
    "\n",
    "\n",
    "\n",
    "\n"
   ]
  },
  {
   "cell_type": "markdown",
   "metadata": {
    "collapsed": true
   },
   "source": [
    "## 2 切片应用\n",
    "\n",
    "由上述操作，可以了解到切片操作十分有用。我们先创建一个0-99的数列：\n",
    "\n",
    "L = list(range(100))\n",
    "\n",
    "L\n",
    "\n",
    "[0, 1, 2, 3, ..., 99]\n",
    "\n",
    "可以通过切片轻松取出某一段数列。\n",
    "请依次完成下列要求：\n",
    "1. 取前10个数：\n",
    "2. 取后10个数：\n",
    "3. 取前11-20个数："
   ]
  },
  {
   "cell_type": "markdown",
   "metadata": {},
   "source": [
    "### 练习2.1 \n",
    "\n",
    "请用切片取上述数列的前10个数："
   ]
  },
  {
   "cell_type": "code",
   "execution_count": 11,
   "metadata": {},
   "outputs": [
    {
     "data": {
      "text/plain": [
       "[0, 1, 2, 3, 4, 5, 6, 7, 8, 9]"
      ]
     },
     "execution_count": 11,
     "metadata": {},
     "output_type": "execute_result"
    }
   ],
   "source": [
    "#对于取前10个数：\n",
    "#please input your code here\n",
    "\n",
    "\n",
    "\n",
    "\n"
   ]
  },
  {
   "cell_type": "markdown",
   "metadata": {},
   "source": [
    "### 练习2.2\n",
    "\n",
    "\n",
    "请用切片取后10个数："
   ]
  },
  {
   "cell_type": "code",
   "execution_count": 12,
   "metadata": {},
   "outputs": [
    {
     "data": {
      "text/plain": [
       "[90, 91, 92, 93, 94, 95, 96, 97, 98, 99]"
      ]
     },
     "execution_count": 12,
     "metadata": {},
     "output_type": "execute_result"
    }
   ],
   "source": [
    "#对于取后10个数：\n",
    "#please input your code here\n",
    "\n",
    "\n",
    "\n",
    "\n"
   ]
  },
  {
   "cell_type": "markdown",
   "metadata": {},
   "source": [
    "### 练习2.3\n",
    "\n",
    "请用切片取前11-20个数：\n"
   ]
  },
  {
   "cell_type": "code",
   "execution_count": 14,
   "metadata": {},
   "outputs": [
    {
     "data": {
      "text/plain": [
       "[10, 11, 12, 13, 14, 15, 16, 17, 18, 19]"
      ]
     },
     "execution_count": 14,
     "metadata": {},
     "output_type": "execute_result"
    }
   ],
   "source": [
    "#对于前11-20个数：\n",
    "#please input your code here\n",
    "\n",
    "\n",
    "\n"
   ]
  },
  {
   "cell_type": "markdown",
   "metadata": {
    "collapsed": true
   },
   "source": [
    "注：\n",
    "\n",
    "通过切片还可以每隔几个取一个元素：\n",
    "\n",
    "\n",
    "     前10个数，每两个取一个：\n",
    "\n",
    "     L[:10:2]\n",
    "        \n",
    "     [0, 2, 4, 6, 8]\n",
    "    \n",
    "\n",
    "\n",
    "\n",
    "     所有数，每5个取一个：\n",
    "     \n",
    "     L[::5]\n",
    "        \n",
    "     [0, 5, 10, 15, 20, 25, 30, 35, 40, 45, 50, 55, 60, 65, 70, 75, 80, 85, 90, 95]\n",
    "\n",
    "甚至什么都不写，只写[:]就可以原样复制一个list：\n",
    "\n",
    "     L[:]\n",
    "    \n",
    "     [0, 1, 2, 3, ..., 99]\n",
    "\n"
   ]
  },
  {
   "cell_type": "markdown",
   "metadata": {},
   "source": [
    "## 3 切片的其他应用"
   ]
  },
  {
   "cell_type": "markdown",
   "metadata": {
    "collapsed": true
   },
   "source": [
    "\n",
    "切片的应用场合还有不少:\n",
    "    \n",
    "tuple也是一种list，唯一区别是tuple不可变。因此，tuple也可以用切片操作，只是操作的结果仍是tuple：\n",
    "\n",
    "\n",
    "(0, 1, 2, 3, 4, 5)[:3]\n",
    "\n",
    "(0, 1, 2)\n"
   ]
  },
  {
   "cell_type": "markdown",
   "metadata": {
    "collapsed": true
   },
   "source": [
    "### 练习3\n",
    "\n",
    "字符串'xxx'也可以看成是一种list，每个元素就是一个字符。因此，字符串也可以用切片操作，只是操作结果仍是字符串。\n",
    "\n",
    "题目：\n",
    "\n",
    "请依次完成下面两个操作：\n",
    "\n",
    "1.对字符串'ABCDEFG'取前三个元素；\n",
    "\n",
    "2.对字符串'ABCDEFG'每隔一个取一个元素，从头取到尾：\n",
    "\n"
   ]
  },
  {
   "cell_type": "code",
   "execution_count": 15,
   "metadata": {},
   "outputs": [
    {
     "data": {
      "text/plain": [
       "'ABC'"
      ]
     },
     "execution_count": 15,
     "metadata": {},
     "output_type": "execute_result"
    }
   ],
   "source": [
    "#对字符串'ABCDEFG'取前三个元素\n",
    "#please input your code here\n",
    "\n",
    "\n",
    "\n",
    "\n",
    "\n"
   ]
  },
  {
   "cell_type": "code",
   "execution_count": 16,
   "metadata": {},
   "outputs": [
    {
     "data": {
      "text/plain": [
       "'ACEG'"
      ]
     },
     "execution_count": 16,
     "metadata": {},
     "output_type": "execute_result"
    }
   ],
   "source": [
    "#对字符串'ABCDEFG'每隔一个取一个元素，从头取到尾\n",
    "#please input your code here\n",
    "\n",
    "\n",
    "\n",
    "\n",
    "\n"
   ]
  },
  {
   "cell_type": "markdown",
   "metadata": {
    "collapsed": true
   },
   "source": [
    "练习总结：\n",
    "\n",
    "在很多编程语言中，针对字符串提供了很多各种截取函数（例如，substring），其实目的就是对字符串切片。Python没有针对字符串的截取函数，只需要\n",
    "\n",
    "切片一个操作就可以完成，非常简单。"
   ]
  },
  {
   "cell_type": "markdown",
   "metadata": {},
   "source": [
    "## 测试题1：\n",
    "\n",
    "酒店有一份住客名单['Adam', 'Alex', 'Amy', 'Bob', 'Boom', 'Candy', 'Chris', 'David', 'Jason', 'Jasonstatham', 'BIll']，\n",
    "警察来搜查若干名罪犯，如果罪犯在酒店，输出\"Do you want to find X?\",如果罪犯不在，则输出\"X not find\"，\n",
    "\n",
    "请用代码实现，输出下列结果：\n",
    "\n",
    "please input name:tom\n",
    "\n",
    "Tom not find\n"
   ]
  },
  {
   "cell_type": "code",
   "execution_count": 1,
   "metadata": {},
   "outputs": [
    {
     "name": "stdout",
     "output_type": "stream",
     "text": [
      "please input name:tom\n",
      "Tom not find\n"
     ]
    }
   ],
   "source": [
    "#please input your code here\n",
    "\n",
    "\n",
    "\n",
    "\n",
    "\n",
    "\n",
    "\n",
    "\n",
    "\n",
    "\n"
   ]
  },
  {
   "cell_type": "markdown",
   "metadata": {
    "collapsed": true
   },
   "source": [
    "## 参考文献：\n",
    "\n",
    "1.http://www.runoob.com/python3/python3-tutorial.html      python菜鸟教程\n",
    "2.https://www.liaoxuefeng.com/wiki/0014316089557264a6b348958f449949df42a6d3a2e542c000    廖雪峰python教程"
   ]
  },
  {
   "cell_type": "code",
   "execution_count": null,
   "metadata": {
    "collapsed": true
   },
   "outputs": [],
   "source": []
  }
 ],
 "metadata": {
  "kernelspec": {
   "display_name": "Python 3",
   "language": "python",
   "name": "python3"
  },
  "language_info": {
   "codemirror_mode": {
    "name": "ipython",
    "version": 3
   },
   "file_extension": ".py",
   "mimetype": "text/x-python",
   "name": "python",
   "nbconvert_exporter": "python",
   "pygments_lexer": "ipython3",
   "version": "3.6.2"
  }
 },
 "nbformat": 4,
 "nbformat_minor": 2
}
