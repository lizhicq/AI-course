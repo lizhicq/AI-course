{
 "cells": [
  {
   "cell_type": "markdown",
   "metadata": {},
   "source": [
    "# 练习1"
   ]
  },
  {
   "cell_type": "code",
   "execution_count": 1,
   "metadata": {},
   "outputs": [
    {
     "name": "stdout",
     "output_type": "stream",
     "text": [
      "var1[0]:  H\n",
      "var2[1:5]:  ytho\n"
     ]
    }
   ],
   "source": [
    "var1 = 'Hello World!'\n",
    "var2 = \"Python Runoob\"\n",
    "\n",
    "print (\"var1[0]: \", var1[0])\n",
    "print (\"var2[1:5]: \", var2[1:5])"
   ]
  },
  {
   "cell_type": "markdown",
   "metadata": {},
   "source": [
    "# 练习2"
   ]
  },
  {
   "cell_type": "code",
   "execution_count": 2,
   "metadata": {},
   "outputs": [
    {
     "name": "stdout",
     "output_type": "stream",
     "text": [
      "更新字符串 :  Hello BUAA!\n"
     ]
    }
   ],
   "source": [
    "var1 = 'Hello World!'\n",
    "\n",
    "print (\"更新字符串 : \", var1[:6] + 'BUAA!')"
   ]
  },
  {
   "cell_type": "markdown",
   "metadata": {},
   "source": [
    "# 练习3"
   ]
  },
  {
   "cell_type": "code",
   "execution_count": 3,
   "metadata": {},
   "outputs": [
    {
     "name": "stdout",
     "output_type": "stream",
     "text": [
      "a + b 输出结果： HelloPython\n",
      "a * 2 输出结果： HelloHello\n",
      "a[1] 输出结果： e\n",
      "a[1:4] 输出结果： ell\n",
      "H 在变量 a 中\n",
      "M 不在变量 a 中\n",
      "\\n\n",
      "\\n\n"
     ]
    }
   ],
   "source": [
    "#请在下面编写代码：实现依次输出 a+b, a*2, a[1], a[1:4],以及输出 H, M 在不在变量a中的判断，另外再输出两个换行符。\n",
    "\n",
    "a = \"Hello\"\n",
    "b = \"Python\"\n",
    "\n",
    "print (\"a + b 输出结果：\", a + b) \n",
    "print (\"a * 2 输出结果：\", a * 2) \n",
    "print (\"a[1] 输出结果：\", a[1]) \n",
    "print (\"a[1:4] 输出结果：\", a[1:4]) \n",
    "\n",
    "if( \"H\" in a) :\n",
    "    print (\"H 在变量 a 中\") \n",
    "else :\n",
    "    print (\"H 不在变量 a 中\") \n",
    "\n",
    "if( \"M\" not in a) :\n",
    "    print (\"M 不在变量 a 中\") \n",
    "else :\n",
    "    print (\"M 在变量 a 中\")\n",
    "\n",
    "print (r'\\n')\n",
    "print (R'\\n')"
   ]
  },
  {
   "cell_type": "markdown",
   "metadata": {},
   "source": [
    "# 练习4"
   ]
  },
  {
   "cell_type": "code",
   "execution_count": null,
   "metadata": {},
   "outputs": [],
   "source": [
    "#小明的成绩从去年的72分提升到了今年的85分，请计算小明成绩提升的百分点，并用字符串格式化显示出'xx.x%'，只保留小数点后1位，请用代码实现：\n",
    "\n",
    "s1 = int(input(\"Please enter last year's Score: \"))\n",
    "s2 = int(input(\"Please enter this year's Score: \"))\n",
    "r = ( s2 - s1 ) / s1 *100\n",
    "print('increasing rate =  %.1f %%' % r )"
   ]
  },
  {
   "cell_type": "markdown",
   "metadata": {},
   "source": [
    "# 练习5"
   ]
  },
  {
   "cell_type": "code",
   "execution_count": 1,
   "metadata": {},
   "outputs": [
    {
     "name": "stdout",
     "output_type": "stream",
     "text": [
      "\n",
      "|--- 新建用户：N/n ---|\n",
      "|--- 登录账号：E/e ---|\n",
      "|--- 退出登录：Q/q ---|\n",
      "\n"
     ]
    }
   ],
   "source": [
    "print(\"\"\"\n",
    "|--- 新建用户：N/n ---|\n",
    "|--- 登录账号：E/e ---|\n",
    "|--- 退出登录：Q/q ---|\n",
    "\"\"\")"
   ]
  },
  {
   "cell_type": "code",
   "execution_count": null,
   "metadata": {
    "collapsed": true
   },
   "outputs": [],
   "source": []
  }
 ],
 "metadata": {
  "kernelspec": {
   "display_name": "Python 3",
   "language": "python",
   "name": "python3"
  },
  "language_info": {
   "codemirror_mode": {
    "name": "ipython",
    "version": 3
   },
   "file_extension": ".py",
   "mimetype": "text/x-python",
   "name": "python",
   "nbconvert_exporter": "python",
   "pygments_lexer": "ipython3",
   "version": "3.6.3"
  },
  "toc": {
   "base_numbering": 1,
   "nav_menu": {},
   "number_sections": true,
   "sideBar": true,
   "skip_h1_title": false,
   "title_cell": "Table of Contents",
   "title_sidebar": "Contents",
   "toc_cell": false,
   "toc_position": {},
   "toc_section_display": true,
   "toc_window_display": false
  }
 },
 "nbformat": 4,
 "nbformat_minor": 2
}
