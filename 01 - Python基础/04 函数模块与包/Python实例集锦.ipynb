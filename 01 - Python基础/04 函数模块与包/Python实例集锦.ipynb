{
 "cells": [
  {
   "cell_type": "markdown",
   "metadata": {},
   "source": [
    "# Python实例集锦"
   ]
  },
  {
   "cell_type": "markdown",
   "metadata": {
    "solution2": "hidden",
    "solution2_first": true
   },
   "source": [
    "## Python实例之一\n",
    "有四个数字：1、2、3、4，能组成多少个互不相同且无重复数字的三位数？各是多少？"
   ]
  },
  {
   "cell_type": "markdown",
   "metadata": {},
   "source": [
    "### 使用三次循环"
   ]
  },
  {
   "cell_type": "code",
   "execution_count": null,
   "metadata": {
    "collapsed": true,
    "scrolled": false
   },
   "outputs": [],
   "source": [
    "for x in range(1,5):\n",
    "    for y in range(1,5):\n",
    "        for z in range(1,5):\n",
    "            if (x != y) and (x != z) and (y != z):\n",
    "                print(x, y, z)"
   ]
  },
  {
   "cell_type": "markdown",
   "metadata": {},
   "source": [
    "### 使用列表存储结果"
   ]
  },
  {
   "cell_type": "code",
   "execution_count": 12,
   "metadata": {
    "scrolled": true,
    "solution2": "hidden"
   },
   "outputs": [
    {
     "name": "stdout",
     "output_type": "stream",
     "text": [
      "数量：24\n",
      "[[1, 2, 3], [1, 2, 4], [1, 3, 2], [1, 3, 4], [1, 4, 2], [1, 4, 3], [2, 1, 3], [2, 1, 4], [2, 3, 1], [2, 3, 4], [2, 4, 1], [2, 4, 3], [3, 1, 2], [3, 1, 4], [3, 2, 1], [3, 2, 4], [3, 4, 1], [3, 4, 2], [4, 1, 2], [4, 1, 3], [4, 2, 1], [4, 2, 3], [4, 3, 1], [4, 3, 2]]\n"
     ]
    }
   ],
   "source": [
    "result=[]\n",
    "for i in range(1,5):\n",
    "    for j in range(1,5):\n",
    "        for k in range(1,5):\n",
    "            if( i != k ) and (i != j) and (j != k):\n",
    "                result.append([i,j,k])\n",
    "print(\"数量：{}\".format(len(result)))\n",
    "print(result)"
   ]
  },
  {
   "cell_type": "code",
   "execution_count": null,
   "metadata": {
    "collapsed": true
   },
   "outputs": [],
   "source": [
    "for  ite  in  result:\n",
    "    print(ite[0])"
   ]
  },
  {
   "cell_type": "code",
   "execution_count": 15,
   "metadata": {},
   "outputs": [
    {
     "name": "stdout",
     "output_type": "stream",
     "text": [
      "[1, 2, 3, 4]\n",
      "[5, 6, 7, 8, 9, 10, 11, 12]\n"
     ]
    }
   ],
   "source": [
    "mylist = [[1,5,6],[2,7,8],[3,9,10],[4,11,12]]\n",
    "list1 = []\n",
    "list2 = []\n",
    "for it in mylist:\n",
    "    list1 += [it[0]]\n",
    "    list2 += it[1:]\n",
    "print(list1)\n",
    "print(list2)"
   ]
  },
  {
   "cell_type": "code",
   "execution_count": 18,
   "metadata": {},
   "outputs": [
    {
     "name": "stdout",
     "output_type": "stream",
     "text": [
      "[5, 7, 9, 11]\n",
      "[1, 6, 2, 8, 3, 10, 4, 12]\n"
     ]
    }
   ],
   "source": [
    "mylist = [[1,5,6],[2,7,8],[3,9,10],[4,11,12]]\n",
    "list1 = []\n",
    "list2 = []\n",
    "index = 1\n",
    "for it in mylist:\n",
    "    list1 += [it[index]]\n",
    "    list2 += it[:index]\n",
    "    list2 += it[index+1:]\n",
    "print(list1)\n",
    "print(list2)"
   ]
  },
  {
   "cell_type": "markdown",
   "metadata": {},
   "source": [
    "### 减少循环冗余的改进"
   ]
  },
  {
   "cell_type": "code",
   "execution_count": null,
   "metadata": {
    "collapsed": true
   },
   "outputs": [],
   "source": [
    "for x in range(1,5):\n",
    "    for y in range(1,5):\n",
    "        if(y == x):\n",
    "            continue\n",
    "        for z in range(1,5):\n",
    "            if(z == x or z == y):\n",
    "                continue\n",
    "            print(x, y, z)"
   ]
  },
  {
   "cell_type": "markdown",
   "metadata": {},
   "source": [
    "### 使用permutations"
   ]
  },
  {
   "cell_type": "code",
   "execution_count": 6,
   "metadata": {
    "solution2": "hidden"
   },
   "outputs": [
    {
     "name": "stdout",
     "output_type": "stream",
     "text": [
      "数量：24\n",
      "[(1, 2, 3), (1, 2, 4), (1, 3, 2), (1, 3, 4), (1, 4, 2), (1, 4, 3), (2, 1, 3), (2, 1, 4), (2, 3, 1), (2, 3, 4), (2, 4, 1), (2, 4, 3), (3, 1, 2), (3, 1, 4), (3, 2, 1), (3, 2, 4), (3, 4, 1), (3, 4, 2), (4, 1, 2), (4, 1, 3), (4, 2, 1), (4, 2, 3), (4, 3, 1), (4, 3, 2)]\n"
     ]
    }
   ],
   "source": [
    "result=[]\n",
    "from itertools import permutations\n",
    "for i in permutations([1, 2, 3, 4], 3):\n",
    "    result.append(i)\n",
    "print(\"数量：{}\".format(len(result)))\n",
    "print(result)  #每一项为元组"
   ]
  },
  {
   "cell_type": "markdown",
   "metadata": {},
   "source": [
    "### 使用列表推导式"
   ]
  },
  {
   "cell_type": "code",
   "execution_count": 8,
   "metadata": {},
   "outputs": [
    {
     "name": "stdout",
     "output_type": "stream",
     "text": [
      "[(1, 2, 3), (1, 2, 4), (1, 3, 2), (1, 3, 4), (1, 4, 2), (1, 4, 3), (2, 1, 3), (2, 1, 4), (2, 3, 1), (2, 3, 4), (2, 4, 1), (2, 4, 3), (3, 1, 2), (3, 1, 4), (3, 2, 1), (3, 2, 4), (3, 4, 1), (3, 4, 2), (4, 1, 2), (4, 1, 3), (4, 2, 1), (4, 2, 3), (4, 3, 1), (4, 3, 2)]\n"
     ]
    }
   ],
   "source": [
    "nums = [1,2,3,4]\n",
    "\n",
    "print([(x,y,z) for x in nums for y in nums for z in nums if x!=y and x!=z and y!=z])"
   ]
  },
  {
   "cell_type": "markdown",
   "metadata": {
    "solution2": "hidden",
    "solution2_first": true
   },
   "source": [
    "## Python实例之二\n",
    "企业发放的奖金根据利润提成。利润(I)低于或等于10万元时，奖金可提10%；利润高于10万元，低于20万元时，低于10万元的部分按10%提成，高于10万元的部分，可提成7.5%；20万到40万之间时，高于20万元的部分，可提成5%；40万到60万之间时高于40万元的部分，可提成3%；60万到100万之间时，高于60万元的部分，可提成1.5%，高于100万元时，超过100万元的部分按1%提成，从键盘输入当月利润I，求应发放奖金总数？"
   ]
  },
  {
   "cell_type": "markdown",
   "metadata": {},
   "source": [
    "### 使用 if-elif-else 多路分支"
   ]
  },
  {
   "cell_type": "code",
   "execution_count": 9,
   "metadata": {
    "scrolled": true,
    "solution2": "hidden"
   },
   "outputs": [
    {
     "name": "stdout",
     "output_type": "stream",
     "text": [
      "净利润：3232\n",
      "奖金: 323.20000000000005 元\n"
     ]
    }
   ],
   "source": [
    "x = int(input(\"净利润：\"))\n",
    "if x<=100000:\n",
    "    bonus=x*0.1\n",
    "    print(\"奖金:\",bonus,\"元\")\n",
    "elif 100001<x<=200000:\n",
    "    bonus=10000+(x-100000)*0.075\n",
    "    print(\"奖金:\",bonus,\"元\")\n",
    "elif 200001<x<=400000:\n",
    "    bonus=10000+7500+(x-200000)*0.05\n",
    "    print(\"奖金:\",bonus,\"元\")\n",
    "elif 400001<x<=600000:\n",
    "    bonus=10000+7500+10000+(x-400000)*0.03\n",
    "    print(\"奖金:\",bonus,\"元\")\n",
    "elif 600001<x<=1000000:\n",
    "    bonus=10000+7500+10000+6000+(x-600000)*0.015\n",
    "    print(\"奖金:\",bonus,\"元\")\n",
    "elif 600001<x<=1000000:\n",
    "    bonus=10000+7500+10000+6000+6000+(x-600000)*0.01\n",
    "    print(\"奖金:\",bonus,\"元\")"
   ]
  },
  {
   "cell_type": "markdown",
   "metadata": {},
   "source": [
    "### 使用双数组的方式进行数轴定位"
   ]
  },
  {
   "cell_type": "code",
   "execution_count": 11,
   "metadata": {},
   "outputs": [
    {
     "name": "stdout",
     "output_type": "stream",
     "text": [
      "净利润：12313\n",
      "奖金： 1231.3000000000002\n"
     ]
    }
   ],
   "source": [
    "\n",
    "profit = int(input(\"净利润：\"))\n",
    "arr = [1000000, 600000, 400000, 200000, 100000, 0]\n",
    "rat = [0.01, 0.015, 0.03, 0.05, 0.075, 0.1]\n",
    "bonus = 0\n",
    "for idx in range(len(arr)):\n",
    "    if profit > arr[idx]:\n",
    "        bonus += (profit - arr[idx]) * rat[idx]\n",
    "        profit = arr[idx]\n",
    "\n",
    "print(\"奖金：\", bonus)"
   ]
  },
  {
   "cell_type": "markdown",
   "metadata": {},
   "source": [
    "### 使用字典管理数据"
   ]
  },
  {
   "cell_type": "code",
   "execution_count": null,
   "metadata": {
    "collapsed": true,
    "solution2": "hidden"
   },
   "outputs": [],
   "source": [
    "i = int(input('净利润:'))\n",
    "arr = {1000000:0.01,600000:0.015,400000:0.03,200000:0.05,100000:0.075,0:0.1}\n",
    "r = 0\n",
    "for idx in arr.keys():\n",
    "    if i > idx:\n",
    "        r += (i - idx) * arr[idx]\n",
    "        i = idx\n",
    "print(r)"
   ]
  },
  {
   "cell_type": "markdown",
   "metadata": {},
   "source": [
    "### 封装为函数，使用抽象递归减少重复工作量"
   ]
  },
  {
   "cell_type": "code",
   "execution_count": 10,
   "metadata": {
    "scrolled": false
   },
   "outputs": [
    {
     "name": "stdout",
     "output_type": "stream",
     "text": [
      "净利润：2342\n",
      "奖金： 234.20000000000002\n"
     ]
    }
   ],
   "source": [
    "profit = int(input(\"净利润：\"))\n",
    "\n",
    "def clac_bonus(I):\n",
    "    bonus = 0\n",
    "    if I <= 100000:\n",
    "        bonus = I*0.1\n",
    "    elif I <= 200000:\n",
    "        bonus = (I-100000)*0.075 + clac_bonus(100000)\n",
    "    elif I <= 400000:\n",
    "        bonus = (I-200000)*0.05 + clac_bonus(200000)\n",
    "    elif I <= 600000:\n",
    "        bonus = (I-400000)*0.03 + clac_bonus(400000)\n",
    "    elif I <= 1000000:\n",
    "        bonus = (I-600000)*0.015 + clac_bonus(600000)\n",
    "    else:\n",
    "        bonus = (I-1000000)*0.01 + clac_bonus(1000000)\n",
    "    return bonus\n",
    "\n",
    "print(\"奖金：\", clac_bonus(profit))"
   ]
  },
  {
   "cell_type": "markdown",
   "metadata": {
    "collapsed": true,
    "solution2": "hidden",
    "solution2_first": true
   },
   "source": [
    "## Python实例之三\n",
    "一个整数，它加上100后是一个完全平方数，再加上168又是一个完全平方数，请问该数是多少？  \n",
    "程序分析：  \n",
    "假设该数为 x。  \n",
    "1、则：x + 100 = n2, x + 100 + 168 = m2  \n",
    "2、计算等式：m2 - n2 = (m + n)(m - n) = 168  "
   ]
  },
  {
   "cell_type": "markdown",
   "metadata": {},
   "source": [
    "### 计算公式"
   ]
  },
  {
   "cell_type": "code",
   "execution_count": 21,
   "metadata": {
    "solution2": "hidden"
   },
   "outputs": [
    {
     "name": "stdout",
     "output_type": "stream",
     "text": [
      "符合条件的整数有: -99\n",
      "符合条件的整数有: 21\n",
      "符合条件的整数有: 261\n",
      "符合条件的整数有: 1581\n"
     ]
    }
   ],
   "source": [
    "for m in range(168):\n",
    "    for n in range(m):\n",
    "        if (m+n)*(m-n)==168:\n",
    "            x=n**2-100\n",
    "            print(\"符合条件的整数有:\",x)"
   ]
  },
  {
   "cell_type": "markdown",
   "metadata": {},
   "source": [
    "### 简化公式\n",
    "\n",
    "---\n",
    "\n",
    "x + 100 = n^2\n",
    "\n",
    "n^2 + 168 = m^2\n",
    "\n",
    "令 m = n+k, \n",
    "\n",
    "2nk + k^2 = 168,\n",
    "\n",
    "k(2n + k) = 168, 必有一个是偶数，则都为偶数,\n",
    "\n",
    "(k/2)(k/2 + n) = 42,\n",
    "\n",
    "i(i+n) = 42, n > 0 \n",
    "\n",
    "所以 2 <= i <= 6\n",
    "\n",
    "---"
   ]
  },
  {
   "cell_type": "code",
   "execution_count": 26,
   "metadata": {},
   "outputs": [
    {
     "name": "stdout",
     "output_type": "stream",
     "text": [
      "1581\n",
      "261\n",
      "21\n",
      "-99\n"
     ]
    }
   ],
   "source": [
    "for i in range(1,7):\n",
    "    n = 42 / i - i\n",
    "    if int(n) == n:\n",
    "        x = pow(n, 2) - 100\n",
    "        print(int(x))"
   ]
  },
  {
   "cell_type": "markdown",
   "metadata": {},
   "source": [
    "### 直接书写条件-列表推导式"
   ]
  },
  {
   "cell_type": "code",
   "execution_count": 27,
   "metadata": {},
   "outputs": [
    {
     "name": "stdout",
     "output_type": "stream",
     "text": [
      "[-99, 21, 261, 1581]\n"
     ]
    }
   ],
   "source": [
    "print([pow(n,2) - 100 for m in range(168) for n in range(m) if (m-n)*(m+n) == 168])"
   ]
  },
  {
   "cell_type": "markdown",
   "metadata": {
    "solution2": "hidden",
    "solution2_first": true
   },
   "source": [
    "## Python实例之四\n",
    "输入某年某月某日，判断这一天是这一年的第几天？  \n"
   ]
  },
  {
   "cell_type": "markdown",
   "metadata": {},
   "source": [
    "### 程序分析：\n",
    "\n",
    "以3月5日为例，应该先把前两个月的加起来，然后再加上5天即本年的第几天，特殊情况，闰年且输入月份大于2时需考虑多加一天。"
   ]
  },
  {
   "cell_type": "code",
   "execution_count": 1,
   "metadata": {
    "solution2": "hidden"
   },
   "outputs": [
    {
     "name": "stdout",
     "output_type": "stream",
     "text": [
      "输入年月日(yyyy-mm-dd):2018-4-5\n",
      "这一天是一年中的第95天\n"
     ]
    }
   ],
   "source": [
    "date = input(\"输入年月日(yyyy-mm-dd):\")\n",
    "y,m,d = (int(i) for i in date.split('-'))\n",
    "sum=0\n",
    "special = (1,3,5,7,8,10)\n",
    "for i in range(1,int(m)):\n",
    "    if i == 2:\n",
    "        if y%400==0 or (y%100!=0 and y%4==0):\n",
    "            sum+=29\n",
    "        else:\n",
    "            sum+=28\n",
    "    elif(i in special):\n",
    "        sum+=31\n",
    "    else:\n",
    "        sum+=30\n",
    "sum+=d\n",
    "print(\"这一天是一年中的第%d天\"%sum)"
   ]
  },
  {
   "cell_type": "markdown",
   "metadata": {},
   "source": [
    "### 使用 list 存储月份信息"
   ]
  },
  {
   "cell_type": "code",
   "execution_count": 3,
   "metadata": {},
   "outputs": [
    {
     "name": "stdout",
     "output_type": "stream",
     "text": [
      "Year:2018\n",
      "Month:4\n",
      "Day:5\n",
      "It's the 95th day.\n"
     ]
    }
   ],
   "source": [
    "months = [31, 28, 31, 30, 31, 30, 31, 31, 30, 31, 30, 31]\n",
    "\n",
    "year = int(input(\"Year:\"))\n",
    "month = int(input(\"Month:\"))\n",
    "day = int(input(\"Day:\"))\n",
    "\n",
    "assert 0 < month < 13, \"The month must be realistic\"\n",
    "assert 0 < day <= months[month], \"The day must be realistic\" \n",
    "\n",
    "if year % 400 == 0 or (year % 4 == 0 and year % 100 != 0):\n",
    "    months[1] += 1\n",
    "\n",
    "sum_day = day\n",
    "for idx in range(month-1):\n",
    "    sum_day += months[idx]\n",
    "\n",
    "print(\"It's the %dth day.\" % sum_day)"
   ]
  },
  {
   "cell_type": "markdown",
   "metadata": {},
   "source": [
    "### 使用字典存储月份信息"
   ]
  },
  {
   "cell_type": "code",
   "execution_count": 5,
   "metadata": {},
   "outputs": [
    {
     "name": "stdout",
     "output_type": "stream",
     "text": [
      "Year:2018\n",
      "Month:4\n",
      "Day:5\n",
      "It's the 95th day.\n"
     ]
    }
   ],
   "source": [
    "months = {1: 31, \n",
    "         2: 28, \n",
    "         3: 31, \n",
    "         4: 30,\n",
    "         5: 31,\n",
    "         6: 30, \n",
    "         7: 31, \n",
    "         8: 31,\n",
    "         9: 30,\n",
    "         10: 31,\n",
    "         11: 30,\n",
    "         12: 31}\n",
    "\n",
    "def isLeapYear(year):\n",
    "    if year % 400 == 0 or (year % 4 == 0 and year % 100 != 0):\n",
    "        return True\n",
    "    else: \n",
    "        return False\n",
    "    \n",
    "year = int(input(\"Year:\"))\n",
    "month = int(input(\"Month:\"))\n",
    "day = int(input(\"Day:\"))\n",
    "\n",
    "assert 0 < month < 13, \"The month must be realistic\"\n",
    "assert 0 < day <= months[month], \"The day must be realistic\" \n",
    "\n",
    "sum_day = day\n",
    "\n",
    "for idx in range(1, month):\n",
    "    sum_day += months[idx]\n",
    "\n",
    "if isLeapYear(year):\n",
    "    sum_day += 1\n",
    "\n",
    "print(\"It's the %dth day.\" % sum_day)"
   ]
  },
  {
   "cell_type": "markdown",
   "metadata": {
    "solution2": "hidden",
    "solution2_first": true
   },
   "source": [
    "## Python实例之五\n",
    "\n",
    "输入三个整数x,y,z，请把这三个数由小到大输出。"
   ]
  },
  {
   "cell_type": "markdown",
   "metadata": {},
   "source": [
    "### if else多路分支"
   ]
  },
  {
   "cell_type": "code",
   "execution_count": 6,
   "metadata": {},
   "outputs": [
    {
     "name": "stdout",
     "output_type": "stream",
     "text": [
      "请输入n个整数以逗号分隔：5,8,2\n",
      "8  5 2\n"
     ]
    }
   ],
   "source": [
    "a, b, c = input(\"请输入n个整数以逗号分隔：\").split(',')\n",
    "\n",
    "if a > b and a > c:\n",
    "    print(a, ' ', end='')\n",
    "    if b > c:\n",
    "        print(b, c)\n",
    "    else:\n",
    "        print(c, b)\n",
    "if b > a and b > c:\n",
    "    print(b, ' ', end='')\n",
    "    if a > c:\n",
    "        print(a, c)\n",
    "    else:\n",
    "        print(c, a)\n",
    "if a > a and c > b:\n",
    "    print(c, ' ', end='')\n",
    "    if a > c:\n",
    "        print(a, c)\n",
    "    else:\n",
    "        print(c, b)"
   ]
  },
  {
   "cell_type": "markdown",
   "metadata": {},
   "source": [
    "### 使用选择排序"
   ]
  },
  {
   "cell_type": "code",
   "execution_count": 7,
   "metadata": {
    "solution2": "hidden"
   },
   "outputs": [
    {
     "name": "stdout",
     "output_type": "stream",
     "text": [
      "请输入n个整数以逗号分隔：4,2,6,5,3\n",
      "['2', '3', '4', '5', '6']\n"
     ]
    }
   ],
   "source": [
    "a = input(\"请输入n个整数以逗号分隔：\").split(',')\n",
    "\n",
    "n=len(a)\n",
    "\n",
    "for i in range(0,n):\n",
    "  for j in range(i,n) :\n",
    "     if (a[i] >= a[j] ):\n",
    "         tmp =a[i]\n",
    "         a[i]=a[j]\n",
    "         a[j]=tmp\n",
    "\n",
    "print(a)"
   ]
  },
  {
   "cell_type": "markdown",
   "metadata": {},
   "source": [
    "### 使用冒泡排序"
   ]
  },
  {
   "cell_type": "code",
   "execution_count": 9,
   "metadata": {
    "solution2": "hidden"
   },
   "outputs": [
    {
     "name": "stdout",
     "output_type": "stream",
     "text": [
      "please input num:3\n",
      "please input num:1\n",
      "please input num:2\n",
      "please input num:\n",
      "[3, 1, 2]\n",
      "[1, 3, 2]\n",
      "[1, 2, 3]\n",
      "[1, 2, 3]\n",
      "1\n",
      "2\n",
      "3\n"
     ]
    }
   ],
   "source": [
    "# 利用冒泡排序方法\n",
    "def bubbleleSort(list):\n",
    "    n = len(list)\n",
    "    for i in range(1, n):\n",
    "        # 一次次的将最大的学出来\n",
    "        for j in range(1, n - i + 1):\n",
    "            if list[j - 1] > list[j]:\n",
    "                list[j - 1], list[j] = list[j], list[j - 1]\n",
    "            # 打印排序过程\n",
    "            print(list)\n",
    "    for i in range(0, n):\n",
    "        print(list[i])\n",
    "\n",
    "# 读入数据\n",
    "def inputData():\n",
    "    list_first = []\n",
    "    while True:\n",
    "        a = input(\"please input num:\".strip())\n",
    "        if len(a) == 0:\n",
    "            return list_first\n",
    "        else:\n",
    "            list_first.append(int(a))\n",
    "\n",
    "if __name__ == '__main__':\n",
    "    lt = inputData()\n",
    "    print(lt)\n",
    "    bubbleleSort(lt)"
   ]
  },
  {
   "cell_type": "markdown",
   "metadata": {},
   "source": [
    "### 借助列表进行排序"
   ]
  },
  {
   "cell_type": "code",
   "execution_count": 10,
   "metadata": {},
   "outputs": [
    {
     "name": "stdout",
     "output_type": "stream",
     "text": [
      "X:3\n",
      "Y:1\n",
      "Z:2\n",
      "1\n",
      "2\n",
      "3\n"
     ]
    }
   ],
   "source": [
    "x = int(input(\"X:\"))\n",
    "y = int(input(\"Y:\"))\n",
    "z = int(input(\"Z:\"))\n",
    "\n",
    "lst = []\n",
    "lst.append(x)\n",
    "lst.append(y)\n",
    "lst.append(z)\n",
    "\n",
    "lst.sort()\n",
    "\n",
    "for i in range(len(lst)):\n",
    "    print(lst[i])"
   ]
  },
  {
   "cell_type": "code",
   "execution_count": null,
   "metadata": {
    "collapsed": true
   },
   "outputs": [],
   "source": [
    "### 借助字典进行排序"
   ]
  },
  {
   "cell_type": "code",
   "execution_count": 11,
   "metadata": {},
   "outputs": [
    {
     "name": "stdout",
     "output_type": "stream",
     "text": [
      "X:3\n",
      "Y:1\n",
      "Z:2\n",
      "y 1\n",
      "z 2\n",
      "x 3\n"
     ]
    }
   ],
   "source": [
    "x = int(input(\"X:\"))\n",
    "y = int(input(\"Y:\"))\n",
    "z = int(input(\"Z:\"))\n",
    "\n",
    "a = {\"x\" : x,\n",
    "     \"y\" : y,\n",
    "     \"z\" : z}\n",
    "\n",
    "for key in sorted(a, key=a.get):\n",
    "    print(key, a[key])"
   ]
  },
  {
   "cell_type": "markdown",
   "metadata": {
    "solution2": "shown",
    "solution2_first": true
   },
   "source": [
    "## Python实例之六\n",
    "斐波那契数列。  \n",
    "程序分析：斐波那契数列（Fibonacci sequence），又称黄金分割数列，指的是这样一个数列：1、1、2、3、5、8、13、21、34、……。\n",
    "在数学上，费波那契数列是以递归的方法来定义："
   ]
  },
  {
   "cell_type": "markdown",
   "metadata": {},
   "source": [
    "### 基本算法"
   ]
  },
  {
   "cell_type": "code",
   "execution_count": 13,
   "metadata": {},
   "outputs": [
    {
     "name": "stdout",
     "output_type": "stream",
     "text": [
      "你需要几项？10\n",
      "斐波那契数列：\n",
      "1 , 1 , 2 , 3 , 5 , 8 , 13 , 21 , 34 , 55 , "
     ]
    }
   ],
   "source": [
    "# 获取用户输入数据\n",
    "nterms = int(input(\"你需要几项？\"))\n",
    " \n",
    "# 第一和第二项\n",
    "n1 = 1\n",
    "n2 = 1\n",
    "count = 2\n",
    " \n",
    "# 判断输入的值是否合法\n",
    "if nterms <= 0:\n",
    "   print(\"请输入一个正整数。\")\n",
    "elif nterms == 1:\n",
    "   print(\"斐波那契数列：\")\n",
    "   print(n1)\n",
    "else:\n",
    "   print(\"斐波那契数列：\")\n",
    "   print(n1,\",\",n2,end=\" , \")\n",
    "   while count < nterms:\n",
    "       nth = n1 + n2\n",
    "       print(nth,end=\" , \")\n",
    "       # 更新值\n",
    "       n1 = n2\n",
    "       n2 = nth\n",
    "       count += 1"
   ]
  },
  {
   "cell_type": "markdown",
   "metadata": {},
   "source": [
    "### 简化算法"
   ]
  },
  {
   "cell_type": "code",
   "execution_count": 16,
   "metadata": {
    "scrolled": true
   },
   "outputs": [
    {
     "name": "stdout",
     "output_type": "stream",
     "text": [
      "1 ,2 ,3 ,5 ,8 ,13 ,21 ,34 ,55 ,89 ,144 ,233 ,377 ,610 ,987 ,1597 ,2584 ,4181 ,6765 ,"
     ]
    }
   ],
   "source": [
    "i, j = 1, 1\n",
    "while i < 10000:\n",
    "    print(i,',', end='')\n",
    "    i, j = i+j, i\n",
    "    "
   ]
  },
  {
   "cell_type": "markdown",
   "metadata": {},
   "source": [
    "### 使用函数封装"
   ]
  },
  {
   "cell_type": "code",
   "execution_count": 23,
   "metadata": {},
   "outputs": [
    {
     "name": "stdout",
     "output_type": "stream",
     "text": [
      "1\n",
      "1\n",
      "2\n",
      "3\n",
      "5\n",
      "8\n",
      "13\n",
      "21\n",
      "34\n",
      "55\n"
     ]
    }
   ],
   "source": [
    "def fib(n):\n",
    "    a, b = 0, 1\n",
    "    while n:\n",
    "        a, b, n = b, a+b, n-1\n",
    "        print(a)\n",
    "\n",
    "fib(10)"
   ]
  },
  {
   "cell_type": "code",
   "execution_count": 17,
   "metadata": {
    "solution2": "shown"
   },
   "outputs": [
    {
     "name": "stdout",
     "output_type": "stream",
     "text": [
      "[1, 1, 2, 3, 5, 8, 13, 21, 34, 55]\n"
     ]
    }
   ],
   "source": [
    "def fib(n):\n",
    "    if n == 1:\n",
    "        return [1]\n",
    "    if n == 2:\n",
    "        return [1, 1]\n",
    "    fibs = [1, 1]\n",
    "    for i in range(2, n):\n",
    "        fibs.append(fibs[-1] + fibs[-2])\n",
    "    return fibs\n",
    " \n",
    "# 输出前 10 个斐波那契数列\n",
    "print(fib(10))"
   ]
  },
  {
   "cell_type": "markdown",
   "metadata": {},
   "source": [
    "### 使用递归"
   ]
  },
  {
   "cell_type": "code",
   "execution_count": 22,
   "metadata": {},
   "outputs": [
    {
     "data": {
      "text/plain": [
       "55"
      ]
     },
     "execution_count": 22,
     "metadata": {},
     "output_type": "execute_result"
    }
   ],
   "source": [
    "def fib(n):\n",
    "    if n == 0:\n",
    "        return 0\n",
    "    elif n == 1:\n",
    "        return 1\n",
    "    else:\n",
    "        return fib(n-2) + fib(n-1)\n",
    "    \n",
    "fib(10)"
   ]
  },
  {
   "cell_type": "markdown",
   "metadata": {},
   "source": [
    "### 使用 reduce 来简化"
   ]
  },
  {
   "cell_type": "code",
   "execution_count": 25,
   "metadata": {},
   "outputs": [
    {
     "name": "stdout",
     "output_type": "stream",
     "text": [
      "[1, 1, 2, 3, 5, 8, 13, 21, 34, 55, 89]\n"
     ]
    }
   ],
   "source": [
    "from functools import reduce\n",
    "\n",
    "lst = [1, 1]\n",
    "for idx in range(9):\n",
    "    lst.append(reduce(lambda x, y : x + y, lst[-1:-3:-1]))\n",
    "    \n",
    "print(lst)"
   ]
  },
  {
   "cell_type": "markdown",
   "metadata": {
    "solution2": "hidden",
    "solution2_first": true
   },
   "source": [
    "## Python实例之七\n",
    "古典问题：有一对兔子，从出生后第3个月起每个月都生一对兔子，小兔子长到第三个月后每个月又生一对兔子，假如兔子都不死，问每个月的兔子总数为多少？  \n",
    "程序分析：兔子的规律为数列1,1,2,3,5,8,13,21....，实际上就是斐波拉契数列"
   ]
  },
  {
   "cell_type": "code",
   "execution_count": 26,
   "metadata": {},
   "outputs": [
    {
     "name": "stdout",
     "output_type": "stream",
     "text": [
      "           1            1            2            3            5            8 \n",
      "          13           21           34           55           89          144 \n",
      "         233          377          610          987         1597         2584 \n",
      "        4181         6765        10946        17711        28657        46368 \n",
      "       75025       121393       196418       317811       514229       832040 \n",
      "     1346269      2178309      3524578      5702887      9227465     14930352 \n",
      "    24157817     39088169     63245986    102334155    165580141    267914296 \n"
     ]
    }
   ],
   "source": [
    "f1 = 1\n",
    "f2 = 1\n",
    "for i in range(1,22):\n",
    "    print('%12ld %12ld' % (f1,f2),end=' ')\n",
    "    if (i % 3) == 0:\n",
    "        print()\n",
    "    f1 = f1 + f2\n",
    "    f2 = f1 + f2"
   ]
  },
  {
   "cell_type": "markdown",
   "metadata": {
    "solution2": "hidden",
    "solution2_first": true
   },
   "source": [
    "## Python实例之八\n",
    "输出 9*9 乘法口诀表"
   ]
  },
  {
   "cell_type": "markdown",
   "metadata": {},
   "source": [
    "###  使用 for 循环，控制行和列"
   ]
  },
  {
   "cell_type": "code",
   "execution_count": 31,
   "metadata": {},
   "outputs": [
    {
     "name": "stdout",
     "output_type": "stream",
     "text": [
      "\n",
      "1*1=1\t\n",
      "2*1=2\t2*2=4\t\n",
      "3*1=3\t3*2=6\t3*3=9\t\n",
      "4*1=4\t4*2=8\t4*3=12\t4*4=16\t\n",
      "5*1=5\t5*2=10\t5*3=15\t5*4=20\t5*5=25\t\n",
      "6*1=6\t6*2=12\t6*3=18\t6*4=24\t6*5=30\t6*6=36\t\n",
      "7*1=7\t7*2=14\t7*3=21\t7*4=28\t7*5=35\t7*6=42\t7*7=49\t\n",
      "8*1=8\t8*2=16\t8*3=24\t8*4=32\t8*5=40\t8*6=48\t8*7=56\t8*8=64\t\n",
      "9*1=9\t9*2=18\t9*3=27\t9*4=36\t9*5=45\t9*6=54\t9*7=63\t9*8=72\t9*9=81\t"
     ]
    }
   ],
   "source": [
    "for i in range(1, 10):\n",
    "    print()\n",
    "    for j in range(1, i+1):\n",
    "        #print(\"%d*%d=%d\" % (j, i, j*i),end='\\t')\n",
    "        print(\"{}*{}={}\".format(i,j,i*j), end=\"\\t\")"
   ]
  },
  {
   "cell_type": "markdown",
   "metadata": {},
   "source": [
    "### 列表推导式"
   ]
  },
  {
   "cell_type": "code",
   "execution_count": 33,
   "metadata": {},
   "outputs": [
    {
     "name": "stdout",
     "output_type": "stream",
     "text": [
      "1*1= 1\n",
      "1*2= 2 2*2= 4\n",
      "1*3= 3 2*3= 6 3*3= 9\n",
      "1*4= 4 2*4= 8 3*4=12 4*4=16\n",
      "1*5= 5 2*5=10 3*5=15 4*5=20 5*5=25\n",
      "1*6= 6 2*6=12 3*6=18 4*6=24 5*6=30 6*6=36\n",
      "1*7= 7 2*7=14 3*7=21 4*7=28 5*7=35 6*7=42 7*7=49\n",
      "1*8= 8 2*8=16 3*8=24 4*8=32 5*8=40 6*8=48 7*8=56 8*8=64\n",
      "1*9= 9 2*9=18 3*9=27 4*9=36 5*9=45 6*9=54 7*9=63 8*9=72 9*9=81\n"
     ]
    }
   ],
   "source": [
    "print('\\n'.join([ ' '.join([ \"%d*%d=%2s\" %(y,x,x*y) for y in range(1,x+1)]) for x in range(1,10)]))"
   ]
  },
  {
   "cell_type": "markdown",
   "metadata": {},
   "source": [
    "### 长方形完整形式"
   ]
  },
  {
   "cell_type": "code",
   "execution_count": 37,
   "metadata": {
    "scrolled": false
   },
   "outputs": [
    {
     "name": "stdout",
     "output_type": "stream",
     "text": [
      " 1*1= 1  1*2= 2  1*3= 3  1*4= 4  1*5= 5  1*6= 6  1*7= 7  1*8= 8  1*9= 9 \n",
      " 2*1= 2  2*2= 4  2*3= 6  2*4= 8  2*5=10  2*6=12  2*7=14  2*8=16  2*9=18 \n",
      " 3*1= 3  3*2= 6  3*3= 9  3*4=12  3*5=15  3*6=18  3*7=21  3*8=24  3*9=27 \n",
      " 4*1= 4  4*2= 8  4*3=12  4*4=16  4*5=20  4*6=24  4*7=28  4*8=32  4*9=36 \n",
      " 5*1= 5  5*2=10  5*3=15  5*4=20  5*5=25  5*6=30  5*7=35  5*8=40  5*9=45 \n",
      " 6*1= 6  6*2=12  6*3=18  6*4=24  6*5=30  6*6=36  6*7=42  6*8=48  6*9=54 \n",
      " 7*1= 7  7*2=14  7*3=21  7*4=28  7*5=35  7*6=42  7*7=49  7*8=56  7*9=63 \n",
      " 8*1= 8  8*2=16  8*3=24  8*4=32  8*5=40  8*6=48  8*7=56  8*8=64  8*9=72 \n",
      " 9*1= 9  9*2=18  9*3=27  9*4=36  9*5=45  9*6=54  9*7=63  9*8=72  9*9=81 \n"
     ]
    }
   ],
   "source": [
    "for i in range(1,10):\n",
    "    for j in range(1,10):\n",
    "        print(\" %d*%d=%2d \"% (i, j, i*j), end='')\n",
    "    print(\"\")"
   ]
  },
  {
   "cell_type": "markdown",
   "metadata": {},
   "source": [
    "### 左上角三角形"
   ]
  },
  {
   "cell_type": "code",
   "execution_count": 42,
   "metadata": {
    "scrolled": true
   },
   "outputs": [
    {
     "name": "stdout",
     "output_type": "stream",
     "text": [
      "1*1=1   1*2=2   1*3=3   1*4=4   1*5=5   1*6=6   1*7=7   1*8=8   1*9=9   \n",
      "2*2=4   2*3=6   2*4=8   2*5=10  2*6=12  2*7=14  2*8=16  2*9=18  \n",
      "3*3=9   3*4=12  3*5=15  3*6=18  3*7=21  3*8=24  3*9=27  \n",
      "4*4=16  4*5=20  4*6=24  4*7=28  4*8=32  4*9=36  \n",
      "5*5=25  5*6=30  5*7=35  5*8=40  5*9=45  \n",
      "6*6=36  6*7=42  6*8=48  6*9=54  \n",
      "7*7=49  7*8=56  7*9=63  \n",
      "8*8=64  8*9=72  \n",
      "9*9=81  \n"
     ]
    }
   ],
   "source": [
    "for i in range(1,10):\n",
    "    for j in range(i,10):\n",
    "        print( \"%d*%d=%-4d\"%(i,j,i*j), end='')\n",
    "    print(\"\")"
   ]
  },
  {
   "cell_type": "markdown",
   "metadata": {},
   "source": [
    "### 右上三角形"
   ]
  },
  {
   "cell_type": "code",
   "execution_count": 51,
   "metadata": {},
   "outputs": [
    {
     "name": "stdout",
     "output_type": "stream",
     "text": [
      "1*1=1   1*2=2   1*3=3   1*4=4   1*5=5   1*6=6   1*7=7   1*8=8   1*9=9   \n",
      "        2*2=4   2*3=6   2*4=8   2*5=10  2*6=12  2*7=14  2*8=16  2*9=18  \n",
      "                3*3=9   3*4=12  3*5=15  3*6=18  3*7=21  3*8=24  3*9=27  \n",
      "                        4*4=16  4*5=20  4*6=24  4*7=28  4*8=32  4*9=36  \n",
      "                                5*5=25  5*6=30  5*7=35  5*8=40  5*9=45  \n",
      "                                        6*6=36  6*7=42  6*8=48  6*9=54  \n",
      "                                                7*7=49  7*8=56  7*9=63  \n",
      "                                                        8*8=64  8*9=72  \n",
      "                                                                9*9=81  \n"
     ]
    }
   ],
   "source": [
    "for i in range(1,10):\n",
    "    for k in range(1,i):\n",
    "        print(\"        \", end = '')\n",
    "    for j in range(i,10):\n",
    "        print(\"%d*%d=%-4d\" % (i, j, i*j), end='')\n",
    "    print (\"\")"
   ]
  },
  {
   "cell_type": "markdown",
   "metadata": {},
   "source": [
    "### 右下角三角形"
   ]
  },
  {
   "cell_type": "code",
   "execution_count": 69,
   "metadata": {},
   "outputs": [
    {
     "name": "stdout",
     "output_type": "stream",
     "text": [
      "                                                                1*1=1   \n",
      "                                                        2*1=2   2*2=4   \n",
      "                                                3*1=3   3*2=6   3*3=9   \n",
      "                                        4*1=4   4*2=8   4*3=12  4*4=16  \n",
      "                                5*1=5   5*2=10  5*3=15  5*4=20  5*5=25  \n",
      "                        6*1=6   6*2=12  6*3=18  6*4=24  6*5=30  6*6=36  \n",
      "                7*1=7   7*2=14  7*3=21  7*4=28  7*5=35  7*6=42  7*7=49  \n",
      "        8*1=8   8*2=16  8*3=24  8*4=32  8*5=40  8*6=48  8*7=56  8*8=64  \n",
      "9*1=9   9*2=18  9*3=27  9*4=36  9*5=45  9*6=54  9*7=63  9*8=72  9*9=81  \n"
     ]
    }
   ],
   "source": [
    "for i in range(1,10):\n",
    "    for k in range(1, 10-i):\n",
    "        print (\"        \", end='')\n",
    "    for j in range(1 ,i+1):\n",
    "        print(\"%d*%d=%-4d\" % (i, j, i*j), end='')\n",
    "    print(\"\")"
   ]
  },
  {
   "cell_type": "markdown",
   "metadata": {
    "solution2": "hidden",
    "solution2_first": true
   },
   "source": [
    "## Python实例之九\n",
    "判断101-200之间有多少个素数，并输出所有素数。  \n",
    "程序分析：判断素数的方法：用一个数分别去除2到sqrt(这个数)，如果能被整除，则表明此数不是素数，反之是素数。 "
   ]
  },
  {
   "cell_type": "code",
   "execution_count": 71,
   "metadata": {},
   "outputs": [
    {
     "name": "stdout",
     "output_type": "stream",
     "text": [
      "101 103 107 109 113 127 131 137 139 149 151 157 163 167 173 179 181 191 193 197 199 \n",
      "total number is 21\n"
     ]
    }
   ],
   "source": [
    "from math import sqrt\n",
    "\n",
    "count=0\n",
    "pn=1\n",
    "for i in range(101,201):\n",
    "    k=int(sqrt(i))\n",
    "    for j in range(2,k+1):\n",
    "        if i%j==0:\n",
    "            pn=0\n",
    "            break\n",
    "    if pn==1:\n",
    "        count+=1\n",
    "        print(i,end=' ')\n",
    "    pn=1\n",
    "print()\n",
    "print(\"total number is %d\"%count)"
   ]
  },
  {
   "cell_type": "code",
   "execution_count": null,
   "metadata": {
    "collapsed": true
   },
   "outputs": [],
   "source": [
    "#排除法\n",
    "import math\n",
    "m=range(101,201)\n",
    "p=list(m)\n",
    "for i in range(101,201):\n",
    "    for j in range(2,int(math.sqrt(i)+1)):\n",
    "        if i % j == 0:\n",
    "            p.remove(i)\n",
    "            break\n",
    "print(p)\n",
    "print(\"101至200之间的素数一共有%d个\"%len(p))"
   ]
  },
  {
   "cell_type": "markdown",
   "metadata": {
    "solution2": "hidden",
    "solution2_first": true
   },
   "source": [
    "## Python实例之十\n",
    "打印出所有的\"水仙花数\"，所谓\"水仙花数\"是指一个三位数，其各位数字立方和等于该数本身。例如：153是一个\"水仙花数\"，因为153=1的三次方＋5的三次方＋3的三次方。  \n",
    "程序分析：利用for循环控制100-999个数，每个数分解出个位，十位，百位。"
   ]
  },
  {
   "cell_type": "code",
   "execution_count": null,
   "metadata": {
    "collapsed": true
   },
   "outputs": [],
   "source": [
    "L = []\n",
    "for n in range(100,1000):\n",
    "\ti = n // 100\n",
    "\tj = n // 10 % 10\n",
    "\tk = n % 10\n",
    "\tif n == i ** 3 + j ** 3 + k ** 3:\n",
    "\t\tL.append(n)\n",
    "print(L)\n",
    "print(len(L))"
   ]
  },
  {
   "cell_type": "code",
   "execution_count": null,
   "metadata": {
    "collapsed": true
   },
   "outputs": [],
   "source": [
    "#基于字符串列表\n",
    "for i in range(100, 1000):\n",
    "    s = str(i)\n",
    "    if int(s[0]) ** 3 + int(s[1]) ** 3 + int(s[2]) ** 3 == i:\n",
    "        print(i,end=' ')"
   ]
  },
  {
   "cell_type": "markdown",
   "metadata": {
    "solution2": "hidden",
    "solution2_first": true
   },
   "source": [
    "## Python实例之十一\n",
    "将一个正整数分解质因数。例如：输入90,打印出90=2\\*3\\*3\\*5。  \n",
    "程序分析：对n进行分解质因数，应先找到一个最小的质数k，然后按下述步骤完成：  \n",
    "(1)如果这个质数恰等于n，则说明分解质因数的过程已经结束，打印出即可。  \n",
    "(2)如果n<>k，但n能被k整除，则应打印出k的值，并用n除以k的商,作为新的正整数你n,重复执行第一步。  \n",
    "(3)如果n不能被k整除，则用k+1作为k的值,重复执行第一步。"
   ]
  },
  {
   "cell_type": "code",
   "execution_count": null,
   "metadata": {
    "collapsed": true
   },
   "outputs": [],
   "source": [
    "x = int(input(\"是否进入循环？是：1， 否：0\\n\"));\n",
    "while(x):\n",
    "    n = int(input(\"请输入一个正整数：\"));\n",
    "    print (\"%d = \" %n , end = '');\n",
    "    while n not in [1]:\n",
    "        for index in range(2, n+1):\n",
    "            if n % index == 0:\n",
    "                n = int(n/index);\n",
    "                if n == 1:\n",
    "                    print(\"%d \" %index , end = '');\n",
    "                else:\n",
    "                    print(\"%d * \" %index , end = '')\n",
    "                break;\n",
    "    print();\n",
    "    x = int(input(\"是否进入循环？是：1， 否：0\\n\"));"
   ]
  },
  {
   "cell_type": "code",
   "execution_count": null,
   "metadata": {
    "collapsed": true
   },
   "outputs": [],
   "source": [
    "#基于函数\n",
    "def prime(n):\n",
    "    l = []\n",
    "    while n > 1:\n",
    "        for i in range(2, n + 1):\n",
    "            if n % i == 0:\n",
    "                n = int(n / i)\n",
    "                l.append(i)\n",
    "                break    \n",
    "    return l\n",
    "\n",
    "\n",
    "s = input(\"输入一个正整数:\")\n",
    "if s.isdigit() and int(s) > 0:\n",
    "    print(s, \"=\", \"*\".join([str(x) for x in prime(int(s))]))\n",
    "else:\n",
    "    print(\"请输入正确的正整数\")"
   ]
  },
  {
   "cell_type": "markdown",
   "metadata": {
    "solution2": "hidden",
    "solution2_first": true
   },
   "source": [
    "## Python实例之十二\n",
    "利用条件运算符的嵌套来完成此题：学习成绩>=90分的同学用A表示，60-89分之间的用B表示，60分以下的用C表示。  \n",
    "程序分析：程序分析：(a>b)?a:b这是条件运算符的基本例子。"
   ]
  },
  {
   "cell_type": "code",
   "execution_count": null,
   "metadata": {
    "collapsed": true
   },
   "outputs": [],
   "source": [
    "a=int(input('输入分数：'))\n",
    "print('A' if a>89 else ('B' if a>59 else 'C'))"
   ]
  },
  {
   "cell_type": "code",
   "execution_count": null,
   "metadata": {
    "collapsed": true
   },
   "outputs": [],
   "source": [
    "i= int(input('请输入成绩：'))\n",
    "ar= [90,60,0]\n",
    "res= ['A','B','C']\n",
    "for idx in range (0,3):\n",
    "\tif i >=ar[idx]:\n",
    "\t\tprint(res[idx])\n",
    "\t\tbreak"
   ]
  },
  {
   "cell_type": "markdown",
   "metadata": {
    "solution2": "hidden",
    "solution2_first": true
   },
   "source": [
    "## Python实例之十三\n",
    "输入一行字符，分别统计出其中英文字母、空格、数字和其它字符的个数。  \n",
    "程序分析：利用is开头的判断函数"
   ]
  },
  {
   "cell_type": "code",
   "execution_count": null,
   "metadata": {
    "collapsed": true
   },
   "outputs": [],
   "source": [
    "InPut = input('输入任意字符:')\n",
    "letters = []\n",
    "spaces = []\n",
    "digits = []\n",
    "others = []\n",
    "for i in iter(InPut):\n",
    "    if i.isalpha() == True:\n",
    "        letters.append(i)\n",
    "    elif i.isspace() == True:\n",
    "        spaces.append(i)\n",
    "    elif i.isdigit() == True:\n",
    "        digits.append(i)\n",
    "    else:\n",
    "        others.append(i)\n",
    "print('''\n",
    "字母: {}, 个数: {};\n",
    "空字符: {}, 个数: {};\n",
    "数字: {}, 个数: {};\n",
    "其他: {}, 个数: {}'''.format(letters, len(letters), spaces, len(spaces), digits, len(digits), others, len(others)))"
   ]
  },
  {
   "cell_type": "markdown",
   "metadata": {
    "solution2": "hidden",
    "solution2_first": true
   },
   "source": [
    "## Python实例之十四\n",
    "求s=a+aa+aaa+aaaa+aa...a的值，其中a是一个数字。例如2+22+222+2222+22222(此时共有5个数相加)，几个数相加由键盘控制。  \n",
    "程序分析：关键是计算出每一项的值。"
   ]
  },
  {
   "cell_type": "code",
   "execution_count": null,
   "metadata": {
    "collapsed": true
   },
   "outputs": [],
   "source": [
    "n = int(input('n = '))\n",
    "a = int(input('a = '))\n",
    "sum_ = 0\n",
    "total = 0\n",
    "for i in range(n):\n",
    "    sum_ += (10 ** i)\n",
    "    total += sum_ * a\n",
    "print(total)"
   ]
  },
  {
   "cell_type": "markdown",
   "metadata": {
    "solution2": "hidden",
    "solution2_first": true
   },
   "source": [
    "## Python实例之十五\n",
    "一个数如果恰好等于它的因子之和，这个数就称为\"完数\"。例如6=1＋2＋3.编程找出1000以内的所有完数。  \n",
    "程序分析：参见Python实例之十一，分解质因数"
   ]
  },
  {
   "cell_type": "code",
   "execution_count": null,
   "metadata": {
    "collapsed": true
   },
   "outputs": [],
   "source": [
    "for i in range(1, 1001):\n",
    "    sum = 0\n",
    "    for j in range(1, i // 2 +1):\n",
    "        if i % j == 0:\n",
    "            sum += j\n",
    "    if sum == i:\n",
    "        print(i)"
   ]
  },
  {
   "cell_type": "markdown",
   "metadata": {
    "solution2": "hidden",
    "solution2_first": true
   },
   "source": [
    "## Python实例之十六\n",
    "一球从100米高度自由落下，每次落地后反跳回原高度的一半；再落下，求它在第10次落地时，共经过多少米？第10次反弹多高？"
   ]
  },
  {
   "cell_type": "code",
   "execution_count": null,
   "metadata": {
    "collapsed": true
   },
   "outputs": [],
   "source": [
    "h = 100.0         # 总高度\n",
    "tim = 10          # 次数\n",
    "hei = []       # 每次反弹高度\n",
    "for i in range(2,tim+1):  # 计算第二次落地到第十次落地\n",
    "    h = h / 2\n",
    "    hei.append(h)\n",
    "sumhei = sum(hei)\n",
    "print('第10次落地时，反弹%s高'%(min(hei)/2))        # 第十次反弹为第十次落地距离的一半\n",
    "print('第10次落地时，经过%s米'%(2 * sumhei + total))   # 总和加上第一次的 100"
   ]
  },
  {
   "cell_type": "markdown",
   "metadata": {
    "solution2": "hidden",
    "solution2_first": true
   },
   "source": [
    "## Python实例之十七\n",
    "猴子吃桃问题：猴子第一天摘下若干个桃子，当即吃了一半，还不瘾，又多吃了一个第二天早上又将剩下的桃子吃掉一半，又多吃了一个。以后每天早上都吃了前一天剩下的一半零一个。到第10天早上想再吃时，见只剩下一个桃子了。求第一天共摘了多少。  \n",
    "程序分析：采取逆向思维的方法，从后往前推断。"
   ]
  },
  {
   "cell_type": "code",
   "execution_count": null,
   "metadata": {
    "collapsed": true
   },
   "outputs": [],
   "source": [
    "x = 1\n",
    "for day in range(0,9):\n",
    "\tx = (x+1)*2\n",
    "print(x)"
   ]
  },
  {
   "cell_type": "markdown",
   "metadata": {
    "solution2": "hidden",
    "solution2_first": true
   },
   "source": [
    "## Python实例之十八\n",
    "两个乒乓球队进行比赛，各出三人。甲队为a,b,c三人，乙队为x,y,z三人。已抽签决定比赛名单。有人向队员打听比赛的名单。a说他不和x比，c说他不和x,z比，请编程序找出三队赛手的名单。"
   ]
  },
  {
   "cell_type": "code",
   "execution_count": null,
   "metadata": {
    "collapsed": true
   },
   "outputs": [],
   "source": [
    "n=['a','b','c']\n",
    "m=[]\n",
    "for i in range(3):\n",
    "    if n[i]!='a' and n[i]!='c':\n",
    "        m.insert(i,'x')\n",
    "    elif n[i]!='c':\n",
    "        m.insert(i,'z')\n",
    "    else:\n",
    "        m.insert(i,'y')\n",
    "\n",
    "print('a--%s, b--%s, c--%s' %(m[0], m[1], m[2]))"
   ]
  },
  {
   "cell_type": "code",
   "execution_count": null,
   "metadata": {
    "collapsed": true
   },
   "outputs": [],
   "source": [
    "for a in ['x','y','z']:\n",
    "    for b in ['x', 'y', 'z']:\n",
    "        for c in ['x', 'y', 'z']:\n",
    "            if(a!=b)and(b!=c)and(c!=a) and (a!='x') and (c!='x') and (c!='z'):\n",
    "                print('a和%s比赛，b和%s比赛，c和%s比赛' %(a,b,c))"
   ]
  },
  {
   "cell_type": "markdown",
   "metadata": {
    "solution2": "hidden",
    "solution2_first": true
   },
   "source": [
    "## Python实例之十九\n",
    "有一分数序列：2/1，3/2，5/3，8/5，13/8，21/13...求出这个数列的前20项之和。  \n",
    "程序分析：请抓住分子与分母的变化规律。"
   ]
  },
  {
   "cell_type": "code",
   "execution_count": null,
   "metadata": {
    "collapsed": true
   },
   "outputs": [],
   "source": [
    "a = 2\n",
    "b = 1\n",
    "l = []\n",
    "for n in range(1,21):\n",
    "    l.append(a / b)\n",
    "    b,a = a,a + b\n",
    "print(sum(l))"
   ]
  },
  {
   "cell_type": "markdown",
   "metadata": {
    "solution2": "hidden",
    "solution2_first": true
   },
   "source": [
    "## Python实例之二十\n",
    "求1+2!+3!+...+20!的和。"
   ]
  },
  {
   "cell_type": "code",
   "execution_count": null,
   "metadata": {
    "collapsed": true
   },
   "outputs": [],
   "source": [
    "s = 0\n",
    "for i in range(1, 21):\n",
    "    r = 1\n",
    "    for j in range(1, i+1):\n",
    "        r *= j\n",
    "    s += r\n",
    "print(s)"
   ]
  },
  {
   "cell_type": "code",
   "execution_count": null,
   "metadata": {
    "collapsed": true
   },
   "outputs": [],
   "source": [
    "## http://www.runoob.com/python3/python3-examples.html"
   ]
  }
 ],
 "metadata": {
  "hide_input": false,
  "kernelspec": {
   "display_name": "Python 3",
   "language": "python",
   "name": "python3"
  },
  "language_info": {
   "codemirror_mode": {
    "name": "ipython",
    "version": 3
   },
   "file_extension": ".py",
   "mimetype": "text/x-python",
   "name": "python",
   "nbconvert_exporter": "python",
   "pygments_lexer": "ipython3",
   "version": "3.6.3"
  },
  "toc": {
   "base_numbering": 1,
   "nav_menu": {
    "height": "390px",
    "width": "252px"
   },
   "number_sections": false,
   "sideBar": true,
   "skip_h1_title": false,
   "title_cell": "Table of Contents",
   "title_sidebar": "Contents",
   "toc_cell": false,
   "toc_position": {},
   "toc_section_display": "block",
   "toc_window_display": true
  }
 },
 "nbformat": 4,
 "nbformat_minor": 1
}
