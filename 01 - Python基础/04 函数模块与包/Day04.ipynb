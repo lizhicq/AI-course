{
 "cells": [
  {
   "cell_type": "markdown",
   "metadata": {},
   "source": [
    "### 问题- zip\n",
    "- 把两个可迭代内容生成一个可迭代的tuple元素类型组成的内容"
   ]
  },
  {
   "cell_type": "code",
   "execution_count": 5,
   "metadata": {},
   "outputs": [
    {
     "name": "stdout",
     "output_type": "stream",
     "text": [
      "<class 'zip'>\n",
      "<zip object at 0x000002F36DB46C48>\n",
      "(1, 11)\n",
      "(2, 22)\n",
      "(3, 33)\n",
      "(4, 44)\n",
      "(5, 55)\n"
     ]
    }
   ],
   "source": [
    "# zip 案例\n",
    "l1 = [1,2,3,4,5]\n",
    "l2 = [11,22,33,44,55]\n",
    "\n",
    "z = zip(l1, l2)\n",
    "\n",
    "print(type(z))\n",
    "print(z)\n",
    "#print(type(z[0])\n",
    "\n",
    "\n",
    "\n",
    "for i in z:\n",
    "    print(i)\n",
    "    "
   ]
  },
  {
   "cell_type": "markdown",
   "metadata": {
    "collapsed": true
   },
   "source": [
    "## 练习1 - Python自定义函数的5种常见形式"
   ]
  },
  {
   "cell_type": "markdown",
   "metadata": {},
   "source": [
    "1、标准自定义函数：\n",
    "\n",
    "    形参列表是标准的tuple数据类型"
   ]
  },
  {
   "cell_type": "code",
   "execution_count": null,
   "metadata": {
    "collapsed": true
   },
   "outputs": [],
   "source": [
    "def abvedu_add(x,y):  \n",
    "    print( x + y)"
   ]
  },
  {
   "cell_type": "code",
   "execution_count": 36,
   "metadata": {
    "scrolled": true
   },
   "outputs": [
    {
     "name": "stdout",
     "output_type": "stream",
     "text": [
      "9\n"
     ]
    }
   ],
   "source": [
    "def abvedu_add(x,y):  \n",
    "    print( x + y)\n",
    "    \n",
    "abvedu_add(3,6)"
   ]
  },
  {
   "cell_type": "markdown",
   "metadata": {},
   "source": [
    "2、没有形参的自定义函数："
   ]
  },
  {
   "cell_type": "code",
   "execution_count": 37,
   "metadata": {
    "collapsed": true
   },
   "outputs": [],
   "source": [
    "def abvedu_print():  \n",
    "    print(\"hello Python!\")  "
   ]
  },
  {
   "cell_type": "code",
   "execution_count": 38,
   "metadata": {},
   "outputs": [
    {
     "name": "stdout",
     "output_type": "stream",
     "text": [
      "hello Python!\n"
     ]
    }
   ],
   "source": [
    "abvedu_print()"
   ]
  },
  {
   "cell_type": "markdown",
   "metadata": {},
   "source": [
    "3、使用默认值的自定义函数：\n",
    "\n",
    "在定义函数指定参数时，有时候会有一些默认的值，可以利用“=”先指定在参数列表上，如果在调用的时候没有设置此参数，那么该参数就使用默认的值。"
   ]
  },
  {
   "cell_type": "code",
   "execution_count": 40,
   "metadata": {
    "collapsed": true
   },
   "outputs": [],
   "source": [
    "def abvedu_printSymbol(n,symbol = \" %\"):  \n",
    "    for i in range(1,n+1):  \n",
    "        print(symbol , end =\"\")  \n",
    "    print()  "
   ]
  },
  {
   "cell_type": "code",
   "execution_count": 42,
   "metadata": {},
   "outputs": [
    {
     "name": "stdout",
     "output_type": "stream",
     "text": [
      " % % % % %\n",
      "@@@@@@@@@\n"
     ]
    }
   ],
   "source": [
    "abvedu_printSymbol(5)\n",
    "abvedu_printSymbol(9,\"@\")"
   ]
  },
  {
   "cell_type": "markdown",
   "metadata": {},
   "source": [
    "4、参数个数不确定的自定义函数：\n",
    "\n",
    "此函数可以接受没有预先设置的参数个数，定义方法是在参数的前面加上“*”。"
   ]
  },
  {
   "cell_type": "code",
   "execution_count": 43,
   "metadata": {
    "collapsed": true
   },
   "outputs": [],
   "source": [
    "def abvedu_main(*args):  \n",
    "    print(\"参数分别是：\")  \n",
    "    for arg in args:  \n",
    "        print(arg)  "
   ]
  },
  {
   "cell_type": "code",
   "execution_count": 44,
   "metadata": {},
   "outputs": [
    {
     "name": "stdout",
     "output_type": "stream",
     "text": [
      "参数分别是：\n",
      "23\n",
      "fee\n",
      "12.4\n"
     ]
    }
   ],
   "source": [
    "abvedu_main(23,\"fee\",12.4)"
   ]
  },
  {
   "cell_type": "markdown",
   "metadata": {},
   "source": [
    "5、使用lambda隐函数的自定义函数：\n",
    "\n",
    "    Python提供了一种非常有趣、精简好用的一行自定义函数的方法lambda,这是一种可以实现一行语句、用完即丢的自定义函数。语法形式是：\n",
    "    lambda 参数列表：执行语句\n",
    "    其实，它对应的标准自定义函数形式：\n",
    "    def  函数名称（参数列表）：\n",
    "        return 语句内容\n",
    "    这种定义方式可以和map函数一起使用。"
   ]
  },
  {
   "cell_type": "code",
   "execution_count": 45,
   "metadata": {
    "collapsed": true
   },
   "outputs": [],
   "source": [
    "x = range(1,9)"
   ]
  },
  {
   "cell_type": "code",
   "execution_count": 46,
   "metadata": {
    "scrolled": true
   },
   "outputs": [
    {
     "data": {
      "text/plain": [
       "range(1, 9)"
      ]
     },
     "execution_count": 46,
     "metadata": {},
     "output_type": "execute_result"
    }
   ],
   "source": [
    "x"
   ]
  },
  {
   "cell_type": "code",
   "execution_count": 47,
   "metadata": {
    "collapsed": true
   },
   "outputs": [],
   "source": [
    "y = map(lambda i: i**3, x)"
   ]
  },
  {
   "cell_type": "code",
   "execution_count": 48,
   "metadata": {},
   "outputs": [
    {
     "name": "stdout",
     "output_type": "stream",
     "text": [
      "0^3 = 1\n",
      "1^3 = 8\n",
      "2^3 = 27\n",
      "3^3 = 64\n",
      "4^3 = 125\n",
      "5^3 = 216\n",
      "6^3 = 343\n",
      "7^3 = 512\n"
     ]
    }
   ],
   "source": [
    "for i, value in enumerate(y):  \n",
    "    print(\"{}^3 = {}\".format(i,value))"
   ]
  },
  {
   "cell_type": "code",
   "execution_count": null,
   "metadata": {
    "collapsed": true
   },
   "outputs": [],
   "source": []
  },
  {
   "cell_type": "code",
   "execution_count": null,
   "metadata": {
    "collapsed": true
   },
   "outputs": [],
   "source": []
  },
  {
   "cell_type": "markdown",
   "metadata": {
    "collapsed": true
   },
   "source": [
    "## 练习2 - 归并排序"
   ]
  },
  {
   "cell_type": "code",
   "execution_count": 1,
   "metadata": {},
   "outputs": [
    {
     "name": "stdout",
     "output_type": "stream",
     "text": [
      "[1, 2, 3, 5, 10]\n"
     ]
    }
   ],
   "source": [
    "#需要大量新建数组，消耗极大\n",
    "def mergeSort(alist):\n",
    "    if len(alist)<=1:\n",
    "        return alist\n",
    "    else:\n",
    "        left=mergeSort(alist[:len(alist)//2])\n",
    "        right=mergeSort(alist[len(alist)//2:])\n",
    "        result=[]\n",
    "        while left and right:\n",
    "            if left[-1]>right[-1]:\n",
    "                result=[left.pop()]+result\n",
    "            else:\n",
    "                result=[right.pop()]+result\n",
    "        if left:\n",
    "            result=left+result\n",
    "        else:\n",
    "            result=right+result\n",
    "        return result \n",
    "a=[1,10,3,5,2]\n",
    "a=mergeSort(a)\n",
    "print(a)"
   ]
  },
  {
   "cell_type": "code",
   "execution_count": 3,
   "metadata": {},
   "outputs": [
    {
     "name": "stdout",
     "output_type": "stream",
     "text": [
      "[1, 2, 3, 5, 10]\n"
     ]
    }
   ],
   "source": [
    "#自顶而下的原地归并，遵从python切片的习惯：左包右不包\n",
    "def mergeSort2(alist):\n",
    "    def helpSort(lo,hi):\n",
    "        if hi-lo<=1:\n",
    "            return\n",
    "        else:\n",
    "            mid=(lo+hi)//2\n",
    "            helpSort(lo,mid)\n",
    "            helpSort(mid,hi)\n",
    "            merge(lo,mid,hi)\n",
    "    #原地合并方法    \n",
    "    def merge(lo,mid,hi):\n",
    "        #每次合并前，浅拷贝alist，因为alist在每次合并中都会发生改变\n",
    "        aux=alist[:]\n",
    "        lpoint=lo\n",
    "        rpoint=mid\n",
    "        for pos in range(lo,hi):\n",
    "            #左子列耗尽就把右子列全加上\n",
    "            if lpoint >=mid:\n",
    "                alist[pos]=aux[rpoint]\n",
    "                rpoint+=1\n",
    "            #右子列耗尽就把左子列全加上\n",
    "            elif rpoint>=hi:\n",
    "                alist[pos]=aux[lpoint]\n",
    "                lpoint+=1\n",
    "            elif aux[lpoint]<aux[rpoint]:\n",
    "                alist[pos]=aux[lpoint]\n",
    "                lpoint+=1\n",
    "            else:\n",
    "                alist[pos]=aux[rpoint]\n",
    "                rpoint+=1\n",
    "    lo=0\n",
    "    hi=len(alist)\n",
    "    helpSort(lo,hi)\n",
    "\n",
    "a=[1,10,3,5,2]               \n",
    "mergeSort2(a)\n",
    "print(a)               "
   ]
  },
  {
   "cell_type": "markdown",
   "metadata": {
    "collapsed": true
   },
   "source": [
    "原地合并方法的复杂度$O(nlogn)$,分片的操作复杂度是$O(K)$并且需要额外的空间，这在list很大的情况下是一个关键因素。"
   ]
  },
  {
   "cell_type": "markdown",
   "metadata": {},
   "source": [
    "##  练习3 - 快排（The Quick Sort）\n",
    "\n",
    "\n",
    "快排也使用分治策略，但不需要额外的内存  \n",
    "快排的基本思想是随机选取一个数(pivot value)，比它小的放在它左边，比它大的放在它右边，这样每次遍历就能确定一个数的位置(split point)，递归左子列和右子列，最终得到全部值。"
   ]
  },
  {
   "cell_type": "code",
   "execution_count": 5,
   "metadata": {},
   "outputs": [
    {
     "name": "stdout",
     "output_type": "stream",
     "text": [
      "[1, 2, 3, 5, 10]\n"
     ]
    }
   ],
   "source": [
    "#单索引的快排法\n",
    "def quickSort1(alist):\n",
    "    def helpSort(lo,hi):\n",
    "        if hi-lo<=1:\n",
    "            return\n",
    "        #确定主元\n",
    "        pivot=alist[lo]\n",
    "        #索引永远指向小于主元的最后一个元素的下一位，即index数字最小的大于主元的元素\n",
    "        i=lo+1\n",
    "        for j in range(lo+1,hi):\n",
    "            if alist[j]<pivot:\n",
    "                #小于主元的元素与索引交换\n",
    "                alist[i],alist[j]=alist[j],alist[i]\n",
    "                i+=1\n",
    "        #把主元与index最大的小于主元的元素交换，这样主元右边都是比它小的元素\n",
    "        alist[lo],alist[i-1]=alist[i-1],alist[lo]\n",
    "        helpSort(lo,i-1)\n",
    "        helpSort(i,hi)\n",
    "        \n",
    "    lo=0\n",
    "    hi=len(alist)\n",
    "    return helpSort(lo,hi)\n",
    "    \n",
    "a=[1,10,3,5,2]               \n",
    "quickSort1(a)\n",
    "print(a)     "
   ]
  },
  {
   "cell_type": "markdown",
   "metadata": {
    "collapsed": true
   },
   "source": [
    "## 练习4 - 找出第K大的数"
   ]
  },
  {
   "cell_type": "code",
   "execution_count": 9,
   "metadata": {},
   "outputs": [
    {
     "name": "stdout",
     "output_type": "stream",
     "text": [
      "ee re\n",
      "input error\n"
     ]
    }
   ],
   "source": [
    "while True:\n",
    "    try:\n",
    "        arr = list(map(int, input().split()))\n",
    "        k = int(input())\n",
    "        arr = set(arr)\n",
    "        #print(arr)\n",
    "        arr = list(arr)\n",
    "        arr.sort()\n",
    "        arr.reverse()\n",
    "        print(arr)\n",
    "        print(arr[k-1])\n",
    "    except:\n",
    "        print(\"input error\")\n",
    "        break"
   ]
  },
  {
   "cell_type": "markdown",
   "metadata": {
    "collapsed": true
   },
   "source": [
    "## 练习5 - 函数式编程"
   ]
  },
  {
   "cell_type": "markdown",
   "metadata": {
    "collapsed": true
   },
   "source": [
    "### 函数作为参数"
   ]
  },
  {
   "cell_type": "code",
   "execution_count": 2,
   "metadata": {
    "collapsed": true
   },
   "outputs": [],
   "source": [
    "def add(x, y, f):\n",
    "    return f(x) + f(y)"
   ]
  },
  {
   "cell_type": "code",
   "execution_count": 3,
   "metadata": {},
   "outputs": [
    {
     "data": {
      "text/plain": [
       "2"
      ]
     },
     "execution_count": 3,
     "metadata": {},
     "output_type": "execute_result"
    }
   ],
   "source": [
    "add(-1, 1, abs)"
   ]
  },
  {
   "cell_type": "markdown",
   "metadata": {
    "collapsed": true
   },
   "source": [
    "### map()作为高阶函数，它将运算规则抽象了。"
   ]
  },
  {
   "cell_type": "code",
   "execution_count": 7,
   "metadata": {
    "scrolled": true
   },
   "outputs": [
    {
     "name": "stdout",
     "output_type": "stream",
     "text": [
      "<class 'map'>\n"
     ]
    },
    {
     "data": {
      "text/plain": [
       "[1, 4, 9, 16]"
      ]
     },
     "execution_count": 7,
     "metadata": {},
     "output_type": "execute_result"
    }
   ],
   "source": [
    "r = map(lambda x: x*x, [1, 2, 3, 4])\n",
    "print(type(r))\n",
    "list(r)"
   ]
  },
  {
   "cell_type": "markdown",
   "metadata": {},
   "source": [
    "### reduce()"
   ]
  },
  {
   "cell_type": "code",
   "execution_count": 4,
   "metadata": {},
   "outputs": [
    {
     "data": {
      "text/plain": [
       "6"
      ]
     },
     "execution_count": 4,
     "metadata": {},
     "output_type": "execute_result"
    }
   ],
   "source": [
    "from functools import reduce\n",
    "\n",
    "def prod(List,f):\n",
    "    return reduce(f, List)\n",
    "\n",
    "def f(x, y):\n",
    "    return x * y\n",
    "prod([1,2,3], f)"
   ]
  },
  {
   "cell_type": "markdown",
   "metadata": {
    "collapsed": true
   },
   "source": [
    "### str2int"
   ]
  },
  {
   "cell_type": "code",
   "execution_count": 1,
   "metadata": {
    "collapsed": true
   },
   "outputs": [],
   "source": [
    "from functools import reduce\n",
    "num = {}\n",
    "for i in range(10):\n",
    "    num[str(i)] = i\n",
    "    \n",
    "def str2int(string):\n",
    "    return reduce(lambda x, y: x*10 + y, map(char2num, string))\n",
    "\n",
    "def char2num(s):\n",
    "    return num[s]"
   ]
  },
  {
   "cell_type": "code",
   "execution_count": 2,
   "metadata": {},
   "outputs": [
    {
     "data": {
      "text/plain": [
       "123"
      ]
     },
     "execution_count": 2,
     "metadata": {},
     "output_type": "execute_result"
    }
   ],
   "source": [
    "str2int('123')"
   ]
  },
  {
   "cell_type": "code",
   "execution_count": 3,
   "metadata": {
    "scrolled": false
   },
   "outputs": [
    {
     "data": {
      "text/plain": [
       "int"
      ]
     },
     "execution_count": 3,
     "metadata": {},
     "output_type": "execute_result"
    }
   ],
   "source": [
    "type(str2int('123'))"
   ]
  },
  {
   "cell_type": "markdown",
   "metadata": {},
   "source": [
    "### str2float"
   ]
  },
  {
   "cell_type": "code",
   "execution_count": 4,
   "metadata": {
    "collapsed": true
   },
   "outputs": [],
   "source": [
    "from functools import reduce\n",
    "num = {}\n",
    "for i in range(10):\n",
    "    num[str(i)] = i\n",
    "\n",
    "def char2num(s):\n",
    "    return num[s]\n",
    "def str2float(string):\n",
    "    s = string.split('.')\n",
    "    f1 = lambda x, y: x * 10 + y\n",
    "    f2 = lambda x, y: x * 0.1 + y\n",
    "    return reduce(f1, map(char2num, s[0])) + 0.1 * reduce(f2, map(char2num, s[-1][::-1]))"
   ]
  },
  {
   "cell_type": "code",
   "execution_count": 5,
   "metadata": {},
   "outputs": [
    {
     "data": {
      "text/plain": [
       "1.234"
      ]
     },
     "execution_count": 5,
     "metadata": {},
     "output_type": "execute_result"
    }
   ],
   "source": [
    "str2float('1.234')"
   ]
  },
  {
   "cell_type": "code",
   "execution_count": 6,
   "metadata": {},
   "outputs": [
    {
     "data": {
      "text/plain": [
       "float"
      ]
     },
     "execution_count": 6,
     "metadata": {},
     "output_type": "execute_result"
    }
   ],
   "source": [
    "type(str2float('1.234'))"
   ]
  },
  {
   "cell_type": "markdown",
   "metadata": {
    "collapsed": true
   },
   "source": [
    "### 利用filter() 求素数(埃氏筛法)"
   ]
  },
  {
   "cell_type": "code",
   "execution_count": 7,
   "metadata": {
    "collapsed": true
   },
   "outputs": [],
   "source": [
    "def odd_iter():\n",
    "    n = 1\n",
    "    while True:\n",
    "        n += 2\n",
    "        yield n"
   ]
  },
  {
   "cell_type": "code",
   "execution_count": 8,
   "metadata": {
    "collapsed": true
   },
   "outputs": [],
   "source": [
    "def prime():\n",
    "    yield 2\n",
    "    it = odd_iter()\n",
    "    while True:\n",
    "        n = next(it)\n",
    "        yield n\n",
    "        it = filter(lambda x: x % n > 0, it)"
   ]
  },
  {
   "cell_type": "code",
   "execution_count": 9,
   "metadata": {},
   "outputs": [
    {
     "name": "stdout",
     "output_type": "stream",
     "text": [
      "2 3 5 7 9 11 13 15 17 19 "
     ]
    }
   ],
   "source": [
    "for i in prime():\n",
    "    if i < 20:\n",
    "        print(i, end=' ')\n",
    "    else:\n",
    "        break"
   ]
  },
  {
   "cell_type": "markdown",
   "metadata": {
    "collapsed": true
   },
   "source": [
    "### 返回函数"
   ]
  },
  {
   "cell_type": "code",
   "execution_count": 10,
   "metadata": {
    "collapsed": true
   },
   "outputs": [],
   "source": [
    "def lazy_sum(*args):\n",
    "    def sum():\n",
    "        ax = 0\n",
    "        for arg in args:\n",
    "            ax += arg\n",
    "        return ax\n",
    "    return sum"
   ]
  },
  {
   "cell_type": "code",
   "execution_count": 11,
   "metadata": {},
   "outputs": [
    {
     "data": {
      "text/plain": [
       "<function __main__.lazy_sum.<locals>.sum>"
      ]
     },
     "execution_count": 11,
     "metadata": {},
     "output_type": "execute_result"
    }
   ],
   "source": [
    "f = lazy_sum(1, 2, 3)\n",
    "f"
   ]
  },
  {
   "cell_type": "code",
   "execution_count": 12,
   "metadata": {},
   "outputs": [
    {
     "data": {
      "text/plain": [
       "6"
      ]
     },
     "execution_count": 12,
     "metadata": {},
     "output_type": "execute_result"
    }
   ],
   "source": [
    "f()"
   ]
  },
  {
   "cell_type": "markdown",
   "metadata": {
    "collapsed": true
   },
   "source": [
    "### 闭包"
   ]
  },
  {
   "cell_type": "markdown",
   "metadata": {},
   "source": [
    "我们在函数count中又定义了函数f，并且，内部函数f可以引用外部函数sum的参数和局部变量，当sum返回函数时，相关参数和变量都保存在返回的函数中，这种称为“闭包（Closure）”的程序结构拥有极大的威力。"
   ]
  },
  {
   "cell_type": "code",
   "execution_count": null,
   "metadata": {
    "collapsed": true
   },
   "outputs": [],
   "source": [
    "def count():\n",
    "    fs = []\n",
    "    for i in range(1, 4):\n",
    "        def f():\n",
    "            return i * i\n",
    "        fs.append(f)\n",
    "    return fs"
   ]
  },
  {
   "cell_type": "code",
   "execution_count": null,
   "metadata": {
    "collapsed": true
   },
   "outputs": [],
   "source": [
    "f1, f2, f3 = count()"
   ]
  },
  {
   "cell_type": "code",
   "execution_count": null,
   "metadata": {
    "collapsed": true
   },
   "outputs": [],
   "source": [
    "f1(), f2(), f3()"
   ]
  },
  {
   "cell_type": "markdown",
   "metadata": {},
   "source": [
    "返回函数不要包含任何循环变量，或者后续会发生变化的变量。\n",
    "\n",
    "如果一定要引入循环变量呢？方法是在 count() 中调用 f(),从而绑定循环变量当前值。"
   ]
  },
  {
   "cell_type": "code",
   "execution_count": 13,
   "metadata": {
    "collapsed": true
   },
   "outputs": [],
   "source": [
    "def count2():\n",
    "    def f(j):\n",
    "        def g():\n",
    "            return j * j\n",
    "        return g\n",
    "    fs = []\n",
    "    for i in range(1, 4):\n",
    "        fs.append(f(i))\n",
    "    return fs"
   ]
  },
  {
   "cell_type": "code",
   "execution_count": 15,
   "metadata": {},
   "outputs": [
    {
     "data": {
      "text/plain": [
       "(1, 4, 9)"
      ]
     },
     "execution_count": 15,
     "metadata": {},
     "output_type": "execute_result"
    }
   ],
   "source": [
    "f1, f2, f3 = count2()\n",
    "\n",
    "f1(), f2(), f3()"
   ]
  },
  {
   "cell_type": "markdown",
   "metadata": {
    "collapsed": true
   },
   "source": [
    "### 装饰器"
   ]
  },
  {
   "cell_type": "code",
   "execution_count": 15,
   "metadata": {
    "collapsed": true
   },
   "outputs": [],
   "source": [
    "a = 10\n",
    "b = [12, 12]\n",
    "\n",
    "def test():\n",
    "    print('test run')\n",
    "c = test"
   ]
  },
  {
   "cell_type": "code",
   "execution_count": null,
   "metadata": {
    "collapsed": true
   },
   "outputs": [],
   "source": [
    "可以把函数赋值给一个变量"
   ]
  },
  {
   "cell_type": "code",
   "execution_count": 16,
   "metadata": {},
   "outputs": [
    {
     "data": {
      "text/plain": [
       "'test'"
      ]
     },
     "execution_count": 16,
     "metadata": {},
     "output_type": "execute_result"
    }
   ],
   "source": [
    "c.__name__"
   ]
  },
  {
   "cell_type": "code",
   "execution_count": 17,
   "metadata": {},
   "outputs": [
    {
     "name": "stdout",
     "output_type": "stream",
     "text": [
      "test run\n"
     ]
    }
   ],
   "source": [
    "c()"
   ]
  },
  {
   "cell_type": "markdown",
   "metadata": {},
   "source": [
    "函数可以当做函数的返回值"
   ]
  },
  {
   "cell_type": "code",
   "execution_count": 14,
   "metadata": {
    "scrolled": true
   },
   "outputs": [
    {
     "name": "stdout",
     "output_type": "stream",
     "text": [
      "func\n",
      "func run\n"
     ]
    }
   ],
   "source": [
    "def test(func):\n",
    "    return func\n",
    "\n",
    "def func():\n",
    "    print('func run')\n",
    "    \n",
    "f = test(func)\n",
    "print(f.__name__)\n",
    "f()"
   ]
  },
  {
   "cell_type": "markdown",
   "metadata": {},
   "source": [
    "装饰器的格式"
   ]
  },
  {
   "cell_type": "code",
   "execution_count": 24,
   "metadata": {
    "collapsed": true
   },
   "outputs": [],
   "source": [
    "#返回一个从0到1的浮点值\n",
    "import random\n",
    "def test():\n",
    "    return round(random.random(), 3) # 3 为所保留浮点数的位数"
   ]
  },
  {
   "cell_type": "code",
   "execution_count": 25,
   "metadata": {},
   "outputs": [
    {
     "data": {
      "text/plain": [
       "0.855"
      ]
     },
     "execution_count": 25,
     "metadata": {},
     "output_type": "execute_result"
    }
   ],
   "source": [
    "test()"
   ]
  },
  {
   "cell_type": "code",
   "execution_count": 21,
   "metadata": {
    "collapsed": true
   },
   "outputs": [],
   "source": [
    "def decorator(func):\n",
    "    def wrapper(*args, **kwargs):\n",
    "        return round(func(*args, **kwargs), 2)\n",
    "    return wrapper"
   ]
  },
  {
   "cell_type": "code",
   "execution_count": 22,
   "metadata": {},
   "outputs": [],
   "source": [
    "#返回一个从0到1的浮点值\n",
    "import random\n",
    "@decorator\n",
    "def test():\n",
    "    return random.random()\n",
    "\n",
    "@decorator\n",
    "def test_two():\n",
    "    return random.random()*10"
   ]
  },
  {
   "cell_type": "code",
   "execution_count": null,
   "metadata": {
    "collapsed": true
   },
   "outputs": [],
   "source": [
    "# #f = decorator(test) #等价于@装饰器的用法"
   ]
  },
  {
   "cell_type": "code",
   "execution_count": 23,
   "metadata": {},
   "outputs": [
    {
     "data": {
      "text/plain": [
       "0.7"
      ]
     },
     "execution_count": 23,
     "metadata": {},
     "output_type": "execute_result"
    }
   ],
   "source": [
    "test()"
   ]
  },
  {
   "cell_type": "code",
   "execution_count": 26,
   "metadata": {
    "scrolled": true
   },
   "outputs": [
    {
     "data": {
      "text/plain": [
       "3.58"
      ]
     },
     "execution_count": 26,
     "metadata": {},
     "output_type": "execute_result"
    }
   ],
   "source": [
    "test_two()"
   ]
  },
  {
   "cell_type": "markdown",
   "metadata": {},
   "source": [
    "参数说明"
   ]
  },
  {
   "cell_type": "code",
   "execution_count": 33,
   "metadata": {
    "collapsed": true
   },
   "outputs": [],
   "source": [
    "#返回一个从0到1的浮点值\n",
    "import random\n",
    "@decorator\n",
    "def test(x,y):\n",
    "    return random.random()+x+y"
   ]
  },
  {
   "cell_type": "code",
   "execution_count": 34,
   "metadata": {},
   "outputs": [
    {
     "data": {
      "text/plain": [
       "3.35"
      ]
     },
     "execution_count": 34,
     "metadata": {},
     "output_type": "execute_result"
    }
   ],
   "source": [
    "test(1,2)"
   ]
  },
  {
   "cell_type": "code",
   "execution_count": null,
   "metadata": {
    "collapsed": true
   },
   "outputs": [],
   "source": []
  },
  {
   "cell_type": "code",
   "execution_count": null,
   "metadata": {
    "collapsed": true
   },
   "outputs": [],
   "source": [
    "def now():\n",
    "    print(\"2018-06-07\")"
   ]
  },
  {
   "cell_type": "code",
   "execution_count": null,
   "metadata": {
    "collapsed": true
   },
   "outputs": [],
   "source": [
    "now.__name__"
   ]
  },
  {
   "cell_type": "code",
   "execution_count": null,
   "metadata": {
    "collapsed": true
   },
   "outputs": [],
   "source": [
    "现在希望增加 now() 函数的功能，但不改变他的定义，这种在代码运行期间动态增加功能的方式，称之为装饰器（Decorator）。\n",
    "\n",
    "本质上，decorator 就是一个返回函数的高阶函数。下面，我们定义一个打印日志的 decorator。"
   ]
  },
  {
   "cell_type": "code",
   "execution_count": null,
   "metadata": {
    "collapsed": true
   },
   "outputs": [],
   "source": [
    "def log(func):\n",
    "    print('call {}'.format(func.__name__))"
   ]
  },
  {
   "cell_type": "code",
   "execution_count": null,
   "metadata": {
    "collapsed": true
   },
   "outputs": [],
   "source": [
    "log(now)"
   ]
  },
  {
   "cell_type": "code",
   "execution_count": null,
   "metadata": {
    "collapsed": true
   },
   "outputs": [],
   "source": [
    "是这样就显式调用了 log()，说白了是两个函数"
   ]
  },
  {
   "cell_type": "code",
   "execution_count": null,
   "metadata": {
    "collapsed": true
   },
   "outputs": [],
   "source": [
    "def log2(func):\n",
    "    def wrapper(*args, **kw):\n",
    "        print('call {}'.format(func.__name__))\n",
    "        return func(*args, **kw)\n",
    "    return wrapper"
   ]
  },
  {
   "cell_type": "code",
   "execution_count": null,
   "metadata": {
    "collapsed": true
   },
   "outputs": [],
   "source": [
    "now = log2(now)"
   ]
  },
  {
   "cell_type": "code",
   "execution_count": null,
   "metadata": {
    "collapsed": true
   },
   "outputs": [],
   "source": [
    "now()"
   ]
  },
  {
   "cell_type": "code",
   "execution_count": null,
   "metadata": {
    "collapsed": true
   },
   "outputs": [],
   "source": [
    "以上就实现了打印日志的 now() 函数,同时会调用 now() 函数实现功能。"
   ]
  },
  {
   "cell_type": "code",
   "execution_count": null,
   "metadata": {
    "collapsed": true
   },
   "outputs": [],
   "source": [
    "@log\n",
    "def now2():\n",
    "    print('2018/6/20')"
   ]
  },
  {
   "cell_type": "code",
   "execution_count": null,
   "metadata": {
    "collapsed": true
   },
   "outputs": [],
   "source": [
    "now2()"
   ]
  },
  {
   "cell_type": "markdown",
   "metadata": {},
   "source": [
    "注：@log 相当于执行语句：\n",
    "\n",
    "now = log(now)\n",
    "\n",
    "log()就是一个 decorator，它返回 wrapper() 函数，执行 @log 后，wrapper 赋值给 now，再次执行 now() 后，我们会执行 wrapper() 函数，打印日志，然后执行原来的 now() 函数。"
   ]
  },
  {
   "cell_type": "markdown",
   "metadata": {},
   "source": [
    "https://www.cnblogs.com/zxzhu/p/8455315.html"
   ]
  }
 ],
 "metadata": {
  "kernelspec": {
   "display_name": "Python 3",
   "language": "python",
   "name": "python3"
  },
  "language_info": {
   "codemirror_mode": {
    "name": "ipython",
    "version": 3
   },
   "file_extension": ".py",
   "mimetype": "text/x-python",
   "name": "python",
   "nbconvert_exporter": "python",
   "pygments_lexer": "ipython3",
   "version": "3.6.3"
  },
  "toc": {
   "base_numbering": 1,
   "nav_menu": {},
   "number_sections": false,
   "sideBar": true,
   "skip_h1_title": false,
   "title_cell": "Table of Contents",
   "title_sidebar": "Contents",
   "toc_cell": false,
   "toc_position": {},
   "toc_section_display": true,
   "toc_window_display": true
  }
 },
 "nbformat": 4,
 "nbformat_minor": 2
}
