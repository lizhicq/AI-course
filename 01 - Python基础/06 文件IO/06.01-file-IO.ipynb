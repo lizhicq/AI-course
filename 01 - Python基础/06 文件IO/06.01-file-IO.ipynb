{
 "cells": [
  {
   "cell_type": "markdown",
   "metadata": {},
   "source": [
    "# 1. IO编程\n",
    "\n",
    "IO在计算机中指Input/Output，也就是输入和输出。由于程序和运行时数据是在内存中驻留，由CPU这个超快的计算核心来执行，涉及到数据交换的地方，通常是磁盘、网络等，就需要IO接口。\n",
    "\n",
    "IO编程中，Stream（流）是一个很重要的概念，可以把流想象成一个水管，数据就是水管里的水，但是只能单向流动。Input Stream就是数据从外面（磁盘、网络）流进内存，Output Stream就是数据从内存流到外面去。对于浏览网页来说，浏览器和Web服务器之间至少需要建立两根水管，才可以既能发数据，又能收数据。\n",
    "\n",
    "\n",
    "由于CPU和内存的速度远远高于外设的速度，所以，在IO编程中，就存在速度严重不匹配的问题。举个例子来说，比如要把100M的数据写入磁盘，CPU输出100M的数据只需要0.01秒，可是磁盘要接收这100M数据可能需要10秒，怎么办呢？有两种办法：\n",
    "\n",
    "第一种是CPU等着，也就是程序暂停执行后续代码，等100M的数据在10秒后写入磁盘，再接着往下执行，这种模式称为同步IO；\n",
    "\n",
    "另一种方法是CPU不等待，只是告诉磁盘，“您老慢慢写，不着急，我接着干别的事去了”，于是，后续代码可以立刻接着执行，这种模式称为异步IO。"
   ]
  },
  {
   "cell_type": "markdown",
   "metadata": {},
   "source": [
    "## 1.1 文件读写"
   ]
  },
  {
   "cell_type": "markdown",
   "metadata": {},
   "source": [
    "### 1.1.1 写入测试文件："
   ]
  },
  {
   "cell_type": "code",
   "execution_count": 1,
   "metadata": {
    "scrolled": true
   },
   "outputs": [
    {
     "name": "stdout",
     "output_type": "stream",
     "text": [
      "Overwriting test.txt\n"
     ]
    }
   ],
   "source": [
    "%%writefile test.txt\n",
    "this is a test file.\n",
    "hello world!\n",
    "python is good!\n",
    "today is a good day."
   ]
  },
  {
   "cell_type": "markdown",
   "metadata": {},
   "source": [
    "### 1.1.2 读文件\n",
    "\n",
    "读写文件前，我们先必须了解一下，在磁盘上读写文件的功能都是由操作系统提供的，现代操作系统不允许普通的程序直接操作磁盘，所以，读写文件就是请求操作系统打开一个文件对象（通常称为文件描述符），然后，通过操作系统提供的接口从这个文件对象中读取数据（读文件），或者把数据写入这个文件对象（写文件）"
   ]
  },
  {
   "cell_type": "markdown",
   "metadata": {},
   "source": [
    "使用 `open` 函数来打开文件，使用文件名的字符串作为输入参数："
   ]
  },
  {
   "cell_type": "code",
   "execution_count": 2,
   "metadata": {
    "collapsed": true
   },
   "outputs": [],
   "source": [
    "f = open('test.txt')  # f = open('test.txt'， ‘r’)"
   ]
  },
  {
   "cell_type": "markdown",
   "metadata": {},
   "source": [
    "默认以读的方式打开文件，如果文件不存在会报错。"
   ]
  },
  {
   "cell_type": "markdown",
   "metadata": {},
   "source": [
    "可以使用 `read` 方法来读入文件中的所有内容："
   ]
  },
  {
   "cell_type": "code",
   "execution_count": 3,
   "metadata": {},
   "outputs": [
    {
     "name": "stdout",
     "output_type": "stream",
     "text": [
      "this is a test file.\n",
      "hello world!\n",
      "python is good!\n",
      "today is a good day.\n"
     ]
    }
   ],
   "source": [
    "text = f.read()\n",
    "print(text)"
   ]
  },
  {
   "cell_type": "markdown",
   "metadata": {},
   "source": [
    "使用完文件之后，需要将文件关闭。"
   ]
  },
  {
   "cell_type": "code",
   "execution_count": 4,
   "metadata": {
    "collapsed": true
   },
   "outputs": [],
   "source": [
    "f.close()"
   ]
  },
  {
   "cell_type": "markdown",
   "metadata": {},
   "source": [
    "也可以按照行读入内容，`readlines` 方法返回一个列表，每个元素代表文件中每一行的内容："
   ]
  },
  {
   "cell_type": "code",
   "execution_count": 5,
   "metadata": {
    "scrolled": true
   },
   "outputs": [
    {
     "name": "stdout",
     "output_type": "stream",
     "text": [
      "['this is a test file.\\n', 'hello world!\\n', 'python is good!\\n', 'today is a good day.']\n"
     ]
    }
   ],
   "source": [
    "f = open('test.txt')\n",
    "lines = f.readlines()\n",
    "print(lines)\n",
    "f.close()"
   ]
  },
  {
   "cell_type": "markdown",
   "metadata": {},
   "source": [
    "事实上，我们可以将 `f` 放在一个循环中，得到它每一行的内容："
   ]
  },
  {
   "cell_type": "code",
   "execution_count": 6,
   "metadata": {},
   "outputs": [
    {
     "name": "stdout",
     "output_type": "stream",
     "text": [
      "this is a test file.\n",
      "\n",
      "hello world!\n",
      "\n",
      "python is good!\n",
      "\n",
      "today is a good day.\n"
     ]
    }
   ],
   "source": [
    "f = open('test.txt')\n",
    "for line in f:\n",
    "    print(line)\n",
    "f.close()"
   ]
  },
  {
   "cell_type": "markdown",
   "metadata": {},
   "source": [
    "删除刚才创建的文件："
   ]
  },
  {
   "cell_type": "code",
   "execution_count": 7,
   "metadata": {
    "collapsed": true
   },
   "outputs": [],
   "source": [
    "import os\n",
    "os.remove('test.txt')"
   ]
  },
  {
   "cell_type": "markdown",
   "metadata": {},
   "source": [
    "### 1.1.3 写文件"
   ]
  },
  {
   "cell_type": "markdown",
   "metadata": {},
   "source": [
    "我们使用 `open` 函数的写入模式来写文件："
   ]
  },
  {
   "cell_type": "code",
   "execution_count": null,
   "metadata": {
    "collapsed": true
   },
   "outputs": [],
   "source": [
    "f = open('myfile.txt', 'w')\n",
    "f.write('hello world!')\n",
    "f.close()"
   ]
  },
  {
   "cell_type": "markdown",
   "metadata": {},
   "source": [
    "使用 `w` 模式时，如果文件不存在会被创建，我们可以查看是否真的写入成功："
   ]
  },
  {
   "cell_type": "code",
   "execution_count": null,
   "metadata": {
    "collapsed": true
   },
   "outputs": [],
   "source": [
    "print(open('myfile.txt').read())"
   ]
  },
  {
   "cell_type": "markdown",
   "metadata": {},
   "source": [
    "如果文件已经存在， `w` 模式会覆盖之前写的所有内容："
   ]
  },
  {
   "cell_type": "code",
   "execution_count": null,
   "metadata": {
    "collapsed": true
   },
   "outputs": [],
   "source": [
    "f = open('myfile.txt', 'w')\n",
    "f.write('another hello world!')\n",
    "f.close()\n",
    "print(open('myfile.txt').read())"
   ]
  },
  {
   "cell_type": "markdown",
   "metadata": {},
   "source": [
    "除了写入模式，还有追加模式 `a` ，追加模式不会覆盖之前已经写入的内容，而是在之后继续写入："
   ]
  },
  {
   "cell_type": "code",
   "execution_count": null,
   "metadata": {
    "collapsed": true
   },
   "outputs": [],
   "source": [
    "f = open('myfile.txt', 'a')\n",
    "f.write('... and more')\n",
    "f.close()\n",
    "print(open('myfile.txt').read())"
   ]
  },
  {
   "cell_type": "markdown",
   "metadata": {},
   "source": [
    "写入结束之后一定要将文件关闭，否则可能出现内容没有完全写入文件中的情况。\n",
    "\n",
    "还可以使用读写模式 `w+`："
   ]
  },
  {
   "cell_type": "code",
   "execution_count": null,
   "metadata": {
    "collapsed": true
   },
   "outputs": [],
   "source": [
    "f = open('myfile.txt', 'w+')\n",
    "f.write('hello world!')\n",
    "f.seek(6)\n",
    "print (f.read())\n",
    "f.close()"
   ]
  },
  {
   "cell_type": "markdown",
   "metadata": {},
   "source": [
    "这里 `f.seek(6)` 移动到文件的第6个字符处，然后 `f.read()` 读出剩下的内容。"
   ]
  },
  {
   "cell_type": "code",
   "execution_count": null,
   "metadata": {
    "collapsed": true
   },
   "outputs": [],
   "source": [
    "import os\n",
    "os.remove('myfile.txt')"
   ]
  },
  {
   "cell_type": "markdown",
   "metadata": {},
   "source": [
    "### 1.1.4  二进制文件"
   ]
  },
  {
   "cell_type": "markdown",
   "metadata": {},
   "source": [
    "二进制读写模式 wb："
   ]
  },
  {
   "cell_type": "code",
   "execution_count": 19,
   "metadata": {
    "scrolled": false
   },
   "outputs": [
    {
     "name": "stdout",
     "output_type": "stream",
     "text": [
      "b'\\xfaA\\xf5\\x98'\n"
     ]
    }
   ],
   "source": [
    "import os\n",
    "f = open('binary.bin', 'wb')\n",
    "f.write(os.urandom(4))  #随机生成n个字节的串\n",
    "f.close()\n",
    "\n",
    "f = open('binary.bin', 'rb')\n",
    "result = repr(f.read())\n",
    "print(result)   # repr()  返回一个对象的 string 格式 (字节字符串格式，而非文本字符串)\n",
    "#print(f.read())\n",
    "f.close()"
   ]
  },
  {
   "cell_type": "code",
   "execution_count": null,
   "metadata": {
    "collapsed": true
   },
   "outputs": [],
   "source": [
    "import os\n",
    "os.remove('binary.bin')"
   ]
  },
  {
   "cell_type": "markdown",
   "metadata": {},
   "source": [
    "如果想从二进制模式的文件中读取或写入文本数据，必须确保要进行解码和编码操作。"
   ]
  },
  {
   "cell_type": "code",
   "execution_count": 22,
   "metadata": {},
   "outputs": [
    {
     "name": "stdout",
     "output_type": "stream",
     "text": [
      "Hello World\n"
     ]
    }
   ],
   "source": [
    "with open('somefile.bin', 'wb') as f:\n",
    "    text = 'Hello World'\n",
    "    f.write(text.encode('utf-8'))\n",
    "\n",
    "with open('somefile.bin', 'rb') as f:\n",
    "    data = f.read(16)\n",
    "    text = data.decode('utf-8')\n",
    "    print(text)"
   ]
  },
  {
   "cell_type": "markdown",
   "metadata": {},
   "source": [
    "### 1.1.5 字符编码\n",
    "\n",
    "要读取非UTF-8编码的文本文件，需要给open()函数传入encoding参数，例如，读取GBK编码的文件："
   ]
  },
  {
   "cell_type": "code",
   "execution_count": null,
   "metadata": {
    "collapsed": true
   },
   "outputs": [],
   "source": [
    "f = open('gbk.txt', 'r', encoding='gbk')\n"
   ]
  },
  {
   "cell_type": "markdown",
   "metadata": {},
   "source": [
    "遇到有些编码不规范的文件，你可能会遇到UnicodeDecodeError，因为在文本文件中可能夹杂了一些非法编码的字符。遇到这种情况，open()函数还接收一个errors参数，表示如果遇到编码错误后如何处理。最简单的方式是直接忽略：\n",
    "\n",
    "f = open('gbk.txt', 'r', encoding='gbk', errors='ignore')"
   ]
  },
  {
   "cell_type": "markdown",
   "metadata": {},
   "source": [
    "### 1.1.6 关闭文件"
   ]
  },
  {
   "cell_type": "markdown",
   "metadata": {},
   "source": [
    "在**Python**中，如果一个打开的文件不再被其他变量引用时，它会自动关闭这个文件。\n",
    "\n",
    "所以正常情况下，如果一个文件正常被关闭了，忘记调用文件的 `close` 方法不会有什么问题。\n",
    "\n",
    "关闭文件可以保证内容已经被写入文件，而不关闭可能会出现意想不到的结果："
   ]
  },
  {
   "cell_type": "code",
   "execution_count": 23,
   "metadata": {},
   "outputs": [
    {
     "name": "stdout",
     "output_type": "stream",
     "text": [
      "''\n"
     ]
    }
   ],
   "source": [
    "f = open('newfile.txt','w')\n",
    "f.write('hello world')\n",
    "g = open('newfile.txt', 'r')\n",
    "print(repr(g.read()))"
   ]
  },
  {
   "cell_type": "markdown",
   "metadata": {},
   "source": [
    "虽然这里写了内容，但是在关闭之前，这个内容并没有被写入磁盘。\n",
    "\n",
    "使用循环写入的内容也并不完整："
   ]
  },
  {
   "cell_type": "code",
   "execution_count": null,
   "metadata": {},
   "outputs": [],
   "source": [
    "f = open('newfile.txt','w')\n",
    "for i in range(3000):\n",
    "    f.write('hello world: ' + str(i) + '\\n')\n",
    "\n",
    "g = open('newfile.txt', 'r')\n",
    "print (g.read())\n",
    "f.close()\n",
    "g.close()"
   ]
  },
  {
   "cell_type": "code",
   "execution_count": 25,
   "metadata": {
    "collapsed": true
   },
   "outputs": [],
   "source": [
    "import os\n",
    "os.remove('newfile.txt')"
   ]
  },
  {
   "cell_type": "markdown",
   "metadata": {},
   "source": [
    "出现异常时候的读写："
   ]
  },
  {
   "cell_type": "code",
   "execution_count": 26,
   "metadata": {},
   "outputs": [
    {
     "ename": "ZeroDivisionError",
     "evalue": "float division by zero",
     "output_type": "error",
     "traceback": [
      "\u001b[1;31m---------------------------------------------------------------------------\u001b[0m",
      "\u001b[1;31mZeroDivisionError\u001b[0m                         Traceback (most recent call last)",
      "\u001b[1;32m<ipython-input-26-8dc1cc9b29ec>\u001b[0m in \u001b[0;36m<module>\u001b[1;34m()\u001b[0m\n\u001b[0;32m      1\u001b[0m \u001b[0mf\u001b[0m \u001b[1;33m=\u001b[0m \u001b[0mopen\u001b[0m\u001b[1;33m(\u001b[0m\u001b[1;34m'newfile.txt'\u001b[0m\u001b[1;33m,\u001b[0m\u001b[1;34m'w'\u001b[0m\u001b[1;33m)\u001b[0m\u001b[1;33m\u001b[0m\u001b[0m\n\u001b[0;32m      2\u001b[0m \u001b[1;32mfor\u001b[0m \u001b[0mi\u001b[0m \u001b[1;32min\u001b[0m \u001b[0mrange\u001b[0m\u001b[1;33m(\u001b[0m\u001b[1;36m3000\u001b[0m\u001b[1;33m)\u001b[0m\u001b[1;33m:\u001b[0m\u001b[1;33m\u001b[0m\u001b[0m\n\u001b[1;32m----> 3\u001b[1;33m     \u001b[0mx\u001b[0m \u001b[1;33m=\u001b[0m \u001b[1;36m1.0\u001b[0m \u001b[1;33m/\u001b[0m \u001b[1;33m(\u001b[0m\u001b[0mi\u001b[0m \u001b[1;33m-\u001b[0m \u001b[1;36m1000\u001b[0m\u001b[1;33m)\u001b[0m\u001b[1;33m\u001b[0m\u001b[0m\n\u001b[0m\u001b[0;32m      4\u001b[0m     \u001b[0mf\u001b[0m\u001b[1;33m.\u001b[0m\u001b[0mwrite\u001b[0m\u001b[1;33m(\u001b[0m\u001b[1;34m'hello world: '\u001b[0m \u001b[1;33m+\u001b[0m \u001b[0mstr\u001b[0m\u001b[1;33m(\u001b[0m\u001b[0mi\u001b[0m\u001b[1;33m)\u001b[0m \u001b[1;33m+\u001b[0m \u001b[1;34m'\\n'\u001b[0m\u001b[1;33m)\u001b[0m\u001b[1;33m\u001b[0m\u001b[0m\n",
      "\u001b[1;31mZeroDivisionError\u001b[0m: float division by zero"
     ]
    }
   ],
   "source": [
    "f = open('newfile.txt','w')\n",
    "for i in range(3000):\n",
    "    x = 1.0 / (i - 1000)\n",
    "    f.write('hello world: ' + str(i) + '\\n')"
   ]
  },
  {
   "cell_type": "markdown",
   "metadata": {},
   "source": [
    "查看已有内容："
   ]
  },
  {
   "cell_type": "code",
   "execution_count": null,
   "metadata": {},
   "outputs": [],
   "source": [
    "g = open('newfile.txt', 'r')\n",
    "print (g.read())\n",
    "f.close()\n",
    "g.close()"
   ]
  },
  {
   "cell_type": "markdown",
   "metadata": {},
   "source": [
    "可以看到，出现异常的时候，磁盘的写入并没有完成，为此我们可以使用 `try/except/finally` 块来关闭文件，这里 `finally` 确保关闭文件，所有的写入已经完成。"
   ]
  },
  {
   "cell_type": "code",
   "execution_count": 31,
   "metadata": {},
   "outputs": [
    {
     "name": "stdout",
     "output_type": "stream",
     "text": [
      "something bad happened\n"
     ]
    }
   ],
   "source": [
    "f = open('newfile.txt','w')\n",
    "try:\n",
    "    for i in range(3000):\n",
    "        x = 1.0 / (i - 1000)\n",
    "        f.write('hello world: ' + str(i) + '\\n')\n",
    "except Exception:\n",
    "    print(\"something bad happened\")\n",
    "finally:\n",
    "    f.close()"
   ]
  },
  {
   "cell_type": "code",
   "execution_count": 32,
   "metadata": {},
   "outputs": [
    {
     "name": "stdout",
     "output_type": "stream",
     "text": [
      "hello world: 0\n",
      "hello world: 1\n",
      "hello world: 2\n",
      "hello world: 3\n",
      "hello world: 4\n",
      "hello world: 5\n",
      "hello world: 6\n",
      "hello world: 7\n",
      "hello world: 8\n",
      "hello world: 9\n",
      "hello world: 10\n",
      "hello world: 11\n",
      "hello world: 12\n",
      "hello world: 13\n",
      "hello world: 14\n",
      "hello world: 15\n",
      "hello world: 16\n",
      "hello world: 17\n",
      "hello world: 18\n",
      "hello world: 19\n",
      "hello world: 20\n",
      "hello world: 21\n",
      "hello world: 22\n",
      "hello world: 23\n",
      "hello world: 24\n",
      "hello world: 25\n",
      "hello world: 26\n",
      "hello world: 27\n",
      "hello world: 28\n",
      "hello world: 29\n",
      "hello world: 30\n",
      "hello world: 31\n",
      "hello world: 32\n",
      "hello world: 33\n",
      "hello world: 34\n",
      "hello world: 35\n",
      "hello world: 36\n",
      "hello world: 37\n",
      "hello world: 38\n",
      "hello world: 39\n",
      "hello world: 40\n",
      "hello world: 41\n",
      "hello world: 42\n",
      "hello world: 43\n",
      "hello world: 44\n",
      "hello world: 45\n",
      "hello world: 46\n",
      "hello world: 47\n",
      "hello world: 48\n",
      "hello world: 49\n",
      "hello world: 50\n",
      "hello world: 51\n",
      "hello world: 52\n",
      "hello world: 53\n",
      "hello world: 54\n",
      "hello world: 55\n",
      "hello world: 56\n",
      "hello world: 57\n",
      "hello world: 58\n",
      "hello world: 59\n",
      "hello world: 60\n",
      "hello world: 61\n",
      "hello world: 62\n",
      "hello world: 63\n",
      "hello world: 64\n",
      "hello world: 65\n",
      "hello world: 66\n",
      "hello world: 67\n",
      "hello world: 68\n",
      "hello world: 69\n",
      "hello world: 70\n",
      "hello world: 71\n",
      "hello world: 72\n",
      "hello world: 73\n",
      "hello world: 74\n",
      "hello world: 75\n",
      "hello world: 76\n",
      "hello world: 77\n",
      "hello world: 78\n",
      "hello world: 79\n",
      "hello world: 80\n",
      "hello world: 81\n",
      "hello world: 82\n",
      "hello world: 83\n",
      "hello world: 84\n",
      "hello world: 85\n",
      "hello world: 86\n",
      "hello world: 87\n",
      "hello world: 88\n",
      "hello world: 89\n",
      "hello world: 90\n",
      "hello world: 91\n",
      "hello world: 92\n",
      "hello world: 93\n",
      "hello world: 94\n",
      "hello world: 95\n",
      "hello world: 96\n",
      "hello world: 97\n",
      "hello world: 98\n",
      "hello world: 99\n",
      "hello world: 100\n",
      "hello world: 101\n",
      "hello world: 102\n",
      "hello world: 103\n",
      "hello world: 104\n",
      "hello world: 105\n",
      "hello world: 106\n",
      "hello world: 107\n",
      "hello world: 108\n",
      "hello world: 109\n",
      "hello world: 110\n",
      "hello world: 111\n",
      "hello world: 112\n",
      "hello world: 113\n",
      "hello world: 114\n",
      "hello world: 115\n",
      "hello world: 116\n",
      "hello world: 117\n",
      "hello world: 118\n",
      "hello world: 119\n",
      "hello world: 120\n",
      "hello world: 121\n",
      "hello world: 122\n",
      "hello world: 123\n",
      "hello world: 124\n",
      "hello world: 125\n",
      "hello world: 126\n",
      "hello world: 127\n",
      "hello world: 128\n",
      "hello world: 129\n",
      "hello world: 130\n",
      "hello world: 131\n",
      "hello world: 132\n",
      "hello world: 133\n",
      "hello world: 134\n",
      "hello world: 135\n",
      "hello world: 136\n",
      "hello world: 137\n",
      "hello world: 138\n",
      "hello world: 139\n",
      "hello world: 140\n",
      "hello world: 141\n",
      "hello world: 142\n",
      "hello world: 143\n",
      "hello world: 144\n",
      "hello world: 145\n",
      "hello world: 146\n",
      "hello world: 147\n",
      "hello world: 148\n",
      "hello world: 149\n",
      "hello world: 150\n",
      "hello world: 151\n",
      "hello world: 152\n",
      "hello world: 153\n",
      "hello world: 154\n",
      "hello world: 155\n",
      "hello world: 156\n",
      "hello world: 157\n",
      "hello world: 158\n",
      "hello world: 159\n",
      "hello world: 160\n",
      "hello world: 161\n",
      "hello world: 162\n",
      "hello world: 163\n",
      "hello world: 164\n",
      "hello world: 165\n",
      "hello world: 166\n",
      "hello world: 167\n",
      "hello world: 168\n",
      "hello world: 169\n",
      "hello world: 170\n",
      "hello world: 171\n",
      "hello world: 172\n",
      "hello world: 173\n",
      "hello world: 174\n",
      "hello world: 175\n",
      "hello world: 176\n",
      "hello world: 177\n",
      "hello world: 178\n",
      "hello world: 179\n",
      "hello world: 180\n",
      "hello world: 181\n",
      "hello world: 182\n",
      "hello world: 183\n",
      "hello world: 184\n",
      "hello world: 185\n",
      "hello world: 186\n",
      "hello world: 187\n",
      "hello world: 188\n",
      "hello world: 189\n",
      "hello world: 190\n",
      "hello world: 191\n",
      "hello world: 192\n",
      "hello world: 193\n",
      "hello world: 194\n",
      "hello world: 195\n",
      "hello world: 196\n",
      "hello world: 197\n",
      "hello world: 198\n",
      "hello world: 199\n",
      "hello world: 200\n",
      "hello world: 201\n",
      "hello world: 202\n",
      "hello world: 203\n",
      "hello world: 204\n",
      "hello world: 205\n",
      "hello world: 206\n",
      "hello world: 207\n",
      "hello world: 208\n",
      "hello world: 209\n",
      "hello world: 210\n",
      "hello world: 211\n",
      "hello world: 212\n",
      "hello world: 213\n",
      "hello world: 214\n",
      "hello world: 215\n",
      "hello world: 216\n",
      "hello world: 217\n",
      "hello world: 218\n",
      "hello world: 219\n",
      "hello world: 220\n",
      "hello world: 221\n",
      "hello world: 222\n",
      "hello world: 223\n",
      "hello world: 224\n",
      "hello world: 225\n",
      "hello world: 226\n",
      "hello world: 227\n",
      "hello world: 228\n",
      "hello world: 229\n",
      "hello world: 230\n",
      "hello world: 231\n",
      "hello world: 232\n",
      "hello world: 233\n",
      "hello world: 234\n",
      "hello world: 235\n",
      "hello world: 236\n",
      "hello world: 237\n",
      "hello world: 238\n",
      "hello world: 239\n",
      "hello world: 240\n",
      "hello world: 241\n",
      "hello world: 242\n",
      "hello world: 243\n",
      "hello world: 244\n",
      "hello world: 245\n",
      "hello world: 246\n",
      "hello world: 247\n",
      "hello world: 248\n",
      "hello world: 249\n",
      "hello world: 250\n",
      "hello world: 251\n",
      "hello world: 252\n",
      "hello world: 253\n",
      "hello world: 254\n",
      "hello world: 255\n",
      "hello world: 256\n",
      "hello world: 257\n",
      "hello world: 258\n",
      "hello world: 259\n",
      "hello world: 260\n",
      "hello world: 261\n",
      "hello world: 262\n",
      "hello world: 263\n",
      "hello world: 264\n",
      "hello world: 265\n",
      "hello world: 266\n",
      "hello world: 267\n",
      "hello world: 268\n",
      "hello world: 269\n",
      "hello world: 270\n",
      "hello world: 271\n",
      "hello world: 272\n",
      "hello world: 273\n",
      "hello world: 274\n",
      "hello world: 275\n",
      "hello world: 276\n",
      "hello world: 277\n",
      "hello world: 278\n",
      "hello world: 279\n",
      "hello world: 280\n",
      "hello world: 281\n",
      "hello world: 282\n",
      "hello world: 283\n",
      "hello world: 284\n",
      "hello world: 285\n",
      "hello world: 286\n",
      "hello world: 287\n",
      "hello world: 288\n",
      "hello world: 289\n",
      "hello world: 290\n",
      "hello world: 291\n",
      "hello world: 292\n",
      "hello world: 293\n",
      "hello world: 294\n",
      "hello world: 295\n",
      "hello world: 296\n",
      "hello world: 297\n",
      "hello world: 298\n",
      "hello world: 299\n",
      "hello world: 300\n",
      "hello world: 301\n",
      "hello world: 302\n",
      "hello world: 303\n",
      "hello world: 304\n",
      "hello world: 305\n",
      "hello world: 306\n",
      "hello world: 307\n",
      "hello world: 308\n",
      "hello world: 309\n",
      "hello world: 310\n",
      "hello world: 311\n",
      "hello world: 312\n",
      "hello world: 313\n",
      "hello world: 314\n",
      "hello world: 315\n",
      "hello world: 316\n",
      "hello world: 317\n",
      "hello world: 318\n",
      "hello world: 319\n",
      "hello world: 320\n",
      "hello world: 321\n",
      "hello world: 322\n",
      "hello world: 323\n",
      "hello world: 324\n",
      "hello world: 325\n",
      "hello world: 326\n",
      "hello world: 327\n",
      "hello world: 328\n",
      "hello world: 329\n",
      "hello world: 330\n",
      "hello world: 331\n",
      "hello world: 332\n",
      "hello world: 333\n",
      "hello world: 334\n",
      "hello world: 335\n",
      "hello world: 336\n",
      "hello world: 337\n",
      "hello world: 338\n",
      "hello world: 339\n",
      "hello world: 340\n",
      "hello world: 341\n",
      "hello world: 342\n",
      "hello world: 343\n",
      "hello world: 344\n",
      "hello world: 345\n",
      "hello world: 346\n",
      "hello world: 347\n",
      "hello world: 348\n",
      "hello world: 349\n",
      "hello world: 350\n",
      "hello world: 351\n",
      "hello world: 352\n",
      "hello world: 353\n",
      "hello world: 354\n",
      "hello world: 355\n",
      "hello world: 356\n",
      "hello world: 357\n",
      "hello world: 358\n",
      "hello world: 359\n",
      "hello world: 360\n",
      "hello world: 361\n",
      "hello world: 362\n",
      "hello world: 363\n",
      "hello world: 364\n",
      "hello world: 365\n",
      "hello world: 366\n",
      "hello world: 367\n",
      "hello world: 368\n",
      "hello world: 369\n",
      "hello world: 370\n",
      "hello world: 371\n",
      "hello world: 372\n",
      "hello world: 373\n",
      "hello world: 374\n",
      "hello world: 375\n",
      "hello world: 376\n",
      "hello world: 377\n",
      "hello world: 378\n",
      "hello world: 379\n",
      "hello world: 380\n",
      "hello world: 381\n",
      "hello world: 382\n",
      "hello world: 383\n",
      "hello world: 384\n",
      "hello world: 385\n",
      "hello world: 386\n",
      "hello world: 387\n",
      "hello world: 388\n",
      "hello world: 389\n",
      "hello world: 390\n",
      "hello world: 391\n",
      "hello world: 392\n",
      "hello world: 393\n",
      "hello world: 394\n",
      "hello world: 395\n",
      "hello world: 396\n",
      "hello world: 397\n",
      "hello world: 398\n",
      "hello world: 399\n",
      "hello world: 400\n",
      "hello world: 401\n",
      "hello world: 402\n",
      "hello world: 403\n",
      "hello world: 404\n",
      "hello world: 405\n",
      "hello world: 406\n",
      "hello world: 407\n",
      "hello world: 408\n",
      "hello world: 409\n",
      "hello world: 410\n",
      "hello world: 411\n",
      "hello world: 412\n",
      "hello world: 413\n",
      "hello world: 414\n",
      "hello world: 415\n",
      "hello world: 416\n",
      "hello world: 417\n",
      "hello world: 418\n",
      "hello world: 419\n",
      "hello world: 420\n",
      "hello world: 421\n",
      "hello world: 422\n",
      "hello world: 423\n",
      "hello world: 424\n",
      "hello world: 425\n",
      "hello world: 426\n",
      "hello world: 427\n",
      "hello world: 428\n",
      "hello world: 429\n",
      "hello world: 430\n",
      "hello world: 431\n",
      "hello world: 432\n",
      "hello world: 433\n",
      "hello world: 434\n",
      "hello world: 435\n",
      "hello world: 436\n",
      "hello world: 437\n",
      "hello world: 438\n",
      "hello world: 439\n",
      "hello world: 440\n",
      "hello world: 441\n",
      "hello world: 442\n",
      "hello world: 443\n",
      "hello world: 444\n",
      "hello world: 445\n",
      "hello world: 446\n",
      "hello world: 447\n",
      "hello world: 448\n",
      "hello world: 449\n",
      "hello world: 450\n",
      "hello world: 451\n",
      "hello world: 452\n",
      "hello world: 453\n",
      "hello world: 454\n",
      "hello world: 455\n",
      "hello world: 456\n",
      "hello world: 457\n",
      "hello world: 458\n",
      "hello world: 459\n",
      "hello world: 460\n",
      "hello world: 461\n",
      "hello world: 462\n",
      "hello world: 463\n",
      "hello world: 464\n",
      "hello world: 465\n",
      "hello world: 466\n",
      "hello world: 467\n",
      "hello world: 468\n",
      "hello world: 469\n",
      "hello world: 470\n",
      "hello world: 471\n",
      "hello world: 472\n",
      "hello world: 473\n",
      "hello world: 474\n",
      "hello world: 475\n",
      "hello world: 476\n",
      "hello world: 477\n",
      "hello world: 478\n",
      "hello world: 479\n",
      "hello world: 480\n",
      "hello world: 481\n",
      "hello world: 482\n",
      "hello world: 483\n",
      "hello world: 484\n",
      "hello world: 485\n",
      "hello world: 486\n",
      "hello world: 487\n",
      "hello world: 488\n",
      "hello world: 489\n",
      "hello world: 490\n",
      "hello world: 491\n",
      "hello world: 492\n",
      "hello world: 493\n",
      "hello world: 494\n",
      "hello world: 495\n",
      "hello world: 496\n",
      "hello world: 497\n",
      "hello world: 498\n",
      "hello world: 499\n",
      "hello world: 500\n",
      "hello world: 501\n",
      "hello world: 502\n",
      "hello world: 503\n",
      "hello world: 504\n",
      "hello world: 505\n",
      "hello world: 506\n",
      "hello world: 507\n",
      "hello world: 508\n",
      "hello world: 509\n",
      "hello world: 510\n",
      "hello world: 511\n",
      "hello world: 512\n",
      "hello world: 513\n",
      "hello world: 514\n",
      "hello world: 515\n",
      "hello world: 516\n",
      "hello world: 517\n",
      "hello world: 518\n",
      "hello world: 519\n",
      "hello world: 520\n",
      "hello world: 521\n",
      "hello world: 522\n",
      "hello world: 523\n",
      "hello world: 524\n",
      "hello world: 525\n",
      "hello world: 526\n",
      "hello world: 527\n",
      "hello world: 528\n",
      "hello world: 529\n",
      "hello world: 530\n",
      "hello world: 531\n",
      "hello world: 532\n",
      "hello world: 533\n",
      "hello world: 534\n",
      "hello world: 535\n",
      "hello world: 536\n",
      "hello world: 537\n",
      "hello world: 538\n",
      "hello world: 539\n",
      "hello world: 540\n",
      "hello world: 541\n",
      "hello world: 542\n",
      "hello world: 543\n",
      "hello world: 544\n",
      "hello world: 545\n",
      "hello world: 546\n",
      "hello world: 547\n",
      "hello world: 548\n",
      "hello world: 549\n",
      "hello world: 550\n",
      "hello world: 551\n",
      "hello world: 552\n",
      "hello world: 553\n",
      "hello world: 554\n",
      "hello world: 555\n",
      "hello world: 556\n",
      "hello world: 557\n",
      "hello world: 558\n",
      "hello world: 559\n",
      "hello world: 560\n",
      "hello world: 561\n",
      "hello world: 562\n",
      "hello world: 563\n",
      "hello world: 564\n",
      "hello world: 565\n",
      "hello world: 566\n",
      "hello world: 567\n",
      "hello world: 568\n",
      "hello world: 569\n",
      "hello world: 570\n",
      "hello world: 571\n",
      "hello world: 572\n",
      "hello world: 573\n",
      "hello world: 574\n",
      "hello world: 575\n",
      "hello world: 576\n",
      "hello world: 577\n",
      "hello world: 578\n",
      "hello world: 579\n",
      "hello world: 580\n",
      "hello world: 581\n",
      "hello world: 582\n",
      "hello world: 583\n",
      "hello world: 584\n",
      "hello world: 585\n",
      "hello world: 586\n",
      "hello world: 587\n",
      "hello world: 588\n",
      "hello world: 589\n",
      "hello world: 590\n",
      "hello world: 591\n",
      "hello world: 592\n",
      "hello world: 593\n",
      "hello world: 594\n",
      "hello world: 595\n",
      "hello world: 596\n",
      "hello world: 597\n",
      "hello world: 598\n",
      "hello world: 599\n",
      "hello world: 600\n",
      "hello world: 601\n",
      "hello world: 602\n",
      "hello world: 603\n",
      "hello world: 604\n",
      "hello world: 605\n",
      "hello world: 606\n",
      "hello world: 607\n",
      "hello world: 608\n",
      "hello world: 609\n",
      "hello world: 610\n",
      "hello world: 611\n",
      "hello world: 612\n",
      "hello world: 613\n",
      "hello world: 614\n",
      "hello world: 615\n",
      "hello world: 616\n",
      "hello world: 617\n",
      "hello world: 618\n",
      "hello world: 619\n",
      "hello world: 620\n",
      "hello world: 621\n",
      "hello world: 622\n",
      "hello world: 623\n",
      "hello world: 624\n",
      "hello world: 625\n",
      "hello world: 626\n",
      "hello world: 627\n",
      "hello world: 628\n",
      "hello world: 629\n",
      "hello world: 630\n",
      "hello world: 631\n",
      "hello world: 632\n",
      "hello world: 633\n",
      "hello world: 634\n",
      "hello world: 635\n",
      "hello world: 636\n",
      "hello world: 637\n",
      "hello world: 638\n",
      "hello world: 639\n",
      "hello world: 640\n",
      "hello world: 641\n",
      "hello world: 642\n",
      "hello world: 643\n",
      "hello world: 644\n",
      "hello world: 645\n",
      "hello world: 646\n",
      "hello world: 647\n",
      "hello world: 648\n",
      "hello world: 649\n",
      "hello world: 650\n",
      "hello world: 651\n",
      "hello world: 652\n",
      "hello world: 653\n",
      "hello world: 654\n",
      "hello world: 655\n",
      "hello world: 656\n",
      "hello world: 657\n",
      "hello world: 658\n",
      "hello world: 659\n",
      "hello world: 660\n",
      "hello world: 661\n",
      "hello world: 662\n",
      "hello world: 663\n",
      "hello world: 664\n",
      "hello world: 665\n",
      "hello world: 666\n",
      "hello world: 667\n",
      "hello world: 668\n",
      "hello world: 669\n",
      "hello world: 670\n",
      "hello world: 671\n",
      "hello world: 672\n",
      "hello world: 673\n",
      "hello world: 674\n",
      "hello world: 675\n",
      "hello world: 676\n",
      "hello world: 677\n",
      "hello world: 678\n",
      "hello world: 679\n",
      "hello world: 680\n",
      "hello world: 681\n",
      "hello world: 682\n",
      "hello world: 683\n",
      "hello world: 684\n",
      "hello world: 685\n",
      "hello world: 686\n",
      "hello world: 687\n",
      "hello world: 688\n",
      "hello world: 689\n",
      "hello world: 690\n",
      "hello world: 691\n",
      "hello world: 692\n",
      "hello world: 693\n",
      "hello world: 694\n",
      "hello world: 695\n",
      "hello world: 696\n",
      "hello world: 697\n",
      "hello world: 698\n",
      "hello world: 699\n",
      "hello world: 700\n",
      "hello world: 701\n",
      "hello world: 702\n",
      "hello world: 703\n",
      "hello world: 704\n",
      "hello world: 705\n",
      "hello world: 706\n",
      "hello world: 707\n",
      "hello world: 708\n",
      "hello world: 709\n",
      "hello world: 710\n",
      "hello world: 711\n",
      "hello world: 712\n",
      "hello world: 713\n",
      "hello world: 714\n",
      "hello world: 715\n",
      "hello world: 716\n",
      "hello world: 717\n",
      "hello world: 718\n",
      "hello world: 719\n",
      "hello world: 720\n",
      "hello world: 721\n",
      "hello world: 722\n",
      "hello world: 723\n",
      "hello world: 724\n",
      "hello world: 725\n",
      "hello world: 726\n",
      "hello world: 727\n",
      "hello world: 728\n",
      "hello world: 729\n",
      "hello world: 730\n",
      "hello world: 731\n",
      "hello world: 732\n",
      "hello world: 733\n",
      "hello world: 734\n",
      "hello world: 735\n",
      "hello world: 736\n",
      "hello world: 737\n",
      "hello world: 738\n",
      "hello world: 739\n",
      "hello world: 740\n",
      "hello world: 741\n",
      "hello world: 742\n",
      "hello world: 743\n",
      "hello world: 744\n",
      "hello world: 745\n",
      "hello world: 746\n",
      "hello world: 747\n",
      "hello world: 748\n",
      "hello world: 749\n",
      "hello world: 750\n",
      "hello world: 751\n",
      "hello world: 752\n",
      "hello world: 753\n",
      "hello world: 754\n",
      "hello world: 755\n",
      "hello world: 756\n",
      "hello world: 757\n",
      "hello world: 758\n",
      "hello world: 759\n",
      "hello world: 760\n",
      "hello world: 761\n",
      "hello world: 762\n",
      "hello world: 763\n",
      "hello world: 764\n",
      "hello world: 765\n",
      "hello world: 766\n",
      "hello world: 767\n",
      "hello world: 768\n",
      "hello world: 769\n",
      "hello world: 770\n",
      "hello world: 771\n",
      "hello world: 772\n",
      "hello world: 773\n",
      "hello world: 774\n",
      "hello world: 775\n",
      "hello world: 776\n",
      "hello world: 777\n",
      "hello world: 778\n",
      "hello world: 779\n",
      "hello world: 780\n",
      "hello world: 781\n",
      "hello world: 782\n",
      "hello world: 783\n",
      "hello world: 784\n",
      "hello world: 785\n",
      "hello world: 786\n",
      "hello world: 787\n",
      "hello world: 788\n",
      "hello world: 789\n",
      "hello world: 790\n",
      "hello world: 791\n",
      "hello world: 792\n",
      "hello world: 793\n",
      "hello world: 794\n",
      "hello world: 795\n",
      "hello world: 796\n",
      "hello world: 797\n",
      "hello world: 798\n",
      "hello world: 799\n",
      "hello world: 800\n",
      "hello world: 801\n",
      "hello world: 802\n",
      "hello world: 803\n",
      "hello world: 804\n",
      "hello world: 805\n",
      "hello world: 806\n",
      "hello world: 807\n",
      "hello world: 808\n",
      "hello world: 809\n",
      "hello world: 810\n",
      "hello world: 811\n",
      "hello world: 812\n",
      "hello world: 813\n",
      "hello world: 814\n",
      "hello world: 815\n",
      "hello world: 816\n",
      "hello world: 817\n",
      "hello world: 818\n",
      "hello world: 819\n",
      "hello world: 820\n",
      "hello world: 821\n",
      "hello world: 822\n",
      "hello world: 823\n",
      "hello world: 824\n",
      "hello world: 825\n",
      "hello world: 826\n",
      "hello world: 827\n",
      "hello world: 828\n",
      "hello world: 829\n",
      "hello world: 830\n",
      "hello world: 831\n",
      "hello world: 832\n",
      "hello world: 833\n",
      "hello world: 834\n",
      "hello world: 835\n",
      "hello world: 836\n",
      "hello world: 837\n",
      "hello world: 838\n",
      "hello world: 839\n",
      "hello world: 840\n",
      "hello world: 841\n",
      "hello world: 842\n",
      "hello world: 843\n",
      "hello world: 844\n",
      "hello world: 845\n",
      "hello world: 846\n",
      "hello world: 847\n",
      "hello world: 848\n",
      "hello world: 849\n",
      "hello world: 850\n",
      "hello world: 851\n",
      "hello world: 852\n",
      "hello world: 853\n",
      "hello world: 854\n",
      "hello world: 855\n",
      "hello world: 856\n",
      "hello world: 857\n",
      "hello world: 858\n",
      "hello world: 859\n",
      "hello world: 860\n",
      "hello world: 861\n",
      "hello world: 862\n",
      "hello world: 863\n",
      "hello world: 864\n",
      "hello world: 865\n",
      "hello world: 866\n",
      "hello world: 867\n",
      "hello world: 868\n",
      "hello world: 869\n",
      "hello world: 870\n",
      "hello world: 871\n",
      "hello world: 872\n",
      "hello world: 873\n",
      "hello world: 874\n",
      "hello world: 875\n",
      "hello world: 876\n",
      "hello world: 877\n",
      "hello world: 878\n",
      "hello world: 879\n",
      "hello world: 880\n",
      "hello world: 881\n",
      "hello world: 882\n",
      "hello world: 883\n",
      "hello world: 884\n",
      "hello world: 885\n",
      "hello world: 886\n",
      "hello world: 887\n",
      "hello world: 888\n",
      "hello world: 889\n",
      "hello world: 890\n",
      "hello world: 891\n",
      "hello world: 892\n",
      "hello world: 893\n",
      "hello world: 894\n",
      "hello world: 895\n",
      "hello world: 896\n",
      "hello world: 897\n",
      "hello world: 898\n",
      "hello world: 899\n",
      "hello world: 900\n",
      "hello world: 901\n",
      "hello world: 902\n",
      "hello world: 903\n",
      "hello world: 904\n",
      "hello world: 905\n",
      "hello world: 906\n",
      "hello world: 907\n",
      "hello world: 908\n",
      "hello world: 909\n",
      "hello world: 910\n",
      "hello world: 911\n",
      "hello world: 912\n",
      "hello world: 913\n",
      "hello world: 914\n",
      "hello world: 915\n",
      "hello world: 916\n",
      "hello world: 917\n",
      "hello world: 918\n",
      "hello world: 919\n",
      "hello world: 920\n",
      "hello world: 921\n",
      "hello world: 922\n",
      "hello world: 923\n",
      "hello world: 924\n",
      "hello world: 925\n",
      "hello world: 926\n",
      "hello world: 927\n",
      "hello world: 928\n",
      "hello world: 929\n",
      "hello world: 930\n",
      "hello world: 931\n",
      "hello world: 932\n",
      "hello world: 933\n",
      "hello world: 934\n",
      "hello world: 935\n",
      "hello world: 936\n",
      "hello world: 937\n",
      "hello world: 938\n",
      "hello world: 939\n",
      "hello world: 940\n",
      "hello world: 941\n",
      "hello world: 942\n",
      "hello world: 943\n",
      "hello world: 944\n",
      "hello world: 945\n",
      "hello world: 946\n",
      "hello world: 947\n",
      "hello world: 948\n",
      "hello world: 949\n",
      "hello world: 950\n",
      "hello world: 951\n",
      "hello world: 952\n",
      "hello world: 953\n",
      "hello world: 954\n",
      "hello world: 955\n",
      "hello world: 956\n",
      "hello world: 957\n",
      "hello world: 958\n",
      "hello world: 959\n",
      "hello world: 960\n",
      "hello world: 961\n",
      "hello world: 962\n",
      "hello world: 963\n",
      "hello world: 964\n",
      "hello world: 965\n",
      "hello world: 966\n",
      "hello world: 967\n",
      "hello world: 968\n",
      "hello world: 969\n",
      "hello world: 970\n",
      "hello world: 971\n",
      "hello world: 972\n",
      "hello world: 973\n",
      "hello world: 974\n",
      "hello world: 975\n",
      "hello world: 976\n",
      "hello world: 977\n",
      "hello world: 978\n",
      "hello world: 979\n",
      "hello world: 980\n",
      "hello world: 981\n",
      "hello world: 982\n",
      "hello world: 983\n",
      "hello world: 984\n",
      "hello world: 985\n",
      "hello world: 986\n",
      "hello world: 987\n",
      "hello world: 988\n",
      "hello world: 989\n",
      "hello world: 990\n",
      "hello world: 991\n",
      "hello world: 992\n",
      "hello world: 993\n",
      "hello world: 994\n",
      "hello world: 995\n",
      "hello world: 996\n",
      "hello world: 997\n",
      "hello world: 998\n",
      "hello world: 999\n",
      "\n"
     ]
    }
   ],
   "source": [
    "g = open('newfile.txt', 'r')\n",
    "print (g.read())\n",
    "g.close()"
   ]
  },
  {
   "cell_type": "markdown",
   "metadata": {},
   "source": [
    "### 1.1.7 with 方法"
   ]
  },
  {
   "cell_type": "markdown",
   "metadata": {},
   "source": [
    "事实上，**Python**提供了更安全的方法，当 `with` 块的内容结束后，**Python**会自动调用它的`close` 方法，确保读写的安全："
   ]
  },
  {
   "cell_type": "code",
   "execution_count": 33,
   "metadata": {},
   "outputs": [
    {
     "ename": "ZeroDivisionError",
     "evalue": "float division by zero",
     "output_type": "error",
     "traceback": [
      "\u001b[1;31m---------------------------------------------------------------------------\u001b[0m",
      "\u001b[1;31mZeroDivisionError\u001b[0m                         Traceback (most recent call last)",
      "\u001b[1;32m<ipython-input-33-9d2a70065b27>\u001b[0m in \u001b[0;36m<module>\u001b[1;34m()\u001b[0m\n\u001b[0;32m      1\u001b[0m \u001b[1;32mwith\u001b[0m \u001b[0mopen\u001b[0m\u001b[1;33m(\u001b[0m\u001b[1;34m'newfile.txt'\u001b[0m\u001b[1;33m,\u001b[0m\u001b[1;34m'w'\u001b[0m\u001b[1;33m)\u001b[0m \u001b[1;32mas\u001b[0m \u001b[0mf\u001b[0m\u001b[1;33m:\u001b[0m\u001b[1;33m\u001b[0m\u001b[0m\n\u001b[0;32m      2\u001b[0m     \u001b[1;32mfor\u001b[0m \u001b[0mi\u001b[0m \u001b[1;32min\u001b[0m \u001b[0mrange\u001b[0m\u001b[1;33m(\u001b[0m\u001b[1;36m3000\u001b[0m\u001b[1;33m)\u001b[0m\u001b[1;33m:\u001b[0m\u001b[1;33m\u001b[0m\u001b[0m\n\u001b[1;32m----> 3\u001b[1;33m         \u001b[0mx\u001b[0m \u001b[1;33m=\u001b[0m \u001b[1;36m1.0\u001b[0m \u001b[1;33m/\u001b[0m \u001b[1;33m(\u001b[0m\u001b[0mi\u001b[0m \u001b[1;33m-\u001b[0m \u001b[1;36m1000\u001b[0m\u001b[1;33m)\u001b[0m\u001b[1;33m\u001b[0m\u001b[0m\n\u001b[0m\u001b[0;32m      4\u001b[0m         \u001b[0mf\u001b[0m\u001b[1;33m.\u001b[0m\u001b[0mwrite\u001b[0m\u001b[1;33m(\u001b[0m\u001b[1;34m'hello world: '\u001b[0m \u001b[1;33m+\u001b[0m \u001b[0mstr\u001b[0m\u001b[1;33m(\u001b[0m\u001b[0mi\u001b[0m\u001b[1;33m)\u001b[0m \u001b[1;33m+\u001b[0m \u001b[1;34m'\\n'\u001b[0m\u001b[1;33m)\u001b[0m\u001b[1;33m\u001b[0m\u001b[0m\n",
      "\u001b[1;31mZeroDivisionError\u001b[0m: float division by zero"
     ]
    }
   ],
   "source": [
    "with open('newfile.txt','w') as f:\n",
    "    for i in range(3000):\n",
    "        x = 1.0 / (i - 1000)\n",
    "        f.write('hello world: ' + str(i) + '\\n')"
   ]
  },
  {
   "cell_type": "markdown",
   "metadata": {},
   "source": [
    "与 `try/exception/finally` 效果相同，但更简单。"
   ]
  },
  {
   "cell_type": "code",
   "execution_count": 34,
   "metadata": {},
   "outputs": [
    {
     "name": "stdout",
     "output_type": "stream",
     "text": [
      "hello world: 0\n",
      "hello world: 1\n",
      "hello world: 2\n",
      "hello world: 3\n",
      "hello world: 4\n",
      "hello world: 5\n",
      "hello world: 6\n",
      "hello world: 7\n",
      "hello world: 8\n",
      "hello world: 9\n",
      "hello world: 10\n",
      "hello world: 11\n",
      "hello world: 12\n",
      "hello world: 13\n",
      "hello world: 14\n",
      "hello world: 15\n",
      "hello world: 16\n",
      "hello world: 17\n",
      "hello world: 18\n",
      "hello world: 19\n",
      "hello world: 20\n",
      "hello world: 21\n",
      "hello world: 22\n",
      "hello world: 23\n",
      "hello world: 24\n",
      "hello world: 25\n",
      "hello world: 26\n",
      "hello world: 27\n",
      "hello world: 28\n",
      "hello world: 29\n",
      "hello world: 30\n",
      "hello world: 31\n",
      "hello world: 32\n",
      "hello world: 33\n",
      "hello world: 34\n",
      "hello world: 35\n",
      "hello world: 36\n",
      "hello world: 37\n",
      "hello world: 38\n",
      "hello world: 39\n",
      "hello world: 40\n",
      "hello world: 41\n",
      "hello world: 42\n",
      "hello world: 43\n",
      "hello world: 44\n",
      "hello world: 45\n",
      "hello world: 46\n",
      "hello world: 47\n",
      "hello world: 48\n",
      "hello world: 49\n",
      "hello world: 50\n",
      "hello world: 51\n",
      "hello world: 52\n",
      "hello world: 53\n",
      "hello world: 54\n",
      "hello world: 55\n",
      "hello world: 56\n",
      "hello world: 57\n",
      "hello world: 58\n",
      "hello world: 59\n",
      "hello world: 60\n",
      "hello world: 61\n",
      "hello world: 62\n",
      "hello world: 63\n",
      "hello world: 64\n",
      "hello world: 65\n",
      "hello world: 66\n",
      "hello world: 67\n",
      "hello world: 68\n",
      "hello world: 69\n",
      "hello world: 70\n",
      "hello world: 71\n",
      "hello world: 72\n",
      "hello world: 73\n",
      "hello world: 74\n",
      "hello world: 75\n",
      "hello world: 76\n",
      "hello world: 77\n",
      "hello world: 78\n",
      "hello world: 79\n",
      "hello world: 80\n",
      "hello world: 81\n",
      "hello world: 82\n",
      "hello world: 83\n",
      "hello world: 84\n",
      "hello world: 85\n",
      "hello world: 86\n",
      "hello world: 87\n",
      "hello world: 88\n",
      "hello world: 89\n",
      "hello world: 90\n",
      "hello world: 91\n",
      "hello world: 92\n",
      "hello world: 93\n",
      "hello world: 94\n",
      "hello world: 95\n",
      "hello world: 96\n",
      "hello world: 97\n",
      "hello world: 98\n",
      "hello world: 99\n",
      "hello world: 100\n",
      "hello world: 101\n",
      "hello world: 102\n",
      "hello world: 103\n",
      "hello world: 104\n",
      "hello world: 105\n",
      "hello world: 106\n",
      "hello world: 107\n",
      "hello world: 108\n",
      "hello world: 109\n",
      "hello world: 110\n",
      "hello world: 111\n",
      "hello world: 112\n",
      "hello world: 113\n",
      "hello world: 114\n",
      "hello world: 115\n",
      "hello world: 116\n",
      "hello world: 117\n",
      "hello world: 118\n",
      "hello world: 119\n",
      "hello world: 120\n",
      "hello world: 121\n",
      "hello world: 122\n",
      "hello world: 123\n",
      "hello world: 124\n",
      "hello world: 125\n",
      "hello world: 126\n",
      "hello world: 127\n",
      "hello world: 128\n",
      "hello world: 129\n",
      "hello world: 130\n",
      "hello world: 131\n",
      "hello world: 132\n",
      "hello world: 133\n",
      "hello world: 134\n",
      "hello world: 135\n",
      "hello world: 136\n",
      "hello world: 137\n",
      "hello world: 138\n",
      "hello world: 139\n",
      "hello world: 140\n",
      "hello world: 141\n",
      "hello world: 142\n",
      "hello world: 143\n",
      "hello world: 144\n",
      "hello world: 145\n",
      "hello world: 146\n",
      "hello world: 147\n",
      "hello world: 148\n",
      "hello world: 149\n",
      "hello world: 150\n",
      "hello world: 151\n",
      "hello world: 152\n",
      "hello world: 153\n",
      "hello world: 154\n",
      "hello world: 155\n",
      "hello world: 156\n",
      "hello world: 157\n",
      "hello world: 158\n",
      "hello world: 159\n",
      "hello world: 160\n",
      "hello world: 161\n",
      "hello world: 162\n",
      "hello world: 163\n",
      "hello world: 164\n",
      "hello world: 165\n",
      "hello world: 166\n",
      "hello world: 167\n",
      "hello world: 168\n",
      "hello world: 169\n",
      "hello world: 170\n",
      "hello world: 171\n",
      "hello world: 172\n",
      "hello world: 173\n",
      "hello world: 174\n",
      "hello world: 175\n",
      "hello world: 176\n",
      "hello world: 177\n",
      "hello world: 178\n",
      "hello world: 179\n",
      "hello world: 180\n",
      "hello world: 181\n",
      "hello world: 182\n",
      "hello world: 183\n",
      "hello world: 184\n",
      "hello world: 185\n",
      "hello world: 186\n",
      "hello world: 187\n",
      "hello world: 188\n",
      "hello world: 189\n",
      "hello world: 190\n",
      "hello world: 191\n",
      "hello world: 192\n",
      "hello world: 193\n",
      "hello world: 194\n",
      "hello world: 195\n",
      "hello world: 196\n",
      "hello world: 197\n",
      "hello world: 198\n",
      "hello world: 199\n",
      "hello world: 200\n",
      "hello world: 201\n",
      "hello world: 202\n",
      "hello world: 203\n",
      "hello world: 204\n",
      "hello world: 205\n",
      "hello world: 206\n",
      "hello world: 207\n",
      "hello world: 208\n",
      "hello world: 209\n",
      "hello world: 210\n",
      "hello world: 211\n",
      "hello world: 212\n",
      "hello world: 213\n",
      "hello world: 214\n",
      "hello world: 215\n",
      "hello world: 216\n",
      "hello world: 217\n",
      "hello world: 218\n",
      "hello world: 219\n",
      "hello world: 220\n",
      "hello world: 221\n",
      "hello world: 222\n",
      "hello world: 223\n",
      "hello world: 224\n",
      "hello world: 225\n",
      "hello world: 226\n",
      "hello world: 227\n",
      "hello world: 228\n",
      "hello world: 229\n",
      "hello world: 230\n",
      "hello world: 231\n",
      "hello world: 232\n",
      "hello world: 233\n",
      "hello world: 234\n",
      "hello world: 235\n",
      "hello world: 236\n",
      "hello world: 237\n",
      "hello world: 238\n",
      "hello world: 239\n",
      "hello world: 240\n",
      "hello world: 241\n",
      "hello world: 242\n",
      "hello world: 243\n",
      "hello world: 244\n",
      "hello world: 245\n",
      "hello world: 246\n",
      "hello world: 247\n",
      "hello world: 248\n",
      "hello world: 249\n",
      "hello world: 250\n",
      "hello world: 251\n",
      "hello world: 252\n",
      "hello world: 253\n",
      "hello world: 254\n",
      "hello world: 255\n",
      "hello world: 256\n",
      "hello world: 257\n",
      "hello world: 258\n",
      "hello world: 259\n",
      "hello world: 260\n",
      "hello world: 261\n",
      "hello world: 262\n",
      "hello world: 263\n",
      "hello world: 264\n",
      "hello world: 265\n",
      "hello world: 266\n",
      "hello world: 267\n",
      "hello world: 268\n",
      "hello world: 269\n",
      "hello world: 270\n",
      "hello world: 271\n",
      "hello world: 272\n",
      "hello world: 273\n",
      "hello world: 274\n",
      "hello world: 275\n",
      "hello world: 276\n",
      "hello world: 277\n",
      "hello world: 278\n",
      "hello world: 279\n",
      "hello world: 280\n",
      "hello world: 281\n",
      "hello world: 282\n",
      "hello world: 283\n",
      "hello world: 284\n",
      "hello world: 285\n",
      "hello world: 286\n",
      "hello world: 287\n",
      "hello world: 288\n",
      "hello world: 289\n",
      "hello world: 290\n",
      "hello world: 291\n",
      "hello world: 292\n",
      "hello world: 293\n",
      "hello world: 294\n",
      "hello world: 295\n",
      "hello world: 296\n",
      "hello world: 297\n",
      "hello world: 298\n",
      "hello world: 299\n",
      "hello world: 300\n",
      "hello world: 301\n",
      "hello world: 302\n",
      "hello world: 303\n",
      "hello world: 304\n",
      "hello world: 305\n",
      "hello world: 306\n",
      "hello world: 307\n",
      "hello world: 308\n",
      "hello world: 309\n",
      "hello world: 310\n",
      "hello world: 311\n",
      "hello world: 312\n",
      "hello world: 313\n",
      "hello world: 314\n",
      "hello world: 315\n",
      "hello world: 316\n",
      "hello world: 317\n",
      "hello world: 318\n",
      "hello world: 319\n",
      "hello world: 320\n",
      "hello world: 321\n",
      "hello world: 322\n",
      "hello world: 323\n",
      "hello world: 324\n",
      "hello world: 325\n",
      "hello world: 326\n",
      "hello world: 327\n",
      "hello world: 328\n",
      "hello world: 329\n",
      "hello world: 330\n",
      "hello world: 331\n",
      "hello world: 332\n",
      "hello world: 333\n",
      "hello world: 334\n",
      "hello world: 335\n",
      "hello world: 336\n",
      "hello world: 337\n",
      "hello world: 338\n",
      "hello world: 339\n",
      "hello world: 340\n",
      "hello world: 341\n",
      "hello world: 342\n",
      "hello world: 343\n",
      "hello world: 344\n",
      "hello world: 345\n",
      "hello world: 346\n",
      "hello world: 347\n",
      "hello world: 348\n",
      "hello world: 349\n",
      "hello world: 350\n",
      "hello world: 351\n",
      "hello world: 352\n",
      "hello world: 353\n",
      "hello world: 354\n",
      "hello world: 355\n",
      "hello world: 356\n",
      "hello world: 357\n",
      "hello world: 358\n",
      "hello world: 359\n",
      "hello world: 360\n",
      "hello world: 361\n",
      "hello world: 362\n",
      "hello world: 363\n",
      "hello world: 364\n",
      "hello world: 365\n",
      "hello world: 366\n",
      "hello world: 367\n",
      "hello world: 368\n",
      "hello world: 369\n",
      "hello world: 370\n",
      "hello world: 371\n",
      "hello world: 372\n",
      "hello world: 373\n",
      "hello world: 374\n",
      "hello world: 375\n",
      "hello world: 376\n",
      "hello world: 377\n",
      "hello world: 378\n",
      "hello world: 379\n",
      "hello world: 380\n",
      "hello world: 381\n",
      "hello world: 382\n",
      "hello world: 383\n",
      "hello world: 384\n",
      "hello world: 385\n",
      "hello world: 386\n",
      "hello world: 387\n",
      "hello world: 388\n",
      "hello world: 389\n",
      "hello world: 390\n",
      "hello world: 391\n",
      "hello world: 392\n",
      "hello world: 393\n",
      "hello world: 394\n",
      "hello world: 395\n",
      "hello world: 396\n",
      "hello world: 397\n",
      "hello world: 398\n",
      "hello world: 399\n",
      "hello world: 400\n",
      "hello world: 401\n",
      "hello world: 402\n",
      "hello world: 403\n",
      "hello world: 404\n",
      "hello world: 405\n",
      "hello world: 406\n",
      "hello world: 407\n",
      "hello world: 408\n",
      "hello world: 409\n",
      "hello world: 410\n",
      "hello world: 411\n",
      "hello world: 412\n",
      "hello world: 413\n",
      "hello world: 414\n",
      "hello world: 415\n",
      "hello world: 416\n",
      "hello world: 417\n",
      "hello world: 418\n",
      "hello world: 419\n",
      "hello world: 420\n",
      "hello world: 421\n",
      "hello world: 422\n",
      "hello world: 423\n",
      "hello world: 424\n",
      "hello world: 425\n",
      "hello world: 426\n",
      "hello world: 427\n",
      "hello world: 428\n",
      "hello world: 429\n",
      "hello world: 430\n",
      "hello world: 431\n",
      "hello world: 432\n",
      "hello world: 433\n",
      "hello world: 434\n",
      "hello world: 435\n",
      "hello world: 436\n",
      "hello world: 437\n",
      "hello world: 438\n",
      "hello world: 439\n",
      "hello world: 440\n",
      "hello world: 441\n",
      "hello world: 442\n",
      "hello world: 443\n",
      "hello world: 444\n",
      "hello world: 445\n",
      "hello world: 446\n",
      "hello world: 447\n",
      "hello world: 448\n",
      "hello world: 449\n",
      "hello world: 450\n",
      "hello world: 451\n",
      "hello world: 452\n",
      "hello world: 453\n",
      "hello world: 454\n",
      "hello world: 455\n",
      "hello world: 456\n",
      "hello world: 457\n",
      "hello world: 458\n",
      "hello world: 459\n",
      "hello world: 460\n",
      "hello world: 461\n",
      "hello world: 462\n",
      "hello world: 463\n",
      "hello world: 464\n",
      "hello world: 465\n",
      "hello world: 466\n",
      "hello world: 467\n",
      "hello world: 468\n",
      "hello world: 469\n",
      "hello world: 470\n",
      "hello world: 471\n",
      "hello world: 472\n",
      "hello world: 473\n",
      "hello world: 474\n",
      "hello world: 475\n",
      "hello world: 476\n",
      "hello world: 477\n",
      "hello world: 478\n",
      "hello world: 479\n",
      "hello world: 480\n",
      "hello world: 481\n",
      "hello world: 482\n",
      "hello world: 483\n",
      "hello world: 484\n",
      "hello world: 485\n",
      "hello world: 486\n",
      "hello world: 487\n",
      "hello world: 488\n",
      "hello world: 489\n",
      "hello world: 490\n",
      "hello world: 491\n",
      "hello world: 492\n",
      "hello world: 493\n",
      "hello world: 494\n",
      "hello world: 495\n",
      "hello world: 496\n",
      "hello world: 497\n",
      "hello world: 498\n",
      "hello world: 499\n",
      "hello world: 500\n",
      "hello world: 501\n",
      "hello world: 502\n",
      "hello world: 503\n",
      "hello world: 504\n",
      "hello world: 505\n",
      "hello world: 506\n",
      "hello world: 507\n",
      "hello world: 508\n",
      "hello world: 509\n",
      "hello world: 510\n",
      "hello world: 511\n",
      "hello world: 512\n",
      "hello world: 513\n",
      "hello world: 514\n",
      "hello world: 515\n",
      "hello world: 516\n",
      "hello world: 517\n",
      "hello world: 518\n",
      "hello world: 519\n",
      "hello world: 520\n",
      "hello world: 521\n",
      "hello world: 522\n",
      "hello world: 523\n",
      "hello world: 524\n",
      "hello world: 525\n",
      "hello world: 526\n",
      "hello world: 527\n",
      "hello world: 528\n",
      "hello world: 529\n",
      "hello world: 530\n",
      "hello world: 531\n",
      "hello world: 532\n",
      "hello world: 533\n",
      "hello world: 534\n",
      "hello world: 535\n",
      "hello world: 536\n",
      "hello world: 537\n",
      "hello world: 538\n",
      "hello world: 539\n",
      "hello world: 540\n",
      "hello world: 541\n",
      "hello world: 542\n",
      "hello world: 543\n",
      "hello world: 544\n",
      "hello world: 545\n",
      "hello world: 546\n",
      "hello world: 547\n",
      "hello world: 548\n",
      "hello world: 549\n",
      "hello world: 550\n",
      "hello world: 551\n",
      "hello world: 552\n",
      "hello world: 553\n",
      "hello world: 554\n",
      "hello world: 555\n",
      "hello world: 556\n",
      "hello world: 557\n",
      "hello world: 558\n",
      "hello world: 559\n",
      "hello world: 560\n",
      "hello world: 561\n",
      "hello world: 562\n",
      "hello world: 563\n",
      "hello world: 564\n",
      "hello world: 565\n",
      "hello world: 566\n",
      "hello world: 567\n",
      "hello world: 568\n",
      "hello world: 569\n",
      "hello world: 570\n",
      "hello world: 571\n",
      "hello world: 572\n",
      "hello world: 573\n",
      "hello world: 574\n",
      "hello world: 575\n",
      "hello world: 576\n",
      "hello world: 577\n",
      "hello world: 578\n",
      "hello world: 579\n",
      "hello world: 580\n",
      "hello world: 581\n",
      "hello world: 582\n",
      "hello world: 583\n",
      "hello world: 584\n",
      "hello world: 585\n",
      "hello world: 586\n",
      "hello world: 587\n",
      "hello world: 588\n",
      "hello world: 589\n",
      "hello world: 590\n",
      "hello world: 591\n",
      "hello world: 592\n",
      "hello world: 593\n",
      "hello world: 594\n",
      "hello world: 595\n",
      "hello world: 596\n",
      "hello world: 597\n",
      "hello world: 598\n",
      "hello world: 599\n",
      "hello world: 600\n",
      "hello world: 601\n",
      "hello world: 602\n",
      "hello world: 603\n",
      "hello world: 604\n",
      "hello world: 605\n",
      "hello world: 606\n",
      "hello world: 607\n",
      "hello world: 608\n",
      "hello world: 609\n",
      "hello world: 610\n",
      "hello world: 611\n",
      "hello world: 612\n",
      "hello world: 613\n",
      "hello world: 614\n",
      "hello world: 615\n",
      "hello world: 616\n",
      "hello world: 617\n",
      "hello world: 618\n",
      "hello world: 619\n",
      "hello world: 620\n",
      "hello world: 621\n",
      "hello world: 622\n",
      "hello world: 623\n",
      "hello world: 624\n",
      "hello world: 625\n",
      "hello world: 626\n",
      "hello world: 627\n",
      "hello world: 628\n",
      "hello world: 629\n",
      "hello world: 630\n",
      "hello world: 631\n",
      "hello world: 632\n",
      "hello world: 633\n",
      "hello world: 634\n",
      "hello world: 635\n",
      "hello world: 636\n",
      "hello world: 637\n",
      "hello world: 638\n",
      "hello world: 639\n",
      "hello world: 640\n",
      "hello world: 641\n",
      "hello world: 642\n",
      "hello world: 643\n",
      "hello world: 644\n",
      "hello world: 645\n",
      "hello world: 646\n",
      "hello world: 647\n",
      "hello world: 648\n",
      "hello world: 649\n",
      "hello world: 650\n",
      "hello world: 651\n",
      "hello world: 652\n",
      "hello world: 653\n",
      "hello world: 654\n",
      "hello world: 655\n",
      "hello world: 656\n",
      "hello world: 657\n",
      "hello world: 658\n",
      "hello world: 659\n",
      "hello world: 660\n",
      "hello world: 661\n",
      "hello world: 662\n",
      "hello world: 663\n",
      "hello world: 664\n",
      "hello world: 665\n",
      "hello world: 666\n",
      "hello world: 667\n",
      "hello world: 668\n",
      "hello world: 669\n",
      "hello world: 670\n",
      "hello world: 671\n",
      "hello world: 672\n",
      "hello world: 673\n",
      "hello world: 674\n",
      "hello world: 675\n",
      "hello world: 676\n",
      "hello world: 677\n",
      "hello world: 678\n",
      "hello world: 679\n",
      "hello world: 680\n",
      "hello world: 681\n",
      "hello world: 682\n",
      "hello world: 683\n",
      "hello world: 684\n",
      "hello world: 685\n",
      "hello world: 686\n",
      "hello world: 687\n",
      "hello world: 688\n",
      "hello world: 689\n",
      "hello world: 690\n",
      "hello world: 691\n",
      "hello world: 692\n",
      "hello world: 693\n",
      "hello world: 694\n",
      "hello world: 695\n",
      "hello world: 696\n",
      "hello world: 697\n",
      "hello world: 698\n",
      "hello world: 699\n",
      "hello world: 700\n",
      "hello world: 701\n",
      "hello world: 702\n",
      "hello world: 703\n",
      "hello world: 704\n",
      "hello world: 705\n",
      "hello world: 706\n",
      "hello world: 707\n",
      "hello world: 708\n",
      "hello world: 709\n",
      "hello world: 710\n",
      "hello world: 711\n",
      "hello world: 712\n",
      "hello world: 713\n",
      "hello world: 714\n",
      "hello world: 715\n",
      "hello world: 716\n",
      "hello world: 717\n",
      "hello world: 718\n",
      "hello world: 719\n",
      "hello world: 720\n",
      "hello world: 721\n",
      "hello world: 722\n",
      "hello world: 723\n",
      "hello world: 724\n",
      "hello world: 725\n",
      "hello world: 726\n",
      "hello world: 727\n",
      "hello world: 728\n",
      "hello world: 729\n",
      "hello world: 730\n",
      "hello world: 731\n",
      "hello world: 732\n",
      "hello world: 733\n",
      "hello world: 734\n",
      "hello world: 735\n",
      "hello world: 736\n",
      "hello world: 737\n",
      "hello world: 738\n",
      "hello world: 739\n",
      "hello world: 740\n",
      "hello world: 741\n",
      "hello world: 742\n",
      "hello world: 743\n",
      "hello world: 744\n",
      "hello world: 745\n",
      "hello world: 746\n",
      "hello world: 747\n",
      "hello world: 748\n",
      "hello world: 749\n",
      "hello world: 750\n",
      "hello world: 751\n",
      "hello world: 752\n",
      "hello world: 753\n",
      "hello world: 754\n",
      "hello world: 755\n",
      "hello world: 756\n",
      "hello world: 757\n",
      "hello world: 758\n",
      "hello world: 759\n",
      "hello world: 760\n",
      "hello world: 761\n",
      "hello world: 762\n",
      "hello world: 763\n",
      "hello world: 764\n",
      "hello world: 765\n",
      "hello world: 766\n",
      "hello world: 767\n",
      "hello world: 768\n",
      "hello world: 769\n",
      "hello world: 770\n",
      "hello world: 771\n",
      "hello world: 772\n",
      "hello world: 773\n",
      "hello world: 774\n",
      "hello world: 775\n",
      "hello world: 776\n",
      "hello world: 777\n",
      "hello world: 778\n",
      "hello world: 779\n",
      "hello world: 780\n",
      "hello world: 781\n",
      "hello world: 782\n",
      "hello world: 783\n",
      "hello world: 784\n",
      "hello world: 785\n",
      "hello world: 786\n",
      "hello world: 787\n",
      "hello world: 788\n",
      "hello world: 789\n",
      "hello world: 790\n",
      "hello world: 791\n",
      "hello world: 792\n",
      "hello world: 793\n",
      "hello world: 794\n",
      "hello world: 795\n",
      "hello world: 796\n",
      "hello world: 797\n",
      "hello world: 798\n",
      "hello world: 799\n",
      "hello world: 800\n",
      "hello world: 801\n",
      "hello world: 802\n",
      "hello world: 803\n",
      "hello world: 804\n",
      "hello world: 805\n",
      "hello world: 806\n",
      "hello world: 807\n",
      "hello world: 808\n",
      "hello world: 809\n",
      "hello world: 810\n",
      "hello world: 811\n",
      "hello world: 812\n",
      "hello world: 813\n",
      "hello world: 814\n",
      "hello world: 815\n",
      "hello world: 816\n",
      "hello world: 817\n",
      "hello world: 818\n",
      "hello world: 819\n",
      "hello world: 820\n",
      "hello world: 821\n",
      "hello world: 822\n",
      "hello world: 823\n",
      "hello world: 824\n",
      "hello world: 825\n",
      "hello world: 826\n",
      "hello world: 827\n",
      "hello world: 828\n",
      "hello world: 829\n",
      "hello world: 830\n",
      "hello world: 831\n",
      "hello world: 832\n",
      "hello world: 833\n",
      "hello world: 834\n",
      "hello world: 835\n",
      "hello world: 836\n",
      "hello world: 837\n",
      "hello world: 838\n",
      "hello world: 839\n",
      "hello world: 840\n",
      "hello world: 841\n",
      "hello world: 842\n",
      "hello world: 843\n",
      "hello world: 844\n",
      "hello world: 845\n",
      "hello world: 846\n",
      "hello world: 847\n",
      "hello world: 848\n",
      "hello world: 849\n",
      "hello world: 850\n",
      "hello world: 851\n",
      "hello world: 852\n",
      "hello world: 853\n",
      "hello world: 854\n",
      "hello world: 855\n",
      "hello world: 856\n",
      "hello world: 857\n",
      "hello world: 858\n",
      "hello world: 859\n",
      "hello world: 860\n",
      "hello world: 861\n",
      "hello world: 862\n",
      "hello world: 863\n",
      "hello world: 864\n",
      "hello world: 865\n",
      "hello world: 866\n",
      "hello world: 867\n",
      "hello world: 868\n",
      "hello world: 869\n",
      "hello world: 870\n",
      "hello world: 871\n",
      "hello world: 872\n",
      "hello world: 873\n",
      "hello world: 874\n",
      "hello world: 875\n",
      "hello world: 876\n",
      "hello world: 877\n",
      "hello world: 878\n",
      "hello world: 879\n",
      "hello world: 880\n",
      "hello world: 881\n",
      "hello world: 882\n",
      "hello world: 883\n",
      "hello world: 884\n",
      "hello world: 885\n",
      "hello world: 886\n",
      "hello world: 887\n",
      "hello world: 888\n",
      "hello world: 889\n",
      "hello world: 890\n",
      "hello world: 891\n",
      "hello world: 892\n",
      "hello world: 893\n",
      "hello world: 894\n",
      "hello world: 895\n",
      "hello world: 896\n",
      "hello world: 897\n",
      "hello world: 898\n",
      "hello world: 899\n",
      "hello world: 900\n",
      "hello world: 901\n",
      "hello world: 902\n",
      "hello world: 903\n",
      "hello world: 904\n",
      "hello world: 905\n",
      "hello world: 906\n",
      "hello world: 907\n",
      "hello world: 908\n",
      "hello world: 909\n",
      "hello world: 910\n",
      "hello world: 911\n",
      "hello world: 912\n",
      "hello world: 913\n",
      "hello world: 914\n",
      "hello world: 915\n",
      "hello world: 916\n",
      "hello world: 917\n",
      "hello world: 918\n",
      "hello world: 919\n",
      "hello world: 920\n",
      "hello world: 921\n",
      "hello world: 922\n",
      "hello world: 923\n",
      "hello world: 924\n",
      "hello world: 925\n",
      "hello world: 926\n",
      "hello world: 927\n",
      "hello world: 928\n",
      "hello world: 929\n",
      "hello world: 930\n",
      "hello world: 931\n",
      "hello world: 932\n",
      "hello world: 933\n",
      "hello world: 934\n",
      "hello world: 935\n",
      "hello world: 936\n",
      "hello world: 937\n",
      "hello world: 938\n",
      "hello world: 939\n",
      "hello world: 940\n",
      "hello world: 941\n",
      "hello world: 942\n",
      "hello world: 943\n",
      "hello world: 944\n",
      "hello world: 945\n",
      "hello world: 946\n",
      "hello world: 947\n",
      "hello world: 948\n",
      "hello world: 949\n",
      "hello world: 950\n",
      "hello world: 951\n",
      "hello world: 952\n",
      "hello world: 953\n",
      "hello world: 954\n",
      "hello world: 955\n",
      "hello world: 956\n",
      "hello world: 957\n",
      "hello world: 958\n",
      "hello world: 959\n",
      "hello world: 960\n",
      "hello world: 961\n",
      "hello world: 962\n",
      "hello world: 963\n",
      "hello world: 964\n",
      "hello world: 965\n",
      "hello world: 966\n",
      "hello world: 967\n",
      "hello world: 968\n",
      "hello world: 969\n",
      "hello world: 970\n",
      "hello world: 971\n",
      "hello world: 972\n",
      "hello world: 973\n",
      "hello world: 974\n",
      "hello world: 975\n",
      "hello world: 976\n",
      "hello world: 977\n",
      "hello world: 978\n",
      "hello world: 979\n",
      "hello world: 980\n",
      "hello world: 981\n",
      "hello world: 982\n",
      "hello world: 983\n",
      "hello world: 984\n",
      "hello world: 985\n",
      "hello world: 986\n",
      "hello world: 987\n",
      "hello world: 988\n",
      "hello world: 989\n",
      "hello world: 990\n",
      "hello world: 991\n",
      "hello world: 992\n",
      "hello world: 993\n",
      "hello world: 994\n",
      "hello world: 995\n",
      "hello world: 996\n",
      "hello world: 997\n",
      "hello world: 998\n",
      "hello world: 999\n",
      "\n"
     ]
    }
   ],
   "source": [
    "g = open('newfile.txt', 'r')\n",
    "print (g.read())\n",
    "g.close()"
   ]
  },
  {
   "cell_type": "markdown",
   "metadata": {},
   "source": [
    "所以，写文件时候要确保文件被正确关闭。"
   ]
  },
  {
   "cell_type": "code",
   "execution_count": null,
   "metadata": {
    "collapsed": true
   },
   "outputs": [],
   "source": [
    "import os\n",
    "os.remove('newfile.txt')"
   ]
  },
  {
   "cell_type": "markdown",
   "metadata": {},
   "source": [
    "## 1.2 StringIO和BytesIO"
   ]
  },
  {
   "cell_type": "markdown",
   "metadata": {},
   "source": [
    "很多时候，数据读写不一定是文件，也可以在内存中读写。\n",
    "\n",
    "### 1.2.1 StringIO\n",
    "\n",
    "顾名思义就是在内存中读写str。\n",
    "\n",
    "要把str写入StringIO，我们需要先创建一个StringIO，然后，像文件一样写入即可："
   ]
  },
  {
   "cell_type": "code",
   "execution_count": null,
   "metadata": {
    "collapsed": true
   },
   "outputs": [],
   "source": [
    "from io import StringIO\n",
    "\n",
    "f = StringIO()\n",
    "f.write('hello')"
   ]
  },
  {
   "cell_type": "code",
   "execution_count": null,
   "metadata": {
    "collapsed": true
   },
   "outputs": [],
   "source": [
    "f.write(' ')"
   ]
  },
  {
   "cell_type": "code",
   "execution_count": null,
   "metadata": {
    "collapsed": true
   },
   "outputs": [],
   "source": [
    "f.write('world!')"
   ]
  },
  {
   "cell_type": "code",
   "execution_count": null,
   "metadata": {
    "collapsed": true
   },
   "outputs": [],
   "source": [
    "print(f.getvalue())  # getvalue()方法用于获得写入后的str。"
   ]
  },
  {
   "cell_type": "markdown",
   "metadata": {},
   "source": [
    "\n",
    "要读取StringIO，可以用一个str初始化StringIO，然后，像读文件一样读取："
   ]
  },
  {
   "cell_type": "code",
   "execution_count": null,
   "metadata": {
    "collapsed": true
   },
   "outputs": [],
   "source": [
    "from io import StringIO\n",
    "\n",
    "f = StringIO('Hello!\\nHi!\\nGoodbye!')\n",
    "while True:\n",
    "    s = f.readline()\n",
    "    if s == '':\n",
    "        break\n",
    "    print(s.strip())"
   ]
  },
  {
   "cell_type": "markdown",
   "metadata": {},
   "source": [
    "### 1.2.2 BytesIO\n",
    "\n",
    "StringIO操作的只能是str，如果要操作二进制数据，就需要使用BytesIO。\n",
    "\n",
    "BytesIO实现了在内存中读写bytes，我们创建一个BytesIO，然后写入一些bytes："
   ]
  },
  {
   "cell_type": "code",
   "execution_count": null,
   "metadata": {
    "collapsed": true
   },
   "outputs": [],
   "source": [
    "from io import BytesIO\n",
    "\n",
    "f = BytesIO()\n",
    "\n",
    "f.write('中文'.encode('utf-8'))"
   ]
  },
  {
   "cell_type": "code",
   "execution_count": null,
   "metadata": {
    "collapsed": true
   },
   "outputs": [],
   "source": [
    "print(f.getvalue())"
   ]
  },
  {
   "cell_type": "markdown",
   "metadata": {},
   "source": [
    "请注意，写入的不是str，而是经过UTF-8编码的bytes。\n",
    "\n",
    "和StringIO类似，可以用一个bytes初始化BytesIO，然后，像读文件一样读取："
   ]
  },
  {
   "cell_type": "code",
   "execution_count": null,
   "metadata": {
    "collapsed": true
   },
   "outputs": [],
   "source": [
    "from io import BytesIO\n",
    "f = BytesIO(b'\\xe4\\xb8\\xad\\xe6\\x96\\x87')\n",
    "print(f.read())\n",
    "print(f.getvalue().decode('utf-8'))"
   ]
  },
  {
   "cell_type": "markdown",
   "metadata": {},
   "source": [
    "## 1.3 操作文件和目录\n",
    "\n",
    "Python内置的os模块也可以直接调用操作系统提供的接口函数"
   ]
  },
  {
   "cell_type": "markdown",
   "metadata": {},
   "source": [
    "### 1.3.1 操作系统类型"
   ]
  },
  {
   "cell_type": "code",
   "execution_count": null,
   "metadata": {
    "collapsed": true
   },
   "outputs": [],
   "source": [
    "import os\n",
    "os.name # 操作系统类型"
   ]
  },
  {
   "cell_type": "markdown",
   "metadata": {},
   "source": [
    "如果是posix，说明系统是Linux、Unix或Mac OS X，如果是nt，就是Windows系统。\n",
    "\n",
    "要获取详细的系统信息，可以调用uname()函数：\n",
    "\n",
    "注意uname()函数在Windows上不提供，也就是说，os模块的某些函数是跟操作系统相关的。"
   ]
  },
  {
   "cell_type": "code",
   "execution_count": null,
   "metadata": {
    "collapsed": true
   },
   "outputs": [],
   "source": [
    "# os.uname() "
   ]
  },
  {
   "cell_type": "markdown",
   "metadata": {},
   "source": [
    "### 1.3.2 环境变量\n",
    "\n",
    "在操作系统中定义的环境变量，全部保存在os.environ这个变量中，可以直接查看："
   ]
  },
  {
   "cell_type": "code",
   "execution_count": null,
   "metadata": {
    "collapsed": true
   },
   "outputs": [],
   "source": [
    "os.environ"
   ]
  },
  {
   "cell_type": "markdown",
   "metadata": {},
   "source": [
    "要获取某个环境变量的值，可以调用os.environ.get('key')："
   ]
  },
  {
   "cell_type": "code",
   "execution_count": null,
   "metadata": {
    "collapsed": true
   },
   "outputs": [],
   "source": [
    "os.environ.get('PATH')"
   ]
  },
  {
   "cell_type": "code",
   "execution_count": null,
   "metadata": {
    "collapsed": true
   },
   "outputs": [],
   "source": [
    "os.environ.get('x', 'default')"
   ]
  },
  {
   "cell_type": "markdown",
   "metadata": {},
   "source": [
    "### 1.3.3 文件和目录\n",
    "\n",
    "操作文件和目录的函数一部分放在os模块中，一部分放在os.path模块中，这一点要注意一下。查看、创建和删除目录可以这么调用："
   ]
  },
  {
   "cell_type": "code",
   "execution_count": null,
   "metadata": {
    "collapsed": true
   },
   "outputs": [],
   "source": [
    "# 查看当前目录的绝对路径:\n",
    "\n",
    "os.path.abspath('.')"
   ]
  },
  {
   "cell_type": "code",
   "execution_count": null,
   "metadata": {
    "collapsed": true
   },
   "outputs": [],
   "source": [
    "# 在某个目录下创建一个新目录，首先把新目录的完整路径表示出来:\n",
    "os.path.join('F:/', 'testdir')"
   ]
  },
  {
   "cell_type": "code",
   "execution_count": null,
   "metadata": {
    "collapsed": true
   },
   "outputs": [],
   "source": [
    "# 然后创建一个目录:\n",
    "os.mkdir('F:/testdir')"
   ]
  },
  {
   "cell_type": "code",
   "execution_count": null,
   "metadata": {
    "collapsed": true
   },
   "outputs": [],
   "source": [
    "# 删掉一个目录:\n",
    "\n",
    "os.rmdir('F:/testdir')"
   ]
  },
  {
   "cell_type": "markdown",
   "metadata": {},
   "source": [
    "把两个路径合成一个时，不要直接拼字符串，而要通过os.path.join()函数，这样可以正确处理不同操作系统的路径分隔符。在Linux/Unix/Mac下，os.path.join()返回这样的字符串：\n",
    "\n",
    "part-1/part-2\n",
    "而Windows下会返回这样的字符串：\n",
    "\n",
    "part-1\\part-2\n",
    "同样的道理，要拆分路径时，也不要直接去拆字符串，而要通过os.path.split()函数，这样可以把一个路径拆分为两部分，后一部分总是最后级别的目录或文件名：\n"
   ]
  },
  {
   "cell_type": "code",
   "execution_count": 16,
   "metadata": {},
   "outputs": [
    {
     "data": {
      "text/plain": [
       "('/Users/michael/testdir', 'file.txt')"
      ]
     },
     "execution_count": 16,
     "metadata": {},
     "output_type": "execute_result"
    }
   ],
   "source": [
    "os.path.split('/Users/michael/testdir/file.txt')"
   ]
  },
  {
   "cell_type": "markdown",
   "metadata": {},
   "source": [
    "os.path.splitext()可以直接让你得到文件扩展名，很多时候非常方便："
   ]
  },
  {
   "cell_type": "code",
   "execution_count": null,
   "metadata": {
    "collapsed": true
   },
   "outputs": [],
   "source": [
    "os.path.splitext('/path/to/file.txt')"
   ]
  },
  {
   "cell_type": "markdown",
   "metadata": {},
   "source": [
    "这些合并、拆分路径的函数并不要求目录和文件要真实存在，它们只对字符串进行操作。\n",
    "\n",
    "文件操作使用下面的函数。假定当前目录下有一个test.txt文件："
   ]
  },
  {
   "cell_type": "code",
   "execution_count": null,
   "metadata": {
    "collapsed": true
   },
   "outputs": [],
   "source": [
    "# 对文件重命名:\n",
    "os.rename('test.txt', 'test.py')\n",
    "# 删掉文件:\n",
    "os.remove('test.py')"
   ]
  },
  {
   "cell_type": "markdown",
   "metadata": {},
   "source": [
    "但是复制文件的函数居然在os模块中不存在！原因是复制文件并非由操作系统提供的系统调用。理论上讲，我们通过上一节的读写文件可以完成文件复制，只不过要多写很多代码。\n",
    "\n",
    "幸运的是shutil模块提供了copyfile()的函数，你还可以在shutil模块中找到很多实用函数，它们可以看做是os模块的补充。\n",
    "\n",
    "最后看看如何利用Python的特性来过滤文件。比如我们要列出当前目录下的所有目录，只需要一行代码："
   ]
  },
  {
   "cell_type": "markdown",
   "metadata": {},
   "source": [
    "最后看看如何利用Python的特性来过滤文件。比如我们要列出当前目录下的所有目录，只需要一行代码："
   ]
  },
  {
   "cell_type": "code",
   "execution_count": 14,
   "metadata": {},
   "outputs": [
    {
     "data": {
      "text/plain": [
       "['.ipynb_checkpoints', 'test_dir']"
      ]
     },
     "execution_count": 14,
     "metadata": {},
     "output_type": "execute_result"
    }
   ],
   "source": [
    "[x for x in os.listdir('.') if os.path.isdir(x)]"
   ]
  },
  {
   "cell_type": "markdown",
   "metadata": {},
   "source": [
    "要列出所有的.py文件，也只需一行代码："
   ]
  },
  {
   "cell_type": "code",
   "execution_count": 15,
   "metadata": {},
   "outputs": [
    {
     "data": {
      "text/plain": [
       "[]"
      ]
     },
     "execution_count": 15,
     "metadata": {},
     "output_type": "execute_result"
    }
   ],
   "source": [
    "[x for x in os.listdir('.') if os.path.isfile(x) and os.path.splitext(x)[1]=='.py']"
   ]
  },
  {
   "cell_type": "markdown",
   "metadata": {},
   "source": [
    "`os` 模块提供了对系统文件进行操作的方法："
   ]
  },
  {
   "cell_type": "code",
   "execution_count": 1,
   "metadata": {
    "collapsed": true
   },
   "outputs": [],
   "source": [
    "import os"
   ]
  },
  {
   "cell_type": "markdown",
   "metadata": {},
   "source": [
    "## 文件路径操作"
   ]
  },
  {
   "cell_type": "markdown",
   "metadata": {},
   "source": [
    "- `os.remove(path)` 或 `os.unlink(path)` ：删除指定路径的文件。路径可以是全名，也可以是当前工作目录下的路径。\n",
    "- `os.removedirs`：删除文件，并删除中间路径中的空文件夹\n",
    "- `os.chdir(path)`：将当前工作目录改变为指定的路径\n",
    "- `os.getcwd()`：返回当前的工作目录\n",
    "- `os.curdir`：表示当前目录的符号\n",
    "- `os.rename(old, new)`：重命名文件\n",
    "- `os.renames(old, new)`：重命名文件，如果中间路径的文件夹不存在，则创建文件夹\n",
    "- `os.listdir(path)`：返回给定目录下的所有文件夹和文件名，不包括 `'.'` 和 `'..'` 以及子文件夹下的目录。（`'.'` 和 `'..'` 分别指当前目录和父目录）\n",
    "- `os.mkdir(name)`：产生新文件夹\n",
    "- `os.makedirs(name)`：产生新文件夹，如果中间路径的文件夹不存在，则创建文件夹\n",
    "\n",
    "当前目录："
   ]
  },
  {
   "cell_type": "code",
   "execution_count": 2,
   "metadata": {},
   "outputs": [
    {
     "data": {
      "text/plain": [
       "'/home/lijin/notes-python/05. advanced python'"
      ]
     },
     "execution_count": 2,
     "metadata": {},
     "output_type": "execute_result"
    }
   ],
   "source": [
    "os.getcwd()"
   ]
  },
  {
   "cell_type": "markdown",
   "metadata": {},
   "source": [
    "当前目录的符号："
   ]
  },
  {
   "cell_type": "code",
   "execution_count": 3,
   "metadata": {},
   "outputs": [
    {
     "data": {
      "text/plain": [
       "'.'"
      ]
     },
     "execution_count": 3,
     "metadata": {},
     "output_type": "execute_result"
    }
   ],
   "source": [
    "os.curdir"
   ]
  },
  {
   "cell_type": "markdown",
   "metadata": {},
   "source": [
    "当前目录下的文件："
   ]
  },
  {
   "cell_type": "code",
   "execution_count": 4,
   "metadata": {
    "scrolled": true
   },
   "outputs": [
    {
     "data": {
      "text/plain": [
       "['05.01 overview of the sys module.ipynb',\n",
       " '05.05 datetime.ipynb',\n",
       " '05.13 decorator usage.ipynb',\n",
       " '.ipynb_checkpoints',\n",
       " '05.03 comma separated values.ipynb',\n",
       " '05.02 interacting with the OS - os.ipynb',\n",
       " '05.10 generators.ipynb',\n",
       " '05.15 scope.ipynb',\n",
       " '05.12 decorators.ipynb',\n",
       " '05.09 iterators.ipynb',\n",
       " 'my_database.sqlite',\n",
       " '05.11 context managers and the with statement.ipynb',\n",
       " '05.16 dynamic code execution.ipynb',\n",
       " '05.14 the operator functools itertools toolz fn funcy module.ipynb',\n",
       " '05.04 regular expression.ipynb',\n",
       " '05.07 object-relational mappers.ipynb',\n",
       " '05.08 functions.ipynb',\n",
       " '05.06 sql databases.ipynb']"
      ]
     },
     "execution_count": 4,
     "metadata": {},
     "output_type": "execute_result"
    }
   ],
   "source": [
    "os.listdir(os.curdir)"
   ]
  },
  {
   "cell_type": "markdown",
   "metadata": {},
   "source": [
    "产生文件："
   ]
  },
  {
   "cell_type": "code",
   "execution_count": 5,
   "metadata": {},
   "outputs": [
    {
     "name": "stdout",
     "output_type": "stream",
     "text": [
      "True\n"
     ]
    }
   ],
   "source": [
    "f = open(\"test.file\", \"w\")\n",
    "f.close()\n",
    "\n",
    "print \"test.file\" in os.listdir(os.curdir)"
   ]
  },
  {
   "cell_type": "markdown",
   "metadata": {},
   "source": [
    "重命名文件："
   ]
  },
  {
   "cell_type": "code",
   "execution_count": 6,
   "metadata": {
    "scrolled": true
   },
   "outputs": [
    {
     "name": "stdout",
     "output_type": "stream",
     "text": [
      "False\n",
      "True\n"
     ]
    }
   ],
   "source": [
    "os.rename(\"test.file\", \"test.new.file\")\n",
    "\n",
    "print \"test.file\" in os.listdir(os.curdir)\n",
    "print \"test.new.file\" in os.listdir(os.curdir)"
   ]
  },
  {
   "cell_type": "markdown",
   "metadata": {},
   "source": [
    "删除文件："
   ]
  },
  {
   "cell_type": "code",
   "execution_count": 7,
   "metadata": {
    "collapsed": true
   },
   "outputs": [],
   "source": [
    "os.remove(\"test.new.file\")"
   ]
  },
  {
   "cell_type": "markdown",
   "metadata": {
    "collapsed": true
   },
   "source": [
    "## 系统常量"
   ]
  },
  {
   "cell_type": "markdown",
   "metadata": {},
   "source": [
    "当前操作系统的换行符："
   ]
  },
  {
   "cell_type": "code",
   "execution_count": 8,
   "metadata": {},
   "outputs": [
    {
     "data": {
      "text/plain": [
       "'\\n'"
      ]
     },
     "execution_count": 8,
     "metadata": {},
     "output_type": "execute_result"
    }
   ],
   "source": [
    "# windows 为 \\r\\n\n",
    "os.linesep"
   ]
  },
  {
   "cell_type": "markdown",
   "metadata": {},
   "source": [
    "当前操作系统的路径分隔符："
   ]
  },
  {
   "cell_type": "code",
   "execution_count": 9,
   "metadata": {},
   "outputs": [
    {
     "data": {
      "text/plain": [
       "'/'"
      ]
     },
     "execution_count": 9,
     "metadata": {},
     "output_type": "execute_result"
    }
   ],
   "source": [
    "os.sep"
   ]
  },
  {
   "cell_type": "markdown",
   "metadata": {},
   "source": [
    "当前操作系统的环境变量中的分隔符（`';'` 或 `':'`）："
   ]
  },
  {
   "cell_type": "code",
   "execution_count": 10,
   "metadata": {},
   "outputs": [
    {
     "data": {
      "text/plain": [
       "':'"
      ]
     },
     "execution_count": 10,
     "metadata": {},
     "output_type": "execute_result"
    }
   ],
   "source": [
    "os.pathsep"
   ]
  },
  {
   "cell_type": "markdown",
   "metadata": {},
   "source": [
    "## 其他"
   ]
  },
  {
   "cell_type": "markdown",
   "metadata": {},
   "source": [
    "`os.environ` 是一个存储所有环境变量的值的字典，可以修改。"
   ]
  },
  {
   "cell_type": "code",
   "execution_count": 11,
   "metadata": {},
   "outputs": [
    {
     "data": {
      "text/plain": [
       "'lijin'"
      ]
     },
     "execution_count": 11,
     "metadata": {},
     "output_type": "execute_result"
    }
   ],
   "source": [
    "os.environ[\"USER\"]"
   ]
  },
  {
   "cell_type": "markdown",
   "metadata": {},
   "source": [
    "`os.urandom(len)` 返回指定长度的随机字节。"
   ]
  },
  {
   "cell_type": "markdown",
   "metadata": {},
   "source": [
    "## os.path 模块"
   ]
  },
  {
   "cell_type": "markdown",
   "metadata": {},
   "source": [
    "不同的操作系统使用不同的路径规范，这样当我们在不同的操作系统下进行操作时，可能会带来一定的麻烦，而 `os.path` 模块则帮我们解决了这个问题。"
   ]
  },
  {
   "cell_type": "code",
   "execution_count": 12,
   "metadata": {
    "collapsed": true
   },
   "outputs": [],
   "source": [
    "import os.path"
   ]
  },
  {
   "cell_type": "markdown",
   "metadata": {},
   "source": [
    "### 测试"
   ]
  },
  {
   "cell_type": "markdown",
   "metadata": {},
   "source": [
    "- `os.path.isfile(path)` ：检测一个路径是否为普通文件\n",
    "- `os.path.isdir(path)`：检测一个路径是否为文件夹\n",
    "- `os.path.exists(path)`：检测路径是否存在\n",
    "- `os.path.isabs(path)`：检测路径是否为绝对路径"
   ]
  },
  {
   "cell_type": "markdown",
   "metadata": {},
   "source": [
    "### split 和 join"
   ]
  },
  {
   "cell_type": "markdown",
   "metadata": {},
   "source": [
    "- `os.path.split(path)`：拆分一个路径为 `(head, tail)` 两部分\n",
    "- `os.path.join(a, *p)`：使用系统的路径分隔符，将各个部分合成一个路径"
   ]
  },
  {
   "cell_type": "markdown",
   "metadata": {},
   "source": [
    "### 其他"
   ]
  },
  {
   "cell_type": "markdown",
   "metadata": {},
   "source": [
    "- `os.path.abspath()`：返回路径的绝对路径\n",
    "- `os.path.dirname(path)`：返回路径中的文件夹部分\n",
    "- `os.path.basename(path)`：返回路径中的文件部分\n",
    "- `os.path.splitext(path)`：将路径与扩展名分开\n",
    "- `os.path.expanduser(path)`：展开 `'~'` 和 `'~user'`"
   ]
  },
  {
   "cell_type": "markdown",
   "metadata": {
    "collapsed": true
   },
   "source": [
    "## 1.4 与操作系统进行交互：os 模块"
   ]
  }
 ],
 "metadata": {
  "kernelspec": {
   "display_name": "Python 3",
   "language": "python",
   "name": "python3"
  },
  "language_info": {
   "codemirror_mode": {
    "name": "ipython",
    "version": 3
   },
   "file_extension": ".py",
   "mimetype": "text/x-python",
   "name": "python",
   "nbconvert_exporter": "python",
   "pygments_lexer": "ipython3",
   "version": "3.6.3"
  },
  "toc": {
   "base_numbering": 1,
   "nav_menu": {},
   "number_sections": false,
   "sideBar": true,
   "skip_h1_title": false,
   "title_cell": "Table of Contents",
   "title_sidebar": "Contents",
   "toc_cell": false,
   "toc_position": {},
   "toc_section_display": true,
   "toc_window_display": true
  }
 },
 "nbformat": 4,
 "nbformat_minor": 1
}
