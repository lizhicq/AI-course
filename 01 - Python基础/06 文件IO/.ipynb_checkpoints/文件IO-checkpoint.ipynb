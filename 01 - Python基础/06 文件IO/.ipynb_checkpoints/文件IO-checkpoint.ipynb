{
 "cells": [
  {
   "cell_type": "markdown",
   "metadata": {},
   "source": [
    "假设你在一个名叫stocks.csv文件中有一些股票市场数据，就像这样：\n",
    "\n",
    "\n",
    "    Symbol,Price,Date,Time,Change,Volume\n",
    "    \"AA\",39.48,\"6/11/2007\",\"9:36am\",-0.18,181800\n",
    "    \"AIG\",71.38,\"6/11/2007\",\"9:36am\",-0.15,195500\n",
    "    \"AXP\",62.58,\"6/11/2007\",\"9:36am\",-0.46,935000\n",
    "    \"BA\",98.31,\"6/11/2007\",\"9:36am\",+0.12,104800\n",
    "    \"C\",53.08,\"6/11/2007\",\"9:36am\",-0.25,360900\n",
    "    \"CAT\",78.29,\"6/11/2007\",\"9:36am\",-0.23,225400"
   ]
  },
  {
   "cell_type": "code",
   "execution_count": null,
   "metadata": {
    "collapsed": true
   },
   "outputs": [],
   "source": [
    "# 1、生成文件  stocks.csv  （这里包括了header部分）\n",
    "\n"
   ]
  },
  {
   "cell_type": "code",
   "execution_count": null,
   "metadata": {
    "collapsed": true
   },
   "outputs": [],
   "source": [
    "# 2、 打开文件并读取内容 （元组序列，如果访问某个字段，你需要使用下标\n",
    "import csv\n",
    "with open('stocks.csv') as f:\n",
    "    pass\n"
   ]
  }
 ],
 "metadata": {
  "kernelspec": {
   "display_name": "Python 3",
   "language": "python",
   "name": "python3"
  },
  "language_info": {
   "codemirror_mode": {
    "name": "ipython",
    "version": 3
   },
   "file_extension": ".py",
   "mimetype": "text/x-python",
   "name": "python",
   "nbconvert_exporter": "python",
   "pygments_lexer": "ipython3",
   "version": "3.6.3"
  },
  "toc": {
   "base_numbering": 1,
   "nav_menu": {},
   "number_sections": true,
   "sideBar": true,
   "skip_h1_title": false,
   "title_cell": "Table of Contents",
   "title_sidebar": "Contents",
   "toc_cell": false,
   "toc_position": {},
   "toc_section_display": true,
   "toc_window_display": false
  }
 },
 "nbformat": 4,
 "nbformat_minor": 2
}
