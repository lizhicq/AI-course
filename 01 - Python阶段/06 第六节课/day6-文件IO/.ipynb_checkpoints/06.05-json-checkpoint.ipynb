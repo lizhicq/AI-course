{
 "cells": [
  {
   "cell_type": "markdown",
   "metadata": {},
   "source": [
    "# 5. json 模块：处理 JSON 数据"
   ]
  },
  {
   "cell_type": "markdown",
   "metadata": {},
   "source": [
    "[JSON (JavaScript Object Notation)](http://json.org) 是一种轻量级的数据交换格式，易于人阅读和编写，同时也易于机器解析和生成。\n",
    "\n",
    "果我们要在不同的编程语言之间传递对象，就必须把对象序列化为标准格式，比如XML，但更好的方法是序列化为JSON，因为JSON表示出来就是一个字符串，可以被所有语言读取，也可以方便地存储到磁盘或者通过网络传输。JSON不仅是标准格式，并且比XML更快，而且可以直接在Web页面中读取，非常方便。\n"
   ]
  },
  {
   "cell_type": "markdown",
   "metadata": {},
   "source": [
    "## 5.1 JSON 基础"
   ]
  },
  {
   "cell_type": "markdown",
   "metadata": {},
   "source": [
    "`JSON` 的基础结构有两种：键值对 (`name/value pairs`) 和数组 (`array`)。\n",
    "\n",
    "`JSON` 具有以下形式：\n",
    "\n",
    "- `object` - 对象，用花括号表示，形式为（数据是无序的）：\n",
    "    - `{ pair_1, pair_2, ..., pair_n }`\n",
    "- `pair` - 键值对，形式为：\n",
    "    - `string : value`\n",
    "- `array` - 数组，用中括号表示，形式为（数据是有序的）：\n",
    "    - `[value_1, value_2, ..., value_n ]`\n",
    "- `value` - 值，可以是\n",
    "    - `string` 字符串\n",
    "    - `number` 数字\n",
    "    - `object` 对象\n",
    "    - `array` 数组\n",
    "    - `true / false / null` 特殊值\n",
    "- `string` 字符串\n",
    "\n",
    "例子：\n",
    "\n",
    "```json\n",
    "{\n",
    "    \"name\": \"echo\",\n",
    "    \"age\": 24,\n",
    "    \"coding skills\": [\"python\", \"matlab\", \"java\", \"c\", \"c++\", \"ruby\", \"scala\"],\n",
    "    \"ages for school\": { \n",
    "        \"primary school\": 6,\n",
    "        \"middle school\": 9,\n",
    "        \"high school\": 15,\n",
    "        \"university\": 18\n",
    "    },\n",
    "    \"hobby\": [\"sports\", \"reading\"],\n",
    "    \"married\": false\n",
    "}\n",
    "```"
   ]
  },
  {
   "cell_type": "markdown",
   "metadata": {},
   "source": [
    "JSON表示的对象就是标准的JavaScript语言的对象，JSON和Python内置的数据类型对应如下：\n",
    "\n",
    "    JSON类型\tPython类型\n",
    "    -------------------\n",
    "    {}\t        dict\n",
    "    []\t        list\n",
    "    \"string\"\t  str\n",
    "    1234.56\t   int或float\n",
    "    true/false\tTrue/False\n",
    "    null\t      None"
   ]
  },
  {
   "cell_type": "markdown",
   "metadata": {},
   "source": [
    "## 5.2 json模块的功能"
   ]
  },
  {
   "cell_type": "markdown",
   "metadata": {},
   "source": [
    "json模块也提供了四个功能：dumps、dump、loads、load。\n",
    "\n",
    "和pickle模块提供的功能几乎一样，这里不再做说明。"
   ]
  },
  {
   "cell_type": "markdown",
   "metadata": {},
   "source": [
    "## 5.3 JSON 与 Python 的转换"
   ]
  },
  {
   "cell_type": "markdown",
   "metadata": {},
   "source": [
    "假设我们已经将上面这个 `JSON` 对象写入了一个字符串："
   ]
  },
  {
   "cell_type": "code",
   "execution_count": 7,
   "metadata": {
    "collapsed": true
   },
   "outputs": [],
   "source": [
    "import json\n",
    "from pprint import pprint\n",
    "\n",
    "info_string = \"\"\"\n",
    "{\n",
    "    \"name\": \"echo\",\n",
    "    \"age\": 24,\n",
    "    \"coding skills\": [\"python\", \"matlab\", \"java\", \"c\", \"c++\", \"ruby\", \"scala\"],\n",
    "    \"ages for school\": { \n",
    "        \"primary school\": 6,\n",
    "        \"middle school\": 9,\n",
    "        \"high school\": 15,\n",
    "        \"university\": 18\n",
    "    },\n",
    "    \"hobby\": [\"sports\", \"reading\"],\n",
    "    \"married\": false\n",
    "}\n",
    "\"\"\""
   ]
  },
  {
   "cell_type": "markdown",
   "metadata": {},
   "source": [
    "我们可以用 `json.loads()` (load string) 方法从字符串中读取 `JSON` 数据："
   ]
  },
  {
   "cell_type": "code",
   "execution_count": 8,
   "metadata": {},
   "outputs": [
    {
     "name": "stdout",
     "output_type": "stream",
     "text": [
      "{'age': 24,\n",
      " 'ages for school': {'high school': 15,\n",
      "                     'middle school': 9,\n",
      "                     'primary school': 6,\n",
      "                     'university': 18},\n",
      " 'coding skills': ['python', 'matlab', 'java', 'c', 'c++', 'ruby', 'scala'],\n",
      " 'hobby': ['sports', 'reading'],\n",
      " 'married': False,\n",
      " 'name': 'echo'}\n"
     ]
    }
   ],
   "source": [
    "info = json.loads(info_string)\n",
    "\n",
    "pprint(info)"
   ]
  },
  {
   "cell_type": "markdown",
   "metadata": {},
   "source": [
    "此时，我们将原来的 `JSON` 数据变成了一个 `Python` 对象，在我们的例子中这个对象是个字典（也可能是别的类型，比如列表）："
   ]
  },
  {
   "cell_type": "code",
   "execution_count": 3,
   "metadata": {},
   "outputs": [
    {
     "data": {
      "text/plain": [
       "dict"
      ]
     },
     "execution_count": 3,
     "metadata": {},
     "output_type": "execute_result"
    }
   ],
   "source": [
    "type(info)"
   ]
  },
  {
   "cell_type": "markdown",
   "metadata": {},
   "source": [
    "可以使用 `json.dumps()` 将一个 `Python` 对象变成 `JSON` 对象："
   ]
  },
  {
   "cell_type": "code",
   "execution_count": 9,
   "metadata": {},
   "outputs": [
    {
     "name": "stdout",
     "output_type": "stream",
     "text": [
      "{\"name\": \"echo\", \"age\": 24, \"coding skills\": [\"python\", \"matlab\", \"java\", \"c\", \"c++\", \"ruby\", \"scala\"], \"ages for school\": {\"primary school\": 6, \"middle school\": 9, \"high school\": 15, \"university\": 18}, \"hobby\": [\"sports\", \"reading\"], \"married\": false}\n"
     ]
    }
   ],
   "source": [
    "info_json = json.dumps(info)\n",
    "\n",
    "print(info_json)"
   ]
  },
  {
   "cell_type": "markdown",
   "metadata": {},
   "source": [
    "从中我们可以看到，生成的 `JSON` 字符串中，数组的元素顺序是不变的（始终是 `[\"python\", \"matlab\", \"java\", \"c\", \"c++\", \"ruby\", \"scala\"]`），而对象的元素顺序是不确定的。"
   ]
  },
  {
   "cell_type": "markdown",
   "metadata": {},
   "source": [
    "再看一个例子"
   ]
  },
  {
   "cell_type": "code",
   "execution_count": 2,
   "metadata": {},
   "outputs": [
    {
     "data": {
      "text/plain": [
       "'{\"name\": \"Bob\", \"age\": 20, \"score\": 88}'"
      ]
     },
     "execution_count": 2,
     "metadata": {},
     "output_type": "execute_result"
    }
   ],
   "source": [
    "import json\n",
    "d = dict(name='Bob', age=20, score=88)\n",
    "json.dumps(d)  # dumps()方法返回一个str，内容就是标准的JSON， 类似的，dump()方法可以直接把JSON写入一个file-like Object"
   ]
  },
  {
   "cell_type": "markdown",
   "metadata": {},
   "source": [
    "要把JSON反序列化为Python对象，用loads()或者对应的load()方法，前者把JSON的字符串反序列化，后者从file-like Object中读取字符串并反序列化："
   ]
  },
  {
   "cell_type": "code",
   "execution_count": 4,
   "metadata": {},
   "outputs": [
    {
     "data": {
      "text/plain": [
       "{'age': 20, 'name': 'Bob', 'score': 88}"
      ]
     },
     "execution_count": 4,
     "metadata": {},
     "output_type": "execute_result"
    }
   ],
   "source": [
    "json_str = '{\"age\": 20, \"score\": 88, \"name\": \"Bob\"}'\n",
    "json.loads(json_str)  "
   ]
  },
  {
   "cell_type": "markdown",
   "metadata": {},
   "source": [
    "由于JSON标准规定JSON编码是UTF-8，所以我们总是能正确地在Python的str与JSON的字符串之间转换。"
   ]
  },
  {
   "cell_type": "markdown",
   "metadata": {},
   "source": [
    "## 5.4 生成和读取 JSON 文件"
   ]
  },
  {
   "cell_type": "markdown",
   "metadata": {},
   "source": [
    "与 `pickle` 类似，我们可以直接从文件中读取 `JSON` 数据，也可以将对象保存为 `JSON` 格式。\n",
    "\n",
    "- `json.dump(obj, file)` 将对象保存为 JSON 格式的文件\n",
    "- `json.load(file)` 从 JSON 文件中读取数据"
   ]
  },
  {
   "cell_type": "code",
   "execution_count": 10,
   "metadata": {
    "collapsed": true
   },
   "outputs": [],
   "source": [
    "with open(\"info.json\", \"w\") as f:\n",
    "    json.dump(info, f)"
   ]
  },
  {
   "cell_type": "markdown",
   "metadata": {},
   "source": [
    "可以查看 `info.json` 的内容："
   ]
  },
  {
   "cell_type": "code",
   "execution_count": 12,
   "metadata": {},
   "outputs": [
    {
     "name": "stdout",
     "output_type": "stream",
     "text": [
      "{\"name\": \"echo\", \"age\": 24, \"coding skills\": [\"python\", \"matlab\", \"java\", \"c\", \"c++\", \"ruby\", \"scala\"], \"ages for school\": {\"primary school\": 6, \"middle school\": 9, \"high school\": 15, \"university\": 18}, \"hobby\": [\"sports\", \"reading\"], \"married\": false}\n"
     ]
    }
   ],
   "source": [
    "with open(\"info.json\") as f:\n",
    "    print(f.read())"
   ]
  },
  {
   "cell_type": "markdown",
   "metadata": {},
   "source": [
    "从文件中读取数据："
   ]
  },
  {
   "cell_type": "code",
   "execution_count": 13,
   "metadata": {},
   "outputs": [
    {
     "name": "stdout",
     "output_type": "stream",
     "text": [
      "{'age': 24,\n",
      " 'ages for school': {'high school': 15,\n",
      "                     'middle school': 9,\n",
      "                     'primary school': 6,\n",
      "                     'university': 18},\n",
      " 'coding skills': ['python', 'matlab', 'java', 'c', 'c++', 'ruby', 'scala'],\n",
      " 'hobby': ['sports', 'reading'],\n",
      " 'married': False,\n",
      " 'name': 'echo'}\n"
     ]
    }
   ],
   "source": [
    "with open(\"info.json\") as f:\n",
    "    info_from_file = json.load(f)\n",
    "    \n",
    "pprint(info_from_file)"
   ]
  },
  {
   "cell_type": "markdown",
   "metadata": {},
   "source": [
    "删除生成的文件："
   ]
  },
  {
   "cell_type": "code",
   "execution_count": 14,
   "metadata": {
    "collapsed": true
   },
   "outputs": [],
   "source": [
    "import os\n",
    "os.remove(\"info.json\")"
   ]
  },
  {
   "cell_type": "markdown",
   "metadata": {},
   "source": [
    "## 5.5 JSON进阶-序列化类对象\n",
    "\n",
    "Python的dict对象可以直接序列化为JSON的{}，不过，很多时候，我们更喜欢用class表示对象，比如定义Student类，然后序列化："
   ]
  },
  {
   "cell_type": "code",
   "execution_count": null,
   "metadata": {
    "collapsed": true,
    "scrolled": true
   },
   "outputs": [],
   "source": [
    "import json\n",
    "\n",
    "class Student(object):\n",
    "    def __init__(self, name, age, score):\n",
    "        self.name = name\n",
    "        self.age = age\n",
    "        self.score = score\n",
    "\n",
    "s = Student('Bob', 20, 88)\n",
    "print(json.dumps(s))"
   ]
  },
  {
   "cell_type": "markdown",
   "metadata": {},
   "source": [
    "错误的原因是Student对象不是一个可序列化为JSON的对象。\n",
    "\n",
    "如果连class的实例对象都无法序列化为JSON，这肯定不合理！\n",
    "\n",
    "别急，我们仔细看看dumps()方法的参数列表，可以发现，除了第一个必须的obj参数外，dumps()方法还提供了一大堆的可选参数：\n",
    "\n",
    "https://docs.python.org/3/library/json.html#json.dumps\n",
    "\n",
    "这些可选参数就是让我们来定制JSON序列化。前面的代码之所以无法把Student类实例序列化为JSON，是因为默认情况下，dumps()方法不知道如何将Student实例变为一个JSON的{}对象。\n",
    "\n",
    "可选参数default就是把任意一个对象变成一个可序列为JSON的对象，我们只需要为Student专门写一个转换函数，再把函数传进去即可："
   ]
  },
  {
   "cell_type": "code",
   "execution_count": 19,
   "metadata": {
    "collapsed": true
   },
   "outputs": [],
   "source": [
    "def student2dict(std):\n",
    "    return {\n",
    "        'name': std.name,\n",
    "        'age': std.age,\n",
    "        'score': std.score\n",
    "    }"
   ]
  },
  {
   "cell_type": "markdown",
   "metadata": {},
   "source": [
    "这样，Student实例首先被student2dict()函数转换成dict，然后再被顺利序列化为JSON："
   ]
  },
  {
   "cell_type": "code",
   "execution_count": 20,
   "metadata": {},
   "outputs": [
    {
     "name": "stdout",
     "output_type": "stream",
     "text": [
      "{\"name\": \"Bob\", \"age\": 20, \"score\": 88}\n"
     ]
    }
   ],
   "source": [
    " print(json.dumps(s, default=student2dict))"
   ]
  },
  {
   "cell_type": "markdown",
   "metadata": {},
   "source": [
    "不过，下次如果遇到一个Teacher类的实例，照样无法序列化为JSON。我们可以偷个懒，把任意class的实例变为dict："
   ]
  },
  {
   "cell_type": "code",
   "execution_count": 21,
   "metadata": {},
   "outputs": [
    {
     "name": "stdout",
     "output_type": "stream",
     "text": [
      "{\"name\": \"Bob\", \"age\": 20, \"score\": 88}\n"
     ]
    }
   ],
   "source": [
    "print(json.dumps(s, default=lambda obj: obj.__dict__)) #匿名函数"
   ]
  },
  {
   "cell_type": "markdown",
   "metadata": {},
   "source": [
    "因为通常class的实例都有一个`__dict__`属性，它就是一个dict，用来存储实例变量。也有少数例外，比如定义了`__slots__`的class。\n",
    "\n",
    "同样的道理，如果我们要把JSON反序列化为一个Student对象实例，loads()方法首先转换出一个dict对象，然后，我们传入的object_hook函数负责把dict转换为Student实例："
   ]
  },
  {
   "cell_type": "code",
   "execution_count": 22,
   "metadata": {
    "collapsed": true
   },
   "outputs": [],
   "source": [
    "def dict2student(d):\n",
    "    return Student(d['name'], d['age'], d['score'])"
   ]
  },
  {
   "cell_type": "code",
   "execution_count": 24,
   "metadata": {},
   "outputs": [
    {
     "name": "stdout",
     "output_type": "stream",
     "text": [
      "<__main__.Student object at 0x000001C2BF35A5C0>\n"
     ]
    }
   ],
   "source": [
    "json_str = '{\"age\": 20, \"score\": 88, \"name\": \"Bob\"}'\n",
    "print(json.loads(json_str, object_hook=dict2student))  # 打印出的是反序列化的Student实例对象。"
   ]
  },
  {
   "cell_type": "markdown",
   "metadata": {
    "collapsed": true
   },
   "source": [
    "再来看一个例子\n",
    "\n",
    "我们先来定义一个类，Employee，员工类，注意，类中有一个成员变量age，它是一个私有private类型，因此，我们需要给私有age变量提供公有属性getter和setter，我们利用之前学过的内置装饰器@property，来完成这一壮举，为什么要定义一个私有的age，目的就是为了区分和对比public和private的成员变量，在默认序列化成json对象的时候的细微不同之处。"
   ]
  },
  {
   "cell_type": "code",
   "execution_count": 1,
   "metadata": {
    "collapsed": true
   },
   "outputs": [],
   "source": [
    "#!/usr/bin/env Python3  \n",
    "# -*- coding:utf-8 -*-  \n",
    "  \n",
    "import json  \n",
    "  \n",
    "class Employee:  \n",
    "    \n",
    "    def __init__(self,name,sex,age,salary):  \n",
    "        self.name  = name    #姓名  \n",
    "        self.sex   = sex     #性别   \n",
    "        self.__age = age     #年龄 私有变量   \n",
    "        self.salary= salary  #薪资 按月算      \n",
    "        \n",
    "    @property  \n",
    "    def age(self):            #age的getter属性，还记得装饰器@property的用法吗？  \n",
    "        return self.__age  \n",
    "    \n",
    "    @age.setter  \n",
    "    def age(self,value):      #age的setter属性  \n",
    "        self.__age = value  "
   ]
  },
  {
   "cell_type": "markdown",
   "metadata": {},
   "source": [
    "实例化一个对象person"
   ]
  },
  {
   "cell_type": "code",
   "execution_count": 2,
   "metadata": {
    "collapsed": true
   },
   "outputs": [],
   "source": [
    "person = Employee('张三','男',35,4560.00)  "
   ]
  },
  {
   "cell_type": "markdown",
   "metadata": {},
   "source": [
    "利用序列化基本数据类型的方法dumps,来试图，序列化这个person对象，操作如下"
   ]
  },
  {
   "cell_type": "code",
   "execution_count": 3,
   "metadata": {},
   "outputs": [
    {
     "ename": "TypeError",
     "evalue": "Object of type 'Employee' is not JSON serializable",
     "output_type": "error",
     "traceback": [
      "\u001b[1;31m---------------------------------------------------------------------------\u001b[0m",
      "\u001b[1;31mTypeError\u001b[0m                                 Traceback (most recent call last)",
      "\u001b[1;32m<ipython-input-3-d333cc00012b>\u001b[0m in \u001b[0;36m<module>\u001b[1;34m()\u001b[0m\n\u001b[1;32m----> 1\u001b[1;33m \u001b[0mprint\u001b[0m\u001b[1;33m(\u001b[0m\u001b[0mjson\u001b[0m\u001b[1;33m.\u001b[0m\u001b[0mdumps\u001b[0m\u001b[1;33m(\u001b[0m\u001b[0mperson\u001b[0m\u001b[1;33m)\u001b[0m\u001b[1;33m)\u001b[0m  \u001b[1;31m#\u001b[0m\u001b[1;33m\u001b[0m\u001b[0m\n\u001b[0m",
      "\u001b[1;32mC:\\ProgramData\\Anaconda3\\lib\\json\\__init__.py\u001b[0m in \u001b[0;36mdumps\u001b[1;34m(obj, skipkeys, ensure_ascii, check_circular, allow_nan, cls, indent, separators, default, sort_keys, **kw)\u001b[0m\n\u001b[0;32m    229\u001b[0m         \u001b[0mcls\u001b[0m \u001b[1;32mis\u001b[0m \u001b[1;32mNone\u001b[0m \u001b[1;32mand\u001b[0m \u001b[0mindent\u001b[0m \u001b[1;32mis\u001b[0m \u001b[1;32mNone\u001b[0m \u001b[1;32mand\u001b[0m \u001b[0mseparators\u001b[0m \u001b[1;32mis\u001b[0m \u001b[1;32mNone\u001b[0m \u001b[1;32mand\u001b[0m\u001b[1;33m\u001b[0m\u001b[0m\n\u001b[0;32m    230\u001b[0m         default is None and not sort_keys and not kw):\n\u001b[1;32m--> 231\u001b[1;33m         \u001b[1;32mreturn\u001b[0m \u001b[0m_default_encoder\u001b[0m\u001b[1;33m.\u001b[0m\u001b[0mencode\u001b[0m\u001b[1;33m(\u001b[0m\u001b[0mobj\u001b[0m\u001b[1;33m)\u001b[0m\u001b[1;33m\u001b[0m\u001b[0m\n\u001b[0m\u001b[0;32m    232\u001b[0m     \u001b[1;32mif\u001b[0m \u001b[0mcls\u001b[0m \u001b[1;32mis\u001b[0m \u001b[1;32mNone\u001b[0m\u001b[1;33m:\u001b[0m\u001b[1;33m\u001b[0m\u001b[0m\n\u001b[0;32m    233\u001b[0m         \u001b[0mcls\u001b[0m \u001b[1;33m=\u001b[0m \u001b[0mJSONEncoder\u001b[0m\u001b[1;33m\u001b[0m\u001b[0m\n",
      "\u001b[1;32mC:\\ProgramData\\Anaconda3\\lib\\json\\encoder.py\u001b[0m in \u001b[0;36mencode\u001b[1;34m(self, o)\u001b[0m\n\u001b[0;32m    197\u001b[0m         \u001b[1;31m# exceptions aren't as detailed.  The list call should be roughly\u001b[0m\u001b[1;33m\u001b[0m\u001b[1;33m\u001b[0m\u001b[0m\n\u001b[0;32m    198\u001b[0m         \u001b[1;31m# equivalent to the PySequence_Fast that ''.join() would do.\u001b[0m\u001b[1;33m\u001b[0m\u001b[1;33m\u001b[0m\u001b[0m\n\u001b[1;32m--> 199\u001b[1;33m         \u001b[0mchunks\u001b[0m \u001b[1;33m=\u001b[0m \u001b[0mself\u001b[0m\u001b[1;33m.\u001b[0m\u001b[0miterencode\u001b[0m\u001b[1;33m(\u001b[0m\u001b[0mo\u001b[0m\u001b[1;33m,\u001b[0m \u001b[0m_one_shot\u001b[0m\u001b[1;33m=\u001b[0m\u001b[1;32mTrue\u001b[0m\u001b[1;33m)\u001b[0m\u001b[1;33m\u001b[0m\u001b[0m\n\u001b[0m\u001b[0;32m    200\u001b[0m         \u001b[1;32mif\u001b[0m \u001b[1;32mnot\u001b[0m \u001b[0misinstance\u001b[0m\u001b[1;33m(\u001b[0m\u001b[0mchunks\u001b[0m\u001b[1;33m,\u001b[0m \u001b[1;33m(\u001b[0m\u001b[0mlist\u001b[0m\u001b[1;33m,\u001b[0m \u001b[0mtuple\u001b[0m\u001b[1;33m)\u001b[0m\u001b[1;33m)\u001b[0m\u001b[1;33m:\u001b[0m\u001b[1;33m\u001b[0m\u001b[0m\n\u001b[0;32m    201\u001b[0m             \u001b[0mchunks\u001b[0m \u001b[1;33m=\u001b[0m \u001b[0mlist\u001b[0m\u001b[1;33m(\u001b[0m\u001b[0mchunks\u001b[0m\u001b[1;33m)\u001b[0m\u001b[1;33m\u001b[0m\u001b[0m\n",
      "\u001b[1;32mC:\\ProgramData\\Anaconda3\\lib\\json\\encoder.py\u001b[0m in \u001b[0;36miterencode\u001b[1;34m(self, o, _one_shot)\u001b[0m\n\u001b[0;32m    255\u001b[0m                 \u001b[0mself\u001b[0m\u001b[1;33m.\u001b[0m\u001b[0mkey_separator\u001b[0m\u001b[1;33m,\u001b[0m \u001b[0mself\u001b[0m\u001b[1;33m.\u001b[0m\u001b[0mitem_separator\u001b[0m\u001b[1;33m,\u001b[0m \u001b[0mself\u001b[0m\u001b[1;33m.\u001b[0m\u001b[0msort_keys\u001b[0m\u001b[1;33m,\u001b[0m\u001b[1;33m\u001b[0m\u001b[0m\n\u001b[0;32m    256\u001b[0m                 self.skipkeys, _one_shot)\n\u001b[1;32m--> 257\u001b[1;33m         \u001b[1;32mreturn\u001b[0m \u001b[0m_iterencode\u001b[0m\u001b[1;33m(\u001b[0m\u001b[0mo\u001b[0m\u001b[1;33m,\u001b[0m \u001b[1;36m0\u001b[0m\u001b[1;33m)\u001b[0m\u001b[1;33m\u001b[0m\u001b[0m\n\u001b[0m\u001b[0;32m    258\u001b[0m \u001b[1;33m\u001b[0m\u001b[0m\n\u001b[0;32m    259\u001b[0m def _make_iterencode(markers, _default, _encoder, _indent, _floatstr,\n",
      "\u001b[1;32mC:\\ProgramData\\Anaconda3\\lib\\json\\encoder.py\u001b[0m in \u001b[0;36mdefault\u001b[1;34m(self, o)\u001b[0m\n\u001b[0;32m    178\u001b[0m         \"\"\"\n\u001b[0;32m    179\u001b[0m         raise TypeError(\"Object of type '%s' is not JSON serializable\" %\n\u001b[1;32m--> 180\u001b[1;33m                         o.__class__.__name__)\n\u001b[0m\u001b[0;32m    181\u001b[0m \u001b[1;33m\u001b[0m\u001b[0m\n\u001b[0;32m    182\u001b[0m     \u001b[1;32mdef\u001b[0m \u001b[0mencode\u001b[0m\u001b[1;33m(\u001b[0m\u001b[0mself\u001b[0m\u001b[1;33m,\u001b[0m \u001b[0mo\u001b[0m\u001b[1;33m)\u001b[0m\u001b[1;33m:\u001b[0m\u001b[1;33m\u001b[0m\u001b[0m\n",
      "\u001b[1;31mTypeError\u001b[0m: Object of type 'Employee' is not JSON serializable"
     ]
    }
   ],
   "source": [
    "print(json.dumps(person))  # 打印结果的时候，IDE抛出了异常，异常信息如下"
   ]
  },
  {
   "cell_type": "markdown",
   "metadata": {},
   "source": [
    "意思就是，这个类型为Employee的对象，不支持JSON序列化，换句话说，你这个person对象，究竟让我json给你怎么个序列化法呢？你是不是需要指定一种格式（这种格式区分于基本数据类型），告诉json的dumps方法，嘿，伙计，我给你一个person对象，这是参考格式，照着这个给我序列化一下。"
   ]
  },
  {
   "cell_type": "markdown",
   "metadata": {},
   "source": [
    "这个格式是什么呢？那我们就得借助help函数，来看一下，json.dumps()的信息了"
   ]
  },
  {
   "cell_type": "code",
   "execution_count": 5,
   "metadata": {
    "collapsed": true
   },
   "outputs": [],
   "source": [
    "?json.dumps   "
   ]
  },
  {
   "attachments": {
    "image.png": {
     "image/png": "[encoded data removed]"
    }
   },
   "cell_type": "markdown",
   "metadata": {},
   "source": [
    "![image.png](attachment:image.png)"
   ]
  },
  {
   "cell_type": "markdown",
   "metadata": {},
   "source": [
    "我们发现，虽然dumps函数的参数很多，但是必须的只有一个，那就是第一个参数obj，也就是要序列化的对象，一定要有，其余的参数都可以使用默认值\n",
    "\n",
    "接着往下看"
   ]
  },
  {
   "attachments": {
    "image.png": {
     "image/png": "[encoded data removed]"
    }
   },
   "cell_type": "markdown",
   "metadata": {},
   "source": [
    "![image.png](attachment:image.png)\n",
    "\n",
    "``default(obj)`` is a function that should return a serializable version  \n",
    "of obj or raise TypeError. The default simply raises TypeError.  "
   ]
  },
  {
   "cell_type": "markdown",
   "metadata": {},
   "source": [
    "意思就是，关键字参数default使用默认值（None）的时候，是针对当前对象obj（第一个参数）的，如果当前对象，可以被（支持）序列化，那就返回对象的可序列化版本（比如int就是int，{}就是dict，true就是True），另一种就是，不支持的时候，就会抛出TypeError的异常，所以，我们看到的builtins.TypeError: Object of type 'Employee' is not JSON serializable这句异常信息，实际上就是这个default引起的，我们既然没有类的对象对应的json序列化版本，那我们就去创造一个，它不是说了嘛，a function that that should return a serializable version of obj，那我们就为default指定一个函数："
   ]
  },
  {
   "cell_type": "code",
   "execution_count": 7,
   "metadata": {},
   "outputs": [
    {
     "name": "stdout",
     "output_type": "stream",
     "text": [
      "{\"name\": \"\\u5f20\\u4e09\", \"sex\": \"\\u7537\", \"age\": 35, \"salary\": 4560.0}\n"
     ]
    }
   ],
   "source": [
    "def ToJson(obj):  \n",
    "    return {  \n",
    "    'name'  : obj.name,  \n",
    "    'sex'   : obj.sex ,  \n",
    "    'age'   : obj.age ,  \n",
    "    'salary': obj.salary     \n",
    "    }  \n",
    "  \n",
    "print(json.dumps(person,default=ToJson))    \n"
   ]
  },
  {
   "cell_type": "markdown",
   "metadata": {},
   "source": [
    "这样一来，函数dumps在序列化对象person的时候，就会按照ToJson函数的模板去构造属于person对象的json串"
   ]
  },
  {
   "cell_type": "markdown",
   "metadata": {},
   "source": [
    "如果我们构造了三个Employee的实例怎么办，别慌，我们最开始不是说了json和python的基本数据类型对应关系吗，Pyhton的list集合对应json的[]（数组）,那我们就用Python的list来存放这三个实例，然后，将list作为要序列化的obj"
   ]
  },
  {
   "cell_type": "code",
   "execution_count": 13,
   "metadata": {},
   "outputs": [
    {
     "name": "stdout",
     "output_type": "stream",
     "text": [
      "[{\"name\": \"\\u5f20\\u4e09\", \"sex\": \"\\u7537\", \"age\": 35, \"salary\": 4560.0}, {\"name\": \"\\u674e\\u5a77\", \"sex\": \"\\u5973\", \"age\": 28, \"salary\": 3000.0}, {\"name\": \"\\u738b\\u4e94\", \"sex\": \"\\u7537\", \"age\": 45, \"salary\": 7000.0}]\n"
     ]
    }
   ],
   "source": [
    "person1 = Employee('张三','男',35,4560.00)  \n",
    "person2 = Employee('李婷','女',28,3000.00)  \n",
    "person3 = Employee('王五','男',45,7000.00)  \n",
    "  \n",
    "PList = []  \n",
    "PList.append(person1)  \n",
    "PList.append(person2)  \n",
    "PList.append(person3)  \n",
    "  \n",
    "def ToJson(obj):  \n",
    "    return {  \n",
    "    \"name\"  : obj.name,  \n",
    "    \"sex\"   : obj.sex ,  \n",
    "    \"age\"   : obj.age ,  \n",
    "    \"salary\": obj.salary     \n",
    "    }  \n",
    "  \n",
    "# print(json.dumps(PList))  # 注意，因为PList中的元素是类类型的对象，因此，参数default如果不指定序列化转换规则的话，仍然会让dumps函数一脸懵逼\n",
    "\n",
    "print(json.dumps(PList, default=ToJson)) "
   ]
  },
  {
   "attachments": {
    "image.png": {
     "image/png": "[encoded data removed]"
    }
   },
   "cell_type": "markdown",
   "metadata": {},
   "source": [
    "拿到这个JSON串后，你就可以对数据进行解析了，排版后的格式如下\n",
    "\n",
    "![image.png](attachment:image.png)"
   ]
  },
  {
   "cell_type": "markdown",
   "metadata": {},
   "source": [
    "下面来看看如何将json串反序列化成对象\n",
    "\n",
    "既然，我们dumps函数指定了序列化的转换函数，那么，我们的loads函数也要指定一下反序列化的转换函数，注意，前者是将对象按照指定的函数转化成json串，后者则是这项工作的逆向操作"
   ]
  },
  {
   "cell_type": "code",
   "execution_count": 14,
   "metadata": {},
   "outputs": [
    {
     "name": "stdout",
     "output_type": "stream",
     "text": [
      "{ \"data\":[{\"name\": \"\\u5f20\\u4e09\", \"sex\": \"\\u7537\", \"age\": 35, \"salary\": 4560.0}, {\"name\": \"\\u674e\\u5a77\", \"sex\": \"\\u5973\", \"age\": 28, \"salary\": 3000.0}, {\"name\": \"\\u738b\\u4e94\", \"sex\": \"\\u7537\", \"age\": 45, \"salary\": 7000.0}]}\n",
      "[<__main__.Employee object at 0x0000029C43ECCD68>, <__main__.Employee object at 0x0000029C43ECC518>, <__main__.Employee object at 0x0000029C43ECC978>]\n",
      "<__main__.Employee object at 0x0000029C43ECCD68> -----> 张三\n",
      "<__main__.Employee object at 0x0000029C43ECC518> -----> 李婷\n",
      "<__main__.Employee object at 0x0000029C43ECC978> -----> 王五\n"
     ]
    }
   ],
   "source": [
    "#!/usr/bin/env Python3  \n",
    "# -*- coding:utf-8 -*-  \n",
    "  \n",
    "import json  \n",
    "  \n",
    "class Employee:  \n",
    "    def __init__(self,name,sex,age,salary):  \n",
    "        self.name  = name  ;   #姓名  \n",
    "        self.sex   = sex   ;  #性别   \n",
    "        self.__age = age   ;  #年龄 私有变量   \n",
    "        self.salary= salary;  #薪资 按月算      \n",
    "    @property  \n",
    "    def age(self):            #age的getter属性，还记得装饰器@property的用法吗？  \n",
    "        return self.__age  \n",
    "    @age.setter  \n",
    "    def age(self,value):      #age的setter属性  \n",
    "        self.__age = value  \n",
    "  \n",
    "person1 = Employee('张三','男',35,4560.00)  \n",
    "person2 = Employee('李婷','女',28,3000.00)  \n",
    "person3 = Employee('王五','男',45,7000.00)  \n",
    "  \n",
    "PList = []  \n",
    "PList.append(person1)  \n",
    "PList.append(person2)  \n",
    "PList.append(person3)  \n",
    "  \n",
    "def ToJson(obj):  \n",
    "    return {  \n",
    "    \"name\"  : obj.name,  \n",
    "    \"sex\"   : obj.sex ,  \n",
    "    \"age\"   : obj.age ,  \n",
    "    \"salary\": obj.salary     \n",
    "    }  \n",
    "  \n",
    "def ToObject(d):  \n",
    "    return Employee(d['name'],d['sex'],d['age'],d['salary'])  \n",
    "jstr = json.dumps(PList,default=ToJson) #高阶函数  \n",
    "print('{ \"data\":'+jstr+'}')  \n",
    "#object_hook指向一个自定义解码器(函数)，解码器的对象就是json串中的{}，结果对应Python的dict  \n",
    "#一层层的剥离出{}，向Python的dict靠拢  \n",
    "L  = json.loads(jstr,object_hook=ToObject)   \n",
    "print(L)  \n",
    "for obj in L:  \n",
    "    print(obj,'----->',obj.name)  "
   ]
  }
 ],
 "metadata": {
  "kernelspec": {
   "display_name": "Python 3",
   "language": "python",
   "name": "python3"
  },
  "language_info": {
   "codemirror_mode": {
    "name": "ipython",
    "version": 3
   },
   "file_extension": ".py",
   "mimetype": "text/x-python",
   "name": "python",
   "nbconvert_exporter": "python",
   "pygments_lexer": "ipython3",
   "version": "3.6.3"
  }
 },
 "nbformat": 4,
 "nbformat_minor": 1
}
