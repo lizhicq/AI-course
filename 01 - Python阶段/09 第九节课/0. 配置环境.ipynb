{
 "cells": [
  {
   "cell_type": "markdown",
   "metadata": {},
   "source": [
    "# 配置环境\n",
    "\n",
    "因为jupyter notebook是运行在浏览器中，所以什么IDE都不需要，只需要安装好python和一些需要的库。"
   ]
  },
  {
   "cell_type": "markdown",
   "metadata": {},
   "source": [
    "# 0. python和需要的库安装\n",
    "- 看我之前写的文章：https://zhuanlan.zhihu.com/p/27335822"
   ]
  },
  {
   "cell_type": "markdown",
   "metadata": {},
   "source": [
    "# 1. jupyter及其拓展安装"
   ]
  },
  {
   "cell_type": "markdown",
   "metadata": {},
   "source": [
    "- 输入：`pip install jupyter notebook`\n",
    "- 输入：`pip install jupyter_contrib_nbextensions `\n",
    "- 输入：`jupyter contrib nbextension install --user`"
   ]
  },
  {
   "cell_type": "markdown",
   "metadata": {},
   "source": [
    "# 2. 配置自动生成目录"
   ]
  },
  {
   "cell_type": "markdown",
   "metadata": {
    "collapsed": true
   },
   "source": [
    "1. 输入：`jupyter notebook`， 浏览器会自动打开；\n",
    "\n",
    "2. 在打开的界面进入 `Nbextensions` 选项卡；\n",
    "![](resource/1.png)\n",
    "\n",
    "3. 在`Table of Contents (2)`下，点击 **Enable**，启动自动生成目录选项；\n",
    "![](resource/2.png)\n",
    "\n",
    "4. 改变这一项的默认 4 为 3。\n",
    "![](resource/3.png)"
   ]
  }
 ],
 "metadata": {
  "kernelspec": {
   "display_name": "Python 3",
   "language": "python",
   "name": "python3"
  },
  "language_info": {
   "codemirror_mode": {
    "name": "ipython",
    "version": 3
   },
   "file_extension": ".py",
   "mimetype": "text/x-python",
   "name": "python",
   "nbconvert_exporter": "python",
   "pygments_lexer": "ipython3",
   "version": "3.6.3"
  },
  "toc": {
   "colors": {
    "hover_highlight": "#DAA520",
    "navigate_num": "#000000",
    "navigate_text": "#333333",
    "running_highlight": "#FF0000",
    "selected_highlight": "#FFD700",
    "sidebar_border": "#EEEEEE",
    "wrapper_background": "#FFFFFF"
   },
   "moveMenuLeft": true,
   "nav_menu": {
    "height": "84px",
    "width": "252px"
   },
   "navigate_menu": true,
   "number_sections": false,
   "sideBar": true,
   "threshold": "3",
   "toc_cell": false,
   "toc_section_display": "block",
   "toc_window_display": true,
   "widenNotebook": false
  }
 },
 "nbformat": 4,
 "nbformat_minor": 2
}
