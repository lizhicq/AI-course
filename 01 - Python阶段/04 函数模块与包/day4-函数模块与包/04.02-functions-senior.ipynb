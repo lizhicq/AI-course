{
 "cells": [
  {
   "cell_type": "markdown",
   "metadata": {},
   "source": [
    "# 2. 函数高级用法"
   ]
  },
  {
   "cell_type": "markdown",
   "metadata": {},
   "source": [
    "## 2.1 lambda函数\n",
    "\n",
    "lambda函数也叫匿名函数，即函数没有具体的名称。\n",
    "\n",
    "格式：\n",
    "\n",
    "lambda 参数:表达式\n",
    "\n",
    "lambda语句中，冒号前是参数，可以有多个，用逗号隔开，冒号右边的返回值。lambda语句构建的其实是一个函数对象"
   ]
  },
  {
   "cell_type": "code",
   "execution_count": 69,
   "metadata": {},
   "outputs": [
    {
     "name": "stdout",
     "output_type": "stream",
     "text": [
      "16\n"
     ]
    }
   ],
   "source": [
    "def f(x):\n",
    "    return x**2\n",
    "\n",
    "print(f(4))"
   ]
  },
  {
   "cell_type": "markdown",
   "metadata": {},
   "source": [
    "Python中使用lambda的话，写成这样"
   ]
  },
  {
   "cell_type": "code",
   "execution_count": 71,
   "metadata": {
    "scrolled": true
   },
   "outputs": [
    {
     "name": "stdout",
     "output_type": "stream",
     "text": [
      "16\n"
     ]
    }
   ],
   "source": [
    "g = lambda x : x**2\n",
    "\n",
    "print(g(4))"
   ]
  },
  {
   "cell_type": "markdown",
   "metadata": {},
   "source": [
    "匿名函数优点：\n",
    "\n",
    "    - 使用Python写一些脚本时，使用lambda可以省去定义函数的过程，让代码更加精简。\n",
    "    - 对于一些抽象的，不会被别的地方再重复使用的函数，有时候函数起个名字也是个难题，使用lambda不需要考虑命名的问题\n",
    "    - 使用lambda在某些时候然后代码更容易理解\n",
    "\n"
   ]
  },
  {
   "cell_type": "code",
   "execution_count": 1,
   "metadata": {},
   "outputs": [
    {
     "name": "stdout",
     "output_type": "stream",
     "text": [
      "1\n",
      "25\n",
      "49\n",
      "16\n",
      "64\n",
      "<map object at 0x0000022B32AABE10>\n"
     ]
    }
   ],
   "source": [
    "res = map(lambda x:x**2,[1,5,7,4,8])\n",
    "for i in res:\n",
    "    print(i)\n",
    "\n",
    "print(res)"
   ]
  },
  {
   "cell_type": "markdown",
   "metadata": {},
   "source": [
    "## 2.2 map 方法生成序列"
   ]
  },
  {
   "cell_type": "markdown",
   "metadata": {},
   "source": [
    "\n",
    "\n",
    "可以通过 `map` 的方式利用函数来生成序列："
   ]
  },
  {
   "cell_type": "code",
   "execution_count": 6,
   "metadata": {},
   "outputs": [
    {
     "data": {
      "text/plain": [
       "[4, 9, 16]"
      ]
     },
     "execution_count": 6,
     "metadata": {},
     "output_type": "execute_result"
    }
   ],
   "source": [
    "def sqr(x): \n",
    "    return x ** 2\n",
    "\n",
    "#a = (2, 3, 4)\n",
    "a = [2, 3, 4]\n",
    "\n",
    "list(map(sqr, a))  # python3 必须用序列作用于map,才能得到列表\n"
   ]
  },
  {
   "cell_type": "markdown",
   "metadata": {},
   "source": [
    "Python内置的一个高阶函数，它接收一个函数aFun和一个序列seq,并且把seq的元素以此传递给函数aFun，然后返回一个函数aFun处理完所有seq元素的列表\n",
    "\n",
    "其用法为：\n",
    "    \n",
    "    map(aFun, aSeq)\n",
    "\n",
    "将函数 `aFun` 应用到序列 `aSeq` 上的每一个元素上，返回一个列表，不管这个序列原来是什么类型。\n",
    "\n",
    "事实上，根据函数参数的多少，`map` 可以接受多组序列，将其对应的元素作为参数传入函数："
   ]
  },
  {
   "cell_type": "code",
   "execution_count": 4,
   "metadata": {},
   "outputs": [
    {
     "name": "stdout",
     "output_type": "stream",
     "text": [
      "12\n",
      "8\n",
      "7\n"
     ]
    }
   ],
   "source": [
    "def add(x, y): \n",
    "    return x + y\n",
    "\n",
    "a = (2,3,4)\n",
    "b = [10,5,3]\n",
    "\n",
    "result = map(add, a, b)\n",
    "# 或者采用循环方式访问\n",
    "for each in result:\n",
    "    print(each)"
   ]
  },
  {
   "cell_type": "code",
   "execution_count": 5,
   "metadata": {},
   "outputs": [
    {
     "data": {
      "text/plain": [
       "[12, 8, 7]"
      ]
     },
     "execution_count": 5,
     "metadata": {},
     "output_type": "execute_result"
    }
   ],
   "source": [
    "# 如何改写 map + lambda\n",
    "\n"
   ]
  },
  {
   "cell_type": "markdown",
   "metadata": {},
   "source": [
    "## 2.3 reduce()函数\n",
    "\n",
    "reduce()函数也是python的内置高阶函数，reduce()函数接收的的参数和map()类似，一个函数aFun，一个序列seq，但行为和map()不同，reduce()传入的参数f必须接受2个参数，\n",
    "\n",
    "第一次调用是把seq的前两个元素传递给aFun,第二次调用时，就是把前两个seq元素的计算结果当成第一个参数，seq的第三个元素当成第二个参数，传入aFun进行操作，以此类推，并最终返回结果；\n",
    "\n",
    "简单说：reduce把结果继续和序列的下一个元素做累积计算"
   ]
  },
  {
   "cell_type": "code",
   "execution_count": 7,
   "metadata": {},
   "outputs": [
    {
     "name": "stdout",
     "output_type": "stream",
     "text": [
      "15\n"
     ]
    },
    {
     "data": {
      "text/plain": [
       "15"
      ]
     },
     "execution_count": 7,
     "metadata": {},
     "output_type": "execute_result"
    }
   ],
   "source": [
    " from functools import reduce\n",
    "\n",
    "def f(x,y):\n",
    "    return x + y\n",
    "\n",
    "print(reduce(f,  [1,2,3,4,5]))\n",
    "\n"
   ]
  },
  {
   "cell_type": "markdown",
   "metadata": {},
   "source": [
    "注解：\n",
    "\n",
    "1，计算a=f(1,2)的值为3\n",
    "\n",
    "2，计算b=f(a,3)的值为6\n",
    "\n",
    "3，计算c=f(b,4)的值为10\n",
    "\n",
    "4，计算d=f(c,5)的值为15\n",
    "\n",
    "5，计算f(d,10)的值为25\n",
    "\n",
    "其实就是相当于1+2+3+4+5+10 ,最后的10为默认值，及最终执行一次"
   ]
  },
  {
   "cell_type": "code",
   "execution_count": 80,
   "metadata": {},
   "outputs": [
    {
     "name": "stdout",
     "output_type": "stream",
     "text": [
      "15\n"
     ]
    }
   ],
   "source": [
    "# 使用lambda函数简化\n",
    "\n",
    "#reduce(lambda x,y : x+y, (1,2,3,4,5))\n",
    "print(reduce(lambda x,y : x+y,  [1,2,3,4,5]))"
   ]
  },
  {
   "cell_type": "code",
   "execution_count": 81,
   "metadata": {},
   "outputs": [
    {
     "name": "stdout",
     "output_type": "stream",
     "text": [
      "['1', '2', '3', '4', '5', '6', '7', '8', '9']\n"
     ]
    }
   ],
   "source": [
    "# 把list中的所有数字转为字符串\n",
    "print(list(map(str, list(range(1, 10)))))  "
   ]
  },
  {
   "cell_type": "markdown",
   "metadata": {},
   "source": [
    "## 2.4 filter()函数\n",
    "\n",
    "filter()函数是python内置的另一个有用的高阶函数，\n",
    "\n",
    "filter()函数接收一个函数f和一个序列,这个函数f的作用是对每个元素进行判断，返回true或false,\n",
    "\n",
    "filter()根据判断结果自动过滤掉不符合条件的元素，返回由符合条件的元素组成的list"
   ]
  },
  {
   "cell_type": "code",
   "execution_count": 8,
   "metadata": {
    "scrolled": true
   },
   "outputs": [
    {
     "name": "stdout",
     "output_type": "stream",
     "text": [
      "[1, 3, 5, 7, 9, 11, 13, 15, 17, 19]\n",
      "[1, 3, 5]\n"
     ]
    },
    {
     "data": {
      "text/plain": [
       "[1, 3, 5]"
      ]
     },
     "execution_count": 8,
     "metadata": {},
     "output_type": "execute_result"
    }
   ],
   "source": [
    "def f(x):\n",
    "    return x % 2 == 1\n",
    "\n",
    "a = list(range(20))\n",
    "b = [1,2,3,4,5]\n",
    "print(list(filter(f, a)))\n",
    "print(list(filter(f, b)))  #输出前需要使用list()进行显示转换\n",
    "\n",
    "#list(filter(lambda x : x % 2 == 1, [1,2,3,4,5]))"
   ]
  },
  {
   "cell_type": "markdown",
   "metadata": {},
   "source": [
    "map/reduce/filter实例"
   ]
  },
  {
   "cell_type": "code",
   "execution_count": 10,
   "metadata": {},
   "outputs": [
    {
     "name": "stdout",
     "output_type": "stream",
     "text": [
      "['ADAM', 'LISA', 'BART']\n",
      "125\n",
      "[1, 7, 9, 17]\n",
      "[0, 1, 4, 9, 16, 25, 36, 49, 64, 81]\n"
     ]
    }
   ],
   "source": [
    "from functools import reduce\n",
    "import math\n",
    "\n",
    "def format_name(s):\n",
    "    return s.upper()\n",
    "\n",
    "def is_odd(x):\n",
    "    return x % 2 == 1\n",
    "\n",
    "def sqr_integer(x):\n",
    "    r = math.floor(math.sqrt(x))\n",
    "    return x == r*r\n",
    "\n",
    "def f(x, y):\n",
    "    return x + y\n",
    "\n",
    "\n",
    "# map 把函数 f 依次作用在 list 的每个元素上，得到一个 iterator  并返回。\n",
    "print(list(map(format_name, ['adam', 'LISA', 'barT'])))\n",
    "\n",
    "# reduce()传入的函数 f 必须接收两个参数，reduce()对list的每个元素反复调用函数f，并返回最终结果值。reduce()还可以接收第3个可选参数，作为计算的初始值。\n",
    "print(reduce(f, [1, 3, 5, 7, 9], 100))\n",
    "\n",
    "# filter()根据判断结果自动过滤掉不符合条件的元素，返回由符合条件元素组成的iterator。\n",
    "print(list(filter(is_odd, [1, 4, 6, 7, 9, 12, 17])))\n",
    "\n",
    "print(list(filter(sqr_integer,range(100))))"
   ]
  },
  {
   "cell_type": "markdown",
   "metadata": {},
   "source": [
    "## 2.5 生成器generator"
   ]
  },
  {
   "cell_type": "markdown",
   "metadata": {},
   "source": [
    "### 2.5.1 generator基础"
   ]
  },
  {
   "cell_type": "markdown",
   "metadata": {},
   "source": [
    "生成器的基本属性\n",
    "\n",
    "generator = 函数 + yield \n",
    "\n",
    "简单说，就是一个函数，里面用到了关键字yield，就成为了一个生成器 \n",
    "\n",
    "在python的函数（function）定义中，只要出现了yield表达式（Yield expression），那么事实上定义的是一个generator function， 调用这个generator function返回值是一个generator。这跟普通的函数调用有所区别"
   ]
  },
  {
   "cell_type": "code",
   "execution_count": 11,
   "metadata": {
    "scrolled": true
   },
   "outputs": [
    {
     "name": "stdout",
     "output_type": "stream",
     "text": [
      "<generator object gen_generator at 0x000001FE3C329CA8> <class 'generator'>\n",
      "1 <class 'int'>\n"
     ]
    }
   ],
   "source": [
    "def gen_generator():\n",
    "    yield 1\n",
    "\n",
    "def gen_value():\n",
    "    return 1\n",
    "    \n",
    "if __name__ == '__main__':\n",
    "    ret1 = gen_generator()\n",
    "    print(ret1, type(ret1))    #<generator object gen_generator at 0x02645648> <type 'generator'>\n",
    "    ret2 = gen_value()\n",
    "    print(ret2, type(ret2))    # 1 <type 'int'>"
   ]
  },
  {
   "cell_type": "markdown",
   "metadata": {},
   "source": [
    "从上面的代码可以看出，gen_generator函数返回的是一个generator实例，generator有以下特点：\n",
    "\n",
    "遵循迭代器（iterator）协议，迭代器协议需要实现__iter__、next接口\n",
    "\n",
    "能过多次进入、多次返回，能够暂停函数体中代码的执行"
   ]
  },
  {
   "cell_type": "code",
   "execution_count": 12,
   "metadata": {},
   "outputs": [
    {
     "data": {
      "text/plain": [
       "1"
      ]
     },
     "execution_count": 12,
     "metadata": {},
     "output_type": "execute_result"
    }
   ],
   "source": [
    "next(ret1)"
   ]
  },
  {
   "cell_type": "code",
   "execution_count": 100,
   "metadata": {
    "collapsed": true
   },
   "outputs": [],
   "source": [
    "def gen_example():\n",
    "    \n",
    "    print('before any yield')\n",
    "    yield 'first yield'\n",
    "    print('between yields')\n",
    "    yield 'second yield'\n",
    "    print('no yield anymore')\n",
    "    \n",
    "gen = gen_example()  #调用gen example方法并没有输出任何内容，说明函数体的代码尚未开始执行"
   ]
  },
  {
   "cell_type": "code",
   "execution_count": 104,
   "metadata": {},
   "outputs": [
    {
     "name": "stdout",
     "output_type": "stream",
     "text": [
      "before any yield\n"
     ]
    },
    {
     "data": {
      "text/plain": [
       "'first yield'"
      ]
     },
     "execution_count": 104,
     "metadata": {},
     "output_type": "execute_result"
    }
   ],
   "source": [
    "# gen.next() # python2.7 \n",
    "next(gen)   #第一次调用next"
   ]
  },
  {
   "cell_type": "code",
   "execution_count": 105,
   "metadata": {},
   "outputs": [
    {
     "name": "stdout",
     "output_type": "stream",
     "text": [
      "between yields\n"
     ]
    },
    {
     "data": {
      "text/plain": [
       "'second yield'"
      ]
     },
     "execution_count": 105,
     "metadata": {},
     "output_type": "execute_result"
    }
   ],
   "source": [
    "next(gen)"
   ]
  },
  {
   "cell_type": "code",
   "execution_count": 106,
   "metadata": {},
   "outputs": [
    {
     "name": "stdout",
     "output_type": "stream",
     "text": [
      "no yield anymore\n"
     ]
    },
    {
     "ename": "StopIteration",
     "evalue": "",
     "output_type": "error",
     "traceback": [
      "\u001b[1;31m---------------------------------------------------------------------------\u001b[0m",
      "\u001b[1;31mStopIteration\u001b[0m                             Traceback (most recent call last)",
      "\u001b[1;32m<ipython-input-106-8a6233884a6c>\u001b[0m in \u001b[0;36m<module>\u001b[1;34m()\u001b[0m\n\u001b[1;32m----> 1\u001b[1;33m \u001b[0mnext\u001b[0m\u001b[1;33m(\u001b[0m\u001b[0mgen\u001b[0m\u001b[1;33m)\u001b[0m\u001b[1;33m\u001b[0m\u001b[0m\n\u001b[0m",
      "\u001b[1;31mStopIteration\u001b[0m: "
     ]
    }
   ],
   "source": [
    "next(gen)"
   ]
  },
  {
   "cell_type": "markdown",
   "metadata": {},
   "source": [
    "当调用generator的next方法，generator会执行到yield 表达式处，返回yield表达式的内容，然后暂停（挂起）在这个地方，所以第一次调用next打印第一句并返回“first yield”。 \n",
    "\n",
    "暂停意味着方法的局部变量，指针信息，运行环境都保存起来，直到下一次调用next方法恢复。第二次调用next之后就暂停在最后一个yield，再次调用next()方法，则会抛出StopIteration异常。　\n",
    "\n",
    "因为for语句能自动捕获StopIteration异常，所以generator（本质上是任何iterator）较为常用的方法是在循环中使用："
   ]
  },
  {
   "cell_type": "code",
   "execution_count": 13,
   "metadata": {},
   "outputs": [
    {
     "name": "stdout",
     "output_type": "stream",
     "text": [
      "1\n",
      "2\n"
     ]
    }
   ],
   "source": [
    "def generator_example():\n",
    "    yield 1\n",
    "    yield 2\n",
    "\n",
    "if __name__ == '__main__':\n",
    "    for e in generator_example():\n",
    "        print(e)\n",
    "        # output 1 2"
   ]
  },
  {
   "cell_type": "markdown",
   "metadata": {},
   "source": [
    "### 2.5.2 生成器与普通函数的区别\n",
    "\n",
    "generator function产生的generator与普通的function有什么区别呢\n",
    "\n",
    "　　（1）function每次都是从第一行开始运行，而generator从上一次yield开始的地方运行\n",
    "\n",
    "　　（2）function调用一次返回一个（一组）值，而generator可以多次返回\n",
    "\n",
    "　　（3）function可以被无数次重复调用，而一个generator实例在yield最后一个值 或者return之后就不能继续调用了"
   ]
  },
  {
   "cell_type": "markdown",
   "metadata": {},
   "source": [
    "在函数中使用Yield，然后调用该函数是生成generator的一种方式。另一种常见的方式是使用generator expression"
   ]
  },
  {
   "cell_type": "code",
   "execution_count": 10,
   "metadata": {},
   "outputs": [
    {
     "name": "stdout",
     "output_type": "stream",
     "text": [
      "<generator object <genexpr> at 0x0000022B32B78410>\n"
     ]
    },
    {
     "ename": "StopIteration",
     "evalue": "",
     "output_type": "error",
     "traceback": [
      "\u001b[1;31m---------------------------------------------------------------------------\u001b[0m",
      "\u001b[1;31mStopIteration\u001b[0m                             Traceback (most recent call last)",
      "\u001b[1;32m<ipython-input-10-3049fb43518b>\u001b[0m in \u001b[0;36m<module>\u001b[1;34m()\u001b[0m\n\u001b[0;32m      5\u001b[0m \u001b[0mtuple\u001b[0m\u001b[1;33m(\u001b[0m\u001b[0mgen\u001b[0m\u001b[1;33m)\u001b[0m\u001b[1;33m\u001b[0m\u001b[0m\n\u001b[0;32m      6\u001b[0m \u001b[1;33m\u001b[0m\u001b[0m\n\u001b[1;32m----> 7\u001b[1;33m \u001b[0mnext\u001b[0m\u001b[1;33m(\u001b[0m\u001b[0mgen\u001b[0m\u001b[1;33m)\u001b[0m\u001b[1;33m\u001b[0m\u001b[0m\n\u001b[0m",
      "\u001b[1;31mStopIteration\u001b[0m: "
     ]
    }
   ],
   "source": [
    "gen = (x * x for x in range(5))  #前文已经有介绍-推导式\n",
    "print(gen)  \n",
    "\n",
    "# 使用循环迭代或者list等生成序列\n",
    "tuple(gen)\n"
   ]
  },
  {
   "cell_type": "markdown",
   "metadata": {},
   "source": [
    "### 2.5.3 generator基础应用\n",
    "\n",
    "为什么使用generator呢，最重要的原因是可以按需生成并“返回”结果，而不是一次性产生所有的返回值，况且有时候根本就不知道“所有的返回值”。比如对于下面的代码　　"
   ]
  },
  {
   "cell_type": "code",
   "execution_count": 14,
   "metadata": {},
   "outputs": [
    {
     "name": "stdout",
     "output_type": "stream",
     "text": [
      "0\n",
      "1\n",
      "4\n",
      "9\n",
      "16\n",
      "25\n",
      "36\n",
      "49\n",
      "64\n",
      "81\n",
      "----------------\n",
      "0\n",
      "1\n",
      "4\n",
      "9\n",
      "16\n",
      "25\n",
      "36\n",
      "49\n",
      "64\n",
      "81\n"
     ]
    }
   ],
   "source": [
    "RANGE_NUM = 10\n",
    "for i in [x*x for x in range(RANGE_NUM)]: # 第一种方法：对列表进行迭代\n",
    "    # do sth for example\n",
    "    print(i)\n",
    "\n",
    "print(\"----------------\")    \n",
    "    \n",
    "for i in (x*x for x in range(RANGE_NUM)): # 第二种方法：对generator进行迭代\n",
    "    # do sth for example\n",
    "    print (i)"
   ]
  },
  {
   "cell_type": "markdown",
   "metadata": {},
   "source": [
    "在上面的代码中，两个for语句输出是一样的，代码字面上看来也就是中括号与小括号的区别。\n",
    "\n",
    "但这点区别差异是很大的，第一种方法返回值是一个列表，第二个方法返回的是一个generator对象。随着RANGE_NUM的变大，第一种方法返回的列表也越大，占用的内存也越大；但是对于第二种方法没有任何区别。\n",
    "\n",
    "我们再来看一个可以“返回”无穷多次的例子：\n",
    "\n",
    "这个generator拥有生成无数多“返回值”的能力，使用者可以自己决定什么时候停止迭代"
   ]
  },
  {
   "cell_type": "code",
   "execution_count": 115,
   "metadata": {},
   "outputs": [
    {
     "data": {
      "text/plain": [
       "1"
      ]
     },
     "execution_count": 115,
     "metadata": {},
     "output_type": "execute_result"
    }
   ],
   "source": [
    "def fib():\n",
    "    a, b = 1, 1\n",
    "    while True:\n",
    "        yield a\n",
    "        a, b = b, a+b \n",
    "        \n",
    "gen = fib()\n",
    "next(gen)"
   ]
  },
  {
   "cell_type": "code",
   "execution_count": 116,
   "metadata": {},
   "outputs": [
    {
     "data": {
      "text/plain": [
       "1"
      ]
     },
     "execution_count": 116,
     "metadata": {},
     "output_type": "execute_result"
    }
   ],
   "source": [
    "next(gen)"
   ]
  },
  {
   "cell_type": "code",
   "execution_count": 117,
   "metadata": {},
   "outputs": [
    {
     "data": {
      "text/plain": [
       "2"
      ]
     },
     "execution_count": 117,
     "metadata": {},
     "output_type": "execute_result"
    }
   ],
   "source": [
    "next(gen)"
   ]
  },
  {
   "cell_type": "markdown",
   "metadata": {},
   "source": [
    "### 2.5.4 yield返回值&&传参\n",
    "\n",
    "    returnval = send(msg) \n",
    "    传递参数msg给当前中断yield前面的变量\n",
    "    同时返回下一个yield后面的参数给return\n",
    "    returnval = next(a) \n",
    "    没有传递参数或者说传递参数None给当前中断yield前面的变量\n",
    "    同时返回下一个yield后面的参数给return"
   ]
  },
  {
   "cell_type": "code",
   "execution_count": 118,
   "metadata": {},
   "outputs": [
    {
     "name": "stdout",
     "output_type": "stream",
     "text": [
      "start\n",
      "1\n",
      "None\n",
      "middle\n",
      "2\n",
      "msg\n",
      "next\n",
      "3\n"
     ]
    }
   ],
   "source": [
    "#生成器\n",
    "def f():\n",
    "    print('start')\n",
    "    a = yield 1  # 可以返回参数1，并接收传递的参数给a\n",
    "    print(a) \n",
    "    print('middle')\n",
    "    b = yield 2  #可以返回参数2，并接收传递的参数给b\n",
    "    print(b)\n",
    "    print('next')\n",
    "    c = yield 3  # 可以返回参数3，并接收传递的参数给c\n",
    "    print(c)  # 这里貌似永远不会执行，因为总会在上一行的yield处结束\n",
    "\n",
    "a = f() # 这里不会执行，即没有任何打印信息\n",
    "# a.next()  # 这种写法在python3里面会报错\n",
    "return1 = next(a)  # 输出start，中断在yield 1处，返回yield后面的1给return1\n",
    "# return1 = a.send(None) #效果同上一条语句\n",
    "# return1 = a.send('test') #这里会报错\n",
    "#如果首次执行generator，就传递一个非None的参数，因为第一次执行不是从一般的中断yield处执行起，所以没有yield关键字来接收传参，就会报错\n",
    "print(return1)\n",
    "return2 = next(a)#传入参数为None，即a=None，返回2给return2\n",
    "print(return2)\n",
    "return3 = a.send('msg')#传入参数msg，即b=msg,返回3给return3\n",
    "print(return3)"
   ]
  },
  {
   "cell_type": "markdown",
   "metadata": {},
   "source": [
    "## 2.6 偏函数\n",
    "\n",
    "Python的functools模块提供了很多有用的功能，其中一个就是偏函数（Partial function）。要注意，这里的偏函数和数学意义上的偏函数不一样。\n",
    "\n",
    "在介绍函数参数的时候，我们讲到，通过设定参数的默认值，可以降低函数调用的难度。而偏函数也可以做到这一点。"
   ]
  },
  {
   "cell_type": "code",
   "execution_count": 7,
   "metadata": {
    "collapsed": true,
    "scrolled": false
   },
   "outputs": [],
   "source": [
    "import functools\n",
    "?functools.partial\n",
    "# help(functools.partial)"
   ]
  },
  {
   "cell_type": "markdown",
   "metadata": {},
   "source": [
    "### 2.6.1 简单例子"
   ]
  },
  {
   "cell_type": "markdown",
   "metadata": {},
   "source": [
    "int()函数可以把字符串转换为整数，当仅传入字符串时，int()函数默认按十进制转换"
   ]
  },
  {
   "cell_type": "code",
   "execution_count": 11,
   "metadata": {
    "collapsed": true
   },
   "outputs": [],
   "source": [
    "??int"
   ]
  },
  {
   "cell_type": "code",
   "execution_count": 13,
   "metadata": {},
   "outputs": [
    {
     "data": {
      "text/plain": [
       "12345"
      ]
     },
     "execution_count": 13,
     "metadata": {},
     "output_type": "execute_result"
    }
   ],
   "source": [
    "int(\"12345\")"
   ]
  },
  {
   "cell_type": "markdown",
   "metadata": {},
   "source": [
    "但int()函数还提供额外的base参数，默认值为10。如果传入base参数，就可以做N进制的转换："
   ]
  },
  {
   "cell_type": "code",
   "execution_count": 14,
   "metadata": {},
   "outputs": [
    {
     "data": {
      "text/plain": [
       "5349"
      ]
     },
     "execution_count": 14,
     "metadata": {},
     "output_type": "execute_result"
    }
   ],
   "source": [
    "int('12345', base=8)"
   ]
  },
  {
   "cell_type": "code",
   "execution_count": 121,
   "metadata": {},
   "outputs": [
    {
     "data": {
      "text/plain": [
       "74565"
      ]
     },
     "execution_count": 121,
     "metadata": {},
     "output_type": "execute_result"
    }
   ],
   "source": [
    "int('12345', 16)"
   ]
  },
  {
   "cell_type": "markdown",
   "metadata": {},
   "source": [
    "假设要转换大量的二进制字符串，每次都传入int(x, base=2)非常麻烦，于是，我们想到，可以定义一个int2()的函数，默认把base=2传进去,这样，我们转换二进制就非常方便了："
   ]
  },
  {
   "cell_type": "code",
   "execution_count": 4,
   "metadata": {
    "collapsed": true
   },
   "outputs": [],
   "source": [
    "def int2(x, base=2):\n",
    "    return int(x, base)"
   ]
  },
  {
   "cell_type": "code",
   "execution_count": 5,
   "metadata": {},
   "outputs": [
    {
     "data": {
      "text/plain": [
       "64"
      ]
     },
     "execution_count": 5,
     "metadata": {},
     "output_type": "execute_result"
    }
   ],
   "source": [
    "int2('1000000')"
   ]
  },
  {
   "cell_type": "code",
   "execution_count": 6,
   "metadata": {},
   "outputs": [
    {
     "data": {
      "text/plain": [
       "85"
      ]
     },
     "execution_count": 6,
     "metadata": {},
     "output_type": "execute_result"
    }
   ],
   "source": [
    "int2('1010101')"
   ]
  },
  {
   "cell_type": "markdown",
   "metadata": {},
   "source": [
    "functools.partial就是帮助我们创建一个偏函数的，不需要我们自己定义int2()，可以直接使用下面的代码创建一个新的函数int2："
   ]
  },
  {
   "cell_type": "code",
   "execution_count": 125,
   "metadata": {
    "collapsed": true
   },
   "outputs": [],
   "source": [
    "import functools\n",
    "int2 = functools.partial(int, base=2)"
   ]
  },
  {
   "cell_type": "code",
   "execution_count": 9,
   "metadata": {
    "scrolled": true
   },
   "outputs": [
    {
     "data": {
      "text/plain": [
       "64"
      ]
     },
     "execution_count": 9,
     "metadata": {},
     "output_type": "execute_result"
    }
   ],
   "source": [
    "int2('1000000')"
   ]
  },
  {
   "cell_type": "code",
   "execution_count": 127,
   "metadata": {
    "scrolled": true
   },
   "outputs": [
    {
     "data": {
      "text/plain": [
       "85"
      ]
     },
     "execution_count": 127,
     "metadata": {},
     "output_type": "execute_result"
    }
   ],
   "source": [
    "int2('1010101')"
   ]
  },
  {
   "cell_type": "markdown",
   "metadata": {},
   "source": [
    "### 2.6.2 偏函数定义"
   ]
  },
  {
   "cell_type": "markdown",
   "metadata": {},
   "source": [
    "functools.partial的作用就是，给一个函数的某些参数设置默认值，返回一个新的函数，调用这个新函数更简单。"
   ]
  },
  {
   "cell_type": "markdown",
   "metadata": {},
   "source": [
    "partial 一共有三个部分：\n",
    "\n",
    "（1）第一部分也就是第一个参数，是一个函数，这个函数可以是你定义的，也可以是Python内置函数\n",
    "\n",
    "（2）第二部分是一个可变参数，*args，比如内置函数max的参数就是一个可变参数，max（1,2,3,4,5）=5\n",
    "\n",
    "（3）第三部分是一个关键字参数，比如内置函数int的第二个参数就是命名关键字参数，默认base=10，表示int转换时默认是10进制的："
   ]
  },
  {
   "cell_type": "markdown",
   "metadata": {},
   "source": [
    "### 2.6.3 偏函数的使用"
   ]
  },
  {
   "cell_type": "markdown",
   "metadata": {},
   "source": [
    "案例：我们定义一个sum函数，参数为*args可变，计算这些可变参数的和。\n",
    "\n",
    "扩展：我们想要对sum函数求和后的结果，再加上10加上20甚至加更多，得到一个新的结果\n",
    "\n",
    "实现：我们分别用decorator和partial来实现，对比一下二者的区别"
   ]
  },
  {
   "cell_type": "markdown",
   "metadata": {},
   "source": [
    "我们先来看下普通函数，我们是怎么来实现\n",
    "\n",
    "**A：普通函数可变参数顺序执行**"
   ]
  },
  {
   "cell_type": "code",
   "execution_count": 10,
   "metadata": {},
   "outputs": [
    {
     "name": "stdout",
     "output_type": "stream",
     "text": [
      "45\n"
     ]
    }
   ],
   "source": [
    "# /usr/bin/env Python3  \n",
    "# -*- encoding:UTF-8 -*-  \n",
    "  \n",
    "def sum(*args):  \n",
    "    s = 0  \n",
    "    for n in args:  \n",
    "        s = s + n  \n",
    "    return s  \n",
    "print(sum(10,20)+sum(1,2,3,4,5))  "
   ]
  },
  {
   "cell_type": "markdown",
   "metadata": {},
   "source": [
    "我们如果想实现+10+20的效果，必须写两遍sum，这样写，显然是最易懂的，但是，却显得很邋遢不专业"
   ]
  },
  {
   "cell_type": "markdown",
   "metadata": {},
   "source": [
    "**B：普通函数可变参数加关键字参数组合**\n",
    "\n",
    "针对上面的A过程，我们改下代码，使我们的代码看起来稍显复杂，但是略显专业："
   ]
  },
  {
   "cell_type": "code",
   "execution_count": 11,
   "metadata": {},
   "outputs": [
    {
     "name": "stdout",
     "output_type": "stream",
     "text": [
      "45\n"
     ]
    }
   ],
   "source": [
    "# /usr/bin/env Python3  \n",
    "# -*- encoding:UTF-8 -*-  \n",
    "  \n",
    "def sum(*args,**others):  \n",
    "    s = 0  \n",
    "    for n in args:  \n",
    "        s = s + n  \n",
    "    s1 = 0   \n",
    "    for k in others:  \n",
    "        s1 = s1 + others[k] #我们还要算一下，关键字参数里蕴藏的求和结果，k是dict中的关键字key  \n",
    "    return s+s1 #最终，我们实现扩展功能，顺序参数和关键字参数结果相加  \n",
    "      \n",
    "D= {'value1':10,'value2':20}   \n",
    "print(sum(1,2,3,4,5,**D))  "
   ]
  },
  {
   "cell_type": "markdown",
   "metadata": {},
   "source": [
    "代码看起来，是显得专业了，但是感觉冗余，没必要，复杂不是我们Python的风格"
   ]
  },
  {
   "cell_type": "markdown",
   "metadata": {},
   "source": [
    "**C：偏函数可变参数顺序填充一步到位**\n",
    "\n",
    "上面A和B我们都说过了，这两种方式都不好，显然，这么简单的事情，我们不必麻烦decorator了，那我们还有办法没？有，Python，给我们提供了偏函数，来吧，主角登场：\n",
    "\n",
    "提示：两种使用partial功能方式\n",
    "\n",
    "    （1）import functools                -->functools.partial(func,*args)\n",
    "    （2）from   functools import partial -->partial(func,*args)"
   ]
  },
  {
   "cell_type": "code",
   "execution_count": 12,
   "metadata": {},
   "outputs": [
    {
     "name": "stdout",
     "output_type": "stream",
     "text": [
      "A____________我们看下原函数sum的函数地址入口：\n",
      "<function sum at 0x000002A25D6D4048>\n",
      "B______我们看下partial函数返回函数的地址入口：\n",
      "functools.partial(<function sum at 0x000002A25D6D4048>, 10)\n",
      "25\n",
      "45\n"
     ]
    }
   ],
   "source": [
    "# /usr/bin/env Python3  \n",
    "# -*- encoding:UTF-8 -*-  \n",
    "from  functools import partial  \n",
    "  \n",
    "def sum(*args):  \n",
    "    s = 0  \n",
    "    for n in args:  \n",
    "        s = s + n  \n",
    "    return s  \n",
    "  \n",
    "sum_add_10    = partial(sum,10)    #10 作用在sum第一个参数的位置  \n",
    "sum_add_10_20 = partial(sum,10,20) #10 20 分别作用在sum第一个和第二个参数的位置  \n",
    "print('A____________我们看下原函数sum的函数地址入口：')  \n",
    "print(sum)  \n",
    "print('B______我们看下partial函数返回函数的地址入口：')  \n",
    "print(partial(sum,10))  \n",
    "print(sum_add_10(1,2,3,4,5))    # --> 10 + 1 + 2 + 3 + 4 + 5 = 25  \n",
    "print(sum_add_10_20(1,2,3,4,5)) # --> 10 + 20 + 1 + 2 + 3 + 4 + 5 = 45  "
   ]
  },
  {
   "cell_type": "markdown",
   "metadata": {},
   "source": [
    "上面，可以看出，我们针对sum函数的求和结果，再加上10，或者加10加20，甚至加更多，都是可以通过偏函数来实现的，注意偏函数的第二部分，参数是可变的，是按顺序走的，因此，偏函数产生的新函数，sum_add_10 实际上等同于sum(10,*args)：\n",
    "\n",
    "通过几个例子，我们最终发现，还是偏函数比较方便，一行代码就搞定了，而且新定义的函数，可以根据函数名很容易知道，这个函数扩展的原函数是哪个，实现的效果是什么："
   ]
  },
  {
   "cell_type": "code",
   "execution_count": 14,
   "metadata": {
    "scrolled": true
   },
   "outputs": [
    {
     "name": "stdout",
     "output_type": "stream",
     "text": [
      "[6, 7, 8, 9, 10]\n"
     ]
    }
   ],
   "source": [
    "from functools import partial\n",
    "'''\n",
    "内置函数  slice(start, stop,[,step])\n",
    "创建一个切片对象，作用在有序序列上\n",
    "'''\n",
    "L = list(range(1,11))  # 1 - 10 的有序序列\n",
    "\n",
    "slice_5_10 = partial(slice, 5, 10)  # 新函数：返回一个切片对象，从5到10\n",
    "print(L[slice_5_10()])"
   ]
  },
  {
   "cell_type": "markdown",
   "metadata": {},
   "source": [
    "偏函数的第三个部分(关键字参数)，按原有函数的关键字参数进行填补，参数将作用在原函数上，最后偏函数返回一个新函数\n",
    "\n",
    "\n",
    "案例：我们定义一个mod求余函数，两个参数，一个是被除数，一个是除数，除数我们这里用命名关键字参数表示，默认值2\n",
    "\n",
    "扩展：我们的除数不固定，可以是对2就行求余，也可以对3，对4，总之我们需要指定除数的值\n",
    "\n",
    "返回结果： True 或 False\n",
    "\n",
    "实现：原函数实现和partial函数实现"
   ]
  },
  {
   "cell_type": "code",
   "execution_count": 15,
   "metadata": {},
   "outputs": [
    {
     "name": "stdout",
     "output_type": "stream",
     "text": [
      "A__3___使用原函数的默认关键字参数对2进行求余：\n",
      "False\n",
      "B__3___使用偏函数对2进行求余：\n",
      "False\n",
      "C__25___使用原函数的关键字参数对5进行求余：\n",
      "True\n",
      "D__25___使用偏函数对5进行求余：\n",
      "True\n"
     ]
    }
   ],
   "source": [
    "# /usr/bin/env Python3  \n",
    "# -*- encoding:UTF-8 -*-  \n",
    "import  functools   \n",
    "\n",
    "def mod(m,*,key=2):  \n",
    "    return m % key == 0  \n",
    "\n",
    "mod_to_2 = functools.partial(mod,key=2)  \n",
    "print('A__3___使用原函数的默认关键字参数对2进行求余：')  \n",
    "print(mod(3))                           #对2进行求余-- 原函数 使用默认参数  \n",
    "print('B__3___使用偏函数对2进行求余：')  \n",
    "print(mod_to_2(3))                      #对2进行求余-- 新函数 --偏函数产生  \n",
    "mod_to_5 = functools.partial(mod,key=5)   \n",
    "print('C__25___使用原函数的关键字参数对5进行求余：')  \n",
    "print(mod(25,key=5))                    #对5进行求余 -- 原函数  \n",
    "print('D__25___使用偏函数对5进行求余：')  \n",
    "print(mod_to_5(25))                     #对5进行求余 -- 新函数--偏函数产生  "
   ]
  },
  {
   "cell_type": "markdown",
   "metadata": {},
   "source": [
    "**总结**\n",
    "\n",
    "实际上，偏函数的作用，其实和原函数差不多，只不过，我们要多次调用原函数的时候，有些参数，我们需要多次手动的去提供值，比如上述的对5进行求余，如果我们想知道，15,45,30这些数是否能够被5整除，那么，我们用原函数的话，就需要写三次，key=5，然而，我们用偏函数的话，只需要重复调用新产生的函数mod_to_5（15 or 45 or 30）即可，至于除数5，偏函数已经为我们设定了，因此：\n",
    "\n",
    "当函数的参数个数太多，需要简化时，使用 functools.partial 可以创建一个新的函数，这个新函数可以固定住原函数的部分参数，从而在调用时更简单。当然，decorator也可以实现，如果，我们不嫌麻烦的话。"
   ]
  },
  {
   "cell_type": "markdown",
   "metadata": {},
   "source": [
    "### 2.6.4 引入装饰器"
   ]
  },
  {
   "cell_type": "code",
   "execution_count": 16,
   "metadata": {},
   "outputs": [
    {
     "name": "stdout",
     "output_type": "stream",
     "text": [
      "45\n",
      "sum\n"
     ]
    }
   ],
   "source": [
    "\n",
    "\n",
    "# /usr/bin/env Python3  \n",
    "# -*- encoding:UTF-8 -*-  \n",
    "  \n",
    "from functools import wraps  \n",
    "  \n",
    "def sum_add(*args1): #我们要给我们的装饰器decorator，带上参数  \n",
    "    def decorator(func):  \n",
    "        @wraps(func) #加上这句，原函数func被decorator作用后，函数性质不变  \n",
    "        def my_sum(*args2): #注意，参数要和原函数保持一致，真正实行扩展功能的是外层的装饰器  \n",
    "            my_s = 0  \n",
    "            for n in args1:  \n",
    "                my_s = my_s +n #这个是我们新加的求和结果  \n",
    "            return func(*args2) + my_s #这个，我们在原求和函数的结果上再加上s，并返回这个值  \n",
    "        return my_sum #返回my_sum函数，该函数扩展原函数的功能  \n",
    "    return decorator  #返回我们的装饰器  \n",
    " \n",
    "@sum_add(10,20) #启用装饰器 对sum函数进行功能扩展   \n",
    "def sum(*args):  \n",
    "    s = 0  \n",
    "    for n in args:  \n",
    "        s = s+n  \n",
    "    return s  \n",
    "print(sum(1,2,3,4,5))  \n",
    "print(sum.__name__)  "
   ]
  },
  {
   "cell_type": "markdown",
   "metadata": {},
   "source": [
    "sum(1,2,3,4,5)返回的结果绝不是15，这样就失去了装饰器存在的意义，当然，这里，我们知道，sum最后返回的值应该是10+20+15 = 45，这样一来，我们的decorator就实现了我们想要的扩展功能，最后，发现，原函数sum的name属性，仍然是sum，说明，这种装饰扩展功能，不影响我们的原函数："
   ]
  },
  {
   "cell_type": "markdown",
   "metadata": {},
   "source": [
    "## 2.7 装饰器\n",
    "\n",
    "由于函数也是一个对象，而且函数对象可以被赋值给变量，所以，通过变量也能调用该函数。\n",
    "\n",
    "同理，函数可以当做参数来使，也可以当做函数的返回值。"
   ]
  },
  {
   "cell_type": "code",
   "execution_count": 130,
   "metadata": {},
   "outputs": [
    {
     "name": "stdout",
     "output_type": "stream",
     "text": [
      "2018-04\n"
     ]
    }
   ],
   "source": [
    "def now():\n",
    "    print('2018-04')\n",
    "\n",
    "f = now\n",
    "f()"
   ]
  },
  {
   "cell_type": "code",
   "execution_count": null,
   "metadata": {
    "collapsed": true
   },
   "outputs": [],
   "source": [
    "函数对象有一个__name__属性，可以拿到函数的名字："
   ]
  },
  {
   "cell_type": "code",
   "execution_count": 132,
   "metadata": {},
   "outputs": [
    {
     "name": "stdout",
     "output_type": "stream",
     "text": [
      "now\n",
      "now\n"
     ]
    }
   ],
   "source": [
    "print(now.__name__)\n",
    "print(f.__name__)"
   ]
  },
  {
   "cell_type": "markdown",
   "metadata": {},
   "source": [
    "### 2.8.1 装饰器定义"
   ]
  },
  {
   "cell_type": "markdown",
   "metadata": {},
   "source": [
    "现在，假设我们要增强now()函数的功能，比如，在函数调用前后自动打印日志，但又不希望修改now()函数的定义，这种在代码运行期间动态增加功能的方式，称之为“装饰器”（Decorator）。\n",
    "\n",
    "本质上，decorator就是一个返回函数的高阶函数。所以，我们要定义一个能打印日志的decorator，可以定义如下："
   ]
  },
  {
   "cell_type": "code",
   "execution_count": 133,
   "metadata": {
    "collapsed": true
   },
   "outputs": [],
   "source": [
    "def log(func):\n",
    "    def wrapper(*args, **kw):\n",
    "        print('call %s():' % func.__name__)\n",
    "        return func(*args, **kw)\n",
    "    return wrapper"
   ]
  },
  {
   "cell_type": "markdown",
   "metadata": {},
   "source": [
    "观察上面的log，因为它是一个decorator，所以接受一个函数作为参数，并返回一个函数。我们要借助Python的@语法，把decorator置于函数的定义处："
   ]
  },
  {
   "cell_type": "code",
   "execution_count": 134,
   "metadata": {
    "collapsed": true
   },
   "outputs": [],
   "source": [
    "@log\n",
    "def now():\n",
    "    print('2018-04-01')"
   ]
  },
  {
   "cell_type": "markdown",
   "metadata": {},
   "source": [
    "调用now()函数，不仅会运行now()函数本身，还会在运行now()函数前打印一行日志："
   ]
  },
  {
   "cell_type": "code",
   "execution_count": 135,
   "metadata": {},
   "outputs": [
    {
     "name": "stdout",
     "output_type": "stream",
     "text": [
      "call now():\n",
      "2018-04-01\n"
     ]
    }
   ],
   "source": [
    "now()"
   ]
  },
  {
   "cell_type": "markdown",
   "metadata": {},
   "source": [
    "把@log放到now()函数的定义处，相当于执行了语句：\n",
    "\n",
    "now = log(now)\n",
    "由于log()是一个decorator，返回一个函数，所以，原来的now()函数仍然存在，只是现在同名的now变量指向了新的函数，于是调用now()将执行新函数，即在log()函数中返回的wrapper()函数。\n",
    "\n",
    "wrapper()函数的参数定义是(*args, **kw)，因此，wrapper()函数可以接受任意参数的调用。在wrapper()函数内，首先打印日志，再紧接着调用原始函数。\n",
    "\n"
   ]
  },
  {
   "cell_type": "markdown",
   "metadata": {},
   "source": [
    "### 2.8.2 装饰器传参\n",
    "\n",
    "如果decorator本身需要传入参数，那就需要编写一个返回decorator的高阶函数，写出来会更复杂。比如，要自定义log的文本："
   ]
  },
  {
   "cell_type": "code",
   "execution_count": 137,
   "metadata": {
    "collapsed": true
   },
   "outputs": [],
   "source": [
    "def log(text):\n",
    "    def decorator(func):\n",
    "        def wrapper(*args, **kw):\n",
    "            print('%s %s():' % (text, func.__name__))\n",
    "            return func(*args, **kw)\n",
    "        return wrapper\n",
    "    return decorator"
   ]
  },
  {
   "cell_type": "markdown",
   "metadata": {},
   "source": [
    "这个3层嵌套的decorator用法如下："
   ]
  },
  {
   "cell_type": "code",
   "execution_count": 138,
   "metadata": {},
   "outputs": [
    {
     "name": "stdout",
     "output_type": "stream",
     "text": [
      "execute now():\n",
      "2018-04-01\n"
     ]
    }
   ],
   "source": [
    "@log('execute')\n",
    "def now():\n",
    "    print('2018-04-01')\n",
    "    \n",
    "now()"
   ]
  },
  {
   "cell_type": "markdown",
   "metadata": {},
   "source": [
    "和两层嵌套的decorator相比，3层嵌套的效果是这样的：\n",
    "\n",
    "now = log('execute')(now)\n",
    "\n",
    "\n",
    "我们来剖析上面的语句，首先执行log('execute')，返回的是decorator函数，再调用返回的函数，参数是now函数，返回值最终是wrapper函数。\n",
    "\n",
    "以上两种decorator的定义都没有问题，但还差最后一步。因为我们讲了函数也是对象，它有__name__等属性，但你去看经过decorator装饰之后的函数，它们的__name__已经从原来的'now'变成了'wrapper'："
   ]
  },
  {
   "cell_type": "code",
   "execution_count": 139,
   "metadata": {},
   "outputs": [
    {
     "data": {
      "text/plain": [
       "'wrapper'"
      ]
     },
     "execution_count": 139,
     "metadata": {},
     "output_type": "execute_result"
    }
   ],
   "source": [
    "now.__name__"
   ]
  },
  {
   "cell_type": "markdown",
   "metadata": {},
   "source": [
    "因为返回的那个wrapper()函数名字就是'wrapper'，所以，需要把原始函数的__name__等属性复制到wrapper()函数中，否则，有些依赖函数签名的代码执行就会出错。"
   ]
  },
  {
   "cell_type": "markdown",
   "metadata": {},
   "source": [
    "不需要编写wrapper.__name__ = func.__name__这样的代码，Python内置的functools.wraps就是干这个事的，所以，一个完整的decorator的写法如下："
   ]
  },
  {
   "cell_type": "code",
   "execution_count": 140,
   "metadata": {
    "collapsed": true
   },
   "outputs": [],
   "source": [
    "import functools\n",
    "\n",
    "def log(func):\n",
    "    @functools.wraps(func)\n",
    "    def wrapper(*args, **kw):\n",
    "        print('call %s():' % func.__name__)\n",
    "        return func(*args, **kw)\n",
    "    return wrapper"
   ]
  },
  {
   "cell_type": "markdown",
   "metadata": {},
   "source": [
    "### 2.8.3 设计模式-装饰器\n",
    "\n",
    "装饰器是一个很著名的设计模式，经常被用于有切面需求的场景，较为经典的有插入日志、性能测试、事务处理等。\n",
    "\n",
    "抽离出大量函数中与函数功能本身无关的雷同代码并继续重用。概括的讲，装饰器的作用就是为已经存在的对象添加额外的功能，也称之为扩展功能。\n",
    "\n"
   ]
  },
  {
   "cell_type": "markdown",
   "metadata": {},
   "source": [
    "### 2.8.4 装饰器与偏函数的比较\n"
   ]
  },
  {
   "cell_type": "code",
   "execution_count": 18,
   "metadata": {},
   "outputs": [
    {
     "name": "stdout",
     "output_type": "stream",
     "text": [
      "15\n",
      "函数名字： add\n",
      "函数描述： 这是一个求和函数，参数可变(不知道有多少个)\n"
     ]
    }
   ],
   "source": [
    "#/usr/bin/env Python3  \n",
    "#-*- encoding:UTF-8 -*-  \n",
    "#test.py  \n",
    "def add(*args):   \n",
    "    \"\"\"这是一个求和函数，参数可变(不知道有多少个)\"\"\"  \n",
    "    sum = 0  \n",
    "    for n in args:  \n",
    "        sum = sum + n  \n",
    "    return sum  \n",
    "  \n",
    "L = [1,2,3,4,5]  \n",
    "print(add(*L))   \n",
    "func_name = add.__name__  # 属性：返回 函数名   \n",
    "print('函数名字：',func_name)  \n",
    "func_doc  = add.__doc__   # 描述：返回 函数描述   \n",
    "print('函数描述：',func_doc)  "
   ]
  },
  {
   "cell_type": "markdown",
   "metadata": {},
   "source": [
    "最开始讲函数的时候，说过可变参数，就是一个变量前加一个*号，为了就是，针对不定参数的函数考虑的，如果我们要对一个整数序列进行累加求和，我们就可以构造一个L，传参的时候在L前面加一个*即可，重点不在传参，而是在打印函数的两个属性值\n",
    "\n",
    "再回头看看2.7.4的例子"
   ]
  }
 ],
 "metadata": {
  "kernelspec": {
   "display_name": "Python 3",
   "language": "python",
   "name": "python3"
  },
  "language_info": {
   "codemirror_mode": {
    "name": "ipython",
    "version": 3
   },
   "file_extension": ".py",
   "mimetype": "text/x-python",
   "name": "python",
   "nbconvert_exporter": "python",
   "pygments_lexer": "ipython3",
   "version": "3.6.3"
  },
  "toc": {
   "base_numbering": 1,
   "nav_menu": {},
   "number_sections": false,
   "sideBar": true,
   "skip_h1_title": false,
   "title_cell": "Table of Contents",
   "title_sidebar": "Contents",
   "toc_cell": false,
   "toc_position": {},
   "toc_section_display": true,
   "toc_window_display": true
  }
 },
 "nbformat": 4,
 "nbformat_minor": 1
}
