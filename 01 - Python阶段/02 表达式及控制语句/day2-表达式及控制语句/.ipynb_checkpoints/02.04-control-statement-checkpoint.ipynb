{
 "cells": [
  {
   "cell_type": "markdown",
   "metadata": {
    "toc": "true"
   },
   "source": [
    "# Table of Contents\n",
    " <p><div class=\"lev1 toc-item\"><a href=\"#第四章-程序的控制结构\" data-toc-modified-id=\"第四章-程序的控制结构-1\"><span class=\"toc-item-num\">1&nbsp;&nbsp;</span>第四章 程序的控制结构</a></div><div class=\"lev2 toc-item\"><a href=\"#程序的基本结构\" data-toc-modified-id=\"程序的基本结构-11\"><span class=\"toc-item-num\">1.1&nbsp;&nbsp;</span>程序的基本结构</a></div><div class=\"lev3 toc-item\"><a href=\"#微实例\" data-toc-modified-id=\"微实例-111\"><span class=\"toc-item-num\">1.1.1&nbsp;&nbsp;</span>微实例</a></div><div class=\"lev2 toc-item\"><a href=\"#程序的分支结构\" data-toc-modified-id=\"程序的分支结构-12\"><span class=\"toc-item-num\">1.2&nbsp;&nbsp;</span>程序的分支结构</a></div><div class=\"lev3 toc-item\"><a href=\"#单分支结构:-if语句\" data-toc-modified-id=\"单分支结构:-if语句-121\"><span class=\"toc-item-num\">1.2.1&nbsp;&nbsp;</span>单分支结构: if语句</a></div><div class=\"lev4 toc-item\"><a href=\"#微实例4.4：PM-2.5空气质量提醒（1）\" data-toc-modified-id=\"微实例4.4：PM-2.5空气质量提醒（1）-1211\"><span class=\"toc-item-num\">1.2.1.1&nbsp;&nbsp;</span>微实例4.4：PM 2.5空气质量提醒（1）</a></div><div class=\"lev3 toc-item\"><a href=\"#二分支结构:-if-else语句\" data-toc-modified-id=\"二分支结构:-if-else语句-122\"><span class=\"toc-item-num\">1.2.2&nbsp;&nbsp;</span>二分支结构: if-else语句</a></div><div class=\"lev4 toc-item\"><a href=\"#微实例4.5：PM-2.5空气质量提醒（2）\" data-toc-modified-id=\"微实例4.5：PM-2.5空气质量提醒（2）-1221\"><span class=\"toc-item-num\">1.2.2.1&nbsp;&nbsp;</span>微实例4.5：PM 2.5空气质量提醒（2）</a></div><div class=\"lev3 toc-item\"><a href=\"#多分支结构:-if-elif-else语句\" data-toc-modified-id=\"多分支结构:-if-elif-else语句-123\"><span class=\"toc-item-num\">1.2.3&nbsp;&nbsp;</span>多分支结构: if-elif-else语句</a></div><div class=\"lev4 toc-item\"><a href=\"#微实例4.6：PM-2.5空气质量提醒（3）\" data-toc-modified-id=\"微实例4.6：PM-2.5空气质量提醒（3）-1231\"><span class=\"toc-item-num\">1.2.3.1&nbsp;&nbsp;</span>微实例4.6：PM 2.5空气质量提醒（3）</a></div><div class=\"lev2 toc-item\"><a href=\"#实例：身体质量指数BMI\" data-toc-modified-id=\"实例：身体质量指数BMI-13\"><span class=\"toc-item-num\">1.3&nbsp;&nbsp;</span>实例：身体质量指数BMI</a></div><div class=\"lev2 toc-item\"><a href=\"#程序的循环结构\" data-toc-modified-id=\"程序的循环结构-14\"><span class=\"toc-item-num\">1.4&nbsp;&nbsp;</span>程序的循环结构</a></div><div class=\"lev3 toc-item\"><a href=\"#遍历循环:-for语句\" data-toc-modified-id=\"遍历循环:-for语句-141\"><span class=\"toc-item-num\">1.4.1&nbsp;&nbsp;</span>遍历循环: for语句</a></div><div class=\"lev3 toc-item\"><a href=\"#无限循环:-while语句\" data-toc-modified-id=\"无限循环:-while语句-142\"><span class=\"toc-item-num\">1.4.2&nbsp;&nbsp;</span>无限循环: while语句</a></div><div class=\"lev3 toc-item\"><a href=\"#循环保留字:-break和continue\" data-toc-modified-id=\"循环保留字:-break和continue-143\"><span class=\"toc-item-num\">1.4.3&nbsp;&nbsp;</span>循环保留字: break和continue</a></div><div class=\"lev2 toc-item\"><a href=\"#random库的使用\" data-toc-modified-id=\"random库的使用-15\"><span class=\"toc-item-num\">1.5&nbsp;&nbsp;</span>random库的使用</a></div><div class=\"lev2 toc-item\"><a href=\"#实例：π的计算\" data-toc-modified-id=\"实例：π的计算-16\"><span class=\"toc-item-num\">1.6&nbsp;&nbsp;</span>实例：π的计算</a></div><div class=\"lev2 toc-item\"><a href=\"#异常处理机制\" data-toc-modified-id=\"异常处理机制-17\"><span class=\"toc-item-num\">1.7&nbsp;&nbsp;</span>异常处理机制</a></div><div class=\"lev3 toc-item\"><a href=\"#异常处理:-try-except语句\" data-toc-modified-id=\"异常处理:-try-except语句-171\"><span class=\"toc-item-num\">1.7.1&nbsp;&nbsp;</span>异常处理: try-except语句</a></div><div class=\"lev3 toc-item\"><a href=\"#异常的高级用法\" data-toc-modified-id=\"异常的高级用法-172\"><span class=\"toc-item-num\">1.7.2&nbsp;&nbsp;</span>异常的高级用法</a></div>"
   ]
  },
  {
   "cell_type": "markdown",
   "metadata": {},
   "source": [
    "# 4 程序的控制结构"
   ]
  },
  {
   "cell_type": "markdown",
   "metadata": {},
   "source": [
    "\n",
    "## 4.1 程序的基本结构\n",
    "程序由三种基本结构组成：  \n",
    "- 顺序结构  \n",
    "- 分支结构  \n",
    "- 循环结构  \n",
    "这些基本结构都有一个入口和一个出口。任何程序都由这三种基本结构组合而成  "
   ]
  },
  {
   "cell_type": "markdown",
   "metadata": {},
   "source": [
    "### 微实例\n",
    "1. 计算圆的面积和周长\n",
    "2. 计算绝对值\n",
    "3. 整数累加"
   ]
  },
  {
   "cell_type": "code",
   "execution_count": 2,
   "metadata": {},
   "outputs": [
    {
     "name": "stdout",
     "output_type": "stream",
     "text": [
      "请输入圆半径:3\n",
      "面积和周长: 28.2735 18.849\n"
     ]
    }
   ],
   "source": [
    "#输入半径，计算圆的面积和周长\n",
    "R = eval(input(\"请输入圆半径:\"))\n",
    "S = 3.1415*R*R\n",
    "L = 2*3.1415*R \n",
    "print(\"面积和周长:\",S,L)"
   ]
  },
  {
   "cell_type": "code",
   "execution_count": 4,
   "metadata": {},
   "outputs": [
    {
     "name": "stdout",
     "output_type": "stream",
     "text": [
      "输入实数:-2.8\n",
      "绝对值 2.8\n"
     ]
    }
   ],
   "source": [
    "#输入一个实数，计算其绝对值\n",
    "R = eval(input(\"输入实数:\"))\n",
    "if (R < 0):\n",
    "    R = -R\n",
    "print(\"绝对值\",R)"
   ]
  },
  {
   "cell_type": "code",
   "execution_count": 5,
   "metadata": {},
   "outputs": [
    {
     "name": "stdout",
     "output_type": "stream",
     "text": [
      "请输入正整数:100\n",
      "累加求和 5050\n"
     ]
    }
   ],
   "source": [
    "#输入正整数，计算从1累加到该数的和\n",
    "R = eval(input(\"请输入正整数:\"))\n",
    "i, S = 0, 0\n",
    "while (i<=R):\n",
    "    S = S + i\n",
    "    i = i + 1\n",
    "print(\"累加求和\",S)"
   ]
  },
  {
   "cell_type": "markdown",
   "metadata": {},
   "source": [
    "## 4.2 程序的分支结构"
   ]
  },
  {
   "cell_type": "markdown",
   "metadata": {},
   "source": [
    "### 4.2.1 单分支结构: if语句\n",
    "\n",
    "Python中if语句的语法格式如下：  \n",
    "```\n",
    "if  <条件>:\n",
    "    语句块\n",
    "```\n",
    "- 语句块是if条件满足后执行的一个或多个语句序列  \n",
    "- 语句块中语句通过与if所在行形成缩进表达包含关系  \n",
    "- if语句首先评估<条件>的结果值，如果结果为True，则执行语句块里的语句序列，然后控制转向程序的下一条语句。如果结果为False，语句块里的语句会被跳过。\n",
    "- if语句中语句块执行与否依赖于条件判断。但无论什么情况，控制都会转到if语句后与该语句同级别的下一条语句  \n",
    "- if语中<条件>部分可以使用任何能够产生True或False的语句  \n",
    "- 形成判断条件最常见的方式是采用关系操作符  \n"
   ]
  },
  {
   "cell_type": "markdown",
   "metadata": {},
   "source": [
    "#### 微实例4.4：PM 2.5空气质量提醒（1）\n",
    "输入：接收外部输入PM2.5值  \n",
    "处理：  \n",
    "if PM2.5值 >= 75，打印空气污染警告  \n",
    "if 35 <= PM2.5值 < 75，打印空气污染警告  \n",
    "if PM2.5值 < 35，打印空气质量优，建议户外运动  \n",
    "输出：打印空气质量提醒   \n"
   ]
  },
  {
   "cell_type": "code",
   "execution_count": 6,
   "metadata": {},
   "outputs": [
    {
     "name": "stdout",
     "output_type": "stream",
     "text": [
      "请输入PM2.5数值: 50\n",
      "空气良好，适度户外活动！\n"
     ]
    }
   ],
   "source": [
    "PM = eval(input(\"请输入PM2.5数值: \"))\n",
    "if 0<= PM < 35:\n",
    "    print(\"空气优质，快去户外运动!\")\n",
    "if 35 <= PM <75:\n",
    "    print(\"空气良好，适度户外活动！\")\n",
    "if 75 <= PM:\n",
    "    print(\"空气污染，请小心！\")"
   ]
  },
  {
   "cell_type": "markdown",
   "metadata": {},
   "source": [
    "例如判断一个数是不是正数："
   ]
  },
  {
   "cell_type": "code",
   "execution_count": 1,
   "metadata": {
    "scrolled": true
   },
   "outputs": [
    {
     "name": "stdout",
     "output_type": "stream",
     "text": [
      "Hey!\n",
      "x is positive\n"
     ]
    }
   ],
   "source": [
    "x = 0.5\n",
    "if x > 0:\n",
    "    print(\"Hey!\")\n",
    "    print(\"x is positive\")"
   ]
  },
  {
   "cell_type": "markdown",
   "metadata": {},
   "source": [
    "在这里，如果 `x > 0` 为 `False` ，那么程序将不会执行两条 `print` 语句。\n",
    "\n",
    "虽然都是用 `if` 关键词定义判断，但与**C，Java**等语言不同，**Python**不使用 `{}` 将 `if` 语句控制的区域包含起来。**Python**使用的是缩进方法。同时，也不需要用 `()` 将判断条件括起来。\n",
    "\n",
    "上面例子中的这两条语句：\n",
    "```python\n",
    "    print(\"Hey!\")\n",
    "    print(\"x is positive\")\n",
    "```\n",
    "就叫做一个代码块，同一个代码块使用同样的缩进值，它们组成了这条 `if` 语句的主体。\n",
    "\n",
    "不同的缩进值表示不同的代码块，例如：\n",
    "\n",
    "`x > 0` 时："
   ]
  },
  {
   "cell_type": "code",
   "execution_count": 3,
   "metadata": {},
   "outputs": [
    {
     "name": "stdout",
     "output_type": "stream",
     "text": [
      "Hey!\n",
      "x is positive\n",
      "This is still part of the block\n",
      "This isn't part of the block, and will always print.\n"
     ]
    }
   ],
   "source": [
    "x = 0.5\n",
    "if x > 0:\n",
    "    print(\"Hey!\")\n",
    "    print(\"x is positive\")\n",
    "    print(\"This is still part of the block\")\n",
    "print(\"This isn't part of the block, and will always print.\")"
   ]
  },
  {
   "cell_type": "markdown",
   "metadata": {},
   "source": [
    "`x < 0` 时："
   ]
  },
  {
   "cell_type": "code",
   "execution_count": 4,
   "metadata": {},
   "outputs": [
    {
     "name": "stdout",
     "output_type": "stream",
     "text": [
      "This isn't part of the block, and will always print.\n"
     ]
    }
   ],
   "source": [
    "在这两个例子中，最后一句并不是`if`语句中的内容，所以不管条件满不满足，它都会被执行。f the block, and will always print.\")"
   ]
  },
  {
   "cell_type": "markdown",
   "metadata": {},
   "source": [
    "在上面这两个例子中，最后一句并不是`if`语句中的内容，所以不管条件满不满足，它都会被执行。"
   ]
  },
  {
   "cell_type": "markdown",
   "metadata": {},
   "source": [
    "### 4.2.2 二分支结构: if-else语句\n",
    "Python中if-else语句用来形成二分支结构，语法格式如下：  \n",
    "```\n",
    "if  <条件>:\n",
    "   <语句块1>\n",
    "else:\n",
    "   <语句块2>\n",
    "```\n",
    "- <语句块1>是在if条件满足后执行的一个或多个语句序列  \n",
    "- <语句块2>是if条件不满足后执行的语句序列  \n",
    "- 二分支语句用于区分<条件>的两种可能True或者False，分别形成执行路径  \n",
    "\n",
    "#### 微实例4.5：PM 2.5空气质量提醒（2）"
   ]
  },
  {
   "cell_type": "code",
   "execution_count": 8,
   "metadata": {},
   "outputs": [
    {
     "name": "stdout",
     "output_type": "stream",
     "text": [
      "请输入PM2.5数值: 50\n",
      "空气没有污染，可以开展户外运动!\n"
     ]
    }
   ],
   "source": [
    "PM = eval(input(\"请输入PM2.5数值: \"))\n",
    "if PM >= 75:\n",
    "    print(\"空气存在污染，请小心！\")\n",
    "else:\n",
    "    print(\"空气没有污染，可以开展户外运动!\")\n"
   ]
  },
  {
   "cell_type": "markdown",
   "metadata": {},
   "source": [
    "二分支结构还有一种更简洁的表达方式，适合通过判断返回特定值，语法格式如下：\n",
    "\n",
    "<表达式1>  if  <条件> else <表达式2>\n"
   ]
  },
  {
   "cell_type": "code",
   "execution_count": 9,
   "metadata": {},
   "outputs": [
    {
     "name": "stdout",
     "output_type": "stream",
     "text": [
      "请输入PM2.5数值: 80\n",
      "空气存在污染!\n"
     ]
    }
   ],
   "source": [
    "PM = eval(input(\"请输入PM2.5数值: \"))\n",
    "print(\"空气{}污染!\".format(\"存在\" if PM >= 75 else \"没有\"))"
   ]
  },
  {
   "cell_type": "markdown",
   "metadata": {},
   "source": [
    "### 4.2.3 多分支结构: if-elif-else语句\n",
    "Python的if-elif-else描述多分支结构，语句格式如下：\n",
    "```\n",
    "if <条件1>:\n",
    "    <语句块1>\n",
    "elif <条件2>:\n",
    "    <语句块2>\n",
    "... \n",
    "else: \n",
    "    <语句块N>\n",
    "```\n",
    "\n",
    "- 多分支结构是二分支结构的扩展，这种形式通常用于设置同一个判断条件的多条执行路径。  \n",
    "- Python依次评估寻找第一个结果为True的条件，执行该条件下的语句块，同时结束后跳过整个if-elif-else结构，执行后面的语句。如果没有任何条件成立，else下面的语句块被执行。   \n",
    "\n",
    "- `elif` 的个数没有限制，可以是1个或者多个，也可以没有。\n",
    "\n",
    "- `else` 最多只有1个，也可以没有，即else子句是可选的。\n",
    "\n",
    "- 可以使用 `and` ， `or` , `not` 等关键词结合多个判断条件："
   ]
  },
  {
   "cell_type": "markdown",
   "metadata": {},
   "source": [
    "#### 微实例4.6：PM 2.5空气质量提醒（3）"
   ]
  },
  {
   "cell_type": "code",
   "execution_count": 11,
   "metadata": {},
   "outputs": [
    {
     "name": "stdout",
     "output_type": "stream",
     "text": [
      "请输入PM2.5数值: 30\n",
      "空气优质，快去户外运动!\n"
     ]
    }
   ],
   "source": [
    "PM = eval(input(\"请输入PM2.5数值: \"))\n",
    "if 0<= PM < 35:\n",
    "    print(\"空气优质，快去户外运动!\")\n",
    "elif 35 <= PM <75:\n",
    "    print(\"空气良好，适度户外活动！\")\n",
    "else:\n",
    "    print(\"空气污染，请小心！\")\n"
   ]
  },
  {
   "cell_type": "markdown",
   "metadata": {},
   "source": [
    "### 微实例：身体质量指数BMI\n",
    "BMI的定义如下：  \n",
    "BMI = 体重（kg）÷身高2（m2）  \n",
    "例如，一个人身高1.75米、体重75公斤，他的BMI值为24.49  \n",
    "编写一个根据体重和身高计算BMI值的程序，并同时输出国际和国内的BMI指标建议值  \n"
   ]
  },
  {
   "cell_type": "code",
   "execution_count": 12,
   "metadata": {},
   "outputs": [
    {
     "name": "stdout",
     "output_type": "stream",
     "text": [
      "请输入身高(米)和体重(公斤)[逗号隔开]: 1.75,74\n",
      "BMI数值为：24.16\n",
      "BMI指标为:国际'正常', 国内'偏胖'\n"
     ]
    }
   ],
   "source": [
    "height, weight = eval(input(\"请输入身高(米)和体重\\\n",
    "(公斤)[逗号隔开]: \"))\n",
    "bmi = weight / pow(height, 2)\n",
    "print(\"BMI数值为：{:.2f}\".format(bmi))\n",
    "wto, dom = \"\", \"\"\n",
    "if bmi < 18.5:   # WTO标准\n",
    "    wto = \"偏瘦\"\n",
    "elif bmi < 25:   # 18.5 <= bmi < 25\n",
    "    wto = \"正常\"\n",
    "elif bmi < 30:   # 25 <= bmi < 30\n",
    "    wto = \"偏胖\"\n",
    "else:\n",
    "    wto = \"肥胖\"\n",
    "if bmi < 18.5:    # 我国卫生部标准\n",
    "    dom = \"偏瘦\"\n",
    "elif bmi < 24:    # 18.5 <= bmi < 24\n",
    "    dom = \"正常\"\n",
    "elif bmi < 28:    # 24 <= bmi < 28\n",
    "    dom = \"偏胖\"\n",
    "else:\n",
    "    dom = \"肥胖\"\n",
    "print(\"BMI指标为:国际'{0}', 国内'{1}'\".format(wto, dom))\n"
   ]
  },
  {
   "cell_type": "code",
   "execution_count": 16,
   "metadata": {},
   "outputs": [
    {
     "name": "stdout",
     "output_type": "stream",
     "text": [
      "请输入身高(米)和体重(公斤)[逗号隔开]: 1.75,73\n",
      "BMI数值为：23.84\n",
      "BMI指标为:国际'正常', 国内'正常'\n"
     ]
    }
   ],
   "source": [
    "height, weight = eval(input(\"请输入身高(米)和体重\\\n",
    "(公斤)[逗号隔开]: \"))\n",
    "bmi = weight / pow(height, 2)\n",
    "print(\"BMI数值为：{:.2f}\".format(bmi))\n",
    "wto, dom = \"\", \"\"\n",
    "if bmi < 18.5:\n",
    "    wto, dom = \"偏瘦\", \"偏瘦\"\n",
    "elif 18.5 <= bmi < 24:\n",
    "    wto, dom = \"正常\", \"正常\"\n",
    "elif 24 <= bmi < 25:\n",
    "    wto, dom = \"正常\", \"偏胖\"\n",
    "elif 25 <= bmi < 28:\n",
    "    wto, dom = \"偏胖\", \"偏胖\"\n",
    "elif 28 <= bmi < 30:\n",
    "    wto, dom = \"偏胖\", \"肥胖\"\n",
    "else:\n",
    "    wto, dom = \"肥胖\", \"肥胖\"\n",
    "print(\"BMI指标为:国际'{0}', 国内'{1}'\".format(wto, dom))\n"
   ]
  },
  {
   "cell_type": "markdown",
   "metadata": {},
   "source": [
    "假如想判断一个年份是不是闰年，按照闰年的定义，这里只需要判断这个年份是不是能被4整除，但是不能被100整除，或者正好被400整除："
   ]
  },
  {
   "cell_type": "code",
   "execution_count": 7,
   "metadata": {},
   "outputs": [
    {
     "name": "stdout",
     "output_type": "stream",
     "text": [
      "This is not a leap year.\n"
     ]
    }
   ],
   "source": [
    "year = 1900\n",
    "if year % 400 == 0:\n",
    "    print(\"This is a leap year!\")\n",
    "# 两个条件都满足才执行\n",
    "elif year % 4 == 0 and year % 100 != 0:\n",
    "    print(\"This is a leap year!\")\n",
    "else:\n",
    "    print(\"This is not a leap year.\")"
   ]
  },
  {
   "cell_type": "markdown",
   "metadata": {},
   "source": [
    "### 4.2.4 值的测试"
   ]
  },
  {
   "cell_type": "markdown",
   "metadata": {},
   "source": [
    "**Python**不仅仅可以使用布尔型变量作为条件，它可以直接在`if`中使用任何表达式作为条件：\n",
    "\n",
    "大部分表达式的值都会被当作`True`，但以下表达式值会被当作`False`：\n",
    "\n",
    "- False\n",
    "- None\n",
    "- 0\n",
    "- 空字符串，空列表，空字典，空集合"
   ]
  },
  {
   "cell_type": "code",
   "execution_count": 9,
   "metadata": {},
   "outputs": [
    {
     "name": "stdout",
     "output_type": "stream",
     "text": [
      "The first element is: 3\n"
     ]
    }
   ],
   "source": [
    "mylist = [3, 1, 4, 1, 5, 9]\n",
    "if mylist:\n",
    "    print(\"The first element is:\", mylist[0])\n",
    "else:\n",
    "    print(\"There is no first element.\")"
   ]
  },
  {
   "cell_type": "markdown",
   "metadata": {},
   "source": [
    "修改为空列表："
   ]
  },
  {
   "cell_type": "code",
   "execution_count": 10,
   "metadata": {},
   "outputs": [
    {
     "name": "stdout",
     "output_type": "stream",
     "text": [
      "There is no first element.\n"
     ]
    }
   ],
   "source": [
    "mylist = []\n",
    "if mylist:\n",
    "    print(\"The first element is:\", mylist[0])\n",
    "else:\n",
    "    print(\"There is no first element.\")"
   ]
  },
  {
   "cell_type": "markdown",
   "metadata": {},
   "source": [
    "当然这种用法并不推荐，推荐使用 `if len(mylist) > 0:` 来判断一个列表是否为空。"
   ]
  },
  {
   "cell_type": "markdown",
   "metadata": {},
   "source": [
    "## 4.3 程序的循环结构\n",
    "\n",
    "### 4.3.1 遍历循环: for语句\n",
    "遍历循环：  \n",
    "    根据循环执行次数的确定性，循环可以分为确定次数循环和非确定次数循环。确定次数循环指循环体对循环次数有明确的定义循环次数采用遍历结构中元素个数来体现  \n",
    "Python通过保留字for实现“遍历循环” ：  \n",
    "```\n",
    "for  <循环变量>  in  <遍历结构>:\n",
    "    <语句块> \n",
    "```\n",
    "遍历结构可以是字符串、文件、组合数据类型或range()函数：  \n",
    "遍历循环还有一种扩展模式，使用方法如下：  \n",
    "```\n",
    "for  <循环变量>  in  <遍历结构>:\n",
    "    <语句块1>\n",
    "else:\n",
    "    <语句块2>\n",
    "\n",
    "```\n",
    "当for循环正常执行之后，程序会继续执行else语句中内容。else语句只在循环正常执行之后才执行并结束  "
   ]
  },
  {
   "cell_type": "code",
   "execution_count": 17,
   "metadata": {},
   "outputs": [
    {
     "name": "stdout",
     "output_type": "stream",
     "text": [
      "循环进行中：B\n",
      "循环进行中：I\n",
      "循环进行中：T\n",
      "循环正常结束\n"
     ]
    }
   ],
   "source": [
    "for s in \"BIT\":\n",
    "    print(\"循环进行中：\" + s)\n",
    "else:\n",
    "    print(\"循环正常结束\")"
   ]
  },
  {
   "cell_type": "markdown",
   "metadata": {},
   "source": [
    "### 4.3.2 无限循环: while语句\n",
    "- 无限循环一直保持循环操作直到特定循环条件不被满足才结束，不需要提前知道确定循环次数。\n",
    "- Python通过保留字while实现无限循环，使用方法如下：\n",
    "```\n",
    "while  <条件>:\n",
    "    <语句块>语句块\n",
    "```\n",
    "- 无限循环也有一种使用保留字else的扩展模式：\n",
    "```\n",
    "while  <条件>:\n",
    "    <语句块1>\n",
    "else:\n",
    "    <语句块2>\n",
    "```\n"
   ]
  },
  {
   "cell_type": "markdown",
   "metadata": {},
   "source": [
    "计算数字`0`到`1000000`的和："
   ]
  },
  {
   "cell_type": "code",
   "execution_count": 13,
   "metadata": {
    "scrolled": true
   },
   "outputs": [
    {
     "name": "stdout",
     "output_type": "stream",
     "text": [
      "499999500000\n"
     ]
    }
   ],
   "source": [
    "i = 0\n",
    "total = 0\n",
    "while i < 1000000:\n",
    "    total += i\n",
    "    i += 1\n",
    "print(total)"
   ]
  },
  {
   "cell_type": "markdown",
   "metadata": {},
   "source": [
    "求和也可以通过 `for` 循环来实现："
   ]
  },
  {
   "cell_type": "code",
   "execution_count": 12,
   "metadata": {},
   "outputs": [
    {
     "name": "stdout",
     "output_type": "stream",
     "text": [
      "4999950000\n"
     ]
    }
   ],
   "source": [
    "total = 0\n",
    "for i in range(100000):\n",
    "    total += i\n",
    "print(total)"
   ]
  },
  {
   "cell_type": "code",
   "execution_count": 18,
   "metadata": {
    "scrolled": true
   },
   "outputs": [
    {
     "name": "stdout",
     "output_type": "stream",
     "text": [
      "循环进行中: B\n",
      "循环进行中: I\n",
      "循环进行中: T\n",
      "循环正常结束\n"
     ]
    }
   ],
   "source": [
    "s, idx = \"BIT\", 0\n",
    "while idx < len(s):\n",
    "    print(\"循环进行中: \" + s[idx])\n",
    "    idx += 1\n",
    "else:\n",
    "    print(\"循环正常结束\")"
   ]
  },
  {
   "cell_type": "markdown",
   "metadata": {},
   "source": [
    "### 4.3.4 循环保留字: break和continue\n",
    "- 循环结构有两个辅助保留字：break和continue，它们用来辅助控制循环执行\n",
    "- break用来跳出最内层for或while循环，脱离该循环后程序从循环后代码继续执行\n",
    "- continue用来结束当前当次循环，即跳出循环体中下面尚未执行的语句，但不跳出当前循环。\n",
    "- 对于while循环，继续求解循环条件。而对于for循环，程序流程接着遍历循环列表\n"
   ]
  },
  {
   "cell_type": "code",
   "execution_count": 19,
   "metadata": {},
   "outputs": [
    {
     "name": "stdout",
     "output_type": "stream",
     "text": [
      "BBBBBBBBBBITTTTTTTTTT"
     ]
    }
   ],
   "source": [
    "for s in \"BIT\":\n",
    "    for i in range(10):\n",
    "        print(s, end=\"\")\n",
    "        if s==\"I\":\n",
    "            break"
   ]
  },
  {
   "cell_type": "code",
   "execution_count": 20,
   "metadata": {},
   "outputs": [
    {
     "name": "stdout",
     "output_type": "stream",
     "text": [
      "PYHON"
     ]
    }
   ],
   "source": [
    "for s in \"PYTHON\":\n",
    "    if s==\"T\":\n",
    "        continue\n",
    "    print(s, end=\"\")\n"
   ]
  },
  {
   "cell_type": "code",
   "execution_count": 21,
   "metadata": {},
   "outputs": [
    {
     "name": "stdout",
     "output_type": "stream",
     "text": [
      "PY"
     ]
    }
   ],
   "source": [
    "for s in \"PYTHON\":\n",
    "    if s==\"T\":\n",
    "        break\n",
    "    print(s, end=\"\")\n"
   ]
  },
  {
   "cell_type": "markdown",
   "metadata": {},
   "source": [
    "continue语句和break语句的区别是：\n",
    "- continue语句只结束本次循环，而不终止整个循环的执行。\n",
    "- break语句则是结束整个循环过程，不再判断执行循环的条件是否成立"
   ]
  },
  {
   "cell_type": "markdown",
   "metadata": {},
   "source": [
    "在while和for中 continue的区别\n",
    "\n",
    "    1. 在while语句中执行continue语句,将会直接跳转到while语句真值表达式处重新判断循环条件.\n",
    "    2. 在for 语句中执行continue语句,将会从可迭代对象中移向下一个元素再次进行循环"
   ]
  },
  {
   "cell_type": "code",
   "execution_count": null,
   "metadata": {
    "collapsed": true,
    "scrolled": false
   },
   "outputs": [],
   "source": [
    "cnt = 0\n",
    "while True:\n",
    "    cnt += 1\n",
    "    print(cnt)\n",
    "    if cnt == pow(2, 10):\n",
    "        break\n",
    "        "
   ]
  },
  {
   "cell_type": "markdown",
   "metadata": {},
   "source": [
    "### 4.3.5 死循环:\n",
    "\n",
    "    死循环是指循环条件一直成立的循环\n",
    "    死循环通常用break语句来终止循环\n",
    "    死循环的else子句永远不会执行"
   ]
  },
  {
   "cell_type": "markdown",
   "metadata": {},
   "source": [
    "## 4.4 Python3 range()内建\n",
    "\n",
    "在Python3中，range实际上是不可改变的序列类型，返回的range对象是迭代器，参数只能为整数，通常用在for循环中循环指定的次数。\n",
    "\n"
   ]
  },
  {
   "cell_type": "code",
   "execution_count": null,
   "metadata": {
    "collapsed": true
   },
   "outputs": [],
   "source": [
    "help(range)"
   ]
  },
  {
   "cell_type": "markdown",
   "metadata": {},
   "source": [
    "有两种构造方法：\n",
    "\n",
    "    class range(stop)\n",
    "    class range(start, stop[, step])\n",
    "\n",
    "    参数只能为整数，start默认值是0，step默认值是1，如果step为0，则抛出 ValueError异常。\n",
    "\n",
    "    当step为正数时，range对象r内容是这么确定的：r[i] = start + step*i 并且 i >= 0 和 r[i] < stop\n",
    "    当step为负数时，range对象r内容是这么确定的：r[i] = start + step*i 并且 i >= 0 和 r[i] > stop\n",
    "    如果r[0]的值不满足上述约束条件，则range对象将是空的。"
   ]
  },
  {
   "cell_type": "code",
   "execution_count": 18,
   "metadata": {
    "scrolled": true
   },
   "outputs": [
    {
     "name": "stdout",
     "output_type": "stream",
     "text": [
      "0\n",
      "1\n",
      "2\n",
      "3\n",
      "4\n"
     ]
    }
   ],
   "source": [
    "for i in range(5):  #注意：默认情况下，range() 的起始值是 0\n",
    "    print(i)"
   ]
  },
  {
   "cell_type": "markdown",
   "metadata": {},
   "source": [
    "当然，可以让range() 的起始值定为某一个数，也可以指定一个不同的增量（甚至可以为负；有时这被称为“步长”）。例如：\n",
    "\n",
    "    range(5, 10)   # 5, 6, 7, 8, 9\n",
    "    range(0, 10 , 3)   # 0, 3, 6, 9\n",
    "    range(-10 , -100 , -30)   # -10 , -40 , -70"
   ]
  },
  {
   "cell_type": "code",
   "execution_count": 19,
   "metadata": {},
   "outputs": [
    {
     "data": {
      "text/plain": [
       "range(5, 10)"
      ]
     },
     "execution_count": 19,
     "metadata": {},
     "output_type": "execute_result"
    }
   ],
   "source": [
    "# 奇怪的现象\n",
    "range(5, 10)  "
   ]
  },
  {
   "cell_type": "code",
   "execution_count": null,
   "metadata": {
    "collapsed": true
   },
   "outputs": [],
   "source": [
    "# 奇怪的现象\n",
    "print(range(10))"
   ]
  },
  {
   "cell_type": "code",
   "execution_count": 20,
   "metadata": {},
   "outputs": [
    {
     "data": {
      "text/plain": [
       "[5, 6, 7, 8, 9]"
      ]
     },
     "execution_count": 20,
     "metadata": {},
     "output_type": "execute_result"
    }
   ],
   "source": [
    "list(range(5,10))"
   ]
  },
  {
   "cell_type": "markdown",
   "metadata": {},
   "source": [
    "得出的结果是 range(0,10) ，而不是[0,1,2,3,4,5,6,7,8,9] ，为什么呢？\n",
    "\n",
    "在很多种情况下，range()函数返回的对象的行为都很像一个列表，但是它确实不是一个列表，它只是在迭代的情况下返回指定索引的值，但是它并不会在内存中真正产生一个列表对象，这样也是为了节约内存空间。\n",
    "\n",
    "我们称这种对象是可迭代的，或者是可迭代对象，还有一种对象叫迭代器，它们需要从一个可迭代对象中连续获取指定索引的值，一直到索引结束。list()函数就是这样一个迭代器，它可以把range()函数返回的对象变成一个列表。\n",
    "\n",
    "总结：\n",
    "\n",
    "range() 函数返回的是一个可迭代对象（类型是对象），而不是列表类型， 所以打印的时候不会打印列表。\n",
    "\n",
    "list() 函数是对象迭代器，把对象转为一个列表。返回的变量类型为列表。\n",
    "\n",
    "有关list的内容，后续再深入学习。"
   ]
  },
  {
   "cell_type": "markdown",
   "metadata": {},
   "source": [
    "## 4.5 random库的使用\n",
    "使用random库主要目的是生成随机数，因此，读者只需要查阅该库的随机数生成函数，找到符合使用场景的函数使用即可。这个库提供了不同类型的随机数函数，所有函数都是基于最基本的random.random()函数扩展而来。  \n",
    "对random库的引用方法与math库一样，采用下面两种方式实现：  \n",
    "import random  \n",
    "或  \n",
    "from random import *  \n"
   ]
  },
  {
   "cell_type": "code",
   "execution_count": 24,
   "metadata": {
    "collapsed": true
   },
   "outputs": [],
   "source": [
    "#输出所有的变量结果\n",
    "from IPython.core.interactiveshell import InteractiveShell\n",
    "InteractiveShell.ast_node_interactivity = \"all\""
   ]
  },
  {
   "cell_type": "code",
   "execution_count": 25,
   "metadata": {},
   "outputs": [
    {
     "data": {
      "text/plain": [
       "0.3009407488048058"
      ]
     },
     "execution_count": 25,
     "metadata": {},
     "output_type": "execute_result"
    },
    {
     "data": {
      "text/plain": [
       "7.634623047949269"
      ]
     },
     "execution_count": 25,
     "metadata": {},
     "output_type": "execute_result"
    },
    {
     "data": {
      "text/plain": [
       "7.6703007509187024"
      ]
     },
     "execution_count": 25,
     "metadata": {},
     "output_type": "execute_result"
    },
    {
     "data": {
      "text/plain": [
       "76"
      ]
     },
     "execution_count": 25,
     "metadata": {},
     "output_type": "execute_result"
    },
    {
     "data": {
      "text/plain": [
       "39"
      ]
     },
     "execution_count": 25,
     "metadata": {},
     "output_type": "execute_result"
    },
    {
     "name": "stdout",
     "output_type": "stream",
     "text": [
      "[0, 1, 2, 3, 4, 5, 6, 7, 8, 9]\n",
      "[8, 4, 2, 3, 7, 6, 5, 1, 0, 9]\n"
     ]
    }
   ],
   "source": [
    "from random import *\n",
    "random()\n",
    "uniform(1,10)\n",
    "uniform(1,20)\n",
    "randrange(0,100,4) #从0开始到100以4递增的元素中随机返回\n",
    "choice(range(100)) \n",
    "ls = list(range(10))\n",
    "print(ls)\n",
    "shuffle(ls)\n",
    "print(ls)"
   ]
  },
  {
   "cell_type": "markdown",
   "metadata": {},
   "source": [
    "生成随机数之前可以通过seed()函数指定随机数种子，随机种子一般是一个整数，只要种子相同，每次生成的随机数序列也相同。这种情况便于测试和同步数据"
   ]
  },
  {
   "cell_type": "code",
   "execution_count": 26,
   "metadata": {},
   "outputs": [
    {
     "data": {
      "text/plain": [
       "'4.4.10'"
      ]
     },
     "execution_count": 26,
     "metadata": {},
     "output_type": "execute_result"
    },
    {
     "data": {
      "text/plain": [
       "'5.10.3'"
      ]
     },
     "execution_count": 26,
     "metadata": {},
     "output_type": "execute_result"
    },
    {
     "data": {
      "text/plain": [
       "'4.4.10'"
      ]
     },
     "execution_count": 26,
     "metadata": {},
     "output_type": "execute_result"
    }
   ],
   "source": [
    "seed(125) # 随机种子赋值125\n",
    "\"{}.{}.{}\".format(randint(1,10),randint(1,10),randint(1,10))\n",
    "\"{}.{}.{}\".format(randint(1,10),randint(1,10),randint(1,10))\n",
    "seed(125) # 再次给随机种子赋值125\n",
    "\"{}.{}.{}\".format(randint(1,10),randint(1,10),randint(1,10))\n"
   ]
  },
  {
   "cell_type": "markdown",
   "metadata": {},
   "source": [
    "### 微实例：π的计算\n",
    "- π（圆周率）是一个无理数，即无限不循环小数。精确求解圆周率π是几何学、物理学和很多工程学科的关键。\n",
    "- 对π的精确求解曾经是数学历史上一直难以解决的问题之一，因为π无法用任何精确公式表示，在电子计算机出现以前，π只能通过一些近似公式的求解得到，直到1948年，人类才以人工计算方式得到π的808位精确小数。\n",
    "- 随着计算机的出现，数学家找到了另类求解π的另类方法：蒙特卡罗（Monte Carlo）方法，又称随机抽样或统计试验方法。 \n",
    "\n",
    "应用蒙特卡罗方法求解π的基本步骤如下：\n",
    "- 随机向单位正方形和圆结构，抛洒大量“飞镖”点\n",
    "- 计算每个点到圆心的距离从而判断该点在圆内或者圆外\n",
    "- 用圆内的点数除以总点数就是π/4值。 \n",
    "\n",
    "随机点数量越大，越充分覆盖整个图形，计算得到的π值越精确。实际上，这个方法的思想是利用离散点值表示图形的面积，通过面积比例来求解π值。 \n"
   ]
  },
  {
   "cell_type": "code",
   "execution_count": 31,
   "metadata": {},
   "outputs": [
    {
     "data": {
      "text/plain": [
       "68.80672016579628"
      ]
     },
     "execution_count": 31,
     "metadata": {},
     "output_type": "execute_result"
    },
    {
     "name": "stdout",
     "output_type": "stream",
     "text": [
      "Pi值是3.143716.\n",
      "运行时间是: 71.452s\n"
     ]
    }
   ],
   "source": [
    "from random import random\n",
    "from math import sqrt\n",
    "from time import clock\n",
    "DARTS = 1000000\n",
    "hits = 0.0\n",
    "clock()\n",
    "for i in range(1, DARTS+1):\n",
    "    x, y = random(), random()\n",
    "    dist = sqrt(x ** 2 + y ** 2)\n",
    "    if dist <= 1.0:\n",
    "        hits = hits + 1\n",
    "pi = 4 * (hits/DARTS)\n",
    "print(\"Pi值是{}.\".format(pi))\n",
    "print(\"运行时间是: {:5.5}s\".format(clock())) \n"
   ]
  },
  {
   "cell_type": "markdown",
   "metadata": {},
   "source": [
    "## 4.6 异常处理机制\n",
    "\n",
    "### 4.6.1 异常处理: try-except语句\n",
    "看一个小程序片段："
   ]
  },
  {
   "cell_type": "code",
   "execution_count": 32,
   "metadata": {},
   "outputs": [
    {
     "name": "stdout",
     "output_type": "stream",
     "text": [
      "请输入一个整数：abc\n"
     ]
    },
    {
     "ename": "NameError",
     "evalue": "name 'abc' is not defined",
     "output_type": "error",
     "traceback": [
      "\u001b[1;31m---------------------------------------------------------------------------\u001b[0m",
      "\u001b[1;31mNameError\u001b[0m                                 Traceback (most recent call last)",
      "\u001b[1;32m<ipython-input-32-6fa4201aa066>\u001b[0m in \u001b[0;36m<module>\u001b[1;34m()\u001b[0m\n\u001b[1;32m----> 1\u001b[1;33m \u001b[0mnum\u001b[0m \u001b[1;33m=\u001b[0m \u001b[0meval\u001b[0m\u001b[1;33m(\u001b[0m\u001b[0minput\u001b[0m\u001b[1;33m(\u001b[0m\u001b[1;34m\"请输入一个整数：\"\u001b[0m\u001b[1;33m)\u001b[0m\u001b[1;33m)\u001b[0m\u001b[1;33m\u001b[0m\u001b[0m\n\u001b[0m\u001b[0;32m      2\u001b[0m \u001b[0mprint\u001b[0m\u001b[1;33m(\u001b[0m\u001b[0mnum\u001b[0m \u001b[1;33m**\u001b[0m \u001b[1;36m2\u001b[0m\u001b[1;33m)\u001b[0m\u001b[1;33m\u001b[0m\u001b[0m\n",
      "\u001b[1;32m<string>\u001b[0m in \u001b[0;36m<module>\u001b[1;34m()\u001b[0m\n",
      "\u001b[1;31mNameError\u001b[0m: name 'abc' is not defined"
     ]
    }
   ],
   "source": [
    "num = eval(input(\"请输入一个整数：\"))\n",
    "print(num ** 2)"
   ]
  },
  {
   "cell_type": "markdown",
   "metadata": {},
   "source": [
    "当用户输入的不是整数，Python解释器返回了异常信息，同时程序退出  \n",
    "- Python异常信息中最重要的部分是异常类型，它表明了发生异常的原因，也是程序处理异常的依据。\n",
    "- Python使用try-except语句实现异常处理，基本的语法格式如下：\n",
    "```\n",
    "try:\n",
    "\t<语句块1>\n",
    "except <异常类型>:\n",
    "\t<语句块2>\n",
    "```\n"
   ]
  },
  {
   "cell_type": "code",
   "execution_count": 33,
   "metadata": {},
   "outputs": [
    {
     "name": "stdout",
     "output_type": "stream",
     "text": [
      "请输入一个整数: abc\n",
      "输入错误，请输入一个整数!\n"
     ]
    }
   ],
   "source": [
    "try:\n",
    "  num = eval(input(\"请输入一个整数: \"))\n",
    "  print(num**2)\n",
    "except NameError:\n",
    "     print(\"输入错误，请输入一个整数!\")\n"
   ]
  },
  {
   "cell_type": "markdown",
   "metadata": {},
   "source": [
    "### 4.6.2 异常的高级用法\n",
    "try-except语句可以支持多个except语句，语法格式如下：\n",
    "```\n",
    "try:\n",
    "\t<语句块1>\n",
    "except <异常类型1>:\n",
    "\t<语句块2>\n",
    "….\n",
    "except <异常类型N>:\n",
    "\t<语句块N+1>\n",
    "except:\n",
    "\t<语句块N+2>\n",
    "```\n",
    "最后一个except语句没有指定任何类型，表示它对应的语句块可以处理所有其他异常。这个过程与if-elif-else语句类似，是分支结构的一种表达"
   ]
  },
  {
   "cell_type": "code",
   "execution_count": 36,
   "metadata": {},
   "outputs": [
    {
     "name": "stdout",
     "output_type": "stream",
     "text": [
      "请输入一个整数: 26\n",
      "其他错误\n"
     ]
    }
   ],
   "source": [
    "try:\n",
    "    alp = \"ABCDEFGHIJKLMNOPQRSTUVWXYZ\"\n",
    "    idx = eval(input(\"请输入一个整数: \"))\n",
    "    print(alp[idx])\n",
    "except NameError:\n",
    "    print(\"输入错误，请输入一个整数!\")\n",
    "except:\n",
    "    print(\"其他错误\")\n"
   ]
  },
  {
   "cell_type": "markdown",
   "metadata": {},
   "source": [
    "该程序将用户输入的数字作为索引从字符串alp中返回一个字符，当用户输入非整数字符时，except NameError异常被捕获到，  \n",
    "提示升用户输入类型错误，当用户输入数字不在0到25之间时，异常被except捕获，程序打印其他错误信息"
   ]
  },
  {
   "cell_type": "markdown",
   "metadata": {},
   "source": [
    "除了try和except保留字外，异常语句还可以与else和finally保留字配合使用，语法格式如下：\n",
    "```\n",
    "try:\n",
    "\t<语句块1>\n",
    "except <异常类型1>:\n",
    "\t<语句块2>\n",
    "else:\n",
    "\t<语句块3>\n",
    "finally:\n",
    "\t<语句块4>\n",
    "```\n"
   ]
  },
  {
   "cell_type": "code",
   "execution_count": 39,
   "metadata": {},
   "outputs": [
    {
     "name": "stdout",
     "output_type": "stream",
     "text": [
      "请输入一个整数: 5\n",
      "F\n",
      "没有发生异常\n",
      "程序执行完毕，不知道是否发生了异常\n"
     ]
    }
   ],
   "source": [
    "try:\n",
    "    alp = \"ABCDEFGHIJKLMNOPQRSTUVWXYZ\"\n",
    "    idx = eval(input(\"请输入一个整数: \"))\n",
    "    print(alp[idx])\n",
    "except NameError:\n",
    "    print(\"输入错误，请输入一个整数!\")\n",
    "else:\n",
    "    print(\"没有发生异常\")\n",
    "finally:\n",
    "    print(\"程序执行完毕，不知道是否发生了异常\")\n"
   ]
  },
  {
   "cell_type": "code",
   "execution_count": null,
   "metadata": {
    "collapsed": true
   },
   "outputs": [],
   "source": []
  }
 ],
 "metadata": {
  "hide_input": false,
  "kernelspec": {
   "display_name": "Python 3",
   "language": "python",
   "name": "python3"
  },
  "language_info": {
   "codemirror_mode": {
    "name": "ipython",
    "version": 3
   },
   "file_extension": ".py",
   "mimetype": "text/x-python",
   "name": "python",
   "nbconvert_exporter": "python",
   "pygments_lexer": "ipython3",
   "version": "3.6.3"
  },
  "toc": {
   "colors": {
    "hover_highlight": "#DAA520",
    "navigate_num": "#000000",
    "navigate_text": "#333333",
    "running_highlight": "#FF0000",
    "selected_highlight": "#FFD700",
    "sidebar_border": "#EEEEEE",
    "wrapper_background": "#FFFFFF"
   },
   "moveMenuLeft": true,
   "nav_menu": {
    "height": "66px",
    "width": "252px"
   },
   "navigate_menu": true,
   "number_sections": false,
   "sideBar": true,
   "threshold": 4,
   "toc_cell": true,
   "toc_section_display": "block",
   "toc_window_display": true,
   "widenNotebook": false
  }
 },
 "nbformat": 4,
 "nbformat_minor": 2
}
