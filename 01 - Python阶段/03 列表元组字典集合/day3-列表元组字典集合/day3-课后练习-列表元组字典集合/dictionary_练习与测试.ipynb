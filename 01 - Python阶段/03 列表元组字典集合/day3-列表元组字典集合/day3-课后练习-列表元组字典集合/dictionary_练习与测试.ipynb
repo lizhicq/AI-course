{
 "cells": [
  {
   "cell_type": "markdown",
   "metadata": {},
   "source": [
    "# Python字典---dictionary\n"
   ]
  },
  {
   "cell_type": "markdown",
   "metadata": {
    "collapsed": true
   },
   "source": [
    "字典是一种可变容器模型，可存储任意类型对象。\n",
    "\n",
    "字典的每个键值(key=>value)对用冒号(:)分割，每个对之间用逗号(,)分割，整个字典包括在花括号({})中 ,格式如下所示：\n",
    "\n",
    "d = { key1 : value1, key2 : value2 }\n"
   ]
  },
  {
   "cell_type": "markdown",
   "metadata": {
    "collapsed": true
   },
   "source": [
    "一个简单的字典访问实例：\n",
    "\n"
   ]
  },
  {
   "cell_type": "code",
   "execution_count": 1,
   "metadata": {},
   "outputs": [
    {
     "data": {
      "text/plain": [
       "95"
      ]
     },
     "execution_count": 1,
     "metadata": {},
     "output_type": "execute_result"
    }
   ],
   "source": [
    "d = {'Michael': 95, 'Bob': 75, 'Tracy': 85}\n",
    "d['Michael']"
   ]
  },
  {
   "cell_type": "markdown",
   "metadata": {},
   "source": [
    "## 练习1 访问字典里的值\n",
    "\n",
    "把相应的键放入熟悉的方括弧，如下，请对已给字典，访问其 name 与 Age 键，并输出键值。\n",
    "\n",
    "输出结果样式为：\n",
    "\n",
    "dict['Name']:  Zara\n",
    "\n",
    "dict['Age']:  7\n"
   ]
  },
  {
   "cell_type": "code",
   "execution_count": 1,
   "metadata": {
    "collapsed": true
   },
   "outputs": [],
   "source": [
    "dict = {'Name': 'Zara', 'Age': 7, 'Class': 'First'}\n",
    "#please input your code here\n",
    "\n",
    "\n"
   ]
  },
  {
   "cell_type": "markdown",
   "metadata": {},
   "source": [
    "## 练习2 修改字典\n",
    "\n",
    "对已给字典，增加 Age=8 与 School= DPS School 两键值对，并输出。\n",
    "\n",
    "向字典添加新内容的方法是增加新的键/值对，修改或删除已有键/值对如下:\n",
    "\n",
    "输出结果样例为：\n",
    "\n",
    "dict['Age']:  8\n",
    "\n",
    "dict['School']:  DPS School\n"
   ]
  },
  {
   "cell_type": "code",
   "execution_count": 2,
   "metadata": {
    "collapsed": true
   },
   "outputs": [],
   "source": [
    "dict = {'Name': 'Zara', 'Age': 7, 'Class': 'First'}\n",
    "#please input your code here\n",
    "\n",
    "\n",
    "\n",
    "\n",
    "\n"
   ]
  },
  {
   "cell_type": "markdown",
   "metadata": {},
   "source": [
    "## 练习3 删除字典元素\n",
    "\n",
    "能删单一的元素也能清空字典，清空只需一项操作。\n",
    "\n",
    "对已给代码，进行增删行操作，并分别观察代码运行的结果（显示删除一个字典用del命令）。\n",
    "\n",
    "3句增删行代码如下：\n",
    "\n",
    "del dict['Name'] # 测试 删除键是'Name'的条目\n",
    "\n",
    "dict.clear()    # 测试 清空词典所有条目\n",
    "\n",
    "del dict        # 测试 删除词典\n",
    "\n",
    "依次输入3句已给增删行代码中的一句，观察代码运行结果。"
   ]
  },
  {
   "cell_type": "code",
   "execution_count": null,
   "metadata": {
    "collapsed": true
   },
   "outputs": [],
   "source": [
    "dict = {'Name': 'Zara', 'Age': 7, 'Class': 'First'}\n",
    "\n",
    "#please input your code here\n",
    "\n",
    "\n",
    "\n",
    "\n",
    "\n",
    "\n",
    " \n",
    "print (\"dict['Age']: \", dict['Age'])\n",
    "print (\"dict['School']: \", dict['School'])\n"
   ]
  },
  {
   "cell_type": "markdown",
   "metadata": {
    "collapsed": true
   },
   "source": [
    "## 练习4 字典键的特性\n",
    "\n",
    "字典值可以没有限制地取任何python对象，既可以是标准的对象，也可以是用户定义的，但键不行。\n",
    "\n",
    "两个重要的点需要记住：\n",
    "\n",
    "4.1 对dict = {'Name': 'Zara', 'Age': 7, 'Name': 'Manni'}中的Name键值，请输出Name键值对：\n"
   ]
  },
  {
   "cell_type": "code",
   "execution_count": null,
   "metadata": {
    "collapsed": true
   },
   "outputs": [],
   "source": [
    "#please input your code here\n",
    "\n",
    "\n",
    "\n",
    "\n",
    "\n",
    "\n",
    "\n"
   ]
  },
  {
   "cell_type": "markdown",
   "metadata": {
    "collapsed": true
   },
   "source": [
    "注：对于上题，我们可以看出，python字典中，不允许同一个键出现两次。创建时如果同一个键被赋值两次，后一个值会被记住。"
   ]
  },
  {
   "cell_type": "markdown",
   "metadata": {
    "collapsed": true
   },
   "source": [
    "4.2 对dict = {['Name']: 'Zara', 'Age': 7}中的['Name']键值，执行下列代码并观察执行结果："
   ]
  },
  {
   "cell_type": "code",
   "execution_count": null,
   "metadata": {
    "collapsed": true
   },
   "outputs": [],
   "source": [
    "#please run this code\n",
    "dict = {['Name']: 'Zara', 'Age': 7}\n",
    "print (\"dict['Name']: \", dict['Name'])\n",
    "\n"
   ]
  },
  {
   "cell_type": "markdown",
   "metadata": {
    "collapsed": true
   },
   "source": [
    "注：观察上题执行结果，发现不能正确输出，在这里补充一点，键必须不可变，所以可以用数字，字符串或元组充当，所以用列表就不行，TypeError: \n",
    "    unhashable type: 'list'就说明了这一原因。\n"
   ]
  },
  {
   "cell_type": "markdown",
   "metadata": {
    "collapsed": true
   },
   "source": [
    "## 测试题1\n",
    "\n",
    "一个同学，早餐，中餐，晚餐各吃了10，22，23元，请运用字典与有关函数，计算他一天花费总和。"
   ]
  },
  {
   "cell_type": "code",
   "execution_count": null,
   "metadata": {
    "collapsed": true
   },
   "outputs": [],
   "source": [
    "#please input your code here\n",
    "\n",
    "\n",
    "\n",
    "\n",
    "\n",
    "\n",
    "\n",
    "\n"
   ]
  },
  {
   "cell_type": "markdown",
   "metadata": {
    "collapsed": true
   },
   "source": [
    "## 测试题2\n",
    "\n",
    "用字典编写简单的注册、登录程序，实现以下输出效果：\n",
    "\n",
    "输入N/n，可新建用户；输入E/e，可登录；输入Q/q退出 \n",
    "\n",
    "|— 新建用户：N/n —| \n",
    "\n",
    "|— 登录账号：E/e —| \n",
    "\n",
    "|— 退出登录：Q/q —|\n"
   ]
  },
  {
   "cell_type": "code",
   "execution_count": null,
   "metadata": {
    "collapsed": true
   },
   "outputs": [],
   "source": [
    "#please input your code here\n",
    "\n",
    "\n",
    "\n",
    "\n",
    "\n",
    "\n",
    "\n",
    "\n",
    "\n"
   ]
  },
  {
   "cell_type": "markdown",
   "metadata": {
    "collapsed": true
   },
   "source": [
    "## 参考文献：\n",
    "\n",
    "1.http://www.runoob.com/python3/python3-tutorial.html      python菜鸟教程\n",
    "2.https://www.liaoxuefeng.com/wiki/0014316089557264a6b348958f449949df42a6d3a2e542c000    廖雪峰python教程"
   ]
  },
  {
   "cell_type": "code",
   "execution_count": null,
   "metadata": {
    "collapsed": true
   },
   "outputs": [],
   "source": []
  }
 ],
 "metadata": {
  "kernelspec": {
   "display_name": "Python 3",
   "language": "python",
   "name": "python3"
  },
  "language_info": {
   "codemirror_mode": {
    "name": "ipython",
    "version": 3
   },
   "file_extension": ".py",
   "mimetype": "text/x-python",
   "name": "python",
   "nbconvert_exporter": "python",
   "pygments_lexer": "ipython3",
   "version": "3.6.2"
  }
 },
 "nbformat": 4,
 "nbformat_minor": 2
}
