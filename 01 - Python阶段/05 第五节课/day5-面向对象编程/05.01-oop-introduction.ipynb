{
 "cells": [
  {
   "cell_type": "markdown",
   "metadata": {},
   "source": [
    "# 5. 面向对象"
   ]
  },
  {
   "cell_type": "markdown",
   "metadata": {},
   "source": [
    "## 5.1 简介"
   ]
  },
  {
   "cell_type": "markdown",
   "metadata": {},
   "source": [
    "### 5.1.1 属性 attributes"
   ]
  },
  {
   "cell_type": "markdown",
   "metadata": {},
   "source": [
    "属性是与对象绑定的一组数据，可以只读，只写，或者读写，使用时不加括号，例如："
   ]
  },
  {
   "cell_type": "code",
   "execution_count": null,
   "metadata": {
    "collapsed": true
   },
   "outputs": [],
   "source": [
    "f = file(\"new_file\", 'w')"
   ]
  },
  {
   "cell_type": "markdown",
   "metadata": {},
   "source": [
    "显示模式属性："
   ]
  },
  {
   "cell_type": "code",
   "execution_count": null,
   "metadata": {
    "collapsed": true
   },
   "outputs": [],
   "source": [
    "f.mode"
   ]
  },
  {
   "cell_type": "markdown",
   "metadata": {},
   "source": [
    "是否关闭："
   ]
  },
  {
   "cell_type": "code",
   "execution_count": null,
   "metadata": {
    "collapsed": true
   },
   "outputs": [],
   "source": [
    "f.closed"
   ]
  },
  {
   "cell_type": "markdown",
   "metadata": {},
   "source": [
    "`mode` 是只读属性，所以这样会报错："
   ]
  },
  {
   "cell_type": "code",
   "execution_count": null,
   "metadata": {
    "collapsed": true
   },
   "outputs": [],
   "source": [
    "f.mode = 'r'"
   ]
  },
  {
   "cell_type": "markdown",
   "metadata": {},
   "source": [
    "获取属性不需要加括号："
   ]
  },
  {
   "cell_type": "code",
   "execution_count": null,
   "metadata": {
    "collapsed": true
   },
   "outputs": [],
   "source": [
    "f.mode()"
   ]
  },
  {
   "cell_type": "markdown",
   "metadata": {},
   "source": [
    "### 5.1.2  方法 method"
   ]
  },
  {
   "cell_type": "markdown",
   "metadata": {},
   "source": [
    "方法是与属性绑定的一组函数，需要使用括号，作用于对象本身："
   ]
  },
  {
   "cell_type": "code",
   "execution_count": null,
   "metadata": {
    "collapsed": true
   },
   "outputs": [],
   "source": [
    "f.write('Hi.\\n')\n",
    "f.seek(0)\n",
    "f.write('Hola!\\n')\n",
    "f.close()"
   ]
  },
  {
   "cell_type": "code",
   "execution_count": null,
   "metadata": {
    "collapsed": true
   },
   "outputs": [],
   "source": [
    "!rm new_file"
   ]
  },
  {
   "cell_type": "markdown",
   "metadata": {},
   "source": []
  },
  {
   "cell_type": "markdown",
   "metadata": {},
   "source": [
    "### 5.1.3 使用 OPP 的原因"
   ]
  },
  {
   "cell_type": "markdown",
   "metadata": {},
   "source": [
    "- 构建自己的类型来模拟真实世界的对象\n",
    "- 处理抽象对象\n",
    "- 容易复用和扩展\n",
    "- 理解其他 OPP 代码\n",
    "- GUI 通常使用 OPP 规则编写\n",
    "- ...\n",
    "\n",
    "- 面向过程：根据业务逻辑从上到下写垒代码\n",
    "- 函数式：将某功能代码封装到函数中，日后便无需重复编写，仅调用函数即可\n",
    "- 面向对象：对函数进行分类和封装，让开发“更快更好更强...”"
   ]
  },
  {
   "cell_type": "markdown",
   "metadata": {},
   "source": [
    "## 5.2 类定义 class"
   ]
  },
  {
   "cell_type": "markdown",
   "metadata": {},
   "source": [
    "### 5.2.1 基本形式"
   ]
  },
  {
   "cell_type": "markdown",
   "metadata": {},
   "source": [
    "`class` 定义如下：\n",
    "```python\n",
    "class ClassName(ParentClass):\n",
    "    \"\"\"class docstring\"\"\"\n",
    "    def method(self):\n",
    "        return\n",
    "```\n",
    "\n",
    "- `class` 关键词在最前面\n",
    "- `ClassName` 通常采用 `CamelCase` 记法\n",
    "- 括号中的 `ParentClass` 用来表示继承关系\n",
    "- 冒号不能缺少\n",
    "- `\"\"\"\"\"\"` 中的内容表示 `docstring`，可以省略\n",
    "- 方法定义与函数定义十分类似，不过多了一个 `self` 参数表示这个对象本身\n",
    "- `class` 中的方法要进行缩进"
   ]
  },
  {
   "cell_type": "code",
   "execution_count": 1,
   "metadata": {
    "collapsed": true
   },
   "outputs": [],
   "source": [
    "class Forest(object):\n",
    "    \"\"\" Forest can grow trees which eventually die.\"\"\"\n",
    "    pass"
   ]
  },
  {
   "cell_type": "markdown",
   "metadata": {},
   "source": [
    "其中 `object` 是最基本的类型。表示该类是从哪个类继承下来的，继承的概念我们后面再讲，\n",
    "\n",
    "通常，如果没有合适的继承类，就使用object类，这是所有类最终都会继承的类。\n",
    "\n",
    "查看帮助："
   ]
  },
  {
   "cell_type": "code",
   "execution_count": 2,
   "metadata": {
    "scrolled": true
   },
   "outputs": [
    {
     "name": "stdout",
     "output_type": "stream",
     "text": [
      " Forest()\n",
      "\n",
      "Forest can grow trees which eventually die.\n",
      "\n",
      "\n",
      "Methods:\n",
      "\n"
     ]
    }
   ],
   "source": [
    "import numpy as np  # nunpy后文介绍\n",
    "np.info(Forest)"
   ]
  },
  {
   "cell_type": "code",
   "execution_count": 3,
   "metadata": {
    "collapsed": true
   },
   "outputs": [],
   "source": [
    "forest = Forest() # 根据类Forest创建对象"
   ]
  },
  {
   "cell_type": "code",
   "execution_count": 4,
   "metadata": {},
   "outputs": [
    {
     "data": {
      "text/plain": [
       "<__main__.Forest at 0x165898515f8>"
      ]
     },
     "execution_count": 4,
     "metadata": {},
     "output_type": "execute_result"
    }
   ],
   "source": [
    "forest  # 内存地址，每个object的地址都不一样"
   ]
  },
  {
   "cell_type": "code",
   "execution_count": 5,
   "metadata": {},
   "outputs": [
    {
     "data": {
      "text/plain": [
       "__main__.Forest"
      ]
     },
     "execution_count": 5,
     "metadata": {},
     "output_type": "execute_result"
    }
   ],
   "source": [
    "Forest  # 本身是一个类"
   ]
  },
  {
   "cell_type": "markdown",
   "metadata": {},
   "source": [
    "### 5.2.2 添加方法和属性"
   ]
  },
  {
   "cell_type": "markdown",
   "metadata": {},
   "source": [
    "可以直接添加属性（有更好的替代方式）："
   ]
  },
  {
   "cell_type": "code",
   "execution_count": 6,
   "metadata": {
    "collapsed": true
   },
   "outputs": [],
   "source": [
    "forest.trees = np.zeros((3, 3), dtype=bool)"
   ]
  },
  {
   "cell_type": "code",
   "execution_count": 7,
   "metadata": {},
   "outputs": [
    {
     "data": {
      "text/plain": [
       "array([[False, False, False],\n",
       "       [False, False, False],\n",
       "       [False, False, False]], dtype=bool)"
      ]
     },
     "execution_count": 7,
     "metadata": {},
     "output_type": "execute_result"
    }
   ],
   "source": [
    "forest.trees"
   ]
  },
  {
   "cell_type": "code",
   "execution_count": 8,
   "metadata": {
    "collapsed": true
   },
   "outputs": [],
   "source": [
    "forest2 = Forest()"
   ]
  },
  {
   "cell_type": "markdown",
   "metadata": {},
   "source": [
    "`forest2` 没有这个属性："
   ]
  },
  {
   "cell_type": "code",
   "execution_count": 9,
   "metadata": {
    "scrolled": true
   },
   "outputs": [
    {
     "ename": "AttributeError",
     "evalue": "'Forest' object has no attribute 'trees'",
     "traceback": [
      "\u001b[1;31m---------------------------------------------------------------------------\u001b[0m",
      "\u001b[1;31mAttributeError\u001b[0m                            Traceback (most recent call last)",
      "\u001b[1;32m<ipython-input-9-42e6a9d57a8b>\u001b[0m in \u001b[0;36m<module>\u001b[1;34m()\u001b[0m\n\u001b[1;32m----> 1\u001b[1;33m \u001b[0mforest2\u001b[0m\u001b[1;33m.\u001b[0m\u001b[0mtrees\u001b[0m\u001b[1;33m\u001b[0m\u001b[0m\n\u001b[0m",
      "\u001b[1;31mAttributeError\u001b[0m: 'Forest' object has no attribute 'trees'"
     ],
     "output_type": "error"
    }
   ],
   "source": [
    "forest2.trees"
   ]
  },
  {
   "cell_type": "markdown",
   "metadata": {},
   "source": [
    "由于类可以起到模板的作用，因此，可以在创建实例的时候，把一些我们认为必须绑定的属性强制填写进去。通过定义一个特殊的`__init__`方法，在创建实例的时候，就把name，trees等属性绑上去：\n",
    "\n",
    "添加方法时，默认第一个参数是对象本身，一般为 `self`，可能用到也可能用不到，然后才是其他的参数："
   ]
  },
  {
   "cell_type": "code",
   "execution_count": 10,
   "metadata": {
    "collapsed": true
   },
   "outputs": [],
   "source": [
    "class Forest(object):\n",
    "    \"\"\" Forest can grow trees which eventually die.\"\"\"\n",
    "    def __init__(self, name = None, trees = 0):\n",
    "        self.name = name\n",
    "        self.trees = trees\n",
    "        \n",
    "    def grow(self):\n",
    "        self.trees += 1\n",
    "        print(\"the tree is growing!\")\n",
    "        \n",
    "    def number(self):\n",
    "        if self.trees == 1:\n",
    "            print('there is 1 tree.')\n",
    "        else:\n",
    "            print('there are', self.trees, 'trees.')"
   ]
  },
  {
   "cell_type": "code",
   "execution_count": 11,
   "metadata": {
    "scrolled": false
   },
   "outputs": [
    {
     "name": "stdout",
     "output_type": "stream",
     "text": [
      "the tree is growing!\n",
      "there is 1 tree.\n",
      "the tree is growing!\n",
      "there are 2 trees.\n"
     ]
    }
   ],
   "source": [
    "forest = Forest()\n",
    "\n",
    "forest.grow() # 执行grow方法\n",
    "forest.number()  # 执行number方法\n",
    "\n",
    "forest.grow() # 执行grow方法\n",
    "forest.number()  # 执行number方法"
   ]
  },
  {
   "cell_type": "markdown",
   "metadata": {},
   "source": [
    "注意：特殊方法`__init__`前后分别有两个下划线！！！\n",
    "\n",
    "注意到`__init__`方法的第一个参数永远是self，表示创建的实例本身，因此，在`__init__`方法内部，就可以把各种属性绑定到self，因为self就指向创建的实例本身。\n",
    "\n",
    "有了`__init__`方法，在创建实例的时候，就不能传入空的参数了，必须传入与`__init__`方法匹配的参数，但self不需要传，Python解释器自己会把实例变量传进去。\n",
    "\n",
    "除此之外，类的方法和普通函数没有什么区别，所以，你仍然可以用默认参数、可变参数、关键字参数和命名关键字参数。"
   ]
  },
  {
   "cell_type": "markdown",
   "metadata": {},
   "source": [
    "你在这里是不是有疑问了？使用函数式编程和面向对象编程方式来执行一个“方法”时函数要比面向对象简便\n",
    "\n",
    "面向对象：【创建对象】【通过对象执行方法】\n",
    "\n",
    "函数编程：【执行函数】\n",
    "\n",
    "观察上述对比答案则是肯定的，然后并非绝对，场景的不同适合其的编程方式也不同。\n",
    "\n",
    "总结：函数式的应用场景 --> 各个函数之间是独立且无共用的数据"
   ]
  },
  {
   "cell_type": "markdown",
   "metadata": {},
   "source": [
    "## 5.3 面向对象三大特性\n",
    "\n",
    "面向对象的三大特性是指：封装、继承和多态。\n",
    "\n",
    "### 5.3.1 封装\n",
    "\n",
    "封装，顾名思义就是将内容封装到某个地方，以后再去调用被封装在某处的内容。\n",
    "\n",
    "**第一步：将内容封装到某处**"
   ]
  },
  {
   "cell_type": "markdown",
   "metadata": {},
   "source": [
    "![image.png](attachment:image.png)\n",
    "\n",
    "内容其实被封装到了对象 obj1 和 obj2 中，每个对象中都有 name 和 age 属性，在内存里类似于下图来保存"
   ]
  },
  {
   "cell_type": "markdown",
   "metadata": {},
   "source": [
    "![image.png](attachment:image.png)"
   ]
  },
  {
   "cell_type": "markdown",
   "metadata": {},
   "source": [
    "**第二步：从某处调用被封装的内容**\n",
    "\n",
    "    调用被封装的内容时，有两种情况：\n",
    "\n",
    "    通过对象直接调用\n",
    "    通过self间接调用\n",
    "    \n",
    "1) 根据保存格式可以如此调用被封装的内容：对象.属性名"
   ]
  },
  {
   "cell_type": "code",
   "execution_count": 12,
   "metadata": {},
   "outputs": [
    {
     "name": "stdout",
     "output_type": "stream",
     "text": [
      "wupeiqi\n",
      "18\n",
      "alex\n",
      "73\n"
     ]
    }
   ],
   "source": [
    "class Foo(object):\n",
    " \n",
    "    def __init__(self, name, age):\n",
    "        self.name = name\n",
    "        self.age = age\n",
    " \n",
    "obj1 = Foo('wupeiqi', 18)\n",
    "print(obj1.name)    # 直接调用obj1对象的name属性\n",
    "print(obj1.age)     # 直接调用obj1对象的age属性\n",
    " \n",
    "obj2 = Foo('alex', 73)\n",
    "print(obj2.name)    # 直接调用obj2对象的name属性\n",
    "print(obj2.age)     # 直接调用obj2对象的age属性"
   ]
  },
  {
   "cell_type": "markdown",
   "metadata": {},
   "source": [
    "2) 通过self间接调用被封装的内容\n",
    "\n",
    "执行类中的方法时，需要通过self间接调用被封装的内容\n"
   ]
  },
  {
   "cell_type": "code",
   "execution_count": 13,
   "metadata": {},
   "outputs": [
    {
     "name": "stdout",
     "output_type": "stream",
     "text": [
      "wupeiqi\n",
      "18\n",
      "alex\n",
      "73\n"
     ]
    }
   ],
   "source": [
    "class Foo(object):\n",
    " \n",
    "    def __init__(self, name, age):\n",
    "        self.name = name\n",
    "        self.age = age\n",
    "        \n",
    "    def detail(self):\n",
    "        print(self.name)\n",
    "        print(self.age)\n",
    "        \n",
    "obj1 = Foo('wupeiqi', 18)\n",
    "obj1.detail()  # Python默认会将obj1传给self参数，即：obj1.detail(obj1)，所以，此时方法内部的 self ＝ obj1，即：self.name 是 wupeiqi ；self.age 是 18\n",
    "   \n",
    "obj2 = Foo('alex', 73)\n",
    "obj2.detail()  # Python默认会将obj2传给self参数，即：obj1.detail(obj2)，所以，此时方法内部的 self ＝ obj2，即：self.name 是 alex ； self.age 是 78"
   ]
  },
  {
   "cell_type": "markdown",
   "metadata": {},
   "source": [
    "综上所述，对于面向对象的封装来说，其实就是使用构造方法将内容封装到 对象 中，然后通过对象直接或者self间接获取被封装的内容。"
   ]
  },
  {
   "cell_type": "markdown",
   "metadata": {},
   "source": [
    "练习一：在终端输出如下信息\n",
    "\n",
    "小明，10岁，男，上山去砍柴\n",
    "\n",
    "小明，10岁，男，开车去东北\n",
    "\n",
    "小明，10岁，男，最爱玩游戏\n",
    "\n",
    " \n",
    "老李，90岁，男，上山去砍柴\n",
    "\n",
    "老李，90岁，男，开车去东北\n",
    "\n",
    "老李，90岁，男，最爱玩游戏\n",
    "\n",
    "老张..."
   ]
  },
  {
   "cell_type": "code",
   "execution_count": 14,
   "metadata": {},
   "outputs": [
    {
     "name": "stdout",
     "output_type": "stream",
     "text": [
      "小明,10岁,男,上山去砍柴\n",
      "小明,10岁,男,开车去东北\n",
      "小明,10岁,男,最爱玩游戏\n",
      "老李,90岁,男,上山去砍柴\n",
      "老李,90岁,男,开车去东北\n",
      "老李,90岁,男,最爱玩游戏\n"
     ]
    }
   ],
   "source": [
    "def kanchai(name, age, gender):\n",
    "    print(\"%s,%s岁,%s,上山去砍柴\" %(name, age, gender))\n",
    "\n",
    "def qudongbei(name, age, gender):\n",
    "    print(\"%s,%s岁,%s,开车去东北\" %(name, age, gender))\n",
    "    \n",
    "def wanyouxi(name, age, gender):\n",
    "    print(\"%s,%s岁,%s,最爱玩游戏\" %(name, age, gender))\n",
    "\n",
    "kanchai('小明', 10, '男')\n",
    "qudongbei('小明', 10, '男')\n",
    "wanyouxi('小明', 10, '男')\n",
    " \n",
    "kanchai('老李', 90, '男')\n",
    "qudongbei('老李', 90, '男')\n",
    "wanyouxi('老李', 90, '男')"
   ]
  },
  {
   "cell_type": "code",
   "execution_count": 15,
   "metadata": {},
   "outputs": [
    {
     "name": "stdout",
     "output_type": "stream",
     "text": [
      "小明,10岁,男,上山去砍柴\n",
      "小明,10岁,男,开车去东北\n",
      "小明,10岁,男,最爱玩游戏\n",
      "小明,10岁,男,上山去砍柴\n",
      "小明,10岁,男,开车去东北\n",
      "小明,10岁,男,最爱玩游戏\n"
     ]
    }
   ],
   "source": [
    "class Foo(object):\n",
    "     \n",
    "    def __init__(self, name, age ,gender):\n",
    "        self.name = name\n",
    "        self.age = age\n",
    "        self.gender = gender\n",
    " \n",
    "    def kanchai(self):\n",
    "        print(\"%s,%s岁,%s,上山去砍柴\" %(self.name, self.age, self.gender))\n",
    " \n",
    "    def qudongbei(self):\n",
    "        print(\"%s,%s岁,%s,开车去东北\" %(self.name, self.age, self.gender))\n",
    "              \n",
    "    def wanyouxi(self):\n",
    "        print(\"%s,%s岁,%s,最爱玩游戏\" %(self.name, self.age, self.gender))\n",
    " \n",
    " \n",
    "xiaoming = Foo('小明', 10, '男')\n",
    "xiaoming.kanchai()\n",
    "xiaoming.qudongbei()\n",
    "xiaoming.wanyouxi()\n",
    " \n",
    "laoli = Foo('小明', 10, '男')\n",
    "laoli.kanchai()\n",
    "laoli.qudongbei()\n",
    "laoli.wanyouxi()"
   ]
  },
  {
   "cell_type": "markdown",
   "metadata": {},
   "source": [
    "上述对比可以看出，如果使用函数式编程，需要在每次执行函数时传入相同的参数，如果参数多的话，又需要粘贴复制了...  ；\n",
    "\n",
    "而对于面向对象只需要在创建对象时，将所有需要的参数封装到当前对象中，之后再次使用时，通过self间接去当前对象中取值即可。"
   ]
  },
  {
   "cell_type": "markdown",
   "metadata": {},
   "source": [
    "### 5.3.2 继承\n",
    "\n",
    "继承，面向对象中的继承和现实生活中的继承相同，即：子可以继承父的内容。\n",
    "\n",
    "\n",
    "一个类定义的基本形式如下：\n",
    "```python\n",
    "class ClassName(ParentClass):\n",
    "    \"\"\"class docstring\"\"\"\n",
    "    def method(self):\n",
    "        return\n",
    "```\n",
    "\n",
    "- `class` 关键词在最前面\n",
    "- `ClassName` 通常采用 `CamelCase` 记法\n",
    "- 括号中的 `ParentClass` 用来表示继承关系\n",
    "- 冒号不能缺少\n",
    "- `\"\"\"\"\"\"` 中的内容表示 `docstring`，可以省略\n",
    "- 方法定义与函数定义十分类似，不过多了一个 `self` 参数表示这个对象本身\n",
    "- `class` 中的方法要进行缩进\n",
    "\n",
    "在里面有一个 `ParentClass` 项，用来进行继承，被继承的类是父类，定义的这个类是子类。\n",
    "对于子类来说，继承意味着它可以使用所有父类的方法和属性，同时还可以定义自己特殊的方法和属性。"
   ]
  },
  {
   "cell_type": "markdown",
   "metadata": {},
   "source": [
    "例如：\n",
    "\n",
    "　　猫可以：喵喵叫、吃、喝、拉、撒\n",
    "\n",
    "　　狗可以：汪汪叫、吃、喝、拉、撒\n",
    "\n",
    "如果我们要分别为猫和狗创建一个类，那么就需要为 猫 和 狗 实现他们所有的功能，如下所示："
   ]
  },
  {
   "cell_type": "code",
   "execution_count": null,
   "metadata": {
    "collapsed": true
   },
   "outputs": [],
   "source": [
    "#伪代码\n",
    " \n",
    "class 猫：\n",
    " \n",
    "    def 喵喵叫(self):\n",
    "        print('喵喵叫')\n",
    " \n",
    "    def 吃(self):\n",
    "        # do something\n",
    " \n",
    "    def 喝(self):\n",
    "        # do something\n",
    " \n",
    "    def 拉(self):\n",
    "        # do something\n",
    " \n",
    "    def 撒(self):\n",
    "        # do something\n",
    " \n",
    "class 狗：\n",
    " \n",
    "    def 汪汪叫(self):\n",
    "        print('喵喵叫')\n",
    " \n",
    "    def 吃(self):\n",
    "        # do something\n",
    " \n",
    "    def 喝(self):\n",
    "        # do something\n",
    " \n",
    "    def 拉(self):\n",
    "        # do something\n",
    " \n",
    "    def 撒(self):\n",
    "        # do something"
   ]
  },
  {
   "cell_type": "markdown",
   "metadata": {},
   "source": [
    "上述代码不难看出，吃、喝、拉、撒是猫和狗都具有的功能，而我们却分别的猫和狗的类中编写了两次。如果使用 继承 的思想，如下实现：\n",
    "\n",
    "　　动物：吃、喝、拉、撒\n",
    "\n",
    "　　   猫：喵喵叫（猫继承动物的功能）\n",
    "\n",
    "　　   狗：汪汪叫（狗继承动物的功能）"
   ]
  },
  {
   "cell_type": "code",
   "execution_count": null,
   "metadata": {},
   "outputs": [],
   "source": [
    "# 伪代码\n",
    " \n",
    "class 动物:\n",
    " \n",
    "    def 吃(self):\n",
    "        # do something\n",
    " \n",
    "    def 喝(self):\n",
    "        # do something\n",
    " \n",
    "    def 拉(self):\n",
    "        # do something\n",
    " \n",
    "    def 撒(self):\n",
    "        # do something\n",
    "\n",
    "# 在类后面括号中写入另外一个类名，表示当前类继承另外一个类\n",
    "class 猫(动物)：\n",
    " \n",
    "    def 喵喵叫(self):\n",
    "        print('喵喵叫')\n",
    "         \n",
    "# 在类后面括号中写入另外一个类名，表示当前类继承另外一个类\n",
    "class 狗(动物)：\n",
    " \n",
    "    def 汪汪叫(self):\n",
    "        print('喵喵叫')"
   ]
  },
  {
   "cell_type": "code",
   "execution_count": 17,
   "metadata": {},
   "outputs": [
    {
     "name": "stdout",
     "output_type": "stream",
     "text": [
      "小白家的小黑猫 吃 \n",
      "小黑的小白猫 喝 \n",
      "胖子家的小瘦狗 吃 \n"
     ]
    }
   ],
   "source": [
    "# 代码实现\n",
    "\n",
    "class Animal:\n",
    " \n",
    "    def eat(self):\n",
    "        print(\"%s 吃 \" %self.name)\n",
    " \n",
    "    def drink(self):\n",
    "        print(\"%s 喝 \" %self.name)\n",
    " \n",
    "    def shit(self):\n",
    "        print(\"%s 拉 \" %self.name)\n",
    " \n",
    "    def pee(self):\n",
    "        print(\"%s 撒 \" %self.name)\n",
    " \n",
    " \n",
    "class Cat(Animal):\n",
    " \n",
    "    def __init__(self, name):\n",
    "        self.name = name\n",
    "        self.breed = '猫'\n",
    " \n",
    "    def cry(self):\n",
    "        print('喵喵叫')\n",
    " \n",
    "\n",
    "class Dog(Animal):\n",
    "     \n",
    "    def __init__(self, name):\n",
    "        self.name = name\n",
    "        self.breed = '狗'\n",
    "         \n",
    "    def cry(self):\n",
    "        print('汪汪叫')\n",
    "         \n",
    " \n",
    "# ######### 执行 #########\n",
    " \n",
    "c1 = Cat('小白家的小黑猫')\n",
    "c1.eat()\n",
    " \n",
    "c2 = Cat('小黑的小白猫')\n",
    "c2.drink()\n",
    " \n",
    "d1 = Dog('胖子家的小瘦狗')\n",
    "d1.eat()"
   ]
  },
  {
   "cell_type": "markdown",
   "metadata": {},
   "source": [
    "**Python多继承**\n",
    "\n",
    "那么问题又来了，多继承呢？\n",
    "\n",
    "是否可以继承多个类\n",
    "\n",
    "如果继承的多个类每个类中都定了相同的函数，那么那一个会被使用呢？\n",
    "\n",
    "1、Python的类可以继承多个类，Java和C#中则只能继承一个类\n",
    "\n",
    "2、Python的类如果继承了多个类，那么其寻找方法的方式有两种，分别是：深度优先和广度优先"
   ]
  },
  {
   "cell_type": "markdown",
   "metadata": {},
   "source": [
    "![image.png](attachment:image.png)\n",
    "\n",
    "当类是经典类时，多继承情况下，会按照深度优先方式查找\n",
    "\n",
    "当类是新式类时，多继承情况下，会按照广度优先方式查找\n",
    "\n",
    "经典类和新式类，从字面上可以看出一个老一个新，新的必然包含了跟多的功能，也是之后推荐的写法，\n",
    "\n",
    "从写法上区分的话，如果 当前类或者父类继承了object类，那么该类便是新式类，否则便是经典类。"
   ]
  },
  {
   "cell_type": "markdown",
   "metadata": {},
   "source": [
    "![image.png](attachment:image.png)"
   ]
  },
  {
   "cell_type": "markdown",
   "metadata": {},
   "source": [
    "![image.png](attachment:image.png)"
   ]
  },
  {
   "cell_type": "markdown",
   "metadata": {},
   "source": [
    "经典类多继承"
   ]
  },
  {
   "cell_type": "code",
   "execution_count": 18,
   "metadata": {},
   "outputs": [
    {
     "name": "stdout",
     "output_type": "stream",
     "text": [
      "A.bar\n"
     ]
    }
   ],
   "source": [
    "\n",
    "class D:\n",
    "    \n",
    "    def bar(self):\n",
    "        print('D.bar')\n",
    "\n",
    "        \n",
    "class C(D):\n",
    " \n",
    "    def bar(self):\n",
    "        print('C.bar')\n",
    " \n",
    " \n",
    "class B(D):\n",
    " \n",
    "    def bar(self):\n",
    "        print('B.bar')\n",
    " \n",
    " \n",
    "class A(B, C):\n",
    " \n",
    "    def bar(self):\n",
    "        print('A.bar')\n",
    " \n",
    "a = A()\n",
    "# 执行bar方法时\n",
    "# 首先去A类中查找，如果A类中没有，则继续去B类中找，如果B类中么有，则继续去D类中找，如果D类中么有，则继续去C类中找，如果还是未找到，则报错\n",
    "# 所以，查找顺序：A --> B --> D --> C\n",
    "# 在上述查找bar方法的过程中，一旦找到，则寻找过程立即中断，便不会再继续找了\n",
    "a.bar()"
   ]
  },
  {
   "cell_type": "markdown",
   "metadata": {},
   "source": [
    "新式类多继承"
   ]
  },
  {
   "cell_type": "code",
   "execution_count": 19,
   "metadata": {},
   "outputs": [
    {
     "name": "stdout",
     "output_type": "stream",
     "text": [
      "A.bar\n"
     ]
    }
   ],
   "source": [
    "\n",
    " \n",
    "class D(object):\n",
    " \n",
    "    def bar(self):\n",
    "        print('D.bar')\n",
    " \n",
    " \n",
    "class C(D):\n",
    " \n",
    "    def bar(self):\n",
    "         print('C.bar')\n",
    " \n",
    " \n",
    "class B(D):\n",
    " \n",
    "    def bar(self):\n",
    "        print('B.bar')\n",
    " \n",
    " \n",
    "class A(B, C):\n",
    " \n",
    "    def bar(self):\n",
    "        print('A.bar')\n",
    " \n",
    "a = A()\n",
    "# 执行bar方法时\n",
    "# 首先去A类中查找，如果A类中没有，则继续去B类中找，如果B类中么有，则继续去C类中找，如果C类中么有，则继续去D类中找，如果还是未找到，则报错\n",
    "# 所以，查找顺序：A --> B --> C --> D\n",
    "# 在上述查找bar方法的过程中，一旦找到，则寻找过程立即中断，便不会再继续找了\n",
    "\n",
    "\n",
    "a.bar()"
   ]
  },
  {
   "cell_type": "markdown",
   "metadata": {},
   "source": [
    "总结：\n",
    "\n",
    "首先：\n",
    "\n",
    "Python 2.x中默认都是经典类，只有显式继承了object才是新式类\n",
    "\n",
    "Python 3.x中默认都是新式类，不必显式的继承object\n",
    "\n",
    "其次：\n",
    "\n",
    "    ------新式类对象可以直接通过__class__属性获取自身类型:type\n",
    "\n",
    "    ------继承搜索的顺序发生了改变,经典类多继承属性搜索顺序: 先深入继承树左侧，再返回，开始找右侧;新式类多继承属性搜索顺序: 先水平搜索，然后再向上移动\n",
    "\n",
    "    ------新式类增加了__slots__内置属性, 可以把实例属性的种类锁定到__slots__规定的范围之中\n",
    "\n",
    "    ------新式类增加了__getattribute__方法\n",
    "\n",
    "\n",
    "最后，在多继承中，新式类采用广度优先搜索，而旧式类是采用深度优先搜索。新式类更符合OOP编程思想，统一了python中的类型机制。\n"
   ]
  },
  {
   "cell_type": "markdown",
   "metadata": {},
   "source": [
    "### 5.3.3 多态\n",
    "\n",
    "Pyhon不支持多态并且也用不到多态，多态的概念是应用于C++/Java和C#这一类强类型语言中，而Python崇尚“鸭子类型”。"
   ]
  },
  {
   "cell_type": "code",
   "execution_count": 20,
   "metadata": {
    "scrolled": true
   },
   "outputs": [
    {
     "name": "stdout",
     "output_type": "stream",
     "text": [
      "S1.show\n",
      "None\n",
      "S2.show\n",
      "None\n"
     ]
    }
   ],
   "source": [
    "# Python “鸭子类型”\n",
    " \n",
    "class F1:\n",
    "    pass\n",
    " \n",
    "\n",
    "class S1(F1):\n",
    " \n",
    "    def show(self):\n",
    "        print('S1.show')\n",
    " \n",
    " \n",
    "class S2(F1):\n",
    " \n",
    "    def show(self):\n",
    "        print('S2.show')\n",
    "\n",
    "def Func(obj):\n",
    "    print(obj.show())\n",
    "\n",
    "s1_obj = S1()\n",
    "Func(s1_obj) \n",
    " \n",
    "s2_obj = S2()\n",
    "Func(s2_obj)"
   ]
  },
  {
   "cell_type": "markdown",
   "metadata": {},
   "source": [
    "\n",
    "在 `Python` 中，鸭子类型（`duck typing`）是一种动态类型的风格。所谓鸭子类型，来自于 `James Whitcomb Riley` 的“鸭子测试”：\n",
    "\n",
    "> 当看到一只鸟走起来像鸭子、游泳起来像鸭子、叫起来也像鸭子，那么这只鸟就可以被称为鸭子。\n",
    "\n",
    "假设我们需要定义一个函数，这个函数使用一个类型为鸭子的参数，并调用它的走和叫方法。\n",
    "\n",
    "在鸭子类型的语言中，这样的函数可以接受任何类型的对象，只要这个对象实现了走和叫的方法，否则就引发一个运行时错误。换句话说，任何拥有走和叫方法的参数都是合法的。\n",
    "\n",
    "先看一个例子，父类："
   ]
  },
  {
   "cell_type": "code",
   "execution_count": 21,
   "metadata": {
    "collapsed": true
   },
   "outputs": [],
   "source": [
    "class Leaf(object):\n",
    "    \n",
    "    def __init__(self, color=\"green\"):\n",
    "        self.color = color\n",
    "        \n",
    "    def fall(self):\n",
    "        print(\"Splat!\")"
   ]
  },
  {
   "cell_type": "code",
   "execution_count": 22,
   "metadata": {
    "collapsed": true
   },
   "outputs": [],
   "source": [
    " #子类\n",
    "    \n",
    "class MapleLeaf(Leaf):\n",
    "    \n",
    "    def fall(self):\n",
    "        self.color = 'brown'\n",
    "        super(MapleLeaf, self).fall()"
   ]
  },
  {
   "cell_type": "code",
   "execution_count": 23,
   "metadata": {
    "collapsed": true
   },
   "outputs": [],
   "source": [
    "# 新类\n",
    "\n",
    "class Acorn(object):\n",
    "    \n",
    "    def fall(self):\n",
    "        print(\"Plunk!\")"
   ]
  },
  {
   "cell_type": "markdown",
   "metadata": {},
   "source": [
    "这三个类都实现了 `fall()` 方法，因此可以这样使用："
   ]
  },
  {
   "cell_type": "code",
   "execution_count": 24,
   "metadata": {
    "scrolled": true
   },
   "outputs": [
    {
     "name": "stdout",
     "output_type": "stream",
     "text": [
      "Splat!\n",
      "Splat!\n",
      "Plunk!\n"
     ]
    }
   ],
   "source": [
    "objects = [Leaf(), MapleLeaf(), Acorn()]\n",
    "\n",
    "for obj in objects:\n",
    "    obj.fall()"
   ]
  },
  {
   "cell_type": "markdown",
   "metadata": {},
   "source": [
    "这里 `fall()` 方法就一种鸭子类型的体现。"
   ]
  },
  {
   "cell_type": "markdown",
   "metadata": {},
   "source": [
    "## 5.4 super() 函数\n",
    "\n",
    "    super(CurrentClassName, instance)\n",
    "    \n",
    "返回该类实例对应的父类对象。"
   ]
  },
  {
   "cell_type": "code",
   "execution_count": 25,
   "metadata": {
    "collapsed": true
   },
   "outputs": [],
   "source": [
    "class Leaf(object):\n",
    "    \n",
    "    def __init__(self, color=\"green\"):\n",
    "        self.color = color\n",
    "        \n",
    "    def fall(self):\n",
    "        print(\"Splat!\")\n",
    "\n",
    "        \n",
    "class MapleLeaf(Leaf):\n",
    "    \n",
    "    def change_color(self):\n",
    "        if self.color == \"green\":\n",
    "            self.color = \"red\"\n",
    "            \n",
    "    def fall(self):\n",
    "        self.change_color()\n",
    "        super(MapleLeaf, self).fall()"
   ]
  },
  {
   "cell_type": "code",
   "execution_count": 26,
   "metadata": {},
   "outputs": [
    {
     "name": "stdout",
     "output_type": "stream",
     "text": [
      "green\n",
      "Splat!\n",
      "red\n"
     ]
    }
   ],
   "source": [
    "# 这里，我们先改变树叶的颜色，然后再找到这个实例对应的父类，并调用父类的 `fall()` 方法：\n",
    "\n",
    "mleaf = MapleLeaf()\n",
    "\n",
    "print(mleaf.color)\n",
    "mleaf.fall()\n",
    "print(mleaf.color)\n"
   ]
  },
  {
   "cell_type": "markdown",
   "metadata": {},
   "source": [
    "## 5.5 问答专区\n",
    "\n",
    "问题一：什么样的代码才是面向对象？\n",
    "\n",
    "答：从简单来说，如果程序中的所有功能都是用 类 和 对象 来实现，那么就是面向对象编程了。\n",
    "\n",
    "问题二：函数式编程 和 面向对象 如何选择？分别在什么情况下使用？\n",
    "\n",
    "答：须知：对于 C# 和 Java 程序员来说不存在这个问题，因为该两门语言只支持面向对象编程（不支持函数式编程）。而对于 Python 和 PHP 等语言却同时支持两种编程方式，且函数式编程能完成的操作，面向对象都可以实现；而面向对象的能完成的操作，函数式编程不行（函数式编程无法实现面向对象的封装功能）。\n",
    "\n",
    "所以，一般在Python开发中，全部使用面向对象 或 面向对象和函数式混合使用\n",
    "\n",
    "面向对象的应用场景:\n",
    "\n",
    "多函数需使用共同的值，如：数据库的增、删、改、查操作都需要连接数据库字符串、主机名、用户名和密码\n",
    "\n",
    "需要创建多个事物，每个事物属性个数相同，但是值的需求\n",
    "如：张三、李四、杨五，他们都有姓名、年龄、血型，但其都是不相同。即：属性个数相同，但值不相同\n"
   ]
  },
  {
   "cell_type": "markdown",
   "metadata": {},
   "source": [
    "问题三：类和对象在内存中是如何保存？\n",
    "\n",
    "答：类以及类中的方法在内存中只有一份，而根据类创建的每一个对象都在内存中需要存一份，大致如下图：\n",
    "\n",
    "![image.png](attachment:image.png)\n",
    "\n",
    "如上图所示，根据类创建对象时，对象中除了封装 name 和 age 的值之外，还会保存一个类对象指针，该值指向当前对象的类。\n",
    "\n",
    "当通过 obj1 执行 【方法一】 时，过程如下：\n",
    "\n",
    "根据当前对象中的 类对象指针 找到类中的方法\n",
    "将对象 obj1 当作参数传给 方法的第一个参数 self "
   ]
  }
 ],
 "metadata": {
  "kernelspec": {
   "display_name": "Python 3",
   "language": "python",
   "name": "python3"
  },
  "language_info": {
   "codemirror_mode": {
    "name": "ipython",
    "version": 3
   },
   "file_extension": ".py",
   "mimetype": "text/x-python",
   "name": "python",
   "nbconvert_exporter": "python",
   "pygments_lexer": "ipython3",
   "version": "3.6.3"
  },
  "toc": {
   "base_numbering": 1.0,
   "nav_menu": {},
   "number_sections": false,
   "sideBar": true,
   "skip_h1_title": false,
   "title_cell": "Table of Contents",
   "title_sidebar": "Contents",
   "toc_cell": false,
   "toc_position": {
    "height": "calc(100% - 180px)",
    "left": "10px",
    "top": "150px",
    "width": "227px"
   },
   "toc_section_display": true,
   "toc_window_display": true
  }
 },
 "nbformat": 4,
 "nbformat_minor": 1
}
