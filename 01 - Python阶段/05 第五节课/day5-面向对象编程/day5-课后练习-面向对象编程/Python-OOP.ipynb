{
 "cells": [
  {
   "cell_type": "markdown",
   "metadata": {},
   "source": [
    "# 类的定义：\n",
    "\n",
    "\n",
    "\n",
    "    \"\"\" \n",
    "    一：定义一个学生类。有下面的类属性： \n",
    "    1 姓名 \n",
    "    2 年龄 \n",
    "    3 成绩（语文，数学，英语)[每课成绩的类型为整数] \n",
    "    类方法： \n",
    "    1 获取学生的姓名：get_name() 返回类型:str \n",
    "    2 获取学生的年龄：get_age() 返回类型:int \n",
    "    3 返回3门科目中最高的分数。get_course() 返回类型:int \n",
    "    \n",
    "    \n",
    "    写好类以后，可以定义2个同学测试下: \n",
    "    zm = Student('zhangming',20,[69,88,100]) \n",
    "    返回结果： \n",
    "    zhangming \n",
    "    20 \n",
    "    100 \n",
    "    \"\"\"  \n",
    "\n"
   ]
  },
  {
   "cell_type": "code",
   "execution_count": null,
   "metadata": {
    "collapsed": true
   },
   "outputs": [],
   "source": [
    "#please input your code here\n",
    "\n",
    "class Student(object):  \n",
    "    \n",
    "    def __init__(self, name, age, scores):  \n",
    "        self.name = name  \n",
    "        self.age = age  \n",
    "        self.scores = scores  \n",
    "        \n",
    "    def get_name(self):  \n",
    "        return self.name  \n",
    "    \n",
    "    def get_age(self):  \n",
    "        return self.age  \n",
    "    \n",
    "    def get_course(self):  \n",
    "        return max(self.scores)  \n"
   ]
  },
  {
   "cell_type": "code",
   "execution_count": null,
   "metadata": {
    "collapsed": true
   },
   "outputs": [],
   "source": [
    "zm = Student('zhangming', 20, [69, 88, 100])  \n",
    "print(zm.get_name())\n",
    "print(zm.get_age()) \n",
    "print(zm.get_course())"
   ]
  },
  {
   "cell_type": "markdown",
   "metadata": {},
   "source": [
    "## 练习-用Python定义类"
   ]
  },
  {
   "cell_type": "code",
   "execution_count": null,
   "metadata": {
    "collapsed": true
   },
   "outputs": [],
   "source": [
    "'''\n",
    "经典类和新式类会有区别\n",
    "    python2 下的类不会默认继承object 类，只有显式继承了object 才是新式类\n",
    "    python3 下默认继承了object\n",
    "\n",
    "defClass.py\n",
    "\n",
    "定义类OldStype/NewStyle\n",
    "    属性：name，description\n",
    "    __init__ 构造方法\n",
    "    \n",
    "定义对象\n",
    "    使用type()查看类型\n",
    "    使用dir()查看属性、方法列表\n",
    "\n",
    "'''\n"
   ]
  },
  {
   "cell_type": "code",
   "execution_count": null,
   "metadata": {
    "collapsed": true
   },
   "outputs": [],
   "source": [
    "class OldStyle: # python2 中的类默认为经典类\n",
    "    pass\n",
    "\n",
    "\n",
    "class NewStyle(object): # 只有显式继承object 的才是新式类\n",
    "    pass\n",
    "\n",
    "\n",
    "if __name__ == '__main__':\n",
    "    pass\n"
   ]
  },
  {
   "cell_type": "markdown",
   "metadata": {},
   "source": [
    "## 练习-定义类的属性"
   ]
  },
  {
   "cell_type": "code",
   "execution_count": null,
   "metadata": {
    "collapsed": true
   },
   "outputs": [],
   "source": [
    "'''\n",
    "类的属性描述\n",
    "\n",
    "    python 本身不提供访问控制的功能，但是可以用一些小技巧达到私有属性的效果。\n",
    "    为了让方法或者属性变为私有（从外部无法访问），只要在它的名字前面加上双下划线即可。\n",
    "    类的内部定义中，所有以双下划线开始的名字都被“翻译”成前面加上单下划线和类名的形式。\n",
    "    在了解了这些幕后的事情后，实际上还是能在类外访问这些私有方法，尽管不应该这么做：\n",
    "    print(programmer._Programmer__weight)\n",
    "\n",
    "defProperties.py\n",
    "\n",
    "   类属性    hobby\n",
    "   公开属性  name\n",
    "   一般表示私有属性，但是可以在类外直接访问  _age\n",
    "   表示私有属性，不能在类外直接访问     __weight\n",
    "   \n",
    "   构造方法__init__\n",
    "   访问私有属性的方法 例如 get_weight\n",
    "\n",
    "对象实例\n",
    "    对象实例化\n",
    "    dir()  输出所有属性\n",
    "    访问私有属性\n",
    "    访问公开属性\n",
    "    访问类属性\n",
    "\n",
    "'''"
   ]
  },
  {
   "cell_type": "code",
   "execution_count": null,
   "metadata": {
    "collapsed": true
   },
   "outputs": [],
   "source": [
    "class Programmer(object):\n",
    "    pass"
   ]
  },
  {
   "cell_type": "markdown",
   "metadata": {},
   "source": [
    "## 练习-定义类的方法"
   ]
  },
  {
   "cell_type": "code",
   "execution_count": null,
   "metadata": {
    "collapsed": true
   },
   "outputs": [],
   "source": [
    "'''\n",
    "类的方法描述\n",
    "\n",
    "    python 类中的方法与属性相同，不提供访问控制的功能，所以一样需要用下划线进行访问控制\n",
    "    还有两种方法的装饰器 @classmethod （类方法） @property   (扩展函数)\n",
    "\n",
    "defMethod.py\n",
    "    \n",
    "    属性：\n",
    "    参考上一个例子\n",
    "    \n",
    "    方法 :\n",
    "    构造方法__init__()\n",
    "    一般方法 self_introduction()\n",
    "    类方法  get_hobby()   -- @classmethod\n",
    "    扩展方法  get_weight()   -- @property\n",
    "    \n",
    "对象实例化\n",
    "\n",
    "    调用各种方法测试\n",
    "   \n",
    "'''\n",
    "\n"
   ]
  },
  {
   "cell_type": "code",
   "execution_count": null,
   "metadata": {
    "collapsed": true
   },
   "outputs": [],
   "source": [
    "class Programmer(object):\n",
    "    pass\n"
   ]
  },
  {
   "cell_type": "markdown",
   "metadata": {},
   "source": [
    "## 练习-类的继承"
   ]
  },
  {
   "cell_type": "code",
   "execution_count": null,
   "metadata": {
    "collapsed": true
   },
   "outputs": [],
   "source": [
    "'''\n",
    "在python2 中如果不用继承任何类，最好继承object 类\n",
    "在python3 中默认继承 object类\n",
    "python 支持多继承，一般用不到\n",
    "\n",
    "classInheritance.py  \n",
    "    \n",
    "    基类：参考上一个例子Programmer类\n",
    "    \n",
    "    派生类：\n",
    "    BackendProgrammer 继承自Programmer类\n",
    "    增加新属性：language\n",
    "    构造函数__init__()\n",
    "    调用父类构造函数\n",
    "    本来属性初始化\n",
    "\n",
    "'''"
   ]
  },
  {
   "cell_type": "code",
   "execution_count": null,
   "metadata": {
    "collapsed": true
   },
   "outputs": [],
   "source": [
    "class Programmer(object):\n",
    "    pass\n",
    "\n",
    "\n",
    "class BackendProgrammer(Programmer):  # BackendProgrammer 类继承自Programmer 类\n",
    "    pass\n",
    "\n",
    "\n",
    "if __name__ == '__main__':\n",
    "    pass"
   ]
  },
  {
   "cell_type": "markdown",
   "metadata": {},
   "source": [
    "## 练习-类的多态"
   ]
  },
  {
   "cell_type": "code",
   "execution_count": null,
   "metadata": {
    "collapsed": true
   },
   "outputs": [],
   "source": [
    "'''\n",
    "多态可以用来表示不同的人对相同事物的看法不用，或做同一事情的方法不同等等\n",
    "\n",
    "classPolymorphism.py\n",
    "\n",
    "   基类/派生类 参考上一个例子\n",
    "   \n",
    "   基类中有方法self_introduction()\n",
    "   派生类重新该方法\n",
    "\n",
    "\n",
    "鸭子测试\n",
    "   \n",
    "   def introduce(programmer):  # 自我介绍\n",
    "       if isinstance(programmer, Programmer):\n",
    "           programmer.self_introduction()  # 多态：不同种类的programmer 进行self_introduction 时有不同的表现\n",
    "    \n",
    "'''"
   ]
  },
  {
   "cell_type": "code",
   "execution_count": null,
   "metadata": {
    "collapsed": true
   },
   "outputs": [],
   "source": []
  },
  {
   "cell_type": "markdown",
   "metadata": {},
   "source": [
    "## 练习-对象的实例化"
   ]
  },
  {
   "cell_type": "code",
   "execution_count": null,
   "metadata": {
    "collapsed": true
   },
   "outputs": [],
   "source": [
    "'''\n",
    "# 对象实例化的过程：\n",
    "# 创建类的对象（__new__(cls) 会返回一个类的初始对象）-----> 初始化对象（__init__(self) 对初始对象的属性进行设置）\n",
    "\n",
    "# 销毁对象的过程：\n",
    "# 在垃圾回收的时候会调用__del__() 一般不需要自己定义\n",
    "\n",
    "# 接下来的实例展示如何自定义类的__new__和__init__方法\n",
    "\n",
    "__new__方法只负责创建\n",
    "\n",
    "__init__方法只负责初始化\n",
    "\n",
    "\n",
    "__new__至少要有一个参数cls，代表要实例化的类，此参数在实例化时由Python解释器自动提供\n",
    "\n",
    "__new__必须要有返回值，返回实例化出来的实例，这点在自己实现__new__时要特别注意，可以return父类__new__出来的实例，或者直接是object的__new__出来的实例\n",
    "\n",
    "__init__有一个参数self，就是这个__new__返回的实例，__init__在__new__的基础上可以完成一些其它初始化的动作，__init__不需要返回值\n",
    "\n",
    "'''"
   ]
  },
  {
   "cell_type": "code",
   "execution_count": null,
   "metadata": {
    "collapsed": true
   },
   "outputs": [],
   "source": [
    "class Programmer(object):\n",
    "    def __new__(cls, *args, **kwargs):  # 返回一个类的初始对象\n",
    "        print('call __new__ method')\n",
    "        print(args)  # 打印传入的参数\n",
    "        return super(Programmer, cls).__new__(cls)  # 调用父类的同名方法返回对象\n",
    "        #return object.__new__(cls)\n",
    "\n",
    "    def __init__(self, name, age):  # 对初始对象的属性进行设置\n",
    "        print('call __init__ method')\n",
    "        self.name = name\n",
    "        self.age = age\n",
    "\n",
    "\n",
    "if __name__ == '__main__':\n",
    "    programmer = Programmer('Albert', 25)  # 实例化的过程中先__new__后__init__\n",
    "    print(programmer.__dict__)  # 从构造函数里获得的属性)"
   ]
  },
  {
   "cell_type": "code",
   "execution_count": null,
   "metadata": {
    "collapsed": true
   },
   "outputs": [],
   "source": []
  },
  {
   "cell_type": "markdown",
   "metadata": {},
   "source": [
    "## 练习-类的运算"
   ]
  },
  {
   "cell_type": "code",
   "execution_count": null,
   "metadata": {
    "collapsed": true
   },
   "outputs": [],
   "source": [
    "'''\n",
    "\n",
    "# python 一些magic method 提供对运算符的重载，其中包括但不限于：\n",
    "\n",
    "# 比较运算符：\n",
    "# __cmp__(self, other)      重载 cmp(a, b) 函数\n",
    "# __eq__(self, other)       等于（定义好之后两个对象才能做等于(==)的判断，下面的类似）\n",
    "# __lt__(self, other)       小于\n",
    "# __gt__(self, other)       大于\n",
    "\n",
    "# 数字运算符：\n",
    "# __add__(self, other)      加 （定义好之后两个对象才能做加法(+)运算，下面的类似）\n",
    "# __sub__(self, other)      减\n",
    "# __mul__(self, other)      乘\n",
    "# __div__(self, other)      除\n",
    "\n",
    "# 逻辑运算符：\n",
    "# __or__(self, other)       或 （定义好之后两个对象才能做或(or)运算，下面的类似）\n",
    "# __and__(self, other)      与\n",
    "\n",
    "# 接下来的实例展示如何进行运算符的重载\n",
    "\n",
    "'''"
   ]
  },
  {
   "cell_type": "code",
   "execution_count": null,
   "metadata": {
    "collapsed": true
   },
   "outputs": [],
   "source": [
    "class Programmer(object):\n",
    "    def __init__(self, name, age):  # 重写构造方法\n",
    "        self.name = name  # 添加 name 属性\n",
    "        if isinstance(age, int):  # 如果 age 属于 int 类\n",
    "            self.age = age  # 添加 age 属性\n",
    "        else:  # 否则\n",
    "            raise Exception('Age must be int')  # 抛出异常\n",
    "\n",
    "    def __eq__(self, other):  # 重载 = 和 !=\n",
    "        if isinstance(other, Programmer):  # other 对象也属于 Programmer 类\n",
    "            if self.age == other.age:  # 判断两个对象是否相等的条件是判断两个对象的 age 属性是否相等\n",
    "                return True\n",
    "            else:\n",
    "                return False\n",
    "        else:  # 如果other 对象不属于 Programmer 类\n",
    "            raise Exception('The type of object must be Programmer')  # 抛出异常\n",
    "\n",
    "    def __add__(self, other):  # 重载 +\n",
    "        if isinstance(other, Programmer):  # other 对象也属于 Programmer 类\n",
    "            return self.age + other.age  # 两对象相加返回 age 属性的和\n",
    "        else:  # 如果other 对象不属于 Programmer 类\n",
    "            raise Exception('The type of object must be Programmer')  # 抛出异常\n",
    "\n",
    "\n",
    "if __name__ == '__main__':\n",
    "    p1 = Programmer('Albert', 25)  # 实例化\n",
    "    p2 = Programmer('Bill', 30)  # 实例化\n",
    "    print(p1 == p2)  # 打印 p1 == p2 的结果\n",
    "    print(p1 + p2)  # 打印 p1 + p2 的结果"
   ]
  },
  {
   "cell_type": "markdown",
   "metadata": {},
   "source": [
    "## 练习-类的展现"
   ]
  },
  {
   "cell_type": "code",
   "execution_count": 69,
   "metadata": {},
   "outputs": [
    {
     "name": "stdout",
     "output_type": "stream",
     "text": [
      "Albert is 25 years old\n",
      "['age', 'name']\n"
     ]
    }
   ],
   "source": [
    "'''\n",
    "\n",
    "# python 一些magic method 提供把对象转换为字符串的方法，其中包括但不限于：\n",
    "\n",
    "# 魔术方法          作用                        重载的函数\n",
    "# __str__           可打印的字符输出            内建str()及print 语句\n",
    "# __repr__          运行时的字符串输出          内建repr()\n",
    "# __unicode__       Unicode 字符串输出          内建unicode()\n",
    "# __dir__           查看对像内所有属于及方法    内建dir()\n",
    "\n",
    "# 接下来的实例展示如何进行运算符的重载\n",
    "\n",
    "'''\n",
    "\n",
    "class Programmer(object):\n",
    "    def __init__(self, name, age):  # 重写构造方法\n",
    "        self.name = name  # 添加 name 属性\n",
    "        if isinstance(age, int):  # 如果 age 属于 int 类\n",
    "            self.age = age  # 添加 age 属性\n",
    "        else:  # 否则\n",
    "            raise Exception('Age must be int')  # 抛出异常\n",
    "\n",
    "    def __str__(self):  # 重载内建str()及print 语句\n",
    "        return('%s is %s years old' % (self.name, self.age))\n",
    "\n",
    "    def __dir__(self):  # 重载内建dir()\n",
    "        return self.__dict__.keys()\n",
    "\n",
    "\n",
    "if __name__ == '__main__':\n",
    "    p = Programmer('Albert', 25)  # 实例化\n",
    "    print(p)  # 打印 p 对象\n",
    "    print(dir(p))  # 打印 dir(p)"
   ]
  },
  {
   "cell_type": "markdown",
   "metadata": {},
   "source": [
    "## 练习-类的属性设置"
   ]
  },
  {
   "cell_type": "code",
   "execution_count": null,
   "metadata": {
    "collapsed": true
   },
   "outputs": [],
   "source": [
    "'''\n",
    "# python 一些magic method 提供类的属性操作的方法，其中包括但不限于：\n",
    "\n",
    "# 魔术方法                              作用                                  重载的函数           调用方法\n",
    "# __setattr__(self, name, value)        设置属性                                                   X.any = value\n",
    "# __getattr__(self, name)               获取属性，仅当属性没有找到时调用      内建getattr()        X.undefined\n",
    "# __getattribute__(self, name)          获取属性，总是被调用                  内建getattr()        X.any\n",
    "# __delattr__(self, name)               删除属性                                                   del X.any\n",
    "\n",
    "# 注意：以上这些魔术方法不能无限递归调用自身，因为python 的递归栈的深度限制为 1000\n",
    "# 而__getattribute__方法更容易引起无限递归\n",
    "\n",
    "# 接下来的实例展示如何进行类的属性操作\n",
    "\n",
    "\n",
    "'''"
   ]
  },
  {
   "cell_type": "code",
   "execution_count": 72,
   "metadata": {},
   "outputs": [
    {
     "ename": "SyntaxError",
     "evalue": "invalid syntax (<ipython-input-72-03a7e135b2f4>, line 12)",
     "output_type": "error",
     "traceback": [
      "\u001b[1;36m  File \u001b[1;32m\"<ipython-input-72-03a7e135b2f4>\"\u001b[1;36m, line \u001b[1;32m12\u001b[0m\n\u001b[1;33m    return ('There is no property called %s here' % (name)))\u001b[0m\n\u001b[1;37m                                                           ^\u001b[0m\n\u001b[1;31mSyntaxError\u001b[0m\u001b[1;31m:\u001b[0m invalid syntax\n"
     ]
    }
   ],
   "source": [
    "class Programmer(object):\n",
    "    def __init__(self, name, age):  # 重写构造方法\n",
    "        self.name = name  # 添加 name 属性\n",
    "        self.age = age  # 添加 age 属性\n",
    "\n",
    "    def __getattribute__(self, name):\n",
    "        # return getattr(self, name)\n",
    "        # return self.__dict__[name]\n",
    "        return super(Programmer, self).__getattribute__(name)\n",
    "\n",
    "    def __getattr__(self, name):\n",
    "        return ('There is no property called %s here' % (name)))\n",
    "\n",
    "    def __setattr__(self, name, value):\n",
    "        # setattr(self, name, value)\n",
    "        self.__dict__[name] = value\n",
    "\n",
    "\n",
    "if __name__ == '__main__':\n",
    "    p = Programmer('Albert', 25)  # 实例化            调用了__init__方法\n",
    "    print(p.name)  # 打印 name 属性                     调用了__getattribute__方法\n",
    "    p.language = 'python'  # 添加 language 属性       调用了__setattr__方法\n",
    "    print(p.language)  # 打印 language 属性             调用了__getattribute__方法\n",
    "    del p.age  # 删除 age 属性                         调用了__delattr__方法，没有进行重写，直接继承自object类\n",
    "    print(p.age)  # 打印 age 属性                       调用了__getattr__方法\n",
    "    print(p.__dict__)  # 打印从构造函数里获得的属性     调用了__dict__方法"
   ]
  },
  {
   "cell_type": "code",
   "execution_count": 3,
   "metadata": {},
   "outputs": [
    {
     "name": "stdout",
     "output_type": "stream",
     "text": [
      "调用了\n",
      "<function f at 0x10eb08f28> hass no __doc\n",
      "调用了\n",
      "i havr\n",
      "f()\n"
     ]
    }
   ],
   "source": [
    "def deco_funtionNeedDoc(func):\n",
    "    print('调用了')\n",
    "    if func.__doc__ == None :\n",
    "        print(func,'hass no __doc')\n",
    "    else:\n",
    "        print(func.__doc__)\n",
    "    return func;\n",
    "@deco_funtionNeedDoc\n",
    "def f():\n",
    "    print('f()')\n",
    "@deco_funtionNeedDoc\n",
    "def g():\n",
    "    'i havr'\n",
    "    print('g()')\n",
    "f()"
   ]
  },
  {
   "cell_type": "code",
   "execution_count": null,
   "metadata": {
    "collapsed": true
   },
   "outputs": [],
   "source": []
  }
 ],
 "metadata": {
  "kernelspec": {
   "display_name": "Python 3",
   "language": "python",
   "name": "python3"
  },
  "language_info": {
   "codemirror_mode": {
    "name": "ipython",
    "version": 3
   },
   "file_extension": ".py",
   "mimetype": "text/x-python",
   "name": "python",
   "nbconvert_exporter": "python",
   "pygments_lexer": "ipython3",
   "version": "3.6.3"
  },
  "toc": {
   "base_numbering": 1,
   "nav_menu": {},
   "number_sections": true,
   "sideBar": true,
   "skip_h1_title": false,
   "title_cell": "Table of Contents",
   "title_sidebar": "Contents",
   "toc_cell": false,
   "toc_position": {},
   "toc_section_display": true,
   "toc_window_display": false
  }
 },
 "nbformat": 4,
 "nbformat_minor": 2
}
