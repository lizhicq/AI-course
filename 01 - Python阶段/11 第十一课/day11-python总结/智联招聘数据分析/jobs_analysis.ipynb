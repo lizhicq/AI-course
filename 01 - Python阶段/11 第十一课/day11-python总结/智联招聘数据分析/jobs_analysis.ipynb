{
 "cells": [
  {
   "cell_type": "code",
   "execution_count": 1,
   "metadata": {
    "collapsed": true
   },
   "outputs": [],
   "source": [
    "#-*-coding:utf-8 -*-\n",
    "#智联招聘职位数据挖掘分析\n",
    "import numpy as np\n",
    "import pandas as pd\n",
    "import matplotlib\n",
    "import matplotlib.pyplot as plt"
   ]
  },
  {
   "cell_type": "code",
   "execution_count": 2,
   "metadata": {},
   "outputs": [],
   "source": [
    "#加载数据集\n",
    "df=pd.read_csv('ml_jobs.csv',encoding='utf-8')"
   ]
  },
  {
   "cell_type": "code",
   "execution_count": 78,
   "metadata": {},
   "outputs": [
    {
     "name": "stdout",
     "output_type": "stream",
     "text": [
      "<class 'pandas.core.frame.DataFrame'>\n",
      "Int64Index: 6555 entries, 16122 to 22896\n",
      "Data columns (total 22 columns):\n",
      "职位名称             6555 non-null object\n",
      "公司名称             6555 non-null object\n",
      "公司链接             6555 non-null object\n",
      "职位链接             6555 non-null object\n",
      "职位月薪             6555 non-null object\n",
      "工作地点             6555 non-null object\n",
      "发布日期             6555 non-null object\n",
      "工作性质             6555 non-null object\n",
      "工作经验             6555 non-null object\n",
      "最低学历             6495 non-null object\n",
      "招聘人数             6555 non-null object\n",
      "职位类别             6555 non-null object\n",
      "岗位职责描述           6019 non-null object\n",
      "福利标签             5265 non-null object\n",
      "bottom           6555 non-null object\n",
      "top              6555 non-null object\n",
      "average          6555 non-null object\n",
      "工作城市             6555 non-null object\n",
      "df_city          6433 non-null object\n",
      "df_experience    6433 non-null object\n",
      "df_average       5843 non-null float64\n",
      "df_degree        6346 non-null object\n",
      "dtypes: float64(1), object(21)\n",
      "memory usage: 1.5+ MB\n"
     ]
    }
   ],
   "source": [
    "#查看数据表信息\n",
    "df.info()"
   ]
  },
  {
   "cell_type": "code",
   "execution_count": 4,
   "metadata": {},
   "outputs": [],
   "source": [
    "#-*-数据清洗与处理-*-\n",
    "df.index=df['job_id']"
   ]
  },
  {
   "cell_type": "code",
   "execution_count": 5,
   "metadata": {
    "collapsed": true
   },
   "outputs": [],
   "source": [
    "#删除原文件中'job_id'列\n",
    "del(df['job_id'])"
   ]
  },
  {
   "cell_type": "code",
   "execution_count": 6,
   "metadata": {},
   "outputs": [],
   "source": [
    "#对索引列重新排序\n",
    "df_sort = df.sort_index()"
   ]
  },
  {
   "cell_type": "code",
   "execution_count": 7,
   "metadata": {},
   "outputs": [],
   "source": [
    "#将重新排序后的对象赋予原数据表对象\n",
    "df = df_sort"
   ]
  },
  {
   "cell_type": "code",
   "execution_count": 8,
   "metadata": {},
   "outputs": [
    {
     "data": {
      "text/html": [
       "<div>\n",
       "<style>\n",
       "    .dataframe thead tr:only-child th {\n",
       "        text-align: right;\n",
       "    }\n",
       "\n",
       "    .dataframe thead th {\n",
       "        text-align: left;\n",
       "    }\n",
       "\n",
       "    .dataframe tbody tr th {\n",
       "        vertical-align: top;\n",
       "    }\n",
       "</style>\n",
       "<table border=\"1\" class=\"dataframe\">\n",
       "  <thead>\n",
       "    <tr style=\"text-align: right;\">\n",
       "      <th></th>\n",
       "      <th>工作地点</th>\n",
       "      <th>职位月薪</th>\n",
       "    </tr>\n",
       "    <tr>\n",
       "      <th>job_id</th>\n",
       "      <th></th>\n",
       "      <th></th>\n",
       "    </tr>\n",
       "  </thead>\n",
       "  <tbody>\n",
       "    <tr>\n",
       "      <th>16122</th>\n",
       "      <td>北京-海淀区</td>\n",
       "      <td>25000-50000元/月</td>\n",
       "    </tr>\n",
       "    <tr>\n",
       "      <th>16123</th>\n",
       "      <td>北京</td>\n",
       "      <td>30001-50000元/月</td>\n",
       "    </tr>\n",
       "    <tr>\n",
       "      <th>16124</th>\n",
       "      <td>北京-东城区</td>\n",
       "      <td>50001-70000元/月</td>\n",
       "    </tr>\n",
       "    <tr>\n",
       "      <th>16125</th>\n",
       "      <td>北京</td>\n",
       "      <td>20001-30000元/月</td>\n",
       "    </tr>\n",
       "    <tr>\n",
       "      <th>16126</th>\n",
       "      <td>北京</td>\n",
       "      <td>10000-20000元/月</td>\n",
       "    </tr>\n",
       "    <tr>\n",
       "      <th>16127</th>\n",
       "      <td>北京-朝阳区</td>\n",
       "      <td>50001-70000元/月</td>\n",
       "    </tr>\n",
       "    <tr>\n",
       "      <th>16128</th>\n",
       "      <td>北京</td>\n",
       "      <td>15001-20000元/月</td>\n",
       "    </tr>\n",
       "    <tr>\n",
       "      <th>16129</th>\n",
       "      <td>北京</td>\n",
       "      <td>10001-15000元/月</td>\n",
       "    </tr>\n",
       "    <tr>\n",
       "      <th>16130</th>\n",
       "      <td>北京</td>\n",
       "      <td>12500-25000元/月</td>\n",
       "    </tr>\n",
       "    <tr>\n",
       "      <th>16131</th>\n",
       "      <td>北京-昌平区</td>\n",
       "      <td>12000-24000元/月</td>\n",
       "    </tr>\n",
       "  </tbody>\n",
       "</table>\n",
       "</div>"
      ],
      "text/plain": [
       "          工作地点            职位月薪\n",
       "job_id                        \n",
       "16122   北京-海淀区  25000-50000元/月\n",
       "16123       北京  30001-50000元/月\n",
       "16124   北京-东城区  50001-70000元/月\n",
       "16125       北京  20001-30000元/月\n",
       "16126       北京  10000-20000元/月\n",
       "16127   北京-朝阳区  50001-70000元/月\n",
       "16128       北京  15001-20000元/月\n",
       "16129       北京  10001-15000元/月\n",
       "16130       北京  12500-25000元/月\n",
       "16131   北京-昌平区  12000-24000元/月"
      ]
     },
     "execution_count": 8,
     "metadata": {},
     "output_type": "execute_result"
    }
   ],
   "source": [
    "#查看'工作地点','职位月薪'两列的前10行数据\n",
    "df[['工作地点','职位月薪']].head(10)"
   ]
  },
  {
   "cell_type": "code",
   "execution_count": 9,
   "metadata": {},
   "outputs": [],
   "source": [
    "#用正则表达式处理'职位月薪'列\n",
    "import re\n",
    "#定义三列bottom,top,average分别存放最低月薪、最高月薪和平均月薪\n",
    "df['bottom'] = df['top'] = df['average'] = df['职位月薪']\n",
    "pattern = re.compile('([0-9]+)')\n",
    "q1=q2=q3=q4=0\n",
    "for i in range(len(df['职位月薪'])):\n",
    "    item = df['职位月薪'].iloc[i].strip()\n",
    "    result = re.findall(pattern,item)\n",
    "    try:\n",
    "        if result:\n",
    "            try:\n",
    "                #对于数值如8000-10000元/月的格式，处理后存放至bottom ,top ,average三个新列\n",
    "                df['bottom'].iloc[i],df['top'].iloc[i] = result[0],result[1]\n",
    "                df['average'].iloc[i] = str((int(result[0])+int(result[1]))/2)\n",
    "                #q1统计职位月薪形如'8000-10000元/月'的次数\n",
    "                q1+=1\n",
    "            except:\n",
    "                df['bottom'].iloc[i] = df['top'].iloc[i] = result[0]\n",
    "                df['average'].iloc[i] = str((int(result[0])+int(result[0]))/2)\n",
    "                #q2统计形如月收入'10000元/月以下'的次数\n",
    "                q2+=1\n",
    "        else:\n",
    "            #对于字符如'面议','无内容'的格式,处理后保持原字符不变\n",
    "            df['bottom'].iloc[i] = df['top'].iloc[i] = df['average'].iloc[i] = item\n",
    "            #q3统计'无内容','面议'的次数；\n",
    "            q3+=1\n",
    "    except Exception as e:\n",
    "        #q4统计特殊情况的次数\n",
    "        q4+=1\n",
    "        print(q4,item,repr(e))"
   ]
  },
  {
   "cell_type": "code",
   "execution_count": 10,
   "metadata": {},
   "outputs": [
    {
     "data": {
      "text/html": [
       "<div>\n",
       "<style>\n",
       "    .dataframe thead tr:only-child th {\n",
       "        text-align: right;\n",
       "    }\n",
       "\n",
       "    .dataframe thead th {\n",
       "        text-align: left;\n",
       "    }\n",
       "\n",
       "    .dataframe tbody tr th {\n",
       "        vertical-align: top;\n",
       "    }\n",
       "</style>\n",
       "<table border=\"1\" class=\"dataframe\">\n",
       "  <thead>\n",
       "    <tr style=\"text-align: right;\">\n",
       "      <th></th>\n",
       "      <th>职位月薪</th>\n",
       "      <th>bottom</th>\n",
       "      <th>top</th>\n",
       "      <th>average</th>\n",
       "    </tr>\n",
       "    <tr>\n",
       "      <th>job_id</th>\n",
       "      <th></th>\n",
       "      <th></th>\n",
       "      <th></th>\n",
       "      <th></th>\n",
       "    </tr>\n",
       "  </thead>\n",
       "  <tbody>\n",
       "    <tr>\n",
       "      <th>16122</th>\n",
       "      <td>25000-50000元/月</td>\n",
       "      <td>25000</td>\n",
       "      <td>50000</td>\n",
       "      <td>37500.0</td>\n",
       "    </tr>\n",
       "    <tr>\n",
       "      <th>16123</th>\n",
       "      <td>30001-50000元/月</td>\n",
       "      <td>30001</td>\n",
       "      <td>50000</td>\n",
       "      <td>40000.5</td>\n",
       "    </tr>\n",
       "    <tr>\n",
       "      <th>16124</th>\n",
       "      <td>50001-70000元/月</td>\n",
       "      <td>50001</td>\n",
       "      <td>70000</td>\n",
       "      <td>60000.5</td>\n",
       "    </tr>\n",
       "    <tr>\n",
       "      <th>16125</th>\n",
       "      <td>20001-30000元/月</td>\n",
       "      <td>20001</td>\n",
       "      <td>30000</td>\n",
       "      <td>25000.5</td>\n",
       "    </tr>\n",
       "    <tr>\n",
       "      <th>16126</th>\n",
       "      <td>10000-20000元/月</td>\n",
       "      <td>10000</td>\n",
       "      <td>20000</td>\n",
       "      <td>15000.0</td>\n",
       "    </tr>\n",
       "    <tr>\n",
       "      <th>16127</th>\n",
       "      <td>50001-70000元/月</td>\n",
       "      <td>50001</td>\n",
       "      <td>70000</td>\n",
       "      <td>60000.5</td>\n",
       "    </tr>\n",
       "    <tr>\n",
       "      <th>16128</th>\n",
       "      <td>15001-20000元/月</td>\n",
       "      <td>15001</td>\n",
       "      <td>20000</td>\n",
       "      <td>17500.5</td>\n",
       "    </tr>\n",
       "    <tr>\n",
       "      <th>16129</th>\n",
       "      <td>10001-15000元/月</td>\n",
       "      <td>10001</td>\n",
       "      <td>15000</td>\n",
       "      <td>12500.5</td>\n",
       "    </tr>\n",
       "    <tr>\n",
       "      <th>16130</th>\n",
       "      <td>12500-25000元/月</td>\n",
       "      <td>12500</td>\n",
       "      <td>25000</td>\n",
       "      <td>18750.0</td>\n",
       "    </tr>\n",
       "    <tr>\n",
       "      <th>16131</th>\n",
       "      <td>12000-24000元/月</td>\n",
       "      <td>12000</td>\n",
       "      <td>24000</td>\n",
       "      <td>18000.0</td>\n",
       "    </tr>\n",
       "  </tbody>\n",
       "</table>\n",
       "</div>"
      ],
      "text/plain": [
       "                  职位月薪 bottom    top  average\n",
       "job_id                                       \n",
       "16122   25000-50000元/月  25000  50000  37500.0\n",
       "16123   30001-50000元/月  30001  50000  40000.5\n",
       "16124   50001-70000元/月  50001  70000  60000.5\n",
       "16125   20001-30000元/月  20001  30000  25000.5\n",
       "16126   10000-20000元/月  10000  20000  15000.0\n",
       "16127   50001-70000元/月  50001  70000  60000.5\n",
       "16128   15001-20000元/月  15001  20000  17500.5\n",
       "16129   10001-15000元/月  10001  15000  12500.5\n",
       "16130   12500-25000元/月  12500  25000  18750.0\n",
       "16131   12000-24000元/月  12000  24000  18000.0"
      ]
     },
     "execution_count": 10,
     "metadata": {},
     "output_type": "execute_result"
    }
   ],
   "source": [
    "#查看数据表中'职位月薪'与新增加3列的前10行数据\n",
    "df[['职位月薪','bottom','top','average']].head(10)"
   ]
  },
  {
   "cell_type": "code",
   "execution_count": 11,
   "metadata": {},
   "outputs": [
    {
     "name": "stdout",
     "output_type": "stream",
     "text": [
      "6555\n"
     ]
    }
   ],
   "source": [
    "#查看总统计分析样本数\n",
    "print(q1+q2+q3+q4)"
   ]
  },
  {
   "cell_type": "code",
   "execution_count": 12,
   "metadata": {},
   "outputs": [],
   "source": [
    "#使用正则表达式进行'工作地点'列的处理，新增工作城市列，\n",
    "df['工作城市'] = df['工作地点']\n",
    "pattern2 = re.compile('(.*?)(\\-)')\n",
    "df_city = df['工作地点'].copy()\n",
    "for i in range(len(df_city)):\n",
    "    item = df_city.iloc[i].strip()\n",
    "    result = re.search(pattern2,item)\n",
    "    if result:\n",
    "        #将工作地点中如'北京-海淀区','北京-东城区'等转化为'北京'存放在工作城市列\n",
    "        df_city.iloc[i] = result.group(1).strip()\n",
    "    else:\n",
    "        #对于字符如'北京','无内容'的格式,处理后保持原字符不变\n",
    "        df_city.iloc[i] = item.strip()"
   ]
  },
  {
   "cell_type": "code",
   "execution_count": 13,
   "metadata": {
    "collapsed": true
   },
   "outputs": [],
   "source": [
    "#新增加1列'工作城市'到数据表中\n",
    "df['工作城市'] = df_city"
   ]
  },
  {
   "cell_type": "code",
   "execution_count": 14,
   "metadata": {},
   "outputs": [
    {
     "data": {
      "text/html": [
       "<div>\n",
       "<style>\n",
       "    .dataframe thead tr:only-child th {\n",
       "        text-align: right;\n",
       "    }\n",
       "\n",
       "    .dataframe thead th {\n",
       "        text-align: left;\n",
       "    }\n",
       "\n",
       "    .dataframe tbody tr th {\n",
       "        vertical-align: top;\n",
       "    }\n",
       "</style>\n",
       "<table border=\"1\" class=\"dataframe\">\n",
       "  <thead>\n",
       "    <tr style=\"text-align: right;\">\n",
       "      <th></th>\n",
       "      <th>工作地点</th>\n",
       "      <th>工作城市</th>\n",
       "    </tr>\n",
       "    <tr>\n",
       "      <th>job_id</th>\n",
       "      <th></th>\n",
       "      <th></th>\n",
       "    </tr>\n",
       "  </thead>\n",
       "  <tbody>\n",
       "    <tr>\n",
       "      <th>16122</th>\n",
       "      <td>北京-海淀区</td>\n",
       "      <td>北京</td>\n",
       "    </tr>\n",
       "    <tr>\n",
       "      <th>16123</th>\n",
       "      <td>北京</td>\n",
       "      <td>北京</td>\n",
       "    </tr>\n",
       "    <tr>\n",
       "      <th>16124</th>\n",
       "      <td>北京-东城区</td>\n",
       "      <td>北京</td>\n",
       "    </tr>\n",
       "    <tr>\n",
       "      <th>16125</th>\n",
       "      <td>北京</td>\n",
       "      <td>北京</td>\n",
       "    </tr>\n",
       "    <tr>\n",
       "      <th>16126</th>\n",
       "      <td>北京</td>\n",
       "      <td>北京</td>\n",
       "    </tr>\n",
       "    <tr>\n",
       "      <th>16127</th>\n",
       "      <td>北京-朝阳区</td>\n",
       "      <td>北京</td>\n",
       "    </tr>\n",
       "    <tr>\n",
       "      <th>16128</th>\n",
       "      <td>北京</td>\n",
       "      <td>北京</td>\n",
       "    </tr>\n",
       "    <tr>\n",
       "      <th>16129</th>\n",
       "      <td>北京</td>\n",
       "      <td>北京</td>\n",
       "    </tr>\n",
       "    <tr>\n",
       "      <th>16130</th>\n",
       "      <td>北京</td>\n",
       "      <td>北京</td>\n",
       "    </tr>\n",
       "    <tr>\n",
       "      <th>16131</th>\n",
       "      <td>北京-昌平区</td>\n",
       "      <td>北京</td>\n",
       "    </tr>\n",
       "    <tr>\n",
       "      <th>16132</th>\n",
       "      <td>北京</td>\n",
       "      <td>北京</td>\n",
       "    </tr>\n",
       "    <tr>\n",
       "      <th>16133</th>\n",
       "      <td>北京-大兴区</td>\n",
       "      <td>北京</td>\n",
       "    </tr>\n",
       "    <tr>\n",
       "      <th>16134</th>\n",
       "      <td>北京-朝阳区</td>\n",
       "      <td>北京</td>\n",
       "    </tr>\n",
       "    <tr>\n",
       "      <th>16135</th>\n",
       "      <td>北京-大兴区</td>\n",
       "      <td>北京</td>\n",
       "    </tr>\n",
       "    <tr>\n",
       "      <th>16136</th>\n",
       "      <td>北京</td>\n",
       "      <td>北京</td>\n",
       "    </tr>\n",
       "    <tr>\n",
       "      <th>16137</th>\n",
       "      <td>北京-朝阳区</td>\n",
       "      <td>北京</td>\n",
       "    </tr>\n",
       "    <tr>\n",
       "      <th>16138</th>\n",
       "      <td>北京-海淀区</td>\n",
       "      <td>北京</td>\n",
       "    </tr>\n",
       "    <tr>\n",
       "      <th>16139</th>\n",
       "      <td>北京</td>\n",
       "      <td>北京</td>\n",
       "    </tr>\n",
       "    <tr>\n",
       "      <th>16140</th>\n",
       "      <td>北京-朝阳区</td>\n",
       "      <td>北京</td>\n",
       "    </tr>\n",
       "    <tr>\n",
       "      <th>16141</th>\n",
       "      <td>北京</td>\n",
       "      <td>北京</td>\n",
       "    </tr>\n",
       "  </tbody>\n",
       "</table>\n",
       "</div>"
      ],
      "text/plain": [
       "          工作地点 工作城市\n",
       "job_id             \n",
       "16122   北京-海淀区   北京\n",
       "16123       北京   北京\n",
       "16124   北京-东城区   北京\n",
       "16125       北京   北京\n",
       "16126       北京   北京\n",
       "16127   北京-朝阳区   北京\n",
       "16128       北京   北京\n",
       "16129       北京   北京\n",
       "16130       北京   北京\n",
       "16131   北京-昌平区   北京\n",
       "16132       北京   北京\n",
       "16133   北京-大兴区   北京\n",
       "16134   北京-朝阳区   北京\n",
       "16135   北京-大兴区   北京\n",
       "16136       北京   北京\n",
       "16137   北京-朝阳区   北京\n",
       "16138   北京-海淀区   北京\n",
       "16139       北京   北京\n",
       "16140   北京-朝阳区   北京\n",
       "16141       北京   北京"
      ]
     },
     "execution_count": 14,
     "metadata": {},
     "output_type": "execute_result"
    }
   ],
   "source": [
    "#查看数据表中'工作地点'与新增加列前20行数据\n",
    "df[['工作地点','工作城市']].head(20)"
   ]
  },
  {
   "cell_type": "code",
   "execution_count": 15,
   "metadata": {},
   "outputs": [
    {
     "data": {
      "text/plain": [
       "北京      2246\n",
       "上海       835\n",
       "深圳       651\n",
       "杭州       318\n",
       "广州       293\n",
       "成都       261\n",
       "南京       251\n",
       "武汉       195\n",
       "西安       168\n",
       "苏州       131\n",
       "无内容      122\n",
       "济南       112\n",
       "合肥       108\n",
       "郑州       108\n",
       "天津       103\n",
       "长沙       100\n",
       "厦门        85\n",
       "福州        78\n",
       "大连        70\n",
       "重庆        55\n",
       "青岛        45\n",
       "石家庄       33\n",
       "佛山        32\n",
       "贵阳        30\n",
       "太原        25\n",
       "昆明        25\n",
       "无锡        24\n",
       "南宁        16\n",
       "宁波        13\n",
       "南昌        10\n",
       "海口         7\n",
       "呼和浩特       5\n",
       "Name: 工作城市, dtype: int64"
      ]
     },
     "execution_count": 15,
     "metadata": {},
     "output_type": "execute_result"
    }
   ],
   "source": [
    "#-*-数据分析-*-\n",
    "\"\"\"\n",
    "对于'机器学习'这个关键词的6555条招聘数据进行数据分析，由于招聘数据与工作城市、工作经验、最低学历和平均月薪等特征密切相关,\n",
    "所以选取数据集中工作城市、工作经验、最低学历和平均月薪4个特征列进行分析。\n",
    "\"\"\"\n",
    "#1.不同城市的招聘数量分布情况分析\n",
    "#统计每个城市的招聘数量\n",
    "df['工作城市'].value_counts()"
   ]
  },
  {
   "cell_type": "code",
   "execution_count": 16,
   "metadata": {},
   "outputs": [
    {
     "data": {
      "text/plain": [
       "6555"
      ]
     },
     "execution_count": 16,
     "metadata": {},
     "output_type": "execute_result"
    }
   ],
   "source": [
    "#汇总全部城市的招聘数量\n",
    "df['工作城市'].value_counts().sum()"
   ]
  },
  {
   "cell_type": "code",
   "execution_count": 17,
   "metadata": {},
   "outputs": [],
   "source": [
    "#处理干扰数据，将原来df['工作城市']列中显示'无内容'的项替换成空值nan\n",
    "df_city = df['工作城市'].replace(['无内容'],np.nan)"
   ]
  },
  {
   "cell_type": "code",
   "execution_count": 18,
   "metadata": {},
   "outputs": [
    {
     "data": {
      "text/plain": [
       "31"
      ]
     },
     "execution_count": 18,
     "metadata": {},
     "output_type": "execute_result"
    }
   ],
   "source": [
    "#统计有效城市数量\n",
    "df_city.value_counts().count()"
   ]
  },
  {
   "cell_type": "code",
   "execution_count": 19,
   "metadata": {
    "collapsed": true
   },
   "outputs": [],
   "source": [
    "#将新的[df_city]列添加到数据表中\n",
    "df['df_city'] = df_city"
   ]
  },
  {
   "cell_type": "code",
   "execution_count": 20,
   "metadata": {},
   "outputs": [
    {
     "data": {
      "text/plain": [
       "6433"
      ]
     },
     "execution_count": 20,
     "metadata": {},
     "output_type": "execute_result"
    }
   ],
   "source": [
    "#统计有效职位数\n",
    "df_city.value_counts().sum()"
   ]
  },
  {
   "cell_type": "code",
   "execution_count": 21,
   "metadata": {
    "scrolled": false
   },
   "outputs": [
    {
     "data": {
      "image/png": "[encoded data removed]",
      "text/plain": [
       "<matplotlib.figure.Figure at 0x16b97a634a8>"
      ]
     },
     "metadata": {},
     "output_type": "display_data"
    }
   ],
   "source": [
    "#-*-数据可视化-*-\n",
    "matplotlib.style.use('ggplot')\n",
    "#设置视图画布1\n",
    "fig1 = plt.figure(1,facecolor = 'white',figsize=((15,10)))\n",
    "#设置子图1\n",
    "ax1 = fig1.add_subplot(2,1,1)\n",
    "#设置轴的颜色为黑色\n",
    "plt.tick_params(colors='black')\n",
    "#画柱状图\n",
    "df_city.value_counts().plot(kind='bar',rot=0,color='#7EC0EE',fontsize=8)\n",
    "#设置图标题，x和y轴标题\n",
    "title = plt.title('城市—职位数分布图',fontsize=12,color='black')\n",
    "xlabel = plt.xlabel('城市',fontsize=10,color='black')\n",
    "ylabel = plt.ylabel('职位数量',fontsize=10,color='black')\n",
    "#设置说明，位置在图的右上角\n",
    "text1 = ax1.text(25,2400,'城市总数:31(个)',fontsize=10, color='black')\n",
    "text2 = ax1.text(25,2200,'职位总数:6555(个)',fontsize=10, color='black')\n",
    "text3 = ax1.text(25,2000,'有效职位:6433(个)',fontsize=10, color='black')\n",
    "#统计有效招聘数量\n",
    "list_1=df_city.value_counts()\n",
    "#添加每个城市的坐标值\n",
    "for i in range(len(list_1)):\n",
    "    ax1.text(i-0.3,list_1[i],str(list_1[i]),color='black')\n",
    "#添加栅格线\n",
    "plt.grid(True)\n",
    "#设置子图2，是位于子图1下面的饼状图\n",
    "ax2 = fig1.add_subplot(2,1,2)\n",
    "#x是数值列表，\n",
    "x = df_city.value_counts().values\n",
    "#label_list是构造的列表，存储前8个城市名称+职位占比\n",
    "label_list = []\n",
    "for i in range(8):\n",
    "    t = df_city.value_counts().values[i]/df_city.value_counts().sum()*100\n",
    "    city = df_city.value_counts().index[i]\n",
    "    percent = str('%.1f%%'%t)\n",
    "    label_list.append(city+percent)\n",
    "#显示前8个城市的城市名称和比例、其余的不显示，用空字符列表替代，为此需要构造列表label_list和一个空字符列表['']*23\n",
    "labels = label_list + ['']*23\n",
    "#explode即饼图中分裂的效果explode=（0.1，1，1）表示第一块图片显示为分裂效果\n",
    "explode = tuple([0.1]+[0]*30)\n",
    "colors='#FF8247','#ADD8E6','#FF3030','#7FFF00','#C67171','#9ACD32','#9400D3','#8B864E'\n",
    "#饼图的比例根据数值占整体的比例而划分,通过构造labels手动显示饼图中每一块的比例\n",
    "plt.pie(x,explode=explode,labels=labels,textprops={'color':'black'},colors=colors)\n",
    "plt.show()"
   ]
  },
  {
   "cell_type": "code",
   "execution_count": 22,
   "metadata": {},
   "outputs": [
    {
     "name": "stdout",
     "output_type": "stream",
     "text": [
      "78.5014767605\n"
     ]
    }
   ],
   "source": [
    "# 上图统计出排名靠前的8个城市提供的工作机会占比超过78%，说明提供机器学习相关岗位工作机会的城市主要集中在一线城市和新一线城市中\n",
    "chance_num=0.0\n",
    "for i in range(8):\n",
    "    chance_num+=df_city.value_counts().values[i]/df_city.value_counts().sum()*100\n",
    "print(chance_num)"
   ]
  },
  {
   "cell_type": "code",
   "execution_count": 23,
   "metadata": {},
   "outputs": [
    {
     "data": {
      "text/plain": [
       "不限       2025\n",
       "3-5年     1900\n",
       "1-3年     1610\n",
       "5-10年     593\n",
       "无经验       200\n",
       "无内容       122\n",
       "1年以下       64\n",
       "10年以上      41\n",
       "Name: 工作经验, dtype: int64"
      ]
     },
     "execution_count": 23,
     "metadata": {},
     "output_type": "execute_result"
    }
   ],
   "source": [
    "#2.不同工作经验的招聘数量分布情况分析\n",
    "#统计不同工作经验的招聘数量\n",
    "df['工作经验'].value_counts()"
   ]
  },
  {
   "cell_type": "code",
   "execution_count": 24,
   "metadata": {},
   "outputs": [],
   "source": [
    "#处理干扰数据，把'工作经验'中'无内容'项替换成空值nan\n",
    "df_experience=df['工作经验'].replace(['无内容'],np.nan)"
   ]
  },
  {
   "cell_type": "code",
   "execution_count": 25,
   "metadata": {},
   "outputs": [
    {
     "data": {
      "text/plain": [
       "不限       2025\n",
       "3-5年     1900\n",
       "1-3年     1610\n",
       "5-10年     593\n",
       "无经验       200\n",
       "1年以下       64\n",
       "10年以上      41\n",
       "Name: 工作经验, dtype: int64"
      ]
     },
     "execution_count": 25,
     "metadata": {},
     "output_type": "execute_result"
    }
   ],
   "source": [
    "#统计处理后的数据\n",
    "df_experience.value_counts()"
   ]
  },
  {
   "cell_type": "code",
   "execution_count": 26,
   "metadata": {},
   "outputs": [
    {
     "data": {
      "text/plain": [
       "6433"
      ]
     },
     "execution_count": 26,
     "metadata": {},
     "output_type": "execute_result"
    }
   ],
   "source": [
    "#统计处理后的工作经验样本数\n",
    "df_experience.value_counts().sum()"
   ]
  },
  {
   "cell_type": "code",
   "execution_count": 27,
   "metadata": {},
   "outputs": [
    {
     "data": {
      "image/png": "[encoded data removed]",
      "text/plain": [
       "<matplotlib.figure.Figure at 0x16b97a632e8>"
      ]
     },
     "metadata": {},
     "output_type": "display_data"
    }
   ],
   "source": [
    "#-*-数据可视化-*-\n",
    "matplotlib.style.use('ggplot')\n",
    "fig2 = plt.figure(2,facecolor = 'white',figsize=((8,6)))\n",
    "ax2_1 = fig2.add_subplot(2,1,1)\n",
    "plt.tick_params(colors='black')\n",
    "df_experience.value_counts().plot(kind = 'bar',rot = 0,color='#7EC0EE',width=0.3)\n",
    "title = plt.title('工作经验—职位数分布图',fontsize =12,color = 'black')\n",
    "xlabel = plt.xlabel('工作经验',fontsize =10,color = 'black')\n",
    "ylabel = plt.ylabel('职位数量',fontsize =10,color = 'black')\n",
    "#设置说明，位置在图的右上角\n",
    "text1=ax2_1.text(4.5,2200,'工作经验样本数:6433(个)',fontsize=10,color='black')\n",
    "plt.grid(True)\n",
    "ax2_2 = fig2.add_subplot(2,1,2)\n",
    "x2 = df_experience.value_counts().values\n",
    "labels = list(df_experience.value_counts().index[:5])+['']*2\n",
    "explode = tuple([0.1,0.1,0.1,0.1,0.1,0.08,0.08])\n",
    "colors='#FF8247','#ADD8E6','#FF3030','#7FFF00','#C67171'\n",
    "#参数autopct='%1.1f%%'来显示饼图中每一块的比例\n",
    "plt.pie(x2,explode=explode,labels=labels,autopct='%1.1f%%',colors=colors,textprops={'color':'black'},startangle=180)\n",
    "#显示为等比例圆形\n",
    "plt.axis('equal')\n",
    "#设置图例，方位为右下角\n",
    "legend = ax2_2.legend(loc='lower right',shadow=False,fontsize=8)\n",
    "#更改图例背景颜色\n",
    "frame=legend.get_frame()\n",
    "frame.set_facecolor('gray')\n",
    "#布局自动调整\n",
    "fig2.tight_layout()\n",
    "plt.show()"
   ]
  },
  {
   "cell_type": "code",
   "execution_count": 28,
   "metadata": {},
   "outputs": [
    {
     "data": {
      "text/plain": [
       "0.60609357997823721"
      ]
     },
     "execution_count": 28,
     "metadata": {},
     "output_type": "execute_result"
    }
   ],
   "source": [
    "#上图对工作经验的要求，'不限'+'无经验'+'1年以下'+'1-3年'占比超过60%，说明企业对机器学习岗位相关工作经验不是很丰富的求职者提供了一些工作机会\n",
    "d=df_experience.value_counts()\n",
    "(d['不限']+d['无经验']+d['1年以下']+d['1-3年'])/d.sum()"
   ]
  },
  {
   "cell_type": "code",
   "execution_count": 29,
   "metadata": {
    "collapsed": true
   },
   "outputs": [],
   "source": [
    "#新增1列df_experience到数据表中\n",
    "df['df_experience']=df_experience"
   ]
  },
  {
   "cell_type": "code",
   "execution_count": 30,
   "metadata": {},
   "outputs": [
    {
     "data": {
      "text/plain": [
       "面议         590\n",
       "12500.5    575\n",
       "17500.5    500\n",
       "25000.5    431\n",
       "15000.0    429\n",
       "22500.0    388\n",
       "30000.0    290\n",
       "20000.0    289\n",
       "40000.5    267\n",
       "9000.5     227\n",
       "5000.5     202\n",
       "7000.5     190\n",
       "11500.0    177\n",
       "无内容        122\n",
       "9000.0     113\n",
       "3000.5     106\n",
       "12000.0    101\n",
       "37500.0     91\n",
       "27500.0     80\n",
       "12500.0     71\n",
       "7500.0      64\n",
       "10000.0     62\n",
       "8000.0      61\n",
       "25000.0     60\n",
       "6000.0      55\n",
       "16000.0     52\n",
       "10500.0     49\n",
       "17500.0     49\n",
       "18000.0     46\n",
       "32500.0     42\n",
       "          ... \n",
       "2750.0       1\n",
       "29000.0      1\n",
       "12499.5      1\n",
       "35500.0      1\n",
       "3600.0       1\n",
       "5650.0       1\n",
       "11750.0      1\n",
       "43500.0      1\n",
       "4750.0       1\n",
       "20000.5      1\n",
       "46000.0      1\n",
       "30500.0      1\n",
       "76500.0      1\n",
       "9999.0       1\n",
       "10750.0      1\n",
       "23333.5      1\n",
       "45000.5      1\n",
       "26250.0      1\n",
       "53000.0      1\n",
       "4600.0       1\n",
       "9750.0       1\n",
       "22498.5      1\n",
       "8250.0       1\n",
       "11999.5      1\n",
       "6750.0       1\n",
       "8999.5       1\n",
       "37499.5      1\n",
       "36000.0      1\n",
       "17150.0      1\n",
       "70000.0      1\n",
       "Name: average, Length: 135, dtype: int64"
      ]
     },
     "execution_count": 30,
     "metadata": {},
     "output_type": "execute_result"
    }
   ],
   "source": [
    "#3.工作经验对于收入的影响情况分析\n",
    "#统计数据表中平均月薪列的个数\n",
    "df.average.value_counts()"
   ]
  },
  {
   "cell_type": "code",
   "execution_count": 31,
   "metadata": {
    "collapsed": true
   },
   "outputs": [],
   "source": [
    "#把平均月薪列中显示\"面议\"与\"无内容\"的项替换成空值\n",
    "df_average = df['average'].replace(['面议','无内容'],np.nan)"
   ]
  },
  {
   "cell_type": "code",
   "execution_count": 32,
   "metadata": {
    "collapsed": true
   },
   "outputs": [],
   "source": [
    "#按工作经验与平均月薪列组成新的数据表df_exp_ave，得到不同工作经验字段下的平均月薪，\n",
    "df_exp_ave=pd.DataFrame(data={'工作经验':df['df_experience'],'平均月薪':df_average})"
   ]
  },
  {
   "cell_type": "code",
   "execution_count": 33,
   "metadata": {},
   "outputs": [
    {
     "name": "stdout",
     "output_type": "stream",
     "text": [
      "<class 'pandas.core.frame.DataFrame'>\n",
      "Int64Index: 6555 entries, 16122 to 22896\n",
      "Data columns (total 2 columns):\n",
      "工作经验    6433 non-null object\n",
      "平均月薪    5843 non-null object\n",
      "dtypes: object(2)\n",
      "memory usage: 153.6+ KB\n"
     ]
    }
   ],
   "source": [
    "#查看数据表df_exp_ave相关信息\n",
    "df_exp_ave.info()"
   ]
  },
  {
   "cell_type": "code",
   "execution_count": 34,
   "metadata": {},
   "outputs": [],
   "source": [
    "#将数据表df中平均月薪列的类型由object类型转换成float类型\n",
    "import re\n",
    "pattern = re.compile('([0-9]+)')\n",
    "#存放转换后的平均月薪数据\n",
    "listi = []\n",
    "for i in range(len(df.average)):\n",
    "    item = df.average.iloc[i].strip()\n",
    "    result = re.findall(pattern,item)\n",
    "    try:\n",
    "        if result:\n",
    "            listi.append(float(result[0]))\n",
    "        elif (item.strip()=='无内容' or item.strip()=='面议'):\n",
    "            listi.append(np.nan)\n",
    "        else:\n",
    "            print(item)\n",
    "    except Exception as e:\n",
    "        print(item,type(item),repr(e))"
   ]
  },
  {
   "cell_type": "code",
   "execution_count": 35,
   "metadata": {
    "collapsed": true
   },
   "outputs": [],
   "source": [
    "#更新当前数据表df_exp_ave与数据表df中的平均月薪列\n",
    "df_exp_ave['平均月薪'] = listi\n",
    "df['df_average'] = df_exp_ave['平均月薪']"
   ]
  },
  {
   "cell_type": "code",
   "execution_count": 36,
   "metadata": {},
   "outputs": [
    {
     "data": {
      "text/plain": [
       "12500.0    646\n",
       "17500.0    549\n",
       "25000.0    491\n",
       "15000.0    429\n",
       "22500.0    390\n",
       "9000.0     340\n",
       "40000.0    297\n",
       "30000.0    290\n",
       "20000.0    290\n",
       "5000.0     211\n",
       "7000.0     207\n",
       "11500.0    177\n",
       "3000.0     109\n",
       "12000.0    101\n",
       "37500.0     91\n",
       "27500.0     80\n",
       "7500.0      64\n",
       "10000.0     62\n",
       "8000.0      61\n",
       "6000.0      55\n",
       "16000.0     52\n",
       "10500.0     49\n",
       "18000.0     46\n",
       "60000.0     44\n",
       "32500.0     42\n",
       "14000.0     41\n",
       "45000.0     38\n",
       "24000.0     34\n",
       "6500.0      33\n",
       "13500.0     32\n",
       "          ... \n",
       "46000.0      1\n",
       "8250.0       1\n",
       "3850.0       1\n",
       "4600.0       1\n",
       "9750.0       1\n",
       "76500.0      1\n",
       "22498.0      1\n",
       "26250.0      1\n",
       "11750.0      1\n",
       "2750.0       1\n",
       "43500.0      1\n",
       "9999.0       1\n",
       "23333.0      1\n",
       "29000.0      1\n",
       "37499.0      1\n",
       "44000.0      1\n",
       "8999.0       1\n",
       "4750.0       1\n",
       "3600.0       1\n",
       "2600.0       1\n",
       "2000.0       1\n",
       "53000.0      1\n",
       "30500.0      1\n",
       "70000.0      1\n",
       "5650.0       1\n",
       "36000.0      1\n",
       "10750.0      1\n",
       "12499.0      1\n",
       "6750.0       1\n",
       "17150.0      1\n",
       "Name: 平均月薪, Length: 121, dtype: int64"
      ]
     },
     "execution_count": 36,
     "metadata": {},
     "output_type": "execute_result"
    }
   ],
   "source": [
    "#统计每个平均月薪字段的个数\n",
    "df_exp_ave['平均月薪'].value_counts()"
   ]
  },
  {
   "cell_type": "code",
   "execution_count": 37,
   "metadata": {},
   "outputs": [
    {
     "data": {
      "text/plain": [
       "5843"
      ]
     },
     "execution_count": 37,
     "metadata": {},
     "output_type": "execute_result"
    }
   ],
   "source": [
    "#查看数据表df_exp_ave中平均月薪样本总数\n",
    "df_exp_ave['平均月薪'].value_counts().sum()"
   ]
  },
  {
   "cell_type": "code",
   "execution_count": 38,
   "metadata": {},
   "outputs": [
    {
     "data": {
      "text/plain": [
       "18786.41485538251"
      ]
     },
     "execution_count": 38,
     "metadata": {},
     "output_type": "execute_result"
    }
   ],
   "source": [
    "#查看数据表df_exp_ave中平均月薪样本总数平均值\n",
    "df_exp_ave['平均月薪'].mean()"
   ]
  },
  {
   "cell_type": "code",
   "execution_count": 39,
   "metadata": {
    "collapsed": true
   },
   "outputs": [],
   "source": [
    "#针对平均月薪列按工作经验进行分组\n",
    "exp_ave_group = df_exp_ave['平均月薪'].groupby(df_exp_ave['工作经验'])"
   ]
  },
  {
   "cell_type": "code",
   "execution_count": 40,
   "metadata": {},
   "outputs": [
    {
     "data": {
      "text/plain": [
       "工作经验\n",
       "1-3年     16623.986230\n",
       "10年以上    52948.717949\n",
       "1年以下     11491.935484\n",
       "3-5年     21428.644168\n",
       "5-10年    28966.524691\n",
       "不限       15837.190824\n",
       "无经验       8012.096774\n",
       "Name: 平均月薪, dtype: float64"
      ]
     },
     "execution_count": 40,
     "metadata": {},
     "output_type": "execute_result"
    }
   ],
   "source": [
    "#查看分组后工作经验列中各个字段平均值\n",
    "exp_ave_group.mean()"
   ]
  },
  {
   "cell_type": "code",
   "execution_count": 41,
   "metadata": {},
   "outputs": [
    {
     "data": {
      "text/plain": [
       "10年以上    52948.7\n",
       "5-10年    28966.5\n",
       "3-5年     21428.6\n",
       "平均值      18786.4\n",
       "1-3年     16624.0\n",
       "不限       15837.2\n",
       "1年以下     11491.9\n",
       "无经验       8012.1\n",
       "dtype: float64"
      ]
     },
     "execution_count": 41,
     "metadata": {},
     "output_type": "execute_result"
    }
   ],
   "source": [
    "#新增一项数据表df_exp_ave['平均月薪']的平均值\n",
    "ave1 = pd.Series(data = {'平均值':df_exp_ave['平均月薪'].mean()})\n",
    "result1 = exp_ave_group.mean().append(ave1)\n",
    "#sort_values()方法可以对值进行排序，默认按照升序，round（1）表示小数点后保留1位小数。\n",
    "result1.sort_values(ascending=False).round(1)"
   ]
  },
  {
   "cell_type": "code",
   "execution_count": 42,
   "metadata": {},
   "outputs": [
    {
     "data": {
      "image/png": "[encoded data removed]",
      "text/plain": [
       "<matplotlib.figure.Figure at 0x16b985c97b8>"
      ]
     },
     "metadata": {},
     "output_type": "display_data"
    }
   ],
   "source": [
    "#-*-数据可视化-*-\n",
    "matplotlib.style.use('ggplot')\n",
    "fig3 = plt.figure(3,facecolor = 'white',figsize=((15,6)))\n",
    "ax3 = fig3.add_subplot(1,1,1)\n",
    "result1.sort_values(ascending=False).round(1).plot(kind='barh',rot=0,color='#7EC0EE')\n",
    "#设置标题、x轴、y轴的标签文本\n",
    "title = plt.title('工作经验—平均月薪分布图',fontsize = 12,color = 'black')\n",
    "xlabel= plt.xlabel('平均月薪',fontsize = 10,color = 'black')\n",
    "ylabel = plt.ylabel('工作经验',fontsize = 10,color = 'black')\n",
    "#添加值标签\n",
    "list1 = result1.sort_values(ascending=False).values\n",
    "for i in range(len(list1)):\n",
    "    ax3.text(list1[i],i,str(int(list1[i])),color='black')\n",
    "#设置标识箭头\n",
    "arrow = plt.annotate('机器学习平均月薪:18786元/月', xy=(18786,3.25), xytext=(21000,3.65),color='black',fontsize=12,arrowprops=dict(facecolor='black', shrink=0.05))\n",
    "#设置图例注释（5843来源：df_exp_ave[u'平均月薪'].value_counts().sum()）\n",
    "text= ax3.text(50000,7,'月薪样本数:5843(个)',fontsize=12, color='black')\n",
    "#设置轴刻度文字颜色为黑色\n",
    "plt.tick_params(colors='black')\n",
    "plt.show()"
   ]
  },
  {
   "cell_type": "code",
   "execution_count": 43,
   "metadata": {
    "collapsed": true
   },
   "outputs": [],
   "source": [
    "#上图进一步说明了在机器学习相关领域工作经验越多，平均月薪越高"
   ]
  },
  {
   "cell_type": "code",
   "execution_count": 44,
   "metadata": {
    "collapsed": true
   },
   "outputs": [],
   "source": [
    "#4.工作城市对于收入的影响情况分析\n",
    "#按'df_city'与'df_average'组成新的数据表df_city_ave\n",
    "df_city_ave=pd.DataFrame(data={'工作城市':df['df_city'],'平均月薪':df['df_average']})"
   ]
  },
  {
   "cell_type": "code",
   "execution_count": 45,
   "metadata": {},
   "outputs": [
    {
     "name": "stdout",
     "output_type": "stream",
     "text": [
      "<class 'pandas.core.frame.DataFrame'>\n",
      "Int64Index: 6555 entries, 16122 to 22896\n",
      "Data columns (total 2 columns):\n",
      "工作城市    6433 non-null object\n",
      "平均月薪    5843 non-null float64\n",
      "dtypes: float64(1), object(1)\n",
      "memory usage: 473.6+ KB\n"
     ]
    }
   ],
   "source": [
    "#查看数据表df_city_ave相关信息\n",
    "df_city_ave.info()"
   ]
  },
  {
   "cell_type": "code",
   "execution_count": 46,
   "metadata": {
    "collapsed": true
   },
   "outputs": [],
   "source": [
    "#针对平均月薪列按工作城市进行分组\n",
    "city_ave_group = df_city_ave['平均月薪'].groupby(df_city_ave['工作城市'])"
   ]
  },
  {
   "cell_type": "code",
   "execution_count": 47,
   "metadata": {},
   "outputs": [
    {
     "data": {
      "text/plain": [
       "工作城市\n",
       "上海      21053.473616\n",
       "佛山      12836.206897\n",
       "北京      23615.836865\n",
       "南京      14753.205128\n",
       "南宁      10578.125000\n",
       "南昌       8000.000000\n",
       "厦门      15652.941176\n",
       "合肥      12702.336449\n",
       "呼和浩特     7600.000000\n",
       "大连      14077.272727\n",
       "天津      11615.000000\n",
       "太原       6730.000000\n",
       "宁波      12576.923077\n",
       "广州      16233.035336\n",
       "成都      14901.328000\n",
       "无锡       9954.166667\n",
       "昆明      10125.000000\n",
       "杭州      19109.229730\n",
       "武汉      11939.567708\n",
       "济南      10432.882883\n",
       "海口       9000.000000\n",
       "深圳      19885.301852\n",
       "石家庄      8151.515152\n",
       "福州      15019.480519\n",
       "苏州      15172.764228\n",
       "西安      12322.784810\n",
       "贵阳      10206.896552\n",
       "郑州      13974.468085\n",
       "重庆      12172.727273\n",
       "长沙      12115.000000\n",
       "青岛      11000.000000\n",
       "Name: 平均月薪, dtype: float64"
      ]
     },
     "execution_count": 47,
     "metadata": {},
     "output_type": "execute_result"
    }
   ],
   "source": [
    "#查看对31个城市分组后，每个城市月薪的平均值\n",
    "city_ave_group.mean()"
   ]
  },
  {
   "cell_type": "code",
   "execution_count": 48,
   "metadata": {},
   "outputs": [
    {
     "data": {
      "text/plain": [
       "5843"
      ]
     },
     "execution_count": 48,
     "metadata": {},
     "output_type": "execute_result"
    }
   ],
   "source": [
    "#查看对31个城市分组后，筛选出的平均月薪样本数\n",
    "city_ave_group.count().sum()"
   ]
  },
  {
   "cell_type": "code",
   "execution_count": 49,
   "metadata": {},
   "outputs": [
    {
     "data": {
      "text/plain": [
       "北京      23615.8\n",
       "上海      21053.5\n",
       "深圳      19885.3\n",
       "杭州      19109.2\n",
       "平均值     18786.4\n",
       "广州      16233.0\n",
       "厦门      15652.9\n",
       "苏州      15172.8\n",
       "福州      15019.5\n",
       "成都      14901.3\n",
       "南京      14753.2\n",
       "大连      14077.3\n",
       "郑州      13974.5\n",
       "佛山      12836.2\n",
       "合肥      12702.3\n",
       "宁波      12576.9\n",
       "西安      12322.8\n",
       "重庆      12172.7\n",
       "长沙      12115.0\n",
       "武汉      11939.6\n",
       "天津      11615.0\n",
       "青岛      11000.0\n",
       "南宁      10578.1\n",
       "济南      10432.9\n",
       "贵阳      10206.9\n",
       "昆明      10125.0\n",
       "无锡       9954.2\n",
       "海口       9000.0\n",
       "石家庄      8151.5\n",
       "南昌       8000.0\n",
       "呼和浩特     7600.0\n",
       "太原       6730.0\n",
       "dtype: float64"
      ]
     },
     "execution_count": 49,
     "metadata": {},
     "output_type": "execute_result"
    }
   ],
   "source": [
    "#新增一个df_city_ave['平均月薪']的平均值\n",
    "ave2 = pd.Series(data = {'平均值':df_city_ave['平均月薪'].mean()})\n",
    "result2 = city_ave_group.mean().append(ave2)\n",
    "#对平均月薪值进行降序排列\n",
    "result2.sort_values(ascending=False).round(1)"
   ]
  },
  {
   "cell_type": "code",
   "execution_count": 50,
   "metadata": {},
   "outputs": [
    {
     "data": {
      "image/png": "[encoded data removed]",
      "text/plain": [
       "<matplotlib.figure.Figure at 0x16b985c94e0>"
      ]
     },
     "metadata": {},
     "output_type": "display_data"
    }
   ],
   "source": [
    "#-*-数据可视化-*-\n",
    "matplotlib.style.use('ggplot')\n",
    "fig4 = plt.figure(4,facecolor = 'white',figsize=((17,8)))\n",
    "ax4 = fig4.add_subplot(1,1,1)\n",
    "result2.sort_values(ascending=False).round(1).plot(kind='bar',rot=0.2,color='#7EC0EE')\n",
    "#设置图标题，x和y轴标题\n",
    "title = plt.title('城市—平均月薪分布图',fontsize=15,color='black')\n",
    "xlabel = plt.xlabel('城市',fontsize=14,color='black')\n",
    "ylabel = plt.ylabel('平均月薪',fontsize=14,color='black')\n",
    "#设置说明，位置在图的右上角\n",
    "text1 = ax4.text(25,24000,'城市总数:31(个)',fontsize=14, color='black')\n",
    "text2 = ax4.text(25,22800,'平均月薪样本数:5843(个)',fontsize=14, color='black')\n",
    "#添加每一个城市的坐标值\n",
    "list2 = result2.sort_values(ascending=False).values\n",
    "for i in range(len(list2)):\n",
    "    ax4.text(i-0.5,list2[i],int(list2[i]),color='black')\n",
    "#设置箭头注释\n",
    "arrow = plt.annotate('全国月薪平均值:18786元/月', xy=(4.5,18786), xytext=(7,20000),color='black',fontsize=14,arrowprops=dict(facecolor='black', shrink=0.05))\n",
    "plt.tick_params(colors='black')\n",
    "plt.show()"
   ]
  },
  {
   "cell_type": "code",
   "execution_count": 51,
   "metadata": {
    "collapsed": true
   },
   "outputs": [],
   "source": [
    "#上图说明北上深杭这4个城市机器学习相关领域的平均月薪高于全国平均月薪"
   ]
  },
  {
   "cell_type": "code",
   "execution_count": 52,
   "metadata": {},
   "outputs": [
    {
     "data": {
      "text/plain": [
       "本科     3830\n",
       "硕士     1184\n",
       "不限      713\n",
       "大专      514\n",
       "无内容     122\n",
       "博士      105\n",
       "中专       16\n",
       "中技        8\n",
       "初中        2\n",
       "其他        1\n",
       "Name: 最低学历, dtype: int64"
      ]
     },
     "execution_count": 52,
     "metadata": {},
     "output_type": "execute_result"
    }
   ],
   "source": [
    "#5.招聘数量与学历的关联情况分析\n",
    "#统计数据表'最低学历'的职位数\n",
    "df['最低学历'].value_counts()"
   ]
  },
  {
   "cell_type": "code",
   "execution_count": 53,
   "metadata": {
    "collapsed": true
   },
   "outputs": [],
   "source": [
    "#处理干扰数据\n",
    "df_degree=df['最低学历'].replace(['无内容','中专','中技','初中','其他'],np.nan)"
   ]
  },
  {
   "cell_type": "code",
   "execution_count": 54,
   "metadata": {},
   "outputs": [
    {
     "data": {
      "text/plain": [
       "本科    3830\n",
       "硕士    1184\n",
       "不限     713\n",
       "大专     514\n",
       "博士     105\n",
       "Name: 最低学历, dtype: int64"
      ]
     },
     "execution_count": 54,
     "metadata": {},
     "output_type": "execute_result"
    }
   ],
   "source": [
    "#查看处理后的信息\n",
    "df_degree.value_counts()"
   ]
  },
  {
   "cell_type": "code",
   "execution_count": 55,
   "metadata": {},
   "outputs": [
    {
     "data": {
      "text/plain": [
       "6346"
      ]
     },
     "execution_count": 55,
     "metadata": {},
     "output_type": "execute_result"
    }
   ],
   "source": [
    "#统计处理后的职位样本数\n",
    "df_degree.value_counts().sum()"
   ]
  },
  {
   "cell_type": "code",
   "execution_count": 56,
   "metadata": {
    "collapsed": true
   },
   "outputs": [],
   "source": [
    "#新增1列'df_degree'到数据表中\n",
    "df['df_degree']=df_degree"
   ]
  },
  {
   "cell_type": "code",
   "execution_count": 57,
   "metadata": {},
   "outputs": [
    {
     "data": {
      "image/png": "[encoded data removed]",
      "text/plain": [
       "<matplotlib.figure.Figure at 0x16b98441860>"
      ]
     },
     "metadata": {},
     "output_type": "display_data"
    }
   ],
   "source": [
    "#-*-数据可视化-*-\n",
    "matplotlib.style.use('ggplot')\n",
    "fig5 = plt.figure(5,facecolor = 'white',figsize=((8,8)))\n",
    "ax5_1 = fig5.add_subplot(2,1,1)\n",
    "df_degree.value_counts().plot(kind = 'bar',rot=0,width=0.3,color='#7EC0EE')\n",
    "#设置标题、x轴和y轴标题、图例文字\n",
    "title = plt.title('最低学历—职位数分布图',fontsize = 12,color = 'black')\n",
    "xlabel = plt.xlabel('最低学历',fontsize = 10,color = 'black')\n",
    "ylabel = plt.ylabel('职位数量',fontsize = 10,color = 'black')\n",
    "text1 = ax5_1.text(3.5,3600,'职位样本数:6346(个)',fontsize=10, color='black')\n",
    "#设置坐标轴的的颜色和文字大小\n",
    "plt.tick_params(colors='black',labelsize=8)\n",
    "#设置坐标值文字\n",
    "list5 = df_degree.value_counts().values\n",
    "for i in range(len(list5)):\n",
    "    ax5_1.text(i-0.1,list5[i],int(list5[i]),color='black')\n",
    "ax5_2=fig5.add_subplot(2,1,2)\n",
    "xl = df_degree.value_counts().values\n",
    "labels = list(df_degree.value_counts().index)\n",
    "explode = tuple([0.1,0,0,0,0])\n",
    "colors='#FF8247','#ADD8E6','#FF3030','#7FFF00','#C67171'\n",
    "plt.pie(xl,explode=explode,labels=labels,colors=colors,autopct='%1.1f%%',textprops={'color':'black'},startangle=90)\n",
    "plt.axis('equal')\n",
    "legend = ax5_2.legend(loc='lower right',shadow=False,fontsize=7)\n",
    "frame=legend.get_frame()\n",
    "frame.set_facecolor('gray')\n",
    "plt.tick_params(colors='black',labelsize=13)\n",
    "fig5.tight_layout()\n",
    "plt.show()"
   ]
  },
  {
   "cell_type": "code",
   "execution_count": 58,
   "metadata": {
    "collapsed": true
   },
   "outputs": [],
   "source": [
    "#上图显示企业对最低学历为本科的求职者需求量最大，占比超过60%"
   ]
  },
  {
   "cell_type": "code",
   "execution_count": 59,
   "metadata": {
    "collapsed": true
   },
   "outputs": [],
   "source": [
    "#6.学历对于收入的影响情况分析\n",
    "#按'df_degree'与'df_average'组成新的数据表df_deg_ave\n",
    "df_deg_ave=pd.DataFrame(data={'最低学历':df['df_degree'],'平均月薪':df['df_average']})"
   ]
  },
  {
   "cell_type": "code",
   "execution_count": 60,
   "metadata": {},
   "outputs": [
    {
     "name": "stdout",
     "output_type": "stream",
     "text": [
      "<class 'pandas.core.frame.DataFrame'>\n",
      "Int64Index: 6555 entries, 16122 to 22896\n",
      "Data columns (total 2 columns):\n",
      "平均月薪    5843 non-null float64\n",
      "最低学历    6346 non-null object\n",
      "dtypes: float64(1), object(1)\n",
      "memory usage: 473.6+ KB\n"
     ]
    }
   ],
   "source": [
    "#查看新数据表df_deg_ave相关信息\n",
    "df_deg_ave.info()"
   ]
  },
  {
   "cell_type": "code",
   "execution_count": 61,
   "metadata": {},
   "outputs": [
    {
     "data": {
      "text/plain": [
       "最低学历\n",
       "不限    16724.181548\n",
       "博士    26740.737374\n",
       "大专    11719.466403\n",
       "本科    19211.439685\n",
       "硕士    21509.836184\n",
       "Name: 平均月薪, dtype: float64"
      ]
     },
     "execution_count": 61,
     "metadata": {},
     "output_type": "execute_result"
    }
   ],
   "source": [
    "#按'最低学历'对'平均月薪'进行分组，并计算分组后的均值\n",
    "deg_ave_group = df_deg_ave['平均月薪'].groupby(df_deg_ave['最低学历'])\n",
    "deg_ave_group.mean()"
   ]
  },
  {
   "cell_type": "code",
   "execution_count": 62,
   "metadata": {},
   "outputs": [
    {
     "data": {
      "text/plain": [
       "5820"
      ]
     },
     "execution_count": 62,
     "metadata": {},
     "output_type": "execute_result"
    }
   ],
   "source": [
    "#统计新数据表月薪样本数\n",
    "deg_ave_group.count().sum()"
   ]
  },
  {
   "cell_type": "code",
   "execution_count": 63,
   "metadata": {},
   "outputs": [
    {
     "data": {
      "image/png": "[encoded data removed]",
      "text/plain": [
       "<matplotlib.figure.Figure at 0x16b983e4ef0>"
      ]
     },
     "metadata": {},
     "output_type": "display_data"
    }
   ],
   "source": [
    "#-*-数据可视化-*-\n",
    "matplotlib.style.use('ggplot')\n",
    "fig6 = plt.figure(6,facecolor = 'white',figsize=((8,4)))\n",
    "ax6 = fig6.add_subplot(1,1,1)\n",
    "#在条形图上叠加一个折线图\n",
    "deg_ave_group.mean().round(1).sort_values().plot(color = '#EE5C42')\n",
    "deg_ave_group.mean().round(1).sort_values().plot(kind='bar',rot=0,width=0.3,color='#7EC0EE')\n",
    "#设置标题、x轴、y轴的标签文本\n",
    "title = plt.title('最低学历—平均月薪分布图',fontsize = 14,color = 'black')\n",
    "xlabel= plt.xlabel('最低学历',fontsize = 12,color = 'black')\n",
    "ylabel = plt.ylabel('平均月薪',fontsize = 12,color = 'black')\n",
    "#添加值标签\n",
    "list6 = deg_ave_group.mean().round(1).sort_values().values\n",
    "for i in range(len(list6)):\n",
    "    ax6.text(i-0.1,list6[i],int(list6[i]),color='black')\n",
    "#设置图例注释\n",
    "text= ax6.text(-0.3,27000,'月薪样本数:5820(个)',fontsize=12, color='black')\n",
    "#设置轴刻度的文字颜色\n",
    "plt.tick_params(colors='black')\n",
    "plt.show()"
   ]
  },
  {
   "cell_type": "code",
   "execution_count": 64,
   "metadata": {
    "collapsed": true
   },
   "outputs": [],
   "source": [
    "#上图进一步说明学历越高，平均月薪越高"
   ]
  },
  {
   "cell_type": "code",
   "execution_count": 65,
   "metadata": {
    "collapsed": true
   },
   "outputs": [],
   "source": [
    "#7.学历与工作经验对于收入的影响情况分析\n",
    "#按'df_degree'、'df_experience'与'df_average'组成新的数据表df_deg_exp_ave\n",
    "df_deg_exp_ave = pd.DataFrame(data = {'平均月薪':df['df_average'],'最低学历':df['df_degree'],'工作经验':df['df_experience']})"
   ]
  },
  {
   "cell_type": "code",
   "execution_count": 66,
   "metadata": {},
   "outputs": [
    {
     "name": "stdout",
     "output_type": "stream",
     "text": [
      "<class 'pandas.core.frame.DataFrame'>\n",
      "Int64Index: 6555 entries, 16122 to 22896\n",
      "Data columns (total 3 columns):\n",
      "工作经验    6433 non-null object\n",
      "平均月薪    5843 non-null float64\n",
      "最低学历    6346 non-null object\n",
      "dtypes: float64(1), object(2)\n",
      "memory usage: 524.8+ KB\n"
     ]
    }
   ],
   "source": [
    "#查看数据表df_deg_exp_ave信息\n",
    "df_deg_exp_ave.info()"
   ]
  },
  {
   "cell_type": "code",
   "execution_count": 67,
   "metadata": {},
   "outputs": [],
   "source": [
    "#按'最低学历'与'工作经验'的组合对'平均月薪'进行分组\n",
    "deg_exp_ave_group = df_deg_exp_ave['平均月薪'].groupby([df_deg_exp_ave['最低学历'],df_deg_exp_ave['工作经验']])"
   ]
  },
  {
   "cell_type": "code",
   "execution_count": 68,
   "metadata": {},
   "outputs": [
    {
     "data": {
      "text/plain": [
       "最低学历  工作经验 \n",
       "不限    1-3年     14070.8\n",
       "      1年以下      5000.0\n",
       "      3-5年     17900.0\n",
       "      5-10年    29733.3\n",
       "      不限       16569.4\n",
       "      无经验      15406.2\n",
       "博士    1-3年     23733.3\n",
       "      10年以上    32500.0\n",
       "      1年以下     21250.0\n",
       "      3-5年     35750.0\n",
       "      5-10年    50000.0\n",
       "      不限       25005.8\n",
       "      无经验       5900.0\n",
       "大专    1-3年     10981.2\n",
       "      10年以上    25000.0\n",
       "      1年以下      6794.1\n",
       "      3-5年     15654.1\n",
       "      5-10年    29386.4\n",
       "      不限        7710.7\n",
       "      无经验       4388.9\n",
       "本科    1-3年     16285.0\n",
       "      10年以上    52685.2\n",
       "      1年以下      8900.0\n",
       "      3-5年     21164.7\n",
       "      5-10年    27362.8\n",
       "      不限       15800.0\n",
       "      无经验       6978.1\n",
       "硕士    1-3年     20679.7\n",
       "      10年以上    61388.9\n",
       "      1年以下     15884.6\n",
       "      3-5年     26026.2\n",
       "      5-10年    34071.4\n",
       "      不限       17386.8\n",
       "      无经验       9107.1\n",
       "Name: 平均月薪, dtype: float64"
      ]
     },
     "execution_count": 68,
     "metadata": {},
     "output_type": "execute_result"
    }
   ],
   "source": [
    "#统计分组后的均值\n",
    "deg_exp_ave_group.mean().round(1)"
   ]
  },
  {
   "cell_type": "code",
   "execution_count": 69,
   "metadata": {},
   "outputs": [
    {
     "data": {
      "text/plain": [
       "最低学历  工作经验 \n",
       "不限    1-3年       53\n",
       "      1年以下        1\n",
       "      3-5年       45\n",
       "      5-10年      15\n",
       "      不限        550\n",
       "      无经验         8\n",
       "博士    1-3年       15\n",
       "      10年以上       2\n",
       "      1年以下        2\n",
       "      3-5年       12\n",
       "      5-10年       6\n",
       "      不限         57\n",
       "      无经验         5\n",
       "大专    1-3年      160\n",
       "      10年以上       1\n",
       "      1年以下       17\n",
       "      3-5年      133\n",
       "      5-10年      22\n",
       "      不限        164\n",
       "      无经验         9\n",
       "本科    1-3年      985\n",
       "      10年以上      27\n",
       "      1年以下       15\n",
       "      3-5年     1247\n",
       "      5-10年     359\n",
       "      不限        742\n",
       "      无经验        57\n",
       "硕士    1-3年      312\n",
       "      10年以上       9\n",
       "      1年以下       26\n",
       "      3-5年      248\n",
       "      5-10年      84\n",
       "      不限        390\n",
       "      无经验        42\n",
       "Name: 平均月薪, dtype: int64"
      ]
     },
     "execution_count": 69,
     "metadata": {},
     "output_type": "execute_result"
    }
   ],
   "source": [
    "#统计不同学历下不同工作经验的职位数\n",
    "deg_exp_ave_group.count()"
   ]
  },
  {
   "cell_type": "code",
   "execution_count": 70,
   "metadata": {},
   "outputs": [
    {
     "data": {
      "text/plain": [
       "5820"
      ]
     },
     "execution_count": 70,
     "metadata": {},
     "output_type": "execute_result"
    }
   ],
   "source": [
    "#统计分组后的职位样本数\n",
    "deg_exp_ave_group.count().sum()"
   ]
  },
  {
   "cell_type": "code",
   "execution_count": 71,
   "metadata": {},
   "outputs": [
    {
     "data": {
      "text/plain": [
       "最低学历\n",
       "不限    14070.8\n",
       "博士    23733.3\n",
       "大专    10981.2\n",
       "本科    16285.0\n",
       "硕士    20679.7\n",
       "Name: 平均月薪, dtype: float64"
      ]
     },
     "execution_count": 71,
     "metadata": {},
     "output_type": "execute_result"
    }
   ],
   "source": [
    "#使用层次化索引对分组后的数据进行检索\n",
    "deg_exp_ave_group.mean().round(1)[:,'1-3年']"
   ]
  },
  {
   "cell_type": "code",
   "execution_count": 72,
   "metadata": {},
   "outputs": [
    {
     "data": {
      "text/plain": [
       "最低学历\n",
       "大专    10981.2\n",
       "不限    14070.8\n",
       "本科    16285.0\n",
       "硕士    20679.7\n",
       "博士    23733.3\n",
       "Name: 平均月薪, dtype: float64"
      ]
     },
     "execution_count": 72,
     "metadata": {},
     "output_type": "execute_result"
    }
   ],
   "source": [
    "#对检索出来的数据进行排序\n",
    "deg_exp_ave_group.mean().round(1)[:,'1-3年'].sort_values()"
   ]
  },
  {
   "cell_type": "code",
   "execution_count": 73,
   "metadata": {
    "collapsed": true
   },
   "outputs": [],
   "source": [
    "#获得检索数据的索引\n",
    "xlist = list(deg_exp_ave_group.mean().round(1)[:,'1-3年'].sort_values().index)"
   ]
  },
  {
   "cell_type": "code",
   "execution_count": 74,
   "metadata": {},
   "outputs": [
    {
     "data": {
      "text/plain": [
       "最低学历\n",
       "大专    10981.2\n",
       "不限    14070.8\n",
       "本科    16285.0\n",
       "硕士    20679.7\n",
       "博士    23733.3\n",
       "Name: 平均月薪, dtype: float64"
      ]
     },
     "execution_count": 74,
     "metadata": {},
     "output_type": "execute_result"
    }
   ],
   "source": [
    "#对检索数据进行重新排序索引\n",
    "deg_exp_ave_group.mean().round(1)[:,'1-3年'].reindex(xlist)"
   ]
  },
  {
   "cell_type": "code",
   "execution_count": 75,
   "metadata": {},
   "outputs": [
    {
     "data": {
      "text/plain": [
       "array([  4388.9,  15406.2,   6978.1,   9107.1,   5900. ])"
      ]
     },
     "execution_count": 75,
     "metadata": {},
     "output_type": "execute_result"
    }
   ],
   "source": [
    "#获得重新排序索引后的平均月薪值\n",
    "deg_exp_ave_group.mean().round(1)[:,'无经验'].reindex(xlist).values"
   ]
  },
  {
   "cell_type": "code",
   "execution_count": 76,
   "metadata": {},
   "outputs": [
    {
     "data": {
      "image/png": "[encoded data removed]",
      "text/plain": [
       "<matplotlib.figure.Figure at 0x16b9897c2e8>"
      ]
     },
     "metadata": {},
     "output_type": "display_data"
    }
   ],
   "source": [
    "#-*-数据可视化-*-\n",
    "matplotlib.style.use('ggplot')\n",
    "fig7 = plt.figure(7,facecolor = 'white',figsize=((10,6)))\n",
    "ax7 = fig7.add_subplot(1,1,1)\n",
    "title = plt.title('最低学历-工作经验-平均月薪分布图',fontsize = 14,color = 'black')\n",
    "xlabel = plt.xlabel('最低学历',fontsize = 10,color = 'black')\n",
    "ylabel = plt.ylabel('平均月薪',fontsize = 10,color = 'black')\n",
    "#img1~img7分别表示7种柱状图\n",
    "#ind为x轴宽度，用numpy的array形式表示\n",
    "ind = np.arange(5)\n",
    "#ylist1~7分别是7种柱状图的Y值列表\n",
    "ylist1 = deg_exp_ave_group.mean().round(1)[:,'无经验'].reindex(xlist).values\n",
    "ylist2 = deg_exp_ave_group.mean().round(1)[:,'1年以下'].reindex(xlist).values\n",
    "ylist3 = deg_exp_ave_group.mean().round(1)[:,'不限'].reindex(xlist).values\n",
    "ylist4 = deg_exp_ave_group.mean().round(1)[:,'1-3年'].reindex(xlist).values\n",
    "ylist5 = deg_exp_ave_group.mean().round(1)[:,'3-5年'].reindex(xlist).values\n",
    "ylist6 = deg_exp_ave_group.mean().round(1)[:,'5-10年'].reindex(xlist).values\n",
    "ylist7 = deg_exp_ave_group.mean().round(1)[:,'10年以上'].reindex(xlist).values\n",
    "#柱状图的宽度\n",
    "width = 0.1\n",
    "img1 = ax7.bar(ind,ylist1,width)\n",
    "img2 = ax7.bar(ind+width,ylist2,width,color='#9F79EE')\n",
    "img3 = ax7.bar(ind+width*2,ylist3,width,color='#BFEFFF')\n",
    "img4 = ax7.bar(ind+width*3,ylist4,width,color='#FA8072')\n",
    "img5 = ax7.bar(ind+width*4,ylist5,width,color='#87CEEB')\n",
    "img6 = ax7.bar(ind+width*5,ylist6,width,color='#CD3700')\n",
    "img7 = ax7.bar(ind+width*6,ylist7,width,color='#ADFF2F')\n",
    "#设置X轴文本和位置调整\n",
    "ax7.set_xticklabels(xlist)\n",
    "ax7.set_xticks(ind + width / 2)\n",
    "#设置文字说明\n",
    "text1 = ax7.text(4.05,67000,'职位样本数:5820(个)',fontsize=10, color='black')\n",
    "#设置图例\n",
    "legend=ax7.legend((img1[0],img2[0],img3[0],img4[0],img5[0],img6[0],img7[0]), ('无经验','1年以下','不限','1-3年','3-5年','5-10年','10年以上'),fontsize=9,loc='best',shadow=False)\n",
    "#设置图例背景色\n",
    "frame = legend.get_frame()\n",
    "frame.set_facecolor('gray')\n",
    "#设置栅格\n",
    "plt.grid(True)\n",
    "plt.tick_params(colors='black',labelsize=10)\n",
    "plt.show()"
   ]
  },
  {
   "cell_type": "code",
   "execution_count": 77,
   "metadata": {
    "collapsed": true
   },
   "outputs": [],
   "source": [
    "#上图显示与机器学习相关岗位平均月薪最高的3个组合分别为:[硕士+工作经验10年以上]、[本科+工作经验10年以上]以及[博士+工作经验5-10年]"
   ]
  }
 ],
 "metadata": {
  "anaconda-cloud": {},
  "kernelspec": {
   "display_name": "Python 3",
   "language": "python",
   "name": "python3"
  },
  "language_info": {
   "codemirror_mode": {
    "name": "ipython",
    "version": 3
   },
   "file_extension": ".py",
   "mimetype": "text/x-python",
   "name": "python",
   "nbconvert_exporter": "python",
   "pygments_lexer": "ipython3",
   "version": "3.6.3"
  },
  "toc": {
   "base_numbering": 1,
   "nav_menu": {},
   "number_sections": true,
   "sideBar": true,
   "skip_h1_title": false,
   "title_cell": "Table of Contents",
   "title_sidebar": "Contents",
   "toc_cell": false,
   "toc_position": {},
   "toc_section_display": true,
   "toc_window_display": true
  }
 },
 "nbformat": 4,
 "nbformat_minor": 1
}
