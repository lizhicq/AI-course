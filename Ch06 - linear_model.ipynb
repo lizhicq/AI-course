{
  "nbformat": 4,
  "nbformat_minor": 0,
  "metadata": {
    "colab": {
      "name": "linear_model.ipynb",
      "version": "0.3.2",
      "provenance": [],
      "collapsed_sections": [],
      "toc_visible": true,
      "include_colab_link": true
    },
    "kernelspec": {
      "display_name": "Python 3",
      "language": "python",
      "name": "python3"
    }
  },
  "cells": [
    {
      "cell_type": "markdown",
      "metadata": {
        "id": "view-in-github",
        "colab_type": "text"
      },
      "source": [
        "<a href=\"https://colab.research.google.com/github/lizhicq/AI-course/blob/master/Ch06%20-%20linear_model.ipynb\" target=\"_parent\"><img src=\"https://colab.research.google.com/assets/colab-badge.svg\" alt=\"Open In Colab\"/></a>"
      ]
    },
    {
      "metadata": {
        "id": "RFqSA1sANfvn",
        "colab_type": "text"
      },
      "cell_type": "markdown",
      "source": [
        "# Mount Google Drive\n",
        "from google.colab import drive\n",
        "drive.mount('/content/drive')\n",
        "root = \"/content/drive/My Drive/Aache/MLCC/\""
      ]
    },
    {
      "metadata": {
        "id": "LnzkhVPGNbjD",
        "colab_type": "code",
        "colab": {}
      },
      "cell_type": "code",
      "source": [
        "import numpy as np \n",
        "import math \n",
        "from sklearn.metrics import mean_squared_error"
      ],
      "execution_count": 0,
      "outputs": []
    },
    {
      "metadata": {
        "id": "_iviKjJdNbjG",
        "colab_type": "text"
      },
      "cell_type": "markdown",
      "source": [
        "### 数据准备部分"
      ]
    },
    {
      "metadata": {
        "id": "zPWKCOL7NbjH",
        "colab_type": "code",
        "colab": {}
      },
      "cell_type": "code",
      "source": [
        "def shuffle_data(X,y,seed=None):\n",
        "    \"将X和y的数据进行随机排序/乱序化\"\n",
        "    if seed:\n",
        "        np.random.seed(seed)\n",
        "    idx=np.arange(X.shape[0])\n",
        "    print(type(idx))\n",
        "    np.random.shuffle(idx)\n",
        "    return X[idx],y[idx] #对于np.array，idx作为index数组可以改变array的顺序"
      ],
      "execution_count": 0,
      "outputs": []
    },
    {
      "metadata": {
        "id": "Jf2rkQefNbjK",
        "colab_type": "code",
        "outputId": "4dca6d05-bea7-4f55-d41a-9cc20cba64ad",
        "colab": {
          "base_uri": "https://localhost:8080/",
          "height": 34
        }
      },
      "cell_type": "code",
      "source": [
        "def train_test_split(X,y,test_size=0.5,shuffle=True,seed=None):\n",
        "    '将数据集根据test_size分成训练集和测试集，可以指定是否随机洗牌'\n",
        "    if shuffle:\n",
        "        X,y=shuffle_data(X,y,seed)\n",
        "    split_i=len(y)-int(len(y)//(1/test_size))\n",
        "    #split_i=len(y)-int(len(y)*test_size)\n",
        "    X_train,X_test=X[:split_i],X[split_i:]\n",
        "    y_train,y_test=y[:split_i],y[split_i:]\n",
        "    \n",
        "    return X_train,X_test,y_train,y_test\n",
        "\n",
        "from sklearn.datasets import make_regression\n",
        "import matplotlib.pylab as plt\n",
        "X,y=make_regression(n_samples=100,n_features=1,noise=20)\n",
        "X_train,X_test,y_train,y_test=train_test_split(X,y,test_size=0.2)"
      ],
      "execution_count": 72,
      "outputs": [
        {
          "output_type": "stream",
          "text": [
            "<class 'numpy.ndarray'>\n"
          ],
          "name": "stdout"
        }
      ]
    },
    {
      "metadata": {
        "id": "dcQ5cyieNbjV",
        "colab_type": "text"
      },
      "cell_type": "markdown",
      "source": [
        "因为使用make_regression函数使得X乱序，在绘制matplot的图像时会有问题，所以对于X进行排序"
      ]
    },
    {
      "metadata": {
        "id": "thwHkyorNbjW",
        "colab_type": "code",
        "colab": {}
      },
      "cell_type": "code",
      "source": [
        "s=sorted([(X_test[i][0],y_test[i]) for i in range(len(X_test))],key=lambda j:j[0])\n",
        "X_test=np.array([[j[0]] for j in s])\n",
        "y_test=np.array([j[1] for j in s])\n",
        "#y_test"
      ],
      "execution_count": 0,
      "outputs": []
    },
    {
      "metadata": {
        "id": "9popqtLuNbjg",
        "colab_type": "text"
      },
      "cell_type": "markdown",
      "source": [
        "# 线性回归"
      ]
    },
    {
      "metadata": {
        "id": "bqxsM0A8Nbjh",
        "colab_type": "code",
        "outputId": "21bffb75-8c8b-4b81-a60d-030cab716e5d",
        "colab": {
          "base_uri": "https://localhost:8080/",
          "height": 393
        }
      },
      "cell_type": "code",
      "source": [
        "class Regression(object):\n",
        "    \n",
        "    \"\"\"\n",
        "        基础线性回归模型，使用输入的X和y进行参数回归\n",
        "        超参：\n",
        "        n_iterations:int 训练的步数\n",
        "        learning_rate:float 学习率\n",
        "        内部函数:\n",
        "        initialize_weights:初始化参数\n",
        "        fit:开始训练\n",
        "        predict:预测\n",
        "        内部的数据:\n",
        "        n_iterations\n",
        "        learning_rate\n",
        "        regularization:正则化参数\n",
        "        regularization.grad:正则化的梯度函数\n",
        "    \"\"\"\n",
        "    \n",
        "    def __init__(self,n_iterations,learning_rate):\n",
        "        self.n_iterations=n_iterations\n",
        "        self.learning_rate=learning_rate\n",
        "        self.regularization=lambda x:0\n",
        "        self.regularization.grad=lambda x:0\n",
        "    \n",
        "    def initialize_weights(self,n_features):\n",
        "        \"\"\"初始化系数，输入是feature的个数，输出是一个随机初始化好的参数矩阵,[-1/sqrt(N),1/sqrt(N)]\"\"\"\n",
        "        limit=1/math.sqrt(n_features)\n",
        "        self.w=np.random.uniform(-limit,limit,(n_features,))\n",
        "    \n",
        "    def fit(self,X,y):\n",
        "        #插入偏置列1到X中\n",
        "        X=np.insert(X,0,1,axis=1)#给每一行的第0列增加一个1\n",
        "        self.training_errors=[]#保存每一次步长的训练Loss\n",
        "        self.initialize_weights(n_features=X.shape[1])#初始化参数w\n",
        "        \n",
        "        #进行梯度下降迭代\n",
        "        for i in range(self.n_iterations):\n",
        "            y_pred=X.dot(self.w)#进行预测\n",
        "            #计算Loss\n",
        "            mse=np.mean(0.5*(y-y_pred)**2+self.regularization(self.w))\n",
        "            self.training_errors.append(mse)#将Loss加入到training_errors的数组中\n",
        "            #计算带有正则化项的梯度\n",
        "            g_w=-(y-y_pred).T.dot(X)/len(X)+self.regularization.grad(self.w)\n",
        "            #根据梯度下降的算法更新参数\n",
        "            self.w-=self.learning_rate*g_w\n",
        "            \n",
        "    def predict(self,X):\n",
        "        #通过输入X预测一个样本\n",
        "        X=np.insert(X,0,1,axis=1)\n",
        "        pred=X.dot(self.w)\n",
        "        return pred\n",
        "    \n",
        "model=Regression(n_iterations=1000,learning_rate=0.01)\n",
        "model.fit(X_train,y_train)\n",
        "training,=plt.plot(range(len(model.training_errors)),model.training_errors,label=\"Training Error\")\n",
        "plt.title(\"Linear Regression Training Error\")\n",
        "plt.ylabel(\"Train-Loss\")\n",
        "plt.xlabel(\"Steps\")\n",
        "\n",
        "print(model.w)"
      ],
      "execution_count": 74,
      "outputs": [
        {
          "output_type": "stream",
          "text": [
            "[ 1.48866463 16.70663498]\n"
          ],
          "name": "stdout"
        },
        {
          "output_type": "display_data",
          "data": {
            "image/png": "[encoded data removed]",
            "text/plain": [
              "<Figure size 576x396 with 1 Axes>"
            ]
          },
          "metadata": {
            "tags": []
          }
        }
      ]
    },
    {
      "metadata": {
        "id": "W2dQHpjqNbjw",
        "colab_type": "text"
      },
      "cell_type": "markdown",
      "source": [
        "### 评价模型"
      ]
    },
    {
      "metadata": {
        "id": "cIpCayBSNbjx",
        "colab_type": "code",
        "outputId": "ec9720cb-c6c4-415c-9cb8-e9b3b83feb6b",
        "colab": {
          "base_uri": "https://localhost:8080/",
          "height": 381
        }
      },
      "cell_type": "code",
      "source": [
        "y_pred=model.predict(X_test)\n",
        "mse=mean_squared_error(y_pred,y_test)\n",
        "print(mse)\n",
        "plt.plot(X_test,y_test,'k.')\n",
        "plt.plot(X_test,y_pred,'Y')"
      ],
      "execution_count": 75,
      "outputs": [
        {
          "output_type": "stream",
          "text": [
            "372.5965915665154\n"
          ],
          "name": "stdout"
        },
        {
          "output_type": "execute_result",
          "data": {
            "text/plain": [
              "[<matplotlib.lines.Line2D at 0x7f945e8ee908>]"
            ]
          },
          "metadata": {
            "tags": []
          },
          "execution_count": 75
        },
        {
          "output_type": "display_data",
          "data": {
            "image/png": "[encoded data removed]",
            "text/plain": [
              "<Figure size 576x396 with 1 Axes>"
            ]
          },
          "metadata": {
            "tags": []
          }
        }
      ]
    },
    {
      "metadata": {
        "id": "BQ-1m8GCNbj-",
        "colab_type": "text"
      },
      "cell_type": "markdown",
      "source": [
        "### 带有最小二乘法的线性回归"
      ]
    },
    {
      "metadata": {
        "id": "HGzQJPVxNbj-",
        "colab_type": "code",
        "outputId": "347cccc4-3fe1-4706-cb31-1d7d53bf486a",
        "colab": {
          "base_uri": "https://localhost:8080/",
          "height": 34
        }
      },
      "cell_type": "code",
      "source": [
        "def lsm_function(X,y):\n",
        "    G=np.mat(np.insert(X,0,1,axis=1))\n",
        "    return np.squeeze(np.asarray((G.T.dot(G)).I.dot(G.T).dot(y)))\n",
        "lsm_function(X_train,y_train)\n",
        "class LinearRegression(Regression):\n",
        "    \"\"\"带有最小二乘法的线性回归\n",
        "    参数:\n",
        "    -------------\n",
        "    n_iterations\n",
        "    \n",
        "    learning_rate\n",
        "    \n",
        "    gradient_descent:bool \n",
        "        决定是否使用梯度下降法，如果是True则使用梯度下降，False使用最小二乘\n",
        "    \"\"\"\n",
        "    def __init__(self,n_iterations=500,learning_rate=0.1,gradient_descent=True):\n",
        "        self.gradient_descent=gradient_descent\n",
        "        self.regularization=lambda x:0\n",
        "        self.regularization.grad=lambda x:0\n",
        "        super(LinearRegression,self).__init__(n_iterations=n_iterations,learning_rate=learning_rate)\n",
        "    \n",
        "    def fit(self,X,y):\n",
        "        if not self.gradient_descent:\n",
        "            self.w=lsm_function(X,y)\n",
        "        else:\n",
        "            super(LinearRegression,self).fit(X,y)\n",
        "    \n",
        "    def predict(self,X):\n",
        "        return super(LinearRegression,self).predict(X)\n",
        "        \n",
        "model=LinearRegression(n_iterations=1000,learning_rate=0.1,gradient_descent=False)\n",
        "model.fit(X_train,y_train)\n",
        "print(model.w)"
      ],
      "execution_count": 76,
      "outputs": [
        {
          "output_type": "stream",
          "text": [
            "[ 1.48944889 16.70751198]\n"
          ],
          "name": "stdout"
        }
      ]
    },
    {
      "metadata": {
        "id": "BbesP50yNbkO",
        "colab_type": "code",
        "outputId": "a73ca213-a84b-45b1-b73b-3c35acdfc216",
        "colab": {
          "base_uri": "https://localhost:8080/",
          "height": 364
        }
      },
      "cell_type": "code",
      "source": [
        "def test_and_draw(model):\n",
        "    y_pred=model.predict(X_test)\n",
        "    mse=mean_squared_error(y_test,y_pred)\n",
        "    print(\"方差:\",mse)\n",
        "    plt.plot(X_test,y_test,'k.')\n",
        "    plt.plot(X_test,y_pred,'Y')\n",
        "test_and_draw(model)"
      ],
      "execution_count": 77,
      "outputs": [
        {
          "output_type": "stream",
          "text": [
            "方差: 372.5951099832118\n"
          ],
          "name": "stdout"
        },
        {
          "output_type": "display_data",
          "data": {
            "image/png": "[encoded data removed]",
            "text/plain": [
              "<Figure size 576x396 with 1 Axes>"
            ]
          },
          "metadata": {
            "tags": []
          }
        }
      ]
    },
    {
      "metadata": {
        "id": "tBhNBoCmNbkT",
        "colab_type": "text"
      },
      "cell_type": "markdown",
      "source": [
        "# 正则化回归"
      ]
    },
    {
      "metadata": {
        "id": "qHzvQUouNbkU",
        "colab_type": "code",
        "colab": {}
      },
      "cell_type": "code",
      "source": [
        "class l1_regularization():\n",
        "    \"\"\"L1正则化类/函数\n",
        "    参数:\n",
        "    \n",
        "    alpha--L1正则化系数\n",
        "    \"\"\"\n",
        "    def __init__(self,alpha):\n",
        "        self.alpha=alpha\n",
        "    def __call__(self,w):\n",
        "        return self.alpha*np.linalg.norm(w,ord=1)\n",
        "    def grad(self,w):\n",
        "        #w>0->w`=1;w<0->w`=0;w==0->w`=0\n",
        "        return self.alpha*np.sign(w)"
      ],
      "execution_count": 0,
      "outputs": []
    },
    {
      "metadata": {
        "id": "nH8GU7lwNbkY",
        "colab_type": "code",
        "colab": {}
      },
      "cell_type": "code",
      "source": [
        "l1=l1_regularization(alpha=0.01)"
      ],
      "execution_count": 0,
      "outputs": []
    },
    {
      "metadata": {
        "id": "Fa8Nq4zVNbkY",
        "colab_type": "code",
        "outputId": "d8ca136c-852d-4898-923d-1f77e27dce86",
        "colab": {
          "base_uri": "https://localhost:8080/",
          "height": 34
        }
      },
      "cell_type": "code",
      "source": [
        "l1([-3,4])"
      ],
      "execution_count": 80,
      "outputs": [
        {
          "output_type": "execute_result",
          "data": {
            "text/plain": [
              "0.07"
            ]
          },
          "metadata": {
            "tags": []
          },
          "execution_count": 80
        }
      ]
    },
    {
      "metadata": {
        "id": "XURVKdUxNbkc",
        "colab_type": "code",
        "outputId": "7fe3ad4d-03de-4347-fc15-6a81fa276217",
        "colab": {
          "base_uri": "https://localhost:8080/",
          "height": 34
        }
      },
      "cell_type": "code",
      "source": [
        "l1.grad([-3,4,0])"
      ],
      "execution_count": 81,
      "outputs": [
        {
          "output_type": "execute_result",
          "data": {
            "text/plain": [
              "array([-0.01,  0.01,  0.  ])"
            ]
          },
          "metadata": {
            "tags": []
          },
          "execution_count": 81
        }
      ]
    },
    {
      "metadata": {
        "id": "QVuq_JQ6Nbke",
        "colab_type": "text"
      },
      "cell_type": "markdown",
      "source": [
        "### L2正则化参数"
      ]
    },
    {
      "metadata": {
        "id": "Jjpjy__fNbkf",
        "colab_type": "code",
        "colab": {}
      },
      "cell_type": "code",
      "source": [
        "class l2_regularization():\n",
        "    \"\"\"L2正则化参数\n",
        "    参数：\n",
        "    \n",
        "    alpha 正则化系数\n",
        "    \"\"\"\n",
        "    def __init__(self,alpha):\n",
        "        self.alpha=alpha\n",
        "    \n",
        "    def __call__(self,w):\n",
        "        return self.alpha*0.5*w.T.dot(w)\n",
        "    \n",
        "    def grad(self,w):\n",
        "        return self.alpha*w"
      ],
      "execution_count": 0,
      "outputs": []
    },
    {
      "metadata": {
        "id": "TbyfUV_OPP-R",
        "colab_type": "text"
      },
      "cell_type": "markdown",
      "source": [
        "## Lasso"
      ]
    },
    {
      "metadata": {
        "id": "3EC1nHsuNbkh",
        "colab_type": "code",
        "colab": {}
      },
      "cell_type": "code",
      "source": [
        "class LassoLinearRegression(Regression):\n",
        "    def __init__(self,alpha,n_iterations=1000,learning_rate=0.01):\n",
        "        self.regularization=l1_regularization(alpha=alpha)\n",
        "        super(LassoLinearRegression,self).__init__(n_iterations,learning_rate)\n",
        "        \n",
        "    def fit(self,X,y):\n",
        "        super(LassoLinearRegression,self).fit(X,y)\n",
        "    def predict(self,X):\n",
        "        return super(LassoLinearRegression,self).predict(X)"
      ],
      "execution_count": 0,
      "outputs": []
    },
    {
      "metadata": {
        "id": "RNml2jJNNbki",
        "colab_type": "code",
        "colab": {}
      },
      "cell_type": "code",
      "source": [
        "model=LassoLinearRegression(alpha=120,n_iterations=1000,learning_rate=0.1)"
      ],
      "execution_count": 0,
      "outputs": []
    },
    {
      "metadata": {
        "id": "5qoxrKCtNbkj",
        "colab_type": "code",
        "colab": {}
      },
      "cell_type": "code",
      "source": [
        "model.fit(X_train,y_train)"
      ],
      "execution_count": 0,
      "outputs": []
    },
    {
      "metadata": {
        "id": "ypMvdpOfNbkl",
        "colab_type": "code",
        "outputId": "052dfdfb-4626-4d5e-c6c3-e235047c98a6",
        "colab": {
          "base_uri": "https://localhost:8080/",
          "height": 34
        }
      },
      "cell_type": "code",
      "source": [
        "model.w"
      ],
      "execution_count": 86,
      "outputs": [
        {
          "output_type": "execute_result",
          "data": {
            "text/plain": [
              "array([ 1.48944889, 16.70751198])"
            ]
          },
          "metadata": {
            "tags": []
          },
          "execution_count": 86
        }
      ]
    },
    {
      "metadata": {
        "id": "RGD7N0OMNbko",
        "colab_type": "code",
        "outputId": "31f0a149-4999-4415-8b6c-ff338d1ddeb2",
        "colab": {
          "base_uri": "https://localhost:8080/",
          "height": 364
        }
      },
      "cell_type": "code",
      "source": [
        "test_and_draw(model)"
      ],
      "execution_count": 87,
      "outputs": [
        {
          "output_type": "stream",
          "text": [
            "方差: 372.59510998321184\n"
          ],
          "name": "stdout"
        },
        {
          "output_type": "display_data",
          "data": {
            "image/png": "[encoded data removed]",
            "text/plain": [
              "<Figure size 576x396 with 1 Axes>"
            ]
          },
          "metadata": {
            "tags": []
          }
        }
      ]
    },
    {
      "metadata": {
        "id": "7C7nrCQkPhB-",
        "colab_type": "text"
      },
      "cell_type": "markdown",
      "source": [
        "## Ridged Reression "
      ]
    },
    {
      "metadata": {
        "id": "z8Qg8_WmPXw0",
        "colab_type": "code",
        "outputId": "a34b58c7-94bf-4c03-9515-eaa36b7a685c",
        "colab": {
          "base_uri": "https://localhost:8080/",
          "height": 381
        }
      },
      "cell_type": "code",
      "source": [
        "class RidgeLinearRegression(Regression):\n",
        "    def __init__(self,alpha,n_iterations=1000,learning_rate=0.01):\n",
        "        self.regularization=l2_regularization(alpha=alpha)\n",
        "        super(RidgeLinearRegression,self).__init__(n_iterations,learning_rate)\n",
        "        \n",
        "    def fit(self,X,y):\n",
        "        super(RidgeLinearRegression,self).fit(X,y)\n",
        "    def predict(self,X):\n",
        "        return super(RidgeLinearRegression,self).predict(X)\n",
        "\n",
        "model = RidgeLinearRegression(alpha=120, n_iterations=1000, learning_rate=0.1)\n",
        "model.fit(X_train, y_train)\n",
        "print(model.w)\n",
        "test_and_draw(model)"
      ],
      "execution_count": 88,
      "outputs": [
        {
          "output_type": "stream",
          "text": [
            "[ 1.48944889 16.70751198]\n",
            "方差: 372.59510998321184\n"
          ],
          "name": "stdout"
        },
        {
          "output_type": "display_data",
          "data": {
            "image/png": "[encoded data removed]",
            "text/plain": [
              "<Figure size 576x396 with 1 Axes>"
            ]
          },
          "metadata": {
            "tags": []
          }
        }
      ]
    },
    {
      "metadata": {
        "id": "iI5YgBdN0xDa",
        "colab_type": "text"
      },
      "cell_type": "markdown",
      "source": [
        "## L1, L2 调和的正则化\n",
        "\n",
        "在调和的正则化中，\n",
        "\n",
        "l1_ratio:调和时，L1正则化的值所占的百分比[0,1]\n",
        "\n",
        "_l2_ratio=1-l1_ratio(事实上在算法中也找不到l2_ratio)\n",
        "\n",
        "alpha:全局的整体的正则化权重\n",
        "\n",
        "$Loss = mse + \\alpha(l1\\_ratio \\times L1Loss + (1-l1\\_ratio) \\times L2Loss)$"
      ]
    },
    {
      "metadata": {
        "id": "wgU8ePHrPYOl",
        "colab_type": "code",
        "colab": {
          "base_uri": "https://localhost:8080/",
          "height": 67
        },
        "outputId": "e7d9c08d-d4d3-4eee-c86c-7e2f78295198"
      },
      "cell_type": "code",
      "source": [
        "class l1_l2_regularization():\n",
        "    \"\"\"使用在ElasticNet中的正则化\"\"\"\n",
        "    \n",
        "    def __init__(self,alpha,l1_ratio=0.5):\n",
        "        self.alpha=alpha\n",
        "        self.l1_ratio=l1_ratio\n",
        "    \n",
        "    def __call__(self,w):\n",
        "        l1_loss=self.l1_ratio*np.linalg.norm(w,ord=1)\n",
        "        l2_loss=(1-self.l1_ratio)*0.5*w.T.dot(w) #np.linalg.norm(w,ord=2)**2\n",
        "        return self.alpha*(l1_loss+l2_loss)\n",
        "    \n",
        "    def grad(self,w):\n",
        "        l1_grad=self.l1_ratio*np.sign(w)\n",
        "        l2_grad=(1-self.l1_ratio)*w\n",
        "        return self.alpha*(l1_grad+l2_grad)\n",
        "l1_l2 = l1_l2_regularization(alpha=0.1)\n",
        "print(l1_l2(np.array([3,4])))\n",
        "print(l1_l2.grad(np.array([3,4])))\n",
        "print(0.5 * np.sign(np.array([3,4])))"
      ],
      "execution_count": 96,
      "outputs": [
        {
          "output_type": "stream",
          "text": [
            "0.9750000000000001\n",
            "[0.2  0.25]\n",
            "[0.5 0.5]\n"
          ],
          "name": "stdout"
        }
      ]
    },
    {
      "metadata": {
        "id": "Vilvm6Wx5Ual",
        "colab_type": "text"
      },
      "cell_type": "markdown",
      "source": [
        "## ElasticNetLinearRegression"
      ]
    },
    {
      "metadata": {
        "id": "CtrnxD0GPYLt",
        "colab_type": "code",
        "colab": {
          "base_uri": "https://localhost:8080/",
          "height": 364
        },
        "outputId": "f30f171f-f4ab-4f59-bffd-b8d5cd15b0f6"
      },
      "cell_type": "code",
      "source": [
        "class ElasticNetLinearRegression(Regression):\n",
        "    \"\"\"\n",
        "    ElasticNet线性回归算法\n",
        "    ----------------------\n",
        "    alpha:全局正则化参数\n",
        "    l1_ratio:L1正则化参数比例\n",
        "    n_iterations\n",
        "    learning_rate\n",
        "    \"\"\"\n",
        "    def __init__(self,alpha=0.05,l1_ratio=0.5,n_iterations=3000,learning_rate=0.01):\n",
        "        self.regularization=l1_l2_regularization(alpha=alpha,l1_ratio=l1_ratio)\n",
        "        super(ElasticNetLinearRegression,self).__init__(n_iterations,learning_rate)\n",
        "    def fit(self,X,y):\n",
        "        super(ElasticNetLinearRegression,self).fit(X,y)\n",
        "    def predict(self,X):\n",
        "        return super(ElasticNetLinearRegression,self).predict(X)\n",
        "    \n",
        "model=ElasticNetLinearRegression(l1_ratio=0.5,alpha=1.2)\n",
        "model.fit(X_train,y_train)\n",
        "test_and_draw(model)\n"
      ],
      "execution_count": 92,
      "outputs": [
        {
          "output_type": "stream",
          "text": [
            "方差: 372.5951099832405\n"
          ],
          "name": "stdout"
        },
        {
          "output_type": "display_data",
          "data": {
            "image/png": "[encoded data removed]",
            "text/plain": [
              "<Figure size 576x396 with 1 Axes>"
            ]
          },
          "metadata": {
            "tags": []
          }
        }
      ]
    },
    {
      "metadata": {
        "id": "YsBW-YKs5krp",
        "colab_type": "text"
      },
      "cell_type": "markdown",
      "source": [
        "# 多项式回归\n",
        "\n",
        "一阶多项式:$x,y,z,x_2,x_3,x_4....$\n",
        "\n",
        "二阶多项式:$x_1^2,x_2^2,x_3^2,x_1x_2,x_1x_3,x_2x_3$\n",
        "\n",
        "三阶多项式:$x_1^3,x_1x_1x_2,x_1x_2x_3....$"
      ]
    },
    {
      "metadata": {
        "id": "-RaEwPhxPYJv",
        "colab_type": "code",
        "colab": {
          "base_uri": "https://localhost:8080/",
          "height": 34
        },
        "outputId": "8568bde5-b175-4655-848b-b80f3d0cc0d9"
      },
      "cell_type": "code",
      "source": [
        "from itertools import combinations_with_replacement\n",
        "\n",
        "def polynomial_features(X,degree):\n",
        "    n_samples,n_features=np.shape(X)\n",
        "    ##对于每一行的Feature构造排列组合，根据排列组合进行特征的乘积，形成新的X`\n",
        "    \n",
        "    def index_combinations():\n",
        "        combs=[combinations_with_replacement(range(n_features),i) for i in range(0,degree+1)]\n",
        "        new_combs=[item for sub in combs for item in sub]\n",
        "        return new_combs\n",
        "    #print(\"Feature 列的排列组合:->\",[x for x in index_combinations()])\n",
        "    comb=index_combinations()\n",
        "    feature_length=len(comb)\n",
        "    output=np.empty((n_samples,feature_length))\n",
        "    #print(output.shape)\n",
        "    for i,index_combs in enumerate(comb):\n",
        "        output[:,i]=np.prod(X[:, index_combs], axis=1)\n",
        "    return output\n",
        "polynomial_features(np.array([[1,2],[4,5]]),degree=3)\n",
        "### combinations_with_replacement\n",
        "for x in combinations_with_replacement([0,1],0):\n",
        "    print(x)"
      ],
      "execution_count": 93,
      "outputs": [
        {
          "output_type": "stream",
          "text": [
            "()\n"
          ],
          "name": "stdout"
        }
      ]
    },
    {
      "metadata": {
        "id": "Ma5MmoslPYIs",
        "colab_type": "code",
        "colab": {}
      },
      "cell_type": "code",
      "source": [
        "class PolyRegression(Regression):\n",
        "    \"\"\"多项式回归就是将原来的feature转化成多阶的新feature，之后进行线性回归:\n",
        "    \n",
        "    ------------------------------------------\n",
        "    \n",
        "    degree:最大的阶数\n",
        "    \n",
        "    n_iterations:float\n",
        "    \n",
        "    learning_rate:float\n",
        "    \n",
        "    \"\"\"\n",
        "    def __init__(self,degree,n_iterations=3000,learning_rate=0.01):\n",
        "        \n",
        "        self.degree=degree\n",
        "        \n",
        "        self.regularization=lambda x:0\n",
        "        \n",
        "        self.regularization.grad=lambda x:0\n",
        "        \n",
        "        super(PolyRegression,self).__init__(n_iterations=n_iterations,learning_rate=learning_rate)\n",
        "        \n",
        "    def fit(self,X,y):\n",
        "        \n",
        "        X=polynomial_features(X,degree=self.degree)\n",
        "        \n",
        "        super(PolyRegression,self).fit(X,y)\n",
        "        \n",
        "    def predict(self,X):\n",
        "        \n",
        "        X=polynomial_features(X,degree=self.degree)\n",
        "        \n",
        "        return super(PolyRegression,self).predict(X)\n",
        "   "
      ],
      "execution_count": 0,
      "outputs": []
    },
    {
      "metadata": {
        "id": "GJOPfi7bPYHu",
        "colab_type": "code",
        "colab": {
          "base_uri": "https://localhost:8080/",
          "height": 820
        },
        "outputId": "82fb0eef-8355-4dce-b458-e46c83db8c1c"
      },
      "cell_type": "code",
      "source": [
        "model=PolyRegression(degree=5)\n",
        "model.fit(X_train,y_train)\n",
        "#Feature 列的排列组合:-> [(), (0,), (0, 0), (0, 0, 0), (0, 0, 0, 0), (0, 0, 0, 0, 0)] (80, 6)\n",
        "test_and_draw(model)"
      ],
      "execution_count": 95,
      "outputs": [
        {
          "output_type": "stream",
          "text": [
            "/usr/local/lib/python3.6/dist-packages/ipykernel_launcher.py:40: RuntimeWarning: overflow encountered in square\n"
          ],
          "name": "stderr"
        },
        {
          "output_type": "error",
          "ename": "ValueError",
          "evalue": "ignored",
          "traceback": [
            "\u001b[0;31m---------------------------------------------------------------------------\u001b[0m",
            "\u001b[0;31mValueError\u001b[0m                                Traceback (most recent call last)",
            "\u001b[0;32m<ipython-input-95-d187c1493b2f>\u001b[0m in \u001b[0;36m<module>\u001b[0;34m()\u001b[0m\n\u001b[1;32m      2\u001b[0m \u001b[0mmodel\u001b[0m\u001b[0;34m.\u001b[0m\u001b[0mfit\u001b[0m\u001b[0;34m(\u001b[0m\u001b[0mX_train\u001b[0m\u001b[0;34m,\u001b[0m\u001b[0my_train\u001b[0m\u001b[0;34m)\u001b[0m\u001b[0;34m\u001b[0m\u001b[0;34m\u001b[0m\u001b[0m\n\u001b[1;32m      3\u001b[0m \u001b[0;31m#Feature 列的排列组合:-> [(), (0,), (0, 0), (0, 0, 0), (0, 0, 0, 0), (0, 0, 0, 0, 0)] (80, 6)\u001b[0m\u001b[0;34m\u001b[0m\u001b[0;34m\u001b[0m\u001b[0;34m\u001b[0m\u001b[0m\n\u001b[0;32m----> 4\u001b[0;31m \u001b[0mtest_and_draw\u001b[0m\u001b[0;34m(\u001b[0m\u001b[0mmodel\u001b[0m\u001b[0;34m)\u001b[0m\u001b[0;34m\u001b[0m\u001b[0;34m\u001b[0m\u001b[0m\n\u001b[0m",
            "\u001b[0;32m<ipython-input-77-343422616fc6>\u001b[0m in \u001b[0;36mtest_and_draw\u001b[0;34m(model)\u001b[0m\n\u001b[1;32m      1\u001b[0m \u001b[0;32mdef\u001b[0m \u001b[0mtest_and_draw\u001b[0m\u001b[0;34m(\u001b[0m\u001b[0mmodel\u001b[0m\u001b[0;34m)\u001b[0m\u001b[0;34m:\u001b[0m\u001b[0;34m\u001b[0m\u001b[0;34m\u001b[0m\u001b[0m\n\u001b[1;32m      2\u001b[0m     \u001b[0my_pred\u001b[0m\u001b[0;34m=\u001b[0m\u001b[0mmodel\u001b[0m\u001b[0;34m.\u001b[0m\u001b[0mpredict\u001b[0m\u001b[0;34m(\u001b[0m\u001b[0mX_test\u001b[0m\u001b[0;34m)\u001b[0m\u001b[0;34m\u001b[0m\u001b[0;34m\u001b[0m\u001b[0m\n\u001b[0;32m----> 3\u001b[0;31m     \u001b[0mmse\u001b[0m\u001b[0;34m=\u001b[0m\u001b[0mmean_squared_error\u001b[0m\u001b[0;34m(\u001b[0m\u001b[0my_test\u001b[0m\u001b[0;34m,\u001b[0m\u001b[0my_pred\u001b[0m\u001b[0;34m)\u001b[0m\u001b[0;34m\u001b[0m\u001b[0;34m\u001b[0m\u001b[0m\n\u001b[0m\u001b[1;32m      4\u001b[0m     \u001b[0mprint\u001b[0m\u001b[0;34m(\u001b[0m\u001b[0;34m\"方差:\"\u001b[0m\u001b[0;34m,\u001b[0m\u001b[0mmse\u001b[0m\u001b[0;34m)\u001b[0m\u001b[0;34m\u001b[0m\u001b[0;34m\u001b[0m\u001b[0m\n\u001b[1;32m      5\u001b[0m     \u001b[0mplt\u001b[0m\u001b[0;34m.\u001b[0m\u001b[0mplot\u001b[0m\u001b[0;34m(\u001b[0m\u001b[0mX_test\u001b[0m\u001b[0;34m,\u001b[0m\u001b[0my_test\u001b[0m\u001b[0;34m,\u001b[0m\u001b[0;34m'k.'\u001b[0m\u001b[0;34m)\u001b[0m\u001b[0;34m\u001b[0m\u001b[0;34m\u001b[0m\u001b[0m\n",
            "\u001b[0;32m/usr/local/lib/python3.6/dist-packages/sklearn/metrics/regression.py\u001b[0m in \u001b[0;36mmean_squared_error\u001b[0;34m(y_true, y_pred, sample_weight, multioutput)\u001b[0m\n\u001b[1;32m    237\u001b[0m     \"\"\"\n\u001b[1;32m    238\u001b[0m     y_type, y_true, y_pred, multioutput = _check_reg_targets(\n\u001b[0;32m--> 239\u001b[0;31m         y_true, y_pred, multioutput)\n\u001b[0m\u001b[1;32m    240\u001b[0m     \u001b[0mcheck_consistent_length\u001b[0m\u001b[0;34m(\u001b[0m\u001b[0my_true\u001b[0m\u001b[0;34m,\u001b[0m \u001b[0my_pred\u001b[0m\u001b[0;34m,\u001b[0m \u001b[0msample_weight\u001b[0m\u001b[0;34m)\u001b[0m\u001b[0;34m\u001b[0m\u001b[0;34m\u001b[0m\u001b[0m\n\u001b[1;32m    241\u001b[0m     output_errors = np.average((y_true - y_pred) ** 2, axis=0,\n",
            "\u001b[0;32m/usr/local/lib/python3.6/dist-packages/sklearn/metrics/regression.py\u001b[0m in \u001b[0;36m_check_reg_targets\u001b[0;34m(y_true, y_pred, multioutput)\u001b[0m\n\u001b[1;32m     75\u001b[0m     \u001b[0mcheck_consistent_length\u001b[0m\u001b[0;34m(\u001b[0m\u001b[0my_true\u001b[0m\u001b[0;34m,\u001b[0m \u001b[0my_pred\u001b[0m\u001b[0;34m)\u001b[0m\u001b[0;34m\u001b[0m\u001b[0;34m\u001b[0m\u001b[0m\n\u001b[1;32m     76\u001b[0m     \u001b[0my_true\u001b[0m \u001b[0;34m=\u001b[0m \u001b[0mcheck_array\u001b[0m\u001b[0;34m(\u001b[0m\u001b[0my_true\u001b[0m\u001b[0;34m,\u001b[0m \u001b[0mensure_2d\u001b[0m\u001b[0;34m=\u001b[0m\u001b[0;32mFalse\u001b[0m\u001b[0;34m)\u001b[0m\u001b[0;34m\u001b[0m\u001b[0;34m\u001b[0m\u001b[0m\n\u001b[0;32m---> 77\u001b[0;31m     \u001b[0my_pred\u001b[0m \u001b[0;34m=\u001b[0m \u001b[0mcheck_array\u001b[0m\u001b[0;34m(\u001b[0m\u001b[0my_pred\u001b[0m\u001b[0;34m,\u001b[0m \u001b[0mensure_2d\u001b[0m\u001b[0;34m=\u001b[0m\u001b[0;32mFalse\u001b[0m\u001b[0;34m)\u001b[0m\u001b[0;34m\u001b[0m\u001b[0;34m\u001b[0m\u001b[0m\n\u001b[0m\u001b[1;32m     78\u001b[0m \u001b[0;34m\u001b[0m\u001b[0m\n\u001b[1;32m     79\u001b[0m     \u001b[0;32mif\u001b[0m \u001b[0my_true\u001b[0m\u001b[0;34m.\u001b[0m\u001b[0mndim\u001b[0m \u001b[0;34m==\u001b[0m \u001b[0;36m1\u001b[0m\u001b[0;34m:\u001b[0m\u001b[0;34m\u001b[0m\u001b[0;34m\u001b[0m\u001b[0m\n",
            "\u001b[0;32m/usr/local/lib/python3.6/dist-packages/sklearn/utils/validation.py\u001b[0m in \u001b[0;36mcheck_array\u001b[0;34m(array, accept_sparse, accept_large_sparse, dtype, order, copy, force_all_finite, ensure_2d, allow_nd, ensure_min_samples, ensure_min_features, warn_on_dtype, estimator)\u001b[0m\n\u001b[1;32m    571\u001b[0m         \u001b[0;32mif\u001b[0m \u001b[0mforce_all_finite\u001b[0m\u001b[0;34m:\u001b[0m\u001b[0;34m\u001b[0m\u001b[0;34m\u001b[0m\u001b[0m\n\u001b[1;32m    572\u001b[0m             _assert_all_finite(array,\n\u001b[0;32m--> 573\u001b[0;31m                                allow_nan=force_all_finite == 'allow-nan')\n\u001b[0m\u001b[1;32m    574\u001b[0m \u001b[0;34m\u001b[0m\u001b[0m\n\u001b[1;32m    575\u001b[0m     \u001b[0mshape_repr\u001b[0m \u001b[0;34m=\u001b[0m \u001b[0m_shape_repr\u001b[0m\u001b[0;34m(\u001b[0m\u001b[0marray\u001b[0m\u001b[0;34m.\u001b[0m\u001b[0mshape\u001b[0m\u001b[0;34m)\u001b[0m\u001b[0;34m\u001b[0m\u001b[0;34m\u001b[0m\u001b[0m\n",
            "\u001b[0;32m/usr/local/lib/python3.6/dist-packages/sklearn/utils/validation.py\u001b[0m in \u001b[0;36m_assert_all_finite\u001b[0;34m(X, allow_nan)\u001b[0m\n\u001b[1;32m     54\u001b[0m                 not allow_nan and not np.isfinite(X).all()):\n\u001b[1;32m     55\u001b[0m             \u001b[0mtype_err\u001b[0m \u001b[0;34m=\u001b[0m \u001b[0;34m'infinity'\u001b[0m \u001b[0;32mif\u001b[0m \u001b[0mallow_nan\u001b[0m \u001b[0;32melse\u001b[0m \u001b[0;34m'NaN, infinity'\u001b[0m\u001b[0;34m\u001b[0m\u001b[0;34m\u001b[0m\u001b[0m\n\u001b[0;32m---> 56\u001b[0;31m             \u001b[0;32mraise\u001b[0m \u001b[0mValueError\u001b[0m\u001b[0;34m(\u001b[0m\u001b[0mmsg_err\u001b[0m\u001b[0;34m.\u001b[0m\u001b[0mformat\u001b[0m\u001b[0;34m(\u001b[0m\u001b[0mtype_err\u001b[0m\u001b[0;34m,\u001b[0m \u001b[0mX\u001b[0m\u001b[0;34m.\u001b[0m\u001b[0mdtype\u001b[0m\u001b[0;34m)\u001b[0m\u001b[0;34m)\u001b[0m\u001b[0;34m\u001b[0m\u001b[0;34m\u001b[0m\u001b[0m\n\u001b[0m\u001b[1;32m     57\u001b[0m \u001b[0;34m\u001b[0m\u001b[0m\n\u001b[1;32m     58\u001b[0m \u001b[0;34m\u001b[0m\u001b[0m\n",
            "\u001b[0;31mValueError\u001b[0m: Input contains NaN, infinity or a value too large for dtype('float64')."
          ]
        }
      ]
    },
    {
      "metadata": {
        "id": "RhbQdcryPYG0",
        "colab_type": "code",
        "colab": {}
      },
      "cell_type": "code",
      "source": [
        ""
      ],
      "execution_count": 0,
      "outputs": []
    },
    {
      "metadata": {
        "id": "RvimdVmTPYF6",
        "colab_type": "code",
        "colab": {}
      },
      "cell_type": "code",
      "source": [
        ""
      ],
      "execution_count": 0,
      "outputs": []
    },
    {
      "metadata": {
        "id": "J_Gppcd7PYE-",
        "colab_type": "code",
        "colab": {}
      },
      "cell_type": "code",
      "source": [
        ""
      ],
      "execution_count": 0,
      "outputs": []
    },
    {
      "metadata": {
        "id": "6enqdF1wPYEC",
        "colab_type": "code",
        "colab": {}
      },
      "cell_type": "code",
      "source": [
        ""
      ],
      "execution_count": 0,
      "outputs": []
    },
    {
      "metadata": {
        "id": "pnZ4v4LMPYDI",
        "colab_type": "code",
        "colab": {}
      },
      "cell_type": "code",
      "source": [
        ""
      ],
      "execution_count": 0,
      "outputs": []
    },
    {
      "metadata": {
        "id": "gTHQT0WvPYCL",
        "colab_type": "code",
        "colab": {}
      },
      "cell_type": "code",
      "source": [
        ""
      ],
      "execution_count": 0,
      "outputs": []
    },
    {
      "metadata": {
        "id": "0DEZkDlyPYBQ",
        "colab_type": "code",
        "colab": {}
      },
      "cell_type": "code",
      "source": [
        ""
      ],
      "execution_count": 0,
      "outputs": []
    },
    {
      "metadata": {
        "id": "djs0ZPasPYAW",
        "colab_type": "code",
        "colab": {}
      },
      "cell_type": "code",
      "source": [
        ""
      ],
      "execution_count": 0,
      "outputs": []
    },
    {
      "metadata": {
        "id": "Y3V3UldYPX_a",
        "colab_type": "code",
        "colab": {}
      },
      "cell_type": "code",
      "source": [
        ""
      ],
      "execution_count": 0,
      "outputs": []
    },
    {
      "metadata": {
        "id": "IbahoUDfPX-h",
        "colab_type": "code",
        "colab": {}
      },
      "cell_type": "code",
      "source": [
        ""
      ],
      "execution_count": 0,
      "outputs": []
    },
    {
      "metadata": {
        "id": "0ciWM0JjPX9h",
        "colab_type": "code",
        "colab": {}
      },
      "cell_type": "code",
      "source": [
        ""
      ],
      "execution_count": 0,
      "outputs": []
    },
    {
      "metadata": {
        "id": "cApZ77ojPX8o",
        "colab_type": "code",
        "colab": {}
      },
      "cell_type": "code",
      "source": [
        ""
      ],
      "execution_count": 0,
      "outputs": []
    },
    {
      "metadata": {
        "id": "aqIHAl6GPX7q",
        "colab_type": "code",
        "colab": {}
      },
      "cell_type": "code",
      "source": [
        ""
      ],
      "execution_count": 0,
      "outputs": []
    },
    {
      "metadata": {
        "id": "mqvjC6qcPX6p",
        "colab_type": "code",
        "colab": {}
      },
      "cell_type": "code",
      "source": [
        ""
      ],
      "execution_count": 0,
      "outputs": []
    },
    {
      "metadata": {
        "id": "FKUmztSdPX5m",
        "colab_type": "code",
        "colab": {}
      },
      "cell_type": "code",
      "source": [
        ""
      ],
      "execution_count": 0,
      "outputs": []
    },
    {
      "metadata": {
        "id": "vqnMjjk2PX4p",
        "colab_type": "code",
        "colab": {}
      },
      "cell_type": "code",
      "source": [
        ""
      ],
      "execution_count": 0,
      "outputs": []
    }
  ]
}